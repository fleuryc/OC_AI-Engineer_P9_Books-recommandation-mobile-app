{
 "cells": [
  {
   "cell_type": "markdown",
   "metadata": {},
   "source": [
    "# Hybrid Recommendation System with LightFM\n",
    "\n",
    "In ths notebook, we use [LightMF library](https://lightfm.readthedocs.io/ \"LightFM library\") to train a hybrid model using users and articles features to predict the ratings.\n"
   ]
  },
  {
   "cell_type": "code",
   "execution_count": 1,
   "metadata": {},
   "outputs": [
    {
     "name": "stdout",
     "output_type": "stream",
     "text": [
      ">>> Downloading and extracting data files...\n",
      "Data files already downloaded.\n",
      ">>> OK.\n",
      "\n"
     ]
    }
   ],
   "source": [
    "!cd .. && make dataset && cd notebooks"
   ]
  },
  {
   "cell_type": "code",
   "execution_count": 2,
   "metadata": {},
   "outputs": [],
   "source": [
    "import os\n",
    "import sys\n",
    "\n",
    "# Add source directory to python path\n",
    "sys.path.append(os.path.abspath(\"../\"))\n",
    "\n",
    "\n",
    "import logging\n",
    "import random\n",
    "from datetime import datetime\n",
    "from pathlib import Path\n",
    "\n",
    "import implicit\n",
    "import matplotlib.pyplot as plt\n",
    "import numpy as np\n",
    "import pandas as pd\n",
    "import plotly.express as px\n",
    "import src.data.helpers as data_helpers\n",
    "from implicit.als import AlternatingLeastSquares\n",
    "from lightfm import LightFM\n",
    "from pandas.api.types import is_numeric_dtype\n",
    "from scipy import sparse\n",
    "from sklearn.cluster import MiniBatchKMeans\n",
    "from sklearn.decomposition import PCA\n",
    "from sklearn.manifold import TSNE\n",
    "from sklearn.metrics import calinski_harabasz_score, davies_bouldin_score\n",
    "from sklearn.metrics.pairwise import cosine_similarity, linear_kernel\n",
    "from sklearn.preprocessing import OrdinalEncoder, StandardScaler\n",
    "from tqdm import tqdm\n",
    "\n",
    "# Plotly as Pandas plotting backend\n",
    "pd.options.plotting.backend = \"plotly\"\n",
    "\n",
    "DATA_PATH = Path(\"../data/\")\n",
    "RAW_DATA_PATH = Path(DATA_PATH, \"raw\")\n",
    "\n",
    "CACHE = dict()"
   ]
  },
  {
   "cell_type": "code",
   "execution_count": 3,
   "metadata": {},
   "outputs": [
    {
     "data": {
      "text/html": [
       "<div>\n",
       "<style scoped>\n",
       "    .dataframe tbody tr th:only-of-type {\n",
       "        vertical-align: middle;\n",
       "    }\n",
       "\n",
       "    .dataframe tbody tr th {\n",
       "        vertical-align: top;\n",
       "    }\n",
       "\n",
       "    .dataframe thead th {\n",
       "        text-align: right;\n",
       "    }\n",
       "</style>\n",
       "<table border=\"1\" class=\"dataframe\">\n",
       "  <thead>\n",
       "    <tr style=\"text-align: right;\">\n",
       "      <th></th>\n",
       "      <th>category_id</th>\n",
       "      <th>created_at_ts</th>\n",
       "      <th>publisher_id</th>\n",
       "      <th>words_count</th>\n",
       "      <th>embedding_0</th>\n",
       "      <th>embedding_1</th>\n",
       "      <th>embedding_2</th>\n",
       "      <th>embedding_3</th>\n",
       "      <th>embedding_4</th>\n",
       "      <th>embedding_5</th>\n",
       "      <th>...</th>\n",
       "      <th>embedding_240</th>\n",
       "      <th>embedding_241</th>\n",
       "      <th>embedding_242</th>\n",
       "      <th>embedding_243</th>\n",
       "      <th>embedding_244</th>\n",
       "      <th>embedding_245</th>\n",
       "      <th>embedding_246</th>\n",
       "      <th>embedding_247</th>\n",
       "      <th>embedding_248</th>\n",
       "      <th>embedding_249</th>\n",
       "    </tr>\n",
       "  </thead>\n",
       "  <tbody>\n",
       "    <tr>\n",
       "      <th>count</th>\n",
       "      <td>364047</td>\n",
       "      <td>364047</td>\n",
       "      <td>364047</td>\n",
       "      <td>364047.000000</td>\n",
       "      <td>364047.000000</td>\n",
       "      <td>364047.000000</td>\n",
       "      <td>364047.000000</td>\n",
       "      <td>364047.000000</td>\n",
       "      <td>364047.000000</td>\n",
       "      <td>364047.000000</td>\n",
       "      <td>...</td>\n",
       "      <td>364047.000000</td>\n",
       "      <td>364047.000000</td>\n",
       "      <td>364047.000000</td>\n",
       "      <td>364047.000000</td>\n",
       "      <td>364047.000000</td>\n",
       "      <td>364047.000000</td>\n",
       "      <td>364047.000000</td>\n",
       "      <td>364047.000000</td>\n",
       "      <td>364047.000000</td>\n",
       "      <td>364047.000000</td>\n",
       "    </tr>\n",
       "    <tr>\n",
       "      <th>unique</th>\n",
       "      <td>461</td>\n",
       "      <td>NaN</td>\n",
       "      <td>1</td>\n",
       "      <td>NaN</td>\n",
       "      <td>NaN</td>\n",
       "      <td>NaN</td>\n",
       "      <td>NaN</td>\n",
       "      <td>NaN</td>\n",
       "      <td>NaN</td>\n",
       "      <td>NaN</td>\n",
       "      <td>...</td>\n",
       "      <td>NaN</td>\n",
       "      <td>NaN</td>\n",
       "      <td>NaN</td>\n",
       "      <td>NaN</td>\n",
       "      <td>NaN</td>\n",
       "      <td>NaN</td>\n",
       "      <td>NaN</td>\n",
       "      <td>NaN</td>\n",
       "      <td>NaN</td>\n",
       "      <td>NaN</td>\n",
       "    </tr>\n",
       "    <tr>\n",
       "      <th>top</th>\n",
       "      <td>281</td>\n",
       "      <td>NaN</td>\n",
       "      <td>0</td>\n",
       "      <td>NaN</td>\n",
       "      <td>NaN</td>\n",
       "      <td>NaN</td>\n",
       "      <td>NaN</td>\n",
       "      <td>NaN</td>\n",
       "      <td>NaN</td>\n",
       "      <td>NaN</td>\n",
       "      <td>...</td>\n",
       "      <td>NaN</td>\n",
       "      <td>NaN</td>\n",
       "      <td>NaN</td>\n",
       "      <td>NaN</td>\n",
       "      <td>NaN</td>\n",
       "      <td>NaN</td>\n",
       "      <td>NaN</td>\n",
       "      <td>NaN</td>\n",
       "      <td>NaN</td>\n",
       "      <td>NaN</td>\n",
       "    </tr>\n",
       "    <tr>\n",
       "      <th>freq</th>\n",
       "      <td>12817</td>\n",
       "      <td>NaN</td>\n",
       "      <td>364047</td>\n",
       "      <td>NaN</td>\n",
       "      <td>NaN</td>\n",
       "      <td>NaN</td>\n",
       "      <td>NaN</td>\n",
       "      <td>NaN</td>\n",
       "      <td>NaN</td>\n",
       "      <td>NaN</td>\n",
       "      <td>...</td>\n",
       "      <td>NaN</td>\n",
       "      <td>NaN</td>\n",
       "      <td>NaN</td>\n",
       "      <td>NaN</td>\n",
       "      <td>NaN</td>\n",
       "      <td>NaN</td>\n",
       "      <td>NaN</td>\n",
       "      <td>NaN</td>\n",
       "      <td>NaN</td>\n",
       "      <td>NaN</td>\n",
       "    </tr>\n",
       "    <tr>\n",
       "      <th>mean</th>\n",
       "      <td>NaN</td>\n",
       "      <td>2016-09-17 01:25:54.949498624</td>\n",
       "      <td>NaN</td>\n",
       "      <td>190.897727</td>\n",
       "      <td>-0.238647</td>\n",
       "      <td>-0.963000</td>\n",
       "      <td>0.118547</td>\n",
       "      <td>-0.279296</td>\n",
       "      <td>-0.068579</td>\n",
       "      <td>0.045944</td>\n",
       "      <td>...</td>\n",
       "      <td>-0.133286</td>\n",
       "      <td>-0.081914</td>\n",
       "      <td>-0.060347</td>\n",
       "      <td>0.023003</td>\n",
       "      <td>0.076946</td>\n",
       "      <td>0.084603</td>\n",
       "      <td>0.062819</td>\n",
       "      <td>0.099768</td>\n",
       "      <td>0.155917</td>\n",
       "      <td>-0.041092</td>\n",
       "    </tr>\n",
       "    <tr>\n",
       "      <th>min</th>\n",
       "      <td>NaN</td>\n",
       "      <td>2006-09-27 13:14:35</td>\n",
       "      <td>NaN</td>\n",
       "      <td>0.000000</td>\n",
       "      <td>-0.991183</td>\n",
       "      <td>-0.996455</td>\n",
       "      <td>-0.968431</td>\n",
       "      <td>-0.994966</td>\n",
       "      <td>-0.994489</td>\n",
       "      <td>-0.985974</td>\n",
       "      <td>...</td>\n",
       "      <td>-0.990412</td>\n",
       "      <td>-0.989408</td>\n",
       "      <td>-0.990432</td>\n",
       "      <td>-0.993626</td>\n",
       "      <td>-0.989042</td>\n",
       "      <td>-0.996902</td>\n",
       "      <td>-0.992921</td>\n",
       "      <td>-0.984733</td>\n",
       "      <td>-0.976071</td>\n",
       "      <td>-0.988213</td>\n",
       "    </tr>\n",
       "    <tr>\n",
       "      <th>25%</th>\n",
       "      <td>NaN</td>\n",
       "      <td>2015-10-15 18:00:43.500000</td>\n",
       "      <td>NaN</td>\n",
       "      <td>159.000000</td>\n",
       "      <td>-0.620072</td>\n",
       "      <td>-0.974056</td>\n",
       "      <td>-0.289953</td>\n",
       "      <td>-0.718816</td>\n",
       "      <td>-0.503425</td>\n",
       "      <td>-0.354579</td>\n",
       "      <td>...</td>\n",
       "      <td>-0.547684</td>\n",
       "      <td>-0.445079</td>\n",
       "      <td>-0.479989</td>\n",
       "      <td>-0.404508</td>\n",
       "      <td>-0.248653</td>\n",
       "      <td>-0.267072</td>\n",
       "      <td>-0.306548</td>\n",
       "      <td>-0.313598</td>\n",
       "      <td>-0.201402</td>\n",
       "      <td>-0.420694</td>\n",
       "    </tr>\n",
       "    <tr>\n",
       "      <th>50%</th>\n",
       "      <td>NaN</td>\n",
       "      <td>2017-03-13 17:27:29</td>\n",
       "      <td>NaN</td>\n",
       "      <td>186.000000</td>\n",
       "      <td>-0.302581</td>\n",
       "      <td>-0.967605</td>\n",
       "      <td>0.124339</td>\n",
       "      <td>-0.391535</td>\n",
       "      <td>-0.093734</td>\n",
       "      <td>0.062636</td>\n",
       "      <td>...</td>\n",
       "      <td>-0.175781</td>\n",
       "      <td>-0.094113</td>\n",
       "      <td>-0.078034</td>\n",
       "      <td>0.000726</td>\n",
       "      <td>0.105649</td>\n",
       "      <td>0.133525</td>\n",
       "      <td>0.083315</td>\n",
       "      <td>0.128757</td>\n",
       "      <td>0.188355</td>\n",
       "      <td>-0.015232</td>\n",
       "    </tr>\n",
       "    <tr>\n",
       "      <th>75%</th>\n",
       "      <td>NaN</td>\n",
       "      <td>2017-11-05 15:09:11</td>\n",
       "      <td>NaN</td>\n",
       "      <td>218.000000</td>\n",
       "      <td>0.098015</td>\n",
       "      <td>-0.959061</td>\n",
       "      <td>0.545112</td>\n",
       "      <td>0.108320</td>\n",
       "      <td>0.345024</td>\n",
       "      <td>0.446979</td>\n",
       "      <td>...</td>\n",
       "      <td>0.250641</td>\n",
       "      <td>0.270006</td>\n",
       "      <td>0.341105</td>\n",
       "      <td>0.459386</td>\n",
       "      <td>0.417347</td>\n",
       "      <td>0.461466</td>\n",
       "      <td>0.441831</td>\n",
       "      <td>0.531453</td>\n",
       "      <td>0.538111</td>\n",
       "      <td>0.334226</td>\n",
       "    </tr>\n",
       "    <tr>\n",
       "      <th>max</th>\n",
       "      <td>NaN</td>\n",
       "      <td>2018-03-13 13:12:30</td>\n",
       "      <td>NaN</td>\n",
       "      <td>6690.000000</td>\n",
       "      <td>0.983694</td>\n",
       "      <td>-0.514728</td>\n",
       "      <td>0.998341</td>\n",
       "      <td>0.978092</td>\n",
       "      <td>0.996798</td>\n",
       "      <td>0.996343</td>\n",
       "      <td>...</td>\n",
       "      <td>0.996401</td>\n",
       "      <td>0.981789</td>\n",
       "      <td>0.991332</td>\n",
       "      <td>0.995299</td>\n",
       "      <td>0.978823</td>\n",
       "      <td>0.989324</td>\n",
       "      <td>0.991445</td>\n",
       "      <td>0.997583</td>\n",
       "      <td>0.990507</td>\n",
       "      <td>0.968462</td>\n",
       "    </tr>\n",
       "    <tr>\n",
       "      <th>std</th>\n",
       "      <td>NaN</td>\n",
       "      <td>NaN</td>\n",
       "      <td>NaN</td>\n",
       "      <td>59.502766</td>\n",
       "      <td>0.451477</td>\n",
       "      <td>0.022650</td>\n",
       "      <td>0.495033</td>\n",
       "      <td>0.505040</td>\n",
       "      <td>0.506702</td>\n",
       "      <td>0.483264</td>\n",
       "      <td>...</td>\n",
       "      <td>0.490577</td>\n",
       "      <td>0.449941</td>\n",
       "      <td>0.489480</td>\n",
       "      <td>0.507167</td>\n",
       "      <td>0.426127</td>\n",
       "      <td>0.467973</td>\n",
       "      <td>0.462653</td>\n",
       "      <td>0.499622</td>\n",
       "      <td>0.454330</td>\n",
       "      <td>0.458802</td>\n",
       "    </tr>\n",
       "  </tbody>\n",
       "</table>\n",
       "<p>11 rows × 254 columns</p>\n",
       "</div>"
      ],
      "text/plain": [
       "       category_id                  created_at_ts publisher_id    words_count  \\\n",
       "count       364047                         364047       364047  364047.000000   \n",
       "unique         461                            NaN            1            NaN   \n",
       "top            281                            NaN            0            NaN   \n",
       "freq         12817                            NaN       364047            NaN   \n",
       "mean           NaN  2016-09-17 01:25:54.949498624          NaN     190.897727   \n",
       "min            NaN            2006-09-27 13:14:35          NaN       0.000000   \n",
       "25%            NaN     2015-10-15 18:00:43.500000          NaN     159.000000   \n",
       "50%            NaN            2017-03-13 17:27:29          NaN     186.000000   \n",
       "75%            NaN            2017-11-05 15:09:11          NaN     218.000000   \n",
       "max            NaN            2018-03-13 13:12:30          NaN    6690.000000   \n",
       "std            NaN                            NaN          NaN      59.502766   \n",
       "\n",
       "          embedding_0    embedding_1    embedding_2    embedding_3  \\\n",
       "count   364047.000000  364047.000000  364047.000000  364047.000000   \n",
       "unique            NaN            NaN            NaN            NaN   \n",
       "top               NaN            NaN            NaN            NaN   \n",
       "freq              NaN            NaN            NaN            NaN   \n",
       "mean        -0.238647      -0.963000       0.118547      -0.279296   \n",
       "min         -0.991183      -0.996455      -0.968431      -0.994966   \n",
       "25%         -0.620072      -0.974056      -0.289953      -0.718816   \n",
       "50%         -0.302581      -0.967605       0.124339      -0.391535   \n",
       "75%          0.098015      -0.959061       0.545112       0.108320   \n",
       "max          0.983694      -0.514728       0.998341       0.978092   \n",
       "std          0.451477       0.022650       0.495033       0.505040   \n",
       "\n",
       "          embedding_4    embedding_5  ...  embedding_240  embedding_241  \\\n",
       "count   364047.000000  364047.000000  ...  364047.000000  364047.000000   \n",
       "unique            NaN            NaN  ...            NaN            NaN   \n",
       "top               NaN            NaN  ...            NaN            NaN   \n",
       "freq              NaN            NaN  ...            NaN            NaN   \n",
       "mean        -0.068579       0.045944  ...      -0.133286      -0.081914   \n",
       "min         -0.994489      -0.985974  ...      -0.990412      -0.989408   \n",
       "25%         -0.503425      -0.354579  ...      -0.547684      -0.445079   \n",
       "50%         -0.093734       0.062636  ...      -0.175781      -0.094113   \n",
       "75%          0.345024       0.446979  ...       0.250641       0.270006   \n",
       "max          0.996798       0.996343  ...       0.996401       0.981789   \n",
       "std          0.506702       0.483264  ...       0.490577       0.449941   \n",
       "\n",
       "        embedding_242  embedding_243  embedding_244  embedding_245  \\\n",
       "count   364047.000000  364047.000000  364047.000000  364047.000000   \n",
       "unique            NaN            NaN            NaN            NaN   \n",
       "top               NaN            NaN            NaN            NaN   \n",
       "freq              NaN            NaN            NaN            NaN   \n",
       "mean        -0.060347       0.023003       0.076946       0.084603   \n",
       "min         -0.990432      -0.993626      -0.989042      -0.996902   \n",
       "25%         -0.479989      -0.404508      -0.248653      -0.267072   \n",
       "50%         -0.078034       0.000726       0.105649       0.133525   \n",
       "75%          0.341105       0.459386       0.417347       0.461466   \n",
       "max          0.991332       0.995299       0.978823       0.989324   \n",
       "std          0.489480       0.507167       0.426127       0.467973   \n",
       "\n",
       "        embedding_246  embedding_247  embedding_248  embedding_249  \n",
       "count   364047.000000  364047.000000  364047.000000  364047.000000  \n",
       "unique            NaN            NaN            NaN            NaN  \n",
       "top               NaN            NaN            NaN            NaN  \n",
       "freq              NaN            NaN            NaN            NaN  \n",
       "mean         0.062819       0.099768       0.155917      -0.041092  \n",
       "min         -0.992921      -0.984733      -0.976071      -0.988213  \n",
       "25%         -0.306548      -0.313598      -0.201402      -0.420694  \n",
       "50%          0.083315       0.128757       0.188355      -0.015232  \n",
       "75%          0.441831       0.531453       0.538111       0.334226  \n",
       "max          0.991445       0.997583       0.990507       0.968462  \n",
       "std          0.462653       0.499622       0.454330       0.458802  \n",
       "\n",
       "[11 rows x 254 columns]"
      ]
     },
     "execution_count": 3,
     "metadata": {},
     "output_type": "execute_result"
    }
   ],
   "source": [
    "NUM_EMBEDDINGS = 250\n",
    "\n",
    "articles = pd.concat(\n",
    "    [\n",
    "        pd.read_csv(\n",
    "            Path(RAW_DATA_PATH, \"articles_metadata.csv\"),\n",
    "            parse_dates=[\"created_at_ts\"],\n",
    "            date_parser=lambda x: datetime.fromtimestamp(int(x) / 1000),\n",
    "            dtype={\n",
    "                \"article_id\": \"category\",\n",
    "                \"category_id\": \"category\",\n",
    "                \"publisher_id\": \"category\",\n",
    "                \"words_count\": \"int\",\n",
    "            },\n",
    "        ),\n",
    "        pd.DataFrame(\n",
    "            pd.read_pickle(Path(RAW_DATA_PATH, \"articles_embeddings.pickle\")),\n",
    "            columns=[\"embedding_\" + str(i) for i in range(NUM_EMBEDDINGS)],\n",
    "        ),\n",
    "    ],\n",
    "    axis=1,\n",
    ").set_index(\"article_id\")\n",
    "\n",
    "articles = data_helpers.reduce_dataframe_memory_usage(\n",
    "    articles.astype({\"created_at_ts\": \"datetime64[ns]\"})\n",
    ")\n",
    "\n",
    "articles_sample = articles.sample(frac=0.01, random_state=42)\n",
    "\n",
    "articles.describe(include=\"all\", datetime_is_numeric=True)"
   ]
  },
  {
   "cell_type": "code",
   "execution_count": 4,
   "metadata": {},
   "outputs": [
    {
     "data": {
      "application/vnd.plotly.v1+json": {
       "config": {
        "plotlyServerURL": "https://plot.ly"
       },
       "data": [
        {
         "hovertemplate": "Number of components=%{x}<br>Explained variance ratio=%{y}<extra></extra>",
         "legendgroup": "",
         "line": {
          "color": "#636efa",
          "dash": "solid"
         },
         "marker": {
          "symbol": "circle"
         },
         "mode": "lines",
         "name": "",
         "orientation": "v",
         "showlegend": false,
         "type": "scatter",
         "x": [
          1,
          2,
          3,
          4,
          5,
          6,
          7,
          8,
          9,
          10,
          11,
          12,
          13,
          14,
          15,
          16,
          17,
          18,
          19,
          20,
          21,
          22,
          23,
          24,
          25,
          26,
          27,
          28,
          29,
          30,
          31,
          32,
          33,
          34,
          35,
          36,
          37,
          38,
          39,
          40,
          41,
          42,
          43,
          44,
          45,
          46,
          47,
          48,
          49,
          50,
          51,
          52,
          53,
          54,
          55,
          56,
          57,
          58,
          59,
          60,
          61,
          62,
          63,
          64,
          65,
          66,
          67,
          68,
          69,
          70,
          71,
          72,
          73,
          74,
          75,
          76,
          77,
          78,
          79,
          80,
          81,
          82,
          83,
          84,
          85,
          86,
          87,
          88,
          89,
          90,
          91,
          92,
          93,
          94,
          95,
          96,
          97,
          98,
          99,
          100
         ],
         "xaxis": "x",
         "y": [
          0.032983630743396004,
          0.02479787293134172,
          0.023922646355425202,
          0.01926283921715764,
          0.01643528276028122,
          0.015163525448181652,
          0.013714463636817732,
          0.012198368240946562,
          0.011996981157833009,
          0.01069895396544709,
          0.010211087569378567,
          0.009486635207946608,
          0.009210358535638107,
          0.009040955832123375,
          0.008496844883908788,
          0.007862750214147786,
          0.007576145397875814,
          0.007252748065732309,
          0.00706159034892219,
          0.006600053774507918,
          0.006112933658576317,
          0.006024551676352438,
          0.005664551131875969,
          0.005560253889257216,
          0.005269904201715787,
          0.0051417800240106185,
          0.004955818840454522,
          0.004631992777792319,
          0.004407910335244866,
          0.004281291525224039,
          0.004035406211508209,
          0.003727667024552138,
          0.00366961041061701,
          0.0035444690827067904,
          0.0033822235138400132,
          0.003253194766756864,
          0.0031909214552369573,
          0.0031696841587053937,
          0.0031285665110445675,
          0.002840651316932983,
          0.002786631434535688,
          0.0025853030212893676,
          0.002479802781618846,
          0.002437600659789922,
          0.002359199239341098,
          0.0021746608723314928,
          0.002090668377323803,
          0.00202378414822114,
          0.00199297881502543,
          0.0019373522175365776,
          0.0018639053080646492,
          0.001769871728201989,
          0.0017472149682924087,
          0.0017260642669417272,
          0.0016488489271949164,
          0.001586229377682186,
          0.0015626485794135107,
          0.001538870868505062,
          0.0014955605075281809,
          0.0014756097958605555,
          0.0014659435559941137,
          0.0014536144504455656,
          0.0014404935653613876,
          0.0014345922780645037,
          0.0014267232030197306,
          0.0014217543624731347,
          0.0014182255982652806,
          0.0014166118465934274,
          0.0014159420158637028,
          0.0014142553132196996,
          0.0014132977320526372,
          0.0014117854541442771,
          0.001409592311947568,
          0.0014089275110682393,
          0.0014084715329757583,
          0.001407912027244148,
          0.001407446736205951,
          0.00140723194720975,
          0.0014063851469305908,
          0.0014060341389251002,
          0.0014056938651526058,
          0.0014055410816524406,
          0.0014052993471420855,
          0.001405025797937922,
          0.0014049639383616566,
          0.0014048490557374467,
          0.0014047124018248158,
          0.0014044782246300871,
          0.001404375073836239,
          0.0014041328667800067,
          0.00140408739700309,
          0.001403936361047276,
          0.0014038409590034267,
          0.0014036975700031443,
          0.0014035298601699398,
          0.0014034708696823758,
          0.0014033653520302137,
          0.0014032015521377476,
          0.0014031644847147498,
          0.0014030486430202012
         ],
         "yaxis": "y"
        }
       ],
       "layout": {
        "legend": {
         "tracegroupgap": 0
        },
        "template": {
         "data": {
          "bar": [
           {
            "error_x": {
             "color": "#2a3f5f"
            },
            "error_y": {
             "color": "#2a3f5f"
            },
            "marker": {
             "line": {
              "color": "#E5ECF6",
              "width": 0.5
             },
             "pattern": {
              "fillmode": "overlay",
              "size": 10,
              "solidity": 0.2
             }
            },
            "type": "bar"
           }
          ],
          "barpolar": [
           {
            "marker": {
             "line": {
              "color": "#E5ECF6",
              "width": 0.5
             },
             "pattern": {
              "fillmode": "overlay",
              "size": 10,
              "solidity": 0.2
             }
            },
            "type": "barpolar"
           }
          ],
          "carpet": [
           {
            "aaxis": {
             "endlinecolor": "#2a3f5f",
             "gridcolor": "white",
             "linecolor": "white",
             "minorgridcolor": "white",
             "startlinecolor": "#2a3f5f"
            },
            "baxis": {
             "endlinecolor": "#2a3f5f",
             "gridcolor": "white",
             "linecolor": "white",
             "minorgridcolor": "white",
             "startlinecolor": "#2a3f5f"
            },
            "type": "carpet"
           }
          ],
          "choropleth": [
           {
            "colorbar": {
             "outlinewidth": 0,
             "ticks": ""
            },
            "type": "choropleth"
           }
          ],
          "contour": [
           {
            "colorbar": {
             "outlinewidth": 0,
             "ticks": ""
            },
            "colorscale": [
             [
              0,
              "#0d0887"
             ],
             [
              0.1111111111111111,
              "#46039f"
             ],
             [
              0.2222222222222222,
              "#7201a8"
             ],
             [
              0.3333333333333333,
              "#9c179e"
             ],
             [
              0.4444444444444444,
              "#bd3786"
             ],
             [
              0.5555555555555556,
              "#d8576b"
             ],
             [
              0.6666666666666666,
              "#ed7953"
             ],
             [
              0.7777777777777778,
              "#fb9f3a"
             ],
             [
              0.8888888888888888,
              "#fdca26"
             ],
             [
              1,
              "#f0f921"
             ]
            ],
            "type": "contour"
           }
          ],
          "contourcarpet": [
           {
            "colorbar": {
             "outlinewidth": 0,
             "ticks": ""
            },
            "type": "contourcarpet"
           }
          ],
          "heatmap": [
           {
            "colorbar": {
             "outlinewidth": 0,
             "ticks": ""
            },
            "colorscale": [
             [
              0,
              "#0d0887"
             ],
             [
              0.1111111111111111,
              "#46039f"
             ],
             [
              0.2222222222222222,
              "#7201a8"
             ],
             [
              0.3333333333333333,
              "#9c179e"
             ],
             [
              0.4444444444444444,
              "#bd3786"
             ],
             [
              0.5555555555555556,
              "#d8576b"
             ],
             [
              0.6666666666666666,
              "#ed7953"
             ],
             [
              0.7777777777777778,
              "#fb9f3a"
             ],
             [
              0.8888888888888888,
              "#fdca26"
             ],
             [
              1,
              "#f0f921"
             ]
            ],
            "type": "heatmap"
           }
          ],
          "heatmapgl": [
           {
            "colorbar": {
             "outlinewidth": 0,
             "ticks": ""
            },
            "colorscale": [
             [
              0,
              "#0d0887"
             ],
             [
              0.1111111111111111,
              "#46039f"
             ],
             [
              0.2222222222222222,
              "#7201a8"
             ],
             [
              0.3333333333333333,
              "#9c179e"
             ],
             [
              0.4444444444444444,
              "#bd3786"
             ],
             [
              0.5555555555555556,
              "#d8576b"
             ],
             [
              0.6666666666666666,
              "#ed7953"
             ],
             [
              0.7777777777777778,
              "#fb9f3a"
             ],
             [
              0.8888888888888888,
              "#fdca26"
             ],
             [
              1,
              "#f0f921"
             ]
            ],
            "type": "heatmapgl"
           }
          ],
          "histogram": [
           {
            "marker": {
             "pattern": {
              "fillmode": "overlay",
              "size": 10,
              "solidity": 0.2
             }
            },
            "type": "histogram"
           }
          ],
          "histogram2d": [
           {
            "colorbar": {
             "outlinewidth": 0,
             "ticks": ""
            },
            "colorscale": [
             [
              0,
              "#0d0887"
             ],
             [
              0.1111111111111111,
              "#46039f"
             ],
             [
              0.2222222222222222,
              "#7201a8"
             ],
             [
              0.3333333333333333,
              "#9c179e"
             ],
             [
              0.4444444444444444,
              "#bd3786"
             ],
             [
              0.5555555555555556,
              "#d8576b"
             ],
             [
              0.6666666666666666,
              "#ed7953"
             ],
             [
              0.7777777777777778,
              "#fb9f3a"
             ],
             [
              0.8888888888888888,
              "#fdca26"
             ],
             [
              1,
              "#f0f921"
             ]
            ],
            "type": "histogram2d"
           }
          ],
          "histogram2dcontour": [
           {
            "colorbar": {
             "outlinewidth": 0,
             "ticks": ""
            },
            "colorscale": [
             [
              0,
              "#0d0887"
             ],
             [
              0.1111111111111111,
              "#46039f"
             ],
             [
              0.2222222222222222,
              "#7201a8"
             ],
             [
              0.3333333333333333,
              "#9c179e"
             ],
             [
              0.4444444444444444,
              "#bd3786"
             ],
             [
              0.5555555555555556,
              "#d8576b"
             ],
             [
              0.6666666666666666,
              "#ed7953"
             ],
             [
              0.7777777777777778,
              "#fb9f3a"
             ],
             [
              0.8888888888888888,
              "#fdca26"
             ],
             [
              1,
              "#f0f921"
             ]
            ],
            "type": "histogram2dcontour"
           }
          ],
          "mesh3d": [
           {
            "colorbar": {
             "outlinewidth": 0,
             "ticks": ""
            },
            "type": "mesh3d"
           }
          ],
          "parcoords": [
           {
            "line": {
             "colorbar": {
              "outlinewidth": 0,
              "ticks": ""
             }
            },
            "type": "parcoords"
           }
          ],
          "pie": [
           {
            "automargin": true,
            "type": "pie"
           }
          ],
          "scatter": [
           {
            "fillpattern": {
             "fillmode": "overlay",
             "size": 10,
             "solidity": 0.2
            },
            "type": "scatter"
           }
          ],
          "scatter3d": [
           {
            "line": {
             "colorbar": {
              "outlinewidth": 0,
              "ticks": ""
             }
            },
            "marker": {
             "colorbar": {
              "outlinewidth": 0,
              "ticks": ""
             }
            },
            "type": "scatter3d"
           }
          ],
          "scattercarpet": [
           {
            "marker": {
             "colorbar": {
              "outlinewidth": 0,
              "ticks": ""
             }
            },
            "type": "scattercarpet"
           }
          ],
          "scattergeo": [
           {
            "marker": {
             "colorbar": {
              "outlinewidth": 0,
              "ticks": ""
             }
            },
            "type": "scattergeo"
           }
          ],
          "scattergl": [
           {
            "marker": {
             "colorbar": {
              "outlinewidth": 0,
              "ticks": ""
             }
            },
            "type": "scattergl"
           }
          ],
          "scattermapbox": [
           {
            "marker": {
             "colorbar": {
              "outlinewidth": 0,
              "ticks": ""
             }
            },
            "type": "scattermapbox"
           }
          ],
          "scatterpolar": [
           {
            "marker": {
             "colorbar": {
              "outlinewidth": 0,
              "ticks": ""
             }
            },
            "type": "scatterpolar"
           }
          ],
          "scatterpolargl": [
           {
            "marker": {
             "colorbar": {
              "outlinewidth": 0,
              "ticks": ""
             }
            },
            "type": "scatterpolargl"
           }
          ],
          "scatterternary": [
           {
            "marker": {
             "colorbar": {
              "outlinewidth": 0,
              "ticks": ""
             }
            },
            "type": "scatterternary"
           }
          ],
          "surface": [
           {
            "colorbar": {
             "outlinewidth": 0,
             "ticks": ""
            },
            "colorscale": [
             [
              0,
              "#0d0887"
             ],
             [
              0.1111111111111111,
              "#46039f"
             ],
             [
              0.2222222222222222,
              "#7201a8"
             ],
             [
              0.3333333333333333,
              "#9c179e"
             ],
             [
              0.4444444444444444,
              "#bd3786"
             ],
             [
              0.5555555555555556,
              "#d8576b"
             ],
             [
              0.6666666666666666,
              "#ed7953"
             ],
             [
              0.7777777777777778,
              "#fb9f3a"
             ],
             [
              0.8888888888888888,
              "#fdca26"
             ],
             [
              1,
              "#f0f921"
             ]
            ],
            "type": "surface"
           }
          ],
          "table": [
           {
            "cells": {
             "fill": {
              "color": "#EBF0F8"
             },
             "line": {
              "color": "white"
             }
            },
            "header": {
             "fill": {
              "color": "#C8D4E3"
             },
             "line": {
              "color": "white"
             }
            },
            "type": "table"
           }
          ]
         },
         "layout": {
          "annotationdefaults": {
           "arrowcolor": "#2a3f5f",
           "arrowhead": 0,
           "arrowwidth": 1
          },
          "autotypenumbers": "strict",
          "coloraxis": {
           "colorbar": {
            "outlinewidth": 0,
            "ticks": ""
           }
          },
          "colorscale": {
           "diverging": [
            [
             0,
             "#8e0152"
            ],
            [
             0.1,
             "#c51b7d"
            ],
            [
             0.2,
             "#de77ae"
            ],
            [
             0.3,
             "#f1b6da"
            ],
            [
             0.4,
             "#fde0ef"
            ],
            [
             0.5,
             "#f7f7f7"
            ],
            [
             0.6,
             "#e6f5d0"
            ],
            [
             0.7,
             "#b8e186"
            ],
            [
             0.8,
             "#7fbc41"
            ],
            [
             0.9,
             "#4d9221"
            ],
            [
             1,
             "#276419"
            ]
           ],
           "sequential": [
            [
             0,
             "#0d0887"
            ],
            [
             0.1111111111111111,
             "#46039f"
            ],
            [
             0.2222222222222222,
             "#7201a8"
            ],
            [
             0.3333333333333333,
             "#9c179e"
            ],
            [
             0.4444444444444444,
             "#bd3786"
            ],
            [
             0.5555555555555556,
             "#d8576b"
            ],
            [
             0.6666666666666666,
             "#ed7953"
            ],
            [
             0.7777777777777778,
             "#fb9f3a"
            ],
            [
             0.8888888888888888,
             "#fdca26"
            ],
            [
             1,
             "#f0f921"
            ]
           ],
           "sequentialminus": [
            [
             0,
             "#0d0887"
            ],
            [
             0.1111111111111111,
             "#46039f"
            ],
            [
             0.2222222222222222,
             "#7201a8"
            ],
            [
             0.3333333333333333,
             "#9c179e"
            ],
            [
             0.4444444444444444,
             "#bd3786"
            ],
            [
             0.5555555555555556,
             "#d8576b"
            ],
            [
             0.6666666666666666,
             "#ed7953"
            ],
            [
             0.7777777777777778,
             "#fb9f3a"
            ],
            [
             0.8888888888888888,
             "#fdca26"
            ],
            [
             1,
             "#f0f921"
            ]
           ]
          },
          "colorway": [
           "#636efa",
           "#EF553B",
           "#00cc96",
           "#ab63fa",
           "#FFA15A",
           "#19d3f3",
           "#FF6692",
           "#B6E880",
           "#FF97FF",
           "#FECB52"
          ],
          "font": {
           "color": "#2a3f5f"
          },
          "geo": {
           "bgcolor": "white",
           "lakecolor": "white",
           "landcolor": "#E5ECF6",
           "showlakes": true,
           "showland": true,
           "subunitcolor": "white"
          },
          "hoverlabel": {
           "align": "left"
          },
          "hovermode": "closest",
          "mapbox": {
           "style": "light"
          },
          "paper_bgcolor": "white",
          "plot_bgcolor": "#E5ECF6",
          "polar": {
           "angularaxis": {
            "gridcolor": "white",
            "linecolor": "white",
            "ticks": ""
           },
           "bgcolor": "#E5ECF6",
           "radialaxis": {
            "gridcolor": "white",
            "linecolor": "white",
            "ticks": ""
           }
          },
          "scene": {
           "xaxis": {
            "backgroundcolor": "#E5ECF6",
            "gridcolor": "white",
            "gridwidth": 2,
            "linecolor": "white",
            "showbackground": true,
            "ticks": "",
            "zerolinecolor": "white"
           },
           "yaxis": {
            "backgroundcolor": "#E5ECF6",
            "gridcolor": "white",
            "gridwidth": 2,
            "linecolor": "white",
            "showbackground": true,
            "ticks": "",
            "zerolinecolor": "white"
           },
           "zaxis": {
            "backgroundcolor": "#E5ECF6",
            "gridcolor": "white",
            "gridwidth": 2,
            "linecolor": "white",
            "showbackground": true,
            "ticks": "",
            "zerolinecolor": "white"
           }
          },
          "shapedefaults": {
           "line": {
            "color": "#2a3f5f"
           }
          },
          "ternary": {
           "aaxis": {
            "gridcolor": "white",
            "linecolor": "white",
            "ticks": ""
           },
           "baxis": {
            "gridcolor": "white",
            "linecolor": "white",
            "ticks": ""
           },
           "bgcolor": "#E5ECF6",
           "caxis": {
            "gridcolor": "white",
            "linecolor": "white",
            "ticks": ""
           }
          },
          "title": {
           "x": 0.05
          },
          "xaxis": {
           "automargin": true,
           "gridcolor": "white",
           "linecolor": "white",
           "ticks": "",
           "title": {
            "standoff": 15
           },
           "zerolinecolor": "white",
           "zerolinewidth": 2
          },
          "yaxis": {
           "automargin": true,
           "gridcolor": "white",
           "linecolor": "white",
           "ticks": "",
           "title": {
            "standoff": 15
           },
           "zerolinecolor": "white",
           "zerolinewidth": 2
          }
         }
        },
        "title": {
         "text": "PCA - Explained variance ratio"
        },
        "xaxis": {
         "anchor": "y",
         "domain": [
          0,
          1
         ],
         "title": {
          "text": "Number of components"
         }
        },
        "yaxis": {
         "anchor": "x",
         "domain": [
          0,
          1
         ],
         "title": {
          "text": "Explained variance ratio"
         }
        }
       }
      }
     },
     "metadata": {},
     "output_type": "display_data"
    }
   ],
   "source": [
    "articles_dummy = pd.get_dummies(articles.astype({\"created_at_ts\": \"int\"}))\n",
    "articles_std = StandardScaler().fit_transform(articles_dummy)\n",
    "\n",
    "pca = PCA(n_components=100, random_state=42)\n",
    "pca.fit(articles_std)\n",
    "\n",
    "\n",
    "px.line(\n",
    "    x=range(1, len(pca.explained_variance_ratio_) + 1),\n",
    "    y=pca.explained_variance_ratio_,\n",
    "    title=\"PCA - Explained variance ratio\",\n",
    "    labels={\"x\": \"Number of components\", \"y\": \"Explained variance ratio\"},\n",
    ")"
   ]
  },
  {
   "cell_type": "code",
   "execution_count": 5,
   "metadata": {},
   "outputs": [
    {
     "data": {
      "text/html": [
       "<div>\n",
       "<style scoped>\n",
       "    .dataframe tbody tr th:only-of-type {\n",
       "        vertical-align: middle;\n",
       "    }\n",
       "\n",
       "    .dataframe tbody tr th {\n",
       "        vertical-align: top;\n",
       "    }\n",
       "\n",
       "    .dataframe thead th {\n",
       "        text-align: right;\n",
       "    }\n",
       "</style>\n",
       "<table border=\"1\" class=\"dataframe\">\n",
       "  <thead>\n",
       "    <tr style=\"text-align: right;\">\n",
       "      <th></th>\n",
       "      <th>pca_0</th>\n",
       "      <th>pca_1</th>\n",
       "      <th>pca_2</th>\n",
       "      <th>pca_3</th>\n",
       "      <th>pca_4</th>\n",
       "      <th>pca_5</th>\n",
       "      <th>pca_6</th>\n",
       "      <th>pca_7</th>\n",
       "      <th>pca_8</th>\n",
       "      <th>pca_9</th>\n",
       "      <th>...</th>\n",
       "      <th>pca_15</th>\n",
       "      <th>pca_16</th>\n",
       "      <th>pca_17</th>\n",
       "      <th>pca_18</th>\n",
       "      <th>pca_19</th>\n",
       "      <th>pca_20</th>\n",
       "      <th>pca_21</th>\n",
       "      <th>pca_22</th>\n",
       "      <th>pca_23</th>\n",
       "      <th>pca_24</th>\n",
       "    </tr>\n",
       "    <tr>\n",
       "      <th>article_id</th>\n",
       "      <th></th>\n",
       "      <th></th>\n",
       "      <th></th>\n",
       "      <th></th>\n",
       "      <th></th>\n",
       "      <th></th>\n",
       "      <th></th>\n",
       "      <th></th>\n",
       "      <th></th>\n",
       "      <th></th>\n",
       "      <th></th>\n",
       "      <th></th>\n",
       "      <th></th>\n",
       "      <th></th>\n",
       "      <th></th>\n",
       "      <th></th>\n",
       "      <th></th>\n",
       "      <th></th>\n",
       "      <th></th>\n",
       "      <th></th>\n",
       "      <th></th>\n",
       "    </tr>\n",
       "  </thead>\n",
       "  <tbody>\n",
       "    <tr>\n",
       "      <th>0</th>\n",
       "      <td>-1.904215</td>\n",
       "      <td>6.079079</td>\n",
       "      <td>1.537288</td>\n",
       "      <td>3.803354</td>\n",
       "      <td>-1.437657</td>\n",
       "      <td>0.300117</td>\n",
       "      <td>0.414942</td>\n",
       "      <td>1.152953</td>\n",
       "      <td>-0.518427</td>\n",
       "      <td>-1.580563</td>\n",
       "      <td>...</td>\n",
       "      <td>2.452330</td>\n",
       "      <td>-2.933797</td>\n",
       "      <td>-2.891124</td>\n",
       "      <td>2.202463</td>\n",
       "      <td>-0.271904</td>\n",
       "      <td>1.209298</td>\n",
       "      <td>-4.123378</td>\n",
       "      <td>3.279035</td>\n",
       "      <td>0.938082</td>\n",
       "      <td>-1.514533</td>\n",
       "    </tr>\n",
       "    <tr>\n",
       "      <th>1</th>\n",
       "      <td>-5.347634</td>\n",
       "      <td>-4.245106</td>\n",
       "      <td>-2.292850</td>\n",
       "      <td>3.663286</td>\n",
       "      <td>0.028960</td>\n",
       "      <td>3.627160</td>\n",
       "      <td>1.995622</td>\n",
       "      <td>-2.004382</td>\n",
       "      <td>0.694724</td>\n",
       "      <td>-3.107926</td>\n",
       "      <td>...</td>\n",
       "      <td>0.388457</td>\n",
       "      <td>-4.107143</td>\n",
       "      <td>1.576031</td>\n",
       "      <td>2.298082</td>\n",
       "      <td>1.705790</td>\n",
       "      <td>-3.961541</td>\n",
       "      <td>-3.657167</td>\n",
       "      <td>1.620356</td>\n",
       "      <td>-0.775952</td>\n",
       "      <td>0.864433</td>\n",
       "    </tr>\n",
       "    <tr>\n",
       "      <th>2</th>\n",
       "      <td>-3.696949</td>\n",
       "      <td>-0.448304</td>\n",
       "      <td>-6.074375</td>\n",
       "      <td>-0.811972</td>\n",
       "      <td>-0.613765</td>\n",
       "      <td>4.426349</td>\n",
       "      <td>-1.923623</td>\n",
       "      <td>-0.186540</td>\n",
       "      <td>-3.575506</td>\n",
       "      <td>-3.095512</td>\n",
       "      <td>...</td>\n",
       "      <td>-5.183629</td>\n",
       "      <td>-2.143729</td>\n",
       "      <td>-2.083800</td>\n",
       "      <td>-0.625227</td>\n",
       "      <td>-1.672333</td>\n",
       "      <td>-1.826249</td>\n",
       "      <td>-4.812046</td>\n",
       "      <td>0.313483</td>\n",
       "      <td>1.508683</td>\n",
       "      <td>-0.257272</td>\n",
       "    </tr>\n",
       "    <tr>\n",
       "      <th>3</th>\n",
       "      <td>-1.240911</td>\n",
       "      <td>-7.545885</td>\n",
       "      <td>-5.644175</td>\n",
       "      <td>1.761390</td>\n",
       "      <td>-2.215093</td>\n",
       "      <td>-1.675385</td>\n",
       "      <td>0.931860</td>\n",
       "      <td>-2.734978</td>\n",
       "      <td>0.209532</td>\n",
       "      <td>-4.369860</td>\n",
       "      <td>...</td>\n",
       "      <td>-5.014966</td>\n",
       "      <td>-0.547995</td>\n",
       "      <td>-1.997234</td>\n",
       "      <td>-2.591177</td>\n",
       "      <td>0.256643</td>\n",
       "      <td>-3.149014</td>\n",
       "      <td>-2.178933</td>\n",
       "      <td>-2.217641</td>\n",
       "      <td>0.947933</td>\n",
       "      <td>2.530837</td>\n",
       "    </tr>\n",
       "    <tr>\n",
       "      <th>4</th>\n",
       "      <td>-1.214285</td>\n",
       "      <td>-2.792402</td>\n",
       "      <td>-2.859502</td>\n",
       "      <td>0.522252</td>\n",
       "      <td>-3.329006</td>\n",
       "      <td>5.188328</td>\n",
       "      <td>0.040030</td>\n",
       "      <td>0.870313</td>\n",
       "      <td>-0.855068</td>\n",
       "      <td>-2.437743</td>\n",
       "      <td>...</td>\n",
       "      <td>-2.765760</td>\n",
       "      <td>-3.909355</td>\n",
       "      <td>-0.510423</td>\n",
       "      <td>-1.422974</td>\n",
       "      <td>0.831243</td>\n",
       "      <td>-3.846287</td>\n",
       "      <td>-2.838117</td>\n",
       "      <td>0.252872</td>\n",
       "      <td>3.382752</td>\n",
       "      <td>1.958392</td>\n",
       "    </tr>\n",
       "    <tr>\n",
       "      <th>...</th>\n",
       "      <td>...</td>\n",
       "      <td>...</td>\n",
       "      <td>...</td>\n",
       "      <td>...</td>\n",
       "      <td>...</td>\n",
       "      <td>...</td>\n",
       "      <td>...</td>\n",
       "      <td>...</td>\n",
       "      <td>...</td>\n",
       "      <td>...</td>\n",
       "      <td>...</td>\n",
       "      <td>...</td>\n",
       "      <td>...</td>\n",
       "      <td>...</td>\n",
       "      <td>...</td>\n",
       "      <td>...</td>\n",
       "      <td>...</td>\n",
       "      <td>...</td>\n",
       "      <td>...</td>\n",
       "      <td>...</td>\n",
       "      <td>...</td>\n",
       "    </tr>\n",
       "    <tr>\n",
       "      <th>364042</th>\n",
       "      <td>2.081017</td>\n",
       "      <td>-7.314420</td>\n",
       "      <td>8.566579</td>\n",
       "      <td>-0.309297</td>\n",
       "      <td>1.824057</td>\n",
       "      <td>-1.800716</td>\n",
       "      <td>1.581949</td>\n",
       "      <td>0.381537</td>\n",
       "      <td>1.649165</td>\n",
       "      <td>-1.735415</td>\n",
       "      <td>...</td>\n",
       "      <td>0.143416</td>\n",
       "      <td>-1.719001</td>\n",
       "      <td>0.596776</td>\n",
       "      <td>0.885950</td>\n",
       "      <td>-0.203514</td>\n",
       "      <td>0.243687</td>\n",
       "      <td>-0.569196</td>\n",
       "      <td>1.108324</td>\n",
       "      <td>-1.715699</td>\n",
       "      <td>0.259476</td>\n",
       "    </tr>\n",
       "    <tr>\n",
       "      <th>364043</th>\n",
       "      <td>0.884326</td>\n",
       "      <td>-2.186222</td>\n",
       "      <td>6.148029</td>\n",
       "      <td>3.325571</td>\n",
       "      <td>14.074191</td>\n",
       "      <td>4.150537</td>\n",
       "      <td>1.042010</td>\n",
       "      <td>3.243976</td>\n",
       "      <td>2.587766</td>\n",
       "      <td>-1.147832</td>\n",
       "      <td>...</td>\n",
       "      <td>0.266136</td>\n",
       "      <td>1.974945</td>\n",
       "      <td>1.283965</td>\n",
       "      <td>-1.979753</td>\n",
       "      <td>0.285304</td>\n",
       "      <td>2.080461</td>\n",
       "      <td>4.952106</td>\n",
       "      <td>1.876104</td>\n",
       "      <td>-1.604289</td>\n",
       "      <td>-1.634543</td>\n",
       "    </tr>\n",
       "    <tr>\n",
       "      <th>364044</th>\n",
       "      <td>1.386953</td>\n",
       "      <td>-9.478232</td>\n",
       "      <td>3.365109</td>\n",
       "      <td>3.498530</td>\n",
       "      <td>2.230966</td>\n",
       "      <td>0.297405</td>\n",
       "      <td>-2.376174</td>\n",
       "      <td>-1.420260</td>\n",
       "      <td>3.050013</td>\n",
       "      <td>4.069092</td>\n",
       "      <td>...</td>\n",
       "      <td>-3.047975</td>\n",
       "      <td>1.621384</td>\n",
       "      <td>0.588765</td>\n",
       "      <td>2.007028</td>\n",
       "      <td>2.347073</td>\n",
       "      <td>-2.376871</td>\n",
       "      <td>1.161152</td>\n",
       "      <td>-1.663997</td>\n",
       "      <td>-2.283985</td>\n",
       "      <td>-0.219270</td>\n",
       "    </tr>\n",
       "    <tr>\n",
       "      <th>364045</th>\n",
       "      <td>11.516807</td>\n",
       "      <td>-1.684870</td>\n",
       "      <td>0.044962</td>\n",
       "      <td>-0.397379</td>\n",
       "      <td>-2.364314</td>\n",
       "      <td>-2.258477</td>\n",
       "      <td>-2.525652</td>\n",
       "      <td>0.415384</td>\n",
       "      <td>1.558364</td>\n",
       "      <td>-2.119358</td>\n",
       "      <td>...</td>\n",
       "      <td>-1.849083</td>\n",
       "      <td>1.184907</td>\n",
       "      <td>0.586788</td>\n",
       "      <td>-0.456083</td>\n",
       "      <td>0.367469</td>\n",
       "      <td>-0.804240</td>\n",
       "      <td>1.702255</td>\n",
       "      <td>-0.819011</td>\n",
       "      <td>-2.050353</td>\n",
       "      <td>-1.100136</td>\n",
       "    </tr>\n",
       "    <tr>\n",
       "      <th>364046</th>\n",
       "      <td>1.617101</td>\n",
       "      <td>-3.305829</td>\n",
       "      <td>6.745355</td>\n",
       "      <td>1.555852</td>\n",
       "      <td>14.015378</td>\n",
       "      <td>4.577562</td>\n",
       "      <td>-0.912113</td>\n",
       "      <td>1.443498</td>\n",
       "      <td>2.537795</td>\n",
       "      <td>-2.261869</td>\n",
       "      <td>...</td>\n",
       "      <td>0.193561</td>\n",
       "      <td>2.795553</td>\n",
       "      <td>2.037425</td>\n",
       "      <td>-0.969996</td>\n",
       "      <td>0.648757</td>\n",
       "      <td>1.065344</td>\n",
       "      <td>5.798449</td>\n",
       "      <td>1.756027</td>\n",
       "      <td>-1.617744</td>\n",
       "      <td>-1.260284</td>\n",
       "    </tr>\n",
       "  </tbody>\n",
       "</table>\n",
       "<p>364047 rows × 25 columns</p>\n",
       "</div>"
      ],
      "text/plain": [
       "                pca_0     pca_1     pca_2     pca_3      pca_4     pca_5  \\\n",
       "article_id                                                                 \n",
       "0           -1.904215  6.079079  1.537288  3.803354  -1.437657  0.300117   \n",
       "1           -5.347634 -4.245106 -2.292850  3.663286   0.028960  3.627160   \n",
       "2           -3.696949 -0.448304 -6.074375 -0.811972  -0.613765  4.426349   \n",
       "3           -1.240911 -7.545885 -5.644175  1.761390  -2.215093 -1.675385   \n",
       "4           -1.214285 -2.792402 -2.859502  0.522252  -3.329006  5.188328   \n",
       "...               ...       ...       ...       ...        ...       ...   \n",
       "364042       2.081017 -7.314420  8.566579 -0.309297   1.824057 -1.800716   \n",
       "364043       0.884326 -2.186222  6.148029  3.325571  14.074191  4.150537   \n",
       "364044       1.386953 -9.478232  3.365109  3.498530   2.230966  0.297405   \n",
       "364045      11.516807 -1.684870  0.044962 -0.397379  -2.364314 -2.258477   \n",
       "364046       1.617101 -3.305829  6.745355  1.555852  14.015378  4.577562   \n",
       "\n",
       "               pca_6     pca_7     pca_8     pca_9  ...    pca_15    pca_16  \\\n",
       "article_id                                          ...                       \n",
       "0           0.414942  1.152953 -0.518427 -1.580563  ...  2.452330 -2.933797   \n",
       "1           1.995622 -2.004382  0.694724 -3.107926  ...  0.388457 -4.107143   \n",
       "2          -1.923623 -0.186540 -3.575506 -3.095512  ... -5.183629 -2.143729   \n",
       "3           0.931860 -2.734978  0.209532 -4.369860  ... -5.014966 -0.547995   \n",
       "4           0.040030  0.870313 -0.855068 -2.437743  ... -2.765760 -3.909355   \n",
       "...              ...       ...       ...       ...  ...       ...       ...   \n",
       "364042      1.581949  0.381537  1.649165 -1.735415  ...  0.143416 -1.719001   \n",
       "364043      1.042010  3.243976  2.587766 -1.147832  ...  0.266136  1.974945   \n",
       "364044     -2.376174 -1.420260  3.050013  4.069092  ... -3.047975  1.621384   \n",
       "364045     -2.525652  0.415384  1.558364 -2.119358  ... -1.849083  1.184907   \n",
       "364046     -0.912113  1.443498  2.537795 -2.261869  ...  0.193561  2.795553   \n",
       "\n",
       "              pca_17    pca_18    pca_19    pca_20    pca_21    pca_22  \\\n",
       "article_id                                                               \n",
       "0          -2.891124  2.202463 -0.271904  1.209298 -4.123378  3.279035   \n",
       "1           1.576031  2.298082  1.705790 -3.961541 -3.657167  1.620356   \n",
       "2          -2.083800 -0.625227 -1.672333 -1.826249 -4.812046  0.313483   \n",
       "3          -1.997234 -2.591177  0.256643 -3.149014 -2.178933 -2.217641   \n",
       "4          -0.510423 -1.422974  0.831243 -3.846287 -2.838117  0.252872   \n",
       "...              ...       ...       ...       ...       ...       ...   \n",
       "364042      0.596776  0.885950 -0.203514  0.243687 -0.569196  1.108324   \n",
       "364043      1.283965 -1.979753  0.285304  2.080461  4.952106  1.876104   \n",
       "364044      0.588765  2.007028  2.347073 -2.376871  1.161152 -1.663997   \n",
       "364045      0.586788 -0.456083  0.367469 -0.804240  1.702255 -0.819011   \n",
       "364046      2.037425 -0.969996  0.648757  1.065344  5.798449  1.756027   \n",
       "\n",
       "              pca_23    pca_24  \n",
       "article_id                      \n",
       "0           0.938082 -1.514533  \n",
       "1          -0.775952  0.864433  \n",
       "2           1.508683 -0.257272  \n",
       "3           0.947933  2.530837  \n",
       "4           3.382752  1.958392  \n",
       "...              ...       ...  \n",
       "364042     -1.715699  0.259476  \n",
       "364043     -1.604289 -1.634543  \n",
       "364044     -2.283985 -0.219270  \n",
       "364045     -2.050353 -1.100136  \n",
       "364046     -1.617744 -1.260284  \n",
       "\n",
       "[364047 rows x 25 columns]"
      ]
     },
     "execution_count": 5,
     "metadata": {},
     "output_type": "execute_result"
    }
   ],
   "source": [
    "articles_pca = PCA(n_components=25, random_state=42).fit_transform(articles_std)\n",
    "\n",
    "articles_features_df = pd.DataFrame(\n",
    "    articles_pca,\n",
    "    columns=[f\"pca_{i}\" for i in range(articles_pca.shape[1])],\n",
    "    index=articles.index,\n",
    ")\n",
    "articles_features_df"
   ]
  },
  {
   "cell_type": "code",
   "execution_count": 6,
   "metadata": {},
   "outputs": [
    {
     "name": "stderr",
     "output_type": "stream",
     "text": [
      "100%|██████████| 25/25 [01:51<00:00,  4.46s/it]\n"
     ]
    },
    {
     "data": {
      "application/vnd.plotly.v1+json": {
       "config": {
        "plotlyServerURL": "https://plot.ly"
       },
       "data": [
        {
         "hovertemplate": "Number of clusters=%{x}<br>Inertia=%{y}<extra></extra>",
         "legendgroup": "",
         "line": {
          "color": "#636efa",
          "dash": "solid"
         },
         "marker": {
          "symbol": "circle"
         },
         "mode": "lines",
         "name": "",
         "orientation": "v",
         "showlegend": false,
         "type": "scatter",
         "x": [
          2,
          2,
          2,
          3,
          4,
          4,
          5,
          6,
          8,
          9,
          11,
          13,
          16,
          19,
          22,
          26,
          32,
          38,
          45,
          53,
          64,
          76,
          90,
          107,
          128
         ],
         "xaxis": "x",
         "y": [
          70376162.41317004,
          70376162.41317004,
          70376162.41317004,
          66513388.03149342,
          65575626.418635786,
          65575626.418635786,
          60999208.376074106,
          60044766.6178197,
          55600339.472421035,
          55714583.79325904,
          53870062.36651242,
          50611827.135300614,
          47088398.999345794,
          43928873.36821313,
          40555314.87083165,
          37104236.27724104,
          34783369.975804836,
          33012391.18912688,
          33311798.347292572,
          30164161.331837192,
          28528475.635254405,
          27398463.596996944,
          26088831.6150835,
          25228648.99453413,
          24161478.580609303
         ],
         "yaxis": "y"
        }
       ],
       "layout": {
        "legend": {
         "tracegroupgap": 0
        },
        "template": {
         "data": {
          "bar": [
           {
            "error_x": {
             "color": "#2a3f5f"
            },
            "error_y": {
             "color": "#2a3f5f"
            },
            "marker": {
             "line": {
              "color": "#E5ECF6",
              "width": 0.5
             },
             "pattern": {
              "fillmode": "overlay",
              "size": 10,
              "solidity": 0.2
             }
            },
            "type": "bar"
           }
          ],
          "barpolar": [
           {
            "marker": {
             "line": {
              "color": "#E5ECF6",
              "width": 0.5
             },
             "pattern": {
              "fillmode": "overlay",
              "size": 10,
              "solidity": 0.2
             }
            },
            "type": "barpolar"
           }
          ],
          "carpet": [
           {
            "aaxis": {
             "endlinecolor": "#2a3f5f",
             "gridcolor": "white",
             "linecolor": "white",
             "minorgridcolor": "white",
             "startlinecolor": "#2a3f5f"
            },
            "baxis": {
             "endlinecolor": "#2a3f5f",
             "gridcolor": "white",
             "linecolor": "white",
             "minorgridcolor": "white",
             "startlinecolor": "#2a3f5f"
            },
            "type": "carpet"
           }
          ],
          "choropleth": [
           {
            "colorbar": {
             "outlinewidth": 0,
             "ticks": ""
            },
            "type": "choropleth"
           }
          ],
          "contour": [
           {
            "colorbar": {
             "outlinewidth": 0,
             "ticks": ""
            },
            "colorscale": [
             [
              0,
              "#0d0887"
             ],
             [
              0.1111111111111111,
              "#46039f"
             ],
             [
              0.2222222222222222,
              "#7201a8"
             ],
             [
              0.3333333333333333,
              "#9c179e"
             ],
             [
              0.4444444444444444,
              "#bd3786"
             ],
             [
              0.5555555555555556,
              "#d8576b"
             ],
             [
              0.6666666666666666,
              "#ed7953"
             ],
             [
              0.7777777777777778,
              "#fb9f3a"
             ],
             [
              0.8888888888888888,
              "#fdca26"
             ],
             [
              1,
              "#f0f921"
             ]
            ],
            "type": "contour"
           }
          ],
          "contourcarpet": [
           {
            "colorbar": {
             "outlinewidth": 0,
             "ticks": ""
            },
            "type": "contourcarpet"
           }
          ],
          "heatmap": [
           {
            "colorbar": {
             "outlinewidth": 0,
             "ticks": ""
            },
            "colorscale": [
             [
              0,
              "#0d0887"
             ],
             [
              0.1111111111111111,
              "#46039f"
             ],
             [
              0.2222222222222222,
              "#7201a8"
             ],
             [
              0.3333333333333333,
              "#9c179e"
             ],
             [
              0.4444444444444444,
              "#bd3786"
             ],
             [
              0.5555555555555556,
              "#d8576b"
             ],
             [
              0.6666666666666666,
              "#ed7953"
             ],
             [
              0.7777777777777778,
              "#fb9f3a"
             ],
             [
              0.8888888888888888,
              "#fdca26"
             ],
             [
              1,
              "#f0f921"
             ]
            ],
            "type": "heatmap"
           }
          ],
          "heatmapgl": [
           {
            "colorbar": {
             "outlinewidth": 0,
             "ticks": ""
            },
            "colorscale": [
             [
              0,
              "#0d0887"
             ],
             [
              0.1111111111111111,
              "#46039f"
             ],
             [
              0.2222222222222222,
              "#7201a8"
             ],
             [
              0.3333333333333333,
              "#9c179e"
             ],
             [
              0.4444444444444444,
              "#bd3786"
             ],
             [
              0.5555555555555556,
              "#d8576b"
             ],
             [
              0.6666666666666666,
              "#ed7953"
             ],
             [
              0.7777777777777778,
              "#fb9f3a"
             ],
             [
              0.8888888888888888,
              "#fdca26"
             ],
             [
              1,
              "#f0f921"
             ]
            ],
            "type": "heatmapgl"
           }
          ],
          "histogram": [
           {
            "marker": {
             "pattern": {
              "fillmode": "overlay",
              "size": 10,
              "solidity": 0.2
             }
            },
            "type": "histogram"
           }
          ],
          "histogram2d": [
           {
            "colorbar": {
             "outlinewidth": 0,
             "ticks": ""
            },
            "colorscale": [
             [
              0,
              "#0d0887"
             ],
             [
              0.1111111111111111,
              "#46039f"
             ],
             [
              0.2222222222222222,
              "#7201a8"
             ],
             [
              0.3333333333333333,
              "#9c179e"
             ],
             [
              0.4444444444444444,
              "#bd3786"
             ],
             [
              0.5555555555555556,
              "#d8576b"
             ],
             [
              0.6666666666666666,
              "#ed7953"
             ],
             [
              0.7777777777777778,
              "#fb9f3a"
             ],
             [
              0.8888888888888888,
              "#fdca26"
             ],
             [
              1,
              "#f0f921"
             ]
            ],
            "type": "histogram2d"
           }
          ],
          "histogram2dcontour": [
           {
            "colorbar": {
             "outlinewidth": 0,
             "ticks": ""
            },
            "colorscale": [
             [
              0,
              "#0d0887"
             ],
             [
              0.1111111111111111,
              "#46039f"
             ],
             [
              0.2222222222222222,
              "#7201a8"
             ],
             [
              0.3333333333333333,
              "#9c179e"
             ],
             [
              0.4444444444444444,
              "#bd3786"
             ],
             [
              0.5555555555555556,
              "#d8576b"
             ],
             [
              0.6666666666666666,
              "#ed7953"
             ],
             [
              0.7777777777777778,
              "#fb9f3a"
             ],
             [
              0.8888888888888888,
              "#fdca26"
             ],
             [
              1,
              "#f0f921"
             ]
            ],
            "type": "histogram2dcontour"
           }
          ],
          "mesh3d": [
           {
            "colorbar": {
             "outlinewidth": 0,
             "ticks": ""
            },
            "type": "mesh3d"
           }
          ],
          "parcoords": [
           {
            "line": {
             "colorbar": {
              "outlinewidth": 0,
              "ticks": ""
             }
            },
            "type": "parcoords"
           }
          ],
          "pie": [
           {
            "automargin": true,
            "type": "pie"
           }
          ],
          "scatter": [
           {
            "fillpattern": {
             "fillmode": "overlay",
             "size": 10,
             "solidity": 0.2
            },
            "type": "scatter"
           }
          ],
          "scatter3d": [
           {
            "line": {
             "colorbar": {
              "outlinewidth": 0,
              "ticks": ""
             }
            },
            "marker": {
             "colorbar": {
              "outlinewidth": 0,
              "ticks": ""
             }
            },
            "type": "scatter3d"
           }
          ],
          "scattercarpet": [
           {
            "marker": {
             "colorbar": {
              "outlinewidth": 0,
              "ticks": ""
             }
            },
            "type": "scattercarpet"
           }
          ],
          "scattergeo": [
           {
            "marker": {
             "colorbar": {
              "outlinewidth": 0,
              "ticks": ""
             }
            },
            "type": "scattergeo"
           }
          ],
          "scattergl": [
           {
            "marker": {
             "colorbar": {
              "outlinewidth": 0,
              "ticks": ""
             }
            },
            "type": "scattergl"
           }
          ],
          "scattermapbox": [
           {
            "marker": {
             "colorbar": {
              "outlinewidth": 0,
              "ticks": ""
             }
            },
            "type": "scattermapbox"
           }
          ],
          "scatterpolar": [
           {
            "marker": {
             "colorbar": {
              "outlinewidth": 0,
              "ticks": ""
             }
            },
            "type": "scatterpolar"
           }
          ],
          "scatterpolargl": [
           {
            "marker": {
             "colorbar": {
              "outlinewidth": 0,
              "ticks": ""
             }
            },
            "type": "scatterpolargl"
           }
          ],
          "scatterternary": [
           {
            "marker": {
             "colorbar": {
              "outlinewidth": 0,
              "ticks": ""
             }
            },
            "type": "scatterternary"
           }
          ],
          "surface": [
           {
            "colorbar": {
             "outlinewidth": 0,
             "ticks": ""
            },
            "colorscale": [
             [
              0,
              "#0d0887"
             ],
             [
              0.1111111111111111,
              "#46039f"
             ],
             [
              0.2222222222222222,
              "#7201a8"
             ],
             [
              0.3333333333333333,
              "#9c179e"
             ],
             [
              0.4444444444444444,
              "#bd3786"
             ],
             [
              0.5555555555555556,
              "#d8576b"
             ],
             [
              0.6666666666666666,
              "#ed7953"
             ],
             [
              0.7777777777777778,
              "#fb9f3a"
             ],
             [
              0.8888888888888888,
              "#fdca26"
             ],
             [
              1,
              "#f0f921"
             ]
            ],
            "type": "surface"
           }
          ],
          "table": [
           {
            "cells": {
             "fill": {
              "color": "#EBF0F8"
             },
             "line": {
              "color": "white"
             }
            },
            "header": {
             "fill": {
              "color": "#C8D4E3"
             },
             "line": {
              "color": "white"
             }
            },
            "type": "table"
           }
          ]
         },
         "layout": {
          "annotationdefaults": {
           "arrowcolor": "#2a3f5f",
           "arrowhead": 0,
           "arrowwidth": 1
          },
          "autotypenumbers": "strict",
          "coloraxis": {
           "colorbar": {
            "outlinewidth": 0,
            "ticks": ""
           }
          },
          "colorscale": {
           "diverging": [
            [
             0,
             "#8e0152"
            ],
            [
             0.1,
             "#c51b7d"
            ],
            [
             0.2,
             "#de77ae"
            ],
            [
             0.3,
             "#f1b6da"
            ],
            [
             0.4,
             "#fde0ef"
            ],
            [
             0.5,
             "#f7f7f7"
            ],
            [
             0.6,
             "#e6f5d0"
            ],
            [
             0.7,
             "#b8e186"
            ],
            [
             0.8,
             "#7fbc41"
            ],
            [
             0.9,
             "#4d9221"
            ],
            [
             1,
             "#276419"
            ]
           ],
           "sequential": [
            [
             0,
             "#0d0887"
            ],
            [
             0.1111111111111111,
             "#46039f"
            ],
            [
             0.2222222222222222,
             "#7201a8"
            ],
            [
             0.3333333333333333,
             "#9c179e"
            ],
            [
             0.4444444444444444,
             "#bd3786"
            ],
            [
             0.5555555555555556,
             "#d8576b"
            ],
            [
             0.6666666666666666,
             "#ed7953"
            ],
            [
             0.7777777777777778,
             "#fb9f3a"
            ],
            [
             0.8888888888888888,
             "#fdca26"
            ],
            [
             1,
             "#f0f921"
            ]
           ],
           "sequentialminus": [
            [
             0,
             "#0d0887"
            ],
            [
             0.1111111111111111,
             "#46039f"
            ],
            [
             0.2222222222222222,
             "#7201a8"
            ],
            [
             0.3333333333333333,
             "#9c179e"
            ],
            [
             0.4444444444444444,
             "#bd3786"
            ],
            [
             0.5555555555555556,
             "#d8576b"
            ],
            [
             0.6666666666666666,
             "#ed7953"
            ],
            [
             0.7777777777777778,
             "#fb9f3a"
            ],
            [
             0.8888888888888888,
             "#fdca26"
            ],
            [
             1,
             "#f0f921"
            ]
           ]
          },
          "colorway": [
           "#636efa",
           "#EF553B",
           "#00cc96",
           "#ab63fa",
           "#FFA15A",
           "#19d3f3",
           "#FF6692",
           "#B6E880",
           "#FF97FF",
           "#FECB52"
          ],
          "font": {
           "color": "#2a3f5f"
          },
          "geo": {
           "bgcolor": "white",
           "lakecolor": "white",
           "landcolor": "#E5ECF6",
           "showlakes": true,
           "showland": true,
           "subunitcolor": "white"
          },
          "hoverlabel": {
           "align": "left"
          },
          "hovermode": "closest",
          "mapbox": {
           "style": "light"
          },
          "paper_bgcolor": "white",
          "plot_bgcolor": "#E5ECF6",
          "polar": {
           "angularaxis": {
            "gridcolor": "white",
            "linecolor": "white",
            "ticks": ""
           },
           "bgcolor": "#E5ECF6",
           "radialaxis": {
            "gridcolor": "white",
            "linecolor": "white",
            "ticks": ""
           }
          },
          "scene": {
           "xaxis": {
            "backgroundcolor": "#E5ECF6",
            "gridcolor": "white",
            "gridwidth": 2,
            "linecolor": "white",
            "showbackground": true,
            "ticks": "",
            "zerolinecolor": "white"
           },
           "yaxis": {
            "backgroundcolor": "#E5ECF6",
            "gridcolor": "white",
            "gridwidth": 2,
            "linecolor": "white",
            "showbackground": true,
            "ticks": "",
            "zerolinecolor": "white"
           },
           "zaxis": {
            "backgroundcolor": "#E5ECF6",
            "gridcolor": "white",
            "gridwidth": 2,
            "linecolor": "white",
            "showbackground": true,
            "ticks": "",
            "zerolinecolor": "white"
           }
          },
          "shapedefaults": {
           "line": {
            "color": "#2a3f5f"
           }
          },
          "ternary": {
           "aaxis": {
            "gridcolor": "white",
            "linecolor": "white",
            "ticks": ""
           },
           "baxis": {
            "gridcolor": "white",
            "linecolor": "white",
            "ticks": ""
           },
           "bgcolor": "#E5ECF6",
           "caxis": {
            "gridcolor": "white",
            "linecolor": "white",
            "ticks": ""
           }
          },
          "title": {
           "x": 0.05
          },
          "xaxis": {
           "automargin": true,
           "gridcolor": "white",
           "linecolor": "white",
           "ticks": "",
           "title": {
            "standoff": 15
           },
           "zerolinecolor": "white",
           "zerolinewidth": 2
          },
          "yaxis": {
           "automargin": true,
           "gridcolor": "white",
           "linecolor": "white",
           "ticks": "",
           "title": {
            "standoff": 15
           },
           "zerolinecolor": "white",
           "zerolinewidth": 2
          }
         }
        },
        "title": {
         "text": "Inertia"
        },
        "xaxis": {
         "anchor": "y",
         "domain": [
          0,
          1
         ],
         "title": {
          "text": "Number of clusters"
         }
        },
        "yaxis": {
         "anchor": "x",
         "domain": [
          0,
          1
         ],
         "title": {
          "text": "Inertia"
         }
        }
       }
      }
     },
     "metadata": {},
     "output_type": "display_data"
    },
    {
     "data": {
      "application/vnd.plotly.v1+json": {
       "config": {
        "plotlyServerURL": "https://plot.ly"
       },
       "data": [
        {
         "hovertemplate": "Number of clusters=%{x}<br>Calinski-Harabasz=%{y}<extra></extra>",
         "legendgroup": "",
         "line": {
          "color": "#636efa",
          "dash": "solid"
         },
         "marker": {
          "symbol": "circle"
         },
         "mode": "lines",
         "name": "",
         "orientation": "v",
         "showlegend": false,
         "type": "scatter",
         "x": [
          2,
          2,
          2,
          3,
          4,
          4,
          5,
          6,
          8,
          9,
          11,
          13,
          16,
          19,
          22,
          26,
          32,
          38,
          45,
          53,
          64,
          76,
          90,
          107,
          128
         ],
         "xaxis": "x",
         "y": [
          29540.380625197824,
          29540.380625197824,
          29540.380625197824,
          25846.77737071875,
          19448.379694077303,
          19448.379694077303,
          22332.180538277375,
          19365.306109064026,
          19049.034808080713,
          17604.639675796403,
          15767.134686136777,
          16004.448487785141,
          15358.295615411385,
          14821.419833959628,
          15160.010114949118,
          15277.57161929424,
          13922.914187186436,
          12842.83189096461,
          11326.52238257677,
          10647.759283862022,
          9614.681881721302,
          8614.318816933563,
          7837.5290951894385,
          6926.85560670991,
          6157.266338447561
         ],
         "yaxis": "y"
        }
       ],
       "layout": {
        "legend": {
         "tracegroupgap": 0
        },
        "template": {
         "data": {
          "bar": [
           {
            "error_x": {
             "color": "#2a3f5f"
            },
            "error_y": {
             "color": "#2a3f5f"
            },
            "marker": {
             "line": {
              "color": "#E5ECF6",
              "width": 0.5
             },
             "pattern": {
              "fillmode": "overlay",
              "size": 10,
              "solidity": 0.2
             }
            },
            "type": "bar"
           }
          ],
          "barpolar": [
           {
            "marker": {
             "line": {
              "color": "#E5ECF6",
              "width": 0.5
             },
             "pattern": {
              "fillmode": "overlay",
              "size": 10,
              "solidity": 0.2
             }
            },
            "type": "barpolar"
           }
          ],
          "carpet": [
           {
            "aaxis": {
             "endlinecolor": "#2a3f5f",
             "gridcolor": "white",
             "linecolor": "white",
             "minorgridcolor": "white",
             "startlinecolor": "#2a3f5f"
            },
            "baxis": {
             "endlinecolor": "#2a3f5f",
             "gridcolor": "white",
             "linecolor": "white",
             "minorgridcolor": "white",
             "startlinecolor": "#2a3f5f"
            },
            "type": "carpet"
           }
          ],
          "choropleth": [
           {
            "colorbar": {
             "outlinewidth": 0,
             "ticks": ""
            },
            "type": "choropleth"
           }
          ],
          "contour": [
           {
            "colorbar": {
             "outlinewidth": 0,
             "ticks": ""
            },
            "colorscale": [
             [
              0,
              "#0d0887"
             ],
             [
              0.1111111111111111,
              "#46039f"
             ],
             [
              0.2222222222222222,
              "#7201a8"
             ],
             [
              0.3333333333333333,
              "#9c179e"
             ],
             [
              0.4444444444444444,
              "#bd3786"
             ],
             [
              0.5555555555555556,
              "#d8576b"
             ],
             [
              0.6666666666666666,
              "#ed7953"
             ],
             [
              0.7777777777777778,
              "#fb9f3a"
             ],
             [
              0.8888888888888888,
              "#fdca26"
             ],
             [
              1,
              "#f0f921"
             ]
            ],
            "type": "contour"
           }
          ],
          "contourcarpet": [
           {
            "colorbar": {
             "outlinewidth": 0,
             "ticks": ""
            },
            "type": "contourcarpet"
           }
          ],
          "heatmap": [
           {
            "colorbar": {
             "outlinewidth": 0,
             "ticks": ""
            },
            "colorscale": [
             [
              0,
              "#0d0887"
             ],
             [
              0.1111111111111111,
              "#46039f"
             ],
             [
              0.2222222222222222,
              "#7201a8"
             ],
             [
              0.3333333333333333,
              "#9c179e"
             ],
             [
              0.4444444444444444,
              "#bd3786"
             ],
             [
              0.5555555555555556,
              "#d8576b"
             ],
             [
              0.6666666666666666,
              "#ed7953"
             ],
             [
              0.7777777777777778,
              "#fb9f3a"
             ],
             [
              0.8888888888888888,
              "#fdca26"
             ],
             [
              1,
              "#f0f921"
             ]
            ],
            "type": "heatmap"
           }
          ],
          "heatmapgl": [
           {
            "colorbar": {
             "outlinewidth": 0,
             "ticks": ""
            },
            "colorscale": [
             [
              0,
              "#0d0887"
             ],
             [
              0.1111111111111111,
              "#46039f"
             ],
             [
              0.2222222222222222,
              "#7201a8"
             ],
             [
              0.3333333333333333,
              "#9c179e"
             ],
             [
              0.4444444444444444,
              "#bd3786"
             ],
             [
              0.5555555555555556,
              "#d8576b"
             ],
             [
              0.6666666666666666,
              "#ed7953"
             ],
             [
              0.7777777777777778,
              "#fb9f3a"
             ],
             [
              0.8888888888888888,
              "#fdca26"
             ],
             [
              1,
              "#f0f921"
             ]
            ],
            "type": "heatmapgl"
           }
          ],
          "histogram": [
           {
            "marker": {
             "pattern": {
              "fillmode": "overlay",
              "size": 10,
              "solidity": 0.2
             }
            },
            "type": "histogram"
           }
          ],
          "histogram2d": [
           {
            "colorbar": {
             "outlinewidth": 0,
             "ticks": ""
            },
            "colorscale": [
             [
              0,
              "#0d0887"
             ],
             [
              0.1111111111111111,
              "#46039f"
             ],
             [
              0.2222222222222222,
              "#7201a8"
             ],
             [
              0.3333333333333333,
              "#9c179e"
             ],
             [
              0.4444444444444444,
              "#bd3786"
             ],
             [
              0.5555555555555556,
              "#d8576b"
             ],
             [
              0.6666666666666666,
              "#ed7953"
             ],
             [
              0.7777777777777778,
              "#fb9f3a"
             ],
             [
              0.8888888888888888,
              "#fdca26"
             ],
             [
              1,
              "#f0f921"
             ]
            ],
            "type": "histogram2d"
           }
          ],
          "histogram2dcontour": [
           {
            "colorbar": {
             "outlinewidth": 0,
             "ticks": ""
            },
            "colorscale": [
             [
              0,
              "#0d0887"
             ],
             [
              0.1111111111111111,
              "#46039f"
             ],
             [
              0.2222222222222222,
              "#7201a8"
             ],
             [
              0.3333333333333333,
              "#9c179e"
             ],
             [
              0.4444444444444444,
              "#bd3786"
             ],
             [
              0.5555555555555556,
              "#d8576b"
             ],
             [
              0.6666666666666666,
              "#ed7953"
             ],
             [
              0.7777777777777778,
              "#fb9f3a"
             ],
             [
              0.8888888888888888,
              "#fdca26"
             ],
             [
              1,
              "#f0f921"
             ]
            ],
            "type": "histogram2dcontour"
           }
          ],
          "mesh3d": [
           {
            "colorbar": {
             "outlinewidth": 0,
             "ticks": ""
            },
            "type": "mesh3d"
           }
          ],
          "parcoords": [
           {
            "line": {
             "colorbar": {
              "outlinewidth": 0,
              "ticks": ""
             }
            },
            "type": "parcoords"
           }
          ],
          "pie": [
           {
            "automargin": true,
            "type": "pie"
           }
          ],
          "scatter": [
           {
            "fillpattern": {
             "fillmode": "overlay",
             "size": 10,
             "solidity": 0.2
            },
            "type": "scatter"
           }
          ],
          "scatter3d": [
           {
            "line": {
             "colorbar": {
              "outlinewidth": 0,
              "ticks": ""
             }
            },
            "marker": {
             "colorbar": {
              "outlinewidth": 0,
              "ticks": ""
             }
            },
            "type": "scatter3d"
           }
          ],
          "scattercarpet": [
           {
            "marker": {
             "colorbar": {
              "outlinewidth": 0,
              "ticks": ""
             }
            },
            "type": "scattercarpet"
           }
          ],
          "scattergeo": [
           {
            "marker": {
             "colorbar": {
              "outlinewidth": 0,
              "ticks": ""
             }
            },
            "type": "scattergeo"
           }
          ],
          "scattergl": [
           {
            "marker": {
             "colorbar": {
              "outlinewidth": 0,
              "ticks": ""
             }
            },
            "type": "scattergl"
           }
          ],
          "scattermapbox": [
           {
            "marker": {
             "colorbar": {
              "outlinewidth": 0,
              "ticks": ""
             }
            },
            "type": "scattermapbox"
           }
          ],
          "scatterpolar": [
           {
            "marker": {
             "colorbar": {
              "outlinewidth": 0,
              "ticks": ""
             }
            },
            "type": "scatterpolar"
           }
          ],
          "scatterpolargl": [
           {
            "marker": {
             "colorbar": {
              "outlinewidth": 0,
              "ticks": ""
             }
            },
            "type": "scatterpolargl"
           }
          ],
          "scatterternary": [
           {
            "marker": {
             "colorbar": {
              "outlinewidth": 0,
              "ticks": ""
             }
            },
            "type": "scatterternary"
           }
          ],
          "surface": [
           {
            "colorbar": {
             "outlinewidth": 0,
             "ticks": ""
            },
            "colorscale": [
             [
              0,
              "#0d0887"
             ],
             [
              0.1111111111111111,
              "#46039f"
             ],
             [
              0.2222222222222222,
              "#7201a8"
             ],
             [
              0.3333333333333333,
              "#9c179e"
             ],
             [
              0.4444444444444444,
              "#bd3786"
             ],
             [
              0.5555555555555556,
              "#d8576b"
             ],
             [
              0.6666666666666666,
              "#ed7953"
             ],
             [
              0.7777777777777778,
              "#fb9f3a"
             ],
             [
              0.8888888888888888,
              "#fdca26"
             ],
             [
              1,
              "#f0f921"
             ]
            ],
            "type": "surface"
           }
          ],
          "table": [
           {
            "cells": {
             "fill": {
              "color": "#EBF0F8"
             },
             "line": {
              "color": "white"
             }
            },
            "header": {
             "fill": {
              "color": "#C8D4E3"
             },
             "line": {
              "color": "white"
             }
            },
            "type": "table"
           }
          ]
         },
         "layout": {
          "annotationdefaults": {
           "arrowcolor": "#2a3f5f",
           "arrowhead": 0,
           "arrowwidth": 1
          },
          "autotypenumbers": "strict",
          "coloraxis": {
           "colorbar": {
            "outlinewidth": 0,
            "ticks": ""
           }
          },
          "colorscale": {
           "diverging": [
            [
             0,
             "#8e0152"
            ],
            [
             0.1,
             "#c51b7d"
            ],
            [
             0.2,
             "#de77ae"
            ],
            [
             0.3,
             "#f1b6da"
            ],
            [
             0.4,
             "#fde0ef"
            ],
            [
             0.5,
             "#f7f7f7"
            ],
            [
             0.6,
             "#e6f5d0"
            ],
            [
             0.7,
             "#b8e186"
            ],
            [
             0.8,
             "#7fbc41"
            ],
            [
             0.9,
             "#4d9221"
            ],
            [
             1,
             "#276419"
            ]
           ],
           "sequential": [
            [
             0,
             "#0d0887"
            ],
            [
             0.1111111111111111,
             "#46039f"
            ],
            [
             0.2222222222222222,
             "#7201a8"
            ],
            [
             0.3333333333333333,
             "#9c179e"
            ],
            [
             0.4444444444444444,
             "#bd3786"
            ],
            [
             0.5555555555555556,
             "#d8576b"
            ],
            [
             0.6666666666666666,
             "#ed7953"
            ],
            [
             0.7777777777777778,
             "#fb9f3a"
            ],
            [
             0.8888888888888888,
             "#fdca26"
            ],
            [
             1,
             "#f0f921"
            ]
           ],
           "sequentialminus": [
            [
             0,
             "#0d0887"
            ],
            [
             0.1111111111111111,
             "#46039f"
            ],
            [
             0.2222222222222222,
             "#7201a8"
            ],
            [
             0.3333333333333333,
             "#9c179e"
            ],
            [
             0.4444444444444444,
             "#bd3786"
            ],
            [
             0.5555555555555556,
             "#d8576b"
            ],
            [
             0.6666666666666666,
             "#ed7953"
            ],
            [
             0.7777777777777778,
             "#fb9f3a"
            ],
            [
             0.8888888888888888,
             "#fdca26"
            ],
            [
             1,
             "#f0f921"
            ]
           ]
          },
          "colorway": [
           "#636efa",
           "#EF553B",
           "#00cc96",
           "#ab63fa",
           "#FFA15A",
           "#19d3f3",
           "#FF6692",
           "#B6E880",
           "#FF97FF",
           "#FECB52"
          ],
          "font": {
           "color": "#2a3f5f"
          },
          "geo": {
           "bgcolor": "white",
           "lakecolor": "white",
           "landcolor": "#E5ECF6",
           "showlakes": true,
           "showland": true,
           "subunitcolor": "white"
          },
          "hoverlabel": {
           "align": "left"
          },
          "hovermode": "closest",
          "mapbox": {
           "style": "light"
          },
          "paper_bgcolor": "white",
          "plot_bgcolor": "#E5ECF6",
          "polar": {
           "angularaxis": {
            "gridcolor": "white",
            "linecolor": "white",
            "ticks": ""
           },
           "bgcolor": "#E5ECF6",
           "radialaxis": {
            "gridcolor": "white",
            "linecolor": "white",
            "ticks": ""
           }
          },
          "scene": {
           "xaxis": {
            "backgroundcolor": "#E5ECF6",
            "gridcolor": "white",
            "gridwidth": 2,
            "linecolor": "white",
            "showbackground": true,
            "ticks": "",
            "zerolinecolor": "white"
           },
           "yaxis": {
            "backgroundcolor": "#E5ECF6",
            "gridcolor": "white",
            "gridwidth": 2,
            "linecolor": "white",
            "showbackground": true,
            "ticks": "",
            "zerolinecolor": "white"
           },
           "zaxis": {
            "backgroundcolor": "#E5ECF6",
            "gridcolor": "white",
            "gridwidth": 2,
            "linecolor": "white",
            "showbackground": true,
            "ticks": "",
            "zerolinecolor": "white"
           }
          },
          "shapedefaults": {
           "line": {
            "color": "#2a3f5f"
           }
          },
          "ternary": {
           "aaxis": {
            "gridcolor": "white",
            "linecolor": "white",
            "ticks": ""
           },
           "baxis": {
            "gridcolor": "white",
            "linecolor": "white",
            "ticks": ""
           },
           "bgcolor": "#E5ECF6",
           "caxis": {
            "gridcolor": "white",
            "linecolor": "white",
            "ticks": ""
           }
          },
          "title": {
           "x": 0.05
          },
          "xaxis": {
           "automargin": true,
           "gridcolor": "white",
           "linecolor": "white",
           "ticks": "",
           "title": {
            "standoff": 15
           },
           "zerolinecolor": "white",
           "zerolinewidth": 2
          },
          "yaxis": {
           "automargin": true,
           "gridcolor": "white",
           "linecolor": "white",
           "ticks": "",
           "title": {
            "standoff": 15
           },
           "zerolinecolor": "white",
           "zerolinewidth": 2
          }
         }
        },
        "title": {
         "text": "Calinski-Harabasz"
        },
        "xaxis": {
         "anchor": "y",
         "domain": [
          0,
          1
         ],
         "title": {
          "text": "Number of clusters"
         }
        },
        "yaxis": {
         "anchor": "x",
         "domain": [
          0,
          1
         ],
         "title": {
          "text": "Calinski-Harabasz"
         }
        }
       }
      }
     },
     "metadata": {},
     "output_type": "display_data"
    },
    {
     "data": {
      "application/vnd.plotly.v1+json": {
       "config": {
        "plotlyServerURL": "https://plot.ly"
       },
       "data": [
        {
         "hovertemplate": "Number of clusters=%{x}<br>Davies-Bouldin=%{y}<extra></extra>",
         "legendgroup": "",
         "line": {
          "color": "#636efa",
          "dash": "solid"
         },
         "marker": {
          "symbol": "circle"
         },
         "mode": "lines",
         "name": "",
         "orientation": "v",
         "showlegend": false,
         "type": "scatter",
         "x": [
          2,
          2,
          2,
          3,
          4,
          4,
          5,
          6,
          8,
          9,
          11,
          13,
          16,
          19,
          22,
          26,
          32,
          38,
          45,
          53,
          64,
          76,
          90,
          107,
          128
         ],
         "xaxis": "x",
         "y": [
          3.4158008805462363,
          3.4158008805462363,
          3.4158008805462363,
          3.09656273349567,
          2.938940625478656,
          2.938940625478656,
          2.7109842505072996,
          2.631701800331544,
          2.2832486134847056,
          2.651620337854495,
          2.5290683721670795,
          2.3158639098306435,
          2.204930374628079,
          2.108438476304756,
          2.1310669748354356,
          1.846849968794057,
          1.9417281522348573,
          1.8863128099665643,
          2.007347576559276,
          1.9426799102190824,
          2.0264070616354384,
          2.070310939133078,
          2.10091185375862,
          2.132019317636016,
          2.179740224669285
         ],
         "yaxis": "y"
        }
       ],
       "layout": {
        "legend": {
         "tracegroupgap": 0
        },
        "template": {
         "data": {
          "bar": [
           {
            "error_x": {
             "color": "#2a3f5f"
            },
            "error_y": {
             "color": "#2a3f5f"
            },
            "marker": {
             "line": {
              "color": "#E5ECF6",
              "width": 0.5
             },
             "pattern": {
              "fillmode": "overlay",
              "size": 10,
              "solidity": 0.2
             }
            },
            "type": "bar"
           }
          ],
          "barpolar": [
           {
            "marker": {
             "line": {
              "color": "#E5ECF6",
              "width": 0.5
             },
             "pattern": {
              "fillmode": "overlay",
              "size": 10,
              "solidity": 0.2
             }
            },
            "type": "barpolar"
           }
          ],
          "carpet": [
           {
            "aaxis": {
             "endlinecolor": "#2a3f5f",
             "gridcolor": "white",
             "linecolor": "white",
             "minorgridcolor": "white",
             "startlinecolor": "#2a3f5f"
            },
            "baxis": {
             "endlinecolor": "#2a3f5f",
             "gridcolor": "white",
             "linecolor": "white",
             "minorgridcolor": "white",
             "startlinecolor": "#2a3f5f"
            },
            "type": "carpet"
           }
          ],
          "choropleth": [
           {
            "colorbar": {
             "outlinewidth": 0,
             "ticks": ""
            },
            "type": "choropleth"
           }
          ],
          "contour": [
           {
            "colorbar": {
             "outlinewidth": 0,
             "ticks": ""
            },
            "colorscale": [
             [
              0,
              "#0d0887"
             ],
             [
              0.1111111111111111,
              "#46039f"
             ],
             [
              0.2222222222222222,
              "#7201a8"
             ],
             [
              0.3333333333333333,
              "#9c179e"
             ],
             [
              0.4444444444444444,
              "#bd3786"
             ],
             [
              0.5555555555555556,
              "#d8576b"
             ],
             [
              0.6666666666666666,
              "#ed7953"
             ],
             [
              0.7777777777777778,
              "#fb9f3a"
             ],
             [
              0.8888888888888888,
              "#fdca26"
             ],
             [
              1,
              "#f0f921"
             ]
            ],
            "type": "contour"
           }
          ],
          "contourcarpet": [
           {
            "colorbar": {
             "outlinewidth": 0,
             "ticks": ""
            },
            "type": "contourcarpet"
           }
          ],
          "heatmap": [
           {
            "colorbar": {
             "outlinewidth": 0,
             "ticks": ""
            },
            "colorscale": [
             [
              0,
              "#0d0887"
             ],
             [
              0.1111111111111111,
              "#46039f"
             ],
             [
              0.2222222222222222,
              "#7201a8"
             ],
             [
              0.3333333333333333,
              "#9c179e"
             ],
             [
              0.4444444444444444,
              "#bd3786"
             ],
             [
              0.5555555555555556,
              "#d8576b"
             ],
             [
              0.6666666666666666,
              "#ed7953"
             ],
             [
              0.7777777777777778,
              "#fb9f3a"
             ],
             [
              0.8888888888888888,
              "#fdca26"
             ],
             [
              1,
              "#f0f921"
             ]
            ],
            "type": "heatmap"
           }
          ],
          "heatmapgl": [
           {
            "colorbar": {
             "outlinewidth": 0,
             "ticks": ""
            },
            "colorscale": [
             [
              0,
              "#0d0887"
             ],
             [
              0.1111111111111111,
              "#46039f"
             ],
             [
              0.2222222222222222,
              "#7201a8"
             ],
             [
              0.3333333333333333,
              "#9c179e"
             ],
             [
              0.4444444444444444,
              "#bd3786"
             ],
             [
              0.5555555555555556,
              "#d8576b"
             ],
             [
              0.6666666666666666,
              "#ed7953"
             ],
             [
              0.7777777777777778,
              "#fb9f3a"
             ],
             [
              0.8888888888888888,
              "#fdca26"
             ],
             [
              1,
              "#f0f921"
             ]
            ],
            "type": "heatmapgl"
           }
          ],
          "histogram": [
           {
            "marker": {
             "pattern": {
              "fillmode": "overlay",
              "size": 10,
              "solidity": 0.2
             }
            },
            "type": "histogram"
           }
          ],
          "histogram2d": [
           {
            "colorbar": {
             "outlinewidth": 0,
             "ticks": ""
            },
            "colorscale": [
             [
              0,
              "#0d0887"
             ],
             [
              0.1111111111111111,
              "#46039f"
             ],
             [
              0.2222222222222222,
              "#7201a8"
             ],
             [
              0.3333333333333333,
              "#9c179e"
             ],
             [
              0.4444444444444444,
              "#bd3786"
             ],
             [
              0.5555555555555556,
              "#d8576b"
             ],
             [
              0.6666666666666666,
              "#ed7953"
             ],
             [
              0.7777777777777778,
              "#fb9f3a"
             ],
             [
              0.8888888888888888,
              "#fdca26"
             ],
             [
              1,
              "#f0f921"
             ]
            ],
            "type": "histogram2d"
           }
          ],
          "histogram2dcontour": [
           {
            "colorbar": {
             "outlinewidth": 0,
             "ticks": ""
            },
            "colorscale": [
             [
              0,
              "#0d0887"
             ],
             [
              0.1111111111111111,
              "#46039f"
             ],
             [
              0.2222222222222222,
              "#7201a8"
             ],
             [
              0.3333333333333333,
              "#9c179e"
             ],
             [
              0.4444444444444444,
              "#bd3786"
             ],
             [
              0.5555555555555556,
              "#d8576b"
             ],
             [
              0.6666666666666666,
              "#ed7953"
             ],
             [
              0.7777777777777778,
              "#fb9f3a"
             ],
             [
              0.8888888888888888,
              "#fdca26"
             ],
             [
              1,
              "#f0f921"
             ]
            ],
            "type": "histogram2dcontour"
           }
          ],
          "mesh3d": [
           {
            "colorbar": {
             "outlinewidth": 0,
             "ticks": ""
            },
            "type": "mesh3d"
           }
          ],
          "parcoords": [
           {
            "line": {
             "colorbar": {
              "outlinewidth": 0,
              "ticks": ""
             }
            },
            "type": "parcoords"
           }
          ],
          "pie": [
           {
            "automargin": true,
            "type": "pie"
           }
          ],
          "scatter": [
           {
            "fillpattern": {
             "fillmode": "overlay",
             "size": 10,
             "solidity": 0.2
            },
            "type": "scatter"
           }
          ],
          "scatter3d": [
           {
            "line": {
             "colorbar": {
              "outlinewidth": 0,
              "ticks": ""
             }
            },
            "marker": {
             "colorbar": {
              "outlinewidth": 0,
              "ticks": ""
             }
            },
            "type": "scatter3d"
           }
          ],
          "scattercarpet": [
           {
            "marker": {
             "colorbar": {
              "outlinewidth": 0,
              "ticks": ""
             }
            },
            "type": "scattercarpet"
           }
          ],
          "scattergeo": [
           {
            "marker": {
             "colorbar": {
              "outlinewidth": 0,
              "ticks": ""
             }
            },
            "type": "scattergeo"
           }
          ],
          "scattergl": [
           {
            "marker": {
             "colorbar": {
              "outlinewidth": 0,
              "ticks": ""
             }
            },
            "type": "scattergl"
           }
          ],
          "scattermapbox": [
           {
            "marker": {
             "colorbar": {
              "outlinewidth": 0,
              "ticks": ""
             }
            },
            "type": "scattermapbox"
           }
          ],
          "scatterpolar": [
           {
            "marker": {
             "colorbar": {
              "outlinewidth": 0,
              "ticks": ""
             }
            },
            "type": "scatterpolar"
           }
          ],
          "scatterpolargl": [
           {
            "marker": {
             "colorbar": {
              "outlinewidth": 0,
              "ticks": ""
             }
            },
            "type": "scatterpolargl"
           }
          ],
          "scatterternary": [
           {
            "marker": {
             "colorbar": {
              "outlinewidth": 0,
              "ticks": ""
             }
            },
            "type": "scatterternary"
           }
          ],
          "surface": [
           {
            "colorbar": {
             "outlinewidth": 0,
             "ticks": ""
            },
            "colorscale": [
             [
              0,
              "#0d0887"
             ],
             [
              0.1111111111111111,
              "#46039f"
             ],
             [
              0.2222222222222222,
              "#7201a8"
             ],
             [
              0.3333333333333333,
              "#9c179e"
             ],
             [
              0.4444444444444444,
              "#bd3786"
             ],
             [
              0.5555555555555556,
              "#d8576b"
             ],
             [
              0.6666666666666666,
              "#ed7953"
             ],
             [
              0.7777777777777778,
              "#fb9f3a"
             ],
             [
              0.8888888888888888,
              "#fdca26"
             ],
             [
              1,
              "#f0f921"
             ]
            ],
            "type": "surface"
           }
          ],
          "table": [
           {
            "cells": {
             "fill": {
              "color": "#EBF0F8"
             },
             "line": {
              "color": "white"
             }
            },
            "header": {
             "fill": {
              "color": "#C8D4E3"
             },
             "line": {
              "color": "white"
             }
            },
            "type": "table"
           }
          ]
         },
         "layout": {
          "annotationdefaults": {
           "arrowcolor": "#2a3f5f",
           "arrowhead": 0,
           "arrowwidth": 1
          },
          "autotypenumbers": "strict",
          "coloraxis": {
           "colorbar": {
            "outlinewidth": 0,
            "ticks": ""
           }
          },
          "colorscale": {
           "diverging": [
            [
             0,
             "#8e0152"
            ],
            [
             0.1,
             "#c51b7d"
            ],
            [
             0.2,
             "#de77ae"
            ],
            [
             0.3,
             "#f1b6da"
            ],
            [
             0.4,
             "#fde0ef"
            ],
            [
             0.5,
             "#f7f7f7"
            ],
            [
             0.6,
             "#e6f5d0"
            ],
            [
             0.7,
             "#b8e186"
            ],
            [
             0.8,
             "#7fbc41"
            ],
            [
             0.9,
             "#4d9221"
            ],
            [
             1,
             "#276419"
            ]
           ],
           "sequential": [
            [
             0,
             "#0d0887"
            ],
            [
             0.1111111111111111,
             "#46039f"
            ],
            [
             0.2222222222222222,
             "#7201a8"
            ],
            [
             0.3333333333333333,
             "#9c179e"
            ],
            [
             0.4444444444444444,
             "#bd3786"
            ],
            [
             0.5555555555555556,
             "#d8576b"
            ],
            [
             0.6666666666666666,
             "#ed7953"
            ],
            [
             0.7777777777777778,
             "#fb9f3a"
            ],
            [
             0.8888888888888888,
             "#fdca26"
            ],
            [
             1,
             "#f0f921"
            ]
           ],
           "sequentialminus": [
            [
             0,
             "#0d0887"
            ],
            [
             0.1111111111111111,
             "#46039f"
            ],
            [
             0.2222222222222222,
             "#7201a8"
            ],
            [
             0.3333333333333333,
             "#9c179e"
            ],
            [
             0.4444444444444444,
             "#bd3786"
            ],
            [
             0.5555555555555556,
             "#d8576b"
            ],
            [
             0.6666666666666666,
             "#ed7953"
            ],
            [
             0.7777777777777778,
             "#fb9f3a"
            ],
            [
             0.8888888888888888,
             "#fdca26"
            ],
            [
             1,
             "#f0f921"
            ]
           ]
          },
          "colorway": [
           "#636efa",
           "#EF553B",
           "#00cc96",
           "#ab63fa",
           "#FFA15A",
           "#19d3f3",
           "#FF6692",
           "#B6E880",
           "#FF97FF",
           "#FECB52"
          ],
          "font": {
           "color": "#2a3f5f"
          },
          "geo": {
           "bgcolor": "white",
           "lakecolor": "white",
           "landcolor": "#E5ECF6",
           "showlakes": true,
           "showland": true,
           "subunitcolor": "white"
          },
          "hoverlabel": {
           "align": "left"
          },
          "hovermode": "closest",
          "mapbox": {
           "style": "light"
          },
          "paper_bgcolor": "white",
          "plot_bgcolor": "#E5ECF6",
          "polar": {
           "angularaxis": {
            "gridcolor": "white",
            "linecolor": "white",
            "ticks": ""
           },
           "bgcolor": "#E5ECF6",
           "radialaxis": {
            "gridcolor": "white",
            "linecolor": "white",
            "ticks": ""
           }
          },
          "scene": {
           "xaxis": {
            "backgroundcolor": "#E5ECF6",
            "gridcolor": "white",
            "gridwidth": 2,
            "linecolor": "white",
            "showbackground": true,
            "ticks": "",
            "zerolinecolor": "white"
           },
           "yaxis": {
            "backgroundcolor": "#E5ECF6",
            "gridcolor": "white",
            "gridwidth": 2,
            "linecolor": "white",
            "showbackground": true,
            "ticks": "",
            "zerolinecolor": "white"
           },
           "zaxis": {
            "backgroundcolor": "#E5ECF6",
            "gridcolor": "white",
            "gridwidth": 2,
            "linecolor": "white",
            "showbackground": true,
            "ticks": "",
            "zerolinecolor": "white"
           }
          },
          "shapedefaults": {
           "line": {
            "color": "#2a3f5f"
           }
          },
          "ternary": {
           "aaxis": {
            "gridcolor": "white",
            "linecolor": "white",
            "ticks": ""
           },
           "baxis": {
            "gridcolor": "white",
            "linecolor": "white",
            "ticks": ""
           },
           "bgcolor": "#E5ECF6",
           "caxis": {
            "gridcolor": "white",
            "linecolor": "white",
            "ticks": ""
           }
          },
          "title": {
           "x": 0.05
          },
          "xaxis": {
           "automargin": true,
           "gridcolor": "white",
           "linecolor": "white",
           "ticks": "",
           "title": {
            "standoff": 15
           },
           "zerolinecolor": "white",
           "zerolinewidth": 2
          },
          "yaxis": {
           "automargin": true,
           "gridcolor": "white",
           "linecolor": "white",
           "ticks": "",
           "title": {
            "standoff": 15
           },
           "zerolinecolor": "white",
           "zerolinewidth": 2
          }
         }
        },
        "title": {
         "text": "Davies-Bouldin"
        },
        "xaxis": {
         "anchor": "y",
         "domain": [
          0,
          1
         ],
         "title": {
          "text": "Number of clusters"
         }
        },
        "yaxis": {
         "anchor": "x",
         "domain": [
          0,
          1
         ],
         "title": {
          "text": "Davies-Bouldin"
         }
        }
       }
      }
     },
     "metadata": {},
     "output_type": "display_data"
    }
   ],
   "source": [
    "num_clusters = np.logspace(1, 7, num=25, base=2).astype(int)\n",
    "inertia = []\n",
    "calinski_harabasz = []\n",
    "davies_bouldin = []\n",
    "for k in tqdm(num_clusters):\n",
    "    kmeans = MiniBatchKMeans(n_clusters=k, random_state=42).fit(articles_pca)\n",
    "    inertia.append(kmeans.inertia_)\n",
    "    calinski_harabasz.append(calinski_harabasz_score(articles_pca, kmeans.labels_))\n",
    "    davies_bouldin.append(davies_bouldin_score(articles_pca, kmeans.labels_))\n",
    "\n",
    "\n",
    "fig = px.line(\n",
    "    x=num_clusters,\n",
    "    y=inertia,\n",
    "    title=\"Inertia\",\n",
    "    labels={\"x\": \"Number of clusters\", \"y\": \"Inertia\"},\n",
    ")\n",
    "fig.show()\n",
    "\n",
    "fig = px.line(\n",
    "    x=num_clusters,\n",
    "    y=calinski_harabasz,\n",
    "    title=\"Calinski-Harabasz\",\n",
    "    labels={\"x\": \"Number of clusters\", \"y\": \"Calinski-Harabasz\"},\n",
    ")\n",
    "fig.show()\n",
    "\n",
    "fig = px.line(\n",
    "    x=num_clusters,\n",
    "    y=davies_bouldin,\n",
    "    title=\"Davies-Bouldin\",\n",
    "    labels={\"x\": \"Number of clusters\", \"y\": \"Davies-Bouldin\"},\n",
    ")\n",
    "fig.show()"
   ]
  },
  {
   "cell_type": "code",
   "execution_count": 7,
   "metadata": {},
   "outputs": [
    {
     "data": {
      "text/plain": [
       "array([19,  5, 29, ..., 17,  8,  4], dtype=int32)"
      ]
     },
     "execution_count": 7,
     "metadata": {},
     "output_type": "execute_result"
    }
   ],
   "source": [
    "articles_clusters = MiniBatchKMeans(n_clusters=30, random_state=42).fit_predict(\n",
    "    articles_pca\n",
    ")\n",
    "\n",
    "articles_clusters"
   ]
  },
  {
   "cell_type": "code",
   "execution_count": 8,
   "metadata": {},
   "outputs": [
    {
     "name": "stderr",
     "output_type": "stream",
     "text": [
      "100%|██████████| 385/385 [01:16<00:00,  5.06it/s]\n"
     ]
    },
    {
     "data": {
      "text/html": [
       "<div>\n",
       "<style scoped>\n",
       "    .dataframe tbody tr th:only-of-type {\n",
       "        vertical-align: middle;\n",
       "    }\n",
       "\n",
       "    .dataframe tbody tr th {\n",
       "        vertical-align: top;\n",
       "    }\n",
       "\n",
       "    .dataframe thead th {\n",
       "        text-align: right;\n",
       "    }\n",
       "</style>\n",
       "<table border=\"1\" class=\"dataframe\">\n",
       "  <thead>\n",
       "    <tr style=\"text-align: right;\">\n",
       "      <th></th>\n",
       "      <th>user_id</th>\n",
       "      <th>session_id</th>\n",
       "      <th>session_start</th>\n",
       "      <th>session_size</th>\n",
       "      <th>click_article_id</th>\n",
       "      <th>click_timestamp</th>\n",
       "      <th>click_environment</th>\n",
       "      <th>click_deviceGroup</th>\n",
       "      <th>click_os</th>\n",
       "      <th>click_country</th>\n",
       "      <th>click_region</th>\n",
       "      <th>click_referrer_type</th>\n",
       "    </tr>\n",
       "  </thead>\n",
       "  <tbody>\n",
       "    <tr>\n",
       "      <th>count</th>\n",
       "      <td>2988181</td>\n",
       "      <td>2988181</td>\n",
       "      <td>2988181</td>\n",
       "      <td>2.988181e+06</td>\n",
       "      <td>2988181</td>\n",
       "      <td>2988181</td>\n",
       "      <td>2988181</td>\n",
       "      <td>2988181</td>\n",
       "      <td>2988181</td>\n",
       "      <td>2988181</td>\n",
       "      <td>2988181</td>\n",
       "      <td>2988181</td>\n",
       "    </tr>\n",
       "    <tr>\n",
       "      <th>unique</th>\n",
       "      <td>322897</td>\n",
       "      <td>1048594</td>\n",
       "      <td>NaN</td>\n",
       "      <td>NaN</td>\n",
       "      <td>46033</td>\n",
       "      <td>NaN</td>\n",
       "      <td>3</td>\n",
       "      <td>5</td>\n",
       "      <td>8</td>\n",
       "      <td>11</td>\n",
       "      <td>28</td>\n",
       "      <td>7</td>\n",
       "    </tr>\n",
       "    <tr>\n",
       "      <th>top</th>\n",
       "      <td>5890</td>\n",
       "      <td>1507563657895091</td>\n",
       "      <td>NaN</td>\n",
       "      <td>NaN</td>\n",
       "      <td>160974</td>\n",
       "      <td>NaN</td>\n",
       "      <td>4 - Web</td>\n",
       "      <td>1 - Tablet</td>\n",
       "      <td>17 - Firefox OS</td>\n",
       "      <td>1</td>\n",
       "      <td>25</td>\n",
       "      <td>2</td>\n",
       "    </tr>\n",
       "    <tr>\n",
       "      <th>freq</th>\n",
       "      <td>1232</td>\n",
       "      <td>124</td>\n",
       "      <td>NaN</td>\n",
       "      <td>NaN</td>\n",
       "      <td>37213</td>\n",
       "      <td>NaN</td>\n",
       "      <td>2904478</td>\n",
       "      <td>1823162</td>\n",
       "      <td>1738138</td>\n",
       "      <td>2852406</td>\n",
       "      <td>804985</td>\n",
       "      <td>1602601</td>\n",
       "    </tr>\n",
       "    <tr>\n",
       "      <th>mean</th>\n",
       "      <td>NaN</td>\n",
       "      <td>NaN</td>\n",
       "      <td>2017-10-08 16:17:08.013155328</td>\n",
       "      <td>3.901885e+00</td>\n",
       "      <td>NaN</td>\n",
       "      <td>2017-10-08 16:51:05.070374400</td>\n",
       "      <td>NaN</td>\n",
       "      <td>NaN</td>\n",
       "      <td>NaN</td>\n",
       "      <td>NaN</td>\n",
       "      <td>NaN</td>\n",
       "      <td>NaN</td>\n",
       "    </tr>\n",
       "    <tr>\n",
       "      <th>min</th>\n",
       "      <td>NaN</td>\n",
       "      <td>NaN</td>\n",
       "      <td>2017-10-01 04:37:03</td>\n",
       "      <td>2.000000e+00</td>\n",
       "      <td>NaN</td>\n",
       "      <td>2017-10-01 05:00:00</td>\n",
       "      <td>NaN</td>\n",
       "      <td>NaN</td>\n",
       "      <td>NaN</td>\n",
       "      <td>NaN</td>\n",
       "      <td>NaN</td>\n",
       "      <td>NaN</td>\n",
       "    </tr>\n",
       "    <tr>\n",
       "      <th>25%</th>\n",
       "      <td>NaN</td>\n",
       "      <td>NaN</td>\n",
       "      <td>2017-10-04 15:35:52</td>\n",
       "      <td>2.000000e+00</td>\n",
       "      <td>NaN</td>\n",
       "      <td>2017-10-04 16:20:52</td>\n",
       "      <td>NaN</td>\n",
       "      <td>NaN</td>\n",
       "      <td>NaN</td>\n",
       "      <td>NaN</td>\n",
       "      <td>NaN</td>\n",
       "      <td>NaN</td>\n",
       "    </tr>\n",
       "    <tr>\n",
       "      <th>50%</th>\n",
       "      <td>NaN</td>\n",
       "      <td>NaN</td>\n",
       "      <td>2017-10-08 22:09:00</td>\n",
       "      <td>3.000000e+00</td>\n",
       "      <td>NaN</td>\n",
       "      <td>2017-10-08 22:35:30</td>\n",
       "      <td>NaN</td>\n",
       "      <td>NaN</td>\n",
       "      <td>NaN</td>\n",
       "      <td>NaN</td>\n",
       "      <td>NaN</td>\n",
       "      <td>NaN</td>\n",
       "    </tr>\n",
       "    <tr>\n",
       "      <th>75%</th>\n",
       "      <td>NaN</td>\n",
       "      <td>NaN</td>\n",
       "      <td>2017-10-11 21:16:54</td>\n",
       "      <td>4.000000e+00</td>\n",
       "      <td>NaN</td>\n",
       "      <td>2017-10-11 21:43:24</td>\n",
       "      <td>NaN</td>\n",
       "      <td>NaN</td>\n",
       "      <td>NaN</td>\n",
       "      <td>NaN</td>\n",
       "      <td>NaN</td>\n",
       "      <td>NaN</td>\n",
       "    </tr>\n",
       "    <tr>\n",
       "      <th>max</th>\n",
       "      <td>NaN</td>\n",
       "      <td>NaN</td>\n",
       "      <td>2017-10-17 05:36:19</td>\n",
       "      <td>1.240000e+02</td>\n",
       "      <td>NaN</td>\n",
       "      <td>2017-11-13 21:04:14</td>\n",
       "      <td>NaN</td>\n",
       "      <td>NaN</td>\n",
       "      <td>NaN</td>\n",
       "      <td>NaN</td>\n",
       "      <td>NaN</td>\n",
       "      <td>NaN</td>\n",
       "    </tr>\n",
       "    <tr>\n",
       "      <th>std</th>\n",
       "      <td>NaN</td>\n",
       "      <td>NaN</td>\n",
       "      <td>NaN</td>\n",
       "      <td>3.929941e+00</td>\n",
       "      <td>NaN</td>\n",
       "      <td>NaN</td>\n",
       "      <td>NaN</td>\n",
       "      <td>NaN</td>\n",
       "      <td>NaN</td>\n",
       "      <td>NaN</td>\n",
       "      <td>NaN</td>\n",
       "      <td>NaN</td>\n",
       "    </tr>\n",
       "  </tbody>\n",
       "</table>\n",
       "</div>"
      ],
      "text/plain": [
       "        user_id        session_id                  session_start  \\\n",
       "count   2988181           2988181                        2988181   \n",
       "unique   322897           1048594                            NaN   \n",
       "top        5890  1507563657895091                            NaN   \n",
       "freq       1232               124                            NaN   \n",
       "mean        NaN               NaN  2017-10-08 16:17:08.013155328   \n",
       "min         NaN               NaN            2017-10-01 04:37:03   \n",
       "25%         NaN               NaN            2017-10-04 15:35:52   \n",
       "50%         NaN               NaN            2017-10-08 22:09:00   \n",
       "75%         NaN               NaN            2017-10-11 21:16:54   \n",
       "max         NaN               NaN            2017-10-17 05:36:19   \n",
       "std         NaN               NaN                            NaN   \n",
       "\n",
       "        session_size click_article_id                click_timestamp  \\\n",
       "count   2.988181e+06          2988181                        2988181   \n",
       "unique           NaN            46033                            NaN   \n",
       "top              NaN           160974                            NaN   \n",
       "freq             NaN            37213                            NaN   \n",
       "mean    3.901885e+00              NaN  2017-10-08 16:51:05.070374400   \n",
       "min     2.000000e+00              NaN            2017-10-01 05:00:00   \n",
       "25%     2.000000e+00              NaN            2017-10-04 16:20:52   \n",
       "50%     3.000000e+00              NaN            2017-10-08 22:35:30   \n",
       "75%     4.000000e+00              NaN            2017-10-11 21:43:24   \n",
       "max     1.240000e+02              NaN            2017-11-13 21:04:14   \n",
       "std     3.929941e+00              NaN                            NaN   \n",
       "\n",
       "       click_environment click_deviceGroup         click_os click_country  \\\n",
       "count            2988181           2988181          2988181       2988181   \n",
       "unique                 3                 5                8            11   \n",
       "top              4 - Web        1 - Tablet  17 - Firefox OS             1   \n",
       "freq             2904478           1823162          1738138       2852406   \n",
       "mean                 NaN               NaN              NaN           NaN   \n",
       "min                  NaN               NaN              NaN           NaN   \n",
       "25%                  NaN               NaN              NaN           NaN   \n",
       "50%                  NaN               NaN              NaN           NaN   \n",
       "75%                  NaN               NaN              NaN           NaN   \n",
       "max                  NaN               NaN              NaN           NaN   \n",
       "std                  NaN               NaN              NaN           NaN   \n",
       "\n",
       "       click_region click_referrer_type  \n",
       "count       2988181             2988181  \n",
       "unique           28                   7  \n",
       "top              25                   2  \n",
       "freq         804985             1602601  \n",
       "mean            NaN                 NaN  \n",
       "min             NaN                 NaN  \n",
       "25%             NaN                 NaN  \n",
       "50%             NaN                 NaN  \n",
       "75%             NaN                 NaN  \n",
       "max             NaN                 NaN  \n",
       "std             NaN                 NaN  "
      ]
     },
     "execution_count": 8,
     "metadata": {},
     "output_type": "execute_result"
    }
   ],
   "source": [
    "clicks = pd.concat(\n",
    "    [\n",
    "        pd.read_csv(\n",
    "            click_file_path,\n",
    "            parse_dates=[\"session_start\", \"click_timestamp\"],\n",
    "            date_parser=lambda x: datetime.fromtimestamp(int(int(x) / 1000)),\n",
    "            dtype={\n",
    "                \"user_id\": \"category\",\n",
    "                \"session_id\": \"category\",\n",
    "                \"session_size\": \"int\",\n",
    "                \"click_article_id\": \"category\",\n",
    "                \"click_environment\": \"category\",\n",
    "                \"click_deviceGroup\": \"category\",\n",
    "                \"click_os\": \"category\",\n",
    "                \"click_country\": \"category\",\n",
    "                \"click_region\": \"category\",\n",
    "                \"click_referrer_type\": \"category\",\n",
    "            },\n",
    "        ).replace(\n",
    "            {\n",
    "                \"click_environment\": {\n",
    "                    \"1\": \"1 - Facebook Instant Article\",\n",
    "                    \"2\": \"2 - Mobile App\",\n",
    "                    \"3\": \"3 - AMP (Accelerated Mobile Pages)\",\n",
    "                    \"4\": \"4 - Web\",\n",
    "                },\n",
    "                \"click_deviceGroup\": {\n",
    "                    \"1\": \"1 - Tablet\",\n",
    "                    \"2\": \"2 - TV\",\n",
    "                    \"3\": \"3 - Empty\",\n",
    "                    \"4\": \"4 - Mobile\",\n",
    "                    \"5\": \"5 - Desktop\",\n",
    "                },\n",
    "                \"click_os\": {\n",
    "                    \"1\": \"1 - Other\",\n",
    "                    \"2\": \"2 - iOS\",\n",
    "                    \"3\": \"3 - Android\",\n",
    "                    \"4\": \"4 - Windows Phone\",\n",
    "                    \"5\": \"5 - Windows Mobile\",\n",
    "                    \"6\": \"6 - Windows\",\n",
    "                    \"7\": \"7 - Mac OS X\",\n",
    "                    \"8\": \"8 - Mac OS\",\n",
    "                    \"9\": \"9 - Samsung\",\n",
    "                    \"10\": \"10 - FireHbbTV\",\n",
    "                    \"11\": \"11 - ATV OS X\",\n",
    "                    \"12\": \"12 - tvOS\",\n",
    "                    \"13\": \"13 - Chrome OS\",\n",
    "                    \"14\": \"14 - Debian\",\n",
    "                    \"15\": \"15 - Symbian OS\",\n",
    "                    \"16\": \"16 - BlackBerry OS\",\n",
    "                    \"17\": \"17 - Firefox OS\",\n",
    "                    \"18\": \"18 - Android\",\n",
    "                    \"19\": \"19 - Brew MP\",\n",
    "                    \"20\": \"20 - Chromecast\",\n",
    "                    \"21\": \"21 - webOS\",\n",
    "                    \"22\": \"22 - Gentoo\",\n",
    "                    \"23\": \"23 - Solaris\",\n",
    "                },\n",
    "            }\n",
    "        )\n",
    "        for click_file_path in tqdm(\n",
    "            sorted(Path(RAW_DATA_PATH, \"clicks/clicks\").glob(\"clicks_hour_*.csv\"))\n",
    "        )\n",
    "    ],\n",
    "    sort=False,\n",
    "    ignore_index=True,\n",
    "    verify_integrity=True,\n",
    ")\n",
    "\n",
    "clicks = data_helpers.reduce_dataframe_memory_usage(\n",
    "    clicks.astype(\n",
    "        {\n",
    "            \"session_start\": \"datetime64[ns]\",\n",
    "            \"session_size\": \"int\",\n",
    "            \"click_timestamp\": \"datetime64[ns]\",\n",
    "        }\n",
    "    )\n",
    ")\n",
    "\n",
    "clicks.describe(include=\"all\", datetime_is_numeric=True)"
   ]
  },
  {
   "cell_type": "code",
   "execution_count": 9,
   "metadata": {},
   "outputs": [
    {
     "data": {
      "text/html": [
       "<div>\n",
       "<style scoped>\n",
       "    .dataframe tbody tr th:only-of-type {\n",
       "        vertical-align: middle;\n",
       "    }\n",
       "\n",
       "    .dataframe tbody tr th {\n",
       "        vertical-align: top;\n",
       "    }\n",
       "\n",
       "    .dataframe thead th {\n",
       "        text-align: right;\n",
       "    }\n",
       "</style>\n",
       "<table border=\"1\" class=\"dataframe\">\n",
       "  <thead>\n",
       "    <tr style=\"text-align: right;\">\n",
       "      <th></th>\n",
       "      <th>COUNT_clicks</th>\n",
       "      <th>MEAN_click_timestamp</th>\n",
       "      <th>TOP_click_environment</th>\n",
       "      <th>TOP_click_deviceGroup</th>\n",
       "      <th>TOP_click_os</th>\n",
       "      <th>TOP_click_country</th>\n",
       "      <th>TOP_click_region</th>\n",
       "      <th>TOP_click_referrer_type</th>\n",
       "    </tr>\n",
       "  </thead>\n",
       "  <tbody>\n",
       "    <tr>\n",
       "      <th>count</th>\n",
       "      <td>322897.000000</td>\n",
       "      <td>322897</td>\n",
       "      <td>322897</td>\n",
       "      <td>322897</td>\n",
       "      <td>322897</td>\n",
       "      <td>322897</td>\n",
       "      <td>322897</td>\n",
       "      <td>322897</td>\n",
       "    </tr>\n",
       "    <tr>\n",
       "      <th>unique</th>\n",
       "      <td>NaN</td>\n",
       "      <td>NaN</td>\n",
       "      <td>3</td>\n",
       "      <td>4</td>\n",
       "      <td>8</td>\n",
       "      <td>11</td>\n",
       "      <td>28</td>\n",
       "      <td>7</td>\n",
       "    </tr>\n",
       "    <tr>\n",
       "      <th>top</th>\n",
       "      <td>NaN</td>\n",
       "      <td>NaN</td>\n",
       "      <td>4 - Web</td>\n",
       "      <td>1 - Tablet</td>\n",
       "      <td>17 - Firefox OS</td>\n",
       "      <td>1</td>\n",
       "      <td>25</td>\n",
       "      <td>2</td>\n",
       "    </tr>\n",
       "    <tr>\n",
       "      <th>freq</th>\n",
       "      <td>NaN</td>\n",
       "      <td>NaN</td>\n",
       "      <td>313195</td>\n",
       "      <td>178033</td>\n",
       "      <td>168975</td>\n",
       "      <td>309375</td>\n",
       "      <td>88147</td>\n",
       "      <td>199292</td>\n",
       "    </tr>\n",
       "    <tr>\n",
       "      <th>mean</th>\n",
       "      <td>9.254285</td>\n",
       "      <td>2017-10-08 14:16:32.833416192</td>\n",
       "      <td>NaN</td>\n",
       "      <td>NaN</td>\n",
       "      <td>NaN</td>\n",
       "      <td>NaN</td>\n",
       "      <td>NaN</td>\n",
       "      <td>NaN</td>\n",
       "    </tr>\n",
       "    <tr>\n",
       "      <th>min</th>\n",
       "      <td>2.000000</td>\n",
       "      <td>2017-10-01 05:00:16</td>\n",
       "      <td>NaN</td>\n",
       "      <td>NaN</td>\n",
       "      <td>NaN</td>\n",
       "      <td>NaN</td>\n",
       "      <td>NaN</td>\n",
       "      <td>NaN</td>\n",
       "    </tr>\n",
       "    <tr>\n",
       "      <th>25%</th>\n",
       "      <td>2.000000</td>\n",
       "      <td>2017-10-06 00:11:28</td>\n",
       "      <td>NaN</td>\n",
       "      <td>NaN</td>\n",
       "      <td>NaN</td>\n",
       "      <td>NaN</td>\n",
       "      <td>NaN</td>\n",
       "      <td>NaN</td>\n",
       "    </tr>\n",
       "    <tr>\n",
       "      <th>50%</th>\n",
       "      <td>4.000000</td>\n",
       "      <td>2017-10-08 13:04:36.333333248</td>\n",
       "      <td>NaN</td>\n",
       "      <td>NaN</td>\n",
       "      <td>NaN</td>\n",
       "      <td>NaN</td>\n",
       "      <td>NaN</td>\n",
       "      <td>NaN</td>\n",
       "    </tr>\n",
       "    <tr>\n",
       "      <th>75%</th>\n",
       "      <td>10.000000</td>\n",
       "      <td>2017-10-10 21:33:16.037037056</td>\n",
       "      <td>NaN</td>\n",
       "      <td>NaN</td>\n",
       "      <td>NaN</td>\n",
       "      <td>NaN</td>\n",
       "      <td>NaN</td>\n",
       "      <td>NaN</td>\n",
       "    </tr>\n",
       "    <tr>\n",
       "      <th>max</th>\n",
       "      <td>1232.000000</td>\n",
       "      <td>2017-10-31 19:35:18.750000128</td>\n",
       "      <td>NaN</td>\n",
       "      <td>NaN</td>\n",
       "      <td>NaN</td>\n",
       "      <td>NaN</td>\n",
       "      <td>NaN</td>\n",
       "      <td>NaN</td>\n",
       "    </tr>\n",
       "    <tr>\n",
       "      <th>std</th>\n",
       "      <td>14.946358</td>\n",
       "      <td>NaN</td>\n",
       "      <td>NaN</td>\n",
       "      <td>NaN</td>\n",
       "      <td>NaN</td>\n",
       "      <td>NaN</td>\n",
       "      <td>NaN</td>\n",
       "      <td>NaN</td>\n",
       "    </tr>\n",
       "  </tbody>\n",
       "</table>\n",
       "</div>"
      ],
      "text/plain": [
       "         COUNT_clicks           MEAN_click_timestamp TOP_click_environment  \\\n",
       "count   322897.000000                         322897                322897   \n",
       "unique            NaN                            NaN                     3   \n",
       "top               NaN                            NaN               4 - Web   \n",
       "freq              NaN                            NaN                313195   \n",
       "mean         9.254285  2017-10-08 14:16:32.833416192                   NaN   \n",
       "min          2.000000            2017-10-01 05:00:16                   NaN   \n",
       "25%          2.000000            2017-10-06 00:11:28                   NaN   \n",
       "50%          4.000000  2017-10-08 13:04:36.333333248                   NaN   \n",
       "75%         10.000000  2017-10-10 21:33:16.037037056                   NaN   \n",
       "max       1232.000000  2017-10-31 19:35:18.750000128                   NaN   \n",
       "std         14.946358                            NaN                   NaN   \n",
       "\n",
       "       TOP_click_deviceGroup     TOP_click_os TOP_click_country  \\\n",
       "count                 322897           322897            322897   \n",
       "unique                     4                8                11   \n",
       "top               1 - Tablet  17 - Firefox OS                 1   \n",
       "freq                  178033           168975            309375   \n",
       "mean                     NaN              NaN               NaN   \n",
       "min                      NaN              NaN               NaN   \n",
       "25%                      NaN              NaN               NaN   \n",
       "50%                      NaN              NaN               NaN   \n",
       "75%                      NaN              NaN               NaN   \n",
       "max                      NaN              NaN               NaN   \n",
       "std                      NaN              NaN               NaN   \n",
       "\n",
       "       TOP_click_region TOP_click_referrer_type  \n",
       "count            322897                  322897  \n",
       "unique               28                       7  \n",
       "top                  25                       2  \n",
       "freq              88147                  199292  \n",
       "mean                NaN                     NaN  \n",
       "min                 NaN                     NaN  \n",
       "25%                 NaN                     NaN  \n",
       "50%                 NaN                     NaN  \n",
       "75%                 NaN                     NaN  \n",
       "max                 NaN                     NaN  \n",
       "std                 NaN                     NaN  "
      ]
     },
     "execution_count": 9,
     "metadata": {},
     "output_type": "execute_result"
    }
   ],
   "source": [
    "if Path(DATA_PATH, \"processed/users.csv\").exists():\n",
    "    users = pd.read_csv(\n",
    "        Path(DATA_PATH, \"processed/users.csv\"),\n",
    "        index_col=\"user_id\",\n",
    "        parse_dates=[\"MEAN_click_timestamp\"],\n",
    "        dtype={\n",
    "            \"user_id\": \"category\",\n",
    "            \"COUNT_clicks\": \"int\",\n",
    "            \"TOP_click_environment\": \"category\",\n",
    "            \"TOP_click_deviceGroup\": \"category\",\n",
    "            \"TOP_click_os\": \"category\",\n",
    "            \"TOP_click_country\": \"category\",\n",
    "            \"TOP_click_region\": \"category\",\n",
    "            \"TOP_click_referrer_type\": \"category\",\n",
    "        },\n",
    "    )\n",
    "else:\n",
    "    users = (\n",
    "        clicks.reset_index()\n",
    "        .groupby([\"user_id\"])\n",
    "        .agg(\n",
    "            COUNT_clicks=(\"index\", \"count\"),\n",
    "            MEAN_click_timestamp=(\"click_timestamp\", \"mean\"),\n",
    "            TOP_click_environment=(\"click_environment\", lambda x: x.mode()[0]),\n",
    "            TOP_click_deviceGroup=(\"click_deviceGroup\", lambda x: x.mode()[0]),\n",
    "            TOP_click_os=(\"click_os\", lambda x: x.mode()[0]),\n",
    "            TOP_click_country=(\"click_country\", lambda x: x.mode()[0]),\n",
    "            TOP_click_region=(\"click_region\", lambda x: x.mode()[0]),\n",
    "            TOP_click_referrer_type=(\"click_referrer_type\", lambda x: x.mode()[0]),\n",
    "        )\n",
    "    )\n",
    "    users.to_csv(Path(DATA_PATH, \"processed/users.csv\"))\n",
    "\n",
    "users = data_helpers.reduce_dataframe_memory_usage(\n",
    "    users.astype(\n",
    "        {\n",
    "            \"COUNT_clicks\": \"int\",\n",
    "            \"MEAN_click_timestamp\": \"datetime64[ns]\",\n",
    "        }\n",
    "    )\n",
    ")\n",
    "\n",
    "users.describe(include=\"all\", datetime_is_numeric=True)"
   ]
  },
  {
   "cell_type": "code",
   "execution_count": 10,
   "metadata": {},
   "outputs": [
    {
     "data": {
      "application/vnd.plotly.v1+json": {
       "config": {
        "plotlyServerURL": "https://plot.ly"
       },
       "data": [
        {
         "hovertemplate": "Number of components=%{x}<br>Explained variance ratio=%{y}<extra></extra>",
         "legendgroup": "",
         "line": {
          "color": "#636efa",
          "dash": "solid"
         },
         "marker": {
          "symbol": "circle"
         },
         "mode": "lines",
         "name": "",
         "orientation": "v",
         "showlegend": false,
         "type": "scatter",
         "x": [
          1,
          2,
          3,
          4,
          5,
          6,
          7,
          8,
          9,
          10,
          11,
          12,
          13,
          14,
          15,
          16,
          17,
          18,
          19,
          20,
          21,
          22,
          23,
          24,
          25,
          26,
          27,
          28,
          29,
          30,
          31,
          32,
          33,
          34,
          35,
          36,
          37,
          38,
          39,
          40,
          41,
          42,
          43,
          44,
          45,
          46,
          47,
          48,
          49,
          50
         ],
         "xaxis": "x",
         "y": [
          0.060999139654249926,
          0.04777629201705431,
          0.0353829079538696,
          0.02987345378030724,
          0.021455828878616603,
          0.020617396791839215,
          0.018819459105180753,
          0.018416978049695776,
          0.018342021297841255,
          0.018009191745206075,
          0.01739840575285285,
          0.017053096552575128,
          0.016773066556945614,
          0.016638441209361206,
          0.016608628678633656,
          0.016340862475757566,
          0.01631028349402236,
          0.01625309122900755,
          0.016231333590584558,
          0.016211195559596613,
          0.01617619883700487,
          0.016128885482135338,
          0.016121287655687995,
          0.016083097065871455,
          0.01606987789858252,
          0.016056428989480113,
          0.016047598667774852,
          0.016016468385497976,
          0.016006738981890988,
          0.015998579835602687,
          0.015994716269313793,
          0.015979398696753886,
          0.015977248096021426,
          0.015962475901532405,
          0.015952205754964612,
          0.015938477786229584,
          0.015929041177214644,
          0.015913671295666752,
          0.015905207997999125,
          0.01590291288739277,
          0.015887588301380654,
          0.015873887830577037,
          0.015859761889046947,
          0.01584398662709921,
          0.015792113685113147,
          0.01576385801731615,
          0.015739794707471073,
          0.015679203332187912,
          0.01552510743819598,
          0.015388637441683981
         ],
         "yaxis": "y"
        }
       ],
       "layout": {
        "legend": {
         "tracegroupgap": 0
        },
        "template": {
         "data": {
          "bar": [
           {
            "error_x": {
             "color": "#2a3f5f"
            },
            "error_y": {
             "color": "#2a3f5f"
            },
            "marker": {
             "line": {
              "color": "#E5ECF6",
              "width": 0.5
             },
             "pattern": {
              "fillmode": "overlay",
              "size": 10,
              "solidity": 0.2
             }
            },
            "type": "bar"
           }
          ],
          "barpolar": [
           {
            "marker": {
             "line": {
              "color": "#E5ECF6",
              "width": 0.5
             },
             "pattern": {
              "fillmode": "overlay",
              "size": 10,
              "solidity": 0.2
             }
            },
            "type": "barpolar"
           }
          ],
          "carpet": [
           {
            "aaxis": {
             "endlinecolor": "#2a3f5f",
             "gridcolor": "white",
             "linecolor": "white",
             "minorgridcolor": "white",
             "startlinecolor": "#2a3f5f"
            },
            "baxis": {
             "endlinecolor": "#2a3f5f",
             "gridcolor": "white",
             "linecolor": "white",
             "minorgridcolor": "white",
             "startlinecolor": "#2a3f5f"
            },
            "type": "carpet"
           }
          ],
          "choropleth": [
           {
            "colorbar": {
             "outlinewidth": 0,
             "ticks": ""
            },
            "type": "choropleth"
           }
          ],
          "contour": [
           {
            "colorbar": {
             "outlinewidth": 0,
             "ticks": ""
            },
            "colorscale": [
             [
              0,
              "#0d0887"
             ],
             [
              0.1111111111111111,
              "#46039f"
             ],
             [
              0.2222222222222222,
              "#7201a8"
             ],
             [
              0.3333333333333333,
              "#9c179e"
             ],
             [
              0.4444444444444444,
              "#bd3786"
             ],
             [
              0.5555555555555556,
              "#d8576b"
             ],
             [
              0.6666666666666666,
              "#ed7953"
             ],
             [
              0.7777777777777778,
              "#fb9f3a"
             ],
             [
              0.8888888888888888,
              "#fdca26"
             ],
             [
              1,
              "#f0f921"
             ]
            ],
            "type": "contour"
           }
          ],
          "contourcarpet": [
           {
            "colorbar": {
             "outlinewidth": 0,
             "ticks": ""
            },
            "type": "contourcarpet"
           }
          ],
          "heatmap": [
           {
            "colorbar": {
             "outlinewidth": 0,
             "ticks": ""
            },
            "colorscale": [
             [
              0,
              "#0d0887"
             ],
             [
              0.1111111111111111,
              "#46039f"
             ],
             [
              0.2222222222222222,
              "#7201a8"
             ],
             [
              0.3333333333333333,
              "#9c179e"
             ],
             [
              0.4444444444444444,
              "#bd3786"
             ],
             [
              0.5555555555555556,
              "#d8576b"
             ],
             [
              0.6666666666666666,
              "#ed7953"
             ],
             [
              0.7777777777777778,
              "#fb9f3a"
             ],
             [
              0.8888888888888888,
              "#fdca26"
             ],
             [
              1,
              "#f0f921"
             ]
            ],
            "type": "heatmap"
           }
          ],
          "heatmapgl": [
           {
            "colorbar": {
             "outlinewidth": 0,
             "ticks": ""
            },
            "colorscale": [
             [
              0,
              "#0d0887"
             ],
             [
              0.1111111111111111,
              "#46039f"
             ],
             [
              0.2222222222222222,
              "#7201a8"
             ],
             [
              0.3333333333333333,
              "#9c179e"
             ],
             [
              0.4444444444444444,
              "#bd3786"
             ],
             [
              0.5555555555555556,
              "#d8576b"
             ],
             [
              0.6666666666666666,
              "#ed7953"
             ],
             [
              0.7777777777777778,
              "#fb9f3a"
             ],
             [
              0.8888888888888888,
              "#fdca26"
             ],
             [
              1,
              "#f0f921"
             ]
            ],
            "type": "heatmapgl"
           }
          ],
          "histogram": [
           {
            "marker": {
             "pattern": {
              "fillmode": "overlay",
              "size": 10,
              "solidity": 0.2
             }
            },
            "type": "histogram"
           }
          ],
          "histogram2d": [
           {
            "colorbar": {
             "outlinewidth": 0,
             "ticks": ""
            },
            "colorscale": [
             [
              0,
              "#0d0887"
             ],
             [
              0.1111111111111111,
              "#46039f"
             ],
             [
              0.2222222222222222,
              "#7201a8"
             ],
             [
              0.3333333333333333,
              "#9c179e"
             ],
             [
              0.4444444444444444,
              "#bd3786"
             ],
             [
              0.5555555555555556,
              "#d8576b"
             ],
             [
              0.6666666666666666,
              "#ed7953"
             ],
             [
              0.7777777777777778,
              "#fb9f3a"
             ],
             [
              0.8888888888888888,
              "#fdca26"
             ],
             [
              1,
              "#f0f921"
             ]
            ],
            "type": "histogram2d"
           }
          ],
          "histogram2dcontour": [
           {
            "colorbar": {
             "outlinewidth": 0,
             "ticks": ""
            },
            "colorscale": [
             [
              0,
              "#0d0887"
             ],
             [
              0.1111111111111111,
              "#46039f"
             ],
             [
              0.2222222222222222,
              "#7201a8"
             ],
             [
              0.3333333333333333,
              "#9c179e"
             ],
             [
              0.4444444444444444,
              "#bd3786"
             ],
             [
              0.5555555555555556,
              "#d8576b"
             ],
             [
              0.6666666666666666,
              "#ed7953"
             ],
             [
              0.7777777777777778,
              "#fb9f3a"
             ],
             [
              0.8888888888888888,
              "#fdca26"
             ],
             [
              1,
              "#f0f921"
             ]
            ],
            "type": "histogram2dcontour"
           }
          ],
          "mesh3d": [
           {
            "colorbar": {
             "outlinewidth": 0,
             "ticks": ""
            },
            "type": "mesh3d"
           }
          ],
          "parcoords": [
           {
            "line": {
             "colorbar": {
              "outlinewidth": 0,
              "ticks": ""
             }
            },
            "type": "parcoords"
           }
          ],
          "pie": [
           {
            "automargin": true,
            "type": "pie"
           }
          ],
          "scatter": [
           {
            "fillpattern": {
             "fillmode": "overlay",
             "size": 10,
             "solidity": 0.2
            },
            "type": "scatter"
           }
          ],
          "scatter3d": [
           {
            "line": {
             "colorbar": {
              "outlinewidth": 0,
              "ticks": ""
             }
            },
            "marker": {
             "colorbar": {
              "outlinewidth": 0,
              "ticks": ""
             }
            },
            "type": "scatter3d"
           }
          ],
          "scattercarpet": [
           {
            "marker": {
             "colorbar": {
              "outlinewidth": 0,
              "ticks": ""
             }
            },
            "type": "scattercarpet"
           }
          ],
          "scattergeo": [
           {
            "marker": {
             "colorbar": {
              "outlinewidth": 0,
              "ticks": ""
             }
            },
            "type": "scattergeo"
           }
          ],
          "scattergl": [
           {
            "marker": {
             "colorbar": {
              "outlinewidth": 0,
              "ticks": ""
             }
            },
            "type": "scattergl"
           }
          ],
          "scattermapbox": [
           {
            "marker": {
             "colorbar": {
              "outlinewidth": 0,
              "ticks": ""
             }
            },
            "type": "scattermapbox"
           }
          ],
          "scatterpolar": [
           {
            "marker": {
             "colorbar": {
              "outlinewidth": 0,
              "ticks": ""
             }
            },
            "type": "scatterpolar"
           }
          ],
          "scatterpolargl": [
           {
            "marker": {
             "colorbar": {
              "outlinewidth": 0,
              "ticks": ""
             }
            },
            "type": "scatterpolargl"
           }
          ],
          "scatterternary": [
           {
            "marker": {
             "colorbar": {
              "outlinewidth": 0,
              "ticks": ""
             }
            },
            "type": "scatterternary"
           }
          ],
          "surface": [
           {
            "colorbar": {
             "outlinewidth": 0,
             "ticks": ""
            },
            "colorscale": [
             [
              0,
              "#0d0887"
             ],
             [
              0.1111111111111111,
              "#46039f"
             ],
             [
              0.2222222222222222,
              "#7201a8"
             ],
             [
              0.3333333333333333,
              "#9c179e"
             ],
             [
              0.4444444444444444,
              "#bd3786"
             ],
             [
              0.5555555555555556,
              "#d8576b"
             ],
             [
              0.6666666666666666,
              "#ed7953"
             ],
             [
              0.7777777777777778,
              "#fb9f3a"
             ],
             [
              0.8888888888888888,
              "#fdca26"
             ],
             [
              1,
              "#f0f921"
             ]
            ],
            "type": "surface"
           }
          ],
          "table": [
           {
            "cells": {
             "fill": {
              "color": "#EBF0F8"
             },
             "line": {
              "color": "white"
             }
            },
            "header": {
             "fill": {
              "color": "#C8D4E3"
             },
             "line": {
              "color": "white"
             }
            },
            "type": "table"
           }
          ]
         },
         "layout": {
          "annotationdefaults": {
           "arrowcolor": "#2a3f5f",
           "arrowhead": 0,
           "arrowwidth": 1
          },
          "autotypenumbers": "strict",
          "coloraxis": {
           "colorbar": {
            "outlinewidth": 0,
            "ticks": ""
           }
          },
          "colorscale": {
           "diverging": [
            [
             0,
             "#8e0152"
            ],
            [
             0.1,
             "#c51b7d"
            ],
            [
             0.2,
             "#de77ae"
            ],
            [
             0.3,
             "#f1b6da"
            ],
            [
             0.4,
             "#fde0ef"
            ],
            [
             0.5,
             "#f7f7f7"
            ],
            [
             0.6,
             "#e6f5d0"
            ],
            [
             0.7,
             "#b8e186"
            ],
            [
             0.8,
             "#7fbc41"
            ],
            [
             0.9,
             "#4d9221"
            ],
            [
             1,
             "#276419"
            ]
           ],
           "sequential": [
            [
             0,
             "#0d0887"
            ],
            [
             0.1111111111111111,
             "#46039f"
            ],
            [
             0.2222222222222222,
             "#7201a8"
            ],
            [
             0.3333333333333333,
             "#9c179e"
            ],
            [
             0.4444444444444444,
             "#bd3786"
            ],
            [
             0.5555555555555556,
             "#d8576b"
            ],
            [
             0.6666666666666666,
             "#ed7953"
            ],
            [
             0.7777777777777778,
             "#fb9f3a"
            ],
            [
             0.8888888888888888,
             "#fdca26"
            ],
            [
             1,
             "#f0f921"
            ]
           ],
           "sequentialminus": [
            [
             0,
             "#0d0887"
            ],
            [
             0.1111111111111111,
             "#46039f"
            ],
            [
             0.2222222222222222,
             "#7201a8"
            ],
            [
             0.3333333333333333,
             "#9c179e"
            ],
            [
             0.4444444444444444,
             "#bd3786"
            ],
            [
             0.5555555555555556,
             "#d8576b"
            ],
            [
             0.6666666666666666,
             "#ed7953"
            ],
            [
             0.7777777777777778,
             "#fb9f3a"
            ],
            [
             0.8888888888888888,
             "#fdca26"
            ],
            [
             1,
             "#f0f921"
            ]
           ]
          },
          "colorway": [
           "#636efa",
           "#EF553B",
           "#00cc96",
           "#ab63fa",
           "#FFA15A",
           "#19d3f3",
           "#FF6692",
           "#B6E880",
           "#FF97FF",
           "#FECB52"
          ],
          "font": {
           "color": "#2a3f5f"
          },
          "geo": {
           "bgcolor": "white",
           "lakecolor": "white",
           "landcolor": "#E5ECF6",
           "showlakes": true,
           "showland": true,
           "subunitcolor": "white"
          },
          "hoverlabel": {
           "align": "left"
          },
          "hovermode": "closest",
          "mapbox": {
           "style": "light"
          },
          "paper_bgcolor": "white",
          "plot_bgcolor": "#E5ECF6",
          "polar": {
           "angularaxis": {
            "gridcolor": "white",
            "linecolor": "white",
            "ticks": ""
           },
           "bgcolor": "#E5ECF6",
           "radialaxis": {
            "gridcolor": "white",
            "linecolor": "white",
            "ticks": ""
           }
          },
          "scene": {
           "xaxis": {
            "backgroundcolor": "#E5ECF6",
            "gridcolor": "white",
            "gridwidth": 2,
            "linecolor": "white",
            "showbackground": true,
            "ticks": "",
            "zerolinecolor": "white"
           },
           "yaxis": {
            "backgroundcolor": "#E5ECF6",
            "gridcolor": "white",
            "gridwidth": 2,
            "linecolor": "white",
            "showbackground": true,
            "ticks": "",
            "zerolinecolor": "white"
           },
           "zaxis": {
            "backgroundcolor": "#E5ECF6",
            "gridcolor": "white",
            "gridwidth": 2,
            "linecolor": "white",
            "showbackground": true,
            "ticks": "",
            "zerolinecolor": "white"
           }
          },
          "shapedefaults": {
           "line": {
            "color": "#2a3f5f"
           }
          },
          "ternary": {
           "aaxis": {
            "gridcolor": "white",
            "linecolor": "white",
            "ticks": ""
           },
           "baxis": {
            "gridcolor": "white",
            "linecolor": "white",
            "ticks": ""
           },
           "bgcolor": "#E5ECF6",
           "caxis": {
            "gridcolor": "white",
            "linecolor": "white",
            "ticks": ""
           }
          },
          "title": {
           "x": 0.05
          },
          "xaxis": {
           "automargin": true,
           "gridcolor": "white",
           "linecolor": "white",
           "ticks": "",
           "title": {
            "standoff": 15
           },
           "zerolinecolor": "white",
           "zerolinewidth": 2
          },
          "yaxis": {
           "automargin": true,
           "gridcolor": "white",
           "linecolor": "white",
           "ticks": "",
           "title": {
            "standoff": 15
           },
           "zerolinecolor": "white",
           "zerolinewidth": 2
          }
         }
        },
        "title": {
         "text": "PCA - Explained variance ratio"
        },
        "xaxis": {
         "anchor": "y",
         "domain": [
          0,
          1
         ],
         "title": {
          "text": "Number of components"
         }
        },
        "yaxis": {
         "anchor": "x",
         "domain": [
          0,
          1
         ],
         "title": {
          "text": "Explained variance ratio"
         }
        }
       }
      }
     },
     "metadata": {},
     "output_type": "display_data"
    }
   ],
   "source": [
    "users_dummy = pd.get_dummies(users.astype({\"MEAN_click_timestamp\": \"int\"}))\n",
    "users_std = StandardScaler().fit_transform(users_dummy)\n",
    "\n",
    "pca = PCA(n_components=50, random_state=42)\n",
    "pca.fit(users_std)\n",
    "\n",
    "\n",
    "px.line(\n",
    "    x=range(1, len(pca.explained_variance_ratio_) + 1),\n",
    "    y=pca.explained_variance_ratio_,\n",
    "    title=\"PCA - Explained variance ratio\",\n",
    "    labels={\"x\": \"Number of components\", \"y\": \"Explained variance ratio\"},\n",
    ")"
   ]
  },
  {
   "cell_type": "code",
   "execution_count": 11,
   "metadata": {},
   "outputs": [
    {
     "data": {
      "text/html": [
       "<div>\n",
       "<style scoped>\n",
       "    .dataframe tbody tr th:only-of-type {\n",
       "        vertical-align: middle;\n",
       "    }\n",
       "\n",
       "    .dataframe tbody tr th {\n",
       "        vertical-align: top;\n",
       "    }\n",
       "\n",
       "    .dataframe thead th {\n",
       "        text-align: right;\n",
       "    }\n",
       "</style>\n",
       "<table border=\"1\" class=\"dataframe\">\n",
       "  <thead>\n",
       "    <tr style=\"text-align: right;\">\n",
       "      <th></th>\n",
       "      <th>pca_0</th>\n",
       "      <th>pca_1</th>\n",
       "      <th>pca_2</th>\n",
       "      <th>pca_3</th>\n",
       "      <th>pca_4</th>\n",
       "      <th>pca_5</th>\n",
       "      <th>pca_6</th>\n",
       "      <th>pca_7</th>\n",
       "      <th>pca_8</th>\n",
       "      <th>pca_9</th>\n",
       "    </tr>\n",
       "    <tr>\n",
       "      <th>user_id</th>\n",
       "      <th></th>\n",
       "      <th></th>\n",
       "      <th></th>\n",
       "      <th></th>\n",
       "      <th></th>\n",
       "      <th></th>\n",
       "      <th></th>\n",
       "      <th></th>\n",
       "      <th></th>\n",
       "      <th></th>\n",
       "    </tr>\n",
       "  </thead>\n",
       "  <tbody>\n",
       "    <tr>\n",
       "      <th>0</th>\n",
       "      <td>1.699164</td>\n",
       "      <td>-0.397796</td>\n",
       "      <td>-0.446491</td>\n",
       "      <td>-1.127296</td>\n",
       "      <td>0.663800</td>\n",
       "      <td>0.483216</td>\n",
       "      <td>0.715028</td>\n",
       "      <td>0.924418</td>\n",
       "      <td>-0.468858</td>\n",
       "      <td>-1.221070</td>\n",
       "    </tr>\n",
       "    <tr>\n",
       "      <th>1</th>\n",
       "      <td>-1.655270</td>\n",
       "      <td>0.228214</td>\n",
       "      <td>0.374687</td>\n",
       "      <td>-1.113772</td>\n",
       "      <td>0.300500</td>\n",
       "      <td>-0.940414</td>\n",
       "      <td>-0.742250</td>\n",
       "      <td>0.540289</td>\n",
       "      <td>0.539775</td>\n",
       "      <td>-0.487475</td>\n",
       "    </tr>\n",
       "    <tr>\n",
       "      <th>10</th>\n",
       "      <td>-2.056614</td>\n",
       "      <td>0.091305</td>\n",
       "      <td>-0.038654</td>\n",
       "      <td>2.007981</td>\n",
       "      <td>-0.688700</td>\n",
       "      <td>-0.454136</td>\n",
       "      <td>0.822261</td>\n",
       "      <td>-2.200997</td>\n",
       "      <td>-1.495055</td>\n",
       "      <td>0.471278</td>\n",
       "    </tr>\n",
       "    <tr>\n",
       "      <th>100</th>\n",
       "      <td>1.601323</td>\n",
       "      <td>-1.244009</td>\n",
       "      <td>-1.178582</td>\n",
       "      <td>1.780181</td>\n",
       "      <td>-0.127551</td>\n",
       "      <td>1.288546</td>\n",
       "      <td>-0.374174</td>\n",
       "      <td>-0.314391</td>\n",
       "      <td>0.227090</td>\n",
       "      <td>0.544389</td>\n",
       "    </tr>\n",
       "    <tr>\n",
       "      <th>1000</th>\n",
       "      <td>1.874431</td>\n",
       "      <td>-1.109712</td>\n",
       "      <td>-0.910541</td>\n",
       "      <td>-1.110672</td>\n",
       "      <td>-0.504261</td>\n",
       "      <td>1.237397</td>\n",
       "      <td>-0.263376</td>\n",
       "      <td>-0.316927</td>\n",
       "      <td>0.462357</td>\n",
       "      <td>0.520649</td>\n",
       "    </tr>\n",
       "    <tr>\n",
       "      <th>...</th>\n",
       "      <td>...</td>\n",
       "      <td>...</td>\n",
       "      <td>...</td>\n",
       "      <td>...</td>\n",
       "      <td>...</td>\n",
       "      <td>...</td>\n",
       "      <td>...</td>\n",
       "      <td>...</td>\n",
       "      <td>...</td>\n",
       "      <td>...</td>\n",
       "    </tr>\n",
       "    <tr>\n",
       "      <th>99995</th>\n",
       "      <td>-1.697570</td>\n",
       "      <td>0.243863</td>\n",
       "      <td>0.353953</td>\n",
       "      <td>-1.424104</td>\n",
       "      <td>-0.581714</td>\n",
       "      <td>-0.291931</td>\n",
       "      <td>0.416355</td>\n",
       "      <td>0.257983</td>\n",
       "      <td>0.681366</td>\n",
       "      <td>0.670510</td>\n",
       "    </tr>\n",
       "    <tr>\n",
       "      <th>99996</th>\n",
       "      <td>-1.649689</td>\n",
       "      <td>0.228985</td>\n",
       "      <td>0.373032</td>\n",
       "      <td>-1.153030</td>\n",
       "      <td>0.248697</td>\n",
       "      <td>-0.953786</td>\n",
       "      <td>-0.674827</td>\n",
       "      <td>0.588817</td>\n",
       "      <td>0.570464</td>\n",
       "      <td>-0.528344</td>\n",
       "    </tr>\n",
       "    <tr>\n",
       "      <th>99997</th>\n",
       "      <td>-1.729577</td>\n",
       "      <td>0.249486</td>\n",
       "      <td>0.358148</td>\n",
       "      <td>-1.269522</td>\n",
       "      <td>-0.346360</td>\n",
       "      <td>-0.214800</td>\n",
       "      <td>0.165836</td>\n",
       "      <td>0.072994</td>\n",
       "      <td>0.574554</td>\n",
       "      <td>0.876380</td>\n",
       "    </tr>\n",
       "    <tr>\n",
       "      <th>99998</th>\n",
       "      <td>1.791673</td>\n",
       "      <td>-0.467449</td>\n",
       "      <td>-0.416061</td>\n",
       "      <td>-1.212874</td>\n",
       "      <td>0.771840</td>\n",
       "      <td>-0.298143</td>\n",
       "      <td>0.487644</td>\n",
       "      <td>2.078244</td>\n",
       "      <td>-0.108107</td>\n",
       "      <td>-1.373768</td>\n",
       "    </tr>\n",
       "    <tr>\n",
       "      <th>99999</th>\n",
       "      <td>-1.630243</td>\n",
       "      <td>0.137028</td>\n",
       "      <td>0.408570</td>\n",
       "      <td>-1.232043</td>\n",
       "      <td>-0.461146</td>\n",
       "      <td>1.215489</td>\n",
       "      <td>-0.153727</td>\n",
       "      <td>-0.253896</td>\n",
       "      <td>0.055995</td>\n",
       "      <td>0.075549</td>\n",
       "    </tr>\n",
       "  </tbody>\n",
       "</table>\n",
       "<p>322897 rows × 10 columns</p>\n",
       "</div>"
      ],
      "text/plain": [
       "            pca_0     pca_1     pca_2     pca_3     pca_4     pca_5     pca_6  \\\n",
       "user_id                                                                         \n",
       "0        1.699164 -0.397796 -0.446491 -1.127296  0.663800  0.483216  0.715028   \n",
       "1       -1.655270  0.228214  0.374687 -1.113772  0.300500 -0.940414 -0.742250   \n",
       "10      -2.056614  0.091305 -0.038654  2.007981 -0.688700 -0.454136  0.822261   \n",
       "100      1.601323 -1.244009 -1.178582  1.780181 -0.127551  1.288546 -0.374174   \n",
       "1000     1.874431 -1.109712 -0.910541 -1.110672 -0.504261  1.237397 -0.263376   \n",
       "...           ...       ...       ...       ...       ...       ...       ...   \n",
       "99995   -1.697570  0.243863  0.353953 -1.424104 -0.581714 -0.291931  0.416355   \n",
       "99996   -1.649689  0.228985  0.373032 -1.153030  0.248697 -0.953786 -0.674827   \n",
       "99997   -1.729577  0.249486  0.358148 -1.269522 -0.346360 -0.214800  0.165836   \n",
       "99998    1.791673 -0.467449 -0.416061 -1.212874  0.771840 -0.298143  0.487644   \n",
       "99999   -1.630243  0.137028  0.408570 -1.232043 -0.461146  1.215489 -0.153727   \n",
       "\n",
       "            pca_7     pca_8     pca_9  \n",
       "user_id                                \n",
       "0        0.924418 -0.468858 -1.221070  \n",
       "1        0.540289  0.539775 -0.487475  \n",
       "10      -2.200997 -1.495055  0.471278  \n",
       "100     -0.314391  0.227090  0.544389  \n",
       "1000    -0.316927  0.462357  0.520649  \n",
       "...           ...       ...       ...  \n",
       "99995    0.257983  0.681366  0.670510  \n",
       "99996    0.588817  0.570464 -0.528344  \n",
       "99997    0.072994  0.574554  0.876380  \n",
       "99998    2.078244 -0.108107 -1.373768  \n",
       "99999   -0.253896  0.055995  0.075549  \n",
       "\n",
       "[322897 rows x 10 columns]"
      ]
     },
     "execution_count": 11,
     "metadata": {},
     "output_type": "execute_result"
    }
   ],
   "source": [
    "users_pca = PCA(n_components=10, random_state=42).fit_transform(users_std)\n",
    "\n",
    "users_features_df = pd.DataFrame(\n",
    "    users_pca,\n",
    "    columns=[f\"pca_{i}\" for i in range(users_pca.shape[1])],\n",
    "    index=users.index,\n",
    ")\n",
    "users_features_df"
   ]
  },
  {
   "cell_type": "code",
   "execution_count": 12,
   "metadata": {},
   "outputs": [
    {
     "name": "stderr",
     "output_type": "stream",
     "text": [
      "100%|██████████| 25/25 [00:18<00:00,  1.35it/s]\n"
     ]
    },
    {
     "data": {
      "application/vnd.plotly.v1+json": {
       "config": {
        "plotlyServerURL": "https://plot.ly"
       },
       "data": [
        {
         "hovertemplate": "Number of clusters=%{x}<br>Inertia=%{y}<extra></extra>",
         "legendgroup": "",
         "line": {
          "color": "#636efa",
          "dash": "solid"
         },
         "marker": {
          "symbol": "circle"
         },
         "mode": "lines",
         "name": "",
         "orientation": "v",
         "showlegend": false,
         "type": "scatter",
         "x": [
          2,
          2,
          2,
          3,
          4,
          4,
          5,
          6,
          8,
          9,
          11,
          13,
          16,
          19,
          22,
          26,
          32,
          38,
          45,
          53,
          64,
          76,
          90,
          107,
          128
         ],
         "xaxis": "x",
         "y": [
          4591464.32397408,
          4591464.32397408,
          4591464.32397408,
          4448231.218028463,
          3334993.8925252864,
          3334993.8925252864,
          2747452.4128413065,
          2500282.185198725,
          2524656.324799099,
          2224059.6859741756,
          2056188.3087879312,
          1958402.247024648,
          1845319.1649818243,
          1565441.3301619892,
          1426640.7495219838,
          1395962.0136021008,
          1002892.6126171534,
          1198207.0247510315,
          1006780.8452520494,
          817050.8186724829,
          718450.7077858967,
          648768.7843763529,
          569790.8004041294,
          574048.1084969293,
          550473.5018494937
         ],
         "yaxis": "y"
        }
       ],
       "layout": {
        "legend": {
         "tracegroupgap": 0
        },
        "template": {
         "data": {
          "bar": [
           {
            "error_x": {
             "color": "#2a3f5f"
            },
            "error_y": {
             "color": "#2a3f5f"
            },
            "marker": {
             "line": {
              "color": "#E5ECF6",
              "width": 0.5
             },
             "pattern": {
              "fillmode": "overlay",
              "size": 10,
              "solidity": 0.2
             }
            },
            "type": "bar"
           }
          ],
          "barpolar": [
           {
            "marker": {
             "line": {
              "color": "#E5ECF6",
              "width": 0.5
             },
             "pattern": {
              "fillmode": "overlay",
              "size": 10,
              "solidity": 0.2
             }
            },
            "type": "barpolar"
           }
          ],
          "carpet": [
           {
            "aaxis": {
             "endlinecolor": "#2a3f5f",
             "gridcolor": "white",
             "linecolor": "white",
             "minorgridcolor": "white",
             "startlinecolor": "#2a3f5f"
            },
            "baxis": {
             "endlinecolor": "#2a3f5f",
             "gridcolor": "white",
             "linecolor": "white",
             "minorgridcolor": "white",
             "startlinecolor": "#2a3f5f"
            },
            "type": "carpet"
           }
          ],
          "choropleth": [
           {
            "colorbar": {
             "outlinewidth": 0,
             "ticks": ""
            },
            "type": "choropleth"
           }
          ],
          "contour": [
           {
            "colorbar": {
             "outlinewidth": 0,
             "ticks": ""
            },
            "colorscale": [
             [
              0,
              "#0d0887"
             ],
             [
              0.1111111111111111,
              "#46039f"
             ],
             [
              0.2222222222222222,
              "#7201a8"
             ],
             [
              0.3333333333333333,
              "#9c179e"
             ],
             [
              0.4444444444444444,
              "#bd3786"
             ],
             [
              0.5555555555555556,
              "#d8576b"
             ],
             [
              0.6666666666666666,
              "#ed7953"
             ],
             [
              0.7777777777777778,
              "#fb9f3a"
             ],
             [
              0.8888888888888888,
              "#fdca26"
             ],
             [
              1,
              "#f0f921"
             ]
            ],
            "type": "contour"
           }
          ],
          "contourcarpet": [
           {
            "colorbar": {
             "outlinewidth": 0,
             "ticks": ""
            },
            "type": "contourcarpet"
           }
          ],
          "heatmap": [
           {
            "colorbar": {
             "outlinewidth": 0,
             "ticks": ""
            },
            "colorscale": [
             [
              0,
              "#0d0887"
             ],
             [
              0.1111111111111111,
              "#46039f"
             ],
             [
              0.2222222222222222,
              "#7201a8"
             ],
             [
              0.3333333333333333,
              "#9c179e"
             ],
             [
              0.4444444444444444,
              "#bd3786"
             ],
             [
              0.5555555555555556,
              "#d8576b"
             ],
             [
              0.6666666666666666,
              "#ed7953"
             ],
             [
              0.7777777777777778,
              "#fb9f3a"
             ],
             [
              0.8888888888888888,
              "#fdca26"
             ],
             [
              1,
              "#f0f921"
             ]
            ],
            "type": "heatmap"
           }
          ],
          "heatmapgl": [
           {
            "colorbar": {
             "outlinewidth": 0,
             "ticks": ""
            },
            "colorscale": [
             [
              0,
              "#0d0887"
             ],
             [
              0.1111111111111111,
              "#46039f"
             ],
             [
              0.2222222222222222,
              "#7201a8"
             ],
             [
              0.3333333333333333,
              "#9c179e"
             ],
             [
              0.4444444444444444,
              "#bd3786"
             ],
             [
              0.5555555555555556,
              "#d8576b"
             ],
             [
              0.6666666666666666,
              "#ed7953"
             ],
             [
              0.7777777777777778,
              "#fb9f3a"
             ],
             [
              0.8888888888888888,
              "#fdca26"
             ],
             [
              1,
              "#f0f921"
             ]
            ],
            "type": "heatmapgl"
           }
          ],
          "histogram": [
           {
            "marker": {
             "pattern": {
              "fillmode": "overlay",
              "size": 10,
              "solidity": 0.2
             }
            },
            "type": "histogram"
           }
          ],
          "histogram2d": [
           {
            "colorbar": {
             "outlinewidth": 0,
             "ticks": ""
            },
            "colorscale": [
             [
              0,
              "#0d0887"
             ],
             [
              0.1111111111111111,
              "#46039f"
             ],
             [
              0.2222222222222222,
              "#7201a8"
             ],
             [
              0.3333333333333333,
              "#9c179e"
             ],
             [
              0.4444444444444444,
              "#bd3786"
             ],
             [
              0.5555555555555556,
              "#d8576b"
             ],
             [
              0.6666666666666666,
              "#ed7953"
             ],
             [
              0.7777777777777778,
              "#fb9f3a"
             ],
             [
              0.8888888888888888,
              "#fdca26"
             ],
             [
              1,
              "#f0f921"
             ]
            ],
            "type": "histogram2d"
           }
          ],
          "histogram2dcontour": [
           {
            "colorbar": {
             "outlinewidth": 0,
             "ticks": ""
            },
            "colorscale": [
             [
              0,
              "#0d0887"
             ],
             [
              0.1111111111111111,
              "#46039f"
             ],
             [
              0.2222222222222222,
              "#7201a8"
             ],
             [
              0.3333333333333333,
              "#9c179e"
             ],
             [
              0.4444444444444444,
              "#bd3786"
             ],
             [
              0.5555555555555556,
              "#d8576b"
             ],
             [
              0.6666666666666666,
              "#ed7953"
             ],
             [
              0.7777777777777778,
              "#fb9f3a"
             ],
             [
              0.8888888888888888,
              "#fdca26"
             ],
             [
              1,
              "#f0f921"
             ]
            ],
            "type": "histogram2dcontour"
           }
          ],
          "mesh3d": [
           {
            "colorbar": {
             "outlinewidth": 0,
             "ticks": ""
            },
            "type": "mesh3d"
           }
          ],
          "parcoords": [
           {
            "line": {
             "colorbar": {
              "outlinewidth": 0,
              "ticks": ""
             }
            },
            "type": "parcoords"
           }
          ],
          "pie": [
           {
            "automargin": true,
            "type": "pie"
           }
          ],
          "scatter": [
           {
            "fillpattern": {
             "fillmode": "overlay",
             "size": 10,
             "solidity": 0.2
            },
            "type": "scatter"
           }
          ],
          "scatter3d": [
           {
            "line": {
             "colorbar": {
              "outlinewidth": 0,
              "ticks": ""
             }
            },
            "marker": {
             "colorbar": {
              "outlinewidth": 0,
              "ticks": ""
             }
            },
            "type": "scatter3d"
           }
          ],
          "scattercarpet": [
           {
            "marker": {
             "colorbar": {
              "outlinewidth": 0,
              "ticks": ""
             }
            },
            "type": "scattercarpet"
           }
          ],
          "scattergeo": [
           {
            "marker": {
             "colorbar": {
              "outlinewidth": 0,
              "ticks": ""
             }
            },
            "type": "scattergeo"
           }
          ],
          "scattergl": [
           {
            "marker": {
             "colorbar": {
              "outlinewidth": 0,
              "ticks": ""
             }
            },
            "type": "scattergl"
           }
          ],
          "scattermapbox": [
           {
            "marker": {
             "colorbar": {
              "outlinewidth": 0,
              "ticks": ""
             }
            },
            "type": "scattermapbox"
           }
          ],
          "scatterpolar": [
           {
            "marker": {
             "colorbar": {
              "outlinewidth": 0,
              "ticks": ""
             }
            },
            "type": "scatterpolar"
           }
          ],
          "scatterpolargl": [
           {
            "marker": {
             "colorbar": {
              "outlinewidth": 0,
              "ticks": ""
             }
            },
            "type": "scatterpolargl"
           }
          ],
          "scatterternary": [
           {
            "marker": {
             "colorbar": {
              "outlinewidth": 0,
              "ticks": ""
             }
            },
            "type": "scatterternary"
           }
          ],
          "surface": [
           {
            "colorbar": {
             "outlinewidth": 0,
             "ticks": ""
            },
            "colorscale": [
             [
              0,
              "#0d0887"
             ],
             [
              0.1111111111111111,
              "#46039f"
             ],
             [
              0.2222222222222222,
              "#7201a8"
             ],
             [
              0.3333333333333333,
              "#9c179e"
             ],
             [
              0.4444444444444444,
              "#bd3786"
             ],
             [
              0.5555555555555556,
              "#d8576b"
             ],
             [
              0.6666666666666666,
              "#ed7953"
             ],
             [
              0.7777777777777778,
              "#fb9f3a"
             ],
             [
              0.8888888888888888,
              "#fdca26"
             ],
             [
              1,
              "#f0f921"
             ]
            ],
            "type": "surface"
           }
          ],
          "table": [
           {
            "cells": {
             "fill": {
              "color": "#EBF0F8"
             },
             "line": {
              "color": "white"
             }
            },
            "header": {
             "fill": {
              "color": "#C8D4E3"
             },
             "line": {
              "color": "white"
             }
            },
            "type": "table"
           }
          ]
         },
         "layout": {
          "annotationdefaults": {
           "arrowcolor": "#2a3f5f",
           "arrowhead": 0,
           "arrowwidth": 1
          },
          "autotypenumbers": "strict",
          "coloraxis": {
           "colorbar": {
            "outlinewidth": 0,
            "ticks": ""
           }
          },
          "colorscale": {
           "diverging": [
            [
             0,
             "#8e0152"
            ],
            [
             0.1,
             "#c51b7d"
            ],
            [
             0.2,
             "#de77ae"
            ],
            [
             0.3,
             "#f1b6da"
            ],
            [
             0.4,
             "#fde0ef"
            ],
            [
             0.5,
             "#f7f7f7"
            ],
            [
             0.6,
             "#e6f5d0"
            ],
            [
             0.7,
             "#b8e186"
            ],
            [
             0.8,
             "#7fbc41"
            ],
            [
             0.9,
             "#4d9221"
            ],
            [
             1,
             "#276419"
            ]
           ],
           "sequential": [
            [
             0,
             "#0d0887"
            ],
            [
             0.1111111111111111,
             "#46039f"
            ],
            [
             0.2222222222222222,
             "#7201a8"
            ],
            [
             0.3333333333333333,
             "#9c179e"
            ],
            [
             0.4444444444444444,
             "#bd3786"
            ],
            [
             0.5555555555555556,
             "#d8576b"
            ],
            [
             0.6666666666666666,
             "#ed7953"
            ],
            [
             0.7777777777777778,
             "#fb9f3a"
            ],
            [
             0.8888888888888888,
             "#fdca26"
            ],
            [
             1,
             "#f0f921"
            ]
           ],
           "sequentialminus": [
            [
             0,
             "#0d0887"
            ],
            [
             0.1111111111111111,
             "#46039f"
            ],
            [
             0.2222222222222222,
             "#7201a8"
            ],
            [
             0.3333333333333333,
             "#9c179e"
            ],
            [
             0.4444444444444444,
             "#bd3786"
            ],
            [
             0.5555555555555556,
             "#d8576b"
            ],
            [
             0.6666666666666666,
             "#ed7953"
            ],
            [
             0.7777777777777778,
             "#fb9f3a"
            ],
            [
             0.8888888888888888,
             "#fdca26"
            ],
            [
             1,
             "#f0f921"
            ]
           ]
          },
          "colorway": [
           "#636efa",
           "#EF553B",
           "#00cc96",
           "#ab63fa",
           "#FFA15A",
           "#19d3f3",
           "#FF6692",
           "#B6E880",
           "#FF97FF",
           "#FECB52"
          ],
          "font": {
           "color": "#2a3f5f"
          },
          "geo": {
           "bgcolor": "white",
           "lakecolor": "white",
           "landcolor": "#E5ECF6",
           "showlakes": true,
           "showland": true,
           "subunitcolor": "white"
          },
          "hoverlabel": {
           "align": "left"
          },
          "hovermode": "closest",
          "mapbox": {
           "style": "light"
          },
          "paper_bgcolor": "white",
          "plot_bgcolor": "#E5ECF6",
          "polar": {
           "angularaxis": {
            "gridcolor": "white",
            "linecolor": "white",
            "ticks": ""
           },
           "bgcolor": "#E5ECF6",
           "radialaxis": {
            "gridcolor": "white",
            "linecolor": "white",
            "ticks": ""
           }
          },
          "scene": {
           "xaxis": {
            "backgroundcolor": "#E5ECF6",
            "gridcolor": "white",
            "gridwidth": 2,
            "linecolor": "white",
            "showbackground": true,
            "ticks": "",
            "zerolinecolor": "white"
           },
           "yaxis": {
            "backgroundcolor": "#E5ECF6",
            "gridcolor": "white",
            "gridwidth": 2,
            "linecolor": "white",
            "showbackground": true,
            "ticks": "",
            "zerolinecolor": "white"
           },
           "zaxis": {
            "backgroundcolor": "#E5ECF6",
            "gridcolor": "white",
            "gridwidth": 2,
            "linecolor": "white",
            "showbackground": true,
            "ticks": "",
            "zerolinecolor": "white"
           }
          },
          "shapedefaults": {
           "line": {
            "color": "#2a3f5f"
           }
          },
          "ternary": {
           "aaxis": {
            "gridcolor": "white",
            "linecolor": "white",
            "ticks": ""
           },
           "baxis": {
            "gridcolor": "white",
            "linecolor": "white",
            "ticks": ""
           },
           "bgcolor": "#E5ECF6",
           "caxis": {
            "gridcolor": "white",
            "linecolor": "white",
            "ticks": ""
           }
          },
          "title": {
           "x": 0.05
          },
          "xaxis": {
           "automargin": true,
           "gridcolor": "white",
           "linecolor": "white",
           "ticks": "",
           "title": {
            "standoff": 15
           },
           "zerolinecolor": "white",
           "zerolinewidth": 2
          },
          "yaxis": {
           "automargin": true,
           "gridcolor": "white",
           "linecolor": "white",
           "ticks": "",
           "title": {
            "standoff": 15
           },
           "zerolinecolor": "white",
           "zerolinewidth": 2
          }
         }
        },
        "title": {
         "text": "Inertia"
        },
        "xaxis": {
         "anchor": "y",
         "domain": [
          0,
          1
         ],
         "title": {
          "text": "Number of clusters"
         }
        },
        "yaxis": {
         "anchor": "x",
         "domain": [
          0,
          1
         ],
         "title": {
          "text": "Inertia"
         }
        }
       }
      }
     },
     "metadata": {},
     "output_type": "display_data"
    },
    {
     "data": {
      "application/vnd.plotly.v1+json": {
       "config": {
        "plotlyServerURL": "https://plot.ly"
       },
       "data": [
        {
         "hovertemplate": "Number of clusters=%{x}<br>Calinski-Harabasz=%{y}<extra></extra>",
         "legendgroup": "",
         "line": {
          "color": "#636efa",
          "dash": "solid"
         },
         "marker": {
          "symbol": "circle"
         },
         "mode": "lines",
         "name": "",
         "orientation": "v",
         "showlegend": false,
         "type": "scatter",
         "x": [
          2,
          2,
          2,
          3,
          4,
          4,
          5,
          6,
          8,
          9,
          11,
          13,
          16,
          19,
          22,
          26,
          32,
          38,
          45,
          53,
          64,
          76,
          90,
          107,
          128
         ],
         "xaxis": "x",
         "y": [
          83752.9951735235,
          83752.9951735235,
          83752.9951735235,
          48730.12476911052,
          79065.27587091691,
          79065.27587091691,
          90955.24116344651,
          84899.5607783456,
          59549.70070130499,
          65740.39200627735,
          59933.36135294344,
          55061.4324715533,
          47209.65513818935,
          48453.9192418796,
          48517.57442672397,
          41739.250621232946,
          49947.35121976405,
          34671.48302121232,
          41203.77969063904,
          39457.695593736404,
          36853.91401755899,
          35205.44657405543,
          34050.197657274235,
          28776.7679399736,
          25053.137107718077
         ],
         "yaxis": "y"
        }
       ],
       "layout": {
        "legend": {
         "tracegroupgap": 0
        },
        "template": {
         "data": {
          "bar": [
           {
            "error_x": {
             "color": "#2a3f5f"
            },
            "error_y": {
             "color": "#2a3f5f"
            },
            "marker": {
             "line": {
              "color": "#E5ECF6",
              "width": 0.5
             },
             "pattern": {
              "fillmode": "overlay",
              "size": 10,
              "solidity": 0.2
             }
            },
            "type": "bar"
           }
          ],
          "barpolar": [
           {
            "marker": {
             "line": {
              "color": "#E5ECF6",
              "width": 0.5
             },
             "pattern": {
              "fillmode": "overlay",
              "size": 10,
              "solidity": 0.2
             }
            },
            "type": "barpolar"
           }
          ],
          "carpet": [
           {
            "aaxis": {
             "endlinecolor": "#2a3f5f",
             "gridcolor": "white",
             "linecolor": "white",
             "minorgridcolor": "white",
             "startlinecolor": "#2a3f5f"
            },
            "baxis": {
             "endlinecolor": "#2a3f5f",
             "gridcolor": "white",
             "linecolor": "white",
             "minorgridcolor": "white",
             "startlinecolor": "#2a3f5f"
            },
            "type": "carpet"
           }
          ],
          "choropleth": [
           {
            "colorbar": {
             "outlinewidth": 0,
             "ticks": ""
            },
            "type": "choropleth"
           }
          ],
          "contour": [
           {
            "colorbar": {
             "outlinewidth": 0,
             "ticks": ""
            },
            "colorscale": [
             [
              0,
              "#0d0887"
             ],
             [
              0.1111111111111111,
              "#46039f"
             ],
             [
              0.2222222222222222,
              "#7201a8"
             ],
             [
              0.3333333333333333,
              "#9c179e"
             ],
             [
              0.4444444444444444,
              "#bd3786"
             ],
             [
              0.5555555555555556,
              "#d8576b"
             ],
             [
              0.6666666666666666,
              "#ed7953"
             ],
             [
              0.7777777777777778,
              "#fb9f3a"
             ],
             [
              0.8888888888888888,
              "#fdca26"
             ],
             [
              1,
              "#f0f921"
             ]
            ],
            "type": "contour"
           }
          ],
          "contourcarpet": [
           {
            "colorbar": {
             "outlinewidth": 0,
             "ticks": ""
            },
            "type": "contourcarpet"
           }
          ],
          "heatmap": [
           {
            "colorbar": {
             "outlinewidth": 0,
             "ticks": ""
            },
            "colorscale": [
             [
              0,
              "#0d0887"
             ],
             [
              0.1111111111111111,
              "#46039f"
             ],
             [
              0.2222222222222222,
              "#7201a8"
             ],
             [
              0.3333333333333333,
              "#9c179e"
             ],
             [
              0.4444444444444444,
              "#bd3786"
             ],
             [
              0.5555555555555556,
              "#d8576b"
             ],
             [
              0.6666666666666666,
              "#ed7953"
             ],
             [
              0.7777777777777778,
              "#fb9f3a"
             ],
             [
              0.8888888888888888,
              "#fdca26"
             ],
             [
              1,
              "#f0f921"
             ]
            ],
            "type": "heatmap"
           }
          ],
          "heatmapgl": [
           {
            "colorbar": {
             "outlinewidth": 0,
             "ticks": ""
            },
            "colorscale": [
             [
              0,
              "#0d0887"
             ],
             [
              0.1111111111111111,
              "#46039f"
             ],
             [
              0.2222222222222222,
              "#7201a8"
             ],
             [
              0.3333333333333333,
              "#9c179e"
             ],
             [
              0.4444444444444444,
              "#bd3786"
             ],
             [
              0.5555555555555556,
              "#d8576b"
             ],
             [
              0.6666666666666666,
              "#ed7953"
             ],
             [
              0.7777777777777778,
              "#fb9f3a"
             ],
             [
              0.8888888888888888,
              "#fdca26"
             ],
             [
              1,
              "#f0f921"
             ]
            ],
            "type": "heatmapgl"
           }
          ],
          "histogram": [
           {
            "marker": {
             "pattern": {
              "fillmode": "overlay",
              "size": 10,
              "solidity": 0.2
             }
            },
            "type": "histogram"
           }
          ],
          "histogram2d": [
           {
            "colorbar": {
             "outlinewidth": 0,
             "ticks": ""
            },
            "colorscale": [
             [
              0,
              "#0d0887"
             ],
             [
              0.1111111111111111,
              "#46039f"
             ],
             [
              0.2222222222222222,
              "#7201a8"
             ],
             [
              0.3333333333333333,
              "#9c179e"
             ],
             [
              0.4444444444444444,
              "#bd3786"
             ],
             [
              0.5555555555555556,
              "#d8576b"
             ],
             [
              0.6666666666666666,
              "#ed7953"
             ],
             [
              0.7777777777777778,
              "#fb9f3a"
             ],
             [
              0.8888888888888888,
              "#fdca26"
             ],
             [
              1,
              "#f0f921"
             ]
            ],
            "type": "histogram2d"
           }
          ],
          "histogram2dcontour": [
           {
            "colorbar": {
             "outlinewidth": 0,
             "ticks": ""
            },
            "colorscale": [
             [
              0,
              "#0d0887"
             ],
             [
              0.1111111111111111,
              "#46039f"
             ],
             [
              0.2222222222222222,
              "#7201a8"
             ],
             [
              0.3333333333333333,
              "#9c179e"
             ],
             [
              0.4444444444444444,
              "#bd3786"
             ],
             [
              0.5555555555555556,
              "#d8576b"
             ],
             [
              0.6666666666666666,
              "#ed7953"
             ],
             [
              0.7777777777777778,
              "#fb9f3a"
             ],
             [
              0.8888888888888888,
              "#fdca26"
             ],
             [
              1,
              "#f0f921"
             ]
            ],
            "type": "histogram2dcontour"
           }
          ],
          "mesh3d": [
           {
            "colorbar": {
             "outlinewidth": 0,
             "ticks": ""
            },
            "type": "mesh3d"
           }
          ],
          "parcoords": [
           {
            "line": {
             "colorbar": {
              "outlinewidth": 0,
              "ticks": ""
             }
            },
            "type": "parcoords"
           }
          ],
          "pie": [
           {
            "automargin": true,
            "type": "pie"
           }
          ],
          "scatter": [
           {
            "fillpattern": {
             "fillmode": "overlay",
             "size": 10,
             "solidity": 0.2
            },
            "type": "scatter"
           }
          ],
          "scatter3d": [
           {
            "line": {
             "colorbar": {
              "outlinewidth": 0,
              "ticks": ""
             }
            },
            "marker": {
             "colorbar": {
              "outlinewidth": 0,
              "ticks": ""
             }
            },
            "type": "scatter3d"
           }
          ],
          "scattercarpet": [
           {
            "marker": {
             "colorbar": {
              "outlinewidth": 0,
              "ticks": ""
             }
            },
            "type": "scattercarpet"
           }
          ],
          "scattergeo": [
           {
            "marker": {
             "colorbar": {
              "outlinewidth": 0,
              "ticks": ""
             }
            },
            "type": "scattergeo"
           }
          ],
          "scattergl": [
           {
            "marker": {
             "colorbar": {
              "outlinewidth": 0,
              "ticks": ""
             }
            },
            "type": "scattergl"
           }
          ],
          "scattermapbox": [
           {
            "marker": {
             "colorbar": {
              "outlinewidth": 0,
              "ticks": ""
             }
            },
            "type": "scattermapbox"
           }
          ],
          "scatterpolar": [
           {
            "marker": {
             "colorbar": {
              "outlinewidth": 0,
              "ticks": ""
             }
            },
            "type": "scatterpolar"
           }
          ],
          "scatterpolargl": [
           {
            "marker": {
             "colorbar": {
              "outlinewidth": 0,
              "ticks": ""
             }
            },
            "type": "scatterpolargl"
           }
          ],
          "scatterternary": [
           {
            "marker": {
             "colorbar": {
              "outlinewidth": 0,
              "ticks": ""
             }
            },
            "type": "scatterternary"
           }
          ],
          "surface": [
           {
            "colorbar": {
             "outlinewidth": 0,
             "ticks": ""
            },
            "colorscale": [
             [
              0,
              "#0d0887"
             ],
             [
              0.1111111111111111,
              "#46039f"
             ],
             [
              0.2222222222222222,
              "#7201a8"
             ],
             [
              0.3333333333333333,
              "#9c179e"
             ],
             [
              0.4444444444444444,
              "#bd3786"
             ],
             [
              0.5555555555555556,
              "#d8576b"
             ],
             [
              0.6666666666666666,
              "#ed7953"
             ],
             [
              0.7777777777777778,
              "#fb9f3a"
             ],
             [
              0.8888888888888888,
              "#fdca26"
             ],
             [
              1,
              "#f0f921"
             ]
            ],
            "type": "surface"
           }
          ],
          "table": [
           {
            "cells": {
             "fill": {
              "color": "#EBF0F8"
             },
             "line": {
              "color": "white"
             }
            },
            "header": {
             "fill": {
              "color": "#C8D4E3"
             },
             "line": {
              "color": "white"
             }
            },
            "type": "table"
           }
          ]
         },
         "layout": {
          "annotationdefaults": {
           "arrowcolor": "#2a3f5f",
           "arrowhead": 0,
           "arrowwidth": 1
          },
          "autotypenumbers": "strict",
          "coloraxis": {
           "colorbar": {
            "outlinewidth": 0,
            "ticks": ""
           }
          },
          "colorscale": {
           "diverging": [
            [
             0,
             "#8e0152"
            ],
            [
             0.1,
             "#c51b7d"
            ],
            [
             0.2,
             "#de77ae"
            ],
            [
             0.3,
             "#f1b6da"
            ],
            [
             0.4,
             "#fde0ef"
            ],
            [
             0.5,
             "#f7f7f7"
            ],
            [
             0.6,
             "#e6f5d0"
            ],
            [
             0.7,
             "#b8e186"
            ],
            [
             0.8,
             "#7fbc41"
            ],
            [
             0.9,
             "#4d9221"
            ],
            [
             1,
             "#276419"
            ]
           ],
           "sequential": [
            [
             0,
             "#0d0887"
            ],
            [
             0.1111111111111111,
             "#46039f"
            ],
            [
             0.2222222222222222,
             "#7201a8"
            ],
            [
             0.3333333333333333,
             "#9c179e"
            ],
            [
             0.4444444444444444,
             "#bd3786"
            ],
            [
             0.5555555555555556,
             "#d8576b"
            ],
            [
             0.6666666666666666,
             "#ed7953"
            ],
            [
             0.7777777777777778,
             "#fb9f3a"
            ],
            [
             0.8888888888888888,
             "#fdca26"
            ],
            [
             1,
             "#f0f921"
            ]
           ],
           "sequentialminus": [
            [
             0,
             "#0d0887"
            ],
            [
             0.1111111111111111,
             "#46039f"
            ],
            [
             0.2222222222222222,
             "#7201a8"
            ],
            [
             0.3333333333333333,
             "#9c179e"
            ],
            [
             0.4444444444444444,
             "#bd3786"
            ],
            [
             0.5555555555555556,
             "#d8576b"
            ],
            [
             0.6666666666666666,
             "#ed7953"
            ],
            [
             0.7777777777777778,
             "#fb9f3a"
            ],
            [
             0.8888888888888888,
             "#fdca26"
            ],
            [
             1,
             "#f0f921"
            ]
           ]
          },
          "colorway": [
           "#636efa",
           "#EF553B",
           "#00cc96",
           "#ab63fa",
           "#FFA15A",
           "#19d3f3",
           "#FF6692",
           "#B6E880",
           "#FF97FF",
           "#FECB52"
          ],
          "font": {
           "color": "#2a3f5f"
          },
          "geo": {
           "bgcolor": "white",
           "lakecolor": "white",
           "landcolor": "#E5ECF6",
           "showlakes": true,
           "showland": true,
           "subunitcolor": "white"
          },
          "hoverlabel": {
           "align": "left"
          },
          "hovermode": "closest",
          "mapbox": {
           "style": "light"
          },
          "paper_bgcolor": "white",
          "plot_bgcolor": "#E5ECF6",
          "polar": {
           "angularaxis": {
            "gridcolor": "white",
            "linecolor": "white",
            "ticks": ""
           },
           "bgcolor": "#E5ECF6",
           "radialaxis": {
            "gridcolor": "white",
            "linecolor": "white",
            "ticks": ""
           }
          },
          "scene": {
           "xaxis": {
            "backgroundcolor": "#E5ECF6",
            "gridcolor": "white",
            "gridwidth": 2,
            "linecolor": "white",
            "showbackground": true,
            "ticks": "",
            "zerolinecolor": "white"
           },
           "yaxis": {
            "backgroundcolor": "#E5ECF6",
            "gridcolor": "white",
            "gridwidth": 2,
            "linecolor": "white",
            "showbackground": true,
            "ticks": "",
            "zerolinecolor": "white"
           },
           "zaxis": {
            "backgroundcolor": "#E5ECF6",
            "gridcolor": "white",
            "gridwidth": 2,
            "linecolor": "white",
            "showbackground": true,
            "ticks": "",
            "zerolinecolor": "white"
           }
          },
          "shapedefaults": {
           "line": {
            "color": "#2a3f5f"
           }
          },
          "ternary": {
           "aaxis": {
            "gridcolor": "white",
            "linecolor": "white",
            "ticks": ""
           },
           "baxis": {
            "gridcolor": "white",
            "linecolor": "white",
            "ticks": ""
           },
           "bgcolor": "#E5ECF6",
           "caxis": {
            "gridcolor": "white",
            "linecolor": "white",
            "ticks": ""
           }
          },
          "title": {
           "x": 0.05
          },
          "xaxis": {
           "automargin": true,
           "gridcolor": "white",
           "linecolor": "white",
           "ticks": "",
           "title": {
            "standoff": 15
           },
           "zerolinecolor": "white",
           "zerolinewidth": 2
          },
          "yaxis": {
           "automargin": true,
           "gridcolor": "white",
           "linecolor": "white",
           "ticks": "",
           "title": {
            "standoff": 15
           },
           "zerolinecolor": "white",
           "zerolinewidth": 2
          }
         }
        },
        "title": {
         "text": "Calinski-Harabasz"
        },
        "xaxis": {
         "anchor": "y",
         "domain": [
          0,
          1
         ],
         "title": {
          "text": "Number of clusters"
         }
        },
        "yaxis": {
         "anchor": "x",
         "domain": [
          0,
          1
         ],
         "title": {
          "text": "Calinski-Harabasz"
         }
        }
       }
      }
     },
     "metadata": {},
     "output_type": "display_data"
    },
    {
     "data": {
      "application/vnd.plotly.v1+json": {
       "config": {
        "plotlyServerURL": "https://plot.ly"
       },
       "data": [
        {
         "hovertemplate": "Number of clusters=%{x}<br>Davies-Bouldin=%{y}<extra></extra>",
         "legendgroup": "",
         "line": {
          "color": "#636efa",
          "dash": "solid"
         },
         "marker": {
          "symbol": "circle"
         },
         "mode": "lines",
         "name": "",
         "orientation": "v",
         "showlegend": false,
         "type": "scatter",
         "x": [
          2,
          2,
          2,
          3,
          4,
          4,
          5,
          6,
          8,
          9,
          11,
          13,
          16,
          19,
          22,
          26,
          32,
          38,
          45,
          53,
          64,
          76,
          90,
          107,
          128
         ],
         "xaxis": "x",
         "y": [
          1.6490198332712633,
          1.6490198332712633,
          1.6490198332712633,
          1.8025132537529924,
          1.2839068312948572,
          1.2839068312948572,
          1.1635982176038302,
          1.3365523033334554,
          1.4198203070043878,
          1.4234197874395975,
          1.444384343922281,
          1.243479297050767,
          1.5645179385609445,
          1.3725497001511413,
          1.3128502038361711,
          1.4556129793696908,
          1.175950428783599,
          1.3805866905652722,
          1.3123019691780122,
          1.240336693299474,
          1.2120073291707159,
          1.1908369409909574,
          1.0785078257436043,
          1.0565639820499457,
          0.9964944792426443
         ],
         "yaxis": "y"
        }
       ],
       "layout": {
        "legend": {
         "tracegroupgap": 0
        },
        "template": {
         "data": {
          "bar": [
           {
            "error_x": {
             "color": "#2a3f5f"
            },
            "error_y": {
             "color": "#2a3f5f"
            },
            "marker": {
             "line": {
              "color": "#E5ECF6",
              "width": 0.5
             },
             "pattern": {
              "fillmode": "overlay",
              "size": 10,
              "solidity": 0.2
             }
            },
            "type": "bar"
           }
          ],
          "barpolar": [
           {
            "marker": {
             "line": {
              "color": "#E5ECF6",
              "width": 0.5
             },
             "pattern": {
              "fillmode": "overlay",
              "size": 10,
              "solidity": 0.2
             }
            },
            "type": "barpolar"
           }
          ],
          "carpet": [
           {
            "aaxis": {
             "endlinecolor": "#2a3f5f",
             "gridcolor": "white",
             "linecolor": "white",
             "minorgridcolor": "white",
             "startlinecolor": "#2a3f5f"
            },
            "baxis": {
             "endlinecolor": "#2a3f5f",
             "gridcolor": "white",
             "linecolor": "white",
             "minorgridcolor": "white",
             "startlinecolor": "#2a3f5f"
            },
            "type": "carpet"
           }
          ],
          "choropleth": [
           {
            "colorbar": {
             "outlinewidth": 0,
             "ticks": ""
            },
            "type": "choropleth"
           }
          ],
          "contour": [
           {
            "colorbar": {
             "outlinewidth": 0,
             "ticks": ""
            },
            "colorscale": [
             [
              0,
              "#0d0887"
             ],
             [
              0.1111111111111111,
              "#46039f"
             ],
             [
              0.2222222222222222,
              "#7201a8"
             ],
             [
              0.3333333333333333,
              "#9c179e"
             ],
             [
              0.4444444444444444,
              "#bd3786"
             ],
             [
              0.5555555555555556,
              "#d8576b"
             ],
             [
              0.6666666666666666,
              "#ed7953"
             ],
             [
              0.7777777777777778,
              "#fb9f3a"
             ],
             [
              0.8888888888888888,
              "#fdca26"
             ],
             [
              1,
              "#f0f921"
             ]
            ],
            "type": "contour"
           }
          ],
          "contourcarpet": [
           {
            "colorbar": {
             "outlinewidth": 0,
             "ticks": ""
            },
            "type": "contourcarpet"
           }
          ],
          "heatmap": [
           {
            "colorbar": {
             "outlinewidth": 0,
             "ticks": ""
            },
            "colorscale": [
             [
              0,
              "#0d0887"
             ],
             [
              0.1111111111111111,
              "#46039f"
             ],
             [
              0.2222222222222222,
              "#7201a8"
             ],
             [
              0.3333333333333333,
              "#9c179e"
             ],
             [
              0.4444444444444444,
              "#bd3786"
             ],
             [
              0.5555555555555556,
              "#d8576b"
             ],
             [
              0.6666666666666666,
              "#ed7953"
             ],
             [
              0.7777777777777778,
              "#fb9f3a"
             ],
             [
              0.8888888888888888,
              "#fdca26"
             ],
             [
              1,
              "#f0f921"
             ]
            ],
            "type": "heatmap"
           }
          ],
          "heatmapgl": [
           {
            "colorbar": {
             "outlinewidth": 0,
             "ticks": ""
            },
            "colorscale": [
             [
              0,
              "#0d0887"
             ],
             [
              0.1111111111111111,
              "#46039f"
             ],
             [
              0.2222222222222222,
              "#7201a8"
             ],
             [
              0.3333333333333333,
              "#9c179e"
             ],
             [
              0.4444444444444444,
              "#bd3786"
             ],
             [
              0.5555555555555556,
              "#d8576b"
             ],
             [
              0.6666666666666666,
              "#ed7953"
             ],
             [
              0.7777777777777778,
              "#fb9f3a"
             ],
             [
              0.8888888888888888,
              "#fdca26"
             ],
             [
              1,
              "#f0f921"
             ]
            ],
            "type": "heatmapgl"
           }
          ],
          "histogram": [
           {
            "marker": {
             "pattern": {
              "fillmode": "overlay",
              "size": 10,
              "solidity": 0.2
             }
            },
            "type": "histogram"
           }
          ],
          "histogram2d": [
           {
            "colorbar": {
             "outlinewidth": 0,
             "ticks": ""
            },
            "colorscale": [
             [
              0,
              "#0d0887"
             ],
             [
              0.1111111111111111,
              "#46039f"
             ],
             [
              0.2222222222222222,
              "#7201a8"
             ],
             [
              0.3333333333333333,
              "#9c179e"
             ],
             [
              0.4444444444444444,
              "#bd3786"
             ],
             [
              0.5555555555555556,
              "#d8576b"
             ],
             [
              0.6666666666666666,
              "#ed7953"
             ],
             [
              0.7777777777777778,
              "#fb9f3a"
             ],
             [
              0.8888888888888888,
              "#fdca26"
             ],
             [
              1,
              "#f0f921"
             ]
            ],
            "type": "histogram2d"
           }
          ],
          "histogram2dcontour": [
           {
            "colorbar": {
             "outlinewidth": 0,
             "ticks": ""
            },
            "colorscale": [
             [
              0,
              "#0d0887"
             ],
             [
              0.1111111111111111,
              "#46039f"
             ],
             [
              0.2222222222222222,
              "#7201a8"
             ],
             [
              0.3333333333333333,
              "#9c179e"
             ],
             [
              0.4444444444444444,
              "#bd3786"
             ],
             [
              0.5555555555555556,
              "#d8576b"
             ],
             [
              0.6666666666666666,
              "#ed7953"
             ],
             [
              0.7777777777777778,
              "#fb9f3a"
             ],
             [
              0.8888888888888888,
              "#fdca26"
             ],
             [
              1,
              "#f0f921"
             ]
            ],
            "type": "histogram2dcontour"
           }
          ],
          "mesh3d": [
           {
            "colorbar": {
             "outlinewidth": 0,
             "ticks": ""
            },
            "type": "mesh3d"
           }
          ],
          "parcoords": [
           {
            "line": {
             "colorbar": {
              "outlinewidth": 0,
              "ticks": ""
             }
            },
            "type": "parcoords"
           }
          ],
          "pie": [
           {
            "automargin": true,
            "type": "pie"
           }
          ],
          "scatter": [
           {
            "fillpattern": {
             "fillmode": "overlay",
             "size": 10,
             "solidity": 0.2
            },
            "type": "scatter"
           }
          ],
          "scatter3d": [
           {
            "line": {
             "colorbar": {
              "outlinewidth": 0,
              "ticks": ""
             }
            },
            "marker": {
             "colorbar": {
              "outlinewidth": 0,
              "ticks": ""
             }
            },
            "type": "scatter3d"
           }
          ],
          "scattercarpet": [
           {
            "marker": {
             "colorbar": {
              "outlinewidth": 0,
              "ticks": ""
             }
            },
            "type": "scattercarpet"
           }
          ],
          "scattergeo": [
           {
            "marker": {
             "colorbar": {
              "outlinewidth": 0,
              "ticks": ""
             }
            },
            "type": "scattergeo"
           }
          ],
          "scattergl": [
           {
            "marker": {
             "colorbar": {
              "outlinewidth": 0,
              "ticks": ""
             }
            },
            "type": "scattergl"
           }
          ],
          "scattermapbox": [
           {
            "marker": {
             "colorbar": {
              "outlinewidth": 0,
              "ticks": ""
             }
            },
            "type": "scattermapbox"
           }
          ],
          "scatterpolar": [
           {
            "marker": {
             "colorbar": {
              "outlinewidth": 0,
              "ticks": ""
             }
            },
            "type": "scatterpolar"
           }
          ],
          "scatterpolargl": [
           {
            "marker": {
             "colorbar": {
              "outlinewidth": 0,
              "ticks": ""
             }
            },
            "type": "scatterpolargl"
           }
          ],
          "scatterternary": [
           {
            "marker": {
             "colorbar": {
              "outlinewidth": 0,
              "ticks": ""
             }
            },
            "type": "scatterternary"
           }
          ],
          "surface": [
           {
            "colorbar": {
             "outlinewidth": 0,
             "ticks": ""
            },
            "colorscale": [
             [
              0,
              "#0d0887"
             ],
             [
              0.1111111111111111,
              "#46039f"
             ],
             [
              0.2222222222222222,
              "#7201a8"
             ],
             [
              0.3333333333333333,
              "#9c179e"
             ],
             [
              0.4444444444444444,
              "#bd3786"
             ],
             [
              0.5555555555555556,
              "#d8576b"
             ],
             [
              0.6666666666666666,
              "#ed7953"
             ],
             [
              0.7777777777777778,
              "#fb9f3a"
             ],
             [
              0.8888888888888888,
              "#fdca26"
             ],
             [
              1,
              "#f0f921"
             ]
            ],
            "type": "surface"
           }
          ],
          "table": [
           {
            "cells": {
             "fill": {
              "color": "#EBF0F8"
             },
             "line": {
              "color": "white"
             }
            },
            "header": {
             "fill": {
              "color": "#C8D4E3"
             },
             "line": {
              "color": "white"
             }
            },
            "type": "table"
           }
          ]
         },
         "layout": {
          "annotationdefaults": {
           "arrowcolor": "#2a3f5f",
           "arrowhead": 0,
           "arrowwidth": 1
          },
          "autotypenumbers": "strict",
          "coloraxis": {
           "colorbar": {
            "outlinewidth": 0,
            "ticks": ""
           }
          },
          "colorscale": {
           "diverging": [
            [
             0,
             "#8e0152"
            ],
            [
             0.1,
             "#c51b7d"
            ],
            [
             0.2,
             "#de77ae"
            ],
            [
             0.3,
             "#f1b6da"
            ],
            [
             0.4,
             "#fde0ef"
            ],
            [
             0.5,
             "#f7f7f7"
            ],
            [
             0.6,
             "#e6f5d0"
            ],
            [
             0.7,
             "#b8e186"
            ],
            [
             0.8,
             "#7fbc41"
            ],
            [
             0.9,
             "#4d9221"
            ],
            [
             1,
             "#276419"
            ]
           ],
           "sequential": [
            [
             0,
             "#0d0887"
            ],
            [
             0.1111111111111111,
             "#46039f"
            ],
            [
             0.2222222222222222,
             "#7201a8"
            ],
            [
             0.3333333333333333,
             "#9c179e"
            ],
            [
             0.4444444444444444,
             "#bd3786"
            ],
            [
             0.5555555555555556,
             "#d8576b"
            ],
            [
             0.6666666666666666,
             "#ed7953"
            ],
            [
             0.7777777777777778,
             "#fb9f3a"
            ],
            [
             0.8888888888888888,
             "#fdca26"
            ],
            [
             1,
             "#f0f921"
            ]
           ],
           "sequentialminus": [
            [
             0,
             "#0d0887"
            ],
            [
             0.1111111111111111,
             "#46039f"
            ],
            [
             0.2222222222222222,
             "#7201a8"
            ],
            [
             0.3333333333333333,
             "#9c179e"
            ],
            [
             0.4444444444444444,
             "#bd3786"
            ],
            [
             0.5555555555555556,
             "#d8576b"
            ],
            [
             0.6666666666666666,
             "#ed7953"
            ],
            [
             0.7777777777777778,
             "#fb9f3a"
            ],
            [
             0.8888888888888888,
             "#fdca26"
            ],
            [
             1,
             "#f0f921"
            ]
           ]
          },
          "colorway": [
           "#636efa",
           "#EF553B",
           "#00cc96",
           "#ab63fa",
           "#FFA15A",
           "#19d3f3",
           "#FF6692",
           "#B6E880",
           "#FF97FF",
           "#FECB52"
          ],
          "font": {
           "color": "#2a3f5f"
          },
          "geo": {
           "bgcolor": "white",
           "lakecolor": "white",
           "landcolor": "#E5ECF6",
           "showlakes": true,
           "showland": true,
           "subunitcolor": "white"
          },
          "hoverlabel": {
           "align": "left"
          },
          "hovermode": "closest",
          "mapbox": {
           "style": "light"
          },
          "paper_bgcolor": "white",
          "plot_bgcolor": "#E5ECF6",
          "polar": {
           "angularaxis": {
            "gridcolor": "white",
            "linecolor": "white",
            "ticks": ""
           },
           "bgcolor": "#E5ECF6",
           "radialaxis": {
            "gridcolor": "white",
            "linecolor": "white",
            "ticks": ""
           }
          },
          "scene": {
           "xaxis": {
            "backgroundcolor": "#E5ECF6",
            "gridcolor": "white",
            "gridwidth": 2,
            "linecolor": "white",
            "showbackground": true,
            "ticks": "",
            "zerolinecolor": "white"
           },
           "yaxis": {
            "backgroundcolor": "#E5ECF6",
            "gridcolor": "white",
            "gridwidth": 2,
            "linecolor": "white",
            "showbackground": true,
            "ticks": "",
            "zerolinecolor": "white"
           },
           "zaxis": {
            "backgroundcolor": "#E5ECF6",
            "gridcolor": "white",
            "gridwidth": 2,
            "linecolor": "white",
            "showbackground": true,
            "ticks": "",
            "zerolinecolor": "white"
           }
          },
          "shapedefaults": {
           "line": {
            "color": "#2a3f5f"
           }
          },
          "ternary": {
           "aaxis": {
            "gridcolor": "white",
            "linecolor": "white",
            "ticks": ""
           },
           "baxis": {
            "gridcolor": "white",
            "linecolor": "white",
            "ticks": ""
           },
           "bgcolor": "#E5ECF6",
           "caxis": {
            "gridcolor": "white",
            "linecolor": "white",
            "ticks": ""
           }
          },
          "title": {
           "x": 0.05
          },
          "xaxis": {
           "automargin": true,
           "gridcolor": "white",
           "linecolor": "white",
           "ticks": "",
           "title": {
            "standoff": 15
           },
           "zerolinecolor": "white",
           "zerolinewidth": 2
          },
          "yaxis": {
           "automargin": true,
           "gridcolor": "white",
           "linecolor": "white",
           "ticks": "",
           "title": {
            "standoff": 15
           },
           "zerolinecolor": "white",
           "zerolinewidth": 2
          }
         }
        },
        "title": {
         "text": "Davies-Bouldin"
        },
        "xaxis": {
         "anchor": "y",
         "domain": [
          0,
          1
         ],
         "title": {
          "text": "Number of clusters"
         }
        },
        "yaxis": {
         "anchor": "x",
         "domain": [
          0,
          1
         ],
         "title": {
          "text": "Davies-Bouldin"
         }
        }
       }
      }
     },
     "metadata": {},
     "output_type": "display_data"
    }
   ],
   "source": [
    "num_clusters = np.logspace(1, 7, num=25, base=2).astype(int)\n",
    "inertia = []\n",
    "calinski_harabasz = []\n",
    "davies_bouldin = []\n",
    "for k in tqdm(num_clusters):\n",
    "    kmeans = MiniBatchKMeans(n_clusters=k, random_state=42).fit(users_pca)\n",
    "    inertia.append(kmeans.inertia_)\n",
    "    calinski_harabasz.append(calinski_harabasz_score(users_pca, kmeans.labels_))\n",
    "    davies_bouldin.append(davies_bouldin_score(users_pca, kmeans.labels_))\n",
    "\n",
    "\n",
    "fig = px.line(\n",
    "    x=num_clusters,\n",
    "    y=inertia,\n",
    "    title=\"Inertia\",\n",
    "    labels={\"x\": \"Number of clusters\", \"y\": \"Inertia\"},\n",
    ")\n",
    "fig.show()\n",
    "\n",
    "fig = px.line(\n",
    "    x=num_clusters,\n",
    "    y=calinski_harabasz,\n",
    "    title=\"Calinski-Harabasz\",\n",
    "    labels={\"x\": \"Number of clusters\", \"y\": \"Calinski-Harabasz\"},\n",
    ")\n",
    "fig.show()\n",
    "\n",
    "fig = px.line(\n",
    "    x=num_clusters,\n",
    "    y=davies_bouldin,\n",
    "    title=\"Davies-Bouldin\",\n",
    "    labels={\"x\": \"Number of clusters\", \"y\": \"Davies-Bouldin\"},\n",
    ")\n",
    "fig.show()"
   ]
  },
  {
   "cell_type": "code",
   "execution_count": 13,
   "metadata": {},
   "outputs": [
    {
     "data": {
      "text/plain": [
       "array([21, 23, 11, ...,  2, 26, 12], dtype=int32)"
      ]
     },
     "execution_count": 13,
     "metadata": {},
     "output_type": "execute_result"
    }
   ],
   "source": [
    "users_clusters = MiniBatchKMeans(n_clusters=30, random_state=42).fit_predict(users_pca)\n",
    "\n",
    "users_clusters"
   ]
  },
  {
   "cell_type": "code",
   "execution_count": 14,
   "metadata": {},
   "outputs": [
    {
     "data": {
      "text/html": [
       "<div>\n",
       "<style scoped>\n",
       "    .dataframe tbody tr th:only-of-type {\n",
       "        vertical-align: middle;\n",
       "    }\n",
       "\n",
       "    .dataframe tbody tr th {\n",
       "        vertical-align: top;\n",
       "    }\n",
       "\n",
       "    .dataframe thead th {\n",
       "        text-align: right;\n",
       "    }\n",
       "</style>\n",
       "<table border=\"1\" class=\"dataframe\">\n",
       "  <thead>\n",
       "    <tr style=\"text-align: right;\">\n",
       "      <th></th>\n",
       "      <th>user_id</th>\n",
       "      <th>article_id</th>\n",
       "      <th>rating</th>\n",
       "    </tr>\n",
       "  </thead>\n",
       "  <tbody>\n",
       "    <tr>\n",
       "      <th>count</th>\n",
       "      <td>2950710</td>\n",
       "      <td>2950710</td>\n",
       "      <td>2.950710e+06</td>\n",
       "    </tr>\n",
       "    <tr>\n",
       "      <th>unique</th>\n",
       "      <td>322897</td>\n",
       "      <td>46033</td>\n",
       "      <td>NaN</td>\n",
       "    </tr>\n",
       "    <tr>\n",
       "      <th>top</th>\n",
       "      <td>5890</td>\n",
       "      <td>160974</td>\n",
       "      <td>NaN</td>\n",
       "    </tr>\n",
       "    <tr>\n",
       "      <th>freq</th>\n",
       "      <td>1048</td>\n",
       "      <td>34145</td>\n",
       "      <td>NaN</td>\n",
       "    </tr>\n",
       "    <tr>\n",
       "      <th>mean</th>\n",
       "      <td>NaN</td>\n",
       "      <td>NaN</td>\n",
       "      <td>1.093554e-01</td>\n",
       "    </tr>\n",
       "    <tr>\n",
       "      <th>std</th>\n",
       "      <td>NaN</td>\n",
       "      <td>NaN</td>\n",
       "      <td>1.293055e-01</td>\n",
       "    </tr>\n",
       "    <tr>\n",
       "      <th>min</th>\n",
       "      <td>NaN</td>\n",
       "      <td>NaN</td>\n",
       "      <td>8.116883e-04</td>\n",
       "    </tr>\n",
       "    <tr>\n",
       "      <th>25%</th>\n",
       "      <td>NaN</td>\n",
       "      <td>NaN</td>\n",
       "      <td>2.702703e-02</td>\n",
       "    </tr>\n",
       "    <tr>\n",
       "      <th>50%</th>\n",
       "      <td>NaN</td>\n",
       "      <td>NaN</td>\n",
       "      <td>5.882353e-02</td>\n",
       "    </tr>\n",
       "    <tr>\n",
       "      <th>75%</th>\n",
       "      <td>NaN</td>\n",
       "      <td>NaN</td>\n",
       "      <td>1.250000e-01</td>\n",
       "    </tr>\n",
       "    <tr>\n",
       "      <th>max</th>\n",
       "      <td>NaN</td>\n",
       "      <td>NaN</td>\n",
       "      <td>5.000000e-01</td>\n",
       "    </tr>\n",
       "  </tbody>\n",
       "</table>\n",
       "</div>"
      ],
      "text/plain": [
       "        user_id article_id        rating\n",
       "count   2950710    2950710  2.950710e+06\n",
       "unique   322897      46033           NaN\n",
       "top        5890     160974           NaN\n",
       "freq       1048      34145           NaN\n",
       "mean        NaN        NaN  1.093554e-01\n",
       "std         NaN        NaN  1.293055e-01\n",
       "min         NaN        NaN  8.116883e-04\n",
       "25%         NaN        NaN  2.702703e-02\n",
       "50%         NaN        NaN  5.882353e-02\n",
       "75%         NaN        NaN  1.250000e-01\n",
       "max         NaN        NaN  5.000000e-01"
      ]
     },
     "execution_count": 14,
     "metadata": {},
     "output_type": "execute_result"
    }
   ],
   "source": [
    "def get_ratings_from_clicks(clicks):\n",
    "    count_user_article_clicks = (\n",
    "        clicks.reset_index()\n",
    "        .groupby([\"user_id\", \"click_article_id\"])\n",
    "        .agg(\n",
    "            COUNT_user_article_clicks=(\"index\", \"count\"),\n",
    "        )\n",
    "    )\n",
    "\n",
    "    count_user_clicks = (\n",
    "        clicks.reset_index()\n",
    "        .groupby([\"user_id\"])\n",
    "        .agg(\n",
    "            COUNT_user_clicks=(\"index\", \"count\"),\n",
    "        )\n",
    "    )\n",
    "\n",
    "    ratings = count_user_article_clicks.join(count_user_clicks, on=\"user_id\")\n",
    "    ratings[\"rating\"] = (\n",
    "        ratings[\"COUNT_user_article_clicks\"] / ratings[\"COUNT_user_clicks\"]\n",
    "    )\n",
    "\n",
    "    ratings = data_helpers.reduce_dataframe_memory_usage(\n",
    "        ratings[\"rating\"]\n",
    "        .reset_index()\n",
    "        .rename({\"click_article_id\": \"article_id\"}, axis=1)\n",
    "    )\n",
    "\n",
    "    return ratings\n",
    "\n",
    "\n",
    "ratings = get_ratings_from_clicks(clicks)\n",
    "\n",
    "ratings_sample = ratings.sample(frac=0.01, random_state=42)\n",
    "\n",
    "ratings.describe(include=\"all\", datetime_is_numeric=True)"
   ]
  },
  {
   "cell_type": "code",
   "execution_count": 15,
   "metadata": {},
   "outputs": [
    {
     "data": {
      "text/plain": [
       "(322897, 364047)"
      ]
     },
     "execution_count": 15,
     "metadata": {},
     "output_type": "execute_result"
    }
   ],
   "source": [
    "from lightfm.data import Dataset\n",
    "\n",
    "\n",
    "dataset = Dataset()\n",
    "\n",
    "dataset.fit(\n",
    "    users=list(users.index),\n",
    "    items=list(articles.index),\n",
    "    user_features=users_features_df.columns.tolist(),\n",
    "    item_features=articles_features_df.columns.tolist(),\n",
    ")\n",
    "\n",
    "dataset.interactions_shape()"
   ]
  },
  {
   "cell_type": "code",
   "execution_count": 16,
   "metadata": {},
   "outputs": [
    {
     "name": "stderr",
     "output_type": "stream",
     "text": [
      "2950710it [00:08, 355857.48it/s]\n"
     ]
    }
   ],
   "source": [
    "(interactions, weights) = dataset.build_interactions(\n",
    "    (row.user_id, row.article_id, row.rating) for row in tqdm(ratings.itertuples())\n",
    ")"
   ]
  },
  {
   "cell_type": "code",
   "execution_count": 17,
   "metadata": {},
   "outputs": [
    {
     "name": "stderr",
     "output_type": "stream",
     "text": [
      "322897it [00:20, 15462.67it/s]\n"
     ]
    }
   ],
   "source": [
    "user_features = dataset.build_user_features(\n",
    "    (user_id, dict(user_feats))\n",
    "    for user_id, user_feats in tqdm(users_features_df.iterrows())\n",
    ")"
   ]
  },
  {
   "cell_type": "code",
   "execution_count": 18,
   "metadata": {},
   "outputs": [
    {
     "name": "stderr",
     "output_type": "stream",
     "text": [
      "364047it [00:40, 9040.42it/s]\n"
     ]
    }
   ],
   "source": [
    "item_features = dataset.build_item_features(\n",
    "    (article_id, dict(article_feats))\n",
    "    for article_id, article_feats in tqdm(articles_features_df.iterrows())\n",
    ")"
   ]
  },
  {
   "cell_type": "code",
   "execution_count": 19,
   "metadata": {},
   "outputs": [
    {
     "name": "stderr",
     "output_type": "stream",
     "text": [
      "Epoch: 100%|██████████| 20/20 [06:28<00:00, 19.42s/it]\n"
     ]
    },
    {
     "data": {
      "text/plain": [
       "<lightfm.lightfm.LightFM at 0x7fca94179c70>"
      ]
     },
     "execution_count": 19,
     "metadata": {},
     "output_type": "execute_result"
    }
   ],
   "source": [
    "model = LightFM(loss=\"warp\", random_state=42)\n",
    "model.fit(\n",
    "    interactions=interactions,\n",
    "    user_features=user_features,\n",
    "    item_features=item_features,\n",
    "    sample_weight=weights,\n",
    "    epochs=20,\n",
    "    num_threads=8,\n",
    "    verbose=True,\n",
    ")"
   ]
  },
  {
   "cell_type": "code",
   "execution_count": 20,
   "metadata": {},
   "outputs": [],
   "source": [
    "user_id = \"5890\"\n",
    "\n",
    "user_idx = dataset._user_id_mapping[user_id]\n",
    "\n",
    "pred = model.predict(\n",
    "    user_ids=user_idx,\n",
    "    item_ids=list(dataset._item_id_mapping.values()),\n",
    ")"
   ]
  },
  {
   "cell_type": "code",
   "execution_count": 21,
   "metadata": {},
   "outputs": [
    {
     "data": {
      "text/html": [
       "<div>\n",
       "<style scoped>\n",
       "    .dataframe tbody tr th:only-of-type {\n",
       "        vertical-align: middle;\n",
       "    }\n",
       "\n",
       "    .dataframe tbody tr th {\n",
       "        vertical-align: top;\n",
       "    }\n",
       "\n",
       "    .dataframe thead th {\n",
       "        text-align: right;\n",
       "    }\n",
       "</style>\n",
       "<table border=\"1\" class=\"dataframe\">\n",
       "  <thead>\n",
       "    <tr style=\"text-align: right;\">\n",
       "      <th></th>\n",
       "      <th>article_id</th>\n",
       "      <th>pred</th>\n",
       "    </tr>\n",
       "  </thead>\n",
       "  <tbody>\n",
       "    <tr>\n",
       "      <th>0</th>\n",
       "      <td>272143</td>\n",
       "      <td>40.422104</td>\n",
       "    </tr>\n",
       "    <tr>\n",
       "      <th>1</th>\n",
       "      <td>123909</td>\n",
       "      <td>38.064671</td>\n",
       "    </tr>\n",
       "    <tr>\n",
       "      <th>2</th>\n",
       "      <td>168623</td>\n",
       "      <td>37.152534</td>\n",
       "    </tr>\n",
       "    <tr>\n",
       "      <th>3</th>\n",
       "      <td>336221</td>\n",
       "      <td>35.968914</td>\n",
       "    </tr>\n",
       "    <tr>\n",
       "      <th>4</th>\n",
       "      <td>336245</td>\n",
       "      <td>34.323261</td>\n",
       "    </tr>\n",
       "    <tr>\n",
       "      <th>5</th>\n",
       "      <td>183176</td>\n",
       "      <td>33.101089</td>\n",
       "    </tr>\n",
       "    <tr>\n",
       "      <th>6</th>\n",
       "      <td>96210</td>\n",
       "      <td>32.374023</td>\n",
       "    </tr>\n",
       "    <tr>\n",
       "      <th>7</th>\n",
       "      <td>160417</td>\n",
       "      <td>32.352455</td>\n",
       "    </tr>\n",
       "    <tr>\n",
       "      <th>8</th>\n",
       "      <td>331116</td>\n",
       "      <td>31.572062</td>\n",
       "    </tr>\n",
       "    <tr>\n",
       "      <th>9</th>\n",
       "      <td>336223</td>\n",
       "      <td>30.772970</td>\n",
       "    </tr>\n",
       "    <tr>\n",
       "      <th>10</th>\n",
       "      <td>234698</td>\n",
       "      <td>29.876898</td>\n",
       "    </tr>\n",
       "    <tr>\n",
       "      <th>11</th>\n",
       "      <td>272660</td>\n",
       "      <td>27.543612</td>\n",
       "    </tr>\n",
       "    <tr>\n",
       "      <th>12</th>\n",
       "      <td>160974</td>\n",
       "      <td>27.390688</td>\n",
       "    </tr>\n",
       "    <tr>\n",
       "      <th>13</th>\n",
       "      <td>199198</td>\n",
       "      <td>26.246151</td>\n",
       "    </tr>\n",
       "    <tr>\n",
       "      <th>14</th>\n",
       "      <td>124748</td>\n",
       "      <td>26.034639</td>\n",
       "    </tr>\n",
       "    <tr>\n",
       "      <th>15</th>\n",
       "      <td>129434</td>\n",
       "      <td>25.553720</td>\n",
       "    </tr>\n",
       "    <tr>\n",
       "      <th>16</th>\n",
       "      <td>124749</td>\n",
       "      <td>25.195450</td>\n",
       "    </tr>\n",
       "    <tr>\n",
       "      <th>17</th>\n",
       "      <td>123757</td>\n",
       "      <td>25.119715</td>\n",
       "    </tr>\n",
       "    <tr>\n",
       "      <th>18</th>\n",
       "      <td>162655</td>\n",
       "      <td>25.008427</td>\n",
       "    </tr>\n",
       "    <tr>\n",
       "      <th>19</th>\n",
       "      <td>257291</td>\n",
       "      <td>24.726778</td>\n",
       "    </tr>\n",
       "  </tbody>\n",
       "</table>\n",
       "</div>"
      ],
      "text/plain": [
       "   article_id       pred\n",
       "0      272143  40.422104\n",
       "1      123909  38.064671\n",
       "2      168623  37.152534\n",
       "3      336221  35.968914\n",
       "4      336245  34.323261\n",
       "5      183176  33.101089\n",
       "6       96210  32.374023\n",
       "7      160417  32.352455\n",
       "8      331116  31.572062\n",
       "9      336223  30.772970\n",
       "10     234698  29.876898\n",
       "11     272660  27.543612\n",
       "12     160974  27.390688\n",
       "13     199198  26.246151\n",
       "14     124748  26.034639\n",
       "15     129434  25.553720\n",
       "16     124749  25.195450\n",
       "17     123757  25.119715\n",
       "18     162655  25.008427\n",
       "19     257291  24.726778"
      ]
     },
     "execution_count": 21,
     "metadata": {},
     "output_type": "execute_result"
    }
   ],
   "source": [
    "pred_df = pd.DataFrame(\n",
    "    {\n",
    "        \"article_id\": list(dataset._item_id_mapping.keys()),\n",
    "        \"pred\": pred,\n",
    "    }\n",
    ")\n",
    "\n",
    "pred_df.sort_values(\"pred\", ascending=False).reset_index(drop=True).head(20)"
   ]
  },
  {
   "cell_type": "code",
   "execution_count": 22,
   "metadata": {},
   "outputs": [],
   "source": [
    "def aggregate_articles(articles):\n",
    "    return articles.groupby(lambda x: True).agg(\n",
    "        {\n",
    "            col: \"mean\"\n",
    "            if is_numeric_dtype(articles.dtypes[col])\n",
    "            else lambda x: x.mode()[0]\n",
    "            for col in articles.columns\n",
    "        }\n",
    "    )\n",
    "\n",
    "\n",
    "def get_user_interest(user_id, clicks, articles, strategy=\"last_click\"):\n",
    "    user_id = str(user_id)\n",
    "\n",
    "    if strategy == \"last_click\":\n",
    "        last_clicked_article_id = (\n",
    "            clicks.query(\"user_id == @user_id\")\n",
    "            .sort_values(\"click_timestamp\", ascending=False)\n",
    "            .reset_index(drop=True)\n",
    "            .iloc[0][\"click_article_id\"]\n",
    "        )\n",
    "        interest = articles.query(\"article_id == @last_clicked_article_id\")\n",
    "\n",
    "    elif strategy == \"last_session\":\n",
    "        last_session_id = (\n",
    "            clicks.query(\"user_id == @user_id\")\n",
    "            .sort_values(\"click_timestamp\", ascending=False)\n",
    "            .reset_index(drop=True)\n",
    "            .iloc[0][\"session_id\"]\n",
    "        )\n",
    "        session_article_ids = clicks.query(\"session_id == @last_session_id\")[\n",
    "            \"click_article_id\"\n",
    "        ]\n",
    "        interest = aggregate_articles(\n",
    "            articles.query(\"article_id in @session_article_ids\")\n",
    "        ).drop([\"article_id\"], axis=1)\n",
    "\n",
    "    elif strategy == \"all_clicks\":\n",
    "        all_article_ids = clicks.query(\"user_id == @user_id\")[\"click_article_id\"]\n",
    "        interest = aggregate_articles(\n",
    "            articles.query(\"article_id in @all_article_ids\")\n",
    "        ).drop([\"article_id\"], axis=1)\n",
    "\n",
    "    else:\n",
    "        raise NotImplementedError\n",
    "\n",
    "    return interest\n",
    "\n",
    "\n",
    "def prepare_for_scale(articles, category_id):\n",
    "    articles_copy = articles.drop([\"article_id\", \"similarity\"], axis=1, errors=\"ignore\")\n",
    "    articles_copy[\"category_id\"] = articles_copy[\"category_id\"].apply(\n",
    "        lambda x: category_id if int(x) == category_id else 0\n",
    "    )\n",
    "    articles_copy[\"created_at_ts\"] = articles_copy[\"created_at_ts\"].apply(\n",
    "        lambda x: x.value\n",
    "    )\n",
    "\n",
    "    return articles_copy\n",
    "\n",
    "\n",
    "def get_closest_articles(interest, articles, n=10):\n",
    "    category_id = interest[\"category_id\"].iloc[0]\n",
    "\n",
    "    scaler = StandardScaler()\n",
    "    articles_std = scaler.fit_transform(prepare_for_scale(articles, category_id))\n",
    "    interest_std = scaler.transform(prepare_for_scale(interest, category_id))\n",
    "\n",
    "    articles = articles.copy()\n",
    "    articles[\"similarity\"] = cosine_similarity(interest_std, articles_std)[0]\n",
    "\n",
    "    return (\n",
    "        articles.sort_values(\"similarity\", ascending=False).iloc[:n],\n",
    "        scaler,\n",
    "        articles_std,\n",
    "        interest_std,\n",
    "    )\n",
    "\n",
    "\n",
    "def get_collaborative_reco(user_id, model, dataset, n=10):\n",
    "    user_idx = dataset._user_id_mapping[user_id]\n",
    "\n",
    "    pred = model.predict(\n",
    "        user_ids=user_idx,\n",
    "        item_ids=list(dataset._item_id_mapping.values()),\n",
    "    )\n",
    "\n",
    "    pred_df = pd.DataFrame(\n",
    "        {\n",
    "            \"article_id\": list(dataset._item_id_mapping.keys()),\n",
    "            \"pred\": pred,\n",
    "        }\n",
    "    )\n",
    "\n",
    "    return list(pred_df.sort_values(\"pred\", ascending=False).head(n)[\"article_id\"])"
   ]
  },
  {
   "cell_type": "code",
   "execution_count": 23,
   "metadata": {},
   "outputs": [],
   "source": [
    "user_id = \"5890\"\n",
    "\n",
    "interest = get_user_interest(\n",
    "    user_id, clicks, articles.reset_index(), strategy=\"all_clicks\"\n",
    ")\n",
    "category_id = interest[\"category_id\"].iloc[0]\n",
    "\n",
    "closest_article_ids = get_collaborative_reco(user_id, model, dataset)\n",
    "\n",
    "scaler = StandardScaler()\n",
    "articles_std = scaler.fit_transform(prepare_for_scale(articles, category_id))\n",
    "articles_sample_std = scaler.transform(prepare_for_scale(articles_sample, category_id))\n",
    "\n",
    "interest_std = scaler.transform(prepare_for_scale(interest, category_id))\n",
    "\n",
    "closest_articles = articles.iloc[closest_article_ids].reset_index()\n",
    "closest_articles_std = scaler.transform(\n",
    "    prepare_for_scale(closest_articles, category_id)\n",
    ")"
   ]
  },
  {
   "cell_type": "code",
   "execution_count": 24,
   "metadata": {},
   "outputs": [
    {
     "data": {
      "application/vnd.plotly.v1+json": {
       "config": {
        "plotlyServerURL": "https://plot.ly"
       },
       "data": [
        {
         "hovertemplate": "color=174<br>symbol=174<br>x=%{x}<br>y=%{y}<extra></extra>",
         "legendgroup": "174, 174",
         "marker": {
          "color": "#636efa",
          "opacity": 0.3,
          "symbol": "circle"
         },
         "mode": "markers",
         "name": "174, 174",
         "showlegend": true,
         "type": "scattergl",
         "x": [
          -3.904509751227121,
          -1.4952704639975047,
          -1.3720453505659134,
          2.176684718635692,
          -1.3693651748826867,
          -2.121010218564855,
          4.164013453814915,
          5.111198395233564,
          -0.903888706961949,
          -2.149454390434652,
          -3.652630975263551,
          1.5090005482987252,
          3.138285681441805,
          -5.065147296655392,
          3.5157703482197253,
          1.2843493999232758,
          -4.100710829043063,
          2.5184940145793844,
          1.7918527380278315,
          -4.725390364766898,
          -2.3182817968888227,
          -0.13947846021817908,
          0.8480397088993012,
          -0.47448645246249926,
          1.9497520190745916,
          -5.154877356854004,
          -4.164125863797253,
          -4.5316151706985615,
          6.0751750375672,
          2.482142008594965,
          3.8868145695660976,
          1.874149023494692,
          -0.7807566976831093,
          1.0327529161969224,
          0.599009904269401,
          2.227124917748057,
          0.47672255403040054,
          -3.4442822817282903,
          -0.5449975039244471,
          0.8954716710657471,
          -2.922349651356367,
          1.7865365793506789,
          1.5679052361271721,
          0.6685735342334304,
          -2.1341637623589405,
          -5.909481957486499,
          3.444915012492367,
          -1.916453958001875,
          -5.3220189487978455,
          -6.3576707901630565,
          -2.9349329342583177,
          -1.9425597129886822,
          -3.3005402886720936,
          -3.0784084255603923,
          3.481928929477435,
          -3.0004437348300828,
          -5.557033454602929,
          -4.38059645271931,
          -4.75054097028444,
          -1.7237326842156242,
          -1.4938083975117324,
          -6.892933476805121,
          -3.3254626409700725,
          -4.599217021453972,
          -3.1227225983665465,
          0.25244790467806594,
          2.5790794722349513,
          -3.471667754852961,
          2.7122970188233597,
          -2.4349613599539177,
          3.157670414855038,
          -2.6446848557043365
         ],
         "xaxis": "x",
         "y": [
          -2.954162178454852,
          4.720416007219877,
          -3.231987029022646,
          5.153162969318911,
          2.902105777486212,
          4.997513092330103,
          4.404474074751584,
          2.3496590397428303,
          -3.893997019789379,
          -1.5627084053996183,
          7.162645949888713,
          2.663174681969908,
          4.313059595294059,
          -0.4562389165957652,
          1.2164215724387175,
          -0.9747060686589282,
          -0.7275049156979259,
          4.40460177063373,
          3.0577095096647517,
          -0.42073154899327353,
          -0.18738596463150417,
          -3.3548426814161574,
          4.14200039881416,
          3.9439741053507653,
          5.1306749217682395,
          1.5671403509028705,
          3.30904068584899,
          -1.1167981667221767,
          0.8687972357216183,
          5.736455054476515,
          5.686124836456391,
          3.3723793027369986,
          5.00495923682499,
          -7.415258961671533,
          4.978358606973031,
          3.7413329214195064,
          -0.8390334845920319,
          0.8421537760535347,
          5.3292370009121734,
          2.096520704404886,
          0.007150700721348759,
          2.613771161894199,
          -0.6992662272545223,
          -7.736955518856411,
          3.2724552048308775,
          -5.480029557902878,
          1.524491072477068,
          2.3568847464101887,
          5.912206894269332,
          -2.6217514095254923,
          -1.0552612626043498,
          -0.5690324720879529,
          3.003933101715491,
          -2.0560319692693665,
          4.727079290401104,
          5.76481930591502,
          -2.1196833478994215,
          6.717664241645211,
          -2.0786986986683256,
          -1.5027306639883211,
          4.020308722028225,
          -0.5349840598278774,
          0.2526064510160576,
          0.7153219654254329,
          -2.2433108335210816,
          4.772163599966773,
          2.151506450304,
          -1.571052030537048,
          6.216628265407172,
          4.948616805490432,
          2.649036156770807,
          -2.4145440320686573
         ],
         "yaxis": "y"
        },
        {
         "hovertemplate": "color=331<br>symbol=331<br>x=%{x}<br>y=%{y}<extra></extra>",
         "legendgroup": "331, 331",
         "marker": {
          "color": "#EF553B",
          "opacity": 0.3,
          "symbol": "diamond"
         },
         "mode": "markers",
         "name": "331, 331",
         "showlegend": true,
         "type": "scattergl",
         "x": [
          5.369911812341666,
          4.91328491445605,
          4.410215667649323,
          7.796180612107984,
          0.19141729688238643,
          4.405678175306128,
          3.5350313965623563,
          3.1663629424318676,
          4.939131787845651,
          4.086730450624198,
          6.328114242081511,
          4.820279269104143,
          2.4925971312663746,
          3.8433791649652536,
          2.1054592005911528,
          4.49660243040894,
          5.806290399514522,
          6.721957982256128,
          9.85638095546544,
          4.754256680583183,
          2.174959192827714,
          1.3407994489392674,
          5.304127595195137,
          2.5087855721618073,
          6.565810455456748,
          4.306994025753039,
          7.285300236034705,
          3.675282518420915,
          1.902538449545221,
          3.8557940589959534,
          7.747087488776272,
          0.3067444204002544,
          5.912336767754904,
          6.216081015248995,
          5.170669367030933,
          4.486790095752226,
          0.07381363456692745,
          7.647155475291594,
          2.458231029578587,
          2.9511799652381767,
          2.0193900845114174
         ],
         "xaxis": "x",
         "y": [
          -0.9569784548319015,
          -2.2168060031328833,
          -1.5877916143981898,
          -2.559946392956467,
          -0.16401242512411637,
          -1.7678415886648324,
          0.4008899112438327,
          -0.467140420561595,
          -0.08100989174517004,
          1.8180892838971923,
          -1.016207473687256,
          -0.9543445125948289,
          -8.882199908554224,
          -9.115866746458707,
          1.064011628759716,
          -2.2145842237833406,
          -0.9933884897266975,
          1.015811267264495,
          -0.6496567323130625,
          0.8615973861768922,
          -1.5494214659679115,
          0.38969350628485244,
          -2.3992626609845336,
          -6.8451956325332555,
          -5.501596278287042,
          -0.9931535781978584,
          -2.9951430947192557,
          -5.628637682457916,
          -8.713063140601967,
          -0.6032105642330231,
          -1.6539115425750957,
          -0.6583681950950784,
          -2.329001833276608,
          -5.850172284842153,
          1.5069833733526805,
          -2.452819256550752,
          -7.231555144620259,
          2.4337622729838473,
          -1.8673529274250915,
          -1.4326230468341976,
          1.0291969020625753
         ],
         "yaxis": "y"
        },
        {
         "hovertemplate": "color=209<br>symbol=209<br>x=%{x}<br>y=%{y}<extra></extra>",
         "legendgroup": "209, 209",
         "marker": {
          "color": "#00cc96",
          "opacity": 0.3,
          "symbol": "square"
         },
         "mode": "markers",
         "name": "209, 209",
         "showlegend": true,
         "type": "scattergl",
         "x": [
          3.873740609426824,
          -2.981381417997212,
          2.987375623359675,
          -1.4905395077928294,
          1.048755018968608,
          3.520693926602452,
          -0.031052231060152133,
          -3.6650268425445813,
          6.511069474718063,
          -3.775613219899427,
          -3.4319962310761816,
          -0.9931306419826509,
          -0.03830360050574133,
          -2.032737032872739,
          -2.44972847031463,
          -1.1149477413911386,
          3.715584866295868,
          -3.7994505106206162,
          3.570490376286979,
          -4.630080187435347,
          2.7879698572953435,
          -0.8197854690939091,
          -1.0347366453869749,
          -2.5319681288944915,
          2.8455370590833446,
          3.7624867326204385,
          3.8956661660309573,
          0.3290369782907614,
          -0.3293352782793968,
          -4.275729098082397,
          -3.930222737880805,
          4.258041692788197,
          -3.0068441361212415,
          -2.342796382196151,
          7.632369748706132,
          -4.758656586813127,
          8.72485445270975,
          3.4628228776456615,
          3.6863167728662956,
          -6.4861115998974475,
          -1.9300677791055803,
          -4.304245905271354,
          -6.05266507461197,
          -2.5228592524273643,
          -3.657167615492002,
          -4.333681390393285,
          0.4443710490323706,
          1.696987773026996,
          0.31143104395196564,
          4.571536740563815,
          -0.2547118145715247
         ],
         "xaxis": "x",
         "y": [
          4.244974758595002,
          0.043345077039476154,
          5.233662044111644,
          -1.918255066994562,
          4.402094995394104,
          5.3188304952486885,
          5.001710941674842,
          -0.7795816071226228,
          3.8485781812502724,
          -1.9887503293514992,
          1.5962210454517816,
          -0.033472326364193984,
          2.204342126051031,
          -4.590272779033024,
          -5.434861622139784,
          -2.255508461013826,
          5.046489648475481,
          3.6698695138025155,
          3.6483875581546408,
          3.5629684442624963,
          3.899517152464039,
          -2.0406312442693246,
          1.6392168785551706,
          -2.3802209620762094,
          5.26630893018692,
          4.960168281609913,
          4.762706960605238,
          -4.487381567585387,
          4.70480943766628,
          -3.3745004211534217,
          2.2385289836453106,
          3.161142429995901,
          5.192263285809829,
          1.0585834915610994,
          6.9858021934021455,
          4.793735497811376,
          5.579909703069483,
          5.221554165568126,
          3.6817756510685298,
          1.2672021323272824,
          -3.6837699368584516,
          -0.9195599384201287,
          -5.112104229622249,
          -2.8148562903636916,
          2.9811432879939916,
          1.5047882373975283,
          -0.43449932126677765,
          -3.2351374190863518,
          3.2237362702037324,
          -4.343097762646731,
          3.9271675791735037
         ],
         "yaxis": "y"
        },
        {
         "hovertemplate": "color=317<br>symbol=317<br>x=%{x}<br>y=%{y}<extra></extra>",
         "legendgroup": "317, 317",
         "marker": {
          "color": "#ab63fa",
          "opacity": 0.3,
          "symbol": "x"
         },
         "mode": "markers",
         "name": "317, 317",
         "showlegend": true,
         "type": "scattergl",
         "x": [
          -5.108795940524172,
          -0.03800905126575818,
          1.0917647633124254,
          0.6862931454438084,
          -2.607821443786881,
          -5.51897121327969,
          1.5093137234401652,
          2.1598657004329938,
          -0.019393633347738137,
          -0.8578426937256394,
          -2.541055654163859,
          -1.697333150110199,
          -4.437540793843022,
          0.2146218633896647,
          -1.8822199723028274,
          -1.868338575455015,
          -1.776855464664063,
          2.8141679910767006,
          -2.08662997172166,
          -0.18153028121283796,
          -5.172897102949525,
          -5.313815239421593,
          0.02018292828764744,
          -7.079297020112659,
          1.982255038238573,
          -3.423967217539299,
          0.4061171839557119,
          -2.891086738589514,
          1.9238874891058753,
          -5.866769088826207,
          2.193470331111034,
          -0.029484371778170843,
          -3.2806080915513727,
          -2.4410125095904944
         ],
         "xaxis": "x",
         "y": [
          1.8038209656172162,
          -3.1348564397601257,
          -4.151162718827414,
          2.4831693599550806,
          1.6213121212362835,
          -3.134151497411642,
          0.6529070400788272,
          1.5681175990166354,
          2.4291204390862213,
          -3.1920121676156588,
          -6.304135253064386,
          -6.172333483886789,
          3.8125853686825653,
          -3.3190110474973737,
          0.585780747497894,
          4.038699923212279,
          -3.502628778691342,
          -4.210936670416604,
          -4.69248343655762,
          1.4465267140624334,
          2.9388057910712035,
          3.0263261716024137,
          1.6952384002871488,
          -2.4211688391052375,
          -4.637898067486671,
          -0.7246851674241446,
          -2.6730273747183766,
          -3.6934565202568868,
          4.423995878184285,
          -1.290997439998678,
          2.462787201509235,
          2.9909426007657247,
          2.1990080150602807,
          -4.53764489843321
         ],
         "yaxis": "y"
        },
        {
         "hovertemplate": "color=431<br>symbol=431<br>x=%{x}<br>y=%{y}<extra></extra>",
         "legendgroup": "431, 431",
         "marker": {
          "color": "#FFA15A",
          "opacity": 0.3,
          "symbol": "cross"
         },
         "mode": "markers",
         "name": "431, 431",
         "showlegend": true,
         "type": "scattergl",
         "x": [
          0.28072105074198805,
          -2.166359216651192,
          2.677655817538788,
          -0.959486235324701,
          0.4370663830961096,
          -0.5727373152961921,
          0.3464715418401322,
          -5.400826164875683,
          0.436484560195852,
          4.159321935053997,
          -4.939591796654847,
          0.02986396116254718,
          -7.381412731239696,
          1.7288936562085018,
          -1.4618410919822258,
          -6.2170388368504055,
          3.471379850544181,
          -1.7299979151783558,
          2.1645176410431355,
          -6.165984588490987,
          -0.2443301493568179,
          3.5561432470090977,
          0.9245179538880967,
          6.149659471923197,
          -1.3291390174528128,
          -2.311713670601072,
          -0.6955814684884953,
          6.125822457470739,
          -4.428364036389871,
          -3.161180317965597,
          -4.602847833079092,
          -4.258572429394997,
          -5.40040913842026,
          -5.0790688289876265,
          -1.514382348865658,
          2.281159174451079,
          0.7576630810839023,
          -0.5262953573939706,
          1.6601184318240447,
          -3.5465143133023833,
          -4.9324314231048785,
          2.7554803775367014,
          0.6975310186235111,
          -7.602606480307581,
          -6.072857801935737,
          -2.2088081192717013,
          0.0708347586555171,
          4.732873701454613,
          -4.9390066990719745,
          -4.385002287065432,
          6.902444639707159,
          -3.304410218711049,
          5.442071231955215,
          -4.934729495914071,
          4.0878132364447115,
          2.9212511445360083,
          -1.068131016206933,
          -6.788274491145373,
          -1.3444053143617913,
          2.6128578144912273,
          0.10115793039418736,
          -2.8907087927957877,
          1.7058574550866972,
          7.678540459479727,
          -2.1224580937005593,
          5.358131782047008,
          -4.723316399663075,
          -1.1391913770498485,
          -3.1541995088024377,
          -5.572076555459544,
          -0.960426457483868,
          -0.7369359964890737,
          -5.352971039303841,
          1.8213359441232666,
          0.2776279319250988,
          0.3483632573317444,
          -2.9567416238430266,
          -4.7596028116280955,
          4.260134338368905,
          6.246931249147592,
          -2.7070323409943797,
          -4.257197050441243
         ],
         "xaxis": "x",
         "y": [
          -2.4006417519688514,
          -5.666924022043314,
          -0.6944920113323938,
          -5.4623589045977425,
          -3.218944531821422,
          2.0352364046081544,
          -5.793747754819833,
          -4.605776272390638,
          -0.0869545293580022,
          0.03601358703727468,
          -5.998578154590199,
          -4.422395396526471,
          1.1745126081210462,
          -3.1954069737041544,
          -8.613315954687618,
          1.5789072128281345,
          -0.912568626278166,
          -6.140678927390047,
          1.4587089482104658,
          -6.152947301132231,
          -2.0185895015441213,
          -2.9975966916746697,
          -5.6980816298503205,
          3.4437209665664565,
          -0.7632114919675949,
          -0.21679866684839874,
          -0.184312288161765,
          2.03748278138737,
          1.1857817890948588,
          3.173722903557065,
          -5.790047264535459,
          3.2019934153988125,
          0.6366635400789373,
          1.1312335725492508,
          -2.809086750366996,
          2.2913121324623558,
          -2.8447610968242363,
          -4.982312933545209,
          0.08187223215974097,
          0.31764116739023324,
          -3.7728461807422726,
          0.041046045038268524,
          -3.109321111863062,
          -3.510711852639441,
          -4.2681232445688035,
          -6.70494669113874,
          -1.950439186620941,
          -1.0442343917678463,
          -4.152825109707505,
          -5.095313572731906,
          2.091633225140691,
          0.18146982857208174,
          -1.410692090878038,
          2.0938549011408276,
          -0.30160077826266574,
          -0.41316478609009616,
          3.886641744399509,
          -4.019018770323819,
          -0.6642663412020579,
          -0.7191475660884517,
          -4.801885176151057,
          0.15602019154522628,
          -6.093820269682884,
          3.1513246764962854,
          -1.5900754689705143,
          -2.0194388483128956,
          -1.782371502840526,
          -2.819354887470518,
          -0.522935798125465,
          -6.002611458595498,
          -3.951179112111224,
          4.723666306316638,
          0.7855099866119356,
          2.5653746857496413,
          0.3663048934624593,
          -1.5753989027533137,
          -0.10475502989266254,
          -0.926777355876352,
          -1.5647736695361194,
          3.496993191518173,
          -0.89963276140928,
          2.4054447291739804
         ],
         "yaxis": "y"
        },
        {
         "hovertemplate": "color=117<br>symbol=117<br>x=%{x}<br>y=%{y}<extra></extra>",
         "legendgroup": "117, 117",
         "marker": {
          "color": "#19d3f3",
          "opacity": 0.3,
          "symbol": "circle"
         },
         "mode": "markers",
         "name": "117, 117",
         "showlegend": true,
         "type": "scattergl",
         "x": [
          -2.0185080685373533,
          0.8381575043165064
         ],
         "xaxis": "x",
         "y": [
          -2.0890569812920576,
          -9.540318992058612
         ],
         "yaxis": "y"
        },
        {
         "hovertemplate": "color=281<br>symbol=281<br>x=%{x}<br>y=%{y}<extra></extra>",
         "legendgroup": "281, 281",
         "marker": {
          "color": "#FF6692",
          "opacity": 0.3,
          "symbol": "diamond"
         },
         "mode": "markers",
         "name": "281, 281",
         "showlegend": true,
         "type": "scattergl",
         "x": [
          3.2517167818735806,
          5.1821790048773275,
          6.452642098390504,
          5.125080630075552,
          4.117489216981167,
          -1.2348858039197692,
          7.16247516458248,
          0.5669338144290041,
          6.107617611842723,
          -0.16103751936417005,
          5.340266823226489,
          4.6003394032094045,
          5.596729051417122,
          4.206068845872898,
          -0.09698722151746625,
          2.572835130663621,
          4.620065007679701,
          1.5626232771965027,
          -2.537041722895336,
          7.444690870213865,
          6.164725785077383,
          3.4368883086795305,
          1.820786740640926,
          5.85511783298839,
          4.564022072005611,
          1.8065225225153974,
          3.3326824770973,
          1.085434385959118,
          1.3918213395157293,
          3.9923715040847636,
          5.0235282824547705,
          3.4174291365515583,
          2.040705908294119,
          9.639279637254404,
          7.127138898988669,
          3.4357429786514926,
          3.229114559288173,
          2.0558747997645517,
          2.5454518707700906,
          5.578411208372761,
          2.4189397088695412,
          7.569901174746,
          3.071867614679638,
          2.048601138472901,
          4.950554442256435,
          7.346510978222955,
          1.4677989370537448,
          4.417732408084096,
          6.517481757892702,
          3.977346641647669,
          2.2329865967366915,
          7.29973101148432,
          5.5470608696254935,
          4.413870585787586,
          1.9311176904375598,
          4.772229722592436,
          4.831481852629977,
          5.96003980330161,
          5.277189324246447,
          3.62431637080164,
          5.9592664356020695,
          4.317648317510654,
          6.688112233669302,
          5.927652480925119,
          4.242991691436057,
          6.823216957800795,
          10.436483983994137,
          -0.36623334857219786,
          -0.5867179681156166,
          6.805138777216432,
          4.998227776793386,
          7.327653983861543,
          1.0531462301761916,
          7.091549097772675,
          4.4642527825666924,
          5.645200107138874,
          5.4239388768834145,
          4.8709359505414325,
          4.454789049597817,
          6.229639594098997,
          6.329306022056367,
          1.9852233828524,
          7.823134106247006,
          5.606671269892184,
          1.604050721260783,
          7.091007338966937,
          5.102069845494197,
          2.345791512985632,
          3.003867104270116,
          7.4480991642908325,
          5.581425397103015,
          7.609021662841339,
          3.055779766751494,
          2.8948117193388607,
          0.6940044513500232,
          5.795727436121841,
          4.389916393955394,
          4.7963001505806435,
          4.153004821810637,
          0.6326214296195533,
          6.8172255017885055,
          7.308289068376105,
          5.768416963926527,
          6.307996334963122,
          2.334996373153844,
          0.04920625830338732,
          0.9549414925673974,
          7.446218734948899,
          2.8271196848827214,
          6.4143137220902195,
          5.270049603663561,
          2.3540195957988517,
          2.735675690072596,
          1.1229234236072272,
          6.2800423919148045,
          5.059560243443053,
          7.48278225733743,
          0.1720918889848046,
          5.972626422274835,
          5.311369641513028,
          8.247776506969663,
          5.407473396793526,
          9.459582675260261,
          5.580430171851332,
          1.576675212050899,
          2.3223185776535797,
          5.701995274221034
         ],
         "xaxis": "x",
         "y": [
          -0.5742883180471942,
          -1.737249015621364,
          -5.097519689548362,
          2.007665272867414,
          -4.006681955312122,
          -6.604013602957279,
          -0.30900996576281586,
          -10.394307068773754,
          -0.6383791435616267,
          -6.270546123219187,
          -8.075046055024439,
          -4.921558640955031,
          -5.806808140344701,
          -12.960962843449483,
          -7.082169129471799,
          -3.6389818420401787,
          -1.5217740200105496,
          1.0798784608689358,
          -2.6529887015301514,
          -3.7683226088787873,
          -4.998539543172154,
          -4.76381318067537,
          -8.69243780872777,
          -2.247226733041384,
          -4.067943974065947,
          -4.908882917219891,
          -3.5218868939782797,
          1.1601024744249466,
          1.5129794836800656,
          -6.625011030691122,
          -1.6920174163777444,
          -12.016072817912677,
          -11.96953719448495,
          -4.140044799616119,
          -1.0679024441815241,
          -13.392936032190816,
          -2.6941197128175687,
          -6.02412137511682,
          -3.1466300752898895,
          -2.5377700335086666,
          -7.885557292798301,
          -6.27747307281418,
          -7.651522778995085,
          -7.15676480939039,
          -3.06539662897498,
          -8.924747248800188,
          -3.7277734231381467,
          0.28678339689316146,
          -5.661901673962867,
          -2.5172219790676875,
          -7.200254829789798,
          -4.6212606392053575,
          -0.4163103484978581,
          -12.641297145247723,
          -7.3288548522065184,
          -1.8199999554976118,
          -4.088242556377897,
          -1.9576160121501642,
          -3.588393040436333,
          -3.170686838522731,
          -2.7499513717355537,
          0.40862488271160696,
          -4.221865905351427,
          -3.1585950014932123,
          -11.83405465266144,
          -1.9788961754778152,
          1.2439194259191388,
          -8.559006957806941,
          -2.354210521664139,
          -0.6414359643462297,
          -8.628831705541751,
          -4.2694718034333174,
          -9.515123586303394,
          -4.507602429352135,
          -4.091933684759108,
          -1.4007009267420758,
          -4.487856343952641,
          -10.28722435658063,
          -0.03284780688778685,
          -3.1641086608390485,
          0.16558098110223093,
          -6.555438278586226,
          -3.8962789345126247,
          -4.130979400473138,
          -8.789541162835574,
          2.701828699349432,
          -7.793414564549143,
          -11.938352751481343,
          -10.098936777689923,
          -5.641398256240202,
          -0.11656494408613462,
          -9.119281901931739,
          -9.978686548316887,
          -7.037040698608124,
          -3.6667536344703655,
          -2.427610522423872,
          -3.356293475930293,
          -2.543446186529573,
          -2.81323574529285,
          -3.512340888125691,
          -10.823374302454203,
          -2.724781779100337,
          -7.399518709992213,
          -5.8125672293762225,
          -2.8231981935361588,
          -11.475136473569913,
          -1.6627711712610065,
          -6.2910778875646045,
          -6.014522731831295,
          -11.38611592469883,
          -8.078006463990356,
          -0.9312098658318733,
          -2.678420750522866,
          -6.896531586894684,
          -2.424098471949932,
          -3.096782661457406,
          -3.141089088295333,
          -4.328879755318528,
          -3.1184491422371043,
          -3.3002684167022855,
          -4.349754811896251,
          -11.5166231922819,
          -4.247336122351987,
          -4.108216313376877,
          -10.206167862297931,
          -3.8652641137470494,
          -3.0893294580381205
         ],
         "yaxis": "y"
        },
        {
         "hovertemplate": "color=388<br>symbol=388<br>x=%{x}<br>y=%{y}<extra></extra>",
         "legendgroup": "388, 388",
         "marker": {
          "color": "#B6E880",
          "opacity": 0.3,
          "symbol": "square"
         },
         "mode": "markers",
         "name": "388, 388",
         "showlegend": true,
         "type": "scattergl",
         "x": [
          -4.0397495753452155,
          2.5926412197243573,
          -2.575262556465733,
          -0.6544418735824934,
          -5.214326293228052,
          -6.016688261134297,
          -1.6956430554150275,
          1.2804020035980006,
          -5.043985870208154,
          -0.5920613724311572,
          1.1934997262001392,
          -4.178571217378328,
          1.1830000907082374,
          -2.3105618464563635,
          -4.3084197334065495,
          -4.6685323749320435,
          -4.417118994113789,
          -4.161796659579057,
          -3.6728506757678034,
          0.7774663743622343,
          -0.27949946722263264,
          -6.341384485510388,
          -4.371141792731136,
          -5.7676778562379045,
          -0.731410544197842,
          -0.08896297221551977,
          -2.993240386925142,
          -0.13284951949841983,
          4.020666180940075,
          -1.1770876713150296,
          -3.1869064721655707,
          -2.9171655716926326,
          -5.253026378595797,
          -5.977632301117029,
          -2.058790882570067,
          -3.0753146799138054,
          -1.0057482837903948,
          -5.620126727740606,
          -5.822820775287177,
          4.52568203795966,
          -3.2395553025117607,
          -3.889909455593927,
          -6.766307416047761,
          -0.38003188045101444,
          -4.386254948380974
         ],
         "xaxis": "x",
         "y": [
          6.002186734137153,
          1.5131526091964282,
          3.1602370021249095,
          1.20147741128507,
          -1.3434848518892573,
          5.06225888710891,
          -3.2171920781702825,
          -2.8416906346360378,
          3.9676802190095244,
          1.6056141513243611,
          6.548392951919002,
          6.013329366056167,
          4.682630140151119,
          1.3481969520703632,
          4.2754376069311,
          -0.14149025906272203,
          4.192420564847844,
          2.7289333228392696,
          4.6938649531282675,
          2.1858181011833118,
          -3.439145035918214,
          2.860445059990035,
          5.77919880793839,
          3.4761198835088902,
          3.878507392246055,
          3.05233295761895,
          5.065398893755455,
          4.473575233311373,
          5.100475835107388,
          2.2066902834229722,
          4.379662725894166,
          4.091807303297257,
          6.866285375072334,
          0.25615322201740054,
          -2.289816886616725,
          4.0148651729463865,
          -4.359194407550042,
          2.098713208967597,
          -2.241002846832933,
          1.9848023060135047,
          4.767679042376722,
          2.7511378128126114,
          0.6897963109958053,
          4.540316172496251,
          5.447967788007511
         ],
         "yaxis": "y"
        },
        {
         "hovertemplate": "color=354<br>symbol=354<br>x=%{x}<br>y=%{y}<extra></extra>",
         "legendgroup": "354, 354",
         "marker": {
          "color": "#FF97FF",
          "opacity": 0.3,
          "symbol": "x"
         },
         "mode": "markers",
         "name": "354, 354",
         "showlegend": true,
         "type": "scattergl",
         "x": [
          -0.17011572140966424,
          0.31931430134280325,
          -2.1237673242110975,
          0.2418986564624199,
          -1.278951467643458,
          -0.7608325424094785,
          4.0899509806891885,
          2.257864123851118,
          6.224384816331071,
          -0.5440393990446424,
          -2.169576445012029,
          -2.512426115631518,
          -1.0711953243298795,
          -4.356843970255124,
          9.453018635757019,
          -4.0059716726301655,
          -2.2547711448236187,
          -0.14467155339652246,
          -0.865853136002216,
          -3.2095825024685856,
          -0.6806704770923767,
          6.157795201348847,
          9.431770364732133,
          0.5185814875085251,
          -3.525968971129862,
          -3.565537891360479,
          -1.3936006233608014,
          -4.802227220952477,
          8.073188386828859,
          -0.4523069383910947,
          -6.503981309079793,
          2.041333998326959,
          1.1235124026486105,
          -2.0837064079662784,
          -6.226340695032613,
          -1.6858306363936213,
          -3.8264605016456112,
          -2.327497333865583,
          0.13369134861002133,
          7.548974110159767,
          -5.521722311745726,
          2.95429744352893,
          -1.871170802774853,
          5.2477754880547,
          -2.848202486269172,
          -1.3776205487777262,
          -1.820120189482384,
          1.4241652592090865,
          -4.586611015929854
         ],
         "xaxis": "x",
         "y": [
          1.8335234137681862,
          -6.721009197794958,
          1.7167699053257948,
          -2.5969738581290382,
          -5.205688174038837,
          1.4336782260743723,
          4.738356983888361,
          -0.4795760009809824,
          3.667268189162144,
          5.115850842779957,
          -5.7132001909132955,
          2.415007736469786,
          3.735970821598558,
          4.030230902987095,
          1.968920630505363,
          -5.764254336005082,
          3.8627046861785743,
          -4.489548355019418,
          1.9656464378213623,
          0.3024253532663858,
          0.8235399551455205,
          0.9962900550424939,
          -0.8295823848426004,
          1.9335285958976554,
          1.8166093761259172,
          0.0015962131990795996,
          -7.733156150519302,
          -4.611029744602258,
          3.2575144544009573,
          1.0182289663979474,
          -2.6082303955920136,
          0.9495879701071203,
          -4.314788047998101,
          -6.776425778547074,
          -2.3347164647065703,
          2.062248745291389,
          -0.17608804493813202,
          0.8288858793367765,
          0.6051493176476914,
          3.7467964443093758,
          -5.79260476727331,
          1.0724570771537272,
          0.20809591882420456,
          3.2541813058872417,
          0.8057989096837176,
          1.3258451731867864,
          2.0477902936842987,
          1.216182230347329,
          -4.092994933401648
         ],
         "yaxis": "y"
        },
        {
         "hovertemplate": "color=297<br>symbol=297<br>x=%{x}<br>y=%{y}<extra></extra>",
         "legendgroup": "297, 297",
         "marker": {
          "color": "#FECB52",
          "opacity": 0.3,
          "symbol": "cross"
         },
         "mode": "markers",
         "name": "297, 297",
         "showlegend": true,
         "type": "scattergl",
         "x": [
          3.6299931706189295,
          8.129567953382404,
          3.2083351437645984,
          0.8899886465240129,
          2.6201488926099614,
          0.19340871305560053,
          4.360606280645522,
          6.2713377839962,
          4.773490310179043,
          7.025325336552361,
          1.339489582711109,
          3.435822921489854,
          2.1101984727626113,
          7.575952686206996,
          4.703973900051934,
          9.2184542521398
         ],
         "xaxis": "x",
         "y": [
          -3.4055841708969004,
          -3.7508334158035535,
          -2.26436872184757,
          -10.993630161747358,
          -3.69250419938507,
          -7.869246940061899,
          3.2946947286731296,
          -5.886636576192678,
          -5.044454995982449,
          -6.620851179191781,
          -9.887081235448141,
          -5.051084865977341,
          -0.6593880749790841,
          -3.0605377868981773,
          -8.101581436937051,
          -0.37720148796413383
         ],
         "yaxis": "y"
        },
        {
         "hovertemplate": "color=455<br>symbol=455<br>x=%{x}<br>y=%{y}<extra></extra>",
         "legendgroup": "455, 455",
         "marker": {
          "color": "#636efa",
          "opacity": 0.3,
          "symbol": "circle"
         },
         "mode": "markers",
         "name": "455, 455",
         "showlegend": true,
         "type": "scattergl",
         "x": [
          -4.166593625441966,
          -1.8772169081298402,
          -2.3985674067606553,
          1.6668936976306636,
          0.6202233547447361,
          -5.5485521516335226,
          -5.987237438959961,
          -4.027186481536484,
          -4.94678661507606,
          -4.246740047881926,
          -2.8446208150559484,
          -3.326673674242198,
          -6.249973590856382,
          -4.606735205958478,
          -3.6591354507860214,
          -1.8050165296993401,
          -1.8582901578814452,
          -3.988772029066284,
          -9.201250010813588,
          -6.976071428585329,
          0.23016980307910642,
          -2.1481984102996488,
          -5.7410272103355995,
          1.318287993892157,
          -0.01916769210047767,
          -0.6479827956919625,
          -3.734849230907553,
          -2.4229544954135394,
          -3.493135397478035,
          -7.470661262305988,
          -2.770094933369359,
          -3.502406874318859,
          -1.0665811576319093,
          4.7540695833559585,
          -2.8382712769559095,
          -5.434724797971642,
          0.5246024532156701,
          -1.7782620403173128,
          -4.859432988930687,
          3.895325210595297,
          2.6701132336537476,
          4.787194346192453,
          -3.129830832549571,
          2.5344863366986807,
          -6.693777864421355,
          -5.273935683930761,
          -2.2339609366427124,
          -2.0515757398634165,
          -8.473856867520759,
          -2.9603882481270127,
          4.721468163019921,
          -2.1313252937827567,
          -3.2162196196149,
          -0.4447796160628421,
          -7.519818242591878,
          -3.4745954566191064,
          -3.6863053889813533,
          3.8534348374124705,
          -0.7670389794976398,
          -2.777195427243908,
          -4.019447767393634,
          -2.622240992448942
         ],
         "xaxis": "x",
         "y": [
          -1.365833246608067,
          3.1320454958195256,
          2.444578558869139,
          1.8145179842265675,
          4.170983644720352,
          3.4535124196288627,
          5.247753399036613,
          -1.3678334326693302,
          1.1615222424775804,
          4.748252796557225,
          3.866415597145865,
          -6.304602899505563,
          6.785713292035096,
          0.41240569822963224,
          -3.5600228242328034,
          5.02539828569292,
          3.204855073298641,
          2.121984663597927,
          -0.15637273561235762,
          -1.086897555539168,
          0.4865951694652419,
          -3.0707590560955156,
          -0.8959894263255271,
          2.152811096838895,
          2.353003674697376,
          3.4000533589301924,
          -3.8527002283746143,
          4.424053044200759,
          -6.5267664904534755,
          -1.1657530806734093,
          3.37530350542339,
          -1.9152067965502775,
          -0.488810666370743,
          2.56811941347123,
          -6.529604873758221,
          -1.9841197367241672,
          -3.191674656480475,
          -7.069494374839695,
          -0.316930136427107,
          1.7996331938614967,
          0.4788171445678645,
          2.9161175968147566,
          3.296540085301807,
          2.542415329838901,
          3.263899805655893,
          6.090860533735215,
          2.6409104579292504,
          -3.612496175894655,
          -4.383303596195285,
          4.119114355538577,
          4.279677563633728,
          1.3257943013300135,
          3.99519730596313,
          -1.202260169261456,
          0.4230718765677726,
          2.6316539086152475,
          4.153060193669982,
          -2.8414669054728585,
          3.447657215603028,
          -3.749335821013782,
          2.9053088221405763,
          2.331451723605312
         ],
         "yaxis": "y"
        },
        {
         "hovertemplate": "color=269<br>symbol=269<br>x=%{x}<br>y=%{y}<extra></extra>",
         "legendgroup": "269, 269",
         "marker": {
          "color": "#EF553B",
          "opacity": 0.3,
          "symbol": "diamond"
         },
         "mode": "markers",
         "name": "269, 269",
         "showlegend": true,
         "type": "scattergl",
         "x": [
          -4.776253616543945,
          -0.9161585877999315,
          -3.5550353335398754,
          -0.44016450473326135,
          -8.180004123293324,
          4.728325267451807,
          -4.561182480344002,
          -6.286401907265051,
          -3.327034062500448,
          -8.82904382423435,
          -2.9020935380815174,
          -3.7673689145430185,
          7.613934135504341,
          -5.498208889820984,
          -5.897375328628463,
          -5.750770018049417,
          -1.6450144407773624,
          -4.480237453987453,
          -6.036766725170611,
          7.5051166095031,
          2.6513798361382808,
          0.6472736067343818,
          -6.708492036284079,
          9.537787357788334,
          -8.130448012984063,
          -2.5619127391897107,
          0.30754885770620294,
          -2.6458872223518615,
          0.44543640423360137,
          -4.945652674223812,
          -1.9931942626934178,
          -0.5485429699199706,
          2.8877012657237007,
          -5.021181253946283
         ],
         "xaxis": "x",
         "y": [
          6.187421589631346,
          4.886553098456903,
          -1.9497448613304844,
          4.375801731520903,
          1.2690290238745743,
          8.264792227730517,
          6.084478073901678,
          7.657531221780566,
          2.1968596414056014,
          0.8490426724636775,
          6.081569866954448,
          4.275870739467865,
          6.038477446257705,
          6.881267614158465,
          6.12130143006348,
          6.027799605213271,
          6.69251046790093,
          4.469021414355648,
          3.515145575193639,
          1.858912026959122,
          5.78964992746122,
          4.876177156424175,
          -1.6114219954608366,
          4.212566700786652,
          1.2415829522891522,
          5.089172953020717,
          6.792472904090639,
          8.362302037022669,
          6.7081604553586,
          0.14127967641948055,
          5.811217931645941,
          6.161663394546152,
          2.237295852326634,
          4.740959898913343
         ],
         "yaxis": "y"
        },
        {
         "hovertemplate": "color=386<br>symbol=386<br>x=%{x}<br>y=%{y}<extra></extra>",
         "legendgroup": "386, 386",
         "marker": {
          "color": "#00cc96",
          "opacity": 0.3,
          "symbol": "square"
         },
         "mode": "markers",
         "name": "386, 386",
         "showlegend": true,
         "type": "scattergl",
         "x": [
          1.0842166161920248,
          0.01974867941133603,
          1.282913777425205,
          4.25913171812494,
          2.1920779394423464,
          5.264072812453827,
          5.575712484269691,
          -0.323169685847693,
          -0.23249129565307183,
          2.3742538966682436,
          3.766560041311093,
          -1.5817426390820077,
          -0.8923687124225369,
          2.831501356799279,
          2.9501312093399408,
          0.20882440028708263,
          -1.5733387167915565,
          6.272425641055734,
          3.768734147717732,
          0.06676945059065625,
          -0.748723332898848,
          8.060992441275607,
          3.8734370839889096,
          5.221133596080707,
          1.399434968225735,
          1.7251561709351797,
          0.06138681025200068,
          -3.101313381119535,
          3.290811384027467,
          2.538174608817333,
          4.784197614429256,
          4.173344250634922,
          -0.473588271126197,
          6.890072450908189,
          2.812653764324639,
          3.984037634430449,
          1.9902820257611247
         ],
         "xaxis": "x",
         "y": [
          3.0066794664771046,
          3.074657833912162,
          1.9900493514476834,
          1.0811321926874515,
          1.5337976011869343,
          1.8031298523309467,
          2.872029645344214,
          2.5538029307880796,
          4.907727131015981,
          2.6827318126335307,
          3.9505907747053675,
          2.6687439715041825,
          5.281984154966368,
          2.5406770983641516,
          3.1200056352324523,
          2.5481883910507657,
          3.034010033034176,
          2.2536764220234797,
          3.238871326956322,
          1.9599669798699777,
          3.341342898915029,
          2.3528390818995497,
          0.9179062194818614,
          -0.5586697903095106,
          1.6438314542920207,
          2.4739071543186633,
          3.7993486399436884,
          0.7053746453629689,
          1.782323833841622,
          3.6202598061209237,
          4.174340720061198,
          2.9841354068880306,
          1.3119992174864175,
          1.253394988842834,
          3.413186326514014,
          3.1372473448870157,
          3.1333393295441403
         ],
         "yaxis": "y"
        },
        {
         "hovertemplate": "color=67<br>symbol=67<br>x=%{x}<br>y=%{y}<extra></extra>",
         "legendgroup": "67, 67",
         "marker": {
          "color": "#ab63fa",
          "opacity": 0.3,
          "symbol": "x"
         },
         "mode": "markers",
         "name": "67, 67",
         "showlegend": true,
         "type": "scattergl",
         "x": [
          6.670116420996865,
          0.4618808416098006,
          2.302653836935697,
          3.076097601068728,
          3.5842915196884126,
          1.6946940367053394,
          6.287439013166368,
          7.2154615917429865,
          4.355200897013114,
          -0.7074858008446335,
          -0.43054876256185487,
          3.014988379838791,
          5.204011734598044,
          5.434019292521512,
          6.286026365247333,
          1.7759304820384625,
          0.34617020525068903,
          5.906608552468752,
          2.994492912665445,
          1.6414461466819368,
          2.981161019213584,
          2.5595918582272263,
          0.9593064658772769,
          5.154644419442261,
          1.6798221070172952,
          4.038647695204995,
          6.474866988440633
         ],
         "xaxis": "x",
         "y": [
          -1.256761966853211,
          -9.449954509061367,
          -7.911961767654405,
          -2.931816900795698,
          -5.191722050965638,
          -8.8803025917398,
          -1.0143012896475818,
          -0.32674631079239375,
          0.8930020959452541,
          0.48693614240931815,
          -7.23925516305675,
          -11.647821692146014,
          -2.0267420200883723,
          -3.7935926725347926,
          1.6133004204815296,
          -8.176546792353886,
          -7.254164464338863,
          0.6458279096031633,
          -9.454225268477801,
          -5.421166485105286,
          -0.20696839044506202,
          -3.273222782530349,
          -1.646876946267317,
          0.04889015293462234,
          -9.77591105573112,
          1.6795357486451317,
          3.4671265439521095
         ],
         "yaxis": "y"
        },
        {
         "hovertemplate": "color=186<br>symbol=186<br>x=%{x}<br>y=%{y}<extra></extra>",
         "legendgroup": "186, 186",
         "marker": {
          "color": "#FFA15A",
          "opacity": 0.3,
          "symbol": "cross"
         },
         "mode": "markers",
         "name": "186, 186",
         "showlegend": true,
         "type": "scattergl",
         "x": [
          7.224122098207561,
          7.160167713166823,
          6.158303806924095,
          9.141402242627306,
          10.940001339562023,
          4.793292717983528,
          5.851393394164943,
          12.674482268323445,
          12.510985348908426,
          8.270216603062222,
          10.371807893578483,
          8.083600615062807,
          10.678857111291496,
          11.201925845961837,
          7.263822166123507,
          11.420120092859674,
          14.938805743921602,
          10.176388488391561
         ],
         "xaxis": "x",
         "y": [
          -4.970320140677364,
          1.6175376351327189,
          2.8232954205010077,
          0.09538300122125246,
          2.3461333156513082,
          3.9980429633148304,
          3.5640644526234078,
          2.178544564871501,
          3.198864150153798,
          3.5147654092196103,
          -0.888592254428015,
          1.2654860211536942,
          0.00818494191782842,
          0.5320750076060312,
          0.37288543989265094,
          3.0948006679706457,
          5.627965269879384,
          1.5112604933729405
         ],
         "yaxis": "y"
        },
        {
         "hovertemplate": "color=429<br>symbol=429<br>x=%{x}<br>y=%{y}<extra></extra>",
         "legendgroup": "429, 429",
         "marker": {
          "color": "#19d3f3",
          "opacity": 0.3,
          "symbol": "circle"
         },
         "mode": "markers",
         "name": "429, 429",
         "showlegend": true,
         "type": "scattergl",
         "x": [
          -5.222816444835501,
          -0.4803626374108517,
          -8.298473928685683,
          -0.7580214880698585,
          7.244890471721585,
          -1.3717918032481393,
          -0.6654528246551381,
          -6.77049415466132,
          -2.8883239191013286,
          -7.98396794851094,
          -6.9954595565283135,
          -5.924302797310544,
          -3.592332698427063,
          -5.424722495261728,
          -2.195814350409129,
          -5.424954840260444,
          -5.594276414748199,
          -1.2253689986074854,
          4.177758809950919,
          0.15737465887292856,
          -6.545888510645796,
          -2.2287119713510655,
          -5.443846088185887,
          -0.6393413641817306,
          -5.200372554921507,
          4.662081847463683,
          -4.5650109261094505,
          -4.575768831787287,
          -0.8709903920739224,
          -5.815071271831195,
          -2.8392605868407284,
          -3.217692393527955,
          -3.11343824907168,
          -8.97574974536525,
          -2.9055336704381385,
          -4.128051500348321,
          -1.3451391823960746,
          -2.573341956290721,
          -6.861389607049614,
          -4.292999383268399,
          -3.6973484866531043,
          -8.87948835919086,
          -0.5195557627681218
         ],
         "xaxis": "x",
         "y": [
          -6.606511008352088,
          -1.5205911028434953,
          2.9820830552202575,
          -7.581542260444525,
          5.286814125890644,
          4.529767434588209,
          0.5861724253726777,
          2.676172556466877,
          2.4149681240959486,
          -1.8651659418602105,
          -5.20194878699372,
          -5.534868424530156,
          -4.0842386033572655,
          1.3199282684991398,
          2.577876357280186,
          -1.295119708890112,
          -6.151246289039458,
          -0.26120291061848216,
          4.39216845688763,
          3.7740693139624457,
          -2.757817999352682,
          0.09726971672191843,
          2.476456661482649,
          1.2435530212710517,
          4.667241416729924,
          0.9117189430393221,
          -0.6271061050683339,
          5.013792118683515,
          3.0858585259260867,
          3.9071262464883016,
          -2.956786631602295,
          -1.6430260082715076,
          3.5491421001277565,
          3.3022822203314863,
          3.876403630383814,
          3.9209729249029848,
          -4.554438953158568,
          -1.260585765947097,
          2.8481001424395656,
          0.28921207786638486,
          -4.427580459491295,
          1.9559388087316636,
          0.7217862317612976
         ],
         "yaxis": "y"
        },
        {
         "hovertemplate": "color=409<br>symbol=409<br>x=%{x}<br>y=%{y}<extra></extra>",
         "legendgroup": "409, 409",
         "marker": {
          "color": "#FF6692",
          "opacity": 0.3,
          "symbol": "diamond"
         },
         "mode": "markers",
         "name": "409, 409",
         "showlegend": true,
         "type": "scattergl",
         "x": [
          -6.300690083844871,
          -4.727356024084958,
          -7.861689434307121,
          -1.0541414197332057,
          -5.147197777640892,
          -2.0861215227797136,
          -2.868251520048109,
          1.69485384942685,
          -3.697447925517946,
          -3.39761114912925,
          -6.761398022670349,
          -4.562247295347292,
          -5.221636799569983,
          -0.07396580309863587,
          2.63957352981048,
          -4.106986012906201,
          -6.226840089191878,
          -5.133141273672693,
          -2.1309778066697196,
          -4.192989601983809,
          -2.3331861375497054,
          7.065208773236387,
          -4.296359406671067,
          -2.5858082244338623,
          -3.2335898879587455,
          -4.525595314854417
         ],
         "xaxis": "x",
         "y": [
          -0.8284196937762096,
          -1.0905568236622125,
          -5.727537761822409,
          1.7887097321003051,
          0.39140567407332794,
          0.6080058529916326,
          2.631819394948249,
          -1.1260003439366646,
          -6.808001174341496,
          -1.5016120349644522,
          -1.6729011214139162,
          -0.17956309464453432,
          -5.365733599579572,
          2.2998520476898126,
          0.0576279068742751,
          -3.0244629688635616,
          -2.5534517413914437,
          0.8146436384469704,
          1.763167764021124,
          -6.666124434300998,
          -3.674772098041949,
          2.9001251437526765,
          -3.321106046715587,
          1.9309610252728082,
          -5.909177314916506,
          -6.480976486054054
         ],
         "yaxis": "y"
        },
        {
         "hovertemplate": "color=404<br>symbol=404<br>x=%{x}<br>y=%{y}<extra></extra>",
         "legendgroup": "404, 404",
         "marker": {
          "color": "#B6E880",
          "opacity": 0.3,
          "symbol": "square"
         },
         "mode": "markers",
         "name": "404, 404",
         "showlegend": true,
         "type": "scattergl",
         "x": [
          1.057555127800747,
          -2.9777872091416993,
          -0.2908960153888808
         ],
         "xaxis": "x",
         "y": [
          -6.078722585674011,
          -4.998079170381101,
          -6.8035389783940055
         ],
         "yaxis": "y"
        },
        {
         "hovertemplate": "color=247<br>symbol=247<br>x=%{x}<br>y=%{y}<extra></extra>",
         "legendgroup": "247, 247",
         "marker": {
          "color": "#FF97FF",
          "opacity": 0.3,
          "symbol": "x"
         },
         "mode": "markers",
         "name": "247, 247",
         "showlegend": true,
         "type": "scattergl",
         "x": [
          -3.8101858402276654,
          -5.589778444034446,
          -4.70294422791767,
          -0.3082182718950339,
          -0.9620427086826479,
          -4.973134096524296,
          2.3751126428341696,
          -6.0361779021427955,
          -3.8269350840349166,
          -4.521966454462626,
          -6.030790267945015,
          -6.537831185301427,
          -2.5975254516813076,
          -2.5324096530566136,
          -1.3429268903859681,
          -2.983455865246888,
          -5.226336465357129,
          -5.728083864950546,
          1.4094711683661751,
          2.2395902226033937,
          -1.7375429270201586,
          -2.4489206399692547,
          -0.711247060038128,
          -3.9325732414666494,
          -5.106818958962923,
          -3.1134206448575967,
          -6.402380478868109,
          0.9052649847609531,
          1.2057429323394906,
          2.8971720531249825,
          -4.513873311706592,
          -4.5447964013397195,
          -3.071871754887134,
          -3.11760240747154,
          -2.418299747009686,
          -6.376741322329459,
          -0.029672440234972272,
          -2.2167658335240286,
          -3.9708600552570585
         ],
         "xaxis": "x",
         "y": [
          6.604388285379055,
          2.0737892823153117,
          2.6321174539001464,
          -3.088540325383129,
          -0.4618146081024226,
          2.4687039590241553,
          5.699884240839147,
          -1.786832852315856,
          2.7860960113768365,
          -1.3444608606021955,
          4.667373314184914,
          -0.9103406533668409,
          -4.055837592501817,
          -3.8078585865414865,
          -0.29315487162615794,
          6.982643930533381,
          -1.825472225314978,
          5.608351530093307,
          -2.218930864425141,
          2.7929402228519873,
          1.6102452618390353,
          0.8746628797190594,
          6.213006668036691,
          1.844233113033486,
          6.168104890184936,
          1.4395411275896863,
          -1.9415359555161997,
          -0.1278140041812104,
          -2.97256020989348,
          3.7455957846765164,
          -0.2265958965689324,
          6.3452700879830255,
          0.3760250964420111,
          1.2392328677708755,
          0.7679403997318867,
          -3.609173189748965,
          4.693451858904977,
          5.338317614353268,
          6.19425842325987
         ],
         "yaxis": "y"
        },
        {
         "hovertemplate": "color=375<br>symbol=375<br>x=%{x}<br>y=%{y}<extra></extra>",
         "legendgroup": "375, 375",
         "marker": {
          "color": "#FECB52",
          "opacity": 0.3,
          "symbol": "cross"
         },
         "mode": "markers",
         "name": "375, 375",
         "showlegend": true,
         "type": "scattergl",
         "x": [
          0.6100615813537609,
          0.5782579459174189,
          -2.7211677284347373,
          1.7847090148307325,
          -0.8735091738868398,
          -2.4289905361185715,
          -2.0972989337322927,
          0.6088060055826245,
          -2.256973207383026,
          1.5195203881660644,
          1.3728832159757673,
          4.575129636597252,
          -0.48457681388981083,
          3.269369518219528,
          1.8726812062511338,
          2.291930399729442,
          2.4379028556355227,
          -0.19807653856604465,
          2.714077784165187,
          -1.2156257268434443,
          -3.8861832992029535,
          0.5070704741734049,
          -1.6633171768835369,
          -1.447646540978701,
          3.6223800061127345,
          -0.21745739228198244,
          4.072663333225843,
          3.6377591535133544,
          4.389717472130847,
          1.042146484623764,
          0.30966519740942994,
          1.0154781647057705,
          -0.3623032553226146,
          2.0465882556837647,
          3.3029766307042845,
          2.579647048736697,
          3.4256245469146087,
          2.17035572965703,
          -1.6155471249167144,
          5.399469766824847,
          4.454633714011285,
          -0.6754622789330731,
          7.016289986202423,
          -1.0970834648210268,
          0.2238751613089645,
          1.1436223237678103,
          1.9119761228591903,
          -3.68406083129453,
          3.7828769098750588,
          -4.5797669837076995,
          2.2462918982188125,
          0.5077684357207011,
          -0.5559404996504569,
          0.9226209967639403,
          2.957542583616965,
          2.3273634248570176,
          -0.2873536079047947,
          -2.2008742321022536,
          5.6475743786817505,
          1.6663561474101423,
          4.138143008301129,
          1.265999153286603,
          4.045884187290087,
          0.43983323177545447,
          6.466038066541442,
          4.433784615757988,
          4.134822353777977,
          0.10422950346140698,
          -2.5913665034638935,
          1.6880084246282367,
          -4.103356743544538,
          6.496733749798896,
          -2.0936378304989867,
          -1.0541290291792265,
          3.7927348644705505,
          0.6336284467735505,
          -0.48000762022485843,
          3.324889435094514,
          0.15980324705992915
         ],
         "xaxis": "x",
         "y": [
          -4.457612918754762,
          2.422420263184354,
          -3.4082886053480816,
          4.206215980380789,
          3.342368372449046,
          5.571973540843662,
          2.40484105874426,
          3.3921794765695417,
          -7.227690030872427,
          1.199669472975516,
          -2.7233135919565075,
          3.4959047609896996,
          2.864605176117308,
          0.9859082873826468,
          2.6712770395712386,
          1.7441469404246803,
          0.05174481442985748,
          -2.9527236817673574,
          -1.0572432763394366,
          1.2134807787299728,
          -2.450356163404334,
          2.506095289324952,
          2.2404485929985785,
          -4.039018545582299,
          1.1435058159134919,
          -1.9186623899790993,
          -2.8368400094421773,
          0.15486187700250684,
          1.8866325774664674,
          0.23965019541814725,
          2.076850505246723,
          -4.845125498969756,
          1.6755316782364387,
          4.019393649215432,
          3.294657205998832,
          -4.299256981469165,
          3.96145661730012,
          3.207219212674753,
          -7.085193044250998,
          0.7604001111782573,
          2.5475800474146064,
          4.773812606559012,
          3.5131257742573494,
          4.130736071255732,
          -0.20406421309287787,
          4.881640866896449,
          0.7954183073461897,
          1.136863209601214,
          0.537400566238846,
          -1.314327691160191,
          1.412071813625534,
          0.3020456706085462,
          -6.527253240208135,
          0.5627645632745369,
          -3.735542501615682,
          -4.1187435095153395,
          4.777262577769888,
          -5.444368058308246,
          3.7900423368810428,
          2.116494150724825,
          2.4671779627928916,
          3.1248704784811374,
          6.601145760547101,
          2.7972529579715277,
          2.927245625248887,
          0.24790173187104475,
          3.4664318753821735,
          -2.7331060009555146,
          1.88192028164739,
          1.138511932616224,
          -3.338536469830222,
          -1.3893189302078004,
          -2.3369491366596318,
          5.064214742345938,
          2.5223267570158177,
          -3.8491261680102222,
          -3.590407474023803,
          3.9366310092600276,
          4.423852617007508
         ],
         "yaxis": "y"
        },
        {
         "hovertemplate": "color=149<br>symbol=149<br>x=%{x}<br>y=%{y}<extra></extra>",
         "legendgroup": "149, 149",
         "marker": {
          "color": "#636efa",
          "opacity": 0.3,
          "symbol": "circle"
         },
         "mode": "markers",
         "name": "149, 149",
         "showlegend": true,
         "type": "scattergl",
         "x": [
          1.287855688308051,
          -3.8458647817610503,
          -1.3332953907858598,
          -0.0034070495346068684,
          -2.447291973372226,
          1.6446471623664847,
          1.7124819062536836,
          -0.16615791284914289,
          0.04694261099771311,
          4.787621325877139,
          -1.6996586792556279,
          -1.182515823073564,
          -5.3340633407790135,
          0.4692745558229285,
          1.7982862797224004,
          -0.5631608888195256
         ],
         "xaxis": "x",
         "y": [
          4.770841326352503,
          2.3842155601568855,
          5.423292007671784,
          4.840792000978151,
          5.154372500844677,
          4.35399625604214,
          4.634676357345633,
          4.155292077036801,
          6.59217344579113,
          5.214934731835518,
          8.265720250604943,
          3.7234884890151005,
          6.440077326078818,
          3.766471866126227,
          5.142163699984589,
          4.144237495998812
         ],
         "yaxis": "y"
        },
        {
         "hovertemplate": "color=66<br>symbol=66<br>x=%{x}<br>y=%{y}<extra></extra>",
         "legendgroup": "66, 66",
         "marker": {
          "color": "#EF553B",
          "opacity": 0.3,
          "symbol": "diamond"
         },
         "mode": "markers",
         "name": "66, 66",
         "showlegend": true,
         "type": "scattergl",
         "x": [
          12.270909941128116,
          0.9434773551668834,
          5.154621569151996,
          1.4056350381718858,
          4.555560319882903,
          3.511045819422111,
          -1.630823072766759,
          4.253921780109075,
          -0.510687728360405
         ],
         "xaxis": "x",
         "y": [
          5.673361884988916,
          -9.984303663603999,
          0.005003432118709172,
          -6.295476862692769,
          -8.334445724361165,
          -1.0213251068401306,
          -6.909139624426167,
          -10.423503664579387,
          -7.733695554740574
         ],
         "yaxis": "y"
        },
        {
         "hovertemplate": "color=228<br>symbol=228<br>x=%{x}<br>y=%{y}<extra></extra>",
         "legendgroup": "228, 228",
         "marker": {
          "color": "#00cc96",
          "opacity": 0.3,
          "symbol": "square"
         },
         "mode": "markers",
         "name": "228, 228",
         "showlegend": true,
         "type": "scattergl",
         "x": [
          4.529886089905617,
          9.17581830265724,
          8.495735301642666,
          9.686159017130569,
          6.234717995699336,
          6.852060823919067,
          5.904205951614653,
          11.941154907430368,
          8.288910922183094,
          9.588212726858215,
          11.565381169623507,
          11.624461049995753,
          5.828674175792789,
          8.998256479396838,
          9.937355772818881,
          8.009356826931866,
          11.41752547822071,
          7.366423764171175,
          12.211685891096826,
          12.733409304713922,
          9.998516205051018,
          8.983436132562208,
          10.704256056958771,
          11.735192751048027,
          10.811263943000137,
          4.083267523437681,
          7.2957195228252045,
          7.613124233153187,
          9.573006403102585,
          6.92914971059538,
          12.341724485591772,
          9.558304606932756,
          7.330991090949737,
          9.478637094981332,
          9.047166141743249,
          5.053565110718966,
          6.770101576899994,
          9.410426047430564,
          13.43415634976249,
          10.821512184388538,
          8.24001643978591,
          7.1713685193839,
          9.669626182471804,
          10.027752749062904,
          11.026762224168264,
          7.940753809353206,
          11.158715128538539,
          8.584935651951888,
          9.341923730615596,
          9.230154039246909,
          9.042878744665423,
          10.884505816731227,
          8.90167432610044,
          11.859277705778624,
          12.108532734173055,
          9.66350930257437,
          12.841772143901816,
          8.328649620984732,
          11.771261544922467
         ],
         "xaxis": "x",
         "y": [
          1.9012018420962535,
          1.9831632449617582,
          2.899673686793931,
          2.4422423079116644,
          -0.27855018864427467,
          2.0415765825087995,
          4.9433593854727755,
          -0.6278574051865556,
          1.978008531323942,
          1.4722912271653092,
          2.852919875359825,
          0.5674318842487684,
          -0.6019485199417428,
          4.759589304327764,
          2.5460948462478723,
          1.93004685074902,
          2.5179883297664927,
          7.390966296672337,
          2.408261770134128,
          1.2464312844679732,
          -0.25446755691131845,
          5.319897805530424,
          0.6011686320942541,
          4.168524576521215,
          -0.34850671721023074,
          0.14796491608260262,
          1.0703766810090123,
          -1.0274159461675048,
          0.4276782339444834,
          3.858735603289074,
          -1.4966665839513749,
          2.9306849135134487,
          1.0425403592275797,
          0.7097524329886592,
          5.447184217944497,
          3.6383166356896752,
          -0.06768835503630223,
          1.4576419604193924,
          -1.7069088930315066,
          0.056342584729618575,
          0.1787330512431995,
          0.6647606161304482,
          3.310595306269326,
          3.5425761293664424,
          2.402339699958049,
          -0.6594601685804743,
          1.4351931542092005,
          3.219004471553625,
          1.2346306124695425,
          0.8671317159681752,
          3.0865165022534247,
          1.4840585021188621,
          2.595219693740111,
          2.253544731219668,
          3.2571822159118895,
          -0.05534288065340943,
          0.16159872862320818,
          2.1025086045815415,
          3.0908955693796343
         ],
         "yaxis": "y"
        },
        {
         "hovertemplate": "color=10<br>symbol=10<br>x=%{x}<br>y=%{y}<extra></extra>",
         "legendgroup": "10, 10",
         "marker": {
          "color": "#ab63fa",
          "opacity": 0.3,
          "symbol": "x"
         },
         "mode": "markers",
         "name": "10, 10",
         "showlegend": true,
         "type": "scattergl",
         "x": [
          -4.068024633794309,
          -1.3454702178222597,
          -0.5526827936572779,
          -3.5737150053788143,
          -1.065486590716274,
          -2.350582885093667,
          -3.8243267579014417,
          -1.8712875884319051,
          -5.724458913926698,
          1.1588964948060185,
          -3.926067361904224,
          -6.4578318332474165,
          -2.7134193216453513,
          1.439407853441422,
          -3.273962260508485,
          -4.8131141020508865,
          -3.0289837170657123,
          0.5553425648446391,
          0.6532289535890499,
          -4.734312307537833,
          -6.680118506319132,
          -4.477409999656088,
          -5.684241006082861,
          -2.191527635511929,
          -0.8265238754174736
         ],
         "xaxis": "x",
         "y": [
          5.04377976413313,
          1.6216369274180285,
          4.228089512774167,
          6.518898503380917,
          5.411738337879004,
          4.683912941752222,
          5.807860262577211,
          3.086895802186203,
          6.325369505384624,
          3.1459903650654186,
          5.575556294755534,
          5.639456088489213,
          6.944842766151725,
          4.07400956138182,
          4.868511023191446,
          5.1870513415897435,
          3.508894107433413,
          4.747488237100515,
          5.039259866399145,
          4.421614639675952,
          5.852072657936091,
          2.4576916281753536,
          6.331282047868019,
          5.1594093434023165,
          5.538056107162122
         ],
         "yaxis": "y"
        },
        {
         "hovertemplate": "color=26<br>symbol=26<br>x=%{x}<br>y=%{y}<extra></extra>",
         "legendgroup": "26, 26",
         "marker": {
          "color": "#FFA15A",
          "opacity": 0.3,
          "symbol": "cross"
         },
         "mode": "markers",
         "name": "26, 26",
         "showlegend": true,
         "type": "scattergl",
         "x": [
          -7.828157743847168,
          -3.9486157600099343,
          -3.701594164727045,
          -7.392211972865492,
          -5.996724182650785,
          -6.2248072573927855,
          -3.48617132896607,
          -2.8667930847907352,
          0.24561524282643904,
          -1.1583407261081846,
          -4.3589366376335175,
          -6.804474161725065,
          -0.39375702275696783,
          -2.7049801551800754,
          3.5375278705173745,
          -1.1594765732307188,
          -1.975828397106494,
          -5.224227915857598,
          -4.011863202257399,
          -7.2525690638008635,
          -3.0178057822728217,
          -3.1125650963661586,
          -7.105308310363632,
          -3.547880292140248,
          -6.216821052538728,
          -5.6128689537242815,
          -5.479793501792555,
          -0.48985179647435934,
          -4.352267030657419,
          2.892456016689933,
          -7.510616337907041,
          -6.918961865123245,
          -1.7361583789939823,
          -6.936216409153168,
          -2.8482109593367126,
          -2.853422401190805,
          -6.658027064530649,
          -7.088856572960517,
          -4.486777866013405,
          -0.7148574194995353,
          -6.115936308867769,
          -0.501758663214609,
          -6.8207010545825355,
          -1.7056836132651165,
          -1.9918265999811295,
          -3.3732245069845117,
          -1.5918649981517403,
          -4.661424855342392,
          1.6829060599283068,
          -6.788142411142613,
          -3.4047816054464657,
          -0.10100590371432018,
          -7.4748572841848455,
          -2.654494257930783,
          0.1491024412793374,
          0.6262505076921947,
          -5.6534554758991735,
          -1.51400417415759,
          1.2305281624907456,
          -10.185633685821522,
          -2.649583119627943,
          -7.174932900496674,
          -0.3479996124097567,
          -4.120385927459713,
          -2.8760043721442896,
          -2.069793098791428
         ],
         "xaxis": "x",
         "y": [
          -1.048160104639295,
          -3.6422126065340863,
          -0.04256568422967257,
          1.9215395530755541,
          -0.8966020227412593,
          7.418638782319626,
          -1.315364752520301,
          2.3211404720755118,
          -2.163232034331339,
          -1.917821254252676,
          2.343896612292066,
          0.0749900659003671,
          -1.5220733771470472,
          2.9735449993146803,
          7.342560062307019,
          3.389602956640232,
          1.9275234536291819,
          0.557015982903333,
          3.8950647349107705,
          5.748678584103267,
          3.7435706505985253,
          -4.168993814463168,
          3.291684991224664,
          8.03921010250856,
          6.259077054966576,
          2.875355653471538,
          4.7769820972223895,
          3.2673330992139893,
          -2.3466794460227756,
          3.7212760961401985,
          4.491522231254536,
          4.953655466895654,
          3.1015552665821673,
          4.367757871274971,
          3.9617061828366347,
          0.9325484652361529,
          -0.20069228787412013,
          6.519288533456103,
          0.2501382897005432,
          5.105522027007005,
          -2.410163491681117,
          2.49167077752596,
          -0.550539750728573,
          2.917776372026058,
          -4.3564607847726435,
          3.623040702487409,
          8.599577006134567,
          -0.8917031060927944,
          3.704553015230376,
          -0.4707936095119129,
          4.670364249012042,
          5.231381395387649,
          2.2793948511078037,
          4.382579461988787,
          -1.768862114447304,
          3.239602734131356,
          4.571117478405418,
          2.138775269639755,
          1.5618507278317877,
          -1.074688539859993,
          1.5603276505573105,
          -1.2136415808211416,
          -4.177043098645561,
          4.830371657655115,
          3.1807518920791438,
          1.7143134046202662
         ],
         "yaxis": "y"
        },
        {
         "hovertemplate": "color=432<br>symbol=432<br>x=%{x}<br>y=%{y}<extra></extra>",
         "legendgroup": "432, 432",
         "marker": {
          "color": "#19d3f3",
          "opacity": 0.3,
          "symbol": "circle"
         },
         "mode": "markers",
         "name": "432, 432",
         "showlegend": true,
         "type": "scattergl",
         "x": [
          -3.5037822922147748,
          -0.9420631566371782,
          -0.6441041461648327,
          -0.4896146413728902,
          -6.543541249076462,
          -5.271223308442892
         ],
         "xaxis": "x",
         "y": [
          0.9399251731215978,
          0.27071729202376693,
          1.432005438939825,
          4.335565311022055,
          1.2955372610011175,
          1.2740544582400855
         ],
         "yaxis": "y"
        },
        {
         "hovertemplate": "color=398<br>symbol=398<br>x=%{x}<br>y=%{y}<extra></extra>",
         "legendgroup": "398, 398",
         "marker": {
          "color": "#FF6692",
          "opacity": 0.3,
          "symbol": "diamond"
         },
         "mode": "markers",
         "name": "398, 398",
         "showlegend": true,
         "type": "scattergl",
         "x": [
          -3.300180659306675,
          -2.1194173318210936,
          -5.587866995453228,
          5.338453127261796,
          -3.421697161178387,
          -0.9769602821016945,
          -6.445592702726237,
          -6.683642598219182,
          -2.641800230944078,
          -8.192883507345275,
          -4.1881834183409365,
          -0.31408284234515954,
          -3.6479230975505703,
          -5.230688681624062,
          -0.012377440585880901,
          -3.6327796954255613,
          -5.742100395829376,
          -6.809946042694374,
          -0.17674490630723744,
          2.791502570853307,
          3.1290845979137565,
          -5.95586370090494,
          -2.7324480552546255,
          2.1625453332470843,
          -4.693392686894035,
          -5.266478835132006,
          -4.859669310078004,
          -4.178148756681666,
          -3.4648934888902487,
          -2.064086137921594,
          -1.627047257581427,
          -5.824853766304227,
          -4.089867875712212,
          0.35815575808046163,
          -7.343142772363689,
          -6.0822593177192665,
          -3.9803331743759385,
          -1.9113628922398143
         ],
         "xaxis": "x",
         "y": [
          0.8152639843954601,
          1.5830687380554265,
          3.4896300145649684,
          1.1354148213784467,
          0.8322047560301724,
          2.1733550867531144,
          3.1434215580822205,
          2.677497682331202,
          4.769049469928261,
          -2.6942030206517806,
          -1.9565075024663803,
          1.7875210221101316,
          0.02401154046269572,
          -2.292835633033932,
          -5.4704074477495395,
          1.5384319448754324,
          1.7407726018250442,
          3.3089529798015174,
          -5.860869317834721,
          -2.2770170091423494,
          -3.8768085516757615,
          -4.425891042018052,
          -0.8449015422587077,
          -0.33926195571891904,
          0.6392476278708902,
          -4.193827236439095,
          3.8185055693637313,
          -4.089738051629608,
          -5.098976116888244,
          2.933637503364518,
          2.616829305853851,
          3.259385987465899,
          3.7094300292664197,
          2.110889149911538,
          -1.3685093679689395,
          -1.7732695366148605,
          -2.7739734108957705,
          4.253136701434672
         ],
         "yaxis": "y"
        },
        {
         "hovertemplate": "color=428<br>symbol=428<br>x=%{x}<br>y=%{y}<extra></extra>",
         "legendgroup": "428, 428",
         "marker": {
          "color": "#B6E880",
          "opacity": 0.3,
          "symbol": "square"
         },
         "mode": "markers",
         "name": "428, 428",
         "showlegend": true,
         "type": "scattergl",
         "x": [
          5.884195446057494,
          0.9152705656463103,
          -2.1486116015268464,
          -6.8346620710471635,
          -6.0874285706128815,
          -2.6576764139340945,
          3.6638501805621972,
          -3.32403689382425,
          -6.783070794253623,
          0.042701651508251746,
          -3.210960797995538,
          -6.9622205381678395,
          -3.0778836405463226,
          4.423490800851047,
          5.172389122577491,
          3.631485812210394,
          -0.10074519019032932,
          2.4818745174532633,
          1.2910592986804121,
          -5.147428688425875,
          -2.938441801149841,
          -4.134104803774798,
          -2.4262520715882525,
          -1.3332382444454935,
          0.05559643304989987,
          -4.544816593492427,
          -2.5568129543485516,
          -5.638671736431056,
          -4.002257251251302,
          -5.388798378946373,
          -2.1305830533183805,
          -2.8900430025805885,
          -2.2387345692537366,
          1.0015944614526953,
          -7.942018202776437,
          -4.403627013289665,
          -2.972833537476251,
          -0.6395859456749007,
          -1.385635421269466,
          -0.46039934949133926,
          -1.6790686146335156,
          0.507359793374146,
          -1.5384225228516397,
          -0.31449195104189204,
          -5.346466678885479,
          -5.723364288385456,
          5.1619469240420335,
          -4.164939189875574,
          3.575520114180031,
          -2.168703904943319,
          2.0578876207374748,
          -6.371695168068413,
          -1.1428905542238692,
          -5.747254025450741,
          2.8892214075649796,
          0.8124694471828234,
          -4.860242931794019,
          -3.4047645733972343,
          -2.900648189865875,
          -5.577066417163267,
          2.1192528505571153,
          -4.269381614742544,
          1.5686691161080089,
          -0.7441925477764025,
          -5.478896629000918,
          -6.359778451472388,
          -2.3854403577280574,
          0.46750083095045125,
          -2.946286754751795
         ],
         "xaxis": "x",
         "y": [
          1.0562707884004605,
          0.7096056627072438,
          2.6269834018562044,
          4.37952822229594,
          -1.2965461566597654,
          -0.445519755612232,
          -1.9936591431551014,
          -6.211104608695929,
          5.079598522613511,
          3.3798153161110354,
          3.2851226563574127,
          4.32624221164223,
          -1.916191689739495,
          -0.709566529456834,
          0.4072265997299876,
          1.7772419842081415,
          2.7827699288846732,
          2.9946528140268005,
          0.848199621861237,
          4.507291421492272,
          -4.008265352534566,
          -4.78915519522947,
          -2.2881245797967185,
          2.7103406764122098,
          -0.831126225483848,
          1.5126358222155958,
          -5.304746601102335,
          2.8024297524462405,
          1.181846529085386,
          2.970059493637955,
          -5.638660033010337,
          -3.830444277882454,
          1.8289753317914064,
          -3.3985477749722603,
          -1.2363789684692992,
          0.8689044901528489,
          3.9926635067123875,
          -3.8694680652983475,
          0.6293808290729956,
          1.3768261576686163,
          0.824476071152433,
          -1.33622660697971,
          -1.999134440581679,
          -2.79829835406961,
          -5.548857809152166,
          1.5767050585908742,
          -2.472999065032977,
          -7.454574357083107,
          2.922719500034132,
          4.515619499346033,
          -2.2189072632564413,
          -4.2190157420304155,
          0.9962193012047486,
          -2.968848096937956,
          -4.6692001290569864,
          1.1904262310415694,
          -1.3114827869870027,
          3.8143140094912527,
          1.2802094574014176,
          -3.9281818223012075,
          0.3346865870221272,
          -3.9420780764242025,
          0.07943684302542904,
          -0.4681692182864824,
          3.669494639749493,
          0.013497300893777235,
          -5.204445232420395,
          1.2533427161513677,
          -5.2135989804906995
         ],
         "yaxis": "y"
        },
        {
         "hovertemplate": "color=147<br>symbol=147<br>x=%{x}<br>y=%{y}<extra></extra>",
         "legendgroup": "147, 147",
         "marker": {
          "color": "#FF97FF",
          "opacity": 0.3,
          "symbol": "x"
         },
         "mode": "markers",
         "name": "147, 147",
         "showlegend": true,
         "type": "scattergl",
         "x": [
          -0.7156145912679435,
          3.257900074586137,
          1.2453761699413965,
          -0.8984188274007664,
          1.7201023599140086,
          0.3072452383602436,
          -3.5742540155394043,
          -0.03530653116382797,
          5.318314006154704,
          2.3088592256330087,
          0.9207892447013567,
          7.546492093532045,
          1.1329860662899118,
          0.6621135082545833,
          -2.438643750121157,
          6.6721640103548205,
          0.2803447651220106,
          -3.223312758684389,
          0.04483932497795028,
          1.5094744118975723
         ],
         "xaxis": "x",
         "y": [
          -2.7367177424583438,
          -4.232838268106265,
          -7.01131176116322,
          -4.03639383698253,
          -2.346947922094731,
          -1.3078621124006655,
          -2.299637987095302,
          -3.5748697195727,
          0.26794523770950873,
          -2.532783398553905,
          -10.833424403431293,
          -0.37980285859162227,
          -1.3756080386443974,
          -0.9823636860298933,
          -0.015230548203954987,
          -8.39975396638031,
          -6.12535407652844,
          -1.0803599920586981,
          -9.638988188696096,
          -6.8899458287949775
         ],
         "yaxis": "y"
        },
        {
         "hovertemplate": "color=323<br>symbol=323<br>x=%{x}<br>y=%{y}<extra></extra>",
         "legendgroup": "323, 323",
         "marker": {
          "color": "#FECB52",
          "opacity": 0.3,
          "symbol": "cross"
         },
         "mode": "markers",
         "name": "323, 323",
         "showlegend": true,
         "type": "scattergl",
         "x": [
          -3.2043019413297866,
          -2.6480358861061064,
          -3.420720659411244,
          -6.700284389041969,
          -3.9911839334166843,
          3.2911512050834095,
          -6.127804658082342,
          -8.330668541089963,
          -0.33185871684417634,
          -0.27240246140543545,
          1.30887912111711,
          -2.778194829187766,
          -8.108588977092248,
          3.038123718237247,
          -4.739512914537467,
          -2.221797592600966,
          5.467536635768328,
          -3.885204869693585,
          -6.471679389101257,
          -5.288498932717195,
          -0.4020351596857954,
          -2.7341923999630864,
          -3.8940038709935885,
          -4.935542660288309,
          -1.6017238700343601,
          -2.5176057201586723,
          -6.29021266453238,
          -4.725746459142324,
          1.2175202999263262,
          -3.0389356178825095,
          -5.421239755994898,
          0.31151799737565683,
          5.133043352526515,
          -1.4779998715542741,
          -0.07976471100641343
         ],
         "xaxis": "x",
         "y": [
          3.1925502892356477,
          2.442008505569122,
          -2.592337145307673,
          -2.4890185173465547,
          -3.737341944024405,
          1.9593473694518106,
          -5.06584933661772,
          -4.705057752997198,
          -0.030007514347865052,
          3.5389632709933063,
          -6.7738732342852925,
          0.5213158802562249,
          2.1200657548074524,
          1.4148935101776412,
          3.8700559943672688,
          -4.165677570828288,
          1.409216523090263,
          -3.7619929962368563,
          -4.296264106228107,
          1.6757445335349554,
          -2.0355419376518498,
          0.8761151265009758,
          0.9147294976762703,
          1.6984301592917954,
          3.7184700031119085,
          -0.21140273351511868,
          -3.7480028534987806,
          2.9818826010828468,
          -0.519213123274952,
          -2.4333698728737314,
          3.432520353646825,
          0.5084177643103471,
          1.5521903897628895,
          -1.362721571377122,
          -4.917614287046018
         ],
         "yaxis": "y"
        },
        {
         "hovertemplate": "color=421<br>symbol=421<br>x=%{x}<br>y=%{y}<extra></extra>",
         "legendgroup": "421, 421",
         "marker": {
          "color": "#636efa",
          "opacity": 0.3,
          "symbol": "circle"
         },
         "mode": "markers",
         "name": "421, 421",
         "showlegend": true,
         "type": "scattergl",
         "x": [
          -5.110892557655679,
          -5.569639146066052,
          0.18102301977294064,
          3.9347258867112465,
          -2.264563139160739,
          3.3063884451487535,
          -5.9884798091467895,
          -2.168740241597005,
          -2.682768288400586,
          -2.4739311899974163,
          -0.34610120182619836,
          -4.3219357042785616,
          -1.302411024406675,
          -4.120337027539189,
          -5.8556954980354305,
          -6.213982852430484,
          -1.6463789153064246,
          -1.2824151461920426,
          1.69627739202856,
          -2.8978972720524117,
          -7.6353814765548345,
          7.475727084534212,
          -7.087242111701885,
          3.5064889945657782,
          -7.013767225536161,
          -4.235339036425454,
          -6.934057926169772,
          -4.819685260361073,
          -7.088193404207528,
          1.7064252945534317,
          -2.750707196498675,
          0.0727337424113314,
          -2.181355558296814,
          -4.072477352560218,
          -4.10548191397898,
          -4.496848172775744,
          -3.6267276000237247,
          -4.436917599978544,
          -2.0127634575662126,
          -1.5350929821440744,
          -1.4457393495507616,
          -1.700037770389944,
          -5.114807795129331,
          -4.787904733109344,
          2.9624717251958335,
          -4.560458874874025,
          -5.865130506579828,
          -6.418818962605369,
          -0.9001566510156773,
          -2.1678648380780783,
          -2.55457828850177,
          -4.161497486581925,
          1.910983486680031,
          -4.142898828827519
         ],
         "xaxis": "x",
         "y": [
          -5.091339682383309,
          -2.9695240454977534,
          0.738739008737001,
          -5.301909640083205,
          -0.46620436112858576,
          1.168769848161154,
          2.438256115175975,
          -3.1377792595430436,
          1.0171570674375403,
          0.6945745686510124,
          -2.1961480090043324,
          3.953628219992786,
          -2.3238788952266947,
          -9.327250005453308,
          -1.6966393535682707,
          0.5660245848015975,
          -3.8258656477179143,
          1.069887595817083,
          1.284546767296511,
          -4.924105392062202,
          -3.220965878684152,
          -4.340316029721467,
          -2.708770172570251,
          1.7132810496727697,
          -3.147252717051126,
          -0.15908128634964608,
          -2.547225181149521,
          -2.384517504718957,
          0.45514859588742806,
          -6.792162973544556,
          0.7428403729246246,
          -0.6229902818124121,
          -0.7840303567982478,
          2.606785730889801,
          -3.1289597395944853,
          2.1171963845089232,
          -2.0412968670253844,
          2.5879709067348178,
          -6.450477193589215,
          1.2013347113241677,
          1.0342407260790303,
          2.762788314492022,
          -2.43929489130771,
          1.2748124505596108,
          -0.2942796405031667,
          1.5658956978567315,
          -3.8542428156339996,
          0.5329444410436283,
          -3.7083946619372083,
          -1.7534894555688418,
          -5.12851669168928,
          4.206855603797,
          0.4072425440122115,
          -3.529875408853842
         ],
         "yaxis": "y"
        },
        {
         "hovertemplate": "color=353<br>symbol=353<br>x=%{x}<br>y=%{y}<extra></extra>",
         "legendgroup": "353, 353",
         "marker": {
          "color": "#EF553B",
          "opacity": 0.3,
          "symbol": "diamond"
         },
         "mode": "markers",
         "name": "353, 353",
         "showlegend": true,
         "type": "scattergl",
         "x": [
          -0.2983585510564796,
          0.7144864876998036,
          -5.573303664813829,
          -0.5968530389908846,
          -4.720667026350223,
          -0.6240665924670304,
          1.1223257903538315,
          -3.057143904815529,
          -3.044409096247963,
          -0.724983337922022,
          -6.252138121231126,
          -4.678045982298188,
          2.0715708834004802,
          -0.7865568653385425,
          -0.8328950304353837,
          -0.2846626199666634,
          -2.176420057263681,
          -6.093523425506017,
          -3.7550970945764206,
          -3.011082900531859,
          -1.4907587857847249,
          0.43704018881079837,
          0.3428147166818596,
          4.308252337107537,
          -0.8795296459966372
         ],
         "xaxis": "x",
         "y": [
          0.8250291999193899,
          -3.6619708977602263,
          -1.7031964307847551,
          -0.4546838237885581,
          -3.284073236235505,
          2.1983196569275765,
          2.7379226628460582,
          0.12121254383389536,
          0.3298040807116878,
          2.0121065352613874,
          -3.864072148142447,
          -3.786387954433149,
          -6.259671227934773,
          2.518559932260564,
          2.905820304181772,
          0.5593611508775443,
          -4.342430971404454,
          -3.145038507558707,
          -1.7430959891785454,
          3.1566653145190617,
          3.9961302156034666,
          -4.390092274716753,
          -5.471771181172781,
          1.250629493832556,
          1.7440205375236706
         ],
         "yaxis": "y"
        },
        {
         "hovertemplate": "color=385<br>symbol=385<br>x=%{x}<br>y=%{y}<extra></extra>",
         "legendgroup": "385, 385",
         "marker": {
          "color": "#00cc96",
          "opacity": 0.3,
          "symbol": "square"
         },
         "mode": "markers",
         "name": "385, 385",
         "showlegend": true,
         "type": "scattergl",
         "x": [
          -6.834193460471868,
          -1.5401810678644006,
          -3.362093219225848,
          -4.5363536545937455,
          -1.1704003581424098,
          1.0989700597884902,
          -2.2431899013304673,
          -1.3469960034994053,
          1.0418432545481502,
          -3.1326980675177207,
          -1.3740085194318918,
          -0.515230578593747,
          -1.530569293728954,
          -3.731858040709383,
          1.4441894127118604,
          -3.8127082937172836,
          1.5070338665156502,
          1.5505240880637565,
          2.1424176972878866,
          -0.3681931646435472,
          -2.0701621981227376,
          -2.9850720619521476,
          -2.170469728347051,
          -4.875015390404269,
          0.025656050577051757,
          -2.870800213253345,
          -3.334995962557859
         ],
         "xaxis": "x",
         "y": [
          6.10047668898966,
          -5.351059065943178,
          6.929544625492784,
          4.553027781782749,
          6.729170402823256,
          7.953315431263865,
          2.172400567491917,
          3.7353034941875425,
          6.1798062585129125,
          4.962017349431454,
          2.044610755752036,
          6.684819327450585,
          4.6685357108390235,
          0.5910991734479668,
          5.48708255193365,
          7.088000604992397,
          4.144658806809805,
          -3.9766825612321752,
          -1.8851350988985172,
          0.03973274255595886,
          -2.1782010690570677,
          7.634244249275495,
          4.964848724543715,
          5.443960609983203,
          6.5424390767849285,
          6.4051200994701505,
          -2.518647476840086
         ],
         "yaxis": "y"
        },
        {
         "hovertemplate": "color=289<br>symbol=289<br>x=%{x}<br>y=%{y}<extra></extra>",
         "legendgroup": "289, 289",
         "marker": {
          "color": "#ab63fa",
          "opacity": 0.3,
          "symbol": "x"
         },
         "mode": "markers",
         "name": "289, 289",
         "showlegend": true,
         "type": "scattergl",
         "x": [
          1.901329503490558,
          5.497627584149244,
          5.990399448481041,
          2.5906708739278645,
          2.717397165904986,
          3.413250029293075,
          1.8993269213579254,
          8.652884924840807,
          3.699200021992898,
          7.614154384112029,
          2.3501037519846366,
          -0.4394174313361871,
          -0.07341951086736581,
          0.6601237564158263,
          6.232513560484713,
          -0.13415239574445717,
          1.8325171800443945,
          4.762404685789763,
          2.862561584018109,
          2.4400738371514463,
          4.077014692393651,
          3.3320886513179557
         ],
         "xaxis": "x",
         "y": [
          -6.024003794648129,
          -6.194539797520581,
          -1.1855943018006896,
          -7.350206860892258,
          -9.341820015066004,
          -7.936850669882696,
          -13.106671603662184,
          -2.5667993389611086,
          -1.3129906868731693,
          -8.68700211019035,
          -11.579240816407651,
          -11.090292646146702,
          -7.387743719379932,
          -2.942795258272083,
          1.0334613262313208,
          -7.414285785214077,
          -1.5942339267360282,
          -6.908324540110178,
          -7.480755671828923,
          -1.8499736890780165,
          -7.705615773892572,
          -8.595161274532394
         ],
         "yaxis": "y"
        },
        {
         "hovertemplate": "color=299<br>symbol=299<br>x=%{x}<br>y=%{y}<extra></extra>",
         "legendgroup": "299, 299",
         "marker": {
          "color": "#FFA15A",
          "opacity": 0.3,
          "symbol": "cross"
         },
         "mode": "markers",
         "name": "299, 299",
         "showlegend": true,
         "type": "scattergl",
         "x": [
          -2.2343999850535226,
          -4.903093673926363,
          -4.29079563323008,
          -0.0921794466027803,
          -1.051259775664083,
          -1.7899951727427277,
          -0.27717516787782553,
          -2.291553033623199,
          -4.383840205099878,
          -1.3197682844703584,
          -7.2385932671474045,
          -2.155275059377828,
          -5.745713898591133,
          -3.074036936341662,
          -2.5792292419108236,
          -4.510252216479586,
          -4.1996806365008785,
          -1.572619765457842,
          -8.602538794355443,
          -0.5829488398362435,
          4.3216359586877555,
          -4.214889267129088,
          -3.5063078714101237,
          2.660873655358804,
          -2.7583894369682267,
          -6.013004732444578,
          -2.8077492444582477,
          -1.132105881681638,
          -5.200775504805448,
          -1.9519429852608534,
          -1.416213103876652,
          -2.631953085947278,
          -8.48475754812377,
          -1.226333908330044,
          -4.922852404315802,
          -2.854499038336777,
          0.6209869705036486,
          -4.35619738952407,
          -1.0176607101538535,
          -1.2721655603593953,
          -2.3859500237410245,
          -0.5169974441805459,
          0.804451444980329,
          -4.547942489622521,
          -1.4395831635778105,
          -0.3004115847017769,
          -2.050920691652633,
          -4.066882612671417,
          0.24386923276073538,
          0.6844638834777722,
          0.9728950845446257,
          -2.11389817031135,
          -1.8688902911179517,
          -3.1299776646680684,
          -3.7794644590545996,
          -3.162656840449511,
          6.814373633731279,
          -2.5493596828286216,
          -1.1901668463177657,
          -3.4139834690924213,
          -2.525499784725649,
          -0.8605253408751258
         ],
         "xaxis": "x",
         "y": [
          3.140015993871192,
          -3.3276061490856534,
          2.16746661646573,
          2.48279047189979,
          0.20531469451041762,
          -1.6111206776174243,
          1.6293794629529965,
          2.925342460406758,
          4.670733795777947,
          1.5821637936740354,
          -7.2488608379938455,
          0.6728738026179959,
          6.0338657829706035,
          0.6990850148853447,
          3.3757604566469883,
          -1.8957701396441289,
          -1.0912888878238531,
          2.521455241724051,
          2.69302002273833,
          2.346680272776565,
          4.475909973805565,
          3.830358491830783,
          4.7131097803025455,
          0.8974417134102582,
          3.0883401973936015,
          3.959482505600213,
          4.059087991776059,
          -0.37106233703619557,
          3.5740126735922466,
          -4.6154246732978725,
          -0.17762764386644989,
          0.976568530755312,
          -2.7540122658524653,
          0.790872872602571,
          2.682332841890472,
          4.253718621013947,
          2.1926509420740876,
          -1.2850863309287748,
          4.0147923142549,
          0.5985654403904197,
          -5.469016622764672,
          4.524233616037219,
          2.2826023860532882,
          -2.313660399278515,
          3.0942621671681145,
          1.9653726210613347,
          2.059558391216814,
          2.668124853582561,
          1.6767800541754105,
          2.6854839632335605,
          5.613278027359779,
          -4.716144047206128,
          3.954110605294537,
          3.0907020428335996,
          6.206732763665567,
          -3.4756151657765,
          2.196424246107332,
          -6.2595517375081755,
          -0.1660903610025338,
          3.757452921558944,
          0.9490143140092728,
          1.4615849443567506
         ],
         "yaxis": "y"
        },
        {
         "hovertemplate": "color=435<br>symbol=435<br>x=%{x}<br>y=%{y}<extra></extra>",
         "legendgroup": "435, 435",
         "marker": {
          "color": "#19d3f3",
          "opacity": 0.3,
          "symbol": "circle"
         },
         "mode": "markers",
         "name": "435, 435",
         "showlegend": true,
         "type": "scattergl",
         "x": [
          -3.7820669427689255,
          -4.841445930284422,
          -5.391786507551228,
          -0.15983661768409094,
          -8.035364035800537,
          -3.5260116104292454,
          7.138727145811728,
          -1.663028363958531,
          -2.4362159814946764,
          -7.952129075176094,
          -2.4985016262047375,
          -1.7550436718012,
          -3.028331567175124,
          -3.195197521800089,
          -2.8953078972587307,
          -1.3078244761496616,
          -2.829008566461564,
          -5.1734133372173465,
          -1.2938268457809468,
          -4.327718223275065,
          -5.226548797688735,
          -4.590640155175031,
          -3.431311844352908,
          -2.8788031497893356,
          2.6404342522215822,
          -4.939681264408466,
          -2.3052517955244847,
          -2.3302484757626076,
          -7.142264599490252,
          -2.117029565735286,
          -4.586336507719335,
          -4.262170261129978,
          -8.411645747179657,
          -6.227706104909358,
          -5.820026223075647,
          -1.609387792344782
         ],
         "xaxis": "x",
         "y": [
          -5.953582418582361,
          -1.2076119992477203,
          -4.450137892277943,
          3.3529237504207057,
          -1.6460763005705286,
          -4.090138172566227,
          5.085019839705783,
          1.4851188506262387,
          0.040098837719445765,
          -1.4261141565416133,
          3.160094601894982,
          0.9318500915740608,
          2.7486893239584704,
          4.16139785828717,
          4.993815700095491,
          4.537977559194137,
          -4.106638366920787,
          3.695637526988886,
          1.948549776256665,
          -1.2676973257251811,
          2.688808350478244,
          2.0377897774637375,
          1.7946593733318525,
          5.014735275869445,
          2.3236991757637284,
          2.179150774316761,
          3.9430365207657614,
          3.2116490932881026,
          2.4823658733605725,
          -0.04704357205120954,
          4.652457823519993,
          3.234573877570778,
          -1.5856474949105657,
          4.5521889864779554,
          3.809672125613693,
          4.509373827637539
         ],
         "yaxis": "y"
        },
        {
         "hovertemplate": "color=437<br>symbol=437<br>x=%{x}<br>y=%{y}<extra></extra>",
         "legendgroup": "437, 437",
         "marker": {
          "color": "#FF6692",
          "opacity": 0.3,
          "symbol": "diamond"
         },
         "mode": "markers",
         "name": "437, 437",
         "showlegend": true,
         "type": "scattergl",
         "x": [
          -1.3196902630372596,
          -3.2787596235011067,
          4.780433414047305,
          2.176393104307572,
          3.1172710521777196,
          2.8045245095453177,
          -1.367195355096115,
          -2.6001508712476573,
          -0.41511880485595226,
          3.854763982932296,
          -5.320763907180417,
          -0.8961901392936263,
          3.9360034493328375,
          -0.296706983363583,
          -3.5775583474664603,
          3.145317968670474,
          0.8177731890998167,
          -3.6589325687451355,
          4.744435122534373,
          2.844021703222399,
          1.5657424310678947,
          -2.097033228302483,
          0.407277641283784,
          3.7444337461935464,
          -1.108634836474611,
          -0.8576719412360742,
          0.5075541554716878,
          0.28318462253453724,
          -3.3363808353035895,
          3.077300898364337,
          -6.407355047339321,
          -0.8613088407325419,
          3.3259077986113885,
          -1.826479857173703,
          -3.9507913199447446,
          -3.4390934351593687,
          -3.8714085292376215,
          3.6527625234139034,
          8.488496088412978,
          -4.353595321568399,
          -4.176913201892121,
          3.9326335615635997,
          -3.1909554801574154,
          -3.0283276593279216,
          0.7660918457023526,
          1.6535292696398902,
          1.0857657956176887,
          -0.38364055419500914,
          -2.018161847849295,
          -0.9641503668579462,
          5.905586530051454,
          0.4029812403251418,
          0.02473729967063446,
          5.196543346058095,
          -1.9968136677361115,
          0.8230732858297861,
          2.130983371381193,
          1.3093174082234038,
          -1.0104875074174202,
          2.6549676757240617
         ],
         "xaxis": "x",
         "y": [
          -4.954967891068885,
          1.4461818166425662,
          -1.2065297650079543,
          -3.1140744179199427,
          3.2403164710751597,
          -5.75389411479183,
          -0.7040706105803709,
          1.3716651256278083,
          0.7998123294946573,
          -7.542669200359003,
          -2.6635740081936996,
          -7.811918007948911,
          0.6284349345322512,
          -8.302565168608941,
          -4.265574208203074,
          -1.8784329003831912,
          2.2182517999935625,
          -5.161775424402485,
          2.105029446273514,
          -2.661292098118193,
          1.053290303274641,
          0.6642940275451188,
          -5.220566579523486,
          -5.41692356466055,
          0.7657641505738954,
          -4.489985892223245,
          -0.7389911257210847,
          1.3589154875329827,
          0.8454925384046766,
          -2.2958110297165555,
          -5.363046925350123,
          1.2551028069525616,
          -0.8753628277434168,
          -6.165793837211373,
          2.9805487628042284,
          -8.602215664826264,
          -1.9240992620186221,
          1.6743102283627422,
          1.4539996185791602,
          1.5818037319091758,
          -4.3779482516993005,
          -1.7334662833775596,
          -3.8355615460009567,
          -3.429495206903564,
          -4.526388701355347,
          -5.469757496999366,
          -8.440672967782676,
          2.6523413744683126,
          1.5652492198229426,
          -0.9856381523834697,
          -1.2591976356100372,
          0.3955097946705068,
          -1.8650350738542891,
          -9.483637236456305,
          -5.90573638362448,
          -2.6443779596970884,
          -6.794472387133335,
          1.0669461549942543,
          1.9394163996065743,
          0.13266668621100042
         ],
         "yaxis": "y"
        },
        {
         "hovertemplate": "color=255<br>symbol=255<br>x=%{x}<br>y=%{y}<extra></extra>",
         "legendgroup": "255, 255",
         "marker": {
          "color": "#B6E880",
          "opacity": 0.3,
          "symbol": "square"
         },
         "mode": "markers",
         "name": "255, 255",
         "showlegend": true,
         "type": "scattergl",
         "x": [
          -6.077231870177742,
          -5.495888282004259,
          -1.2764612250978475,
          -4.681811962935951,
          -5.587297277608422,
          -7.390846671150651,
          -2.525356300153916,
          -7.266586787069271,
          0.24847466458354034,
          -4.306481269809062,
          -0.46843323605699316,
          -6.702137836632987,
          -0.4480060652366328,
          0.39097838597904566,
          -4.408105575870645,
          -8.635032236714599,
          -7.430208607998165,
          -6.3960853304390834,
          -5.9577236130053155,
          -5.571166616376925,
          -9.32286561847067,
          -2.929518573749061,
          -1.7801882744188267,
          -0.7889300172771997,
          -7.3381460706898745,
          -1.5075075721663633,
          -0.260581624270381,
          -6.1848897280848565,
          -6.950761650046249,
          -9.270249959936336,
          -4.652319179028057,
          -4.337353360288918,
          -9.353131083715612,
          2.9702562079510635,
          0.6492634760083755,
          0.38104908234429036,
          0.16769113142405428,
          -4.723609246592473,
          -6.408866110827376,
          -4.422284319135819,
          -5.081374229657457,
          -5.285652146124252,
          -6.1765425916339005
         ],
         "xaxis": "x",
         "y": [
          -1.1014408559206326,
          6.25551189009654,
          -1.9659137770312047,
          2.829331706776423,
          5.777271352910338,
          0.6472370623775491,
          2.0452192281648824,
          0.04059348642628003,
          4.663143623114631,
          6.143044727111393,
          2.1739807333200116,
          6.0292619076016924,
          -2.547884413496114,
          -1.93490417430921,
          2.931224898019526,
          7.917645007052412,
          6.570723896288346,
          -4.008880001569874,
          -1.0937278212809947,
          1.1962243557168752,
          0.12365415836914455,
          3.8177819933099495,
          4.380832804035582,
          -2.1893399347220344,
          -2.0310561714368194,
          6.19729723757412,
          2.7049769451406487,
          -1.2143888720503884,
          4.872063912702029,
          -0.1351615727815417,
          6.152210908284112,
          -2.240906173473301,
          4.5675820325891605,
          0.3039863753011731,
          6.538140886799513,
          0.6231265732639047,
          -1.5773196192779064,
          4.051394537064863,
          7.046582976749077,
          4.65108643261744,
          5.278473860031369,
          6.652964134402703,
          1.5053166697817
         ],
         "yaxis": "y"
        },
        {
         "hovertemplate": "color=399<br>symbol=399<br>x=%{x}<br>y=%{y}<extra></extra>",
         "legendgroup": "399, 399",
         "marker": {
          "color": "#FF97FF",
          "opacity": 0.3,
          "symbol": "x"
         },
         "mode": "markers",
         "name": "399, 399",
         "showlegend": true,
         "type": "scattergl",
         "x": [
          -2.24988884680649,
          -0.05134988782352958,
          1.9556406959477353,
          -5.010480915825912,
          -1.5375627299013712,
          0.3613474996410583,
          -2.7504223283367057,
          0.5875576577010619,
          1.915293532554233,
          -2.231258801081729,
          6.391750358196752,
          1.508140973048576,
          -2.8994361129764936,
          -0.5026419700097222,
          -0.4701060524876353,
          -1.8703705421067474,
          2.614807727209377,
          1.9552212797901793,
          -0.23426303198723633,
          -7.6959704605687085,
          -2.0374172046935524,
          -3.128649770254659,
          2.9485959295969106,
          0.21099032295948283,
          1.5397452898294308,
          0.17346364686368348,
          3.593418598417811,
          -0.8661287877779744,
          -0.017179570187122774,
          -7.157873559640673,
          -3.299303994441118,
          2.0936214853573474,
          2.516555115621637,
          1.4850100489477953,
          -0.447824052844574,
          -4.442661580917984,
          -0.3381869440885822,
          -0.3445644232884503,
          -4.460515311370232,
          -0.1008465991657583,
          3.84720365530549,
          -0.18090170337605233,
          -1.5082533619615093,
          -3.5477109429781644,
          -2.7565758372738824,
          -3.151129306571791,
          0.25654710816262066,
          -0.4668330128462178,
          -4.118939228799577,
          -5.736794953088395,
          -3.361052158277367,
          -3.0909384946104352,
          4.28926487446047,
          -2.4525764435607407,
          0.6207804147266475,
          -1.5472173102175084,
          -1.7902984526356036,
          -3.8534461062631435,
          -5.18264867703479,
          3.1353267312956814,
          -0.7297987724219971,
          0.5240975229111289,
          1.0172367031960736,
          1.4918341139227278,
          -0.6967304281248882,
          -0.09050839772396199,
          -5.188371390264666,
          -2.7498863637876267,
          1.870542721183875,
          6.403893119475063,
          0.7991502309437726,
          -2.850648823996469,
          1.7863903211763552,
          2.682584646008645,
          2.2584809202161433,
          2.1732514017058975,
          -0.26270471755101643,
          -3.508583740952556,
          0.9564837236490757,
          -1.5454288931709321,
          2.4771983418597934,
          1.6172846065527524,
          4.691022981126507,
          2.7828730092506224,
          4.954349609910129,
          -0.1922940699043232,
          -3.7139144890207665,
          -2.1485335109653874,
          -0.37684652526437956,
          0.3627089416922458
         ],
         "xaxis": "x",
         "y": [
          1.4514974408503016,
          -6.374237246568311,
          0.8778622791572939,
          -1.635808696891514,
          -1.923452279891086,
          -2.659648122010678,
          -4.5101197435871825,
          -5.772621073349968,
          1.4629988507151117,
          0.4121710546919861,
          1.6973760834029092,
          2.616658215730834,
          -2.5708382658861484,
          -0.334037721779488,
          -3.64320553115213,
          -2.657715383957676,
          0.47635438935127766,
          1.9602552976914662,
          -5.864240389311903,
          -3.903097990873168,
          -3.5351510482193684,
          -1.8756092905285529,
          -0.4281754604773532,
          -4.307539426379592,
          3.213046858098672,
          4.221516572063543,
          4.863288754809146,
          -0.48639243518165415,
          4.039111228992761,
          -0.032137573650471846,
          -7.989776492657929,
          2.2219614187842067,
          -2.023245650717586,
          -1.5138260328765025,
          -4.8693857298097525,
          0.629245209057098,
          4.22098335917364,
          -4.717399591249864,
          -1.0020083435616003,
          2.59185392086961,
          2.0331811942270033,
          2.7444347770697743,
          -3.436812375044101,
          -1.570626899002802,
          -5.164765869608737,
          -8.32023247495514,
          -2.550481516017773,
          -3.9963279057919836,
          3.1058217739145335,
          -5.2351749813942545,
          1.4661585887286621,
          3.2724879537674427,
          2.686381870435183,
          3.4396519675905064,
          -5.54032735921859,
          1.2202643812369796,
          1.7010301127872505,
          -5.337661653705854,
          0.08354959687022898,
          -1.816289095673483,
          3.2363646970013042,
          2.8391876266633216,
          -0.06472573560321859,
          -0.6498221335791374,
          1.0137897515976526,
          -0.11107260412380357,
          -5.449898922494658,
          -3.672992656186415,
          1.3248992854689643,
          -1.3161194186403873,
          -2.745185294950331,
          1.9366591830166142,
          -5.035312108303381,
          0.727204927330246,
          1.7171482886152771,
          0.13342990927024073,
          -3.7877472370589738,
          4.635519616369447,
          3.58678991224822,
          -3.4737511838503736,
          3.1809564422969885,
          3.2825103533232176,
          2.759047740578308,
          -0.032937826064383856,
          2.2432985889375163,
          0.5492996416940382,
          3.0266517135246485,
          4.648540808920059,
          -2.493810764732674,
          1.1803473403189153
         ],
         "yaxis": "y"
        },
        {
         "hovertemplate": "color=433<br>symbol=433<br>x=%{x}<br>y=%{y}<extra></extra>",
         "legendgroup": "433, 433",
         "marker": {
          "color": "#FECB52",
          "opacity": 0.3,
          "symbol": "cross"
         },
         "mode": "markers",
         "name": "433, 433",
         "showlegend": true,
         "type": "scattergl",
         "x": [
          -8.54884242776921,
          5.182016926628791,
          -2.83480955181086,
          -4.222064827231457,
          -1.319389624353316,
          -3.392064836454273,
          0.69176557326508,
          -0.8035554866461634,
          -4.879811817743164,
          -6.442700890866333,
          -0.9483306001847109,
          -5.357863262536469,
          1.1279464777905581,
          1.5294848417842726,
          -6.370430532021039,
          -5.600168695548005,
          -1.686859294099541,
          -4.785932507244965,
          -2.684378119543553,
          -2.166850609545124,
          1.7445805172567717,
          4.0139264170833835,
          -1.5471382094924364,
          -2.7260442972613186,
          -5.648920345800113,
          -2.1491905902016075,
          -2.350242660644393,
          -4.825227940427558,
          3.354082242993158,
          -6.3239520101888065,
          -0.6443936102693998,
          -1.8916024561264788,
          1.0043257549125741
         ],
         "xaxis": "x",
         "y": [
          -5.304999896358103,
          2.4856349020200854,
          4.665555187358468,
          4.308712025764301,
          2.260050225510022,
          1.0780046985835723,
          -0.11711332962056308,
          5.503385806235803,
          2.9987015025313855,
          0.27599123273375414,
          2.036713150809743,
          1.1273927818891887,
          -0.914744964883341,
          1.5845570806296103,
          1.9817277416588976,
          -6.054927345987471,
          1.9211324443665116,
          -4.894546801581436,
          1.9480991348856538,
          1.2732579179693126,
          2.5872515466269475,
          1.4794546190903615,
          2.9725908856003342,
          5.352313562259632,
          -0.9247895881546605,
          -2.7721742182678604,
          0.9430008038853555,
          1.7216807201909394,
          5.127391412500765,
          0.18683655285357262,
          -2.039726265303951,
          -4.036350987248983,
          0.8457385797101143
         ],
         "yaxis": "y"
        },
        {
         "hovertemplate": "color=384<br>symbol=384<br>x=%{x}<br>y=%{y}<extra></extra>",
         "legendgroup": "384, 384",
         "marker": {
          "color": "#636efa",
          "opacity": 0.3,
          "symbol": "circle"
         },
         "mode": "markers",
         "name": "384, 384",
         "showlegend": true,
         "type": "scattergl",
         "x": [
          -0.2846584119397494,
          0.9903567086432429,
          1.7633508158280562,
          -4.592558700969339,
          -4.660873692060918,
          -2.3770076398306688,
          -3.071454758148624,
          -1.955007294380923,
          -1.0074565432374905,
          -6.730157599552606,
          -5.7089477297522935,
          -3.1971515286924577,
          -2.8241471731549526,
          0.06797253124222061,
          -2.2615729951205754,
          -2.8618059821643507,
          -1.403126833081624,
          0.10758043037645336,
          -3.6740593813529103,
          -4.019033171865736,
          -6.002028770557708,
          -4.666296772625321,
          -4.186592938578372,
          -1.4469645545678895,
          -4.1837650626369065,
          -3.697764583662972,
          0.9126797150841962,
          -4.210865807874603,
          -1.4727572092988002,
          -3.2541296956317467,
          -0.866886067786037,
          3.5671059692011284,
          -4.522281740866759
         ],
         "xaxis": "x",
         "y": [
          2.4792147945452805,
          1.4725722111794515,
          0.6406576606293618,
          5.905180852867801,
          4.708101922902053,
          -3.6876995482710924,
          3.867535432620701,
          -2.3113771113899326,
          5.834191401106489,
          5.014502457107613,
          3.0757340895678325,
          4.461085582645442,
          4.870877922348895,
          2.6083200401419466,
          4.130902873802642,
          5.125102291354423,
          -0.768521588435295,
          4.314068805987485,
          3.289055911523309,
          1.6750154925541758,
          -0.1953243781918228,
          -2.2830951664589922,
          -0.24243109571069232,
          -5.109795840104992,
          4.099214275420219,
          0.6157068721432247,
          0.5353661220253523,
          3.4214208488572733,
          -2.933763273652682,
          4.552648178659759,
          0.9238251179338375,
          2.1271701224217665,
          4.998088003337737
         ],
         "yaxis": "y"
        },
        {
         "hovertemplate": "color=412<br>symbol=412<br>x=%{x}<br>y=%{y}<extra></extra>",
         "legendgroup": "412, 412",
         "marker": {
          "color": "#EF553B",
          "opacity": 0.3,
          "symbol": "diamond"
         },
         "mode": "markers",
         "name": "412, 412",
         "showlegend": true,
         "type": "scattergl",
         "x": [
          2.5536558601360513,
          4.045200542517181,
          -1.336803414410262,
          0.663623262285677,
          -0.1426740303595018,
          1.439473446198152,
          -0.5806079456519486,
          5.5176928901557645,
          3.5077575390344053,
          -5.5489631601563465,
          5.181102109552185,
          2.812350474791616,
          1.0125823089103354,
          6.129560621673381,
          0.8785531162577565,
          0.6027341433698599,
          2.9560063086401396,
          0.41081418360989336,
          3.7078351068370785,
          -5.336948362203228,
          2.7937563105092655,
          3.8338811266156188,
          1.2559206349433532,
          3.104174557407994,
          5.248155358490217,
          4.326481526056075,
          0.08881224695304926,
          2.782487809608997,
          -0.1229778783108339,
          8.755912578550747,
          3.3580446947670928,
          1.1773935035761978,
          -0.3406138309969339,
          4.249297322690039,
          -4.455746498986939,
          7.672855780550411,
          2.48705412420571,
          2.4772441083408854,
          4.87340286067851,
          1.5752757460711773,
          -0.15432968108435796,
          -1.0034256152177197,
          -0.8772853296218206,
          2.4614518631681364,
          -1.9336924845487582,
          4.752701344862143,
          -0.7201386954335428,
          4.01505757612961,
          2.188702898533676,
          -4.55417709068344,
          -2.0608775626346882,
          6.28402046809044,
          0.9311509574316701,
          4.308185465604936,
          3.369999531430962,
          0.5105313083187051,
          7.206048195868191,
          -1.3406286791740651,
          3.388110687905675,
          3.5219481106862736,
          2.6489503377342953,
          0.6959443124458927,
          -1.1734766610160663,
          2.1401455145232613,
          5.085475296188388,
          1.2342686311069573,
          7.7514197638868,
          4.542503497891484,
          6.901688705341284,
          4.979515812785461,
          6.4395780722173495,
          5.298807559946649,
          1.6421256014763912,
          6.140845204860635,
          6.101945758907993,
          0.5479230047368256,
          5.0455632656692755,
          -3.9823601145387757,
          -3.2251432617530766,
          4.996404156761456,
          1.8557704757951616,
          -0.3172271662103379
         ],
         "xaxis": "x",
         "y": [
          -0.9625591957208715,
          0.9168085258176794,
          -0.062221746261336315,
          -2.80297137495899,
          0.42308461660932406,
          -0.42356454918638187,
          -0.7521811386568157,
          1.867439405170767,
          -0.1371463896213726,
          -4.653207482289769,
          -0.931741265681318,
          0.7852144228592476,
          -8.544223608700104,
          -0.6089506598645065,
          -4.683764540347951,
          -6.289444673010262,
          -3.8563640328689517,
          -0.28636492839745714,
          -5.693461556885448,
          0.32933412146259683,
          0.9922506630618111,
          2.4620789267909378,
          -5.795756227667765,
          -1.5547687935713537,
          0.9684543578828159,
          3.3164680327291682,
          0.7419160382723718,
          -2.450272892236357,
          -1.9300637968743357,
          0.13961008153994553,
          -2.5315464608006346,
          1.4914700350338834,
          -3.743784295069663,
          2.891973686324951,
          -1.3895041748027759,
          4.4186903936948205,
          -2.3920620399351575,
          0.6629946135143354,
          -3.4429265362108152,
          -4.55952055404731,
          -4.855460752674219,
          0.937821549838599,
          -8.690640578537227,
          -1.0543278879176312,
          -6.7937092984826775,
          -6.983282754661017,
          -6.915595341829509,
          -3.251406346556505,
          -6.726988203813708,
          -3.967647755481056,
          -6.836044396490397,
          -3.057057956086754,
          -9.169797155572581,
          -4.283548723078986,
          -0.6812567146939835,
          -3.658406255162867,
          -3.096702464601859,
          -6.422876129861525,
          -0.04622685138890943,
          1.565000545740966,
          1.625109752152837,
          -0.13931498034892056,
          -6.436894201536993,
          -2.99148480237367,
          1.5680321980508791,
          -1.874601242853003,
          -1.3235628017466892,
          -9.247686279323558,
          -1.1653298410929618,
          -0.06639915661562142,
          -4.269976375789279,
          -2.565761069632316,
          -0.7854857832472341,
          -2.7733361101055793,
          -3.6082217013021713,
          -2.1410426026134206,
          1.6614399560630424,
          -5.06144323993788,
          0.5385623015834817,
          -1.0766606111932882,
          -0.8624725963829668,
          -8.133741926598557
         ],
         "yaxis": "y"
        },
        {
         "hovertemplate": "color=1<br>symbol=1<br>x=%{x}<br>y=%{y}<extra></extra>",
         "legendgroup": "1, 1",
         "marker": {
          "color": "#00cc96",
          "opacity": 0.3,
          "symbol": "square"
         },
         "mode": "markers",
         "name": "1, 1",
         "showlegend": true,
         "type": "scattergl",
         "x": [
          -5.2274490513241245,
          3.486880341213935,
          -1.4007981199727502,
          -2.1173793856911107,
          -0.294086635699637,
          -5.56646753138868,
          -0.17909478174765373,
          -4.026815931865976,
          -2.1523301260732506,
          2.820677175877231,
          -5.157355288714895,
          0.9346541916657486,
          -4.011453744837276,
          -3.558375287096412,
          -4.7196527512935,
          1.7528940828855655,
          -3.963070850083338,
          -3.2546135580130766,
          -0.4730474495239321,
          -0.2354263047197424,
          1.8219622194816916,
          -6.216727365735213,
          -4.160510811806593,
          -4.449663926982426,
          3.483474025746464,
          -4.844502795257754,
          -2.074445578759887,
          -3.3896281332688156,
          -6.569498272597909,
          -5.18633982432086,
          -1.5423818023247315,
          -0.8458152250035845,
          -0.49924787499169404,
          -6.9800198725949,
          -3.5811739723085094,
          -6.805489681417083,
          0.29952360540966905,
          -7.578371987992975,
          -3.2338407157098055,
          -0.3863424691162406,
          -6.015633890737178,
          -5.291546421091272
         ],
         "xaxis": "x",
         "y": [
          -7.3899709683201635,
          -0.25472545702475163,
          -6.167450971499165,
          -6.814566866692177,
          -5.374343825527758,
          -2.9691722483907594,
          -3.187575082700211,
          -6.393588266843617,
          0.9325254800394297,
          -9.762015449773001,
          -5.466605220586812,
          1.3473925619318299,
          -8.749560103913867,
          -0.3321326150239065,
          0.7007330957921335,
          3.3837684870929094,
          3.9162838356291596,
          0.27673711812509566,
          -3.7970850060892714,
          -0.2622380221208647,
          -6.736708669860816,
          -3.73736862736478,
          2.82079108407001,
          1.8876813913433426,
          -4.406914329705472,
          -5.301422033411109,
          -1.1683249185829363,
          -8.040239669401778,
          1.0661358425119059,
          -3.14301131911047,
          -1.7445119083966854,
          -3.577658802114548,
          -1.4598617408299266,
          -0.5586547538047588,
          -3.5107215888128405,
          -0.4123907945713365,
          2.265523580437602,
          1.7885114176272348,
          -9.504328202092408,
          -0.17909326202506892,
          -2.800282669858837,
          -1.8317796057727305
         ],
         "yaxis": "y"
        },
        {
         "hovertemplate": "color=252<br>symbol=252<br>x=%{x}<br>y=%{y}<extra></extra>",
         "legendgroup": "252, 252",
         "marker": {
          "color": "#ab63fa",
          "opacity": 0.3,
          "symbol": "x"
         },
         "mode": "markers",
         "name": "252, 252",
         "showlegend": true,
         "type": "scattergl",
         "x": [
          -1.500716403794738,
          -0.5494455139165518,
          -2.617095348049338,
          -1.6227370447461726,
          1.2479208822660648,
          0.3259130744508843,
          1.3298823651601361,
          0.15628247634865286,
          1.5372249818968227,
          1.2056061577242811,
          -4.077848230973996,
          -3.576722897754645,
          5.223813318259853,
          -3.5708270719961086,
          0.23742349517821093,
          -4.314592232374339,
          0.4080696805581685,
          0.1339325754443899,
          -3.3887961958903627,
          1.758301053934105,
          -0.2739636440135284,
          -1.2301703788537093,
          -1.890283584879957,
          -2.099841410660482,
          1.1336731106699578,
          -2.197388924609015,
          0.5312664161398069,
          -5.1638364881088386,
          -1.0001347306543784,
          0.17975574977102132,
          -0.9980932544551249,
          -1.078584548831169,
          -3.7543338184391364,
          -4.119624935214793,
          -0.487467277870081,
          -1.501779477016183,
          0.5743834157002505,
          -0.7270593799436271,
          -2.345946216723785,
          0.1003757612807788,
          -1.6240569627690573,
          -3.8576549228785253,
          1.2280961824795682,
          -1.5014213994896581,
          -0.6676778614707085,
          0.6610371590734506,
          -3.922680445624596,
          -1.091396665597604,
          -3.424522455942107,
          -4.1538060764226294,
          -3.831837863174849,
          -5.153223115665158,
          2.420135628128065
         ],
         "xaxis": "x",
         "y": [
          4.130815904267391,
          -2.0661910940847656,
          2.6906649467829427,
          4.581133495280309,
          3.6452580667798378,
          -0.706309752665444,
          0.16806364023266906,
          4.463544417507715,
          1.463634978716564,
          2.940665468888707,
          2.9041621302707674,
          3.796074061442319,
          3.061359039524213,
          4.123369478313223,
          3.794570113139598,
          2.701370347509853,
          5.223954110331975,
          1.237833618608824,
          3.3810574700001172,
          5.658635811782793,
          1.8873038721004693,
          4.1846991714577255,
          5.114103573676526,
          3.4658526936096945,
          -3.2080248402337754,
          5.975233756523572,
          3.378220734799638,
          3.2115131425766297,
          -4.219117551175651,
          4.909122995992232,
          1.4183063073980566,
          5.07545011323191,
          4.264366907655349,
          3.4567943125914184,
          0.8068028904333671,
          -0.23057832506348905,
          -3.5060787079760938,
          0.9112285415080561,
          2.4223821131747996,
          2.5939859479138585,
          4.968396728591579,
          2.183157652593346,
          -3.2202115869145476,
          2.615836777590812,
          3.0274474020032236,
          4.9221670809925735,
          -2.4115936523295547,
          3.9170904642327384,
          3.1998224912799857,
          -1.1499708803555024,
          3.0594864254356082,
          -2.527874363972662,
          -5.285080205069738
         ],
         "yaxis": "y"
        },
        {
         "hovertemplate": "color=302<br>symbol=302<br>x=%{x}<br>y=%{y}<extra></extra>",
         "legendgroup": "302, 302",
         "marker": {
          "color": "#FFA15A",
          "opacity": 0.3,
          "symbol": "cross"
         },
         "mode": "markers",
         "name": "302, 302",
         "showlegend": true,
         "type": "scattergl",
         "x": [
          0.6471167395117542,
          -5.603680543937291,
          -0.3355282930685196,
          -3.4497805603997036,
          -2.6869291133545588,
          -2.8427156768933326,
          -3.3325595495588685,
          -2.700342974738769,
          -1.1056349508703838,
          -1.1600277896221745,
          -0.13485516387591528,
          -4.302206577557124,
          -1.9075645391785347,
          0.2947122104484271,
          -4.117152195471099,
          -1.219692844313143,
          1.2239802599056357,
          -0.6222420040793706,
          -5.952082842511559,
          -1.0977683275665024,
          -5.894130679134438,
          -6.873594161939179,
          -3.536443855712735,
          -5.3405484740506415,
          -1.838623293590418,
          -2.2149805840830274
         ],
         "xaxis": "x",
         "y": [
          5.46205033580832,
          3.7334859482114626,
          5.400732810778673,
          -0.2944468105942525,
          5.2329383144006565,
          -1.5539597548910016,
          5.9801476310762895,
          5.50525354296109,
          5.956167980702845,
          4.511080323904939,
          1.9573216092459158,
          6.362081802057129,
          5.333267665692023,
          6.388148070620182,
          -2.869936231040244,
          6.03312197085295,
          -4.577785205871376,
          2.677064544196279,
          -0.06816408017875086,
          -0.8245253310099391,
          6.841517084218779,
          -1.9383252327047624,
          3.28173093833179,
          -3.0634742307806264,
          4.375831598297125,
          6.909425563578137
         ],
         "yaxis": "y"
        },
        {
         "hovertemplate": "color=125<br>symbol=125<br>x=%{x}<br>y=%{y}<extra></extra>",
         "legendgroup": "125, 125",
         "marker": {
          "color": "#19d3f3",
          "opacity": 0.3,
          "symbol": "circle"
         },
         "mode": "markers",
         "name": "125, 125",
         "showlegend": true,
         "type": "scattergl",
         "x": [
          6.037729598860218,
          10.69495725529524,
          10.789678653588998,
          12.212544551029508,
          7.967116898490164,
          10.076163287133037,
          8.238530910017285,
          2.864637616484135,
          20.825331034903563,
          7.380908768800603,
          8.224220996634422,
          8.39582360218488,
          9.214430285394622,
          8.791941532022612,
          10.934805463029562,
          7.657606464575679
         ],
         "xaxis": "x",
         "y": [
          5.082810699106854,
          2.6099082520369943,
          -1.7588098881143148,
          2.3693998172450907,
          4.604430106478772,
          1.9140878647941086,
          4.003747124130193,
          3.2581051319828167,
          15.489416868601417,
          0.8002684258652333,
          -6.917608838820837,
          -4.896482054030854,
          0.4422618647758606,
          1.2916408725759414,
          1.314367192405611,
          3.524000358409913
         ],
         "yaxis": "y"
        },
        {
         "hovertemplate": "color=450<br>symbol=450<br>x=%{x}<br>y=%{y}<extra></extra>",
         "legendgroup": "450, 450",
         "marker": {
          "color": "#FF6692",
          "opacity": 0.3,
          "symbol": "diamond"
         },
         "mode": "markers",
         "name": "450, 450",
         "showlegend": true,
         "type": "scattergl",
         "x": [
          9.245430065364777,
          5.078881584513888,
          2.6244798994805887,
          5.328162515068394,
          2.9563563512087074,
          3.769543982445276,
          5.451286862010033,
          10.666033322576869,
          5.368016312920686,
          1.9917875185169904,
          3.879245905316349,
          3.8463866410029635,
          9.615868292958744,
          0.4958340899521886,
          5.81493669440158,
          1.5543842199189102,
          3.054162515584354,
          5.030449154832201,
          4.03547526730824,
          6.4207241802696515,
          1.6472547118238308,
          3.674339548942327,
          4.091768249314745,
          1.4648297298821973
         ],
         "xaxis": "x",
         "y": [
          -0.4005683681727932,
          -6.817720423182632,
          -8.724178498092243,
          -8.470251865651026,
          -8.682466628991113,
          -9.618633693411889,
          -9.233093966453252,
          -0.10361678598681115,
          -4.557978140778123,
          -9.393079822262303,
          -13.140192421947265,
          -8.3621526376892,
          -2.256115982497212,
          -10.365643538782225,
          -2.353144082397986,
          -9.079296357855348,
          -7.514782121637098,
          -9.028387694340651,
          -5.57042383385715,
          -3.969876206667746,
          -7.544835378514048,
          -8.343799023079079,
          -2.647036446171088,
          -6.19416006197054
         ],
         "yaxis": "y"
        },
        {
         "hovertemplate": "color=430<br>symbol=430<br>x=%{x}<br>y=%{y}<extra></extra>",
         "legendgroup": "430, 430",
         "marker": {
          "color": "#B6E880",
          "opacity": 0.3,
          "symbol": "square"
         },
         "mode": "markers",
         "name": "430, 430",
         "showlegend": true,
         "type": "scattergl",
         "x": [
          -3.293672259769114,
          -2.6863567091256515,
          -6.76895735105555,
          -5.906708995718896,
          -6.005307165183777,
          -7.0692227671209125,
          -3.7468859430073103,
          -3.3228174209733856,
          -4.710493944049293,
          -4.2524730884528905,
          -5.1878810736289145,
          -6.78777511092823,
          -7.533102617451575,
          -3.0874991303469903,
          -3.4682753421817214,
          1.7157264449563328,
          6.570252706806253,
          -0.2556880284907888,
          -5.029163026962591,
          -2.030030458587937,
          -3.8835883661028006,
          -2.3365260284883447,
          -5.893004587662327,
          -3.544692658070122,
          -2.6892158923727676,
          -0.25164753834190334,
          -8.802578928122967,
          -5.570082755173019,
          -6.844073383778819,
          -3.5295397600487255,
          -0.8333753984632547,
          -4.658681951702724,
          -7.531448860771351,
          -6.725581165366987,
          -3.4508311195410646,
          -5.786986958064046,
          -4.731809507564987,
          -6.068160387684609,
          -2.3206629401674954,
          -3.7225345728866293,
          -5.337668298966992,
          -1.89685494155657,
          -3.188761193846566,
          -5.942314842233672,
          -5.3890866730592935,
          -2.053875939925974,
          0.9812007279925813,
          -3.1490693250275146,
          -5.919199709899896,
          -6.369713534673721,
          7.045444038983689,
          -2.5994867743637426
         ],
         "xaxis": "x",
         "y": [
          0.9647154713690164,
          -2.3293434794788324,
          2.5521864616377714,
          -3.2288513345361,
          2.9583908525424407,
          3.2973051768004966,
          2.0239003146474395,
          -4.040234377207504,
          4.735475660599129,
          3.569708234282969,
          4.248029397314911,
          0.7995885188921704,
          -1.291040113686975,
          -1.5748036506933347,
          1.5556284283770547,
          -2.0956628730657965,
          5.658337798810356,
          1.1350858002838216,
          -4.205187481779077,
          -4.050818979478412,
          2.309633385249361,
          -0.07048468098195307,
          0.8545142203576439,
          2.863480327213352,
          -1.7735970421704386,
          2.768032329259997,
          0.43801334934945263,
          -3.4741478764362914,
          2.308637669419325,
          3.6920754291846816,
          0.7577750385157225,
          4.137002037525855,
          0.1183448465687226,
          1.6288292251966154,
          -3.9132542386115343,
          -0.33479950385725177,
          2.1859290504398863,
          -4.436185870873261,
          -2.6732838942385926,
          0.996991980039416,
          -6.309393557447732,
          -0.1349008841002354,
          -4.184118051090871,
          1.281193948845711,
          -3.8513588422144536,
          -0.08380230106989403,
          -4.879795601945112,
          -2.4002860335731184,
          -2.510887306063069,
          -2.2015565204236203,
          2.4016690331389587,
          1.482959280801027
         ],
         "yaxis": "y"
        },
        {
         "hovertemplate": "color=83<br>symbol=83<br>x=%{x}<br>y=%{y}<extra></extra>",
         "legendgroup": "83, 83",
         "marker": {
          "color": "#FF97FF",
          "opacity": 0.3,
          "symbol": "x"
         },
         "mode": "markers",
         "name": "83, 83",
         "showlegend": true,
         "type": "scattergl",
         "x": [
          4.318236130136592,
          -3.129452018111278
         ],
         "xaxis": "x",
         "y": [
          -5.6076128763141,
          -0.6459749978877244
         ],
         "yaxis": "y"
        },
        {
         "hovertemplate": "color=231<br>symbol=231<br>x=%{x}<br>y=%{y}<extra></extra>",
         "legendgroup": "231, 231",
         "marker": {
          "color": "#FECB52",
          "opacity": 0.3,
          "symbol": "cross"
         },
         "mode": "markers",
         "name": "231, 231",
         "showlegend": true,
         "type": "scattergl",
         "x": [
          -2.2973811360918037,
          -1.2864312489928769,
          1.8019443101232313,
          0.17612049611762898,
          5.239266668926598,
          2.920726048033186,
          -2.5911621410639127,
          -5.273780380884113,
          -0.7801281810570012,
          -1.1497806762265912,
          -1.7882160548301496,
          -4.114766085780757,
          0.024259710310376985,
          -6.5273533258509415,
          0.19991174193765288,
          -1.4244693192174827,
          1.7407351273774272,
          -0.31964685483830985,
          -6.268392130029814,
          0.6308853084724821,
          1.5405780183358433,
          -4.206111120480539,
          2.8189913566901352
         ],
         "xaxis": "x",
         "y": [
          -4.846314537430665,
          -0.1478874628521471,
          3.4349297218799726,
          1.0614904329283943,
          2.8399982194588174,
          3.028468426350301,
          -3.1052392586904287,
          2.9380528532182106,
          -3.9130157865837827,
          0.20608905403170844,
          1.9701417435295387,
          -6.887642510509168,
          -4.740291041441876,
          -3.5332637936641516,
          3.067891635465776,
          -6.044928189094608,
          -3.466031498431591,
          -6.9947243825926995,
          -3.005441864319432,
          2.7385194804522923,
          3.912705537182865,
          -4.536379181326219,
          -0.4772428671358626
         ],
         "yaxis": "y"
        },
        {
         "hovertemplate": "color=340<br>symbol=340<br>x=%{x}<br>y=%{y}<extra></extra>",
         "legendgroup": "340, 340",
         "marker": {
          "color": "#636efa",
          "opacity": 0.3,
          "symbol": "circle"
         },
         "mode": "markers",
         "name": "340, 340",
         "showlegend": true,
         "type": "scattergl",
         "x": [
          4.287912874740784,
          2.5598207963048987,
          2.693922431341975,
          6.263700836045678,
          6.28312022241798,
          4.951006953773571,
          -3.6713591074960052,
          -0.4485931003108642,
          2.788556649211964,
          3.863575875235882,
          4.115054957254198,
          3.0436307641390554,
          -0.36022129558569516,
          0.5128045334345109,
          4.567561856394773,
          8.176600709958024,
          5.166486335899474,
          4.916407883835551,
          4.026737457224497,
          1.973436936338399,
          8.325207462921306,
          3.6714292173616245,
          7.58727347709191,
          0.7543716499904658,
          6.31304505698792,
          9.569601375641534,
          3.9836719715571367
         ],
         "xaxis": "x",
         "y": [
          -3.179584815651851,
          -6.2501897751281374,
          -7.302909535944465,
          -4.498089114776796,
          1.177781913524776,
          -5.073600319484188,
          -4.236894383741796,
          -7.729080098622491,
          -2.9650352922082703,
          -1.2593474460082417,
          -5.237876558899576,
          -8.688010145205853,
          -7.319581205705293,
          -9.033099296277047,
          -0.24460679134123772,
          -2.79624170057803,
          -3.5623798634085193,
          -1.4058993516717386,
          -7.274160954472361,
          -0.22535068025539848,
          0.7824635224866233,
          -5.4940680074517445,
          0.30566046312229345,
          -2.065303495628169,
          -2.024436388214078,
          -6.924735316626877,
          -9.12873336345082
         ],
         "yaxis": "y"
        },
        {
         "hovertemplate": "color=137<br>symbol=137<br>x=%{x}<br>y=%{y}<extra></extra>",
         "legendgroup": "137, 137",
         "marker": {
          "color": "#EF553B",
          "opacity": 0.3,
          "symbol": "diamond"
         },
         "mode": "markers",
         "name": "137, 137",
         "showlegend": true,
         "type": "scattergl",
         "x": [
          6.279899949814691,
          5.980316274082244,
          15.909637118591831,
          7.224344095433577,
          -2.437935176808552,
          15.905084880810618,
          5.763320488158581,
          7.901714346446354,
          15.916591911775214,
          10.442212008440245,
          14.41699834773089,
          9.237221892218436,
          4.067163537528098,
          15.907002184978982,
          6.400040130012709
         ],
         "xaxis": "x",
         "y": [
          3.6844047483765516,
          2.410366472514897,
          13.210007313203118,
          1.4019006587658203,
          -5.770018963987655,
          13.237668416408315,
          2.2628101136567342,
          2.382302798586124,
          13.16774738275514,
          2.139429744753274,
          -0.881861321221765,
          3.8899329461907866,
          -1.0519911140538938,
          13.226018157562931,
          0.366962991807555
         ],
         "yaxis": "y"
        },
        {
         "hovertemplate": "color=223<br>symbol=223<br>x=%{x}<br>y=%{y}<extra></extra>",
         "legendgroup": "223, 223",
         "marker": {
          "color": "#00cc96",
          "opacity": 0.3,
          "symbol": "square"
         },
         "mode": "markers",
         "name": "223, 223",
         "showlegend": true,
         "type": "scattergl",
         "x": [
          20.80661103863881,
          20.835398762613416,
          20.808630749121402,
          20.816470756162975
         ],
         "xaxis": "x",
         "y": [
          13.486160464627583,
          13.311235462425097,
          13.473887946629045,
          13.426249124948514
         ],
         "yaxis": "y"
        },
        {
         "hovertemplate": "color=389<br>symbol=389<br>x=%{x}<br>y=%{y}<extra></extra>",
         "legendgroup": "389, 389",
         "marker": {
          "color": "#ab63fa",
          "opacity": 0.3,
          "symbol": "x"
         },
         "mode": "markers",
         "name": "389, 389",
         "showlegend": true,
         "type": "scattergl",
         "x": [
          0.0651697919204618,
          -3.194061561345646,
          5.067444017934131,
          -3.3255953821513757,
          -3.8491053779133177,
          -4.91861666100743,
          -0.2356184514140648,
          -4.58473264090266,
          -4.514596077658836,
          2.0963901960833082,
          -0.26332156045226335,
          -2.01812117185451,
          -2.07169712405937,
          -0.22728718749591262,
          -2.173852350145465,
          -3.8206890718055546,
          -5.110251427036332,
          -5.93598221723526,
          3.8805161433733395,
          -1.5069220770617862,
          -1.4911661655717483,
          -1.6943041337508669,
          -3.8665042346662037,
          -4.468668502542808,
          -0.8331483171765196,
          0.09691759252458099,
          -1.9451686808410011,
          -0.3867796450206213,
          -6.605982290184103,
          -4.411491976950717,
          2.039766837642283,
          -2.73025571467546,
          -1.3226155812046823,
          -5.740223517938741,
          -3.8807308448887383,
          1.992308903428774,
          -4.781029677438777,
          -2.2296978211424174,
          -3.556755443634065,
          1.1778274193640559,
          -5.392608422585493,
          -5.633914783057285,
          -3.1853322247649514,
          -0.5431642397264067,
          -5.369212291416935,
          -4.326135952496013,
          -2.851186714553894,
          -1.934602769679758,
          -4.798141330747604,
          -0.63239591520983
         ],
         "xaxis": "x",
         "y": [
          -6.310448846548606,
          0.2745278543807023,
          -5.411304200986105,
          -0.7464844605629471,
          2.100565228446363,
          -2.5451653336767732,
          -8.448596178928232,
          -4.041764678833105,
          0.682260003375552,
          -4.103767021726051,
          -5.774572008615394,
          -4.063928796579033,
          -2.4652292043502597,
          -2.9147386846610406,
          1.8413703496454865,
          -3.8466994911702423,
          -2.9542470689403517,
          -6.361136570880533,
          -0.9396887612223688,
          3.1939613295733693,
          -0.6730533087664272,
          -6.651338309298201,
          4.3757290756105585,
          -6.1331679908491115,
          -7.3504989386080375,
          0.656007641961888,
          -5.517863400283203,
          2.0473284354130237,
          5.339370545399092,
          3.549915093583916,
          -4.09442128378658,
          4.488723685025154,
          -5.236418268416514,
          3.747052463175216,
          -4.535511250950965,
          -4.554793196685591,
          -5.639442312365118,
          -0.5801056422277092,
          0.6101986365184214,
          0.7780538397386868,
          3.700689153479564,
          -5.551784592224639,
          2.2824205364854877,
          1.0307891956113375,
          2.7506048972046466,
          2.8971572527724847,
          -2.565961073346204,
          2.530833839014668,
          -5.038959603780601,
          -0.1851138317034464
         ],
         "yaxis": "y"
        },
        {
         "hovertemplate": "color=369<br>symbol=369<br>x=%{x}<br>y=%{y}<extra></extra>",
         "legendgroup": "369, 369",
         "marker": {
          "color": "#FFA15A",
          "opacity": 0.3,
          "symbol": "cross"
         },
         "mode": "markers",
         "name": "369, 369",
         "showlegend": true,
         "type": "scattergl",
         "x": [
          0.9858039098240473,
          3.8054076216232797,
          -3.9290072356471217,
          -0.5982000746996254,
          10.17678477619139,
          4.333885744777351,
          5.772668552817076,
          -1.8855305535721307,
          5.144469806434144,
          9.692095205239543
         ],
         "xaxis": "x",
         "y": [
          2.2032590573894635,
          3.2584806413650083,
          3.9168573860142004,
          -1.3164359875600051,
          7.083448362817639,
          4.082074218605997,
          2.9565838701609035,
          -0.45725833974484364,
          3.0424742787699883,
          4.651994048748125
         ],
         "yaxis": "y"
        },
        {
         "hovertemplate": "color=136<br>symbol=136<br>x=%{x}<br>y=%{y}<extra></extra>",
         "legendgroup": "136, 136",
         "marker": {
          "color": "#19d3f3",
          "opacity": 0.3,
          "symbol": "circle"
         },
         "mode": "markers",
         "name": "136, 136",
         "showlegend": true,
         "type": "scattergl",
         "x": [
          7.019206240034275,
          0.5656538774423215,
          4.701789835441239,
          7.695245060086071,
          5.823256732450966,
          3.706653489554783,
          5.33734715904133,
          0.674261165759113,
          4.121424551183359,
          1.6578211548808819,
          9.051039903240543,
          3.9841996967880413,
          3.437481091033927,
          3.6049089181003646,
          4.633423739310502,
          5.419360122442502,
          -0.24803589109379043,
          4.182361494959311,
          7.896832780340675,
          7.092329667050673,
          0.4066144478742129,
          8.80692936991269,
          5.953249024220986,
          -3.0345439677997104,
          4.763178234253222,
          2.1880606581700666,
          -1.1908717217296925,
          7.372374012834771,
          4.089701226928836,
          1.6154347716432478,
          3.08763546690493,
          1.8852592920562994,
          1.396479882944377,
          -0.5909266929535879,
          4.84452881212409,
          5.415834499223792,
          4.651537070162021,
          4.143983627859287,
          3.729230015824656,
          4.964753453450702
         ],
         "xaxis": "x",
         "y": [
          -1.786501821008606,
          1.307297571481658,
          -3.4862600220676843,
          -4.741308671532261,
          -5.362079553989419,
          -5.579737274041448,
          0.13231627579727037,
          -0.31436125346305926,
          -3.7961345149281667,
          -8.729999201335596,
          -2.98561086885084,
          -3.5227430722131805,
          -4.729263527110089,
          -2.444090624161823,
          -1.820910766345116,
          -2.902066419089542,
          -6.165881404983104,
          -1.6841794633339766,
          -4.515178377062905,
          -0.10694984992153982,
          -5.438706126159599,
          -9.443452877116764,
          -3.1464583653052833,
          2.2998813994550806,
          -4.700589827633385,
          -1.0026006770400173,
          -2.145156372009958,
          -1.9165824761082793,
          -0.34048044539000405,
          -0.38521454948910505,
          -1.276430433997356,
          -1.5521469654918092,
          -2.5344394752517516,
          0.1679272803266313,
          -4.802844545632104,
          -8.072749614989325,
          -3.201105237499792,
          -2.908731304520121,
          -3.7238812945079363,
          -3.7421226459452686
         ],
         "yaxis": "y"
        },
        {
         "hovertemplate": "color=237<br>symbol=237<br>x=%{x}<br>y=%{y}<extra></extra>",
         "legendgroup": "237, 237",
         "marker": {
          "color": "#FF6692",
          "opacity": 0.3,
          "symbol": "diamond"
         },
         "mode": "markers",
         "name": "237, 237",
         "showlegend": true,
         "type": "scattergl",
         "x": [
          -5.987094001920864,
          -5.993696315484175,
          0.5863747180406255,
          4.151542878527196,
          -2.0895288795618097,
          -7.081494254257439,
          -1.8038359219344053,
          -3.6499248781749842,
          -3.233318512673104,
          -2.357296175590947,
          -3.2262932150703403,
          -4.166165265468302,
          2.858526125420907,
          -7.117547966355539,
          0.9369756215168058,
          -2.514272409174065,
          -4.627857000848952,
          1.0289992343741994,
          -1.5303181691599324,
          -3.905081471159442,
          -1.747230923786119,
          -4.478857396377343,
          -4.591488641126623,
          -6.084251335084331,
          -1.2441997267338334
         ],
         "xaxis": "x",
         "y": [
          5.256689214098479,
          2.2125359452377116,
          -2.1742796333142813,
          3.7048107734622264,
          3.8807635542687824,
          -1.4860405741852747,
          -7.761123843148143,
          5.487699252708914,
          -5.66718626494462,
          1.5038805417211605,
          0.4486208565364429,
          2.625790748235312,
          4.984209490795059,
          -7.094643750878894,
          2.1952003336743906,
          -0.27108618865215334,
          -4.893798492947928,
          3.1306410999293948,
          -2.0017952504967136,
          -4.4795909232171685,
          4.329187826762163,
          -0.28200253544722687,
          1.90467854515473,
          6.909631022106115,
          3.7843495495706687
         ],
         "yaxis": "y"
        },
        {
         "hovertemplate": "color=118<br>symbol=118<br>x=%{x}<br>y=%{y}<extra></extra>",
         "legendgroup": "118, 118",
         "marker": {
          "color": "#B6E880",
          "opacity": 0.3,
          "symbol": "square"
         },
         "mode": "markers",
         "name": "118, 118",
         "showlegend": true,
         "type": "scattergl",
         "x": [
          1.8510174914596291,
          0.7296046701743216,
          -5.422920131598486,
          0.25849219591504097,
          -2.9639189745889403,
          -4.402414404575341,
          -3.6191787438740706,
          2.4090847899794965,
          0.7864614208179919,
          6.817787480673629,
          0.7003254623659695,
          -5.9318680341107894,
          3.3795831990334846,
          5.965681500634883,
          0.8332346866500526,
          -0.3586744488773696,
          2.7225423063209386,
          0.6959431036034224,
          1.3314913641995623,
          0.664408312364538,
          -2.0899844787973665,
          -4.629084939035871,
          -0.1710065569198384,
          0.6128470449583302,
          1.229642913576472,
          -0.7530605522666,
          -0.060604510381301824,
          2.633116904036089,
          -2.5951004630067747,
          3.339867688917705,
          -0.19635752694002861,
          1.619533439722346,
          -2.4754306011787155,
          -1.1836992134420694,
          1.1624436016988229,
          -2.3735677185736597,
          -2.416495124341384,
          -1.6172459622144353,
          2.540164712933152,
          2.2611057579465137,
          0.8882263079913737,
          1.0246084175017383,
          -2.886804444408447,
          -0.7064052975552156,
          1.0260409252827192,
          -0.009562888272156697,
          -0.4521032685262951,
          -5.933084432517939,
          -4.167092387440558,
          1.8291181571551949,
          -1.7612556981464897,
          -0.2779858837290579,
          0.6432676391484538
         ],
         "xaxis": "x",
         "y": [
          -1.2539004926991353,
          -0.23501248601515695,
          -5.044992264981948,
          -1.242993578034701,
          3.3847468873780215,
          -6.838863639623201,
          -4.924212986964479,
          0.5035061407744603,
          -0.15060872795391841,
          -3.573711288091391,
          -5.216601329306496,
          -3.38288895103995,
          -1.2332341305798837,
          1.400548302326627,
          1.0597412458263025,
          0.2089372746661414,
          1.3791313541285357,
          1.1237401265467055,
          2.206023690933409,
          -7.552521680994108,
          -8.244417726526775,
          -8.343835956007533,
          -8.672578040994498,
          -5.2376122581134625,
          -3.4911585800236984,
          -0.6880425698695067,
          -9.314781934947408,
          -7.417536707596065,
          -6.090427630389351,
          0.24987109182366452,
          -0.6714409414711334,
          -1.9777687509410127,
          -0.6079020455657493,
          -5.178205748738477,
          0.9802939297702883,
          -5.4194117719363835,
          -7.300035734292245,
          -6.527602629372576,
          2.013108302100368,
          -2.8549071366056062,
          -4.691023384432582,
          -0.39634257673754725,
          -5.60291882468077,
          2.1770839910917643,
          -2.931820708701273,
          -5.642204933911234,
          -1.6343037445119324,
          -7.153419735967024,
          -3.3952178364954726,
          -0.11193517196942278,
          -7.444417814295128,
          -4.984762900855009,
          -0.18487022727229827
         ],
         "yaxis": "y"
        },
        {
         "hovertemplate": "color=140<br>symbol=140<br>x=%{x}<br>y=%{y}<extra></extra>",
         "legendgroup": "140, 140",
         "marker": {
          "color": "#FF97FF",
          "opacity": 0.3,
          "symbol": "x"
         },
         "mode": "markers",
         "name": "140, 140",
         "showlegend": true,
         "type": "scattergl",
         "x": [
          2.7488775259108675,
          3.952341457801657,
          8.82409565551978,
          10.302820989299741,
          -0.750296611482666,
          11.165899892282916
         ],
         "xaxis": "x",
         "y": [
          1.8176303542113772,
          -0.04746741187278248,
          1.7696383077642892,
          0.567261438399379,
          0.48601927503521114,
          1.9002123473031096
         ],
         "yaxis": "y"
        },
        {
         "hovertemplate": "color=138<br>symbol=138<br>x=%{x}<br>y=%{y}<extra></extra>",
         "legendgroup": "138, 138",
         "marker": {
          "color": "#FECB52",
          "opacity": 0.3,
          "symbol": "cross"
         },
         "mode": "markers",
         "name": "138, 138",
         "showlegend": true,
         "type": "scattergl",
         "x": [
          8.707060907304585,
          0.4255771964255988,
          1.96743168212797,
          2.645822622618597,
          5.177753062940462
         ],
         "xaxis": "x",
         "y": [
          -3.9959200576397396,
          -5.957799254215255,
          -1.1248327949937242,
          0.9168561722387855,
          1.2488971006182623
         ],
         "yaxis": "y"
        },
        {
         "hovertemplate": "color=141<br>symbol=141<br>x=%{x}<br>y=%{y}<extra></extra>",
         "legendgroup": "141, 141",
         "marker": {
          "color": "#636efa",
          "opacity": 0.3,
          "symbol": "circle"
         },
         "mode": "markers",
         "name": "141, 141",
         "showlegend": true,
         "type": "scattergl",
         "x": [
          2.403776699013624,
          -0.8146985957809743,
          -2.5424668021331045,
          3.017872206724451
         ],
         "xaxis": "x",
         "y": [
          -0.25732072417298374,
          0.37632177060551786,
          -3.9370485385470584,
          2.1515069509664673
         ],
         "yaxis": "y"
        },
        {
         "hovertemplate": "color=332<br>symbol=332<br>x=%{x}<br>y=%{y}<extra></extra>",
         "legendgroup": "332, 332",
         "marker": {
          "color": "#EF553B",
          "opacity": 0.3,
          "symbol": "diamond"
         },
         "mode": "markers",
         "name": "332, 332",
         "showlegend": true,
         "type": "scattergl",
         "x": [
          5.859832090731318,
          1.2491009200981094,
          8.642758795943987,
          2.588034027883199,
          8.092265016231822,
          4.426081783998111,
          3.652840139043474,
          4.441568666117125,
          7.942696938047536
         ],
         "xaxis": "x",
         "y": [
          -1.164370414192972,
          0.8869317045152807,
          -0.47536813121428245,
          -0.15042875456848526,
          0.6008252827314329,
          -1.627816936365886,
          -2.070509563762046,
          0.8181048461115442,
          -0.3157182278086523
         ],
         "yaxis": "y"
        },
        {
         "hovertemplate": "color=43<br>symbol=43<br>x=%{x}<br>y=%{y}<extra></extra>",
         "legendgroup": "43, 43",
         "marker": {
          "color": "#00cc96",
          "opacity": 0.3,
          "symbol": "square"
         },
         "mode": "markers",
         "name": "43, 43",
         "showlegend": true,
         "type": "scattergl",
         "x": [
          4.541472505692545,
          0.7214581728379788,
          -0.3938377421539232,
          7.154297300728312,
          3.3011802169221274,
          2.9459558775152854,
          2.573057747820912,
          5.553534986240618,
          -0.5529789807553636,
          3.9479840258553396,
          2.481628816550011,
          5.170946912566422,
          6.374703681942991,
          2.0930308091681646,
          3.0259421872323213,
          5.397662680826142,
          3.4561442500319837,
          6.70480753385723,
          0.6933715520275471,
          3.1434323335941308,
          2.9086485005370384,
          4.26536241189458,
          -0.7018836309816376,
          -0.5198868064123022,
          5.8413100164814376,
          1.896224276512429,
          5.4471364039164385,
          1.8890982125962006,
          1.826386109042564,
          6.205685332336716,
          2.6705283530121164,
          4.132949744421864,
          0.3055736445606241,
          3.7475428364127907,
          5.77795814686405,
          7.784449985587248,
          2.383329816014849,
          -0.3741296153167964,
          7.3301077017671155,
          0.06877480110961771
         ],
         "xaxis": "x",
         "y": [
          1.9945826961314284,
          -3.5104000411507883,
          -9.644067962658195,
          -0.8937642828856374,
          -3.762598951426028,
          -8.79075704432235,
          -4.216010250618315,
          -0.585948582439294,
          -2.723405979854829,
          -1.4967816728918302,
          -6.119101982852755,
          -1.1459093078597842,
          -0.17202829858307342,
          -2.034978070020228,
          -6.621641186231076,
          0.2292150708253622,
          -2.3756983091863244,
          -1.5264852983695336,
          -4.6243008036208835,
          -0.45742329198356957,
          -5.225879685312229,
          -4.333323981746009,
          -5.81877619642013,
          -10.732636679688493,
          0.7136384788532303,
          -0.9065640954766593,
          -3.028025678828999,
          -6.542952432329711,
          -3.32192245236584,
          0.8465046740565568,
          -5.089992628183885,
          -1.4387294062639153,
          -8.652229654531379,
          0.346910125251181,
          -4.134722608168615,
          -0.023455616847074406,
          -3.9097500440529043,
          -1.2729405124122912,
          -2.4148133460363645,
          -5.459875473150822
         ],
         "yaxis": "y"
        },
        {
         "hovertemplate": "color=352<br>symbol=352<br>x=%{x}<br>y=%{y}<extra></extra>",
         "legendgroup": "352, 352",
         "marker": {
          "color": "#ab63fa",
          "opacity": 0.3,
          "symbol": "x"
         },
         "mode": "markers",
         "name": "352, 352",
         "showlegend": true,
         "type": "scattergl",
         "x": [
          -0.41491742653227054,
          -1.8370548057437497,
          3.019717586129326,
          -1.773632449993347,
          -3.9819781229059665,
          -3.44273209340864,
          -1.5341469499866143,
          -4.871116385537181,
          2.3813247844945113,
          -3.9291563568101697,
          1.4104663419011387,
          -2.106613457857534,
          -3.454303680547174,
          5.371601799543122,
          2.739931621658895,
          -1.314621395532824,
          -0.19246160255274866,
          -1.5917610107349274,
          -2.728936680020737,
          -2.9789133012634843
         ],
         "xaxis": "x",
         "y": [
          -0.9935245291140905,
          3.7111350321608993,
          -1.4691834513293325,
          2.497213820649995,
          1.4011744630550043,
          3.318406564580819,
          3.9359757709937324,
          3.2621256295241112,
          2.5472782835228496,
          2.6659123895063344,
          2.791755417156842,
          3.7495893001838536,
          1.357986758382156,
          3.89179559498255,
          4.1965470940233836,
          -0.3882235458971226,
          -0.5011963843518893,
          5.335577584494491,
          2.9022827465880585,
          4.875618536344698
         ],
         "yaxis": "y"
        },
        {
         "hovertemplate": "color=48<br>symbol=48<br>x=%{x}<br>y=%{y}<extra></extra>",
         "legendgroup": "48, 48",
         "marker": {
          "color": "#FFA15A",
          "opacity": 0.3,
          "symbol": "cross"
         },
         "mode": "markers",
         "name": "48, 48",
         "showlegend": true,
         "type": "scattergl",
         "x": [
          10.735731312766456,
          10.582964348759434,
          13.26766623513409,
          10.29802645640073,
          6.762263040225887,
          10.010716464585496,
          10.46383722026189,
          11.338496737871905,
          4.8877624407137565,
          9.256748113780839,
          7.299206084422433,
          9.8509625761202,
          8.03162075550271,
          11.194483956078972,
          11.012154561691965,
          11.804448510258284,
          9.242129993422056
         ],
         "xaxis": "x",
         "y": [
          0.44281750261795116,
          0.6354882050406392,
          3.4620173357888833,
          0.7299298702378596,
          1.9554386212059915,
          1.6782956841096826,
          3.4496578606926236,
          3.1851498813592043,
          -0.0024745374208198744,
          2.6069390964100116,
          4.531462414654793,
          1.7058420204464046,
          2.446092920196887,
          3.006211173660775,
          3.6212986739562143,
          0.4537795631349905,
          1.2882285244963732
         ],
         "yaxis": "y"
        },
        {
         "hovertemplate": "color=9<br>symbol=9<br>x=%{x}<br>y=%{y}<extra></extra>",
         "legendgroup": "9, 9",
         "marker": {
          "color": "#19d3f3",
          "opacity": 0.3,
          "symbol": "circle"
         },
         "mode": "markers",
         "name": "9, 9",
         "showlegend": true,
         "type": "scattergl",
         "x": [
          -5.487325622297404,
          -2.1574753439302317,
          2.8898712172180647,
          0.15561415623148112,
          -3.5791804862477847,
          -2.151092910459023,
          -6.5339849647661215,
          -2.842203820780122,
          -1.723739642246192,
          -2.4881492575470614,
          -4.14003953419792,
          -5.336000978777528,
          -0.9792726644909582,
          0.455716373078778,
          -5.426501045038437,
          -3.8248629984236127,
          -7.708249031466475,
          7.512270558289168,
          -4.50147156948495,
          1.2788327983896128,
          0.14806168708006848,
          -2.3735598114887786,
          -3.247291653562523,
          -2.898806967759076,
          -3.9213115080978453,
          0.7370695852044267,
          -4.32802292965803,
          -0.7607323437975118,
          -0.6577073014407117,
          -3.347862034110964,
          -5.272548434641137,
          -0.968884987087738,
          0.9039715346551471,
          3.1936945690965595,
          -6.333807985145707,
          -5.531085383824701,
          0.24842905873211846,
          -3.910705463486146,
          -1.5060840718322739,
          -3.795200703755648,
          -1.7095406641090918,
          -4.110752810772221
         ],
         "xaxis": "x",
         "y": [
          1.8673352058054455,
          5.181724105797968,
          -0.301689020859854,
          1.013090636312743,
          4.096218482700868,
          -0.20696911632656442,
          -5.251388210677853,
          -6.626361452096727,
          -6.6400866920681665,
          -6.075756082678648,
          3.026590375340955,
          1.7849506128030432,
          -3.1186830991542234,
          -10.803306583510963,
          -0.650165038394803,
          1.3265375016648577,
          1.0825235873351464,
          -1.8152589763224862,
          -0.5418027095952901,
          -0.6318375292706512,
          -1.0233669751625398,
          -5.829886275321965,
          1.1926224534490466,
          0.43516096426506,
          -4.975967911745862,
          -1.3064128464691385,
          -5.263844878210591,
          -0.32095767617344884,
          -4.511842226364553,
          0.7691089849125646,
          -3.4140254414516673,
          0.6530437692429767,
          -0.9803192242155334,
          -1.202269431416449,
          -1.8677880730513763,
          -1.6110616786436684,
          -2.134793150851001,
          0.35963074534450473,
          -7.207039021987638,
          -5.167096084725534,
          -0.7373509078424784,
          -7.200338259564875
         ],
         "yaxis": "y"
        },
        {
         "hovertemplate": "color=162<br>symbol=162<br>x=%{x}<br>y=%{y}<extra></extra>",
         "legendgroup": "162, 162",
         "marker": {
          "color": "#FF6692",
          "opacity": 0.3,
          "symbol": "diamond"
         },
         "mode": "markers",
         "name": "162, 162",
         "showlegend": true,
         "type": "scattergl",
         "x": [
          -0.7471938157673469,
          0.8082336736352448
         ],
         "xaxis": "x",
         "y": [
          0.9358492301472339,
          0.1015043603235933
         ],
         "yaxis": "y"
        },
        {
         "hovertemplate": "color=438<br>symbol=438<br>x=%{x}<br>y=%{y}<extra></extra>",
         "legendgroup": "438, 438",
         "marker": {
          "color": "#B6E880",
          "opacity": 0.3,
          "symbol": "square"
         },
         "mode": "markers",
         "name": "438, 438",
         "showlegend": true,
         "type": "scattergl",
         "x": [
          -3.0166134392314623,
          -1.7792286111931543,
          3.9382652959952478,
          -1.0433229758028297,
          -1.0887098005331952,
          -5.005615523415038,
          -1.7799579944256834,
          -1.5934186921038074,
          1.4442665093954787,
          -2.8614763482884906,
          -2.604639170592564,
          -1.6099291577897263,
          3.8700841531509944,
          -1.163137030663751,
          -3.0663133244949727,
          -6.575981757717262,
          -3.0728341704247346,
          -6.304689794636756,
          -4.0376017740321455,
          -1.1767328168291826,
          -4.548994481981955,
          -3.7958243079151464,
          -2.2468908439487816,
          -6.181154656550544,
          0.9303542626280847,
          -2.919528237995897,
          -2.492691567219989,
          -1.7127038334089473,
          -4.874448957802775,
          -0.6497028930270593,
          -0.5807141557276116,
          -0.4741303061016672,
          -0.5935384633154072,
          -3.2565071750898635,
          -1.1541130155713017,
          -3.4733680043529613,
          0.3584864932307207,
          -4.634824836598144,
          -0.1771797960604458,
          -3.8373275110840086,
          0.5083932713686161
         ],
         "xaxis": "x",
         "y": [
          1.5027868243213878,
          0.44656626836526,
          1.0857395730389694,
          3.501413828373051,
          0.008200758047152295,
          -0.600733696208325,
          -0.8782872944227713,
          0.4105532404634812,
          -4.700152273383163,
          0.5999863439185463,
          1.1585458700530418,
          0.8760240932577357,
          -2.2875355771730974,
          2.549355622809517,
          -4.461424420295272,
          2.165991448197255,
          0.3118393035572382,
          -4.137216440037387,
          2.8922698705196863,
          -7.037889948813845,
          3.7937852063160604,
          1.3639716560289925,
          2.4533568998683166,
          -7.116376293611774,
          1.9040452362942317,
          -5.108403771923911,
          -0.44959542749799836,
          1.2415564133669281,
          -3.8978571257984242,
          0.4895481550914149,
          -2.720250806599708,
          0.6559839472791337,
          -0.8945775200087944,
          -5.435046802401566,
          -7.63220623574281,
          -2.8933555290132404,
          0.39217676540303975,
          -0.16266744497999805,
          -4.235708506683724,
          -3.2740727665696547,
          -0.10606261172238614
         ],
         "yaxis": "y"
        },
        {
         "hovertemplate": "color=301<br>symbol=301<br>x=%{x}<br>y=%{y}<extra></extra>",
         "legendgroup": "301, 301",
         "marker": {
          "color": "#FF97FF",
          "opacity": 0.3,
          "symbol": "x"
         },
         "mode": "markers",
         "name": "301, 301",
         "showlegend": true,
         "type": "scattergl",
         "x": [
          -8.15364997642756,
          0.24107616381637695,
          -6.433480657719491,
          -7.993894903681602,
          -2.178072349215217,
          -2.8468692828971713,
          -4.463620725467747,
          -0.6100635039668777,
          -5.143286901850713,
          1.4396892854214787,
          -2.3899417750537824,
          -7.507042691355433,
          -4.021677475147874,
          -7.478337212845811,
          -1.7241378214900074,
          -4.567646398523642,
          -3.9383691649228316,
          -0.08575180938581373,
          -3.1012498869868765,
          -7.586286518770018,
          -1.8214510238044925,
          -5.922387657642653,
          -4.735046020208717,
          -0.39083079553607813,
          1.0660532775981881,
          -9.302717826774323,
          -3.9854753170072277,
          -4.489053400861386,
          -0.9997510710716774,
          -6.00332737910362,
          2.1256603274328842,
          -2.9387697375388457,
          -1.681714843861305,
          -0.6320421221405418,
          -2.431384925240908,
          2.0610826920629606,
          -7.250457281771051,
          -6.087265567710777,
          -4.140811549578585,
          -5.590046662004807,
          0.08188922086237008,
          -3.787928433999435,
          3.7016144865868568,
          -0.3194531092692601,
          -4.581673075749147,
          -6.987125049071924,
          -2.3638884043812447,
          -4.041862169215006,
          -2.9983191150912987,
          -1.332865879029391,
          -4.290638499544789,
          10.741812151782241
         ],
         "xaxis": "x",
         "y": [
          5.852839010192208,
          4.660334271479354,
          6.046286287171668,
          3.0844845254842395,
          -6.541307770594168,
          -6.7334123672459585,
          -4.341799107491989,
          2.314603117802677,
          2.7724454691155502,
          5.190603826625494,
          2.5419387368088353,
          -0.10260212565148814,
          2.338637608032451,
          -4.384092732290015,
          1.3162662966365701,
          -6.447453860631249,
          3.267411621154086,
          1.824610359808397,
          -2.109123748417923,
          3.9337233766183837,
          -7.904884403788264,
          2.811404662418747,
          2.136087561767804,
          3.2096398624610836,
          -1.8743567841884228,
          4.451518953614472,
          3.2265143441559334,
          -4.377345904865125,
          -3.7600476756168817,
          2.645303144558736,
          -6.289449659130691,
          3.9812103409907915,
          3.1517990655416797,
          2.1182020099451897,
          -4.3955744150620735,
          -5.059991315009756,
          2.8093989783912274,
          1.0457306804538988,
          1.4005654008941184,
          3.6982570326942605,
          1.0673407076616552,
          1.120897399349896,
          2.4101472901387924,
          1.2071009813412101,
          -3.3100658129514495,
          0.24569638379468764,
          -2.327746513492955,
          2.1188152880853086,
          5.449685882547844,
          1.2438024572401383,
          4.855607414290568,
          3.800251554591593
         ],
         "yaxis": "y"
        },
        {
         "hovertemplate": "color=99<br>symbol=99<br>x=%{x}<br>y=%{y}<extra></extra>",
         "legendgroup": "99, 99",
         "marker": {
          "color": "#FECB52",
          "opacity": 0.3,
          "symbol": "cross"
         },
         "mode": "markers",
         "name": "99, 99",
         "showlegend": true,
         "type": "scattergl",
         "x": [
          10.19852876874738,
          3.8985136536888505,
          8.129328415958145,
          2.7040909435282208,
          1.6865982683481788,
          4.798261977071227,
          3.6441204820682267,
          -0.5000353938137363,
          2.461295778727963,
          5.180273075565358,
          5.271841594779538,
          2.344806378160324,
          0.9871465842594405,
          4.4236029675446975,
          3.360271915854525,
          5.499716862122611,
          5.80565697676969
         ],
         "xaxis": "x",
         "y": [
          -3.321815186841796,
          -10.812838781982576,
          -8.963954267310926,
          -5.199560540299527,
          -4.514214536467063,
          -11.106948741709738,
          -7.616654307535247,
          -11.852735355226875,
          -12.89650503075062,
          -10.304475114317729,
          -11.15654736951351,
          -9.775913972496966,
          -9.270490474977382,
          -0.9001085937545634,
          -5.275128915819983,
          -8.203022768120942,
          -5.545475700842407
         ],
         "yaxis": "y"
        },
        {
         "hovertemplate": "color=254<br>symbol=254<br>x=%{x}<br>y=%{y}<extra></extra>",
         "legendgroup": "254, 254",
         "marker": {
          "color": "#636efa",
          "opacity": 0.3,
          "symbol": "circle"
         },
         "mode": "markers",
         "name": "254, 254",
         "showlegend": true,
         "type": "scattergl",
         "x": [
          0.1828902448067468,
          -6.104407098484873,
          -4.5087742808344515,
          -5.8963002321611135,
          -5.206976080881668,
          -4.744911450434676,
          -1.3453169373659661,
          -7.450126400902002,
          0.8898517342397206,
          -6.987991588571088,
          -4.352515198555308,
          -3.8354282524692027,
          -7.201062450888652,
          -0.9955273988143879,
          -4.836032028786794,
          -4.570173115229106,
          -5.360826884301058,
          -2.866817571642451,
          -2.8196674200916076,
          -7.855688906899913
         ],
         "xaxis": "x",
         "y": [
          4.8709659864421315,
          2.7503169550796485,
          -0.21672785735897904,
          5.674105531759949,
          4.663681689173559,
          5.538188679879631,
          0.8336437727645706,
          -0.7900666462490857,
          5.296667585185998,
          2.085733169192201,
          -0.18590517297232492,
          3.1358828451155,
          2.9851957989412785,
          4.150789619444964,
          -2.9684975895601586,
          -2.448957914554986,
          0.12363366606149247,
          3.0197243262821223,
          5.123347832180479,
          2.1261599594801743
         ],
         "yaxis": "y"
        },
        {
         "hovertemplate": "color=382<br>symbol=382<br>x=%{x}<br>y=%{y}<extra></extra>",
         "legendgroup": "382, 382",
         "marker": {
          "color": "#EF553B",
          "opacity": 0.3,
          "symbol": "diamond"
         },
         "mode": "markers",
         "name": "382, 382",
         "showlegend": true,
         "type": "scattergl",
         "x": [
          -0.5715193393748588,
          -2.4954345574905523,
          -1.0222849146932345,
          -4.8617488039990215,
          -2.242453515316357,
          1.4249571984126645,
          -0.4744945810077095,
          2.7844280667101495,
          2.1446120898017105,
          -2.49574084180786,
          0.7415459706949232,
          -2.7842819431239247,
          -1.9786093175123327,
          2.139316485483935,
          -6.109738537460304,
          -2.4849425167140415
         ],
         "xaxis": "x",
         "y": [
          3.900573708418741,
          5.07019620012337,
          -1.669309977589542,
          3.3995928374564235,
          6.109792565680477,
          2.664634128878837,
          2.8907358259909333,
          3.0879037060438113,
          4.030615082303261,
          5.700287555078307,
          5.769383425208059,
          6.254198570192621,
          3.938614623407027,
          5.633323052636543,
          -0.7144846728465137,
          5.747505518217044
         ],
         "yaxis": "y"
        },
        {
         "hovertemplate": "color=442<br>symbol=442<br>x=%{x}<br>y=%{y}<extra></extra>",
         "legendgroup": "442, 442",
         "marker": {
          "color": "#00cc96",
          "opacity": 0.3,
          "symbol": "square"
         },
         "mode": "markers",
         "name": "442, 442",
         "showlegend": true,
         "type": "scattergl",
         "x": [
          3.4058572105015443,
          -3.831279761836162,
          -3.5481118225964154,
          -0.22051325036531305,
          -6.79235526866465,
          -1.4961252232144866,
          -2.4907121235244407,
          -2.20961296419569,
          -0.922185986812636,
          -4.357654087851555,
          -1.0043644823269977,
          -1.7615286430647825,
          -3.590228625717705,
          -1.8827742634748839,
          -1.6610249229564114,
          2.6710553942549877,
          2.194929904741792,
          0.026533620653961643,
          -5.79988059345775,
          -2.0363526541537884,
          -4.528058318552701,
          2.30486126511361,
          -2.813224744527309,
          -4.599331764197078,
          -2.9024523005237057,
          -6.3546740987662815,
          2.959439023511048,
          -1.0729767271817063,
          -4.169615195573344,
          -1.1339515611735467,
          -2.444580408655226,
          -2.143510572819381,
          4.7107452472252085,
          0.8762087775863865,
          -3.4954490916028806,
          -1.416388628241804,
          -1.8191895747512004,
          4.554831307217074,
          -4.016201464256126,
          -1.7378027175179955,
          1.8645157346304155,
          1.301715020927941,
          -5.305486781772382,
          -3.7377345412631904,
          -2.247312305501943,
          -3.570158499334976,
          -1.4575849281015336,
          -4.317337828859395,
          -2.4537400741819386,
          -2.270945145937809,
          -1.1187923116372598,
          1.780884875802701,
          -2.3747134873997555,
          6.177187216716602,
          2.6470558865779683,
          -6.625369201528899,
          0.4495580262838981,
          2.0416746584952645,
          -5.1747867562525816,
          -8.874121110456297,
          0.4475895692588921,
          -4.971939773132762,
          -2.1444684205168367
         ],
         "xaxis": "x",
         "y": [
          -6.054463472810894,
          -0.1823104383529086,
          2.229301814363888,
          -6.13474130795123,
          2.236301435516913,
          1.043919735715953,
          -2.6411982737889956,
          3.0818897554966487,
          2.8070171263998374,
          2.670162260038388,
          -0.6332076472183051,
          0.9154752889413112,
          1.4246033915960172,
          2.474704837973551,
          0.9060468203634676,
          3.639285772652978,
          0.4062800767958946,
          -4.418715922640405,
          3.808572576297564,
          -4.244558656689651,
          -3.125284966850629,
          1.7405066326899965,
          3.4301909223946536,
          -0.33843503148157644,
          2.052059672312564,
          -3.399657337430634,
          2.572203913135077,
          2.6675166489504,
          -5.191226561295917,
          -3.2852052771141618,
          3.5328440988696888,
          1.2885624841985295,
          1.376030767699388,
          1.9562550914237802,
          -0.612074722658702,
          -1.6357163330904407,
          3.8485882235935547,
          -1.5935749987514842,
          1.3750872878546598,
          4.140731154000227,
          3.1213249192057906,
          -0.7427761437204942,
          -4.517987148329437,
          -8.084828600246032,
          -1.9540718876959002,
          -7.064155606498684,
          -0.5215999988966227,
          4.5291878761697655,
          -2.641989720427263,
          3.7579394926610696,
          2.457677228069369,
          1.7663422409835974,
          -0.34754828508786023,
          1.5595595368631416,
          -9.769172867316499,
          -1.3972695570258709,
          -4.784610541566148,
          0.031100942279587002,
          2.6402624227208484,
          -2.611094577417691,
          6.778960086199289,
          -2.503380217448016,
          5.436834466528514
         ],
         "yaxis": "y"
        },
        {
         "hovertemplate": "color=165<br>symbol=165<br>x=%{x}<br>y=%{y}<extra></extra>",
         "legendgroup": "165, 165",
         "marker": {
          "color": "#ab63fa",
          "opacity": 0.3,
          "symbol": "x"
         },
         "mode": "markers",
         "name": "165, 165",
         "showlegend": true,
         "type": "scattergl",
         "x": [
          -2.03946173297204,
          -2.3403372516818237,
          -3.5164104462848913
         ],
         "xaxis": "x",
         "y": [
          -3.852206951558434,
          -0.013181815260139007,
          3.1166116152189134
         ],
         "yaxis": "y"
        },
        {
         "hovertemplate": "color=166<br>symbol=166<br>x=%{x}<br>y=%{y}<extra></extra>",
         "legendgroup": "166, 166",
         "marker": {
          "color": "#FFA15A",
          "opacity": 0.3,
          "symbol": "cross"
         },
         "mode": "markers",
         "name": "166, 166",
         "showlegend": true,
         "type": "scattergl",
         "x": [
          4.24751959486218,
          -2.1169431262592204,
          2.6198032605545523
         ],
         "xaxis": "x",
         "y": [
          -2.81551138534243,
          4.3989195165322394,
          0.35244931699017573
         ],
         "yaxis": "y"
        },
        {
         "hovertemplate": "color=92<br>symbol=92<br>x=%{x}<br>y=%{y}<extra></extra>",
         "legendgroup": "92, 92",
         "marker": {
          "color": "#19d3f3",
          "opacity": 0.3,
          "symbol": "circle"
         },
         "mode": "markers",
         "name": "92, 92",
         "showlegend": true,
         "type": "scattergl",
         "x": [
          2.298021405269213,
          4.43052420389568,
          -3.667979846506703,
          0.40746679721413026,
          6.277005748728301,
          -1.1334226432231356,
          -4.74899788898907,
          -4.16298329073246,
          -1.3551887731825396,
          4.083029584208403,
          0.3781827211482137,
          0.21592777244851308,
          -1.8797901893024662,
          0.8532234463352302,
          -1.0020132437580547,
          -1.4666106214370276,
          7.2646510338695505,
          -4.077825700626824,
          0.40107238089642644,
          -3.707338186408582,
          -1.2401418215397513,
          -1.1919550066939528,
          -5.484644638715491,
          -6.802397252119421,
          -3.9793533547417965,
          0.6332016188143608,
          0.9875196645103987,
          -1.5749889247655184,
          3.822853136116367,
          2.141706222501235,
          -3.4010664796054835,
          -0.18049831798212743,
          1.8826122213893424,
          -3.8213790056108614,
          -2.7153053957844415,
          -5.489549440638855,
          -3.533132354029375,
          1.5220937021365528,
          2.449139777635955,
          -3.73343517644597,
          -2.0775618724303144,
          -1.4931999535432323
         ],
         "xaxis": "x",
         "y": [
          0.27849790818716874,
          -0.2556046126468397,
          -2.899611675783085,
          -4.731618578492936,
          1.3671596654687732,
          -5.534565185252592,
          -3.3322714820566954,
          -7.553800182534169,
          -0.839040901983407,
          2.7250068441180657,
          -4.137669785065893,
          4.527095808566181,
          5.331689343187332,
          -0.2126030980303472,
          4.052273032943107,
          -1.8714034315547274,
          2.2268988216669094,
          -1.8499848507963403,
          1.500254864051646,
          2.698357077145888,
          1.4914002110803222,
          1.116196357822329,
          -2.1301652593180487,
          2.331389292168186,
          0.7621955423753994,
          2.9873144676068786,
          -0.01083390077485009,
          -5.742241705934195,
          -6.392374348685478,
          -7.152148640195604,
          1.5102043331530346,
          0.7916712325311355,
          -1.857737652992893,
          3.3037304070712405,
          4.892160962734817,
          -4.118451890733396,
          1.0876018602988498,
          -2.628590771873509,
          2.8881798498346303,
          -0.4843000343106518,
          -0.0980138045181119,
          0.23434070187626996
         ],
         "yaxis": "y"
        },
        {
         "hovertemplate": "color=304<br>symbol=304<br>x=%{x}<br>y=%{y}<extra></extra>",
         "legendgroup": "304, 304",
         "marker": {
          "color": "#FF6692",
          "opacity": 0.3,
          "symbol": "diamond"
         },
         "mode": "markers",
         "name": "304, 304",
         "showlegend": true,
         "type": "scattergl",
         "x": [
          -7.1376824647599815,
          -4.063037164703852,
          -10.193315281894188,
          1.49094405046588,
          -5.357665039064174,
          -8.457661028638363,
          -0.8886168021587967,
          -3.753313540518216,
          -0.9503875848937032,
          4.6617198174715,
          -0.1534866075249354,
          5.0131514843289295,
          -6.328398848688408,
          -2.936716759969147,
          -4.407130119327635,
          0.3105792601819679,
          -5.527384468532419,
          -3.0078817059327863,
          -1.0607518563959666,
          -8.154560927258334,
          -4.040573535492669
         ],
         "xaxis": "x",
         "y": [
          4.6348182443646895,
          0.45270684365138647,
          2.0315681470673117,
          5.552897475979554,
          4.078523011149506,
          2.49572195031627,
          3.4789153533857218,
          5.403814006018595,
          3.896564633274626,
          1.3698352111215606,
          4.389383287303925,
          4.979497832704064,
          4.35009944223868,
          1.9124742854375907,
          0.2663543961868387,
          -5.004290964201132,
          6.301965027427082,
          2.6510987473123353,
          3.662631043492235,
          2.8939160126743095,
          4.066900084653617
         ],
         "yaxis": "y"
        },
        {
         "hovertemplate": "color=434<br>symbol=434<br>x=%{x}<br>y=%{y}<extra></extra>",
         "legendgroup": "434, 434",
         "marker": {
          "color": "#B6E880",
          "opacity": 0.3,
          "symbol": "square"
         },
         "mode": "markers",
         "name": "434, 434",
         "showlegend": true,
         "type": "scattergl",
         "x": [
          -0.023544557174371736,
          -2.3019356405698597,
          -6.977924909200048,
          -5.081715020774594,
          -2.813907776229772,
          -1.9948760904544958,
          -4.930586425739869,
          -1.2255134561676007,
          -7.146230032147939,
          2.693266118284189,
          -5.950954024603398,
          -6.522230274541092,
          -4.761658587797645,
          -1.1724063700074498,
          -5.212019843176214,
          -6.717303253037037,
          -8.253776174197629,
          -7.824261634652589,
          -6.064691784103583,
          -8.00377238049824,
          0.505811593390212,
          -7.756098814785919,
          -2.523304904107955,
          -3.125029992473496,
          0.7102856797449785,
          -6.224026604362271,
          -7.132776959767578,
          -5.081297446006268,
          -6.396301202458806,
          -5.359199837924696,
          -2.9477058330107946
         ],
         "xaxis": "x",
         "y": [
          1.2365112416955402,
          -1.0706482222722742,
          -3.1234103137771387,
          0.4612585814264094,
          -1.8778906144182281,
          -0.14366315416710942,
          -8.223102564160214,
          4.322768646907785,
          -4.030021649234726,
          1.1040996546810586,
          0.51814931160405,
          -2.7144886991040647,
          1.4631185288288635,
          -0.25576118836053796,
          1.3288717877322855,
          -6.047023678917425,
          1.074050711392245,
          -6.246873725889982,
          1.2752470396741507,
          -3.933155066615566,
          0.4115829693182949,
          1.6248655000243166,
          -0.7469508203759564,
          -6.736087862784826,
          0.5953618287005715,
          -3.968457140965159,
          -3.910375534634522,
          0.2792023217759163,
          0.5907550432851467,
          1.936049967722766,
          -3.0331147794572733
         ],
         "yaxis": "y"
        },
        {
         "hovertemplate": "color=135<br>symbol=135<br>x=%{x}<br>y=%{y}<extra></extra>",
         "legendgroup": "135, 135",
         "marker": {
          "color": "#FF97FF",
          "opacity": 0.3,
          "symbol": "x"
         },
         "mode": "markers",
         "name": "135, 135",
         "showlegend": true,
         "type": "scattergl",
         "x": [
          3.916133324691766,
          4.930150088859765,
          5.789637644712101,
          0.9634017930126646,
          5.731756990502822,
          1.912765826025409,
          6.1075237591667015,
          3.4685216369910736,
          6.5570246894275925,
          -3.974115015678891,
          2.8310629081575276,
          0.6644105946669772,
          3.6380767866805406,
          5.179947142123763,
          2.6105957342397157,
          4.63097847613781,
          7.152901127505915,
          4.859109908857265,
          6.637772030930245,
          8.6738615610245,
          4.969873724572085,
          5.075230823440705,
          1.3187060986555321,
          9.620197108032677
         ],
         "xaxis": "x",
         "y": [
          -3.703965341244281,
          -1.951645304276132,
          -7.787223171586587,
          -1.3698974268753976,
          -2.48171501957888,
          -11.030243957614031,
          -1.1395020866337604,
          -5.0207836345893835,
          -4.414337927194291,
          -2.6982956352259606,
          -2.5996854551762647,
          -5.650956816785057,
          -1.7449816859284077,
          -3.9178890766534806,
          -8.911094138054679,
          -0.5895855403345017,
          -5.044399389672567,
          -4.922727691390006,
          -8.200509959313083,
          -9.549565392967262,
          -5.661811833347033,
          -7.167493831224268,
          -1.2447592743226266,
          -1.7423824462108053
         ],
         "yaxis": "y"
        },
        {
         "hovertemplate": "color=348<br>symbol=348<br>x=%{x}<br>y=%{y}<extra></extra>",
         "legendgroup": "348, 348",
         "marker": {
          "color": "#FECB52",
          "opacity": 0.3,
          "symbol": "cross"
         },
         "mode": "markers",
         "name": "348, 348",
         "showlegend": true,
         "type": "scattergl",
         "x": [
          5.393203419343674,
          -0.1200202174401174,
          2.4351042445968663,
          4.41674911092508,
          4.596221076242689,
          4.602724435238458,
          2.1145355610786942,
          1.3317806780309747,
          4.761488219028445,
          3.413324787494225,
          1.8418224093350495,
          3.188680962121752,
          9.823818331003917,
          7.2859257714296914,
          3.2922966615183804,
          1.9651680233627689,
          4.900394576280547,
          3.666013124457125,
          1.1240664223107595,
          3.2756919070392443,
          3.2424096375110194,
          3.581896896307456
         ],
         "xaxis": "x",
         "y": [
          1.554439527143165,
          -7.908198959939276,
          -3.510721175975435,
          -6.951671607439288,
          -3.2202100447879918,
          -8.151988329817442,
          -3.3199946441061288,
          -8.29297173605224,
          -7.715568280191808,
          0.29472302994287103,
          -10.624656148329898,
          -4.573615187554694,
          -1.7934355799286612,
          -3.2180576041300433,
          -6.4961931370977775,
          -7.573672242345184,
          -3.8206417471383443,
          -9.84793235319808,
          -9.14627634351553,
          -9.734976231445383,
          -9.920921870471279,
          0.2632994329457057
         ],
         "yaxis": "y"
        },
        {
         "hovertemplate": "color=436<br>symbol=436<br>x=%{x}<br>y=%{y}<extra></extra>",
         "legendgroup": "436, 436",
         "marker": {
          "color": "#636efa",
          "opacity": 0.3,
          "symbol": "circle"
         },
         "mode": "markers",
         "name": "436, 436",
         "showlegend": true,
         "type": "scattergl",
         "x": [
          -5.580218622884101,
          -4.604192986161001,
          -7.3695304292599735,
          -1.9364605044871974,
          6.666762201535072,
          -5.290030046576197,
          -2.9413390101550383,
          -4.029418128453997,
          -3.028545702338552,
          10.016399135057105,
          -1.6643727359776874,
          -2.4273200959362784,
          -3.2803700122386403,
          -6.270953308614674,
          -6.770729173520467,
          14.93402007057749,
          5.118392773169781,
          -3.0730846385546986,
          -2.0617270343222396,
          0.692705926628734,
          -3.017995864771701,
          -6.709578420923895,
          -0.8862748043431805,
          0.24755165537700108,
          -2.0095013442468836,
          -6.797244887448371,
          -0.667941363719389,
          -4.076597880560378,
          -2.2675275147004603,
          -4.980373512906829,
          -5.531525762874449,
          -1.0416900395977327,
          -1.558447025003156
         ],
         "xaxis": "x",
         "y": [
          -6.007914794145845,
          1.178711349658157,
          -4.196775122459453,
          0.11094601418363483,
          -0.3239162872327056,
          -3.2082837875643597,
          -1.1934212660247079,
          1.110684623618691,
          0.5000719073267467,
          5.910788466809607,
          -5.140518599355854,
          0.5754767399125295,
          -1.0646806350303017,
          -2.021555030330166,
          1.8908162516312552,
          6.622125803096001,
          -1.2367329945066246,
          -0.3953304502837622,
          -0.40602624475629445,
          -1.591318544092726,
          -0.6386374522402758,
          -5.919741726175635,
          -0.6891392889873481,
          -0.839663516122582,
          0.8382556471355517,
          0.4628551225778569,
          -1.32072836022326,
          -4.147987251515312,
          1.1999964868834319,
          -0.5374113265496357,
          -7.919760348511997,
          -0.6862569049509211,
          0.05941609287528912
         ],
         "yaxis": "y"
        },
        {
         "hovertemplate": "color=199<br>symbol=199<br>x=%{x}<br>y=%{y}<extra></extra>",
         "legendgroup": "199, 199",
         "marker": {
          "color": "#EF553B",
          "opacity": 0.3,
          "symbol": "diamond"
         },
         "mode": "markers",
         "name": "199, 199",
         "showlegend": true,
         "type": "scattergl",
         "x": [
          0.19306970143782334,
          8.39751189142742,
          -1.0932526513147551,
          0.9496947293694746,
          0.8341979145121712,
          2.279406154196207,
          2.8559067920470476,
          -3.2128401524909527,
          3.6902859603841276,
          2.4155357249334672,
          4.548209765734618,
          3.1682342634693237,
          -1.841458042381761,
          -0.386755932369282,
          0.35663873160691895,
          3.1427000192357895,
          -1.0582985802119984
         ],
         "xaxis": "x",
         "y": [
          2.3616114592436497,
          5.590318697601545,
          6.457007081191199,
          2.8866113802434943,
          6.759801060938501,
          4.912373890332811,
          2.579778773554427,
          4.6684763990281075,
          4.356379501688848,
          4.010859687100204,
          5.421397057103733,
          1.442044120629261,
          1.0097035515068449,
          6.479716561875557,
          2.4046361001609053,
          4.1874628073405535,
          0.9465493184184409
         ],
         "yaxis": "y"
        },
        {
         "hovertemplate": "color=250<br>symbol=250<br>x=%{x}<br>y=%{y}<extra></extra>",
         "legendgroup": "250, 250",
         "marker": {
          "color": "#00cc96",
          "opacity": 0.3,
          "symbol": "square"
         },
         "mode": "markers",
         "name": "250, 250",
         "showlegend": true,
         "type": "scattergl",
         "x": [
          -0.3702208308178704,
          -3.8793078013490283,
          -3.9832116231607357,
          -2.069628028625378,
          -8.133898984858776,
          -4.359535184425908,
          -6.322141683203857,
          -1.0128341695353604,
          -6.8648983400901145,
          -6.767036746688161,
          -2.9096942000857333,
          -5.889133825726762,
          -1.9181815912492373,
          -3.0697363619182716,
          -5.668079083995343,
          -4.882811454199437,
          -0.8765880424478222,
          -4.085085367409901,
          -5.684671491307639
         ],
         "xaxis": "x",
         "y": [
          5.3992298077511,
          3.4161223619982253,
          -3.6469954728759917,
          -3.1838698924870332,
          5.35287949218594,
          3.284175383000489,
          1.0485507556022933,
          5.677783686566373,
          2.041604144620858,
          3.7013250334851127,
          3.815163049539658,
          5.5538140603127015,
          -2.065864889035545,
          5.696844863148441,
          6.315034875980778,
          -1.8775771516262405,
          4.925405420547837,
          3.7401405390271227,
          4.255899761261595
         ],
         "yaxis": "y"
        },
        {
         "hovertemplate": "color=395<br>symbol=395<br>x=%{x}<br>y=%{y}<extra></extra>",
         "legendgroup": "395, 395",
         "marker": {
          "color": "#ab63fa",
          "opacity": 0.3,
          "symbol": "x"
         },
         "mode": "markers",
         "name": "395, 395",
         "showlegend": true,
         "type": "scattergl",
         "x": [
          -3.3423242091145107,
          -7.042528648898142,
          -9.126388208361718,
          -4.965420387932298,
          -5.837124860575954,
          -1.5733285419485712,
          -4.706223381628852,
          -4.806661517368806,
          -6.764847407433599,
          -0.5161321468610239,
          -6.1554694342922955,
          -5.446932889137535,
          -0.129765813016215,
          -6.332317164067774,
          -2.2738505701600507,
          -5.8567230130243955,
          -4.707772901883605,
          -3.1660943355104414,
          -6.301497762678483,
          -2.1903685717551853,
          0.34867021839273393,
          -5.211390012797932,
          -4.976873473335181,
          -2.128416861779961,
          -7.329648851573837,
          0.007585290519924956,
          -3.0736822207958503,
          -1.5455173618372744,
          -5.037113826006957,
          1.434296109635947,
          -4.155149792019547,
          -3.140417781568231,
          -1.7607818961031283,
          1.0347607582358795,
          -4.508493337883423,
          -5.220673477293037
         ],
         "xaxis": "x",
         "y": [
          -8.307311395015892,
          2.924621160907409,
          3.7313042581727793,
          -5.147832188708062,
          -3.624458336531937,
          2.481563803727342,
          1.7004710301092734,
          -2.4557483200074985,
          3.895391070798324,
          -5.406498785056738,
          -1.6465337083396974,
          2.3826293625399964,
          1.2141257918634576,
          -3.2785229370507807,
          1.9341228781271473,
          4.367788324820148,
          -2.6146589008982275,
          1.7623199044766893,
          1.3042922747099235,
          -4.5852924178902255,
          1.0164421301327393,
          -4.212498364147242,
          -8.787328660406105,
          3.232286045017696,
          -2.890141755150441,
          1.198583730399565,
          -5.211152681270951,
          1.783255460701398,
          3.3082534469081044,
          -0.11913698244945185,
          1.9874736225534817,
          -1.9809716911479203,
          -5.012534913027934,
          -1.7128800131702635,
          2.7051198465477744,
          -4.121362981560445
         ],
         "yaxis": "y"
        },
        {
         "hovertemplate": "color=133<br>symbol=133<br>x=%{x}<br>y=%{y}<extra></extra>",
         "legendgroup": "133, 133",
         "marker": {
          "color": "#FFA15A",
          "opacity": 0.3,
          "symbol": "cross"
         },
         "mode": "markers",
         "name": "133, 133",
         "showlegend": true,
         "type": "scattergl",
         "x": [
          7.001573553062363,
          5.663611906198908,
          7.293428090538824,
          9.747342954854032
         ],
         "xaxis": "x",
         "y": [
          -0.036958825303343885,
          -0.7580341783966242,
          -0.5561352097682762,
          -0.917162628649575
         ],
         "yaxis": "y"
        },
        {
         "hovertemplate": "color=307<br>symbol=307<br>x=%{x}<br>y=%{y}<extra></extra>",
         "legendgroup": "307, 307",
         "marker": {
          "color": "#19d3f3",
          "opacity": 0.3,
          "symbol": "circle"
         },
         "mode": "markers",
         "name": "307, 307",
         "showlegend": true,
         "type": "scattergl",
         "x": [
          7.361716842510101,
          3.235363830461881,
          1.524185567248435,
          0.44058003054836486
         ],
         "xaxis": "x",
         "y": [
          5.847581525496578,
          4.741571069681927,
          2.5120746074019267,
          -1.9882876607114124
         ],
         "yaxis": "y"
        },
        {
         "hovertemplate": "color=443<br>symbol=443<br>x=%{x}<br>y=%{y}<extra></extra>",
         "legendgroup": "443, 443",
         "marker": {
          "color": "#FF6692",
          "opacity": 0.3,
          "symbol": "diamond"
         },
         "mode": "markers",
         "name": "443, 443",
         "showlegend": true,
         "type": "scattergl",
         "x": [
          7.140440648864156,
          4.524303392158494,
          9.119965971551792,
          8.84170661696216,
          8.434728979359498,
          9.153252439222875,
          5.937664481937688,
          2.7504429570342652
         ],
         "xaxis": "x",
         "y": [
          1.528520350101909,
          -2.969553325345047,
          -2.4962181140356807,
          -0.10159834559186857,
          -0.42338562086218207,
          -1.586750574078971,
          -2.6424784119526676,
          0.9030814368532624
         ],
         "yaxis": "y"
        },
        {
         "hovertemplate": "color=6<br>symbol=6<br>x=%{x}<br>y=%{y}<extra></extra>",
         "legendgroup": "6, 6",
         "marker": {
          "color": "#B6E880",
          "opacity": 0.3,
          "symbol": "square"
         },
         "mode": "markers",
         "name": "6, 6",
         "showlegend": true,
         "type": "scattergl",
         "x": [
          -6.658041674743969,
          -5.3242577166616005,
          -3.9555230759811164,
          -5.545268471408125,
          -1.3797830137425031,
          -4.825732694817534,
          5.097383952199375,
          2.1110482587014645,
          -8.733829715966314,
          -0.41973144609753593,
          -3.1437848408856626,
          -5.091670140840394,
          -1.454996894037021,
          -2.8966528866210104,
          3.753984362073217,
          -3.8972135155872842,
          -0.9945663611831571,
          -0.592251295858297,
          0.8792906973696722,
          1.9379293166637053,
          -4.049762084022745,
          -0.9457227477298529,
          -5.042514220277421,
          -4.476554912614814,
          -0.2660267508174926,
          -6.9737569247198525,
          -6.235456045504916,
          -7.582520256014961,
          -9.06339475475288,
          -1.3348097854988548,
          8.398296300897535,
          -6.609106874927717,
          -3.1792410815631142,
          -5.53028692057752,
          -7.616359009273576,
          -3.1330861328296593,
          -3.0174246445383854,
          -6.738382836136159,
          0.26757043181137347,
          -9.225562218444455,
          -6.034076924209352,
          -4.265260018668661,
          -6.113875110074903,
          -2.607030931075745,
          -5.1136940460766205,
          -4.065273231307752
         ],
         "xaxis": "x",
         "y": [
          4.551850380740374,
          -3.1375486733558193,
          4.610367053893171,
          1.0071517400950476,
          -5.16670324161509,
          0.7416054762374669,
          1.542953096419804,
          2.5653963286306376,
          -2.8850153236271416,
          4.24482572992591,
          -6.3147993990512905,
          -4.2025624337966905,
          -3.971459782627056,
          1.3146587673518348,
          2.034728447910301,
          -0.03595468253213076,
          -1.832264770515373,
          4.991580281623676,
          4.6164826513897745,
          2.2362443915802235,
          4.432796493887944,
          -7.031608891469246,
          5.19401581884822,
          2.455071792668579,
          2.59641466198183,
          -0.393619811259771,
          3.8307510696695664,
          -3.208414539343704,
          -3.4007695042264325,
          -4.135336130948352,
          0.7982895090804726,
          0.11042760542160802,
          1.2185026320467116,
          0.895240771825906,
          2.7366433685727403,
          -0.3563919070764912,
          -1.2312558274835397,
          0.08122005321902806,
          0.4713851640971175,
          4.840882161379837,
          2.6433968588872334,
          2.5785927787359855,
          0.43179357978546223,
          2.562516278791467,
          -2.6724143306458106,
          5.679635616805884
         ],
         "yaxis": "y"
        },
        {
         "hovertemplate": "color=7<br>symbol=7<br>x=%{x}<br>y=%{y}<extra></extra>",
         "legendgroup": "7, 7",
         "marker": {
          "color": "#FF97FF",
          "opacity": 0.3,
          "symbol": "x"
         },
         "mode": "markers",
         "name": "7, 7",
         "showlegend": true,
         "type": "scattergl",
         "x": [
          -0.3458311296610812,
          -5.051375817368247,
          -6.755412243655767,
          3.02005071290897,
          -5.60114998622806,
          -2.827674616649498,
          -5.536874551987697,
          -7.820620888075189,
          -4.190560342974596,
          -1.7321485497386637,
          -6.779634629449149,
          -6.3339582674565635,
          -1.9784918263471012,
          -1.9746238382372698,
          -5.721788952745981,
          -1.7155327320497873,
          -4.97274038221825,
          -6.940095732045812,
          2.4470838272028312,
          -3.815473163938166,
          -6.867218700381715,
          -5.049258990522175,
          -5.488831906629091,
          -7.563382393996224,
          -2.998033626694299,
          -6.110086306355946,
          -5.212333687796955,
          -2.974025102223791,
          -6.0524828727595255,
          -5.141310065837695,
          -2.111373464966886,
          1.1798035611827522,
          -3.543235641667198,
          -2.475592669327276,
          -7.868213156390059,
          -5.323674593531943,
          -8.325254377463569,
          -5.192821904236153,
          -4.6667885362699835,
          -3.893660470373716,
          -3.873290699104578,
          -2.2669424800532405,
          2.3120124247313676,
          -7.406467774160119,
          -2.709826314087388,
          -2.0482339245553565,
          -1.4682709580443822,
          -1.8094637327289762,
          -0.7645194814429285,
          -2.3439561805231244,
          -4.982346020327211,
          -5.749138879638172,
          4.263535516156858,
          -2.093992492801486,
          1.1934031183242861,
          3.0778894359189346,
          2.0271530702516736,
          -2.9168849309127483,
          -6.761708847530652,
          -2.072934893843017,
          5.739517895970705,
          -4.047640872757461,
          -2.004286088613874,
          -5.573034663233257,
          -2.4156726811557325,
          -4.4060709598883205,
          -3.686827916679476,
          0.4649845704351363,
          -7.760538520148841
         ],
         "xaxis": "x",
         "y": [
          4.497904769073439,
          0.28209768194285595,
          1.3310587352653138,
          0.9897067796859997,
          -1.755249198018506,
          1.6045122642764036,
          -3.0599936915215995,
          1.3313868967643636,
          1.5708161784954855,
          -7.9621938076449545,
          0.5255344048544217,
          -4.231610148846077,
          2.0650842756576044,
          1.4732910675917372,
          -3.905292075181234,
          -7.300223444663649,
          -6.403564593663368,
          -3.2647016429984603,
          5.046477788264989,
          -6.649361629597382,
          1.460339097943517,
          -6.477573995514776,
          -4.51751034934282,
          3.2723034690791333,
          1.431181560627178,
          -5.718988338677382,
          1.1690608492984365,
          3.803606424677768,
          1.363400586984545,
          -4.115358577881341,
          0.480808103841835,
          -0.3148827378797902,
          2.864957851144504,
          2.4400006384861035,
          -0.43505607562246,
          -0.07082843868636811,
          2.6921488691998414,
          -8.007602793232333,
          2.667659185925144,
          1.9929728863544856,
          1.3213401404580656,
          1.126628672322849,
          1.420728159583525,
          4.581829419565095,
          -6.394431172720639,
          -2.1513038587650226,
          1.2252635599817467,
          0.8598112230485244,
          -9.789573699983427,
          1.0755904673327745,
          2.107943793223358,
          -0.507169024719097,
          1.9450293476300333,
          -7.675033382501983,
          2.9284001056403453,
          1.6826784743362406,
          4.973986787334155,
          1.066087831236277,
          1.1336329724719294,
          -7.248845613644855,
          2.5947538209301704,
          -3.979075969521164,
          0.4197737264950584,
          2.3435928326239757,
          -7.326353987669438,
          3.959572412267201,
          0.44933238785959356,
          -5.736212971100975,
          -6.8559153393109
         ],
         "yaxis": "y"
        },
        {
         "hovertemplate": "color=156<br>symbol=156<br>x=%{x}<br>y=%{y}<extra></extra>",
         "legendgroup": "156, 156",
         "marker": {
          "color": "#FECB52",
          "opacity": 0.3,
          "symbol": "cross"
         },
         "mode": "markers",
         "name": "156, 156",
         "showlegend": true,
         "type": "scattergl",
         "x": [
          10.037261609153113,
          8.210834531795376
         ],
         "xaxis": "x",
         "y": [
          2.8317712599923017,
          1.768448448715467
         ],
         "yaxis": "y"
        },
        {
         "hovertemplate": "color=80<br>symbol=80<br>x=%{x}<br>y=%{y}<extra></extra>",
         "legendgroup": "80, 80",
         "marker": {
          "color": "#636efa",
          "opacity": 0.3,
          "symbol": "circle"
         },
         "mode": "markers",
         "name": "80, 80",
         "showlegend": true,
         "type": "scattergl",
         "x": [
          -1.8726808952624616,
          -3.8683799357483153,
          0.3955213316419275,
          -3.112754062896173,
          -5.420359388763791,
          -0.1974745897840475,
          -0.7150327534473558,
          7.245467470918294,
          3.416527436145465,
          -0.5180325293541065,
          1.3631015300905496,
          2.69386870900596,
          -0.8538769825411135,
          -3.0873453816242264,
          1.5793407306934768,
          5.451131923313526,
          5.4211770717702885,
          -2.460373442496306,
          -0.8711624373554587
         ],
         "xaxis": "x",
         "y": [
          1.4158121997596456,
          4.079537141866124,
          0.1943230786072927,
          2.1608393278006175,
          4.357679379979446,
          3.613046297879153,
          3.1298961225067075,
          -0.9632564867221669,
          1.2645728605295705,
          4.753146837150544,
          4.663777209805985,
          4.048450200507684,
          6.990876824319797,
          2.033080593621958,
          1.8540086286588706,
          6.251322332964635,
          3.2654131807004547,
          2.094710878408978,
          1.513419676981524
         ],
         "yaxis": "y"
        },
        {
         "hovertemplate": "color=393<br>symbol=393<br>x=%{x}<br>y=%{y}<extra></extra>",
         "legendgroup": "393, 393",
         "marker": {
          "color": "#EF553B",
          "opacity": 0.3,
          "symbol": "diamond"
         },
         "mode": "markers",
         "name": "393, 393",
         "showlegend": true,
         "type": "scattergl",
         "x": [
          -3.066633037552294,
          -8.640210236023623,
          -7.096843254706603,
          -7.740192878823873,
          -3.412946284750926,
          -6.34038468093833,
          -3.5056247854209674,
          -8.438975421905674,
          -7.285917156630005,
          -2.890928948475185,
          -5.068126263559754,
          -9.29747353546357,
          -2.4580648726283694,
          -6.820007322791407
         ],
         "xaxis": "x",
         "y": [
          1.9762790367594103,
          5.828062608674516,
          2.582819405372719,
          5.226474249476648,
          2.6836261917868947,
          2.94596128697064,
          5.2671786560500715,
          4.234387661164769,
          3.7702836601473995,
          4.5289421849431655,
          4.493522367657332,
          2.9101205008826545,
          2.577933578845945,
          4.378783773946426
         ],
         "yaxis": "y"
        },
        {
         "hovertemplate": "color=327<br>symbol=327<br>x=%{x}<br>y=%{y}<extra></extra>",
         "legendgroup": "327, 327",
         "marker": {
          "color": "#00cc96",
          "opacity": 0.3,
          "symbol": "square"
         },
         "mode": "markers",
         "name": "327, 327",
         "showlegend": true,
         "type": "scattergl",
         "x": [
          1.918705680197693,
          4.020717256980256,
          4.863483334510039,
          0.5252460636896764,
          18.14621121135009,
          8.658765481943702,
          5.960505148643312,
          9.418159592347525,
          3.6675231627585974,
          6.641610307631667,
          7.3908376944370175,
          7.2073909694370935,
          5.898490261362922,
          3.4215318621104887,
          10.820144818999518,
          10.82945854909572,
          10.185957751989005,
          5.582922385454933,
          4.87383832319702
         ],
         "xaxis": "x",
         "y": [
          0.08082271826679298,
          1.0164971807481094,
          2.691895132927831,
          1.1620757645155333,
          9.074069070968088,
          -2.6713653835763513,
          0.4931386405487696,
          1.502267315515861,
          1.439921370329341,
          2.6009646830409365,
          -2.146285451866842,
          0.8234544382104926,
          1.0732930897908226,
          2.689642403636464,
          3.417979638182342,
          -1.1451270414558072,
          2.4365533406480306,
          2.217767900756881,
          0.3022613939142876
         ],
         "yaxis": "y"
        },
        {
         "hovertemplate": "color=225<br>symbol=225<br>x=%{x}<br>y=%{y}<extra></extra>",
         "legendgroup": "225, 225",
         "marker": {
          "color": "#ab63fa",
          "opacity": 0.3,
          "symbol": "x"
         },
         "mode": "markers",
         "name": "225, 225",
         "showlegend": true,
         "type": "scattergl",
         "x": [
          4.740408415452196,
          11.473822636441303,
          7.518259306847938,
          5.75697394984961,
          7.745258114417421,
          9.320684508839706,
          8.88137906389894,
          6.977183681445713,
          8.351897232514887,
          11.395594509491596,
          9.249033768801606,
          7.238340823722453,
          4.690880003362003,
          6.8906473420345975,
          12.257673068513828,
          8.612035684148037
         ],
         "xaxis": "x",
         "y": [
          1.8720984412818595,
          0.9716291013967652,
          2.8410526523873134,
          2.7319336113311277,
          3.206256610752119,
          0.9220521548423352,
          6.434830016623166,
          2.137233987631225,
          -1.1586946898681407,
          -0.13537801653346365,
          3.6345792566956194,
          -0.33182532818196697,
          -0.3353146993412164,
          1.7877391724053777,
          1.5633976698184915,
          3.822868024598449
         ],
         "yaxis": "y"
        },
        {
         "hovertemplate": "color=268<br>symbol=268<br>x=%{x}<br>y=%{y}<extra></extra>",
         "legendgroup": "268, 268",
         "marker": {
          "color": "#FFA15A",
          "opacity": 0.3,
          "symbol": "cross"
         },
         "mode": "markers",
         "name": "268, 268",
         "showlegend": true,
         "type": "scattergl",
         "x": [
          -5.365323755417868,
          -2.618750974469835
         ],
         "xaxis": "x",
         "y": [
          6.989763838672325,
          0.6057164722730324
         ],
         "yaxis": "y"
        },
        {
         "hovertemplate": "color=351<br>symbol=351<br>x=%{x}<br>y=%{y}<extra></extra>",
         "legendgroup": "351, 351",
         "marker": {
          "color": "#19d3f3",
          "opacity": 0.3,
          "symbol": "circle"
         },
         "mode": "markers",
         "name": "351, 351",
         "showlegend": true,
         "type": "scattergl",
         "x": [
          -2.953058523487603,
          -3.6250316333555697,
          -3.8346893670148705,
          -1.5117244239899827,
          -4.867729978974116,
          -5.912019672436681,
          -6.069666721675592,
          -3.9687008979664045,
          -2.999017345414254,
          -3.4238545710464985
         ],
         "xaxis": "x",
         "y": [
          0.3762123691136271,
          3.2354200130492328,
          4.219156564109686,
          4.878785131023366,
          3.1693278901650768,
          4.732327372007493,
          6.649683541175465,
          4.994549501991533,
          3.263922035626644,
          -0.5666992820706367
         ],
         "yaxis": "y"
        },
        {
         "hovertemplate": "color=439<br>symbol=439<br>x=%{x}<br>y=%{y}<extra></extra>",
         "legendgroup": "439, 439",
         "marker": {
          "color": "#FF6692",
          "opacity": 0.3,
          "symbol": "diamond"
         },
         "mode": "markers",
         "name": "439, 439",
         "showlegend": true,
         "type": "scattergl",
         "x": [
          1.1960209493184288,
          -4.778586073141286,
          -1.3357590844723084,
          -7.40816252757346,
          -6.488729747603559,
          -0.322753081812007,
          -0.4805992844901016
         ],
         "xaxis": "x",
         "y": [
          1.212366040738354,
          4.372968983530054,
          1.7648476756647637,
          3.3030923233704255,
          4.8007812004440265,
          1.0881781607572056,
          3.4417441264937874
         ],
         "yaxis": "y"
        },
        {
         "hovertemplate": "color=300<br>symbol=300<br>x=%{x}<br>y=%{y}<extra></extra>",
         "legendgroup": "300, 300",
         "marker": {
          "color": "#B6E880",
          "opacity": 0.3,
          "symbol": "square"
         },
         "mode": "markers",
         "name": "300, 300",
         "showlegend": true,
         "type": "scattergl",
         "x": [
          -2.524776728947162,
          -1.1294637859323116,
          -5.954702039672569,
          -4.866059423914938,
          -2.6728359394615784,
          -5.063045974781793,
          -2.494425593158169,
          -8.612222114705004,
          -3.933625446412555,
          -3.181350520463891,
          0.7022155670266442,
          -8.267571398511405,
          -1.6891256354768027,
          -0.9771431449694958,
          -10.434101265740422,
          0.5902398613715443,
          -3.709551326782158,
          -2.8567088752406136,
          -7.4237898900163755,
          -4.72765665168411,
          -1.5526111294731761,
          -4.461647583122992,
          -0.018062310995808968,
          -0.9822769689433763,
          -3.943061054957797,
          -7.207324360743208,
          1.6172279468514046,
          -4.986256390659653,
          -5.6064906879791705,
          -7.1202875957132035
         ],
         "xaxis": "x",
         "y": [
          2.077938657726997,
          2.3350274446302564,
          3.6019973341761564,
          1.3477194234234455,
          -3.228635081929388,
          -4.284604275670297,
          2.825566939582176,
          3.431511932035631,
          1.8067204618221844,
          2.6885250295044236,
          1.6950190167693764,
          -1.6991442546018907,
          1.0423213953895236,
          0.35957466735953003,
          -2.511197767456154,
          1.32761486688043,
          0.6325250655233166,
          5.120249131130091,
          -2.3626282425954344,
          2.6609855758220236,
          1.3130810627466807,
          1.7561464844162533,
          0.7974094766290518,
          -3.3736528646643307,
          2.5469365069053964,
          -1.762727835125402,
          3.527698239776628,
          2.8411760489123696,
          0.540756658875271,
          0.7009514344061994
         ],
         "yaxis": "y"
        },
        {
         "hovertemplate": "color=164<br>symbol=164<br>x=%{x}<br>y=%{y}<extra></extra>",
         "legendgroup": "164, 164",
         "marker": {
          "color": "#FF97FF",
          "opacity": 0.3,
          "symbol": "x"
         },
         "mode": "markers",
         "name": "164, 164",
         "showlegend": true,
         "type": "scattergl",
         "x": [
          -1.7633503548470764
         ],
         "xaxis": "x",
         "y": [
          -6.057463651882943
         ],
         "yaxis": "y"
        },
        {
         "hovertemplate": "color=390<br>symbol=390<br>x=%{x}<br>y=%{y}<extra></extra>",
         "legendgroup": "390, 390",
         "marker": {
          "color": "#FECB52",
          "opacity": 0.3,
          "symbol": "cross"
         },
         "mode": "markers",
         "name": "390, 390",
         "showlegend": true,
         "type": "scattergl",
         "x": [
          -4.170718122720342,
          -7.733845876746416,
          -7.127629965547445,
          -3.49039617584144,
          -6.1184551743455735,
          -5.3756703964592365,
          -7.184603102282443,
          -6.8669367157279035,
          -4.8513880253136055,
          -8.883845863271196,
          -7.43310004211402,
          -9.115651547374686,
          -4.883046700365953,
          -1.7364601873521568,
          -8.40349795713501
         ],
         "xaxis": "x",
         "y": [
          1.93726002007937,
          3.741701493045934,
          4.207497537872566,
          -3.1506533239619174,
          0.5989526760666486,
          -4.634949014492813,
          -1.6062502825883527,
          -0.7973645801947988,
          2.7269515227842787,
          4.312015197334426,
          5.381087363492861,
          2.1127556319632967,
          2.717274295014121,
          1.9842607824605194,
          5.495587008510013
         ],
         "yaxis": "y"
        },
        {
         "hovertemplate": "color=440<br>symbol=440<br>x=%{x}<br>y=%{y}<extra></extra>",
         "legendgroup": "440, 440",
         "marker": {
          "color": "#636efa",
          "opacity": 0.3,
          "symbol": "circle"
         },
         "mode": "markers",
         "name": "440, 440",
         "showlegend": true,
         "type": "scattergl",
         "x": [
          5.190231207612187,
          5.094292651769487,
          0.04424075876764467,
          -0.06094075489170189,
          7.1565972232837725,
          2.214680244663314,
          2.313298134321416,
          -0.8622513331668898,
          2.5855883822581576,
          -4.654349058076046,
          2.541018299367777,
          2.8987606265794463,
          3.935785144140743,
          1.6886158096195196,
          2.44814558674147,
          3.4990814251558326,
          0.6196501748545717,
          0.5540486371521715,
          8.371628593129746,
          3.7222932584852697
         ],
         "xaxis": "x",
         "y": [
          1.0406580334328357,
          0.049815862657002115,
          1.5096254516734422,
          -0.008261586781354191,
          3.823889545484595,
          3.378434411631597,
          -2.0598894386806235,
          1.6220782039719115,
          0.9876761509308393,
          -0.13041248038255535,
          -1.1585406871203077,
          0.4487847659930889,
          -1.1960049026575728,
          1.2494678137928923,
          1.5869847178459051,
          -0.48472569727340514,
          0.8182168690786987,
          3.2183652627555466,
          2.144696770602531,
          -0.5547475206473671
         ],
         "yaxis": "y"
        },
        {
         "hovertemplate": "color=441<br>symbol=441<br>x=%{x}<br>y=%{y}<extra></extra>",
         "legendgroup": "441, 441",
         "marker": {
          "color": "#EF553B",
          "opacity": 0.3,
          "symbol": "diamond"
         },
         "mode": "markers",
         "name": "441, 441",
         "showlegend": true,
         "type": "scattergl",
         "x": [
          -2.046679359719945,
          -4.565232493034934,
          -6.329236893638249,
          -3.8037056479689126,
          -5.096890156203879,
          -6.04607077505342,
          -6.30364643368508,
          -3.9129681257618376,
          -4.021245307574349,
          -3.5405698830422536,
          -4.076230171298486,
          -0.011306677521653713,
          -8.045335947548926,
          -8.332809888374749
         ],
         "xaxis": "x",
         "y": [
          2.399614080094571,
          0.984201828663261,
          3.5476405845114916,
          0.18888347128968547,
          3.2456663661990213,
          3.7800327162138823,
          3.6210597167363785,
          2.984081069144257,
          2.9536197625968015,
          2.8927042332535007,
          0.9753835605313307,
          -0.614230356202271,
          0.5310498020112873,
          4.801237115043944
         ],
         "yaxis": "y"
        },
        {
         "hovertemplate": "color=357<br>symbol=357<br>x=%{x}<br>y=%{y}<extra></extra>",
         "legendgroup": "357, 357",
         "marker": {
          "color": "#00cc96",
          "opacity": 0.3,
          "symbol": "square"
         },
         "mode": "markers",
         "name": "357, 357",
         "showlegend": true,
         "type": "scattergl",
         "x": [
          10.254785493987953,
          7.931129947846271,
          6.669180711118914
         ],
         "xaxis": "x",
         "y": [
          2.3281594238471985,
          -1.6536278849128676,
          0.6321460790803566
         ],
         "yaxis": "y"
        },
        {
         "hovertemplate": "color=106<br>symbol=106<br>x=%{x}<br>y=%{y}<extra></extra>",
         "legendgroup": "106, 106",
         "marker": {
          "color": "#ab63fa",
          "opacity": 0.3,
          "symbol": "x"
         },
         "mode": "markers",
         "name": "106, 106",
         "showlegend": true,
         "type": "scattergl",
         "x": [
          4.146701187520987,
          3.5341767184985877,
          -1.389261838228867,
          -2.282497323654791,
          -0.7508415785782221,
          4.492070971601925,
          0.5672444502733487,
          -1.109745656301549,
          -0.03299594762272903,
          -2.747174355600165,
          -2.948301859363819,
          -2.1195111096103147,
          -2.3518025945652585,
          -1.3361101094554937
         ],
         "xaxis": "x",
         "y": [
          0.2619434570876942,
          2.9987820648857255,
          0.5585628649865741,
          -0.7021733533385806,
          -0.21373464060417802,
          -2.6740927639607786,
          0.38988435117442904,
          2.8032252490240075,
          1.812623110100856,
          2.1954050646405086,
          2.3851770638677015,
          1.0272681430821606,
          2.2411192422236748,
          -0.790445924186565
         ],
         "yaxis": "y"
        },
        {
         "hovertemplate": "color=349<br>symbol=349<br>x=%{x}<br>y=%{y}<extra></extra>",
         "legendgroup": "349, 349",
         "marker": {
          "color": "#FFA15A",
          "opacity": 0.3,
          "symbol": "cross"
         },
         "mode": "markers",
         "name": "349, 349",
         "showlegend": true,
         "type": "scattergl",
         "x": [
          1.10554452587712,
          3.1443198254846587,
          6.343554051378459
         ],
         "xaxis": "x",
         "y": [
          -9.232881570106713,
          -4.22734171727,
          -1.1051275774158469
         ],
         "yaxis": "y"
        },
        {
         "hovertemplate": "color=347<br>symbol=347<br>x=%{x}<br>y=%{y}<extra></extra>",
         "legendgroup": "347, 347",
         "marker": {
          "color": "#19d3f3",
          "opacity": 0.3,
          "symbol": "circle"
         },
         "mode": "markers",
         "name": "347, 347",
         "showlegend": true,
         "type": "scattergl",
         "x": [
          4.915664173615727,
          4.773119137053619
         ],
         "xaxis": "x",
         "y": [
          -1.2669985773994545,
          -3.077699593843654
         ],
         "yaxis": "y"
        },
        {
         "hovertemplate": "color=104<br>symbol=104<br>x=%{x}<br>y=%{y}<extra></extra>",
         "legendgroup": "104, 104",
         "marker": {
          "color": "#FF6692",
          "opacity": 0.3,
          "symbol": "diamond"
         },
         "mode": "markers",
         "name": "104, 104",
         "showlegend": true,
         "type": "scattergl",
         "x": [
          0.03446407367490943,
          6.510222872266647,
          -2.738474400774174,
          4.204417139889033,
          -1.3535960426283806,
          0.1841240507895797,
          0.6182948259226367,
          0.3800310574374796,
          -0.335289525685593
         ],
         "xaxis": "x",
         "y": [
          -8.192098664767737,
          -1.291610958967185,
          -2.6115248407197273,
          -4.215071386294766,
          -1.298845813511158,
          -3.335164120306212,
          2.179850473613417,
          -3.5608257821304132,
          -5.443897517687843
         ],
         "yaxis": "y"
        },
        {
         "hovertemplate": "color=249<br>symbol=249<br>x=%{x}<br>y=%{y}<extra></extra>",
         "legendgroup": "249, 249",
         "marker": {
          "color": "#B6E880",
          "opacity": 0.3,
          "symbol": "square"
         },
         "mode": "markers",
         "name": "249, 249",
         "showlegend": true,
         "type": "scattergl",
         "x": [
          -5.922618232950176,
          -5.133795913530891,
          -4.390810786896919,
          -7.933128044803018,
          -6.010228842498278,
          1.510156267467474,
          -5.044883363010242,
          -2.0343773873569724,
          -8.691906645251416,
          -5.290901127036953,
          -2.565141436294784,
          -7.000184435555451,
          -2.9841546625091477,
          -2.827050220135075,
          -4.799942300359837,
          -9.008035776396946,
          1.550817963083784,
          -4.262445745610478,
          -6.343622371893123,
          -3.24396843890396,
          -0.6652462872352369,
          0.4592852483462126,
          -0.22999711926500346,
          -2.7952203941935365,
          -3.0737186634877496,
          -3.096315870594399
         ],
         "xaxis": "x",
         "y": [
          -3.0691036988082425,
          1.5834776403412034,
          1.47774563634735,
          3.709475519767446,
          4.0059977405916385,
          -3.320248872247712,
          3.7502366647000485,
          -4.001834254878784,
          7.092473231404881,
          -1.9017522271354423,
          -2.495050077521594,
          0.8082846990415715,
          3.3496131075520577,
          5.6752831425132175,
          1.193313073702047,
          4.10627116983679,
          -4.117235184878829,
          4.055898303247669,
          4.433788461595704,
          4.905083385050779,
          -2.8671875429153104,
          3.063809435236412,
          6.358718744046753,
          -3.4406199752408977,
          2.9077979175060626,
          3.2425327832383593
         ],
         "yaxis": "y"
        },
        {
         "hovertemplate": "color=274<br>symbol=274<br>x=%{x}<br>y=%{y}<extra></extra>",
         "legendgroup": "274, 274",
         "marker": {
          "color": "#FF97FF",
          "opacity": 0.3,
          "symbol": "x"
         },
         "mode": "markers",
         "name": "274, 274",
         "showlegend": true,
         "type": "scattergl",
         "x": [
          -3.57037452467388,
          -0.605545126527277,
          -5.979779720802979,
          0.7057049362054681,
          -4.307953299616343,
          -1.0950960830405014,
          -0.1797537316211321,
          -2.5521557181628327,
          -5.501159697304298,
          -1.4950133695581374,
          0.20469282277502915,
          -4.435501429733895,
          -3.176972324450887,
          0.9510089292291335,
          -4.080704260197118,
          2.6160045797431457,
          0.05103686021116758,
          -6.812368222225138,
          -4.544250874266346,
          -4.303356478423221
         ],
         "xaxis": "x",
         "y": [
          2.930383764773818,
          5.354939832088391,
          6.030258642279176,
          2.6808413048327044,
          6.6629837115684305,
          5.730887988449814,
          7.410510713713792,
          5.521675765923748,
          7.589094116176354,
          5.9844873658885565,
          5.745713721075038,
          5.603701389931015,
          6.440636077063329,
          7.019216517621418,
          4.4785289462245625,
          5.8762041109258405,
          5.792826481736034,
          7.585974770438365,
          6.113485827783422,
          7.547664313525242
         ],
         "yaxis": "y"
        },
        {
         "hovertemplate": "color=198<br>symbol=198<br>x=%{x}<br>y=%{y}<extra></extra>",
         "legendgroup": "198, 198",
         "marker": {
          "color": "#FECB52",
          "opacity": 0.3,
          "symbol": "cross"
         },
         "mode": "markers",
         "name": "198, 198",
         "showlegend": true,
         "type": "scattergl",
         "x": [
          8.528394296219336,
          10.27218923779924,
          9.023068609851403,
          9.431992284973152,
          11.724114795380013,
          10.119714551875871,
          6.749273752689565
         ],
         "xaxis": "x",
         "y": [
          2.940351138343861,
          -2.895863660290154,
          -2.642381188178333,
          2.1225762166085502,
          0.40308499553373195,
          1.7386647636473824,
          3.16232863449495
         ],
         "yaxis": "y"
        },
        {
         "hovertemplate": "color=253<br>symbol=253<br>x=%{x}<br>y=%{y}<extra></extra>",
         "legendgroup": "253, 253",
         "marker": {
          "color": "#636efa",
          "opacity": 0.3,
          "symbol": "circle"
         },
         "mode": "markers",
         "name": "253, 253",
         "showlegend": true,
         "type": "scattergl",
         "x": [
          -4.083104339561272,
          -1.8410171390908372,
          -8.176526208217487,
          -0.27087535634578347,
          -6.501755335281848,
          -5.660826571173314,
          -5.3132101444427065,
          -0.5647936552275941,
          -5.326458253284729,
          -3.502427754276505,
          -5.161019357023668
         ],
         "xaxis": "x",
         "y": [
          8.284630869815958,
          5.701381494670725,
          6.525094377709574,
          8.023354134484634,
          5.6837040684603535,
          5.059288844341854,
          6.98037218544869,
          8.557982749753448,
          6.769384602421844,
          3.9311907647654305,
          5.411608376086217
         ],
         "yaxis": "y"
        },
        {
         "hovertemplate": "color=84<br>symbol=84<br>x=%{x}<br>y=%{y}<extra></extra>",
         "legendgroup": "84, 84",
         "marker": {
          "color": "#EF553B",
          "opacity": 0.3,
          "symbol": "diamond"
         },
         "mode": "markers",
         "name": "84, 84",
         "showlegend": true,
         "type": "scattergl",
         "x": [
          -0.7226690702628634,
          6.125344352845182
         ],
         "xaxis": "x",
         "y": [
          -4.142289928823174,
          -0.03098216900453987
         ],
         "yaxis": "y"
        },
        {
         "hovertemplate": "color=195<br>symbol=195<br>x=%{x}<br>y=%{y}<extra></extra>",
         "legendgroup": "195, 195",
         "marker": {
          "color": "#00cc96",
          "opacity": 0.3,
          "symbol": "square"
         },
         "mode": "markers",
         "name": "195, 195",
         "showlegend": true,
         "type": "scattergl",
         "x": [
          12.312608461412848,
          8.565963492009807,
          10.15827167881769,
          4.735290716123678,
          7.171009467160919,
          4.828305429880031,
          8.635529314407224,
          6.437885136868681,
          9.909898788356449
         ],
         "xaxis": "x",
         "y": [
          0.571452262421458,
          6.207164347877316,
          2.4807430018834653,
          -1.0301764150202648,
          2.092690763176827,
          -7.482624487160009,
          0.19897851627107843,
          -0.12819986145864745,
          -3.885502945909224
         ],
         "yaxis": "y"
        },
        {
         "hovertemplate": "color=458<br>symbol=458<br>x=%{x}<br>y=%{y}<extra></extra>",
         "legendgroup": "458, 458",
         "marker": {
          "color": "#ab63fa",
          "opacity": 0.3,
          "symbol": "x"
         },
         "mode": "markers",
         "name": "458, 458",
         "showlegend": true,
         "type": "scattergl",
         "x": [
          4.59051993493399,
          2.33130872993364,
          1.4789189112466194,
          2.0773334346401513,
          3.516267835456995,
          5.0205615642486885,
          2.9414802934092665,
          2.0616875352799067,
          2.314237068587063,
          4.380502145187227,
          3.736808003960894,
          2.677825521209602
         ],
         "xaxis": "x",
         "y": [
          -9.45358862983159,
          -11.829193669560864,
          -3.8383918684636944,
          -9.33321928109365,
          -2.0769482410987914,
          -7.768343858072794,
          -12.349317247076538,
          -4.796149956550666,
          -8.086642843209354,
          -10.630154914728136,
          -7.233744916711226,
          -7.536744428658063
         ],
         "yaxis": "y"
        },
        {
         "hovertemplate": "color=132<br>symbol=132<br>x=%{x}<br>y=%{y}<extra></extra>",
         "legendgroup": "132, 132",
         "marker": {
          "color": "#FFA15A",
          "opacity": 0.3,
          "symbol": "cross"
         },
         "mode": "markers",
         "name": "132, 132",
         "showlegend": true,
         "type": "scattergl",
         "x": [
          5.648787496089773,
          5.835853291121421,
          5.772260528982323,
          6.740460849223361,
          5.156568861015189
         ],
         "xaxis": "x",
         "y": [
          1.244965163540088,
          2.811389455593424,
          -1.2466455232264566,
          3.4412515753854076,
          -4.483202815233359
         ],
         "yaxis": "y"
        },
        {
         "hovertemplate": "color=172<br>symbol=172<br>x=%{x}<br>y=%{y}<extra></extra>",
         "legendgroup": "172, 172",
         "marker": {
          "color": "#19d3f3",
          "opacity": 0.3,
          "symbol": "circle"
         },
         "mode": "markers",
         "name": "172, 172",
         "showlegend": true,
         "type": "scattergl",
         "x": [
          -3.2946337249566504
         ],
         "xaxis": "x",
         "y": [
          -1.80372707256294
         ],
         "yaxis": "y"
        },
        {
         "hovertemplate": "color=20<br>symbol=20<br>x=%{x}<br>y=%{y}<extra></extra>",
         "legendgroup": "20, 20",
         "marker": {
          "color": "#FF6692",
          "opacity": 0.3,
          "symbol": "diamond"
         },
         "mode": "markers",
         "name": "20, 20",
         "showlegend": true,
         "type": "scattergl",
         "x": [
          3.3883192128046766,
          0.7489331037755587
         ],
         "xaxis": "x",
         "y": [
          1.8054893200146247,
          -4.03371092291241
         ],
         "yaxis": "y"
        },
        {
         "hovertemplate": "color=184<br>symbol=184<br>x=%{x}<br>y=%{y}<extra></extra>",
         "legendgroup": "184, 184",
         "marker": {
          "color": "#B6E880",
          "opacity": 0.3,
          "symbol": "square"
         },
         "mode": "markers",
         "name": "184, 184",
         "showlegend": true,
         "type": "scattergl",
         "x": [
          18.759412278004273
         ],
         "xaxis": "x",
         "y": [
          16.583216724391125
         ],
         "yaxis": "y"
        },
        {
         "hovertemplate": "color=213<br>symbol=213<br>x=%{x}<br>y=%{y}<extra></extra>",
         "legendgroup": "213, 213",
         "marker": {
          "color": "#FF97FF",
          "opacity": 0.3,
          "symbol": "x"
         },
         "mode": "markers",
         "name": "213, 213",
         "showlegend": true,
         "type": "scattergl",
         "x": [
          -7.967732740111907,
          1.3250995934324126,
          -4.9835658640638325,
          -1.9327428906175512
         ],
         "xaxis": "x",
         "y": [
          2.4615058071071254,
          6.708782462264724,
          8.44828102903717,
          3.2148887837228024
         ],
         "yaxis": "y"
        },
        {
         "hovertemplate": "color=25<br>symbol=25<br>x=%{x}<br>y=%{y}<extra></extra>",
         "legendgroup": "25, 25",
         "marker": {
          "color": "#FECB52",
          "opacity": 0.3,
          "symbol": "cross"
         },
         "mode": "markers",
         "name": "25, 25",
         "showlegend": true,
         "type": "scattergl",
         "x": [
          2.2564416301562673,
          -0.5199446387462245,
          0.896581705703146,
          -1.0625331587790101,
          -4.5007954765045515
         ],
         "xaxis": "x",
         "y": [
          2.2607575376575437,
          -3.7519836128387785,
          -1.2070620327334418,
          1.2639446850202767,
          0.6489081170700883
         ],
         "yaxis": "y"
        },
        {
         "hovertemplate": "color=309<br>symbol=309<br>x=%{x}<br>y=%{y}<extra></extra>",
         "legendgroup": "309, 309",
         "marker": {
          "color": "#636efa",
          "opacity": 0.3,
          "symbol": "circle"
         },
         "mode": "markers",
         "name": "309, 309",
         "showlegend": true,
         "type": "scattergl",
         "x": [
          -1.494349251852339,
          -2.5165818059160783,
          -2.3402443940284496,
          -4.553831783629737
         ],
         "xaxis": "x",
         "y": [
          1.010915142773671,
          2.396704132252643,
          2.8350405455984062,
          1.7680080476936764
         ],
         "yaxis": "y"
        },
        {
         "hovertemplate": "color=251<br>symbol=251<br>x=%{x}<br>y=%{y}<extra></extra>",
         "legendgroup": "251, 251",
         "marker": {
          "color": "#EF553B",
          "opacity": 0.3,
          "symbol": "diamond"
         },
         "mode": "markers",
         "name": "251, 251",
         "showlegend": true,
         "type": "scattergl",
         "x": [
          0.12825549029087585,
          -0.612046772790376,
          0.9857685398840109,
          2.4949568050921407,
          -0.4939582545107136,
          -2.8144130018752183,
          3.270009758019076,
          4.08830925613923,
          6.235341685398431,
          -2.0839328075751657,
          0.04230473691614022,
          -1.0410181537985526,
          -4.093814125650002
         ],
         "xaxis": "x",
         "y": [
          5.089853545273442,
          7.957939561633422,
          5.508009721542766,
          3.753823881216101,
          5.309017100150339,
          5.831339484676309,
          2.407136824107892,
          3.4194097890690798,
          4.7619536527429105,
          5.1272134920936585,
          6.640939463449663,
          4.83333590049225,
          7.0281294366519305
         ],
         "yaxis": "y"
        },
        {
         "hovertemplate": "color=265<br>symbol=265<br>x=%{x}<br>y=%{y}<extra></extra>",
         "legendgroup": "265, 265",
         "marker": {
          "color": "#00cc96",
          "opacity": 0.3,
          "symbol": "square"
         },
         "mode": "markers",
         "name": "265, 265",
         "showlegend": true,
         "type": "scattergl",
         "x": [
          -3.030286504870456,
          -6.230070680252498,
          -4.929992249967097,
          -3.1796012440405153,
          -6.229768133945133,
          1.8433112284493403,
          -1.796016119663142,
          -2.0395692216020875,
          -2.1341266346345678,
          -7.042515628367498,
          -5.7127965243403525,
          -0.43603405974757337,
          -0.5687372577788778,
          5.295181402574749,
          9.353056589543048,
          -1.9391757509679066,
          -2.6770435194619,
          -0.6882462006651073,
          -1.3172619177022167,
          -2.913538703474532,
          -3.7084834044126183,
          0.5969897429706408,
          -0.4553569084103476,
          -1.900273045107408,
          3.199715946577768,
          0.5970163772706946,
          -0.3806022192392018,
          0.07058808705856347,
          -1.847457293983846,
          4.122973924178939,
          -2.623799553448173,
          0.03749364123124055,
          -5.239888869857452,
          -3.930832106436975,
          -3.96970487729838,
          -2.4609773090793943,
          8.302281948715759,
          0.5312747389011709,
          -0.25551975208001815,
          -2.349638742884542
         ],
         "xaxis": "x",
         "y": [
          7.68235423974996,
          1.030812705497223,
          4.566558221207517,
          -5.758327289356016,
          1.987104143046535,
          5.649392306582643,
          1.323103727575775,
          4.74095398255595,
          -5.710948905928173,
          1.1689662764927327,
          2.6877121262205232,
          5.484947782067859,
          -0.9809997041317171,
          2.23518390094371,
          1.9483286126267545,
          6.130494445590443,
          6.808114511108803,
          4.500698341382639,
          3.1507695673786884,
          -1.9036382921516763,
          3.808404785490905,
          3.397499151361648,
          5.112460928916907,
          -2.377669634911643,
          2.962614477103503,
          4.774549464668591,
          0.3054425605173569,
          1.8982375707982835,
          3.710487633277059,
          7.231894127972605,
          4.616707426636028,
          1.9280113844265434,
          4.598694338586602,
          -3.3184266309969193,
          4.202398127379644,
          2.429538408947964,
          5.2774712303121225,
          3.603399672567522,
          4.171909639478692,
          4.7442203868904
         ],
         "yaxis": "y"
        },
        {
         "hovertemplate": "color=371<br>symbol=371<br>x=%{x}<br>y=%{y}<extra></extra>",
         "legendgroup": "371, 371",
         "marker": {
          "color": "#ab63fa",
          "opacity": 0.3,
          "symbol": "x"
         },
         "mode": "markers",
         "name": "371, 371",
         "showlegend": true,
         "type": "scattergl",
         "x": [
          -0.09585058046202687,
          2.035692147244663,
          3.5612080631329683
         ],
         "xaxis": "x",
         "y": [
          -1.6691315205650619,
          2.4989252522300385,
          2.215663945397248
         ],
         "yaxis": "y"
        },
        {
         "hovertemplate": "color=316<br>symbol=316<br>x=%{x}<br>y=%{y}<extra></extra>",
         "legendgroup": "316, 316",
         "marker": {
          "color": "#FFA15A",
          "opacity": 0.3,
          "symbol": "cross"
         },
         "mode": "markers",
         "name": "316, 316",
         "showlegend": true,
         "type": "scattergl",
         "x": [
          0.09277875428108288
         ],
         "xaxis": "x",
         "y": [
          -4.710034677518729
         ],
         "yaxis": "y"
        },
        {
         "hovertemplate": "color=127<br>symbol=127<br>x=%{x}<br>y=%{y}<extra></extra>",
         "legendgroup": "127, 127",
         "marker": {
          "color": "#19d3f3",
          "opacity": 0.3,
          "symbol": "circle"
         },
         "mode": "markers",
         "name": "127, 127",
         "showlegend": true,
         "type": "scattergl",
         "x": [
          -2.503416686285837,
          1.5079141937047453,
          0.9708449254439029,
          3.0146282352148113,
          3.7817438218909616,
          -3.0852090936167436,
          8.898737323760685
         ],
         "xaxis": "x",
         "y": [
          -6.910730505195315,
          -1.8393957843271973,
          3.092923305342844,
          0.7163507354787374,
          0.36488567539790656,
          -0.9826751662654625,
          -0.7452823786933392
         ],
         "yaxis": "y"
        },
        {
         "hovertemplate": "color=221<br>symbol=221<br>x=%{x}<br>y=%{y}<extra></extra>",
         "legendgroup": "221, 221",
         "marker": {
          "color": "#FF6692",
          "opacity": 0.3,
          "symbol": "diamond"
         },
         "mode": "markers",
         "name": "221, 221",
         "showlegend": true,
         "type": "scattergl",
         "x": [
          10.39973576622921,
          12.454468318821993,
          11.238611322800958,
          10.382578830075124,
          8.446839810956938,
          8.890057477369345,
          7.673172822613459
         ],
         "xaxis": "x",
         "y": [
          -1.1210479642458788,
          2.3677072361251597,
          1.4066349371182942,
          2.047063540563647,
          1.3577355173225376,
          0.6900521464440282,
          1.460782736601437
         ],
         "yaxis": "y"
        },
        {
         "hovertemplate": "color=288<br>symbol=288<br>x=%{x}<br>y=%{y}<extra></extra>",
         "legendgroup": "288, 288",
         "marker": {
          "color": "#B6E880",
          "opacity": 0.3,
          "symbol": "square"
         },
         "mode": "markers",
         "name": "288, 288",
         "showlegend": true,
         "type": "scattergl",
         "x": [
          1.6481716352391862
         ],
         "xaxis": "x",
         "y": [
          -4.607531531319503
         ],
         "yaxis": "y"
        },
        {
         "hovertemplate": "color=285<br>symbol=285<br>x=%{x}<br>y=%{y}<extra></extra>",
         "legendgroup": "285, 285",
         "marker": {
          "color": "#FF97FF",
          "opacity": 0.3,
          "symbol": "x"
         },
         "mode": "markers",
         "name": "285, 285",
         "showlegend": true,
         "type": "scattergl",
         "x": [
          4.28915184304186,
          0.15402603775320997,
          0.8870607385250895,
          2.0755170316903375,
          5.212690777430795,
          0.626033518950607,
          4.0418006149001915,
          -0.09434548645626852,
          7.011605320821366,
          0.9860851024809422,
          8.3162230491388
         ],
         "xaxis": "x",
         "y": [
          0.7245886753835487,
          0.38411437544084204,
          -1.1377042838952711,
          -0.6658390273069064,
          -2.978833838855539,
          3.6676759627677114,
          -0.5102378564128799,
          2.340750543005407,
          -1.8525186619856573,
          -0.45114760362124134,
          -0.31366543956685267
         ],
         "yaxis": "y"
        },
        {
         "hovertemplate": "color=391<br>symbol=391<br>x=%{x}<br>y=%{y}<extra></extra>",
         "legendgroup": "391, 391",
         "marker": {
          "color": "#FECB52",
          "opacity": 0.3,
          "symbol": "cross"
         },
         "mode": "markers",
         "name": "391, 391",
         "showlegend": true,
         "type": "scattergl",
         "x": [
          -5.663479798479577,
          -3.3761142288498114,
          -4.122152868063775,
          -3.3948088215031524,
          -4.228766296633415,
          -2.941271229584624,
          -5.80615645314911,
          -2.6656430322392284
         ],
         "xaxis": "x",
         "y": [
          -0.3490403099317832,
          5.155471878107631,
          5.100385389478719,
          5.343498408301064,
          2.787029261202921,
          5.071218459445384,
          6.6199718232880285,
          5.904886324736833
         ],
         "yaxis": "y"
        },
        {
         "hovertemplate": "color=226<br>symbol=226<br>x=%{x}<br>y=%{y}<extra></extra>",
         "legendgroup": "226, 226",
         "marker": {
          "color": "#636efa",
          "opacity": 0.3,
          "symbol": "circle"
         },
         "mode": "markers",
         "name": "226, 226",
         "showlegend": true,
         "type": "scattergl",
         "x": [
          19.327218985255403,
          19.307743953520184,
          19.310687693997785,
          19.297474562404155,
          19.30014285386983,
          19.297677884176643,
          19.31167827884604,
          19.32694505879451,
          19.32766364186384
         ],
         "xaxis": "x",
         "y": [
          12.805421660543914,
          12.923759253754966,
          12.905871983125952,
          12.986159923747962,
          12.969946384569928,
          12.98492446444138,
          12.899852818258433,
          12.807086140404136,
          12.802719760307614
         ],
         "yaxis": "y"
        },
        {
         "hovertemplate": "color=305<br>symbol=305<br>x=%{x}<br>y=%{y}<extra></extra>",
         "legendgroup": "305, 305",
         "marker": {
          "color": "#EF553B",
          "opacity": 0.3,
          "symbol": "diamond"
         },
         "mode": "markers",
         "name": "305, 305",
         "showlegend": true,
         "type": "scattergl",
         "x": [
          4.874500978371192,
          0.5962674390648905,
          -0.05863958669293007,
          -1.3608500690354157
         ],
         "xaxis": "x",
         "y": [
          0.8931316135799461,
          -2.947449797248095,
          -1.094408076647869,
          -4.2442682031776515
         ],
         "yaxis": "y"
        },
        {
         "hovertemplate": "color=303<br>symbol=303<br>x=%{x}<br>y=%{y}<extra></extra>",
         "legendgroup": "303, 303",
         "marker": {
          "color": "#00cc96",
          "opacity": 0.3,
          "symbol": "square"
         },
         "mode": "markers",
         "name": "303, 303",
         "showlegend": true,
         "type": "scattergl",
         "x": [
          -5.979468627312571,
          -5.405092753044278,
          -1.6873487397376101,
          -0.6673519674923865,
          1.696604053195797,
          -2.459106122497482,
          -2.351392063418043,
          -0.660102437527179,
          -0.4007605194901223,
          -1.5080215788842262,
          -1.998655549425861,
          -5.2431594996031885,
          -3.4349536519323483,
          -3.6466329319016513
         ],
         "xaxis": "x",
         "y": [
          1.63947505459039,
          0.5642046421989604,
          2.7476228920653556,
          3.539900061523375,
          0.6564561965219224,
          3.463530083234439,
          2.986181104312995,
          -0.07967319100004744,
          3.7841442745827245,
          3.9859275445999427,
          3.8098740964252196,
          4.888580709056835,
          3.9316395497809173,
          1.9116242194307458
         ],
         "yaxis": "y"
        },
        {
         "hovertemplate": "color=360<br>symbol=360<br>x=%{x}<br>y=%{y}<extra></extra>",
         "legendgroup": "360, 360",
         "marker": {
          "color": "#ab63fa",
          "opacity": 0.3,
          "symbol": "x"
         },
         "mode": "markers",
         "name": "360, 360",
         "showlegend": true,
         "type": "scattergl",
         "x": [
          10.691795239986924,
          7.885583191688196,
          11.856177014418355
         ],
         "xaxis": "x",
         "y": [
          0.8522958827585903,
          3.868670223333883,
          5.86899024558732
         ],
         "yaxis": "y"
        },
        {
         "hovertemplate": "color=134<br>symbol=134<br>x=%{x}<br>y=%{y}<extra></extra>",
         "legendgroup": "134, 134",
         "marker": {
          "color": "#FFA15A",
          "opacity": 0.3,
          "symbol": "cross"
         },
         "mode": "markers",
         "name": "134, 134",
         "showlegend": true,
         "type": "scattergl",
         "x": [
          0.6038427993036183,
          3.5086347576128234
         ],
         "xaxis": "x",
         "y": [
          -3.2967895949998045,
          -4.977204846583886
         ],
         "yaxis": "y"
        },
        {
         "hovertemplate": "color=91<br>symbol=91<br>x=%{x}<br>y=%{y}<extra></extra>",
         "legendgroup": "91, 91",
         "marker": {
          "color": "#19d3f3",
          "opacity": 0.3,
          "symbol": "circle"
         },
         "mode": "markers",
         "name": "91, 91",
         "showlegend": true,
         "type": "scattergl",
         "x": [
          5.38418798772582
         ],
         "xaxis": "x",
         "y": [
          -1.0909078726119767
         ],
         "yaxis": "y"
        },
        {
         "hovertemplate": "color=380<br>symbol=380<br>x=%{x}<br>y=%{y}<extra></extra>",
         "legendgroup": "380, 380",
         "marker": {
          "color": "#FF6692",
          "opacity": 0.3,
          "symbol": "diamond"
         },
         "mode": "markers",
         "name": "380, 380",
         "showlegend": true,
         "type": "scattergl",
         "x": [
          5.328359207593378,
          4.966319986151351,
          -3.4398158544820285
         ],
         "xaxis": "x",
         "y": [
          4.932344892817424,
          -1.4057960827276053,
          -1.000008823057206
         ],
         "yaxis": "y"
        },
        {
         "hovertemplate": "color=273<br>symbol=273<br>x=%{x}<br>y=%{y}<extra></extra>",
         "legendgroup": "273, 273",
         "marker": {
          "color": "#B6E880",
          "opacity": 0.3,
          "symbol": "square"
         },
         "mode": "markers",
         "name": "273, 273",
         "showlegend": true,
         "type": "scattergl",
         "x": [
          -3.032026363338145,
          -0.9871019743095463,
          -3.3010133344975023,
          -5.102121092581631,
          -3.344665194252199,
          0.5806209337959755,
          -0.2981659849387831,
          -2.274693131589946,
          -3.947209031381962,
          0.3622273262124399,
          1.624432997052153,
          -3.488795750714507,
          -6.592629160459005,
          -1.4813004847932232,
          -1.7428917441261353,
          -4.506442212990483
         ],
         "xaxis": "x",
         "y": [
          4.122480457831729,
          4.143970861905738,
          3.5033969215669205,
          0.6115736594124396,
          3.9276138009348966,
          1.692002554842606,
          6.137163283360541,
          5.079823954019108,
          5.633758945827306,
          1.3064080021091462,
          3.9781293442961068,
          2.432891653033835,
          3.9818011952282317,
          3.691851782620749,
          5.8759962854199115,
          3.4317965959573633
         ],
         "yaxis": "y"
        },
        {
         "hovertemplate": "color=216<br>symbol=216<br>x=%{x}<br>y=%{y}<extra></extra>",
         "legendgroup": "216, 216",
         "marker": {
          "color": "#FF97FF",
          "opacity": 0.3,
          "symbol": "x"
         },
         "mode": "markers",
         "name": "216, 216",
         "showlegend": true,
         "type": "scattergl",
         "x": [
          2.5223452123469294,
          9.902339730153175,
          12.25540207736596,
          10.183848944518267,
          8.823268861519553,
          7.602398547315811
         ],
         "xaxis": "x",
         "y": [
          3.5465632667918796,
          0.4409947161946991,
          -0.04590398256979837,
          -1.7597535893369458,
          1.4641320075921036,
          1.4567340513066125
         ],
         "yaxis": "y"
        },
        {
         "hovertemplate": "color=402<br>symbol=402<br>x=%{x}<br>y=%{y}<extra></extra>",
         "legendgroup": "402, 402",
         "marker": {
          "color": "#FECB52",
          "opacity": 0.3,
          "symbol": "cross"
         },
         "mode": "markers",
         "name": "402, 402",
         "showlegend": true,
         "type": "scattergl",
         "x": [
          5.096849813279047,
          3.8786118851775853
         ],
         "xaxis": "x",
         "y": [
          -0.2778748499909543,
          -4.473975573452207
         ],
         "yaxis": "y"
        },
        {
         "hovertemplate": "color=418<br>symbol=418<br>x=%{x}<br>y=%{y}<extra></extra>",
         "legendgroup": "418, 418",
         "marker": {
          "color": "#636efa",
          "opacity": 0.3,
          "symbol": "circle"
         },
         "mode": "markers",
         "name": "418, 418",
         "showlegend": true,
         "type": "scattergl",
         "x": [
          0.8140472864726485,
          3.712143697003971,
          3.893067989250814,
          -3.739599804256026,
          -2.0465285834642164,
          -3.5432354594077133,
          1.63496148803595,
          -5.878975514998078,
          3.5350904359596367,
          -3.3450605674417626,
          -1.0997451688272843,
          3.1005201173242956,
          0.40812893956852814,
          -5.1581871434563125,
          -4.062789800816665,
          2.3692656949273254,
          -3.6010860130511593,
          -1.9826319214169466,
          -2.254935646583457,
          4.839425166958979,
          3.835255813546378,
          -2.2753202167183777,
          2.858849674263228,
          -0.16886323333369477,
          -5.5609224816977205,
          0.47395556333662414,
          -1.891148017192109
         ],
         "xaxis": "x",
         "y": [
          -2.3471979349568612,
          4.421349906298602,
          -0.6653772925907615,
          -1.2847992096122811,
          2.5581628910821,
          -1.1862468445551813,
          -3.917960411623075,
          1.1059301199286173,
          -1.0857020205385879,
          -4.290967923291994,
          -3.5024550453515437,
          -1.839527856379461,
          0.3064871516839698,
          -4.577970308117184,
          4.611781731981553,
          2.534282202475786,
          1.948583708079015,
          -3.193931077507049,
          4.189327001235664,
          3.896993806048683,
          0.3919286367936903,
          -0.44618347467222014,
          -0.9358129489680805,
          0.07471986401184945,
          4.835494976159094,
          -0.9975748763301198,
          -1.6892275060364894
         ],
         "yaxis": "y"
        },
        {
         "hovertemplate": "color=196<br>symbol=196<br>x=%{x}<br>y=%{y}<extra></extra>",
         "legendgroup": "196, 196",
         "marker": {
          "color": "#EF553B",
          "opacity": 0.3,
          "symbol": "diamond"
         },
         "mode": "markers",
         "name": "196, 196",
         "showlegend": true,
         "type": "scattergl",
         "x": [
          17.760849155207712
         ],
         "xaxis": "x",
         "y": [
          14.900240978966652
         ],
         "yaxis": "y"
        },
        {
         "hovertemplate": "color=325<br>symbol=325<br>x=%{x}<br>y=%{y}<extra></extra>",
         "legendgroup": "325, 325",
         "marker": {
          "color": "#00cc96",
          "opacity": 0.3,
          "symbol": "square"
         },
         "mode": "markers",
         "name": "325, 325",
         "showlegend": true,
         "type": "scattergl",
         "x": [
          5.482718611607677,
          5.982569590224507,
          2.914425755183411,
          7.629079924734506,
          10.61379766417674,
          9.252445048630493,
          5.323256209559971,
          4.404285370850867,
          5.2989037544051545,
          6.835263752187195,
          5.7680460071718525,
          1.4694584812420997,
          4.692144365628664,
          5.185602366304771,
          1.2201792514158878,
          2.015716228762888,
          6.740591385476825,
          9.77806692032677
         ],
         "xaxis": "x",
         "y": [
          2.92062645281145,
          -7.790424686146991,
          -7.812603541164535,
          0.7142406771638435,
          0.7955166020083851,
          2.025596819504333,
          -7.431178248799258,
          -1.0123951141252197,
          1.3048838777029446,
          -8.564890397105463,
          -1.3458983488987537,
          -6.320501430095397,
          -7.057564630950929,
          -8.419402848495412,
          -5.682253272146117,
          -6.088050066949565,
          -0.5154665535967239,
          -0.23075445985237206
         ],
         "yaxis": "y"
        },
        {
         "hovertemplate": "color=240<br>symbol=240<br>x=%{x}<br>y=%{y}<extra></extra>",
         "legendgroup": "240, 240",
         "marker": {
          "color": "#ab63fa",
          "opacity": 0.3,
          "symbol": "x"
         },
         "mode": "markers",
         "name": "240, 240",
         "showlegend": true,
         "type": "scattergl",
         "x": [
          3.0417713050087745,
          0.07473789875566592
         ],
         "xaxis": "x",
         "y": [
          -0.6392853146822994,
          -5.297859797117591
         ],
         "yaxis": "y"
        },
        {
         "hovertemplate": "color=290<br>symbol=290<br>x=%{x}<br>y=%{y}<extra></extra>",
         "legendgroup": "290, 290",
         "marker": {
          "color": "#FFA15A",
          "opacity": 0.3,
          "symbol": "cross"
         },
         "mode": "markers",
         "name": "290, 290",
         "showlegend": true,
         "type": "scattergl",
         "x": [
          0.33653813932077087,
          4.501924122973517,
          -2.869283520347174,
          4.559493391584132,
          5.072826102367392,
          1.122001105868294,
          3.975183790656254
         ],
         "xaxis": "x",
         "y": [
          2.3442540869128288,
          -0.1011795229279011,
          -5.35663889612295,
          -0.40760142031359314,
          -1.3071220410076985,
          -2.144193316712893,
          -0.16602997062050925
         ],
         "yaxis": "y"
        },
        {
         "hovertemplate": "color=2<br>symbol=2<br>x=%{x}<br>y=%{y}<extra></extra>",
         "legendgroup": "2, 2",
         "marker": {
          "color": "#19d3f3",
          "opacity": 0.3,
          "symbol": "circle"
         },
         "mode": "markers",
         "name": "2, 2",
         "showlegend": true,
         "type": "scattergl",
         "x": [
          -3.4686445197733335,
          -0.14309064852136164,
          -1.8675099884114557,
          -0.600013077533281,
          -3.9422354023703745,
          -0.39662390606580705,
          -1.5457302815178926,
          -3.2914474578572523,
          -1.4559445108729412,
          -0.4523365988937168
         ],
         "xaxis": "x",
         "y": [
          1.1984282721935764,
          3.689511920547934,
          1.084370687420836,
          0.0623616268682718,
          0.9899354676240393,
          0.4350417874472509,
          3.751489292931131,
          3.4279667599419548,
          3.927696761016131,
          3.555788723648048
         ],
         "yaxis": "y"
        },
        {
         "hovertemplate": "color=230<br>symbol=230<br>x=%{x}<br>y=%{y}<extra></extra>",
         "legendgroup": "230, 230",
         "marker": {
          "color": "#FF6692",
          "opacity": 0.3,
          "symbol": "diamond"
         },
         "mode": "markers",
         "name": "230, 230",
         "showlegend": true,
         "type": "scattergl",
         "x": [
          1.6413935576272694,
          2.6946518031311144,
          -1.5669374862364136
         ],
         "xaxis": "x",
         "y": [
          0.8529403908059727,
          -1.3378772306537956,
          -2.4712387513700507
         ],
         "yaxis": "y"
        },
        {
         "hovertemplate": "color=17<br>symbol=17<br>x=%{x}<br>y=%{y}<extra></extra>",
         "legendgroup": "17, 17",
         "marker": {
          "color": "#B6E880",
          "opacity": 0.3,
          "symbol": "square"
         },
         "mode": "markers",
         "name": "17, 17",
         "showlegend": true,
         "type": "scattergl",
         "x": [
          -1.3916702101927525,
          -1.010810276886428
         ],
         "xaxis": "x",
         "y": [
          2.6733646814726946,
          -2.5017224079928546
         ],
         "yaxis": "y"
        },
        {
         "hovertemplate": "color=422<br>symbol=422<br>x=%{x}<br>y=%{y}<extra></extra>",
         "legendgroup": "422, 422",
         "marker": {
          "color": "#FF97FF",
          "opacity": 0.3,
          "symbol": "x"
         },
         "mode": "markers",
         "name": "422, 422",
         "showlegend": true,
         "type": "scattergl",
         "x": [
          -1.3020806873842399,
          1.593834028180229,
          5.60587978469814,
          2.527167069104953,
          5.384758856584938
         ],
         "xaxis": "x",
         "y": [
          -3.0071820827662505,
          3.656407124743278,
          -2.152968313940623,
          4.747354323007038,
          3.1010912458216655
         ],
         "yaxis": "y"
        },
        {
         "hovertemplate": "color=126<br>symbol=126<br>x=%{x}<br>y=%{y}<extra></extra>",
         "legendgroup": "126, 126",
         "marker": {
          "color": "#FECB52",
          "opacity": 0.3,
          "symbol": "cross"
         },
         "mode": "markers",
         "name": "126, 126",
         "showlegend": true,
         "type": "scattergl",
         "x": [
          6.989884561831244,
          11.318700076402456,
          10.407540898208106,
          6.785928275921195,
          8.699124050768592
         ],
         "xaxis": "x",
         "y": [
          -2.1677864608917217,
          -0.5879009867342516,
          4.20030682449686,
          0.8735542059564164,
          1.7948407901926071
         ],
         "yaxis": "y"
        },
        {
         "hovertemplate": "color=220<br>symbol=220<br>x=%{x}<br>y=%{y}<extra></extra>",
         "legendgroup": "220, 220",
         "marker": {
          "color": "#636efa",
          "opacity": 0.3,
          "symbol": "circle"
         },
         "mode": "markers",
         "name": "220, 220",
         "showlegend": true,
         "type": "scattergl",
         "x": [
          21.77664825891818
         ],
         "xaxis": "x",
         "y": [
          14.840056134571341
         ],
         "yaxis": "y"
        },
        {
         "hovertemplate": "color=276<br>symbol=276<br>x=%{x}<br>y=%{y}<extra></extra>",
         "legendgroup": "276, 276",
         "marker": {
          "color": "#EF553B",
          "opacity": 0.3,
          "symbol": "diamond"
         },
         "mode": "markers",
         "name": "276, 276",
         "showlegend": true,
         "type": "scattergl",
         "x": [
          10.655636582333115,
          4.282546709285149,
          7.950404857343169,
          9.190533796763996,
          5.9355410007507
         ],
         "xaxis": "x",
         "y": [
          2.254151027796502,
          -0.17248083910804843,
          -3.415331730245454,
          -1.6172629129049059,
          0.267411888324283
         ],
         "yaxis": "y"
        },
        {
         "hovertemplate": "color=63<br>symbol=63<br>x=%{x}<br>y=%{y}<extra></extra>",
         "legendgroup": "63, 63",
         "marker": {
          "color": "#00cc96",
          "opacity": 0.3,
          "symbol": "square"
         },
         "mode": "markers",
         "name": "63, 63",
         "showlegend": true,
         "type": "scattergl",
         "x": [
          8.632641181654453,
          10.617207646830826
         ],
         "xaxis": "x",
         "y": [
          0.12960467695263342,
          1.0652839207042677
         ],
         "yaxis": "y"
        },
        {
         "hovertemplate": "color=444<br>symbol=444<br>x=%{x}<br>y=%{y}<extra></extra>",
         "legendgroup": "444, 444",
         "marker": {
          "color": "#ab63fa",
          "opacity": 0.3,
          "symbol": "x"
         },
         "mode": "markers",
         "name": "444, 444",
         "showlegend": true,
         "type": "scattergl",
         "x": [
          3.4955367399394532
         ],
         "xaxis": "x",
         "y": [
          -8.546358879385547
         ],
         "yaxis": "y"
        },
        {
         "hovertemplate": "color=448<br>symbol=448<br>x=%{x}<br>y=%{y}<extra></extra>",
         "legendgroup": "448, 448",
         "marker": {
          "color": "#FFA15A",
          "opacity": 0.3,
          "symbol": "cross"
         },
         "mode": "markers",
         "name": "448, 448",
         "showlegend": true,
         "type": "scattergl",
         "x": [
          10.073771031376035,
          5.533753077709244,
          5.7706930452928455,
          5.159198089816714,
          2.252016256623497,
          3.566338839292925,
          4.874470134618742,
          4.466604169136183,
          5.613890347491112,
          5.35571944436778,
          7.947755446982996
         ],
         "xaxis": "x",
         "y": [
          -4.355161616007948,
          -5.009724636470572,
          -2.651850281788206,
          -3.889830625718275,
          -8.867270778645059,
          -8.179597545495719,
          -5.454912849617053,
          -9.621787740824146,
          -7.49803377148269,
          -3.0968582108612783,
          -1.3844713792530101
         ],
         "yaxis": "y"
        },
        {
         "hovertemplate": "color=256<br>symbol=256<br>x=%{x}<br>y=%{y}<extra></extra>",
         "legendgroup": "256, 256",
         "marker": {
          "color": "#19d3f3",
          "opacity": 0.3,
          "symbol": "circle"
         },
         "mode": "markers",
         "name": "256, 256",
         "showlegend": true,
         "type": "scattergl",
         "x": [
          2.1037720785582743
         ],
         "xaxis": "x",
         "y": [
          4.04286770180201
         ],
         "yaxis": "y"
        },
        {
         "hovertemplate": "color=295<br>symbol=295<br>x=%{x}<br>y=%{y}<extra></extra>",
         "legendgroup": "295, 295",
         "marker": {
          "color": "#FF6692",
          "opacity": 0.3,
          "symbol": "diamond"
         },
         "mode": "markers",
         "name": "295, 295",
         "showlegend": true,
         "type": "scattergl",
         "x": [
          6.420723972440167,
          8.282133782719994,
          7.021867023617634,
          4.4105796545929925
         ],
         "xaxis": "x",
         "y": [
          -1.659062048081636,
          1.7660296634818227,
          -3.094791558679495,
          1.317333739953168
         ],
         "yaxis": "y"
        },
        {
         "hovertemplate": "color=410<br>symbol=410<br>x=%{x}<br>y=%{y}<extra></extra>",
         "legendgroup": "410, 410",
         "marker": {
          "color": "#B6E880",
          "opacity": 0.3,
          "symbol": "square"
         },
         "mode": "markers",
         "name": "410, 410",
         "showlegend": true,
         "type": "scattergl",
         "x": [
          0.7695478114684499,
          4.8416380891922985
         ],
         "xaxis": "x",
         "y": [
          -3.148415893588099,
          -0.5569872794054683
         ],
         "yaxis": "y"
        },
        {
         "hovertemplate": "color=277<br>symbol=277<br>x=%{x}<br>y=%{y}<extra></extra>",
         "legendgroup": "277, 277",
         "marker": {
          "color": "#FF97FF",
          "opacity": 0.3,
          "symbol": "x"
         },
         "mode": "markers",
         "name": "277, 277",
         "showlegend": true,
         "type": "scattergl",
         "x": [
          0.4861068334710883
         ],
         "xaxis": "x",
         "y": [
          -2.059746439332718
         ],
         "yaxis": "y"
        },
        {
         "hovertemplate": "color=29<br>symbol=29<br>x=%{x}<br>y=%{y}<extra></extra>",
         "legendgroup": "29, 29",
         "marker": {
          "color": "#FECB52",
          "opacity": 0.3,
          "symbol": "cross"
         },
         "mode": "markers",
         "name": "29, 29",
         "showlegend": true,
         "type": "scattergl",
         "x": [
          -1.5695160655579226
         ],
         "xaxis": "x",
         "y": [
          -1.0961074979186871
         ],
         "yaxis": "y"
        },
        {
         "hovertemplate": "color=424<br>symbol=424<br>x=%{x}<br>y=%{y}<extra></extra>",
         "legendgroup": "424, 424",
         "marker": {
          "color": "#636efa",
          "opacity": 0.3,
          "symbol": "circle"
         },
         "mode": "markers",
         "name": "424, 424",
         "showlegend": true,
         "type": "scattergl",
         "x": [
          10.490335189377204
         ],
         "xaxis": "x",
         "y": [
          0.2512492132225962
         ],
         "yaxis": "y"
        },
        {
         "hovertemplate": "color=260<br>symbol=260<br>x=%{x}<br>y=%{y}<extra></extra>",
         "legendgroup": "260, 260",
         "marker": {
          "color": "#EF553B",
          "opacity": 0.3,
          "symbol": "diamond"
         },
         "mode": "markers",
         "name": "260, 260",
         "showlegend": true,
         "type": "scattergl",
         "x": [
          -2.0966130796554423,
          4.0308184449518745,
          8.18640399719957
         ],
         "xaxis": "x",
         "y": [
          6.718528588055314,
          2.4718034695071935,
          1.322253250679152
         ],
         "yaxis": "y"
        },
        {
         "hovertemplate": "color=245<br>symbol=245<br>x=%{x}<br>y=%{y}<extra></extra>",
         "legendgroup": "245, 245",
         "marker": {
          "color": "#00cc96",
          "opacity": 0.3,
          "symbol": "square"
         },
         "mode": "markers",
         "name": "245, 245",
         "showlegend": true,
         "type": "scattergl",
         "x": [
          0.21280613946873222
         ],
         "xaxis": "x",
         "y": [
          -1.796240243864143
         ],
         "yaxis": "y"
        },
        {
         "hovertemplate": "color=394<br>symbol=394<br>x=%{x}<br>y=%{y}<extra></extra>",
         "legendgroup": "394, 394",
         "marker": {
          "color": "#ab63fa",
          "opacity": 0.3,
          "symbol": "x"
         },
         "mode": "markers",
         "name": "394, 394",
         "showlegend": true,
         "type": "scattergl",
         "x": [
          -4.186230728245677
         ],
         "xaxis": "x",
         "y": [
          0.07679292763925706
         ],
         "yaxis": "y"
        },
        {
         "hovertemplate": "color=329<br>symbol=329<br>x=%{x}<br>y=%{y}<extra></extra>",
         "legendgroup": "329, 329",
         "marker": {
          "color": "#FFA15A",
          "opacity": 0.3,
          "symbol": "cross"
         },
         "mode": "markers",
         "name": "329, 329",
         "showlegend": true,
         "type": "scattergl",
         "x": [
          4.390909280325164
         ],
         "xaxis": "x",
         "y": [
          -1.9944537493184926
         ],
         "yaxis": "y"
        },
        {
         "hovertemplate": "color=102<br>symbol=102<br>x=%{x}<br>y=%{y}<extra></extra>",
         "legendgroup": "102, 102",
         "marker": {
          "color": "#19d3f3",
          "opacity": 0.3,
          "symbol": "circle"
         },
         "mode": "markers",
         "name": "102, 102",
         "showlegend": true,
         "type": "scattergl",
         "x": [
          12.621195657320909,
          2.7357421111189435,
          8.886378712485428,
          10.545144399185217
         ],
         "xaxis": "x",
         "y": [
          7.3775029595802035,
          -4.788257921842308,
          2.0569204031557975,
          5.192703038680932
         ],
         "yaxis": "y"
        },
        {
         "hovertemplate": "color=74<br>symbol=74<br>x=%{x}<br>y=%{y}<extra></extra>",
         "legendgroup": "74, 74",
         "marker": {
          "color": "#FF6692",
          "opacity": 0.3,
          "symbol": "diamond"
         },
         "mode": "markers",
         "name": "74, 74",
         "showlegend": true,
         "type": "scattergl",
         "x": [
          6.261400912985339
         ],
         "xaxis": "x",
         "y": [
          -2.1230367095418456
         ],
         "yaxis": "y"
        },
        {
         "hovertemplate": "color=408<br>symbol=408<br>x=%{x}<br>y=%{y}<extra></extra>",
         "legendgroup": "408, 408",
         "marker": {
          "color": "#B6E880",
          "opacity": 0.3,
          "symbol": "square"
         },
         "mode": "markers",
         "name": "408, 408",
         "showlegend": true,
         "type": "scattergl",
         "x": [
          13.62929347575011
         ],
         "xaxis": "x",
         "y": [
          3.85786171087654
         ],
         "yaxis": "y"
        },
        {
         "hovertemplate": "color=396<br>symbol=396<br>x=%{x}<br>y=%{y}<extra></extra>",
         "legendgroup": "396, 396",
         "marker": {
          "color": "#FF97FF",
          "opacity": 0.3,
          "symbol": "x"
         },
         "mode": "markers",
         "name": "396, 396",
         "showlegend": true,
         "type": "scattergl",
         "x": [
          -7.384229483326172,
          -1.5092805774625015,
          -5.537599331085374
         ],
         "xaxis": "x",
         "y": [
          -3.3713301287833137,
          2.480619641302282,
          1.5685480397845881
         ],
         "yaxis": "y"
        },
        {
         "hovertemplate": "color=129<br>symbol=129<br>x=%{x}<br>y=%{y}<extra></extra>",
         "legendgroup": "129, 129",
         "marker": {
          "color": "#FECB52",
          "opacity": 0.3,
          "symbol": "cross"
         },
         "mode": "markers",
         "name": "129, 129",
         "showlegend": true,
         "type": "scattergl",
         "x": [
          5.19416143881245,
          5.621663574090289
         ],
         "xaxis": "x",
         "y": [
          -1.3628489711895064,
          -1.5014705987157315
         ],
         "yaxis": "y"
        },
        {
         "hovertemplate": "color=82<br>symbol=82<br>x=%{x}<br>y=%{y}<extra></extra>",
         "legendgroup": "82, 82",
         "marker": {
          "color": "#636efa",
          "opacity": 0.3,
          "symbol": "circle"
         },
         "mode": "markers",
         "name": "82, 82",
         "showlegend": true,
         "type": "scattergl",
         "x": [
          -0.21078230978527304,
          7.564661980321112
         ],
         "xaxis": "x",
         "y": [
          2.490318267327142,
          2.2527140170214706
         ],
         "yaxis": "y"
        },
        {
         "hovertemplate": "color=163<br>symbol=163<br>x=%{x}<br>y=%{y}<extra></extra>",
         "legendgroup": "163, 163",
         "marker": {
          "color": "#EF553B",
          "opacity": 0.3,
          "symbol": "diamond"
         },
         "mode": "markers",
         "name": "163, 163",
         "showlegend": true,
         "type": "scattergl",
         "x": [
          -5.958796809199402,
          -3.079099189720548,
          -3.5590423669533147
         ],
         "xaxis": "x",
         "y": [
          1.884967828716506,
          -2.4200440918481716,
          -0.9105008192979334
         ],
         "yaxis": "y"
        },
        {
         "hovertemplate": "color=403<br>symbol=403<br>x=%{x}<br>y=%{y}<extra></extra>",
         "legendgroup": "403, 403",
         "marker": {
          "color": "#00cc96",
          "opacity": 0.3,
          "symbol": "square"
         },
         "mode": "markers",
         "name": "403, 403",
         "showlegend": true,
         "type": "scattergl",
         "x": [
          14.708177200313862,
          13.39825347603054,
          1.6807958083082222,
          0.7051533202347144
         ],
         "xaxis": "x",
         "y": [
          10.345358355998323,
          5.045324664659678,
          -4.68414756084382,
          -0.16365281704929746
         ],
         "yaxis": "y"
        },
        {
         "hovertemplate": "color=16<br>symbol=16<br>x=%{x}<br>y=%{y}<extra></extra>",
         "legendgroup": "16, 16",
         "marker": {
          "color": "#ab63fa",
          "opacity": 0.3,
          "symbol": "x"
         },
         "mode": "markers",
         "name": "16, 16",
         "showlegend": true,
         "type": "scattergl",
         "x": [
          -1.3734706343625696
         ],
         "xaxis": "x",
         "y": [
          1.8236647038918896
         ],
         "yaxis": "y"
        },
        {
         "hovertemplate": "color=337<br>symbol=337<br>x=%{x}<br>y=%{y}<extra></extra>",
         "legendgroup": "337, 337",
         "marker": {
          "color": "#FFA15A",
          "opacity": 0.3,
          "symbol": "cross"
         },
         "mode": "markers",
         "name": "337, 337",
         "showlegend": true,
         "type": "scattergl",
         "x": [
          7.06427919755321,
          1.8944064540943137,
          -0.1492647352478539,
          4.744448888591347
         ],
         "xaxis": "x",
         "y": [
          2.778809940334017,
          -1.534235748258383,
          0.3971644056728394,
          0.968657314576785
         ],
         "yaxis": "y"
        },
        {
         "hovertemplate": "color=411<br>symbol=411<br>x=%{x}<br>y=%{y}<extra></extra>",
         "legendgroup": "411, 411",
         "marker": {
          "color": "#19d3f3",
          "opacity": 0.3,
          "symbol": "circle"
         },
         "mode": "markers",
         "name": "411, 411",
         "showlegend": true,
         "type": "scattergl",
         "x": [
          5.7490802701814925
         ],
         "xaxis": "x",
         "y": [
          -6.7618689018412566
         ],
         "yaxis": "y"
        },
        {
         "hovertemplate": "color=123<br>symbol=123<br>x=%{x}<br>y=%{y}<extra></extra>",
         "legendgroup": "123, 123",
         "marker": {
          "color": "#FF6692",
          "opacity": 0.3,
          "symbol": "diamond"
         },
         "mode": "markers",
         "name": "123, 123",
         "showlegend": true,
         "type": "scattergl",
         "x": [
          5.1252918173526085,
          7.6337064989105645
         ],
         "xaxis": "x",
         "y": [
          -2.4744225480870967,
          0.1410536396996144
         ],
         "yaxis": "y"
        },
        {
         "hovertemplate": "color=4<br>symbol=4<br>x=%{x}<br>y=%{y}<extra></extra>",
         "legendgroup": "4, 4",
         "marker": {
          "color": "#B6E880",
          "opacity": 0.3,
          "symbol": "square"
         },
         "mode": "markers",
         "name": "4, 4",
         "showlegend": true,
         "type": "scattergl",
         "x": [
          10.267475698935591
         ],
         "xaxis": "x",
         "y": [
          4.921596215924988
         ],
         "yaxis": "y"
        },
        {
         "hovertemplate": "color=376<br>symbol=376<br>x=%{x}<br>y=%{y}<extra></extra>",
         "legendgroup": "376, 376",
         "marker": {
          "color": "#FF97FF",
          "opacity": 0.3,
          "symbol": "x"
         },
         "mode": "markers",
         "name": "376, 376",
         "showlegend": true,
         "type": "scattergl",
         "x": [
          -1.1294719443798824,
          1.9001768218905546
         ],
         "xaxis": "x",
         "y": [
          -1.7544582321428448,
          -4.8036486591159
         ],
         "yaxis": "y"
        },
        {
         "hovertemplate": "color=407<br>symbol=407<br>x=%{x}<br>y=%{y}<extra></extra>",
         "legendgroup": "407, 407",
         "marker": {
          "color": "#FECB52",
          "opacity": 0.3,
          "symbol": "cross"
         },
         "mode": "markers",
         "name": "407, 407",
         "showlegend": true,
         "type": "scattergl",
         "x": [
          -1.9189085014761547
         ],
         "xaxis": "x",
         "y": [
          -2.7808837373551256
         ],
         "yaxis": "y"
        },
        {
         "hovertemplate": "color=339<br>symbol=339<br>x=%{x}<br>y=%{y}<extra></extra>",
         "legendgroup": "339, 339",
         "marker": {
          "color": "#636efa",
          "opacity": 0.3,
          "symbol": "circle"
         },
         "mode": "markers",
         "name": "339, 339",
         "showlegend": true,
         "type": "scattergl",
         "x": [
          6.998925513805458
         ],
         "xaxis": "x",
         "y": [
          -0.4336236468723375
         ],
         "yaxis": "y"
        },
        {
         "hovertemplate": "color=55<br>symbol=55<br>x=%{x}<br>y=%{y}<extra></extra>",
         "legendgroup": "55, 55",
         "marker": {
          "color": "#EF553B",
          "opacity": 0.3,
          "symbol": "diamond"
         },
         "mode": "markers",
         "name": "55, 55",
         "showlegend": true,
         "type": "scattergl",
         "x": [
          -2.579264994746862
         ],
         "xaxis": "x",
         "y": [
          -2.802988707674837
         ],
         "yaxis": "y"
        },
        {
         "hovertemplate": "color=64<br>symbol=64<br>x=%{x}<br>y=%{y}<extra></extra>",
         "legendgroup": "64, 64",
         "marker": {
          "color": "#00cc96",
          "opacity": 0.3,
          "symbol": "square"
         },
         "mode": "markers",
         "name": "64, 64",
         "showlegend": true,
         "type": "scattergl",
         "x": [
          3.62547526994137,
          12.443897907401206
         ],
         "xaxis": "x",
         "y": [
          -3.843442427903848,
          5.340138525647512
         ],
         "yaxis": "y"
        },
        {
         "hovertemplate": "color=320<br>symbol=320<br>x=%{x}<br>y=%{y}<extra></extra>",
         "legendgroup": "320, 320",
         "marker": {
          "color": "#ab63fa",
          "opacity": 0.3,
          "symbol": "x"
         },
         "mode": "markers",
         "name": "320, 320",
         "showlegend": true,
         "type": "scattergl",
         "x": [
          -5.931421105320443
         ],
         "xaxis": "x",
         "y": [
          4.115047671055357
         ],
         "yaxis": "y"
        },
        {
         "hovertemplate": "color=139<br>symbol=139<br>x=%{x}<br>y=%{y}<extra></extra>",
         "legendgroup": "139, 139",
         "marker": {
          "color": "#FFA15A",
          "opacity": 0.3,
          "symbol": "cross"
         },
         "mode": "markers",
         "name": "139, 139",
         "showlegend": true,
         "type": "scattergl",
         "x": [
          7.320530001771554
         ],
         "xaxis": "x",
         "y": [
          -3.3641187488193762
         ],
         "yaxis": "y"
        },
        {
         "hovertemplate": "color=372<br>symbol=372<br>x=%{x}<br>y=%{y}<extra></extra>",
         "legendgroup": "372, 372",
         "marker": {
          "color": "#19d3f3",
          "opacity": 0.3,
          "symbol": "circle"
         },
         "mode": "markers",
         "name": "372, 372",
         "showlegend": true,
         "type": "scattergl",
         "x": [
          3.3146334629753116
         ],
         "xaxis": "x",
         "y": [
          0.04856331400348381
         ],
         "yaxis": "y"
        },
        {
         "hovertemplate": "color=36<br>symbol=36<br>x=%{x}<br>y=%{y}<extra></extra>",
         "legendgroup": "36, 36",
         "marker": {
          "color": "#FF6692",
          "opacity": 0.3,
          "symbol": "diamond"
         },
         "mode": "markers",
         "name": "36, 36",
         "showlegend": true,
         "type": "scattergl",
         "x": [
          7.869655992533407,
          8.985586699916372,
          4.8742877073763395,
          8.718701804552037
         ],
         "xaxis": "x",
         "y": [
          2.24378446514634,
          3.158427091273262,
          2.646382717696007,
          0.8256889808940343
         ],
         "yaxis": "y"
        },
        {
         "hovertemplate": "color=187<br>symbol=187<br>x=%{x}<br>y=%{y}<extra></extra>",
         "legendgroup": "187, 187",
         "marker": {
          "color": "#B6E880",
          "opacity": 0.3,
          "symbol": "square"
         },
         "mode": "markers",
         "name": "187, 187",
         "showlegend": true,
         "type": "scattergl",
         "x": [
          11.272180590322163,
          9.437373362332504,
          6.319799366083466,
          11.038783073176768
         ],
         "xaxis": "x",
         "y": [
          4.189346612960013,
          2.206138295291334,
          0.23431318174022842,
          1.3318352592048286
         ],
         "yaxis": "y"
        },
        {
         "hovertemplate": "color=344<br>symbol=344<br>x=%{x}<br>y=%{y}<extra></extra>",
         "legendgroup": "344, 344",
         "marker": {
          "color": "#FF97FF",
          "opacity": 0.3,
          "symbol": "x"
         },
         "mode": "markers",
         "name": "344, 344",
         "showlegend": true,
         "type": "scattergl",
         "x": [
          2.897616070881285
         ],
         "xaxis": "x",
         "y": [
          -7.707036145294805
         ],
         "yaxis": "y"
        },
        {
         "hovertemplate": "color=423<br>symbol=423<br>x=%{x}<br>y=%{y}<extra></extra>",
         "legendgroup": "423, 423",
         "marker": {
          "color": "#FECB52",
          "opacity": 0.3,
          "symbol": "cross"
         },
         "mode": "markers",
         "name": "423, 423",
         "showlegend": true,
         "type": "scattergl",
         "x": [
          3.17230633610471
         ],
         "xaxis": "x",
         "y": [
          -3.1142524557558455
         ],
         "yaxis": "y"
        },
        {
         "hovertemplate": "color=355<br>symbol=355<br>x=%{x}<br>y=%{y}<extra></extra>",
         "legendgroup": "355, 355",
         "marker": {
          "color": "#636efa",
          "opacity": 0.3,
          "symbol": "circle"
         },
         "mode": "markers",
         "name": "355, 355",
         "showlegend": true,
         "type": "scattergl",
         "x": [
          15.143927819629805
         ],
         "xaxis": "x",
         "y": [
          15.424869167254801
         ],
         "yaxis": "y"
        },
        {
         "hovertemplate": "color=392<br>symbol=392<br>x=%{x}<br>y=%{y}<extra></extra>",
         "legendgroup": "392, 392",
         "marker": {
          "color": "#EF553B",
          "opacity": 0.3,
          "symbol": "diamond"
         },
         "mode": "markers",
         "name": "392, 392",
         "showlegend": true,
         "type": "scattergl",
         "x": [
          -7.504247270844766
         ],
         "xaxis": "x",
         "y": [
          4.509536757225947
         ],
         "yaxis": "y"
        },
        {
         "hovertemplate": "color=215<br>symbol=215<br>x=%{x}<br>y=%{y}<extra></extra>",
         "legendgroup": "215, 215",
         "marker": {
          "color": "#00cc96",
          "opacity": 0.3,
          "symbol": "square"
         },
         "mode": "markers",
         "name": "215, 215",
         "showlegend": true,
         "type": "scattergl",
         "x": [
          15.730252524412682,
          15.740555754750119
         ],
         "xaxis": "x",
         "y": [
          17.704116847010983,
          17.64151055722376
         ],
         "yaxis": "y"
        },
        {
         "hovertemplate": "color=328<br>symbol=328<br>x=%{x}<br>y=%{y}<extra></extra>",
         "legendgroup": "328, 328",
         "marker": {
          "color": "#ab63fa",
          "opacity": 0.3,
          "symbol": "x"
         },
         "mode": "markers",
         "name": "328, 328",
         "showlegend": true,
         "type": "scattergl",
         "x": [
          4.007598254545809,
          4.271510859649215
         ],
         "xaxis": "x",
         "y": [
          -6.808049117505597,
          -2.2798061065408333
         ],
         "yaxis": "y"
        },
        {
         "hovertemplate": "color=330<br>symbol=330<br>x=%{x}<br>y=%{y}<extra></extra>",
         "legendgroup": "330, 330",
         "marker": {
          "color": "#FFA15A",
          "opacity": 0.3,
          "symbol": "cross"
         },
         "mode": "markers",
         "name": "330, 330",
         "showlegend": true,
         "type": "scattergl",
         "x": [
          2.805437282822592
         ],
         "xaxis": "x",
         "y": [
          -6.931851547474443
         ],
         "yaxis": "y"
        },
        {
         "hovertemplate": "color=374<br>symbol=374<br>x=%{x}<br>y=%{y}<extra></extra>",
         "legendgroup": "374, 374",
         "marker": {
          "color": "#19d3f3",
          "opacity": 0.3,
          "symbol": "circle"
         },
         "mode": "markers",
         "name": "374, 374",
         "showlegend": true,
         "type": "scattergl",
         "x": [
          2.184626658014312
         ],
         "xaxis": "x",
         "y": [
          0.2545036166265425
         ],
         "yaxis": "y"
        },
        {
         "hovertemplate": "color=176<br>symbol=176<br>x=%{x}<br>y=%{y}<extra></extra>",
         "legendgroup": "176, 176",
         "marker": {
          "color": "#FF6692",
          "opacity": 0.3,
          "symbol": "diamond"
         },
         "mode": "markers",
         "name": "176, 176",
         "showlegend": true,
         "type": "scattergl",
         "x": [
          -0.28095374789468897,
          1.093609777172703,
          -1.225210819485779
         ],
         "xaxis": "x",
         "y": [
          4.096333635261181,
          7.4447196295208835,
          5.617585359721921
         ],
         "yaxis": "y"
        },
        {
         "hovertemplate": "color=359<br>symbol=359<br>x=%{x}<br>y=%{y}<extra></extra>",
         "legendgroup": "359, 359",
         "marker": {
          "color": "#B6E880",
          "opacity": 0.3,
          "symbol": "square"
         },
         "mode": "markers",
         "name": "359, 359",
         "showlegend": true,
         "type": "scattergl",
         "x": [
          17.45672577442119
         ],
         "xaxis": "x",
         "y": [
          13.833467211768198
         ],
         "yaxis": "y"
        },
        {
         "hovertemplate": "color=42<br>symbol=42<br>x=%{x}<br>y=%{y}<extra></extra>",
         "legendgroup": "42, 42",
         "marker": {
          "color": "#FF97FF",
          "opacity": 0.3,
          "symbol": "x"
         },
         "mode": "markers",
         "name": "42, 42",
         "showlegend": true,
         "type": "scattergl",
         "x": [
          0.5256073255970886
         ],
         "xaxis": "x",
         "y": [
          -1.784878654953566
         ],
         "yaxis": "y"
        },
        {
         "hovertemplate": "color=153<br>symbol=153<br>x=%{x}<br>y=%{y}<extra></extra>",
         "legendgroup": "153, 153",
         "marker": {
          "color": "#FECB52",
          "opacity": 0.3,
          "symbol": "cross"
         },
         "mode": "markers",
         "name": "153, 153",
         "showlegend": true,
         "type": "scattergl",
         "x": [
          6.818772941504507
         ],
         "xaxis": "x",
         "y": [
          0.08704046465738251
         ],
         "yaxis": "y"
        },
        {
         "hovertemplate": "color=105<br>symbol=105<br>x=%{x}<br>y=%{y}<extra></extra>",
         "legendgroup": "105, 105",
         "marker": {
          "color": "#636efa",
          "opacity": 0.3,
          "symbol": "circle"
         },
         "mode": "markers",
         "name": "105, 105",
         "showlegend": true,
         "type": "scattergl",
         "x": [
          -0.20995023057657644
         ],
         "xaxis": "x",
         "y": [
          6.079173794231451
         ],
         "yaxis": "y"
        },
        {
         "hovertemplate": "color=291<br>symbol=291<br>x=%{x}<br>y=%{y}<extra></extra>",
         "legendgroup": "291, 291",
         "marker": {
          "color": "#EF553B",
          "opacity": 0.3,
          "symbol": "diamond"
         },
         "mode": "markers",
         "name": "291, 291",
         "showlegend": true,
         "type": "scattergl",
         "x": [
          0.08827274174249818
         ],
         "xaxis": "x",
         "y": [
          -4.07671928475984
         ],
         "yaxis": "y"
        },
        {
         "hovertemplate": "color=259<br>symbol=259<br>x=%{x}<br>y=%{y}<extra></extra>",
         "legendgroup": "259, 259",
         "marker": {
          "color": "#00cc96",
          "opacity": 0.3,
          "symbol": "square"
         },
         "mode": "markers",
         "name": "259, 259",
         "showlegend": true,
         "type": "scattergl",
         "x": [
          2.1779601268697397
         ],
         "xaxis": "x",
         "y": [
          2.202706804027792
         ],
         "yaxis": "y"
        },
        {
         "hovertemplate": "color=27<br>symbol=27<br>x=%{x}<br>y=%{y}<extra></extra>",
         "legendgroup": "27, 27",
         "marker": {
          "color": "#ab63fa",
          "opacity": 0.3,
          "symbol": "x"
         },
         "mode": "markers",
         "name": "27, 27",
         "showlegend": true,
         "type": "scattergl",
         "x": [
          -2.7834914708458864
         ],
         "xaxis": "x",
         "y": [
          -4.4510843740241475
         ],
         "yaxis": "y"
        },
        {
         "hovertemplate": "color=32<br>symbol=32<br>x=%{x}<br>y=%{y}<extra></extra>",
         "legendgroup": "32, 32",
         "marker": {
          "color": "#FFA15A",
          "opacity": 0.3,
          "symbol": "cross"
         },
         "mode": "markers",
         "name": "32, 32",
         "showlegend": true,
         "type": "scattergl",
         "x": [
          0.2225228179771393
         ],
         "xaxis": "x",
         "y": [
          -6.1563603461366325
         ],
         "yaxis": "y"
        },
        {
         "hovertemplate": "color=18<br>symbol=18<br>x=%{x}<br>y=%{y}<extra></extra>",
         "legendgroup": "18, 18",
         "marker": {
          "color": "#19d3f3",
          "opacity": 0.3,
          "symbol": "circle"
         },
         "mode": "markers",
         "name": "18, 18",
         "showlegend": true,
         "type": "scattergl",
         "x": [
          2.2609711173355906
         ],
         "xaxis": "x",
         "y": [
          -3.1463814427031935
         ],
         "yaxis": "y"
        },
        {
         "marker": {
          "color": "green",
          "size": 30
         },
         "mode": "markers",
         "text": "User interest \n user_id: 5890 \n category_id: 331",
         "type": "scatter",
         "x": [
          1.0135272151869879
         ],
         "y": [
          0.9541123550738876
         ]
        },
        {
         "marker": {
          "color": [
           0,
           1,
           2,
           3,
           4,
           5,
           6,
           7,
           8,
           9
          ],
          "size": 20
         },
         "mode": "markers",
         "text": [
          "rank: 0 / article_id: 272143 / category_id: 399",
          "rank: 1 / article_id: 123909 / category_id: 250",
          "rank: 2 / article_id: 168623 / category_id: 297",
          "rank: 3 / article_id: 336221 / category_id: 437",
          "rank: 4 / article_id: 336245 / category_id: 437",
          "rank: 5 / article_id: 183176 / category_id: 301",
          "rank: 6 / article_id: 96210 / category_id: 209",
          "rank: 7 / article_id: 160417 / category_id: 281",
          "rank: 8 / article_id: 331116 / category_id: 436",
          "rank: 9 / article_id: 336223 / category_id: 437"
         ],
         "type": "scatter",
         "x": [
          1.2999997896858737,
          -4.0319743364946214,
          -0.5403527105791105,
          3.714931866817011,
          6.392200653171613,
          -4.226888667368766,
          -1.6355545116914942,
          9.404821469912205,
          2.9023457440610017,
          5.319956203074862
         ],
         "y": [
          2.387123801806322,
          5.473047171058862,
          -2.855074579435407,
          0.4177555312861156,
          0.5559431984108095,
          0.6638845957195173,
          4.865977407539809,
          -3.7176015887370037,
          -0.7692099852962236,
          0.6324580348770837
         ]
        }
       ],
       "layout": {
        "height": 800,
        "legend": {
         "title": {
          "text": "color, symbol"
         },
         "tracegroupgap": 0
        },
        "template": {
         "data": {
          "bar": [
           {
            "error_x": {
             "color": "#2a3f5f"
            },
            "error_y": {
             "color": "#2a3f5f"
            },
            "marker": {
             "line": {
              "color": "#E5ECF6",
              "width": 0.5
             },
             "pattern": {
              "fillmode": "overlay",
              "size": 10,
              "solidity": 0.2
             }
            },
            "type": "bar"
           }
          ],
          "barpolar": [
           {
            "marker": {
             "line": {
              "color": "#E5ECF6",
              "width": 0.5
             },
             "pattern": {
              "fillmode": "overlay",
              "size": 10,
              "solidity": 0.2
             }
            },
            "type": "barpolar"
           }
          ],
          "carpet": [
           {
            "aaxis": {
             "endlinecolor": "#2a3f5f",
             "gridcolor": "white",
             "linecolor": "white",
             "minorgridcolor": "white",
             "startlinecolor": "#2a3f5f"
            },
            "baxis": {
             "endlinecolor": "#2a3f5f",
             "gridcolor": "white",
             "linecolor": "white",
             "minorgridcolor": "white",
             "startlinecolor": "#2a3f5f"
            },
            "type": "carpet"
           }
          ],
          "choropleth": [
           {
            "colorbar": {
             "outlinewidth": 0,
             "ticks": ""
            },
            "type": "choropleth"
           }
          ],
          "contour": [
           {
            "colorbar": {
             "outlinewidth": 0,
             "ticks": ""
            },
            "colorscale": [
             [
              0,
              "#0d0887"
             ],
             [
              0.1111111111111111,
              "#46039f"
             ],
             [
              0.2222222222222222,
              "#7201a8"
             ],
             [
              0.3333333333333333,
              "#9c179e"
             ],
             [
              0.4444444444444444,
              "#bd3786"
             ],
             [
              0.5555555555555556,
              "#d8576b"
             ],
             [
              0.6666666666666666,
              "#ed7953"
             ],
             [
              0.7777777777777778,
              "#fb9f3a"
             ],
             [
              0.8888888888888888,
              "#fdca26"
             ],
             [
              1,
              "#f0f921"
             ]
            ],
            "type": "contour"
           }
          ],
          "contourcarpet": [
           {
            "colorbar": {
             "outlinewidth": 0,
             "ticks": ""
            },
            "type": "contourcarpet"
           }
          ],
          "heatmap": [
           {
            "colorbar": {
             "outlinewidth": 0,
             "ticks": ""
            },
            "colorscale": [
             [
              0,
              "#0d0887"
             ],
             [
              0.1111111111111111,
              "#46039f"
             ],
             [
              0.2222222222222222,
              "#7201a8"
             ],
             [
              0.3333333333333333,
              "#9c179e"
             ],
             [
              0.4444444444444444,
              "#bd3786"
             ],
             [
              0.5555555555555556,
              "#d8576b"
             ],
             [
              0.6666666666666666,
              "#ed7953"
             ],
             [
              0.7777777777777778,
              "#fb9f3a"
             ],
             [
              0.8888888888888888,
              "#fdca26"
             ],
             [
              1,
              "#f0f921"
             ]
            ],
            "type": "heatmap"
           }
          ],
          "heatmapgl": [
           {
            "colorbar": {
             "outlinewidth": 0,
             "ticks": ""
            },
            "colorscale": [
             [
              0,
              "#0d0887"
             ],
             [
              0.1111111111111111,
              "#46039f"
             ],
             [
              0.2222222222222222,
              "#7201a8"
             ],
             [
              0.3333333333333333,
              "#9c179e"
             ],
             [
              0.4444444444444444,
              "#bd3786"
             ],
             [
              0.5555555555555556,
              "#d8576b"
             ],
             [
              0.6666666666666666,
              "#ed7953"
             ],
             [
              0.7777777777777778,
              "#fb9f3a"
             ],
             [
              0.8888888888888888,
              "#fdca26"
             ],
             [
              1,
              "#f0f921"
             ]
            ],
            "type": "heatmapgl"
           }
          ],
          "histogram": [
           {
            "marker": {
             "pattern": {
              "fillmode": "overlay",
              "size": 10,
              "solidity": 0.2
             }
            },
            "type": "histogram"
           }
          ],
          "histogram2d": [
           {
            "colorbar": {
             "outlinewidth": 0,
             "ticks": ""
            },
            "colorscale": [
             [
              0,
              "#0d0887"
             ],
             [
              0.1111111111111111,
              "#46039f"
             ],
             [
              0.2222222222222222,
              "#7201a8"
             ],
             [
              0.3333333333333333,
              "#9c179e"
             ],
             [
              0.4444444444444444,
              "#bd3786"
             ],
             [
              0.5555555555555556,
              "#d8576b"
             ],
             [
              0.6666666666666666,
              "#ed7953"
             ],
             [
              0.7777777777777778,
              "#fb9f3a"
             ],
             [
              0.8888888888888888,
              "#fdca26"
             ],
             [
              1,
              "#f0f921"
             ]
            ],
            "type": "histogram2d"
           }
          ],
          "histogram2dcontour": [
           {
            "colorbar": {
             "outlinewidth": 0,
             "ticks": ""
            },
            "colorscale": [
             [
              0,
              "#0d0887"
             ],
             [
              0.1111111111111111,
              "#46039f"
             ],
             [
              0.2222222222222222,
              "#7201a8"
             ],
             [
              0.3333333333333333,
              "#9c179e"
             ],
             [
              0.4444444444444444,
              "#bd3786"
             ],
             [
              0.5555555555555556,
              "#d8576b"
             ],
             [
              0.6666666666666666,
              "#ed7953"
             ],
             [
              0.7777777777777778,
              "#fb9f3a"
             ],
             [
              0.8888888888888888,
              "#fdca26"
             ],
             [
              1,
              "#f0f921"
             ]
            ],
            "type": "histogram2dcontour"
           }
          ],
          "mesh3d": [
           {
            "colorbar": {
             "outlinewidth": 0,
             "ticks": ""
            },
            "type": "mesh3d"
           }
          ],
          "parcoords": [
           {
            "line": {
             "colorbar": {
              "outlinewidth": 0,
              "ticks": ""
             }
            },
            "type": "parcoords"
           }
          ],
          "pie": [
           {
            "automargin": true,
            "type": "pie"
           }
          ],
          "scatter": [
           {
            "fillpattern": {
             "fillmode": "overlay",
             "size": 10,
             "solidity": 0.2
            },
            "type": "scatter"
           }
          ],
          "scatter3d": [
           {
            "line": {
             "colorbar": {
              "outlinewidth": 0,
              "ticks": ""
             }
            },
            "marker": {
             "colorbar": {
              "outlinewidth": 0,
              "ticks": ""
             }
            },
            "type": "scatter3d"
           }
          ],
          "scattercarpet": [
           {
            "marker": {
             "colorbar": {
              "outlinewidth": 0,
              "ticks": ""
             }
            },
            "type": "scattercarpet"
           }
          ],
          "scattergeo": [
           {
            "marker": {
             "colorbar": {
              "outlinewidth": 0,
              "ticks": ""
             }
            },
            "type": "scattergeo"
           }
          ],
          "scattergl": [
           {
            "marker": {
             "colorbar": {
              "outlinewidth": 0,
              "ticks": ""
             }
            },
            "type": "scattergl"
           }
          ],
          "scattermapbox": [
           {
            "marker": {
             "colorbar": {
              "outlinewidth": 0,
              "ticks": ""
             }
            },
            "type": "scattermapbox"
           }
          ],
          "scatterpolar": [
           {
            "marker": {
             "colorbar": {
              "outlinewidth": 0,
              "ticks": ""
             }
            },
            "type": "scatterpolar"
           }
          ],
          "scatterpolargl": [
           {
            "marker": {
             "colorbar": {
              "outlinewidth": 0,
              "ticks": ""
             }
            },
            "type": "scatterpolargl"
           }
          ],
          "scatterternary": [
           {
            "marker": {
             "colorbar": {
              "outlinewidth": 0,
              "ticks": ""
             }
            },
            "type": "scatterternary"
           }
          ],
          "surface": [
           {
            "colorbar": {
             "outlinewidth": 0,
             "ticks": ""
            },
            "colorscale": [
             [
              0,
              "#0d0887"
             ],
             [
              0.1111111111111111,
              "#46039f"
             ],
             [
              0.2222222222222222,
              "#7201a8"
             ],
             [
              0.3333333333333333,
              "#9c179e"
             ],
             [
              0.4444444444444444,
              "#bd3786"
             ],
             [
              0.5555555555555556,
              "#d8576b"
             ],
             [
              0.6666666666666666,
              "#ed7953"
             ],
             [
              0.7777777777777778,
              "#fb9f3a"
             ],
             [
              0.8888888888888888,
              "#fdca26"
             ],
             [
              1,
              "#f0f921"
             ]
            ],
            "type": "surface"
           }
          ],
          "table": [
           {
            "cells": {
             "fill": {
              "color": "#EBF0F8"
             },
             "line": {
              "color": "white"
             }
            },
            "header": {
             "fill": {
              "color": "#C8D4E3"
             },
             "line": {
              "color": "white"
             }
            },
            "type": "table"
           }
          ]
         },
         "layout": {
          "annotationdefaults": {
           "arrowcolor": "#2a3f5f",
           "arrowhead": 0,
           "arrowwidth": 1
          },
          "autotypenumbers": "strict",
          "coloraxis": {
           "colorbar": {
            "outlinewidth": 0,
            "ticks": ""
           }
          },
          "colorscale": {
           "diverging": [
            [
             0,
             "#8e0152"
            ],
            [
             0.1,
             "#c51b7d"
            ],
            [
             0.2,
             "#de77ae"
            ],
            [
             0.3,
             "#f1b6da"
            ],
            [
             0.4,
             "#fde0ef"
            ],
            [
             0.5,
             "#f7f7f7"
            ],
            [
             0.6,
             "#e6f5d0"
            ],
            [
             0.7,
             "#b8e186"
            ],
            [
             0.8,
             "#7fbc41"
            ],
            [
             0.9,
             "#4d9221"
            ],
            [
             1,
             "#276419"
            ]
           ],
           "sequential": [
            [
             0,
             "#0d0887"
            ],
            [
             0.1111111111111111,
             "#46039f"
            ],
            [
             0.2222222222222222,
             "#7201a8"
            ],
            [
             0.3333333333333333,
             "#9c179e"
            ],
            [
             0.4444444444444444,
             "#bd3786"
            ],
            [
             0.5555555555555556,
             "#d8576b"
            ],
            [
             0.6666666666666666,
             "#ed7953"
            ],
            [
             0.7777777777777778,
             "#fb9f3a"
            ],
            [
             0.8888888888888888,
             "#fdca26"
            ],
            [
             1,
             "#f0f921"
            ]
           ],
           "sequentialminus": [
            [
             0,
             "#0d0887"
            ],
            [
             0.1111111111111111,
             "#46039f"
            ],
            [
             0.2222222222222222,
             "#7201a8"
            ],
            [
             0.3333333333333333,
             "#9c179e"
            ],
            [
             0.4444444444444444,
             "#bd3786"
            ],
            [
             0.5555555555555556,
             "#d8576b"
            ],
            [
             0.6666666666666666,
             "#ed7953"
            ],
            [
             0.7777777777777778,
             "#fb9f3a"
            ],
            [
             0.8888888888888888,
             "#fdca26"
            ],
            [
             1,
             "#f0f921"
            ]
           ]
          },
          "colorway": [
           "#636efa",
           "#EF553B",
           "#00cc96",
           "#ab63fa",
           "#FFA15A",
           "#19d3f3",
           "#FF6692",
           "#B6E880",
           "#FF97FF",
           "#FECB52"
          ],
          "font": {
           "color": "#2a3f5f"
          },
          "geo": {
           "bgcolor": "white",
           "lakecolor": "white",
           "landcolor": "#E5ECF6",
           "showlakes": true,
           "showland": true,
           "subunitcolor": "white"
          },
          "hoverlabel": {
           "align": "left"
          },
          "hovermode": "closest",
          "mapbox": {
           "style": "light"
          },
          "paper_bgcolor": "white",
          "plot_bgcolor": "#E5ECF6",
          "polar": {
           "angularaxis": {
            "gridcolor": "white",
            "linecolor": "white",
            "ticks": ""
           },
           "bgcolor": "#E5ECF6",
           "radialaxis": {
            "gridcolor": "white",
            "linecolor": "white",
            "ticks": ""
           }
          },
          "scene": {
           "xaxis": {
            "backgroundcolor": "#E5ECF6",
            "gridcolor": "white",
            "gridwidth": 2,
            "linecolor": "white",
            "showbackground": true,
            "ticks": "",
            "zerolinecolor": "white"
           },
           "yaxis": {
            "backgroundcolor": "#E5ECF6",
            "gridcolor": "white",
            "gridwidth": 2,
            "linecolor": "white",
            "showbackground": true,
            "ticks": "",
            "zerolinecolor": "white"
           },
           "zaxis": {
            "backgroundcolor": "#E5ECF6",
            "gridcolor": "white",
            "gridwidth": 2,
            "linecolor": "white",
            "showbackground": true,
            "ticks": "",
            "zerolinecolor": "white"
           }
          },
          "shapedefaults": {
           "line": {
            "color": "#2a3f5f"
           }
          },
          "ternary": {
           "aaxis": {
            "gridcolor": "white",
            "linecolor": "white",
            "ticks": ""
           },
           "baxis": {
            "gridcolor": "white",
            "linecolor": "white",
            "ticks": ""
           },
           "bgcolor": "#E5ECF6",
           "caxis": {
            "gridcolor": "white",
            "linecolor": "white",
            "ticks": ""
           }
          },
          "title": {
           "x": 0.05
          },
          "xaxis": {
           "automargin": true,
           "gridcolor": "white",
           "linecolor": "white",
           "ticks": "",
           "title": {
            "standoff": 15
           },
           "zerolinecolor": "white",
           "zerolinewidth": 2
          },
          "yaxis": {
           "automargin": true,
           "gridcolor": "white",
           "linecolor": "white",
           "ticks": "",
           "title": {
            "standoff": 15
           },
           "zerolinecolor": "white",
           "zerolinewidth": 2
          }
         }
        },
        "title": {
         "text": "PCA 2D"
        },
        "width": 1200,
        "xaxis": {
         "anchor": "y",
         "domain": [
          0,
          1
         ],
         "title": {
          "text": "x"
         }
        },
        "yaxis": {
         "anchor": "x",
         "domain": [
          0,
          1
         ],
         "title": {
          "text": "y"
         }
        }
       }
      }
     },
     "metadata": {},
     "output_type": "display_data"
    }
   ],
   "source": [
    "pca = PCA(n_components=2)\n",
    "articles_pca = pca.fit_transform(articles_sample_std)\n",
    "interest_pca = pca.transform(interest_std)\n",
    "closest_articles_pca = pca.transform(closest_articles_std)\n",
    "\n",
    "\n",
    "# Plot the data in the PCA space\n",
    "fig = px.scatter(\n",
    "    x=articles_pca[:, 0],\n",
    "    y=articles_pca[:, 1],\n",
    "    color=articles_sample[\"category_id\"],\n",
    "    symbol=articles_sample[\"category_id\"],\n",
    "    title=\"PCA 2D\",\n",
    "    opacity=0.3,\n",
    "    width=1200,\n",
    "    height=800,\n",
    ")\n",
    "fig.add_scatter(\n",
    "    x=interest_pca[:, 0],\n",
    "    y=interest_pca[:, 1],\n",
    "    mode=\"markers\",\n",
    "    marker=dict(color=\"green\", size=30),\n",
    "    text=f\"User interest \\n user_id: {user_id} \\n category_id: {interest['category_id'].iloc[0]}\",\n",
    ")\n",
    "fig.add_scatter(\n",
    "    x=closest_articles_pca[:, 0],\n",
    "    y=closest_articles_pca[:, 1],\n",
    "    mode=\"markers\",\n",
    "    marker=dict(color=list(range(len(closest_articles_pca))), size=20),\n",
    "    text=[\n",
    "        f\"rank: {i} / article_id: {a.article_id} / category_id: {a.category_id}\"\n",
    "        for i, a in enumerate(closest_articles.itertuples())\n",
    "    ],\n",
    ")\n",
    "fig.show()"
   ]
  },
  {
   "cell_type": "code",
   "execution_count": 25,
   "metadata": {},
   "outputs": [
    {
     "data": {
      "application/vnd.plotly.v1+json": {
       "config": {
        "plotlyServerURL": "https://plot.ly"
       },
       "data": [
        {
         "hovertemplate": "color=174<br>symbol=174<br>x=%{x}<br>y=%{y}<extra></extra>",
         "legendgroup": "174, 174",
         "marker": {
          "color": "#636efa",
          "opacity": 0.3,
          "symbol": "circle"
         },
         "mode": "markers",
         "name": "174, 174",
         "showlegend": true,
         "type": "scattergl",
         "x": [
          -43.45306396484375,
          -49.93343734741211,
          -43.273887634277344,
          -49.34526443481445,
          -49.638797760009766,
          -52.48952865600586,
          -50.99494171142578,
          7.015323638916016,
          -43.916934967041016,
          -45.65501022338867,
          -52.65471649169922,
          -48.56284713745117,
          -48.913089752197266,
          -44.49639892578125,
          -51.19864273071289,
          -45.87755584716797,
          -46.622047424316406,
          -49.07460403442383,
          -49.32588195800781,
          -46.627662658691406,
          -44.54302215576172,
          -45.574684143066406,
          -50.63948059082031,
          -47.40812683105469,
          -50.28525161743164,
          -44.51456069946289,
          -48.896060943603516,
          -44.55693054199219,
          2.4948532581329346,
          -49.40133285522461,
          -49.59743881225586,
          -48.52345275878906,
          -51.90816116333008,
          -42.89358901977539,
          -50.8261833190918,
          -49.60932159423828,
          -46.85791778564453,
          -46.40285110473633,
          -53.450740814208984,
          -51.16997146606445,
          -43.607147216796875,
          -48.58144760131836,
          -47.22892761230469,
          -43.752723693847656,
          -49.84788131713867,
          -44.431339263916016,
          21.225908279418945,
          -51.903228759765625,
          -51.95588302612305,
          -3.5047857761383057,
          -46.06586837768555,
          -47.32312774658203,
          -47.183929443359375,
          -45.9315071105957,
          -49.87454605102539,
          -50.57697296142578,
          -44.364498138427734,
          -50.07805252075195,
          -45.93520736694336,
          -43.62517547607422,
          -52.6209831237793,
          -44.01490783691406,
          -44.98081970214844,
          -50.496849060058594,
          -44.2601318359375,
          -49.214134216308594,
          -46.83584976196289,
          -44.6519889831543,
          -47.635093688964844,
          -49.409305572509766,
          -49.380645751953125,
          -42.59696578979492
         ],
         "xaxis": "x",
         "y": [
          -44.779842376708984,
          -43.48301696777344,
          -45.95747375488281,
          -44.85453796386719,
          -43.75804138183594,
          -42.85223388671875,
          -39.83491897583008,
          26.570796966552734,
          -45.39926528930664,
          -44.53488540649414,
          -44.67544937133789,
          -42.72228240966797,
          -42.25030517578125,
          -45.13119888305664,
          -40.13691329956055,
          -43.947288513183594,
          -45.003421783447266,
          -41.61114501953125,
          -40.8403434753418,
          -47.692466735839844,
          -45.98810958862305,
          -44.10396957397461,
          -41.61517333984375,
          -42.2021369934082,
          -42.51603317260742,
          -46.57843017578125,
          -44.2966194152832,
          -44.65053176879883,
          28.227720260620117,
          -42.7394905090332,
          -41.31075668334961,
          -42.97526168823242,
          -43.366905212402344,
          -46.17498016357422,
          -42.88302993774414,
          -41.90412902832031,
          -48.354217529296875,
          -46.20021057128906,
          -42.55122375488281,
          -41.522029876708984,
          -44.87602233886719,
          -42.46533203125,
          -43.400611877441406,
          -41.494144439697266,
          -45.68088150024414,
          -47.93312072753906,
          11.015217781066895,
          -41.19289016723633,
          -44.68484878540039,
          -18.977760314941406,
          -45.31537628173828,
          -46.19132614135742,
          -44.89968490600586,
          -45.89683151245117,
          -42.42453384399414,
          -43.54077911376953,
          -46.320133209228516,
          -43.92679214477539,
          -45.62727737426758,
          -45.41774368286133,
          -42.99164962768555,
          -44.24612045288086,
          -46.081424713134766,
          -48.703861236572266,
          -46.358123779296875,
          -43.52951431274414,
          -41.394474029541016,
          -45.26852798461914,
          -41.83866500854492,
          -43.83855056762695,
          -38.97806930541992,
          -44.025421142578125
         ],
         "yaxis": "y"
        },
        {
         "hovertemplate": "color=331<br>symbol=331<br>x=%{x}<br>y=%{y}<extra></extra>",
         "legendgroup": "331, 331",
         "marker": {
          "color": "#EF553B",
          "opacity": 0.3,
          "symbol": "diamond"
         },
         "mode": "markers",
         "name": "331, 331",
         "showlegend": true,
         "type": "scattergl",
         "x": [
          21.5257511138916,
          26.527746200561523,
          22.350360870361328,
          21.939842224121094,
          23.002370834350586,
          26.965896606445312,
          6.960239887237549,
          29.59978485107422,
          28.00355339050293,
          25.576801300048828,
          22.880666732788086,
          21.24350929260254,
          -18.62587547302246,
          -4.498302936553955,
          25.686716079711914,
          26.006040573120117,
          25.003128051757812,
          23.42060089111328,
          23.77696418762207,
          23.678255081176758,
          23.76970100402832,
          22.10724639892578,
          22.29157829284668,
          -9.051259994506836,
          27.249704360961914,
          22.07415199279785,
          24.937149047851562,
          8.275697708129883,
          -5.47883415222168,
          -29.212751388549805,
          21.922876358032227,
          25.793764114379883,
          24.481948852539062,
          27.642425537109375,
          23.305742263793945,
          22.628774642944336,
          -18.885520935058594,
          21.79376983642578,
          23.74081039428711,
          27.992055892944336,
          22.55974769592285
         ],
         "xaxis": "x",
         "y": [
          7.208688735961914,
          16.758745193481445,
          14.770391464233398,
          22.64359474182129,
          13.094484329223633,
          16.882953643798828,
          -14.678762435913086,
          15.253548622131348,
          16.959043502807617,
          16.25019645690918,
          15.851741790771484,
          18.011119842529297,
          17.63580322265625,
          -0.6062445044517517,
          16.42971420288086,
          17.46641731262207,
          18.013072967529297,
          17.28777313232422,
          19.518001556396484,
          16.18370819091797,
          13.847804069519043,
          13.168968200683594,
          14.712428092956543,
          -3.75264835357666,
          19.666479110717773,
          16.704784393310547,
          18.71877098083496,
          59.714725494384766,
          -7.849552154541016,
          25.538829803466797,
          15.20871353149414,
          13.474937438964844,
          16.935728073120117,
          19.863000869750977,
          23.02594566345215,
          15.194377899169922,
          18.31211280822754,
          20.67757225036621,
          13.882401466369629,
          17.208627700805664,
          12.508268356323242
         ],
         "yaxis": "y"
        },
        {
         "hovertemplate": "color=209<br>symbol=209<br>x=%{x}<br>y=%{y}<extra></extra>",
         "legendgroup": "209, 209",
         "marker": {
          "color": "#00cc96",
          "opacity": 0.3,
          "symbol": "square"
         },
         "mode": "markers",
         "name": "209, 209",
         "showlegend": true,
         "type": "scattergl",
         "x": [
          51.31557083129883,
          53.89046859741211,
          54.168800354003906,
          51.7159423828125,
          54.103912353515625,
          52.3797492980957,
          54.0698356628418,
          53.61117172241211,
          53.89895248413086,
          53.597225189208984,
          52.48100280761719,
          57.58015441894531,
          52.4229621887207,
          53.1017951965332,
          0.25999876856803894,
          53.0447883605957,
          50.62080764770508,
          55.655574798583984,
          53.346458435058594,
          55.88490676879883,
          52.65724182128906,
          52.628421783447266,
          51.69017791748047,
          53.097618103027344,
          53.56379699707031,
          53.29914093017578,
          52.7076416015625,
          51.76810073852539,
          53.3117790222168,
          -0.14334899187088013,
          55.02473449707031,
          52.571876525878906,
          56.23936080932617,
          51.96278762817383,
          54.7060661315918,
          56.02281951904297,
          55.128074645996094,
          53.42098617553711,
          52.47450637817383,
          54.15436935424805,
          52.62079620361328,
          53.359066009521484,
          51.19234848022461,
          53.602657318115234,
          56.27254867553711,
          55.30099868774414,
          51.869300842285156,
          50.90584945678711,
          55.44777297973633,
          50.97958755493164,
          53.905155181884766
         ],
         "xaxis": "x",
         "y": [
          31.189041137695312,
          24.714582443237305,
          30.67827033996582,
          21.450830459594727,
          29.333925247192383,
          29.335391998291016,
          28.209903717041016,
          25.14875602722168,
          31.843517303466797,
          23.302827835083008,
          21.88690185546875,
          23.037614822387695,
          27.551076889038086,
          25.149356842041016,
          -10.35694694519043,
          23.98431396484375,
          31.476198196411133,
          26.333087921142578,
          29.222427368164062,
          26.928585052490234,
          29.945201873779297,
          21.93064308166504,
          21.376821517944336,
          24.178146362304688,
          30.001991271972656,
          30.69007110595703,
          29.357969284057617,
          25.405879974365234,
          28.5473575592041,
          -10.92304801940918,
          26.626501083374023,
          31.48076057434082,
          27.392635345458984,
          25.576908111572266,
          31.482303619384766,
          26.196557998657227,
          32.343265533447266,
          30.928781509399414,
          30.925519943237305,
          24.613937377929688,
          24.191757202148438,
          24.854402542114258,
          24.12255859375,
          23.199460983276367,
          27.181678771972656,
          24.847000122070312,
          27.37955093383789,
          27.115650177001953,
          28.37131118774414,
          26.059459686279297,
          27.228864669799805
         ],
         "yaxis": "y"
        },
        {
         "hovertemplate": "color=317<br>symbol=317<br>x=%{x}<br>y=%{y}<extra></extra>",
         "legendgroup": "317, 317",
         "marker": {
          "color": "#ab63fa",
          "opacity": 0.3,
          "symbol": "x"
         },
         "mode": "markers",
         "name": "317, 317",
         "showlegend": true,
         "type": "scattergl",
         "x": [
          5.046834945678711,
          1.1013414859771729,
          -0.6596115231513977,
          2.9281835556030273,
          4.569297790527344,
          2.009523630142212,
          2.8729212284088135,
          3.8534929752349854,
          4.339145660400391,
          2.17427921295166,
          1.0088129043579102,
          0.585646390914917,
          5.322387218475342,
          1.3557391166687012,
          6.022493839263916,
          2.9546573162078857,
          0.7263055443763733,
          1.7787543535232544,
          1.7205979824066162,
          21.740442276000977,
          4.690122127532959,
          5.758415222167969,
          5.121873378753662,
          3.4237921237945557,
          -0.06890913844108582,
          -1.3010601997375488,
          -0.19068820774555206,
          2.0268044471740723,
          5.713783264160156,
          2.5156142711639404,
          4.4679179191589355,
          2.4500017166137695,
          1.8113199472427368,
          0.532467782497406
         ],
         "xaxis": "x",
         "y": [
          -56.822120666503906,
          -56.328941345214844,
          -57.014625549316406,
          -58.81739044189453,
          -57.39124298095703,
          -55.732540130615234,
          -59.19499969482422,
          -58.33658981323242,
          -57.73035430908203,
          -56.420684814453125,
          -55.80310821533203,
          -56.27216720581055,
          -56.896541595458984,
          -56.423831939697266,
          -56.654075622558594,
          -60.38706970214844,
          -56.77246856689453,
          -56.38999938964844,
          -55.85758972167969,
          9.586835861206055,
          -56.923789978027344,
          -57.34602737426758,
          -59.777774810791016,
          -55.801429748535156,
          -55.904232025146484,
          -55.27436447143555,
          -56.74253463745117,
          -55.22272491455078,
          -58.72201156616211,
          -21.085010528564453,
          -59.19318771362305,
          -58.94044494628906,
          -59.710819244384766,
          -56.56623840332031
         ],
         "yaxis": "y"
        },
        {
         "hovertemplate": "color=431<br>symbol=431<br>x=%{x}<br>y=%{y}<extra></extra>",
         "legendgroup": "431, 431",
         "marker": {
          "color": "#FFA15A",
          "opacity": 0.3,
          "symbol": "cross"
         },
         "mode": "markers",
         "name": "431, 431",
         "showlegend": true,
         "type": "scattergl",
         "x": [
          -61.570125579833984,
          -43.62100601196289,
          -46.89742660522461,
          -36.29925537109375,
          -41.674625396728516,
          -46.34362030029297,
          -48.49925231933594,
          -43.646549224853516,
          -44.98408508300781,
          3.971496343612671,
          -48.3753662109375,
          -43.15559387207031,
          -45.23316192626953,
          -16.984285354614258,
          -43.600738525390625,
          -46.34111404418945,
          -47.58836364746094,
          -44.130287170410156,
          69.32881927490234,
          -44.46564865112305,
          -48.10055923461914,
          -17.397642135620117,
          5.469566345214844,
          5.550183296203613,
          -44.31431579589844,
          -43.91783142089844,
          -49.453067779541016,
          -4.731535911560059,
          -45.73052215576172,
          -60.315433502197266,
          -43.88227844238281,
          -19.200397491455078,
          -45.06454086303711,
          -46.642974853515625,
          -43.5294303894043,
          -18.381752014160156,
          -43.050968170166016,
          -17.26871109008789,
          6.092586994171143,
          -45.275177001953125,
          -44.996826171875,
          -46.15610885620117,
          -41.227630615234375,
          -45.78849792480469,
          -41.74113464355469,
          -44.5920295715332,
          10.002016067504883,
          -45.574546813964844,
          5.282341003417969,
          -45.775272369384766,
          -4.7691192626953125,
          -45.453243255615234,
          2.385331153869629,
          -46.459659576416016,
          -4.4398417472839355,
          -18.027265548706055,
          -19.11935043334961,
          -3.95251727104187,
          -44.70097351074219,
          -45.99326705932617,
          -43.309688568115234,
          -40.029205322265625,
          -17.445959091186523,
          -3.535327911376953,
          -47.51367950439453,
          30.073421478271484,
          -43.62401580810547,
          -61.66857147216797,
          -21.37984275817871,
          -43.79920959472656,
          -43.57952117919922,
          -18.240530014038086,
          -45.26056671142578,
          -18.974279403686523,
          -45.23693084716797,
          -40.11690902709961,
          -44.916648864746094,
          -39.442054748535156,
          -17.389514923095703,
          3.6615777015686035,
          -44.31974792480469,
          -46.86851501464844
         ],
         "xaxis": "x",
         "y": [
          2.9742586612701416,
          13.178722381591797,
          19.075063705444336,
          -7.029023170471191,
          15.737566947937012,
          13.602103233337402,
          8.065803527832031,
          10.313426971435547,
          16.65461540222168,
          26.850488662719727,
          10.086691856384277,
          13.904786109924316,
          14.476234436035156,
          8.29184341430664,
          11.709578514099121,
          14.839455604553223,
          18.259937286376953,
          11.194866180419922,
          8.844816207885742,
          12.130167961120605,
          16.906734466552734,
          7.28538179397583,
          -16.905961990356445,
          29.601247787475586,
          15.845288276672363,
          15.375029563903809,
          17.144054412841797,
          24.84334373474121,
          15.857540130615234,
          5.751712799072266,
          11.603917121887207,
          1.9754843711853027,
          13.980116844177246,
          14.970396995544434,
          15.777729988098145,
          4.190266132354736,
          15.651555061340332,
          8.536041259765625,
          18.11579704284668,
          15.172051429748535,
          13.356331825256348,
          18.288036346435547,
          15.770857810974121,
          9.669366836547852,
          18.24541473388672,
          11.31174373626709,
          5.884579658508301,
          18.35402488708496,
          -16.918807983398438,
          10.42426872253418,
          24.841386795043945,
          15.251319885253906,
          18.4517879486084,
          14.919817924499512,
          23.55615997314453,
          5.860475063323975,
          2.431226968765259,
          -16.95681381225586,
          17.188371658325195,
          18.32486915588379,
          11.348628997802734,
          13.554459571838379,
          8.599356651306152,
          39.06821823120117,
          14.729711532592773,
          29.656864166259766,
          14.570494651794434,
          2.6763968467712402,
          3.300515651702881,
          11.763444900512695,
          12.811467170715332,
          4.088303565979004,
          14.941003799438477,
          2.9356582164764404,
          17.12737274169922,
          13.698721885681152,
          15.358979225158691,
          11.0857515335083,
          7.214676856994629,
          30.17342758178711,
          15.25121021270752,
          16.095956802368164
         ],
         "yaxis": "y"
        },
        {
         "hovertemplate": "color=117<br>symbol=117<br>x=%{x}<br>y=%{y}<extra></extra>",
         "legendgroup": "117, 117",
         "marker": {
          "color": "#19d3f3",
          "opacity": 0.3,
          "symbol": "circle"
         },
         "mode": "markers",
         "name": "117, 117",
         "showlegend": true,
         "type": "scattergl",
         "x": [
          34.03410720825195,
          33.954105377197266
         ],
         "xaxis": "x",
         "y": [
          27.87701988220215,
          37.674415588378906
         ],
         "yaxis": "y"
        },
        {
         "hovertemplate": "color=281<br>symbol=281<br>x=%{x}<br>y=%{y}<extra></extra>",
         "legendgroup": "281, 281",
         "marker": {
          "color": "#FF6692",
          "opacity": 0.3,
          "symbol": "diamond"
         },
         "mode": "markers",
         "name": "281, 281",
         "showlegend": true,
         "type": "scattergl",
         "x": [
          10.07469654083252,
          11.517085075378418,
          6.982985496520996,
          10.159043312072754,
          13.478863716125488,
          2.2996530532836914,
          13.67346477508545,
          3.8095762729644775,
          5.325990200042725,
          2.063575506210327,
          -17.25745964050293,
          13.15837287902832,
          14.844057083129883,
          5.718594551086426,
          1.3289633989334106,
          12.158077239990234,
          12.164297103881836,
          18.713035583496094,
          14.113531112670898,
          11.421396255493164,
          9.992703437805176,
          8.634368896484375,
          2.397134304046631,
          12.780080795288086,
          12.751507759094238,
          15.095401763916016,
          11.341411590576172,
          12.121827125549316,
          10.310651779174805,
          14.835526466369629,
          24.657684326171875,
          5.554268836975098,
          5.704781532287598,
          14.8245210647583,
          8.196182250976562,
          5.376863479614258,
          12.993748664855957,
          3.3464014530181885,
          11.02151107788086,
          11.902666091918945,
          3.6006274223327637,
          5.671598434448242,
          1.5699398517608643,
          3.497506856918335,
          10.862205505371094,
          5.568911552429199,
          14.045609474182129,
          9.825804710388184,
          14.56278133392334,
          11.901787757873535,
          11.381146430969238,
          4.898670673370361,
          10.684178352355957,
          5.628514289855957,
          1.815463662147522,
          12.43376350402832,
          15.531728744506836,
          11.991067886352539,
          12.865592002868652,
          12.14933967590332,
          3.9085347652435303,
          11.068299293518066,
          5.087167263031006,
          13.956157684326172,
          3.7572102546691895,
          12.089668273925781,
          10.826058387756348,
          2.572671413421631,
          15.764303207397461,
          10.4711275100708,
          3.539017677307129,
          9.794173240661621,
          7.216358661651611,
          6.137086868286133,
          12.132637023925781,
          8.168270111083984,
          13.50171947479248,
          6.614597320556641,
          10.070111274719238,
          11.863363265991211,
          10.78873062133789,
          2.3484742641448975,
          4.795245170593262,
          12.24038314819336,
          3.560245990753174,
          9.026597023010254,
          17.319028854370117,
          4.1763153076171875,
          6.1999287605285645,
          4.919509410858154,
          9.922831535339355,
          4.788141250610352,
          4.236031532287598,
          2.539623498916626,
          13.447306632995605,
          13.246875762939453,
          14.262348175048828,
          13.067911148071289,
          13.781956672668457,
          10.129518508911133,
          6.5915703773498535,
          14.596213340759277,
          5.587287902832031,
          13.294780731201172,
          13.453503608703613,
          4.623961925506592,
          13.966374397277832,
          11.631628036499023,
          1.5833157300949097,
          4.914610385894775,
          2.1088292598724365,
          10.298338890075684,
          13.624907493591309,
          60.83778762817383,
          11.22464656829834,
          7.134033679962158,
          3.005610466003418,
          12.335423469543457,
          10.610831260681152,
          23.23695945739746,
          3.970249652862549,
          4.848038673400879,
          6.198852062225342,
          10.73939037322998,
          2.859729290008545,
          13.215327262878418,
          11.823168754577637
         ],
         "xaxis": "x",
         "y": [
          17.543746948242188,
          15.895545959472656,
          13.634440422058105,
          19.724103927612305,
          12.03639030456543,
          -0.4766961336135864,
          16.92212677001953,
          -2.351170063018799,
          22.021461486816406,
          -5.523120403289795,
          20.508056640625,
          13.27660083770752,
          14.4971923828125,
          -1.3604650497436523,
          -0.7956690192222595,
          11.602090835571289,
          13.786215782165527,
          12.90542984008789,
          9.747393608093262,
          12.576613426208496,
          12.535126686096191,
          11.669312477111816,
          -2.0008137226104736,
          15.328282356262207,
          12.432473182678223,
          10.559479713439941,
          8.649065971374512,
          18.268234252929688,
          13.746810913085938,
          11.883719444274902,
          15.480137825012207,
          -1.9931374788284302,
          -1.453140139579773,
          15.907361030578613,
          17.887414932250977,
          -1.4430099725723267,
          11.418935775756836,
          -3.5727462768554688,
          11.705430030822754,
          15.491593360900879,
          1.0862274169921875,
          13.873051643371582,
          -5.2673211097717285,
          -4.863900661468506,
          12.995293617248535,
          -5.273589611053467,
          12.469454765319824,
          17.925045013427734,
          13.057832717895508,
          11.680001258850098,
          10.27821159362793,
          15.14880657196045,
          16.392471313476562,
          -3.1617727279663086,
          -4.295994758605957,
          14.404850959777832,
          13.008993148803711,
          14.628597259521484,
          12.865983009338379,
          11.381246566772461,
          10.68846607208252,
          15.728753089904785,
          12.003971099853516,
          14.70659351348877,
          -0.23097220063209534,
          16.027263641357422,
          31.512950897216797,
          0.3125362992286682,
          10.603253364562988,
          16.499876022338867,
          -4.586498260498047,
          15.990358352661133,
          -1.9038296937942505,
          13.21933650970459,
          11.871355056762695,
          17.531705856323242,
          12.162796974182129,
          -2.6592113971710205,
          9.698892593383789,
          17.062217712402344,
          15.278705596923828,
          -5.785058975219727,
          12.277032852172852,
          12.772724151611328,
          -2.1336097717285156,
          34.40089797973633,
          0.61601722240448,
          -1.2968395948410034,
          -3.124061107635498,
          13.886402130126953,
          17.01389503479004,
          -5.687472343444824,
          -3.0784385204315186,
          -5.240997791290283,
          11.121315002441406,
          15.937309265136719,
          11.411994934082031,
          16.862388610839844,
          13.225882530212402,
          9.994626998901367,
          -2.377739667892456,
          14.770722389221191,
          13.686385154724121,
          7.760895729064941,
          9.105047225952148,
          -1.2233599424362183,
          10.419368743896484,
          12.707053184509277,
          -4.580745697021484,
          -3.424412965774536,
          -3.1765754222869873,
          14.494545936584473,
          11.117767333984375,
          0.18305601179599762,
          13.105883598327637,
          13.68599796295166,
          12.608281135559082,
          9.816341400146484,
          11.340511322021484,
          4.421446800231934,
          15.404969215393066,
          -3.031404733657837,
          13.222817420959473,
          11.45163345336914,
          0.6917140483856201,
          10.721176147460938,
          16.584327697753906
         ],
         "yaxis": "y"
        },
        {
         "hovertemplate": "color=388<br>symbol=388<br>x=%{x}<br>y=%{y}<extra></extra>",
         "legendgroup": "388, 388",
         "marker": {
          "color": "#B6E880",
          "opacity": 0.3,
          "symbol": "square"
         },
         "mode": "markers",
         "name": "388, 388",
         "showlegend": true,
         "type": "scattergl",
         "x": [
          -7.9128241539001465,
          -7.082055568695068,
          -8.515969276428223,
          -23.68343734741211,
          -9.570980072021484,
          -7.608806133270264,
          -24.68243408203125,
          -6.3444318771362305,
          -7.363585948944092,
          -10.450457572937012,
          -5.915810585021973,
          -7.961908340454102,
          -7.076682090759277,
          -7.901933193206787,
          -9.844843864440918,
          -9.833983421325684,
          -8.469989776611328,
          -15.872164726257324,
          -8.012487411499023,
          -8.08563232421875,
          -8.549242973327637,
          -6.8751044273376465,
          -23.637662887573242,
          -9.960529327392578,
          -7.31702184677124,
          -6.055741310119629,
          -15.872274398803711,
          -8.104869842529297,
          -6.524367809295654,
          -7.644622325897217,
          -9.474527359008789,
          -8.659934997558594,
          -9.067543983459473,
          -9.639891624450684,
          -8.741150856018066,
          -9.000852584838867,
          -8.528996467590332,
          -7.9943013191223145,
          -10.354952812194824,
          -6.259133338928223,
          -8.379364013671875,
          -8.915217399597168,
          -9.13707447052002,
          -7.157488822937012,
          -9.276567459106445
         ],
         "xaxis": "x",
         "y": [
          63.75905227661133,
          62.02798843383789,
          62.39122772216797,
          5.621851444244385,
          62.080692291259766,
          63.75609588623047,
          11.06771469116211,
          58.981353759765625,
          64.32909393310547,
          60.42935562133789,
          62.80873107910156,
          63.500450134277344,
          62.4946403503418,
          64.4219970703125,
          64.95740509033203,
          63.174678802490234,
          64.02507019042969,
          52.347137451171875,
          63.04581832885742,
          61.66204071044922,
          60.616661071777344,
          64.82611846923828,
          -2.1218442916870117,
          63.49860382080078,
          63.00709533691406,
          64.53865051269531,
          52.34687042236328,
          61.66448211669922,
          61.34416580200195,
          62.80681610107422,
          63.374881744384766,
          63.22688674926758,
          65.76579284667969,
          62.592159271240234,
          60.74541473388672,
          65.5049819946289,
          60.21955108642578,
          64.95149993896484,
          62.308319091796875,
          61.63155746459961,
          62.517059326171875,
          65.0083999633789,
          64.54716491699219,
          62.959598541259766,
          64.838623046875
         ],
         "yaxis": "y"
        },
        {
         "hovertemplate": "color=354<br>symbol=354<br>x=%{x}<br>y=%{y}<extra></extra>",
         "legendgroup": "354, 354",
         "marker": {
          "color": "#FF97FF",
          "opacity": 0.3,
          "symbol": "x"
         },
         "mode": "markers",
         "name": "354, 354",
         "showlegend": true,
         "type": "scattergl",
         "x": [
          34.518280029296875,
          31.57455062866211,
          36.14081954956055,
          32.3853759765625,
          -0.7343718409538269,
          35.4073371887207,
          33.1275520324707,
          36.01300811767578,
          32.24840545654297,
          34.6491584777832,
          34.233463287353516,
          38.566410064697266,
          38.70933532714844,
          44.98303985595703,
          1.9688262939453125,
          34.30049514770508,
          34.781105041503906,
          33.687049865722656,
          41.3775634765625,
          35.72932434082031,
          35.4301643371582,
          21.26888656616211,
          2.962907552719116,
          35.953365325927734,
          34.70362854003906,
          37.703739166259766,
          0.8067906498908997,
          36.04835891723633,
          32.33565902709961,
          36.647071838378906,
          -2.8228747844696045,
          37.70372009277344,
          32.12157440185547,
          38.63818359375,
          35.35481643676758,
          37.84952926635742,
          31.19474983215332,
          34.73382568359375,
          38.675506591796875,
          1.6805336475372314,
          34.238704681396484,
          35.842689514160156,
          37.8721809387207,
          1.4742482900619507,
          37.53604507446289,
          33.08809280395508,
          40.44121170043945,
          34.633544921875,
          35.503421783447266
         ],
         "xaxis": "x",
         "y": [
          12.967883110046387,
          15.778923988342285,
          7.693320274353027,
          15.267720222473145,
          -8.680903434753418,
          8.954200744628906,
          9.693391799926758,
          12.241962432861328,
          9.751326560974121,
          8.819150924682617,
          5.872894763946533,
          7.189056396484375,
          7.077603340148926,
          5.479613304138184,
          29.104536056518555,
          5.620121479034424,
          8.683574676513672,
          6.32315731048584,
          9.506597518920898,
          10.0950345993042,
          10.799799919128418,
          25.860105514526367,
          29.39116096496582,
          10.378116607666016,
          10.668280601501465,
          7.875467777252197,
          -14.011024475097656,
          6.7071452140808105,
          9.745746612548828,
          9.099063873291016,
          -18.179290771484375,
          9.107272148132324,
          15.429932594299316,
          1.2391767501831055,
          5.692605018615723,
          10.226861000061035,
          6.784623146057129,
          12.015181541442871,
          7.329694747924805,
          28.981834411621094,
          5.3457231521606445,
          10.355669021606445,
          7.177336692810059,
          28.12809181213379,
          8.846601486206055,
          13.382173538208008,
          9.608296394348145,
          12.789258003234863,
          5.813449859619141
         ],
         "yaxis": "y"
        },
        {
         "hovertemplate": "color=297<br>symbol=297<br>x=%{x}<br>y=%{y}<extra></extra>",
         "legendgroup": "297, 297",
         "marker": {
          "color": "#FECB52",
          "opacity": 0.3,
          "symbol": "cross"
         },
         "mode": "markers",
         "name": "297, 297",
         "showlegend": true,
         "type": "scattergl",
         "x": [
          6.131167888641357,
          1.8932467699050903,
          6.7068071365356445,
          7.5570173263549805,
          38.28441619873047,
          2.2204623222351074,
          47.69816207885742,
          5.661662578582764,
          7.11550235748291,
          6.315398216247559,
          3.0212817192077637,
          12.313915252685547,
          6.780107498168945,
          5.02098274230957,
          9.556020736694336,
          4.7616682052612305
         ],
         "xaxis": "x",
         "y": [
          17.462928771972656,
          15.258514404296875,
          16.165542602539062,
          -4.0647501945495605,
          -10.639893531799316,
          -0.8005438446998596,
          32.201454162597656,
          10.686470031738281,
          14.843889236450195,
          11.767017364501953,
          -1.1118067502975464,
          10.664214134216309,
          17.094867706298828,
          20.280710220336914,
          -3.0162599086761475,
          21.102432250976562
         ],
         "yaxis": "y"
        },
        {
         "hovertemplate": "color=455<br>symbol=455<br>x=%{x}<br>y=%{y}<extra></extra>",
         "legendgroup": "455, 455",
         "marker": {
          "color": "#636efa",
          "opacity": 0.3,
          "symbol": "circle"
         },
         "mode": "markers",
         "name": "455, 455",
         "showlegend": true,
         "type": "scattergl",
         "x": [
          19.376605987548828,
          17.578956604003906,
          20.96570587158203,
          17.711530685424805,
          20.59452247619629,
          19.100610733032227,
          19.733041763305664,
          19.432212829589844,
          2.876690149307251,
          18.969663619995117,
          19.206005096435547,
          -1.2964427471160889,
          19.586145401000977,
          18.33401107788086,
          17.250225067138672,
          18.014673233032227,
          20.3079776763916,
          20.369028091430664,
          16.6123104095459,
          16.973072052001953,
          20.662521362304688,
          19.654787063598633,
          17.105758666992188,
          21.686246871948242,
          18.305126190185547,
          19.472576141357422,
          -2.8895084857940674,
          19.231660842895508,
          16.3772029876709,
          16.60744857788086,
          18.96465301513672,
          17.778297424316406,
          19.7958984375,
          21.652433395385742,
          16.461280822753906,
          17.995386123657227,
          19.9837703704834,
          16.070119857788086,
          19.11431121826172,
          20.8615665435791,
          20.85867691040039,
          21.86829948425293,
          18.184391021728516,
          2.899268388748169,
          20.5853214263916,
          -26.7740478515625,
          16.80388832092285,
          18.336406707763672,
          16.96394157409668,
          18.554378509521484,
          21.68161392211914,
          20.15808868408203,
          18.256103515625,
          19.9110107421875,
          15.840500831604004,
          18.379405975341797,
          20.003812789916992,
          20.014001846313477,
          20.440303802490234,
          18.291723251342773,
          20.02042007446289,
          18.343456268310547
         ],
         "xaxis": "x",
         "y": [
          -19.009445190429688,
          -26.544288635253906,
          -25.96424674987793,
          -28.1513614654541,
          -24.16495704650879,
          -25.453388214111328,
          -25.67948341369629,
          -19.001380920410156,
          -20.796228408813477,
          -25.67647933959961,
          -24.657127380371094,
          -13.905633926391602,
          -25.43224334716797,
          -22.80231285095215,
          -21.325695037841797,
          -25.945402145385742,
          -24.39227867126465,
          -28.268417358398438,
          -22.202119827270508,
          -21.559619903564453,
          -25.385112762451172,
          -22.673372268676758,
          -21.796459197998047,
          -24.790395736694336,
          -25.767366409301758,
          -24.174579620361328,
          -15.973634719848633,
          -24.747787475585938,
          -19.841968536376953,
          -21.259597778320312,
          -26.92748260498047,
          -21.393131256103516,
          -20.58306312561035,
          -23.28785514831543,
          -20.036670684814453,
          -20.90345001220703,
          -20.669445037841797,
          -18.801408767700195,
          -21.58522605895996,
          -23.122392654418945,
          -22.934438705444336,
          -22.597436904907227,
          -27.102705001831055,
          20.269821166992188,
          -26.537004470825195,
          -13.224536895751953,
          -25.694337844848633,
          -21.305339813232422,
          -21.118667602539062,
          -26.482887268066406,
          -23.316499710083008,
          -27.33354949951172,
          -25.89305877685547,
          -20.258455276489258,
          -21.742549896240234,
          -26.730051040649414,
          -26.61537742614746,
          -22.64759063720703,
          -24.344425201416016,
          -20.65861701965332,
          -27.037263870239258,
          -24.067840576171875
         ],
         "yaxis": "y"
        },
        {
         "hovertemplate": "color=269<br>symbol=269<br>x=%{x}<br>y=%{y}<extra></extra>",
         "legendgroup": "269, 269",
         "marker": {
          "color": "#EF553B",
          "opacity": 0.3,
          "symbol": "diamond"
         },
         "mode": "markers",
         "name": "269, 269",
         "showlegend": true,
         "type": "scattergl",
         "x": [
          -28.758440017700195,
          -27.312429428100586,
          -30.484130859375,
          -27.324251174926758,
          -36.52301025390625,
          -24.24271011352539,
          -29.658260345458984,
          -27.40534019470215,
          -27.28244400024414,
          -30.07416534423828,
          -28.50075912475586,
          -29.990488052368164,
          1.7243924140930176,
          -27.65530776977539,
          -28.60819435119629,
          -28.801250457763672,
          -26.810028076171875,
          -30.24941635131836,
          -29.498437881469727,
          3.6640472412109375,
          -28.820894241333008,
          -51.959571838378906,
          -30.014978408813477,
          1.809148907661438,
          -30.395795822143555,
          -27.35329246520996,
          -26.636394500732422,
          -24.889944076538086,
          -23.708219528198242,
          -30.324268341064453,
          -25.178991317749023,
          -24.82388687133789,
          -7.443717956542969,
          -30.512441635131836
         ],
         "xaxis": "x",
         "y": [
          -23.487638473510742,
          -21.322206497192383,
          -25.629505157470703,
          -22.217330932617188,
          -17.268823623657227,
          -23.799251556396484,
          -23.37342071533203,
          -23.949087142944336,
          -24.993074417114258,
          -25.658527374267578,
          -22.364513397216797,
          -22.703035354614258,
          31.587751388549805,
          -19.50682258605957,
          -23.58306312561035,
          -23.838680267333984,
          -22.788068771362305,
          -23.27275848388672,
          -22.899904251098633,
          27.652854919433594,
          -21.512163162231445,
          -20.409605026245117,
          -25.680387496948242,
          31.023622512817383,
          -25.573320388793945,
          -20.957443237304688,
          -22.83268928527832,
          -23.79263687133789,
          -23.47624397277832,
          -25.446989059448242,
          -24.435224533081055,
          -24.17530632019043,
          25.286590576171875,
          -23.216840744018555
         ],
         "yaxis": "y"
        },
        {
         "hovertemplate": "color=386<br>symbol=386<br>x=%{x}<br>y=%{y}<extra></extra>",
         "legendgroup": "386, 386",
         "marker": {
          "color": "#00cc96",
          "opacity": 0.3,
          "symbol": "square"
         },
         "mode": "markers",
         "name": "386, 386",
         "showlegend": true,
         "type": "scattergl",
         "x": [
          6.030495643615723,
          5.539031505584717,
          3.751704692840576,
          3.568904399871826,
          4.486914157867432,
          1.1757571697235107,
          3.52716064453125,
          6.236914157867432,
          6.013819694519043,
          6.348995685577393,
          7.218437671661377,
          6.566086292266846,
          3.8816425800323486,
          5.2411627769470215,
          2.007215976715088,
          4.584744930267334,
          -3.4191949367523193,
          0.7288135290145874,
          6.4103803634643555,
          5.347828388214111,
          6.486836910247803,
          -4.212098598480225,
          3.276686191558838,
          12.10876178741455,
          6.185112476348877,
          1.4832502603530884,
          5.424267768859863,
          6.201281547546387,
          4.1395721435546875,
          4.418728351593018,
          -7.234359264373779,
          3.8858206272125244,
          4.783953666687012,
          3.9734041690826416,
          3.685283899307251,
          4.193779468536377,
          -14.740103721618652
         ],
         "xaxis": "x",
         "y": [
          55.7844352722168,
          53.65167999267578,
          59.95707702636719,
          53.84131622314453,
          59.353271484375,
          51.984527587890625,
          46.24259567260742,
          53.647796630859375,
          55.85013961791992,
          54.23971176147461,
          53.15727996826172,
          58.07297897338867,
          52.43009567260742,
          57.97010803222656,
          52.375022888183594,
          58.974403381347656,
          52.150726318359375,
          54.04164123535156,
          53.573612213134766,
          53.623687744140625,
          58.10716247558594,
          26.989059448242188,
          54.87590026855469,
          15.714970588684082,
          54.77566146850586,
          53.91233444213867,
          52.71485137939453,
          49.77313232421875,
          50.98622131347656,
          54.7531852722168,
          27.991470336914062,
          59.88707733154297,
          56.57283020019531,
          58.78981018066406,
          46.964744567871094,
          47.251373291015625,
          1.4006166458129883
         ],
         "yaxis": "y"
        },
        {
         "hovertemplate": "color=67<br>symbol=67<br>x=%{x}<br>y=%{y}<extra></extra>",
         "legendgroup": "67, 67",
         "marker": {
          "color": "#ab63fa",
          "opacity": 0.3,
          "symbol": "x"
         },
         "mode": "markers",
         "name": "67, 67",
         "showlegend": true,
         "type": "scattergl",
         "x": [
          -8.004356384277344,
          -11.265368461608887,
          -9.479012489318848,
          -12.636985778808594,
          -10.646411895751953,
          -10.329522132873535,
          -8.167943954467773,
          -10.184710502624512,
          -8.086236953735352,
          15.095947265625,
          -10.223341941833496,
          -11.240751266479492,
          -9.841761589050293,
          -9.759860038757324,
          -10.221146583557129,
          -9.457355499267578,
          -9.953431129455566,
          -10.027156829833984,
          -8.471617698669434,
          -9.273480415344238,
          -10.100342750549316,
          -9.935236930847168,
          19.7824649810791,
          -9.883811950683594,
          -11.060340881347656,
          -8.922289848327637,
          -9.798262596130371
         ],
         "xaxis": "x",
         "y": [
          10.500981330871582,
          6.429625511169434,
          6.33051872253418,
          19.126859664916992,
          7.419170379638672,
          6.023098468780518,
          10.905505180358887,
          11.805167198181152,
          12.058542251586914,
          0.4043174088001251,
          5.820809364318848,
          6.5228190422058105,
          9.499110221862793,
          9.754597663879395,
          12.079846382141113,
          5.813415050506592,
          6.611574649810791,
          12.519447326660156,
          6.066798210144043,
          6.252714157104492,
          11.08131217956543,
          9.474607467651367,
          4.22526741027832,
          13.105185508728027,
          5.453419208526611,
          11.241711616516113,
          13.009322166442871
         ],
         "yaxis": "y"
        },
        {
         "hovertemplate": "color=186<br>symbol=186<br>x=%{x}<br>y=%{y}<extra></extra>",
         "legendgroup": "186, 186",
         "marker": {
          "color": "#FFA15A",
          "opacity": 0.3,
          "symbol": "cross"
         },
         "mode": "markers",
         "name": "186, 186",
         "showlegend": true,
         "type": "scattergl",
         "x": [
          -0.8971274495124817,
          4.769657135009766,
          1.1319122314453125,
          3.223036050796509,
          -1.9184343814849854,
          -17.89092445373535,
          4.160223960876465,
          2.318840980529785,
          -1.579284906387329,
          2.766512870788574,
          0.2706456184387207,
          4.308167934417725,
          6.092515468597412,
          5.940998554229736,
          34.86722946166992,
          2.1811306476593018,
          8.058591842651367,
          -1.6849477291107178
         ],
         "xaxis": "x",
         "y": [
          22.874441146850586,
          35.9129524230957,
          36.51662063598633,
          31.346200942993164,
          35.430763244628906,
          13.049017906188965,
          28.77054786682129,
          38.80931854248047,
          35.34767150878906,
          39.6354866027832,
          35.735172271728516,
          25.790470123291016,
          26.17528533935547,
          26.980510711669922,
          20.553524017333984,
          30.09211540222168,
          36.74401092529297,
          35.42833709716797
         ],
         "yaxis": "y"
        },
        {
         "hovertemplate": "color=429<br>symbol=429<br>x=%{x}<br>y=%{y}<extra></extra>",
         "legendgroup": "429, 429",
         "marker": {
          "color": "#19d3f3",
          "opacity": 0.3,
          "symbol": "circle"
         },
         "mode": "markers",
         "name": "429, 429",
         "showlegend": true,
         "type": "scattergl",
         "x": [
          -12.845840454101562,
          -12.741576194763184,
          -17.316438674926758,
          -12.384446144104004,
          -15.283792495727539,
          1.3842769861221313,
          -15.633307456970215,
          -17.241180419921875,
          -16.35654067993164,
          -4.295812606811523,
          -12.982232093811035,
          -13.079408645629883,
          -12.824141502380371,
          -17.346742630004883,
          -15.447624206542969,
          -13.995095252990723,
          -13.018224716186523,
          -18.02088165283203,
          66.17272186279297,
          -15.807929039001465,
          -3.9608590602874756,
          -17.482452392578125,
          -15.924908638000488,
          -16.927785873413086,
          -16.31969451904297,
          -15.337235450744629,
          -20.487098693847656,
          -22.45183563232422,
          -19.514484405517578,
          -16.3319149017334,
          -14.890774726867676,
          -14.740886688232422,
          71.21417236328125,
          -16.995573043823242,
          -16.493518829345703,
          -18.94636344909668,
          -8.912701606750488,
          -13.88441276550293,
          -15.521613121032715,
          -17.87070083618164,
          -12.905547142028809,
          -17.573617935180664,
          -15.519498825073242
         ],
         "xaxis": "x",
         "y": [
          -16.752317428588867,
          -13.690608978271484,
          -15.685179710388184,
          -16.76644515991211,
          -12.736152648925781,
          -62.43795394897461,
          -14.520257949829102,
          -15.825654983520508,
          -17.134668350219727,
          -18.38506507873535,
          -16.80419158935547,
          -16.731019973754883,
          -15.717930793762207,
          -15.957972526550293,
          -16.776750564575195,
          -17.981250762939453,
          -16.758996963500977,
          -17.28915786743164,
          7.118781566619873,
          -14.467458724975586,
          -18.27199363708496,
          -13.932707786560059,
          -15.063048362731934,
          -17.382680892944336,
          -15.912056922912598,
          -12.913118362426758,
          -15.695180892944336,
          -13.581976890563965,
          -2.243401288986206,
          -15.386898040771484,
          -16.902250289916992,
          -15.1564359664917,
          0.6731590628623962,
          -15.917978286743164,
          -16.155574798583984,
          -14.689190864562988,
          -20.033721923828125,
          -16.223350524902344,
          -18.116256713867188,
          -16.70918083190918,
          -15.691102027893066,
          -15.741174697875977,
          -16.491403579711914
         ],
         "yaxis": "y"
        },
        {
         "hovertemplate": "color=409<br>symbol=409<br>x=%{x}<br>y=%{y}<extra></extra>",
         "legendgroup": "409, 409",
         "marker": {
          "color": "#FF6692",
          "opacity": 0.3,
          "symbol": "diamond"
         },
         "mode": "markers",
         "name": "409, 409",
         "showlegend": true,
         "type": "scattergl",
         "x": [
          -53.372528076171875,
          -53.06315612792969,
          -49.68644332885742,
          -51.014808654785156,
          -53.27032470703125,
          -51.621864318847656,
          -49.95659637451172,
          -50.878578186035156,
          -50.08935546875,
          -51.66620635986328,
          -54.54265594482422,
          -52.3551025390625,
          -51.43496322631836,
          -39.39162063598633,
          -48.20429229736328,
          -49.01320266723633,
          -51.59098434448242,
          -51.509578704833984,
          -51.068790435791016,
          -50.041099548339844,
          -51.27311325073242,
          0.5495959520339966,
          -51.41518020629883,
          -52.000518798828125,
          -49.453914642333984,
          -50.23941421508789
         ],
         "xaxis": "x",
         "y": [
          14.047459602355957,
          14.789551734924316,
          11.898724555969238,
          16.8489933013916,
          14.947214126586914,
          14.739151954650879,
          17.161474227905273,
          15.441986083984375,
          11.63150691986084,
          12.189322471618652,
          13.804287910461426,
          14.589595794677734,
          12.26462459564209,
          10.448346138000488,
          19.380496978759766,
          8.553781509399414,
          13.435578346252441,
          14.85072135925293,
          15.023706436157227,
          12.426933288574219,
          12.926260948181152,
          28.458715438842773,
          13.165675163269043,
          14.717916488647461,
          9.528729438781738,
          11.92835807800293
         ],
         "yaxis": "y"
        },
        {
         "hovertemplate": "color=404<br>symbol=404<br>x=%{x}<br>y=%{y}<extra></extra>",
         "legendgroup": "404, 404",
         "marker": {
          "color": "#B6E880",
          "opacity": 0.3,
          "symbol": "square"
         },
         "mode": "markers",
         "name": "404, 404",
         "showlegend": true,
         "type": "scattergl",
         "x": [
          -3.0494253635406494,
          -50.120479583740234,
          -20.890405654907227
         ],
         "xaxis": "x",
         "y": [
          -8.71146297454834,
          5.398617744445801,
          23.86020851135254
         ],
         "yaxis": "y"
        },
        {
         "hovertemplate": "color=247<br>symbol=247<br>x=%{x}<br>y=%{y}<extra></extra>",
         "legendgroup": "247, 247",
         "marker": {
          "color": "#FF97FF",
          "opacity": 0.3,
          "symbol": "x"
         },
         "mode": "markers",
         "name": "247, 247",
         "showlegend": true,
         "type": "scattergl",
         "x": [
          -18.47317886352539,
          -21.920272827148438,
          -20.899377822875977,
          -21.626123428344727,
          -22.734699249267578,
          -19.504873275756836,
          -18.61835289001465,
          -22.488351821899414,
          -20.03572654724121,
          -22.832759857177734,
          -17.738557815551758,
          -22.13416862487793,
          -23.099308013916016,
          -1.1703062057495117,
          -21.41311264038086,
          -19.095726013183594,
          -22.034992218017578,
          -16.506847381591797,
          -21.490686416625977,
          -19.23883819580078,
          -16.98248291015625,
          -16.93313217163086,
          -18.88979721069336,
          -15.722814559936523,
          -16.236886978149414,
          -20.806446075439453,
          -22.09858512878418,
          -20.871706008911133,
          -21.639686584472656,
          -17.18642807006836,
          -21.498836517333984,
          -18.678770065307617,
          -21.30137062072754,
          -21.376121520996094,
          -21.443710327148438,
          -22.659889221191406,
          -18.89765167236328,
          -18.9086856842041,
          -18.584909439086914
         ],
         "xaxis": "x",
         "y": [
          -75.4097900390625,
          -74.83363342285156,
          -74.06787109375,
          -71.22425842285156,
          -73.810791015625,
          -74.51106262207031,
          -71.93766021728516,
          -72.67798614501953,
          -73.90335083007812,
          -72.01919555664062,
          -75.71539306640625,
          -72.92505645751953,
          -70.57691955566406,
          -13.632149696350098,
          -72.07670593261719,
          -74.99927520751953,
          -72.5508041381836,
          -73.81837463378906,
          -71.04217529296875,
          -72.14510345458984,
          -69.00611114501953,
          -68.91458129882812,
          -73.32463836669922,
          -72.7837142944336,
          -75.11046600341797,
          -75.07123565673828,
          -73.52681732177734,
          -71.92176818847656,
          -71.28631591796875,
          -71.51106262207031,
          -72.73843383789062,
          -74.7733154296875,
          -72.90357971191406,
          -74.00550079345703,
          -73.94049835205078,
          -73.01231384277344,
          -73.11530303955078,
          -76.07239532470703,
          -74.33334350585938
         ],
         "yaxis": "y"
        },
        {
         "hovertemplate": "color=375<br>symbol=375<br>x=%{x}<br>y=%{y}<extra></extra>",
         "legendgroup": "375, 375",
         "marker": {
          "color": "#FECB52",
          "opacity": 0.3,
          "symbol": "cross"
         },
         "mode": "markers",
         "name": "375, 375",
         "showlegend": true,
         "type": "scattergl",
         "x": [
          12.097394943237305,
          4.558984756469727,
          10.528148651123047,
          1.0834711790084839,
          4.002683162689209,
          1.017006516456604,
          -0.01820758730173111,
          3.5016775131225586,
          13.037520408630371,
          -0.02888813428580761,
          20.044321060180664,
          1.3683384656906128,
          5.27175235748291,
          8.26550006866455,
          0.9089676141738892,
          2.808773994445801,
          6.104702472686768,
          9.982833862304688,
          -48.494651794433594,
          1.9629377126693726,
          -3.399930238723755,
          -16.59905242919922,
          6.3317646980285645,
          11.36928653717041,
          3.6794307231903076,
          10.355552673339844,
          10.699297904968262,
          6.634265899658203,
          4.698757171630859,
          -10.17081356048584,
          2.0688283443450928,
          -2.3831212520599365,
          1.2896151542663574,
          6.792322635650635,
          1.8875283002853394,
          7.869243621826172,
          3.2368311882019043,
          4.5787553787231445,
          11.188065528869629,
          2.1183059215545654,
          1.494250774383545,
          7.448564052581787,
          0.2727799415588379,
          4.298985481262207,
          6.916645526885986,
          6.931747913360596,
          4.846522808074951,
          -4.259489059448242,
          4.985681056976318,
          10.259178161621094,
          2.875095844268799,
          1.5945398807525635,
          10.371780395507812,
          2.232543706893921,
          12.255447387695312,
          10.739742279052734,
          4.387989521026611,
          12.978918075561523,
          2.3402342796325684,
          1.5576916933059692,
          2.0059776306152344,
          4.394360542297363,
          0.3892090320587158,
          2.105278730392456,
          1.3550667762756348,
          2.89752459526062,
          4.064908981323242,
          1.4688960313796997,
          -25.534343719482422,
          5.813611030578613,
          11.769227027893066,
          2.666037082672119,
          10.966351509094238,
          0.679244875907898,
          5.066783905029297,
          -1.3406782150268555,
          10.740311622619629,
          1.0852203369140625,
          2.437534809112549
         ],
         "xaxis": "x",
         "y": [
          55.333152770996094,
          56.666324615478516,
          55.65131759643555,
          58.592674255371094,
          51.538902282714844,
          59.084991455078125,
          59.856040954589844,
          59.682472229003906,
          55.87316131591797,
          52.39507293701172,
          11.006056785583496,
          52.58818054199219,
          53.12283706665039,
          53.38783645629883,
          50.2438850402832,
          56.9920539855957,
          52.20526885986328,
          54.9815788269043,
          30.501941680908203,
          58.99692153930664,
          52.17167282104492,
          0.2056029736995697,
          50.37389373779297,
          56.73748016357422,
          54.432987213134766,
          54.335453033447266,
          54.1104850769043,
          54.94791030883789,
          51.01033401489258,
          16.81903648376465,
          58.35152053833008,
          -7.943136215209961,
          51.88396453857422,
          53.549251556396484,
          56.518638610839844,
          51.714942932128906,
          53.47135925292969,
          55.05693435668945,
          56.133995056152344,
          57.79889678955078,
          55.630638122558594,
          53.69189453125,
          55.80712127685547,
          52.81549072265625,
          54.81220245361328,
          53.767066955566406,
          59.680477142333984,
          -34.701393127441406,
          59.66178512573242,
          56.6219367980957,
          51.5924072265625,
          53.63377380371094,
          55.81494903564453,
          59.79594421386719,
          54.44364929199219,
          55.47719955444336,
          53.79476547241211,
          55.081092834472656,
          56.06985092163086,
          54.218650817871094,
          57.91324234008789,
          53.69733810424805,
          57.97684097290039,
          51.40001678466797,
          56.154659271240234,
          57.06925582885742,
          54.84895706176758,
          60.80964660644531,
          1.6429678201675415,
          55.36764907836914,
          55.72517776489258,
          13.27963924407959,
          54.65864944458008,
          59.02669143676758,
          51.409889221191406,
          -12.476480484008789,
          57.731689453125,
          54.1087646484375,
          47.26199722290039
         ],
         "yaxis": "y"
        },
        {
         "hovertemplate": "color=149<br>symbol=149<br>x=%{x}<br>y=%{y}<extra></extra>",
         "legendgroup": "149, 149",
         "marker": {
          "color": "#636efa",
          "opacity": 0.3,
          "symbol": "circle"
         },
         "mode": "markers",
         "name": "149, 149",
         "showlegend": true,
         "type": "scattergl",
         "x": [
          -49.44962692260742,
          9.443840026855469,
          -51.26736068725586,
          -50.15319061279297,
          -48.70161819458008,
          -19.883403778076172,
          -50.46736526489258,
          -53.54273986816406,
          -50.44004440307617,
          -50.27105712890625,
          -52.93278884887695,
          -50.22820281982422,
          -50.642242431640625,
          -48.55024337768555,
          -50.48563766479492,
          -48.62677764892578
         ],
         "xaxis": "x",
         "y": [
          -38.824867248535156,
          -22.525808334350586,
          -44.209983825683594,
          -43.0276985168457,
          -47.40891647338867,
          -1.6676942110061646,
          -40.67229461669922,
          -41.96974563598633,
          -44.85360336303711,
          -41.911590576171875,
          -43.94784927368164,
          -44.67219543457031,
          -48.25105285644531,
          -40.84964370727539,
          -45.05009460449219,
          -40.312801361083984
         ],
         "yaxis": "y"
        },
        {
         "hovertemplate": "color=66<br>symbol=66<br>x=%{x}<br>y=%{y}<extra></extra>",
         "legendgroup": "66, 66",
         "marker": {
          "color": "#EF553B",
          "opacity": 0.3,
          "symbol": "diamond"
         },
         "mode": "markers",
         "name": "66, 66",
         "showlegend": true,
         "type": "scattergl",
         "x": [
          9.382359504699707,
          -9.031281471252441,
          -11.354914665222168,
          -9.378854751586914,
          -9.723764419555664,
          -11.822956085205078,
          -10.386003494262695,
          -9.558708190917969,
          -10.545072555541992
         ],
         "xaxis": "x",
         "y": [
          38.02188491821289,
          4.3237104415893555,
          11.66173267364502,
          5.281613349914551,
          4.519894123077393,
          11.537155151367188,
          5.696392059326172,
          3.9266014099121094,
          4.822214126586914
         ],
         "yaxis": "y"
        },
        {
         "hovertemplate": "color=228<br>symbol=228<br>x=%{x}<br>y=%{y}<extra></extra>",
         "legendgroup": "228, 228",
         "marker": {
          "color": "#00cc96",
          "opacity": 0.3,
          "symbol": "square"
         },
         "mode": "markers",
         "name": "228, 228",
         "showlegend": true,
         "type": "scattergl",
         "x": [
          21.244482040405273,
          66.04906463623047,
          14.06462574005127,
          18.584007263183594,
          12.19349479675293,
          18.331501007080078,
          -21.04595184326172,
          8.365153312683105,
          24.603065490722656,
          18.435321807861328,
          11.796350479125977,
          6.902120590209961,
          28.579877853393555,
          4.2585601806640625,
          15.264994621276855,
          15.118359565734863,
          7.7509613037109375,
          -20.963685989379883,
          9.167659759521484,
          -8.246798515319824,
          17.029584884643555,
          3.711432695388794,
          7.942378997802734,
          17.93878936767578,
          6.872776031494141,
          34.39897155761719,
          20.371496200561523,
          14.037471771240234,
          -6.875492572784424,
          13.6119384765625,
          18.176305770874023,
          3.3729026317596436,
          23.017549514770508,
          16.700454711914062,
          -19.657503128051758,
          65.98487854003906,
          23.08452606201172,
          18.91042709350586,
          9.505794525146484,
          9.30260944366455,
          8.897879600524902,
          7.687758445739746,
          0.40833646059036255,
          36.973323822021484,
          0.8765112161636353,
          21.96017837524414,
          3.386535167694092,
          16.00277328491211,
          13.527701377868652,
          7.019582271575928,
          7.961644172668457,
          8.248108863830566,
          -8.4934663772583,
          17.69590187072754,
          16.147146224975586,
          16.70452880859375,
          16.127161026000977,
          -8.24598217010498,
          13.369789123535156
         ],
         "xaxis": "x",
         "y": [
          25.910728454589844,
          7.325995922088623,
          27.393991470336914,
          26.272130966186523,
          23.127962112426758,
          27.38793182373047,
          13.866861343383789,
          26.902301788330078,
          26.8211727142334,
          24.551916122436523,
          28.19180679321289,
          25.411245346069336,
          18.63343048095703,
          32.25306701660156,
          25.134798049926758,
          27.051546096801758,
          30.542818069458008,
          13.803308486938477,
          28.401132583618164,
          33.09329605102539,
          24.662960052490234,
          38.346534729003906,
          28.725326538085938,
          26.310779571533203,
          29.005800247192383,
          -9.177294731140137,
          22.378185272216797,
          15.929121017456055,
          32.50493240356445,
          28.41290855407715,
          23.813495635986328,
          39.1963005065918,
          23.8179931640625,
          27.489240646362305,
          13.251890182495117,
          5.939738750457764,
          23.559410095214844,
          26.409982681274414,
          26.638988494873047,
          26.734004974365234,
          27.480026245117188,
          48.48564147949219,
          55.9180793762207,
          19.950468063354492,
          36.18485641479492,
          22.569236755371094,
          36.784759521484375,
          23.0554141998291,
          23.54740333557129,
          27.65422248840332,
          30.019651412963867,
          28.499967575073242,
          32.40616226196289,
          23.48053550720215,
          25.435697555541992,
          27.480506896972656,
          25.101125717163086,
          34.834415435791016,
          26.985427856445312
         ],
         "yaxis": "y"
        },
        {
         "hovertemplate": "color=10<br>symbol=10<br>x=%{x}<br>y=%{y}<extra></extra>",
         "legendgroup": "10, 10",
         "marker": {
          "color": "#ab63fa",
          "opacity": 0.3,
          "symbol": "x"
         },
         "mode": "markers",
         "name": "10, 10",
         "showlegend": true,
         "type": "scattergl",
         "x": [
          69.2146987915039,
          68.43869018554688,
          62.89070129394531,
          63.29136657714844,
          66.2358169555664,
          63.705535888671875,
          68.93880462646484,
          71.6626968383789,
          66.64664459228516,
          66.75656127929688,
          67.00630187988281,
          66.08659362792969,
          67.2000732421875,
          63.02553939819336,
          67.25921630859375,
          70.4973373413086,
          72.70264434814453,
          63.51847457885742,
          72.64082336425781,
          67.8083267211914,
          69.2805404663086,
          68.89759063720703,
          67.17643737792969,
          63.66093063354492,
          70.01439666748047
         ],
         "xaxis": "x",
         "y": [
          1.2412784099578857,
          3.3031458854675293,
          5.663200855255127,
          5.69384241104126,
          4.210087776184082,
          3.994513511657715,
          0.6202448606491089,
          4.401656150817871,
          1.5378401279449463,
          3.2000770568847656,
          1.854659080505371,
          1.4667505025863647,
          1.3275169134140015,
          5.831097602844238,
          4.231147289276123,
          4.002536773681641,
          5.191730976104736,
          4.107102394104004,
          4.089322090148926,
          2.4019179344177246,
          -0.36381885409355164,
          1.3296990394592285,
          0.6704393625259399,
          3.790198802947998,
          1.1953898668289185
         ],
         "yaxis": "y"
        },
        {
         "hovertemplate": "color=26<br>symbol=26<br>x=%{x}<br>y=%{y}<extra></extra>",
         "legendgroup": "26, 26",
         "marker": {
          "color": "#FFA15A",
          "opacity": 0.3,
          "symbol": "cross"
         },
         "mode": "markers",
         "name": "26, 26",
         "showlegend": true,
         "type": "scattergl",
         "x": [
          65.64827728271484,
          63.96900177001953,
          64.19537353515625,
          64.18435668945312,
          64.49417877197266,
          69.11113739013672,
          62.9434814453125,
          66.92920684814453,
          61.73273468017578,
          63.62675857543945,
          66.64241790771484,
          65.0069808959961,
          -41.988094329833984,
          67.03504943847656,
          66.97581481933594,
          66.43207550048828,
          69.38391876220703,
          67.78219604492188,
          69.09154510498047,
          67.81674194335938,
          68.94332885742188,
          60.845672607421875,
          67.4802017211914,
          -53.8481330871582,
          68.3880615234375,
          71.48316955566406,
          -25.474245071411133,
          70.31217956542969,
          63.601417541503906,
          66.7029037475586,
          67.85208892822266,
          68.95401763916016,
          70.48567199707031,
          68.7844467163086,
          68.54559326171875,
          71.33292388916016,
          65.03337860107422,
          69.10688018798828,
          -21.10364532470703,
          68.87855529785156,
          65.17628479003906,
          67.87643432617188,
          65.58320617675781,
          66.72027587890625,
          -21.560245513916016,
          69.61921691894531,
          70.51544189453125,
          62.128238677978516,
          -14.549345016479492,
          64.55979919433594,
          70.13365936279297,
          67.33727264404297,
          68.46381378173828,
          72.69071960449219,
          62.77510452270508,
          67.61842346191406,
          69.02896118164062,
          68.40064239501953,
          68.03832244873047,
          65.60183715820312,
          65.96562194824219,
          63.569759368896484,
          62.1780891418457,
          70.7997055053711,
          69.72754669189453,
          66.58934783935547
         ],
         "xaxis": "x",
         "y": [
          -2.0217394828796387,
          -2.121913194656372,
          -0.05691942572593689,
          0.2414097636938095,
          -1.9012125730514526,
          -0.07107853144407272,
          0.1992814689874649,
          -0.22551481425762177,
          -1.0759530067443848,
          -2.2071893215179443,
          2.115272283554077,
          -0.7328534722328186,
          -43.60402297973633,
          0.10427375882863998,
          5.4648637771606445,
          3.0913262367248535,
          2.9308409690856934,
          -1.5672080516815186,
          0.4469458758831024,
          1.2401094436645508,
          1.4518340826034546,
          -1.9932986497879028,
          0.521713376045227,
          -44.30062484741211,
          0.3488846719264984,
          4.245103359222412,
          -11.991708755493164,
          5.4128570556640625,
          -2.2425262928009033,
          6.9316534996032715,
          1.8184576034545898,
          -0.9819404482841492,
          2.0542547702789307,
          -1.1704342365264893,
          2.5908374786376953,
          4.431265354156494,
          -0.7987522482872009,
          -0.09518346190452576,
          -13.396656036376953,
          4.23606014251709,
          -2.0875236988067627,
          3.5774929523468018,
          -2.3788812160491943,
          2.9926905632019043,
          20.972700119018555,
          7.126129627227783,
          -0.5789123773574829,
          -2.0439796447753906,
          -0.9578286409378052,
          -3.6405189037323,
          5.3737592697143555,
          4.148623466491699,
          -1.7807117700576782,
          5.171398162841797,
          -1.048587679862976,
          3.5001986026763916,
          -0.14736290276050568,
          5.110177040100098,
          5.3991498947143555,
          -2.260483980178833,
          2.779914379119873,
          -3.7211878299713135,
          -0.537469208240509,
          3.9071547985076904,
          5.308749198913574,
          -0.3605259656906128
         ],
         "yaxis": "y"
        },
        {
         "hovertemplate": "color=432<br>symbol=432<br>x=%{x}<br>y=%{y}<extra></extra>",
         "legendgroup": "432, 432",
         "marker": {
          "color": "#19d3f3",
          "opacity": 0.3,
          "symbol": "circle"
         },
         "mode": "markers",
         "name": "432, 432",
         "showlegend": true,
         "type": "scattergl",
         "x": [
          -52.5072135925293,
          -52.122798919677734,
          -27.227235794067383,
          -51.46929168701172,
          -53.938262939453125,
          -54.05671310424805
         ],
         "xaxis": "x",
         "y": [
          15.303020477294922,
          15.22551441192627,
          18.0078182220459,
          16.564350128173828,
          14.475048065185547,
          15.475276947021484
         ],
         "yaxis": "y"
        },
        {
         "hovertemplate": "color=398<br>symbol=398<br>x=%{x}<br>y=%{y}<extra></extra>",
         "legendgroup": "398, 398",
         "marker": {
          "color": "#FF6692",
          "opacity": 0.3,
          "symbol": "diamond"
         },
         "mode": "markers",
         "name": "398, 398",
         "showlegend": true,
         "type": "scattergl",
         "x": [
          5.836897850036621,
          7.352344036102295,
          7.116272926330566,
          9.454649925231934,
          7.872400283813477,
          7.323397636413574,
          6.934256553649902,
          6.815796375274658,
          8.162642478942871,
          4.469910144805908,
          6.0984673500061035,
          7.616899013519287,
          6.893852710723877,
          4.372093677520752,
          -4.392446994781494,
          7.972285270690918,
          6.115823745727539,
          5.5497660636901855,
          5.376229763031006,
          16.642982482910156,
          -3.521395683288574,
          5.180658340454102,
          6.1942009925842285,
          9.001548767089844,
          6.948417663574219,
          5.198573589324951,
          6.871603488922119,
          -4.921901702880859,
          3.946185350418091,
          7.544676780700684,
          8.032535552978516,
          7.037781715393066,
          6.388640403747559,
          8.285115242004395,
          4.1922926902771,
          4.452415466308594,
          4.4887309074401855,
          7.641643047332764
         ],
         "xaxis": "x",
         "y": [
          -40.92707061767578,
          -41.10369873046875,
          -41.522377014160156,
          -41.12112808227539,
          -41.00909423828125,
          -41.48884963989258,
          -43.2188720703125,
          -42.95460891723633,
          -40.47950744628906,
          -40.61423873901367,
          -39.30121612548828,
          -40.656471252441406,
          -40.234779357910156,
          -39.58007049560547,
          -5.3774495124816895,
          -39.50102233886719,
          -41.25240707397461,
          -42.703556060791016,
          -38.36739730834961,
          5.11539363861084,
          -5.444069862365723,
          -39.78371047973633,
          -40.070133209228516,
          -41.09378433227539,
          -41.18659210205078,
          -39.787567138671875,
          -42.970703125,
          -14.845257759094238,
          -39.7999153137207,
          -42.074440002441406,
          -42.296852111816406,
          -43.287322998046875,
          -41.873191833496094,
          -41.538578033447266,
          -40.81139373779297,
          -40.57731246948242,
          -39.979000091552734,
          -42.39889907836914
         ],
         "yaxis": "y"
        },
        {
         "hovertemplate": "color=428<br>symbol=428<br>x=%{x}<br>y=%{y}<extra></extra>",
         "legendgroup": "428, 428",
         "marker": {
          "color": "#B6E880",
          "opacity": 0.3,
          "symbol": "square"
         },
         "mode": "markers",
         "name": "428, 428",
         "showlegend": true,
         "type": "scattergl",
         "x": [
          34.448829650878906,
          35.200931549072266,
          30.326553344726562,
          28.844594955444336,
          29.916156768798828,
          3.5935773849487305,
          33.84089660644531,
          30.16558837890625,
          27.26156234741211,
          32.12885665893555,
          29.252891540527344,
          29.608535766601562,
          28.09132194519043,
          -0.8609862327575684,
          33.68268585205078,
          33.917625427246094,
          32.689701080322266,
          33.20500183105469,
          35.14424514770508,
          29.03659439086914,
          35.40256881713867,
          29.40615463256836,
          32.2780647277832,
          32.50407028198242,
          33.507057189941406,
          29.831710815429688,
          30.4526309967041,
          30.676023483276367,
          30.716459274291992,
          28.579669952392578,
          30.942550659179688,
          30.582040786743164,
          30.565336227416992,
          33.195655822753906,
          28.85442543029785,
          27.97820281982422,
          29.893863677978516,
          34.35199737548828,
          32.371463775634766,
          32.06317138671875,
          32.229217529296875,
          -12.230589866638184,
          29.26601791381836,
          8.834266662597656,
          30.85417938232422,
          29.831666946411133,
          33.45000076293945,
          -1.5829426050186157,
          33.052207946777344,
          31.482986450195312,
          34.24807357788086,
          30.12470245361328,
          31.066030502319336,
          28.617990493774414,
          33.09516906738281,
          32.623226165771484,
          30.060123443603516,
          30.887805938720703,
          31.421588897705078,
          29.547712326049805,
          32.73439025878906,
          29.78079605102539,
          33.6113166809082,
          31.881181716918945,
          28.803997039794922,
          4.127756595611572,
          31.106855392456055,
          32.49293518066406,
          30.802616119384766
         ],
         "xaxis": "x",
         "y": [
          -32.97553253173828,
          -33.78684616088867,
          -33.304405212402344,
          -32.93605041503906,
          -30.620405197143555,
          -20.090091705322266,
          -34.05143356323242,
          -27.460283279418945,
          -31.51178741455078,
          -33.269134521484375,
          -33.66787338256836,
          -32.142738342285156,
          -27.661436080932617,
          26.074724197387695,
          -32.16420364379883,
          -34.61421203613281,
          -32.13595962524414,
          -33.087646484375,
          -33.927452087402344,
          -33.01592254638672,
          -29.375316619873047,
          -29.466094970703125,
          -29.624980926513672,
          -32.064083099365234,
          -34.70014953613281,
          -33.780738830566406,
          -28.863880157470703,
          -34.81073760986328,
          -31.77198028564453,
          -33.72576904296875,
          -29.87578773498535,
          -29.630573272705078,
          -32.05149841308594,
          -28.17144203186035,
          -30.298572540283203,
          -34.2188606262207,
          -33.20661163330078,
          -29.363628387451172,
          -35.45343017578125,
          -34.977081298828125,
          -35.840633392333984,
          24.633180618286133,
          -29.26952362060547,
          -10.91776180267334,
          -28.12750816345215,
          -33.40260696411133,
          -35.408416748046875,
          -9.917768478393555,
          -33.689109802246094,
          -32.53850173950195,
          -29.32481575012207,
          -28.333303451538086,
          -33.024452209472656,
          -29.716856002807617,
          -28.238147735595703,
          -34.047950744628906,
          -30.66828155517578,
          -34.6288948059082,
          -34.47565460205078,
          -29.56658172607422,
          -34.77790451049805,
          -29.755908966064453,
          -32.839054107666016,
          -34.047462463378906,
          -33.07251739501953,
          -20.08159828186035,
          -29.912559509277344,
          -34.37309265136719,
          -28.701934814453125
         ],
         "yaxis": "y"
        },
        {
         "hovertemplate": "color=147<br>symbol=147<br>x=%{x}<br>y=%{y}<extra></extra>",
         "legendgroup": "147, 147",
         "marker": {
          "color": "#FF97FF",
          "opacity": 0.3,
          "symbol": "x"
         },
         "mode": "markers",
         "name": "147, 147",
         "showlegend": true,
         "type": "scattergl",
         "x": [
          -36.42378234863281,
          4.248866081237793,
          -1.4442156553268433,
          6.985426425933838,
          6.740463733673096,
          5.774696350097656,
          8.023898124694824,
          7.214564323425293,
          6.928401947021484,
          -0.1515187919139862,
          8.298399925231934,
          8.190926551818848,
          6.477599143981934,
          6.532652378082275,
          6.308497428894043,
          8.314923286437988,
          7.459169864654541,
          6.511076927185059,
          8.22781753540039,
          -2.171940565109253
         ],
         "xaxis": "x",
         "y": [
          -7.09469747543335,
          9.870840072631836,
          4.88096284866333,
          -18.91826820373535,
          -17.496963500976562,
          -18.824295043945312,
          -21.258207321166992,
          -19.126039505004883,
          -15.272430419921875,
          51.650840759277344,
          -17.080400466918945,
          26.233715057373047,
          -18.00734519958496,
          -17.735153198242188,
          -18.867685317993164,
          2.2413485050201416,
          -18.86420440673828,
          -19.03335952758789,
          -17.069631576538086,
          -6.337462425231934
         ],
         "yaxis": "y"
        },
        {
         "hovertemplate": "color=323<br>symbol=323<br>x=%{x}<br>y=%{y}<extra></extra>",
         "legendgroup": "323, 323",
         "marker": {
          "color": "#FECB52",
          "opacity": 0.3,
          "symbol": "cross"
         },
         "mode": "markers",
         "name": "323, 323",
         "showlegend": true,
         "type": "scattergl",
         "x": [
          8.674505233764648,
          8.981406211853027,
          8.272496223449707,
          10.337127685546875,
          10.51073932647705,
          11.149322509765625,
          10.619961738586426,
          10.637088775634766,
          10.075016975402832,
          8.459839820861816,
          5.421353340148926,
          9.280682563781738,
          8.409686088562012,
          31.883392333984375,
          8.594605445861816,
          10.268489837646484,
          -0.26204392313957214,
          11.350360870361328,
          -2.9558968544006348,
          9.193634033203125,
          10.301284790039062,
          9.015700340270996,
          9.079376220703125,
          8.809976577758789,
          7.7991790771484375,
          8.18641471862793,
          11.271112442016602,
          9.354703903198242,
          9.236038208007812,
          8.187207221984863,
          8.580560684204102,
          8.082561492919922,
          2.5186944007873535,
          27.19112777709961,
          10.494465827941895
         ],
         "xaxis": "x",
         "y": [
          -32.82854080200195,
          -31.03040313720703,
          -27.330713272094727,
          -28.856830596923828,
          -28.8913631439209,
          -31.450292587280273,
          -27.630247116088867,
          -27.65826416015625,
          -31.691936492919922,
          -30.907726287841797,
          -10.753118515014648,
          -30.8855037689209,
          -31.85695457458496,
          -1.1128674745559692,
          -32.35194778442383,
          -29.18602752685547,
          26.93876075744629,
          -28.972492218017578,
          -17.798856735229492,
          -32.473793029785156,
          -31.956029891967773,
          -32.64847946166992,
          -32.103355407714844,
          -32.09458541870117,
          -29.214712142944336,
          -29.197845458984375,
          -28.927112579345703,
          -32.64116668701172,
          -31.052703857421875,
          -27.125667572021484,
          -31.32833480834961,
          -28.73810386657715,
          27.40550994873047,
          11.846681594848633,
          -29.322738647460938
         ],
         "yaxis": "y"
        },
        {
         "hovertemplate": "color=421<br>symbol=421<br>x=%{x}<br>y=%{y}<extra></extra>",
         "legendgroup": "421, 421",
         "marker": {
          "color": "#636efa",
          "opacity": 0.3,
          "symbol": "circle"
         },
         "mode": "markers",
         "name": "421, 421",
         "showlegend": true,
         "type": "scattergl",
         "x": [
          -58.58535385131836,
          -42.25918197631836,
          -61.983436584472656,
          -61.26173782348633,
          -64.19708251953125,
          -51.25975799560547,
          -63.58576583862305,
          -20.210969924926758,
          -63.054073333740234,
          -61.37544250488281,
          -61.327903747558594,
          -62.91981506347656,
          -42.75165557861328,
          -59.403079986572266,
          -59.60295104980469,
          -22.899497985839844,
          -59.9036750793457,
          -23.957433700561523,
          -24.155004501342773,
          -3.1439785957336426,
          -58.36852264404297,
          -12.313039779663086,
          -60.2421760559082,
          -63.68227005004883,
          -56.758689880371094,
          -62.573368072509766,
          -42.185386657714844,
          -59.508663177490234,
          -60.51435470581055,
          16.489736557006836,
          -62.65980529785156,
          -12.42837142944336,
          -62.526641845703125,
          -64.74449157714844,
          -50.297794342041016,
          -60.84959030151367,
          -60.325782775878906,
          -63.00298309326172,
          -59.51483154296875,
          -24.537851333618164,
          -62.77641296386719,
          -24.61127471923828,
          -59.96546936035156,
          -56.74842071533203,
          3.163912534713745,
          -60.97288131713867,
          -58.94413375854492,
          -62.09352111816406,
          -60.78627395629883,
          -60.41798782348633,
          -59.54193115234375,
          -63.058250427246094,
          -5.173068523406982,
          -59.33662414550781
         ],
         "xaxis": "x",
         "y": [
          15.732710838317871,
          3.380868673324585,
          11.455254554748535,
          16.915700912475586,
          12.100878715515137,
          19.93701934814453,
          13.215816497802734,
          21.57134437561035,
          14.480086326599121,
          15.422539710998535,
          16.851961135864258,
          12.839798927307129,
          3.701000928878784,
          15.430633544921875,
          14.518292427062988,
          -10.609511375427246,
          17.388593673706055,
          18.859647750854492,
          18.786561965942383,
          -10.22439956665039,
          15.339385032653809,
          21.700199127197266,
          14.560979843139648,
          15.546272277832031,
          14.759316444396973,
          14.932345390319824,
          3.3296308517456055,
          14.344557762145996,
          12.422873497009277,
          -7.377409934997559,
          14.210899353027344,
          -2.236347198486328,
          15.617365837097168,
          14.984317779541016,
          9.547566413879395,
          13.04474925994873,
          17.883298873901367,
          12.84166145324707,
          16.52305793762207,
          20.64472198486328,
          14.539168357849121,
          18.547504425048828,
          14.71065616607666,
          13.38208293914795,
          26.729900360107422,
          12.106340408325195,
          16.279436111450195,
          13.576874732971191,
          15.916871070861816,
          18.01245880126953,
          16.577463150024414,
          13.542631149291992,
          22.353248596191406,
          17.239200592041016
         ],
         "yaxis": "y"
        },
        {
         "hovertemplate": "color=353<br>symbol=353<br>x=%{x}<br>y=%{y}<extra></extra>",
         "legendgroup": "353, 353",
         "marker": {
          "color": "#EF553B",
          "opacity": 0.3,
          "symbol": "diamond"
         },
         "mode": "markers",
         "name": "353, 353",
         "showlegend": true,
         "type": "scattergl",
         "x": [
          40.47328567504883,
          -2.2873730659484863,
          38.766761779785156,
          38.4321174621582,
          39.070926666259766,
          39.97795104980469,
          39.789554595947266,
          41.04294967651367,
          40.01485061645508,
          40.50936508178711,
          -47.59966278076172,
          39.26577377319336,
          38.74299240112305,
          38.45347595214844,
          40.41244125366211,
          40.077728271484375,
          38.72068786621094,
          39.595767974853516,
          39.369239807128906,
          40.577880859375,
          42.93513107299805,
          39.167240142822266,
          39.03396224975586,
          39.54810333251953,
          39.654293060302734
         ],
         "xaxis": "x",
         "y": [
          3.130526542663574,
          -3.244948625564575,
          2.137241840362549,
          4.3826823234558105,
          1.041337013244629,
          3.2278010845184326,
          3.6406028270721436,
          2.246974229812622,
          2.517772912979126,
          3.4397342205047607,
          4.431859016418457,
          1.11309814453125,
          -0.22987520694732666,
          4.5081682205200195,
          3.561643123626709,
          3.836360454559326,
          1.4559001922607422,
          1.1324665546417236,
          1.4335898160934448,
          3.812035322189331,
          6.1375274658203125,
          0.5791307091712952,
          0.24786753952503204,
          3.2719762325286865,
          2.890575647354126
         ],
         "yaxis": "y"
        },
        {
         "hovertemplate": "color=385<br>symbol=385<br>x=%{x}<br>y=%{y}<extra></extra>",
         "legendgroup": "385, 385",
         "marker": {
          "color": "#00cc96",
          "opacity": 0.3,
          "symbol": "square"
         },
         "mode": "markers",
         "name": "385, 385",
         "showlegend": true,
         "type": "scattergl",
         "x": [
          4.386220932006836,
          -2.351315975189209,
          5.406524658203125,
          4.724432945251465,
          5.734138488769531,
          6.402279853820801,
          5.4239044189453125,
          5.5676589012146,
          6.182287216186523,
          4.65945291519165,
          4.95457124710083,
          6.280262470245361,
          4.9824676513671875,
          5.600553512573242,
          6.3442301750183105,
          5.207104682922363,
          6.390376567840576,
          5.962072849273682,
          5.830827236175537,
          6.5368828773498535,
          5.766328811645508,
          5.459794521331787,
          -3.964625358581543,
          4.593340873718262,
          5.726810932159424,
          5.263208389282227,
          -1.8971478939056396
         ],
         "xaxis": "x",
         "y": [
          74.30394744873047,
          62.05916213989258,
          74.5196304321289,
          75.12047576904297,
          73.89857482910156,
          74.81350708007812,
          72.8495101928711,
          73.381591796875,
          73.70088958740234,
          73.97321319580078,
          72.962646484375,
          74.01788330078125,
          73.75479888916016,
          72.37174224853516,
          73.41477966308594,
          74.3710708618164,
          73.38571166992188,
          71.90328216552734,
          71.93562316894531,
          72.61820983886719,
          71.6628189086914,
          74.6173095703125,
          67.66524505615234,
          74.08610534667969,
          73.85765075683594,
          74.39801788330078,
          -9.625853538513184
         ],
         "yaxis": "y"
        },
        {
         "hovertemplate": "color=289<br>symbol=289<br>x=%{x}<br>y=%{y}<extra></extra>",
         "legendgroup": "289, 289",
         "marker": {
          "color": "#ab63fa",
          "opacity": 0.3,
          "symbol": "x"
         },
         "mode": "markers",
         "name": "289, 289",
         "showlegend": true,
         "type": "scattergl",
         "x": [
          1.5515530109405518,
          -7.288692951202393,
          -2.2108817100524902,
          -1.2336056232452393,
          -1.9182875156402588,
          -6.828060150146484,
          -1.5863533020019531,
          -1.6213270425796509,
          -0.6912211179733276,
          -15.857600212097168,
          -2.025603771209717,
          -1.435064435005188,
          -2.291160821914673,
          -2.4607226848602295,
          -1.1895267963409424,
          -0.5737199187278748,
          -0.26029497385025024,
          -16.52692985534668,
          -2.8237476348876953,
          -5.741209506988525,
          -16.634078979492188,
          33.861122131347656
         ],
         "xaxis": "x",
         "y": [
          4.478046417236328,
          16.602882385253906,
          12.892671585083008,
          -2.011652708053589,
          0.8356005549430847,
          16.262577056884766,
          0.8353956341743469,
          13.521123886108398,
          13.01635456085205,
          20.398256301879883,
          1.082929015159607,
          0.9520334005355835,
          2.756558895111084,
          -0.11003442853689194,
          13.690611839294434,
          0.9675745368003845,
          13.492681503295898,
          17.349071502685547,
          2.337919235229492,
          15.604533195495605,
          17.737354278564453,
          37.884010314941406
         ],
         "yaxis": "y"
        },
        {
         "hovertemplate": "color=299<br>symbol=299<br>x=%{x}<br>y=%{y}<extra></extra>",
         "legendgroup": "299, 299",
         "marker": {
          "color": "#FFA15A",
          "opacity": 0.3,
          "symbol": "cross"
         },
         "mode": "markers",
         "name": "299, 299",
         "showlegend": true,
         "type": "scattergl",
         "x": [
          -11.325631141662598,
          -9.052644729614258,
          -21.517822265625,
          -6.366557598114014,
          -10.096956253051758,
          -7.074202060699463,
          -10.643441200256348,
          -8.599175453186035,
          -9.660998344421387,
          -12.066707611083984,
          -8.60500431060791,
          -6.829863548278809,
          -12.620821952819824,
          -7.5361151695251465,
          -12.283856391906738,
          -8.975297927856445,
          -9.628430366516113,
          -9.31617259979248,
          -12.028759002685547,
          -11.184671401977539,
          -1.5348793268203735,
          -11.276257514953613,
          -12.160501480102539,
          4.844720840454102,
          -5.681808948516846,
          -12.389305114746094,
          -6.497206211090088,
          -2.178774833679199,
          -6.178929328918457,
          -10.370251655578613,
          -9.702701568603516,
          -10.03161334991455,
          -2.9860849380493164,
          -5.460933208465576,
          -5.748543739318848,
          -9.699408531188965,
          -13.022110939025879,
          -9.281905174255371,
          -11.757061004638672,
          -7.474693298339844,
          -7.757083415985107,
          -10.576035499572754,
          -20.1413516998291,
          -8.27099323272705,
          -6.120955467224121,
          -13.225136756896973,
          -10.126588821411133,
          -10.056209564208984,
          -11.765924453735352,
          -11.690055847167969,
          -12.435458183288574,
          -8.053176879882812,
          -10.74262523651123,
          -5.818497180938721,
          -23.189769744873047,
          -8.928409576416016,
          4.443353652954102,
          -1.416893720626831,
          -8.701388359069824,
          -11.748674392700195,
          -9.378159523010254,
          -12.121198654174805
         ],
         "xaxis": "x",
         "y": [
          -36.33639144897461,
          -35.084354400634766,
          -15.487936019897461,
          -37.37236785888672,
          -45.21002960205078,
          -35.678897857666016,
          -37.34293746948242,
          -38.64889907836914,
          -38.16904830932617,
          -37.08993148803711,
          -33.520103454589844,
          -37.72396469116211,
          -35.535400390625,
          -37.81956481933594,
          -40.05560302734375,
          -35.93185806274414,
          -35.355037689208984,
          -37.500431060791016,
          -35.61296081542969,
          -36.83449935913086,
          31.052989959716797,
          -38.260345458984375,
          -36.383766174316406,
          31.67685890197754,
          -39.62100601196289,
          -35.51177978515625,
          -40.1648063659668,
          61.18194580078125,
          -38.94361114501953,
          -34.03810119628906,
          -36.798980712890625,
          -35.40681838989258,
          -17.252544403076172,
          -37.44319152832031,
          -39.78932189941406,
          -37.710609436035156,
          -37.496036529541016,
          -35.035888671875,
          -39.00518035888672,
          -37.48337936401367,
          -36.21123123168945,
          -38.83531951904297,
          -1.0705441236495972,
          -35.37363052368164,
          -39.758914947509766,
          -37.57871627807617,
          -36.82942581176758,
          -37.60776138305664,
          -37.74575424194336,
          -37.57856750488281,
          -36.58565139770508,
          -6.721838474273682,
          -38.39936447143555,
          -39.62934875488281,
          -12.768003463745117,
          -35.52179718017578,
          31.798625946044922,
          -11.196041107177734,
          -36.988285064697266,
          -36.664207458496094,
          -38.511356353759766,
          -37.95386505126953
         ],
         "yaxis": "y"
        },
        {
         "hovertemplate": "color=435<br>symbol=435<br>x=%{x}<br>y=%{y}<extra></extra>",
         "legendgroup": "435, 435",
         "marker": {
          "color": "#19d3f3",
          "opacity": 0.3,
          "symbol": "circle"
         },
         "mode": "markers",
         "name": "435, 435",
         "showlegend": true,
         "type": "scattergl",
         "x": [
          -16.217981338500977,
          -16.710901260375977,
          -15.705080032348633,
          -20.605466842651367,
          -17.742923736572266,
          -16.540802001953125,
          5.829142093658447,
          -19.243534088134766,
          -19.201475143432617,
          -53.54875564575195,
          -20.71874237060547,
          -23.15935516357422,
          -19.990798950195312,
          -21.215534210205078,
          -20.700647354125977,
          -20.463844299316406,
          -17.814376831054688,
          -22.669349670410156,
          -19.327707290649414,
          -2.5474019050598145,
          -54.20114517211914,
          -55.16557693481445,
          -20.43763542175293,
          -21.37337875366211,
          -20.882558822631836,
          -22.514297485351562,
          -20.961576461791992,
          -20.252016067504883,
          -19.19597625732422,
          -31.39303207397461,
          -20.080482482910156,
          -21.443689346313477,
          -17.74982261657715,
          -21.075103759765625,
          -19.680418014526367,
          -20.57666778564453
         ],
         "xaxis": "x",
         "y": [
          -7.85089111328125,
          -7.34036922454834,
          -8.215726852416992,
          -7.7323317527771,
          -8.343976020812988,
          -7.767071723937988,
          30.796127319335938,
          -4.871809005737305,
          -8.017756462097168,
          11.717144966125488,
          -7.96165132522583,
          2.482616662979126,
          -6.566292762756348,
          -9.205360412597656,
          -8.746334075927734,
          -7.010008811950684,
          -7.692212104797363,
          -8.871045112609863,
          -7.335020065307617,
          -13.305849075317383,
          11.281888008117676,
          11.31478500366211,
          -8.046887397766113,
          -8.146439552307129,
          -6.696189880371094,
          -10.0009183883667,
          -6.575399875640869,
          -7.7048139572143555,
          -8.621530532836914,
          18.392868041992188,
          -8.193540573120117,
          -5.854660511016846,
          -8.187459945678711,
          -8.439563751220703,
          -8.21201229095459,
          -8.018963813781738
         ],
         "yaxis": "y"
        },
        {
         "hovertemplate": "color=437<br>symbol=437<br>x=%{x}<br>y=%{y}<extra></extra>",
         "legendgroup": "437, 437",
         "marker": {
          "color": "#FF6692",
          "opacity": 0.3,
          "symbol": "diamond"
         },
         "mode": "markers",
         "name": "437, 437",
         "showlegend": true,
         "type": "scattergl",
         "x": [
          -31.393617630004883,
          -29.28387451171875,
          -27.629352569580078,
          -30.070858001708984,
          -27.175212860107422,
          -31.498516082763672,
          -29.464488983154297,
          -25.247800827026367,
          -27.798995971679688,
          -31.347505569458008,
          -34.06937789916992,
          -33.14409255981445,
          -27.917560577392578,
          -32.52296829223633,
          -32.916343688964844,
          -27.665271759033203,
          -27.984006881713867,
          -32.653743743896484,
          -26.633398056030273,
          -29.014989852905273,
          -28.442190170288086,
          -28.658166885375977,
          -30.54237937927246,
          -31.94779396057129,
          -28.519248962402344,
          -32.867958068847656,
          -30.639745712280273,
          -27.782058715820312,
          -28.56744956970215,
          -28.710433959960938,
          -34.038848876953125,
          -28.987558364868164,
          -26.223045349121094,
          -33.99934768676758,
          -26.048778533935547,
          -32.05925369262695,
          -31.70035171508789,
          -27.6726016998291,
          -26.382883071899414,
          -29.36463165283203,
          -34.01751708984375,
          -28.86994743347168,
          -15.9656982421875,
          -31.9075870513916,
          -32.648353576660156,
          -31.3028564453125,
          -31.7230224609375,
          -28.36693000793457,
          -29.75128173828125,
          -29.215898513793945,
          -27.432466506958008,
          -31.25653076171875,
          -29.351564407348633,
          -31.93667984008789,
          -32.90956497192383,
          -29.21847152709961,
          -32.04362106323242,
          -24.908737182617188,
          -30.367992401123047,
          -15.472905158996582
         ],
         "xaxis": "x",
         "y": [
          40.562255859375,
          43.11669158935547,
          40.809364318847656,
          40.60660934448242,
          43.78919982910156,
          38.767093658447266,
          42.389408111572266,
          37.32938766479492,
          43.20248031616211,
          38.79656219482422,
          40.413352966308594,
          38.78784942626953,
          40.29294967651367,
          39.313011169433594,
          42.19842529296875,
          39.36627960205078,
          41.7391357421875,
          39.29110336303711,
          41.64964294433594,
          40.36909103393555,
          42.680538177490234,
          43.18122863769531,
          40.837398529052734,
          37.56916046142578,
          43.40993118286133,
          41.88139343261719,
          42.379295349121094,
          43.00772476196289,
          44.245697021484375,
          41.1520881652832,
          42.25149154663086,
          42.68421173095703,
          42.98335266113281,
          40.39091873168945,
          2.389942169189453,
          40.39122772216797,
          42.999595642089844,
          41.8656120300293,
          40.561885833740234,
          43.03675842285156,
          42.2261962890625,
          41.059574127197266,
          4.316142559051514,
          40.9503173828125,
          39.97495651245117,
          39.25367736816406,
          39.20545959472656,
          42.34840393066406,
          44.57068634033203,
          42.05971908569336,
          40.784393310546875,
          42.98616409301758,
          41.61631393432617,
          38.06180953979492,
          40.32760238647461,
          41.644248962402344,
          38.22709274291992,
          37.03524398803711,
          43.32917404174805,
          31.473188400268555
         ],
         "yaxis": "y"
        },
        {
         "hovertemplate": "color=255<br>symbol=255<br>x=%{x}<br>y=%{y}<extra></extra>",
         "legendgroup": "255, 255",
         "marker": {
          "color": "#B6E880",
          "opacity": 0.3,
          "symbol": "square"
         },
         "mode": "markers",
         "name": "255, 255",
         "showlegend": true,
         "type": "scattergl",
         "x": [
          -36.7341423034668,
          -32.313133239746094,
          -36.29166030883789,
          -26.375364303588867,
          -31.082292556762695,
          -34.83037567138672,
          36.46635818481445,
          -36.70043182373047,
          -32.454551696777344,
          -36.301387786865234,
          -33.86118698120117,
          -33.32066345214844,
          -16.143211364746094,
          4.783681392669678,
          -25.317489624023438,
          -32.174156188964844,
          -32.05937576293945,
          -34.00844192504883,
          -34.08967971801758,
          -34.79903793334961,
          -35.11701202392578,
          -36.58047103881836,
          -36.488319396972656,
          -34.24566650390625,
          -34.82771682739258,
          -29.859451293945312,
          -13.779707908630371,
          -33.97123336791992,
          -31.38517189025879,
          -5.555540084838867,
          -31.466262817382812,
          -16.388931274414062,
          -31.75667953491211,
          -15.11572265625,
          -32.41477966308594,
          -13.747756004333496,
          -35.15947723388672,
          -31.72511863708496,
          -30.713735580444336,
          -30.294878005981445,
          -32.54854965209961,
          -32.48763656616211,
          -25.083189010620117
         ],
         "xaxis": "x",
         "y": [
          -18.290077209472656,
          -16.66628646850586,
          -18.702741622924805,
          -8.548847198486328,
          -15.768685340881348,
          -17.751562118530273,
          25.961872100830078,
          -18.214824676513672,
          -15.262506484985352,
          -16.145252227783203,
          -14.906311988830566,
          -16.712249755859375,
          -3.049384355545044,
          6.801610946655273,
          -14.4447660446167,
          -16.96241569519043,
          -16.51852798461914,
          -19.740827560424805,
          -19.0468807220459,
          -17.746044158935547,
          -17.9588680267334,
          -16.205385208129883,
          -15.579093933105469,
          -14.827589988708496,
          -18.504419326782227,
          -15.360899925231934,
          -5.011446475982666,
          -19.049068450927734,
          -16.488224029541016,
          -18.67202377319336,
          -16.207643508911133,
          -3.11808443069458,
          -16.920005798339844,
          -2.311307191848755,
          -14.230009078979492,
          -4.992321014404297,
          -19.428298950195312,
          -15.3665189743042,
          -16.323318481445312,
          -17.398149490356445,
          -16.17780113220215,
          -16.414566040039062,
          -6.6947712898254395
         ],
         "yaxis": "y"
        },
        {
         "hovertemplate": "color=399<br>symbol=399<br>x=%{x}<br>y=%{y}<extra></extra>",
         "legendgroup": "399, 399",
         "marker": {
          "color": "#FF97FF",
          "opacity": 0.3,
          "symbol": "x"
         },
         "mode": "markers",
         "name": "399, 399",
         "showlegend": true,
         "type": "scattergl",
         "x": [
          42.71984100341797,
          42.33547592163086,
          38.027164459228516,
          40.57830047607422,
          42.83134078979492,
          47.73115158081055,
          42.553977966308594,
          42.897361755371094,
          46.29179382324219,
          42.00483703613281,
          46.72707748413086,
          46.17171096801758,
          41.945960998535156,
          44.45646667480469,
          40.93235778808594,
          41.92417526245117,
          32.836578369140625,
          45.93388366699219,
          43.06846237182617,
          40.31697082519531,
          41.91417694091797,
          42.963722229003906,
          42.887508392333984,
          40.40255355834961,
          46.32197189331055,
          48.52099609375,
          46.8371467590332,
          42.57568359375,
          45.177188873291016,
          26.814970016479492,
          1.1417927742004395,
          45.732948303222656,
          47.09333038330078,
          48.09244155883789,
          7.067920207977295,
          42.65353012084961,
          45.45380401611328,
          40.00617980957031,
          41.96846008300781,
          45.80852127075195,
          48.54785919189453,
          44.55177688598633,
          40.5424919128418,
          40.8282585144043,
          43.034400939941406,
          -0.715237557888031,
          41.674285888671875,
          42.894832611083984,
          43.887901306152344,
          40.944576263427734,
          44.68593978881836,
          44.69622039794922,
          46.22175598144531,
          43.6798210144043,
          41.220123291015625,
          45.17900848388672,
          45.22306823730469,
          40.18413543701172,
          42.637176513671875,
          44.558433532714844,
          46.52200698852539,
          46.77490997314453,
          45.068145751953125,
          46.21125411987305,
          42.48271942138672,
          45.427616119384766,
          40.25650405883789,
          40.85517501831055,
          45.156803131103516,
          48.170677185058594,
          40.842613220214844,
          43.6003303527832,
          43.366607666015625,
          47.68137741088867,
          45.688316345214844,
          46.404666900634766,
          41.51940155029297,
          44.165740966796875,
          45.96416091918945,
          42.495201110839844,
          46.44041061401367,
          46.19928741455078,
          0.729738712310791,
          46.324527740478516,
          46.292266845703125,
          46.324337005615234,
          44.508079528808594,
          44.101688385009766,
          39.285011291503906,
          -23.385454177856445
         ],
         "xaxis": "x",
         "y": [
          -20.712894439697266,
          -26.943012237548828,
          -9.035520553588867,
          -23.686100006103516,
          -24.805757522583008,
          -22.317081451416016,
          -23.928409576416016,
          -26.157493591308594,
          -22.52610206604004,
          -19.409271240234375,
          -24.466434478759766,
          -25.609975814819336,
          -23.274293899536133,
          -23.853717803955078,
          -26.082773208618164,
          -24.4727840423584,
          13.611441612243652,
          -21.00106430053711,
          -25.482574462890625,
          -24.241456985473633,
          -25.3157901763916,
          -23.6601505279541,
          -18.485965728759766,
          -19.960723876953125,
          -22.9802188873291,
          -24.780101776123047,
          -25.67561912536621,
          -20.258914947509766,
          -20.791202545166016,
          -28.788301467895508,
          -14.186635971069336,
          -24.79897689819336,
          -23.20657730102539,
          -22.587600708007812,
          -10.559518814086914,
          -20.18850326538086,
          -20.88760757446289,
          -25.89153480529785,
          -23.24570655822754,
          -22.958532333374023,
          -24.69099998474121,
          -23.28082847595215,
          -25.322126388549805,
          -24.9738826751709,
          -25.297473907470703,
          -14.406957626342773,
          -21.28441619873047,
          -24.990373611450195,
          -22.39939308166504,
          -23.339609146118164,
          -19.814922332763672,
          -21.32410430908203,
          -25.107473373413086,
          -21.539955139160156,
          -26.1152400970459,
          -24.83477210998535,
          -20.48621368408203,
          -23.795372009277344,
          -23.176786422729492,
          -26.135995864868164,
          -26.74187469482422,
          -25.801733016967773,
          -19.44185447692871,
          -22.01188087463379,
          -20.036272048950195,
          -19.43288230895996,
          -24.61165428161621,
          -24.42211151123047,
          -18.47893524169922,
          -23.247535705566406,
          -25.536218643188477,
          -20.025177001953125,
          -26.03132438659668,
          -21.853940963745117,
          -25.84517478942871,
          -19.995067596435547,
          -21.71062469482422,
          -22.50094985961914,
          -20.46453285217285,
          -23.894071578979492,
          -25.61838150024414,
          -23.32997703552246,
          27.303667068481445,
          -18.398521423339844,
          -24.96215057373047,
          -21.796987533569336,
          -20.99666404724121,
          -21.913557052612305,
          -24.36713409423828,
          -58.86763000488281
         ],
         "yaxis": "y"
        },
        {
         "hovertemplate": "color=433<br>symbol=433<br>x=%{x}<br>y=%{y}<extra></extra>",
         "legendgroup": "433, 433",
         "marker": {
          "color": "#FECB52",
          "opacity": 0.3,
          "symbol": "cross"
         },
         "mode": "markers",
         "name": "433, 433",
         "showlegend": true,
         "type": "scattergl",
         "x": [
          -27.809734344482422,
          0.6134358644485474,
          -28.381153106689453,
          -29.935176849365234,
          -30.078350067138672,
          -30.08260154724121,
          -30.753456115722656,
          -22.520597457885742,
          -30.18455696105957,
          -28.533857345581055,
          -30.321537017822266,
          -29.677143096923828,
          -30.964645385742188,
          -30.841896057128906,
          -29.890792846679688,
          -27.90686798095703,
          -30.108430862426758,
          -21.946420669555664,
          -29.845674514770508,
          -30.01474380493164,
          -19.598804473876953,
          -31.051054000854492,
          -30.692750930786133,
          -29.55702781677246,
          -30.38557243347168,
          -3.1185948848724365,
          -31.689773559570312,
          -29.55661392211914,
          -22.083534240722656,
          -22.252214431762695,
          -31.592098236083984,
          -28.635435104370117,
          -30.55815887451172
         ],
         "xaxis": "x",
         "y": [
          -2.8117408752441406,
          28.03226661682129,
          -0.31879279017448425,
          -3.6060519218444824,
          -1.88359534740448,
          -0.48433610796928406,
          -1.8375170230865479,
          -0.8243734836578369,
          -2.8729240894317627,
          -1.9060770273208618,
          -1.5237727165222168,
          -1.9806593656539917,
          -1.3420004844665527,
          -2.971095323562622,
          -3.4732980728149414,
          -3.1401402950286865,
          -0.9318572282791138,
          26.197315216064453,
          -1.1358224153518677,
          -2.0723657608032227,
          4.614494323730469,
          -0.17307792603969574,
          -2.2114810943603516,
          0.7371562719345093,
          -4.014674663543701,
          -10.747757911682129,
          -1.3946667909622192,
          -0.8132013082504272,
          -0.7524160146713257,
          -12.221110343933105,
          -2.649686098098755,
          -3.2556815147399902,
          -0.4573128819465637
         ],
         "yaxis": "y"
        },
        {
         "hovertemplate": "color=384<br>symbol=384<br>x=%{x}<br>y=%{y}<extra></extra>",
         "legendgroup": "384, 384",
         "marker": {
          "color": "#636efa",
          "opacity": 0.3,
          "symbol": "circle"
         },
         "mode": "markers",
         "name": "384, 384",
         "showlegend": true,
         "type": "scattergl",
         "x": [
          -3.2034428119659424,
          -2.29935622215271,
          0.7542724609375,
          -3.9800024032592773,
          -2.0079474449157715,
          0.20727555453777313,
          -1.4493054151535034,
          -1.1765310764312744,
          -3.3470568656921387,
          -5.423185348510742,
          -1.6368147134780884,
          -2.965698480606079,
          -5.316848278045654,
          -3.7648122310638428,
          -2.7785098552703857,
          -2.2331902980804443,
          -0.7828072905540466,
          -3.13319993019104,
          -3.2005534172058105,
          -1.786666750907898,
          -0.6259151697158813,
          -1.5590357780456543,
          -0.49357372522354126,
          -0.27538320422172546,
          -2.0834872722625732,
          -0.6324551105499268,
          -2.2262585163116455,
          -2.993556022644043,
          -0.4983164668083191,
          -2.5268726348876953,
          -1.0963648557662964,
          -2.236811876296997,
          -2.3984603881835938
         ],
         "xaxis": "x",
         "y": [
          66.77738952636719,
          67.14151763916016,
          51.77680969238281,
          68.22367095947266,
          69.16449737548828,
          68.30401611328125,
          70.28752899169922,
          66.97193145751953,
          68.49665069580078,
          71.32508850097656,
          69.82887268066406,
          68.03950500488281,
          71.50489044189453,
          69.83586120605469,
          67.98162078857422,
          68.75806427001953,
          66.82984161376953,
          69.06071472167969,
          68.40531921386719,
          68.1015396118164,
          67.73766326904297,
          -13.969834327697754,
          68.4640884399414,
          66.23140716552734,
          68.41500091552734,
          68.3513412475586,
          67.28520202636719,
          67.91596984863281,
          66.60784912109375,
          68.47087097167969,
          67.63432312011719,
          66.4842300415039,
          68.828857421875
         ],
         "yaxis": "y"
        },
        {
         "hovertemplate": "color=412<br>symbol=412<br>x=%{x}<br>y=%{y}<extra></extra>",
         "legendgroup": "412, 412",
         "marker": {
          "color": "#EF553B",
          "opacity": 0.3,
          "symbol": "diamond"
         },
         "mode": "markers",
         "name": "412, 412",
         "showlegend": true,
         "type": "scattergl",
         "x": [
          -19.310470581054688,
          -16.45009422302246,
          -20.453895568847656,
          -16.297534942626953,
          -23.749250411987305,
          -18.94656753540039,
          -19.35500717163086,
          -14.205860137939453,
          -17.41046714782715,
          -21.438371658325195,
          17.9589786529541,
          -13.866823196411133,
          -18.775527954101562,
          -16.66275978088379,
          -17.951984405517578,
          -23.022062301635742,
          -17.655607223510742,
          -18.167173385620117,
          -19.160451889038086,
          -20.517770767211914,
          -17.095178604125977,
          9.515909194946289,
          -19.738317489624023,
          -15.298697471618652,
          -17.619335174560547,
          -6.250150203704834,
          -20.049495697021484,
          -16.081830978393555,
          -17.878604888916016,
          -13.644279479980469,
          -19.07281494140625,
          20.28961181640625,
          -18.907562255859375,
          -13.679045677185059,
          -21.567554473876953,
          -7.683647632598877,
          -18.753307342529297,
          -18.56624412536621,
          -15.993477821350098,
          -18.41825294494629,
          -18.991960525512695,
          -23.74431610107422,
          -18.15970802307129,
          -17.59906768798828,
          -22.977582931518555,
          -17.65679359436035,
          -20.112241744995117,
          -15.228304862976074,
          -14.88219928741455,
          -20.34503746032715,
          -17.296173095703125,
          -11.369890213012695,
          -18.653087615966797,
          -17.795907974243164,
          -14.63438892364502,
          -11.385628700256348,
          -16.409204483032227,
          -18.89345932006836,
          -16.41335105895996,
          -14.434471130371094,
          2.901158094406128,
          -17.97084617614746,
          6.768648624420166,
          -10.564340591430664,
          -16.801443099975586,
          -18.108102798461914,
          -5.943174362182617,
          -18.296283721923828,
          -13.289766311645508,
          -17.635765075683594,
          -16.055927276611328,
          -17.994895935058594,
          -17.668622970581055,
          3.161298990249634,
          -11.392144203186035,
          -19.25295639038086,
          -17.653478622436523,
          -20.470474243164062,
          -20.648845672607422,
          -14.630985260009766,
          -19.440784454345703,
          -18.95929527282715
         ],
         "xaxis": "x",
         "y": [
          29.347501754760742,
          32.68107604980469,
          29.50680923461914,
          27.317312240600586,
          26.760440826416016,
          30.278079986572266,
          27.58588218688965,
          33.25767135620117,
          31.602832794189453,
          26.47722816467285,
          8.526023864746094,
          27.59771728515625,
          23.51187515258789,
          31.600549697875977,
          26.492412567138672,
          25.34366798400879,
          26.446388244628906,
          31.485240936279297,
          22.07990264892578,
          -15.668631553649902,
          29.754304885864258,
          23.870147705078125,
          23.234481811523438,
          29.090103149414062,
          32.97894287109375,
          28.50130844116211,
          30.887218475341797,
          28.903541564941406,
          28.552257537841797,
          29.750106811523438,
          31.910324096679688,
          11.644352912902832,
          27.144763946533203,
          27.66032600402832,
          27.188255310058594,
          31.996931076049805,
          31.771135330200195,
          32.57616424560547,
          29.39067268371582,
          27.327680587768555,
          25.602170944213867,
          27.025529861450195,
          22.92181968688965,
          30.40938949584961,
          25.34046745300293,
          21.44264030456543,
          23.815109252929688,
          29.1138916015625,
          19.07249641418457,
          26.321884155273438,
          24.91192054748535,
          31.40534782409668,
          23.68508529663086,
          27.614303588867188,
          29.395530700683594,
          19.049972534179688,
          34.37810134887695,
          25.84474754333496,
          30.31060218811035,
          31.5981388092041,
          20.324857711791992,
          31.193544387817383,
          -10.609353065490723,
          32.498775482177734,
          32.61302185058594,
          31.006589889526367,
          32.731834411621094,
          22.365503311157227,
          29.422321319580078,
          32.43717575073242,
          29.334409713745117,
          35.590274810791016,
          28.843908309936523,
          22.938037872314453,
          31.387577056884766,
          29.50676727294922,
          33.056034088134766,
          25.982309341430664,
          28.288061141967773,
          30.931734085083008,
          31.100868225097656,
          23.51455307006836
         ],
         "yaxis": "y"
        },
        {
         "hovertemplate": "color=1<br>symbol=1<br>x=%{x}<br>y=%{y}<extra></extra>",
         "legendgroup": "1, 1",
         "marker": {
          "color": "#00cc96",
          "opacity": 0.3,
          "symbol": "square"
         },
         "mode": "markers",
         "name": "1, 1",
         "showlegend": true,
         "type": "scattergl",
         "x": [
          61.73674774169922,
          64.59294128417969,
          60.805179595947266,
          61.53606414794922,
          0.3524954319000244,
          62.91245651245117,
          62.880680084228516,
          61.17264938354492,
          64.74151611328125,
          60.14194869995117,
          62.34944152832031,
          64.94512176513672,
          61.81784439086914,
          64.52363586425781,
          65.36151885986328,
          64.66216278076172,
          66.13278198242188,
          63.79227066040039,
          63.5393180847168,
          65.14906311035156,
          61.02009201049805,
          63.12342071533203,
          63.987056732177734,
          64.61250305175781,
          2.512335777282715,
          62.08705520629883,
          63.86746597290039,
          60.21736526489258,
          64.40416717529297,
          62.81146240234375,
          65.34407043457031,
          63.54923629760742,
          65.37615203857422,
          65.08785247802734,
          61.397438049316406,
          64.12705993652344,
          64.2658462524414,
          64.61029052734375,
          60.960853576660156,
          64.33782958984375,
          61.07377624511719,
          65.40914916992188
         ],
         "xaxis": "x",
         "y": [
          -19.72926139831543,
          -23.850229263305664,
          -18.816518783569336,
          -19.03523063659668,
          -10.072550773620605,
          -19.464609146118164,
          -21.951330184936523,
          -20.937437057495117,
          -21.855432510375977,
          -19.196857452392578,
          -20.320863723754883,
          -22.52350616455078,
          -19.801733016967773,
          -21.441465377807617,
          -20.042739868164062,
          -23.722211837768555,
          -21.503498077392578,
          -21.663393020629883,
          -20.491241455078125,
          -22.724567413330078,
          -18.133684158325195,
          -19.575923919677734,
          -22.32996368408203,
          -21.177942276000977,
          -8.888075828552246,
          -19.946048736572266,
          -21.305103302001953,
          -19.391111373901367,
          -20.985313415527344,
          -18.942184448242188,
          -21.314346313476562,
          -19.212074279785156,
          -21.876239776611328,
          -20.731632232666016,
          -21.797056198120117,
          -20.386594772338867,
          -22.27361297607422,
          -20.882587432861328,
          -18.957826614379883,
          -22.45425033569336,
          -22.31513786315918,
          -20.762187957763672
         ],
         "yaxis": "y"
        },
        {
         "hovertemplate": "color=252<br>symbol=252<br>x=%{x}<br>y=%{y}<extra></extra>",
         "legendgroup": "252, 252",
         "marker": {
          "color": "#ab63fa",
          "opacity": 0.3,
          "symbol": "x"
         },
         "mode": "markers",
         "name": "252, 252",
         "showlegend": true,
         "type": "scattergl",
         "x": [
          -47.46174240112305,
          -50.04195022583008,
          -49.625877380371094,
          -51.83973693847656,
          -52.02537536621094,
          -47.4273567199707,
          -50.952205657958984,
          -50.79920196533203,
          -50.71334457397461,
          -49.302547454833984,
          -46.075984954833984,
          -48.932891845703125,
          -51.09682846069336,
          -46.25537872314453,
          -51.41474151611328,
          -47.81095504760742,
          -47.90586853027344,
          -50.45212173461914,
          -47.883731842041016,
          -52.15272903442383,
          -51.80868148803711,
          -50.38444900512695,
          -47.83196258544922,
          -48.40121078491211,
          -50.87508773803711,
          -48.968196868896484,
          -50.188621520996094,
          -48.72536849975586,
          -50.879573822021484,
          -51.451839447021484,
          -50.261146545410156,
          -47.589195251464844,
          -47.61121368408203,
          -48.59952163696289,
          -52.52938461303711,
          -48.75196075439453,
          -49.443321228027344,
          -49.25737762451172,
          -50.10032653808594,
          -48.89756774902344,
          -47.948974609375,
          -50.078487396240234,
          -49.517677307128906,
          -48.49513244628906,
          -47.556236267089844,
          -49.219051361083984,
          -49.67589569091797,
          -49.312191009521484,
          -47.647422790527344,
          -48.3161506652832,
          -47.21727752685547,
          -44.01089096069336,
          -49.50075912475586
         ],
         "xaxis": "x",
         "y": [
          -20.694110870361328,
          -17.53217315673828,
          -20.153400421142578,
          -21.30411148071289,
          -20.974336624145508,
          -20.172679901123047,
          -19.571290969848633,
          -20.480501174926758,
          -19.813983917236328,
          -21.54102897644043,
          -21.301156997680664,
          -20.878122329711914,
          -19.9970760345459,
          -21.843751907348633,
          -21.278236389160156,
          -24.53168487548828,
          -22.826581954956055,
          -21.21074867248535,
          -21.30030632019043,
          -22.72071075439453,
          -19.057861328125,
          -20.57016944885254,
          -22.153644561767578,
          -21.02265167236328,
          -16.4794864654541,
          -23.14377212524414,
          -21.948123931884766,
          -19.957059860229492,
          -16.552087783813477,
          -21.791244506835938,
          -22.8507080078125,
          -22.683034896850586,
          -21.354717254638672,
          -20.055233001708984,
          -18.579557418823242,
          -21.008895874023438,
          -16.01625633239746,
          -20.483430862426758,
          -25.749374389648438,
          -21.598588943481445,
          -21.989315032958984,
          -25.669309616088867,
          -17.014184951782227,
          -22.44156265258789,
          -22.594324111938477,
          -21.994041442871094,
          -17.318294525146484,
          -21.492359161376953,
          -21.3897762298584,
          -18.969982147216797,
          -21.30133819580078,
          -19.597658157348633,
          -16.71124267578125
         ],
         "yaxis": "y"
        },
        {
         "hovertemplate": "color=302<br>symbol=302<br>x=%{x}<br>y=%{y}<extra></extra>",
         "legendgroup": "302, 302",
         "marker": {
          "color": "#FFA15A",
          "opacity": 0.3,
          "symbol": "cross"
         },
         "mode": "markers",
         "name": "302, 302",
         "showlegend": true,
         "type": "scattergl",
         "x": [
          -2.2363829612731934,
          -0.730411946773529,
          -0.9315791130065918,
          -1.3577687740325928,
          -0.6325510144233704,
          -1.3121861219406128,
          -2.3591270446777344,
          -22.862125396728516,
          0.13702358305454254,
          0.37005701661109924,
          -1.8349127769470215,
          -0.597926914691925,
          1.1884764432907104,
          -1.9484264850616455,
          -2.3939497470855713,
          -0.08268394321203232,
          -0.6496862769126892,
          -0.9320605993270874,
          -1.4044981002807617,
          7.647444248199463,
          0.4441406726837158,
          -1.3756024837493896,
          -1.4874215126037598,
          -1.9466826915740967,
          0.9866043925285339,
          0.4005434513092041
         ],
         "xaxis": "x",
         "y": [
          -62.308448791503906,
          -61.8118782043457,
          -62.715614318847656,
          -60.22792434692383,
          -62.20632553100586,
          -58.678348541259766,
          -62.292049407958984,
          -25.632596969604492,
          -62.67833709716797,
          -64.04801940917969,
          -61.35292434692383,
          -62.20427703857422,
          -61.172489166259766,
          -62.38915252685547,
          -59.72254943847656,
          -62.668731689453125,
          -57.15937423706055,
          -62.344459533691406,
          -60.03207015991211,
          5.236405849456787,
          -63.56683349609375,
          -59.50923156738281,
          -61.60172653198242,
          -59.701080322265625,
          -61.90807342529297,
          -63.45576858520508
         ],
         "yaxis": "y"
        },
        {
         "hovertemplate": "color=125<br>symbol=125<br>x=%{x}<br>y=%{y}<extra></extra>",
         "legendgroup": "125, 125",
         "marker": {
          "color": "#19d3f3",
          "opacity": 0.3,
          "symbol": "circle"
         },
         "mode": "markers",
         "name": "125, 125",
         "showlegend": true,
         "type": "scattergl",
         "x": [
          43.99253463745117,
          8.97498893737793,
          -1.5129718780517578,
          10.253755569458008,
          66.77850341796875,
          0.5054906010627747,
          52.69892501831055,
          67.21495056152344,
          30.81859588623047,
          -11.752561569213867,
          -2.165586233139038,
          -1.4130009412765503,
          -1.1194496154785156,
          -2.459826946258545,
          3.281291961669922,
          30.821725845336914
         ],
         "xaxis": "x",
         "y": [
          9.805780410766602,
          30.958663940429688,
          24.076082229614258,
          28.046552658081055,
          7.0908966064453125,
          29.060827255249023,
          32.189697265625,
          7.06426477432251,
          53.377559661865234,
          28.716529846191406,
          23.453500747680664,
          23.810346603393555,
          24.4659481048584,
          25.185291290283203,
          36.57833480834961,
          2.0697970390319824
         ],
         "yaxis": "y"
        },
        {
         "hovertemplate": "color=450<br>symbol=450<br>x=%{x}<br>y=%{y}<extra></extra>",
         "legendgroup": "450, 450",
         "marker": {
          "color": "#FF6692",
          "opacity": 0.3,
          "symbol": "diamond"
         },
         "mode": "markers",
         "name": "450, 450",
         "showlegend": true,
         "type": "scattergl",
         "x": [
          9.070887565612793,
          4.097999572753906,
          8.470779418945312,
          -5.24637508392334,
          -6.359539031982422,
          -4.224704265594482,
          -4.728982448577881,
          5.055149555206299,
          -4.727807521820068,
          -6.569949150085449,
          -6.942377090454102,
          -5.611125946044922,
          21.395153045654297,
          -14.178876876831055,
          20.890270233154297,
          1.2211021184921265,
          -6.403282642364502,
          -5.784124851226807,
          -6.383279323577881,
          -4.743312835693359,
          -6.444065570831299,
          -13.890168190002441,
          18.420560836791992,
          -8.657999992370605
         ],
         "xaxis": "x",
         "y": [
          25.7947940826416,
          14.11241626739502,
          -5.072968006134033,
          0.4889284670352936,
          1.4631730318069458,
          5.760213851928711,
          0.7210198044776917,
          23.479093551635742,
          9.936293601989746,
          1.7335467338562012,
          2.5715882778167725,
          0.5572503209114075,
          3.9870688915252686,
          16.251781463623047,
          14.442798614501953,
          -0.0009795674122869968,
          1.6082452535629272,
          0.4014340341091156,
          0.960277259349823,
          10.818705558776855,
          0.08944584429264069,
          17.239864349365234,
          13.045207023620605,
          1.636391282081604
         ],
         "yaxis": "y"
        },
        {
         "hovertemplate": "color=430<br>symbol=430<br>x=%{x}<br>y=%{y}<extra></extra>",
         "legendgroup": "430, 430",
         "marker": {
          "color": "#B6E880",
          "opacity": 0.3,
          "symbol": "square"
         },
         "mode": "markers",
         "name": "430, 430",
         "showlegend": true,
         "type": "scattergl",
         "x": [
          -55.11768341064453,
          -51.74268341064453,
          -57.29193115234375,
          -51.98634338378906,
          -24.378820419311523,
          -56.201377868652344,
          -56.413509368896484,
          -49.61827850341797,
          -35.741432189941406,
          -35.71170425415039,
          -56.06587219238281,
          -55.79414367675781,
          -41.57795715332031,
          -53.27914810180664,
          -55.509315490722656,
          -49.50880813598633,
          -6.291047096252441,
          -54.47539520263672,
          -51.4931755065918,
          -53.59372329711914,
          -55.54591751098633,
          -54.53141403198242,
          -56.08496856689453,
          -55.389190673828125,
          -54.2642936706543,
          -56.051509857177734,
          -55.39167022705078,
          -50.34368133544922,
          -54.95461654663086,
          -57.338436126708984,
          -56.02395248413086,
          -56.023338317871094,
          -55.6282958984375,
          -54.85847473144531,
          0.4057120382785797,
          -55.01832962036133,
          -56.60050582885742,
          -52.48895263671875,
          -53.34183120727539,
          -55.78351974487305,
          -52.182804107666016,
          -54.59937286376953,
          -50.85206985473633,
          -55.886268615722656,
          -52.87657165527344,
          -54.28012466430664,
          -51.042755126953125,
          -53.17491149902344,
          -52.34830093383789,
          -52.25803756713867,
          -0.80055832862854,
          -54.96760559082031
         ],
         "xaxis": "x",
         "y": [
          6.08853006362915,
          9.289810180664062,
          7.5650715827941895,
          7.2697224617004395,
          -7.701375961303711,
          9.36817741394043,
          10.189863204956055,
          7.224333763122559,
          -0.8806712031364441,
          -0.8900951147079468,
          6.245730876922607,
          12.200929641723633,
          2.9406750202178955,
          5.374349117279053,
          8.643647193908691,
          20.740612030029297,
          28.597511291503906,
          4.780016899108887,
          7.7805867195129395,
          6.899501323699951,
          8.61417007446289,
          5.645081520080566,
          7.594182968139648,
          8.56845474243164,
          6.6768622398376465,
          3.4505631923675537,
          10.024539947509766,
          5.38801383972168,
          9.197519302368164,
          10.236783981323242,
          4.238865375518799,
          6.266707420349121,
          7.774068355560303,
          6.859584808349609,
          -9.22253704071045,
          7.2734479904174805,
          8.766740798950195,
          7.603033542633057,
          9.08055591583252,
          8.149770736694336,
          7.174494743347168,
          8.073921203613281,
          7.130899906158447,
          9.759766578674316,
          8.669775009155273,
          8.565013885498047,
          8.22739315032959,
          8.936047554016113,
          6.4574079513549805,
          6.33239221572876,
          28.55135154724121,
          7.830349922180176
         ],
         "yaxis": "y"
        },
        {
         "hovertemplate": "color=83<br>symbol=83<br>x=%{x}<br>y=%{y}<extra></extra>",
         "legendgroup": "83, 83",
         "marker": {
          "color": "#FF97FF",
          "opacity": 0.3,
          "symbol": "x"
         },
         "mode": "markers",
         "name": "83, 83",
         "showlegend": true,
         "type": "scattergl",
         "x": [
          15.730499267578125,
          22.030576705932617
         ],
         "xaxis": "x",
         "y": [
          -8.858559608459473,
          -11.802201271057129
         ],
         "yaxis": "y"
        },
        {
         "hovertemplate": "color=231<br>symbol=231<br>x=%{x}<br>y=%{y}<extra></extra>",
         "legendgroup": "231, 231",
         "marker": {
          "color": "#FECB52",
          "opacity": 0.3,
          "symbol": "cross"
         },
         "mode": "markers",
         "name": "231, 231",
         "showlegend": true,
         "type": "scattergl",
         "x": [
          -5.974221706390381,
          -7.660526275634766,
          2.562077522277832,
          -7.991377353668213,
          4.678779602050781,
          -8.216207504272461,
          -5.872271537780762,
          -8.088933944702148,
          27.221492767333984,
          -8.335065841674805,
          -8.45952033996582,
          -5.606769561767578,
          -5.008938312530518,
          -5.62495756149292,
          -8.196967124938965,
          -5.193764686584473,
          -7.8730340003967285,
          -6.443767547607422,
          -6.952227592468262,
          -8.401788711547852,
          -8.466268539428711,
          -4.279806137084961,
          6.0026373863220215
         ],
         "xaxis": "x",
         "y": [
          -14.357665061950684,
          -14.17796802520752,
          24.64438819885254,
          -14.137056350708008,
          36.907958984375,
          -13.554813385009766,
          -14.485507011413574,
          -14.961954116821289,
          11.825103759765625,
          -15.662158012390137,
          -15.97970199584961,
          -14.725855827331543,
          -11.120179176330566,
          -15.413294792175293,
          -13.764082908630371,
          -12.13328742980957,
          -12.66012191772461,
          -13.131600379943848,
          -15.723658561706543,
          -13.64429759979248,
          -13.409076690673828,
          -15.251168251037598,
          18.320446014404297
         ],
         "yaxis": "y"
        },
        {
         "hovertemplate": "color=340<br>symbol=340<br>x=%{x}<br>y=%{y}<extra></extra>",
         "legendgroup": "340, 340",
         "marker": {
          "color": "#636efa",
          "opacity": 0.3,
          "symbol": "circle"
         },
         "mode": "markers",
         "name": "340, 340",
         "showlegend": true,
         "type": "scattergl",
         "x": [
          -0.14465323090553284,
          -2.2805025577545166,
          -1.9452483654022217,
          -0.4984551668167114,
          0.20362232625484467,
          -2.01718807220459,
          -2.1969449520111084,
          0.3741174638271332,
          0.6670148372650146,
          -1.9144790172576904,
          -0.33927619457244873,
          -0.19005592167377472,
          -1.745119571685791,
          2.1657278537750244,
          18.379653930664062,
          -0.04934164881706238,
          0.7428780794143677,
          0.8883999586105347,
          -3.166612148284912,
          1.4175002574920654,
          -0.3941587209701538,
          -1.514602780342102,
          0.744979977607727,
          -0.6600714921951294,
          1.4511137008666992,
          -0.684209942817688,
          -3.006333112716675
         ],
         "xaxis": "x",
         "y": [
          9.311333656311035,
          4.7673492431640625,
          5.351492404937744,
          7.250271320343018,
          16.920894622802734,
          6.9133381843566895,
          2.702928066253662,
          1.6647089719772339,
          6.910147190093994,
          7.734966278076172,
          6.746504306793213,
          1.851502776145935,
          4.15338134765625,
          -0.9556943774223328,
          15.602055549621582,
          8.0670804977417,
          9.504463195800781,
          7.017543315887451,
          5.4250102043151855,
          7.065006256103516,
          35.01588821411133,
          5.567691326141357,
          16.8299617767334,
          9.054831504821777,
          7.021234035491943,
          7.351637840270996,
          5.3224663734436035
         ],
         "yaxis": "y"
        },
        {
         "hovertemplate": "color=137<br>symbol=137<br>x=%{x}<br>y=%{y}<extra></extra>",
         "legendgroup": "137, 137",
         "marker": {
          "color": "#EF553B",
          "opacity": 0.3,
          "symbol": "diamond"
         },
         "mode": "markers",
         "name": "137, 137",
         "showlegend": true,
         "type": "scattergl",
         "x": [
          -0.6113024950027466,
          -2.1567912101745605,
          29.630388259887695,
          -12.801156044006348,
          -0.683720052242279,
          29.631065368652344,
          -2.2168378829956055,
          -6.308277606964111,
          29.630626678466797,
          -6.141811370849609,
          -4.434629917144775,
          -0.2437790334224701,
          18.20021629333496,
          29.63111686706543,
          -2.3304378986358643
         ],
         "xaxis": "x",
         "y": [
          29.203948974609375,
          27.990991592407227,
          54.21656799316406,
          31.333290100097656,
          -16.131820678710938,
          54.21699142456055,
          28.02926254272461,
          32.00613021850586,
          54.21638870239258,
          32.277549743652344,
          30.186735153198242,
          28.998027801513672,
          7.377758979797363,
          54.21696472167969,
          28.31790542602539
         ],
         "yaxis": "y"
        },
        {
         "hovertemplate": "color=223<br>symbol=223<br>x=%{x}<br>y=%{y}<extra></extra>",
         "legendgroup": "223, 223",
         "marker": {
          "color": "#00cc96",
          "opacity": 0.3,
          "symbol": "square"
         },
         "mode": "markers",
         "name": "223, 223",
         "showlegend": true,
         "type": "scattergl",
         "x": [
          31.91384506225586,
          31.925434112548828,
          31.913667678833008,
          31.914676666259766
         ],
         "xaxis": "x",
         "y": [
          53.36855697631836,
          53.36890411376953,
          53.368736267089844,
          53.3698616027832
         ],
         "yaxis": "y"
        },
        {
         "hovertemplate": "color=389<br>symbol=389<br>x=%{x}<br>y=%{y}<extra></extra>",
         "legendgroup": "389, 389",
         "marker": {
          "color": "#ab63fa",
          "opacity": 0.3,
          "symbol": "x"
         },
         "mode": "markers",
         "name": "389, 389",
         "showlegend": true,
         "type": "scattergl",
         "x": [
          35.47138595581055,
          33.98526382446289,
          3.2919461727142334,
          30.97696876525879,
          33.9238166809082,
          31.342193603515625,
          34.86687088012695,
          33.494117736816406,
          33.60536575317383,
          35.43157196044922,
          32.76905059814453,
          33.88028335571289,
          32.501365661621094,
          34.968223571777344,
          33.48356246948242,
          33.247825622558594,
          32.65834426879883,
          33.62117004394531,
          34.65745544433594,
          30.761198043823242,
          35.20886993408203,
          34.85151672363281,
          32.520572662353516,
          33.68248748779297,
          34.27495574951172,
          35.20560836791992,
          33.989559173583984,
          30.635099411010742,
          31.709314346313477,
          31.507753372192383,
          -1.0647449493408203,
          30.96687889099121,
          34.34859848022461,
          31.351268768310547,
          33.01036071777344,
          34.979373931884766,
          33.623294830322266,
          35.379032135009766,
          32.63564682006836,
          38.226173400878906,
          31.957191467285156,
          33.03882598876953,
          32.956947326660156,
          32.797515869140625,
          31.19957733154297,
          32.347145080566406,
          33.6733283996582,
          31.158077239990234,
          34.08967590332031,
          33.906700134277344
         ],
         "xaxis": "x",
         "y": [
          -15.938161849975586,
          -11.777379989624023,
          -9.36473560333252,
          -12.581101417541504,
          -12.060812950134277,
          -15.370738983154297,
          -16.47913360595703,
          -13.96871280670166,
          -10.521965026855469,
          -14.886695861816406,
          -16.761688232421875,
          -13.832783699035645,
          -13.677343368530273,
          -13.356372833251953,
          -11.64784049987793,
          -14.252575874328613,
          -13.972092628479004,
          -15.2524995803833,
          -10.818547248840332,
          -10.206757545471191,
          -11.785770416259766,
          -15.398587226867676,
          -10.411934852600098,
          -15.07530403137207,
          -15.56456184387207,
          -11.511943817138672,
          -14.510431289672852,
          -10.0706787109375,
          -11.489872932434082,
          -11.201016426086426,
          -7.31275749206543,
          -11.20536994934082,
          -15.064253807067871,
          -8.368236541748047,
          -15.610128402709961,
          -14.638832092285156,
          -15.722811698913574,
          -11.503949165344238,
          -11.716419219970703,
          -10.636225700378418,
          -11.403183937072754,
          -15.545984268188477,
          -10.559741973876953,
          -9.776681900024414,
          -12.329033851623535,
          -10.225057601928711,
          -14.20362377166748,
          -11.362509727478027,
          -15.53272533416748,
          -10.696207046508789
         ],
         "yaxis": "y"
        },
        {
         "hovertemplate": "color=369<br>symbol=369<br>x=%{x}<br>y=%{y}<extra></extra>",
         "legendgroup": "369, 369",
         "marker": {
          "color": "#FFA15A",
          "opacity": 0.3,
          "symbol": "cross"
         },
         "mode": "markers",
         "name": "369, 369",
         "showlegend": true,
         "type": "scattergl",
         "x": [
          2.9985761642456055,
          3.895965576171875,
          2.0876474380493164,
          2.0682854652404785,
          4.911556720733643,
          4.19180965423584,
          3.934791326522827,
          2.1385464668273926,
          3.403749704360962,
          4.278928756713867
         ],
         "xaxis": "x",
         "y": [
          46.76626968383789,
          47.199867248535156,
          47.48093032836914,
          45.731590270996094,
          44.9449348449707,
          47.18581771850586,
          45.88602066040039,
          45.82268524169922,
          46.34685134887695,
          45.75769805908203
         ],
         "yaxis": "y"
        },
        {
         "hovertemplate": "color=136<br>symbol=136<br>x=%{x}<br>y=%{y}<extra></extra>",
         "legendgroup": "136, 136",
         "marker": {
          "color": "#19d3f3",
          "opacity": 0.3,
          "symbol": "circle"
         },
         "mode": "markers",
         "name": "136, 136",
         "showlegend": true,
         "type": "scattergl",
         "x": [
          24.89876365661621,
          20.257549285888672,
          22.793563842773438,
          -4.794305801391602,
          23.606035232543945,
          22.48158073425293,
          1.190463662147522,
          20.476318359375,
          22.047069549560547,
          6.482053756713867,
          4.1654510498046875,
          19.008424758911133,
          21.983354568481445,
          20.578649520874023,
          21.83491325378418,
          21.874177932739258,
          -9.070991516113281,
          22.061626434326172,
          24.795265197753906,
          2.0424418449401855,
          -2.4262328147888184,
          9.046971321105957,
          21.636484146118164,
          7.178309440612793,
          21.820283889770508,
          20.419456481933594,
          20.913692474365234,
          24.037521362304688,
          22.420547485351562,
          20.426681518554688,
          21.66952896118164,
          22.863609313964844,
          20.740394592285156,
          20.0499210357666,
          22.994449615478516,
          18.698747634887695,
          24.187406539916992,
          18.966073989868164,
          -43.05000305175781,
          -12.356870651245117
         ],
         "xaxis": "x",
         "y": [
          7.031857013702393,
          5.958957672119141,
          4.6923508644104,
          10.397685050964355,
          5.8744215965271,
          7.135819435119629,
          24.66861343383789,
          7.7287116050720215,
          5.288383960723877,
          -8.171438217163086,
          15.651487350463867,
          4.631408214569092,
          2.7962706089019775,
          5.525395393371582,
          1.7397910356521606,
          5.730687618255615,
          -3.756587028503418,
          6.2194623947143555,
          7.4552764892578125,
          21.83597183227539,
          -7.920860767364502,
          -0.3154870867729187,
          5.117767810821533,
          -30.550521850585938,
          1.9932607412338257,
          9.463858604431152,
          7.4679484367370605,
          3.7129197120666504,
          3.9151926040649414,
          5.986902713775635,
          6.488889694213867,
          8.767840385437012,
          6.314482688903809,
          7.950128078460693,
          5.511062145233154,
          2.587555408477783,
          3.730327844619751,
          4.5637431144714355,
          16.842361450195312,
          21.6743221282959
         ],
         "yaxis": "y"
        },
        {
         "hovertemplate": "color=237<br>symbol=237<br>x=%{x}<br>y=%{y}<extra></extra>",
         "legendgroup": "237, 237",
         "marker": {
          "color": "#FF6692",
          "opacity": 0.3,
          "symbol": "diamond"
         },
         "mode": "markers",
         "name": "237, 237",
         "showlegend": true,
         "type": "scattergl",
         "x": [
          -26.822635650634766,
          -25.84942054748535,
          -24.582435607910156,
          -3.434201955795288,
          -27.98756217956543,
          -26.6590633392334,
          -24.71333885192871,
          -26.131052017211914,
          -24.82660484313965,
          -23.836822509765625,
          -26.67864227294922,
          -26.30763816833496,
          -27.39406394958496,
          -25.227445602416992,
          -24.60352325439453,
          -24.35633659362793,
          -24.940814971923828,
          -24.911739349365234,
          -24.575611114501953,
          -24.793214797973633,
          -25.192489624023438,
          -25.690874099731445,
          -25.6649112701416,
          -27.184019088745117,
          -26.14075469970703
         ],
         "xaxis": "x",
         "y": [
          -58.9114875793457,
          -59.922855377197266,
          -61.96308517456055,
          39.21892547607422,
          -59.222328186035156,
          -62.59562301635742,
          -63.00240707397461,
          -58.76336669921875,
          -63.697872161865234,
          -60.118431091308594,
          -62.50595474243164,
          -58.514644622802734,
          -57.6667366027832,
          -62.88627243041992,
          -59.057228088378906,
          -59.810523986816406,
          -62.95848083496094,
          -59.05457305908203,
          -62.31935119628906,
          -62.8931770324707,
          -59.17994689941406,
          -61.182010650634766,
          -60.89350128173828,
          -59.211002349853516,
          -60.23003387451172
         ],
         "yaxis": "y"
        },
        {
         "hovertemplate": "color=118<br>symbol=118<br>x=%{x}<br>y=%{y}<extra></extra>",
         "legendgroup": "118, 118",
         "marker": {
          "color": "#B6E880",
          "opacity": 0.3,
          "symbol": "square"
         },
         "mode": "markers",
         "name": "118, 118",
         "showlegend": true,
         "type": "scattergl",
         "x": [
          32.338218688964844,
          32.96860122680664,
          36.5175895690918,
          33.05458450317383,
          34.36075973510742,
          35.16397476196289,
          33.15522766113281,
          31.829286575317383,
          33.186100006103516,
          30.915348052978516,
          35.83811569213867,
          -43.582061767578125,
          31.779890060424805,
          26.354265213012695,
          32.332794189453125,
          33.498592376708984,
          31.83094024658203,
          32.97499465942383,
          36.30552291870117,
          34.85567092895508,
          35.54676818847656,
          35.75558090209961,
          33.915157318115234,
          35.962646484375,
          33.74692916870117,
          35.97500228881836,
          34.4197883605957,
          33.641197204589844,
          34.70320129394531,
          31.845014572143555,
          32.46669006347656,
          34.28459167480469,
          34.08436965942383,
          35.01181411743164,
          33.40899658203125,
          34.8812141418457,
          34.60251235961914,
          34.86001968383789,
          30.085203170776367,
          32.536224365234375,
          34.265708923339844,
          34.52619171142578,
          34.79096984863281,
          33.927223205566406,
          33.6229248046875,
          33.214881896972656,
          33.813568115234375,
          35.791812896728516,
          50.61839294433594,
          33.13597869873047,
          35.46825408935547,
          34.52658462524414,
          32.48655700683594
         ],
         "xaxis": "x",
         "y": [
          30.784170150756836,
          30.013206481933594,
          35.11162185668945,
          28.381614685058594,
          28.44108772277832,
          34.16869354248047,
          33.742820739746094,
          28.652212142944336,
          29.323867797851562,
          31.420921325683594,
          35.775169372558594,
          -18.80341339111328,
          29.941129684448242,
          28.277868270874023,
          29.32368278503418,
          28.869544982910156,
          30.088777542114258,
          28.65091896057129,
          28.216787338256836,
          35.67777633666992,
          35.09022521972656,
          34.30073165893555,
          34.72768020629883,
          35.94086837768555,
          31.51569175720215,
          26.504362106323242,
          34.893104553222656,
          34.996368408203125,
          33.68357467651367,
          29.80181312561035,
          28.05978012084961,
          31.204172134399414,
          28.24723243713379,
          35.894866943359375,
          29.261394500732422,
          34.40081787109375,
          33.75053405761719,
          35.03712463378906,
          25.09093475341797,
          31.330896377563477,
          34.19672393798828,
          29.874847412109375,
          33.75386047363281,
          28.795162200927734,
          31.560813903808594,
          33.750431060791016,
          31.071020126342773,
          34.473690032958984,
          24.019609451293945,
          28.88112449645996,
          34.957332611083984,
          31.76536750793457,
          26.620349884033203
         ],
         "yaxis": "y"
        },
        {
         "hovertemplate": "color=140<br>symbol=140<br>x=%{x}<br>y=%{y}<extra></extra>",
         "legendgroup": "140, 140",
         "marker": {
          "color": "#FF97FF",
          "opacity": 0.3,
          "symbol": "x"
         },
         "mode": "markers",
         "name": "140, 140",
         "showlegend": true,
         "type": "scattergl",
         "x": [
          3.975806951522827,
          -8.563722610473633,
          4.522057056427002,
          5.243745803833008,
          -8.791038513183594,
          0.2681368887424469
         ],
         "xaxis": "x",
         "y": [
          50.51749801635742,
          19.39910125732422,
          25.85977554321289,
          27.18036460876465,
          19.384567260742188,
          32.12136459350586
         ],
         "yaxis": "y"
        },
        {
         "hovertemplate": "color=138<br>symbol=138<br>x=%{x}<br>y=%{y}<extra></extra>",
         "legendgroup": "138, 138",
         "marker": {
          "color": "#FECB52",
          "opacity": 0.3,
          "symbol": "cross"
         },
         "mode": "markers",
         "name": "138, 138",
         "showlegend": true,
         "type": "scattergl",
         "x": [
          1.6895052194595337,
          20.452497482299805,
          18.453929901123047,
          16.68290901184082,
          2.044175386428833
         ],
         "xaxis": "x",
         "y": [
          22.974180221557617,
          6.930327415466309,
          7.063889980316162,
          3.167814016342163,
          21.47599220275879
         ],
         "yaxis": "y"
        },
        {
         "hovertemplate": "color=141<br>symbol=141<br>x=%{x}<br>y=%{y}<extra></extra>",
         "legendgroup": "141, 141",
         "marker": {
          "color": "#636efa",
          "opacity": 0.3,
          "symbol": "circle"
         },
         "mode": "markers",
         "name": "141, 141",
         "showlegend": true,
         "type": "scattergl",
         "x": [
          8.93776798248291,
          8.822321891784668,
          8.00212287902832,
          8.760295867919922
         ],
         "xaxis": "x",
         "y": [
          -21.211490631103516,
          -21.399089813232422,
          -21.58156967163086,
          -21.097318649291992
         ],
         "yaxis": "y"
        },
        {
         "hovertemplate": "color=332<br>symbol=332<br>x=%{x}<br>y=%{y}<extra></extra>",
         "legendgroup": "332, 332",
         "marker": {
          "color": "#EF553B",
          "opacity": 0.3,
          "symbol": "diamond"
         },
         "mode": "markers",
         "name": "332, 332",
         "showlegend": true,
         "type": "scattergl",
         "x": [
          29.4130859375,
          29.792430877685547,
          18.70195770263672,
          30.399564743041992,
          -9.028098106384277,
          28.770362854003906,
          27.18122100830078,
          29.940120697021484,
          27.89610481262207
         ],
         "xaxis": "x",
         "y": [
          16.0173397064209,
          17.523439407348633,
          24.958477020263672,
          18.100547790527344,
          24.497495651245117,
          17.208560943603516,
          17.143423080444336,
          18.699697494506836,
          17.899402618408203
         ],
         "yaxis": "y"
        },
        {
         "hovertemplate": "color=43<br>symbol=43<br>x=%{x}<br>y=%{y}<extra></extra>",
         "legendgroup": "43, 43",
         "marker": {
          "color": "#00cc96",
          "opacity": 0.3,
          "symbol": "square"
         },
         "mode": "markers",
         "name": "43, 43",
         "showlegend": true,
         "type": "scattergl",
         "x": [
          13.957967758178711,
          16.291318893432617,
          0.9796119332313538,
          3.775165557861328,
          7.3379669189453125,
          7.344786643981934,
          16.455081939697266,
          14.822649002075195,
          16.73859977722168,
          -24.243162155151367,
          -7.006070613861084,
          14.672775268554688,
          15.17032241821289,
          8.692525863647461,
          1.2536057233810425,
          14.744672775268555,
          7.9437575340271,
          14.706857681274414,
          -4.729978561401367,
          -7.796722888946533,
          16.032991409301758,
          8.335517883300781,
          -3.3412017822265625,
          8.509076118469238,
          14.494691848754883,
          -24.291337966918945,
          6.911275386810303,
          5.3168253898620605,
          15.98459243774414,
          14.276849746704102,
          16.178558349609375,
          4.195072650909424,
          -4.196085453033447,
          14.991376876831055,
          6.5804443359375,
          4.127345085144043,
          16.919517517089844,
          6.3762359619140625,
          4.515275478363037,
          8.140400886535645
         ],
         "xaxis": "x",
         "y": [
          33.7161865234375,
          34.570892333984375,
          -7.798320293426514,
          24.402873992919922,
          9.472750663757324,
          -5.55256986618042,
          34.672428131103516,
          33.393348693847656,
          33.93088912963867,
          36.2225227355957,
          4.707622051239014,
          34.3632926940918,
          33.494728088378906,
          16.69841957092285,
          -6.677527904510498,
          33.60128402709961,
          8.597027778625488,
          34.0008659362793,
          -9.1980619430542,
          22.14687156677246,
          34.53886413574219,
          9.781683921813965,
          -9.357585906982422,
          -5.42083740234375,
          33.26945495605469,
          36.28899383544922,
          10.30746078491211,
          9.000134468078613,
          35.44671630859375,
          32.644832611083984,
          34.42951202392578,
          11.950987815856934,
          -8.716765403747559,
          33.285152435302734,
          11.723461151123047,
          28.189056396484375,
          34.53276824951172,
          8.225845336914062,
          12.644905090332031,
          -6.634795665740967
         ],
         "yaxis": "y"
        },
        {
         "hovertemplate": "color=352<br>symbol=352<br>x=%{x}<br>y=%{y}<extra></extra>",
         "legendgroup": "352, 352",
         "marker": {
          "color": "#ab63fa",
          "opacity": 0.3,
          "symbol": "x"
         },
         "mode": "markers",
         "name": "352, 352",
         "showlegend": true,
         "type": "scattergl",
         "x": [
          44.197547912597656,
          41.60085678100586,
          36.7642936706543,
          42.25070571899414,
          40.90989303588867,
          40.74120330810547,
          41.70628356933594,
          41.81739807128906,
          42.8612174987793,
          41.538658142089844,
          41.84951400756836,
          43.0181770324707,
          40.98971939086914,
          43.39917755126953,
          43.247337341308594,
          37.458534240722656,
          41.88457489013672,
          42.37285232543945,
          41.316768646240234,
          41.8903694152832
         ],
         "xaxis": "x",
         "y": [
          7.876175880432129,
          9.246932029724121,
          9.923108100891113,
          8.785174369812012,
          9.673016548156738,
          8.997642517089844,
          10.421191215515137,
          7.897505760192871,
          9.185277938842773,
          8.908429145812988,
          10.258235931396484,
          10.757185935974121,
          8.424873352050781,
          9.592647552490234,
          10.558489799499512,
          9.071813583374023,
          9.643472671508789,
          8.377717971801758,
          9.161961555480957,
          8.126327514648438
         ],
         "yaxis": "y"
        },
        {
         "hovertemplate": "color=48<br>symbol=48<br>x=%{x}<br>y=%{y}<extra></extra>",
         "legendgroup": "48, 48",
         "marker": {
          "color": "#FFA15A",
          "opacity": 0.3,
          "symbol": "cross"
         },
         "mode": "markers",
         "name": "48, 48",
         "showlegend": true,
         "type": "scattergl",
         "x": [
          9.052515029907227,
          14.384895324707031,
          -7.996921062469482,
          9.01230239868164,
          19.4912052154541,
          -7.9487128257751465,
          7.466704845428467,
          3.3068976402282715,
          14.277984619140625,
          10.823697090148926,
          6.394165992736816,
          24.527137756347656,
          -18.400569915771484,
          -3.074397563934326,
          7.021186828613281,
          -3.4274566173553467,
          20.296327590942383
         ],
         "xaxis": "x",
         "y": [
          29.70594596862793,
          24.798919677734375,
          33.2409553527832,
          29.493135452270508,
          26.362770080566406,
          32.87983703613281,
          29.932025909423828,
          39.09194564819336,
          32.11750793457031,
          29.550674438476562,
          30.835590362548828,
          26.816911697387695,
          12.893343925476074,
          33.11183166503906,
          30.182769775390625,
          32.21010971069336,
          22.421371459960938
         ],
         "yaxis": "y"
        },
        {
         "hovertemplate": "color=9<br>symbol=9<br>x=%{x}<br>y=%{y}<extra></extra>",
         "legendgroup": "9, 9",
         "marker": {
          "color": "#19d3f3",
          "opacity": 0.3,
          "symbol": "circle"
         },
         "mode": "markers",
         "name": "9, 9",
         "showlegend": true,
         "type": "scattergl",
         "x": [
          -1.7570180892944336,
          -3.3651342391967773,
          0.9109692573547363,
          0.9673251509666443,
          -1.5864264965057373,
          2.5860416889190674,
          -1.8564374446868896,
          -2.6547839641571045,
          -2.318614959716797,
          -1.6864680051803589,
          -23.567947387695312,
          -1.314805030822754,
          0.6034905910491943,
          -2.2894437313079834,
          -0.7519612312316895,
          -1.3423339128494263,
          -1.1993942260742188,
          4.294402122497559,
          0.0924069732427597,
          1.892685890197754,
          0.7795533537864685,
          -2.9044203758239746,
          -0.39595887064933777,
          -1.0066167116165161,
          -1.4540315866470337,
          1.154299020767212,
          5.882593154907227,
          0.1999211311340332,
          -0.45632848143577576,
          -0.08107093721628189,
          -9.570232391357422,
          0.016499953344464302,
          0.578974723815918,
          -1.4450522661209106,
          -1.6017173528671265,
          0.1211671382188797,
          1.236088752746582,
          -0.06861426681280136,
          -1.1568385362625122,
          -1.7312304973602295,
          -0.8449805974960327,
          -2.4568216800689697
         ],
         "xaxis": "x",
         "y": [
          -27.36777114868164,
          -28.204509735107422,
          -26.57501220703125,
          -25.70003318786621,
          -27.74527931213379,
          -21.150421142578125,
          -24.266525268554688,
          -23.956043243408203,
          -24.863033294677734,
          -22.32868194580078,
          -14.306894302368164,
          -27.776073455810547,
          -29.0060977935791,
          -23.35624122619629,
          -26.911853790283203,
          -27.906749725341797,
          -28.16926383972168,
          21.544754028320312,
          -28.466217041015625,
          -26.832904815673828,
          -25.784955978393555,
          -24.233598709106445,
          -26.836027145385742,
          -27.600679397583008,
          -24.53575325012207,
          -27.586315155029297,
          -21.34996223449707,
          -26.29801368713379,
          -24.574220657348633,
          -27.955078125,
          19.363140106201172,
          -26.58868980407715,
          -27.4082088470459,
          -29.508792877197266,
          -24.95464515686035,
          -28.686813354492188,
          -27.6564998626709,
          -27.214096069335938,
          -23.175090789794922,
          -25.360017776489258,
          -28.37300682067871,
          -23.918598175048828
         ],
         "yaxis": "y"
        },
        {
         "hovertemplate": "color=162<br>symbol=162<br>x=%{x}<br>y=%{y}<extra></extra>",
         "legendgroup": "162, 162",
         "marker": {
          "color": "#FF6692",
          "opacity": 0.3,
          "symbol": "diamond"
         },
         "mode": "markers",
         "name": "162, 162",
         "showlegend": true,
         "type": "scattergl",
         "x": [
          -50.44889450073242,
          -50.43355941772461
         ],
         "xaxis": "x",
         "y": [
          -49.09654235839844,
          -49.154296875
         ],
         "yaxis": "y"
        },
        {
         "hovertemplate": "color=438<br>symbol=438<br>x=%{x}<br>y=%{y}<extra></extra>",
         "legendgroup": "438, 438",
         "marker": {
          "color": "#B6E880",
          "opacity": 0.3,
          "symbol": "square"
         },
         "mode": "markers",
         "name": "438, 438",
         "showlegend": true,
         "type": "scattergl",
         "x": [
          -43.08940124511719,
          -42.8878059387207,
          -44.60303497314453,
          -41.630889892578125,
          -41.019954681396484,
          -42.31707763671875,
          -46.25491714477539,
          -44.0256233215332,
          -41.089935302734375,
          -42.99298858642578,
          -44.029354095458984,
          -49.287330627441406,
          -47.83255386352539,
          -44.068153381347656,
          -40.450592041015625,
          -42.93238830566406,
          -43.51921844482422,
          -48.18419647216797,
          -44.73808288574219,
          -40.572486877441406,
          -45.139156341552734,
          -42.77498245239258,
          -44.67496109008789,
          -47.5107536315918,
          -48.6443977355957,
          -45.04643630981445,
          -42.99312210083008,
          -43.98430633544922,
          -41.52996063232422,
          -42.90791702270508,
          -43.06216812133789,
          -31.70094108581543,
          -43.794700622558594,
          -41.237091064453125,
          -49.049346923828125,
          -40.679290771484375,
          -44.45169448852539,
          -42.873085021972656,
          -50.303131103515625,
          -41.274539947509766,
          -44.95111083984375
         ],
         "xaxis": "x",
         "y": [
          22.279050827026367,
          23.821266174316406,
          24.18773078918457,
          24.25242805480957,
          22.965965270996094,
          22.51704216003418,
          23.361164093017578,
          21.967723846435547,
          20.848896026611328,
          21.364423751831055,
          22.046045303344727,
          18.739023208618164,
          20.046175003051758,
          22.27674674987793,
          20.77080535888672,
          21.01482582092285,
          23.47269630432129,
          10.159297943115234,
          22.528867721557617,
          20.73679542541504,
          21.687129974365234,
          23.329050064086914,
          22.169748306274414,
          10.624137878417969,
          18.925012588500977,
          7.263553142547607,
          23.135107040405273,
          21.605953216552734,
          21.072242736816406,
          23.075876235961914,
          24.217300415039062,
          18.22224235534668,
          22.66022491455078,
          21.49576759338379,
          10.23291015625,
          21.437454223632812,
          23.017837524414062,
          21.10855484008789,
          24.96184730529785,
          21.40947914123535,
          23.024002075195312
         ],
         "yaxis": "y"
        },
        {
         "hovertemplate": "color=301<br>symbol=301<br>x=%{x}<br>y=%{y}<extra></extra>",
         "legendgroup": "301, 301",
         "marker": {
          "color": "#FF97FF",
          "opacity": 0.3,
          "symbol": "x"
         },
         "mode": "markers",
         "name": "301, 301",
         "showlegend": true,
         "type": "scattergl",
         "x": [
          -25.03948974609375,
          -25.704914093017578,
          -24.68189239501953,
          -41.39546203613281,
          -21.06427574157715,
          -21.42218589782715,
          -21.07328224182129,
          -25.487102508544922,
          -24.991485595703125,
          -26.851943969726562,
          -25.571386337280273,
          -23.387968063354492,
          -24.67473030090332,
          -23.018829345703125,
          -25.48305320739746,
          -20.330333709716797,
          -24.682344436645508,
          -26.32015037536621,
          -23.979780197143555,
          -26.72081184387207,
          1.3124358654022217,
          -24.36069679260254,
          -24.670310974121094,
          -25.965208053588867,
          -22.64197540283203,
          -24.447555541992188,
          -25.521577835083008,
          -20.267623901367188,
          -22.588661193847656,
          -25.80145835876465,
          1.1397603750228882,
          -26.572118759155273,
          -26.572046279907227,
          -24.51121711730957,
          -20.181137084960938,
          -22.938282012939453,
          -25.441057205200195,
          -24.43207359313965,
          -25.756080627441406,
          -24.911584854125977,
          -24.092708587646484,
          -24.690570831298828,
          -0.6314858794212341,
          -27.820154190063477,
          -22.77741813659668,
          -23.42375946044922,
          -23.48322296142578,
          -25.081727981567383,
          -26.414770126342773,
          -25.010440826416016,
          -26.33017349243164,
          9.22940444946289
         ],
         "xaxis": "x",
         "y": [
          -38.145965576171875,
          -33.46315383911133,
          -38.16301345825195,
          -17.724828720092773,
          -34.477230072021484,
          -34.80931091308594,
          -34.511756896972656,
          -36.562965393066406,
          -36.75121307373047,
          -36.26922607421875,
          -36.72163772583008,
          -37.41923904418945,
          -36.94261169433594,
          -37.23295211791992,
          -36.0599365234375,
          -34.52345657348633,
          -34.26957702636719,
          -35.501590728759766,
          -35.31370162963867,
          -39.45699691772461,
          -17.96677589416504,
          -37.67562484741211,
          -37.090553283691406,
          -36.80571365356445,
          -34.15900802612305,
          -38.002281188964844,
          -35.08607482910156,
          -34.46665573120117,
          -35.179988861083984,
          -34.77122497558594,
          -12.413792610168457,
          -38.695045471191406,
          -38.13568115234375,
          -33.40880584716797,
          -34.36638641357422,
          -35.10150146484375,
          -35.22386169433594,
          -36.08465576171875,
          -33.824188232421875,
          -37.35797119140625,
          -33.38871765136719,
          -34.73182678222656,
          17.49134063720703,
          -35.60942459106445,
          -36.32374954223633,
          -38.17311096191406,
          -36.450557708740234,
          -34.972923278808594,
          -37.550941467285156,
          -36.00817108154297,
          -37.75133514404297,
          36.18148422241211
         ],
         "yaxis": "y"
        },
        {
         "hovertemplate": "color=99<br>symbol=99<br>x=%{x}<br>y=%{y}<extra></extra>",
         "legendgroup": "99, 99",
         "marker": {
          "color": "#FECB52",
          "opacity": 0.3,
          "symbol": "cross"
         },
         "mode": "markers",
         "name": "99, 99",
         "showlegend": true,
         "type": "scattergl",
         "x": [
          7.024967193603516,
          6.170475006103516,
          -16.36892318725586,
          5.780120372772217,
          5.989952087402344,
          6.847184658050537,
          3.2523579597473145,
          4.882983684539795,
          7.184403419494629,
          5.919643402099609,
          4.23393440246582,
          7.858579158782959,
          8.277002334594727,
          7.795194625854492,
          5.339820384979248,
          6.631453514099121,
          5.896856307983398
         ],
         "xaxis": "x",
         "y": [
          10.500834465026855,
          -5.635010719299316,
          20.53972816467285,
          9.941234588623047,
          9.654528617858887,
          -5.231338024139404,
          -4.883362293243408,
          -0.9337816834449768,
          -4.89728307723999,
          -4.223247051239014,
          -2.7222723960876465,
          -5.385130882263184,
          -4.432149410247803,
          16.89283561706543,
          10.15501880645752,
          -5.470729827880859,
          10.822229385375977
         ],
         "yaxis": "y"
        },
        {
         "hovertemplate": "color=254<br>symbol=254<br>x=%{x}<br>y=%{y}<extra></extra>",
         "legendgroup": "254, 254",
         "marker": {
          "color": "#636efa",
          "opacity": 0.3,
          "symbol": "circle"
         },
         "mode": "markers",
         "name": "254, 254",
         "showlegend": true,
         "type": "scattergl",
         "x": [
          -28.488868713378906,
          -43.552127838134766,
          -41.0150260925293,
          -28.208627700805664,
          -43.803794860839844,
          -28.55520248413086,
          -28.57593536376953,
          -41.93893051147461,
          -26.342866897583008,
          -43.53562927246094,
          -40.751041412353516,
          -26.373201370239258,
          -27.810707092285156,
          -47.485782623291016,
          -41.72810745239258,
          -42.01218795776367,
          -41.98025131225586,
          -40.52061080932617,
          -44.37810134887695,
          -42.75864028930664
         ],
         "xaxis": "x",
         "y": [
          -10.252989768981934,
          -21.738672256469727,
          -21.396072387695312,
          -12.251655578613281,
          -21.891023635864258,
          -11.298623085021973,
          -9.788651466369629,
          -20.40068244934082,
          -10.838215827941895,
          -21.743375778198242,
          -21.816564559936523,
          -11.070637702941895,
          -11.115809440612793,
          -22.177391052246094,
          -20.140796661376953,
          -20.41726303100586,
          -20.20096778869629,
          -15.139656066894531,
          -22.618879318237305,
          -20.896194458007812
         ],
         "yaxis": "y"
        },
        {
         "hovertemplate": "color=382<br>symbol=382<br>x=%{x}<br>y=%{y}<extra></extra>",
         "legendgroup": "382, 382",
         "marker": {
          "color": "#EF553B",
          "opacity": 0.3,
          "symbol": "diamond"
         },
         "mode": "markers",
         "name": "382, 382",
         "showlegend": true,
         "type": "scattergl",
         "x": [
          -5.5438971519470215,
          -6.769438743591309,
          -4.9093194007873535,
          -6.007532119750977,
          -5.4621663093566895,
          -5.397586822509766,
          -4.361449241638184,
          -6.235747814178467,
          -5.634100437164307,
          -5.5648698806762695,
          -5.218533992767334,
          -5.939609050750732,
          -6.012813091278076,
          -5.046506881713867,
          -6.662272930145264,
          -6.693234920501709
         ],
         "xaxis": "x",
         "y": [
          72.67453002929688,
          73.11222839355469,
          73.69308471679688,
          71.7258071899414,
          72.16142272949219,
          73.16768646240234,
          66.39132690429688,
          73.52779388427734,
          73.04449462890625,
          72.24840545654297,
          72.72798919677734,
          72.24909210205078,
          72.43386840820312,
          72.6959228515625,
          71.45681762695312,
          72.98161315917969
         ],
         "yaxis": "y"
        },
        {
         "hovertemplate": "color=442<br>symbol=442<br>x=%{x}<br>y=%{y}<extra></extra>",
         "legendgroup": "442, 442",
         "marker": {
          "color": "#00cc96",
          "opacity": 0.3,
          "symbol": "square"
         },
         "mode": "markers",
         "name": "442, 442",
         "showlegend": true,
         "type": "scattergl",
         "x": [
          -25.955162048339844,
          -32.15980529785156,
          -28.814451217651367,
          -27.62602424621582,
          -29.94173812866211,
          -32.29533004760742,
          -27.035282135009766,
          -30.50309181213379,
          -39.31871032714844,
          -33.531063079833984,
          -28.61098289489746,
          -33.15444564819336,
          -33.08805847167969,
          -32.99606704711914,
          -27.394561767578125,
          -26.233474731445312,
          -25.975862503051758,
          -26.994199752807617,
          -31.437042236328125,
          -30.603925704956055,
          -28.21551513671875,
          -25.285486221313477,
          -28.083091735839844,
          -29.451171875,
          -27.8760986328125,
          -30.746976852416992,
          -25.792627334594727,
          -25.938512802124023,
          -31.11832046508789,
          -27.18113136291504,
          -27.89650535583496,
          -32.77821350097656,
          -26.259395599365234,
          -25.453414916992188,
          -27.704492568969727,
          11.789496421813965,
          -26.311098098754883,
          -48.35118103027344,
          -33.61665725708008,
          -26.41179847717285,
          -26.087207794189453,
          -32.35280227661133,
          -30.692337036132812,
          -31.38376235961914,
          -27.89125633239746,
          -31.512081146240234,
          -23.266117095947266,
          -29.152729034423828,
          -30.720901489257812,
          -27.16840171813965,
          -29.88113784790039,
          -26.7929744720459,
          -30.27173614501953,
          4.728322982788086,
          -16.586015701293945,
          -29.783512115478516,
          -26.13705825805664,
          -24.964366912841797,
          -31.626935958862305,
          -30.02853012084961,
          -22.543766021728516,
          -27.603771209716797,
          -26.763385772705078
         ],
         "xaxis": "x",
         "y": [
          12.550566673278809,
          7.141628265380859,
          5.987593173980713,
          11.570958137512207,
          7.2118611335754395,
          7.4450154304504395,
          9.259015083312988,
          5.832741737365723,
          10.594018936157227,
          8.173176765441895,
          5.8530354499816895,
          8.175841331481934,
          8.179800987243652,
          6.380482196807861,
          6.069581508636475,
          6.83714485168457,
          9.044658660888672,
          10.501669883728027,
          7.389091491699219,
          10.970907211303711,
          9.662097930908203,
          8.05432415008545,
          5.4227752685546875,
          7.272777080535889,
          6.988632678985596,
          9.376429557800293,
          6.496932506561279,
          4.903226852416992,
          10.372119903564453,
          10.017155647277832,
          7.08001184463501,
          8.112030982971191,
          6.758716583251953,
          8.234033584594727,
          9.231603622436523,
          0.5834321975708008,
          4.314401626586914,
          21.302534103393555,
          8.177215576171875,
          2.824951648712158,
          7.405400276184082,
          8.544240951538086,
          10.885481834411621,
          10.721187591552734,
          9.952420234680176,
          11.018925666809082,
          7.072728633880615,
          4.197664260864258,
          9.293235778808594,
          5.234057903289795,
          5.342597961425781,
          6.777850151062012,
          6.0227274894714355,
          30.672889709472656,
          17.276262283325195,
          3.925649404525757,
          11.882863998413086,
          6.452620983123779,
          7.224073886871338,
          11.0958890914917,
          -0.6878178119659424,
          9.121896743774414,
          4.3085808753967285
         ],
         "yaxis": "y"
        },
        {
         "hovertemplate": "color=165<br>symbol=165<br>x=%{x}<br>y=%{y}<extra></extra>",
         "legendgroup": "165, 165",
         "marker": {
          "color": "#ab63fa",
          "opacity": 0.3,
          "symbol": "x"
         },
         "mode": "markers",
         "name": "165, 165",
         "showlegend": true,
         "type": "scattergl",
         "x": [
          -46.31736373901367,
          -46.3540153503418,
          9.309371948242188
         ],
         "xaxis": "x",
         "y": [
          -47.6136589050293,
          -47.46296691894531,
          -22.455459594726562
         ],
         "yaxis": "y"
        },
        {
         "hovertemplate": "color=166<br>symbol=166<br>x=%{x}<br>y=%{y}<extra></extra>",
         "legendgroup": "166, 166",
         "marker": {
          "color": "#FFA15A",
          "opacity": 0.3,
          "symbol": "cross"
         },
         "mode": "markers",
         "name": "166, 166",
         "showlegend": true,
         "type": "scattergl",
         "x": [
          -45.03136444091797,
          -47.486270904541016,
          -45.118831634521484
         ],
         "xaxis": "x",
         "y": [
          -42.65977096557617,
          -39.27192687988281,
          -42.544090270996094
         ],
         "yaxis": "y"
        },
        {
         "hovertemplate": "color=92<br>symbol=92<br>x=%{x}<br>y=%{y}<extra></extra>",
         "legendgroup": "92, 92",
         "marker": {
          "color": "#19d3f3",
          "opacity": 0.3,
          "symbol": "circle"
         },
         "mode": "markers",
         "name": "92, 92",
         "showlegend": true,
         "type": "scattergl",
         "x": [
          21.507495880126953,
          20.142337799072266,
          18.038692474365234,
          17.331674575805664,
          1.1936155557632446,
          17.516738891601562,
          17.756826400756836,
          17.394620895385742,
          18.45743751525879,
          20.401485443115234,
          16.953432083129883,
          20.56571388244629,
          20.8129825592041,
          24.261600494384766,
          20.892099380493164,
          19.860532760620117,
          16.902807235717773,
          18.4107608795166,
          23.26494026184082,
          21.430532455444336,
          19.724943161010742,
          21.9509220123291,
          17.719087600708008,
          23.854612350463867,
          19.175792694091797,
          -14.588980674743652,
          20.19499969482422,
          16.81254768371582,
          19.226551055908203,
          17.01340103149414,
          21.99605941772461,
          20.467702865600586,
          21.81500244140625,
          20.840505599975586,
          -21.79363441467285,
          18.50469398498535,
          22.24481201171875,
          17.055395126342773,
          20.642696380615234,
          19.09760856628418,
          22.60468864440918,
          22.546958923339844
         ],
         "xaxis": "x",
         "y": [
          -6.454163074493408,
          -5.985019207000732,
          -10.48102855682373,
          -8.4102783203125,
          25.779468536376953,
          -11.199156761169434,
          -10.119609832763672,
          -10.331255912780762,
          -10.5513277053833,
          -4.940135478973389,
          -7.673843860626221,
          -7.350465297698975,
          -8.671919822692871,
          -7.077229976654053,
          -9.378045082092285,
          -9.727276802062988,
          -4.95072078704834,
          -8.73713207244873,
          -7.84440279006958,
          -9.392607688903809,
          -9.395349502563477,
          -7.971555233001709,
          -9.871588706970215,
          -10.631660461425781,
          -10.476020812988281,
          -1.3992561101913452,
          -5.906501770019531,
          -9.616802215576172,
          -5.47722053527832,
          -8.541864395141602,
          -8.642528533935547,
          -8.650705337524414,
          -6.280491828918457,
          -9.58882999420166,
          -13.651461601257324,
          -9.057493209838867,
          -9.426525115966797,
          -9.049938201904297,
          -6.856598854064941,
          -9.487085342407227,
          -9.386154174804688,
          -8.067774772644043
         ],
         "yaxis": "y"
        },
        {
         "hovertemplate": "color=304<br>symbol=304<br>x=%{x}<br>y=%{y}<extra></extra>",
         "legendgroup": "304, 304",
         "marker": {
          "color": "#FF6692",
          "opacity": 0.3,
          "symbol": "diamond"
         },
         "mode": "markers",
         "name": "304, 304",
         "showlegend": true,
         "type": "scattergl",
         "x": [
          0.8771926164627075,
          1.4519706964492798,
          0.17714110016822815,
          3.054492473602295,
          1.9624342918395996,
          1.1476538181304932,
          2.141915798187256,
          1.006575345993042,
          2.1799230575561523,
          -0.8030767440795898,
          0.9080225229263306,
          -0.025320392102003098,
          0.5943498015403748,
          2.0152077674865723,
          -2.9581217765808105,
          -0.5280787348747253,
          1.201132893562317,
          2.2592601776123047,
          1.4473042488098145,
          1.0340760946273804,
          1.8476275205612183
         ],
         "xaxis": "x",
         "y": [
          -66.7009506225586,
          -66.97624206542969,
          -67.07421875,
          -67.24874877929688,
          -66.1230697631836,
          -67.17900848388672,
          -65.984130859375,
          -65.04664611816406,
          -65.89900207519531,
          -64.89097595214844,
          -63.871978759765625,
          30.056093215942383,
          -65.9247055053711,
          -67.14481353759766,
          -12.217904090881348,
          -13.12598705291748,
          -66.1830825805664,
          -66.81568145751953,
          -66.03137969970703,
          -66.91287994384766,
          -66.9533920288086
         ],
         "yaxis": "y"
        },
        {
         "hovertemplate": "color=434<br>symbol=434<br>x=%{x}<br>y=%{y}<extra></extra>",
         "legendgroup": "434, 434",
         "marker": {
          "color": "#B6E880",
          "opacity": 0.3,
          "symbol": "square"
         },
         "mode": "markers",
         "name": "434, 434",
         "showlegend": true,
         "type": "scattergl",
         "x": [
          -62.077362060546875,
          -62.17875289916992,
          -65.3994140625,
          -63.41808319091797,
          -62.86189270019531,
          -62.84635925292969,
          -66.24361419677734,
          -60.55197525024414,
          -45.90715408325195,
          -61.6367301940918,
          -57.90074920654297,
          -64.50992584228516,
          -63.49905776977539,
          -62.65925216674805,
          -63.272220611572266,
          -65.467529296875,
          -64.07405853271484,
          -65.50662231445312,
          -64.06590270996094,
          -65.46756744384766,
          -61.695068359375,
          -64.01324462890625,
          -64.50630950927734,
          -49.163482666015625,
          -62.0168571472168,
          -65.38223266601562,
          -65.70402526855469,
          -64.02383422851562,
          -63.92539978027344,
          -63.275245666503906,
          -62.17056655883789
         ],
         "xaxis": "x",
         "y": [
          3.3782620429992676,
          4.259333610534668,
          2.863320827484131,
          2.0334115028381348,
          1.3003889322280884,
          2.2391223907470703,
          3.238027334213257,
          4.491123676300049,
          9.324904441833496,
          3.8178699016571045,
          9.436502456665039,
          3.1837832927703857,
          0.7737537622451782,
          3.454317092895508,
          2.7888994216918945,
          3.885545015335083,
          2.7863218784332275,
          3.2635481357574463,
          1.970920205116272,
          3.9627268314361572,
          3.665126323699951,
          2.3340604305267334,
          1.0050336122512817,
          10.323904037475586,
          3.257038116455078,
          3.3733129501342773,
          2.9161717891693115,
          1.8675507307052612,
          2.652113676071167,
          3.069936513900757,
          2.1053237915039062
         ],
         "yaxis": "y"
        },
        {
         "hovertemplate": "color=135<br>symbol=135<br>x=%{x}<br>y=%{y}<extra></extra>",
         "legendgroup": "135, 135",
         "marker": {
          "color": "#FF97FF",
          "opacity": 0.3,
          "symbol": "x"
         },
         "mode": "markers",
         "name": "135, 135",
         "showlegend": true,
         "type": "scattergl",
         "x": [
          22.084041595458984,
          22.190099716186523,
          19.26178550720215,
          -47.889339447021484,
          21.348373413085938,
          -4.153836727142334,
          -1.1429417133331299,
          21.009033203125,
          22.014039993286133,
          19.564346313476562,
          23.06273078918457,
          31.782133102416992,
          22.90749168395996,
          21.335725784301758,
          -4.353289604187012,
          20.65138053894043,
          -10.891424179077148,
          21.99776840209961,
          19.828420639038086,
          19.661588668823242,
          22.493682861328125,
          -6.873173713684082,
          -17.249805450439453,
          -11.026721954345703
         ],
         "xaxis": "x",
         "y": [
          0.9597387313842773,
          5.049487113952637,
          1.48048734664917,
          19.942325592041016,
          2.996987819671631,
          -1.5908794403076172,
          26.829378128051758,
          4.455399036407471,
          2.214740514755249,
          5.854365348815918,
          2.1086933612823486,
          15.720664978027344,
          2.8703360557556152,
          2.9141652584075928,
          -0.8464844226837158,
          2.9891903400421143,
          27.326318740844727,
          2.6194303035736084,
          1.3051332235336304,
          1.0077619552612305,
          2.1853084564208984,
          -1.2221739292144775,
          -17.80169105529785,
          27.72844886779785
         ],
         "yaxis": "y"
        },
        {
         "hovertemplate": "color=348<br>symbol=348<br>x=%{x}<br>y=%{y}<extra></extra>",
         "legendgroup": "348, 348",
         "marker": {
          "color": "#FECB52",
          "opacity": 0.3,
          "symbol": "cross"
         },
         "mode": "markers",
         "name": "348, 348",
         "showlegend": true,
         "type": "scattergl",
         "x": [
          -5.734881401062012,
          0.8776126503944397,
          3.315337657928467,
          0.04580899700522423,
          -2.117980480194092,
          2.921034812927246,
          2.8440988063812256,
          0.6274937391281128,
          -0.005728861782699823,
          -5.729560375213623,
          1.1091142892837524,
          2.2760603427886963,
          -5.801236152648926,
          26.98804473876953,
          1.233388900756836,
          -5.281620979309082,
          0.7934627532958984,
          1.4550257921218872,
          -1.3867592811584473,
          0.11770044267177582,
          1.6770538091659546,
          -0.6159031987190247
         ],
         "xaxis": "x",
         "y": [
          12.419443130493164,
          -0.735224723815918,
          10.410585403442383,
          4.885979175567627,
          10.261290550231934,
          2.967261791229248,
          12.470977783203125,
          0.9821150898933411,
          3.024012327194214,
          12.43808364868164,
          2.41546630859375,
          10.265918731689453,
          33.13315963745117,
          18.865772247314453,
          9.408321380615234,
          5.274169921875,
          9.378898620605469,
          1.5853064060211182,
          3.592029333114624,
          2.640984058380127,
          1.2333341836929321,
          13.646678924560547
         ],
         "yaxis": "y"
        },
        {
         "hovertemplate": "color=436<br>symbol=436<br>x=%{x}<br>y=%{y}<extra></extra>",
         "legendgroup": "436, 436",
         "marker": {
          "color": "#636efa",
          "opacity": 0.3,
          "symbol": "circle"
         },
         "mode": "markers",
         "name": "436, 436",
         "showlegend": true,
         "type": "scattergl",
         "x": [
          -52.317710876464844,
          -50.842735290527344,
          -48.35255432128906,
          -50.422080993652344,
          0.4519825577735901,
          -52.17237854003906,
          -50.48485565185547,
          -50.35227966308594,
          -49.93955612182617,
          8.411054611206055,
          -49.5888786315918,
          -51.499290466308594,
          -50.26402282714844,
          -52.280391693115234,
          -49.68341064453125,
          8.994523048400879,
          0.6922070980072021,
          -50.817047119140625,
          -49.393089294433594,
          -48.370967864990234,
          -50.439823150634766,
          -52.659420013427734,
          -50.737613677978516,
          -49.118629455566406,
          -49.6375732421875,
          -50.91413116455078,
          -49.8786735534668,
          -50.53654479980469,
          -50.53864288330078,
          -54.22846221923828,
          -53.43153762817383,
          -48.935604095458984,
          -50.06088638305664
         ],
         "xaxis": "x",
         "y": [
          25.98482322692871,
          27.630359649658203,
          11.210075378417969,
          28.988012313842773,
          23.262191772460938,
          26.215656280517578,
          29.22374725341797,
          28.97609519958496,
          27.928321838378906,
          36.22052001953125,
          10.297813415527344,
          28.811647415161133,
          27.187650680541992,
          26.56175422668457,
          26.52155876159668,
          37.90567398071289,
          21.5614013671875,
          28.754032135009766,
          27.53837013244629,
          28.210052490234375,
          27.71657371520996,
          26.568416595458984,
          29.903318405151367,
          29.755844116210938,
          26.38127899169922,
          28.398908615112305,
          28.9601993560791,
          25.08372688293457,
          27.181747436523438,
          14.310415267944336,
          26.717153549194336,
          28.674646377563477,
          28.414945602416992
         ],
         "yaxis": "y"
        },
        {
         "hovertemplate": "color=199<br>symbol=199<br>x=%{x}<br>y=%{y}<extra></extra>",
         "legendgroup": "199, 199",
         "marker": {
          "color": "#EF553B",
          "opacity": 0.3,
          "symbol": "diamond"
         },
         "mode": "markers",
         "name": "199, 199",
         "showlegend": true,
         "type": "scattergl",
         "x": [
          56.46135330200195,
          54.62897491455078,
          54.97956085205078,
          54.63051986694336,
          53.792816162109375,
          56.477203369140625,
          54.8196907043457,
          55.28816604614258,
          54.57137680053711,
          54.9421501159668,
          55.63841247558594,
          56.09919357299805,
          57.19422912597656,
          55.02867889404297,
          56.37877655029297,
          53.43832778930664,
          -16.7425594329834
         ],
         "xaxis": "x",
         "y": [
          28.66201400756836,
          31.183895111083984,
          27.168214797973633,
          27.681846618652344,
          29.15349006652832,
          30.47194480895996,
          29.535207748413086,
          27.06983184814453,
          29.972152709960938,
          29.555614471435547,
          30.35935401916504,
          29.458066940307617,
          27.594886779785156,
          27.884967803955078,
          28.00681495666504,
          28.737144470214844,
          4.083961486816406
         ],
         "yaxis": "y"
        },
        {
         "hovertemplate": "color=250<br>symbol=250<br>x=%{x}<br>y=%{y}<extra></extra>",
         "legendgroup": "250, 250",
         "marker": {
          "color": "#00cc96",
          "opacity": 0.3,
          "symbol": "square"
         },
         "mode": "markers",
         "name": "250, 250",
         "showlegend": true,
         "type": "scattergl",
         "x": [
          51.93001937866211,
          -31.279003143310547,
          -45.64399719238281,
          -44.53511047363281,
          -30.923969268798828,
          -44.97877883911133,
          -44.185935974121094,
          -24.392667770385742,
          -31.705507278442383,
          -30.92512321472168,
          -46.40147018432617,
          -31.37242317199707,
          -45.55979537963867,
          -26.73112678527832,
          -27.240406036376953,
          -44.87154006958008,
          -26.931018829345703,
          -46.92732620239258,
          -30.96986198425293
         ],
         "xaxis": "x",
         "y": [
          29.4714298248291,
          -10.511268615722656,
          -17.24053382873535,
          -16.053878784179688,
          -10.680245399475098,
          -20.466032028198242,
          -19.773086547851562,
          4.025404453277588,
          -10.324225425720215,
          -10.727335929870605,
          -21.50825309753418,
          -10.477723121643066,
          -17.21502685546875,
          -11.361871719360352,
          -12.025474548339844,
          -16.451210021972656,
          -11.341416358947754,
          -21.41432762145996,
          -10.650175094604492
         ],
         "yaxis": "y"
        },
        {
         "hovertemplate": "color=395<br>symbol=395<br>x=%{x}<br>y=%{y}<extra></extra>",
         "legendgroup": "395, 395",
         "marker": {
          "color": "#ab63fa",
          "opacity": 0.3,
          "symbol": "x"
         },
         "mode": "markers",
         "name": "395, 395",
         "showlegend": true,
         "type": "scattergl",
         "x": [
          39.58839797973633,
          46.6402702331543,
          43.331626892089844,
          40.40382385253906,
          40.064945220947266,
          42.914459228515625,
          44.484981536865234,
          39.726295471191406,
          45.259674072265625,
          41.2116584777832,
          42.3469123840332,
          44.6063346862793,
          43.44906997680664,
          40.71922302246094,
          44.11137390136719,
          44.750396728515625,
          41.15287399291992,
          42.50376892089844,
          44.565494537353516,
          41.030643463134766,
          43.18427276611328,
          40.73769760131836,
          40.36271286010742,
          42.56352615356445,
          45.83749008178711,
          43.204647064208984,
          41.07868576049805,
          42.179786682128906,
          43.00856399536133,
          42.737098693847656,
          46.77783966064453,
          40.884098052978516,
          41.15546798706055,
          23.755197525024414,
          43.03630447387695,
          40.79262924194336
         ],
         "xaxis": "x",
         "y": [
          -53.086063385009766,
          -56.002899169921875,
          -51.87592315673828,
          -52.36886215209961,
          -52.00910186767578,
          -50.5250129699707,
          -52.03705978393555,
          -51.34433364868164,
          -56.69710159301758,
          -52.93832778930664,
          -55.60834884643555,
          -52.10020065307617,
          -50.68620300292969,
          -51.12002944946289,
          -51.15373229980469,
          -56.125553131103516,
          -51.884552001953125,
          -51.025360107421875,
          -52.03032684326172,
          -51.95207214355469,
          -49.648101806640625,
          -52.247703552246094,
          -53.22931671142578,
          -50.988704681396484,
          -55.034610748291016,
          -50.138519287109375,
          -52.40777587890625,
          -50.510868072509766,
          -51.60783767700195,
          -49.90620803833008,
          -55.95355987548828,
          -56.51558303833008,
          -52.93222427368164,
          10.564967155456543,
          -51.40409851074219,
          -51.966896057128906
         ],
         "yaxis": "y"
        },
        {
         "hovertemplate": "color=133<br>symbol=133<br>x=%{x}<br>y=%{y}<extra></extra>",
         "legendgroup": "133, 133",
         "marker": {
          "color": "#FFA15A",
          "opacity": 0.3,
          "symbol": "cross"
         },
         "mode": "markers",
         "name": "133, 133",
         "showlegend": true,
         "type": "scattergl",
         "x": [
          25.951906204223633,
          25.617599487304688,
          25.2165584564209,
          25.328266143798828
         ],
         "xaxis": "x",
         "y": [
          6.023888111114502,
          6.0616984367370605,
          6.420401573181152,
          6.272563457489014
         ],
         "yaxis": "y"
        },
        {
         "hovertemplate": "color=307<br>symbol=307<br>x=%{x}<br>y=%{y}<extra></extra>",
         "legendgroup": "307, 307",
         "marker": {
          "color": "#19d3f3",
          "opacity": 0.3,
          "symbol": "circle"
         },
         "mode": "markers",
         "name": "307, 307",
         "showlegend": true,
         "type": "scattergl",
         "x": [
          9.531479835510254,
          5.555562496185303,
          -19.900049209594727,
          0.9834203720092773
         ],
         "xaxis": "x",
         "y": [
          36.7319450378418,
          -59.4589958190918,
          -0.6627861857414246,
          -54.728092193603516
         ],
         "yaxis": "y"
        },
        {
         "hovertemplate": "color=443<br>symbol=443<br>x=%{x}<br>y=%{y}<extra></extra>",
         "legendgroup": "443, 443",
         "marker": {
          "color": "#FF6692",
          "opacity": 0.3,
          "symbol": "diamond"
         },
         "mode": "markers",
         "name": "443, 443",
         "showlegend": true,
         "type": "scattergl",
         "x": [
          -0.80362468957901,
          17.87967300415039,
          -1.8403156995773315,
          -1.862952709197998,
          -2.218989372253418,
          -2.036853313446045,
          -2.15606951713562,
          1.2121188640594482
         ],
         "xaxis": "x",
         "y": [
          21.068931579589844,
          5.037517070770264,
          20.028108596801758,
          20.619569778442383,
          20.47540855407715,
          20.418516159057617,
          20.41865348815918,
          12.64366340637207
         ],
         "yaxis": "y"
        },
        {
         "hovertemplate": "color=6<br>symbol=6<br>x=%{x}<br>y=%{y}<extra></extra>",
         "legendgroup": "6, 6",
         "marker": {
          "color": "#B6E880",
          "opacity": 0.3,
          "symbol": "square"
         },
         "mode": "markers",
         "name": "6, 6",
         "showlegend": true,
         "type": "scattergl",
         "x": [
          -12.231801986694336,
          -9.466155052185059,
          -22.715871810913086,
          -13.194992065429688,
          -8.202059745788574,
          -10.982812881469727,
          7.751928806304932,
          -14.057029724121094,
          -5.011362552642822,
          -13.568984985351562,
          -8.023886680603027,
          -2.107055902481079,
          -8.018380165100098,
          -13.190186500549316,
          -14.261683464050293,
          -10.287613868713379,
          -2.971555709838867,
          -12.279090881347656,
          -14.041585922241211,
          -12.811689376831055,
          -12.073657989501953,
          -7.47323751449585,
          -12.066678047180176,
          -11.954010963439941,
          -13.384843826293945,
          -10.288025856018066,
          -11.681442260742188,
          -9.525591850280762,
          -9.379867553710938,
          -7.347169876098633,
          7.4896440505981445,
          -12.583658218383789,
          -10.755623817443848,
          -10.840182304382324,
          -11.645356178283691,
          14.980936050415039,
          -10.128565788269043,
          -11.038909912109375,
          -9.642605781555176,
          -12.046212196350098,
          -11.539902687072754,
          -12.427169799804688,
          -11.195807456970215,
          -11.836341857910156,
          -8.92262077331543,
          -13.308547973632812
         ],
         "xaxis": "x",
         "y": [
          -23.630685806274414,
          -21.93808937072754,
          -13.162327766418457,
          -23.462553024291992,
          -21.211767196655273,
          -25.87891960144043,
          22.907785415649414,
          -25.83420181274414,
          -18.51782989501953,
          -25.670488357543945,
          -21.936214447021484,
          -14.494380950927734,
          -21.22211456298828,
          -24.164892196655273,
          -25.596189498901367,
          -25.239238739013672,
          -11.528363227844238,
          -27.193382263183594,
          -25.55827522277832,
          -26.192501068115234,
          -27.342927932739258,
          -20.421018600463867,
          -25.643850326538086,
          -25.511865615844727,
          -25.68773078918457,
          -22.420825958251953,
          -24.95611000061035,
          -22.120723724365234,
          -22.604455947875977,
          -20.335905075073242,
          23.005041122436523,
          -23.113630294799805,
          -26.200687408447266,
          -25.254817962646484,
          -23.188037872314453,
          -24.837770462036133,
          -24.730602264404297,
          -23.526330947875977,
          -25.951597213745117,
          -23.221954345703125,
          -25.013690948486328,
          -24.898130416870117,
          -23.415258407592773,
          -25.617855072021484,
          -22.884437561035156,
          -24.43033790588379
         ],
         "yaxis": "y"
        },
        {
         "hovertemplate": "color=7<br>symbol=7<br>x=%{x}<br>y=%{y}<extra></extra>",
         "legendgroup": "7, 7",
         "marker": {
          "color": "#FF97FF",
          "opacity": 0.3,
          "symbol": "x"
         },
         "mode": "markers",
         "name": "7, 7",
         "showlegend": true,
         "type": "scattergl",
         "x": [
          21.080759048461914,
          20.72871971130371,
          21.616119384765625,
          20.234338760375977,
          20.612520217895508,
          21.94476318359375,
          19.144271850585938,
          21.081249237060547,
          19.16720962524414,
          18.4415225982666,
          21.5872859954834,
          20.23459243774414,
          20.804445266723633,
          19.169937133789062,
          20.449378967285156,
          19.64951515197754,
          19.667789459228516,
          21.116220474243164,
          20.771728515625,
          18.416690826416016,
          21.72162628173828,
          20.00204086303711,
          19.492874145507812,
          8.99437427520752,
          19.1270809173584,
          18.950403213500977,
          24.846776962280273,
          21.569143295288086,
          21.42041778564453,
          20.607812881469727,
          19.854406356811523,
          19.246042251586914,
          22.328773498535156,
          22.242347717285156,
          22.201047897338867,
          19.840003967285156,
          24.132064819335938,
          20.41462516784668,
          20.901477813720703,
          21.129724502563477,
          21.390348434448242,
          22.44947052001953,
          20.688304901123047,
          23.265066146850586,
          20.160364151000977,
          18.46351432800293,
          20.401918411254883,
          20.19293212890625,
          20.011289596557617,
          20.387943267822266,
          23.365968704223633,
          21.878612518310547,
          20.898780822753906,
          19.96170425415039,
          22.064542770385742,
          19.28020477294922,
          20.709074020385742,
          20.10112762451172,
          21.721975326538086,
          19.55974006652832,
          20.909374237060547,
          20.526859283447266,
          20.09847640991211,
          23.78654670715332,
          20.495189666748047,
          23.08519172668457,
          22.383991241455078,
          19.011123657226562,
          20.708316802978516
         ],
         "xaxis": "x",
         "y": [
          -53.23804473876953,
          -51.2872428894043,
          -50.445560455322266,
          -54.22824478149414,
          -47.48847579956055,
          -48.233211517333984,
          -47.61332702636719,
          -50.350685119628906,
          -51.6484260559082,
          -43.4250602722168,
          -50.016754150390625,
          -46.233062744140625,
          -52.49916458129883,
          -52.10688400268555,
          -47.05500030517578,
          -43.36214828491211,
          -45.850467681884766,
          -45.776214599609375,
          -55.467159271240234,
          -43.4451904296875,
          -49.87602996826172,
          -44.508968353271484,
          -46.49632263183594,
          -23.013896942138672,
          -51.751399993896484,
          -46.008628845214844,
          -50.76878356933594,
          -52.69690704345703,
          -50.417686462402344,
          -47.359405517578125,
          -53.317867279052734,
          -54.982078552246094,
          -52.5011100769043,
          -54.315494537353516,
          -51.38716506958008,
          -50.69841384887695,
          -50.80443572998047,
          -45.0470085144043,
          -50.783939361572266,
          -51.831607818603516,
          -51.68767547607422,
          -52.62989044189453,
          -54.47673034667969,
          -50.70024490356445,
          -45.012176513671875,
          -51.20698165893555,
          -52.21105194091797,
          -52.08806228637695,
          -43.619327545166016,
          -51.11498260498047,
          -49.87058639526367,
          -48.2367057800293,
          -54.68657302856445,
          -44.19678497314453,
          -54.47998809814453,
          -55.04484176635742,
          -54.73527526855469,
          -49.98607635498047,
          -51.03438186645508,
          -45.4804801940918,
          -55.6368293762207,
          -47.22052764892578,
          -50.975830078125,
          -50.858917236328125,
          -44.531471252441406,
          -51.34868240356445,
          -52.367000579833984,
          -43.465789794921875,
          -45.08258819580078
         ],
         "yaxis": "y"
        },
        {
         "hovertemplate": "color=156<br>symbol=156<br>x=%{x}<br>y=%{y}<extra></extra>",
         "legendgroup": "156, 156",
         "marker": {
          "color": "#FECB52",
          "opacity": 0.3,
          "symbol": "cross"
         },
         "mode": "markers",
         "name": "156, 156",
         "showlegend": true,
         "type": "scattergl",
         "x": [
          2.195222854614258,
          10.793402671813965
         ],
         "xaxis": "x",
         "y": [
          29.8676700592041,
          27.03181266784668
         ],
         "yaxis": "y"
        },
        {
         "hovertemplate": "color=80<br>symbol=80<br>x=%{x}<br>y=%{y}<extra></extra>",
         "legendgroup": "80, 80",
         "marker": {
          "color": "#636efa",
          "opacity": 0.3,
          "symbol": "circle"
         },
         "mode": "markers",
         "name": "80, 80",
         "showlegend": true,
         "type": "scattergl",
         "x": [
          24.799821853637695,
          22.21587562561035,
          24.956506729125977,
          21.713363647460938,
          23.555362701416016,
          21.60350227355957,
          20.445491790771484,
          0.18991857767105103,
          20.635011672973633,
          22.174530029296875,
          -19.251142501831055,
          20.89718246459961,
          -22.476905822753906,
          21.75722885131836,
          21.108726501464844,
          9.931376457214355,
          2.6887869834899902,
          22.347776412963867,
          23.262802124023438
         ],
         "xaxis": "x",
         "y": [
          -9.076537132263184,
          -9.359402656555176,
          -9.1253080368042,
          -8.807426452636719,
          -10.448094367980957,
          -9.997632026672363,
          -11.491379737854004,
          19.85329818725586,
          -6.39711332321167,
          -11.691329956054688,
          4.539193630218506,
          -8.10018253326416,
          -0.7921087145805359,
          -8.937684059143066,
          -9.650087356567383,
          23.123258590698242,
          26.08193016052246,
          -8.957376480102539,
          -8.0440034866333
         ],
         "yaxis": "y"
        },
        {
         "hovertemplate": "color=393<br>symbol=393<br>x=%{x}<br>y=%{y}<extra></extra>",
         "legendgroup": "393, 393",
         "marker": {
          "color": "#EF553B",
          "opacity": 0.3,
          "symbol": "diamond"
         },
         "mode": "markers",
         "name": "393, 393",
         "showlegend": true,
         "type": "scattergl",
         "x": [
          45.88340759277344,
          45.15750503540039,
          45.382938385009766,
          44.742923736572266,
          45.42191696166992,
          44.93563461303711,
          44.779239654541016,
          45.0488395690918,
          45.288330078125,
          16.13136100769043,
          45.03618240356445,
          45.20392608642578,
          45.9144401550293,
          45.75516128540039
         ],
         "xaxis": "x",
         "y": [
          -58.84877014160156,
          -58.83559036254883,
          -58.9432258605957,
          -59.34523010253906,
          -58.56959533691406,
          -58.13624954223633,
          -57.97749328613281,
          -59.257118225097656,
          -56.991668701171875,
          -27.337371826171875,
          -58.45352554321289,
          -59.20573425292969,
          -58.70317840576172,
          -57.87215042114258
         ],
         "yaxis": "y"
        },
        {
         "hovertemplate": "color=327<br>symbol=327<br>x=%{x}<br>y=%{y}<extra></extra>",
         "legendgroup": "327, 327",
         "marker": {
          "color": "#00cc96",
          "opacity": 0.3,
          "symbol": "square"
         },
         "mode": "markers",
         "name": "327, 327",
         "showlegend": true,
         "type": "scattergl",
         "x": [
          35.604888916015625,
          23.092588424682617,
          23.60550880432129,
          20.781070709228516,
          9.66696548461914,
          -13.920729637145996,
          22.08201026916504,
          5.630580425262451,
          22.771099090576172,
          23.47455406188965,
          23.69701385498047,
          24.378602981567383,
          21.583120346069336,
          30.09760093688965,
          -12.561700820922852,
          23.51299285888672,
          4.257519721984863,
          5.7717156410217285,
          23.679872512817383
         ],
         "xaxis": "x",
         "y": [
          11.283782958984375,
          19.49795913696289,
          18.627487182617188,
          10.212308883666992,
          38.390445709228516,
          33.32438659667969,
          17.058486938476562,
          23.52139663696289,
          18.421289443969727,
          18.487625122070312,
          19.47266960144043,
          18.29718017578125,
          16.63069725036621,
          18.18962287902832,
          34.140296936035156,
          20.374971389770508,
          40.1816291809082,
          23.47683334350586,
          16.908618927001953
         ],
         "yaxis": "y"
        },
        {
         "hovertemplate": "color=225<br>symbol=225<br>x=%{x}<br>y=%{y}<extra></extra>",
         "legendgroup": "225, 225",
         "marker": {
          "color": "#ab63fa",
          "opacity": 0.3,
          "symbol": "x"
         },
         "mode": "markers",
         "name": "225, 225",
         "showlegend": true,
         "type": "scattergl",
         "x": [
          11.353732109069824,
          7.838029384613037,
          14.139622688293457,
          -2.847475528717041,
          4.722576141357422,
          12.880928993225098,
          -49.89829635620117,
          -2.1860978603363037,
          -0.6913614273071289,
          8.343531608581543,
          6.954690456390381,
          -9.422035217285156,
          8.683483123779297,
          -6.392385482788086,
          16.624893188476562,
          20.914827346801758
         ],
         "xaxis": "x",
         "y": [
          23.2402286529541,
          27.25677490234375,
          26.52044105529785,
          40.33551788330078,
          29.748815536499023,
          24.64049530029297,
          -40.950130462646484,
          25.62405776977539,
          55.861045837402344,
          27.0318546295166,
          28.065954208374023,
          31.360666275024414,
          -20.25167465209961,
          30.85163688659668,
          25.02366065979004,
          -56.371360778808594
         ],
         "yaxis": "y"
        },
        {
         "hovertemplate": "color=268<br>symbol=268<br>x=%{x}<br>y=%{y}<extra></extra>",
         "legendgroup": "268, 268",
         "marker": {
          "color": "#FFA15A",
          "opacity": 0.3,
          "symbol": "cross"
         },
         "mode": "markers",
         "name": "268, 268",
         "showlegend": true,
         "type": "scattergl",
         "x": [
          -44.15898895263672,
          -44.58636474609375
         ],
         "xaxis": "x",
         "y": [
          -9.466184616088867,
          -9.279084205627441
         ],
         "yaxis": "y"
        },
        {
         "hovertemplate": "color=351<br>symbol=351<br>x=%{x}<br>y=%{y}<extra></extra>",
         "legendgroup": "351, 351",
         "marker": {
          "color": "#19d3f3",
          "opacity": 0.3,
          "symbol": "circle"
         },
         "mode": "markers",
         "name": "351, 351",
         "showlegend": true,
         "type": "scattergl",
         "x": [
          44.801963806152344,
          43.45664596557617,
          44.28584671020508,
          44.50065231323242,
          43.62716293334961,
          43.90443420410156,
          43.9666862487793,
          44.40607833862305,
          43.572418212890625,
          44.648582458496094
         ],
         "xaxis": "x",
         "y": [
          6.3833327293396,
          5.594130516052246,
          5.877918720245361,
          5.851006507873535,
          5.735544204711914,
          5.036357879638672,
          5.4796271324157715,
          5.701395034790039,
          6.007180690765381,
          6.819952964782715
         ],
         "yaxis": "y"
        },
        {
         "hovertemplate": "color=439<br>symbol=439<br>x=%{x}<br>y=%{y}<extra></extra>",
         "legendgroup": "439, 439",
         "marker": {
          "color": "#FF6692",
          "opacity": 0.3,
          "symbol": "diamond"
         },
         "mode": "markers",
         "name": "439, 439",
         "showlegend": true,
         "type": "scattergl",
         "x": [
          -54.993072509765625,
          -55.675140380859375,
          -59.80276107788086,
          -56.97525405883789,
          -57.58489227294922,
          -56.37684631347656,
          -55.69095230102539
         ],
         "xaxis": "x",
         "y": [
          20.611499786376953,
          18.20034408569336,
          11.178933143615723,
          11.498135566711426,
          11.36568546295166,
          19.809432983398438,
          18.98855972290039
         ],
         "yaxis": "y"
        },
        {
         "hovertemplate": "color=300<br>symbol=300<br>x=%{x}<br>y=%{y}<extra></extra>",
         "legendgroup": "300, 300",
         "marker": {
          "color": "#B6E880",
          "opacity": 0.3,
          "symbol": "square"
         },
         "mode": "markers",
         "name": "300, 300",
         "showlegend": true,
         "type": "scattergl",
         "x": [
          -9.727879524230957,
          -7.696990013122559,
          -8.836861610412598,
          -8.01059627532959,
          -8.681536674499512,
          -8.42911148071289,
          -6.654125690460205,
          -6.209208011627197,
          -8.35456657409668,
          -8.589550971984863,
          -8.821799278259277,
          -7.796757698059082,
          -7.724400520324707,
          -7.94614839553833,
          -7.511408805847168,
          -9.510004997253418,
          -7.696253299713135,
          -9.16716194152832,
          -8.022272109985352,
          -9.21331787109375,
          -8.608297348022461,
          -8.955073356628418,
          -7.934270858764648,
          -9.248100280761719,
          -6.766962051391602,
          18.239696502685547,
          -8.493943214416504,
          -8.150888442993164,
          -6.906852722167969,
          -7.485426425933838
         ],
         "xaxis": "x",
         "y": [
          -44.5709114074707,
          -43.995784759521484,
          -45.42844009399414,
          -45.45477294921875,
          -47.831138610839844,
          -47.075035095214844,
          -44.512813568115234,
          -41.3118896484375,
          -45.179901123046875,
          -44.82475280761719,
          -43.73796081542969,
          -46.58566665649414,
          -44.868743896484375,
          -44.83705139160156,
          -47.02396011352539,
          -43.68048095703125,
          -45.07905578613281,
          -44.4208869934082,
          -46.81980895996094,
          -45.56486892700195,
          -43.73408889770508,
          -45.018035888671875,
          -44.451148986816406,
          -47.13958740234375,
          -44.43482208251953,
          -47.896114349365234,
          -43.92599868774414,
          -45.33538055419922,
          -45.25276565551758,
          -45.96112823486328
         ],
         "yaxis": "y"
        },
        {
         "hovertemplate": "color=164<br>symbol=164<br>x=%{x}<br>y=%{y}<extra></extra>",
         "legendgroup": "164, 164",
         "marker": {
          "color": "#FF97FF",
          "opacity": 0.3,
          "symbol": "x"
         },
         "mode": "markers",
         "name": "164, 164",
         "showlegend": true,
         "type": "scattergl",
         "x": [
          37.09192657470703
         ],
         "xaxis": "x",
         "y": [
          33.45085906982422
         ],
         "yaxis": "y"
        },
        {
         "hovertemplate": "color=390<br>symbol=390<br>x=%{x}<br>y=%{y}<extra></extra>",
         "legendgroup": "390, 390",
         "marker": {
          "color": "#FECB52",
          "opacity": 0.3,
          "symbol": "cross"
         },
         "mode": "markers",
         "name": "390, 390",
         "showlegend": true,
         "type": "scattergl",
         "x": [
          41.98539733886719,
          41.438907623291016,
          41.06077194213867,
          40.82147216796875,
          46.794193267822266,
          40.6236572265625,
          41.535118103027344,
          41.499427795410156,
          40.76835632324219,
          41.596046447753906,
          41.646522521972656,
          40.72218704223633,
          41.98295974731445,
          41.20941162109375,
          41.66969680786133
         ],
         "xaxis": "x",
         "y": [
          -57.25754928588867,
          -58.493682861328125,
          -58.57363510131836,
          -56.101417541503906,
          -56.95451354980469,
          -56.42879867553711,
          -55.59962844848633,
          -55.77554702758789,
          -58.255069732666016,
          -58.670467376708984,
          -58.50815200805664,
          -58.709529876708984,
          -57.88232421875,
          -57.801231384277344,
          -58.718894958496094
         ],
         "yaxis": "y"
        },
        {
         "hovertemplate": "color=440<br>symbol=440<br>x=%{x}<br>y=%{y}<extra></extra>",
         "legendgroup": "440, 440",
         "marker": {
          "color": "#636efa",
          "opacity": 0.3,
          "symbol": "circle"
         },
         "mode": "markers",
         "name": "440, 440",
         "showlegend": true,
         "type": "scattergl",
         "x": [
          -14.36864185333252,
          -16.741905212402344,
          -20.21608543395996,
          -18.87030792236328,
          -18.966081619262695,
          -18.225500106811523,
          -15.58525276184082,
          -21.239004135131836,
          -17.383825302124023,
          -22.016183853149414,
          -15.841636657714844,
          -19.61345100402832,
          -14.632331848144531,
          -19.117176055908203,
          -18.03449821472168,
          -19.488794326782227,
          -18.197513580322266,
          -19.82967758178711,
          -18.971054077148438,
          -18.32109260559082
         ],
         "xaxis": "x",
         "y": [
          30.904951095581055,
          31.135414123535156,
          28.71897315979004,
          29.441444396972656,
          38.22563934326172,
          32.99357604980469,
          24.618127822875977,
          30.07177734375,
          31.145105361938477,
          29.04248809814453,
          30.688451766967773,
          35.663658142089844,
          29.872159957885742,
          35.97895050048828,
          32.013633728027344,
          35.98147201538086,
          30.160062789916992,
          35.19313430786133,
          38.220829010009766,
          35.69354248046875
         ],
         "yaxis": "y"
        },
        {
         "hovertemplate": "color=441<br>symbol=441<br>x=%{x}<br>y=%{y}<extra></extra>",
         "legendgroup": "441, 441",
         "marker": {
          "color": "#EF553B",
          "opacity": 0.3,
          "symbol": "diamond"
         },
         "mode": "markers",
         "name": "441, 441",
         "showlegend": true,
         "type": "scattergl",
         "x": [
          -62.98032760620117,
          -61.72679901123047,
          -61.571502685546875,
          -61.371795654296875,
          -62.500999450683594,
          -62.50664138793945,
          -60.810791015625,
          -56.08289337158203,
          -62.81700897216797,
          -64.05245971679688,
          -63.68809509277344,
          -62.44523620605469,
          -61.85036849975586,
          -57.985755920410156
         ],
         "xaxis": "x",
         "y": [
          14.30396556854248,
          14.418755531311035,
          12.999588966369629,
          14.454031944274902,
          12.191963195800781,
          13.655611038208008,
          12.548196792602539,
          10.884721755981445,
          13.254582405090332,
          13.916505813598633,
          14.0922212600708,
          16.518009185791016,
          13.499906539916992,
          12.055726051330566
         ],
         "yaxis": "y"
        },
        {
         "hovertemplate": "color=357<br>symbol=357<br>x=%{x}<br>y=%{y}<extra></extra>",
         "legendgroup": "357, 357",
         "marker": {
          "color": "#00cc96",
          "opacity": 0.3,
          "symbol": "square"
         },
         "mode": "markers",
         "name": "357, 357",
         "showlegend": true,
         "type": "scattergl",
         "x": [
          -5.261016845703125,
          -5.318971633911133,
          -9.605778694152832
         ],
         "xaxis": "x",
         "y": [
          35.59150314331055,
          36.05898666381836,
          32.24537658691406
         ],
         "yaxis": "y"
        },
        {
         "hovertemplate": "color=106<br>symbol=106<br>x=%{x}<br>y=%{y}<extra></extra>",
         "legendgroup": "106, 106",
         "marker": {
          "color": "#ab63fa",
          "opacity": 0.3,
          "symbol": "x"
         },
         "mode": "markers",
         "name": "106, 106",
         "showlegend": true,
         "type": "scattergl",
         "x": [
          30.939725875854492,
          30.728805541992188,
          33.35515213012695,
          34.15909957885742,
          32.00502014160156,
          -2.455434560775757,
          32.75075149536133,
          35.825904846191406,
          31.1483154296875,
          35.167171478271484,
          34.821495056152344,
          32.93341064453125,
          34.32255554199219,
          33.247772216796875
         ],
         "xaxis": "x",
         "y": [
          30.280254364013672,
          28.11774444580078,
          27.77999496459961,
          29.434938430786133,
          28.14723777770996,
          11.582056045532227,
          26.37547492980957,
          28.290719985961914,
          27.88715362548828,
          29.16775894165039,
          28.9302978515625,
          26.325788497924805,
          27.835397720336914,
          27.833446502685547
         ],
         "yaxis": "y"
        },
        {
         "hovertemplate": "color=349<br>symbol=349<br>x=%{x}<br>y=%{y}<extra></extra>",
         "legendgroup": "349, 349",
         "marker": {
          "color": "#FFA15A",
          "opacity": 0.3,
          "symbol": "cross"
         },
         "mode": "markers",
         "name": "349, 349",
         "showlegend": true,
         "type": "scattergl",
         "x": [
          0.09464002400636673,
          -0.17565122246742249,
          -2.4050583839416504
         ],
         "xaxis": "x",
         "y": [
          4.663305759429932,
          6.266465187072754,
          11.509087562561035
         ],
         "yaxis": "y"
        },
        {
         "hovertemplate": "color=347<br>symbol=347<br>x=%{x}<br>y=%{y}<extra></extra>",
         "legendgroup": "347, 347",
         "marker": {
          "color": "#19d3f3",
          "opacity": 0.3,
          "symbol": "circle"
         },
         "mode": "markers",
         "name": "347, 347",
         "showlegend": true,
         "type": "scattergl",
         "x": [
          -3.4807543754577637,
          -0.9844072461128235
         ],
         "xaxis": "x",
         "y": [
          14.1099271774292,
          13.02316951751709
         ],
         "yaxis": "y"
        },
        {
         "hovertemplate": "color=104<br>symbol=104<br>x=%{x}<br>y=%{y}<extra></extra>",
         "legendgroup": "104, 104",
         "marker": {
          "color": "#FF6692",
          "opacity": 0.3,
          "symbol": "diamond"
         },
         "mode": "markers",
         "name": "104, 104",
         "showlegend": true,
         "type": "scattergl",
         "x": [
          1.918034315109253,
          -0.6832642555236816,
          2.2014825344085693,
          -25.476789474487305,
          2.0358145236968994,
          2.259676218032837,
          71.3174057006836,
          2.22415828704834,
          -6.209604263305664
         ],
         "xaxis": "x",
         "y": [
          -19.11650276184082,
          21.147571563720703,
          -19.66689109802246,
          23.584932327270508,
          -19.576461791992188,
          -19.889856338500977,
          6.586398124694824,
          -19.753511428833008,
          -5.42676305770874
         ],
         "yaxis": "y"
        },
        {
         "hovertemplate": "color=249<br>symbol=249<br>x=%{x}<br>y=%{y}<extra></extra>",
         "legendgroup": "249, 249",
         "marker": {
          "color": "#B6E880",
          "opacity": 0.3,
          "symbol": "square"
         },
         "mode": "markers",
         "name": "249, 249",
         "showlegend": true,
         "type": "scattergl",
         "x": [
          -9.302080154418945,
          -25.38106346130371,
          -24.54378318786621,
          -26.76318359375,
          -21.960914611816406,
          -49.268455505371094,
          -28.546667098999023,
          -47.928924560546875,
          -27.12179183959961,
          14.977737426757812,
          -10.346899032592773,
          -25.527400970458984,
          -25.186195373535156,
          -25.94538116455078,
          -25.16166114807129,
          -26.596559524536133,
          0.4699237644672394,
          -24.021284103393555,
          -26.040363311767578,
          -38.33256912231445,
          -10.301104545593262,
          -23.891836166381836,
          -25.986770629882812,
          -9.205780029296875,
          -25.053096771240234,
          -24.557382583618164
         ],
         "xaxis": "x",
         "y": [
          -8.014044761657715,
          -16.217742919921875,
          -15.895477294921875,
          -17.067766189575195,
          -15.635634422302246,
          -15.615352630615234,
          -16.149946212768555,
          -16.39480972290039,
          -17.2316951751709,
          50.01860046386719,
          -9.272860527038574,
          -15.791494369506836,
          -15.408550262451172,
          -17.215728759765625,
          -15.809572219848633,
          -16.17430877685547,
          -12.489148139953613,
          -15.188055992126465,
          -15.99889087677002,
          -13.22579574584961,
          -9.248699188232422,
          -18.561433792114258,
          -17.913280487060547,
          -7.922522068023682,
          -17.542438507080078,
          -15.743900299072266
         ],
         "yaxis": "y"
        },
        {
         "hovertemplate": "color=274<br>symbol=274<br>x=%{x}<br>y=%{y}<extra></extra>",
         "legendgroup": "274, 274",
         "marker": {
          "color": "#FF97FF",
          "opacity": 0.3,
          "symbol": "x"
         },
         "mode": "markers",
         "name": "274, 274",
         "showlegend": true,
         "type": "scattergl",
         "x": [
          -20.33057403564453,
          -18.461795806884766,
          -18.70465087890625,
          -20.714006423950195,
          -17.928401947021484,
          -18.376157760620117,
          -18.647123336791992,
          -16.300439834594727,
          -17.774477005004883,
          -19.007165908813477,
          -18.585359573364258,
          -18.939916610717773,
          -17.32724380493164,
          -17.883689880371094,
          -19.97608184814453,
          -18.32027816772461,
          -17.24469757080078,
          -17.48026466369629,
          -17.176939010620117,
          -16.383718490600586
         ],
         "xaxis": "x",
         "y": [
          -74.59503173828125,
          -73.07869720458984,
          -75.34823608398438,
          -76.20069122314453,
          -74.54031372070312,
          -73.75778198242188,
          -73.3905258178711,
          -73.72577667236328,
          -75.0999526977539,
          -73.39239501953125,
          -74.03421783447266,
          -74.58373260498047,
          -73.80735778808594,
          -72.93651580810547,
          -75.4286117553711,
          -72.53649139404297,
          -71.7779312133789,
          -74.4852066040039,
          -73.7154312133789,
          -75.25640869140625
         ],
         "yaxis": "y"
        },
        {
         "hovertemplate": "color=198<br>symbol=198<br>x=%{x}<br>y=%{y}<extra></extra>",
         "legendgroup": "198, 198",
         "marker": {
          "color": "#FECB52",
          "opacity": 0.3,
          "symbol": "cross"
         },
         "mode": "markers",
         "name": "198, 198",
         "showlegend": true,
         "type": "scattergl",
         "x": [
          -1.342207431793213,
          -4.422338485717773,
          -4.492340564727783,
          -4.19497537612915,
          -4.813060760498047,
          5.332881927490234,
          3.8087401390075684
         ],
         "xaxis": "x",
         "y": [
          -64.59662628173828,
          38.24937438964844,
          38.16810607910156,
          38.439998626708984,
          32.19154739379883,
          33.812801361083984,
          29.943145751953125
         ],
         "yaxis": "y"
        },
        {
         "hovertemplate": "color=253<br>symbol=253<br>x=%{x}<br>y=%{y}<extra></extra>",
         "legendgroup": "253, 253",
         "marker": {
          "color": "#636efa",
          "opacity": 0.3,
          "symbol": "circle"
         },
         "mode": "markers",
         "name": "253, 253",
         "showlegend": true,
         "type": "scattergl",
         "x": [
          -25.181427001953125,
          -29.94771385192871,
          -28.487966537475586,
          -24.71521759033203,
          -28.60091781616211,
          -29.667890548706055,
          -27.605422973632812,
          -28.503480911254883,
          -28.069988250732422,
          -27.061565399169922,
          -27.830995559692383
         ],
         "xaxis": "x",
         "y": [
          -23.836488723754883,
          -22.021846771240234,
          -24.536550521850586,
          -23.710844039916992,
          -24.30069351196289,
          -22.836606979370117,
          -23.61318016052246,
          -22.280616760253906,
          -14.358758926391602,
          -23.082294464111328,
          -24.0482120513916
         ],
         "yaxis": "y"
        },
        {
         "hovertemplate": "color=84<br>symbol=84<br>x=%{x}<br>y=%{y}<extra></extra>",
         "legendgroup": "84, 84",
         "marker": {
          "color": "#EF553B",
          "opacity": 0.3,
          "symbol": "diamond"
         },
         "mode": "markers",
         "name": "84, 84",
         "showlegend": true,
         "type": "scattergl",
         "x": [
          17.11124038696289,
          16.353376388549805
         ],
         "xaxis": "x",
         "y": [
          -8.960583686828613,
          7.208376407623291
         ],
         "yaxis": "y"
        },
        {
         "hovertemplate": "color=195<br>symbol=195<br>x=%{x}<br>y=%{y}<extra></extra>",
         "legendgroup": "195, 195",
         "marker": {
          "color": "#00cc96",
          "opacity": 0.3,
          "symbol": "square"
         },
         "mode": "markers",
         "name": "195, 195",
         "showlegend": true,
         "type": "scattergl",
         "x": [
          0.46169134974479675,
          3.1165549755096436,
          4.27107048034668,
          13.303442001342773,
          8.443618774414062,
          -2.375736951828003,
          0.8484397530555725,
          16.043418884277344,
          6.130431652069092
         ],
         "xaxis": "x",
         "y": [
          35.30195617675781,
          39.47162628173828,
          28.796234130859375,
          31.10002899169922,
          24.90381622314453,
          5.665564060211182,
          40.40732192993164,
          28.187952041625977,
          21.46675682067871
         ],
         "yaxis": "y"
        },
        {
         "hovertemplate": "color=458<br>symbol=458<br>x=%{x}<br>y=%{y}<extra></extra>",
         "legendgroup": "458, 458",
         "marker": {
          "color": "#ab63fa",
          "opacity": 0.3,
          "symbol": "x"
         },
         "mode": "markers",
         "name": "458, 458",
         "showlegend": true,
         "type": "scattergl",
         "x": [
          1.1977077722549438,
          5.589961051940918,
          7.634911060333252,
          3.7544376850128174,
          4.160556316375732,
          3.7748212814331055,
          5.808611869812012,
          -48.208274841308594,
          1.4146121740341187,
          -1.3460032939910889,
          -0.9576386213302612,
          -0.6463879346847534
         ],
         "xaxis": "x",
         "y": [
          -3.9162485599517822,
          0.0506364069879055,
          5.280795097351074,
          -7.201615810394287,
          6.299473285675049,
          -7.245552062988281,
          0.33124998211860657,
          -16.211780548095703,
          -5.171506881713867,
          -4.669374465942383,
          -4.5382080078125,
          -4.532601356506348
         ],
         "yaxis": "y"
        },
        {
         "hovertemplate": "color=132<br>symbol=132<br>x=%{x}<br>y=%{y}<extra></extra>",
         "legendgroup": "132, 132",
         "marker": {
          "color": "#FFA15A",
          "opacity": 0.3,
          "symbol": "cross"
         },
         "mode": "markers",
         "name": "132, 132",
         "showlegend": true,
         "type": "scattergl",
         "x": [
          14.1401948928833,
          13.283197402954102,
          13.861237525939941,
          13.247123718261719,
          13.811633110046387
         ],
         "xaxis": "x",
         "y": [
          3.9668962955474854,
          3.725994110107422,
          3.865532875061035,
          3.715104579925537,
          3.8154666423797607
         ],
         "yaxis": "y"
        },
        {
         "hovertemplate": "color=172<br>symbol=172<br>x=%{x}<br>y=%{y}<extra></extra>",
         "legendgroup": "172, 172",
         "marker": {
          "color": "#19d3f3",
          "opacity": 0.3,
          "symbol": "circle"
         },
         "mode": "markers",
         "name": "172, 172",
         "showlegend": true,
         "type": "scattergl",
         "x": [
          -43.48632049560547
         ],
         "xaxis": "x",
         "y": [
          -47.47798156738281
         ],
         "yaxis": "y"
        },
        {
         "hovertemplate": "color=20<br>symbol=20<br>x=%{x}<br>y=%{y}<extra></extra>",
         "legendgroup": "20, 20",
         "marker": {
          "color": "#FF6692",
          "opacity": 0.3,
          "symbol": "diamond"
         },
         "mode": "markers",
         "name": "20, 20",
         "showlegend": true,
         "type": "scattergl",
         "x": [
          62.939064025878906,
          61.90257263183594
         ],
         "xaxis": "x",
         "y": [
          4.381411075592041,
          0.5925490856170654
         ],
         "yaxis": "y"
        },
        {
         "hovertemplate": "color=184<br>symbol=184<br>x=%{x}<br>y=%{y}<extra></extra>",
         "legendgroup": "184, 184",
         "marker": {
          "color": "#B6E880",
          "opacity": 0.3,
          "symbol": "square"
         },
         "mode": "markers",
         "name": "184, 184",
         "showlegend": true,
         "type": "scattergl",
         "x": [
          31.236658096313477
         ],
         "xaxis": "x",
         "y": [
          52.46943664550781
         ],
         "yaxis": "y"
        },
        {
         "hovertemplate": "color=213<br>symbol=213<br>x=%{x}<br>y=%{y}<extra></extra>",
         "legendgroup": "213, 213",
         "marker": {
          "color": "#FF97FF",
          "opacity": 0.3,
          "symbol": "x"
         },
         "mode": "markers",
         "name": "213, 213",
         "showlegend": true,
         "type": "scattergl",
         "x": [
          55.325050354003906,
          52.784523010253906,
          57.08625793457031,
          55.659637451171875
         ],
         "xaxis": "x",
         "y": [
          24.571605682373047,
          30.301523208618164,
          26.011890411376953,
          27.831932067871094
         ],
         "yaxis": "y"
        },
        {
         "hovertemplate": "color=25<br>symbol=25<br>x=%{x}<br>y=%{y}<extra></extra>",
         "legendgroup": "25, 25",
         "marker": {
          "color": "#FECB52",
          "opacity": 0.3,
          "symbol": "cross"
         },
         "mode": "markers",
         "name": "25, 25",
         "showlegend": true,
         "type": "scattergl",
         "x": [
          62.358516693115234,
          -2.3235700130462646,
          62.77309036254883,
          64.20161437988281,
          62.991580963134766
         ],
         "xaxis": "x",
         "y": [
          4.365101337432861,
          -8.034887313842773,
          1.9469600915908813,
          4.330386638641357,
          2.851665496826172
         ],
         "yaxis": "y"
        },
        {
         "hovertemplate": "color=309<br>symbol=309<br>x=%{x}<br>y=%{y}<extra></extra>",
         "legendgroup": "309, 309",
         "marker": {
          "color": "#636efa",
          "opacity": 0.3,
          "symbol": "circle"
         },
         "mode": "markers",
         "name": "309, 309",
         "showlegend": true,
         "type": "scattergl",
         "x": [
          8.161457061767578,
          8.201231002807617,
          7.26798677444458,
          8.189229011535645
         ],
         "xaxis": "x",
         "y": [
          -59.84394836425781,
          -59.869354248046875,
          -59.01339340209961,
          -59.85946273803711
         ],
         "yaxis": "y"
        },
        {
         "hovertemplate": "color=251<br>symbol=251<br>x=%{x}<br>y=%{y}<extra></extra>",
         "legendgroup": "251, 251",
         "marker": {
          "color": "#EF553B",
          "opacity": 0.3,
          "symbol": "diamond"
         },
         "mode": "markers",
         "name": "251, 251",
         "showlegend": true,
         "type": "scattergl",
         "x": [
          -41.773677825927734,
          -40.27680969238281,
          -40.411434173583984,
          69.37747192382812,
          -40.342716217041016,
          -38.66915512084961,
          -40.36249923706055,
          -40.84835433959961,
          -41.03354263305664,
          -40.627471923828125,
          -14.764235496520996,
          -40.25971603393555,
          -40.89020919799805
         ],
         "xaxis": "x",
         "y": [
          -9.271553039550781,
          -11.271265983581543,
          -4.669075012207031,
          8.80235767364502,
          -12.321576118469238,
          -10.16090202331543,
          -4.540720462799072,
          -8.17725944519043,
          -6.522324085235596,
          -10.981314659118652,
          1.3080862760543823,
          -9.360383033752441,
          -11.151922225952148
         ],
         "yaxis": "y"
        },
        {
         "hovertemplate": "color=265<br>symbol=265<br>x=%{x}<br>y=%{y}<extra></extra>",
         "legendgroup": "265, 265",
         "marker": {
          "color": "#00cc96",
          "opacity": 0.3,
          "symbol": "square"
         },
         "mode": "markers",
         "name": "265, 265",
         "showlegend": true,
         "type": "scattergl",
         "x": [
          -39.7474479675293,
          -42.49683380126953,
          -41.88801574707031,
          7.318722724914551,
          -42.05018615722656,
          -40.488006591796875,
          -42.89437484741211,
          -36.78886032104492,
          -43.291378021240234,
          -42.48792266845703,
          -21.248519897460938,
          -39.3134880065918,
          -41.857059478759766,
          -41.26764678955078,
          -18.791770935058594,
          -42.936073303222656,
          -39.558841705322266,
          -38.874488830566406,
          -43.35728454589844,
          -33.71885681152344,
          -42.3294792175293,
          -39.681575775146484,
          -41.585472106933594,
          -33.09515380859375,
          -41.18480682373047,
          -39.91425704956055,
          -41.95656967163086,
          -41.001834869384766,
          -40.85812759399414,
          -40.51307678222656,
          -38.77727127075195,
          -41.8544921875,
          -43.32746505737305,
          -43.02580261230469,
          -41.56731414794922,
          -41.59812545776367,
          -18.88773536682129,
          -39.0359001159668,
          -41.3017692565918,
          -38.19193649291992
         ],
         "xaxis": "x",
         "y": [
          -13.0630464553833,
          -11.358927726745605,
          -10.642427444458008,
          -22.097755432128906,
          -11.223608016967773,
          -10.33071231842041,
          -11.077033996582031,
          -10.153016090393066,
          -13.674552917480469,
          -13.856603622436523,
          -13.757906913757324,
          -9.295103073120117,
          -11.912537574768066,
          -8.291987419128418,
          12.775212287902832,
          -10.026572227478027,
          -10.439424514770508,
          -11.24954605102539,
          -9.006855010986328,
          -24.412691116333008,
          -10.110753059387207,
          -10.903841972351074,
          -10.00417709350586,
          -24.594005584716797,
          -8.2885103225708,
          -10.563825607299805,
          -8.99145221710205,
          -9.420448303222656,
          -10.359319686889648,
          -5.031679630279541,
          -11.4258394241333,
          -10.092131614685059,
          -9.59394359588623,
          -13.58963680267334,
          -10.822583198547363,
          -9.57016372680664,
          12.699299812316895,
          -9.218828201293945,
          -9.91396713256836,
          -10.947314262390137
         ],
         "yaxis": "y"
        },
        {
         "hovertemplate": "color=371<br>symbol=371<br>x=%{x}<br>y=%{y}<extra></extra>",
         "legendgroup": "371, 371",
         "marker": {
          "color": "#ab63fa",
          "opacity": 0.3,
          "symbol": "x"
         },
         "mode": "markers",
         "name": "371, 371",
         "showlegend": true,
         "type": "scattergl",
         "x": [
          8.336555480957031,
          6.842288494110107,
          6.7035017013549805
         ],
         "xaxis": "x",
         "y": [
          59.07239532470703,
          61.81182098388672,
          61.78728103637695
         ],
         "yaxis": "y"
        },
        {
         "hovertemplate": "color=316<br>symbol=316<br>x=%{x}<br>y=%{y}<extra></extra>",
         "legendgroup": "316, 316",
         "marker": {
          "color": "#FFA15A",
          "opacity": 0.3,
          "symbol": "cross"
         },
         "mode": "markers",
         "name": "316, 316",
         "showlegend": true,
         "type": "scattergl",
         "x": [
          13.221901893615723
         ],
         "xaxis": "x",
         "y": [
          -2.950486421585083
         ],
         "yaxis": "y"
        },
        {
         "hovertemplate": "color=127<br>symbol=127<br>x=%{x}<br>y=%{y}<extra></extra>",
         "legendgroup": "127, 127",
         "marker": {
          "color": "#19d3f3",
          "opacity": 0.3,
          "symbol": "circle"
         },
         "mode": "markers",
         "name": "127, 127",
         "showlegend": true,
         "type": "scattergl",
         "x": [
          17.553791046142578,
          -45.43999099731445,
          4.519291877746582,
          -45.09956741333008,
          30.56523323059082,
          0.5579362511634827,
          5.025302886962891
         ],
         "xaxis": "x",
         "y": [
          -40.8164176940918,
          25.80613136291504,
          -18.572185516357422,
          25.269418716430664,
          28.152210235595703,
          -19.703868865966797,
          25.75718879699707
         ],
         "yaxis": "y"
        },
        {
         "hovertemplate": "color=221<br>symbol=221<br>x=%{x}<br>y=%{y}<extra></extra>",
         "legendgroup": "221, 221",
         "marker": {
          "color": "#FF6692",
          "opacity": 0.3,
          "symbol": "diamond"
         },
         "mode": "markers",
         "name": "221, 221",
         "showlegend": true,
         "type": "scattergl",
         "x": [
          7.021446704864502,
          5.346917629241943,
          10.859466552734375,
          5.977402210235596,
          12.251822471618652,
          -5.157261371612549,
          0.3250022232532501
         ],
         "xaxis": "x",
         "y": [
          24.686626434326172,
          33.78600311279297,
          26.481035232543945,
          28.570951461791992,
          26.377534866333008,
          33.63014221191406,
          25.59008026123047
         ],
         "yaxis": "y"
        },
        {
         "hovertemplate": "color=288<br>symbol=288<br>x=%{x}<br>y=%{y}<extra></extra>",
         "legendgroup": "288, 288",
         "marker": {
          "color": "#B6E880",
          "opacity": 0.3,
          "symbol": "square"
         },
         "mode": "markers",
         "name": "288, 288",
         "showlegend": true,
         "type": "scattergl",
         "x": [
          -6.646547317504883
         ],
         "xaxis": "x",
         "y": [
          16.166019439697266
         ],
         "yaxis": "y"
        },
        {
         "hovertemplate": "color=285<br>symbol=285<br>x=%{x}<br>y=%{y}<extra></extra>",
         "legendgroup": "285, 285",
         "marker": {
          "color": "#FF97FF",
          "opacity": 0.3,
          "symbol": "x"
         },
         "mode": "markers",
         "name": "285, 285",
         "showlegend": true,
         "type": "scattergl",
         "x": [
          -2.357041120529175,
          -3.7868826389312744,
          -3.1691091060638428,
          -2.8515164852142334,
          -2.601170301437378,
          -3.86600923538208,
          -2.872121572494507,
          62.57463836669922,
          -2.288588762283325,
          -3.3309946060180664,
          0.9767758250236511
         ],
         "xaxis": "x",
         "y": [
          15.671643257141113,
          16.4991397857666,
          15.512937545776367,
          15.506596565246582,
          15.625625610351562,
          16.5820255279541,
          15.685504913330078,
          5.88435697555542,
          15.136101722717285,
          14.945208549499512,
          18.300416946411133
         ],
         "yaxis": "y"
        },
        {
         "hovertemplate": "color=391<br>symbol=391<br>x=%{x}<br>y=%{y}<extra></extra>",
         "legendgroup": "391, 391",
         "marker": {
          "color": "#FECB52",
          "opacity": 0.3,
          "symbol": "cross"
         },
         "mode": "markers",
         "name": "391, 391",
         "showlegend": true,
         "type": "scattergl",
         "x": [
          43.70688247680664,
          43.6766471862793,
          43.8405876159668,
          43.890106201171875,
          43.49116516113281,
          43.763858795166016,
          43.6075325012207,
          43.657142639160156
         ],
         "xaxis": "x",
         "y": [
          -55.4533805847168,
          -56.52255630493164,
          -57.02439880371094,
          -56.376399993896484,
          -54.57100296020508,
          -56.270206451416016,
          -56.994598388671875,
          -57.028106689453125
         ],
         "yaxis": "y"
        },
        {
         "hovertemplate": "color=226<br>symbol=226<br>x=%{x}<br>y=%{y}<extra></extra>",
         "legendgroup": "226, 226",
         "marker": {
          "color": "#636efa",
          "opacity": 0.3,
          "symbol": "circle"
         },
         "mode": "markers",
         "name": "226, 226",
         "showlegend": true,
         "type": "scattergl",
         "x": [
          31.804306030273438,
          31.301563262939453,
          31.424795150756836,
          31.28803253173828,
          31.29046630859375,
          31.288240432739258,
          31.77217674255371,
          31.803373336791992,
          31.805011749267578
         ],
         "xaxis": "x",
         "y": [
          54.372684478759766,
          54.34423828125,
          54.57305908203125,
          54.36424255371094,
          54.35443878173828,
          54.363197326660156,
          54.367801666259766,
          54.37324523925781,
          54.37381362915039
         ],
         "yaxis": "y"
        },
        {
         "hovertemplate": "color=305<br>symbol=305<br>x=%{x}<br>y=%{y}<extra></extra>",
         "legendgroup": "305, 305",
         "marker": {
          "color": "#EF553B",
          "opacity": 0.3,
          "symbol": "diamond"
         },
         "mode": "markers",
         "name": "305, 305",
         "showlegend": true,
         "type": "scattergl",
         "x": [
          11.619943618774414,
          11.50024127960205,
          11.501169204711914,
          11.503966331481934
         ],
         "xaxis": "x",
         "y": [
          -13.463147163391113,
          -13.105758666992188,
          -12.98196792602539,
          -13.170275688171387
         ],
         "yaxis": "y"
        },
        {
         "hovertemplate": "color=303<br>symbol=303<br>x=%{x}<br>y=%{y}<extra></extra>",
         "legendgroup": "303, 303",
         "marker": {
          "color": "#00cc96",
          "opacity": 0.3,
          "symbol": "square"
         },
         "mode": "markers",
         "name": "303, 303",
         "showlegend": true,
         "type": "scattergl",
         "x": [
          5.079917907714844,
          5.476443290710449,
          5.041947841644287,
          2.521636962890625,
          2.798107385635376,
          4.745133876800537,
          5.735437393188477,
          6.894065856933594,
          5.060684680938721,
          4.851245403289795,
          4.955758571624756,
          5.405285835266113,
          5.633541107177734,
          3.706533193588257
         ],
         "xaxis": "x",
         "y": [
          -55.408905029296875,
          -56.71590042114258,
          -57.52392578125,
          -59.91353988647461,
          -57.380001068115234,
          -59.00838088989258,
          -57.55788803100586,
          -56.0540885925293,
          -58.22727966308594,
          -60.13393020629883,
          -59.96939468383789,
          -57.799686431884766,
          -57.588165283203125,
          -65.39000701904297
         ],
         "yaxis": "y"
        },
        {
         "hovertemplate": "color=360<br>symbol=360<br>x=%{x}<br>y=%{y}<extra></extra>",
         "legendgroup": "360, 360",
         "marker": {
          "color": "#ab63fa",
          "opacity": 0.3,
          "symbol": "x"
         },
         "mode": "markers",
         "name": "360, 360",
         "showlegend": true,
         "type": "scattergl",
         "x": [
          21.945772171020508,
          22.28704261779785,
          22.113447189331055
         ],
         "xaxis": "x",
         "y": [
          34.482181549072266,
          34.179691314697266,
          34.332637786865234
         ],
         "yaxis": "y"
        },
        {
         "hovertemplate": "color=134<br>symbol=134<br>x=%{x}<br>y=%{y}<extra></extra>",
         "legendgroup": "134, 134",
         "marker": {
          "color": "#FFA15A",
          "opacity": 0.3,
          "symbol": "cross"
         },
         "mode": "markers",
         "name": "134, 134",
         "showlegend": true,
         "type": "scattergl",
         "x": [
          -43.3093376159668,
          2.836714029312134
         ],
         "xaxis": "x",
         "y": [
          -12.635875701904297,
          -9.146718978881836
         ],
         "yaxis": "y"
        },
        {
         "hovertemplate": "color=91<br>symbol=91<br>x=%{x}<br>y=%{y}<extra></extra>",
         "legendgroup": "91, 91",
         "marker": {
          "color": "#19d3f3",
          "opacity": 0.3,
          "symbol": "circle"
         },
         "mode": "markers",
         "name": "91, 91",
         "showlegend": true,
         "type": "scattergl",
         "x": [
          16.94194221496582
         ],
         "xaxis": "x",
         "y": [
          -5.202487468719482
         ],
         "yaxis": "y"
        },
        {
         "hovertemplate": "color=380<br>symbol=380<br>x=%{x}<br>y=%{y}<extra></extra>",
         "legendgroup": "380, 380",
         "marker": {
          "color": "#FF6692",
          "opacity": 0.3,
          "symbol": "diamond"
         },
         "mode": "markers",
         "name": "380, 380",
         "showlegend": true,
         "type": "scattergl",
         "x": [
          2.366534948348999,
          9.9312744140625,
          9.340750694274902
         ],
         "xaxis": "x",
         "y": [
          49.965736389160156,
          52.547096252441406,
          54.5718994140625
         ],
         "yaxis": "y"
        },
        {
         "hovertemplate": "color=273<br>symbol=273<br>x=%{x}<br>y=%{y}<extra></extra>",
         "legendgroup": "273, 273",
         "marker": {
          "color": "#B6E880",
          "opacity": 0.3,
          "symbol": "square"
         },
         "mode": "markers",
         "name": "273, 273",
         "showlegend": true,
         "type": "scattergl",
         "x": [
          -25.191112518310547,
          -25.080827713012695,
          -26.48263931274414,
          -27.395767211914062,
          -25.866870880126953,
          -26.234207153320312,
          -25.832490921020508,
          -25.958974838256836,
          -27.45469093322754,
          -24.819969177246094,
          -24.414581298828125,
          -26.44927215576172,
          -26.79779624938965,
          -26.588130950927734,
          -25.800128936767578,
          -26.468307495117188
         ],
         "xaxis": "x",
         "y": [
          -59.764286041259766,
          -58.562721252441406,
          -59.723114013671875,
          -60.74494934082031,
          -59.17001724243164,
          -57.94695281982422,
          -58.22064208984375,
          -59.41691207885742,
          -58.05111312866211,
          -58.89242935180664,
          -58.63855743408203,
          -59.901451110839844,
          -60.293270111083984,
          -59.694034576416016,
          -57.97770309448242,
          -60.82902145385742
         ],
         "yaxis": "y"
        },
        {
         "hovertemplate": "color=216<br>symbol=216<br>x=%{x}<br>y=%{y}<extra></extra>",
         "legendgroup": "216, 216",
         "marker": {
          "color": "#FF97FF",
          "opacity": 0.3,
          "symbol": "x"
         },
         "mode": "markers",
         "name": "216, 216",
         "showlegend": true,
         "type": "scattergl",
         "x": [
          19.197053909301758,
          16.60373878479004,
          16.634830474853516,
          16.613698959350586,
          0.8872568607330322,
          12.238537788391113
         ],
         "xaxis": "x",
         "y": [
          9.922018051147461,
          40.16090393066406,
          40.165924072265625,
          40.15802764892578,
          55.90875244140625,
          23.2108211517334
         ],
         "yaxis": "y"
        },
        {
         "hovertemplate": "color=402<br>symbol=402<br>x=%{x}<br>y=%{y}<extra></extra>",
         "legendgroup": "402, 402",
         "marker": {
          "color": "#FECB52",
          "opacity": 0.3,
          "symbol": "cross"
         },
         "mode": "markers",
         "name": "402, 402",
         "showlegend": true,
         "type": "scattergl",
         "x": [
          17.102031707763672,
          -14.000434875488281
         ],
         "xaxis": "x",
         "y": [
          7.255796909332275,
          19.568498611450195
         ],
         "yaxis": "y"
        },
        {
         "hovertemplate": "color=418<br>symbol=418<br>x=%{x}<br>y=%{y}<extra></extra>",
         "legendgroup": "418, 418",
         "marker": {
          "color": "#636efa",
          "opacity": 0.3,
          "symbol": "circle"
         },
         "mode": "markers",
         "name": "418, 418",
         "showlegend": true,
         "type": "scattergl",
         "x": [
          -54.01634216308594,
          -56.424232482910156,
          -55.094112396240234,
          -54.160160064697266,
          -55.972232818603516,
          -54.14323425292969,
          1.985185980796814,
          -55.51851272583008,
          -54.6980094909668,
          -50.62558364868164,
          -53.82201385498047,
          -55.05767822265625,
          -56.63131332397461,
          -53.90715408325195,
          -56.33330154418945,
          -56.71306610107422,
          -55.990169525146484,
          -47.83457565307617,
          -55.77644348144531,
          -1.4525926113128662,
          -54.9068489074707,
          -55.1959342956543,
          -54.40526580810547,
          -39.375003814697266,
          -56.834007263183594,
          61.01506042480469,
          -56.541725158691406
         ],
         "xaxis": "x",
         "y": [
          20.052927017211914,
          21.829099655151367,
          21.923925399780273,
          19.574254989624023,
          19.78879737854004,
          19.540565490722656,
          -11.385181427001953,
          17.484960556030273,
          20.982404708862305,
          10.052289009094238,
          20.45490837097168,
          21.888084411621094,
          21.177135467529297,
          19.177072525024414,
          18.901426315307617,
          21.352752685546875,
          19.028858184814453,
          7.353340148925781,
          19.556228637695312,
          30.794153213500977,
          22.014955520629883,
          19.790462493896484,
          21.3988094329834,
          10.377592086791992,
          10.723128318786621,
          5.143271446228027,
          20.763723373413086
         ],
         "yaxis": "y"
        },
        {
         "hovertemplate": "color=196<br>symbol=196<br>x=%{x}<br>y=%{y}<extra></extra>",
         "legendgroup": "196, 196",
         "marker": {
          "color": "#EF553B",
          "opacity": 0.3,
          "symbol": "diamond"
         },
         "mode": "markers",
         "name": "196, 196",
         "showlegend": true,
         "type": "scattergl",
         "x": [
          30.173887252807617
         ],
         "xaxis": "x",
         "y": [
          53.00244903564453
         ],
         "yaxis": "y"
        },
        {
         "hovertemplate": "color=325<br>symbol=325<br>x=%{x}<br>y=%{y}<extra></extra>",
         "legendgroup": "325, 325",
         "marker": {
          "color": "#00cc96",
          "opacity": 0.3,
          "symbol": "square"
         },
         "mode": "markers",
         "name": "325, 325",
         "showlegend": true,
         "type": "scattergl",
         "x": [
          9.26303482055664,
          0.6043175458908081,
          0.31522372364997864,
          9.684061050415039,
          8.118632316589355,
          8.168971061706543,
          0.3889909088611603,
          8.954178810119629,
          8.623650550842285,
          0.5745594501495361,
          10.591320037841797,
          0.5919867157936096,
          0.39646080136299133,
          0.3542894721031189,
          -1.34865403175354,
          1.0064647197723389,
          9.02719783782959,
          9.763040542602539
         ],
         "xaxis": "x",
         "y": [
          34.55204772949219,
          -3.907557487487793,
          -2.51689076423645,
          34.33226776123047,
          33.756465911865234,
          33.822776794433594,
          -5.249889373779297,
          32.85523223876953,
          33.23161697387695,
          -3.9695422649383545,
          18.077316284179688,
          -3.093384027481079,
          -4.96832799911499,
          -3.390446424484253,
          -2.996290445327759,
          -2.337921619415283,
          33.00058364868164,
          33.13615036010742
         ],
         "yaxis": "y"
        },
        {
         "hovertemplate": "color=240<br>symbol=240<br>x=%{x}<br>y=%{y}<extra></extra>",
         "legendgroup": "240, 240",
         "marker": {
          "color": "#ab63fa",
          "opacity": 0.3,
          "symbol": "x"
         },
         "mode": "markers",
         "name": "240, 240",
         "showlegend": true,
         "type": "scattergl",
         "x": [
          19.536672592163086,
          -24.68238067626953
         ],
         "xaxis": "x",
         "y": [
          3.856718063354492,
          -64.16362762451172
         ],
         "yaxis": "y"
        },
        {
         "hovertemplate": "color=290<br>symbol=290<br>x=%{x}<br>y=%{y}<extra></extra>",
         "legendgroup": "290, 290",
         "marker": {
          "color": "#FFA15A",
          "opacity": 0.3,
          "symbol": "cross"
         },
         "mode": "markers",
         "name": "290, 290",
         "showlegend": true,
         "type": "scattergl",
         "x": [
          13.965215682983398,
          13.710030555725098,
          -2.0588505268096924,
          14.503362655639648,
          15.081340789794922,
          13.54942798614502,
          14.11956787109375
         ],
         "xaxis": "x",
         "y": [
          49.25920104980469,
          49.14828109741211,
          2.283137083053589,
          49.03570556640625,
          48.612709045410156,
          50.152095794677734,
          49.11867904663086
         ],
         "yaxis": "y"
        },
        {
         "hovertemplate": "color=2<br>symbol=2<br>x=%{x}<br>y=%{y}<extra></extra>",
         "legendgroup": "2, 2",
         "marker": {
          "color": "#19d3f3",
          "opacity": 0.3,
          "symbol": "circle"
         },
         "mode": "markers",
         "name": "2, 2",
         "showlegend": true,
         "type": "scattergl",
         "x": [
          61.27885055541992,
          61.02340316772461,
          61.41999816894531,
          61.28744888305664,
          66.07386779785156,
          63.40928268432617,
          61.06776428222656,
          61.47311019897461,
          62.886474609375,
          61.12697219848633
         ],
         "xaxis": "x",
         "y": [
          -23.702247619628906,
          -24.849124908447266,
          -23.58193588256836,
          -23.61488151550293,
          -22.886043548583984,
          -22.746625900268555,
          -24.71198081970215,
          -24.061128616333008,
          -23.530986785888672,
          -24.6005916595459
         ],
         "yaxis": "y"
        },
        {
         "hovertemplate": "color=230<br>symbol=230<br>x=%{x}<br>y=%{y}<extra></extra>",
         "legendgroup": "230, 230",
         "marker": {
          "color": "#FF6692",
          "opacity": 0.3,
          "symbol": "diamond"
         },
         "mode": "markers",
         "name": "230, 230",
         "showlegend": true,
         "type": "scattergl",
         "x": [
          22.701465606689453,
          22.69123649597168,
          22.650766372680664
         ],
         "xaxis": "x",
         "y": [
          44.96401596069336,
          44.97075653076172,
          45.029640197753906
         ],
         "yaxis": "y"
        },
        {
         "hovertemplate": "color=17<br>symbol=17<br>x=%{x}<br>y=%{y}<extra></extra>",
         "legendgroup": "17, 17",
         "marker": {
          "color": "#B6E880",
          "opacity": 0.3,
          "symbol": "square"
         },
         "mode": "markers",
         "name": "17, 17",
         "showlegend": true,
         "type": "scattergl",
         "x": [
          73.15662384033203,
          73.9086685180664
         ],
         "xaxis": "x",
         "y": [
          4.353965759277344,
          3.686119318008423
         ],
         "yaxis": "y"
        },
        {
         "hovertemplate": "color=422<br>symbol=422<br>x=%{x}<br>y=%{y}<extra></extra>",
         "legendgroup": "422, 422",
         "marker": {
          "color": "#FF97FF",
          "opacity": 0.3,
          "symbol": "x"
         },
         "mode": "markers",
         "name": "422, 422",
         "showlegend": true,
         "type": "scattergl",
         "x": [
          -19.975601196289062,
          -14.614178657531738,
          -14.418218612670898,
          -14.595566749572754,
          -14.561232566833496
         ],
         "xaxis": "x",
         "y": [
          24.590532302856445,
          38.105865478515625,
          37.81600570678711,
          38.13588333129883,
          38.06696701049805
         ],
         "yaxis": "y"
        },
        {
         "hovertemplate": "color=126<br>symbol=126<br>x=%{x}<br>y=%{y}<extra></extra>",
         "legendgroup": "126, 126",
         "marker": {
          "color": "#FECB52",
          "opacity": 0.3,
          "symbol": "cross"
         },
         "mode": "markers",
         "name": "126, 126",
         "showlegend": true,
         "type": "scattergl",
         "x": [
          1.5136018991470337,
          6.5572357177734375,
          1.5549967288970947,
          21.74022102355957,
          -0.12095823138952255
         ],
         "xaxis": "x",
         "y": [
          22.30548667907715,
          24.734745025634766,
          29.80902671813965,
          21.959474563598633,
          25.642465591430664
         ],
         "yaxis": "y"
        },
        {
         "hovertemplate": "color=220<br>symbol=220<br>x=%{x}<br>y=%{y}<extra></extra>",
         "legendgroup": "220, 220",
         "marker": {
          "color": "#636efa",
          "opacity": 0.3,
          "symbol": "circle"
         },
         "mode": "markers",
         "name": "220, 220",
         "showlegend": true,
         "type": "scattergl",
         "x": [
          31.17208480834961
         ],
         "xaxis": "x",
         "y": [
          53.504974365234375
         ],
         "yaxis": "y"
        },
        {
         "hovertemplate": "color=276<br>symbol=276<br>x=%{x}<br>y=%{y}<extra></extra>",
         "legendgroup": "276, 276",
         "marker": {
          "color": "#EF553B",
          "opacity": 0.3,
          "symbol": "diamond"
         },
         "mode": "markers",
         "name": "276, 276",
         "showlegend": true,
         "type": "scattergl",
         "x": [
          10.819584846496582,
          28.18572425842285,
          3.1464669704437256,
          5.353670120239258,
          -0.3605433404445648
         ],
         "xaxis": "x",
         "y": [
          25.589818954467773,
          17.374290466308594,
          16.03925323486328,
          23.48797607421875,
          13.991189956665039
         ],
         "yaxis": "y"
        },
        {
         "hovertemplate": "color=63<br>symbol=63<br>x=%{x}<br>y=%{y}<extra></extra>",
         "legendgroup": "63, 63",
         "marker": {
          "color": "#00cc96",
          "opacity": 0.3,
          "symbol": "square"
         },
         "mode": "markers",
         "name": "63, 63",
         "showlegend": true,
         "type": "scattergl",
         "x": [
          0.15917646884918213,
          0.1426367163658142
         ],
         "xaxis": "x",
         "y": [
          25.229286193847656,
          24.771347045898438
         ],
         "yaxis": "y"
        },
        {
         "hovertemplate": "color=444<br>symbol=444<br>x=%{x}<br>y=%{y}<extra></extra>",
         "legendgroup": "444, 444",
         "marker": {
          "color": "#ab63fa",
          "opacity": 0.3,
          "symbol": "x"
         },
         "mode": "markers",
         "name": "444, 444",
         "showlegend": true,
         "type": "scattergl",
         "x": [
          -14.11279582977295
         ],
         "xaxis": "x",
         "y": [
          17.006486892700195
         ],
         "yaxis": "y"
        },
        {
         "hovertemplate": "color=448<br>symbol=448<br>x=%{x}<br>y=%{y}<extra></extra>",
         "legendgroup": "448, 448",
         "marker": {
          "color": "#FFA15A",
          "opacity": 0.3,
          "symbol": "cross"
         },
         "mode": "markers",
         "name": "448, 448",
         "showlegend": true,
         "type": "scattergl",
         "x": [
          -14.646096229553223,
          -2.1314661502838135,
          -5.463268756866455,
          -4.554261207580566,
          -5.577524185180664,
          -4.400996208190918,
          -5.575362682342529,
          -5.612610340118408,
          -5.332918167114258,
          -5.483107089996338,
          -5.809290409088135
         ],
         "xaxis": "x",
         "y": [
          20.948476791381836,
          10.242292404174805,
          8.567070007324219,
          8.664816856384277,
          5.544838905334473,
          5.817371845245361,
          6.8685126304626465,
          6.15494966506958,
          6.0451579093933105,
          8.603129386901855,
          8.232354164123535
         ],
         "yaxis": "y"
        },
        {
         "hovertemplate": "color=256<br>symbol=256<br>x=%{x}<br>y=%{y}<extra></extra>",
         "legendgroup": "256, 256",
         "marker": {
          "color": "#19d3f3",
          "opacity": 0.3,
          "symbol": "circle"
         },
         "mode": "markers",
         "name": "256, 256",
         "showlegend": true,
         "type": "scattergl",
         "x": [
          -40.4400520324707
         ],
         "xaxis": "x",
         "y": [
          -4.831813335418701
         ],
         "yaxis": "y"
        },
        {
         "hovertemplate": "color=295<br>symbol=295<br>x=%{x}<br>y=%{y}<extra></extra>",
         "legendgroup": "295, 295",
         "marker": {
          "color": "#FF6692",
          "opacity": 0.3,
          "symbol": "diamond"
         },
         "mode": "markers",
         "name": "295, 295",
         "showlegend": true,
         "type": "scattergl",
         "x": [
          22.336366653442383,
          4.991056442260742,
          8.852211952209473,
          -4.38885498046875
         ],
         "xaxis": "x",
         "y": [
          6.3296027183532715,
          24.75147247314453,
          13.043368339538574,
          23.646163940429688
         ],
         "yaxis": "y"
        },
        {
         "hovertemplate": "color=410<br>symbol=410<br>x=%{x}<br>y=%{y}<extra></extra>",
         "legendgroup": "410, 410",
         "marker": {
          "color": "#B6E880",
          "opacity": 0.3,
          "symbol": "square"
         },
         "mode": "markers",
         "name": "410, 410",
         "showlegend": true,
         "type": "scattergl",
         "x": [
          -39.455955505371094,
          13.492502212524414
         ],
         "xaxis": "x",
         "y": [
          13.7921781539917,
          48.761260986328125
         ],
         "yaxis": "y"
        },
        {
         "hovertemplate": "color=277<br>symbol=277<br>x=%{x}<br>y=%{y}<extra></extra>",
         "legendgroup": "277, 277",
         "marker": {
          "color": "#FF97FF",
          "opacity": 0.3,
          "symbol": "x"
         },
         "mode": "markers",
         "name": "277, 277",
         "showlegend": true,
         "type": "scattergl",
         "x": [
          18.350231170654297
         ],
         "xaxis": "x",
         "y": [
          12.283671379089355
         ],
         "yaxis": "y"
        },
        {
         "hovertemplate": "color=29<br>symbol=29<br>x=%{x}<br>y=%{y}<extra></extra>",
         "legendgroup": "29, 29",
         "marker": {
          "color": "#FECB52",
          "opacity": 0.3,
          "symbol": "cross"
         },
         "mode": "markers",
         "name": "29, 29",
         "showlegend": true,
         "type": "scattergl",
         "x": [
          63.37073516845703
         ],
         "xaxis": "x",
         "y": [
          0.18847276270389557
         ],
         "yaxis": "y"
        },
        {
         "hovertemplate": "color=424<br>symbol=424<br>x=%{x}<br>y=%{y}<extra></extra>",
         "legendgroup": "424, 424",
         "marker": {
          "color": "#636efa",
          "opacity": 0.3,
          "symbol": "circle"
         },
         "mode": "markers",
         "name": "424, 424",
         "showlegend": true,
         "type": "scattergl",
         "x": [
          6.64888858795166
         ],
         "xaxis": "x",
         "y": [
          29.399450302124023
         ],
         "yaxis": "y"
        },
        {
         "hovertemplate": "color=260<br>symbol=260<br>x=%{x}<br>y=%{y}<extra></extra>",
         "legendgroup": "260, 260",
         "marker": {
          "color": "#EF553B",
          "opacity": 0.3,
          "symbol": "diamond"
         },
         "mode": "markers",
         "name": "260, 260",
         "showlegend": true,
         "type": "scattergl",
         "x": [
          -38.221405029296875,
          -40.010108947753906,
          0.24922095239162445
         ],
         "xaxis": "x",
         "y": [
          -9.980653762817383,
          -7.677011489868164,
          22.574426651000977
         ],
         "yaxis": "y"
        },
        {
         "hovertemplate": "color=245<br>symbol=245<br>x=%{x}<br>y=%{y}<extra></extra>",
         "legendgroup": "245, 245",
         "marker": {
          "color": "#00cc96",
          "opacity": 0.3,
          "symbol": "square"
         },
         "mode": "markers",
         "name": "245, 245",
         "showlegend": true,
         "type": "scattergl",
         "x": [
          -20.97583770751953
         ],
         "xaxis": "x",
         "y": [
          -72.2956314086914
         ],
         "yaxis": "y"
        },
        {
         "hovertemplate": "color=394<br>symbol=394<br>x=%{x}<br>y=%{y}<extra></extra>",
         "legendgroup": "394, 394",
         "marker": {
          "color": "#ab63fa",
          "opacity": 0.3,
          "symbol": "x"
         },
         "mode": "markers",
         "name": "394, 394",
         "showlegend": true,
         "type": "scattergl",
         "x": [
          45.95703887939453
         ],
         "xaxis": "x",
         "y": [
          -55.707176208496094
         ],
         "yaxis": "y"
        },
        {
         "hovertemplate": "color=329<br>symbol=329<br>x=%{x}<br>y=%{y}<extra></extra>",
         "legendgroup": "329, 329",
         "marker": {
          "color": "#FFA15A",
          "opacity": 0.3,
          "symbol": "cross"
         },
         "mode": "markers",
         "name": "329, 329",
         "showlegend": true,
         "type": "scattergl",
         "x": [
          -10.384989738464355
         ],
         "xaxis": "x",
         "y": [
          19.95596694946289
         ],
         "yaxis": "y"
        },
        {
         "hovertemplate": "color=102<br>symbol=102<br>x=%{x}<br>y=%{y}<extra></extra>",
         "legendgroup": "102, 102",
         "marker": {
          "color": "#19d3f3",
          "opacity": 0.3,
          "symbol": "circle"
         },
         "mode": "markers",
         "name": "102, 102",
         "showlegend": true,
         "type": "scattergl",
         "x": [
          1.1235109567642212,
          -4.102783203125,
          -6.076223373413086,
          1.2140237092971802
         ],
         "xaxis": "x",
         "y": [
          32.78030014038086,
          -5.267330169677734,
          33.62520217895508,
          32.7664909362793
         ],
         "yaxis": "y"
        },
        {
         "hovertemplate": "color=74<br>symbol=74<br>x=%{x}<br>y=%{y}<extra></extra>",
         "legendgroup": "74, 74",
         "marker": {
          "color": "#FF6692",
          "opacity": 0.3,
          "symbol": "diamond"
         },
         "mode": "markers",
         "name": "74, 74",
         "showlegend": true,
         "type": "scattergl",
         "x": [
          -8.305703163146973
         ],
         "xaxis": "x",
         "y": [
          11.185317039489746
         ],
         "yaxis": "y"
        },
        {
         "hovertemplate": "color=408<br>symbol=408<br>x=%{x}<br>y=%{y}<extra></extra>",
         "legendgroup": "408, 408",
         "marker": {
          "color": "#B6E880",
          "opacity": 0.3,
          "symbol": "square"
         },
         "mode": "markers",
         "name": "408, 408",
         "showlegend": true,
         "type": "scattergl",
         "x": [
          8.096495628356934
         ],
         "xaxis": "x",
         "y": [
          38.143402099609375
         ],
         "yaxis": "y"
        },
        {
         "hovertemplate": "color=396<br>symbol=396<br>x=%{x}<br>y=%{y}<extra></extra>",
         "legendgroup": "396, 396",
         "marker": {
          "color": "#FF97FF",
          "opacity": 0.3,
          "symbol": "x"
         },
         "mode": "markers",
         "name": "396, 396",
         "showlegend": true,
         "type": "scattergl",
         "x": [
          46.96406173706055,
          47.33019256591797,
          46.884063720703125
         ],
         "xaxis": "x",
         "y": [
          -55.45539855957031,
          -55.59303665161133,
          -55.867130279541016
         ],
         "yaxis": "y"
        },
        {
         "hovertemplate": "color=129<br>symbol=129<br>x=%{x}<br>y=%{y}<extra></extra>",
         "legendgroup": "129, 129",
         "marker": {
          "color": "#FECB52",
          "opacity": 0.3,
          "symbol": "cross"
         },
         "mode": "markers",
         "name": "129, 129",
         "showlegend": true,
         "type": "scattergl",
         "x": [
          26.001293182373047,
          1.041109323501587
         ],
         "xaxis": "x",
         "y": [
          6.055370807647705,
          22.405261993408203
         ],
         "yaxis": "y"
        },
        {
         "hovertemplate": "color=82<br>symbol=82<br>x=%{x}<br>y=%{y}<extra></extra>",
         "legendgroup": "82, 82",
         "marker": {
          "color": "#636efa",
          "opacity": 0.3,
          "symbol": "circle"
         },
         "mode": "markers",
         "name": "82, 82",
         "showlegend": true,
         "type": "scattergl",
         "x": [
          19.981491088867188,
          4.07846212387085
         ],
         "xaxis": "x",
         "y": [
          -12.006937026977539,
          35.00801467895508
         ],
         "yaxis": "y"
        },
        {
         "hovertemplate": "color=163<br>symbol=163<br>x=%{x}<br>y=%{y}<extra></extra>",
         "legendgroup": "163, 163",
         "marker": {
          "color": "#EF553B",
          "opacity": 0.3,
          "symbol": "diamond"
         },
         "mode": "markers",
         "name": "163, 163",
         "showlegend": true,
         "type": "scattergl",
         "x": [
          -48.401493072509766,
          -45.35197067260742,
          -46.79965591430664
         ],
         "xaxis": "x",
         "y": [
          -47.50790023803711,
          -46.50564956665039,
          -47.5304069519043
         ],
         "yaxis": "y"
        },
        {
         "hovertemplate": "color=403<br>symbol=403<br>x=%{x}<br>y=%{y}<extra></extra>",
         "legendgroup": "403, 403",
         "marker": {
          "color": "#00cc96",
          "opacity": 0.3,
          "symbol": "square"
         },
         "mode": "markers",
         "name": "403, 403",
         "showlegend": true,
         "type": "scattergl",
         "x": [
          9.938002586364746,
          7.69412899017334,
          -19.863937377929688,
          -19.797122955322266
         ],
         "xaxis": "x",
         "y": [
          38.60249710083008,
          38.63050079345703,
          22.577754974365234,
          35.50526809692383
         ],
         "yaxis": "y"
        },
        {
         "hovertemplate": "color=16<br>symbol=16<br>x=%{x}<br>y=%{y}<extra></extra>",
         "legendgroup": "16, 16",
         "marker": {
          "color": "#ab63fa",
          "opacity": 0.3,
          "symbol": "x"
         },
         "mode": "markers",
         "name": "16, 16",
         "showlegend": true,
         "type": "scattergl",
         "x": [
          69.54720306396484
         ],
         "xaxis": "x",
         "y": [
          7.487645149230957
         ],
         "yaxis": "y"
        },
        {
         "hovertemplate": "color=337<br>symbol=337<br>x=%{x}<br>y=%{y}<extra></extra>",
         "legendgroup": "337, 337",
         "marker": {
          "color": "#FFA15A",
          "opacity": 0.3,
          "symbol": "cross"
         },
         "mode": "markers",
         "name": "337, 337",
         "showlegend": true,
         "type": "scattergl",
         "x": [
          27.402679443359375,
          26.64708709716797,
          26.440690994262695,
          26.766817092895508
         ],
         "xaxis": "x",
         "y": [
          13.694231033325195,
          14.116827964782715,
          13.968487739562988,
          14.034432411193848
         ],
         "yaxis": "y"
        },
        {
         "hovertemplate": "color=411<br>symbol=411<br>x=%{x}<br>y=%{y}<extra></extra>",
         "legendgroup": "411, 411",
         "marker": {
          "color": "#19d3f3",
          "opacity": 0.3,
          "symbol": "circle"
         },
         "mode": "markers",
         "name": "411, 411",
         "showlegend": true,
         "type": "scattergl",
         "x": [
          -14.016311645507812
         ],
         "xaxis": "x",
         "y": [
          19.18508529663086
         ],
         "yaxis": "y"
        },
        {
         "hovertemplate": "color=123<br>symbol=123<br>x=%{x}<br>y=%{y}<extra></extra>",
         "legendgroup": "123, 123",
         "marker": {
          "color": "#FF6692",
          "opacity": 0.3,
          "symbol": "diamond"
         },
         "mode": "markers",
         "name": "123, 123",
         "showlegend": true,
         "type": "scattergl",
         "x": [
          -2.4231066703796387,
          20.122150421142578
         ],
         "xaxis": "x",
         "y": [
          13.623527526855469,
          27.14515495300293
         ],
         "yaxis": "y"
        },
        {
         "hovertemplate": "color=4<br>symbol=4<br>x=%{x}<br>y=%{y}<extra></extra>",
         "legendgroup": "4, 4",
         "marker": {
          "color": "#B6E880",
          "opacity": 0.3,
          "symbol": "square"
         },
         "mode": "markers",
         "name": "4, 4",
         "showlegend": true,
         "type": "scattergl",
         "x": [
          22.0548152923584
         ],
         "xaxis": "x",
         "y": [
          34.38749694824219
         ],
         "yaxis": "y"
        },
        {
         "hovertemplate": "color=376<br>symbol=376<br>x=%{x}<br>y=%{y}<extra></extra>",
         "legendgroup": "376, 376",
         "marker": {
          "color": "#FF97FF",
          "opacity": 0.3,
          "symbol": "x"
         },
         "mode": "markers",
         "name": "376, 376",
         "showlegend": true,
         "type": "scattergl",
         "x": [
          8.073917388916016,
          12.304238319396973
         ],
         "xaxis": "x",
         "y": [
          55.26960754394531,
          55.142616271972656
         ],
         "yaxis": "y"
        },
        {
         "hovertemplate": "color=407<br>symbol=407<br>x=%{x}<br>y=%{y}<extra></extra>",
         "legendgroup": "407, 407",
         "marker": {
          "color": "#FECB52",
          "opacity": 0.3,
          "symbol": "cross"
         },
         "mode": "markers",
         "name": "407, 407",
         "showlegend": true,
         "type": "scattergl",
         "x": [
          -21.727802276611328
         ],
         "xaxis": "x",
         "y": [
          20.57493782043457
         ],
         "yaxis": "y"
        },
        {
         "hovertemplate": "color=339<br>symbol=339<br>x=%{x}<br>y=%{y}<extra></extra>",
         "legendgroup": "339, 339",
         "marker": {
          "color": "#636efa",
          "opacity": 0.3,
          "symbol": "circle"
         },
         "mode": "markers",
         "name": "339, 339",
         "showlegend": true,
         "type": "scattergl",
         "x": [
          2.0617756843566895
         ],
         "xaxis": "x",
         "y": [
          16.8986759185791
         ],
         "yaxis": "y"
        },
        {
         "hovertemplate": "color=55<br>symbol=55<br>x=%{x}<br>y=%{y}<extra></extra>",
         "legendgroup": "55, 55",
         "marker": {
          "color": "#EF553B",
          "opacity": 0.3,
          "symbol": "diamond"
         },
         "mode": "markers",
         "name": "55, 55",
         "showlegend": true,
         "type": "scattergl",
         "x": [
          23.65432357788086
         ],
         "xaxis": "x",
         "y": [
          -36.027259826660156
         ],
         "yaxis": "y"
        },
        {
         "hovertemplate": "color=64<br>symbol=64<br>x=%{x}<br>y=%{y}<extra></extra>",
         "legendgroup": "64, 64",
         "marker": {
          "color": "#00cc96",
          "opacity": 0.3,
          "symbol": "square"
         },
         "mode": "markers",
         "name": "64, 64",
         "showlegend": true,
         "type": "scattergl",
         "x": [
          -10.894264221191406,
          9.453442573547363
         ],
         "xaxis": "x",
         "y": [
          9.516563415527344,
          37.80281066894531
         ],
         "yaxis": "y"
        },
        {
         "hovertemplate": "color=320<br>symbol=320<br>x=%{x}<br>y=%{y}<extra></extra>",
         "legendgroup": "320, 320",
         "marker": {
          "color": "#ab63fa",
          "opacity": 0.3,
          "symbol": "x"
         },
         "mode": "markers",
         "name": "320, 320",
         "showlegend": true,
         "type": "scattergl",
         "x": [
          6.360775947570801
         ],
         "xaxis": "x",
         "y": [
          -57.78902816772461
         ],
         "yaxis": "y"
        },
        {
         "hovertemplate": "color=139<br>symbol=139<br>x=%{x}<br>y=%{y}<extra></extra>",
         "legendgroup": "139, 139",
         "marker": {
          "color": "#FFA15A",
          "opacity": 0.3,
          "symbol": "cross"
         },
         "mode": "markers",
         "name": "139, 139",
         "showlegend": true,
         "type": "scattergl",
         "x": [
          4.675956726074219
         ],
         "xaxis": "x",
         "y": [
          14.718942642211914
         ],
         "yaxis": "y"
        },
        {
         "hovertemplate": "color=372<br>symbol=372<br>x=%{x}<br>y=%{y}<extra></extra>",
         "legendgroup": "372, 372",
         "marker": {
          "color": "#19d3f3",
          "opacity": 0.3,
          "symbol": "circle"
         },
         "mode": "markers",
         "name": "372, 372",
         "showlegend": true,
         "type": "scattergl",
         "x": [
          -8.362297058105469
         ],
         "xaxis": "x",
         "y": [
          23.914566040039062
         ],
         "yaxis": "y"
        },
        {
         "hovertemplate": "color=36<br>symbol=36<br>x=%{x}<br>y=%{y}<extra></extra>",
         "legendgroup": "36, 36",
         "marker": {
          "color": "#FF6692",
          "opacity": 0.3,
          "symbol": "diamond"
         },
         "mode": "markers",
         "name": "36, 36",
         "showlegend": true,
         "type": "scattergl",
         "x": [
          5.168452739715576,
          5.717347145080566,
          2.835644245147705,
          3.925534248352051
         ],
         "xaxis": "x",
         "y": [
          30.090185165405273,
          31.060672760009766,
          26.535524368286133,
          25.24393081665039
         ],
         "yaxis": "y"
        },
        {
         "hovertemplate": "color=187<br>symbol=187<br>x=%{x}<br>y=%{y}<extra></extra>",
         "legendgroup": "187, 187",
         "marker": {
          "color": "#B6E880",
          "opacity": 0.3,
          "symbol": "square"
         },
         "mode": "markers",
         "name": "187, 187",
         "showlegend": true,
         "type": "scattergl",
         "x": [
          1.2243238687515259,
          5.344677448272705,
          13.882789611816406,
          -5.293450355529785
         ],
         "xaxis": "x",
         "y": [
          34.58700942993164,
          28.78392219543457,
          32.26008987426758,
          35.4637451171875
         ],
         "yaxis": "y"
        },
        {
         "hovertemplate": "color=344<br>symbol=344<br>x=%{x}<br>y=%{y}<extra></extra>",
         "legendgroup": "344, 344",
         "marker": {
          "color": "#FF97FF",
          "opacity": 0.3,
          "symbol": "x"
         },
         "mode": "markers",
         "name": "344, 344",
         "showlegend": true,
         "type": "scattergl",
         "x": [
          -4.520639896392822
         ],
         "xaxis": "x",
         "y": [
          8.503812789916992
         ],
         "yaxis": "y"
        },
        {
         "hovertemplate": "color=423<br>symbol=423<br>x=%{x}<br>y=%{y}<extra></extra>",
         "legendgroup": "423, 423",
         "marker": {
          "color": "#FECB52",
          "opacity": 0.3,
          "symbol": "cross"
         },
         "mode": "markers",
         "name": "423, 423",
         "showlegend": true,
         "type": "scattergl",
         "x": [
          -19.36865997314453
         ],
         "xaxis": "x",
         "y": [
          22.23505210876465
         ],
         "yaxis": "y"
        },
        {
         "hovertemplate": "color=355<br>symbol=355<br>x=%{x}<br>y=%{y}<extra></extra>",
         "legendgroup": "355, 355",
         "marker": {
          "color": "#636efa",
          "opacity": 0.3,
          "symbol": "circle"
         },
         "mode": "markers",
         "name": "355, 355",
         "showlegend": true,
         "type": "scattergl",
         "x": [
          30.088136672973633
         ],
         "xaxis": "x",
         "y": [
          52.89468765258789
         ],
         "yaxis": "y"
        },
        {
         "hovertemplate": "color=392<br>symbol=392<br>x=%{x}<br>y=%{y}<extra></extra>",
         "legendgroup": "392, 392",
         "marker": {
          "color": "#EF553B",
          "opacity": 0.3,
          "symbol": "diamond"
         },
         "mode": "markers",
         "name": "392, 392",
         "showlegend": true,
         "type": "scattergl",
         "x": [
          44.841854095458984
         ],
         "xaxis": "x",
         "y": [
          -56.58295822143555
         ],
         "yaxis": "y"
        },
        {
         "hovertemplate": "color=215<br>symbol=215<br>x=%{x}<br>y=%{y}<extra></extra>",
         "legendgroup": "215, 215",
         "marker": {
          "color": "#00cc96",
          "opacity": 0.3,
          "symbol": "square"
         },
         "mode": "markers",
         "name": "215, 215",
         "showlegend": true,
         "type": "scattergl",
         "x": [
          31.20005989074707,
          31.201251983642578
         ],
         "xaxis": "x",
         "y": [
          52.863670349121094,
          52.863285064697266
         ],
         "yaxis": "y"
        },
        {
         "hovertemplate": "color=328<br>symbol=328<br>x=%{x}<br>y=%{y}<extra></extra>",
         "legendgroup": "328, 328",
         "marker": {
          "color": "#ab63fa",
          "opacity": 0.3,
          "symbol": "x"
         },
         "mode": "markers",
         "name": "328, 328",
         "showlegend": true,
         "type": "scattergl",
         "x": [
          26.391338348388672,
          -13.580554008483887
         ],
         "xaxis": "x",
         "y": [
          15.105923652648926,
          26.412084579467773
         ],
         "yaxis": "y"
        },
        {
         "hovertemplate": "color=330<br>symbol=330<br>x=%{x}<br>y=%{y}<extra></extra>",
         "legendgroup": "330, 330",
         "marker": {
          "color": "#FFA15A",
          "opacity": 0.3,
          "symbol": "cross"
         },
         "mode": "markers",
         "name": "330, 330",
         "showlegend": true,
         "type": "scattergl",
         "x": [
          6.552613735198975
         ],
         "xaxis": "x",
         "y": [
          -8.3290433883667
         ],
         "yaxis": "y"
        },
        {
         "hovertemplate": "color=374<br>symbol=374<br>x=%{x}<br>y=%{y}<extra></extra>",
         "legendgroup": "374, 374",
         "marker": {
          "color": "#19d3f3",
          "opacity": 0.3,
          "symbol": "circle"
         },
         "mode": "markers",
         "name": "374, 374",
         "showlegend": true,
         "type": "scattergl",
         "x": [
          -0.15279516577720642
         ],
         "xaxis": "x",
         "y": [
          13.545769691467285
         ],
         "yaxis": "y"
        },
        {
         "hovertemplate": "color=176<br>symbol=176<br>x=%{x}<br>y=%{y}<extra></extra>",
         "legendgroup": "176, 176",
         "marker": {
          "color": "#FF6692",
          "opacity": 0.3,
          "symbol": "diamond"
         },
         "mode": "markers",
         "name": "176, 176",
         "showlegend": true,
         "type": "scattergl",
         "x": [
          -53.703739166259766,
          -53.13693618774414,
          -52.847713470458984
         ],
         "xaxis": "x",
         "y": [
          -42.05145263671875,
          -43.2456169128418,
          -42.61404800415039
         ],
         "yaxis": "y"
        },
        {
         "hovertemplate": "color=359<br>symbol=359<br>x=%{x}<br>y=%{y}<extra></extra>",
         "legendgroup": "359, 359",
         "marker": {
          "color": "#B6E880",
          "opacity": 0.3,
          "symbol": "square"
         },
         "mode": "markers",
         "name": "359, 359",
         "showlegend": true,
         "type": "scattergl",
         "x": [
          10.08316421508789
         ],
         "xaxis": "x",
         "y": [
          38.78145217895508
         ],
         "yaxis": "y"
        },
        {
         "hovertemplate": "color=42<br>symbol=42<br>x=%{x}<br>y=%{y}<extra></extra>",
         "legendgroup": "42, 42",
         "marker": {
          "color": "#FF97FF",
          "opacity": 0.3,
          "symbol": "x"
         },
         "mode": "markers",
         "name": "42, 42",
         "showlegend": true,
         "type": "scattergl",
         "x": [
          7.648677349090576
         ],
         "xaxis": "x",
         "y": [
          8.504846572875977
         ],
         "yaxis": "y"
        },
        {
         "hovertemplate": "color=153<br>symbol=153<br>x=%{x}<br>y=%{y}<extra></extra>",
         "legendgroup": "153, 153",
         "marker": {
          "color": "#FECB52",
          "opacity": 0.3,
          "symbol": "cross"
         },
         "mode": "markers",
         "name": "153, 153",
         "showlegend": true,
         "type": "scattergl",
         "x": [
          -0.5602911114692688
         ],
         "xaxis": "x",
         "y": [
          26.31525230407715
         ],
         "yaxis": "y"
        },
        {
         "hovertemplate": "color=105<br>symbol=105<br>x=%{x}<br>y=%{y}<extra></extra>",
         "legendgroup": "105, 105",
         "marker": {
          "color": "#636efa",
          "opacity": 0.3,
          "symbol": "circle"
         },
         "mode": "markers",
         "name": "105, 105",
         "showlegend": true,
         "type": "scattergl",
         "x": [
          68.0387954711914
         ],
         "xaxis": "x",
         "y": [
          4.236574649810791
         ],
         "yaxis": "y"
        },
        {
         "hovertemplate": "color=291<br>symbol=291<br>x=%{x}<br>y=%{y}<extra></extra>",
         "legendgroup": "291, 291",
         "marker": {
          "color": "#EF553B",
          "opacity": 0.3,
          "symbol": "diamond"
         },
         "mode": "markers",
         "name": "291, 291",
         "showlegend": true,
         "type": "scattergl",
         "x": [
          13.932232856750488
         ],
         "xaxis": "x",
         "y": [
          -17.1970272064209
         ],
         "yaxis": "y"
        },
        {
         "hovertemplate": "color=259<br>symbol=259<br>x=%{x}<br>y=%{y}<extra></extra>",
         "legendgroup": "259, 259",
         "marker": {
          "color": "#00cc96",
          "opacity": 0.3,
          "symbol": "square"
         },
         "mode": "markers",
         "name": "259, 259",
         "showlegend": true,
         "type": "scattergl",
         "x": [
          -42.05535125732422
         ],
         "xaxis": "x",
         "y": [
          -8.273433685302734
         ],
         "yaxis": "y"
        },
        {
         "hovertemplate": "color=27<br>symbol=27<br>x=%{x}<br>y=%{y}<extra></extra>",
         "legendgroup": "27, 27",
         "marker": {
          "color": "#ab63fa",
          "opacity": 0.3,
          "symbol": "x"
         },
         "mode": "markers",
         "name": "27, 27",
         "showlegend": true,
         "type": "scattergl",
         "x": [
          62.46954345703125
         ],
         "xaxis": "x",
         "y": [
          0.3700214922428131
         ],
         "yaxis": "y"
        },
        {
         "hovertemplate": "color=32<br>symbol=32<br>x=%{x}<br>y=%{y}<extra></extra>",
         "legendgroup": "32, 32",
         "marker": {
          "color": "#FFA15A",
          "opacity": 0.3,
          "symbol": "cross"
         },
         "mode": "markers",
         "name": "32, 32",
         "showlegend": true,
         "type": "scattergl",
         "x": [
          1.6543782949447632
         ],
         "xaxis": "x",
         "y": [
          -11.061787605285645
         ],
         "yaxis": "y"
        },
        {
         "hovertemplate": "color=18<br>symbol=18<br>x=%{x}<br>y=%{y}<extra></extra>",
         "legendgroup": "18, 18",
         "marker": {
          "color": "#19d3f3",
          "opacity": 0.3,
          "symbol": "circle"
         },
         "mode": "markers",
         "name": "18, 18",
         "showlegend": true,
         "type": "scattergl",
         "x": [
          61.62948226928711
         ],
         "xaxis": "x",
         "y": [
          -0.8115967512130737
         ],
         "yaxis": "y"
        },
        {
         "marker": {
          "color": "green",
          "size": 30
         },
         "mode": "markers",
         "text": "User interest \n user_id: 5890 \n category_id: 331",
         "type": "scatter",
         "x": [
          20.346595764160156
         ],
         "y": [
          11.182861328125
         ]
        },
        {
         "marker": {
          "color": [
           0,
           1,
           2,
           3,
           4,
           5,
           6,
           7,
           8,
           9
          ],
          "size": 20
         },
         "mode": "markers",
         "text": [
          "rank: 0 / article_id: 272143 / category_id: 399",
          "rank: 1 / article_id: 123909 / category_id: 250",
          "rank: 2 / article_id: 168623 / category_id: 297",
          "rank: 3 / article_id: 336221 / category_id: 437",
          "rank: 4 / article_id: 336245 / category_id: 437",
          "rank: 5 / article_id: 183176 / category_id: 301",
          "rank: 6 / article_id: 96210 / category_id: 209",
          "rank: 7 / article_id: 160417 / category_id: 281",
          "rank: 8 / article_id: 331116 / category_id: 436",
          "rank: 9 / article_id: 336223 / category_id: 437"
         ],
         "type": "scatter",
         "x": [
          47.47383499145508,
          -46.00526809692383,
          9.089897155761719,
          -27.823251724243164,
          -26.798221588134766,
          -23.93912696838379,
          53.845733642578125,
          3.8155508041381836,
          -48.34915542602539,
          -27.263368606567383
         ],
         "y": [
          -20.533252716064453,
          -19.13124656677246,
          14.640763282775879,
          40.95549011230469,
          41.035823822021484,
          -37.08976745605469,
          27.135217666625977,
          17.71190071105957,
          28.190019607543945,
          40.54009246826172
         ]
        }
       ],
       "layout": {
        "height": 800,
        "legend": {
         "title": {
          "text": "color, symbol"
         },
         "tracegroupgap": 0
        },
        "template": {
         "data": {
          "bar": [
           {
            "error_x": {
             "color": "#2a3f5f"
            },
            "error_y": {
             "color": "#2a3f5f"
            },
            "marker": {
             "line": {
              "color": "#E5ECF6",
              "width": 0.5
             },
             "pattern": {
              "fillmode": "overlay",
              "size": 10,
              "solidity": 0.2
             }
            },
            "type": "bar"
           }
          ],
          "barpolar": [
           {
            "marker": {
             "line": {
              "color": "#E5ECF6",
              "width": 0.5
             },
             "pattern": {
              "fillmode": "overlay",
              "size": 10,
              "solidity": 0.2
             }
            },
            "type": "barpolar"
           }
          ],
          "carpet": [
           {
            "aaxis": {
             "endlinecolor": "#2a3f5f",
             "gridcolor": "white",
             "linecolor": "white",
             "minorgridcolor": "white",
             "startlinecolor": "#2a3f5f"
            },
            "baxis": {
             "endlinecolor": "#2a3f5f",
             "gridcolor": "white",
             "linecolor": "white",
             "minorgridcolor": "white",
             "startlinecolor": "#2a3f5f"
            },
            "type": "carpet"
           }
          ],
          "choropleth": [
           {
            "colorbar": {
             "outlinewidth": 0,
             "ticks": ""
            },
            "type": "choropleth"
           }
          ],
          "contour": [
           {
            "colorbar": {
             "outlinewidth": 0,
             "ticks": ""
            },
            "colorscale": [
             [
              0,
              "#0d0887"
             ],
             [
              0.1111111111111111,
              "#46039f"
             ],
             [
              0.2222222222222222,
              "#7201a8"
             ],
             [
              0.3333333333333333,
              "#9c179e"
             ],
             [
              0.4444444444444444,
              "#bd3786"
             ],
             [
              0.5555555555555556,
              "#d8576b"
             ],
             [
              0.6666666666666666,
              "#ed7953"
             ],
             [
              0.7777777777777778,
              "#fb9f3a"
             ],
             [
              0.8888888888888888,
              "#fdca26"
             ],
             [
              1,
              "#f0f921"
             ]
            ],
            "type": "contour"
           }
          ],
          "contourcarpet": [
           {
            "colorbar": {
             "outlinewidth": 0,
             "ticks": ""
            },
            "type": "contourcarpet"
           }
          ],
          "heatmap": [
           {
            "colorbar": {
             "outlinewidth": 0,
             "ticks": ""
            },
            "colorscale": [
             [
              0,
              "#0d0887"
             ],
             [
              0.1111111111111111,
              "#46039f"
             ],
             [
              0.2222222222222222,
              "#7201a8"
             ],
             [
              0.3333333333333333,
              "#9c179e"
             ],
             [
              0.4444444444444444,
              "#bd3786"
             ],
             [
              0.5555555555555556,
              "#d8576b"
             ],
             [
              0.6666666666666666,
              "#ed7953"
             ],
             [
              0.7777777777777778,
              "#fb9f3a"
             ],
             [
              0.8888888888888888,
              "#fdca26"
             ],
             [
              1,
              "#f0f921"
             ]
            ],
            "type": "heatmap"
           }
          ],
          "heatmapgl": [
           {
            "colorbar": {
             "outlinewidth": 0,
             "ticks": ""
            },
            "colorscale": [
             [
              0,
              "#0d0887"
             ],
             [
              0.1111111111111111,
              "#46039f"
             ],
             [
              0.2222222222222222,
              "#7201a8"
             ],
             [
              0.3333333333333333,
              "#9c179e"
             ],
             [
              0.4444444444444444,
              "#bd3786"
             ],
             [
              0.5555555555555556,
              "#d8576b"
             ],
             [
              0.6666666666666666,
              "#ed7953"
             ],
             [
              0.7777777777777778,
              "#fb9f3a"
             ],
             [
              0.8888888888888888,
              "#fdca26"
             ],
             [
              1,
              "#f0f921"
             ]
            ],
            "type": "heatmapgl"
           }
          ],
          "histogram": [
           {
            "marker": {
             "pattern": {
              "fillmode": "overlay",
              "size": 10,
              "solidity": 0.2
             }
            },
            "type": "histogram"
           }
          ],
          "histogram2d": [
           {
            "colorbar": {
             "outlinewidth": 0,
             "ticks": ""
            },
            "colorscale": [
             [
              0,
              "#0d0887"
             ],
             [
              0.1111111111111111,
              "#46039f"
             ],
             [
              0.2222222222222222,
              "#7201a8"
             ],
             [
              0.3333333333333333,
              "#9c179e"
             ],
             [
              0.4444444444444444,
              "#bd3786"
             ],
             [
              0.5555555555555556,
              "#d8576b"
             ],
             [
              0.6666666666666666,
              "#ed7953"
             ],
             [
              0.7777777777777778,
              "#fb9f3a"
             ],
             [
              0.8888888888888888,
              "#fdca26"
             ],
             [
              1,
              "#f0f921"
             ]
            ],
            "type": "histogram2d"
           }
          ],
          "histogram2dcontour": [
           {
            "colorbar": {
             "outlinewidth": 0,
             "ticks": ""
            },
            "colorscale": [
             [
              0,
              "#0d0887"
             ],
             [
              0.1111111111111111,
              "#46039f"
             ],
             [
              0.2222222222222222,
              "#7201a8"
             ],
             [
              0.3333333333333333,
              "#9c179e"
             ],
             [
              0.4444444444444444,
              "#bd3786"
             ],
             [
              0.5555555555555556,
              "#d8576b"
             ],
             [
              0.6666666666666666,
              "#ed7953"
             ],
             [
              0.7777777777777778,
              "#fb9f3a"
             ],
             [
              0.8888888888888888,
              "#fdca26"
             ],
             [
              1,
              "#f0f921"
             ]
            ],
            "type": "histogram2dcontour"
           }
          ],
          "mesh3d": [
           {
            "colorbar": {
             "outlinewidth": 0,
             "ticks": ""
            },
            "type": "mesh3d"
           }
          ],
          "parcoords": [
           {
            "line": {
             "colorbar": {
              "outlinewidth": 0,
              "ticks": ""
             }
            },
            "type": "parcoords"
           }
          ],
          "pie": [
           {
            "automargin": true,
            "type": "pie"
           }
          ],
          "scatter": [
           {
            "fillpattern": {
             "fillmode": "overlay",
             "size": 10,
             "solidity": 0.2
            },
            "type": "scatter"
           }
          ],
          "scatter3d": [
           {
            "line": {
             "colorbar": {
              "outlinewidth": 0,
              "ticks": ""
             }
            },
            "marker": {
             "colorbar": {
              "outlinewidth": 0,
              "ticks": ""
             }
            },
            "type": "scatter3d"
           }
          ],
          "scattercarpet": [
           {
            "marker": {
             "colorbar": {
              "outlinewidth": 0,
              "ticks": ""
             }
            },
            "type": "scattercarpet"
           }
          ],
          "scattergeo": [
           {
            "marker": {
             "colorbar": {
              "outlinewidth": 0,
              "ticks": ""
             }
            },
            "type": "scattergeo"
           }
          ],
          "scattergl": [
           {
            "marker": {
             "colorbar": {
              "outlinewidth": 0,
              "ticks": ""
             }
            },
            "type": "scattergl"
           }
          ],
          "scattermapbox": [
           {
            "marker": {
             "colorbar": {
              "outlinewidth": 0,
              "ticks": ""
             }
            },
            "type": "scattermapbox"
           }
          ],
          "scatterpolar": [
           {
            "marker": {
             "colorbar": {
              "outlinewidth": 0,
              "ticks": ""
             }
            },
            "type": "scatterpolar"
           }
          ],
          "scatterpolargl": [
           {
            "marker": {
             "colorbar": {
              "outlinewidth": 0,
              "ticks": ""
             }
            },
            "type": "scatterpolargl"
           }
          ],
          "scatterternary": [
           {
            "marker": {
             "colorbar": {
              "outlinewidth": 0,
              "ticks": ""
             }
            },
            "type": "scatterternary"
           }
          ],
          "surface": [
           {
            "colorbar": {
             "outlinewidth": 0,
             "ticks": ""
            },
            "colorscale": [
             [
              0,
              "#0d0887"
             ],
             [
              0.1111111111111111,
              "#46039f"
             ],
             [
              0.2222222222222222,
              "#7201a8"
             ],
             [
              0.3333333333333333,
              "#9c179e"
             ],
             [
              0.4444444444444444,
              "#bd3786"
             ],
             [
              0.5555555555555556,
              "#d8576b"
             ],
             [
              0.6666666666666666,
              "#ed7953"
             ],
             [
              0.7777777777777778,
              "#fb9f3a"
             ],
             [
              0.8888888888888888,
              "#fdca26"
             ],
             [
              1,
              "#f0f921"
             ]
            ],
            "type": "surface"
           }
          ],
          "table": [
           {
            "cells": {
             "fill": {
              "color": "#EBF0F8"
             },
             "line": {
              "color": "white"
             }
            },
            "header": {
             "fill": {
              "color": "#C8D4E3"
             },
             "line": {
              "color": "white"
             }
            },
            "type": "table"
           }
          ]
         },
         "layout": {
          "annotationdefaults": {
           "arrowcolor": "#2a3f5f",
           "arrowhead": 0,
           "arrowwidth": 1
          },
          "autotypenumbers": "strict",
          "coloraxis": {
           "colorbar": {
            "outlinewidth": 0,
            "ticks": ""
           }
          },
          "colorscale": {
           "diverging": [
            [
             0,
             "#8e0152"
            ],
            [
             0.1,
             "#c51b7d"
            ],
            [
             0.2,
             "#de77ae"
            ],
            [
             0.3,
             "#f1b6da"
            ],
            [
             0.4,
             "#fde0ef"
            ],
            [
             0.5,
             "#f7f7f7"
            ],
            [
             0.6,
             "#e6f5d0"
            ],
            [
             0.7,
             "#b8e186"
            ],
            [
             0.8,
             "#7fbc41"
            ],
            [
             0.9,
             "#4d9221"
            ],
            [
             1,
             "#276419"
            ]
           ],
           "sequential": [
            [
             0,
             "#0d0887"
            ],
            [
             0.1111111111111111,
             "#46039f"
            ],
            [
             0.2222222222222222,
             "#7201a8"
            ],
            [
             0.3333333333333333,
             "#9c179e"
            ],
            [
             0.4444444444444444,
             "#bd3786"
            ],
            [
             0.5555555555555556,
             "#d8576b"
            ],
            [
             0.6666666666666666,
             "#ed7953"
            ],
            [
             0.7777777777777778,
             "#fb9f3a"
            ],
            [
             0.8888888888888888,
             "#fdca26"
            ],
            [
             1,
             "#f0f921"
            ]
           ],
           "sequentialminus": [
            [
             0,
             "#0d0887"
            ],
            [
             0.1111111111111111,
             "#46039f"
            ],
            [
             0.2222222222222222,
             "#7201a8"
            ],
            [
             0.3333333333333333,
             "#9c179e"
            ],
            [
             0.4444444444444444,
             "#bd3786"
            ],
            [
             0.5555555555555556,
             "#d8576b"
            ],
            [
             0.6666666666666666,
             "#ed7953"
            ],
            [
             0.7777777777777778,
             "#fb9f3a"
            ],
            [
             0.8888888888888888,
             "#fdca26"
            ],
            [
             1,
             "#f0f921"
            ]
           ]
          },
          "colorway": [
           "#636efa",
           "#EF553B",
           "#00cc96",
           "#ab63fa",
           "#FFA15A",
           "#19d3f3",
           "#FF6692",
           "#B6E880",
           "#FF97FF",
           "#FECB52"
          ],
          "font": {
           "color": "#2a3f5f"
          },
          "geo": {
           "bgcolor": "white",
           "lakecolor": "white",
           "landcolor": "#E5ECF6",
           "showlakes": true,
           "showland": true,
           "subunitcolor": "white"
          },
          "hoverlabel": {
           "align": "left"
          },
          "hovermode": "closest",
          "mapbox": {
           "style": "light"
          },
          "paper_bgcolor": "white",
          "plot_bgcolor": "#E5ECF6",
          "polar": {
           "angularaxis": {
            "gridcolor": "white",
            "linecolor": "white",
            "ticks": ""
           },
           "bgcolor": "#E5ECF6",
           "radialaxis": {
            "gridcolor": "white",
            "linecolor": "white",
            "ticks": ""
           }
          },
          "scene": {
           "xaxis": {
            "backgroundcolor": "#E5ECF6",
            "gridcolor": "white",
            "gridwidth": 2,
            "linecolor": "white",
            "showbackground": true,
            "ticks": "",
            "zerolinecolor": "white"
           },
           "yaxis": {
            "backgroundcolor": "#E5ECF6",
            "gridcolor": "white",
            "gridwidth": 2,
            "linecolor": "white",
            "showbackground": true,
            "ticks": "",
            "zerolinecolor": "white"
           },
           "zaxis": {
            "backgroundcolor": "#E5ECF6",
            "gridcolor": "white",
            "gridwidth": 2,
            "linecolor": "white",
            "showbackground": true,
            "ticks": "",
            "zerolinecolor": "white"
           }
          },
          "shapedefaults": {
           "line": {
            "color": "#2a3f5f"
           }
          },
          "ternary": {
           "aaxis": {
            "gridcolor": "white",
            "linecolor": "white",
            "ticks": ""
           },
           "baxis": {
            "gridcolor": "white",
            "linecolor": "white",
            "ticks": ""
           },
           "bgcolor": "#E5ECF6",
           "caxis": {
            "gridcolor": "white",
            "linecolor": "white",
            "ticks": ""
           }
          },
          "title": {
           "x": 0.05
          },
          "xaxis": {
           "automargin": true,
           "gridcolor": "white",
           "linecolor": "white",
           "ticks": "",
           "title": {
            "standoff": 15
           },
           "zerolinecolor": "white",
           "zerolinewidth": 2
          },
          "yaxis": {
           "automargin": true,
           "gridcolor": "white",
           "linecolor": "white",
           "ticks": "",
           "title": {
            "standoff": 15
           },
           "zerolinecolor": "white",
           "zerolinewidth": 2
          }
         }
        },
        "title": {
         "text": "t-SNE 2D"
        },
        "width": 1200,
        "xaxis": {
         "anchor": "y",
         "domain": [
          0,
          1
         ],
         "title": {
          "text": "x"
         }
        },
        "yaxis": {
         "anchor": "x",
         "domain": [
          0,
          1
         ],
         "title": {
          "text": "y"
         }
        }
       }
      }
     },
     "metadata": {},
     "output_type": "display_data"
    }
   ],
   "source": [
    "tsne = TSNE(n_components=2)\n",
    "articles_tsne = tsne.fit_transform(\n",
    "    np.concatenate((articles_sample_std, closest_articles_std, interest_std))\n",
    ")\n",
    "\n",
    "interest_tsne = articles_tsne[-1:]\n",
    "articles_tsne = articles_tsne[:-1]\n",
    "\n",
    "closest_articles_tsne = articles_tsne[-len(closest_articles) :]\n",
    "articles_tsne = articles_tsne[: -len(closest_articles)]\n",
    "\n",
    "\n",
    "# Plot the data in the t-SNE space\n",
    "fig = px.scatter(\n",
    "    x=articles_tsne[:, 0],\n",
    "    y=articles_tsne[:, 1],\n",
    "    color=articles_sample[\"category_id\"],\n",
    "    symbol=articles_sample[\"category_id\"],\n",
    "    title=\"t-SNE 2D\",\n",
    "    opacity=0.3,\n",
    "    width=1200,\n",
    "    height=800,\n",
    ")\n",
    "fig.add_scatter(\n",
    "    x=interest_tsne[:, 0],\n",
    "    y=interest_tsne[:, 1],\n",
    "    mode=\"markers\",\n",
    "    marker=dict(color=\"green\", size=30),\n",
    "    text=f\"User interest \\n user_id: {user_id} \\n category_id: {interest['category_id'].iloc[0]}\",\n",
    ")\n",
    "fig.add_scatter(\n",
    "    x=closest_articles_tsne[:, 0],\n",
    "    y=closest_articles_tsne[:, 1],\n",
    "    mode=\"markers\",\n",
    "    marker=dict(color=list(range(len(closest_articles_tsne))), size=20),\n",
    "    text=[\n",
    "        f\"rank: {i} / article_id: {a.article_id} / category_id: {a.category_id}\"\n",
    "        for i, a in enumerate(closest_articles.itertuples())\n",
    "    ],\n",
    ")\n",
    "fig.show()"
   ]
  },
  {
   "cell_type": "code",
   "execution_count": 26,
   "metadata": {},
   "outputs": [],
   "source": [
    "users_last_click = (\n",
    "    clicks.reset_index()\n",
    "    .rename(columns={\"index\": \"click_id\"})\n",
    "    .sort_values(by=\"click_timestamp\")\n",
    "    .groupby([\"user_id\"])\n",
    "    .last()\n",
    ")\n",
    "\n",
    "X = get_ratings_from_clicks(clicks.drop(list(users_last_click[\"click_id\"])))\n",
    "y_true = dict(users_last_click[\"click_article_id\"])"
   ]
  },
  {
   "cell_type": "code",
   "execution_count": 28,
   "metadata": {},
   "outputs": [
    {
     "name": "stderr",
     "output_type": "stream",
     "text": [
      "2629418it [00:07, 337280.07it/s]\n",
      "Epoch: 100%|██████████| 20/20 [05:32<00:00, 16.64s/it]\n"
     ]
    },
    {
     "data": {
      "text/plain": [
       "<lightfm.lightfm.LightFM at 0x7fca9886a430>"
      ]
     },
     "execution_count": 28,
     "metadata": {},
     "output_type": "execute_result"
    }
   ],
   "source": [
    "(interactions, weights) = dataset.build_interactions(\n",
    "    (row.user_id, row.article_id, row.rating) for row in tqdm(X.itertuples())\n",
    ")\n",
    "\n",
    "model = LightFM(loss=\"warp\", random_state=42)\n",
    "model.fit(\n",
    "    interactions=interactions,\n",
    "    user_features=user_features,\n",
    "    item_features=item_features,\n",
    "    sample_weight=weights,\n",
    "    epochs=20,\n",
    "    num_threads=8,\n",
    "    verbose=True,\n",
    ")"
   ]
  },
  {
   "cell_type": "code",
   "execution_count": 29,
   "metadata": {},
   "outputs": [
    {
     "name": "stderr",
     "output_type": "stream",
     "text": [
      "100%|██████████| 1000/1000 [02:45<00:00,  6.05it/s]\n"
     ]
    }
   ],
   "source": [
    "test_sample = random.sample(list(y_true.keys()), k=1000)\n",
    "\n",
    "y_pred = dict(\n",
    "    {\n",
    "        user_id: get_collaborative_reco(user_id, model, dataset, n=1000)\n",
    "        for user_id in tqdm(test_sample)\n",
    "    }\n",
    ")"
   ]
  },
  {
   "cell_type": "code",
   "execution_count": 30,
   "metadata": {},
   "outputs": [],
   "source": [
    "def score_reco(y_true, y_pred):\n",
    "    score = 0\n",
    "    count = 0\n",
    "    for user_id, pred_article_ids in y_pred.items():\n",
    "        if user_id not in y_true.keys():\n",
    "            logging.info(f\"User {user_id} not found in true values\")\n",
    "            continue\n",
    "\n",
    "        true_article_id = str(y_true[user_id])\n",
    "\n",
    "        if true_article_id not in pred_article_ids:\n",
    "            logging.info(\n",
    "                f\"Article {true_article_id} not found in predictions for user {user_id}\"\n",
    "            )\n",
    "            continue\n",
    "\n",
    "        rank = pred_article_ids.index(true_article_id) + 1\n",
    "        score += 1 / rank\n",
    "        count += 1\n",
    "\n",
    "    # In range [0 , 1], higher is better\n",
    "    return score / count\n",
    "\n",
    "\n",
    "def mean_rank(y_true, y_pred):\n",
    "    sum = 0\n",
    "    count = 0\n",
    "    for user_id, pred_article_ids in y_pred.items():\n",
    "        if user_id not in y_true.keys():\n",
    "            logging.info(f\"User {user_id} not found in true values\")\n",
    "            continue\n",
    "\n",
    "        true_article_id = str(y_true[user_id])\n",
    "\n",
    "        if true_article_id not in pred_article_ids:\n",
    "            logging.info(\n",
    "                f\"Article {true_article_id} not found in predictions for user {user_id}\"\n",
    "            )\n",
    "            continue\n",
    "\n",
    "        rank = pred_article_ids.index(true_article_id) + 1\n",
    "        sum += rank\n",
    "        count += 1\n",
    "\n",
    "    # In range [1 , +Inf[, lower is better\n",
    "    return sum / count\n",
    "\n",
    "\n",
    "def mean_average_precision(y_true, y_pred, articles, k=10):\n",
    "    average_precision = 0\n",
    "    for user_id, pred_article_ids in y_pred.items():\n",
    "        if user_id not in y_true.keys():\n",
    "            logging.warning(f\"User {user_id} not found in true values\")\n",
    "            continue\n",
    "\n",
    "        true_category_id = articles.iloc[int(y_true[user_id])].category_id\n",
    "        pred_categories = articles.iloc[\n",
    "            [int(id) for id in pred_article_ids[:k]]\n",
    "        ].category_id\n",
    "\n",
    "        average_precision = (\n",
    "            len(pred_categories[pred_categories == true_category_id]) / k\n",
    "        )\n",
    "\n",
    "    return average_precision / len(y_pred)"
   ]
  },
  {
   "cell_type": "code",
   "execution_count": 31,
   "metadata": {},
   "outputs": [
    {
     "name": "stdout",
     "output_type": "stream",
     "text": [
      "Score : 0.038784880471139364\n",
      "Mean Rank : 228.97051282051282\n",
      "Mean Average Precision : 0.0001\n"
     ]
    }
   ],
   "source": [
    "print(f\"Score : {score_reco(y_true, y_pred)}\")\n",
    "print(f\"Mean Rank : {mean_rank(y_true, y_pred)}\")\n",
    "print(\n",
    "    f\"Mean Average Precision : {mean_average_precision(y_true, y_pred, articles, k=1000)}\"\n",
    ")"
   ]
  }
 ],
 "metadata": {
  "interpreter": {
   "hash": "09e5ac093bdc04f395c750afd1e4509f840889458f14ff95cde88fc96be417fe"
  },
  "kernelspec": {
   "display_name": "Python 3.9.12 ('env': venv)",
   "language": "python",
   "name": "python3"
  },
  "language_info": {
   "codemirror_mode": {
    "name": "ipython",
    "version": 3
   },
   "file_extension": ".py",
   "mimetype": "text/x-python",
   "name": "python",
   "nbconvert_exporter": "python",
   "pygments_lexer": "ipython3",
   "version": "3.9.12"
  },
  "orig_nbformat": 4
 },
 "nbformat": 4,
 "nbformat_minor": 2
}
