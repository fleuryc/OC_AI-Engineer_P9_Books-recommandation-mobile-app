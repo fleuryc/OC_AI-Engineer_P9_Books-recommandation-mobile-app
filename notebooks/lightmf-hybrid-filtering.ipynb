{
 "cells": [
  {
   "cell_type": "markdown",
   "metadata": {},
   "source": [
    "# Hybrid Recommendation System with LightFM\n",
    "\n",
    "In ths notebook, we use [LightMF library](https://lightfm.readthedocs.io/ \"LightFM library\") to train a hybrid model using users and articles features to predict the ratings.\n"
   ]
  },
  {
   "cell_type": "code",
   "execution_count": 1,
   "metadata": {},
   "outputs": [
    {
     "name": "stdout",
     "output_type": "stream",
     "text": [
      ">>> Downloading and extracting data files...\n",
      "Data files already downloaded.\n",
      ">>> OK.\n",
      "\n"
     ]
    }
   ],
   "source": [
    "!cd .. && make dataset && cd notebooks"
   ]
  },
  {
   "cell_type": "code",
   "execution_count": 2,
   "metadata": {},
   "outputs": [],
   "source": [
    "import os\n",
    "import sys\n",
    "\n",
    "# Add source directory to python path\n",
    "sys.path.append(os.path.abspath(\"../\"))\n",
    "\n",
    "\n",
    "import logging\n",
    "import random\n",
    "from datetime import datetime\n",
    "from pathlib import Path\n",
    "\n",
    "import implicit\n",
    "import matplotlib.pyplot as plt\n",
    "import numpy as np\n",
    "import pandas as pd\n",
    "import plotly.express as px\n",
    "import src.data.helpers as data_helpers\n",
    "from implicit.als import AlternatingLeastSquares\n",
    "from lightfm import LightFM\n",
    "from pandas.api.types import is_numeric_dtype\n",
    "from scipy import sparse\n",
    "from sklearn.cluster import MiniBatchKMeans\n",
    "from sklearn.decomposition import PCA\n",
    "from sklearn.manifold import TSNE\n",
    "from sklearn.metrics import calinski_harabasz_score, davies_bouldin_score\n",
    "from sklearn.metrics.pairwise import cosine_similarity, linear_kernel\n",
    "from sklearn.preprocessing import OrdinalEncoder, StandardScaler\n",
    "from tqdm import tqdm\n",
    "\n",
    "# Plotly as Pandas plotting backend\n",
    "pd.options.plotting.backend = \"plotly\"\n",
    "\n",
    "DATA_PATH = Path(\"../data/\")\n",
    "RAW_DATA_PATH = Path(DATA_PATH, \"raw\")\n",
    "\n",
    "CACHE = dict()"
   ]
  },
  {
   "cell_type": "code",
   "execution_count": 3,
   "metadata": {},
   "outputs": [
    {
     "data": {
      "text/html": [
       "<div>\n",
       "<style scoped>\n",
       "    .dataframe tbody tr th:only-of-type {\n",
       "        vertical-align: middle;\n",
       "    }\n",
       "\n",
       "    .dataframe tbody tr th {\n",
       "        vertical-align: top;\n",
       "    }\n",
       "\n",
       "    .dataframe thead th {\n",
       "        text-align: right;\n",
       "    }\n",
       "</style>\n",
       "<table border=\"1\" class=\"dataframe\">\n",
       "  <thead>\n",
       "    <tr style=\"text-align: right;\">\n",
       "      <th></th>\n",
       "      <th>category_id</th>\n",
       "      <th>created_at_ts</th>\n",
       "      <th>publisher_id</th>\n",
       "      <th>words_count</th>\n",
       "      <th>embedding_0</th>\n",
       "      <th>embedding_1</th>\n",
       "      <th>embedding_2</th>\n",
       "      <th>embedding_3</th>\n",
       "      <th>embedding_4</th>\n",
       "      <th>embedding_5</th>\n",
       "      <th>...</th>\n",
       "      <th>embedding_240</th>\n",
       "      <th>embedding_241</th>\n",
       "      <th>embedding_242</th>\n",
       "      <th>embedding_243</th>\n",
       "      <th>embedding_244</th>\n",
       "      <th>embedding_245</th>\n",
       "      <th>embedding_246</th>\n",
       "      <th>embedding_247</th>\n",
       "      <th>embedding_248</th>\n",
       "      <th>embedding_249</th>\n",
       "    </tr>\n",
       "  </thead>\n",
       "  <tbody>\n",
       "    <tr>\n",
       "      <th>count</th>\n",
       "      <td>364047</td>\n",
       "      <td>364047</td>\n",
       "      <td>364047</td>\n",
       "      <td>364047.000000</td>\n",
       "      <td>364047.000000</td>\n",
       "      <td>364047.000000</td>\n",
       "      <td>364047.000000</td>\n",
       "      <td>364047.000000</td>\n",
       "      <td>364047.000000</td>\n",
       "      <td>364047.000000</td>\n",
       "      <td>...</td>\n",
       "      <td>364047.000000</td>\n",
       "      <td>364047.000000</td>\n",
       "      <td>364047.000000</td>\n",
       "      <td>364047.000000</td>\n",
       "      <td>364047.000000</td>\n",
       "      <td>364047.000000</td>\n",
       "      <td>364047.000000</td>\n",
       "      <td>364047.000000</td>\n",
       "      <td>364047.000000</td>\n",
       "      <td>364047.000000</td>\n",
       "    </tr>\n",
       "    <tr>\n",
       "      <th>unique</th>\n",
       "      <td>461</td>\n",
       "      <td>NaN</td>\n",
       "      <td>1</td>\n",
       "      <td>NaN</td>\n",
       "      <td>NaN</td>\n",
       "      <td>NaN</td>\n",
       "      <td>NaN</td>\n",
       "      <td>NaN</td>\n",
       "      <td>NaN</td>\n",
       "      <td>NaN</td>\n",
       "      <td>...</td>\n",
       "      <td>NaN</td>\n",
       "      <td>NaN</td>\n",
       "      <td>NaN</td>\n",
       "      <td>NaN</td>\n",
       "      <td>NaN</td>\n",
       "      <td>NaN</td>\n",
       "      <td>NaN</td>\n",
       "      <td>NaN</td>\n",
       "      <td>NaN</td>\n",
       "      <td>NaN</td>\n",
       "    </tr>\n",
       "    <tr>\n",
       "      <th>top</th>\n",
       "      <td>281</td>\n",
       "      <td>NaN</td>\n",
       "      <td>0</td>\n",
       "      <td>NaN</td>\n",
       "      <td>NaN</td>\n",
       "      <td>NaN</td>\n",
       "      <td>NaN</td>\n",
       "      <td>NaN</td>\n",
       "      <td>NaN</td>\n",
       "      <td>NaN</td>\n",
       "      <td>...</td>\n",
       "      <td>NaN</td>\n",
       "      <td>NaN</td>\n",
       "      <td>NaN</td>\n",
       "      <td>NaN</td>\n",
       "      <td>NaN</td>\n",
       "      <td>NaN</td>\n",
       "      <td>NaN</td>\n",
       "      <td>NaN</td>\n",
       "      <td>NaN</td>\n",
       "      <td>NaN</td>\n",
       "    </tr>\n",
       "    <tr>\n",
       "      <th>freq</th>\n",
       "      <td>12817</td>\n",
       "      <td>NaN</td>\n",
       "      <td>364047</td>\n",
       "      <td>NaN</td>\n",
       "      <td>NaN</td>\n",
       "      <td>NaN</td>\n",
       "      <td>NaN</td>\n",
       "      <td>NaN</td>\n",
       "      <td>NaN</td>\n",
       "      <td>NaN</td>\n",
       "      <td>...</td>\n",
       "      <td>NaN</td>\n",
       "      <td>NaN</td>\n",
       "      <td>NaN</td>\n",
       "      <td>NaN</td>\n",
       "      <td>NaN</td>\n",
       "      <td>NaN</td>\n",
       "      <td>NaN</td>\n",
       "      <td>NaN</td>\n",
       "      <td>NaN</td>\n",
       "      <td>NaN</td>\n",
       "    </tr>\n",
       "    <tr>\n",
       "      <th>mean</th>\n",
       "      <td>NaN</td>\n",
       "      <td>2016-09-17 01:25:54.949498624</td>\n",
       "      <td>NaN</td>\n",
       "      <td>190.897727</td>\n",
       "      <td>-0.238647</td>\n",
       "      <td>-0.963000</td>\n",
       "      <td>0.118547</td>\n",
       "      <td>-0.279296</td>\n",
       "      <td>-0.068579</td>\n",
       "      <td>0.045944</td>\n",
       "      <td>...</td>\n",
       "      <td>-0.133286</td>\n",
       "      <td>-0.081914</td>\n",
       "      <td>-0.060347</td>\n",
       "      <td>0.023003</td>\n",
       "      <td>0.076946</td>\n",
       "      <td>0.084603</td>\n",
       "      <td>0.062819</td>\n",
       "      <td>0.099768</td>\n",
       "      <td>0.155917</td>\n",
       "      <td>-0.041092</td>\n",
       "    </tr>\n",
       "    <tr>\n",
       "      <th>min</th>\n",
       "      <td>NaN</td>\n",
       "      <td>2006-09-27 13:14:35</td>\n",
       "      <td>NaN</td>\n",
       "      <td>0.000000</td>\n",
       "      <td>-0.991183</td>\n",
       "      <td>-0.996455</td>\n",
       "      <td>-0.968431</td>\n",
       "      <td>-0.994966</td>\n",
       "      <td>-0.994489</td>\n",
       "      <td>-0.985974</td>\n",
       "      <td>...</td>\n",
       "      <td>-0.990412</td>\n",
       "      <td>-0.989408</td>\n",
       "      <td>-0.990432</td>\n",
       "      <td>-0.993626</td>\n",
       "      <td>-0.989042</td>\n",
       "      <td>-0.996902</td>\n",
       "      <td>-0.992921</td>\n",
       "      <td>-0.984733</td>\n",
       "      <td>-0.976071</td>\n",
       "      <td>-0.988213</td>\n",
       "    </tr>\n",
       "    <tr>\n",
       "      <th>25%</th>\n",
       "      <td>NaN</td>\n",
       "      <td>2015-10-15 18:00:43.500000</td>\n",
       "      <td>NaN</td>\n",
       "      <td>159.000000</td>\n",
       "      <td>-0.620072</td>\n",
       "      <td>-0.974056</td>\n",
       "      <td>-0.289953</td>\n",
       "      <td>-0.718816</td>\n",
       "      <td>-0.503425</td>\n",
       "      <td>-0.354579</td>\n",
       "      <td>...</td>\n",
       "      <td>-0.547684</td>\n",
       "      <td>-0.445079</td>\n",
       "      <td>-0.479989</td>\n",
       "      <td>-0.404508</td>\n",
       "      <td>-0.248653</td>\n",
       "      <td>-0.267072</td>\n",
       "      <td>-0.306548</td>\n",
       "      <td>-0.313598</td>\n",
       "      <td>-0.201402</td>\n",
       "      <td>-0.420694</td>\n",
       "    </tr>\n",
       "    <tr>\n",
       "      <th>50%</th>\n",
       "      <td>NaN</td>\n",
       "      <td>2017-03-13 17:27:29</td>\n",
       "      <td>NaN</td>\n",
       "      <td>186.000000</td>\n",
       "      <td>-0.302581</td>\n",
       "      <td>-0.967605</td>\n",
       "      <td>0.124339</td>\n",
       "      <td>-0.391535</td>\n",
       "      <td>-0.093734</td>\n",
       "      <td>0.062636</td>\n",
       "      <td>...</td>\n",
       "      <td>-0.175781</td>\n",
       "      <td>-0.094113</td>\n",
       "      <td>-0.078034</td>\n",
       "      <td>0.000726</td>\n",
       "      <td>0.105649</td>\n",
       "      <td>0.133525</td>\n",
       "      <td>0.083315</td>\n",
       "      <td>0.128757</td>\n",
       "      <td>0.188355</td>\n",
       "      <td>-0.015232</td>\n",
       "    </tr>\n",
       "    <tr>\n",
       "      <th>75%</th>\n",
       "      <td>NaN</td>\n",
       "      <td>2017-11-05 15:09:11</td>\n",
       "      <td>NaN</td>\n",
       "      <td>218.000000</td>\n",
       "      <td>0.098015</td>\n",
       "      <td>-0.959061</td>\n",
       "      <td>0.545112</td>\n",
       "      <td>0.108320</td>\n",
       "      <td>0.345024</td>\n",
       "      <td>0.446979</td>\n",
       "      <td>...</td>\n",
       "      <td>0.250641</td>\n",
       "      <td>0.270006</td>\n",
       "      <td>0.341105</td>\n",
       "      <td>0.459386</td>\n",
       "      <td>0.417347</td>\n",
       "      <td>0.461466</td>\n",
       "      <td>0.441831</td>\n",
       "      <td>0.531453</td>\n",
       "      <td>0.538111</td>\n",
       "      <td>0.334226</td>\n",
       "    </tr>\n",
       "    <tr>\n",
       "      <th>max</th>\n",
       "      <td>NaN</td>\n",
       "      <td>2018-03-13 13:12:30</td>\n",
       "      <td>NaN</td>\n",
       "      <td>6690.000000</td>\n",
       "      <td>0.983694</td>\n",
       "      <td>-0.514728</td>\n",
       "      <td>0.998341</td>\n",
       "      <td>0.978092</td>\n",
       "      <td>0.996798</td>\n",
       "      <td>0.996343</td>\n",
       "      <td>...</td>\n",
       "      <td>0.996401</td>\n",
       "      <td>0.981789</td>\n",
       "      <td>0.991332</td>\n",
       "      <td>0.995299</td>\n",
       "      <td>0.978823</td>\n",
       "      <td>0.989324</td>\n",
       "      <td>0.991445</td>\n",
       "      <td>0.997583</td>\n",
       "      <td>0.990507</td>\n",
       "      <td>0.968462</td>\n",
       "    </tr>\n",
       "    <tr>\n",
       "      <th>std</th>\n",
       "      <td>NaN</td>\n",
       "      <td>NaN</td>\n",
       "      <td>NaN</td>\n",
       "      <td>59.502766</td>\n",
       "      <td>0.451477</td>\n",
       "      <td>0.022650</td>\n",
       "      <td>0.495033</td>\n",
       "      <td>0.505040</td>\n",
       "      <td>0.506702</td>\n",
       "      <td>0.483264</td>\n",
       "      <td>...</td>\n",
       "      <td>0.490577</td>\n",
       "      <td>0.449941</td>\n",
       "      <td>0.489480</td>\n",
       "      <td>0.507167</td>\n",
       "      <td>0.426127</td>\n",
       "      <td>0.467973</td>\n",
       "      <td>0.462653</td>\n",
       "      <td>0.499622</td>\n",
       "      <td>0.454330</td>\n",
       "      <td>0.458802</td>\n",
       "    </tr>\n",
       "  </tbody>\n",
       "</table>\n",
       "<p>11 rows × 254 columns</p>\n",
       "</div>"
      ],
      "text/plain": [
       "       category_id                  created_at_ts publisher_id    words_count  \\\n",
       "count       364047                         364047       364047  364047.000000   \n",
       "unique         461                            NaN            1            NaN   \n",
       "top            281                            NaN            0            NaN   \n",
       "freq         12817                            NaN       364047            NaN   \n",
       "mean           NaN  2016-09-17 01:25:54.949498624          NaN     190.897727   \n",
       "min            NaN            2006-09-27 13:14:35          NaN       0.000000   \n",
       "25%            NaN     2015-10-15 18:00:43.500000          NaN     159.000000   \n",
       "50%            NaN            2017-03-13 17:27:29          NaN     186.000000   \n",
       "75%            NaN            2017-11-05 15:09:11          NaN     218.000000   \n",
       "max            NaN            2018-03-13 13:12:30          NaN    6690.000000   \n",
       "std            NaN                            NaN          NaN      59.502766   \n",
       "\n",
       "          embedding_0    embedding_1    embedding_2    embedding_3  \\\n",
       "count   364047.000000  364047.000000  364047.000000  364047.000000   \n",
       "unique            NaN            NaN            NaN            NaN   \n",
       "top               NaN            NaN            NaN            NaN   \n",
       "freq              NaN            NaN            NaN            NaN   \n",
       "mean        -0.238647      -0.963000       0.118547      -0.279296   \n",
       "min         -0.991183      -0.996455      -0.968431      -0.994966   \n",
       "25%         -0.620072      -0.974056      -0.289953      -0.718816   \n",
       "50%         -0.302581      -0.967605       0.124339      -0.391535   \n",
       "75%          0.098015      -0.959061       0.545112       0.108320   \n",
       "max          0.983694      -0.514728       0.998341       0.978092   \n",
       "std          0.451477       0.022650       0.495033       0.505040   \n",
       "\n",
       "          embedding_4    embedding_5  ...  embedding_240  embedding_241  \\\n",
       "count   364047.000000  364047.000000  ...  364047.000000  364047.000000   \n",
       "unique            NaN            NaN  ...            NaN            NaN   \n",
       "top               NaN            NaN  ...            NaN            NaN   \n",
       "freq              NaN            NaN  ...            NaN            NaN   \n",
       "mean        -0.068579       0.045944  ...      -0.133286      -0.081914   \n",
       "min         -0.994489      -0.985974  ...      -0.990412      -0.989408   \n",
       "25%         -0.503425      -0.354579  ...      -0.547684      -0.445079   \n",
       "50%         -0.093734       0.062636  ...      -0.175781      -0.094113   \n",
       "75%          0.345024       0.446979  ...       0.250641       0.270006   \n",
       "max          0.996798       0.996343  ...       0.996401       0.981789   \n",
       "std          0.506702       0.483264  ...       0.490577       0.449941   \n",
       "\n",
       "        embedding_242  embedding_243  embedding_244  embedding_245  \\\n",
       "count   364047.000000  364047.000000  364047.000000  364047.000000   \n",
       "unique            NaN            NaN            NaN            NaN   \n",
       "top               NaN            NaN            NaN            NaN   \n",
       "freq              NaN            NaN            NaN            NaN   \n",
       "mean        -0.060347       0.023003       0.076946       0.084603   \n",
       "min         -0.990432      -0.993626      -0.989042      -0.996902   \n",
       "25%         -0.479989      -0.404508      -0.248653      -0.267072   \n",
       "50%         -0.078034       0.000726       0.105649       0.133525   \n",
       "75%          0.341105       0.459386       0.417347       0.461466   \n",
       "max          0.991332       0.995299       0.978823       0.989324   \n",
       "std          0.489480       0.507167       0.426127       0.467973   \n",
       "\n",
       "        embedding_246  embedding_247  embedding_248  embedding_249  \n",
       "count   364047.000000  364047.000000  364047.000000  364047.000000  \n",
       "unique            NaN            NaN            NaN            NaN  \n",
       "top               NaN            NaN            NaN            NaN  \n",
       "freq              NaN            NaN            NaN            NaN  \n",
       "mean         0.062819       0.099768       0.155917      -0.041092  \n",
       "min         -0.992921      -0.984733      -0.976071      -0.988213  \n",
       "25%         -0.306548      -0.313598      -0.201402      -0.420694  \n",
       "50%          0.083315       0.128757       0.188355      -0.015232  \n",
       "75%          0.441831       0.531453       0.538111       0.334226  \n",
       "max          0.991445       0.997583       0.990507       0.968462  \n",
       "std          0.462653       0.499622       0.454330       0.458802  \n",
       "\n",
       "[11 rows x 254 columns]"
      ]
     },
     "execution_count": 3,
     "metadata": {},
     "output_type": "execute_result"
    }
   ],
   "source": [
    "NUM_EMBEDDINGS = 250\n",
    "\n",
    "articles = pd.concat(\n",
    "    [\n",
    "        pd.read_csv(\n",
    "            Path(RAW_DATA_PATH, \"articles_metadata.csv\"),\n",
    "            parse_dates=[\"created_at_ts\"],\n",
    "            date_parser=lambda x: datetime.fromtimestamp(int(x) / 1000),\n",
    "            dtype={\n",
    "                \"article_id\": \"category\",\n",
    "                \"category_id\": \"category\",\n",
    "                \"publisher_id\": \"category\",\n",
    "                \"words_count\": \"int\",\n",
    "            },\n",
    "        ),\n",
    "        pd.DataFrame(\n",
    "            pd.read_pickle(Path(RAW_DATA_PATH, \"articles_embeddings.pickle\")),\n",
    "            columns=[\"embedding_\" + str(i) for i in range(NUM_EMBEDDINGS)],\n",
    "        ),\n",
    "    ],\n",
    "    axis=1,\n",
    ").set_index(\"article_id\")\n",
    "\n",
    "articles = data_helpers.reduce_dataframe_memory_usage(\n",
    "    articles.astype({\"created_at_ts\": \"datetime64[ns]\"})\n",
    ")\n",
    "\n",
    "articles_sample = articles.sample(frac=0.01, random_state=42)\n",
    "\n",
    "articles.describe(include=\"all\", datetime_is_numeric=True)"
   ]
  },
  {
   "cell_type": "code",
   "execution_count": 4,
   "metadata": {},
   "outputs": [
    {
     "data": {
      "application/vnd.plotly.v1+json": {
       "config": {
        "plotlyServerURL": "https://plot.ly"
       },
       "data": [
        {
         "hovertemplate": "Number of components=%{x}<br>Explained variance ratio=%{y}<extra></extra>",
         "legendgroup": "",
         "line": {
          "color": "#636efa",
          "dash": "solid"
         },
         "marker": {
          "symbol": "circle"
         },
         "mode": "lines",
         "name": "",
         "orientation": "v",
         "showlegend": false,
         "type": "scatter",
         "x": [
          1,
          2,
          3,
          4,
          5,
          6,
          7,
          8,
          9,
          10,
          11,
          12,
          13,
          14,
          15,
          16,
          17,
          18,
          19,
          20,
          21,
          22,
          23,
          24,
          25,
          26,
          27,
          28,
          29,
          30,
          31,
          32,
          33,
          34,
          35,
          36,
          37,
          38,
          39,
          40,
          41,
          42,
          43,
          44,
          45,
          46,
          47,
          48,
          49,
          50,
          51,
          52,
          53,
          54,
          55,
          56,
          57,
          58,
          59,
          60,
          61,
          62,
          63,
          64,
          65,
          66,
          67,
          68,
          69,
          70,
          71,
          72,
          73,
          74,
          75,
          76,
          77,
          78,
          79,
          80,
          81,
          82,
          83,
          84,
          85,
          86,
          87,
          88,
          89,
          90,
          91,
          92,
          93,
          94,
          95,
          96,
          97,
          98,
          99,
          100
         ],
         "xaxis": "x",
         "y": [
          0.032983630743396004,
          0.02479787293134172,
          0.023922646355425202,
          0.01926283921715764,
          0.01643528276028122,
          0.015163525448181652,
          0.013714463636817732,
          0.012198368240946562,
          0.011996981157833009,
          0.01069895396544709,
          0.010211087569378567,
          0.009486635207946608,
          0.009210358535638107,
          0.009040955832123375,
          0.008496844883908788,
          0.007862750214147786,
          0.007576145397875814,
          0.007252748065732309,
          0.00706159034892219,
          0.006600053774507918,
          0.006112933658576317,
          0.006024551676352438,
          0.005664551131875969,
          0.005560253889257216,
          0.005269904201715787,
          0.0051417800240106185,
          0.004955818840454522,
          0.004631992777792319,
          0.004407910335244866,
          0.004281291525224039,
          0.004035406211508209,
          0.003727667024552138,
          0.00366961041061701,
          0.0035444690827067904,
          0.0033822235138400132,
          0.003253194766756864,
          0.0031909214552369573,
          0.0031696841587053937,
          0.0031285665110445675,
          0.002840651316932983,
          0.002786631434535688,
          0.0025853030212893676,
          0.002479802781618846,
          0.002437600659789922,
          0.002359199239341098,
          0.0021746608723314928,
          0.002090668377323803,
          0.00202378414822114,
          0.00199297881502543,
          0.0019373522175365776,
          0.0018639053080646492,
          0.001769871728201989,
          0.0017472149682924087,
          0.0017260642669417272,
          0.0016488489271949164,
          0.001586229377682186,
          0.0015626485794135107,
          0.001538870868505062,
          0.0014955605075281809,
          0.0014756097958605555,
          0.0014659435559941137,
          0.0014536144504455656,
          0.0014404935653613876,
          0.0014345922780645037,
          0.0014267232030197306,
          0.0014217543624731347,
          0.0014182255982652806,
          0.0014166118465934274,
          0.0014159420158637028,
          0.0014142553132196996,
          0.0014132977320526372,
          0.0014117854541442771,
          0.001409592311947568,
          0.0014089275110682393,
          0.0014084715329757583,
          0.001407912027244148,
          0.001407446736205951,
          0.00140723194720975,
          0.0014063851469305908,
          0.0014060341389251002,
          0.0014056938651526058,
          0.0014055410816524406,
          0.0014052993471420855,
          0.001405025797937922,
          0.0014049639383616566,
          0.0014048490557374467,
          0.0014047124018248158,
          0.0014044782246300871,
          0.001404375073836239,
          0.0014041328667800067,
          0.00140408739700309,
          0.001403936361047276,
          0.0014038409590034267,
          0.0014036975700031443,
          0.0014035298601699398,
          0.0014034708696823758,
          0.0014033653520302137,
          0.0014032015521377476,
          0.0014031644847147498,
          0.0014030486430202012
         ],
         "yaxis": "y"
        }
       ],
       "layout": {
        "legend": {
         "tracegroupgap": 0
        },
        "template": {
         "data": {
          "bar": [
           {
            "error_x": {
             "color": "#2a3f5f"
            },
            "error_y": {
             "color": "#2a3f5f"
            },
            "marker": {
             "line": {
              "color": "#E5ECF6",
              "width": 0.5
             },
             "pattern": {
              "fillmode": "overlay",
              "size": 10,
              "solidity": 0.2
             }
            },
            "type": "bar"
           }
          ],
          "barpolar": [
           {
            "marker": {
             "line": {
              "color": "#E5ECF6",
              "width": 0.5
             },
             "pattern": {
              "fillmode": "overlay",
              "size": 10,
              "solidity": 0.2
             }
            },
            "type": "barpolar"
           }
          ],
          "carpet": [
           {
            "aaxis": {
             "endlinecolor": "#2a3f5f",
             "gridcolor": "white",
             "linecolor": "white",
             "minorgridcolor": "white",
             "startlinecolor": "#2a3f5f"
            },
            "baxis": {
             "endlinecolor": "#2a3f5f",
             "gridcolor": "white",
             "linecolor": "white",
             "minorgridcolor": "white",
             "startlinecolor": "#2a3f5f"
            },
            "type": "carpet"
           }
          ],
          "choropleth": [
           {
            "colorbar": {
             "outlinewidth": 0,
             "ticks": ""
            },
            "type": "choropleth"
           }
          ],
          "contour": [
           {
            "colorbar": {
             "outlinewidth": 0,
             "ticks": ""
            },
            "colorscale": [
             [
              0,
              "#0d0887"
             ],
             [
              0.1111111111111111,
              "#46039f"
             ],
             [
              0.2222222222222222,
              "#7201a8"
             ],
             [
              0.3333333333333333,
              "#9c179e"
             ],
             [
              0.4444444444444444,
              "#bd3786"
             ],
             [
              0.5555555555555556,
              "#d8576b"
             ],
             [
              0.6666666666666666,
              "#ed7953"
             ],
             [
              0.7777777777777778,
              "#fb9f3a"
             ],
             [
              0.8888888888888888,
              "#fdca26"
             ],
             [
              1,
              "#f0f921"
             ]
            ],
            "type": "contour"
           }
          ],
          "contourcarpet": [
           {
            "colorbar": {
             "outlinewidth": 0,
             "ticks": ""
            },
            "type": "contourcarpet"
           }
          ],
          "heatmap": [
           {
            "colorbar": {
             "outlinewidth": 0,
             "ticks": ""
            },
            "colorscale": [
             [
              0,
              "#0d0887"
             ],
             [
              0.1111111111111111,
              "#46039f"
             ],
             [
              0.2222222222222222,
              "#7201a8"
             ],
             [
              0.3333333333333333,
              "#9c179e"
             ],
             [
              0.4444444444444444,
              "#bd3786"
             ],
             [
              0.5555555555555556,
              "#d8576b"
             ],
             [
              0.6666666666666666,
              "#ed7953"
             ],
             [
              0.7777777777777778,
              "#fb9f3a"
             ],
             [
              0.8888888888888888,
              "#fdca26"
             ],
             [
              1,
              "#f0f921"
             ]
            ],
            "type": "heatmap"
           }
          ],
          "heatmapgl": [
           {
            "colorbar": {
             "outlinewidth": 0,
             "ticks": ""
            },
            "colorscale": [
             [
              0,
              "#0d0887"
             ],
             [
              0.1111111111111111,
              "#46039f"
             ],
             [
              0.2222222222222222,
              "#7201a8"
             ],
             [
              0.3333333333333333,
              "#9c179e"
             ],
             [
              0.4444444444444444,
              "#bd3786"
             ],
             [
              0.5555555555555556,
              "#d8576b"
             ],
             [
              0.6666666666666666,
              "#ed7953"
             ],
             [
              0.7777777777777778,
              "#fb9f3a"
             ],
             [
              0.8888888888888888,
              "#fdca26"
             ],
             [
              1,
              "#f0f921"
             ]
            ],
            "type": "heatmapgl"
           }
          ],
          "histogram": [
           {
            "marker": {
             "pattern": {
              "fillmode": "overlay",
              "size": 10,
              "solidity": 0.2
             }
            },
            "type": "histogram"
           }
          ],
          "histogram2d": [
           {
            "colorbar": {
             "outlinewidth": 0,
             "ticks": ""
            },
            "colorscale": [
             [
              0,
              "#0d0887"
             ],
             [
              0.1111111111111111,
              "#46039f"
             ],
             [
              0.2222222222222222,
              "#7201a8"
             ],
             [
              0.3333333333333333,
              "#9c179e"
             ],
             [
              0.4444444444444444,
              "#bd3786"
             ],
             [
              0.5555555555555556,
              "#d8576b"
             ],
             [
              0.6666666666666666,
              "#ed7953"
             ],
             [
              0.7777777777777778,
              "#fb9f3a"
             ],
             [
              0.8888888888888888,
              "#fdca26"
             ],
             [
              1,
              "#f0f921"
             ]
            ],
            "type": "histogram2d"
           }
          ],
          "histogram2dcontour": [
           {
            "colorbar": {
             "outlinewidth": 0,
             "ticks": ""
            },
            "colorscale": [
             [
              0,
              "#0d0887"
             ],
             [
              0.1111111111111111,
              "#46039f"
             ],
             [
              0.2222222222222222,
              "#7201a8"
             ],
             [
              0.3333333333333333,
              "#9c179e"
             ],
             [
              0.4444444444444444,
              "#bd3786"
             ],
             [
              0.5555555555555556,
              "#d8576b"
             ],
             [
              0.6666666666666666,
              "#ed7953"
             ],
             [
              0.7777777777777778,
              "#fb9f3a"
             ],
             [
              0.8888888888888888,
              "#fdca26"
             ],
             [
              1,
              "#f0f921"
             ]
            ],
            "type": "histogram2dcontour"
           }
          ],
          "mesh3d": [
           {
            "colorbar": {
             "outlinewidth": 0,
             "ticks": ""
            },
            "type": "mesh3d"
           }
          ],
          "parcoords": [
           {
            "line": {
             "colorbar": {
              "outlinewidth": 0,
              "ticks": ""
             }
            },
            "type": "parcoords"
           }
          ],
          "pie": [
           {
            "automargin": true,
            "type": "pie"
           }
          ],
          "scatter": [
           {
            "fillpattern": {
             "fillmode": "overlay",
             "size": 10,
             "solidity": 0.2
            },
            "type": "scatter"
           }
          ],
          "scatter3d": [
           {
            "line": {
             "colorbar": {
              "outlinewidth": 0,
              "ticks": ""
             }
            },
            "marker": {
             "colorbar": {
              "outlinewidth": 0,
              "ticks": ""
             }
            },
            "type": "scatter3d"
           }
          ],
          "scattercarpet": [
           {
            "marker": {
             "colorbar": {
              "outlinewidth": 0,
              "ticks": ""
             }
            },
            "type": "scattercarpet"
           }
          ],
          "scattergeo": [
           {
            "marker": {
             "colorbar": {
              "outlinewidth": 0,
              "ticks": ""
             }
            },
            "type": "scattergeo"
           }
          ],
          "scattergl": [
           {
            "marker": {
             "colorbar": {
              "outlinewidth": 0,
              "ticks": ""
             }
            },
            "type": "scattergl"
           }
          ],
          "scattermapbox": [
           {
            "marker": {
             "colorbar": {
              "outlinewidth": 0,
              "ticks": ""
             }
            },
            "type": "scattermapbox"
           }
          ],
          "scatterpolar": [
           {
            "marker": {
             "colorbar": {
              "outlinewidth": 0,
              "ticks": ""
             }
            },
            "type": "scatterpolar"
           }
          ],
          "scatterpolargl": [
           {
            "marker": {
             "colorbar": {
              "outlinewidth": 0,
              "ticks": ""
             }
            },
            "type": "scatterpolargl"
           }
          ],
          "scatterternary": [
           {
            "marker": {
             "colorbar": {
              "outlinewidth": 0,
              "ticks": ""
             }
            },
            "type": "scatterternary"
           }
          ],
          "surface": [
           {
            "colorbar": {
             "outlinewidth": 0,
             "ticks": ""
            },
            "colorscale": [
             [
              0,
              "#0d0887"
             ],
             [
              0.1111111111111111,
              "#46039f"
             ],
             [
              0.2222222222222222,
              "#7201a8"
             ],
             [
              0.3333333333333333,
              "#9c179e"
             ],
             [
              0.4444444444444444,
              "#bd3786"
             ],
             [
              0.5555555555555556,
              "#d8576b"
             ],
             [
              0.6666666666666666,
              "#ed7953"
             ],
             [
              0.7777777777777778,
              "#fb9f3a"
             ],
             [
              0.8888888888888888,
              "#fdca26"
             ],
             [
              1,
              "#f0f921"
             ]
            ],
            "type": "surface"
           }
          ],
          "table": [
           {
            "cells": {
             "fill": {
              "color": "#EBF0F8"
             },
             "line": {
              "color": "white"
             }
            },
            "header": {
             "fill": {
              "color": "#C8D4E3"
             },
             "line": {
              "color": "white"
             }
            },
            "type": "table"
           }
          ]
         },
         "layout": {
          "annotationdefaults": {
           "arrowcolor": "#2a3f5f",
           "arrowhead": 0,
           "arrowwidth": 1
          },
          "autotypenumbers": "strict",
          "coloraxis": {
           "colorbar": {
            "outlinewidth": 0,
            "ticks": ""
           }
          },
          "colorscale": {
           "diverging": [
            [
             0,
             "#8e0152"
            ],
            [
             0.1,
             "#c51b7d"
            ],
            [
             0.2,
             "#de77ae"
            ],
            [
             0.3,
             "#f1b6da"
            ],
            [
             0.4,
             "#fde0ef"
            ],
            [
             0.5,
             "#f7f7f7"
            ],
            [
             0.6,
             "#e6f5d0"
            ],
            [
             0.7,
             "#b8e186"
            ],
            [
             0.8,
             "#7fbc41"
            ],
            [
             0.9,
             "#4d9221"
            ],
            [
             1,
             "#276419"
            ]
           ],
           "sequential": [
            [
             0,
             "#0d0887"
            ],
            [
             0.1111111111111111,
             "#46039f"
            ],
            [
             0.2222222222222222,
             "#7201a8"
            ],
            [
             0.3333333333333333,
             "#9c179e"
            ],
            [
             0.4444444444444444,
             "#bd3786"
            ],
            [
             0.5555555555555556,
             "#d8576b"
            ],
            [
             0.6666666666666666,
             "#ed7953"
            ],
            [
             0.7777777777777778,
             "#fb9f3a"
            ],
            [
             0.8888888888888888,
             "#fdca26"
            ],
            [
             1,
             "#f0f921"
            ]
           ],
           "sequentialminus": [
            [
             0,
             "#0d0887"
            ],
            [
             0.1111111111111111,
             "#46039f"
            ],
            [
             0.2222222222222222,
             "#7201a8"
            ],
            [
             0.3333333333333333,
             "#9c179e"
            ],
            [
             0.4444444444444444,
             "#bd3786"
            ],
            [
             0.5555555555555556,
             "#d8576b"
            ],
            [
             0.6666666666666666,
             "#ed7953"
            ],
            [
             0.7777777777777778,
             "#fb9f3a"
            ],
            [
             0.8888888888888888,
             "#fdca26"
            ],
            [
             1,
             "#f0f921"
            ]
           ]
          },
          "colorway": [
           "#636efa",
           "#EF553B",
           "#00cc96",
           "#ab63fa",
           "#FFA15A",
           "#19d3f3",
           "#FF6692",
           "#B6E880",
           "#FF97FF",
           "#FECB52"
          ],
          "font": {
           "color": "#2a3f5f"
          },
          "geo": {
           "bgcolor": "white",
           "lakecolor": "white",
           "landcolor": "#E5ECF6",
           "showlakes": true,
           "showland": true,
           "subunitcolor": "white"
          },
          "hoverlabel": {
           "align": "left"
          },
          "hovermode": "closest",
          "mapbox": {
           "style": "light"
          },
          "paper_bgcolor": "white",
          "plot_bgcolor": "#E5ECF6",
          "polar": {
           "angularaxis": {
            "gridcolor": "white",
            "linecolor": "white",
            "ticks": ""
           },
           "bgcolor": "#E5ECF6",
           "radialaxis": {
            "gridcolor": "white",
            "linecolor": "white",
            "ticks": ""
           }
          },
          "scene": {
           "xaxis": {
            "backgroundcolor": "#E5ECF6",
            "gridcolor": "white",
            "gridwidth": 2,
            "linecolor": "white",
            "showbackground": true,
            "ticks": "",
            "zerolinecolor": "white"
           },
           "yaxis": {
            "backgroundcolor": "#E5ECF6",
            "gridcolor": "white",
            "gridwidth": 2,
            "linecolor": "white",
            "showbackground": true,
            "ticks": "",
            "zerolinecolor": "white"
           },
           "zaxis": {
            "backgroundcolor": "#E5ECF6",
            "gridcolor": "white",
            "gridwidth": 2,
            "linecolor": "white",
            "showbackground": true,
            "ticks": "",
            "zerolinecolor": "white"
           }
          },
          "shapedefaults": {
           "line": {
            "color": "#2a3f5f"
           }
          },
          "ternary": {
           "aaxis": {
            "gridcolor": "white",
            "linecolor": "white",
            "ticks": ""
           },
           "baxis": {
            "gridcolor": "white",
            "linecolor": "white",
            "ticks": ""
           },
           "bgcolor": "#E5ECF6",
           "caxis": {
            "gridcolor": "white",
            "linecolor": "white",
            "ticks": ""
           }
          },
          "title": {
           "x": 0.05
          },
          "xaxis": {
           "automargin": true,
           "gridcolor": "white",
           "linecolor": "white",
           "ticks": "",
           "title": {
            "standoff": 15
           },
           "zerolinecolor": "white",
           "zerolinewidth": 2
          },
          "yaxis": {
           "automargin": true,
           "gridcolor": "white",
           "linecolor": "white",
           "ticks": "",
           "title": {
            "standoff": 15
           },
           "zerolinecolor": "white",
           "zerolinewidth": 2
          }
         }
        },
        "title": {
         "text": "PCA - Explained variance ratio"
        },
        "xaxis": {
         "anchor": "y",
         "domain": [
          0,
          1
         ],
         "title": {
          "text": "Number of components"
         }
        },
        "yaxis": {
         "anchor": "x",
         "domain": [
          0,
          1
         ],
         "title": {
          "text": "Explained variance ratio"
         }
        }
       }
      }
     },
     "metadata": {},
     "output_type": "display_data"
    }
   ],
   "source": [
    "articles_dummy = pd.get_dummies(articles.astype({\"created_at_ts\": \"int\"}))\n",
    "articles_std = StandardScaler().fit_transform(articles_dummy)\n",
    "\n",
    "pca = PCA(n_components=100, random_state=42)\n",
    "pca.fit(articles_std)\n",
    "\n",
    "\n",
    "px.line(\n",
    "    x=range(1, len(pca.explained_variance_ratio_) + 1),\n",
    "    y=pca.explained_variance_ratio_,\n",
    "    title=\"PCA - Explained variance ratio\",\n",
    "    labels={\"x\": \"Number of components\", \"y\": \"Explained variance ratio\"},\n",
    ")"
   ]
  },
  {
   "cell_type": "code",
   "execution_count": 5,
   "metadata": {},
   "outputs": [
    {
     "data": {
      "text/html": [
       "<div>\n",
       "<style scoped>\n",
       "    .dataframe tbody tr th:only-of-type {\n",
       "        vertical-align: middle;\n",
       "    }\n",
       "\n",
       "    .dataframe tbody tr th {\n",
       "        vertical-align: top;\n",
       "    }\n",
       "\n",
       "    .dataframe thead th {\n",
       "        text-align: right;\n",
       "    }\n",
       "</style>\n",
       "<table border=\"1\" class=\"dataframe\">\n",
       "  <thead>\n",
       "    <tr style=\"text-align: right;\">\n",
       "      <th></th>\n",
       "      <th>pca_0</th>\n",
       "      <th>pca_1</th>\n",
       "      <th>pca_2</th>\n",
       "      <th>pca_3</th>\n",
       "      <th>pca_4</th>\n",
       "      <th>pca_5</th>\n",
       "      <th>pca_6</th>\n",
       "      <th>pca_7</th>\n",
       "      <th>pca_8</th>\n",
       "      <th>pca_9</th>\n",
       "      <th>...</th>\n",
       "      <th>pca_15</th>\n",
       "      <th>pca_16</th>\n",
       "      <th>pca_17</th>\n",
       "      <th>pca_18</th>\n",
       "      <th>pca_19</th>\n",
       "      <th>pca_20</th>\n",
       "      <th>pca_21</th>\n",
       "      <th>pca_22</th>\n",
       "      <th>pca_23</th>\n",
       "      <th>pca_24</th>\n",
       "    </tr>\n",
       "    <tr>\n",
       "      <th>article_id</th>\n",
       "      <th></th>\n",
       "      <th></th>\n",
       "      <th></th>\n",
       "      <th></th>\n",
       "      <th></th>\n",
       "      <th></th>\n",
       "      <th></th>\n",
       "      <th></th>\n",
       "      <th></th>\n",
       "      <th></th>\n",
       "      <th></th>\n",
       "      <th></th>\n",
       "      <th></th>\n",
       "      <th></th>\n",
       "      <th></th>\n",
       "      <th></th>\n",
       "      <th></th>\n",
       "      <th></th>\n",
       "      <th></th>\n",
       "      <th></th>\n",
       "      <th></th>\n",
       "    </tr>\n",
       "  </thead>\n",
       "  <tbody>\n",
       "    <tr>\n",
       "      <th>0</th>\n",
       "      <td>-1.904215</td>\n",
       "      <td>6.079079</td>\n",
       "      <td>1.537288</td>\n",
       "      <td>3.803354</td>\n",
       "      <td>-1.437657</td>\n",
       "      <td>0.300117</td>\n",
       "      <td>0.414942</td>\n",
       "      <td>1.152953</td>\n",
       "      <td>-0.518427</td>\n",
       "      <td>-1.580563</td>\n",
       "      <td>...</td>\n",
       "      <td>2.452330</td>\n",
       "      <td>-2.933797</td>\n",
       "      <td>-2.891124</td>\n",
       "      <td>2.202463</td>\n",
       "      <td>-0.271904</td>\n",
       "      <td>1.209298</td>\n",
       "      <td>-4.123378</td>\n",
       "      <td>3.279035</td>\n",
       "      <td>0.938082</td>\n",
       "      <td>-1.514533</td>\n",
       "    </tr>\n",
       "    <tr>\n",
       "      <th>1</th>\n",
       "      <td>-5.347634</td>\n",
       "      <td>-4.245106</td>\n",
       "      <td>-2.292850</td>\n",
       "      <td>3.663286</td>\n",
       "      <td>0.028960</td>\n",
       "      <td>3.627160</td>\n",
       "      <td>1.995622</td>\n",
       "      <td>-2.004382</td>\n",
       "      <td>0.694724</td>\n",
       "      <td>-3.107926</td>\n",
       "      <td>...</td>\n",
       "      <td>0.388457</td>\n",
       "      <td>-4.107143</td>\n",
       "      <td>1.576031</td>\n",
       "      <td>2.298082</td>\n",
       "      <td>1.705790</td>\n",
       "      <td>-3.961541</td>\n",
       "      <td>-3.657167</td>\n",
       "      <td>1.620356</td>\n",
       "      <td>-0.775952</td>\n",
       "      <td>0.864433</td>\n",
       "    </tr>\n",
       "    <tr>\n",
       "      <th>2</th>\n",
       "      <td>-3.696949</td>\n",
       "      <td>-0.448304</td>\n",
       "      <td>-6.074375</td>\n",
       "      <td>-0.811972</td>\n",
       "      <td>-0.613765</td>\n",
       "      <td>4.426349</td>\n",
       "      <td>-1.923623</td>\n",
       "      <td>-0.186540</td>\n",
       "      <td>-3.575506</td>\n",
       "      <td>-3.095512</td>\n",
       "      <td>...</td>\n",
       "      <td>-5.183629</td>\n",
       "      <td>-2.143729</td>\n",
       "      <td>-2.083800</td>\n",
       "      <td>-0.625227</td>\n",
       "      <td>-1.672333</td>\n",
       "      <td>-1.826249</td>\n",
       "      <td>-4.812046</td>\n",
       "      <td>0.313483</td>\n",
       "      <td>1.508683</td>\n",
       "      <td>-0.257272</td>\n",
       "    </tr>\n",
       "    <tr>\n",
       "      <th>3</th>\n",
       "      <td>-1.240911</td>\n",
       "      <td>-7.545885</td>\n",
       "      <td>-5.644175</td>\n",
       "      <td>1.761390</td>\n",
       "      <td>-2.215093</td>\n",
       "      <td>-1.675385</td>\n",
       "      <td>0.931860</td>\n",
       "      <td>-2.734978</td>\n",
       "      <td>0.209532</td>\n",
       "      <td>-4.369860</td>\n",
       "      <td>...</td>\n",
       "      <td>-5.014966</td>\n",
       "      <td>-0.547995</td>\n",
       "      <td>-1.997234</td>\n",
       "      <td>-2.591177</td>\n",
       "      <td>0.256643</td>\n",
       "      <td>-3.149014</td>\n",
       "      <td>-2.178933</td>\n",
       "      <td>-2.217641</td>\n",
       "      <td>0.947933</td>\n",
       "      <td>2.530837</td>\n",
       "    </tr>\n",
       "    <tr>\n",
       "      <th>4</th>\n",
       "      <td>-1.214285</td>\n",
       "      <td>-2.792402</td>\n",
       "      <td>-2.859502</td>\n",
       "      <td>0.522252</td>\n",
       "      <td>-3.329006</td>\n",
       "      <td>5.188328</td>\n",
       "      <td>0.040030</td>\n",
       "      <td>0.870313</td>\n",
       "      <td>-0.855068</td>\n",
       "      <td>-2.437743</td>\n",
       "      <td>...</td>\n",
       "      <td>-2.765760</td>\n",
       "      <td>-3.909355</td>\n",
       "      <td>-0.510423</td>\n",
       "      <td>-1.422974</td>\n",
       "      <td>0.831243</td>\n",
       "      <td>-3.846287</td>\n",
       "      <td>-2.838117</td>\n",
       "      <td>0.252872</td>\n",
       "      <td>3.382752</td>\n",
       "      <td>1.958392</td>\n",
       "    </tr>\n",
       "    <tr>\n",
       "      <th>...</th>\n",
       "      <td>...</td>\n",
       "      <td>...</td>\n",
       "      <td>...</td>\n",
       "      <td>...</td>\n",
       "      <td>...</td>\n",
       "      <td>...</td>\n",
       "      <td>...</td>\n",
       "      <td>...</td>\n",
       "      <td>...</td>\n",
       "      <td>...</td>\n",
       "      <td>...</td>\n",
       "      <td>...</td>\n",
       "      <td>...</td>\n",
       "      <td>...</td>\n",
       "      <td>...</td>\n",
       "      <td>...</td>\n",
       "      <td>...</td>\n",
       "      <td>...</td>\n",
       "      <td>...</td>\n",
       "      <td>...</td>\n",
       "      <td>...</td>\n",
       "    </tr>\n",
       "    <tr>\n",
       "      <th>364042</th>\n",
       "      <td>2.081017</td>\n",
       "      <td>-7.314420</td>\n",
       "      <td>8.566579</td>\n",
       "      <td>-0.309297</td>\n",
       "      <td>1.824057</td>\n",
       "      <td>-1.800716</td>\n",
       "      <td>1.581949</td>\n",
       "      <td>0.381537</td>\n",
       "      <td>1.649165</td>\n",
       "      <td>-1.735415</td>\n",
       "      <td>...</td>\n",
       "      <td>0.143416</td>\n",
       "      <td>-1.719001</td>\n",
       "      <td>0.596776</td>\n",
       "      <td>0.885950</td>\n",
       "      <td>-0.203514</td>\n",
       "      <td>0.243687</td>\n",
       "      <td>-0.569196</td>\n",
       "      <td>1.108324</td>\n",
       "      <td>-1.715699</td>\n",
       "      <td>0.259476</td>\n",
       "    </tr>\n",
       "    <tr>\n",
       "      <th>364043</th>\n",
       "      <td>0.884326</td>\n",
       "      <td>-2.186222</td>\n",
       "      <td>6.148029</td>\n",
       "      <td>3.325571</td>\n",
       "      <td>14.074191</td>\n",
       "      <td>4.150537</td>\n",
       "      <td>1.042010</td>\n",
       "      <td>3.243976</td>\n",
       "      <td>2.587766</td>\n",
       "      <td>-1.147832</td>\n",
       "      <td>...</td>\n",
       "      <td>0.266136</td>\n",
       "      <td>1.974945</td>\n",
       "      <td>1.283965</td>\n",
       "      <td>-1.979753</td>\n",
       "      <td>0.285304</td>\n",
       "      <td>2.080461</td>\n",
       "      <td>4.952106</td>\n",
       "      <td>1.876104</td>\n",
       "      <td>-1.604289</td>\n",
       "      <td>-1.634543</td>\n",
       "    </tr>\n",
       "    <tr>\n",
       "      <th>364044</th>\n",
       "      <td>1.386953</td>\n",
       "      <td>-9.478232</td>\n",
       "      <td>3.365109</td>\n",
       "      <td>3.498530</td>\n",
       "      <td>2.230966</td>\n",
       "      <td>0.297405</td>\n",
       "      <td>-2.376174</td>\n",
       "      <td>-1.420260</td>\n",
       "      <td>3.050013</td>\n",
       "      <td>4.069092</td>\n",
       "      <td>...</td>\n",
       "      <td>-3.047975</td>\n",
       "      <td>1.621384</td>\n",
       "      <td>0.588765</td>\n",
       "      <td>2.007028</td>\n",
       "      <td>2.347073</td>\n",
       "      <td>-2.376871</td>\n",
       "      <td>1.161152</td>\n",
       "      <td>-1.663997</td>\n",
       "      <td>-2.283985</td>\n",
       "      <td>-0.219270</td>\n",
       "    </tr>\n",
       "    <tr>\n",
       "      <th>364045</th>\n",
       "      <td>11.516807</td>\n",
       "      <td>-1.684870</td>\n",
       "      <td>0.044962</td>\n",
       "      <td>-0.397379</td>\n",
       "      <td>-2.364314</td>\n",
       "      <td>-2.258477</td>\n",
       "      <td>-2.525652</td>\n",
       "      <td>0.415384</td>\n",
       "      <td>1.558364</td>\n",
       "      <td>-2.119358</td>\n",
       "      <td>...</td>\n",
       "      <td>-1.849083</td>\n",
       "      <td>1.184907</td>\n",
       "      <td>0.586788</td>\n",
       "      <td>-0.456083</td>\n",
       "      <td>0.367469</td>\n",
       "      <td>-0.804240</td>\n",
       "      <td>1.702255</td>\n",
       "      <td>-0.819011</td>\n",
       "      <td>-2.050353</td>\n",
       "      <td>-1.100136</td>\n",
       "    </tr>\n",
       "    <tr>\n",
       "      <th>364046</th>\n",
       "      <td>1.617101</td>\n",
       "      <td>-3.305829</td>\n",
       "      <td>6.745355</td>\n",
       "      <td>1.555852</td>\n",
       "      <td>14.015378</td>\n",
       "      <td>4.577562</td>\n",
       "      <td>-0.912113</td>\n",
       "      <td>1.443498</td>\n",
       "      <td>2.537795</td>\n",
       "      <td>-2.261869</td>\n",
       "      <td>...</td>\n",
       "      <td>0.193561</td>\n",
       "      <td>2.795553</td>\n",
       "      <td>2.037425</td>\n",
       "      <td>-0.969996</td>\n",
       "      <td>0.648757</td>\n",
       "      <td>1.065344</td>\n",
       "      <td>5.798449</td>\n",
       "      <td>1.756027</td>\n",
       "      <td>-1.617744</td>\n",
       "      <td>-1.260284</td>\n",
       "    </tr>\n",
       "  </tbody>\n",
       "</table>\n",
       "<p>364047 rows × 25 columns</p>\n",
       "</div>"
      ],
      "text/plain": [
       "                pca_0     pca_1     pca_2     pca_3      pca_4     pca_5  \\\n",
       "article_id                                                                 \n",
       "0           -1.904215  6.079079  1.537288  3.803354  -1.437657  0.300117   \n",
       "1           -5.347634 -4.245106 -2.292850  3.663286   0.028960  3.627160   \n",
       "2           -3.696949 -0.448304 -6.074375 -0.811972  -0.613765  4.426349   \n",
       "3           -1.240911 -7.545885 -5.644175  1.761390  -2.215093 -1.675385   \n",
       "4           -1.214285 -2.792402 -2.859502  0.522252  -3.329006  5.188328   \n",
       "...               ...       ...       ...       ...        ...       ...   \n",
       "364042       2.081017 -7.314420  8.566579 -0.309297   1.824057 -1.800716   \n",
       "364043       0.884326 -2.186222  6.148029  3.325571  14.074191  4.150537   \n",
       "364044       1.386953 -9.478232  3.365109  3.498530   2.230966  0.297405   \n",
       "364045      11.516807 -1.684870  0.044962 -0.397379  -2.364314 -2.258477   \n",
       "364046       1.617101 -3.305829  6.745355  1.555852  14.015378  4.577562   \n",
       "\n",
       "               pca_6     pca_7     pca_8     pca_9  ...    pca_15    pca_16  \\\n",
       "article_id                                          ...                       \n",
       "0           0.414942  1.152953 -0.518427 -1.580563  ...  2.452330 -2.933797   \n",
       "1           1.995622 -2.004382  0.694724 -3.107926  ...  0.388457 -4.107143   \n",
       "2          -1.923623 -0.186540 -3.575506 -3.095512  ... -5.183629 -2.143729   \n",
       "3           0.931860 -2.734978  0.209532 -4.369860  ... -5.014966 -0.547995   \n",
       "4           0.040030  0.870313 -0.855068 -2.437743  ... -2.765760 -3.909355   \n",
       "...              ...       ...       ...       ...  ...       ...       ...   \n",
       "364042      1.581949  0.381537  1.649165 -1.735415  ...  0.143416 -1.719001   \n",
       "364043      1.042010  3.243976  2.587766 -1.147832  ...  0.266136  1.974945   \n",
       "364044     -2.376174 -1.420260  3.050013  4.069092  ... -3.047975  1.621384   \n",
       "364045     -2.525652  0.415384  1.558364 -2.119358  ... -1.849083  1.184907   \n",
       "364046     -0.912113  1.443498  2.537795 -2.261869  ...  0.193561  2.795553   \n",
       "\n",
       "              pca_17    pca_18    pca_19    pca_20    pca_21    pca_22  \\\n",
       "article_id                                                               \n",
       "0          -2.891124  2.202463 -0.271904  1.209298 -4.123378  3.279035   \n",
       "1           1.576031  2.298082  1.705790 -3.961541 -3.657167  1.620356   \n",
       "2          -2.083800 -0.625227 -1.672333 -1.826249 -4.812046  0.313483   \n",
       "3          -1.997234 -2.591177  0.256643 -3.149014 -2.178933 -2.217641   \n",
       "4          -0.510423 -1.422974  0.831243 -3.846287 -2.838117  0.252872   \n",
       "...              ...       ...       ...       ...       ...       ...   \n",
       "364042      0.596776  0.885950 -0.203514  0.243687 -0.569196  1.108324   \n",
       "364043      1.283965 -1.979753  0.285304  2.080461  4.952106  1.876104   \n",
       "364044      0.588765  2.007028  2.347073 -2.376871  1.161152 -1.663997   \n",
       "364045      0.586788 -0.456083  0.367469 -0.804240  1.702255 -0.819011   \n",
       "364046      2.037425 -0.969996  0.648757  1.065344  5.798449  1.756027   \n",
       "\n",
       "              pca_23    pca_24  \n",
       "article_id                      \n",
       "0           0.938082 -1.514533  \n",
       "1          -0.775952  0.864433  \n",
       "2           1.508683 -0.257272  \n",
       "3           0.947933  2.530837  \n",
       "4           3.382752  1.958392  \n",
       "...              ...       ...  \n",
       "364042     -1.715699  0.259476  \n",
       "364043     -1.604289 -1.634543  \n",
       "364044     -2.283985 -0.219270  \n",
       "364045     -2.050353 -1.100136  \n",
       "364046     -1.617744 -1.260284  \n",
       "\n",
       "[364047 rows x 25 columns]"
      ]
     },
     "execution_count": 5,
     "metadata": {},
     "output_type": "execute_result"
    }
   ],
   "source": [
    "articles_pca = PCA(n_components=25, random_state=42).fit_transform(articles_std)\n",
    "\n",
    "articles_features_df = pd.DataFrame(\n",
    "    articles_pca,\n",
    "    columns=[f\"pca_{i}\" for i in range(articles_pca.shape[1])],\n",
    "    index=articles.index,\n",
    ")\n",
    "articles_features_df"
   ]
  },
  {
   "cell_type": "code",
   "execution_count": 6,
   "metadata": {},
   "outputs": [
    {
     "name": "stderr",
     "output_type": "stream",
     "text": [
      "100%|██████████| 25/25 [02:10<00:00,  5.22s/it]\n"
     ]
    },
    {
     "data": {
      "application/vnd.plotly.v1+json": {
       "config": {
        "plotlyServerURL": "https://plot.ly"
       },
       "data": [
        {
         "hovertemplate": "Number of clusters=%{x}<br>Inertia=%{y}<extra></extra>",
         "legendgroup": "",
         "line": {
          "color": "#636efa",
          "dash": "solid"
         },
         "marker": {
          "symbol": "circle"
         },
         "mode": "lines",
         "name": "",
         "orientation": "v",
         "showlegend": false,
         "type": "scatter",
         "x": [
          2,
          2,
          2,
          3,
          4,
          4,
          5,
          6,
          8,
          9,
          11,
          13,
          16,
          19,
          22,
          26,
          32,
          38,
          45,
          53,
          64,
          76,
          90,
          107,
          128
         ],
         "xaxis": "x",
         "y": [
          70376162.41317004,
          70376162.41317004,
          70376162.41317004,
          66513388.03149342,
          65575626.418635786,
          65575626.418635786,
          60999208.376074106,
          60044766.6178197,
          55600339.472421035,
          55714583.79325904,
          53870062.36651242,
          50611827.135300614,
          47088398.999345794,
          43928873.36821313,
          40555314.87083165,
          37104236.27724104,
          34783369.975804836,
          33012391.18912688,
          33311798.347292572,
          30164161.331837192,
          28528475.635254405,
          27398463.596996944,
          26088831.6150835,
          25228648.99453413,
          24161478.580609303
         ],
         "yaxis": "y"
        }
       ],
       "layout": {
        "legend": {
         "tracegroupgap": 0
        },
        "template": {
         "data": {
          "bar": [
           {
            "error_x": {
             "color": "#2a3f5f"
            },
            "error_y": {
             "color": "#2a3f5f"
            },
            "marker": {
             "line": {
              "color": "#E5ECF6",
              "width": 0.5
             },
             "pattern": {
              "fillmode": "overlay",
              "size": 10,
              "solidity": 0.2
             }
            },
            "type": "bar"
           }
          ],
          "barpolar": [
           {
            "marker": {
             "line": {
              "color": "#E5ECF6",
              "width": 0.5
             },
             "pattern": {
              "fillmode": "overlay",
              "size": 10,
              "solidity": 0.2
             }
            },
            "type": "barpolar"
           }
          ],
          "carpet": [
           {
            "aaxis": {
             "endlinecolor": "#2a3f5f",
             "gridcolor": "white",
             "linecolor": "white",
             "minorgridcolor": "white",
             "startlinecolor": "#2a3f5f"
            },
            "baxis": {
             "endlinecolor": "#2a3f5f",
             "gridcolor": "white",
             "linecolor": "white",
             "minorgridcolor": "white",
             "startlinecolor": "#2a3f5f"
            },
            "type": "carpet"
           }
          ],
          "choropleth": [
           {
            "colorbar": {
             "outlinewidth": 0,
             "ticks": ""
            },
            "type": "choropleth"
           }
          ],
          "contour": [
           {
            "colorbar": {
             "outlinewidth": 0,
             "ticks": ""
            },
            "colorscale": [
             [
              0,
              "#0d0887"
             ],
             [
              0.1111111111111111,
              "#46039f"
             ],
             [
              0.2222222222222222,
              "#7201a8"
             ],
             [
              0.3333333333333333,
              "#9c179e"
             ],
             [
              0.4444444444444444,
              "#bd3786"
             ],
             [
              0.5555555555555556,
              "#d8576b"
             ],
             [
              0.6666666666666666,
              "#ed7953"
             ],
             [
              0.7777777777777778,
              "#fb9f3a"
             ],
             [
              0.8888888888888888,
              "#fdca26"
             ],
             [
              1,
              "#f0f921"
             ]
            ],
            "type": "contour"
           }
          ],
          "contourcarpet": [
           {
            "colorbar": {
             "outlinewidth": 0,
             "ticks": ""
            },
            "type": "contourcarpet"
           }
          ],
          "heatmap": [
           {
            "colorbar": {
             "outlinewidth": 0,
             "ticks": ""
            },
            "colorscale": [
             [
              0,
              "#0d0887"
             ],
             [
              0.1111111111111111,
              "#46039f"
             ],
             [
              0.2222222222222222,
              "#7201a8"
             ],
             [
              0.3333333333333333,
              "#9c179e"
             ],
             [
              0.4444444444444444,
              "#bd3786"
             ],
             [
              0.5555555555555556,
              "#d8576b"
             ],
             [
              0.6666666666666666,
              "#ed7953"
             ],
             [
              0.7777777777777778,
              "#fb9f3a"
             ],
             [
              0.8888888888888888,
              "#fdca26"
             ],
             [
              1,
              "#f0f921"
             ]
            ],
            "type": "heatmap"
           }
          ],
          "heatmapgl": [
           {
            "colorbar": {
             "outlinewidth": 0,
             "ticks": ""
            },
            "colorscale": [
             [
              0,
              "#0d0887"
             ],
             [
              0.1111111111111111,
              "#46039f"
             ],
             [
              0.2222222222222222,
              "#7201a8"
             ],
             [
              0.3333333333333333,
              "#9c179e"
             ],
             [
              0.4444444444444444,
              "#bd3786"
             ],
             [
              0.5555555555555556,
              "#d8576b"
             ],
             [
              0.6666666666666666,
              "#ed7953"
             ],
             [
              0.7777777777777778,
              "#fb9f3a"
             ],
             [
              0.8888888888888888,
              "#fdca26"
             ],
             [
              1,
              "#f0f921"
             ]
            ],
            "type": "heatmapgl"
           }
          ],
          "histogram": [
           {
            "marker": {
             "pattern": {
              "fillmode": "overlay",
              "size": 10,
              "solidity": 0.2
             }
            },
            "type": "histogram"
           }
          ],
          "histogram2d": [
           {
            "colorbar": {
             "outlinewidth": 0,
             "ticks": ""
            },
            "colorscale": [
             [
              0,
              "#0d0887"
             ],
             [
              0.1111111111111111,
              "#46039f"
             ],
             [
              0.2222222222222222,
              "#7201a8"
             ],
             [
              0.3333333333333333,
              "#9c179e"
             ],
             [
              0.4444444444444444,
              "#bd3786"
             ],
             [
              0.5555555555555556,
              "#d8576b"
             ],
             [
              0.6666666666666666,
              "#ed7953"
             ],
             [
              0.7777777777777778,
              "#fb9f3a"
             ],
             [
              0.8888888888888888,
              "#fdca26"
             ],
             [
              1,
              "#f0f921"
             ]
            ],
            "type": "histogram2d"
           }
          ],
          "histogram2dcontour": [
           {
            "colorbar": {
             "outlinewidth": 0,
             "ticks": ""
            },
            "colorscale": [
             [
              0,
              "#0d0887"
             ],
             [
              0.1111111111111111,
              "#46039f"
             ],
             [
              0.2222222222222222,
              "#7201a8"
             ],
             [
              0.3333333333333333,
              "#9c179e"
             ],
             [
              0.4444444444444444,
              "#bd3786"
             ],
             [
              0.5555555555555556,
              "#d8576b"
             ],
             [
              0.6666666666666666,
              "#ed7953"
             ],
             [
              0.7777777777777778,
              "#fb9f3a"
             ],
             [
              0.8888888888888888,
              "#fdca26"
             ],
             [
              1,
              "#f0f921"
             ]
            ],
            "type": "histogram2dcontour"
           }
          ],
          "mesh3d": [
           {
            "colorbar": {
             "outlinewidth": 0,
             "ticks": ""
            },
            "type": "mesh3d"
           }
          ],
          "parcoords": [
           {
            "line": {
             "colorbar": {
              "outlinewidth": 0,
              "ticks": ""
             }
            },
            "type": "parcoords"
           }
          ],
          "pie": [
           {
            "automargin": true,
            "type": "pie"
           }
          ],
          "scatter": [
           {
            "fillpattern": {
             "fillmode": "overlay",
             "size": 10,
             "solidity": 0.2
            },
            "type": "scatter"
           }
          ],
          "scatter3d": [
           {
            "line": {
             "colorbar": {
              "outlinewidth": 0,
              "ticks": ""
             }
            },
            "marker": {
             "colorbar": {
              "outlinewidth": 0,
              "ticks": ""
             }
            },
            "type": "scatter3d"
           }
          ],
          "scattercarpet": [
           {
            "marker": {
             "colorbar": {
              "outlinewidth": 0,
              "ticks": ""
             }
            },
            "type": "scattercarpet"
           }
          ],
          "scattergeo": [
           {
            "marker": {
             "colorbar": {
              "outlinewidth": 0,
              "ticks": ""
             }
            },
            "type": "scattergeo"
           }
          ],
          "scattergl": [
           {
            "marker": {
             "colorbar": {
              "outlinewidth": 0,
              "ticks": ""
             }
            },
            "type": "scattergl"
           }
          ],
          "scattermapbox": [
           {
            "marker": {
             "colorbar": {
              "outlinewidth": 0,
              "ticks": ""
             }
            },
            "type": "scattermapbox"
           }
          ],
          "scatterpolar": [
           {
            "marker": {
             "colorbar": {
              "outlinewidth": 0,
              "ticks": ""
             }
            },
            "type": "scatterpolar"
           }
          ],
          "scatterpolargl": [
           {
            "marker": {
             "colorbar": {
              "outlinewidth": 0,
              "ticks": ""
             }
            },
            "type": "scatterpolargl"
           }
          ],
          "scatterternary": [
           {
            "marker": {
             "colorbar": {
              "outlinewidth": 0,
              "ticks": ""
             }
            },
            "type": "scatterternary"
           }
          ],
          "surface": [
           {
            "colorbar": {
             "outlinewidth": 0,
             "ticks": ""
            },
            "colorscale": [
             [
              0,
              "#0d0887"
             ],
             [
              0.1111111111111111,
              "#46039f"
             ],
             [
              0.2222222222222222,
              "#7201a8"
             ],
             [
              0.3333333333333333,
              "#9c179e"
             ],
             [
              0.4444444444444444,
              "#bd3786"
             ],
             [
              0.5555555555555556,
              "#d8576b"
             ],
             [
              0.6666666666666666,
              "#ed7953"
             ],
             [
              0.7777777777777778,
              "#fb9f3a"
             ],
             [
              0.8888888888888888,
              "#fdca26"
             ],
             [
              1,
              "#f0f921"
             ]
            ],
            "type": "surface"
           }
          ],
          "table": [
           {
            "cells": {
             "fill": {
              "color": "#EBF0F8"
             },
             "line": {
              "color": "white"
             }
            },
            "header": {
             "fill": {
              "color": "#C8D4E3"
             },
             "line": {
              "color": "white"
             }
            },
            "type": "table"
           }
          ]
         },
         "layout": {
          "annotationdefaults": {
           "arrowcolor": "#2a3f5f",
           "arrowhead": 0,
           "arrowwidth": 1
          },
          "autotypenumbers": "strict",
          "coloraxis": {
           "colorbar": {
            "outlinewidth": 0,
            "ticks": ""
           }
          },
          "colorscale": {
           "diverging": [
            [
             0,
             "#8e0152"
            ],
            [
             0.1,
             "#c51b7d"
            ],
            [
             0.2,
             "#de77ae"
            ],
            [
             0.3,
             "#f1b6da"
            ],
            [
             0.4,
             "#fde0ef"
            ],
            [
             0.5,
             "#f7f7f7"
            ],
            [
             0.6,
             "#e6f5d0"
            ],
            [
             0.7,
             "#b8e186"
            ],
            [
             0.8,
             "#7fbc41"
            ],
            [
             0.9,
             "#4d9221"
            ],
            [
             1,
             "#276419"
            ]
           ],
           "sequential": [
            [
             0,
             "#0d0887"
            ],
            [
             0.1111111111111111,
             "#46039f"
            ],
            [
             0.2222222222222222,
             "#7201a8"
            ],
            [
             0.3333333333333333,
             "#9c179e"
            ],
            [
             0.4444444444444444,
             "#bd3786"
            ],
            [
             0.5555555555555556,
             "#d8576b"
            ],
            [
             0.6666666666666666,
             "#ed7953"
            ],
            [
             0.7777777777777778,
             "#fb9f3a"
            ],
            [
             0.8888888888888888,
             "#fdca26"
            ],
            [
             1,
             "#f0f921"
            ]
           ],
           "sequentialminus": [
            [
             0,
             "#0d0887"
            ],
            [
             0.1111111111111111,
             "#46039f"
            ],
            [
             0.2222222222222222,
             "#7201a8"
            ],
            [
             0.3333333333333333,
             "#9c179e"
            ],
            [
             0.4444444444444444,
             "#bd3786"
            ],
            [
             0.5555555555555556,
             "#d8576b"
            ],
            [
             0.6666666666666666,
             "#ed7953"
            ],
            [
             0.7777777777777778,
             "#fb9f3a"
            ],
            [
             0.8888888888888888,
             "#fdca26"
            ],
            [
             1,
             "#f0f921"
            ]
           ]
          },
          "colorway": [
           "#636efa",
           "#EF553B",
           "#00cc96",
           "#ab63fa",
           "#FFA15A",
           "#19d3f3",
           "#FF6692",
           "#B6E880",
           "#FF97FF",
           "#FECB52"
          ],
          "font": {
           "color": "#2a3f5f"
          },
          "geo": {
           "bgcolor": "white",
           "lakecolor": "white",
           "landcolor": "#E5ECF6",
           "showlakes": true,
           "showland": true,
           "subunitcolor": "white"
          },
          "hoverlabel": {
           "align": "left"
          },
          "hovermode": "closest",
          "mapbox": {
           "style": "light"
          },
          "paper_bgcolor": "white",
          "plot_bgcolor": "#E5ECF6",
          "polar": {
           "angularaxis": {
            "gridcolor": "white",
            "linecolor": "white",
            "ticks": ""
           },
           "bgcolor": "#E5ECF6",
           "radialaxis": {
            "gridcolor": "white",
            "linecolor": "white",
            "ticks": ""
           }
          },
          "scene": {
           "xaxis": {
            "backgroundcolor": "#E5ECF6",
            "gridcolor": "white",
            "gridwidth": 2,
            "linecolor": "white",
            "showbackground": true,
            "ticks": "",
            "zerolinecolor": "white"
           },
           "yaxis": {
            "backgroundcolor": "#E5ECF6",
            "gridcolor": "white",
            "gridwidth": 2,
            "linecolor": "white",
            "showbackground": true,
            "ticks": "",
            "zerolinecolor": "white"
           },
           "zaxis": {
            "backgroundcolor": "#E5ECF6",
            "gridcolor": "white",
            "gridwidth": 2,
            "linecolor": "white",
            "showbackground": true,
            "ticks": "",
            "zerolinecolor": "white"
           }
          },
          "shapedefaults": {
           "line": {
            "color": "#2a3f5f"
           }
          },
          "ternary": {
           "aaxis": {
            "gridcolor": "white",
            "linecolor": "white",
            "ticks": ""
           },
           "baxis": {
            "gridcolor": "white",
            "linecolor": "white",
            "ticks": ""
           },
           "bgcolor": "#E5ECF6",
           "caxis": {
            "gridcolor": "white",
            "linecolor": "white",
            "ticks": ""
           }
          },
          "title": {
           "x": 0.05
          },
          "xaxis": {
           "automargin": true,
           "gridcolor": "white",
           "linecolor": "white",
           "ticks": "",
           "title": {
            "standoff": 15
           },
           "zerolinecolor": "white",
           "zerolinewidth": 2
          },
          "yaxis": {
           "automargin": true,
           "gridcolor": "white",
           "linecolor": "white",
           "ticks": "",
           "title": {
            "standoff": 15
           },
           "zerolinecolor": "white",
           "zerolinewidth": 2
          }
         }
        },
        "title": {
         "text": "Inertia"
        },
        "xaxis": {
         "anchor": "y",
         "domain": [
          0,
          1
         ],
         "title": {
          "text": "Number of clusters"
         }
        },
        "yaxis": {
         "anchor": "x",
         "domain": [
          0,
          1
         ],
         "title": {
          "text": "Inertia"
         }
        }
       }
      }
     },
     "metadata": {},
     "output_type": "display_data"
    },
    {
     "data": {
      "application/vnd.plotly.v1+json": {
       "config": {
        "plotlyServerURL": "https://plot.ly"
       },
       "data": [
        {
         "hovertemplate": "Number of clusters=%{x}<br>Calinski-Harabasz=%{y}<extra></extra>",
         "legendgroup": "",
         "line": {
          "color": "#636efa",
          "dash": "solid"
         },
         "marker": {
          "symbol": "circle"
         },
         "mode": "lines",
         "name": "",
         "orientation": "v",
         "showlegend": false,
         "type": "scatter",
         "x": [
          2,
          2,
          2,
          3,
          4,
          4,
          5,
          6,
          8,
          9,
          11,
          13,
          16,
          19,
          22,
          26,
          32,
          38,
          45,
          53,
          64,
          76,
          90,
          107,
          128
         ],
         "xaxis": "x",
         "y": [
          29540.380625197824,
          29540.380625197824,
          29540.380625197824,
          25846.77737071875,
          19448.379694077303,
          19448.379694077303,
          22332.180538277375,
          19365.306109064026,
          19049.034808080713,
          17604.639675796403,
          15767.134686136777,
          16004.448487785141,
          15358.295615411385,
          14821.419833959628,
          15160.010114949118,
          15277.57161929424,
          13922.914187186436,
          12842.83189096461,
          11326.52238257677,
          10647.759283862022,
          9614.681881721302,
          8614.318816933563,
          7837.5290951894385,
          6926.85560670991,
          6157.266338447561
         ],
         "yaxis": "y"
        }
       ],
       "layout": {
        "legend": {
         "tracegroupgap": 0
        },
        "template": {
         "data": {
          "bar": [
           {
            "error_x": {
             "color": "#2a3f5f"
            },
            "error_y": {
             "color": "#2a3f5f"
            },
            "marker": {
             "line": {
              "color": "#E5ECF6",
              "width": 0.5
             },
             "pattern": {
              "fillmode": "overlay",
              "size": 10,
              "solidity": 0.2
             }
            },
            "type": "bar"
           }
          ],
          "barpolar": [
           {
            "marker": {
             "line": {
              "color": "#E5ECF6",
              "width": 0.5
             },
             "pattern": {
              "fillmode": "overlay",
              "size": 10,
              "solidity": 0.2
             }
            },
            "type": "barpolar"
           }
          ],
          "carpet": [
           {
            "aaxis": {
             "endlinecolor": "#2a3f5f",
             "gridcolor": "white",
             "linecolor": "white",
             "minorgridcolor": "white",
             "startlinecolor": "#2a3f5f"
            },
            "baxis": {
             "endlinecolor": "#2a3f5f",
             "gridcolor": "white",
             "linecolor": "white",
             "minorgridcolor": "white",
             "startlinecolor": "#2a3f5f"
            },
            "type": "carpet"
           }
          ],
          "choropleth": [
           {
            "colorbar": {
             "outlinewidth": 0,
             "ticks": ""
            },
            "type": "choropleth"
           }
          ],
          "contour": [
           {
            "colorbar": {
             "outlinewidth": 0,
             "ticks": ""
            },
            "colorscale": [
             [
              0,
              "#0d0887"
             ],
             [
              0.1111111111111111,
              "#46039f"
             ],
             [
              0.2222222222222222,
              "#7201a8"
             ],
             [
              0.3333333333333333,
              "#9c179e"
             ],
             [
              0.4444444444444444,
              "#bd3786"
             ],
             [
              0.5555555555555556,
              "#d8576b"
             ],
             [
              0.6666666666666666,
              "#ed7953"
             ],
             [
              0.7777777777777778,
              "#fb9f3a"
             ],
             [
              0.8888888888888888,
              "#fdca26"
             ],
             [
              1,
              "#f0f921"
             ]
            ],
            "type": "contour"
           }
          ],
          "contourcarpet": [
           {
            "colorbar": {
             "outlinewidth": 0,
             "ticks": ""
            },
            "type": "contourcarpet"
           }
          ],
          "heatmap": [
           {
            "colorbar": {
             "outlinewidth": 0,
             "ticks": ""
            },
            "colorscale": [
             [
              0,
              "#0d0887"
             ],
             [
              0.1111111111111111,
              "#46039f"
             ],
             [
              0.2222222222222222,
              "#7201a8"
             ],
             [
              0.3333333333333333,
              "#9c179e"
             ],
             [
              0.4444444444444444,
              "#bd3786"
             ],
             [
              0.5555555555555556,
              "#d8576b"
             ],
             [
              0.6666666666666666,
              "#ed7953"
             ],
             [
              0.7777777777777778,
              "#fb9f3a"
             ],
             [
              0.8888888888888888,
              "#fdca26"
             ],
             [
              1,
              "#f0f921"
             ]
            ],
            "type": "heatmap"
           }
          ],
          "heatmapgl": [
           {
            "colorbar": {
             "outlinewidth": 0,
             "ticks": ""
            },
            "colorscale": [
             [
              0,
              "#0d0887"
             ],
             [
              0.1111111111111111,
              "#46039f"
             ],
             [
              0.2222222222222222,
              "#7201a8"
             ],
             [
              0.3333333333333333,
              "#9c179e"
             ],
             [
              0.4444444444444444,
              "#bd3786"
             ],
             [
              0.5555555555555556,
              "#d8576b"
             ],
             [
              0.6666666666666666,
              "#ed7953"
             ],
             [
              0.7777777777777778,
              "#fb9f3a"
             ],
             [
              0.8888888888888888,
              "#fdca26"
             ],
             [
              1,
              "#f0f921"
             ]
            ],
            "type": "heatmapgl"
           }
          ],
          "histogram": [
           {
            "marker": {
             "pattern": {
              "fillmode": "overlay",
              "size": 10,
              "solidity": 0.2
             }
            },
            "type": "histogram"
           }
          ],
          "histogram2d": [
           {
            "colorbar": {
             "outlinewidth": 0,
             "ticks": ""
            },
            "colorscale": [
             [
              0,
              "#0d0887"
             ],
             [
              0.1111111111111111,
              "#46039f"
             ],
             [
              0.2222222222222222,
              "#7201a8"
             ],
             [
              0.3333333333333333,
              "#9c179e"
             ],
             [
              0.4444444444444444,
              "#bd3786"
             ],
             [
              0.5555555555555556,
              "#d8576b"
             ],
             [
              0.6666666666666666,
              "#ed7953"
             ],
             [
              0.7777777777777778,
              "#fb9f3a"
             ],
             [
              0.8888888888888888,
              "#fdca26"
             ],
             [
              1,
              "#f0f921"
             ]
            ],
            "type": "histogram2d"
           }
          ],
          "histogram2dcontour": [
           {
            "colorbar": {
             "outlinewidth": 0,
             "ticks": ""
            },
            "colorscale": [
             [
              0,
              "#0d0887"
             ],
             [
              0.1111111111111111,
              "#46039f"
             ],
             [
              0.2222222222222222,
              "#7201a8"
             ],
             [
              0.3333333333333333,
              "#9c179e"
             ],
             [
              0.4444444444444444,
              "#bd3786"
             ],
             [
              0.5555555555555556,
              "#d8576b"
             ],
             [
              0.6666666666666666,
              "#ed7953"
             ],
             [
              0.7777777777777778,
              "#fb9f3a"
             ],
             [
              0.8888888888888888,
              "#fdca26"
             ],
             [
              1,
              "#f0f921"
             ]
            ],
            "type": "histogram2dcontour"
           }
          ],
          "mesh3d": [
           {
            "colorbar": {
             "outlinewidth": 0,
             "ticks": ""
            },
            "type": "mesh3d"
           }
          ],
          "parcoords": [
           {
            "line": {
             "colorbar": {
              "outlinewidth": 0,
              "ticks": ""
             }
            },
            "type": "parcoords"
           }
          ],
          "pie": [
           {
            "automargin": true,
            "type": "pie"
           }
          ],
          "scatter": [
           {
            "fillpattern": {
             "fillmode": "overlay",
             "size": 10,
             "solidity": 0.2
            },
            "type": "scatter"
           }
          ],
          "scatter3d": [
           {
            "line": {
             "colorbar": {
              "outlinewidth": 0,
              "ticks": ""
             }
            },
            "marker": {
             "colorbar": {
              "outlinewidth": 0,
              "ticks": ""
             }
            },
            "type": "scatter3d"
           }
          ],
          "scattercarpet": [
           {
            "marker": {
             "colorbar": {
              "outlinewidth": 0,
              "ticks": ""
             }
            },
            "type": "scattercarpet"
           }
          ],
          "scattergeo": [
           {
            "marker": {
             "colorbar": {
              "outlinewidth": 0,
              "ticks": ""
             }
            },
            "type": "scattergeo"
           }
          ],
          "scattergl": [
           {
            "marker": {
             "colorbar": {
              "outlinewidth": 0,
              "ticks": ""
             }
            },
            "type": "scattergl"
           }
          ],
          "scattermapbox": [
           {
            "marker": {
             "colorbar": {
              "outlinewidth": 0,
              "ticks": ""
             }
            },
            "type": "scattermapbox"
           }
          ],
          "scatterpolar": [
           {
            "marker": {
             "colorbar": {
              "outlinewidth": 0,
              "ticks": ""
             }
            },
            "type": "scatterpolar"
           }
          ],
          "scatterpolargl": [
           {
            "marker": {
             "colorbar": {
              "outlinewidth": 0,
              "ticks": ""
             }
            },
            "type": "scatterpolargl"
           }
          ],
          "scatterternary": [
           {
            "marker": {
             "colorbar": {
              "outlinewidth": 0,
              "ticks": ""
             }
            },
            "type": "scatterternary"
           }
          ],
          "surface": [
           {
            "colorbar": {
             "outlinewidth": 0,
             "ticks": ""
            },
            "colorscale": [
             [
              0,
              "#0d0887"
             ],
             [
              0.1111111111111111,
              "#46039f"
             ],
             [
              0.2222222222222222,
              "#7201a8"
             ],
             [
              0.3333333333333333,
              "#9c179e"
             ],
             [
              0.4444444444444444,
              "#bd3786"
             ],
             [
              0.5555555555555556,
              "#d8576b"
             ],
             [
              0.6666666666666666,
              "#ed7953"
             ],
             [
              0.7777777777777778,
              "#fb9f3a"
             ],
             [
              0.8888888888888888,
              "#fdca26"
             ],
             [
              1,
              "#f0f921"
             ]
            ],
            "type": "surface"
           }
          ],
          "table": [
           {
            "cells": {
             "fill": {
              "color": "#EBF0F8"
             },
             "line": {
              "color": "white"
             }
            },
            "header": {
             "fill": {
              "color": "#C8D4E3"
             },
             "line": {
              "color": "white"
             }
            },
            "type": "table"
           }
          ]
         },
         "layout": {
          "annotationdefaults": {
           "arrowcolor": "#2a3f5f",
           "arrowhead": 0,
           "arrowwidth": 1
          },
          "autotypenumbers": "strict",
          "coloraxis": {
           "colorbar": {
            "outlinewidth": 0,
            "ticks": ""
           }
          },
          "colorscale": {
           "diverging": [
            [
             0,
             "#8e0152"
            ],
            [
             0.1,
             "#c51b7d"
            ],
            [
             0.2,
             "#de77ae"
            ],
            [
             0.3,
             "#f1b6da"
            ],
            [
             0.4,
             "#fde0ef"
            ],
            [
             0.5,
             "#f7f7f7"
            ],
            [
             0.6,
             "#e6f5d0"
            ],
            [
             0.7,
             "#b8e186"
            ],
            [
             0.8,
             "#7fbc41"
            ],
            [
             0.9,
             "#4d9221"
            ],
            [
             1,
             "#276419"
            ]
           ],
           "sequential": [
            [
             0,
             "#0d0887"
            ],
            [
             0.1111111111111111,
             "#46039f"
            ],
            [
             0.2222222222222222,
             "#7201a8"
            ],
            [
             0.3333333333333333,
             "#9c179e"
            ],
            [
             0.4444444444444444,
             "#bd3786"
            ],
            [
             0.5555555555555556,
             "#d8576b"
            ],
            [
             0.6666666666666666,
             "#ed7953"
            ],
            [
             0.7777777777777778,
             "#fb9f3a"
            ],
            [
             0.8888888888888888,
             "#fdca26"
            ],
            [
             1,
             "#f0f921"
            ]
           ],
           "sequentialminus": [
            [
             0,
             "#0d0887"
            ],
            [
             0.1111111111111111,
             "#46039f"
            ],
            [
             0.2222222222222222,
             "#7201a8"
            ],
            [
             0.3333333333333333,
             "#9c179e"
            ],
            [
             0.4444444444444444,
             "#bd3786"
            ],
            [
             0.5555555555555556,
             "#d8576b"
            ],
            [
             0.6666666666666666,
             "#ed7953"
            ],
            [
             0.7777777777777778,
             "#fb9f3a"
            ],
            [
             0.8888888888888888,
             "#fdca26"
            ],
            [
             1,
             "#f0f921"
            ]
           ]
          },
          "colorway": [
           "#636efa",
           "#EF553B",
           "#00cc96",
           "#ab63fa",
           "#FFA15A",
           "#19d3f3",
           "#FF6692",
           "#B6E880",
           "#FF97FF",
           "#FECB52"
          ],
          "font": {
           "color": "#2a3f5f"
          },
          "geo": {
           "bgcolor": "white",
           "lakecolor": "white",
           "landcolor": "#E5ECF6",
           "showlakes": true,
           "showland": true,
           "subunitcolor": "white"
          },
          "hoverlabel": {
           "align": "left"
          },
          "hovermode": "closest",
          "mapbox": {
           "style": "light"
          },
          "paper_bgcolor": "white",
          "plot_bgcolor": "#E5ECF6",
          "polar": {
           "angularaxis": {
            "gridcolor": "white",
            "linecolor": "white",
            "ticks": ""
           },
           "bgcolor": "#E5ECF6",
           "radialaxis": {
            "gridcolor": "white",
            "linecolor": "white",
            "ticks": ""
           }
          },
          "scene": {
           "xaxis": {
            "backgroundcolor": "#E5ECF6",
            "gridcolor": "white",
            "gridwidth": 2,
            "linecolor": "white",
            "showbackground": true,
            "ticks": "",
            "zerolinecolor": "white"
           },
           "yaxis": {
            "backgroundcolor": "#E5ECF6",
            "gridcolor": "white",
            "gridwidth": 2,
            "linecolor": "white",
            "showbackground": true,
            "ticks": "",
            "zerolinecolor": "white"
           },
           "zaxis": {
            "backgroundcolor": "#E5ECF6",
            "gridcolor": "white",
            "gridwidth": 2,
            "linecolor": "white",
            "showbackground": true,
            "ticks": "",
            "zerolinecolor": "white"
           }
          },
          "shapedefaults": {
           "line": {
            "color": "#2a3f5f"
           }
          },
          "ternary": {
           "aaxis": {
            "gridcolor": "white",
            "linecolor": "white",
            "ticks": ""
           },
           "baxis": {
            "gridcolor": "white",
            "linecolor": "white",
            "ticks": ""
           },
           "bgcolor": "#E5ECF6",
           "caxis": {
            "gridcolor": "white",
            "linecolor": "white",
            "ticks": ""
           }
          },
          "title": {
           "x": 0.05
          },
          "xaxis": {
           "automargin": true,
           "gridcolor": "white",
           "linecolor": "white",
           "ticks": "",
           "title": {
            "standoff": 15
           },
           "zerolinecolor": "white",
           "zerolinewidth": 2
          },
          "yaxis": {
           "automargin": true,
           "gridcolor": "white",
           "linecolor": "white",
           "ticks": "",
           "title": {
            "standoff": 15
           },
           "zerolinecolor": "white",
           "zerolinewidth": 2
          }
         }
        },
        "title": {
         "text": "Calinski-Harabasz"
        },
        "xaxis": {
         "anchor": "y",
         "domain": [
          0,
          1
         ],
         "title": {
          "text": "Number of clusters"
         }
        },
        "yaxis": {
         "anchor": "x",
         "domain": [
          0,
          1
         ],
         "title": {
          "text": "Calinski-Harabasz"
         }
        }
       }
      }
     },
     "metadata": {},
     "output_type": "display_data"
    },
    {
     "data": {
      "application/vnd.plotly.v1+json": {
       "config": {
        "plotlyServerURL": "https://plot.ly"
       },
       "data": [
        {
         "hovertemplate": "Number of clusters=%{x}<br>Davies-Bouldin=%{y}<extra></extra>",
         "legendgroup": "",
         "line": {
          "color": "#636efa",
          "dash": "solid"
         },
         "marker": {
          "symbol": "circle"
         },
         "mode": "lines",
         "name": "",
         "orientation": "v",
         "showlegend": false,
         "type": "scatter",
         "x": [
          2,
          2,
          2,
          3,
          4,
          4,
          5,
          6,
          8,
          9,
          11,
          13,
          16,
          19,
          22,
          26,
          32,
          38,
          45,
          53,
          64,
          76,
          90,
          107,
          128
         ],
         "xaxis": "x",
         "y": [
          3.4158008805462363,
          3.4158008805462363,
          3.4158008805462363,
          3.09656273349567,
          2.938940625478656,
          2.938940625478656,
          2.7109842505072996,
          2.631701800331544,
          2.2832486134847056,
          2.651620337854495,
          2.5290683721670795,
          2.3158639098306435,
          2.204930374628079,
          2.108438476304756,
          2.1310669748354356,
          1.846849968794057,
          1.9417281522348573,
          1.8863128099665643,
          2.007347576559276,
          1.9426799102190824,
          2.0264070616354384,
          2.070310939133078,
          2.10091185375862,
          2.132019317636016,
          2.179740224669285
         ],
         "yaxis": "y"
        }
       ],
       "layout": {
        "legend": {
         "tracegroupgap": 0
        },
        "template": {
         "data": {
          "bar": [
           {
            "error_x": {
             "color": "#2a3f5f"
            },
            "error_y": {
             "color": "#2a3f5f"
            },
            "marker": {
             "line": {
              "color": "#E5ECF6",
              "width": 0.5
             },
             "pattern": {
              "fillmode": "overlay",
              "size": 10,
              "solidity": 0.2
             }
            },
            "type": "bar"
           }
          ],
          "barpolar": [
           {
            "marker": {
             "line": {
              "color": "#E5ECF6",
              "width": 0.5
             },
             "pattern": {
              "fillmode": "overlay",
              "size": 10,
              "solidity": 0.2
             }
            },
            "type": "barpolar"
           }
          ],
          "carpet": [
           {
            "aaxis": {
             "endlinecolor": "#2a3f5f",
             "gridcolor": "white",
             "linecolor": "white",
             "minorgridcolor": "white",
             "startlinecolor": "#2a3f5f"
            },
            "baxis": {
             "endlinecolor": "#2a3f5f",
             "gridcolor": "white",
             "linecolor": "white",
             "minorgridcolor": "white",
             "startlinecolor": "#2a3f5f"
            },
            "type": "carpet"
           }
          ],
          "choropleth": [
           {
            "colorbar": {
             "outlinewidth": 0,
             "ticks": ""
            },
            "type": "choropleth"
           }
          ],
          "contour": [
           {
            "colorbar": {
             "outlinewidth": 0,
             "ticks": ""
            },
            "colorscale": [
             [
              0,
              "#0d0887"
             ],
             [
              0.1111111111111111,
              "#46039f"
             ],
             [
              0.2222222222222222,
              "#7201a8"
             ],
             [
              0.3333333333333333,
              "#9c179e"
             ],
             [
              0.4444444444444444,
              "#bd3786"
             ],
             [
              0.5555555555555556,
              "#d8576b"
             ],
             [
              0.6666666666666666,
              "#ed7953"
             ],
             [
              0.7777777777777778,
              "#fb9f3a"
             ],
             [
              0.8888888888888888,
              "#fdca26"
             ],
             [
              1,
              "#f0f921"
             ]
            ],
            "type": "contour"
           }
          ],
          "contourcarpet": [
           {
            "colorbar": {
             "outlinewidth": 0,
             "ticks": ""
            },
            "type": "contourcarpet"
           }
          ],
          "heatmap": [
           {
            "colorbar": {
             "outlinewidth": 0,
             "ticks": ""
            },
            "colorscale": [
             [
              0,
              "#0d0887"
             ],
             [
              0.1111111111111111,
              "#46039f"
             ],
             [
              0.2222222222222222,
              "#7201a8"
             ],
             [
              0.3333333333333333,
              "#9c179e"
             ],
             [
              0.4444444444444444,
              "#bd3786"
             ],
             [
              0.5555555555555556,
              "#d8576b"
             ],
             [
              0.6666666666666666,
              "#ed7953"
             ],
             [
              0.7777777777777778,
              "#fb9f3a"
             ],
             [
              0.8888888888888888,
              "#fdca26"
             ],
             [
              1,
              "#f0f921"
             ]
            ],
            "type": "heatmap"
           }
          ],
          "heatmapgl": [
           {
            "colorbar": {
             "outlinewidth": 0,
             "ticks": ""
            },
            "colorscale": [
             [
              0,
              "#0d0887"
             ],
             [
              0.1111111111111111,
              "#46039f"
             ],
             [
              0.2222222222222222,
              "#7201a8"
             ],
             [
              0.3333333333333333,
              "#9c179e"
             ],
             [
              0.4444444444444444,
              "#bd3786"
             ],
             [
              0.5555555555555556,
              "#d8576b"
             ],
             [
              0.6666666666666666,
              "#ed7953"
             ],
             [
              0.7777777777777778,
              "#fb9f3a"
             ],
             [
              0.8888888888888888,
              "#fdca26"
             ],
             [
              1,
              "#f0f921"
             ]
            ],
            "type": "heatmapgl"
           }
          ],
          "histogram": [
           {
            "marker": {
             "pattern": {
              "fillmode": "overlay",
              "size": 10,
              "solidity": 0.2
             }
            },
            "type": "histogram"
           }
          ],
          "histogram2d": [
           {
            "colorbar": {
             "outlinewidth": 0,
             "ticks": ""
            },
            "colorscale": [
             [
              0,
              "#0d0887"
             ],
             [
              0.1111111111111111,
              "#46039f"
             ],
             [
              0.2222222222222222,
              "#7201a8"
             ],
             [
              0.3333333333333333,
              "#9c179e"
             ],
             [
              0.4444444444444444,
              "#bd3786"
             ],
             [
              0.5555555555555556,
              "#d8576b"
             ],
             [
              0.6666666666666666,
              "#ed7953"
             ],
             [
              0.7777777777777778,
              "#fb9f3a"
             ],
             [
              0.8888888888888888,
              "#fdca26"
             ],
             [
              1,
              "#f0f921"
             ]
            ],
            "type": "histogram2d"
           }
          ],
          "histogram2dcontour": [
           {
            "colorbar": {
             "outlinewidth": 0,
             "ticks": ""
            },
            "colorscale": [
             [
              0,
              "#0d0887"
             ],
             [
              0.1111111111111111,
              "#46039f"
             ],
             [
              0.2222222222222222,
              "#7201a8"
             ],
             [
              0.3333333333333333,
              "#9c179e"
             ],
             [
              0.4444444444444444,
              "#bd3786"
             ],
             [
              0.5555555555555556,
              "#d8576b"
             ],
             [
              0.6666666666666666,
              "#ed7953"
             ],
             [
              0.7777777777777778,
              "#fb9f3a"
             ],
             [
              0.8888888888888888,
              "#fdca26"
             ],
             [
              1,
              "#f0f921"
             ]
            ],
            "type": "histogram2dcontour"
           }
          ],
          "mesh3d": [
           {
            "colorbar": {
             "outlinewidth": 0,
             "ticks": ""
            },
            "type": "mesh3d"
           }
          ],
          "parcoords": [
           {
            "line": {
             "colorbar": {
              "outlinewidth": 0,
              "ticks": ""
             }
            },
            "type": "parcoords"
           }
          ],
          "pie": [
           {
            "automargin": true,
            "type": "pie"
           }
          ],
          "scatter": [
           {
            "fillpattern": {
             "fillmode": "overlay",
             "size": 10,
             "solidity": 0.2
            },
            "type": "scatter"
           }
          ],
          "scatter3d": [
           {
            "line": {
             "colorbar": {
              "outlinewidth": 0,
              "ticks": ""
             }
            },
            "marker": {
             "colorbar": {
              "outlinewidth": 0,
              "ticks": ""
             }
            },
            "type": "scatter3d"
           }
          ],
          "scattercarpet": [
           {
            "marker": {
             "colorbar": {
              "outlinewidth": 0,
              "ticks": ""
             }
            },
            "type": "scattercarpet"
           }
          ],
          "scattergeo": [
           {
            "marker": {
             "colorbar": {
              "outlinewidth": 0,
              "ticks": ""
             }
            },
            "type": "scattergeo"
           }
          ],
          "scattergl": [
           {
            "marker": {
             "colorbar": {
              "outlinewidth": 0,
              "ticks": ""
             }
            },
            "type": "scattergl"
           }
          ],
          "scattermapbox": [
           {
            "marker": {
             "colorbar": {
              "outlinewidth": 0,
              "ticks": ""
             }
            },
            "type": "scattermapbox"
           }
          ],
          "scatterpolar": [
           {
            "marker": {
             "colorbar": {
              "outlinewidth": 0,
              "ticks": ""
             }
            },
            "type": "scatterpolar"
           }
          ],
          "scatterpolargl": [
           {
            "marker": {
             "colorbar": {
              "outlinewidth": 0,
              "ticks": ""
             }
            },
            "type": "scatterpolargl"
           }
          ],
          "scatterternary": [
           {
            "marker": {
             "colorbar": {
              "outlinewidth": 0,
              "ticks": ""
             }
            },
            "type": "scatterternary"
           }
          ],
          "surface": [
           {
            "colorbar": {
             "outlinewidth": 0,
             "ticks": ""
            },
            "colorscale": [
             [
              0,
              "#0d0887"
             ],
             [
              0.1111111111111111,
              "#46039f"
             ],
             [
              0.2222222222222222,
              "#7201a8"
             ],
             [
              0.3333333333333333,
              "#9c179e"
             ],
             [
              0.4444444444444444,
              "#bd3786"
             ],
             [
              0.5555555555555556,
              "#d8576b"
             ],
             [
              0.6666666666666666,
              "#ed7953"
             ],
             [
              0.7777777777777778,
              "#fb9f3a"
             ],
             [
              0.8888888888888888,
              "#fdca26"
             ],
             [
              1,
              "#f0f921"
             ]
            ],
            "type": "surface"
           }
          ],
          "table": [
           {
            "cells": {
             "fill": {
              "color": "#EBF0F8"
             },
             "line": {
              "color": "white"
             }
            },
            "header": {
             "fill": {
              "color": "#C8D4E3"
             },
             "line": {
              "color": "white"
             }
            },
            "type": "table"
           }
          ]
         },
         "layout": {
          "annotationdefaults": {
           "arrowcolor": "#2a3f5f",
           "arrowhead": 0,
           "arrowwidth": 1
          },
          "autotypenumbers": "strict",
          "coloraxis": {
           "colorbar": {
            "outlinewidth": 0,
            "ticks": ""
           }
          },
          "colorscale": {
           "diverging": [
            [
             0,
             "#8e0152"
            ],
            [
             0.1,
             "#c51b7d"
            ],
            [
             0.2,
             "#de77ae"
            ],
            [
             0.3,
             "#f1b6da"
            ],
            [
             0.4,
             "#fde0ef"
            ],
            [
             0.5,
             "#f7f7f7"
            ],
            [
             0.6,
             "#e6f5d0"
            ],
            [
             0.7,
             "#b8e186"
            ],
            [
             0.8,
             "#7fbc41"
            ],
            [
             0.9,
             "#4d9221"
            ],
            [
             1,
             "#276419"
            ]
           ],
           "sequential": [
            [
             0,
             "#0d0887"
            ],
            [
             0.1111111111111111,
             "#46039f"
            ],
            [
             0.2222222222222222,
             "#7201a8"
            ],
            [
             0.3333333333333333,
             "#9c179e"
            ],
            [
             0.4444444444444444,
             "#bd3786"
            ],
            [
             0.5555555555555556,
             "#d8576b"
            ],
            [
             0.6666666666666666,
             "#ed7953"
            ],
            [
             0.7777777777777778,
             "#fb9f3a"
            ],
            [
             0.8888888888888888,
             "#fdca26"
            ],
            [
             1,
             "#f0f921"
            ]
           ],
           "sequentialminus": [
            [
             0,
             "#0d0887"
            ],
            [
             0.1111111111111111,
             "#46039f"
            ],
            [
             0.2222222222222222,
             "#7201a8"
            ],
            [
             0.3333333333333333,
             "#9c179e"
            ],
            [
             0.4444444444444444,
             "#bd3786"
            ],
            [
             0.5555555555555556,
             "#d8576b"
            ],
            [
             0.6666666666666666,
             "#ed7953"
            ],
            [
             0.7777777777777778,
             "#fb9f3a"
            ],
            [
             0.8888888888888888,
             "#fdca26"
            ],
            [
             1,
             "#f0f921"
            ]
           ]
          },
          "colorway": [
           "#636efa",
           "#EF553B",
           "#00cc96",
           "#ab63fa",
           "#FFA15A",
           "#19d3f3",
           "#FF6692",
           "#B6E880",
           "#FF97FF",
           "#FECB52"
          ],
          "font": {
           "color": "#2a3f5f"
          },
          "geo": {
           "bgcolor": "white",
           "lakecolor": "white",
           "landcolor": "#E5ECF6",
           "showlakes": true,
           "showland": true,
           "subunitcolor": "white"
          },
          "hoverlabel": {
           "align": "left"
          },
          "hovermode": "closest",
          "mapbox": {
           "style": "light"
          },
          "paper_bgcolor": "white",
          "plot_bgcolor": "#E5ECF6",
          "polar": {
           "angularaxis": {
            "gridcolor": "white",
            "linecolor": "white",
            "ticks": ""
           },
           "bgcolor": "#E5ECF6",
           "radialaxis": {
            "gridcolor": "white",
            "linecolor": "white",
            "ticks": ""
           }
          },
          "scene": {
           "xaxis": {
            "backgroundcolor": "#E5ECF6",
            "gridcolor": "white",
            "gridwidth": 2,
            "linecolor": "white",
            "showbackground": true,
            "ticks": "",
            "zerolinecolor": "white"
           },
           "yaxis": {
            "backgroundcolor": "#E5ECF6",
            "gridcolor": "white",
            "gridwidth": 2,
            "linecolor": "white",
            "showbackground": true,
            "ticks": "",
            "zerolinecolor": "white"
           },
           "zaxis": {
            "backgroundcolor": "#E5ECF6",
            "gridcolor": "white",
            "gridwidth": 2,
            "linecolor": "white",
            "showbackground": true,
            "ticks": "",
            "zerolinecolor": "white"
           }
          },
          "shapedefaults": {
           "line": {
            "color": "#2a3f5f"
           }
          },
          "ternary": {
           "aaxis": {
            "gridcolor": "white",
            "linecolor": "white",
            "ticks": ""
           },
           "baxis": {
            "gridcolor": "white",
            "linecolor": "white",
            "ticks": ""
           },
           "bgcolor": "#E5ECF6",
           "caxis": {
            "gridcolor": "white",
            "linecolor": "white",
            "ticks": ""
           }
          },
          "title": {
           "x": 0.05
          },
          "xaxis": {
           "automargin": true,
           "gridcolor": "white",
           "linecolor": "white",
           "ticks": "",
           "title": {
            "standoff": 15
           },
           "zerolinecolor": "white",
           "zerolinewidth": 2
          },
          "yaxis": {
           "automargin": true,
           "gridcolor": "white",
           "linecolor": "white",
           "ticks": "",
           "title": {
            "standoff": 15
           },
           "zerolinecolor": "white",
           "zerolinewidth": 2
          }
         }
        },
        "title": {
         "text": "Davies-Bouldin"
        },
        "xaxis": {
         "anchor": "y",
         "domain": [
          0,
          1
         ],
         "title": {
          "text": "Number of clusters"
         }
        },
        "yaxis": {
         "anchor": "x",
         "domain": [
          0,
          1
         ],
         "title": {
          "text": "Davies-Bouldin"
         }
        }
       }
      }
     },
     "metadata": {},
     "output_type": "display_data"
    }
   ],
   "source": [
    "num_clusters = np.logspace(1, 7, num=25, base=2).astype(int)\n",
    "inertia = []\n",
    "calinski_harabasz = []\n",
    "davies_bouldin = []\n",
    "for k in tqdm(num_clusters):\n",
    "    kmeans = MiniBatchKMeans(n_clusters=k, random_state=42).fit(articles_pca)\n",
    "    inertia.append(kmeans.inertia_)\n",
    "    calinski_harabasz.append(calinski_harabasz_score(articles_pca, kmeans.labels_))\n",
    "    davies_bouldin.append(davies_bouldin_score(articles_pca, kmeans.labels_))\n",
    "\n",
    "\n",
    "fig = px.line(\n",
    "    x=num_clusters,\n",
    "    y=inertia,\n",
    "    title=\"Inertia\",\n",
    "    labels={\"x\": \"Number of clusters\", \"y\": \"Inertia\"},\n",
    ")\n",
    "fig.show()\n",
    "\n",
    "fig = px.line(\n",
    "    x=num_clusters,\n",
    "    y=calinski_harabasz,\n",
    "    title=\"Calinski-Harabasz\",\n",
    "    labels={\"x\": \"Number of clusters\", \"y\": \"Calinski-Harabasz\"},\n",
    ")\n",
    "fig.show()\n",
    "\n",
    "fig = px.line(\n",
    "    x=num_clusters,\n",
    "    y=davies_bouldin,\n",
    "    title=\"Davies-Bouldin\",\n",
    "    labels={\"x\": \"Number of clusters\", \"y\": \"Davies-Bouldin\"},\n",
    ")\n",
    "fig.show()"
   ]
  },
  {
   "cell_type": "code",
   "execution_count": 7,
   "metadata": {},
   "outputs": [
    {
     "data": {
      "text/plain": [
       "array([19,  5, 29, ..., 17,  8,  4], dtype=int32)"
      ]
     },
     "execution_count": 7,
     "metadata": {},
     "output_type": "execute_result"
    }
   ],
   "source": [
    "articles_clusters = MiniBatchKMeans(n_clusters=30, random_state=42).fit_predict(\n",
    "    articles_pca\n",
    ")\n",
    "\n",
    "articles_clusters"
   ]
  },
  {
   "cell_type": "code",
   "execution_count": 8,
   "metadata": {},
   "outputs": [
    {
     "name": "stderr",
     "output_type": "stream",
     "text": [
      "100%|██████████| 385/385 [01:31<00:00,  4.23it/s]\n"
     ]
    },
    {
     "data": {
      "text/html": [
       "<div>\n",
       "<style scoped>\n",
       "    .dataframe tbody tr th:only-of-type {\n",
       "        vertical-align: middle;\n",
       "    }\n",
       "\n",
       "    .dataframe tbody tr th {\n",
       "        vertical-align: top;\n",
       "    }\n",
       "\n",
       "    .dataframe thead th {\n",
       "        text-align: right;\n",
       "    }\n",
       "</style>\n",
       "<table border=\"1\" class=\"dataframe\">\n",
       "  <thead>\n",
       "    <tr style=\"text-align: right;\">\n",
       "      <th></th>\n",
       "      <th>user_id</th>\n",
       "      <th>session_id</th>\n",
       "      <th>session_start</th>\n",
       "      <th>session_size</th>\n",
       "      <th>click_article_id</th>\n",
       "      <th>click_timestamp</th>\n",
       "      <th>click_environment</th>\n",
       "      <th>click_deviceGroup</th>\n",
       "      <th>click_os</th>\n",
       "      <th>click_country</th>\n",
       "      <th>click_region</th>\n",
       "      <th>click_referrer_type</th>\n",
       "    </tr>\n",
       "  </thead>\n",
       "  <tbody>\n",
       "    <tr>\n",
       "      <th>count</th>\n",
       "      <td>2988181</td>\n",
       "      <td>2988181</td>\n",
       "      <td>2988181</td>\n",
       "      <td>2.988181e+06</td>\n",
       "      <td>2988181</td>\n",
       "      <td>2988181</td>\n",
       "      <td>2988181</td>\n",
       "      <td>2988181</td>\n",
       "      <td>2988181</td>\n",
       "      <td>2988181</td>\n",
       "      <td>2988181</td>\n",
       "      <td>2988181</td>\n",
       "    </tr>\n",
       "    <tr>\n",
       "      <th>unique</th>\n",
       "      <td>322897</td>\n",
       "      <td>1048594</td>\n",
       "      <td>NaN</td>\n",
       "      <td>NaN</td>\n",
       "      <td>46033</td>\n",
       "      <td>NaN</td>\n",
       "      <td>3</td>\n",
       "      <td>5</td>\n",
       "      <td>8</td>\n",
       "      <td>11</td>\n",
       "      <td>28</td>\n",
       "      <td>7</td>\n",
       "    </tr>\n",
       "    <tr>\n",
       "      <th>top</th>\n",
       "      <td>5890</td>\n",
       "      <td>1507563657895091</td>\n",
       "      <td>NaN</td>\n",
       "      <td>NaN</td>\n",
       "      <td>160974</td>\n",
       "      <td>NaN</td>\n",
       "      <td>4 - Web</td>\n",
       "      <td>1 - Tablet</td>\n",
       "      <td>17 - Firefox OS</td>\n",
       "      <td>1</td>\n",
       "      <td>25</td>\n",
       "      <td>2</td>\n",
       "    </tr>\n",
       "    <tr>\n",
       "      <th>freq</th>\n",
       "      <td>1232</td>\n",
       "      <td>124</td>\n",
       "      <td>NaN</td>\n",
       "      <td>NaN</td>\n",
       "      <td>37213</td>\n",
       "      <td>NaN</td>\n",
       "      <td>2904478</td>\n",
       "      <td>1823162</td>\n",
       "      <td>1738138</td>\n",
       "      <td>2852406</td>\n",
       "      <td>804985</td>\n",
       "      <td>1602601</td>\n",
       "    </tr>\n",
       "    <tr>\n",
       "      <th>mean</th>\n",
       "      <td>NaN</td>\n",
       "      <td>NaN</td>\n",
       "      <td>2017-10-08 16:17:08.013155328</td>\n",
       "      <td>3.901885e+00</td>\n",
       "      <td>NaN</td>\n",
       "      <td>2017-10-08 16:51:05.070374400</td>\n",
       "      <td>NaN</td>\n",
       "      <td>NaN</td>\n",
       "      <td>NaN</td>\n",
       "      <td>NaN</td>\n",
       "      <td>NaN</td>\n",
       "      <td>NaN</td>\n",
       "    </tr>\n",
       "    <tr>\n",
       "      <th>min</th>\n",
       "      <td>NaN</td>\n",
       "      <td>NaN</td>\n",
       "      <td>2017-10-01 04:37:03</td>\n",
       "      <td>2.000000e+00</td>\n",
       "      <td>NaN</td>\n",
       "      <td>2017-10-01 05:00:00</td>\n",
       "      <td>NaN</td>\n",
       "      <td>NaN</td>\n",
       "      <td>NaN</td>\n",
       "      <td>NaN</td>\n",
       "      <td>NaN</td>\n",
       "      <td>NaN</td>\n",
       "    </tr>\n",
       "    <tr>\n",
       "      <th>25%</th>\n",
       "      <td>NaN</td>\n",
       "      <td>NaN</td>\n",
       "      <td>2017-10-04 15:35:52</td>\n",
       "      <td>2.000000e+00</td>\n",
       "      <td>NaN</td>\n",
       "      <td>2017-10-04 16:20:52</td>\n",
       "      <td>NaN</td>\n",
       "      <td>NaN</td>\n",
       "      <td>NaN</td>\n",
       "      <td>NaN</td>\n",
       "      <td>NaN</td>\n",
       "      <td>NaN</td>\n",
       "    </tr>\n",
       "    <tr>\n",
       "      <th>50%</th>\n",
       "      <td>NaN</td>\n",
       "      <td>NaN</td>\n",
       "      <td>2017-10-08 22:09:00</td>\n",
       "      <td>3.000000e+00</td>\n",
       "      <td>NaN</td>\n",
       "      <td>2017-10-08 22:35:30</td>\n",
       "      <td>NaN</td>\n",
       "      <td>NaN</td>\n",
       "      <td>NaN</td>\n",
       "      <td>NaN</td>\n",
       "      <td>NaN</td>\n",
       "      <td>NaN</td>\n",
       "    </tr>\n",
       "    <tr>\n",
       "      <th>75%</th>\n",
       "      <td>NaN</td>\n",
       "      <td>NaN</td>\n",
       "      <td>2017-10-11 21:16:54</td>\n",
       "      <td>4.000000e+00</td>\n",
       "      <td>NaN</td>\n",
       "      <td>2017-10-11 21:43:24</td>\n",
       "      <td>NaN</td>\n",
       "      <td>NaN</td>\n",
       "      <td>NaN</td>\n",
       "      <td>NaN</td>\n",
       "      <td>NaN</td>\n",
       "      <td>NaN</td>\n",
       "    </tr>\n",
       "    <tr>\n",
       "      <th>max</th>\n",
       "      <td>NaN</td>\n",
       "      <td>NaN</td>\n",
       "      <td>2017-10-17 05:36:19</td>\n",
       "      <td>1.240000e+02</td>\n",
       "      <td>NaN</td>\n",
       "      <td>2017-11-13 21:04:14</td>\n",
       "      <td>NaN</td>\n",
       "      <td>NaN</td>\n",
       "      <td>NaN</td>\n",
       "      <td>NaN</td>\n",
       "      <td>NaN</td>\n",
       "      <td>NaN</td>\n",
       "    </tr>\n",
       "    <tr>\n",
       "      <th>std</th>\n",
       "      <td>NaN</td>\n",
       "      <td>NaN</td>\n",
       "      <td>NaN</td>\n",
       "      <td>3.929941e+00</td>\n",
       "      <td>NaN</td>\n",
       "      <td>NaN</td>\n",
       "      <td>NaN</td>\n",
       "      <td>NaN</td>\n",
       "      <td>NaN</td>\n",
       "      <td>NaN</td>\n",
       "      <td>NaN</td>\n",
       "      <td>NaN</td>\n",
       "    </tr>\n",
       "  </tbody>\n",
       "</table>\n",
       "</div>"
      ],
      "text/plain": [
       "        user_id        session_id                  session_start  \\\n",
       "count   2988181           2988181                        2988181   \n",
       "unique   322897           1048594                            NaN   \n",
       "top        5890  1507563657895091                            NaN   \n",
       "freq       1232               124                            NaN   \n",
       "mean        NaN               NaN  2017-10-08 16:17:08.013155328   \n",
       "min         NaN               NaN            2017-10-01 04:37:03   \n",
       "25%         NaN               NaN            2017-10-04 15:35:52   \n",
       "50%         NaN               NaN            2017-10-08 22:09:00   \n",
       "75%         NaN               NaN            2017-10-11 21:16:54   \n",
       "max         NaN               NaN            2017-10-17 05:36:19   \n",
       "std         NaN               NaN                            NaN   \n",
       "\n",
       "        session_size click_article_id                click_timestamp  \\\n",
       "count   2.988181e+06          2988181                        2988181   \n",
       "unique           NaN            46033                            NaN   \n",
       "top              NaN           160974                            NaN   \n",
       "freq             NaN            37213                            NaN   \n",
       "mean    3.901885e+00              NaN  2017-10-08 16:51:05.070374400   \n",
       "min     2.000000e+00              NaN            2017-10-01 05:00:00   \n",
       "25%     2.000000e+00              NaN            2017-10-04 16:20:52   \n",
       "50%     3.000000e+00              NaN            2017-10-08 22:35:30   \n",
       "75%     4.000000e+00              NaN            2017-10-11 21:43:24   \n",
       "max     1.240000e+02              NaN            2017-11-13 21:04:14   \n",
       "std     3.929941e+00              NaN                            NaN   \n",
       "\n",
       "       click_environment click_deviceGroup         click_os click_country  \\\n",
       "count            2988181           2988181          2988181       2988181   \n",
       "unique                 3                 5                8            11   \n",
       "top              4 - Web        1 - Tablet  17 - Firefox OS             1   \n",
       "freq             2904478           1823162          1738138       2852406   \n",
       "mean                 NaN               NaN              NaN           NaN   \n",
       "min                  NaN               NaN              NaN           NaN   \n",
       "25%                  NaN               NaN              NaN           NaN   \n",
       "50%                  NaN               NaN              NaN           NaN   \n",
       "75%                  NaN               NaN              NaN           NaN   \n",
       "max                  NaN               NaN              NaN           NaN   \n",
       "std                  NaN               NaN              NaN           NaN   \n",
       "\n",
       "       click_region click_referrer_type  \n",
       "count       2988181             2988181  \n",
       "unique           28                   7  \n",
       "top              25                   2  \n",
       "freq         804985             1602601  \n",
       "mean            NaN                 NaN  \n",
       "min             NaN                 NaN  \n",
       "25%             NaN                 NaN  \n",
       "50%             NaN                 NaN  \n",
       "75%             NaN                 NaN  \n",
       "max             NaN                 NaN  \n",
       "std             NaN                 NaN  "
      ]
     },
     "execution_count": 8,
     "metadata": {},
     "output_type": "execute_result"
    }
   ],
   "source": [
    "clicks = pd.concat(\n",
    "    [\n",
    "        pd.read_csv(\n",
    "            click_file_path,\n",
    "            parse_dates=[\"session_start\", \"click_timestamp\"],\n",
    "            date_parser=lambda x: datetime.fromtimestamp(int(int(x) / 1000)),\n",
    "            dtype={\n",
    "                \"user_id\": \"category\",\n",
    "                \"session_id\": \"category\",\n",
    "                \"session_size\": \"int\",\n",
    "                \"click_article_id\": \"category\",\n",
    "                \"click_environment\": \"category\",\n",
    "                \"click_deviceGroup\": \"category\",\n",
    "                \"click_os\": \"category\",\n",
    "                \"click_country\": \"category\",\n",
    "                \"click_region\": \"category\",\n",
    "                \"click_referrer_type\": \"category\",\n",
    "            },\n",
    "        ).replace(\n",
    "            {\n",
    "                \"click_environment\": {\n",
    "                    \"1\": \"1 - Facebook Instant Article\",\n",
    "                    \"2\": \"2 - Mobile App\",\n",
    "                    \"3\": \"3 - AMP (Accelerated Mobile Pages)\",\n",
    "                    \"4\": \"4 - Web\",\n",
    "                },\n",
    "                \"click_deviceGroup\": {\n",
    "                    \"1\": \"1 - Tablet\",\n",
    "                    \"2\": \"2 - TV\",\n",
    "                    \"3\": \"3 - Empty\",\n",
    "                    \"4\": \"4 - Mobile\",\n",
    "                    \"5\": \"5 - Desktop\",\n",
    "                },\n",
    "                \"click_os\": {\n",
    "                    \"1\": \"1 - Other\",\n",
    "                    \"2\": \"2 - iOS\",\n",
    "                    \"3\": \"3 - Android\",\n",
    "                    \"4\": \"4 - Windows Phone\",\n",
    "                    \"5\": \"5 - Windows Mobile\",\n",
    "                    \"6\": \"6 - Windows\",\n",
    "                    \"7\": \"7 - Mac OS X\",\n",
    "                    \"8\": \"8 - Mac OS\",\n",
    "                    \"9\": \"9 - Samsung\",\n",
    "                    \"10\": \"10 - FireHbbTV\",\n",
    "                    \"11\": \"11 - ATV OS X\",\n",
    "                    \"12\": \"12 - tvOS\",\n",
    "                    \"13\": \"13 - Chrome OS\",\n",
    "                    \"14\": \"14 - Debian\",\n",
    "                    \"15\": \"15 - Symbian OS\",\n",
    "                    \"16\": \"16 - BlackBerry OS\",\n",
    "                    \"17\": \"17 - Firefox OS\",\n",
    "                    \"18\": \"18 - Android\",\n",
    "                    \"19\": \"19 - Brew MP\",\n",
    "                    \"20\": \"20 - Chromecast\",\n",
    "                    \"21\": \"21 - webOS\",\n",
    "                    \"22\": \"22 - Gentoo\",\n",
    "                    \"23\": \"23 - Solaris\",\n",
    "                },\n",
    "            }\n",
    "        )\n",
    "        for click_file_path in tqdm(\n",
    "            sorted(Path(RAW_DATA_PATH, \"clicks/clicks\").glob(\"clicks_hour_*.csv\"))\n",
    "        )\n",
    "    ],\n",
    "    sort=False,\n",
    "    ignore_index=True,\n",
    "    verify_integrity=True,\n",
    ")\n",
    "\n",
    "clicks = data_helpers.reduce_dataframe_memory_usage(\n",
    "    clicks.astype(\n",
    "        {\n",
    "            \"session_start\": \"datetime64[ns]\",\n",
    "            \"session_size\": \"int\",\n",
    "            \"click_timestamp\": \"datetime64[ns]\",\n",
    "        }\n",
    "    )\n",
    ")\n",
    "\n",
    "clicks.describe(include=\"all\", datetime_is_numeric=True)"
   ]
  },
  {
   "cell_type": "code",
   "execution_count": 9,
   "metadata": {},
   "outputs": [
    {
     "data": {
      "text/html": [
       "<div>\n",
       "<style scoped>\n",
       "    .dataframe tbody tr th:only-of-type {\n",
       "        vertical-align: middle;\n",
       "    }\n",
       "\n",
       "    .dataframe tbody tr th {\n",
       "        vertical-align: top;\n",
       "    }\n",
       "\n",
       "    .dataframe thead th {\n",
       "        text-align: right;\n",
       "    }\n",
       "</style>\n",
       "<table border=\"1\" class=\"dataframe\">\n",
       "  <thead>\n",
       "    <tr style=\"text-align: right;\">\n",
       "      <th></th>\n",
       "      <th>COUNT_clicks</th>\n",
       "      <th>MEAN_click_timestamp</th>\n",
       "      <th>TOP_click_environment</th>\n",
       "      <th>TOP_click_deviceGroup</th>\n",
       "      <th>TOP_click_os</th>\n",
       "      <th>TOP_click_country</th>\n",
       "      <th>TOP_click_region</th>\n",
       "      <th>TOP_click_referrer_type</th>\n",
       "    </tr>\n",
       "  </thead>\n",
       "  <tbody>\n",
       "    <tr>\n",
       "      <th>count</th>\n",
       "      <td>322897.000000</td>\n",
       "      <td>322897</td>\n",
       "      <td>322897</td>\n",
       "      <td>322897</td>\n",
       "      <td>322897</td>\n",
       "      <td>322897</td>\n",
       "      <td>322897</td>\n",
       "      <td>322897</td>\n",
       "    </tr>\n",
       "    <tr>\n",
       "      <th>unique</th>\n",
       "      <td>NaN</td>\n",
       "      <td>NaN</td>\n",
       "      <td>3</td>\n",
       "      <td>4</td>\n",
       "      <td>8</td>\n",
       "      <td>11</td>\n",
       "      <td>28</td>\n",
       "      <td>7</td>\n",
       "    </tr>\n",
       "    <tr>\n",
       "      <th>top</th>\n",
       "      <td>NaN</td>\n",
       "      <td>NaN</td>\n",
       "      <td>4 - Web</td>\n",
       "      <td>1 - Tablet</td>\n",
       "      <td>17 - Firefox OS</td>\n",
       "      <td>1</td>\n",
       "      <td>25</td>\n",
       "      <td>2</td>\n",
       "    </tr>\n",
       "    <tr>\n",
       "      <th>freq</th>\n",
       "      <td>NaN</td>\n",
       "      <td>NaN</td>\n",
       "      <td>313195</td>\n",
       "      <td>178033</td>\n",
       "      <td>168975</td>\n",
       "      <td>309375</td>\n",
       "      <td>88147</td>\n",
       "      <td>199292</td>\n",
       "    </tr>\n",
       "    <tr>\n",
       "      <th>mean</th>\n",
       "      <td>9.254285</td>\n",
       "      <td>2017-10-08 14:16:32.833416192</td>\n",
       "      <td>NaN</td>\n",
       "      <td>NaN</td>\n",
       "      <td>NaN</td>\n",
       "      <td>NaN</td>\n",
       "      <td>NaN</td>\n",
       "      <td>NaN</td>\n",
       "    </tr>\n",
       "    <tr>\n",
       "      <th>min</th>\n",
       "      <td>2.000000</td>\n",
       "      <td>2017-10-01 05:00:16</td>\n",
       "      <td>NaN</td>\n",
       "      <td>NaN</td>\n",
       "      <td>NaN</td>\n",
       "      <td>NaN</td>\n",
       "      <td>NaN</td>\n",
       "      <td>NaN</td>\n",
       "    </tr>\n",
       "    <tr>\n",
       "      <th>25%</th>\n",
       "      <td>2.000000</td>\n",
       "      <td>2017-10-06 00:11:28</td>\n",
       "      <td>NaN</td>\n",
       "      <td>NaN</td>\n",
       "      <td>NaN</td>\n",
       "      <td>NaN</td>\n",
       "      <td>NaN</td>\n",
       "      <td>NaN</td>\n",
       "    </tr>\n",
       "    <tr>\n",
       "      <th>50%</th>\n",
       "      <td>4.000000</td>\n",
       "      <td>2017-10-08 13:04:36.333333248</td>\n",
       "      <td>NaN</td>\n",
       "      <td>NaN</td>\n",
       "      <td>NaN</td>\n",
       "      <td>NaN</td>\n",
       "      <td>NaN</td>\n",
       "      <td>NaN</td>\n",
       "    </tr>\n",
       "    <tr>\n",
       "      <th>75%</th>\n",
       "      <td>10.000000</td>\n",
       "      <td>2017-10-10 21:33:16.037037056</td>\n",
       "      <td>NaN</td>\n",
       "      <td>NaN</td>\n",
       "      <td>NaN</td>\n",
       "      <td>NaN</td>\n",
       "      <td>NaN</td>\n",
       "      <td>NaN</td>\n",
       "    </tr>\n",
       "    <tr>\n",
       "      <th>max</th>\n",
       "      <td>1232.000000</td>\n",
       "      <td>2017-10-31 19:35:18.750000128</td>\n",
       "      <td>NaN</td>\n",
       "      <td>NaN</td>\n",
       "      <td>NaN</td>\n",
       "      <td>NaN</td>\n",
       "      <td>NaN</td>\n",
       "      <td>NaN</td>\n",
       "    </tr>\n",
       "    <tr>\n",
       "      <th>std</th>\n",
       "      <td>14.946358</td>\n",
       "      <td>NaN</td>\n",
       "      <td>NaN</td>\n",
       "      <td>NaN</td>\n",
       "      <td>NaN</td>\n",
       "      <td>NaN</td>\n",
       "      <td>NaN</td>\n",
       "      <td>NaN</td>\n",
       "    </tr>\n",
       "  </tbody>\n",
       "</table>\n",
       "</div>"
      ],
      "text/plain": [
       "         COUNT_clicks           MEAN_click_timestamp TOP_click_environment  \\\n",
       "count   322897.000000                         322897                322897   \n",
       "unique            NaN                            NaN                     3   \n",
       "top               NaN                            NaN               4 - Web   \n",
       "freq              NaN                            NaN                313195   \n",
       "mean         9.254285  2017-10-08 14:16:32.833416192                   NaN   \n",
       "min          2.000000            2017-10-01 05:00:16                   NaN   \n",
       "25%          2.000000            2017-10-06 00:11:28                   NaN   \n",
       "50%          4.000000  2017-10-08 13:04:36.333333248                   NaN   \n",
       "75%         10.000000  2017-10-10 21:33:16.037037056                   NaN   \n",
       "max       1232.000000  2017-10-31 19:35:18.750000128                   NaN   \n",
       "std         14.946358                            NaN                   NaN   \n",
       "\n",
       "       TOP_click_deviceGroup     TOP_click_os TOP_click_country  \\\n",
       "count                 322897           322897            322897   \n",
       "unique                     4                8                11   \n",
       "top               1 - Tablet  17 - Firefox OS                 1   \n",
       "freq                  178033           168975            309375   \n",
       "mean                     NaN              NaN               NaN   \n",
       "min                      NaN              NaN               NaN   \n",
       "25%                      NaN              NaN               NaN   \n",
       "50%                      NaN              NaN               NaN   \n",
       "75%                      NaN              NaN               NaN   \n",
       "max                      NaN              NaN               NaN   \n",
       "std                      NaN              NaN               NaN   \n",
       "\n",
       "       TOP_click_region TOP_click_referrer_type  \n",
       "count            322897                  322897  \n",
       "unique               28                       7  \n",
       "top                  25                       2  \n",
       "freq              88147                  199292  \n",
       "mean                NaN                     NaN  \n",
       "min                 NaN                     NaN  \n",
       "25%                 NaN                     NaN  \n",
       "50%                 NaN                     NaN  \n",
       "75%                 NaN                     NaN  \n",
       "max                 NaN                     NaN  \n",
       "std                 NaN                     NaN  "
      ]
     },
     "execution_count": 9,
     "metadata": {},
     "output_type": "execute_result"
    }
   ],
   "source": [
    "if Path(DATA_PATH, \"processed/users.csv\").exists():\n",
    "    users = pd.read_csv(\n",
    "        Path(DATA_PATH, \"processed/users.csv\"),\n",
    "        index_col=\"user_id\",\n",
    "        parse_dates=[\"MEAN_click_timestamp\"],\n",
    "        dtype={\n",
    "            \"user_id\": \"category\",\n",
    "            \"COUNT_clicks\": \"int\",\n",
    "            \"TOP_click_environment\": \"category\",\n",
    "            \"TOP_click_deviceGroup\": \"category\",\n",
    "            \"TOP_click_os\": \"category\",\n",
    "            \"TOP_click_country\": \"category\",\n",
    "            \"TOP_click_region\": \"category\",\n",
    "            \"TOP_click_referrer_type\": \"category\",\n",
    "        },\n",
    "    )\n",
    "else:\n",
    "    users = (\n",
    "        clicks.reset_index()\n",
    "        .groupby([\"user_id\"])\n",
    "        .agg(\n",
    "            COUNT_clicks=(\"index\", \"count\"),\n",
    "            MEAN_click_timestamp=(\"click_timestamp\", \"mean\"),\n",
    "            TOP_click_environment=(\"click_environment\", lambda x: x.mode()[0]),\n",
    "            TOP_click_deviceGroup=(\"click_deviceGroup\", lambda x: x.mode()[0]),\n",
    "            TOP_click_os=(\"click_os\", lambda x: x.mode()[0]),\n",
    "            TOP_click_country=(\"click_country\", lambda x: x.mode()[0]),\n",
    "            TOP_click_region=(\"click_region\", lambda x: x.mode()[0]),\n",
    "            TOP_click_referrer_type=(\"click_referrer_type\", lambda x: x.mode()[0]),\n",
    "        )\n",
    "    )\n",
    "    users.to_csv(Path(DATA_PATH, \"processed/users.csv\"))\n",
    "\n",
    "users = data_helpers.reduce_dataframe_memory_usage(\n",
    "    users.astype(\n",
    "        {\n",
    "            \"COUNT_clicks\": \"int\",\n",
    "            \"MEAN_click_timestamp\": \"datetime64[ns]\",\n",
    "        }\n",
    "    )\n",
    ")\n",
    "\n",
    "users.describe(include=\"all\", datetime_is_numeric=True)"
   ]
  },
  {
   "cell_type": "code",
   "execution_count": 10,
   "metadata": {},
   "outputs": [
    {
     "data": {
      "application/vnd.plotly.v1+json": {
       "config": {
        "plotlyServerURL": "https://plot.ly"
       },
       "data": [
        {
         "hovertemplate": "Number of components=%{x}<br>Explained variance ratio=%{y}<extra></extra>",
         "legendgroup": "",
         "line": {
          "color": "#636efa",
          "dash": "solid"
         },
         "marker": {
          "symbol": "circle"
         },
         "mode": "lines",
         "name": "",
         "orientation": "v",
         "showlegend": false,
         "type": "scatter",
         "x": [
          1,
          2,
          3,
          4,
          5,
          6,
          7,
          8,
          9,
          10,
          11,
          12,
          13,
          14,
          15,
          16,
          17,
          18,
          19,
          20,
          21,
          22,
          23,
          24,
          25,
          26,
          27,
          28,
          29,
          30,
          31,
          32,
          33,
          34,
          35,
          36,
          37,
          38,
          39,
          40,
          41,
          42,
          43,
          44,
          45,
          46,
          47,
          48,
          49,
          50
         ],
         "xaxis": "x",
         "y": [
          0.060999139654249926,
          0.04777629201705431,
          0.0353829079538696,
          0.02987345378030724,
          0.021455828878616603,
          0.020617396791839215,
          0.018819459105180753,
          0.018416978049695776,
          0.018342021297841255,
          0.018009191745206075,
          0.01739840575285285,
          0.017053096552575128,
          0.016773066556945614,
          0.016638441209361206,
          0.016608628678633656,
          0.016340862475757566,
          0.01631028349402236,
          0.01625309122900755,
          0.016231333590584558,
          0.016211195559596613,
          0.01617619883700487,
          0.016128885482135338,
          0.016121287655687995,
          0.016083097065871455,
          0.01606987789858252,
          0.016056428989480113,
          0.016047598667774852,
          0.016016468385497976,
          0.016006738981890988,
          0.015998579835602687,
          0.015994716269313793,
          0.015979398696753886,
          0.015977248096021426,
          0.015962475901532405,
          0.015952205754964612,
          0.015938477786229584,
          0.015929041177214644,
          0.015913671295666752,
          0.015905207997999125,
          0.01590291288739277,
          0.015887588301380654,
          0.015873887830577037,
          0.015859761889046947,
          0.01584398662709921,
          0.015792113685113147,
          0.01576385801731615,
          0.015739794707471073,
          0.015679203332187912,
          0.01552510743819598,
          0.015388637441683981
         ],
         "yaxis": "y"
        }
       ],
       "layout": {
        "legend": {
         "tracegroupgap": 0
        },
        "template": {
         "data": {
          "bar": [
           {
            "error_x": {
             "color": "#2a3f5f"
            },
            "error_y": {
             "color": "#2a3f5f"
            },
            "marker": {
             "line": {
              "color": "#E5ECF6",
              "width": 0.5
             },
             "pattern": {
              "fillmode": "overlay",
              "size": 10,
              "solidity": 0.2
             }
            },
            "type": "bar"
           }
          ],
          "barpolar": [
           {
            "marker": {
             "line": {
              "color": "#E5ECF6",
              "width": 0.5
             },
             "pattern": {
              "fillmode": "overlay",
              "size": 10,
              "solidity": 0.2
             }
            },
            "type": "barpolar"
           }
          ],
          "carpet": [
           {
            "aaxis": {
             "endlinecolor": "#2a3f5f",
             "gridcolor": "white",
             "linecolor": "white",
             "minorgridcolor": "white",
             "startlinecolor": "#2a3f5f"
            },
            "baxis": {
             "endlinecolor": "#2a3f5f",
             "gridcolor": "white",
             "linecolor": "white",
             "minorgridcolor": "white",
             "startlinecolor": "#2a3f5f"
            },
            "type": "carpet"
           }
          ],
          "choropleth": [
           {
            "colorbar": {
             "outlinewidth": 0,
             "ticks": ""
            },
            "type": "choropleth"
           }
          ],
          "contour": [
           {
            "colorbar": {
             "outlinewidth": 0,
             "ticks": ""
            },
            "colorscale": [
             [
              0,
              "#0d0887"
             ],
             [
              0.1111111111111111,
              "#46039f"
             ],
             [
              0.2222222222222222,
              "#7201a8"
             ],
             [
              0.3333333333333333,
              "#9c179e"
             ],
             [
              0.4444444444444444,
              "#bd3786"
             ],
             [
              0.5555555555555556,
              "#d8576b"
             ],
             [
              0.6666666666666666,
              "#ed7953"
             ],
             [
              0.7777777777777778,
              "#fb9f3a"
             ],
             [
              0.8888888888888888,
              "#fdca26"
             ],
             [
              1,
              "#f0f921"
             ]
            ],
            "type": "contour"
           }
          ],
          "contourcarpet": [
           {
            "colorbar": {
             "outlinewidth": 0,
             "ticks": ""
            },
            "type": "contourcarpet"
           }
          ],
          "heatmap": [
           {
            "colorbar": {
             "outlinewidth": 0,
             "ticks": ""
            },
            "colorscale": [
             [
              0,
              "#0d0887"
             ],
             [
              0.1111111111111111,
              "#46039f"
             ],
             [
              0.2222222222222222,
              "#7201a8"
             ],
             [
              0.3333333333333333,
              "#9c179e"
             ],
             [
              0.4444444444444444,
              "#bd3786"
             ],
             [
              0.5555555555555556,
              "#d8576b"
             ],
             [
              0.6666666666666666,
              "#ed7953"
             ],
             [
              0.7777777777777778,
              "#fb9f3a"
             ],
             [
              0.8888888888888888,
              "#fdca26"
             ],
             [
              1,
              "#f0f921"
             ]
            ],
            "type": "heatmap"
           }
          ],
          "heatmapgl": [
           {
            "colorbar": {
             "outlinewidth": 0,
             "ticks": ""
            },
            "colorscale": [
             [
              0,
              "#0d0887"
             ],
             [
              0.1111111111111111,
              "#46039f"
             ],
             [
              0.2222222222222222,
              "#7201a8"
             ],
             [
              0.3333333333333333,
              "#9c179e"
             ],
             [
              0.4444444444444444,
              "#bd3786"
             ],
             [
              0.5555555555555556,
              "#d8576b"
             ],
             [
              0.6666666666666666,
              "#ed7953"
             ],
             [
              0.7777777777777778,
              "#fb9f3a"
             ],
             [
              0.8888888888888888,
              "#fdca26"
             ],
             [
              1,
              "#f0f921"
             ]
            ],
            "type": "heatmapgl"
           }
          ],
          "histogram": [
           {
            "marker": {
             "pattern": {
              "fillmode": "overlay",
              "size": 10,
              "solidity": 0.2
             }
            },
            "type": "histogram"
           }
          ],
          "histogram2d": [
           {
            "colorbar": {
             "outlinewidth": 0,
             "ticks": ""
            },
            "colorscale": [
             [
              0,
              "#0d0887"
             ],
             [
              0.1111111111111111,
              "#46039f"
             ],
             [
              0.2222222222222222,
              "#7201a8"
             ],
             [
              0.3333333333333333,
              "#9c179e"
             ],
             [
              0.4444444444444444,
              "#bd3786"
             ],
             [
              0.5555555555555556,
              "#d8576b"
             ],
             [
              0.6666666666666666,
              "#ed7953"
             ],
             [
              0.7777777777777778,
              "#fb9f3a"
             ],
             [
              0.8888888888888888,
              "#fdca26"
             ],
             [
              1,
              "#f0f921"
             ]
            ],
            "type": "histogram2d"
           }
          ],
          "histogram2dcontour": [
           {
            "colorbar": {
             "outlinewidth": 0,
             "ticks": ""
            },
            "colorscale": [
             [
              0,
              "#0d0887"
             ],
             [
              0.1111111111111111,
              "#46039f"
             ],
             [
              0.2222222222222222,
              "#7201a8"
             ],
             [
              0.3333333333333333,
              "#9c179e"
             ],
             [
              0.4444444444444444,
              "#bd3786"
             ],
             [
              0.5555555555555556,
              "#d8576b"
             ],
             [
              0.6666666666666666,
              "#ed7953"
             ],
             [
              0.7777777777777778,
              "#fb9f3a"
             ],
             [
              0.8888888888888888,
              "#fdca26"
             ],
             [
              1,
              "#f0f921"
             ]
            ],
            "type": "histogram2dcontour"
           }
          ],
          "mesh3d": [
           {
            "colorbar": {
             "outlinewidth": 0,
             "ticks": ""
            },
            "type": "mesh3d"
           }
          ],
          "parcoords": [
           {
            "line": {
             "colorbar": {
              "outlinewidth": 0,
              "ticks": ""
             }
            },
            "type": "parcoords"
           }
          ],
          "pie": [
           {
            "automargin": true,
            "type": "pie"
           }
          ],
          "scatter": [
           {
            "fillpattern": {
             "fillmode": "overlay",
             "size": 10,
             "solidity": 0.2
            },
            "type": "scatter"
           }
          ],
          "scatter3d": [
           {
            "line": {
             "colorbar": {
              "outlinewidth": 0,
              "ticks": ""
             }
            },
            "marker": {
             "colorbar": {
              "outlinewidth": 0,
              "ticks": ""
             }
            },
            "type": "scatter3d"
           }
          ],
          "scattercarpet": [
           {
            "marker": {
             "colorbar": {
              "outlinewidth": 0,
              "ticks": ""
             }
            },
            "type": "scattercarpet"
           }
          ],
          "scattergeo": [
           {
            "marker": {
             "colorbar": {
              "outlinewidth": 0,
              "ticks": ""
             }
            },
            "type": "scattergeo"
           }
          ],
          "scattergl": [
           {
            "marker": {
             "colorbar": {
              "outlinewidth": 0,
              "ticks": ""
             }
            },
            "type": "scattergl"
           }
          ],
          "scattermapbox": [
           {
            "marker": {
             "colorbar": {
              "outlinewidth": 0,
              "ticks": ""
             }
            },
            "type": "scattermapbox"
           }
          ],
          "scatterpolar": [
           {
            "marker": {
             "colorbar": {
              "outlinewidth": 0,
              "ticks": ""
             }
            },
            "type": "scatterpolar"
           }
          ],
          "scatterpolargl": [
           {
            "marker": {
             "colorbar": {
              "outlinewidth": 0,
              "ticks": ""
             }
            },
            "type": "scatterpolargl"
           }
          ],
          "scatterternary": [
           {
            "marker": {
             "colorbar": {
              "outlinewidth": 0,
              "ticks": ""
             }
            },
            "type": "scatterternary"
           }
          ],
          "surface": [
           {
            "colorbar": {
             "outlinewidth": 0,
             "ticks": ""
            },
            "colorscale": [
             [
              0,
              "#0d0887"
             ],
             [
              0.1111111111111111,
              "#46039f"
             ],
             [
              0.2222222222222222,
              "#7201a8"
             ],
             [
              0.3333333333333333,
              "#9c179e"
             ],
             [
              0.4444444444444444,
              "#bd3786"
             ],
             [
              0.5555555555555556,
              "#d8576b"
             ],
             [
              0.6666666666666666,
              "#ed7953"
             ],
             [
              0.7777777777777778,
              "#fb9f3a"
             ],
             [
              0.8888888888888888,
              "#fdca26"
             ],
             [
              1,
              "#f0f921"
             ]
            ],
            "type": "surface"
           }
          ],
          "table": [
           {
            "cells": {
             "fill": {
              "color": "#EBF0F8"
             },
             "line": {
              "color": "white"
             }
            },
            "header": {
             "fill": {
              "color": "#C8D4E3"
             },
             "line": {
              "color": "white"
             }
            },
            "type": "table"
           }
          ]
         },
         "layout": {
          "annotationdefaults": {
           "arrowcolor": "#2a3f5f",
           "arrowhead": 0,
           "arrowwidth": 1
          },
          "autotypenumbers": "strict",
          "coloraxis": {
           "colorbar": {
            "outlinewidth": 0,
            "ticks": ""
           }
          },
          "colorscale": {
           "diverging": [
            [
             0,
             "#8e0152"
            ],
            [
             0.1,
             "#c51b7d"
            ],
            [
             0.2,
             "#de77ae"
            ],
            [
             0.3,
             "#f1b6da"
            ],
            [
             0.4,
             "#fde0ef"
            ],
            [
             0.5,
             "#f7f7f7"
            ],
            [
             0.6,
             "#e6f5d0"
            ],
            [
             0.7,
             "#b8e186"
            ],
            [
             0.8,
             "#7fbc41"
            ],
            [
             0.9,
             "#4d9221"
            ],
            [
             1,
             "#276419"
            ]
           ],
           "sequential": [
            [
             0,
             "#0d0887"
            ],
            [
             0.1111111111111111,
             "#46039f"
            ],
            [
             0.2222222222222222,
             "#7201a8"
            ],
            [
             0.3333333333333333,
             "#9c179e"
            ],
            [
             0.4444444444444444,
             "#bd3786"
            ],
            [
             0.5555555555555556,
             "#d8576b"
            ],
            [
             0.6666666666666666,
             "#ed7953"
            ],
            [
             0.7777777777777778,
             "#fb9f3a"
            ],
            [
             0.8888888888888888,
             "#fdca26"
            ],
            [
             1,
             "#f0f921"
            ]
           ],
           "sequentialminus": [
            [
             0,
             "#0d0887"
            ],
            [
             0.1111111111111111,
             "#46039f"
            ],
            [
             0.2222222222222222,
             "#7201a8"
            ],
            [
             0.3333333333333333,
             "#9c179e"
            ],
            [
             0.4444444444444444,
             "#bd3786"
            ],
            [
             0.5555555555555556,
             "#d8576b"
            ],
            [
             0.6666666666666666,
             "#ed7953"
            ],
            [
             0.7777777777777778,
             "#fb9f3a"
            ],
            [
             0.8888888888888888,
             "#fdca26"
            ],
            [
             1,
             "#f0f921"
            ]
           ]
          },
          "colorway": [
           "#636efa",
           "#EF553B",
           "#00cc96",
           "#ab63fa",
           "#FFA15A",
           "#19d3f3",
           "#FF6692",
           "#B6E880",
           "#FF97FF",
           "#FECB52"
          ],
          "font": {
           "color": "#2a3f5f"
          },
          "geo": {
           "bgcolor": "white",
           "lakecolor": "white",
           "landcolor": "#E5ECF6",
           "showlakes": true,
           "showland": true,
           "subunitcolor": "white"
          },
          "hoverlabel": {
           "align": "left"
          },
          "hovermode": "closest",
          "mapbox": {
           "style": "light"
          },
          "paper_bgcolor": "white",
          "plot_bgcolor": "#E5ECF6",
          "polar": {
           "angularaxis": {
            "gridcolor": "white",
            "linecolor": "white",
            "ticks": ""
           },
           "bgcolor": "#E5ECF6",
           "radialaxis": {
            "gridcolor": "white",
            "linecolor": "white",
            "ticks": ""
           }
          },
          "scene": {
           "xaxis": {
            "backgroundcolor": "#E5ECF6",
            "gridcolor": "white",
            "gridwidth": 2,
            "linecolor": "white",
            "showbackground": true,
            "ticks": "",
            "zerolinecolor": "white"
           },
           "yaxis": {
            "backgroundcolor": "#E5ECF6",
            "gridcolor": "white",
            "gridwidth": 2,
            "linecolor": "white",
            "showbackground": true,
            "ticks": "",
            "zerolinecolor": "white"
           },
           "zaxis": {
            "backgroundcolor": "#E5ECF6",
            "gridcolor": "white",
            "gridwidth": 2,
            "linecolor": "white",
            "showbackground": true,
            "ticks": "",
            "zerolinecolor": "white"
           }
          },
          "shapedefaults": {
           "line": {
            "color": "#2a3f5f"
           }
          },
          "ternary": {
           "aaxis": {
            "gridcolor": "white",
            "linecolor": "white",
            "ticks": ""
           },
           "baxis": {
            "gridcolor": "white",
            "linecolor": "white",
            "ticks": ""
           },
           "bgcolor": "#E5ECF6",
           "caxis": {
            "gridcolor": "white",
            "linecolor": "white",
            "ticks": ""
           }
          },
          "title": {
           "x": 0.05
          },
          "xaxis": {
           "automargin": true,
           "gridcolor": "white",
           "linecolor": "white",
           "ticks": "",
           "title": {
            "standoff": 15
           },
           "zerolinecolor": "white",
           "zerolinewidth": 2
          },
          "yaxis": {
           "automargin": true,
           "gridcolor": "white",
           "linecolor": "white",
           "ticks": "",
           "title": {
            "standoff": 15
           },
           "zerolinecolor": "white",
           "zerolinewidth": 2
          }
         }
        },
        "title": {
         "text": "PCA - Explained variance ratio"
        },
        "xaxis": {
         "anchor": "y",
         "domain": [
          0,
          1
         ],
         "title": {
          "text": "Number of components"
         }
        },
        "yaxis": {
         "anchor": "x",
         "domain": [
          0,
          1
         ],
         "title": {
          "text": "Explained variance ratio"
         }
        }
       }
      }
     },
     "metadata": {},
     "output_type": "display_data"
    }
   ],
   "source": [
    "users_dummy = pd.get_dummies(users.astype({\"MEAN_click_timestamp\": \"int\"}))\n",
    "users_std = StandardScaler().fit_transform(users_dummy)\n",
    "\n",
    "pca = PCA(n_components=50, random_state=42)\n",
    "pca.fit(users_std)\n",
    "\n",
    "\n",
    "px.line(\n",
    "    x=range(1, len(pca.explained_variance_ratio_) + 1),\n",
    "    y=pca.explained_variance_ratio_,\n",
    "    title=\"PCA - Explained variance ratio\",\n",
    "    labels={\"x\": \"Number of components\", \"y\": \"Explained variance ratio\"},\n",
    ")"
   ]
  },
  {
   "cell_type": "code",
   "execution_count": 11,
   "metadata": {},
   "outputs": [
    {
     "data": {
      "text/html": [
       "<div>\n",
       "<style scoped>\n",
       "    .dataframe tbody tr th:only-of-type {\n",
       "        vertical-align: middle;\n",
       "    }\n",
       "\n",
       "    .dataframe tbody tr th {\n",
       "        vertical-align: top;\n",
       "    }\n",
       "\n",
       "    .dataframe thead th {\n",
       "        text-align: right;\n",
       "    }\n",
       "</style>\n",
       "<table border=\"1\" class=\"dataframe\">\n",
       "  <thead>\n",
       "    <tr style=\"text-align: right;\">\n",
       "      <th></th>\n",
       "      <th>pca_0</th>\n",
       "      <th>pca_1</th>\n",
       "      <th>pca_2</th>\n",
       "      <th>pca_3</th>\n",
       "      <th>pca_4</th>\n",
       "      <th>pca_5</th>\n",
       "      <th>pca_6</th>\n",
       "      <th>pca_7</th>\n",
       "      <th>pca_8</th>\n",
       "      <th>pca_9</th>\n",
       "    </tr>\n",
       "    <tr>\n",
       "      <th>user_id</th>\n",
       "      <th></th>\n",
       "      <th></th>\n",
       "      <th></th>\n",
       "      <th></th>\n",
       "      <th></th>\n",
       "      <th></th>\n",
       "      <th></th>\n",
       "      <th></th>\n",
       "      <th></th>\n",
       "      <th></th>\n",
       "    </tr>\n",
       "  </thead>\n",
       "  <tbody>\n",
       "    <tr>\n",
       "      <th>0</th>\n",
       "      <td>1.699164</td>\n",
       "      <td>-0.397796</td>\n",
       "      <td>-0.446491</td>\n",
       "      <td>-1.127296</td>\n",
       "      <td>0.663800</td>\n",
       "      <td>0.483216</td>\n",
       "      <td>0.715028</td>\n",
       "      <td>0.924418</td>\n",
       "      <td>-0.468858</td>\n",
       "      <td>-1.221070</td>\n",
       "    </tr>\n",
       "    <tr>\n",
       "      <th>1</th>\n",
       "      <td>-1.655270</td>\n",
       "      <td>0.228214</td>\n",
       "      <td>0.374687</td>\n",
       "      <td>-1.113772</td>\n",
       "      <td>0.300500</td>\n",
       "      <td>-0.940414</td>\n",
       "      <td>-0.742250</td>\n",
       "      <td>0.540289</td>\n",
       "      <td>0.539775</td>\n",
       "      <td>-0.487475</td>\n",
       "    </tr>\n",
       "    <tr>\n",
       "      <th>10</th>\n",
       "      <td>-2.056614</td>\n",
       "      <td>0.091305</td>\n",
       "      <td>-0.038654</td>\n",
       "      <td>2.007981</td>\n",
       "      <td>-0.688700</td>\n",
       "      <td>-0.454136</td>\n",
       "      <td>0.822261</td>\n",
       "      <td>-2.200997</td>\n",
       "      <td>-1.495055</td>\n",
       "      <td>0.471278</td>\n",
       "    </tr>\n",
       "    <tr>\n",
       "      <th>100</th>\n",
       "      <td>1.601323</td>\n",
       "      <td>-1.244009</td>\n",
       "      <td>-1.178582</td>\n",
       "      <td>1.780181</td>\n",
       "      <td>-0.127551</td>\n",
       "      <td>1.288546</td>\n",
       "      <td>-0.374174</td>\n",
       "      <td>-0.314391</td>\n",
       "      <td>0.227090</td>\n",
       "      <td>0.544389</td>\n",
       "    </tr>\n",
       "    <tr>\n",
       "      <th>1000</th>\n",
       "      <td>1.874431</td>\n",
       "      <td>-1.109712</td>\n",
       "      <td>-0.910541</td>\n",
       "      <td>-1.110672</td>\n",
       "      <td>-0.504261</td>\n",
       "      <td>1.237397</td>\n",
       "      <td>-0.263376</td>\n",
       "      <td>-0.316927</td>\n",
       "      <td>0.462357</td>\n",
       "      <td>0.520649</td>\n",
       "    </tr>\n",
       "    <tr>\n",
       "      <th>...</th>\n",
       "      <td>...</td>\n",
       "      <td>...</td>\n",
       "      <td>...</td>\n",
       "      <td>...</td>\n",
       "      <td>...</td>\n",
       "      <td>...</td>\n",
       "      <td>...</td>\n",
       "      <td>...</td>\n",
       "      <td>...</td>\n",
       "      <td>...</td>\n",
       "    </tr>\n",
       "    <tr>\n",
       "      <th>99995</th>\n",
       "      <td>-1.697570</td>\n",
       "      <td>0.243863</td>\n",
       "      <td>0.353953</td>\n",
       "      <td>-1.424104</td>\n",
       "      <td>-0.581714</td>\n",
       "      <td>-0.291931</td>\n",
       "      <td>0.416355</td>\n",
       "      <td>0.257983</td>\n",
       "      <td>0.681366</td>\n",
       "      <td>0.670510</td>\n",
       "    </tr>\n",
       "    <tr>\n",
       "      <th>99996</th>\n",
       "      <td>-1.649689</td>\n",
       "      <td>0.228985</td>\n",
       "      <td>0.373032</td>\n",
       "      <td>-1.153030</td>\n",
       "      <td>0.248697</td>\n",
       "      <td>-0.953786</td>\n",
       "      <td>-0.674827</td>\n",
       "      <td>0.588817</td>\n",
       "      <td>0.570464</td>\n",
       "      <td>-0.528344</td>\n",
       "    </tr>\n",
       "    <tr>\n",
       "      <th>99997</th>\n",
       "      <td>-1.729577</td>\n",
       "      <td>0.249486</td>\n",
       "      <td>0.358148</td>\n",
       "      <td>-1.269522</td>\n",
       "      <td>-0.346360</td>\n",
       "      <td>-0.214800</td>\n",
       "      <td>0.165836</td>\n",
       "      <td>0.072994</td>\n",
       "      <td>0.574554</td>\n",
       "      <td>0.876380</td>\n",
       "    </tr>\n",
       "    <tr>\n",
       "      <th>99998</th>\n",
       "      <td>1.791673</td>\n",
       "      <td>-0.467449</td>\n",
       "      <td>-0.416061</td>\n",
       "      <td>-1.212874</td>\n",
       "      <td>0.771840</td>\n",
       "      <td>-0.298143</td>\n",
       "      <td>0.487644</td>\n",
       "      <td>2.078244</td>\n",
       "      <td>-0.108107</td>\n",
       "      <td>-1.373768</td>\n",
       "    </tr>\n",
       "    <tr>\n",
       "      <th>99999</th>\n",
       "      <td>-1.630243</td>\n",
       "      <td>0.137028</td>\n",
       "      <td>0.408570</td>\n",
       "      <td>-1.232043</td>\n",
       "      <td>-0.461146</td>\n",
       "      <td>1.215489</td>\n",
       "      <td>-0.153727</td>\n",
       "      <td>-0.253896</td>\n",
       "      <td>0.055995</td>\n",
       "      <td>0.075549</td>\n",
       "    </tr>\n",
       "  </tbody>\n",
       "</table>\n",
       "<p>322897 rows × 10 columns</p>\n",
       "</div>"
      ],
      "text/plain": [
       "            pca_0     pca_1     pca_2     pca_3     pca_4     pca_5     pca_6  \\\n",
       "user_id                                                                         \n",
       "0        1.699164 -0.397796 -0.446491 -1.127296  0.663800  0.483216  0.715028   \n",
       "1       -1.655270  0.228214  0.374687 -1.113772  0.300500 -0.940414 -0.742250   \n",
       "10      -2.056614  0.091305 -0.038654  2.007981 -0.688700 -0.454136  0.822261   \n",
       "100      1.601323 -1.244009 -1.178582  1.780181 -0.127551  1.288546 -0.374174   \n",
       "1000     1.874431 -1.109712 -0.910541 -1.110672 -0.504261  1.237397 -0.263376   \n",
       "...           ...       ...       ...       ...       ...       ...       ...   \n",
       "99995   -1.697570  0.243863  0.353953 -1.424104 -0.581714 -0.291931  0.416355   \n",
       "99996   -1.649689  0.228985  0.373032 -1.153030  0.248697 -0.953786 -0.674827   \n",
       "99997   -1.729577  0.249486  0.358148 -1.269522 -0.346360 -0.214800  0.165836   \n",
       "99998    1.791673 -0.467449 -0.416061 -1.212874  0.771840 -0.298143  0.487644   \n",
       "99999   -1.630243  0.137028  0.408570 -1.232043 -0.461146  1.215489 -0.153727   \n",
       "\n",
       "            pca_7     pca_8     pca_9  \n",
       "user_id                                \n",
       "0        0.924418 -0.468858 -1.221070  \n",
       "1        0.540289  0.539775 -0.487475  \n",
       "10      -2.200997 -1.495055  0.471278  \n",
       "100     -0.314391  0.227090  0.544389  \n",
       "1000    -0.316927  0.462357  0.520649  \n",
       "...           ...       ...       ...  \n",
       "99995    0.257983  0.681366  0.670510  \n",
       "99996    0.588817  0.570464 -0.528344  \n",
       "99997    0.072994  0.574554  0.876380  \n",
       "99998    2.078244 -0.108107 -1.373768  \n",
       "99999   -0.253896  0.055995  0.075549  \n",
       "\n",
       "[322897 rows x 10 columns]"
      ]
     },
     "execution_count": 11,
     "metadata": {},
     "output_type": "execute_result"
    }
   ],
   "source": [
    "users_pca = PCA(n_components=10, random_state=42).fit_transform(users_std)\n",
    "\n",
    "users_features_df = pd.DataFrame(\n",
    "    users_pca,\n",
    "    columns=[f\"pca_{i}\" for i in range(users_pca.shape[1])],\n",
    "    index=users.index,\n",
    ")\n",
    "users_features_df"
   ]
  },
  {
   "cell_type": "code",
   "execution_count": 12,
   "metadata": {},
   "outputs": [
    {
     "name": "stderr",
     "output_type": "stream",
     "text": [
      "100%|██████████| 25/25 [00:20<00:00,  1.22it/s]\n"
     ]
    },
    {
     "data": {
      "application/vnd.plotly.v1+json": {
       "config": {
        "plotlyServerURL": "https://plot.ly"
       },
       "data": [
        {
         "hovertemplate": "Number of clusters=%{x}<br>Inertia=%{y}<extra></extra>",
         "legendgroup": "",
         "line": {
          "color": "#636efa",
          "dash": "solid"
         },
         "marker": {
          "symbol": "circle"
         },
         "mode": "lines",
         "name": "",
         "orientation": "v",
         "showlegend": false,
         "type": "scatter",
         "x": [
          2,
          2,
          2,
          3,
          4,
          4,
          5,
          6,
          8,
          9,
          11,
          13,
          16,
          19,
          22,
          26,
          32,
          38,
          45,
          53,
          64,
          76,
          90,
          107,
          128
         ],
         "xaxis": "x",
         "y": [
          4591464.32397408,
          4591464.32397408,
          4591464.32397408,
          4448231.218028463,
          3334993.8925252864,
          3334993.8925252864,
          2747452.4128413065,
          2500282.185198725,
          2524656.324799099,
          2224059.6859741756,
          2056188.3087879312,
          1958402.247024648,
          1845319.1649818243,
          1565441.3301619892,
          1426640.7495219838,
          1395962.0136021008,
          1002892.6126171534,
          1198207.0247510315,
          1006780.8452520494,
          817050.8186724829,
          718450.7077858967,
          648768.7843763529,
          569790.8004041294,
          574048.1084969293,
          550473.5018494937
         ],
         "yaxis": "y"
        }
       ],
       "layout": {
        "legend": {
         "tracegroupgap": 0
        },
        "template": {
         "data": {
          "bar": [
           {
            "error_x": {
             "color": "#2a3f5f"
            },
            "error_y": {
             "color": "#2a3f5f"
            },
            "marker": {
             "line": {
              "color": "#E5ECF6",
              "width": 0.5
             },
             "pattern": {
              "fillmode": "overlay",
              "size": 10,
              "solidity": 0.2
             }
            },
            "type": "bar"
           }
          ],
          "barpolar": [
           {
            "marker": {
             "line": {
              "color": "#E5ECF6",
              "width": 0.5
             },
             "pattern": {
              "fillmode": "overlay",
              "size": 10,
              "solidity": 0.2
             }
            },
            "type": "barpolar"
           }
          ],
          "carpet": [
           {
            "aaxis": {
             "endlinecolor": "#2a3f5f",
             "gridcolor": "white",
             "linecolor": "white",
             "minorgridcolor": "white",
             "startlinecolor": "#2a3f5f"
            },
            "baxis": {
             "endlinecolor": "#2a3f5f",
             "gridcolor": "white",
             "linecolor": "white",
             "minorgridcolor": "white",
             "startlinecolor": "#2a3f5f"
            },
            "type": "carpet"
           }
          ],
          "choropleth": [
           {
            "colorbar": {
             "outlinewidth": 0,
             "ticks": ""
            },
            "type": "choropleth"
           }
          ],
          "contour": [
           {
            "colorbar": {
             "outlinewidth": 0,
             "ticks": ""
            },
            "colorscale": [
             [
              0,
              "#0d0887"
             ],
             [
              0.1111111111111111,
              "#46039f"
             ],
             [
              0.2222222222222222,
              "#7201a8"
             ],
             [
              0.3333333333333333,
              "#9c179e"
             ],
             [
              0.4444444444444444,
              "#bd3786"
             ],
             [
              0.5555555555555556,
              "#d8576b"
             ],
             [
              0.6666666666666666,
              "#ed7953"
             ],
             [
              0.7777777777777778,
              "#fb9f3a"
             ],
             [
              0.8888888888888888,
              "#fdca26"
             ],
             [
              1,
              "#f0f921"
             ]
            ],
            "type": "contour"
           }
          ],
          "contourcarpet": [
           {
            "colorbar": {
             "outlinewidth": 0,
             "ticks": ""
            },
            "type": "contourcarpet"
           }
          ],
          "heatmap": [
           {
            "colorbar": {
             "outlinewidth": 0,
             "ticks": ""
            },
            "colorscale": [
             [
              0,
              "#0d0887"
             ],
             [
              0.1111111111111111,
              "#46039f"
             ],
             [
              0.2222222222222222,
              "#7201a8"
             ],
             [
              0.3333333333333333,
              "#9c179e"
             ],
             [
              0.4444444444444444,
              "#bd3786"
             ],
             [
              0.5555555555555556,
              "#d8576b"
             ],
             [
              0.6666666666666666,
              "#ed7953"
             ],
             [
              0.7777777777777778,
              "#fb9f3a"
             ],
             [
              0.8888888888888888,
              "#fdca26"
             ],
             [
              1,
              "#f0f921"
             ]
            ],
            "type": "heatmap"
           }
          ],
          "heatmapgl": [
           {
            "colorbar": {
             "outlinewidth": 0,
             "ticks": ""
            },
            "colorscale": [
             [
              0,
              "#0d0887"
             ],
             [
              0.1111111111111111,
              "#46039f"
             ],
             [
              0.2222222222222222,
              "#7201a8"
             ],
             [
              0.3333333333333333,
              "#9c179e"
             ],
             [
              0.4444444444444444,
              "#bd3786"
             ],
             [
              0.5555555555555556,
              "#d8576b"
             ],
             [
              0.6666666666666666,
              "#ed7953"
             ],
             [
              0.7777777777777778,
              "#fb9f3a"
             ],
             [
              0.8888888888888888,
              "#fdca26"
             ],
             [
              1,
              "#f0f921"
             ]
            ],
            "type": "heatmapgl"
           }
          ],
          "histogram": [
           {
            "marker": {
             "pattern": {
              "fillmode": "overlay",
              "size": 10,
              "solidity": 0.2
             }
            },
            "type": "histogram"
           }
          ],
          "histogram2d": [
           {
            "colorbar": {
             "outlinewidth": 0,
             "ticks": ""
            },
            "colorscale": [
             [
              0,
              "#0d0887"
             ],
             [
              0.1111111111111111,
              "#46039f"
             ],
             [
              0.2222222222222222,
              "#7201a8"
             ],
             [
              0.3333333333333333,
              "#9c179e"
             ],
             [
              0.4444444444444444,
              "#bd3786"
             ],
             [
              0.5555555555555556,
              "#d8576b"
             ],
             [
              0.6666666666666666,
              "#ed7953"
             ],
             [
              0.7777777777777778,
              "#fb9f3a"
             ],
             [
              0.8888888888888888,
              "#fdca26"
             ],
             [
              1,
              "#f0f921"
             ]
            ],
            "type": "histogram2d"
           }
          ],
          "histogram2dcontour": [
           {
            "colorbar": {
             "outlinewidth": 0,
             "ticks": ""
            },
            "colorscale": [
             [
              0,
              "#0d0887"
             ],
             [
              0.1111111111111111,
              "#46039f"
             ],
             [
              0.2222222222222222,
              "#7201a8"
             ],
             [
              0.3333333333333333,
              "#9c179e"
             ],
             [
              0.4444444444444444,
              "#bd3786"
             ],
             [
              0.5555555555555556,
              "#d8576b"
             ],
             [
              0.6666666666666666,
              "#ed7953"
             ],
             [
              0.7777777777777778,
              "#fb9f3a"
             ],
             [
              0.8888888888888888,
              "#fdca26"
             ],
             [
              1,
              "#f0f921"
             ]
            ],
            "type": "histogram2dcontour"
           }
          ],
          "mesh3d": [
           {
            "colorbar": {
             "outlinewidth": 0,
             "ticks": ""
            },
            "type": "mesh3d"
           }
          ],
          "parcoords": [
           {
            "line": {
             "colorbar": {
              "outlinewidth": 0,
              "ticks": ""
             }
            },
            "type": "parcoords"
           }
          ],
          "pie": [
           {
            "automargin": true,
            "type": "pie"
           }
          ],
          "scatter": [
           {
            "fillpattern": {
             "fillmode": "overlay",
             "size": 10,
             "solidity": 0.2
            },
            "type": "scatter"
           }
          ],
          "scatter3d": [
           {
            "line": {
             "colorbar": {
              "outlinewidth": 0,
              "ticks": ""
             }
            },
            "marker": {
             "colorbar": {
              "outlinewidth": 0,
              "ticks": ""
             }
            },
            "type": "scatter3d"
           }
          ],
          "scattercarpet": [
           {
            "marker": {
             "colorbar": {
              "outlinewidth": 0,
              "ticks": ""
             }
            },
            "type": "scattercarpet"
           }
          ],
          "scattergeo": [
           {
            "marker": {
             "colorbar": {
              "outlinewidth": 0,
              "ticks": ""
             }
            },
            "type": "scattergeo"
           }
          ],
          "scattergl": [
           {
            "marker": {
             "colorbar": {
              "outlinewidth": 0,
              "ticks": ""
             }
            },
            "type": "scattergl"
           }
          ],
          "scattermapbox": [
           {
            "marker": {
             "colorbar": {
              "outlinewidth": 0,
              "ticks": ""
             }
            },
            "type": "scattermapbox"
           }
          ],
          "scatterpolar": [
           {
            "marker": {
             "colorbar": {
              "outlinewidth": 0,
              "ticks": ""
             }
            },
            "type": "scatterpolar"
           }
          ],
          "scatterpolargl": [
           {
            "marker": {
             "colorbar": {
              "outlinewidth": 0,
              "ticks": ""
             }
            },
            "type": "scatterpolargl"
           }
          ],
          "scatterternary": [
           {
            "marker": {
             "colorbar": {
              "outlinewidth": 0,
              "ticks": ""
             }
            },
            "type": "scatterternary"
           }
          ],
          "surface": [
           {
            "colorbar": {
             "outlinewidth": 0,
             "ticks": ""
            },
            "colorscale": [
             [
              0,
              "#0d0887"
             ],
             [
              0.1111111111111111,
              "#46039f"
             ],
             [
              0.2222222222222222,
              "#7201a8"
             ],
             [
              0.3333333333333333,
              "#9c179e"
             ],
             [
              0.4444444444444444,
              "#bd3786"
             ],
             [
              0.5555555555555556,
              "#d8576b"
             ],
             [
              0.6666666666666666,
              "#ed7953"
             ],
             [
              0.7777777777777778,
              "#fb9f3a"
             ],
             [
              0.8888888888888888,
              "#fdca26"
             ],
             [
              1,
              "#f0f921"
             ]
            ],
            "type": "surface"
           }
          ],
          "table": [
           {
            "cells": {
             "fill": {
              "color": "#EBF0F8"
             },
             "line": {
              "color": "white"
             }
            },
            "header": {
             "fill": {
              "color": "#C8D4E3"
             },
             "line": {
              "color": "white"
             }
            },
            "type": "table"
           }
          ]
         },
         "layout": {
          "annotationdefaults": {
           "arrowcolor": "#2a3f5f",
           "arrowhead": 0,
           "arrowwidth": 1
          },
          "autotypenumbers": "strict",
          "coloraxis": {
           "colorbar": {
            "outlinewidth": 0,
            "ticks": ""
           }
          },
          "colorscale": {
           "diverging": [
            [
             0,
             "#8e0152"
            ],
            [
             0.1,
             "#c51b7d"
            ],
            [
             0.2,
             "#de77ae"
            ],
            [
             0.3,
             "#f1b6da"
            ],
            [
             0.4,
             "#fde0ef"
            ],
            [
             0.5,
             "#f7f7f7"
            ],
            [
             0.6,
             "#e6f5d0"
            ],
            [
             0.7,
             "#b8e186"
            ],
            [
             0.8,
             "#7fbc41"
            ],
            [
             0.9,
             "#4d9221"
            ],
            [
             1,
             "#276419"
            ]
           ],
           "sequential": [
            [
             0,
             "#0d0887"
            ],
            [
             0.1111111111111111,
             "#46039f"
            ],
            [
             0.2222222222222222,
             "#7201a8"
            ],
            [
             0.3333333333333333,
             "#9c179e"
            ],
            [
             0.4444444444444444,
             "#bd3786"
            ],
            [
             0.5555555555555556,
             "#d8576b"
            ],
            [
             0.6666666666666666,
             "#ed7953"
            ],
            [
             0.7777777777777778,
             "#fb9f3a"
            ],
            [
             0.8888888888888888,
             "#fdca26"
            ],
            [
             1,
             "#f0f921"
            ]
           ],
           "sequentialminus": [
            [
             0,
             "#0d0887"
            ],
            [
             0.1111111111111111,
             "#46039f"
            ],
            [
             0.2222222222222222,
             "#7201a8"
            ],
            [
             0.3333333333333333,
             "#9c179e"
            ],
            [
             0.4444444444444444,
             "#bd3786"
            ],
            [
             0.5555555555555556,
             "#d8576b"
            ],
            [
             0.6666666666666666,
             "#ed7953"
            ],
            [
             0.7777777777777778,
             "#fb9f3a"
            ],
            [
             0.8888888888888888,
             "#fdca26"
            ],
            [
             1,
             "#f0f921"
            ]
           ]
          },
          "colorway": [
           "#636efa",
           "#EF553B",
           "#00cc96",
           "#ab63fa",
           "#FFA15A",
           "#19d3f3",
           "#FF6692",
           "#B6E880",
           "#FF97FF",
           "#FECB52"
          ],
          "font": {
           "color": "#2a3f5f"
          },
          "geo": {
           "bgcolor": "white",
           "lakecolor": "white",
           "landcolor": "#E5ECF6",
           "showlakes": true,
           "showland": true,
           "subunitcolor": "white"
          },
          "hoverlabel": {
           "align": "left"
          },
          "hovermode": "closest",
          "mapbox": {
           "style": "light"
          },
          "paper_bgcolor": "white",
          "plot_bgcolor": "#E5ECF6",
          "polar": {
           "angularaxis": {
            "gridcolor": "white",
            "linecolor": "white",
            "ticks": ""
           },
           "bgcolor": "#E5ECF6",
           "radialaxis": {
            "gridcolor": "white",
            "linecolor": "white",
            "ticks": ""
           }
          },
          "scene": {
           "xaxis": {
            "backgroundcolor": "#E5ECF6",
            "gridcolor": "white",
            "gridwidth": 2,
            "linecolor": "white",
            "showbackground": true,
            "ticks": "",
            "zerolinecolor": "white"
           },
           "yaxis": {
            "backgroundcolor": "#E5ECF6",
            "gridcolor": "white",
            "gridwidth": 2,
            "linecolor": "white",
            "showbackground": true,
            "ticks": "",
            "zerolinecolor": "white"
           },
           "zaxis": {
            "backgroundcolor": "#E5ECF6",
            "gridcolor": "white",
            "gridwidth": 2,
            "linecolor": "white",
            "showbackground": true,
            "ticks": "",
            "zerolinecolor": "white"
           }
          },
          "shapedefaults": {
           "line": {
            "color": "#2a3f5f"
           }
          },
          "ternary": {
           "aaxis": {
            "gridcolor": "white",
            "linecolor": "white",
            "ticks": ""
           },
           "baxis": {
            "gridcolor": "white",
            "linecolor": "white",
            "ticks": ""
           },
           "bgcolor": "#E5ECF6",
           "caxis": {
            "gridcolor": "white",
            "linecolor": "white",
            "ticks": ""
           }
          },
          "title": {
           "x": 0.05
          },
          "xaxis": {
           "automargin": true,
           "gridcolor": "white",
           "linecolor": "white",
           "ticks": "",
           "title": {
            "standoff": 15
           },
           "zerolinecolor": "white",
           "zerolinewidth": 2
          },
          "yaxis": {
           "automargin": true,
           "gridcolor": "white",
           "linecolor": "white",
           "ticks": "",
           "title": {
            "standoff": 15
           },
           "zerolinecolor": "white",
           "zerolinewidth": 2
          }
         }
        },
        "title": {
         "text": "Inertia"
        },
        "xaxis": {
         "anchor": "y",
         "domain": [
          0,
          1
         ],
         "title": {
          "text": "Number of clusters"
         }
        },
        "yaxis": {
         "anchor": "x",
         "domain": [
          0,
          1
         ],
         "title": {
          "text": "Inertia"
         }
        }
       }
      }
     },
     "metadata": {},
     "output_type": "display_data"
    },
    {
     "data": {
      "application/vnd.plotly.v1+json": {
       "config": {
        "plotlyServerURL": "https://plot.ly"
       },
       "data": [
        {
         "hovertemplate": "Number of clusters=%{x}<br>Calinski-Harabasz=%{y}<extra></extra>",
         "legendgroup": "",
         "line": {
          "color": "#636efa",
          "dash": "solid"
         },
         "marker": {
          "symbol": "circle"
         },
         "mode": "lines",
         "name": "",
         "orientation": "v",
         "showlegend": false,
         "type": "scatter",
         "x": [
          2,
          2,
          2,
          3,
          4,
          4,
          5,
          6,
          8,
          9,
          11,
          13,
          16,
          19,
          22,
          26,
          32,
          38,
          45,
          53,
          64,
          76,
          90,
          107,
          128
         ],
         "xaxis": "x",
         "y": [
          83752.9951735235,
          83752.9951735235,
          83752.9951735235,
          48730.12476911052,
          79065.27587091691,
          79065.27587091691,
          90955.24116344651,
          84899.5607783456,
          59549.70070130499,
          65740.39200627735,
          59933.36135294344,
          55061.4324715533,
          47209.65513818935,
          48453.9192418796,
          48517.57442672397,
          41739.250621232946,
          49947.35121976405,
          34671.48302121232,
          41203.77969063904,
          39457.695593736404,
          36853.91401755899,
          35205.44657405543,
          34050.197657274235,
          28776.7679399736,
          25053.137107718077
         ],
         "yaxis": "y"
        }
       ],
       "layout": {
        "legend": {
         "tracegroupgap": 0
        },
        "template": {
         "data": {
          "bar": [
           {
            "error_x": {
             "color": "#2a3f5f"
            },
            "error_y": {
             "color": "#2a3f5f"
            },
            "marker": {
             "line": {
              "color": "#E5ECF6",
              "width": 0.5
             },
             "pattern": {
              "fillmode": "overlay",
              "size": 10,
              "solidity": 0.2
             }
            },
            "type": "bar"
           }
          ],
          "barpolar": [
           {
            "marker": {
             "line": {
              "color": "#E5ECF6",
              "width": 0.5
             },
             "pattern": {
              "fillmode": "overlay",
              "size": 10,
              "solidity": 0.2
             }
            },
            "type": "barpolar"
           }
          ],
          "carpet": [
           {
            "aaxis": {
             "endlinecolor": "#2a3f5f",
             "gridcolor": "white",
             "linecolor": "white",
             "minorgridcolor": "white",
             "startlinecolor": "#2a3f5f"
            },
            "baxis": {
             "endlinecolor": "#2a3f5f",
             "gridcolor": "white",
             "linecolor": "white",
             "minorgridcolor": "white",
             "startlinecolor": "#2a3f5f"
            },
            "type": "carpet"
           }
          ],
          "choropleth": [
           {
            "colorbar": {
             "outlinewidth": 0,
             "ticks": ""
            },
            "type": "choropleth"
           }
          ],
          "contour": [
           {
            "colorbar": {
             "outlinewidth": 0,
             "ticks": ""
            },
            "colorscale": [
             [
              0,
              "#0d0887"
             ],
             [
              0.1111111111111111,
              "#46039f"
             ],
             [
              0.2222222222222222,
              "#7201a8"
             ],
             [
              0.3333333333333333,
              "#9c179e"
             ],
             [
              0.4444444444444444,
              "#bd3786"
             ],
             [
              0.5555555555555556,
              "#d8576b"
             ],
             [
              0.6666666666666666,
              "#ed7953"
             ],
             [
              0.7777777777777778,
              "#fb9f3a"
             ],
             [
              0.8888888888888888,
              "#fdca26"
             ],
             [
              1,
              "#f0f921"
             ]
            ],
            "type": "contour"
           }
          ],
          "contourcarpet": [
           {
            "colorbar": {
             "outlinewidth": 0,
             "ticks": ""
            },
            "type": "contourcarpet"
           }
          ],
          "heatmap": [
           {
            "colorbar": {
             "outlinewidth": 0,
             "ticks": ""
            },
            "colorscale": [
             [
              0,
              "#0d0887"
             ],
             [
              0.1111111111111111,
              "#46039f"
             ],
             [
              0.2222222222222222,
              "#7201a8"
             ],
             [
              0.3333333333333333,
              "#9c179e"
             ],
             [
              0.4444444444444444,
              "#bd3786"
             ],
             [
              0.5555555555555556,
              "#d8576b"
             ],
             [
              0.6666666666666666,
              "#ed7953"
             ],
             [
              0.7777777777777778,
              "#fb9f3a"
             ],
             [
              0.8888888888888888,
              "#fdca26"
             ],
             [
              1,
              "#f0f921"
             ]
            ],
            "type": "heatmap"
           }
          ],
          "heatmapgl": [
           {
            "colorbar": {
             "outlinewidth": 0,
             "ticks": ""
            },
            "colorscale": [
             [
              0,
              "#0d0887"
             ],
             [
              0.1111111111111111,
              "#46039f"
             ],
             [
              0.2222222222222222,
              "#7201a8"
             ],
             [
              0.3333333333333333,
              "#9c179e"
             ],
             [
              0.4444444444444444,
              "#bd3786"
             ],
             [
              0.5555555555555556,
              "#d8576b"
             ],
             [
              0.6666666666666666,
              "#ed7953"
             ],
             [
              0.7777777777777778,
              "#fb9f3a"
             ],
             [
              0.8888888888888888,
              "#fdca26"
             ],
             [
              1,
              "#f0f921"
             ]
            ],
            "type": "heatmapgl"
           }
          ],
          "histogram": [
           {
            "marker": {
             "pattern": {
              "fillmode": "overlay",
              "size": 10,
              "solidity": 0.2
             }
            },
            "type": "histogram"
           }
          ],
          "histogram2d": [
           {
            "colorbar": {
             "outlinewidth": 0,
             "ticks": ""
            },
            "colorscale": [
             [
              0,
              "#0d0887"
             ],
             [
              0.1111111111111111,
              "#46039f"
             ],
             [
              0.2222222222222222,
              "#7201a8"
             ],
             [
              0.3333333333333333,
              "#9c179e"
             ],
             [
              0.4444444444444444,
              "#bd3786"
             ],
             [
              0.5555555555555556,
              "#d8576b"
             ],
             [
              0.6666666666666666,
              "#ed7953"
             ],
             [
              0.7777777777777778,
              "#fb9f3a"
             ],
             [
              0.8888888888888888,
              "#fdca26"
             ],
             [
              1,
              "#f0f921"
             ]
            ],
            "type": "histogram2d"
           }
          ],
          "histogram2dcontour": [
           {
            "colorbar": {
             "outlinewidth": 0,
             "ticks": ""
            },
            "colorscale": [
             [
              0,
              "#0d0887"
             ],
             [
              0.1111111111111111,
              "#46039f"
             ],
             [
              0.2222222222222222,
              "#7201a8"
             ],
             [
              0.3333333333333333,
              "#9c179e"
             ],
             [
              0.4444444444444444,
              "#bd3786"
             ],
             [
              0.5555555555555556,
              "#d8576b"
             ],
             [
              0.6666666666666666,
              "#ed7953"
             ],
             [
              0.7777777777777778,
              "#fb9f3a"
             ],
             [
              0.8888888888888888,
              "#fdca26"
             ],
             [
              1,
              "#f0f921"
             ]
            ],
            "type": "histogram2dcontour"
           }
          ],
          "mesh3d": [
           {
            "colorbar": {
             "outlinewidth": 0,
             "ticks": ""
            },
            "type": "mesh3d"
           }
          ],
          "parcoords": [
           {
            "line": {
             "colorbar": {
              "outlinewidth": 0,
              "ticks": ""
             }
            },
            "type": "parcoords"
           }
          ],
          "pie": [
           {
            "automargin": true,
            "type": "pie"
           }
          ],
          "scatter": [
           {
            "fillpattern": {
             "fillmode": "overlay",
             "size": 10,
             "solidity": 0.2
            },
            "type": "scatter"
           }
          ],
          "scatter3d": [
           {
            "line": {
             "colorbar": {
              "outlinewidth": 0,
              "ticks": ""
             }
            },
            "marker": {
             "colorbar": {
              "outlinewidth": 0,
              "ticks": ""
             }
            },
            "type": "scatter3d"
           }
          ],
          "scattercarpet": [
           {
            "marker": {
             "colorbar": {
              "outlinewidth": 0,
              "ticks": ""
             }
            },
            "type": "scattercarpet"
           }
          ],
          "scattergeo": [
           {
            "marker": {
             "colorbar": {
              "outlinewidth": 0,
              "ticks": ""
             }
            },
            "type": "scattergeo"
           }
          ],
          "scattergl": [
           {
            "marker": {
             "colorbar": {
              "outlinewidth": 0,
              "ticks": ""
             }
            },
            "type": "scattergl"
           }
          ],
          "scattermapbox": [
           {
            "marker": {
             "colorbar": {
              "outlinewidth": 0,
              "ticks": ""
             }
            },
            "type": "scattermapbox"
           }
          ],
          "scatterpolar": [
           {
            "marker": {
             "colorbar": {
              "outlinewidth": 0,
              "ticks": ""
             }
            },
            "type": "scatterpolar"
           }
          ],
          "scatterpolargl": [
           {
            "marker": {
             "colorbar": {
              "outlinewidth": 0,
              "ticks": ""
             }
            },
            "type": "scatterpolargl"
           }
          ],
          "scatterternary": [
           {
            "marker": {
             "colorbar": {
              "outlinewidth": 0,
              "ticks": ""
             }
            },
            "type": "scatterternary"
           }
          ],
          "surface": [
           {
            "colorbar": {
             "outlinewidth": 0,
             "ticks": ""
            },
            "colorscale": [
             [
              0,
              "#0d0887"
             ],
             [
              0.1111111111111111,
              "#46039f"
             ],
             [
              0.2222222222222222,
              "#7201a8"
             ],
             [
              0.3333333333333333,
              "#9c179e"
             ],
             [
              0.4444444444444444,
              "#bd3786"
             ],
             [
              0.5555555555555556,
              "#d8576b"
             ],
             [
              0.6666666666666666,
              "#ed7953"
             ],
             [
              0.7777777777777778,
              "#fb9f3a"
             ],
             [
              0.8888888888888888,
              "#fdca26"
             ],
             [
              1,
              "#f0f921"
             ]
            ],
            "type": "surface"
           }
          ],
          "table": [
           {
            "cells": {
             "fill": {
              "color": "#EBF0F8"
             },
             "line": {
              "color": "white"
             }
            },
            "header": {
             "fill": {
              "color": "#C8D4E3"
             },
             "line": {
              "color": "white"
             }
            },
            "type": "table"
           }
          ]
         },
         "layout": {
          "annotationdefaults": {
           "arrowcolor": "#2a3f5f",
           "arrowhead": 0,
           "arrowwidth": 1
          },
          "autotypenumbers": "strict",
          "coloraxis": {
           "colorbar": {
            "outlinewidth": 0,
            "ticks": ""
           }
          },
          "colorscale": {
           "diverging": [
            [
             0,
             "#8e0152"
            ],
            [
             0.1,
             "#c51b7d"
            ],
            [
             0.2,
             "#de77ae"
            ],
            [
             0.3,
             "#f1b6da"
            ],
            [
             0.4,
             "#fde0ef"
            ],
            [
             0.5,
             "#f7f7f7"
            ],
            [
             0.6,
             "#e6f5d0"
            ],
            [
             0.7,
             "#b8e186"
            ],
            [
             0.8,
             "#7fbc41"
            ],
            [
             0.9,
             "#4d9221"
            ],
            [
             1,
             "#276419"
            ]
           ],
           "sequential": [
            [
             0,
             "#0d0887"
            ],
            [
             0.1111111111111111,
             "#46039f"
            ],
            [
             0.2222222222222222,
             "#7201a8"
            ],
            [
             0.3333333333333333,
             "#9c179e"
            ],
            [
             0.4444444444444444,
             "#bd3786"
            ],
            [
             0.5555555555555556,
             "#d8576b"
            ],
            [
             0.6666666666666666,
             "#ed7953"
            ],
            [
             0.7777777777777778,
             "#fb9f3a"
            ],
            [
             0.8888888888888888,
             "#fdca26"
            ],
            [
             1,
             "#f0f921"
            ]
           ],
           "sequentialminus": [
            [
             0,
             "#0d0887"
            ],
            [
             0.1111111111111111,
             "#46039f"
            ],
            [
             0.2222222222222222,
             "#7201a8"
            ],
            [
             0.3333333333333333,
             "#9c179e"
            ],
            [
             0.4444444444444444,
             "#bd3786"
            ],
            [
             0.5555555555555556,
             "#d8576b"
            ],
            [
             0.6666666666666666,
             "#ed7953"
            ],
            [
             0.7777777777777778,
             "#fb9f3a"
            ],
            [
             0.8888888888888888,
             "#fdca26"
            ],
            [
             1,
             "#f0f921"
            ]
           ]
          },
          "colorway": [
           "#636efa",
           "#EF553B",
           "#00cc96",
           "#ab63fa",
           "#FFA15A",
           "#19d3f3",
           "#FF6692",
           "#B6E880",
           "#FF97FF",
           "#FECB52"
          ],
          "font": {
           "color": "#2a3f5f"
          },
          "geo": {
           "bgcolor": "white",
           "lakecolor": "white",
           "landcolor": "#E5ECF6",
           "showlakes": true,
           "showland": true,
           "subunitcolor": "white"
          },
          "hoverlabel": {
           "align": "left"
          },
          "hovermode": "closest",
          "mapbox": {
           "style": "light"
          },
          "paper_bgcolor": "white",
          "plot_bgcolor": "#E5ECF6",
          "polar": {
           "angularaxis": {
            "gridcolor": "white",
            "linecolor": "white",
            "ticks": ""
           },
           "bgcolor": "#E5ECF6",
           "radialaxis": {
            "gridcolor": "white",
            "linecolor": "white",
            "ticks": ""
           }
          },
          "scene": {
           "xaxis": {
            "backgroundcolor": "#E5ECF6",
            "gridcolor": "white",
            "gridwidth": 2,
            "linecolor": "white",
            "showbackground": true,
            "ticks": "",
            "zerolinecolor": "white"
           },
           "yaxis": {
            "backgroundcolor": "#E5ECF6",
            "gridcolor": "white",
            "gridwidth": 2,
            "linecolor": "white",
            "showbackground": true,
            "ticks": "",
            "zerolinecolor": "white"
           },
           "zaxis": {
            "backgroundcolor": "#E5ECF6",
            "gridcolor": "white",
            "gridwidth": 2,
            "linecolor": "white",
            "showbackground": true,
            "ticks": "",
            "zerolinecolor": "white"
           }
          },
          "shapedefaults": {
           "line": {
            "color": "#2a3f5f"
           }
          },
          "ternary": {
           "aaxis": {
            "gridcolor": "white",
            "linecolor": "white",
            "ticks": ""
           },
           "baxis": {
            "gridcolor": "white",
            "linecolor": "white",
            "ticks": ""
           },
           "bgcolor": "#E5ECF6",
           "caxis": {
            "gridcolor": "white",
            "linecolor": "white",
            "ticks": ""
           }
          },
          "title": {
           "x": 0.05
          },
          "xaxis": {
           "automargin": true,
           "gridcolor": "white",
           "linecolor": "white",
           "ticks": "",
           "title": {
            "standoff": 15
           },
           "zerolinecolor": "white",
           "zerolinewidth": 2
          },
          "yaxis": {
           "automargin": true,
           "gridcolor": "white",
           "linecolor": "white",
           "ticks": "",
           "title": {
            "standoff": 15
           },
           "zerolinecolor": "white",
           "zerolinewidth": 2
          }
         }
        },
        "title": {
         "text": "Calinski-Harabasz"
        },
        "xaxis": {
         "anchor": "y",
         "domain": [
          0,
          1
         ],
         "title": {
          "text": "Number of clusters"
         }
        },
        "yaxis": {
         "anchor": "x",
         "domain": [
          0,
          1
         ],
         "title": {
          "text": "Calinski-Harabasz"
         }
        }
       }
      }
     },
     "metadata": {},
     "output_type": "display_data"
    },
    {
     "data": {
      "application/vnd.plotly.v1+json": {
       "config": {
        "plotlyServerURL": "https://plot.ly"
       },
       "data": [
        {
         "hovertemplate": "Number of clusters=%{x}<br>Davies-Bouldin=%{y}<extra></extra>",
         "legendgroup": "",
         "line": {
          "color": "#636efa",
          "dash": "solid"
         },
         "marker": {
          "symbol": "circle"
         },
         "mode": "lines",
         "name": "",
         "orientation": "v",
         "showlegend": false,
         "type": "scatter",
         "x": [
          2,
          2,
          2,
          3,
          4,
          4,
          5,
          6,
          8,
          9,
          11,
          13,
          16,
          19,
          22,
          26,
          32,
          38,
          45,
          53,
          64,
          76,
          90,
          107,
          128
         ],
         "xaxis": "x",
         "y": [
          1.6490198332712633,
          1.6490198332712633,
          1.6490198332712633,
          1.8025132537529924,
          1.2839068312948572,
          1.2839068312948572,
          1.1635982176038302,
          1.3365523033334554,
          1.4198203070043878,
          1.4234197874395975,
          1.444384343922281,
          1.243479297050767,
          1.5645179385609445,
          1.3725497001511413,
          1.3128502038361711,
          1.4556129793696908,
          1.175950428783599,
          1.3805866905652722,
          1.3123019691780122,
          1.240336693299474,
          1.2120073291707159,
          1.1908369409909574,
          1.0785078257436043,
          1.0565639820499457,
          0.9964944792426443
         ],
         "yaxis": "y"
        }
       ],
       "layout": {
        "legend": {
         "tracegroupgap": 0
        },
        "template": {
         "data": {
          "bar": [
           {
            "error_x": {
             "color": "#2a3f5f"
            },
            "error_y": {
             "color": "#2a3f5f"
            },
            "marker": {
             "line": {
              "color": "#E5ECF6",
              "width": 0.5
             },
             "pattern": {
              "fillmode": "overlay",
              "size": 10,
              "solidity": 0.2
             }
            },
            "type": "bar"
           }
          ],
          "barpolar": [
           {
            "marker": {
             "line": {
              "color": "#E5ECF6",
              "width": 0.5
             },
             "pattern": {
              "fillmode": "overlay",
              "size": 10,
              "solidity": 0.2
             }
            },
            "type": "barpolar"
           }
          ],
          "carpet": [
           {
            "aaxis": {
             "endlinecolor": "#2a3f5f",
             "gridcolor": "white",
             "linecolor": "white",
             "minorgridcolor": "white",
             "startlinecolor": "#2a3f5f"
            },
            "baxis": {
             "endlinecolor": "#2a3f5f",
             "gridcolor": "white",
             "linecolor": "white",
             "minorgridcolor": "white",
             "startlinecolor": "#2a3f5f"
            },
            "type": "carpet"
           }
          ],
          "choropleth": [
           {
            "colorbar": {
             "outlinewidth": 0,
             "ticks": ""
            },
            "type": "choropleth"
           }
          ],
          "contour": [
           {
            "colorbar": {
             "outlinewidth": 0,
             "ticks": ""
            },
            "colorscale": [
             [
              0,
              "#0d0887"
             ],
             [
              0.1111111111111111,
              "#46039f"
             ],
             [
              0.2222222222222222,
              "#7201a8"
             ],
             [
              0.3333333333333333,
              "#9c179e"
             ],
             [
              0.4444444444444444,
              "#bd3786"
             ],
             [
              0.5555555555555556,
              "#d8576b"
             ],
             [
              0.6666666666666666,
              "#ed7953"
             ],
             [
              0.7777777777777778,
              "#fb9f3a"
             ],
             [
              0.8888888888888888,
              "#fdca26"
             ],
             [
              1,
              "#f0f921"
             ]
            ],
            "type": "contour"
           }
          ],
          "contourcarpet": [
           {
            "colorbar": {
             "outlinewidth": 0,
             "ticks": ""
            },
            "type": "contourcarpet"
           }
          ],
          "heatmap": [
           {
            "colorbar": {
             "outlinewidth": 0,
             "ticks": ""
            },
            "colorscale": [
             [
              0,
              "#0d0887"
             ],
             [
              0.1111111111111111,
              "#46039f"
             ],
             [
              0.2222222222222222,
              "#7201a8"
             ],
             [
              0.3333333333333333,
              "#9c179e"
             ],
             [
              0.4444444444444444,
              "#bd3786"
             ],
             [
              0.5555555555555556,
              "#d8576b"
             ],
             [
              0.6666666666666666,
              "#ed7953"
             ],
             [
              0.7777777777777778,
              "#fb9f3a"
             ],
             [
              0.8888888888888888,
              "#fdca26"
             ],
             [
              1,
              "#f0f921"
             ]
            ],
            "type": "heatmap"
           }
          ],
          "heatmapgl": [
           {
            "colorbar": {
             "outlinewidth": 0,
             "ticks": ""
            },
            "colorscale": [
             [
              0,
              "#0d0887"
             ],
             [
              0.1111111111111111,
              "#46039f"
             ],
             [
              0.2222222222222222,
              "#7201a8"
             ],
             [
              0.3333333333333333,
              "#9c179e"
             ],
             [
              0.4444444444444444,
              "#bd3786"
             ],
             [
              0.5555555555555556,
              "#d8576b"
             ],
             [
              0.6666666666666666,
              "#ed7953"
             ],
             [
              0.7777777777777778,
              "#fb9f3a"
             ],
             [
              0.8888888888888888,
              "#fdca26"
             ],
             [
              1,
              "#f0f921"
             ]
            ],
            "type": "heatmapgl"
           }
          ],
          "histogram": [
           {
            "marker": {
             "pattern": {
              "fillmode": "overlay",
              "size": 10,
              "solidity": 0.2
             }
            },
            "type": "histogram"
           }
          ],
          "histogram2d": [
           {
            "colorbar": {
             "outlinewidth": 0,
             "ticks": ""
            },
            "colorscale": [
             [
              0,
              "#0d0887"
             ],
             [
              0.1111111111111111,
              "#46039f"
             ],
             [
              0.2222222222222222,
              "#7201a8"
             ],
             [
              0.3333333333333333,
              "#9c179e"
             ],
             [
              0.4444444444444444,
              "#bd3786"
             ],
             [
              0.5555555555555556,
              "#d8576b"
             ],
             [
              0.6666666666666666,
              "#ed7953"
             ],
             [
              0.7777777777777778,
              "#fb9f3a"
             ],
             [
              0.8888888888888888,
              "#fdca26"
             ],
             [
              1,
              "#f0f921"
             ]
            ],
            "type": "histogram2d"
           }
          ],
          "histogram2dcontour": [
           {
            "colorbar": {
             "outlinewidth": 0,
             "ticks": ""
            },
            "colorscale": [
             [
              0,
              "#0d0887"
             ],
             [
              0.1111111111111111,
              "#46039f"
             ],
             [
              0.2222222222222222,
              "#7201a8"
             ],
             [
              0.3333333333333333,
              "#9c179e"
             ],
             [
              0.4444444444444444,
              "#bd3786"
             ],
             [
              0.5555555555555556,
              "#d8576b"
             ],
             [
              0.6666666666666666,
              "#ed7953"
             ],
             [
              0.7777777777777778,
              "#fb9f3a"
             ],
             [
              0.8888888888888888,
              "#fdca26"
             ],
             [
              1,
              "#f0f921"
             ]
            ],
            "type": "histogram2dcontour"
           }
          ],
          "mesh3d": [
           {
            "colorbar": {
             "outlinewidth": 0,
             "ticks": ""
            },
            "type": "mesh3d"
           }
          ],
          "parcoords": [
           {
            "line": {
             "colorbar": {
              "outlinewidth": 0,
              "ticks": ""
             }
            },
            "type": "parcoords"
           }
          ],
          "pie": [
           {
            "automargin": true,
            "type": "pie"
           }
          ],
          "scatter": [
           {
            "fillpattern": {
             "fillmode": "overlay",
             "size": 10,
             "solidity": 0.2
            },
            "type": "scatter"
           }
          ],
          "scatter3d": [
           {
            "line": {
             "colorbar": {
              "outlinewidth": 0,
              "ticks": ""
             }
            },
            "marker": {
             "colorbar": {
              "outlinewidth": 0,
              "ticks": ""
             }
            },
            "type": "scatter3d"
           }
          ],
          "scattercarpet": [
           {
            "marker": {
             "colorbar": {
              "outlinewidth": 0,
              "ticks": ""
             }
            },
            "type": "scattercarpet"
           }
          ],
          "scattergeo": [
           {
            "marker": {
             "colorbar": {
              "outlinewidth": 0,
              "ticks": ""
             }
            },
            "type": "scattergeo"
           }
          ],
          "scattergl": [
           {
            "marker": {
             "colorbar": {
              "outlinewidth": 0,
              "ticks": ""
             }
            },
            "type": "scattergl"
           }
          ],
          "scattermapbox": [
           {
            "marker": {
             "colorbar": {
              "outlinewidth": 0,
              "ticks": ""
             }
            },
            "type": "scattermapbox"
           }
          ],
          "scatterpolar": [
           {
            "marker": {
             "colorbar": {
              "outlinewidth": 0,
              "ticks": ""
             }
            },
            "type": "scatterpolar"
           }
          ],
          "scatterpolargl": [
           {
            "marker": {
             "colorbar": {
              "outlinewidth": 0,
              "ticks": ""
             }
            },
            "type": "scatterpolargl"
           }
          ],
          "scatterternary": [
           {
            "marker": {
             "colorbar": {
              "outlinewidth": 0,
              "ticks": ""
             }
            },
            "type": "scatterternary"
           }
          ],
          "surface": [
           {
            "colorbar": {
             "outlinewidth": 0,
             "ticks": ""
            },
            "colorscale": [
             [
              0,
              "#0d0887"
             ],
             [
              0.1111111111111111,
              "#46039f"
             ],
             [
              0.2222222222222222,
              "#7201a8"
             ],
             [
              0.3333333333333333,
              "#9c179e"
             ],
             [
              0.4444444444444444,
              "#bd3786"
             ],
             [
              0.5555555555555556,
              "#d8576b"
             ],
             [
              0.6666666666666666,
              "#ed7953"
             ],
             [
              0.7777777777777778,
              "#fb9f3a"
             ],
             [
              0.8888888888888888,
              "#fdca26"
             ],
             [
              1,
              "#f0f921"
             ]
            ],
            "type": "surface"
           }
          ],
          "table": [
           {
            "cells": {
             "fill": {
              "color": "#EBF0F8"
             },
             "line": {
              "color": "white"
             }
            },
            "header": {
             "fill": {
              "color": "#C8D4E3"
             },
             "line": {
              "color": "white"
             }
            },
            "type": "table"
           }
          ]
         },
         "layout": {
          "annotationdefaults": {
           "arrowcolor": "#2a3f5f",
           "arrowhead": 0,
           "arrowwidth": 1
          },
          "autotypenumbers": "strict",
          "coloraxis": {
           "colorbar": {
            "outlinewidth": 0,
            "ticks": ""
           }
          },
          "colorscale": {
           "diverging": [
            [
             0,
             "#8e0152"
            ],
            [
             0.1,
             "#c51b7d"
            ],
            [
             0.2,
             "#de77ae"
            ],
            [
             0.3,
             "#f1b6da"
            ],
            [
             0.4,
             "#fde0ef"
            ],
            [
             0.5,
             "#f7f7f7"
            ],
            [
             0.6,
             "#e6f5d0"
            ],
            [
             0.7,
             "#b8e186"
            ],
            [
             0.8,
             "#7fbc41"
            ],
            [
             0.9,
             "#4d9221"
            ],
            [
             1,
             "#276419"
            ]
           ],
           "sequential": [
            [
             0,
             "#0d0887"
            ],
            [
             0.1111111111111111,
             "#46039f"
            ],
            [
             0.2222222222222222,
             "#7201a8"
            ],
            [
             0.3333333333333333,
             "#9c179e"
            ],
            [
             0.4444444444444444,
             "#bd3786"
            ],
            [
             0.5555555555555556,
             "#d8576b"
            ],
            [
             0.6666666666666666,
             "#ed7953"
            ],
            [
             0.7777777777777778,
             "#fb9f3a"
            ],
            [
             0.8888888888888888,
             "#fdca26"
            ],
            [
             1,
             "#f0f921"
            ]
           ],
           "sequentialminus": [
            [
             0,
             "#0d0887"
            ],
            [
             0.1111111111111111,
             "#46039f"
            ],
            [
             0.2222222222222222,
             "#7201a8"
            ],
            [
             0.3333333333333333,
             "#9c179e"
            ],
            [
             0.4444444444444444,
             "#bd3786"
            ],
            [
             0.5555555555555556,
             "#d8576b"
            ],
            [
             0.6666666666666666,
             "#ed7953"
            ],
            [
             0.7777777777777778,
             "#fb9f3a"
            ],
            [
             0.8888888888888888,
             "#fdca26"
            ],
            [
             1,
             "#f0f921"
            ]
           ]
          },
          "colorway": [
           "#636efa",
           "#EF553B",
           "#00cc96",
           "#ab63fa",
           "#FFA15A",
           "#19d3f3",
           "#FF6692",
           "#B6E880",
           "#FF97FF",
           "#FECB52"
          ],
          "font": {
           "color": "#2a3f5f"
          },
          "geo": {
           "bgcolor": "white",
           "lakecolor": "white",
           "landcolor": "#E5ECF6",
           "showlakes": true,
           "showland": true,
           "subunitcolor": "white"
          },
          "hoverlabel": {
           "align": "left"
          },
          "hovermode": "closest",
          "mapbox": {
           "style": "light"
          },
          "paper_bgcolor": "white",
          "plot_bgcolor": "#E5ECF6",
          "polar": {
           "angularaxis": {
            "gridcolor": "white",
            "linecolor": "white",
            "ticks": ""
           },
           "bgcolor": "#E5ECF6",
           "radialaxis": {
            "gridcolor": "white",
            "linecolor": "white",
            "ticks": ""
           }
          },
          "scene": {
           "xaxis": {
            "backgroundcolor": "#E5ECF6",
            "gridcolor": "white",
            "gridwidth": 2,
            "linecolor": "white",
            "showbackground": true,
            "ticks": "",
            "zerolinecolor": "white"
           },
           "yaxis": {
            "backgroundcolor": "#E5ECF6",
            "gridcolor": "white",
            "gridwidth": 2,
            "linecolor": "white",
            "showbackground": true,
            "ticks": "",
            "zerolinecolor": "white"
           },
           "zaxis": {
            "backgroundcolor": "#E5ECF6",
            "gridcolor": "white",
            "gridwidth": 2,
            "linecolor": "white",
            "showbackground": true,
            "ticks": "",
            "zerolinecolor": "white"
           }
          },
          "shapedefaults": {
           "line": {
            "color": "#2a3f5f"
           }
          },
          "ternary": {
           "aaxis": {
            "gridcolor": "white",
            "linecolor": "white",
            "ticks": ""
           },
           "baxis": {
            "gridcolor": "white",
            "linecolor": "white",
            "ticks": ""
           },
           "bgcolor": "#E5ECF6",
           "caxis": {
            "gridcolor": "white",
            "linecolor": "white",
            "ticks": ""
           }
          },
          "title": {
           "x": 0.05
          },
          "xaxis": {
           "automargin": true,
           "gridcolor": "white",
           "linecolor": "white",
           "ticks": "",
           "title": {
            "standoff": 15
           },
           "zerolinecolor": "white",
           "zerolinewidth": 2
          },
          "yaxis": {
           "automargin": true,
           "gridcolor": "white",
           "linecolor": "white",
           "ticks": "",
           "title": {
            "standoff": 15
           },
           "zerolinecolor": "white",
           "zerolinewidth": 2
          }
         }
        },
        "title": {
         "text": "Davies-Bouldin"
        },
        "xaxis": {
         "anchor": "y",
         "domain": [
          0,
          1
         ],
         "title": {
          "text": "Number of clusters"
         }
        },
        "yaxis": {
         "anchor": "x",
         "domain": [
          0,
          1
         ],
         "title": {
          "text": "Davies-Bouldin"
         }
        }
       }
      }
     },
     "metadata": {},
     "output_type": "display_data"
    }
   ],
   "source": [
    "num_clusters = np.logspace(1, 7, num=25, base=2).astype(int)\n",
    "inertia = []\n",
    "calinski_harabasz = []\n",
    "davies_bouldin = []\n",
    "for k in tqdm(num_clusters):\n",
    "    kmeans = MiniBatchKMeans(n_clusters=k, random_state=42).fit(users_pca)\n",
    "    inertia.append(kmeans.inertia_)\n",
    "    calinski_harabasz.append(calinski_harabasz_score(users_pca, kmeans.labels_))\n",
    "    davies_bouldin.append(davies_bouldin_score(users_pca, kmeans.labels_))\n",
    "\n",
    "\n",
    "fig = px.line(\n",
    "    x=num_clusters,\n",
    "    y=inertia,\n",
    "    title=\"Inertia\",\n",
    "    labels={\"x\": \"Number of clusters\", \"y\": \"Inertia\"},\n",
    ")\n",
    "fig.show()\n",
    "\n",
    "fig = px.line(\n",
    "    x=num_clusters,\n",
    "    y=calinski_harabasz,\n",
    "    title=\"Calinski-Harabasz\",\n",
    "    labels={\"x\": \"Number of clusters\", \"y\": \"Calinski-Harabasz\"},\n",
    ")\n",
    "fig.show()\n",
    "\n",
    "fig = px.line(\n",
    "    x=num_clusters,\n",
    "    y=davies_bouldin,\n",
    "    title=\"Davies-Bouldin\",\n",
    "    labels={\"x\": \"Number of clusters\", \"y\": \"Davies-Bouldin\"},\n",
    ")\n",
    "fig.show()"
   ]
  },
  {
   "cell_type": "code",
   "execution_count": 13,
   "metadata": {},
   "outputs": [
    {
     "data": {
      "text/plain": [
       "array([21, 23, 11, ...,  2, 26, 12], dtype=int32)"
      ]
     },
     "execution_count": 13,
     "metadata": {},
     "output_type": "execute_result"
    }
   ],
   "source": [
    "users_clusters = MiniBatchKMeans(n_clusters=30, random_state=42).fit_predict(users_pca)\n",
    "\n",
    "users_clusters"
   ]
  },
  {
   "cell_type": "code",
   "execution_count": 14,
   "metadata": {},
   "outputs": [
    {
     "data": {
      "text/html": [
       "<div>\n",
       "<style scoped>\n",
       "    .dataframe tbody tr th:only-of-type {\n",
       "        vertical-align: middle;\n",
       "    }\n",
       "\n",
       "    .dataframe tbody tr th {\n",
       "        vertical-align: top;\n",
       "    }\n",
       "\n",
       "    .dataframe thead th {\n",
       "        text-align: right;\n",
       "    }\n",
       "</style>\n",
       "<table border=\"1\" class=\"dataframe\">\n",
       "  <thead>\n",
       "    <tr style=\"text-align: right;\">\n",
       "      <th></th>\n",
       "      <th>user_id</th>\n",
       "      <th>article_id</th>\n",
       "      <th>rating</th>\n",
       "    </tr>\n",
       "  </thead>\n",
       "  <tbody>\n",
       "    <tr>\n",
       "      <th>count</th>\n",
       "      <td>2950710</td>\n",
       "      <td>2950710</td>\n",
       "      <td>2.950710e+06</td>\n",
       "    </tr>\n",
       "    <tr>\n",
       "      <th>unique</th>\n",
       "      <td>322897</td>\n",
       "      <td>46033</td>\n",
       "      <td>NaN</td>\n",
       "    </tr>\n",
       "    <tr>\n",
       "      <th>top</th>\n",
       "      <td>5890</td>\n",
       "      <td>160974</td>\n",
       "      <td>NaN</td>\n",
       "    </tr>\n",
       "    <tr>\n",
       "      <th>freq</th>\n",
       "      <td>1048</td>\n",
       "      <td>34145</td>\n",
       "      <td>NaN</td>\n",
       "    </tr>\n",
       "    <tr>\n",
       "      <th>mean</th>\n",
       "      <td>NaN</td>\n",
       "      <td>NaN</td>\n",
       "      <td>1.093554e-01</td>\n",
       "    </tr>\n",
       "    <tr>\n",
       "      <th>std</th>\n",
       "      <td>NaN</td>\n",
       "      <td>NaN</td>\n",
       "      <td>1.293055e-01</td>\n",
       "    </tr>\n",
       "    <tr>\n",
       "      <th>min</th>\n",
       "      <td>NaN</td>\n",
       "      <td>NaN</td>\n",
       "      <td>8.116883e-04</td>\n",
       "    </tr>\n",
       "    <tr>\n",
       "      <th>25%</th>\n",
       "      <td>NaN</td>\n",
       "      <td>NaN</td>\n",
       "      <td>2.702703e-02</td>\n",
       "    </tr>\n",
       "    <tr>\n",
       "      <th>50%</th>\n",
       "      <td>NaN</td>\n",
       "      <td>NaN</td>\n",
       "      <td>5.882353e-02</td>\n",
       "    </tr>\n",
       "    <tr>\n",
       "      <th>75%</th>\n",
       "      <td>NaN</td>\n",
       "      <td>NaN</td>\n",
       "      <td>1.250000e-01</td>\n",
       "    </tr>\n",
       "    <tr>\n",
       "      <th>max</th>\n",
       "      <td>NaN</td>\n",
       "      <td>NaN</td>\n",
       "      <td>5.000000e-01</td>\n",
       "    </tr>\n",
       "  </tbody>\n",
       "</table>\n",
       "</div>"
      ],
      "text/plain": [
       "        user_id article_id        rating\n",
       "count   2950710    2950710  2.950710e+06\n",
       "unique   322897      46033           NaN\n",
       "top        5890     160974           NaN\n",
       "freq       1048      34145           NaN\n",
       "mean        NaN        NaN  1.093554e-01\n",
       "std         NaN        NaN  1.293055e-01\n",
       "min         NaN        NaN  8.116883e-04\n",
       "25%         NaN        NaN  2.702703e-02\n",
       "50%         NaN        NaN  5.882353e-02\n",
       "75%         NaN        NaN  1.250000e-01\n",
       "max         NaN        NaN  5.000000e-01"
      ]
     },
     "execution_count": 14,
     "metadata": {},
     "output_type": "execute_result"
    }
   ],
   "source": [
    "def get_ratings_from_clicks(clicks):\n",
    "    count_user_article_clicks = (\n",
    "        clicks.reset_index()\n",
    "        .groupby([\"user_id\", \"click_article_id\"])\n",
    "        .agg(\n",
    "            COUNT_user_article_clicks=(\"index\", \"count\"),\n",
    "        )\n",
    "    )\n",
    "\n",
    "    count_user_clicks = (\n",
    "        clicks.reset_index()\n",
    "        .groupby([\"user_id\"])\n",
    "        .agg(\n",
    "            COUNT_user_clicks=(\"index\", \"count\"),\n",
    "        )\n",
    "    )\n",
    "\n",
    "    ratings = count_user_article_clicks.join(count_user_clicks, on=\"user_id\")\n",
    "    ratings[\"rating\"] = (\n",
    "        ratings[\"COUNT_user_article_clicks\"] / ratings[\"COUNT_user_clicks\"]\n",
    "    )\n",
    "\n",
    "    ratings = data_helpers.reduce_dataframe_memory_usage(\n",
    "        ratings[\"rating\"]\n",
    "        .reset_index()\n",
    "        .rename({\"click_article_id\": \"article_id\"}, axis=1)\n",
    "    )\n",
    "\n",
    "    return ratings\n",
    "\n",
    "\n",
    "ratings = get_ratings_from_clicks(clicks)\n",
    "\n",
    "ratings_sample = ratings.sample(frac=0.01, random_state=42)\n",
    "\n",
    "ratings.describe(include=\"all\", datetime_is_numeric=True)"
   ]
  },
  {
   "cell_type": "code",
   "execution_count": 21,
   "metadata": {},
   "outputs": [
    {
     "data": {
      "text/plain": [
       "(322897, 364047)"
      ]
     },
     "execution_count": 21,
     "metadata": {},
     "output_type": "execute_result"
    }
   ],
   "source": [
    "from lightfm.data import Dataset\n",
    "\n",
    "\n",
    "dataset = Dataset()\n",
    "\n",
    "dataset.fit(\n",
    "    users=list(users.index),\n",
    "    items=list(articles.index),\n",
    "    user_features=users_features_df.columns.tolist(),\n",
    "    item_features=articles_features_df.columns.tolist(),\n",
    ")\n",
    "\n",
    "dataset.interactions_shape()"
   ]
  },
  {
   "cell_type": "code",
   "execution_count": 22,
   "metadata": {},
   "outputs": [
    {
     "name": "stderr",
     "output_type": "stream",
     "text": [
      "2950710it [00:08, 347392.78it/s]\n"
     ]
    }
   ],
   "source": [
    "(interactions, weights) = dataset.build_interactions(\n",
    "    (row.user_id, row.article_id, row.rating) for row in tqdm(ratings.itertuples())\n",
    ")"
   ]
  },
  {
   "cell_type": "code",
   "execution_count": 23,
   "metadata": {},
   "outputs": [
    {
     "name": "stderr",
     "output_type": "stream",
     "text": [
      "322897it [00:21, 14913.00it/s]\n"
     ]
    }
   ],
   "source": [
    "user_features = dataset.build_user_features(\n",
    "    (user_id, dict(user_feats))\n",
    "    for user_id, user_feats in tqdm(users_features_df.iterrows())\n",
    ")"
   ]
  },
  {
   "cell_type": "code",
   "execution_count": 24,
   "metadata": {},
   "outputs": [
    {
     "name": "stderr",
     "output_type": "stream",
     "text": [
      "364047it [00:43, 8415.28it/s]\n"
     ]
    }
   ],
   "source": [
    "item_features = dataset.build_item_features(\n",
    "    (article_id, dict(article_feats))\n",
    "    for article_id, article_feats in tqdm(articles_features_df.iterrows())\n",
    ")"
   ]
  },
  {
   "cell_type": "code",
   "execution_count": 26,
   "metadata": {},
   "outputs": [
    {
     "name": "stderr",
     "output_type": "stream",
     "text": [
      "Epoch: 100%|██████████| 20/20 [04:36<00:00, 13.82s/it]\n"
     ]
    },
    {
     "data": {
      "text/plain": [
       "<lightfm.lightfm.LightFM at 0x7f593bafdfd0>"
      ]
     },
     "execution_count": 26,
     "metadata": {},
     "output_type": "execute_result"
    }
   ],
   "source": [
    "model = LightFM(random_state=42)\n",
    "model.fit(\n",
    "    interactions=interactions,\n",
    "    user_features=user_features,\n",
    "    item_features=item_features,\n",
    "    sample_weight=weights,\n",
    "    epochs=20,\n",
    "    num_threads=8,\n",
    "    verbose=True,\n",
    ")"
   ]
  },
  {
   "cell_type": "code",
   "execution_count": 27,
   "metadata": {},
   "outputs": [],
   "source": [
    "user_id = \"5890\"\n",
    "\n",
    "user_idx = dataset._user_id_mapping[user_id]\n",
    "\n",
    "pred = model.predict(\n",
    "    user_ids=user_idx,\n",
    "    item_ids=list(dataset._item_id_mapping.values()),\n",
    ")"
   ]
  },
  {
   "cell_type": "code",
   "execution_count": 28,
   "metadata": {},
   "outputs": [
    {
     "data": {
      "text/html": [
       "<div>\n",
       "<style scoped>\n",
       "    .dataframe tbody tr th:only-of-type {\n",
       "        vertical-align: middle;\n",
       "    }\n",
       "\n",
       "    .dataframe tbody tr th {\n",
       "        vertical-align: top;\n",
       "    }\n",
       "\n",
       "    .dataframe thead th {\n",
       "        text-align: right;\n",
       "    }\n",
       "</style>\n",
       "<table border=\"1\" class=\"dataframe\">\n",
       "  <thead>\n",
       "    <tr style=\"text-align: right;\">\n",
       "      <th></th>\n",
       "      <th>article_id</th>\n",
       "      <th>pred</th>\n",
       "    </tr>\n",
       "  </thead>\n",
       "  <tbody>\n",
       "    <tr>\n",
       "      <th>0</th>\n",
       "      <td>111043</td>\n",
       "      <td>12.327685</td>\n",
       "    </tr>\n",
       "    <tr>\n",
       "      <th>1</th>\n",
       "      <td>183176</td>\n",
       "      <td>8.416103</td>\n",
       "    </tr>\n",
       "    <tr>\n",
       "      <th>2</th>\n",
       "      <td>168623</td>\n",
       "      <td>8.384729</td>\n",
       "    </tr>\n",
       "    <tr>\n",
       "      <th>3</th>\n",
       "      <td>348112</td>\n",
       "      <td>7.683830</td>\n",
       "    </tr>\n",
       "    <tr>\n",
       "      <th>4</th>\n",
       "      <td>63307</td>\n",
       "      <td>7.102843</td>\n",
       "    </tr>\n",
       "    <tr>\n",
       "      <th>5</th>\n",
       "      <td>224658</td>\n",
       "      <td>5.751570</td>\n",
       "    </tr>\n",
       "    <tr>\n",
       "      <th>6</th>\n",
       "      <td>199198</td>\n",
       "      <td>5.430888</td>\n",
       "    </tr>\n",
       "    <tr>\n",
       "      <th>7</th>\n",
       "      <td>123909</td>\n",
       "      <td>4.501141</td>\n",
       "    </tr>\n",
       "    <tr>\n",
       "      <th>8</th>\n",
       "      <td>234698</td>\n",
       "      <td>4.350815</td>\n",
       "    </tr>\n",
       "    <tr>\n",
       "      <th>9</th>\n",
       "      <td>283764</td>\n",
       "      <td>4.163076</td>\n",
       "    </tr>\n",
       "    <tr>\n",
       "      <th>10</th>\n",
       "      <td>313431</td>\n",
       "      <td>3.871079</td>\n",
       "    </tr>\n",
       "    <tr>\n",
       "      <th>11</th>\n",
       "      <td>42883</td>\n",
       "      <td>3.461364</td>\n",
       "    </tr>\n",
       "    <tr>\n",
       "      <th>12</th>\n",
       "      <td>272660</td>\n",
       "      <td>3.414618</td>\n",
       "    </tr>\n",
       "    <tr>\n",
       "      <th>13</th>\n",
       "      <td>16129</td>\n",
       "      <td>3.368773</td>\n",
       "    </tr>\n",
       "    <tr>\n",
       "      <th>14</th>\n",
       "      <td>272218</td>\n",
       "      <td>3.298096</td>\n",
       "    </tr>\n",
       "    <tr>\n",
       "      <th>15</th>\n",
       "      <td>140720</td>\n",
       "      <td>3.271627</td>\n",
       "    </tr>\n",
       "    <tr>\n",
       "      <th>16</th>\n",
       "      <td>331116</td>\n",
       "      <td>3.150100</td>\n",
       "    </tr>\n",
       "    <tr>\n",
       "      <th>17</th>\n",
       "      <td>160417</td>\n",
       "      <td>3.138588</td>\n",
       "    </tr>\n",
       "    <tr>\n",
       "      <th>18</th>\n",
       "      <td>277492</td>\n",
       "      <td>3.054813</td>\n",
       "    </tr>\n",
       "    <tr>\n",
       "      <th>19</th>\n",
       "      <td>257291</td>\n",
       "      <td>3.019239</td>\n",
       "    </tr>\n",
       "  </tbody>\n",
       "</table>\n",
       "</div>"
      ],
      "text/plain": [
       "   article_id       pred\n",
       "0      111043  12.327685\n",
       "1      183176   8.416103\n",
       "2      168623   8.384729\n",
       "3      348112   7.683830\n",
       "4       63307   7.102843\n",
       "5      224658   5.751570\n",
       "6      199198   5.430888\n",
       "7      123909   4.501141\n",
       "8      234698   4.350815\n",
       "9      283764   4.163076\n",
       "10     313431   3.871079\n",
       "11      42883   3.461364\n",
       "12     272660   3.414618\n",
       "13      16129   3.368773\n",
       "14     272218   3.298096\n",
       "15     140720   3.271627\n",
       "16     331116   3.150100\n",
       "17     160417   3.138588\n",
       "18     277492   3.054813\n",
       "19     257291   3.019239"
      ]
     },
     "execution_count": 28,
     "metadata": {},
     "output_type": "execute_result"
    }
   ],
   "source": [
    "pred_df = pd.DataFrame(\n",
    "    {\n",
    "        \"article_id\": list(dataset._item_id_mapping.keys()),\n",
    "        \"pred\": pred,\n",
    "    }\n",
    ")\n",
    "\n",
    "pred_df.sort_values(\"pred\", ascending=False).reset_index(drop=True).head(20)"
   ]
  },
  {
   "cell_type": "code",
   "execution_count": 29,
   "metadata": {},
   "outputs": [],
   "source": [
    "def aggregate_articles(articles):\n",
    "    return articles.groupby(lambda x: True).agg(\n",
    "        {\n",
    "            col: \"mean\"\n",
    "            if is_numeric_dtype(articles.dtypes[col])\n",
    "            else lambda x: x.mode()[0]\n",
    "            for col in articles.columns\n",
    "        }\n",
    "    )\n",
    "\n",
    "\n",
    "def get_user_interest(user_id, clicks, articles, strategy=\"last_click\"):\n",
    "    user_id = str(user_id)\n",
    "\n",
    "    if strategy == \"last_click\":\n",
    "        last_clicked_article_id = (\n",
    "            clicks.query(\"user_id == @user_id\")\n",
    "            .sort_values(\"click_timestamp\", ascending=False)\n",
    "            .reset_index(drop=True)\n",
    "            .iloc[0][\"click_article_id\"]\n",
    "        )\n",
    "        interest = articles.query(\"article_id == @last_clicked_article_id\")\n",
    "\n",
    "    elif strategy == \"last_session\":\n",
    "        last_session_id = (\n",
    "            clicks.query(\"user_id == @user_id\")\n",
    "            .sort_values(\"click_timestamp\", ascending=False)\n",
    "            .reset_index(drop=True)\n",
    "            .iloc[0][\"session_id\"]\n",
    "        )\n",
    "        session_article_ids = clicks.query(\"session_id == @last_session_id\")[\n",
    "            \"click_article_id\"\n",
    "        ]\n",
    "        interest = aggregate_articles(\n",
    "            articles.query(\"article_id in @session_article_ids\")\n",
    "        ).drop([\"article_id\"], axis=1)\n",
    "\n",
    "    elif strategy == \"all_clicks\":\n",
    "        all_article_ids = clicks.query(\"user_id == @user_id\")[\"click_article_id\"]\n",
    "        interest = aggregate_articles(\n",
    "            articles.query(\"article_id in @all_article_ids\")\n",
    "        ).drop([\"article_id\"], axis=1)\n",
    "\n",
    "    else:\n",
    "        raise NotImplementedError\n",
    "\n",
    "    return interest\n",
    "\n",
    "\n",
    "def prepare_for_scale(articles, category_id):\n",
    "    articles_copy = articles.drop([\"article_id\", \"similarity\"], axis=1, errors=\"ignore\")\n",
    "    articles_copy[\"category_id\"] = articles_copy[\"category_id\"].apply(\n",
    "        lambda x: category_id if int(x) == category_id else 0\n",
    "    )\n",
    "    articles_copy[\"created_at_ts\"] = articles_copy[\"created_at_ts\"].apply(\n",
    "        lambda x: x.value\n",
    "    )\n",
    "\n",
    "    return articles_copy\n",
    "\n",
    "\n",
    "def get_closest_articles(interest, articles, n=10):\n",
    "    category_id = interest[\"category_id\"].iloc[0]\n",
    "\n",
    "    scaler = StandardScaler()\n",
    "    articles_std = scaler.fit_transform(prepare_for_scale(articles, category_id))\n",
    "    interest_std = scaler.transform(prepare_for_scale(interest, category_id))\n",
    "\n",
    "    articles = articles.copy()\n",
    "    articles[\"similarity\"] = cosine_similarity(interest_std, articles_std)[0]\n",
    "\n",
    "    return (\n",
    "        articles.sort_values(\"similarity\", ascending=False).iloc[:n],\n",
    "        scaler,\n",
    "        articles_std,\n",
    "        interest_std,\n",
    "    )\n",
    "\n",
    "\n",
    "def get_collaborative_reco(user_id, model, dataset, n=10):\n",
    "    user_idx = dataset._user_id_mapping[user_id]\n",
    "\n",
    "    pred = model.predict(\n",
    "        user_ids=user_idx,\n",
    "        item_ids=list(dataset._item_id_mapping.values()),\n",
    "    )\n",
    "\n",
    "    pred_df = pd.DataFrame(\n",
    "        {\n",
    "            \"article_id\": list(dataset._item_id_mapping.keys()),\n",
    "            \"pred\": pred,\n",
    "        }\n",
    "    )\n",
    "\n",
    "    return list(pred_df.sort_values(\"pred\", ascending=False).head(n)[\"article_id\"])"
   ]
  },
  {
   "cell_type": "code",
   "execution_count": 30,
   "metadata": {},
   "outputs": [],
   "source": [
    "user_id = \"5890\"\n",
    "\n",
    "interest = get_user_interest(\n",
    "    user_id, clicks, articles.reset_index(), strategy=\"all_clicks\"\n",
    ")\n",
    "category_id = interest[\"category_id\"].iloc[0]\n",
    "\n",
    "closest_article_ids = get_collaborative_reco(user_id, model, dataset)\n",
    "\n",
    "scaler = StandardScaler()\n",
    "articles_std = scaler.fit_transform(prepare_for_scale(articles, category_id))\n",
    "articles_sample_std = scaler.transform(prepare_for_scale(articles_sample, category_id))\n",
    "\n",
    "interest_std = scaler.transform(prepare_for_scale(interest, category_id))\n",
    "\n",
    "closest_articles = articles.iloc[closest_article_ids].reset_index()\n",
    "closest_articles_std = scaler.transform(\n",
    "    prepare_for_scale(closest_articles, category_id)\n",
    ")"
   ]
  },
  {
   "cell_type": "code",
   "execution_count": 31,
   "metadata": {},
   "outputs": [
    {
     "data": {
      "application/vnd.plotly.v1+json": {
       "config": {
        "plotlyServerURL": "https://plot.ly"
       },
       "data": [
        {
         "hovertemplate": "color=174<br>symbol=174<br>x=%{x}<br>y=%{y}<extra></extra>",
         "legendgroup": "174, 174",
         "marker": {
          "color": "#636efa",
          "opacity": 0.3,
          "symbol": "circle"
         },
         "mode": "markers",
         "name": "174, 174",
         "showlegend": true,
         "type": "scattergl",
         "x": [
          -3.9046853504645638,
          -1.4953504809268687,
          -1.3719973709764473,
          2.1761162107695364,
          -1.369433971153758,
          -2.1212700412305154,
          4.163906236946594,
          5.111029099483803,
          -0.9039414554739317,
          -2.149444391070161,
          -3.6525702735121293,
          1.5086910759498546,
          3.1381911534819245,
          -5.065310481404449,
          3.5152050190239645,
          1.2840855678120198,
          -4.100783726401781,
          2.5184700643072104,
          1.7922003910559616,
          -4.725090367078467,
          -2.318396096995695,
          -0.13946837872324794,
          0.8476414261799796,
          -0.47484226557247183,
          1.9495249684781804,
          -5.15490905672264,
          -4.164248774218933,
          -4.53199304641213,
          6.075425056187835,
          2.4820260847341467,
          3.886951485330939,
          1.8741850122676353,
          -0.7814888964018506,
          1.0327554202717897,
          0.5988819602394406,
          2.226949004507847,
          0.47680613835666746,
          -3.4445980812313097,
          -0.5456664437998336,
          0.8955833995151149,
          -2.9227985625521824,
          1.7863384303831218,
          1.5680631359733082,
          0.6685874673801645,
          -2.134464425168208,
          -5.909614558012857,
          3.4453531161337736,
          -1.916502348880412,
          -5.322050777051634,
          -6.357530650736757,
          -2.9351737660328943,
          -1.9427022867431063,
          -3.301105829521254,
          -3.0785588647841453,
          3.48176345290709,
          -3.000694413833942,
          -5.557062163042431,
          -4.380624043789866,
          -4.751005422657097,
          -1.7237495004542693,
          -1.4942577428681123,
          -6.893080821155256,
          -3.325269741523685,
          -4.59992404231153,
          -3.1223094576129564,
          0.25198268865033335,
          2.5784879152050806,
          -3.4715913569474166,
          2.7120183797686552,
          -2.4350997138819057,
          3.157898990491734,
          -2.644947554081472
         ],
         "xaxis": "x",
         "y": [
          -2.955693761948106,
          4.719082358998243,
          -3.232808659227816,
          5.150124987215446,
          2.901263723228997,
          4.995457792544978,
          4.403076036782004,
          2.3491784067220802,
          -3.8952181766285023,
          -1.5634326808487597,
          7.1624044594938905,
          2.660792543272881,
          4.3117083130945835,
          -0.45778835555861136,
          1.2139107881128137,
          -0.9773491204138928,
          -0.7291381555390992,
          4.40348041211366,
          3.058465153014419,
          -0.4207236482132138,
          -0.1891125220343607,
          -3.3559342505637813,
          4.139882273183732,
          3.9410145841157127,
          5.128412802248344,
          1.5649698565295334,
          3.307560232954097,
          -1.1193637566771328,
          0.8688478744760358,
          5.735392899523777,
          5.685822173543806,
          3.3714540756950377,
          5.001136405541553,
          -7.416577275165656,
          4.976607581820235,
          3.740242686623248,
          -0.8394330749932486,
          0.8405881128645563,
          5.325771415565478,
          2.096587886167862,
          0.005452528091578339,
          2.6125502001252228,
          -0.6995572780945051,
          -7.7366739426617634,
          3.2707518696003275,
          -5.481455347745613,
          1.5256981053980467,
          2.3556249174985533,
          5.911475983723829,
          -2.6217672988451817,
          -1.0576242140565582,
          -0.5710132299082137,
          2.9998662955170494,
          -2.058012503694092,
          4.724916587303386,
          5.763296370816389,
          -2.121559373090027,
          6.716277845684281,
          -2.082009688243178,
          -1.5032456667487923,
          4.017523742078683,
          -0.5364027000160327,
          0.25253254916502166,
          0.7124935729234302,
          -2.2429289979054126,
          4.768695717121197,
          2.1460013596915504,
          -1.5714726933656211,
          6.214460089985157,
          4.9469356852134485,
          2.6507423460482955,
          -2.4163106388449087
         ],
         "yaxis": "y"
        },
        {
         "hovertemplate": "color=331<br>symbol=331<br>x=%{x}<br>y=%{y}<extra></extra>",
         "legendgroup": "331, 331",
         "marker": {
          "color": "#EF553B",
          "opacity": 0.3,
          "symbol": "diamond"
         },
         "mode": "markers",
         "name": "331, 331",
         "showlegend": true,
         "type": "scattergl",
         "x": [
          5.370127379193663,
          4.913137275198521,
          4.4106449595593675,
          7.7962363235706365,
          0.19137019574213865,
          4.405572841595284,
          3.5354334335970994,
          3.1660225692997828,
          4.9390629005677145,
          4.086734469026776,
          6.328198274355622,
          4.81962815285644,
          2.4925673231665453,
          3.843977881750774,
          2.1054255597803806,
          4.496233448867783,
          5.80654657947899,
          6.722038694903072,
          9.85633410375144,
          4.754061014421424,
          2.175473729416502,
          1.3411414443931644,
          5.304462776766444,
          2.5085778820650377,
          6.565757000682453,
          4.3070665951358915,
          7.285285264098348,
          3.675300170955686,
          1.9022170557597737,
          3.8557468145398697,
          7.747307313785513,
          0.30634235599676957,
          5.912285409228247,
          6.216230745577305,
          5.170696969482089,
          4.48696845100938,
          0.07366300205465419,
          7.646884281135293,
          2.458412487921504,
          2.9513388413632846,
          2.0194329848014396
         ],
         "xaxis": "x",
         "y": [
          -0.9568591923352743,
          -2.21663535211073,
          -1.586116002506413,
          -2.559703917427538,
          -0.16390132823801257,
          -1.7676695517349164,
          0.402174354469542,
          -0.46842386436816763,
          -0.08065059346394327,
          1.8178738705093247,
          -1.015554437636289,
          -0.9580836507147923,
          -8.881426566856165,
          -9.11278607749786,
          1.0642269388332763,
          -2.215080313347206,
          -0.9914229815451436,
          1.0170569085429988,
          -0.6489065924403429,
          0.8608998644928497,
          -1.547194209498115,
          0.39131629762777326,
          -2.3978286599490772,
          -6.848432746428279,
          -5.503567451802859,
          -0.9923645645130011,
          -2.9941189061659403,
          -5.628847010196089,
          -8.715457054505695,
          -0.6031462413744584,
          -1.6528338373172946,
          -0.6588648335777696,
          -2.3278686377216444,
          -5.850661968519844,
          1.5069256488925362,
          -2.4517224477715986,
          -7.232227697695273,
          2.433254079048441,
          -1.866594042029968,
          -1.4314773402010939,
          1.0293665743296523
         ],
         "yaxis": "y"
        },
        {
         "hovertemplate": "color=209<br>symbol=209<br>x=%{x}<br>y=%{y}<extra></extra>",
         "legendgroup": "209, 209",
         "marker": {
          "color": "#00cc96",
          "opacity": 0.3,
          "symbol": "square"
         },
         "mode": "markers",
         "name": "209, 209",
         "showlegend": true,
         "type": "scattergl",
         "x": [
          3.8742133256089537,
          -2.9813336382838567,
          2.987706174202666,
          -1.4907424967182914,
          1.0493528938369518,
          3.5212124603082073,
          -0.030868389742202282,
          -3.6648109004766525,
          6.511794911788228,
          -3.775723823605495,
          -3.4318962562174873,
          -0.9933738673285084,
          -0.03821604193651167,
          -2.0326884920833805,
          -2.449451838536367,
          -1.1146061281284902,
          3.71572529073023,
          -3.7991340514552645,
          3.57089475330082,
          -4.629298928785597,
          2.788244055502862,
          -0.8195274097769744,
          -1.0346878459844788,
          -2.5316102146533512,
          2.8462339452989034,
          3.7630596133763867,
          3.8957726998691693,
          0.3291835261998747,
          -0.32906860670238797,
          -4.275925794014402,
          -3.9302246394406843,
          4.258014794733644,
          -3.0064881437897175,
          -2.342312792481,
          7.632793957844048,
          -4.75814815959165,
          8.725289840207367,
          3.463017872922599,
          3.686307563282286,
          -6.485833799018918,
          -1.9298924095381453,
          -4.303840125974083,
          -6.052471956985835,
          -2.522829908348552,
          -3.656778273227637,
          -4.333495264669221,
          0.44483687408504474,
          1.696971038654025,
          0.3116529680731555,
          4.571273518332276,
          -0.25443797553245817
         ],
         "xaxis": "x",
         "y": [
          4.247489527178089,
          0.0453142837792048,
          5.236198102928457,
          -1.9191438234266838,
          4.406115803648891,
          5.321376774940873,
          5.003585754574395,
          -0.7774091597594073,
          3.853257012792554,
          -1.9874982788729736,
          1.5970636608610886,
          -0.03303964430505993,
          2.2058192729462864,
          -4.589025799932084,
          -5.433589224220773,
          -2.2528604426139656,
          5.045716154849,
          3.672104164111596,
          3.6512105445798864,
          3.5686278532166296,
          3.9021222000081766,
          -2.0392153619930107,
          1.639599011506267,
          -2.3769757068062343,
          5.27083346188695,
          4.963853024534412,
          4.763738551499237,
          -4.485425705433068,
          4.7064295887691525,
          -3.3748162257917365,
          2.240080072025596,
          3.16336971327616,
          5.195255127584152,
          1.0619544472055642,
          6.989098642156574,
          4.796995255721393,
          5.581615013635584,
          5.22347335723559,
          3.683317077977719,
          1.2699354062045123,
          -3.682121372286112,
          -0.9163036752583746,
          -5.109796524123833,
          -2.8132438494547958,
          2.98492710050091,
          1.5065042482207809,
          -0.4328555515921596,
          -3.2349955806599002,
          3.2256305007384856,
          -4.3441490226023225,
          3.930605269940643
         ],
         "yaxis": "y"
        },
        {
         "hovertemplate": "color=317<br>symbol=317<br>x=%{x}<br>y=%{y}<extra></extra>",
         "legendgroup": "317, 317",
         "marker": {
          "color": "#ab63fa",
          "opacity": 0.3,
          "symbol": "x"
         },
         "mode": "markers",
         "name": "317, 317",
         "showlegend": true,
         "type": "scattergl",
         "x": [
          -5.108934369728244,
          -0.03838683044379939,
          1.0915676481653305,
          0.6861633525517612,
          -2.608027052008139,
          -5.519248482184357,
          1.5091903856805413,
          2.1596573957468896,
          -0.019234216796884734,
          -0.8581947103449532,
          -2.5413210350257787,
          -1.6976121690881596,
          -4.437648088099685,
          0.21432151812442332,
          -1.882309984386071,
          -1.8687890235986648,
          -1.7769168114077836,
          2.8140277598391115,
          -2.0863094731620655,
          -0.18069513625786263,
          -5.173309768757704,
          -5.31391546374668,
          0.019374013460588233,
          -7.079508387998267,
          1.9823049433580848,
          -3.4247513172770856,
          0.4057663480304781,
          -2.890885199810135,
          1.9237200680394144,
          -5.866432114719069,
          2.1928713811270755,
          -0.02949298265247077,
          -3.280277044997324,
          -2.441044988066015
         ],
         "xaxis": "x",
         "y": [
          1.801288958924261,
          -3.1380274314907752,
          -4.153176862156783,
          2.4810428496314447,
          1.6196747105019813,
          -3.1364541329751456,
          0.6501083203057949,
          1.5660508006076792,
          2.428924428556597,
          -3.194578573251571,
          -6.30690670850838,
          -6.175270638492104,
          3.810787771247391,
          -3.321782296997356,
          0.5837535520990799,
          4.036017726281197,
          -3.504376421264036,
          -4.212154204241174,
          -4.691899339512479,
          1.4489697748466464,
          2.935465623901868,
          3.0245437301237716,
          1.6915543078475446,
          -2.4229519008509595,
          -4.63859398919513,
          -0.7302396603804305,
          -2.677184135277858,
          -3.6935097418630587,
          4.421471428461214,
          -1.2911060622812094,
          2.4587647047625816,
          2.9887024967838878,
          2.1985682494142984,
          -4.5390608330145055
         ],
         "yaxis": "y"
        },
        {
         "hovertemplate": "color=431<br>symbol=431<br>x=%{x}<br>y=%{y}<extra></extra>",
         "legendgroup": "431, 431",
         "marker": {
          "color": "#FFA15A",
          "opacity": 0.3,
          "symbol": "cross"
         },
         "mode": "markers",
         "name": "431, 431",
         "showlegend": true,
         "type": "scattergl",
         "x": [
          0.2809085630902942,
          -2.1667693344882313,
          2.677643018152996,
          -0.9603167243684029,
          0.43700955274117215,
          -0.5730188882821053,
          0.3469447681218279,
          -5.401139245514668,
          0.4360533280941519,
          4.15927244480999,
          -4.939935200668566,
          0.02958710086421539,
          -7.38161614593504,
          1.7286201321299648,
          -1.4616421778098578,
          -6.217309805368862,
          3.4713359523771508,
          -1.7301127915805643,
          2.164137554941836,
          -6.166350739129712,
          -0.24435035275080919,
          3.556042891351834,
          0.9237376509243459,
          6.1496554781710175,
          -1.328852740616641,
          -2.3113850451455105,
          -0.6956837894324446,
          6.125484577059545,
          -4.4288705475899794,
          -3.1611382605452345,
          -4.6024772559526035,
          -4.258842451793239,
          -5.401066933100048,
          -5.0790996759651685,
          -1.5141525603652706,
          2.281420106160443,
          0.7574499634415653,
          -0.526577532524068,
          1.6602108704836882,
          -3.5467313295650196,
          -4.932647603671686,
          2.7554226032552127,
          0.6972200913603945,
          -7.60285123369747,
          -6.073485364353334,
          -2.208958959968519,
          0.07107421865564986,
          4.733091711460332,
          -4.9392921668836465,
          -4.385137181059315,
          6.9017655871861985,
          -3.3049538381045327,
          5.4417704708524814,
          -4.93488452887191,
          4.088002766439141,
          2.920985231281366,
          -1.0682826991357774,
          -6.788527886580932,
          -1.3445049450942315,
          2.61272823242439,
          0.10085215516595449,
          -2.89117991089318,
          1.705133641181748,
          7.678546854851321,
          -2.1221917717692818,
          5.357744319201177,
          -4.723747721224085,
          -1.1395690916691028,
          -3.1543078599986623,
          -5.571966044147878,
          -0.9605171414502082,
          -0.7368849108798498,
          -5.3526947553904405,
          1.8216682712441037,
          0.2772701916784302,
          0.3480239527559118,
          -2.9567279494446854,
          -4.760310417984781,
          4.259883416339975,
          6.247159194566109,
          -2.7069401341836383,
          -4.257217261272439
         ],
         "xaxis": "x",
         "y": [
          -2.4002538271900993,
          -5.668016969811475,
          -0.6940715421404529,
          -5.468531270796771,
          -3.2184602950249945,
          2.0341962183157576,
          -5.791279330274119,
          -4.605762095248801,
          -0.08742730529626254,
          0.03621323657161517,
          -5.999903137968491,
          -4.421782536904226,
          1.1743875657845464,
          -3.195855491731232,
          -8.61197611380649,
          1.5793192929387003,
          -0.913223927111926,
          -6.139865109044954,
          1.4566534326048557,
          -6.153364256741901,
          -2.019034619523012,
          -2.9972850917384837,
          -5.701134945769514,
          3.444198558069703,
          -0.7611489309115799,
          -0.21459350655575893,
          -0.1842751942564382,
          2.0363870588157846,
          1.184569651714247,
          3.174504669956087,
          -5.7877454781087065,
          3.201919924485028,
          0.6354468560450574,
          1.1317735092583432,
          -2.8063257188939073,
          2.292461032341688,
          -2.8440358356912143,
          -4.982011226390058,
          0.08271374725280403,
          0.31838959149842266,
          -3.7736051506241997,
          0.041938716036308755,
          -3.1106811411598465,
          -3.5116216992557416,
          -4.27066755202873,
          -6.704592130415548,
          -1.9491664770577246,
          -1.042242599613864,
          -4.153133366487228,
          -5.095305618260175,
          2.0885587227064524,
          0.18024516651322708,
          -1.4112230737890217,
          2.093793739808482,
          -0.30006074180281017,
          -0.41396631968429015,
          3.8865105833024867,
          -4.019459610886804,
          -0.6627210049060844,
          -0.7186799129564182,
          -4.803074845413985,
          0.154539042144813,
          -6.097687390921063,
          3.1520978128508648,
          -1.5884915702984514,
          -2.0210075589424465,
          -1.7826688930103016,
          -2.8204388494491184,
          -0.5226310102848836,
          -6.001764611034931,
          -3.951500373418698,
          4.723993816382666,
          0.7876732733987902,
          2.567880250682045,
          0.36590474211002744,
          -1.5767360054501192,
          -0.10327300730944924,
          -0.9289467225820932,
          -1.5646154660642837,
          3.4978696986776514,
          -0.8984900991687196,
          2.4063017903211583
         ],
         "yaxis": "y"
        },
        {
         "hovertemplate": "color=117<br>symbol=117<br>x=%{x}<br>y=%{y}<extra></extra>",
         "legendgroup": "117, 117",
         "marker": {
          "color": "#19d3f3",
          "opacity": 0.3,
          "symbol": "circle"
         },
         "mode": "markers",
         "name": "117, 117",
         "showlegend": true,
         "type": "scattergl",
         "x": [
          -2.0187369493764438,
          0.8375652159293198
         ],
         "xaxis": "x",
         "y": [
          -2.0885063034019207,
          -9.543540640696632
         ],
         "yaxis": "y"
        },
        {
         "hovertemplate": "color=281<br>symbol=281<br>x=%{x}<br>y=%{y}<extra></extra>",
         "legendgroup": "281, 281",
         "marker": {
          "color": "#FF6692",
          "opacity": 0.3,
          "symbol": "diamond"
         },
         "mode": "markers",
         "name": "281, 281",
         "showlegend": true,
         "type": "scattergl",
         "x": [
          3.251448267575841,
          5.182200064199126,
          6.452546482009903,
          5.124856055523628,
          4.117342223626455,
          -1.2349489043887425,
          7.162257827413062,
          0.5660600209773455,
          6.107320887422502,
          -0.1613105436387643,
          5.3400179424156615,
          4.599994349318056,
          5.59623473584229,
          4.206133330332811,
          -0.09710193620617243,
          2.5728048133912225,
          4.619948871501047,
          1.5618780233026712,
          -2.537401644432738,
          7.44452620149603,
          6.164685077999041,
          3.436928204321716,
          1.8205985804591698,
          5.854915873119998,
          4.564042772208835,
          1.8065405430917036,
          3.3324700505478737,
          1.0845635243419618,
          1.3918626645311651,
          3.9922872802759093,
          5.023652812522986,
          3.4175583440065496,
          2.0405246653547313,
          9.639069059057276,
          7.126915098165375,
          3.4353768659707775,
          3.2289282471857454,
          2.055302794020447,
          2.545394337812415,
          5.578315304656636,
          2.4188052090487266,
          7.569952857785047,
          3.0717156615557304,
          2.0486918380334944,
          4.950840724972264,
          7.346420010337422,
          1.4678101782629982,
          4.4173302201883295,
          6.517266003080681,
          3.977207375757265,
          2.2329489882985327,
          7.300183651416783,
          5.54683898162653,
          4.41370562121863,
          1.930900581519375,
          4.772078407184858,
          4.831150117264684,
          5.959950241107699,
          5.276815435290309,
          3.6244014527070068,
          5.959013450902452,
          4.31771510507449,
          6.687972153306322,
          5.927373842662866,
          4.243190480671893,
          6.8229972724981405,
          10.436424206950786,
          -0.36654186805722583,
          -0.58668248993526,
          6.805016503582089,
          4.997966075203669,
          7.327754277913845,
          1.0527859834613063,
          7.091355722229099,
          4.4644318342566,
          5.644820643428821,
          5.4238513761305365,
          4.870912234415587,
          4.454205118365349,
          6.229406643353037,
          6.329535604744803,
          1.984885369150016,
          7.822977137384456,
          5.606764872556102,
          1.603848919916849,
          7.090628690641811,
          5.102295331986354,
          2.3458077646565427,
          3.0037743601383364,
          7.447782294327904,
          5.581345779981883,
          7.608942163608749,
          3.0556171473070814,
          2.8946466024010897,
          0.6936325270248603,
          5.795213604046669,
          4.3896076477151835,
          4.796001580585346,
          4.15326630834541,
          0.6325769793360506,
          6.816748673751374,
          7.30787043111142,
          5.768530902124437,
          6.307364132231563,
          2.3345017417334866,
          0.04913960407695618,
          0.9547526884027101,
          7.446094973223043,
          2.827066968299462,
          6.4141529349120505,
          5.2700771683820475,
          2.35407364884862,
          2.7354145776608347,
          1.122808605338933,
          6.280136887976894,
          5.059725823927833,
          7.483021857321943,
          0.1717847036464595,
          5.972321704966841,
          5.31190587567724,
          8.247969263186297,
          5.407309044010904,
          9.459377499687646,
          5.580156247741521,
          1.576580757049332,
          2.3220625870867813,
          5.701696277748949
         ],
         "xaxis": "x",
         "y": [
          -0.5750737820668873,
          -1.7371894275625843,
          -5.09670977765113,
          2.00681259667803,
          -4.005530275793073,
          -6.603044722080361,
          -0.30706140144774124,
          -10.396756450282803,
          -0.6392306714995809,
          -6.271277072933471,
          -8.076709726070439,
          -4.922374025722361,
          -5.807537010353662,
          -12.961255576007,
          -7.082399468405217,
          -3.6392012936347937,
          -1.5208781932872164,
          1.077300137912103,
          -2.6534925021841764,
          -3.7683710512666324,
          -4.998299951507239,
          -4.763290622837929,
          -8.691662806578275,
          -2.2478473272441137,
          -4.067340744955059,
          -4.9078863641417225,
          -3.5224830146677943,
          1.1573641088229705,
          1.5149727707918639,
          -6.6249003559568145,
          -1.6914290519363675,
          -12.015719926998615,
          -11.969438657712347,
          -4.139728895692717,
          -1.0684809070304038,
          -13.394136517447942,
          -2.6943213961574473,
          -6.026375601992476,
          -3.145870552222036,
          -2.5384430942872473,
          -7.885512287889587,
          -6.2765916099178,
          -7.650865375549306,
          -7.156033739437616,
          -3.0630536878875887,
          -8.924920557015442,
          -3.7261006975016833,
          0.28559363635229734,
          -5.662391178742377,
          -2.5171134875081127,
          -7.199543418662093,
          -4.61878471441597,
          -0.4165182119029654,
          -12.64136612504868,
          -7.328897813385807,
          -1.8201385098105547,
          -4.089401448721529,
          -1.957760694919697,
          -3.5888745527372925,
          -3.1695330230376357,
          -2.7504961477134184,
          0.4092416949910709,
          -4.221629277892681,
          -3.1585161052924176,
          -11.832893877846146,
          -1.9795975299460866,
          1.244743319356724,
          -8.558816378312851,
          -2.3535790497805027,
          -0.6414717657223311,
          -8.628811626304488,
          -4.268485137907525,
          -9.515953118695467,
          -4.508110000523871,
          -4.090793044271916,
          -1.401180438902185,
          -4.4864563562264586,
          -10.287639457877216,
          -0.035847814434174875,
          -3.1641417758395707,
          0.16754037841048208,
          -6.5567544314965005,
          -3.8973666611852673,
          -4.129739564783964,
          -8.78999317050011,
          2.700528662373957,
          -7.791451747142465,
          -11.93793595251259,
          -10.099527326316133,
          -5.641551307016216,
          -0.11659907739008682,
          -9.119667108771585,
          -9.978504962897416,
          -7.037116732529799,
          -3.667223312971631,
          -2.428678636272875,
          -3.3564564986711822,
          -2.543719203791192,
          -2.811428279637269,
          -3.5126976918675417,
          -10.824786364911938,
          -2.7261529860073384,
          -7.397365256487831,
          -5.81433574394931,
          -2.824815098761685,
          -11.474860103620586,
          -1.662430454658534,
          -6.290397552743618,
          -6.01426571038186,
          -11.38639452383724,
          -8.078023486567982,
          -0.9298086820882098,
          -2.678584070102797,
          -6.896464139158653,
          -2.4230407336868685,
          -3.0951839387778004,
          -3.1395918051120995,
          -4.328630407666971,
          -3.1190573113498914,
          -3.2970832116971116,
          -4.3480626564376985,
          -11.517125630026243,
          -4.247871759856159,
          -4.109467190713261,
          -10.205466152419298,
          -3.8653074229945266,
          -3.0901334425471165
         ],
         "yaxis": "y"
        },
        {
         "hovertemplate": "color=388<br>symbol=388<br>x=%{x}<br>y=%{y}<extra></extra>",
         "legendgroup": "388, 388",
         "marker": {
          "color": "#B6E880",
          "opacity": 0.3,
          "symbol": "square"
         },
         "mode": "markers",
         "name": "388, 388",
         "showlegend": true,
         "type": "scattergl",
         "x": [
          -4.039388681754861,
          2.5927623551881562,
          -2.57511221932253,
          -0.6544992120685724,
          -5.213842256798575,
          -6.016410218014723,
          -1.6952649444437013,
          1.2802484015505895,
          -5.043688507206196,
          -0.5921139968839703,
          1.193515141871796,
          -4.178070064305109,
          1.1836617596070114,
          -2.3102078078966928,
          -4.3078925412083215,
          -4.667990298329243,
          -4.416892956257166,
          -4.161701806699707,
          -3.672361101827106,
          0.7777290797519351,
          -0.27939239226408374,
          -6.341190551537863,
          -4.371365782430734,
          -5.766840291866862,
          -0.7306830523300518,
          -0.08848119995111306,
          -2.993117145637295,
          -0.13247551227544047,
          4.02073221594036,
          -1.1766707535843575,
          -3.1863879077722674,
          -2.9165573514261434,
          -5.25286421545723,
          -5.977377995806875,
          -2.0584783737670325,
          -3.0748267148333364,
          -1.0054413122990846,
          -5.619664204020142,
          -5.822671384650292,
          4.5262922926804565,
          -3.2393486948745114,
          -3.8891611991386754,
          -6.765412459665501,
          -0.3795179587521012,
          -4.385530789765769
         ],
         "xaxis": "x",
         "y": [
          6.004519228108912,
          1.5148302302146215,
          3.162157613378506,
          1.2009542190049804,
          -1.340270302043059,
          5.063913581802705,
          -3.2165968885454848,
          -2.8409209706719545,
          3.969345946374109,
          1.6056604235785281,
          6.549316071108025,
          6.01651467067436,
          4.686663256924802,
          1.350264667358331,
          4.276488259479437,
          -0.13805358059961392,
          4.1931990277332005,
          2.7302493748117698,
          4.696813214719313,
          2.1875863396669732,
          -3.4381400405434994,
          2.8619979077925493,
          5.779294328651765,
          3.4804023045032784,
          3.8824374132206354,
          3.054448112760027,
          5.066880895154858,
          4.475504874287749,
          5.102037330492283,
          2.209024737042407,
          4.382843841579137,
          4.094779497482417,
          6.8684949143834615,
          0.2578634414332557,
          -2.2876960662870367,
          4.017615025809622,
          -4.356673885408927,
          2.1014535273917203,
          -2.2393373233728515,
          1.9891503138381097,
          4.769604651752104,
          2.7547667703008094,
          0.6935351322702007,
          4.543856850256222,
          5.450160842154934
         ],
         "yaxis": "y"
        },
        {
         "hovertemplate": "color=354<br>symbol=354<br>x=%{x}<br>y=%{y}<extra></extra>",
         "legendgroup": "354, 354",
         "marker": {
          "color": "#FF97FF",
          "opacity": 0.3,
          "symbol": "x"
         },
         "mode": "markers",
         "name": "354, 354",
         "showlegend": true,
         "type": "scattergl",
         "x": [
          -0.1701532981647233,
          0.31889536863826373,
          -2.123676388543215,
          0.24239955500049756,
          -1.2792586460521829,
          -0.7607149777787904,
          4.089959188783594,
          2.2579288834152367,
          6.224811345473524,
          -0.544020311477094,
          -2.1692959295871685,
          -2.512660491931276,
          -1.0713944437322453,
          -4.356725201697633,
          9.453329982079127,
          -4.005642636995203,
          -2.2546103062529355,
          -0.1441844270830966,
          -0.8660049347918262,
          -3.2092897985234803,
          -0.6804353560967126,
          6.157623618910512,
          9.431539587384309,
          0.5187917142102475,
          -3.52614320371583,
          -3.565696351037352,
          -1.3932523208141288,
          -4.802632831856816,
          8.073615961459847,
          -0.45211377374980655,
          -6.503920686645076,
          2.041456243427729,
          1.1238304242882018,
          -2.0836908064823016,
          -6.226255757994478,
          -1.6854807736903474,
          -3.8267190446244097,
          -2.3271962569976132,
          0.13359018541762846,
          7.549210524030803,
          -5.521446244356653,
          2.9541924180117025,
          -1.8711471024283075,
          5.248118781940654,
          -2.8479848220619064,
          -1.3778781785982852,
          -1.8203036652875038,
          1.4244183213586386,
          -4.586628540676292
         ],
         "xaxis": "x",
         "y": [
          1.833131925143304,
          -6.722657347234793,
          1.7159694158769452,
          -2.595993009315147,
          -5.206700938683366,
          1.434121608271334,
          4.73759997198045,
          -0.47971491961935625,
          3.6695282232556905,
          5.115148010204939,
          -5.713696292500967,
          2.4133681472871924,
          3.7345129392025687,
          4.030233024552253,
          1.9705638858157166,
          -5.763732698301601,
          3.8629739947878647,
          -4.487534102695577,
          1.9639692402516384,
          0.3025485992636748,
          0.8243593846946149,
          0.9954289697253026,
          -0.83107544034298,
          1.9338032191750656,
          1.815638583367241,
          0.00046097927593591824,
          -7.731587002316961,
          -4.612968190563986,
          3.259359086764178,
          1.019397900455692,
          -2.6086823888424497,
          0.9499026811896317,
          -4.314009198373534,
          -6.774808985986526,
          -2.3348823696904017,
          2.064306353686289,
          -0.17717424040891977,
          0.8305219497712062,
          0.6033893387674756,
          3.7477563167397236,
          -5.79258580011656,
          1.0708669967424123,
          0.20780840559497707,
          3.2552959648693447,
          0.806391637237747,
          1.324295773659707,
          2.0463666022566587,
          1.2173643384632349,
          -4.093941128231111
         ],
         "yaxis": "y"
        },
        {
         "hovertemplate": "color=297<br>symbol=297<br>x=%{x}<br>y=%{y}<extra></extra>",
         "legendgroup": "297, 297",
         "marker": {
          "color": "#FECB52",
          "opacity": 0.3,
          "symbol": "cross"
         },
         "mode": "markers",
         "name": "297, 297",
         "showlegend": true,
         "type": "scattergl",
         "x": [
          3.629788851414328,
          8.129548335954022,
          3.208148738625392,
          0.8901142724290445,
          2.619892312028091,
          0.193410616739415,
          4.360302933773374,
          6.271038329696689,
          4.7731830817095044,
          7.025343953630197,
          1.3393960872730886,
          3.4357737433400164,
          2.1100871778530768,
          7.575711941550425,
          4.704099662956917,
          9.218323175876197
         ],
         "xaxis": "x",
         "y": [
          -3.407329890406812,
          -3.7497987256573353,
          -2.26423384038839,
          -10.993325228947661,
          -3.693836399462044,
          -7.86856471672483,
          3.292451023610134,
          -5.88751960468833,
          -5.044944158397585,
          -6.620211954738497,
          -9.887204838639587,
          -5.049938749544246,
          -0.6590223667825967,
          -3.060984794490587,
          -8.100799052708956,
          -0.37706796294833145
         ],
         "yaxis": "y"
        },
        {
         "hovertemplate": "color=455<br>symbol=455<br>x=%{x}<br>y=%{y}<extra></extra>",
         "legendgroup": "455, 455",
         "marker": {
          "color": "#636efa",
          "opacity": 0.3,
          "symbol": "circle"
         },
         "mode": "markers",
         "name": "455, 455",
         "showlegend": true,
         "type": "scattergl",
         "x": [
          -4.166515618454242,
          -1.8768601025474152,
          -2.3985616448645177,
          1.667011197319067,
          0.6199399618288816,
          -5.548596849367233,
          -5.98752686909963,
          -4.026794520190055,
          -4.946407302915893,
          -4.246582418887724,
          -2.8446248924741804,
          -3.3264714286482153,
          -6.250139450415245,
          -4.606764052693557,
          -3.6590658524869943,
          -1.805337094981429,
          -1.8584951892405774,
          -3.9892533771841383,
          -9.200768179252332,
          -6.975796641158459,
          0.23001781002368538,
          -2.1482371738345516,
          -5.7407413955237105,
          1.3182257398467496,
          -0.019334051714981707,
          -0.6479865125816661,
          -3.735012014024802,
          -2.422952269299773,
          -3.492754959361744,
          -7.470802225829671,
          -2.7698509253230923,
          -3.502566168381334,
          -1.0663207577918121,
          4.753655254554889,
          -2.8382225732323803,
          -5.434858528683317,
          0.5247933267968746,
          -1.7785306589493268,
          -4.859082524625865,
          3.8951864676689936,
          2.670137968646041,
          4.78750139055975,
          -3.130316009382531,
          2.534504726349947,
          -6.693622238582656,
          -5.273729410873014,
          -2.2338323216863984,
          -2.0514237882221527,
          -8.47376751998152,
          -2.9602575122843935,
          4.721551442676579,
          -2.1317483130102524,
          -3.216661298352307,
          -0.4445744406230549,
          -7.519919963620423,
          -3.474516293277192,
          -3.6864648561737874,
          3.853381296730206,
          -0.7672278986837129,
          -2.7768400814618075,
          -4.0197990471315626,
          -2.622610025336119
         ],
         "xaxis": "x",
         "y": [
          -1.3635050237312778,
          3.1341332847203596,
          2.444560475197025,
          1.8164011434581981,
          4.170416380556524,
          3.455294664599086,
          5.248252818781741,
          -1.3640324438123779,
          1.1634996498642836,
          4.749665710973421,
          3.8680302092569376,
          -6.303102557985716,
          6.786843467014254,
          0.41277634711352523,
          -3.5581653856935334,
          5.024572354588982,
          3.2056204345421264,
          2.1210294787642794,
          -0.15274072737255565,
          -1.084255713485269,
          0.48654885294717737,
          -3.0697642115996335,
          -0.8931315867040466,
          2.154126500265899,
          2.3534045691669947,
          3.402177177835157,
          -3.8524156736588515,
          4.42600583392389,
          -6.524735117643353,
          -1.1652182789179717,
          3.3772816836332584,
          -1.9155571621713388,
          -0.4867577173364878,
          2.5682038294897875,
          -6.52843015546961,
          -1.9826721581354594,
          -3.1893024909563374,
          -7.070245063663653,
          -0.3131887278371562,
          1.8015636305943425,
          0.48110416169775494,
          2.920349310070958,
          3.294948608233289,
          2.5421533872873194,
          3.264755570380576,
          6.091718557090516,
          2.6417226958754174,
          -3.6108110531871063,
          -4.382193611355907,
          4.121019331368932,
          4.281393590010073,
          1.3254782830914649,
          3.994083173420805,
          -1.2000861195115158,
          0.42233841766383984,
          2.6328963350345105,
          4.153859202225548,
          -2.8404631601597696,
          3.448138749183093,
          -3.7467651817302317,
          2.905056692573336,
          2.331562825910549
         ],
         "yaxis": "y"
        },
        {
         "hovertemplate": "color=269<br>symbol=269<br>x=%{x}<br>y=%{y}<extra></extra>",
         "legendgroup": "269, 269",
         "marker": {
          "color": "#EF553B",
          "opacity": 0.3,
          "symbol": "diamond"
         },
         "mode": "markers",
         "name": "269, 269",
         "showlegend": true,
         "type": "scattergl",
         "x": [
          -4.77595025613186,
          -0.9161751336042254,
          -3.554921288017629,
          -0.4400909843830374,
          -8.179962137244383,
          4.728847641912875,
          -4.561016970093579,
          -6.286123226109019,
          -3.3269601217729274,
          -8.828869934363736,
          -2.901697208359777,
          -3.7672214583041277,
          7.613949479242967,
          -5.49830604491126,
          -5.8968486132009605,
          -5.750538462394047,
          -1.6448735115658204,
          -4.480488975265706,
          -6.036518934703059,
          7.505047830869729,
          2.651977633786743,
          0.6470413255668311,
          -6.7084318868396915,
          9.538206529356312,
          -8.130448313356258,
          -2.5619389217823842,
          0.30807838825235234,
          -2.645331459793093,
          0.44577648376184675,
          -4.945613580997718,
          -1.9931263673591713,
          -0.548168974092103,
          2.887895612780482,
          -5.021398228052518
         ],
         "xaxis": "x",
         "y": [
          6.1878948061052865,
          4.885756870506006,
          -1.9495117873982877,
          4.375289416044955,
          1.267274149396948,
          8.266856028317026,
          6.083408557711797,
          7.657789163061995,
          2.196087865104753,
          0.8490264604716006,
          6.082980122919337,
          4.2748435393474,
          6.037753829358382,
          6.880927089109796,
          6.122948914906787,
          6.028316943183458,
          6.692372408893384,
          4.466069594024104,
          3.51512890602472,
          1.8581614060180724,
          5.7911379923940896,
          4.873248225962686,
          -1.6126458531105365,
          4.214114715784219,
          1.2415176197643858,
          5.088712894555858,
          6.793861020758227,
          8.364421235790898,
          6.709124672768816,
          0.14009331057751118,
          5.811632140113787,
          6.162124772674479,
          2.234751627014498,
          4.73863062893448
         ],
         "yaxis": "y"
        },
        {
         "hovertemplate": "color=386<br>symbol=386<br>x=%{x}<br>y=%{y}<extra></extra>",
         "legendgroup": "386, 386",
         "marker": {
          "color": "#00cc96",
          "opacity": 0.3,
          "symbol": "square"
         },
         "mode": "markers",
         "name": "386, 386",
         "showlegend": true,
         "type": "scattergl",
         "x": [
          1.0843799252729176,
          0.01963005666278816,
          1.28378956018728,
          4.259270460806948,
          2.1928309870767158,
          5.264640804263972,
          5.575345067753175,
          -0.3227393835537914,
          -0.23258083580851804,
          2.3739294452901865,
          3.766126807936454,
          -1.5818620375788754,
          -0.8921900349508264,
          2.8315811712146375,
          2.950423016227683,
          0.20928861212605354,
          -1.5728934902409344,
          6.272538232399109,
          3.768819878565089,
          0.06676729216881358,
          -0.7483387825578196,
          8.061172960256881,
          3.873974143057399,
          5.221138692776052,
          1.3995452610363301,
          1.7254390685075878,
          0.06165759343263389,
          -3.1010994505155014,
          3.2908467906348466,
          2.5382354604498074,
          4.783755666738013,
          4.174201319154011,
          -0.4732500502621049,
          6.890732444546173,
          2.812230887051548,
          3.9837602599612607,
          1.9901451624877913
         ],
         "xaxis": "x",
         "y": [
          3.0083975564330907,
          3.0753440903387785,
          1.9952580780848765,
          1.0817745671280294,
          1.5375203778462547,
          1.8063383976972651,
          2.872201511343994,
          2.556343492500361,
          4.908015156021241,
          2.682201883610745,
          3.949727212025787,
          2.669112709460359,
          5.284353079687924,
          2.5408977760337383,
          3.122076598629851,
          2.5508514955827395,
          3.0371481553255584,
          2.2549516929677713,
          3.2397521991282967,
          1.9604277657980924,
          3.3446443062278517,
          2.352739751933926,
          0.9204385494406809,
          -0.5583827843132408,
          1.6449234229046539,
          2.4769348693782036,
          3.8016692449716794,
          0.7069238101333369,
          1.7836110649383492,
          3.6208934554671393,
          4.172840238774962,
          2.9886148019309107,
          1.3145738077736906,
          1.2572191489402433,
          3.4125354058477226,
          3.138507501282601,
          3.133507521873322
         ],
         "yaxis": "y"
        },
        {
         "hovertemplate": "color=67<br>symbol=67<br>x=%{x}<br>y=%{y}<extra></extra>",
         "legendgroup": "67, 67",
         "marker": {
          "color": "#ab63fa",
          "opacity": 0.3,
          "symbol": "x"
         },
         "mode": "markers",
         "name": "67, 67",
         "showlegend": true,
         "type": "scattergl",
         "x": [
          6.670400789108915,
          0.4626306917908423,
          2.303178855804202,
          3.076371412728285,
          3.584483314561485,
          1.6953517680518015,
          6.287342778115703,
          7.215777153515827,
          4.355031508979745,
          -0.7076294790063571,
          -0.42989992961679163,
          3.0153727362140414,
          5.2045582150940985,
          5.434646265913495,
          6.286373149748528,
          1.7766017349142433,
          0.34677434227802506,
          5.907335348214225,
          2.9946908678477713,
          1.6418176768198889,
          2.9818488960932155,
          2.559849288473736,
          0.9599884555504935,
          5.155082843917243,
          1.6798367283713997,
          4.038725947515527,
          6.474910545951689
         ],
         "xaxis": "x",
         "y": [
          -1.2548060254711877,
          -9.446967943811602,
          -7.909806120852477,
          -2.930621442282833,
          -5.190033640438842,
          -8.87738274039574,
          -1.014781959225654,
          -0.32490832233317996,
          0.8930704342027487,
          0.48698750922873957,
          -7.2366462908183635,
          -11.646092599082987,
          -2.0230834027720426,
          -3.790977746488345,
          1.6150122482296287,
          -8.171901568243356,
          -7.250383177812562,
          0.6496609193231108,
          -9.452739978959796,
          -5.419552849108543,
          -0.20337255315208708,
          -3.2714944074625714,
          -1.643789516889919,
          0.05158546817465091,
          -9.776583346311375,
          1.6800419260565596,
          3.4677396418789144
         ],
         "yaxis": "y"
        },
        {
         "hovertemplate": "color=186<br>symbol=186<br>x=%{x}<br>y=%{y}<extra></extra>",
         "legendgroup": "186, 186",
         "marker": {
          "color": "#FFA15A",
          "opacity": 0.3,
          "symbol": "cross"
         },
         "mode": "markers",
         "name": "186, 186",
         "showlegend": true,
         "type": "scattergl",
         "x": [
          7.2243706105723735,
          7.160148420109726,
          6.157948370267214,
          9.141377196992707,
          10.939503301400824,
          4.793239795138265,
          5.851298967109826,
          12.674454966860242,
          12.510810853572757,
          8.2705671115221,
          10.371695135760703,
          8.083643680965249,
          10.678814004210695,
          11.201787546005827,
          7.263407359028164,
          11.420355116204137,
          14.938692469846288,
          10.176140028000752
         ],
         "xaxis": "x",
         "y": [
          -4.9700026793667105,
          1.6183521728805268,
          2.82164928349285,
          0.0948884750564885,
          2.3431730209255943,
          3.995097996625222,
          3.5623362164419636,
          2.1785120039772874,
          3.1964313995700073,
          3.5179606492303677,
          -0.8887737147339675,
          1.2666007414214757,
          0.007381522811535081,
          0.5311794084700825,
          0.37060696041511676,
          3.0945727998554067,
          5.6272273556081185,
          1.5092317994291558
         ],
         "yaxis": "y"
        },
        {
         "hovertemplate": "color=429<br>symbol=429<br>x=%{x}<br>y=%{y}<extra></extra>",
         "legendgroup": "429, 429",
         "marker": {
          "color": "#19d3f3",
          "opacity": 0.3,
          "symbol": "circle"
         },
         "mode": "markers",
         "name": "429, 429",
         "showlegend": true,
         "type": "scattergl",
         "x": [
          -5.22245025169579,
          -0.47995256266164826,
          -8.297927137717615,
          -0.7576241465387403,
          7.245314920166968,
          -1.3717514606015793,
          -0.665396723311693,
          -6.770170864586085,
          -2.8879489213555956,
          -7.983943469356548,
          -6.995348269483347,
          -5.9237563910412065,
          -3.5918730614593803,
          -5.424201183290462,
          -2.1955232074193627,
          -5.42479397771506,
          -5.594056400385921,
          -1.224320968900887,
          4.177938805530138,
          0.15777389177153223,
          -6.545848957128099,
          -2.228690742516516,
          -5.443189200835976,
          -0.6387716329719806,
          -5.1995556173226785,
          4.662758731821396,
          -4.564606463031062,
          -4.5752780636035455,
          -0.8714773537025081,
          -5.814718442782058,
          -2.8392019987769794,
          -3.217220513593982,
          -3.113434246365106,
          -8.975010095087155,
          -2.9051519393937535,
          -4.127748391668363,
          -1.344955825341842,
          -2.572951295147776,
          -6.861181145510504,
          -4.292110862266013,
          -3.6966578784672763,
          -8.879181062148055,
          -0.5193688381000766
         ],
         "xaxis": "x",
         "y": [
          -6.606374846197873,
          -1.5207809381637158,
          2.985105035360666,
          -7.581245603518219,
          5.2887574967754105,
          4.5290900132725485,
          0.5860565796858741,
          2.678207029704659,
          2.417159784058749,
          -1.865699557442026,
          -5.202566885130956,
          -5.532582812289139,
          -4.082004555406036,
          1.321578692619303,
          2.5786107789485144,
          -1.2952743947846,
          -6.150471873497351,
          -0.2565663082113604,
          4.393283493099048,
          3.7756882406942203,
          -2.757963523647524,
          0.0981846376570245,
          2.479338464921982,
          1.246613079746102,
          4.670625608713711,
          0.9150404935900072,
          -0.6256311303320673,
          5.01610876701156,
          3.0840550976608654,
          3.9082014199243367,
          -2.957203664271417,
          -1.6415727316290292,
          3.550096128036572,
          3.3063122490150803,
          3.878088663257946,
          3.9223658949859397,
          -4.554518200041439,
          -1.2596749132879725,
          2.848056065953417,
          0.29305928575476997,
          -4.424545907710282,
          1.956493928074885,
          0.7217959018383936
         ],
         "yaxis": "y"
        },
        {
         "hovertemplate": "color=409<br>symbol=409<br>x=%{x}<br>y=%{y}<extra></extra>",
         "legendgroup": "409, 409",
         "marker": {
          "color": "#FF6692",
          "opacity": 0.3,
          "symbol": "diamond"
         },
         "mode": "markers",
         "name": "409, 409",
         "showlegend": true,
         "type": "scattergl",
         "x": [
          -6.300508080802943,
          -4.727503022304421,
          -7.861692040912291,
          -1.0539560529602539,
          -5.147287245168102,
          -2.0861676172467503,
          -2.8681978761786784,
          1.6944825147381548,
          -3.6974441227415116,
          -3.3975452227185876,
          -6.76106208520596,
          -4.562273845976479,
          -5.221743191673203,
          -0.07466361423663366,
          2.6399870124084046,
          -4.107045537607271,
          -6.226676707767957,
          -5.133105304054398,
          -2.131140006436188,
          -4.193436658606777,
          -2.332758070254036,
          7.065350844786611,
          -4.29619859907893,
          -2.5856795614288854,
          -3.2334784792446123,
          -4.525661551436263
         ],
         "xaxis": "x",
         "y": [
          -0.8272862116497849,
          -1.0910897667109218,
          -5.727722975713121,
          1.7900688763285229,
          0.392015872980024,
          0.6081040126827095,
          2.632636327145287,
          -1.126455465408441,
          -6.808426290072999,
          -1.500995721979783,
          -1.6717558711942597,
          -0.179026275115038,
          -5.367028493723541,
          2.297814930425733,
          0.05933530546050659,
          -3.024043956336748,
          -2.5524439630074154,
          0.8147308318529605,
          1.7622282001348744,
          -6.668096288782369,
          -3.672116154965933,
          2.9013490680160947,
          -3.320148822853837,
          1.932085840058224,
          -5.908150935556228,
          -6.480778551836028
         ],
         "yaxis": "y"
        },
        {
         "hovertemplate": "color=404<br>symbol=404<br>x=%{x}<br>y=%{y}<extra></extra>",
         "legendgroup": "404, 404",
         "marker": {
          "color": "#B6E880",
          "opacity": 0.3,
          "symbol": "square"
         },
         "mode": "markers",
         "name": "404, 404",
         "showlegend": true,
         "type": "scattergl",
         "x": [
          1.0573715220056779,
          -2.97820573960518,
          -0.291622784743762
         ],
         "xaxis": "x",
         "y": [
          -6.08067660390537,
          -4.999686191632869,
          -6.807320221310961
         ],
         "yaxis": "y"
        },
        {
         "hovertemplate": "color=247<br>symbol=247<br>x=%{x}<br>y=%{y}<extra></extra>",
         "legendgroup": "247, 247",
         "marker": {
          "color": "#FF97FF",
          "opacity": 0.3,
          "symbol": "x"
         },
         "mode": "markers",
         "name": "247, 247",
         "showlegend": true,
         "type": "scattergl",
         "x": [
          -3.8097555664015412,
          -5.589435064134706,
          -4.70189159786449,
          -0.3074354564734313,
          -0.9611259434708208,
          -4.972321504716244,
          2.3755878268586743,
          -6.035586780648157,
          -3.8263379319962216,
          -4.521699842462189,
          -6.030528019140924,
          -6.537396896754551,
          -2.596894394428097,
          -2.532329978676082,
          -1.3422668097535888,
          -2.9830998967470816,
          -5.226087595019587,
          -5.727535527454725,
          1.4102345595301107,
          2.240403202318544,
          -1.736939115703353,
          -2.4484712245480664,
          -0.7105808821101973,
          -3.932095229403716,
          -5.106463498249123,
          -3.113275801327818,
          -6.401456450269101,
          0.905708384907646,
          1.2062092004706304,
          2.8976797867941486,
          -4.513465757472697,
          -4.54397134987262,
          -3.0709770276101422,
          -3.117081626129066,
          -2.417512408244638,
          -6.375870568701786,
          -0.028873019597263898,
          -2.216621379714459,
          -3.9704506773612445
         ],
         "xaxis": "x",
         "y": [
          6.606076965542931,
          2.0736976961591806,
          2.6366516447735724,
          -3.085651759578723,
          -0.45801879545242097,
          2.472641685849416,
          5.70139950861235,
          -1.7845172004026386,
          2.78798271283097,
          -1.3426920128118038,
          4.668909326181391,
          -0.9083558663209567,
          -4.053191747866099,
          -3.806868364907821,
          -0.2901882620201756,
          6.984453568745389,
          -1.8246787046727562,
          5.611046719278653,
          -2.2156845283945312,
          2.7962413946519766,
          1.6129408629920343,
          0.8767186324081042,
          6.215229659636334,
          1.8455314442296589,
          6.168981122263525,
          1.4409736816135637,
          -1.9381322231566245,
          -0.12620892804462894,
          -2.970216204117192,
          3.7481276545512077,
          -0.2250595864558474,
          6.349055771264242,
          0.3797522304060056,
          1.2402491640439812,
          0.7702460204086569,
          -3.606272261476251,
          4.696979973573465,
          5.339038560324868,
          6.196001380127718
         ],
         "yaxis": "y"
        },
        {
         "hovertemplate": "color=375<br>symbol=375<br>x=%{x}<br>y=%{y}<extra></extra>",
         "legendgroup": "375, 375",
         "marker": {
          "color": "#FECB52",
          "opacity": 0.3,
          "symbol": "cross"
         },
         "mode": "markers",
         "name": "375, 375",
         "showlegend": true,
         "type": "scattergl",
         "x": [
          0.610110413103243,
          0.5785670267127134,
          -2.720785394480098,
          1.7855649120220811,
          -0.8737571445862883,
          -2.4284063133608513,
          -2.096549635689159,
          0.6094308968006105,
          -2.2560952653657336,
          1.5199015931040873,
          1.373197631415747,
          4.575409145769721,
          -0.4842940695113892,
          3.269663140069741,
          1.8728423881550564,
          2.2922494912726927,
          2.438198710139975,
          -0.19750066198339006,
          2.714108371246513,
          -1.2149498428220826,
          -3.8855205940274917,
          0.5066719261012486,
          -1.6629920447283202,
          -1.4468052400137872,
          3.6226043696904457,
          -0.21751547971465715,
          4.0722532365839905,
          3.6379644193923326,
          4.38956572399877,
          1.0419122890790373,
          0.31035242339790736,
          1.0152645118147243,
          -0.361988819553469,
          2.046510611792611,
          3.303634545831946,
          2.580163045957359,
          3.4258677492640275,
          2.170594660871446,
          -1.6151942080305686,
          5.400201205750295,
          4.455121693280988,
          -0.6753209550772032,
          7.016726723734377,
          -1.096842308611825,
          0.22420913323826644,
          1.1436711610565167,
          1.9126627525095554,
          -3.6842331804503194,
          3.7833095063289193,
          -4.579313324370409,
          2.2468639635133463,
          0.5081007415018578,
          -0.5557941801368009,
          0.9232600891645604,
          2.957521139907744,
          2.327850765948321,
          -0.28708207567420074,
          -2.200558805961779,
          5.647910910481597,
          1.6670051635798886,
          4.138724593600991,
          1.266164072217423,
          4.046603739494278,
          0.44066883798788264,
          6.466706275718877,
          4.434205870902594,
          4.135032550741908,
          0.10514512799413996,
          -2.5909940260663924,
          1.6877589497040855,
          -4.102913258736071,
          6.49688515890868,
          -2.0937623090466677,
          -1.0535880288039423,
          3.7926277078235415,
          0.6335120712024664,
          -0.4795855184329357,
          3.3251819964181104,
          0.15967577647932452
         ],
         "xaxis": "x",
         "y": [
          -4.456895120175462,
          2.425042882661546,
          -3.405779416072201,
          4.211238107825979,
          3.3431173490074424,
          5.574694042080111,
          2.408645730785055,
          3.3959841379294917,
          -7.224200240604751,
          1.2022526494564436,
          -2.7213945101488655,
          3.4984847090454294,
          2.8667949988583112,
          0.9875239117799309,
          2.6735277502655976,
          1.746465004187633,
          0.053721726258546265,
          -2.949322783526977,
          -1.0563734323142273,
          1.216845777415902,
          -2.446385853518078,
          2.505197384942792,
          2.2430146103790483,
          -4.034963774098614,
          1.1455021654377773,
          -1.9191228377378189,
          -2.8380999641667786,
          0.15642460777154601,
          1.8880251782947879,
          0.23829238210512244,
          2.0805194652665473,
          -4.846564251249288,
          1.6777974893749033,
          4.019377961802288,
          3.297793537919403,
          -4.29686919719334,
          3.962643735535974,
          3.2090706659136288,
          -7.082350348342212,
          0.7646597452900864,
          2.5511054472235517,
          4.774999503660899,
          3.516313478316233,
          4.133273008379385,
          -0.201928349736314,
          4.8827617408980695,
          0.7991599788541082,
          1.13669928855451,
          0.5400017361713779,
          -1.311839199788273,
          1.414778869168821,
          0.3048365522006928,
          -6.526570263276667,
          0.5667848947486003,
          -3.7347023146380067,
          -4.115627999191099,
          4.778886934160455,
          -5.442572436531139,
          3.7921108049074754,
          2.120516020515614,
          2.4707932249926294,
          3.125871841184468,
          6.605676528782272,
          2.801172284696149,
          2.930949614260904,
          0.2500974753513207,
          3.468106227505325,
          -2.728124642285896,
          1.884152975739354,
          1.1382713432315,
          -3.335098869751105,
          -1.3890697862053358,
          -2.3369843304517532,
          5.067564688469402,
          2.522104202337616,
          -3.848277812029214,
          -3.5873450855538014,
          3.9386172413880134,
          4.425198682186221
         ],
         "yaxis": "y"
        },
        {
         "hovertemplate": "color=149<br>symbol=149<br>x=%{x}<br>y=%{y}<extra></extra>",
         "legendgroup": "149, 149",
         "marker": {
          "color": "#636efa",
          "opacity": 0.3,
          "symbol": "circle"
         },
         "mode": "markers",
         "name": "149, 149",
         "showlegend": true,
         "type": "scattergl",
         "x": [
          1.2879112103133972,
          -3.8464674307554296,
          -1.333486272532719,
          -0.0035565053776849126,
          -2.4477477477184344,
          1.6444015135638763,
          1.71237640324817,
          -0.16655463738362997,
          0.046769432236168085,
          4.787510784956115,
          -1.7000742974010385,
          -1.1827080966238237,
          -5.334926662519731,
          0.4692077894094553,
          1.7981783768429065,
          -0.5628737772721758
         ],
         "xaxis": "x",
         "y": [
          4.771012433152291,
          2.379148520736578,
          5.42253629817351,
          4.83945861486088,
          5.152228405045692,
          4.35394149886241,
          4.633258375823357,
          4.152098003733909,
          6.591458235709488,
          5.213594852811063,
          8.263490733434494,
          3.7217817296952864,
          6.437688752647039,
          3.7661541192018815,
          5.141543690722848,
          4.145601955697192
         ],
         "yaxis": "y"
        },
        {
         "hovertemplate": "color=66<br>symbol=66<br>x=%{x}<br>y=%{y}<extra></extra>",
         "legendgroup": "66, 66",
         "marker": {
          "color": "#EF553B",
          "opacity": 0.3,
          "symbol": "diamond"
         },
         "mode": "markers",
         "name": "66, 66",
         "showlegend": true,
         "type": "scattergl",
         "x": [
          12.270890417628959,
          0.944274390122424,
          5.155439767430534,
          1.4064930058578027,
          4.556061546617498,
          3.5117293603227586,
          -1.6302715965944645,
          4.25426003612594,
          -0.5101625001639589
         ],
         "xaxis": "x",
         "y": [
          5.674374141487991,
          -9.980554964676724,
          0.010147360333540193,
          -6.291409103415897,
          -8.332258038964579,
          -1.0168672885533077,
          -6.906391187863783,
          -10.422725152226706,
          -7.731100232383729
         ],
         "yaxis": "y"
        },
        {
         "hovertemplate": "color=228<br>symbol=228<br>x=%{x}<br>y=%{y}<extra></extra>",
         "legendgroup": "228, 228",
         "marker": {
          "color": "#00cc96",
          "opacity": 0.3,
          "symbol": "square"
         },
         "mode": "markers",
         "name": "228, 228",
         "showlegend": true,
         "type": "scattergl",
         "x": [
          4.5293990388347005,
          9.176079550671584,
          8.49551024461529,
          9.68597576412798,
          6.2350596132894305,
          6.851607302953457,
          5.903974157236506,
          11.941016724433776,
          8.288681689694831,
          9.588491106323797,
          11.56509741383755,
          11.624204442668406,
          5.828762096244702,
          8.99865311842434,
          9.936903294614481,
          8.009273334258411,
          11.416947391744236,
          7.365855200439792,
          12.21162797693872,
          12.733267473837412,
          9.998452562579264,
          8.983411477182843,
          10.704354531948333,
          11.73487345903247,
          10.811182996131572,
          4.083553373549586,
          7.295741781798388,
          7.612528946393939,
          9.572759369183917,
          6.928464076355676,
          12.342129991898938,
          9.558289438691695,
          7.330834137461187,
          9.478738869357839,
          9.046517624751427,
          5.053356881850279,
          6.770309391402941,
          9.410729403052777,
          13.434409972978036,
          10.821869032520157,
          8.240222690694907,
          7.171338295111351,
          9.670334523766657,
          10.026710322269263,
          11.02678437827375,
          7.9409320984089335,
          11.158585468913783,
          8.585041609026899,
          9.34197381179588,
          9.230263371039332,
          9.043092861653099,
          10.884662561922411,
          8.901561499842357,
          11.859540260903659,
          12.108430723464776,
          9.663723299282626,
          12.84150359972687,
          8.328274544052654,
          11.771153447788883
         ],
         "xaxis": "x",
         "y": [
          1.898652173314674,
          1.9842645671761026,
          2.897938113443336,
          2.440601145222875,
          -0.2781674954364437,
          2.0398717475719157,
          4.939312264891466,
          -0.6281467553388436,
          1.9783041522718874,
          1.4729926007336784,
          2.8519128427705427,
          0.5658829243059379,
          -0.6009378028290323,
          4.761150340431263,
          2.544942434291093,
          1.9297866448624625,
          2.515048067693455,
          7.387002714256981,
          2.4074962361060135,
          1.2446986812080316,
          -0.25522158059097527,
          5.320116803362806,
          0.60207833696253,
          4.166948698954027,
          -0.348770770720148,
          0.14829156962350618,
          1.0702907747057435,
          -1.0293116129734539,
          0.4249492765861495,
          3.856923799222266,
          -1.494580646801505,
          2.9312857654040796,
          1.0412723718678576,
          0.7089564809316417,
          5.440402904371401,
          3.6367263517731665,
          -0.06757408311605682,
          1.4577048024232722,
          -1.7057484106908185,
          0.057493101471214565,
          0.17980162665057023,
          0.6647097849393179,
          3.3150308901577623,
          3.5375125745032037,
          2.4025592013594737,
          -0.6584118567557883,
          1.4345425155141809,
          3.2178103744713167,
          1.2342698230929339,
          0.8674882000026092,
          3.087130125794378,
          1.484663089458213,
          2.5933853438073484,
          2.2546132594897164,
          3.257675415002518,
          -0.054162413043026235,
          0.16078004749876387,
          2.099319414760766,
          3.091045492261474
         ],
         "yaxis": "y"
        },
        {
         "hovertemplate": "color=10<br>symbol=10<br>x=%{x}<br>y=%{y}<extra></extra>",
         "legendgroup": "10, 10",
         "marker": {
          "color": "#ab63fa",
          "opacity": 0.3,
          "symbol": "x"
         },
         "mode": "markers",
         "name": "10, 10",
         "showlegend": true,
         "type": "scattergl",
         "x": [
          -4.068167910848978,
          -1.3455154172144066,
          -0.5530605645988041,
          -3.574261999119643,
          -1.0655636482432462,
          -2.350846868989366,
          -3.8242743445478236,
          -1.8714556039451087,
          -5.724503175833194,
          1.1584297401761463,
          -3.9262058536643782,
          -6.458126824010388,
          -2.7131932209504837,
          1.4388275926609317,
          -3.27374994924382,
          -4.812808341730007,
          -3.028987318331035,
          0.5552580219797748,
          0.6530847066955836,
          -4.7340773646507674,
          -6.679828800821988,
          -4.477430819075081,
          -5.684524399153713,
          -2.191419300477645,
          -0.8269002378911703
         ],
         "xaxis": "x",
         "y": [
          5.043307348199857,
          1.6203610083964561,
          4.227637337110028,
          6.517728922279764,
          5.410952225464629,
          4.682096155362193,
          5.809017698760283,
          3.0868764881902875,
          6.3253865145030055,
          3.1448812292439237,
          5.574542574852944,
          5.638561769479986,
          6.946595864810497,
          4.073124291711931,
          4.868931287794438,
          5.1884004443977245,
          3.5091587951984216,
          4.747379863557211,
          5.039282123461969,
          4.422708194360345,
          5.853839569607544,
          2.4580790760853573,
          6.3303245880133625,
          5.1594866862148585,
          5.5361647890211305
         ],
         "yaxis": "y"
        },
        {
         "hovertemplate": "color=26<br>symbol=26<br>x=%{x}<br>y=%{y}<extra></extra>",
         "legendgroup": "26, 26",
         "marker": {
          "color": "#FFA15A",
          "opacity": 0.3,
          "symbol": "cross"
         },
         "mode": "markers",
         "name": "26, 26",
         "showlegend": true,
         "type": "scattergl",
         "x": [
          -7.828081516279748,
          -3.948307696553711,
          -3.7015420271266066,
          -7.392120333990486,
          -5.9964326621420625,
          -6.22465297784362,
          -3.48626108222382,
          -2.867035273167693,
          0.2457712119856807,
          -1.157909271621954,
          -4.358860102039389,
          -6.804595689640814,
          -0.39403329762406825,
          -2.7051460596786443,
          3.537675845817386,
          -1.1594350617600713,
          -1.975586297637482,
          -5.2239226412690885,
          -4.011572610372121,
          -7.2522123028763925,
          -3.0175120453389033,
          -3.112798971657376,
          -7.105262562873051,
          -3.548262467467763,
          -6.2168416441876815,
          -5.6131133728582725,
          -5.480140898659337,
          -0.4895631787900626,
          -4.351698489470091,
          2.892782706352745,
          -7.510303719417055,
          -6.918934948621003,
          -1.7364016209274806,
          -6.936290284660577,
          -2.8478115899367125,
          -2.8532828397058325,
          -6.657873120873415,
          -7.088421511246419,
          -4.48646657264578,
          -0.7143918283233156,
          -6.115560642126408,
          -0.5014082759475873,
          -6.820613389565918,
          -1.7057440646478559,
          -1.9919670967520928,
          -3.3731531699096955,
          -1.5918879637738865,
          -4.661638821634773,
          1.6827607413925987,
          -6.788018539883964,
          -3.4043256008720473,
          -0.10076177988096494,
          -7.474465790599198,
          -2.6546548252952786,
          0.1500060249629326,
          0.626269143905615,
          -5.6537214548631125,
          -1.5131459683398483,
          1.2313577812315923,
          -10.185229407033694,
          -2.6496313081556053,
          -7.174423581999169,
          -0.3475710456840762,
          -4.120704720555189,
          -2.8756939411415097,
          -2.0696741557641283
         ],
         "xaxis": "x",
         "y": [
          -1.0488079270723452,
          -3.641034243866917,
          -0.04288855020961812,
          1.9216904107873776,
          -0.8954910346622853,
          7.419570127867159,
          -1.3159986151730851,
          2.319548487472855,
          -2.163445644787958,
          -1.9167343292604937,
          2.3447008621486054,
          0.0738665481694228,
          -1.5235650411808228,
          2.9725019289090553,
          7.34325759054102,
          3.3895088238135274,
          1.929139423395069,
          0.5578992483986538,
          3.896398123239792,
          5.7512054476221754,
          3.744458068162433,
          -4.170948306230641,
          3.2922131185416497,
          8.03736712658159,
          6.259217976979947,
          2.874191516354462,
          4.775684618014794,
          3.267779333216171,
          -2.345721003523512,
          3.7227014506784952,
          4.492918096088607,
          4.953920895732403,
          3.0998544763561635,
          4.36711266127118,
          3.962742619944068,
          0.9326415962120002,
          -0.20070741042023105,
          6.521257002583761,
          0.25028461583484707,
          5.107645257799394,
          -2.4094673737921237,
          2.4928616714826703,
          -0.5509025553159633,
          2.916655210062368,
          -4.358867128482797,
          3.622563017192847,
          8.598634669182909,
          -0.8926312899080777,
          3.7035987817690956,
          -0.47114359843225245,
          4.672242928323219,
          5.232420966680274,
          2.280893144279155,
          4.382118490089023,
          -1.7657631396802997,
          3.2389630428771796,
          4.570106147311403,
          2.142697248039641,
          1.5654461161948567,
          -1.0737322496266946,
          1.5595981619785761,
          -1.2117401695861045,
          -4.176118546041715,
          4.827459912218542,
          3.181553140746212,
          1.7137510421854327
         ],
         "yaxis": "y"
        },
        {
         "hovertemplate": "color=432<br>symbol=432<br>x=%{x}<br>y=%{y}<extra></extra>",
         "legendgroup": "432, 432",
         "marker": {
          "color": "#19d3f3",
          "opacity": 0.3,
          "symbol": "circle"
         },
         "mode": "markers",
         "name": "432, 432",
         "showlegend": true,
         "type": "scattergl",
         "x": [
          -3.5040487423198794,
          -0.9421755242494974,
          -0.644175385032044,
          -0.4898446288112688,
          -6.543274853202093,
          -5.2714758202484395
         ],
         "xaxis": "x",
         "y": [
          0.9385562120986325,
          0.2711287385407917,
          1.4313648069781058,
          4.3344912260751345,
          1.2982803649800236,
          1.2741367177169318
         ],
         "yaxis": "y"
        },
        {
         "hovertemplate": "color=398<br>symbol=398<br>x=%{x}<br>y=%{y}<extra></extra>",
         "legendgroup": "398, 398",
         "marker": {
          "color": "#FF6692",
          "opacity": 0.3,
          "symbol": "diamond"
         },
         "mode": "markers",
         "name": "398, 398",
         "showlegend": true,
         "type": "scattergl",
         "x": [
          -3.3000236467578103,
          -2.1194097916067154,
          -5.587915738875608,
          5.33858761791424,
          -3.421712672953956,
          -0.9768741109857074,
          -6.445528602922762,
          -6.683734550709829,
          -2.641980924409635,
          -8.192834021850162,
          -4.1882665153746546,
          -0.3138398538682119,
          -3.647976241626593,
          -5.230766113105863,
          -0.012304260381496462,
          -3.632948100024901,
          -5.741800574847552,
          -6.809873804168589,
          -0.17709956931441836,
          2.7923682623322925,
          3.128938516117641,
          -5.955896215715409,
          -2.7329567263466017,
          2.162691295060279,
          -4.693516841837435,
          -5.266412121083407,
          -4.859693847791712,
          -4.177921939571658,
          -3.464909423144955,
          -2.0644738445005473,
          -1.6268011026956917,
          -5.8249607692719945,
          -4.0897870343892615,
          0.357835039544001,
          -7.343319060560681,
          -6.081976396650458,
          -3.980278268503217,
          -1.9114568793129763
         ],
         "xaxis": "x",
         "y": [
          0.8160572959910759,
          1.5838747093289651,
          3.489645291381825,
          1.1363229410633044,
          0.8334461408883341,
          2.173980403360383,
          3.1443953007118037,
          2.6772695066559278,
          4.76916192621734,
          -2.6935971105432346,
          -1.956421615911087,
          1.7891822425698938,
          0.024087495832655473,
          -2.292752005308195,
          -5.4697354687097635,
          1.5379876676475372,
          1.7412570386939055,
          3.310207592833305,
          -5.861072330148005,
          -2.2728091433116724,
          -3.8767440318000475,
          -4.425895153894388,
          -0.8467262420280987,
          -0.338045415441427,
          0.6394187141354207,
          -4.194521939426213,
          3.818375701789624,
          -4.088085668567946,
          -5.09935777287343,
          2.9318104081836536,
          2.618034924246023,
          3.25914848492792,
          3.709541156996785,
          2.111374201935762,
          -1.3683626048165622,
          -1.7711802353224217,
          -2.7739344221996314,
          4.252701655698598
         ],
         "yaxis": "y"
        },
        {
         "hovertemplate": "color=428<br>symbol=428<br>x=%{x}<br>y=%{y}<extra></extra>",
         "legendgroup": "428, 428",
         "marker": {
          "color": "#B6E880",
          "opacity": 0.3,
          "symbol": "square"
         },
         "mode": "markers",
         "name": "428, 428",
         "showlegend": true,
         "type": "scattergl",
         "x": [
          5.883551644182866,
          0.9149063251425389,
          -2.1485770311084087,
          -6.834714021599383,
          -6.087859499302471,
          -2.6575900621818414,
          3.663437752797882,
          -3.324106968846689,
          -6.783261859531201,
          0.04237882041085923,
          -3.211426633035296,
          -6.962180747555477,
          -3.078502636664365,
          4.423673135200716,
          5.172080702269056,
          3.63124278605483,
          -0.10127118264980463,
          2.4816565507412536,
          1.2910834206609838,
          -5.1475652879490505,
          -2.939017225372026,
          -4.134430288841899,
          -2.426811080257956,
          -1.333432975145525,
          0.05525313790718037,
          -4.545111149345048,
          -2.5572490615921852,
          -5.639268499150189,
          -4.002498616168365,
          -5.388943369501422,
          -2.130764844006573,
          -2.8905261566088596,
          -2.238995905778885,
          1.0019648475256078,
          -7.942017452934246,
          -4.403583562133916,
          -2.9728028419976122,
          -0.6398193022488334,
          -1.3860158337779356,
          -0.46035281850044246,
          -1.6797124364497023,
          0.5074912642063043,
          -1.5385115083556296,
          -0.31518759086830894,
          -5.346703684686629,
          -5.723760231618282,
          5.161418229825934,
          -4.165005349333068,
          3.57505964265057,
          -2.169507069469938,
          2.0574095057836,
          -6.372162446240511,
          -1.143087354156919,
          -5.747483815348497,
          2.8893270930119352,
          0.8119721204799462,
          -4.860404681558508,
          -3.405061898156956,
          -2.9011832882550963,
          -5.577129424184849,
          2.1187168629743964,
          -4.269613728557374,
          1.5685245694998815,
          -0.7441698188248533,
          -5.479298277609746,
          -6.359947997583909,
          -2.3856352298477037,
          0.46687683492037874,
          -2.9470160379965273
         ],
         "xaxis": "x",
         "y": [
          1.0540702784293703,
          0.7095984558014283,
          2.6266547820473405,
          4.379749720854963,
          -1.2984294131255207,
          -0.444789780511994,
          -1.995003221147734,
          -6.2113607557808255,
          5.079718483841737,
          3.3786728634709284,
          3.2836977662141638,
          4.325903282270577,
          -1.9187703733967045,
          -0.7092145763124298,
          0.40577491940433336,
          1.7775225914067376,
          2.779922171311568,
          2.9934751195532936,
          0.8496439031721323,
          4.507094533667388,
          -4.010807969293016,
          -4.790228301064977,
          -2.290612567625506,
          2.709623533319498,
          -0.831840732822745,
          1.5120794673829183,
          -5.306166424758867,
          2.799235283196394,
          1.180702133922512,
          2.9702222172307784,
          -5.639725526986455,
          -3.8322802433205116,
          1.8275336184360853,
          -3.3963140082679724,
          -1.2354719930109956,
          0.8697025175684606,
          3.992729665515471,
          -3.870122685714635,
          0.6289382936495163,
          1.3766077227695606,
          0.8211179762864766,
          -1.3358371532746844,
          -2.0006120606672857,
          -2.8005834099985023,
          -5.549902328618173,
          1.5751649950708462,
          -2.4752556504395358,
          -7.455672333592751,
          2.920882307589102,
          4.512725857174455,
          -2.220274035442198,
          -4.222090928730505,
          0.9945856598107846,
          -2.969137780573859,
          -4.668700219186899,
          1.1880321658305921,
          -1.312353314736877,
          3.811600647235964,
          1.277226927657619,
          -3.9286249335889054,
          0.3321667151698726,
          -3.94342276807256,
          0.07902219608749504,
          -0.4682774266268091,
          3.6687553575326004,
          0.012614180789077641,
          -5.205856804552135,
          1.250308110638454,
          -5.216702000144721
         ],
         "yaxis": "y"
        },
        {
         "hovertemplate": "color=147<br>symbol=147<br>x=%{x}<br>y=%{y}<extra></extra>",
         "legendgroup": "147, 147",
         "marker": {
          "color": "#FF97FF",
          "opacity": 0.3,
          "symbol": "x"
         },
         "mode": "markers",
         "name": "147, 147",
         "showlegend": true,
         "type": "scattergl",
         "x": [
          -0.7163289314295537,
          3.257626022183129,
          1.2456215805774957,
          -0.8983574827345644,
          1.719752506792315,
          0.3074543377711498,
          -3.5745104104492484,
          -0.035582560754408396,
          5.318127122467319,
          2.309237679415838,
          0.920346943706973,
          7.546549524006291,
          1.1325927107111555,
          0.6617923809939428,
          -2.4385791710219613,
          6.671992478902313,
          0.2802934753285161,
          -3.2233788861868633,
          0.044694712233063184,
          1.5095418422893336
         ],
         "xaxis": "x",
         "y": [
          -2.7429559459318087,
          -4.234290393729006,
          -7.0093965163065475,
          -4.0372254634302,
          -2.349008722872307,
          -1.306252090143177,
          -2.301235463548405,
          -3.5765608912824,
          0.2673107662534709,
          -2.530812464330212,
          -10.83576097739781,
          -0.379510781708605,
          -1.3773460864046436,
          -0.9844326006632577,
          -0.015067328778206605,
          -8.400642005495387,
          -6.126020553803578,
          -1.0806481742769636,
          -9.640623118036583,
          -6.889969291251198
         ],
         "yaxis": "y"
        },
        {
         "hovertemplate": "color=323<br>symbol=323<br>x=%{x}<br>y=%{y}<extra></extra>",
         "legendgroup": "323, 323",
         "marker": {
          "color": "#FECB52",
          "opacity": 0.3,
          "symbol": "cross"
         },
         "mode": "markers",
         "name": "323, 323",
         "showlegend": true,
         "type": "scattergl",
         "x": [
          -3.2044733720249603,
          -2.6479651153029886,
          -3.420828460294082,
          -6.700144282660064,
          -3.9915374161181023,
          3.290776638132297,
          -6.127891748110765,
          -8.33075439316624,
          -0.3313765955990136,
          -0.2724969712949414,
          1.3087472057090146,
          -2.7782309721250837,
          -8.108586946953862,
          3.0382052848781957,
          -4.739549904697457,
          -2.221867298659343,
          5.467971617709273,
          -3.8852540754848857,
          -6.471793657112853,
          -5.288622433514579,
          -0.4017896883686639,
          -2.7344202443988346,
          -3.894195972828278,
          -4.935537607382605,
          -1.6016280563229823,
          -2.51724702773527,
          -6.29039291600898,
          -4.725740019069373,
          1.2173996198280128,
          -3.0393428036375214,
          -5.4212861549601135,
          0.31155219207812707,
          5.1334710580413585,
          -1.4782031422941948,
          -0.07999843328627228
         ],
         "xaxis": "x",
         "y": [
          3.192833620888937,
          2.442115972939984,
          -2.593008663933319,
          -2.4882377736369996,
          -3.738667247706834,
          1.9573572526365484,
          -5.066480633178045,
          -4.705021369246028,
          -0.027273072724022157,
          3.538005218969903,
          -6.774311276395464,
          0.5213961846246989,
          2.120057889766386,
          1.4152105918009694,
          3.8696470902542024,
          -4.1659918564578255,
          1.411546470657856,
          -3.7617659477812864,
          -4.297382391182806,
          1.675720371525437,
          -2.0339638136246387,
          0.8758389451903501,
          0.9131932200669813,
          1.6985433171234692,
          3.719143375398937,
          -0.21040508223161453,
          -3.7483239240809065,
          2.9822713198917565,
          -0.5195910369584934,
          -2.435655055535763,
          3.4323198924662988,
          0.5084896075819662,
          1.5536524209644276,
          -1.3638777846837042,
          -4.9184487406456965
         ],
         "yaxis": "y"
        },
        {
         "hovertemplate": "color=421<br>symbol=421<br>x=%{x}<br>y=%{y}<extra></extra>",
         "legendgroup": "421, 421",
         "marker": {
          "color": "#636efa",
          "opacity": 0.3,
          "symbol": "circle"
         },
         "mode": "markers",
         "name": "421, 421",
         "showlegend": true,
         "type": "scattergl",
         "x": [
          -5.110723287040621,
          -5.569096099759914,
          0.1807541648057154,
          3.934985142017988,
          -2.264550615191447,
          3.306708379236987,
          -5.98817347023808,
          -2.169162687851582,
          -2.6825996004000863,
          -2.473477949461557,
          -0.3455717190716741,
          -4.322085133177858,
          -1.3020058477932606,
          -4.11978803100123,
          -5.855444507154672,
          -6.213579275800596,
          -1.645846861161796,
          -1.2827517574384082,
          1.6964972631640438,
          -2.897844031771064,
          -7.6354149653054355,
          7.47570713872479,
          -7.087022694972745,
          3.506528011578561,
          -7.013853753469832,
          -4.235120205987499,
          -6.933497181334757,
          -4.819780194779224,
          -7.087983337471357,
          1.7068836728482166,
          -2.750436592181234,
          0.07300973813325336,
          -2.181337786349003,
          -4.072385116086724,
          -4.105689273490112,
          -4.496191959317107,
          -3.6262107567603055,
          -4.436912538479347,
          -2.0123215563141517,
          -1.5350411668911006,
          -1.4454716821804308,
          -1.699840399708595,
          -5.114439154968688,
          -4.787754010874713,
          2.9626810429643657,
          -4.560561626721525,
          -5.865079529059709,
          -6.418644223966944,
          -0.8999335193712358,
          -2.1676531243727615,
          -2.5541650222670684,
          -4.161304450726943,
          1.9113624394460413,
          -4.142648537148679
         ],
         "xaxis": "x",
         "y": [
          -5.090403428001625,
          -2.9670985594048953,
          0.7384165173421334,
          -5.300454028918429,
          -0.46486863156358166,
          1.1701174334568176,
          2.4409072382003414,
          -3.1397685061310088,
          1.018185507218725,
          0.6966731584373047,
          -2.1935232756402767,
          3.9535191066334368,
          -2.3218844402132146,
          -9.324984553974033,
          -1.6951014181875388,
          0.5677544126754474,
          -3.823363459549491,
          1.0684358014856767,
          1.2849860792365997,
          -4.924854246073072,
          -3.2209171870492703,
          -4.339816772324017,
          -2.707771022690077,
          1.71448432778671,
          -3.1487284267400066,
          -0.15787937393324655,
          -2.544401204309361,
          -2.3851310183523404,
          0.45653293117947913,
          -6.790688816692982,
          0.7454941108968508,
          -0.6214807365511044,
          -0.7830166331389786,
          2.6066841391427755,
          -3.1292469636244853,
          2.1196290565625087,
          -2.039137654489639,
          2.5879524213787533,
          -6.448776074486393,
          1.2012143323727205,
          1.0361540079038856,
          2.764191448805341,
          -2.437942677588477,
          1.2747425462285158,
          -0.2933136115431212,
          1.565938380932085,
          -3.853736195814217,
          0.5352486723561352,
          -3.707102245839655,
          -1.753072694539666,
          -5.126241214550338,
          4.2083493898439945,
          0.4101407500376034,
          -3.5285755851910237
         ],
         "yaxis": "y"
        },
        {
         "hovertemplate": "color=353<br>symbol=353<br>x=%{x}<br>y=%{y}<extra></extra>",
         "legendgroup": "353, 353",
         "marker": {
          "color": "#EF553B",
          "opacity": 0.3,
          "symbol": "diamond"
         },
         "mode": "markers",
         "name": "353, 353",
         "showlegend": true,
         "type": "scattergl",
         "x": [
          -0.2982824172827723,
          0.7145551116714023,
          -5.573051400706899,
          -0.5970373024708209,
          -4.720416498717247,
          -0.6240264060690818,
          1.1222073106388866,
          -3.0575275941340423,
          -3.0442146196585558,
          -0.7247983428081911,
          -6.252171162869658,
          -4.678341917274365,
          2.0712278291275603,
          -0.7866204480938045,
          -0.8329829344645089,
          -0.2849465321893231,
          -2.176048836740878,
          -6.093753627278851,
          -3.75535430827115,
          -3.011014385098439,
          -1.490731133261218,
          0.4368807709867945,
          0.3425632745498449,
          4.308292020677322,
          -0.8794458994644211
         ],
         "xaxis": "x",
         "y": [
          0.8277064797212529,
          -3.6596743203211983,
          -1.7014802059067022,
          -0.45328741279057816,
          -3.281274897456874,
          2.1999380523877634,
          2.739241311932604,
          0.12131684364153639,
          0.33269706693303824,
          2.01447764061028,
          -3.862670605350427,
          -3.7860198243588385,
          -6.260993659692817,
          2.5189914734146672,
          2.9072941908167866,
          0.5589605094329455,
          -4.339566841137237,
          -3.144433373163632,
          -1.7424931676459745,
          3.1583016321037016,
          3.996350138641139,
          -4.388893250002477,
          -5.4715552311206785,
          1.2525698298919667,
          1.7448993403001032
         ],
         "yaxis": "y"
        },
        {
         "hovertemplate": "color=385<br>symbol=385<br>x=%{x}<br>y=%{y}<extra></extra>",
         "legendgroup": "385, 385",
         "marker": {
          "color": "#00cc96",
          "opacity": 0.3,
          "symbol": "square"
         },
         "mode": "markers",
         "name": "385, 385",
         "showlegend": true,
         "type": "scattergl",
         "x": [
          -6.83356596182133,
          -1.5391376880138834,
          -3.3616123328454055,
          -4.5361740805397535,
          -1.169604951745051,
          1.0989801571390883,
          -2.242310557788721,
          -1.3459767437077825,
          1.042710303936993,
          -3.13183800820046,
          -1.373228498809451,
          -0.5145852536224254,
          -1.5295236937584429,
          -3.731185739079303,
          1.4449131685434378,
          -3.812221929533294,
          1.5077073783826869,
          1.5513101519188022,
          2.142997108228071,
          -0.367398954984975,
          -2.0698406857777703,
          -2.984511141092197,
          -2.1700947422045904,
          -4.873862631450066,
          0.02658884806807722,
          -2.870223882095983,
          -3.3353526126844857
         ],
         "xaxis": "x",
         "y": [
          6.103360359779197,
          -5.3461329260615775,
          6.932484185718829,
          4.552925274452079,
          6.733793515712279,
          7.952695606318633,
          2.176831437885342,
          3.7400474943254722,
          6.18426587793364,
          4.966271621256226,
          2.0486868333601445,
          6.688827216061052,
          4.673926264328718,
          0.5944495149145603,
          5.490920531467622,
          7.090609307385296,
          4.148041607071704,
          -3.973625258638028,
          -1.8815526493822552,
          0.04376915109984663,
          -2.177199348468598,
          7.637913388691498,
          4.967507164480701,
          5.449655398755997,
          6.546768466447303,
          6.409136288151826,
          -2.519720200901645
         ],
         "yaxis": "y"
        },
        {
         "hovertemplate": "color=289<br>symbol=289<br>x=%{x}<br>y=%{y}<extra></extra>",
         "legendgroup": "289, 289",
         "marker": {
          "color": "#ab63fa",
          "opacity": 0.3,
          "symbol": "x"
         },
         "mode": "markers",
         "name": "289, 289",
         "showlegend": true,
         "type": "scattergl",
         "x": [
          1.9011243266711448,
          5.496562888934579,
          5.990127823517374,
          2.5903257917615927,
          2.717031147199176,
          3.4123435262388004,
          1.8988286470274003,
          8.652523242234158,
          3.699046890284606,
          7.613925367216572,
          2.350234010215202,
          -0.4398005536007899,
          -0.0734220881328924,
          0.6593819771541923,
          6.232390591108076,
          -0.13460141472407947,
          1.8323903299562043,
          4.762536491174504,
          2.8624876018142222,
          2.4392240915328824,
          4.076326817473716,
          3.3311307178040055
         ],
         "xaxis": "x",
         "y": [
          -6.025473735368702,
          -6.199586760418045,
          -1.1864084341081982,
          -7.350712607224888,
          -9.343464974049482,
          -7.94062010422882,
          -13.10870583926882,
          -2.5669488257783493,
          -1.3136388593659682,
          -8.687908312592903,
          -11.578993357419593,
          -11.090506075477073,
          -7.386887867421004,
          -2.9448942521933743,
          1.033170535164732,
          -7.415804552195227,
          -1.5950764445365584,
          -6.90909908047367,
          -7.480050376970818,
          -1.852863660619533,
          -7.709327435565038,
          -8.600807931536345
         ],
         "yaxis": "y"
        },
        {
         "hovertemplate": "color=299<br>symbol=299<br>x=%{x}<br>y=%{y}<extra></extra>",
         "legendgroup": "299, 299",
         "marker": {
          "color": "#FFA15A",
          "opacity": 0.3,
          "symbol": "cross"
         },
         "mode": "markers",
         "name": "299, 299",
         "showlegend": true,
         "type": "scattergl",
         "x": [
          -2.234052998999227,
          -4.902596811880792,
          -4.2906821191066395,
          -0.09161734868113532,
          -1.0513838203671388,
          -1.7899758843123852,
          -0.27666464098720017,
          -2.291437996455471,
          -4.383503701134901,
          -1.3196089726164877,
          -7.238129092082618,
          -2.155076188599597,
          -5.745635998565416,
          -3.074182778003933,
          -2.5792685908242596,
          -4.50951726935219,
          -4.199215438847885,
          -1.5719980202694608,
          -8.602445303920717,
          -0.5826155783392074,
          4.322069431663451,
          -4.214406810917967,
          -3.506139273674785,
          2.6611130790541395,
          -2.7582940160460594,
          -6.012445882068903,
          -2.8074342709815014,
          -1.131190870972474,
          -5.200478508169298,
          -1.9512990608871341,
          -1.4153925266830019,
          -2.6315543694953067,
          -8.484959785532398,
          -1.2262614742568152,
          -4.922916439932309,
          -2.8538085436973577,
          0.6211364182233134,
          -4.355687421558113,
          -1.0175114686397715,
          -1.2719945336112393,
          -2.385557986007116,
          -0.5168740181355599,
          0.804404404436194,
          -4.547795781766727,
          -1.4394753545165857,
          -0.3006148033313275,
          -2.050211893633836,
          -4.066412907505583,
          0.24392340067979296,
          0.6846854023613655,
          0.9729474440702381,
          -2.1134102971049797,
          -1.868522504174446,
          -3.1296678328285084,
          -3.779392404051164,
          -3.1621598478729203,
          6.8147265372869725,
          -2.5491533226545835,
          -1.189482309617599,
          -3.413696424136235,
          -2.52500106167979,
          -0.8600392683901775
         ],
         "xaxis": "x",
         "y": [
          3.1415525898769947,
          -3.325282123351321,
          2.1686053313379756,
          2.4854302654219733,
          0.20564129257833394,
          -1.6110612539401659,
          1.6322925978885359,
          2.925966347717955,
          4.6729510750814995,
          1.5832146325034575,
          -7.246174938939555,
          0.6743795111303594,
          6.03484192704938,
          0.6984026060266868,
          3.3773094665250967,
          -1.8910329929237981,
          -1.0888245305876825,
          2.5246102168439974,
          2.6940004184052198,
          2.3482456460754197,
          4.477492511130596,
          3.833039654526291,
          4.713624503839875,
          0.8986999669239437,
          3.0888667997586747,
          3.9614940675525054,
          4.061385394928624,
          -0.36719882992785946,
          3.57572673860579,
          -4.6121207066541,
          -0.17325530992917873,
          0.9779959824900759,
          -2.7546130632649546,
          0.79126935650382,
          2.6818585868128606,
          4.25816926028139,
          2.193327797100259,
          -1.2817565055194993,
          4.017296055241253,
          0.5993290107768825,
          -5.466982962207955,
          4.525395887298536,
          2.2836289359523825,
          -2.3118431474922128,
          3.0949902716724207,
          1.9658167867911842,
          2.063787959454124,
          2.6709212957996833,
          1.6771325054372457,
          2.687602972249684,
          5.613237851666491,
          -4.713622146254387,
          3.956277401004477,
          3.0932725709563114,
          6.207219765880489,
          -3.4727933829480166,
          2.1979896427768035,
          -6.2593004490226,
          -0.1626197503029562,
          3.759262054302154,
          0.9508840991146899,
          1.4636361298017904
         ],
         "yaxis": "y"
        },
        {
         "hovertemplate": "color=435<br>symbol=435<br>x=%{x}<br>y=%{y}<extra></extra>",
         "legendgroup": "435, 435",
         "marker": {
          "color": "#19d3f3",
          "opacity": 0.3,
          "symbol": "circle"
         },
         "mode": "markers",
         "name": "435, 435",
         "showlegend": true,
         "type": "scattergl",
         "x": [
          -3.782035462900432,
          -4.841067357460857,
          -5.391482423186924,
          -0.1598480212567306,
          -8.035245587631692,
          -3.5257759646152302,
          7.1387819732900555,
          -1.6634385188059722,
          -2.4360830756944885,
          -7.952275652385971,
          -2.498525680607442,
          -1.7549925959738835,
          -3.0283704363924255,
          -3.1949611096744346,
          -2.8951128056797675,
          -1.3079632363342208,
          -2.828885872939803,
          -5.173119652344276,
          -1.293580586446586,
          -4.327493063357948,
          -5.226462267325121,
          -4.590294825892732,
          -3.4309493770886745,
          -2.8787832150946513,
          2.640557294616788,
          -4.939433781887217,
          -2.3054309375107227,
          -2.3299878157585336,
          -7.14198967238287,
          -2.116820843829541,
          -4.586226335542683,
          -4.262436965296443,
          -8.4114356507405,
          -6.227838812142322,
          -5.819484974927775,
          -1.6092994191314691
         ],
         "xaxis": "x",
         "y": [
          -5.952582064080447,
          -1.2055168047004998,
          -4.447642530159053,
          3.3539159802755845,
          -1.6448643569052914,
          -4.088111921022266,
          5.085756880810056,
          1.4848272593965426,
          0.040532505747727626,
          -1.426103859540615,
          3.1609795522057946,
          0.9317025094016244,
          2.7491502114569175,
          4.163751903529788,
          4.996819014362327,
          4.538237785188626,
          -4.104731725102301,
          3.6971424820271883,
          1.9499235264013284,
          -1.2676637975325156,
          2.6904115871165004,
          2.040649046023682,
          1.7968595257913564,
          5.015499570114144,
          2.3243140753807294,
          2.1798831053223946,
          3.9431889979086927,
          3.2146138130654247,
          2.483598746548498,
          -0.047085462248955254,
          4.6541538464745,
          3.234507213170177,
          -1.5839539933876823,
          4.552611665347129,
          3.8130906958144513,
          4.510353988913171
         ],
         "yaxis": "y"
        },
        {
         "hovertemplate": "color=437<br>symbol=437<br>x=%{x}<br>y=%{y}<extra></extra>",
         "legendgroup": "437, 437",
         "marker": {
          "color": "#FF6692",
          "opacity": 0.3,
          "symbol": "diamond"
         },
         "mode": "markers",
         "name": "437, 437",
         "showlegend": true,
         "type": "scattergl",
         "x": [
          -1.319367066391596,
          -3.278797903157966,
          4.780098277583418,
          2.176564886429486,
          3.1167006508350332,
          2.8044741237031476,
          -1.3675719118934737,
          -2.600211636413252,
          -0.4154565650329466,
          3.8543941623972455,
          -5.321115757930883,
          -0.8964170677772575,
          3.93564700958775,
          -0.29682925383882003,
          -3.578257372568014,
          3.1449866438000313,
          0.8176428992322883,
          -3.659023907919342,
          4.744141560183161,
          2.843696168046781,
          1.5657860958751695,
          -2.0972389703334255,
          0.4069149229301321,
          3.744282028043364,
          -1.1083852974096429,
          -0.8584158408183347,
          0.5078548653417967,
          0.28270897224043867,
          -3.335919757459538,
          3.0770040761424733,
          -6.407458647822341,
          -0.861526243471717,
          3.325115372474755,
          -1.8269084996236213,
          -3.95068204015947,
          -3.439165576334111,
          -3.871661928777377,
          3.6527398651508145,
          8.488313407657271,
          -4.353377501160501,
          -4.177166757035257,
          3.9322982194055798,
          -3.190655828397893,
          -3.0286702185209733,
          0.7657539173639325,
          1.6538758775662907,
          1.0857780453424482,
          -0.38388086302543795,
          -2.018026151452255,
          -0.9641646985296151,
          5.9053532755843525,
          0.40287293290049797,
          0.0243241400907337,
          5.196285748068082,
          -1.9966813222027455,
          0.8230048888023037,
          2.131010164660927,
          1.3088676800288472,
          -1.0107785239918796,
          2.6549112175044285
         ],
         "xaxis": "x",
         "y": [
          -4.955826365549978,
          1.4441199282010972,
          -1.2088742863807975,
          -3.1147283845954346,
          3.2365690602320956,
          -5.754795702522937,
          -0.7075193295223162,
          1.3719458398898077,
          0.7969264977180188,
          -7.545802781794155,
          -2.6675156492374397,
          -7.814558578265089,
          0.625284280542546,
          -8.30455847006552,
          -4.268575891585353,
          -1.881248162373002,
          2.2155903237612096,
          -5.163582642006071,
          2.101994808881958,
          -2.6641710077131147,
          1.0519928221308024,
          0.6621450448487175,
          -5.223620185821073,
          -5.418865836388616,
          0.7654387934344308,
          -4.494143446317915,
          -0.7386516792897658,
          1.3559529940736101,
          0.8457902902616146,
          -2.2987451485476975,
          -5.365276729601706,
          1.2522731349706984,
          -0.8786755091774301,
          -6.168839006541177,
          2.9803721505230545,
          -8.60388706167965,
          -1.9265161518205447,
          1.6728972181465322,
          1.4510071291805495,
          1.5810400199039618,
          -4.380952666959388,
          -1.7365045753713086,
          -3.8346416272235837,
          -3.4327195981968077,
          -4.52925019013108,
          -5.469818814151749,
          -8.441983642026226,
          2.649326908499878,
          1.5657208722619453,
          -0.9872060126138494,
          -1.2615770787105696,
          0.394727407667294,
          -1.8676910129557964,
          -9.485869024412594,
          -5.9061564892501215,
          -2.645492311494495,
          -6.79579580191319,
          1.064469175934973,
          1.9367501297829393,
          0.13028010283169175
         ],
         "yaxis": "y"
        },
        {
         "hovertemplate": "color=255<br>symbol=255<br>x=%{x}<br>y=%{y}<extra></extra>",
         "legendgroup": "255, 255",
         "marker": {
          "color": "#B6E880",
          "opacity": 0.3,
          "symbol": "square"
         },
         "mode": "markers",
         "name": "255, 255",
         "showlegend": true,
         "type": "scattergl",
         "x": [
          -6.07738883969511,
          -5.495720994129673,
          -1.276692395582101,
          -4.681635396315451,
          -5.58749763959921,
          -7.390988521901314,
          -2.525940026142622,
          -7.266997937307249,
          0.24874272218372184,
          -4.306435216502229,
          -0.4683537639728178,
          -6.70228362612762,
          -0.44853686639282686,
          0.39028361984122617,
          -4.40772082912205,
          -8.634758946400312,
          -7.429894330774177,
          -6.396046245738673,
          -5.9572578210676,
          -5.571270467168492,
          -9.322940346515736,
          -2.9296628411361034,
          -1.7802303318751358,
          -0.7883503808681807,
          -7.337706522437057,
          -1.507479321588972,
          -0.2604414233403899,
          -6.184644207591344,
          -6.950616649498452,
          -9.270039785456998,
          -4.6523216225495565,
          -4.337788983299364,
          -9.352822456835538,
          2.9701514042870323,
          0.6489382577620272,
          0.3815112232287607,
          0.16813498513491304,
          -4.723232180235608,
          -6.408643281133499,
          -4.4219145941983795,
          -5.081390992787397,
          -5.285734630089021,
          -6.176271250319863
         ],
         "xaxis": "x",
         "y": [
          -1.103526101425248,
          6.254305395836021,
          -1.9696550955698289,
          2.831910865250246,
          5.774967126624426,
          0.6438727320833141,
          2.0414049908993546,
          0.03744463977935788,
          4.663463533967091,
          6.14166932518115,
          2.1727856110312684,
          6.026616191520729,
          -2.550357112064715,
          -1.938648255971511,
          2.932658823148932,
          7.917903506728745,
          6.571152704331304,
          -4.010173772581182,
          -1.0929211534505099,
          1.1929800521310312,
          0.11999310427038733,
          3.8155505495885578,
          4.3779954189855745,
          -2.187948515669284,
          -2.0308490904100447,
          6.196975504276637,
          2.7046295324643115,
          -1.2146943882475827,
          4.8707196577494685,
          -0.13426605850133627,
          6.1508533250695505,
          -2.242302165369366,
          4.567920402771263,
          0.3009079185648519,
          6.5373133737902105,
          0.6245377023013282,
          -1.5774852243420614,
          4.052116742680959,
          7.046354297035831,
          4.652294248973166,
          5.277128575664837,
          6.651999380789464,
          1.5078020306093682
         ],
         "yaxis": "y"
        },
        {
         "hovertemplate": "color=399<br>symbol=399<br>x=%{x}<br>y=%{y}<extra></extra>",
         "legendgroup": "399, 399",
         "marker": {
          "color": "#FF97FF",
          "opacity": 0.3,
          "symbol": "x"
         },
         "mode": "markers",
         "name": "399, 399",
         "showlegend": true,
         "type": "scattergl",
         "x": [
          -2.250094250346173,
          -0.05207905344694742,
          1.9552215310757937,
          -5.010971377562247,
          -1.5385292652463312,
          0.36043941286817854,
          -2.7505371175114526,
          0.5866316220325439,
          1.914734330655946,
          -2.2318337822257215,
          6.391038878841583,
          1.5074675953817855,
          -2.9001601399229404,
          -0.50342683289892,
          -0.4712867505328991,
          -1.8711163822222576,
          2.614805448126935,
          1.9544870173209075,
          -0.2352217504119487,
          -7.696938010362705,
          -2.038013480905461,
          -3.1292511718395413,
          2.9478037216727664,
          0.21049488995820614,
          1.5391124820923021,
          0.17251908115855497,
          3.592371137519914,
          -0.8663684518140652,
          -0.018012711012927618,
          -7.158234445100104,
          -3.2997293072969165,
          2.092748300094479,
          2.5159010760406635,
          1.4847308377395003,
          -0.44810713924895834,
          -4.443125246289909,
          -0.3390547326443519,
          -0.3450107306561232,
          -4.461096156393523,
          -0.10129675720786968,
          3.8464666850555744,
          -0.18155252709379988,
          -1.509197406085378,
          -3.5487374530523974,
          -2.7571262570412727,
          -3.1511112339367107,
          0.25646891821079726,
          -0.46739109096244236,
          -4.119652733063343,
          -5.737268303851829,
          -3.3613893909382684,
          -3.0915305836108553,
          4.2887303904383725,
          -2.4528807461974114,
          0.6197586946239739,
          -1.5479168180806175,
          -1.790978851482086,
          -3.8544539645002356,
          -5.183139881861008,
          3.1342362932195287,
          -0.7302242822656759,
          0.5230312257325141,
          1.016970277932763,
          1.4914716894741376,
          -0.6972313156586206,
          -0.09089647506634119,
          -5.189336480762226,
          -2.7506674321849878,
          1.870284921690351,
          6.403766874303673,
          0.7981906234676152,
          -2.8506985454598164,
          1.7853302207504314,
          2.681676948349381,
          2.2574911461344933,
          2.17273379298663,
          -0.26319532540247426,
          -3.5090873773242546,
          0.9557997934860986,
          -1.5459228397057947,
          2.4762233582128395,
          1.6165679136577202,
          4.691130464296324,
          2.7827912889515223,
          4.953498072526888,
          -0.1925248469658637,
          -3.7147348945905043,
          -2.1493204716123286,
          -0.3777722722437634,
          0.3624346775864129
         ],
         "xaxis": "x",
         "y": [
          1.450222227773921,
          -6.377972496595471,
          0.8751604779720269,
          -1.6377184613467446,
          -1.927689157328397,
          -2.6634818338280994,
          -4.51134068604453,
          -5.777099303395913,
          1.4607393059436973,
          0.41078000407494647,
          1.6940648948704473,
          2.6136595167534824,
          -2.573676411230865,
          -0.3376802807947647,
          -3.6487119524734553,
          -2.661023369376162,
          0.47559895444031636,
          1.956360478232465,
          -5.868865243638307,
          -3.906341700889482,
          -3.5380653423736357,
          -1.8780288257766187,
          -0.43030381227841225,
          -4.309366324682381,
          3.210497353744461,
          4.218996612680159,
          4.859101992822826,
          -0.48709614145523616,
          4.035578760902166,
          -0.033462660649944284,
          -7.9915226931364804,
          2.2178001968701277,
          -2.0261404766468702,
          -1.5147118673065039,
          -4.870733761359978,
          0.6273027631352605,
          4.217270030072322,
          -4.719241281535231,
          -1.003987386056117,
          2.590786955990783,
          2.0313367109511407,
          2.7415947974322017,
          -3.440921275651704,
          -1.5755339686930259,
          -5.167581933029076,
          -8.320610390020953,
          -2.551073502802651,
          -3.999101109870463,
          3.1026988868980774,
          -5.2384764986954035,
          1.4648506439848954,
          3.2706627321042605,
          2.6839716547542314,
          3.4380667817018744,
          -5.544981026700971,
          1.2173618743304362,
          1.6983440487118449,
          -5.34210867015698,
          0.08045321985221404,
          -1.8213844798513883,
          3.2351504183596926,
          2.835381704102843,
          -0.06636275512255957,
          -0.6522926939981855,
          1.011886251638741,
          -0.1126982538369661,
          -5.453365457018208,
          -3.676191378889394,
          1.324235380639881,
          -1.316198675058192,
          -2.7496613358236206,
          1.9365414184029544,
          -5.04061285666389,
          0.7231699228220078,
          1.71303351688985,
          0.1306982455615009,
          -3.790954050844221,
          4.633505380598594,
          3.5841143631074246,
          -3.475929846288174,
          3.1766391098382925,
          3.2793626226586987,
          2.7592304952066127,
          -0.033334365714057054,
          2.2395343231977862,
          0.5477197025878777,
          3.0235371923553185,
          4.645324578627264,
          -2.49772116213082,
          1.1792182013901613
         ],
         "yaxis": "y"
        },
        {
         "hovertemplate": "color=433<br>symbol=433<br>x=%{x}<br>y=%{y}<extra></extra>",
         "legendgroup": "433, 433",
         "marker": {
          "color": "#FECB52",
          "opacity": 0.3,
          "symbol": "cross"
         },
         "mode": "markers",
         "name": "433, 433",
         "showlegend": true,
         "type": "scattergl",
         "x": [
          -8.549083839533852,
          5.18240201451295,
          -2.8353749576561107,
          -4.221899472431556,
          -1.319665122532793,
          -3.3918950997163204,
          0.6914095093037166,
          -0.803958744602772,
          -4.879808349444415,
          -6.442950947436326,
          -0.9488305718160188,
          -5.357755680412262,
          1.1276267457603855,
          1.5293759265147246,
          -6.370181700731442,
          -5.59999227280608,
          -1.6870328883319632,
          -4.786026954362309,
          -2.6845568001570532,
          -2.166940784990277,
          1.7448778458328331,
          4.013927941171555,
          -1.5475464311391773,
          -2.726333048187231,
          -5.64918550862758,
          -2.149139873204472,
          -2.349888370994206,
          -4.825408955548324,
          3.3534280876839966,
          -6.323836713430379,
          -0.6450143971223262,
          -1.8918626511094332,
          1.0044985799256632
         ],
         "xaxis": "x",
         "y": [
          -5.306408645629478,
          2.487596676857688,
          4.662630923600941,
          4.309424226386439,
          2.2590167914726287,
          1.0797284426391227,
          -0.11803130142353062,
          5.502201851715697,
          2.9988273050303307,
          0.27413308325928437,
          2.0345628426106606,
          1.1279188425632263,
          -0.9170137480466855,
          1.5841449213527652,
          1.9829839653872516,
          -6.054924914300525,
          1.9203754841282874,
          -4.896526456326371,
          1.9468442976928106,
          1.2728800199405008,
          2.5888132041684098,
          1.480130800663619,
          2.9708749657107765,
          5.350962001713682,
          -0.926191065040885,
          -2.7726655125612414,
          0.9443179126050771,
          1.7210421780390017,
          5.1262962042530935,
          0.18739726057176015,
          -2.0422157584635303,
          -4.037677383554159,
          0.847450087465333
         ],
         "yaxis": "y"
        },
        {
         "hovertemplate": "color=384<br>symbol=384<br>x=%{x}<br>y=%{y}<extra></extra>",
         "legendgroup": "384, 384",
         "marker": {
          "color": "#636efa",
          "opacity": 0.3,
          "symbol": "circle"
         },
         "mode": "markers",
         "name": "384, 384",
         "showlegend": true,
         "type": "scattergl",
         "x": [
          -0.28449292598627685,
          0.9906229440234684,
          1.7644178870516432,
          -4.5917536467483115,
          -4.660574395176643,
          -2.376821756932756,
          -3.0712093344141116,
          -1.9543468866314946,
          -1.0068240580066588,
          -6.729673985305454,
          -5.708867294831627,
          -3.19666041145232,
          -2.8237062086327476,
          0.06859936531572647,
          -2.26101255369957,
          -2.8615015199651013,
          -1.4026639382470456,
          0.10827202851489924,
          -3.673398574737171,
          -4.018395358664067,
          -6.001527884907239,
          -4.665872905577778,
          -4.186166215146608,
          -1.446250080043837,
          -4.1833749686031085,
          -3.697610728271885,
          0.9130892029180525,
          -4.210162239858206,
          -1.4722822047560233,
          -3.2534968954678254,
          -0.8665286250668424,
          3.567708044667709,
          -4.521496935668965
         ],
         "xaxis": "x",
         "y": [
          2.482271392804961,
          1.4749852657823674,
          0.6473530184639807,
          5.909170068453707,
          4.711019811335829,
          -3.6854042257908293,
          3.870253083113971,
          -2.307584178728891,
          5.8381949763443,
          5.016644717120188,
          3.0768046909633924,
          4.464543377765603,
          4.873044185308976,
          2.612330413614023,
          4.135157403949614,
          5.1281919179663005,
          -0.7649866140479225,
          4.318210276411971,
          3.2932571021740173,
          1.678692251955533,
          -0.19161993690031334,
          -2.280183620014366,
          -0.23921202864442992,
          -5.10595931613163,
          4.102707105063171,
          0.6167523523094329,
          0.5387850787024824,
          3.425621181845418,
          -2.9306246156751077,
          4.55644038958801,
          0.9260186721896583,
          2.1312654264669506,
          5.002552849241479
         ],
         "yaxis": "y"
        },
        {
         "hovertemplate": "color=412<br>symbol=412<br>x=%{x}<br>y=%{y}<extra></extra>",
         "legendgroup": "412, 412",
         "marker": {
          "color": "#EF553B",
          "opacity": 0.3,
          "symbol": "diamond"
         },
         "mode": "markers",
         "name": "412, 412",
         "showlegend": true,
         "type": "scattergl",
         "x": [
          2.553551063041773,
          4.04450075762269,
          -1.3370094832235437,
          0.6639808218899256,
          -0.14230036271468322,
          1.4393258476592867,
          -0.5807848161309024,
          5.517416702365032,
          3.507567182155388,
          -5.54890443570965,
          5.181522918016258,
          2.8121902449572858,
          1.0122192550851148,
          6.1291842003012755,
          0.8788312247441052,
          0.6029513691730424,
          2.9565214415324377,
          0.41025940377999415,
          3.7074771868549026,
          -5.3366778014787615,
          2.793691293637134,
          3.8339806310185094,
          1.2556020553543332,
          3.1044924098908395,
          5.247878360136232,
          4.326433274806213,
          0.08865902250559853,
          2.7827122585102306,
          -0.1235100610519194,
          8.756276364954864,
          3.3575392680606213,
          1.177300458253312,
          -0.34052476100377577,
          4.249264489386362,
          -4.456032441353811,
          7.672873777067498,
          2.486596258863023,
          2.476866529547316,
          4.873521842825257,
          1.5753432123692261,
          -0.154318083415404,
          -1.0035551643425884,
          -0.877490599181746,
          2.4613864618696533,
          -1.9336690632832556,
          4.752834955622629,
          -0.7205863871596017,
          4.015547544206316,
          2.188789257863641,
          -4.55411007399971,
          -2.060670347775125,
          6.284102262907224,
          0.9308902743329264,
          4.308397314510768,
          3.3705211990645174,
          0.5107679743860036,
          7.20583019936669,
          -1.340302163718323,
          3.3879141974883367,
          3.521543697320105,
          2.64928363646211,
          0.6959024676214457,
          -1.173038083440274,
          2.140125173289648,
          5.085262743650247,
          1.2342807481218252,
          7.751258397671586,
          4.542169638305444,
          6.901839923479726,
          4.979032000205739,
          6.439696782597412,
          5.2983830613994645,
          1.6418654808525335,
          6.140748990331298,
          6.101974260559643,
          0.5477442703222722,
          5.045271964287555,
          -3.982458705555872,
          -3.225188556604228,
          4.996542937233724,
          1.8558290098603936,
          -0.3170669447428655
         ],
         "xaxis": "x",
         "y": [
          -0.9644477210431123,
          0.9122097068509307,
          -0.06490509254298323,
          -2.8038502402832473,
          0.42381033651575,
          -0.42576714910282365,
          -0.7549012374554804,
          1.8654163912469124,
          -0.13899735147980086,
          -4.654584757509232,
          -0.9299686528953972,
          0.7835636861637427,
          -8.548226377869511,
          -0.6122807633360217,
          -4.6846323555729406,
          -6.289829813514995,
          -3.856143360839499,
          -0.2908349597447905,
          -5.6973460204914055,
          0.33119216078855257,
          0.9891900204288152,
          2.462707589048099,
          -5.798350785533809,
          -1.5545630362697764,
          0.9656197856810237,
          3.316020433510856,
          0.7397945275309771,
          -2.450619603636654,
          -1.933920585458455,
          0.1402483877505058,
          -2.5345894876241863,
          1.4897901458699148,
          -3.7446861140249963,
          2.890612166770866,
          -1.3916445148909584,
          4.417339572917765,
          -2.3956319734681135,
          0.6595693638838405,
          -3.444795358949834,
          -4.561294939444797,
          -4.858077924518651,
          0.9354237758373982,
          -8.692616229313712,
          -1.0554585435348935,
          -6.7953963004792834,
          -6.98302058064391,
          -6.919269496017021,
          -3.2507014450791614,
          -6.7284548647399935,
          -3.968811444076917,
          -6.836059280352948,
          -3.05861870360856,
          -9.172704240568775,
          -4.284483249372299,
          -0.680026195254712,
          -3.657531490724462,
          -3.097488662922467,
          -6.423455133357275,
          -0.04884916118315939,
          1.561918482020497,
          1.6264345288322155,
          -0.14053014245753703,
          -6.435095354685848,
          -2.9919017248441473,
          1.565060866629742,
          -1.8757019424919419,
          -1.325302178368509,
          -9.251278960590819,
          -1.1659617828151683,
          -0.07071694307340938,
          -4.2710617787053335,
          -2.5678945257223162,
          -0.787892794561315,
          -2.7745949505813705,
          -3.610330656743804,
          -2.1431365799130844,
          1.6586374838146847,
          -5.06391671135427,
          0.5373229181341781,
          -1.0770924194180065,
          -0.8632989909833022,
          -8.134753762618434
         ],
         "yaxis": "y"
        },
        {
         "hovertemplate": "color=1<br>symbol=1<br>x=%{x}<br>y=%{y}<extra></extra>",
         "legendgroup": "1, 1",
         "marker": {
          "color": "#00cc96",
          "opacity": 0.3,
          "symbol": "square"
         },
         "mode": "markers",
         "name": "1, 1",
         "showlegend": true,
         "type": "scattergl",
         "x": [
          -5.227407844239111,
          3.4864856916018385,
          -1.4007251934658544,
          -2.11718986090358,
          -0.2937724961318504,
          -5.5664537567384835,
          -0.17897005958227,
          -4.0271740638430344,
          -2.152503249741991,
          2.8209914049189395,
          -5.157539580529829,
          0.9347280087826296,
          -4.011361371234257,
          -3.5582724066197766,
          -4.719623861189408,
          1.752687743210594,
          -3.9635535939799986,
          -3.254637170571376,
          -0.4726059154167197,
          -0.2352958964115996,
          1.8219508835751594,
          -6.216770766989826,
          -4.160706771508181,
          -4.449590918391543,
          3.4832167448483045,
          -4.844590695251246,
          -2.074456693317597,
          -3.3892161849891935,
          -6.569482607517005,
          -5.186552702639512,
          -1.5423832984878423,
          -0.8455393586671182,
          -0.49902121769298896,
          -6.980002563206308,
          -3.5814582472434857,
          -6.805558809645831,
          0.29945423448675257,
          -7.57837852458713,
          -3.2336235325875,
          -0.38625586165132836,
          -6.01612987421215,
          -5.291256943143688
         ],
         "xaxis": "x",
         "y": [
          -7.388813197861908,
          -0.25534561995464444,
          -6.166223812720581,
          -6.81274898665009,
          -5.372922974799289,
          -2.969565537671466,
          -3.1845023684209868,
          -6.393704640689448,
          0.9339336928943315,
          -9.758845872081688,
          -5.46587667041881,
          1.349267436723315,
          -8.748303269443198,
          -0.3296659053956655,
          0.7023549325000155,
          3.383844040296102,
          3.9162828421315012,
          0.2779401742235411,
          -3.7942676537298676,
          -0.2606427415081542,
          -6.73414088043317,
          -3.7368362800047765,
          2.8210861192441157,
          1.8889031927271116,
          -4.40815560679136,
          -5.300719699363105,
          -1.1674724616448755,
          -8.037781855711925,
          1.067566688158586,
          -3.143074369289909,
          -1.741953195538987,
          -3.575333542067548,
          -1.4576962882187434,
          -0.5574795984815297,
          -3.5109387891722235,
          -0.41168471830527786,
          2.2664348990442442,
          1.790271021114891,
          -9.502563868785897,
          -0.177493197383943,
          -2.8029901086216067,
          -1.828668740479317
         ],
         "yaxis": "y"
        },
        {
         "hovertemplate": "color=252<br>symbol=252<br>x=%{x}<br>y=%{y}<extra></extra>",
         "legendgroup": "252, 252",
         "marker": {
          "color": "#ab63fa",
          "opacity": 0.3,
          "symbol": "x"
         },
         "mode": "markers",
         "name": "252, 252",
         "showlegend": true,
         "type": "scattergl",
         "x": [
          -1.5016561729406,
          -0.5503332350339626,
          -2.618506124499781,
          -1.6234256242813743,
          1.247548704442773,
          0.32506338227173986,
          1.3294107611856882,
          0.155513293739471,
          1.536596800692335,
          1.2047401863049787,
          -4.079066895992276,
          -3.577789589555011,
          5.223399366533953,
          -3.5716956605509393,
          0.23653872999910372,
          -4.315076450065275,
          0.4069865930218901,
          0.13324115176612436,
          -3.3895911807244654,
          1.7568807090104044,
          -0.2747102352262539,
          -1.2311560072999006,
          -1.8910235865542184,
          -2.100860259595775,
          1.1332211258506792,
          -2.198005153788299,
          0.530438128671336,
          -5.164863725738218,
          -1.0007903169278152,
          0.17871287296424718,
          -0.9991767587290459,
          -1.079562490269222,
          -3.755101918810001,
          -4.120821112826171,
          -0.48797852964437466,
          -1.5026313992140448,
          0.5737018007574286,
          -0.7279627960539242,
          -2.346595559832978,
          0.09945775712892423,
          -1.6248824741620365,
          -3.8584045938109752,
          1.2271721557106596,
          -1.5021224787386493,
          -0.6687738958281682,
          0.6598450785913986,
          -3.9235987130812675,
          -1.0920346618283645,
          -3.4250935991298705,
          -4.154891320328021,
          -3.8327163531399155,
          -5.154080720118196,
          2.4194569882046975
         ],
         "xaxis": "x",
         "y": [
          4.1250392332029,
          -2.070762693832585,
          2.68340276224415,
          4.575469781211778,
          3.641735714845441,
          -0.710965376686198,
          0.16501610949086773,
          4.458946242063636,
          1.4599982213662412,
          2.934707606592208,
          2.8974489189406722,
          3.790187802428975,
          3.058176634553854,
          4.1181247860707995,
          3.787528786202364,
          2.698690758496031,
          5.217646983684018,
          1.2331437017376807,
          3.375928233557505,
          5.651861869892439,
          1.8834188480023422,
          4.179039789376345,
          5.109555601477583,
          3.460067688683788,
          -3.2098659468933866,
          5.971146351200432,
          3.372936034833891,
          3.204829342185938,
          -4.2222860425622475,
          4.902425450748142,
          1.4114812722802645,
          5.070091892482978,
          4.2597209414214925,
          3.450131620648009,
          0.8029710008112249,
          -0.23569094946914312,
          -3.5099375518485574,
          0.9063916661319088,
          2.4183959996626863,
          2.5883963048516367,
          4.963738039168053,
          2.1793850265250896,
          -3.2257214327245576,
          2.611959179735815,
          3.02187645486456,
          4.914750905477156,
          -2.4167104586781267,
          3.9131704164603742,
          3.196318844014472,
          -1.1556132722782229,
          3.0547368356223914,
          -2.532895340452233,
          -5.288523148940256
         ],
         "yaxis": "y"
        },
        {
         "hovertemplate": "color=302<br>symbol=302<br>x=%{x}<br>y=%{y}<extra></extra>",
         "legendgroup": "302, 302",
         "marker": {
          "color": "#FFA15A",
          "opacity": 0.3,
          "symbol": "cross"
         },
         "mode": "markers",
         "name": "302, 302",
         "showlegend": true,
         "type": "scattergl",
         "x": [
          0.6471413456665733,
          -5.603936007939728,
          -0.33579513633294933,
          -3.4500735004576186,
          -2.686985412239587,
          -2.8421574686887894,
          -3.3326850690227734,
          -2.700396003511671,
          -1.1057216636013862,
          -1.1603525946176256,
          -0.13497913354838723,
          -4.302333513571478,
          -1.9081837671302064,
          0.2944519480756367,
          -4.117361013479905,
          -1.2200560033988561,
          1.2241323778191568,
          -0.6221288141122661,
          -5.952158156109124,
          -1.0973075605277158,
          -5.8943031835041175,
          -6.873645583771052,
          -3.536571836139154,
          -5.340859165568963,
          -1.838307174897752,
          -2.215363190876222
         ],
         "xaxis": "x",
         "y": [
          5.461251336526166,
          3.7308446538608244,
          5.396621838922649,
          -0.29715884729131636,
          5.230614681006095,
          -1.552936906393781,
          5.978655589365044,
          5.503373987721605,
          5.954234058221587,
          4.508010289536229,
          1.9545214840331528,
          6.36004654005439,
          5.3285709875734355,
          6.385639736117015,
          -2.871848266741678,
          6.029007664984956,
          -4.578580391297445,
          2.6765849328707008,
          -0.06993317028328706,
          -0.8229534132772226,
          6.839982423128873,
          -1.94087440617037,
          3.2791939790390887,
          -3.066314180733113,
          4.375624075096962,
          6.9065701916018725
         ],
         "yaxis": "y"
        },
        {
         "hovertemplate": "color=125<br>symbol=125<br>x=%{x}<br>y=%{y}<extra></extra>",
         "legendgroup": "125, 125",
         "marker": {
          "color": "#19d3f3",
          "opacity": 0.3,
          "symbol": "circle"
         },
         "mode": "markers",
         "name": "125, 125",
         "showlegend": true,
         "type": "scattergl",
         "x": [
          6.037986195382429,
          10.694569318170336,
          10.790375345038573,
          12.212487630923365,
          7.9674149630555275,
          10.076462466619756,
          8.239092502647367,
          2.8647656636240177,
          20.825348396524912,
          7.381316182918686,
          8.224505836534494,
          8.396294683866104,
          9.214786439633812,
          8.791753948478531,
          10.934772455070464,
          7.657875331518615
         ],
         "xaxis": "x",
         "y": [
          5.0830787140137605,
          2.608659146735842,
          -1.756853790093542,
          2.3691771471390437,
          4.60565387506978,
          1.9152701744687577,
          4.0079376203134816,
          3.2591102351543744,
          15.48943243027207,
          0.800785547311016,
          -6.918044801023128,
          -4.8942765114236995,
          0.4430571693368416,
          1.2892358371852284,
          1.3148346999104026,
          3.523993827118411
         ],
         "yaxis": "y"
        },
        {
         "hovertemplate": "color=450<br>symbol=450<br>x=%{x}<br>y=%{y}<extra></extra>",
         "legendgroup": "450, 450",
         "marker": {
          "color": "#FF6692",
          "opacity": 0.3,
          "symbol": "diamond"
         },
         "mode": "markers",
         "name": "450, 450",
         "showlegend": true,
         "type": "scattergl",
         "x": [
          9.245757947236937,
          5.079125476592419,
          2.6245750566945074,
          5.328758678980867,
          2.957159197766565,
          3.7701900934422623,
          5.4514728768838125,
          10.665853381496838,
          5.368798931155695,
          1.9923062939470448,
          3.8797465626857655,
          3.846849349011844,
          9.616442489104879,
          0.49622114766321324,
          5.815008077489017,
          1.554498639031922,
          3.0547113932740735,
          5.030956008012484,
          4.036376001659879,
          6.421132154525002,
          1.6482070227330634,
          3.6745250832958454,
          4.091441802084362,
          1.4656048697064679
         ],
         "xaxis": "x",
         "y": [
          -0.3996443269398286,
          -6.815370008562723,
          -8.723348343527363,
          -8.468196544606187,
          -8.679723213073993,
          -9.616653099993195,
          -9.231565859346702,
          -0.10407467955402212,
          -4.55530480316093,
          -9.390796387186219,
          -13.138270735472632,
          -8.360321908330997,
          -2.2537635912373393,
          -10.364906791361324,
          -2.3531044495020548,
          -9.078670224287416,
          -7.512212196435617,
          -9.02640329464163,
          -5.566245956423447,
          -3.9677146287529865,
          -7.54086461174522,
          -8.34407835700854,
          -2.646914085715132,
          -6.191026698270679
         ],
         "yaxis": "y"
        },
        {
         "hovertemplate": "color=430<br>symbol=430<br>x=%{x}<br>y=%{y}<extra></extra>",
         "legendgroup": "430, 430",
         "marker": {
          "color": "#B6E880",
          "opacity": 0.3,
          "symbol": "square"
         },
         "mode": "markers",
         "name": "430, 430",
         "showlegend": true,
         "type": "scattergl",
         "x": [
          -3.294027385121361,
          -2.686141311450131,
          -6.7687983285940065,
          -5.90695371891152,
          -6.005357107432212,
          -7.0689862826455725,
          -3.746822232223881,
          -3.3222834131875056,
          -4.710046246575464,
          -4.25230013432144,
          -5.188019885584701,
          -6.787155774072083,
          -7.532632405958438,
          -3.087820426974841,
          -3.4681379584053693,
          1.7157166220947349,
          6.56979966157163,
          -0.2555561789233997,
          -5.028925596623317,
          -2.029958598580259,
          -3.883338916790485,
          -2.336496245224633,
          -5.893311444282973,
          -3.5442263176998647,
          -2.688844399024329,
          -0.25098338652562396,
          -8.802037154976654,
          -5.570757893989186,
          -6.843768615145422,
          -3.5297907446568937,
          -0.8330345702651913,
          -4.658634549657341,
          -7.531262528947333,
          -6.725394177004749,
          -3.4510095378139067,
          -5.787179722275959,
          -4.732097137500232,
          -6.067871703956911,
          -2.320497038949305,
          -3.722459203277751,
          -5.337682940143793,
          -1.89664061961005,
          -3.1886027440614964,
          -5.942306901140668,
          -5.388710422767148,
          -2.053723652253821,
          0.9818424711481675,
          -3.148649167751717,
          -5.9191447323770605,
          -6.369870542149491,
          7.046056902704206,
          -2.599418982313592
         ],
         "xaxis": "x",
         "y": [
          0.9643940050950212,
          -2.3292313934864466,
          2.553261002256968,
          -3.2291822724968045,
          2.960364806683606,
          3.2989676847585585,
          2.025026080684892,
          -4.0371910023013875,
          4.73800000281734,
          3.5716867348151613,
          4.248676310318958,
          0.8033651696332976,
          -1.2894560107869957,
          -1.5741857676226882,
          1.5566520697935715,
          -2.0956258023210474,
          5.656285778754741,
          1.1375929149074835,
          -4.2036439509388535,
          -4.048546026544556,
          2.312573133576776,
          -0.06869836776581677,
          0.8547429438761037,
          2.8661023674711466,
          -1.7708804704914263,
          2.771359369311242,
          0.4419564237277128,
          -3.4759871823770583,
          2.311467770943022,
          3.6914324224971518,
          0.759052221250985,
          4.138010134243649,
          0.12066366295434572,
          1.6302576997116152,
          -3.914470365080768,
          -0.3348500086550486,
          2.184850412562938,
          -4.433481693109559,
          -2.6722383199683293,
          0.9980766023588808,
          -6.307883882791398,
          -0.13303681006587276,
          -4.18202594991397,
          1.282176104961803,
          -3.8491736242330585,
          -0.0815029867280526,
          -4.876660563604261,
          -2.3977018975808506,
          -2.5089196427456666,
          -2.201758419736423,
          2.4051973355760023,
          1.4847716321355122
         ],
         "yaxis": "y"
        },
        {
         "hovertemplate": "color=83<br>symbol=83<br>x=%{x}<br>y=%{y}<extra></extra>",
         "legendgroup": "83, 83",
         "marker": {
          "color": "#FF97FF",
          "opacity": 0.3,
          "symbol": "x"
         },
         "mode": "markers",
         "name": "83, 83",
         "showlegend": true,
         "type": "scattergl",
         "x": [
          4.317870970297973,
          -3.1297693221723546
         ],
         "xaxis": "x",
         "y": [
          -5.6091841965878135,
          -0.6479532369472908
         ],
         "yaxis": "y"
        },
        {
         "hovertemplate": "color=231<br>symbol=231<br>x=%{x}<br>y=%{y}<extra></extra>",
         "legendgroup": "231, 231",
         "marker": {
          "color": "#FECB52",
          "opacity": 0.3,
          "symbol": "cross"
         },
         "mode": "markers",
         "name": "231, 231",
         "showlegend": true,
         "type": "scattergl",
         "x": [
          -2.297229803031517,
          -1.2861539959997066,
          1.8018435273992692,
          0.17652324031834277,
          5.2393944471879745,
          2.921033921214349,
          -2.5912006170494797,
          -5.273666427036603,
          -0.780350493778221,
          -1.1501093767562927,
          -1.7878825957807947,
          -4.114687167184292,
          0.02430657427724881,
          -6.5270114692723125,
          0.19996218865974,
          -1.4243883532902128,
          1.7409169479419035,
          -0.31943287404840004,
          -6.268818914636561,
          0.6307977132561966,
          1.5406896423631493,
          -4.205952923251303,
          2.8194378093572805
         ],
         "xaxis": "x",
         "y": [
          -4.84553902975113,
          -0.1463806211016266,
          3.4348249228733807,
          1.063499211387931,
          2.841124116783413,
          3.030393192280788,
          -3.105117529380218,
          2.9385305699668294,
          -3.9140394950545145,
          0.205465181793022,
          1.9714742310204343,
          -6.887499283899839,
          -4.739712747887618,
          -3.532073845368853,
          3.0683524388569237,
          -6.043883795158404,
          -3.4653421922443406,
          -6.99316830843769,
          -3.0057479920314085,
          2.738263339299388,
          3.9124085548013565,
          -4.534774238435597,
          -0.4752413967032224
         ],
         "yaxis": "y"
        },
        {
         "hovertemplate": "color=340<br>symbol=340<br>x=%{x}<br>y=%{y}<extra></extra>",
         "legendgroup": "340, 340",
         "marker": {
          "color": "#636efa",
          "opacity": 0.3,
          "symbol": "circle"
         },
         "mode": "markers",
         "name": "340, 340",
         "showlegend": true,
         "type": "scattergl",
         "x": [
          4.288053152850493,
          2.5600361208181868,
          2.6939629231942672,
          6.263736366158065,
          6.282487209460926,
          4.951486359974916,
          -3.671277701900285,
          -0.44848871840352805,
          2.7886539841333042,
          3.8637454002878933,
          4.115565152819567,
          3.043222885665731,
          -0.35997175618321986,
          0.5127935249693439,
          4.567379268335985,
          8.176529525746874,
          5.1666693358898925,
          4.9159850629701385,
          4.027182484621928,
          1.9734150190000388,
          8.32519790729335,
          3.6711463592494713,
          7.586805853809007,
          0.7547460825964722,
          6.313174333540606,
          9.569896551670743,
          3.984133779469301
         ],
         "xaxis": "x",
         "y": [
          -3.1784943800203784,
          -6.249496335917726,
          -7.302499608680769,
          -4.497938698912343,
          1.1745932146264648,
          -5.070880985083735,
          -4.235804998313349,
          -7.728683681689592,
          -2.9642229077546296,
          -1.2571623788577777,
          -5.236767899057646,
          -8.689371717763432,
          -7.318370235097207,
          -9.03281803076064,
          -0.24511898228592277,
          -2.7953578392419485,
          -3.560560082631407,
          -1.4075172639838271,
          -7.271767513364476,
          -0.2257867398836242,
          0.7819462734835325,
          -5.495579821424044,
          0.3040488922024971,
          -2.062960786705558,
          -2.0243606720926897,
          -6.923209560317326,
          -9.126523999536802
         ],
         "yaxis": "y"
        },
        {
         "hovertemplate": "color=137<br>symbol=137<br>x=%{x}<br>y=%{y}<extra></extra>",
         "legendgroup": "137, 137",
         "marker": {
          "color": "#EF553B",
          "opacity": 0.3,
          "symbol": "diamond"
         },
         "mode": "markers",
         "name": "137, 137",
         "showlegend": true,
         "type": "scattergl",
         "x": [
          6.280143002540442,
          5.981366184532526,
          15.910540991682105,
          7.2246310977598585,
          -2.437164730879689,
          15.905988482363284,
          5.764157903916186,
          7.901940944136376,
          15.917496199713742,
          10.442241484483102,
          14.417184927114272,
          9.237578751937141,
          4.067778302050767,
          15.907905900897417,
          6.4007811524477125
         ],
         "xaxis": "x",
         "y": [
          3.684456335894059,
          2.4152023404656235,
          13.213952311299009,
          1.4015614800744685,
          -5.767819329302823,
          13.241617748086032,
          2.2676453246531145,
          2.382268391616953,
          13.171685760114872,
          2.1384190193978454,
          -0.8824381132965217,
          3.8916260248539123,
          -1.0494805705412604,
          13.229965664029653,
          0.37069723334584276
         ],
         "yaxis": "y"
        },
        {
         "hovertemplate": "color=223<br>symbol=223<br>x=%{x}<br>y=%{y}<extra></extra>",
         "legendgroup": "223, 223",
         "marker": {
          "color": "#00cc96",
          "opacity": 0.3,
          "symbol": "square"
         },
         "mode": "markers",
         "name": "223, 223",
         "showlegend": true,
         "type": "scattergl",
         "x": [
          20.8066857507147,
          20.835475191855686,
          20.808705581671525,
          20.816546056363702
         ],
         "xaxis": "x",
         "y": [
          13.487036797721393,
          13.312084390545069,
          13.474762357024378,
          13.427116071912979
         ],
         "yaxis": "y"
        },
        {
         "hovertemplate": "color=389<br>symbol=389<br>x=%{x}<br>y=%{y}<extra></extra>",
         "legendgroup": "389, 389",
         "marker": {
          "color": "#ab63fa",
          "opacity": 0.3,
          "symbol": "x"
         },
         "mode": "markers",
         "name": "389, 389",
         "showlegend": true,
         "type": "scattergl",
         "x": [
          0.06532109685454797,
          -3.1942790577614044,
          5.067911150838265,
          -3.3258196379434612,
          -3.8491963932877753,
          -4.918661397203556,
          -0.23562150741515944,
          -4.584507190649792,
          -4.514466688683464,
          2.09635945860311,
          -0.2636234780696594,
          -2.018336883206063,
          -2.072191456840244,
          -0.226935451078738,
          -2.1739531735008133,
          -3.820508864363079,
          -5.11066281186389,
          -5.935820527304237,
          3.8805879865425137,
          -1.5066979978504673,
          -1.49104738170245,
          -1.6942440302420714,
          -3.866143590759804,
          -4.468594016400467,
          -0.8328756525454827,
          0.0969081059979859,
          -1.9454370997764405,
          -0.386707701698651,
          -6.60588270807986,
          -4.41147331051585,
          2.0394981149497298,
          -2.730235855328834,
          -1.3224965956923287,
          -5.73963677876018,
          -3.8806314517168996,
          1.9922772972557012,
          -4.780914820869006,
          -2.229437930897865,
          -3.5561437933477036,
          1.1777088360505186,
          -5.392491205794708,
          -5.63353225379602,
          -3.184844130445614,
          -0.5429778092915526,
          -5.3694132430630495,
          -4.326170171453306,
          -2.851412870203737,
          -1.9345560984122163,
          -4.798048470135601,
          -0.6327407100242771
         ],
         "xaxis": "x",
         "y": [
          -6.312180515095435,
          0.27308397306278764,
          -5.410055368337735,
          -0.7484346971486908,
          2.100401102341898,
          -2.5462386029093595,
          -8.450286918960881,
          -4.04170609929727,
          0.6821421528918826,
          -4.105130504294085,
          -5.776807955134375,
          -4.066341300869561,
          -2.467309219209331,
          -2.9147378390822194,
          1.8408029338508307,
          -3.8464110620783143,
          -2.9568239393935687,
          -6.361714997040517,
          -0.9398317038198212,
          3.195324741905624,
          -0.673848502593326,
          -6.652203181513898,
          4.375701313684385,
          -6.134153083953693,
          -7.349701831222427,
          0.6561178904291637,
          -5.520361361510242,
          2.047665339096814,
          5.3393678576149926,
          3.5499773944962203,
          -4.096003047524896,
          4.489039025045083,
          -5.236201242054745,
          3.7483228072709665,
          -4.5362732394479135,
          -4.55578058971586,
          -5.640079232879754,
          -0.5794873631629291,
          0.6127794149960408,
          0.7778163328050591,
          3.700710121943925,
          -5.550574293427745,
          2.2839727287258476,
          1.0299909472633024,
          2.749554339143355,
          2.896119469258018,
          -2.568037234991454,
          2.530247532972085,
          -5.039094799307089,
          -0.1872545598731965
         ],
         "yaxis": "y"
        },
        {
         "hovertemplate": "color=369<br>symbol=369<br>x=%{x}<br>y=%{y}<extra></extra>",
         "legendgroup": "369, 369",
         "marker": {
          "color": "#FFA15A",
          "opacity": 0.3,
          "symbol": "cross"
         },
         "mode": "markers",
         "name": "369, 369",
         "showlegend": true,
         "type": "scattergl",
         "x": [
          0.985292111442682,
          3.8052441443166805,
          -3.9288902700301644,
          -0.5988969422112693,
          10.176261144638785,
          4.333409687784937,
          5.771996655589437,
          -1.88591100709057,
          5.144087438242731,
          9.691473489654278
         ],
         "xaxis": "x",
         "y": [
          2.2031605810312054,
          3.2597022311238257,
          3.9186542258801214,
          -1.3179305151910867,
          7.08290771036893,
          4.082261589847191,
          2.955423862133862,
          -0.45730327324845343,
          3.0413156927248517,
          4.651769134476968
         ],
         "yaxis": "y"
        },
        {
         "hovertemplate": "color=136<br>symbol=136<br>x=%{x}<br>y=%{y}<extra></extra>",
         "legendgroup": "136, 136",
         "marker": {
          "color": "#19d3f3",
          "opacity": 0.3,
          "symbol": "circle"
         },
         "mode": "markers",
         "name": "136, 136",
         "showlegend": true,
         "type": "scattergl",
         "x": [
          7.019496830353192,
          0.5664332381288223,
          4.702425649532128,
          7.696039215531911,
          5.823731903399323,
          3.706961120955956,
          5.3374212477423075,
          0.6746186191238055,
          4.121714564178013,
          1.65827981683831,
          9.051334202372695,
          3.98486305346383,
          3.438089761008373,
          3.605392365659466,
          4.634267083683823,
          5.420057857675108,
          -0.24824470076329078,
          4.182992365187516,
          7.896881221941235,
          7.092770498421604,
          0.407066861897307,
          8.807190912704117,
          5.953762105132688,
          -3.0338189977150427,
          4.7641898438074755,
          2.1882651276806304,
          -1.1902854339712752,
          7.373179233502255,
          4.090811380456753,
          1.6160664927772734,
          3.0882436543616314,
          1.8863989890791584,
          1.39704422530787,
          -0.5904949126014688,
          4.845062458672567,
          5.416373333033373,
          4.651975710152888,
          4.144634980017726,
          3.7298516877223378,
          4.964656997539851
         ],
         "xaxis": "x",
         "y": [
          -1.7851002810744825,
          1.3103303370888046,
          -3.483940603833263,
          -4.7372482943621455,
          -5.360489721448464,
          -5.579706365475333,
          0.1320262906118997,
          -0.3131786290377141,
          -3.79464286301629,
          -8.728324371433892,
          -2.9836109327660476,
          -3.520007834547085,
          -4.726136619104128,
          -2.4425579415969914,
          -1.817121877049856,
          -2.8992043329185493,
          -6.1700260766929516,
          -1.6823347212639936,
          -4.5146840679016345,
          -0.10539663762744772,
          -5.438054702303936,
          -9.443047110888774,
          -3.1447830784688917,
          2.303799087770054,
          -4.695741093216189,
          -1.0011183052320645,
          -2.143339388432258,
          -1.9135635570438199,
          -0.3359853842699479,
          -0.38337905477028617,
          -1.274231072146496,
          -1.5458853674260067,
          -2.531847751510581,
          0.16901320081975166,
          -4.800826364984714,
          -8.071386588293542,
          -3.1989388673619397,
          -2.905789447807009,
          -3.7201511176543303,
          -3.7427537788324523
         ],
         "yaxis": "y"
        },
        {
         "hovertemplate": "color=237<br>symbol=237<br>x=%{x}<br>y=%{y}<extra></extra>",
         "legendgroup": "237, 237",
         "marker": {
          "color": "#FF6692",
          "opacity": 0.3,
          "symbol": "diamond"
         },
         "mode": "markers",
         "name": "237, 237",
         "showlegend": true,
         "type": "scattergl",
         "x": [
          -5.986639866178542,
          -5.993551695088109,
          0.5865036857952374,
          4.151637321919968,
          -2.0893336216280085,
          -7.0811857974943715,
          -1.8033672048606086,
          -3.649761226329798,
          -3.2328435591370988,
          -2.356513335121278,
          -3.225941838255788,
          -4.165858800578129,
          2.8581782580299486,
          -7.116954120628898,
          0.9372289068908644,
          -2.5132241570582523,
          -4.627129484113888,
          1.0293827728496507,
          -1.530228660382852,
          -3.904510530503318,
          -1.74697447152007,
          -4.478180641116827,
          -4.590878186868351,
          -6.083638859874438,
          -1.2438133010530827
         ],
         "xaxis": "x",
         "y": [
          5.259718923026091,
          2.2137552697168577,
          -2.1727739515574584,
          3.7051618051111364,
          3.8827126763704043,
          -1.4838645644664945,
          -7.758411110356543,
          5.489083794111263,
          -5.66419901243534,
          1.5070352669216995,
          0.4518147506766789,
          2.6281545403281115,
          4.984033081142884,
          -7.091589361215732,
          2.1972978571339756,
          -0.2657243529819332,
          -4.890372834916223,
          3.1327124693326844,
          -2.000264505330371,
          -4.476174102753988,
          4.331126718521503,
          -0.27874615029398975,
          1.9080997130434416,
          6.913412023889258,
          3.7867607612098984
         ],
         "yaxis": "y"
        },
        {
         "hovertemplate": "color=118<br>symbol=118<br>x=%{x}<br>y=%{y}<extra></extra>",
         "legendgroup": "118, 118",
         "marker": {
          "color": "#B6E880",
          "opacity": 0.3,
          "symbol": "square"
         },
         "mode": "markers",
         "name": "118, 118",
         "showlegend": true,
         "type": "scattergl",
         "x": [
          1.850546004213196,
          0.7290889045841314,
          -5.423108490992896,
          0.2580161984105217,
          -2.9644281108897528,
          -4.402738289361957,
          -3.6196290589203275,
          2.409051146029019,
          0.7859438670182047,
          6.8175475822193015,
          0.6999206627032536,
          -5.932471604135988,
          3.3790332152660967,
          5.965483082112998,
          0.8329387163937942,
          -0.35893647984578936,
          2.722007057186301,
          0.6955372543721545,
          1.3315158257134272,
          0.6637220527723556,
          -2.090246789048935,
          -4.629282339504623,
          -0.1714165661021698,
          0.6124905160652945,
          1.2292963082095747,
          -0.7534718821339302,
          -0.0609800116109177,
          2.6329054492999955,
          -2.5954161091904444,
          3.33941746121728,
          -0.1963063537151866,
          1.6193089024433882,
          -2.475902084591753,
          -1.184700319777456,
          1.1618491646646811,
          -2.3736228746224914,
          -2.4169240683489503,
          -1.617538124647437,
          2.5401785620188044,
          2.2604924684556127,
          0.8877415188750154,
          1.0238401558428807,
          -2.8870421164937774,
          -0.7071053070214406,
          1.0261244192074406,
          -0.010002102824444333,
          -0.45204190027052044,
          -5.93326601873108,
          -4.167164709667679,
          1.8285196183101873,
          -1.7613127157366109,
          -0.27797468599427255,
          0.6427710695282335
         ],
         "xaxis": "x",
         "y": [
          -1.2545456428037165,
          -0.23635406240334922,
          -5.044869830438467,
          -1.2439704232709032,
          3.3836855616925785,
          -6.8403304032102925,
          -4.92565922297913,
          0.5043121970756487,
          -0.15206121523288998,
          -3.5738755070402894,
          -5.217208917452236,
          -3.3873689391805857,
          -1.2346870383338167,
          1.4004778609792838,
          1.05864126573396,
          0.2086745266846968,
          1.3773962327987932,
          1.1225052488295975,
          2.2061562526944454,
          -7.554988930345485,
          -8.24446806611065,
          -8.34361025373137,
          -8.67452017317529,
          -5.23810863128439,
          -3.492027101037102,
          -0.6902784561357748,
          -9.315489405488819,
          -7.418456818819174,
          -6.091632523719658,
          0.24898193266742938,
          -0.6702487290431641,
          -1.9787900702578414,
          -0.6084678269329696,
          -5.181713333550931,
          0.9792415864880631,
          -5.419195725443149,
          -7.301242111813069,
          -6.527957910725243,
          2.0147711738710194,
          -2.857265141318416,
          -4.692721918744886,
          -0.39912525329185805,
          -5.602877862711447,
          2.175888617353331,
          -2.930960834117461,
          -5.644218885471827,
          -1.63357989586075,
          -7.153530634378217,
          -3.393477977134024,
          -0.11434000038796768,
          -7.4438796510283884,
          -4.984236657940084,
          -0.18587233772763442
         ],
         "yaxis": "y"
        },
        {
         "hovertemplate": "color=140<br>symbol=140<br>x=%{x}<br>y=%{y}<extra></extra>",
         "legendgroup": "140, 140",
         "marker": {
          "color": "#FF97FF",
          "opacity": 0.3,
          "symbol": "x"
         },
         "mode": "markers",
         "name": "140, 140",
         "showlegend": true,
         "type": "scattergl",
         "x": [
          2.7488240399111157,
          3.952266685665507,
          8.824453766730453,
          10.302457905582237,
          -0.7506071351765805,
          11.165747385883954
         ],
         "xaxis": "x",
         "y": [
          1.818147070632294,
          -0.04787480192893759,
          1.7713746205408352,
          0.5654788132777409,
          0.48464192187440996,
          1.8981652478433422
         ],
         "yaxis": "y"
        },
        {
         "hovertemplate": "color=138<br>symbol=138<br>x=%{x}<br>y=%{y}<extra></extra>",
         "legendgroup": "138, 138",
         "marker": {
          "color": "#FECB52",
          "opacity": 0.3,
          "symbol": "cross"
         },
         "mode": "markers",
         "name": "138, 138",
         "showlegend": true,
         "type": "scattergl",
         "x": [
          8.70764166690695,
          0.4261068723380915,
          1.9681582217464655,
          2.646450229489599,
          5.1781873204531434
         ],
         "xaxis": "x",
         "y": [
          -3.993071366990356,
          -5.956472801454621,
          -1.1216059007916066,
          0.9200697773966202,
          1.2506455184333662
         ],
         "yaxis": "y"
        },
        {
         "hovertemplate": "color=141<br>symbol=141<br>x=%{x}<br>y=%{y}<extra></extra>",
         "legendgroup": "141, 141",
         "marker": {
          "color": "#636efa",
          "opacity": 0.3,
          "symbol": "circle"
         },
         "mode": "markers",
         "name": "141, 141",
         "showlegend": true,
         "type": "scattergl",
         "x": [
          2.4030405341188223,
          -0.8152752894661671,
          -2.5429691789369593,
          3.017573097758209
         ],
         "xaxis": "x",
         "y": [
          -0.2607099021280912,
          0.37335373295870483,
          -3.9405393956982038,
          2.1493981453150357
         ],
         "yaxis": "y"
        },
        {
         "hovertemplate": "color=332<br>symbol=332<br>x=%{x}<br>y=%{y}<extra></extra>",
         "legendgroup": "332, 332",
         "marker": {
          "color": "#EF553B",
          "opacity": 0.3,
          "symbol": "diamond"
         },
         "mode": "markers",
         "name": "332, 332",
         "showlegend": true,
         "type": "scattergl",
         "x": [
          5.859295437279353,
          1.2491375708093349,
          8.64278545410389,
          2.588492112015881,
          8.092471824871197,
          4.425829996998144,
          3.6527107763757867,
          4.441954361671319,
          7.9426561888534915
         ],
         "xaxis": "x",
         "y": [
          -1.1669366032928667,
          0.8868103106219255,
          -0.47572028393414284,
          -0.1472602085590052,
          0.6017559527161043,
          -1.628394566583776,
          -2.070694339360239,
          0.8201506923298777,
          -0.3154250056979879
         ],
         "yaxis": "y"
        },
        {
         "hovertemplate": "color=43<br>symbol=43<br>x=%{x}<br>y=%{y}<extra></extra>",
         "legendgroup": "43, 43",
         "marker": {
          "color": "#00cc96",
          "opacity": 0.3,
          "symbol": "square"
         },
         "mode": "markers",
         "name": "43, 43",
         "showlegend": true,
         "type": "scattergl",
         "x": [
          4.541413077888743,
          0.7215391230058543,
          -0.393840584049096,
          7.153842043741713,
          3.3009337155552267,
          2.9458430689022683,
          2.573138145483716,
          5.553453701997036,
          -0.5536342367948219,
          3.948243874071108,
          2.482126992819702,
          5.17073383690498,
          6.374740716146253,
          2.0926828195389673,
          3.0256148442896427,
          5.397544700581118,
          3.456000246723307,
          6.704563200826401,
          0.6932525848131172,
          3.1432269289689985,
          2.9088263524125306,
          4.265342819247416,
          -0.7019743381952749,
          -0.5200495075795739,
          5.8409391669251445,
          1.8959210785182492,
          5.446915788061993,
          1.8891629295467607,
          1.8265680733133645,
          6.205668546841338,
          2.6705922916038674,
          4.132957442142281,
          0.3055631503064022,
          3.7475032829911132,
          5.7781308606415385,
          7.784381349754656,
          2.383217057009519,
          -0.3744236699566806,
          7.329966730307467,
          0.06874149136352718
         ],
         "xaxis": "x",
         "y": [
          1.9939880917472201,
          -3.510648148629848,
          -9.644204731367708,
          -0.8963297964245607,
          -3.7636833145190915,
          -8.791375095635482,
          -4.216574151154309,
          -0.5869854831729542,
          -2.7266961704927377,
          -1.4957120544055318,
          -6.1176051675000345,
          -1.1471832030218738,
          -0.17276041644034107,
          -2.0367467555281404,
          -6.6228999897430745,
          0.2278219449136875,
          -2.376030390498686,
          -1.5278871069901854,
          -4.624018342022984,
          -0.4598015990927639,
          -5.226206226804738,
          -4.3335641329346934,
          -5.819837800725295,
          -10.734194244737152,
          0.7109328624588322,
          -0.9082004284354478,
          -3.029417810271009,
          -6.54255966025796,
          -3.321316721783109,
          0.8451247687720197,
          -5.089827927448305,
          -1.4389064429193168,
          -8.653442178025049,
          0.3459438318578682,
          -4.134217514222957,
          -0.02327798577517204,
          -3.9115579505122735,
          -1.273114611925173,
          -2.4155035633180395,
          -5.459998809823554
         ],
         "yaxis": "y"
        },
        {
         "hovertemplate": "color=352<br>symbol=352<br>x=%{x}<br>y=%{y}<extra></extra>",
         "legendgroup": "352, 352",
         "marker": {
          "color": "#ab63fa",
          "opacity": 0.3,
          "symbol": "x"
         },
         "mode": "markers",
         "name": "352, 352",
         "showlegend": true,
         "type": "scattergl",
         "x": [
          -0.415195647493108,
          -1.8369966951582362,
          3.020197110688019,
          -1.7735685123066758,
          -3.98227074412017,
          -3.442687283836108,
          -1.53385161269409,
          -4.871556233173446,
          2.3808781888929547,
          -3.928815742144312,
          1.4102670277769453,
          -2.1066034107251665,
          -3.45426723455722,
          5.371640171834269,
          2.7396965707477263,
          -1.3142896808866635,
          -0.1928360201017031,
          -1.5919845978039817,
          -2.729061712546388,
          -2.979295650921622
         ],
         "xaxis": "x",
         "y": [
          -0.9955131732192708,
          3.7097542937743393,
          -1.467269527776126,
          2.49635958450579,
          1.3979835776171983,
          3.317957034066044,
          3.9364684634424285,
          3.2593865115154546,
          2.544528453747916,
          2.665576935783605,
          2.7903287087732735,
          3.748715345129662,
          1.3577713373211215,
          3.8909286700530696,
          4.194659572787274,
          -0.38659495565802604,
          -0.5044977982108707,
          5.334854417104519,
          2.9005265082979506,
          4.872551489081562
         ],
         "yaxis": "y"
        },
        {
         "hovertemplate": "color=48<br>symbol=48<br>x=%{x}<br>y=%{y}<extra></extra>",
         "legendgroup": "48, 48",
         "marker": {
          "color": "#FFA15A",
          "opacity": 0.3,
          "symbol": "cross"
         },
         "mode": "markers",
         "name": "48, 48",
         "showlegend": true,
         "type": "scattergl",
         "x": [
          10.735726603114935,
          10.583003074828925,
          13.267529304935845,
          10.298462301401337,
          6.761989205317591,
          10.010732062488835,
          10.463817768756973,
          11.33871087679531,
          4.88754858482143,
          9.256564582074567,
          7.299082851211121,
          9.850580540731443,
          8.031642325668852,
          11.194307550034202,
          11.01226240282233,
          11.804807021843954,
          9.24199163701529
         ],
         "xaxis": "x",
         "y": [
          0.44244365702987515,
          0.6351363575424702,
          3.4602300809346374,
          0.7312528645864099,
          1.9531007377721088,
          1.6777461535398577,
          3.4496769717799527,
          3.1869736617099518,
          -0.004282350427299407,
          2.605990969525384,
          4.530498845101183,
          1.7045056901608862,
          2.444059516609652,
          3.0039587371435514,
          3.620917719147322,
          0.45411504071496567,
          1.2868378298075775
         ],
         "yaxis": "y"
        },
        {
         "hovertemplate": "color=9<br>symbol=9<br>x=%{x}<br>y=%{y}<extra></extra>",
         "legendgroup": "9, 9",
         "marker": {
          "color": "#19d3f3",
          "opacity": 0.3,
          "symbol": "circle"
         },
         "mode": "markers",
         "name": "9, 9",
         "showlegend": true,
         "type": "scattergl",
         "x": [
          -5.487287647265632,
          -2.1576754288634663,
          2.8904482772345808,
          0.1557973560424548,
          -3.579058860573265,
          -2.1506019420938194,
          -6.533722120369983,
          -2.8421523864593623,
          -1.7234394135281936,
          -2.4881297928406823,
          -4.139635288829184,
          -5.335529478381126,
          -0.9786286880434303,
          0.45601010540643677,
          -5.426321964638224,
          -3.8247873882207455,
          -7.707851291838188,
          7.511958009580251,
          -4.501065927155114,
          1.2786812727833905,
          0.14832535803139735,
          -2.3734573077125782,
          -3.247375470033339,
          -2.8982525448530385,
          -3.9213028071721308,
          0.7375237641325002,
          -4.3285203685433045,
          -0.7606663385596915,
          -0.6575590802222788,
          -3.34742775564762,
          -5.272476571435854,
          -0.9686335190033138,
          0.9043296650212367,
          3.193499346216432,
          -6.333716145675351,
          -5.530908459522115,
          0.24897664824558974,
          -3.9102840929482614,
          -1.5058770247401203,
          -3.7950300049442767,
          -1.7093444256899006,
          -4.110678742414237
         ],
         "xaxis": "x",
         "y": [
          1.86777749786774,
          5.182082616598995,
          -0.29870780675360015,
          1.0147658810755145,
          4.095748383851243,
          -0.2050238995417882,
          -5.250571611294335,
          -6.625479360000944,
          -6.638175084560573,
          -6.075709051368955,
          3.0290471267985906,
          1.7876468032568509,
          -3.1157609074718797,
          -10.80186209437095,
          -0.6482613700448581,
          1.3269089192932941,
          1.0842451228675938,
          -1.816105015155594,
          -0.5397390794192845,
          -0.630905320762483,
          -1.0214690652117975,
          -5.8286739175846485,
          1.1931450455712518,
          0.43779661377891466,
          -4.975342816561397,
          -1.3036223864962664,
          -5.266121567929877,
          -0.3197977898719651,
          -4.509959394783812,
          0.771583533581916,
          -3.4124178672436147,
          0.6551214577102173,
          -0.9780509863061986,
          -1.2035093526423282,
          -1.8668094573422251,
          -1.6092486401908959,
          -2.1314640670340217,
          0.3621002091892157,
          -7.205341817958179,
          -5.166050027253195,
          -0.7362592438406492,
          -7.200568983958959
         ],
         "yaxis": "y"
        },
        {
         "hovertemplate": "color=162<br>symbol=162<br>x=%{x}<br>y=%{y}<extra></extra>",
         "legendgroup": "162, 162",
         "marker": {
          "color": "#FF6692",
          "opacity": 0.3,
          "symbol": "diamond"
         },
         "mode": "markers",
         "name": "162, 162",
         "showlegend": true,
         "type": "scattergl",
         "x": [
          -0.7481627614708715,
          0.8072873290754377
         ],
         "xaxis": "x",
         "y": [
          0.9317303683777645,
          0.09757506456061846
         ],
         "yaxis": "y"
        },
        {
         "hovertemplate": "color=438<br>symbol=438<br>x=%{x}<br>y=%{y}<extra></extra>",
         "legendgroup": "438, 438",
         "marker": {
          "color": "#B6E880",
          "opacity": 0.3,
          "symbol": "square"
         },
         "mode": "markers",
         "name": "438, 438",
         "showlegend": true,
         "type": "scattergl",
         "x": [
          -3.016692488230078,
          -1.7792546037482437,
          3.938751594491504,
          -1.0437962962596452,
          -1.0885461030540895,
          -5.00615634845838,
          -1.7796500228094425,
          -1.593562018605086,
          1.443852347110131,
          -2.861729153113649,
          -2.604703118393207,
          -1.6103166193775125,
          3.870473984920313,
          -1.163208050733873,
          -3.0663468805208596,
          -6.575866545450053,
          -3.0723473309908305,
          -6.304583596258036,
          -4.037667610173138,
          -1.1767672372370737,
          -4.548776841938213,
          -3.7956392976388535,
          -2.2471126817236247,
          -6.181327155992728,
          0.9303767389635555,
          -2.919989837504915,
          -2.492639066939044,
          -1.7128962351923218,
          -4.874442013237928,
          -0.6498828476061945,
          -0.5805220539583931,
          -0.47402700064296766,
          -0.5936241092306762,
          -3.2564565477076903,
          -1.1540305113262639,
          -3.4734408047352616,
          0.35855474618465205,
          -4.6351381273748435,
          -0.17775216765882493,
          -3.837490904796654,
          0.5081917647133316
         ],
         "xaxis": "x",
         "y": [
          1.5026565449703027,
          0.4485054521505403,
          1.0871589733215334,
          3.5008471947359436,
          0.008672644802619558,
          -0.6028236744200703,
          -0.876397106555326,
          0.41008697370702185,
          -4.701810257093858,
          0.5988789807912934,
          1.1578999341850904,
          0.8753161705947596,
          -2.28502336467732,
          2.5492048824403484,
          -4.460439504345014,
          2.166591956747656,
          0.31509251364342555,
          -4.136750480066222,
          2.892517341403926,
          -7.036954139845065,
          3.794844325725672,
          1.3656742796070198,
          2.4524350167946998,
          -7.117991437130176,
          1.9042413365672621,
          -5.111592503974048,
          -0.44869285614682725,
          1.2412655890229034,
          -3.897869801572784,
          0.4896391723223571,
          -2.7178433539791773,
          0.6561650088826674,
          -0.8946431962561159,
          -5.435028095081706,
          -7.630768201541019,
          -2.89448439021541,
          0.3930035185494664,
          -0.1641083688260401,
          -4.23936131009187,
          -3.2750450052305413,
          -0.10642739062218211
         ],
         "yaxis": "y"
        },
        {
         "hovertemplate": "color=301<br>symbol=301<br>x=%{x}<br>y=%{y}<extra></extra>",
         "legendgroup": "301, 301",
         "marker": {
          "color": "#FF97FF",
          "opacity": 0.3,
          "symbol": "x"
         },
         "mode": "markers",
         "name": "301, 301",
         "showlegend": true,
         "type": "scattergl",
         "x": [
          -8.15334838605869,
          0.2410511753908371,
          -6.43335969130939,
          -7.994672544949852,
          -2.177877800944993,
          -2.846936796430616,
          -4.463511311365684,
          -0.6101319567297409,
          -5.142857732058112,
          1.4395013460284538,
          -2.390024929842255,
          -7.506596365499203,
          -4.021563049365568,
          -7.4784848000561475,
          -1.723815364508638,
          -4.567805988984478,
          -3.9382961155715677,
          -0.08518884339428591,
          -3.1009825503266053,
          -7.586112252918065,
          -1.8213234712309103,
          -5.922769914425953,
          -4.734881192813645,
          -0.3909028747614721,
          1.0661212444600128,
          -9.302703223494053,
          -3.9852667919780105,
          -4.489328250144509,
          -0.999714344229691,
          -6.00316530089833,
          2.1260286688350654,
          -2.9392605474130717,
          -1.682076523582006,
          -0.6320351372032452,
          -2.431710204460708,
          2.0615021657606616,
          -7.2503619822588545,
          -6.086997214596763,
          -4.140518773392756,
          -5.589962864514447,
          0.08176364476498159,
          -3.787936762442764,
          3.701032817639258,
          -0.31960659763225746,
          -4.580932697688249,
          -6.987439214559796,
          -2.364002812596092,
          -4.0416555985592755,
          -2.997881949746632,
          -1.3326887282924575,
          -4.290836114161024,
          10.741448753201166
         ],
         "xaxis": "x",
         "y": [
          5.853505805147763,
          4.659895811799327,
          6.045875323812562,
          3.0779001988073813,
          -6.542114913948209,
          -6.736342862130714,
          -4.342259656834686,
          2.3140311520086674,
          2.7738813382380867,
          5.18893760750502,
          2.5409114999234568,
          -0.1013625967897418,
          2.3381313145684803,
          -4.385721755137689,
          1.3175896956284012,
          -6.44942199547638,
          3.267570892515584,
          1.826153721117478,
          -2.108543299278025,
          3.9340665055237625,
          -7.9047993687662945,
          2.8094820743970916,
          2.1356732811290717,
          3.2074893427037696,
          -1.8750357712327377,
          4.450207466338953,
          3.2264842328234034,
          -4.378937791134453,
          -3.761646741063717,
          2.645403253664701,
          -6.288853595359261,
          3.978558134908818,
          3.1489425751212536,
          2.116742444631522,
          -4.39777969949284,
          -5.059810436830992,
          2.808628523212227,
          1.0461563550742348,
          1.4016120421461133,
          3.69724238869129,
          1.066245526652078,
          1.1196877207396274,
          2.407591607549351,
          1.2050820193895349,
          -3.3086400773493665,
          0.24331061057400355,
          -2.329291059032702,
          2.118808481948626,
          5.450124990428214,
          1.242796517915264,
          4.853659069194938,
          3.7984395570523986
         ],
         "yaxis": "y"
        },
        {
         "hovertemplate": "color=99<br>symbol=99<br>x=%{x}<br>y=%{y}<extra></extra>",
         "legendgroup": "99, 99",
         "marker": {
          "color": "#FECB52",
          "opacity": 0.3,
          "symbol": "cross"
         },
         "mode": "markers",
         "name": "99, 99",
         "showlegend": true,
         "type": "scattergl",
         "x": [
          10.198167125082946,
          3.898480796471027,
          8.128955336626314,
          2.7036923647013817,
          1.6860160565107405,
          4.797926889837386,
          3.643976104501715,
          -0.4999106328473523,
          2.460862472308748,
          5.180090100975631,
          5.271346536224244,
          2.3444702471186027,
          0.9867300901320023,
          4.423629487987297,
          3.3595794580479916,
          5.4992452078816765,
          5.805165473677774
         ],
         "xaxis": "x",
         "y": [
          -3.3235710798427656,
          -10.813299401748218,
          -8.966148353432558,
          -5.2003942170358215,
          -4.516694030226878,
          -11.109145110012358,
          -7.616295544523484,
          -11.851481488133922,
          -12.898191511253023,
          -10.305199042294262,
          -11.157931609046077,
          -9.777096623659368,
          -9.273508171280628,
          -0.8986644315521176,
          -5.278047706736884,
          -8.204396240793729,
          -5.546455742671227
         ],
         "yaxis": "y"
        },
        {
         "hovertemplate": "color=254<br>symbol=254<br>x=%{x}<br>y=%{y}<extra></extra>",
         "legendgroup": "254, 254",
         "marker": {
          "color": "#636efa",
          "opacity": 0.3,
          "symbol": "circle"
         },
         "mode": "markers",
         "name": "254, 254",
         "showlegend": true,
         "type": "scattergl",
         "x": [
          0.1826191317848106,
          -6.1049689441783235,
          -4.509147322986463,
          -5.8963941114286635,
          -5.208003962541565,
          -4.745428107050434,
          -1.3455119443628003,
          -7.450768788008292,
          0.8895938138990972,
          -6.988537649429043,
          -4.353206971236855,
          -3.8358260770315553,
          -7.201103484288325,
          -0.9963901763569986,
          -4.836483532971347,
          -4.5706805273733755,
          -5.361363534694712,
          -2.866918239751666,
          -2.8207919864112565,
          -7.856485346056942
         ],
         "xaxis": "x",
         "y": [
          4.8701845045971695,
          2.7461208984660708,
          -0.21992101434160993,
          5.673286083254065,
          4.6578564839971,
          5.535882199412464,
          0.8324054805885164,
          -0.7940254386429682,
          5.296485215151235,
          2.082085160696268,
          -0.19197796546498094,
          3.133848648586718,
          2.9850739077332964,
          4.146731841214955,
          -2.9726685017785,
          -2.4524062290267956,
          0.1187530698054251,
          3.016972955778921,
          5.1169540946006125,
          2.121286587934997
         ],
         "yaxis": "y"
        },
        {
         "hovertemplate": "color=382<br>symbol=382<br>x=%{x}<br>y=%{y}<extra></extra>",
         "legendgroup": "382, 382",
         "marker": {
          "color": "#EF553B",
          "opacity": 0.3,
          "symbol": "diamond"
         },
         "mode": "markers",
         "name": "382, 382",
         "showlegend": true,
         "type": "scattergl",
         "x": [
          -0.5708614791705039,
          -2.4951592006782435,
          -1.0221880754171022,
          -4.861585607435332,
          -2.242131457985182,
          1.425585427994686,
          -0.47392754251221564,
          2.78473865997408,
          2.145069765794148,
          -2.495240405875385,
          0.741897740191505,
          -2.78370325828202,
          -1.9779243199224104,
          2.1397869201225106,
          -6.109212546576643,
          -2.4847496831914913
         ],
         "xaxis": "x",
         "y": [
          3.9029208229589525,
          5.071669952052931,
          -1.6688219873874242,
          3.3992421307049216,
          6.110904686680106,
          2.6668157839697963,
          2.8938730031508153,
          3.088716503131589,
          4.032525384802336,
          5.702003895719045,
          5.770169463248656,
          6.2559449079962555,
          3.941230135785218,
          5.635002184785223,
          -0.7125080322625189,
          5.747993956044512
         ],
         "yaxis": "y"
        },
        {
         "hovertemplate": "color=442<br>symbol=442<br>x=%{x}<br>y=%{y}<extra></extra>",
         "legendgroup": "442, 442",
         "marker": {
          "color": "#00cc96",
          "opacity": 0.3,
          "symbol": "square"
         },
         "mode": "markers",
         "name": "442, 442",
         "showlegend": true,
         "type": "scattergl",
         "x": [
          3.4057967840685586,
          -3.8314823341329247,
          -3.5483325628683224,
          -0.22047785557721256,
          -6.792300476162978,
          -1.4962302515486054,
          -2.490704334914833,
          -2.209983433170199,
          -0.9230537906507872,
          -4.35787389437913,
          -1.0046485643777348,
          -1.7613570646867123,
          -3.5902292454490983,
          -1.882752507753992,
          -1.6612882197491918,
          2.6710159408753094,
          2.194749244061749,
          0.026148024123126445,
          -5.8000395370387,
          -2.036245349992255,
          -4.528587674226275,
          2.3052311504375838,
          -2.813371760001998,
          -4.5990263054902,
          -2.9024956394535897,
          -6.355192650748935,
          2.9594313511392354,
          -1.0728844281899679,
          -4.169679402716326,
          -1.1340756577352067,
          -2.4449786035625025,
          -2.1436643712067065,
          4.710941511327999,
          0.8760970553212554,
          -3.495348613127418,
          -1.4165083982005422,
          -1.8193541896890695,
          4.554954967451477,
          -4.0164465750176035,
          -1.7379591862991628,
          1.8649572717725462,
          1.3018500036350475,
          -5.305213093582141,
          -3.737729254084921,
          -2.247644814070851,
          -3.569773666957583,
          -1.4577961983410541,
          -4.317299601765013,
          -2.454017662641826,
          -2.271009475411456,
          -1.1190488339180396,
          1.7808628947299985,
          -2.374637998970956,
          6.177274569099229,
          2.6470632611812808,
          -6.625548985435355,
          0.44989017498589967,
          2.0414455975080257,
          -5.174738244563342,
          -8.874085693511903,
          0.4468007418283944,
          -4.9719030723995505,
          -2.1450154979951983
         ],
         "xaxis": "x",
         "y": [
          -6.055560560880801,
          -0.18402273706280248,
          2.226793708159448,
          -6.135989764524903,
          2.2346142491785255,
          1.041952843814622,
          -2.641768370091634,
          3.078877211865495,
          2.803916391013105,
          2.6689449584514793,
          -0.6367254690584203,
          0.9157136974950181,
          1.4240880719702982,
          2.4740867953653587,
          0.9039730388883108,
          3.6379108875166057,
          0.4048381851826417,
          -4.421906429464361,
          3.8064993660896804,
          -4.245887748708283,
          -3.130253924423221,
          1.741285255725711,
          3.427918553321158,
          -0.33860475790459726,
          2.049885627070963,
          -3.4033820648704776,
          2.5708667583512566,
          2.6675227986158436,
          -5.193156471069385,
          -3.2873208222150585,
          3.5297149695947287,
          1.2873226441872148,
          1.3758655541025935,
          1.9539289698879752,
          -0.6136170530981407,
          -1.6375523420118416,
          3.847566829788883,
          -1.5934687028032597,
          1.3731226131496772,
          4.138484082364687,
          3.1219898930046375,
          -0.7429611022319477,
          -4.5179017468119085,
          -8.08656128207477,
          -1.9567363198674537,
          -7.0636841757849025,
          -0.5235942710678896,
          4.529177383044165,
          -2.6435648796082463,
          3.757044072524703,
          2.45504274069557,
          1.7644915697239691,
          -0.3488391995618589,
          1.5599830727852875,
          -9.770041504687219,
          -1.3987448242315406,
          -4.783596770211067,
          0.029383409186067327,
          2.6389876968444175,
          -2.6127606851202017,
          6.775445257876468,
          -2.504781584472397,
          5.434854733521376
         ],
         "yaxis": "y"
        },
        {
         "hovertemplate": "color=165<br>symbol=165<br>x=%{x}<br>y=%{y}<extra></extra>",
         "legendgroup": "165, 165",
         "marker": {
          "color": "#ab63fa",
          "opacity": 0.3,
          "symbol": "x"
         },
         "mode": "markers",
         "name": "165, 165",
         "showlegend": true,
         "type": "scattergl",
         "x": [
          -2.0398182963681784,
          -2.3407163596222778,
          -3.5170494864951967
         ],
         "xaxis": "x",
         "y": [
          -3.855162291574141,
          -0.015975012676212902,
          3.113278530729105
         ],
         "yaxis": "y"
        },
        {
         "hovertemplate": "color=166<br>symbol=166<br>x=%{x}<br>y=%{y}<extra></extra>",
         "legendgroup": "166, 166",
         "marker": {
          "color": "#FFA15A",
          "opacity": 0.3,
          "symbol": "cross"
         },
         "mode": "markers",
         "name": "166, 166",
         "showlegend": true,
         "type": "scattergl",
         "x": [
          4.247146983659781,
          -2.1171732876099045,
          2.6192549599020674
         ],
         "xaxis": "x",
         "y": [
          -2.8174684866583197,
          4.398368948815313,
          0.3498320284272461
         ],
         "yaxis": "y"
        },
        {
         "hovertemplate": "color=92<br>symbol=92<br>x=%{x}<br>y=%{y}<extra></extra>",
         "legendgroup": "92, 92",
         "marker": {
          "color": "#19d3f3",
          "opacity": 0.3,
          "symbol": "circle"
         },
         "mode": "markers",
         "name": "92, 92",
         "showlegend": true,
         "type": "scattergl",
         "x": [
          2.297970482833679,
          4.430950303912394,
          -3.6676479753408366,
          0.4076416535093771,
          6.276939205281962,
          -1.1331290854355947,
          -4.749094451928344,
          -4.162644582346867,
          -1.3548318824623715,
          4.0836313375496855,
          0.3787812133170716,
          0.21617705439194865,
          -1.8799219677817163,
          0.8534156260179555,
          -1.0020419294707767,
          -1.4666308710768312,
          7.264599105509194,
          -4.077860813502966,
          0.40126055233444197,
          -3.7073837840808728,
          -1.2401140683207381,
          -1.1917544743423654,
          -5.485015234716928,
          -6.80237172261517,
          -3.9793613498585287,
          0.633086867205558,
          0.9880442717083344,
          -1.5753129362595633,
          3.823300576961735,
          2.141775228015966,
          -3.4011911337075125,
          -0.18058856474632318,
          1.882977136601486,
          -3.8214136991157988,
          -2.7151198072045433,
          -5.489271107185167,
          -3.5331724689573614,
          1.5222018719789947,
          2.4493975365658454,
          -3.733041068524994,
          -2.0773986792935917,
          -1.493117141678053
         ],
         "xaxis": "x",
         "y": [
          0.27776043138393147,
          -0.2550776381474652,
          -2.8991897936640503,
          -4.732346745315983,
          1.3662374981952647,
          -5.534200765765426,
          -3.3342932594951127,
          -7.553670000389436,
          -0.8381876630804389,
          2.7269421626610457,
          -4.135725007038802,
          4.528214165115022,
          5.329397725747363,
          -0.2115437569255899,
          4.0517095232457,
          -1.871777680333473,
          2.225252593066933,
          -1.8513987481453906,
          1.4999305078093943,
          2.6968178754021097,
          1.4900679398941659,
          1.117012493750798,
          -2.1334911310271854,
          2.329908080919766,
          0.7612757630483746,
          2.986875477190044,
          -0.008948084493049485,
          -5.744091766074581,
          -6.391771447988425,
          -7.153063303961237,
          1.5089299132522358,
          0.7898986122461478,
          -1.8571619398296724,
          3.302943073330996,
          4.892949517329543,
          -4.11843128260751,
          1.0866411115159786,
          -2.6292593548472465,
          2.888471449444498,
          -0.4838257426862375,
          -0.09887755853096929,
          0.23413000606903517
         ],
         "yaxis": "y"
        },
        {
         "hovertemplate": "color=304<br>symbol=304<br>x=%{x}<br>y=%{y}<extra></extra>",
         "legendgroup": "304, 304",
         "marker": {
          "color": "#FF6692",
          "opacity": 0.3,
          "symbol": "diamond"
         },
         "mode": "markers",
         "name": "304, 304",
         "showlegend": true,
         "type": "scattergl",
         "x": [
          -7.138151401048521,
          -4.063419040646807,
          -10.193333396366748,
          1.4899677452369775,
          -5.358087505875209,
          -8.457839847924992,
          -0.8890385209718691,
          -3.753540286653998,
          -0.9507576352600147,
          4.661155437145944,
          -0.15407398184420298,
          5.013193150646409,
          -6.328432336602168,
          -2.9369148056096006,
          -4.406641769827784,
          0.3105133752510312,
          -5.5274936043886065,
          -3.0083416421839906,
          -1.0609113178133787,
          -8.154891323200385,
          -4.040984869284858
         ],
         "xaxis": "x",
         "y": [
          4.6312946778354185,
          0.4492587649248487,
          2.0306602439701504,
          5.549238917081345,
          4.0748681997344525,
          2.4940074128444443,
          3.4761712110124003,
          5.402252724275625,
          3.8943526903512873,
          1.365465273758603,
          4.386354499832668,
          4.979173178346797,
          4.348809564784235,
          1.910525251897792,
          0.26867009449788715,
          -5.004496528412085,
          6.30005428782708,
          2.6474717599301103,
          3.6609522349024974,
          2.8911663895800235,
          4.064132589807615
         ],
         "yaxis": "y"
        },
        {
         "hovertemplate": "color=434<br>symbol=434<br>x=%{x}<br>y=%{y}<extra></extra>",
         "legendgroup": "434, 434",
         "marker": {
          "color": "#B6E880",
          "opacity": 0.3,
          "symbol": "square"
         },
         "mode": "markers",
         "name": "434, 434",
         "showlegend": true,
         "type": "scattergl",
         "x": [
          -0.023702647689367626,
          -2.3015579977626572,
          -6.978159610755737,
          -5.081755820424839,
          -2.8139651036958835,
          -1.9947166040992452,
          -4.930453315408281,
          -1.2255675462583773,
          -7.146246583560881,
          2.693416557613704,
          -5.950554404592183,
          -6.521864724267205,
          -4.761977298697078,
          -1.1716667144335238,
          -5.211941719734193,
          -6.717437241176311,
          -8.253456685143913,
          -7.824097854712941,
          -6.064592589474787,
          -8.003902030985365,
          0.5058621218289691,
          -7.755819090026674,
          -2.5234921656646065,
          -3.1253047793477475,
          0.7103214318400571,
          -6.224071672596752,
          -7.132755601644939,
          -5.081321025575655,
          -6.396134165511749,
          -5.35895512100775,
          -2.947529236543413
         ],
         "xaxis": "x",
         "y": [
          1.235931563720065,
          -1.0689642814849363,
          -3.1257671992179006,
          0.4613430341335959,
          -1.877357350893896,
          -0.14379709336694757,
          -8.22272616629113,
          4.322130535882452,
          -4.030474076511321,
          1.1056450961503355,
          0.5201970712211789,
          -2.7125372619354566,
          1.4624085819255441,
          -0.2523911904145609,
          1.3290718815897433,
          -6.0475521037443745,
          1.075381920775236,
          -6.246310912925741,
          1.275723154926246,
          -3.932963241132575,
          0.41164147490352504,
          1.6260199799550332,
          -0.7479087846884382,
          -6.736266429797004,
          0.5948605379397354,
          -3.9688432075069624,
          -3.9106863678136983,
          0.27969441325069744,
          0.5908688050189499,
          1.9374114223116816,
          -3.031936491826953
         ],
         "yaxis": "y"
        },
        {
         "hovertemplate": "color=135<br>symbol=135<br>x=%{x}<br>y=%{y}<extra></extra>",
         "legendgroup": "135, 135",
         "marker": {
          "color": "#FF97FF",
          "opacity": 0.3,
          "symbol": "x"
         },
         "mode": "markers",
         "name": "135, 135",
         "showlegend": true,
         "type": "scattergl",
         "x": [
          3.9172274965927287,
          4.930727319761021,
          5.790253213913912,
          0.9637913662371561,
          5.732476210371603,
          1.913193376259384,
          6.10796984623324,
          3.4687641119103443,
          6.558095208713152,
          -3.973379511088761,
          2.832089416040495,
          0.6645695384092803,
          3.638475108339944,
          5.1806170130332,
          2.610997546654306,
          4.631527337658521,
          7.153313492003111,
          4.859734256673812,
          6.6386202770647635,
          8.674767786737608,
          4.970661412508859,
          5.075994465557405,
          1.3193683623023649,
          9.620646009205805
         ],
         "xaxis": "x",
         "y": [
          -3.6989959064172018,
          -1.9491292091289392,
          -7.784665362913157,
          -1.3678373134464958,
          -2.4786303745703213,
          -11.028147042740601,
          -1.1364253192957536,
          -5.019544534913142,
          -4.409612051789933,
          -2.6937366931645976,
          -2.5947029078274104,
          -5.650412232618862,
          -1.7429947173308726,
          -3.9152312996075507,
          -8.90920325517081,
          -0.5869136313692118,
          -5.04322002713576,
          -4.91925036103639,
          -8.19648227648868,
          -9.546377144074345,
          -5.658233092570276,
          -7.1634180285208755,
          -1.2413129858034513,
          -1.7410130091051161
         ],
         "yaxis": "y"
        },
        {
         "hovertemplate": "color=348<br>symbol=348<br>x=%{x}<br>y=%{y}<extra></extra>",
         "legendgroup": "348, 348",
         "marker": {
          "color": "#FECB52",
          "opacity": 0.3,
          "symbol": "cross"
         },
         "mode": "markers",
         "name": "348, 348",
         "showlegend": true,
         "type": "scattergl",
         "x": [
          5.393393658378803,
          -0.1199071202575391,
          2.4351137170656365,
          4.41667120289215,
          4.596549613527695,
          4.60246274746132,
          2.114837804109831,
          1.3316920173565492,
          4.761118868800524,
          3.4129858639535815,
          1.8418606198340164,
          3.1886176746312507,
          9.823541063768992,
          7.285529065807302,
          3.292037743271653,
          1.9656149319124638,
          4.900331598667978,
          3.665826936729655,
          1.1243249151790318,
          3.2757094828001083,
          3.242481815021258,
          3.58165092433403
         ],
         "xaxis": "x",
         "y": [
          1.554704142729315,
          -7.908109209885425,
          -3.510705734903537,
          -6.951384719254925,
          -3.218242264192886,
          -8.153733041425504,
          -3.318711839223789,
          -8.294111985566246,
          -7.716848840534685,
          0.29363496685208734,
          -10.62383286239284,
          -4.574106575280862,
          -1.7960010319039499,
          -3.220887459440542,
          -6.4964233596177525,
          -7.574112090059551,
          -3.820894256411143,
          -9.84883475735021,
          -9.145129963141155,
          -9.734754132845708,
          -9.920980140090238,
          0.26264948400031324
         ],
         "yaxis": "y"
        },
        {
         "hovertemplate": "color=436<br>symbol=436<br>x=%{x}<br>y=%{y}<extra></extra>",
         "legendgroup": "436, 436",
         "marker": {
          "color": "#636efa",
          "opacity": 0.3,
          "symbol": "circle"
         },
         "mode": "markers",
         "name": "436, 436",
         "showlegend": true,
         "type": "scattergl",
         "x": [
          -5.580136638422065,
          -4.60406892180663,
          -7.3695954594279085,
          -1.9365141424526233,
          6.667163568019174,
          -5.2899466204059715,
          -2.9413445596093095,
          -4.029251154360956,
          -3.028515845373715,
          10.016454731117292,
          -1.664348270820141,
          -2.4270349964762192,
          -3.280214364865347,
          -6.270886381478505,
          -6.7705757515629585,
          14.93416980749699,
          5.118513219406587,
          -3.0729603611246077,
          -2.061535060577701,
          0.6927042366284646,
          -3.0176509667803146,
          -6.70945048236856,
          -0.8868226001328825,
          0.24737329545017392,
          -2.0095248687215888,
          -6.7970904361171876,
          -0.6679548702800253,
          -4.077132400387512,
          -2.2668071023519434,
          -4.980745150953046,
          -5.531420913754182,
          -1.0417277374951757,
          -1.5582767229322003
         ],
         "xaxis": "x",
         "y": [
          -6.007693717189703,
          1.1788952055411739,
          -4.1974765327010015,
          0.11059296904660115,
          -0.3215786118171391,
          -3.208123067253418,
          -1.193100560512197,
          1.1108134297611634,
          0.5004254902077627,
          5.91087026241781,
          -5.139741294094202,
          0.5764677103748428,
          -1.063737410584819,
          -2.0209839807942584,
          1.8907791163931797,
          6.622615855763801,
          -1.2365744322358052,
          -0.39442663899982594,
          -0.4049693250418861,
          -1.5916033025193594,
          -0.6373663759329,
          -5.9195894413890375,
          -0.6921350190289929,
          -0.83984671065617,
          0.8381916613495781,
          0.463628657464897,
          -1.3207558721258452,
          -4.150823345991453,
          1.2037340870807387,
          -0.538376522896468,
          -7.920994682187323,
          -0.6878471007129098,
          0.05978389289600224
         ],
         "yaxis": "y"
        },
        {
         "hovertemplate": "color=199<br>symbol=199<br>x=%{x}<br>y=%{y}<extra></extra>",
         "legendgroup": "199, 199",
         "marker": {
          "color": "#EF553B",
          "opacity": 0.3,
          "symbol": "diamond"
         },
         "mode": "markers",
         "name": "199, 199",
         "showlegend": true,
         "type": "scattergl",
         "x": [
          0.1936333054351537,
          8.39795915798496,
          -1.0935365644208213,
          0.9495565985709231,
          0.8348314446214729,
          2.2801283360081,
          2.8561881663365236,
          -3.212518661112036,
          3.6904001701360225,
          2.416194698979664,
          4.548378323241335,
          3.1683756673050665,
          -1.8407681774117153,
          -0.3865442851895149,
          0.35702721323191117,
          3.142571536893498,
          -1.0579590277026414
         ],
         "xaxis": "x",
         "y": [
          2.3655762891572967,
          5.593566728606074,
          6.458378105523637,
          2.887588514125932,
          6.763396833980756,
          4.917402435872568,
          2.5828775367109755,
          4.672055822300208,
          4.358833366635733,
          4.015466006046578,
          5.422960172570686,
          1.444578334969817,
          1.0152371272551781,
          6.482155390058998,
          2.4073791762692336,
          4.187526992461182,
          0.9474592787843209
         ],
         "yaxis": "y"
        },
        {
         "hovertemplate": "color=250<br>symbol=250<br>x=%{x}<br>y=%{y}<extra></extra>",
         "legendgroup": "250, 250",
         "marker": {
          "color": "#00cc96",
          "opacity": 0.3,
          "symbol": "square"
         },
         "mode": "markers",
         "name": "250, 250",
         "showlegend": true,
         "type": "scattergl",
         "x": [
          -0.369987492856743,
          -3.8801170467950215,
          -3.9838012683982913,
          -2.069763361611021,
          -8.13430694208622,
          -4.360333211762004,
          -6.3231457223096905,
          -1.0127211445738378,
          -6.865163857192658,
          -6.7672045632912035,
          -2.910507938515824,
          -5.889659119671075,
          -1.9187797710735142,
          -3.070150349415446,
          -5.6679864472268875,
          -4.882644707510035,
          -0.8770120468665161,
          -4.085514675668636,
          -5.685153003008684
         ],
         "xaxis": "x",
         "y": [
          5.4011948829525815,
          3.411671756059123,
          -3.650683990908143,
          -3.186351242309766,
          5.349950017018274,
          3.2794418176852083,
          1.0432224447609335,
          5.678077400197595,
          2.0387451968408197,
          3.6995172959721927,
          3.8111808098436923,
          5.550247335895232,
          -2.0705651000071814,
          5.694209388073377,
          6.315827977273045,
          -1.8795074101476923,
          4.923238939046347,
          3.737204353107162,
          4.253297540061171
         ],
         "yaxis": "y"
        },
        {
         "hovertemplate": "color=395<br>symbol=395<br>x=%{x}<br>y=%{y}<extra></extra>",
         "legendgroup": "395, 395",
         "marker": {
          "color": "#ab63fa",
          "opacity": 0.3,
          "symbol": "x"
         },
         "mode": "markers",
         "name": "395, 395",
         "showlegend": true,
         "type": "scattergl",
         "x": [
          -3.342452038208348,
          -7.042970882849743,
          -9.127029176808948,
          -4.966024798742886,
          -5.837140856425285,
          -1.5741632085814066,
          -4.706657748214797,
          -4.807339785397124,
          -6.765401983450994,
          -0.5169386738035916,
          -6.155924071810309,
          -5.447271392341068,
          -0.13019002511422634,
          -6.332279312938348,
          -2.27382265717058,
          -5.857381752076235,
          -4.708355158757034,
          -3.166557766149611,
          -6.301602531043904,
          -2.190592024941718,
          0.34846318542928123,
          -5.212233360624526,
          -4.977505299398724,
          -2.128859845702546,
          -7.330410419614283,
          0.007417177369958174,
          -3.0745911597388886,
          -1.546027741888189,
          -5.037740233240327,
          1.4336633900944948,
          -4.1558112245480245,
          -3.1413126014219745,
          -1.7617612132089489,
          1.0350967474892776,
          -4.508836726114997,
          -5.221106988809837
         ],
         "xaxis": "x",
         "y": [
          -8.306892365242497,
          2.9236611718479697,
          3.729310959385903,
          -5.150095987964006,
          -3.623847925254972,
          2.478779071735961,
          1.6989616160159478,
          -2.4573785101345114,
          3.893863759001078,
          -5.409020858453221,
          -1.6472219948062081,
          2.38247474679739,
          1.2131307247409762,
          -3.2769566524916067,
          1.9353037292464004,
          4.364928517347639,
          -2.6173911719820437,
          1.7606629066559452,
          1.3043562001107403,
          -4.585819490284196,
          1.0166653865666329,
          -4.216155418803846,
          -8.78982527000189,
          3.2301655486023098,
          -2.893158156887559,
          1.1990403919326558,
          -5.214690190608726,
          1.7813764382762225,
          3.305901842620355,
          -0.12037189649467295,
          1.985812168792168,
          -1.984071766677061,
          -5.01552854185498,
          -1.709614541860839,
          2.703830893632624,
          -4.122484859633581
         ],
         "yaxis": "y"
        },
        {
         "hovertemplate": "color=133<br>symbol=133<br>x=%{x}<br>y=%{y}<extra></extra>",
         "legendgroup": "133, 133",
         "marker": {
          "color": "#FFA15A",
          "opacity": 0.3,
          "symbol": "cross"
         },
         "mode": "markers",
         "name": "133, 133",
         "showlegend": true,
         "type": "scattergl",
         "x": [
          7.001735691704017,
          5.6639579025970095,
          7.293871237750668,
          9.747943185876169
         ],
         "xaxis": "x",
         "y": [
          -0.03770932619529892,
          -0.7575385357056964,
          -0.5550203979533526,
          -0.9150376178984425
         ],
         "yaxis": "y"
        },
        {
         "hovertemplate": "color=307<br>symbol=307<br>x=%{x}<br>y=%{y}<extra></extra>",
         "legendgroup": "307, 307",
         "marker": {
          "color": "#19d3f3",
          "opacity": 0.3,
          "symbol": "circle"
         },
         "mode": "markers",
         "name": "307, 307",
         "showlegend": true,
         "type": "scattergl",
         "x": [
          7.361294330364961,
          3.2349464846380074,
          1.5239954781908736,
          0.4400876785728737
         ],
         "xaxis": "x",
         "y": [
          5.845779050581811,
          4.738513236112393,
          2.5125395318413495,
          -1.99127113378126
         ],
         "yaxis": "y"
        },
        {
         "hovertemplate": "color=443<br>symbol=443<br>x=%{x}<br>y=%{y}<extra></extra>",
         "legendgroup": "443, 443",
         "marker": {
          "color": "#FF6692",
          "opacity": 0.3,
          "symbol": "diamond"
         },
         "mode": "markers",
         "name": "443, 443",
         "showlegend": true,
         "type": "scattergl",
         "x": [
          7.140607528514485,
          4.52475482269178,
          9.120245625636729,
          8.841932546999487,
          8.43507623769881,
          9.153779004276036,
          5.938012333470095,
          2.7506739666621423
         ],
         "xaxis": "x",
         "y": [
          1.5289729033376747,
          -2.967712615494827,
          -2.494605772196388,
          -0.10098670630067468,
          -0.42120473279389425,
          -1.5834454116103984,
          -2.640740367058541,
          0.905534324828109
         ],
         "yaxis": "y"
        },
        {
         "hovertemplate": "color=6<br>symbol=6<br>x=%{x}<br>y=%{y}<extra></extra>",
         "legendgroup": "6, 6",
         "marker": {
          "color": "#B6E880",
          "opacity": 0.3,
          "symbol": "square"
         },
         "mode": "markers",
         "name": "6, 6",
         "showlegend": true,
         "type": "scattergl",
         "x": [
          -6.657703877298025,
          -5.323602075486667,
          -3.955426271682062,
          -5.545237008126615,
          -1.3792299833264585,
          -4.8252477892813275,
          5.097480646619142,
          2.111356620384609,
          -8.733704850692902,
          -0.4192863002140001,
          -3.143234983306611,
          -5.0911834149311375,
          -1.4545877352368382,
          -2.896515534313866,
          3.7540142501254326,
          -3.8964456576966184,
          -0.9941786568706716,
          -0.5921102811393916,
          0.8798119513462458,
          1.938282524520268,
          -4.0493956973093175,
          -0.9455563747683047,
          -5.041939121764677,
          -4.4762154769602525,
          -0.26576223182397624,
          -6.973267087333695,
          -6.234827211493383,
          -7.582110498146078,
          -9.062906957981212,
          -1.3348227898106042,
          8.39864554454804,
          -6.608887495219397,
          -3.1790413481104576,
          -5.529495698179727,
          -7.616038417722326,
          -3.1333696975549064,
          -3.0172189271288437,
          -6.7380774589244545,
          0.2681499192471644,
          -9.22514857272664,
          -6.033401031072097,
          -4.264875991979852,
          -6.113435652646098,
          -2.606234046858183,
          -5.113354953709454,
          -4.065095746667885
         ],
         "xaxis": "x",
         "y": [
          4.552793117196669,
          -3.1353115496694084,
          4.61097669288275,
          1.0065224253757723,
          -5.164730105810013,
          0.7442003811284265,
          1.542457410091547,
          2.565636367993489,
          -2.884499247070141,
          4.2467009508894185,
          -6.3132973975918265,
          -4.20067947000012,
          -3.970265833077896,
          1.315042675060993,
          2.0344905406563973,
          -0.03321285898262763,
          -1.83077930325955,
          4.990634815139458,
          4.61832994209868,
          2.2378372811387717,
          4.433770174596471,
          -7.031712040937313,
          5.196129084395819,
          2.4563401861003196,
          2.597500177172795,
          -0.3919153717238238,
          3.833753046534942,
          -3.2069556276979356,
          -3.398971330472512,
          -4.136045040367654,
          0.7992272726127366,
          0.1107752727541302,
          1.2194463348402604,
          0.8976025992353688,
          2.737234901684437,
          -0.356541424179785,
          -1.2304100230045791,
          0.08202872503860435,
          0.4729449781181821,
          4.8430748107905695,
          2.6453591632125293,
          2.5801672890835787,
          0.4336673443797384,
          2.565974683582684,
          -2.6711376743058515,
          5.6793979466949995
         ],
         "yaxis": "y"
        },
        {
         "hovertemplate": "color=7<br>symbol=7<br>x=%{x}<br>y=%{y}<extra></extra>",
         "legendgroup": "7, 7",
         "marker": {
          "color": "#FF97FF",
          "opacity": 0.3,
          "symbol": "x"
         },
         "mode": "markers",
         "name": "7, 7",
         "showlegend": true,
         "type": "scattergl",
         "x": [
          -0.34616211037510236,
          -5.051403159482373,
          -6.755675824585803,
          3.0200566159592075,
          -5.601324311710448,
          -2.8279172331991465,
          -5.536966498322801,
          -7.820187715437075,
          -4.190431710944008,
          -1.731669541862939,
          -6.779875043151633,
          -6.3341929270786315,
          -1.9786764737422566,
          -1.9745500454966847,
          -5.721963068247506,
          -1.7148148757957686,
          -4.973030516882034,
          -6.940104380426986,
          2.446756516950228,
          -3.8155631208389433,
          -6.867618880676986,
          -5.048924694495075,
          -5.489064131410481,
          -7.56339979681976,
          -2.998164549490009,
          -6.110359154435405,
          -5.2132068581224535,
          -2.9739624863196696,
          -6.052330378203385,
          -5.141669363447858,
          -2.1111070004111423,
          1.1804343231714416,
          -3.5433932759880253,
          -2.4760054883351357,
          -7.868231336225294,
          -5.324004732681461,
          -8.32577450861494,
          -5.192872202614325,
          -4.666521568068844,
          -3.893696079615055,
          -3.8736867931302665,
          -2.2669405372761915,
          2.311981706825759,
          -7.4066956267129385,
          -2.7101236603960563,
          -2.0477612126557507,
          -1.4682821569084323,
          -1.8096987505707973,
          -0.7642367749302461,
          -2.343862994359116,
          -4.982939875040468,
          -5.749302503182414,
          4.26344847281421,
          -2.093780046008407,
          1.1928950972279317,
          3.0781793081695037,
          2.0268408517510768,
          -2.9172495678526986,
          -6.7616703341245605,
          -2.073084806393778,
          5.739336702733672,
          -4.047843066470974,
          -2.0046720081679164,
          -5.573198830865367,
          -2.416049019938631,
          -4.406077037672063,
          -3.6870895856553805,
          0.46514858678954624,
          -7.760446208353507
         ],
         "xaxis": "x",
         "y": [
          4.49710727359617,
          0.28261917361987604,
          1.3319655654888154,
          0.9923148960704449,
          -1.7543560677870498,
          1.604302103149215,
          -3.058216365623992,
          1.334382244332679,
          1.5731092977964736,
          -7.9597738227135215,
          0.5253982314307695,
          -4.231526461130083,
          2.064929391775663,
          1.4754617692181644,
          -3.904587353889994,
          -7.295665068212151,
          -6.404255598674746,
          -3.2636262972081918,
          5.04656116268766,
          -6.649138801728023,
          1.4590491337236424,
          -6.474572504359937,
          -4.517311328196632,
          3.271916487985607,
          1.4326243492214021,
          -5.718692639476703,
          1.1677285690068009,
          3.80510435900139,
          1.3655496660269115,
          -4.115967342641469,
          0.48446738890479873,
          -0.3107594126991983,
          2.8662226435168128,
          2.439797676189498,
          -0.4330860888576997,
          -0.07141460105431935,
          2.6925105842201535,
          -8.006555426061823,
          2.6701489876309683,
          1.9945292329056579,
          1.3210368394985241,
          1.1282723262375336,
          1.4222897518582558,
          4.582536427251542,
          -6.395015892501253,
          -2.1472318350099804,
          1.2270577056587268,
          0.8606127169669108,
          -9.787360707956646,
          1.0764122763030881,
          2.1081131930331845,
          -0.5066489993232761,
          1.9464914573430017,
          -7.672463093257023,
          2.9278961775473733,
          1.6849878473834272,
          4.97427543588315,
          1.0658987039556806,
          1.1358317305472005,
          -7.249177599106376,
          2.5941771007598122,
          -3.978386568959158,
          0.42032786014741313,
          2.3449914071186666,
          -7.326756720233655,
          3.9601757765509276,
          0.4502275554095489,
          -5.7337750648429875,
          -6.854631801701601
         ],
         "yaxis": "y"
        },
        {
         "hovertemplate": "color=156<br>symbol=156<br>x=%{x}<br>y=%{y}<extra></extra>",
         "legendgroup": "156, 156",
         "marker": {
          "color": "#FECB52",
          "opacity": 0.3,
          "symbol": "cross"
         },
         "mode": "markers",
         "name": "156, 156",
         "showlegend": true,
         "type": "scattergl",
         "x": [
          10.03746338116404,
          8.210777084726192
         ],
         "xaxis": "x",
         "y": [
          2.8325131600463354,
          1.768023598588518
         ],
         "yaxis": "y"
        },
        {
         "hovertemplate": "color=80<br>symbol=80<br>x=%{x}<br>y=%{y}<extra></extra>",
         "legendgroup": "80, 80",
         "marker": {
          "color": "#636efa",
          "opacity": 0.3,
          "symbol": "circle"
         },
         "mode": "markers",
         "name": "80, 80",
         "showlegend": true,
         "type": "scattergl",
         "x": [
          -1.8722981748684384,
          -3.8684452716150184,
          0.39540496334325903,
          -3.1129086354462863,
          -5.420508500892135,
          -0.1973861779222054,
          -0.7151564523978321,
          7.245482018378218,
          3.4167433416699557,
          -0.5182681781384667,
          1.3633988605626721,
          2.6939730473958416,
          -0.8543929937454972,
          -3.0873556765999024,
          1.5792000063391327,
          5.451088428389972,
          5.421026202647974,
          -2.4603304665690198,
          -0.8711782961269535
         ],
         "xaxis": "x",
         "y": [
          1.4164871106937584,
          4.077639276609902,
          0.19187628242228255,
          2.1599601812971767,
          4.355661163780123,
          3.613805701012103,
          3.1293289699535656,
          -0.9638520181702399,
          1.2642820636191252,
          4.752635185567786,
          4.664802385827243,
          4.047897871676347,
          6.9897527994062765,
          2.03198874327908,
          1.8528189356561537,
          6.25041209458812,
          3.265676587337964,
          2.0936656669608977,
          1.513141139591041
         ],
         "yaxis": "y"
        },
        {
         "hovertemplate": "color=393<br>symbol=393<br>x=%{x}<br>y=%{y}<extra></extra>",
         "legendgroup": "393, 393",
         "marker": {
          "color": "#EF553B",
          "opacity": 0.3,
          "symbol": "diamond"
         },
         "mode": "markers",
         "name": "393, 393",
         "showlegend": true,
         "type": "scattergl",
         "x": [
          -3.0667647543574885,
          -8.640483284494888,
          -7.097137433845097,
          -7.740514217106306,
          -3.4133167595074387,
          -6.3408217345298565,
          -3.506159816393,
          -8.43902055115229,
          -7.286272011181309,
          -2.8904325978258867,
          -5.06863899517185,
          -9.297660892882083,
          -2.458316568693121,
          -6.820395015405718
         ],
         "xaxis": "x",
         "y": [
          1.976809279938621,
          5.827318189763498,
          2.582269088279834,
          5.225880177334961,
          2.682550209897657,
          2.9452436947090805,
          5.264990226731001,
          4.235157669684266,
          3.7688294487704233,
          4.531571090254988,
          4.492446288543919,
          2.9100075336182827,
          2.577529937772768,
          4.379107106193954
         ],
         "yaxis": "y"
        },
        {
         "hovertemplate": "color=327<br>symbol=327<br>x=%{x}<br>y=%{y}<extra></extra>",
         "legendgroup": "327, 327",
         "marker": {
          "color": "#00cc96",
          "opacity": 0.3,
          "symbol": "square"
         },
         "mode": "markers",
         "name": "327, 327",
         "showlegend": true,
         "type": "scattergl",
         "x": [
          1.9194510356467707,
          4.020444334281113,
          4.863572498597627,
          0.5257420953698806,
          18.14588035454639,
          8.658727902402406,
          5.9604492509297,
          9.418239359613377,
          3.6673595617769887,
          6.6414813553587555,
          7.390602081511492,
          7.207444851642049,
          5.8986180316001136,
          3.421505614695865,
          10.82017008293893,
          10.829590503881517,
          10.185994110552103,
          5.58305697788977,
          4.873558087354006
         ],
         "xaxis": "x",
         "y": [
          0.08343042359220318,
          1.0151132886686036,
          2.692551238386242,
          1.164230434412647,
          9.073888109285225,
          -2.6716221422195776,
          0.49350402468725735,
          1.5031665648840822,
          1.4403737163342178,
          2.6008742410874826,
          -2.1470916645817706,
          0.8244898366449998,
          1.0736425934764287,
          2.6897102255283625,
          3.4169876276442435,
          -1.1444643728590227,
          2.4372527712514027,
          2.2183011385912317,
          0.30165632695720607
         ],
         "yaxis": "y"
        },
        {
         "hovertemplate": "color=225<br>symbol=225<br>x=%{x}<br>y=%{y}<extra></extra>",
         "legendgroup": "225, 225",
         "marker": {
          "color": "#ab63fa",
          "opacity": 0.3,
          "symbol": "x"
         },
         "mode": "markers",
         "name": "225, 225",
         "showlegend": true,
         "type": "scattergl",
         "x": [
          4.740802903171713,
          11.47398794878589,
          7.518036835777591,
          5.757595178960118,
          7.745144961601039,
          9.32091754491525,
          8.881074465189249,
          6.977475176227958,
          8.35229691433971,
          11.395781034079832,
          9.248971151762401,
          7.238352375626519,
          4.690208465590864,
          6.889767424521533,
          12.257607776310248,
          8.612055760160116
         ],
         "xaxis": "x",
         "y": [
          1.8734091130717856,
          0.9723516803268208,
          2.84002156465499,
          2.733244991303595,
          3.2050639626286896,
          0.9225742234005286,
          6.432261599764415,
          2.1381150766488703,
          -1.1584262123802962,
          -0.13452136976602244,
          3.633244013053373,
          -0.33359346595752043,
          -0.33865562597471754,
          1.7828802095000187,
          1.562611786120364,
          3.8241107191026686
         ],
         "yaxis": "y"
        },
        {
         "hovertemplate": "color=268<br>symbol=268<br>x=%{x}<br>y=%{y}<extra></extra>",
         "legendgroup": "268, 268",
         "marker": {
          "color": "#FFA15A",
          "opacity": 0.3,
          "symbol": "cross"
         },
         "mode": "markers",
         "name": "268, 268",
         "showlegend": true,
         "type": "scattergl",
         "x": [
          -5.365694172401062,
          -2.6189857600798727
         ],
         "xaxis": "x",
         "y": [
          6.985352032181534,
          0.601938634771462
         ],
         "yaxis": "y"
        },
        {
         "hovertemplate": "color=351<br>symbol=351<br>x=%{x}<br>y=%{y}<extra></extra>",
         "legendgroup": "351, 351",
         "marker": {
          "color": "#19d3f3",
          "opacity": 0.3,
          "symbol": "circle"
         },
         "mode": "markers",
         "name": "351, 351",
         "showlegend": true,
         "type": "scattergl",
         "x": [
          -2.9525663442365335,
          -3.624664685628973,
          -3.834581778189869,
          -1.5117311519561503,
          -4.8677274565836886,
          -5.912149362297182,
          -6.069612459130768,
          -3.9687591079129354,
          -2.999310919199552,
          -3.4239126919420864
         ],
         "xaxis": "x",
         "y": [
          0.3768775312368992,
          3.236700200109946,
          4.2186167950421005,
          4.878077737175085,
          3.1686466925682892,
          4.731509951119788,
          6.6490720373800825,
          4.99331658293487,
          3.262178621860298,
          -0.5674104340794235
         ],
         "yaxis": "y"
        },
        {
         "hovertemplate": "color=439<br>symbol=439<br>x=%{x}<br>y=%{y}<extra></extra>",
         "legendgroup": "439, 439",
         "marker": {
          "color": "#FF6692",
          "opacity": 0.3,
          "symbol": "diamond"
         },
         "mode": "markers",
         "name": "439, 439",
         "showlegend": true,
         "type": "scattergl",
         "x": [
          1.1962284592692172,
          -4.778683684264896,
          -1.335705680833916,
          -7.407799970928454,
          -6.488784760709198,
          -0.3223388208936095,
          -0.4807871948220703
         ],
         "xaxis": "x",
         "y": [
          1.2139861522142168,
          4.373229344068695,
          1.7656100692161338,
          3.3062924691947346,
          4.801731655259944,
          1.0913005434974956,
          3.441522189545351
         ],
         "yaxis": "y"
        },
        {
         "hovertemplate": "color=300<br>symbol=300<br>x=%{x}<br>y=%{y}<extra></extra>",
         "legendgroup": "300, 300",
         "marker": {
          "color": "#B6E880",
          "opacity": 0.3,
          "symbol": "square"
         },
         "mode": "markers",
         "name": "300, 300",
         "showlegend": true,
         "type": "scattergl",
         "x": [
          -2.524645412983397,
          -1.1290291794842433,
          -5.954167154802517,
          -4.865695009078195,
          -2.672386364400871,
          -5.062779451122419,
          -2.4936470727550484,
          -8.61211455451708,
          -3.9331207940169546,
          -3.1809227431782965,
          0.7026188441055837,
          -8.267050239544174,
          -1.6883927631598115,
          -0.9766434887274257,
          -10.43352003099267,
          0.5906260062646423,
          -3.7090602630362435,
          -2.856471623587913,
          -7.423089332136929,
          -4.727063568520363,
          -1.5521523738149197,
          -4.461359220384539,
          -0.017487084790201456,
          -0.9819641546243555,
          -3.942569700020148,
          -7.20739728179811,
          1.617508953346505,
          -4.985850874280259,
          -5.6061030853555796,
          -7.119934911059275
         ],
         "xaxis": "x",
         "y": [
          2.081429754340896,
          2.3390706646546495,
          3.6059190473262794,
          1.3529252473735192,
          -3.2254303297876,
          -4.281976353911311,
          2.8308078596043877,
          3.4334141476429783,
          1.811763314309744,
          2.693269411618432,
          1.6991271314012713,
          -1.6941793010519097,
          1.0479604161430092,
          0.3642514238263566,
          -2.506078911136738,
          1.3327494211324185,
          0.6372580564390657,
          5.123322285945913,
          -2.35726762219952,
          2.664957060626633,
          1.3169749063535954,
          1.7596478074145478,
          0.8024068795733856,
          -3.370160362826409,
          2.550369278664996,
          -1.7598948213376462,
          3.5312386661370487,
          2.845657013718364,
          0.5450693528469501,
          0.70622862650125
         ],
         "yaxis": "y"
        },
        {
         "hovertemplate": "color=164<br>symbol=164<br>x=%{x}<br>y=%{y}<extra></extra>",
         "legendgroup": "164, 164",
         "marker": {
          "color": "#FF97FF",
          "opacity": 0.3,
          "symbol": "x"
         },
         "mode": "markers",
         "name": "164, 164",
         "showlegend": true,
         "type": "scattergl",
         "x": [
          -1.7635197350466438
         ],
         "xaxis": "x",
         "y": [
          -6.057971197374
         ],
         "yaxis": "y"
        },
        {
         "hovertemplate": "color=390<br>symbol=390<br>x=%{x}<br>y=%{y}<extra></extra>",
         "legendgroup": "390, 390",
         "marker": {
          "color": "#FECB52",
          "opacity": 0.3,
          "symbol": "cross"
         },
         "mode": "markers",
         "name": "390, 390",
         "showlegend": true,
         "type": "scattergl",
         "x": [
          -4.171230697979363,
          -7.734609522617544,
          -7.128481594259442,
          -3.491003752576503,
          -6.118820552211531,
          -5.376682147435839,
          -7.185566972186878,
          -6.867779434110914,
          -4.852315031165927,
          -8.884756150228656,
          -7.433999037141374,
          -9.116512138234617,
          -4.883852956565017,
          -1.737481398604947,
          -8.404318629858704
         ],
         "xaxis": "x",
         "y": [
          1.9359095807013889,
          3.739336071818461,
          4.203887556834372,
          -3.1527031739124354,
          0.599074762506831,
          -4.638351884740971,
          -1.6094388892846379,
          -0.8007582503439201,
          2.7237267138598176,
          4.308317038083752,
          5.378141226405258,
          2.10919153178247,
          2.714462387606219,
          1.9803666230875756,
          5.493599970057665
         ],
         "yaxis": "y"
        },
        {
         "hovertemplate": "color=440<br>symbol=440<br>x=%{x}<br>y=%{y}<extra></extra>",
         "legendgroup": "440, 440",
         "marker": {
          "color": "#636efa",
          "opacity": 0.3,
          "symbol": "circle"
         },
         "mode": "markers",
         "name": "440, 440",
         "showlegend": true,
         "type": "scattergl",
         "x": [
          5.190168135523105,
          5.093997220813033,
          0.04399282516791122,
          -0.061060555207352735,
          7.15574474099094,
          2.2141571725761797,
          2.31298648813629,
          -0.8624744255337837,
          2.5855705657780366,
          -4.654254870410065,
          2.5407172542443175,
          2.898382914720822,
          3.9361369136536846,
          1.6878552391617165,
          2.447717334832956,
          3.498448530686213,
          0.6196593842359839,
          0.5530608560658797,
          8.370804169969125,
          3.7217162439149956
         ],
         "xaxis": "x",
         "y": [
          1.039748786018413,
          0.04736100868064722,
          1.5080420708362112,
          -0.009922646717854746,
          3.8200373723850216,
          3.3757319264667,
          -2.061277591958059,
          1.6205229102133123,
          0.986526867468843,
          -0.1310234526259966,
          -1.1614062297185481,
          0.4460223215388828,
          -1.195327852218342,
          1.2463870919093842,
          1.5831526879724427,
          -0.4875773897409438,
          0.8163159037581296,
          3.213206128969316,
          2.141090611689436,
          -0.5569793273932877
         ],
         "yaxis": "y"
        },
        {
         "hovertemplate": "color=441<br>symbol=441<br>x=%{x}<br>y=%{y}<extra></extra>",
         "legendgroup": "441, 441",
         "marker": {
          "color": "#EF553B",
          "opacity": 0.3,
          "symbol": "diamond"
         },
         "mode": "markers",
         "name": "441, 441",
         "showlegend": true,
         "type": "scattergl",
         "x": [
          -2.0464313103161924,
          -4.5646434110289915,
          -6.328789882528741,
          -3.803497604083705,
          -5.096614304769312,
          -6.045830476823869,
          -6.303310236116609,
          -3.912999620560024,
          -4.021332519850573,
          -3.540616323113163,
          -4.076299265704661,
          -0.011145912844024638,
          -8.045123684514074,
          -8.332751971622057
         ],
         "xaxis": "x",
         "y": [
          2.401663398553493,
          0.9869808242761906,
          3.550612621332453,
          0.19083617253750673,
          3.2478352307940455,
          3.7821988244091687,
          3.622564813241347,
          2.984708679231361,
          2.9541929215248466,
          2.8930962570293772,
          0.976762151899881,
          -0.6123446622891658,
          0.5334661892587582,
          4.802447251285959
         ],
         "yaxis": "y"
        },
        {
         "hovertemplate": "color=357<br>symbol=357<br>x=%{x}<br>y=%{y}<extra></extra>",
         "legendgroup": "357, 357",
         "marker": {
          "color": "#00cc96",
          "opacity": 0.3,
          "symbol": "square"
         },
         "mode": "markers",
         "name": "357, 357",
         "showlegend": true,
         "type": "scattergl",
         "x": [
          10.254282951072506,
          7.930613932852013,
          6.669232004666673
         ],
         "xaxis": "x",
         "y": [
          2.3255629299949203,
          -1.6551073359482913,
          0.6306500280780819
         ],
         "yaxis": "y"
        },
        {
         "hovertemplate": "color=106<br>symbol=106<br>x=%{x}<br>y=%{y}<extra></extra>",
         "legendgroup": "106, 106",
         "marker": {
          "color": "#ab63fa",
          "opacity": 0.3,
          "symbol": "x"
         },
         "mode": "markers",
         "name": "106, 106",
         "showlegend": true,
         "type": "scattergl",
         "x": [
          4.14650677880567,
          3.5336948918943567,
          -1.3897832947153095,
          -2.283137285699154,
          -0.7514669053030281,
          4.491854355081057,
          0.5668542104494566,
          -1.1099179402320913,
          -0.03373444593813455,
          -2.747750886942265,
          -2.949020077223039,
          -2.1200751148665247,
          -2.352098186403107,
          -1.336879734934839
         ],
         "xaxis": "x",
         "y": [
          0.26105641233000776,
          2.9975383214272866,
          0.5566436830453609,
          -0.7040942003538776,
          -0.21573296018361274,
          -2.6751099569132353,
          0.39003014106511286,
          2.8029768397410977,
          1.8103515153710965,
          2.193302862099572,
          2.383267783063435,
          1.0258450189580781,
          2.2408742661091114,
          -0.7927039136268325
         ],
         "yaxis": "y"
        },
        {
         "hovertemplate": "color=349<br>symbol=349<br>x=%{x}<br>y=%{y}<extra></extra>",
         "legendgroup": "349, 349",
         "marker": {
          "color": "#FFA15A",
          "opacity": 0.3,
          "symbol": "cross"
         },
         "mode": "markers",
         "name": "349, 349",
         "showlegend": true,
         "type": "scattergl",
         "x": [
          1.1053946149643818,
          3.144308453462023,
          6.3433572876755555
         ],
         "xaxis": "x",
         "y": [
          -9.233674986266537,
          -4.227218279560823,
          -1.1057901723558816
         ],
         "yaxis": "y"
        },
        {
         "hovertemplate": "color=347<br>symbol=347<br>x=%{x}<br>y=%{y}<extra></extra>",
         "legendgroup": "347, 347",
         "marker": {
          "color": "#19d3f3",
          "opacity": 0.3,
          "symbol": "circle"
         },
         "mode": "markers",
         "name": "347, 347",
         "showlegend": true,
         "type": "scattergl",
         "x": [
          4.915309587026549,
          4.773058894058381
         ],
         "xaxis": "x",
         "y": [
          -1.2666621136368417,
          -3.0777008147050697
         ],
         "yaxis": "y"
        },
        {
         "hovertemplate": "color=104<br>symbol=104<br>x=%{x}<br>y=%{y}<extra></extra>",
         "legendgroup": "104, 104",
         "marker": {
          "color": "#FF6692",
          "opacity": 0.3,
          "symbol": "diamond"
         },
         "mode": "markers",
         "name": "104, 104",
         "showlegend": true,
         "type": "scattergl",
         "x": [
          0.0349711924352138,
          6.510492018630359,
          -2.7379231735377427,
          4.205115835131062,
          -1.3527409660960463,
          0.18474470710320715,
          0.6187590714238727,
          0.38052349211202097,
          -0.33454084761437203
         ],
         "xaxis": "x",
         "y": [
          -8.189318441648716,
          -1.2903017446237497,
          -2.609205228473039,
          -4.213846961908564,
          -1.2946642058529612,
          -3.332601106860604,
          2.1814091063560554,
          -3.5584184339916067,
          -5.440047822366335
         ],
         "yaxis": "y"
        },
        {
         "hovertemplate": "color=249<br>symbol=249<br>x=%{x}<br>y=%{y}<extra></extra>",
         "legendgroup": "249, 249",
         "marker": {
          "color": "#B6E880",
          "opacity": 0.3,
          "symbol": "square"
         },
         "mode": "markers",
         "name": "249, 249",
         "showlegend": true,
         "type": "scattergl",
         "x": [
          -5.921909811495407,
          -5.133649692006772,
          -4.3902051697395,
          -7.932969728223959,
          -6.010056025697803,
          1.5097154340160082,
          -5.044393391408393,
          -2.0346655547309234,
          -8.691711620480472,
          -5.290903739591685,
          -2.564918914161491,
          -6.9997394750981705,
          -2.9839048914371147,
          -2.8271326582584457,
          -4.799387604334092,
          -9.007513629215964,
          1.5509524531576984,
          -4.2623733759636595,
          -6.343479563292117,
          -3.2436749873699875,
          -0.6650084491088281,
          0.4599049137768106,
          -0.2297389784432206,
          -2.7946701793857747,
          -3.0735574094754323,
          -3.096016571462801
         ],
         "xaxis": "x",
         "y": [
          -3.065575310454772,
          1.58388148950314,
          1.48060339774625,
          3.7100567324258957,
          4.007606267597237,
          -3.323525908090295,
          3.7514514361175353,
          -4.004197668556648,
          7.092031348254084,
          -1.899726566210222,
          -2.494544540206811,
          0.8109316823992865,
          3.3507789820867058,
          5.674712533455446,
          1.1958391403176158,
          4.108976250747594,
          -4.117692636080896,
          4.0568168782019765,
          4.435039258628615,
          4.904595524413456,
          -2.8666117050284945,
          3.0665896269572843,
          6.360435328239212,
          -3.438192880100169,
          2.908140499451804,
          3.2444756809859987
         ],
         "yaxis": "y"
        },
        {
         "hovertemplate": "color=274<br>symbol=274<br>x=%{x}<br>y=%{y}<extra></extra>",
         "legendgroup": "274, 274",
         "marker": {
          "color": "#FF97FF",
          "opacity": 0.3,
          "symbol": "x"
         },
         "mode": "markers",
         "name": "274, 274",
         "showlegend": true,
         "type": "scattergl",
         "x": [
          -3.569525768025107,
          -0.6051005367651993,
          -5.979306240734182,
          0.70574659306713,
          -4.307584325250846,
          -1.0947024099564597,
          -0.17931518525377688,
          -2.5516090357324144,
          -5.500561398985259,
          -1.4944791187657127,
          0.2050800418044807,
          -4.43479848676169,
          -3.1765595789716117,
          0.9517035039220214,
          -4.079982852273092,
          2.6162952808319266,
          0.051492232966430844,
          -6.811899079462088,
          -4.5436434268177655,
          -4.302722839594926
         ],
         "xaxis": "x",
         "y": [
          2.9341504421063753,
          5.356177998001139,
          6.032651794449362,
          2.679485952233893,
          6.664409272223097,
          5.732366341243519,
          7.411735267407492,
          5.524652464231828,
          7.591402472678625,
          5.986723690456988,
          5.747485139809131,
          5.606867488875686,
          6.442342286032961,
          7.022454619089661,
          4.481143853259018,
          5.877812404194831,
          5.794869745702952,
          7.5879964663338635,
          6.11521465615449,
          7.550270159975249
         ],
         "yaxis": "y"
        },
        {
         "hovertemplate": "color=198<br>symbol=198<br>x=%{x}<br>y=%{y}<extra></extra>",
         "legendgroup": "198, 198",
         "marker": {
          "color": "#FECB52",
          "opacity": 0.3,
          "symbol": "cross"
         },
         "mode": "markers",
         "name": "198, 198",
         "showlegend": true,
         "type": "scattergl",
         "x": [
          8.527996979674606,
          10.271731249511538,
          9.02290936015967,
          9.431671517091377,
          11.723814811686193,
          10.119770414909004,
          6.749296883692208
         ],
         "xaxis": "x",
         "y": [
          2.936485904172367,
          -2.8978733282545477,
          -2.6430607665532726,
          2.1221608664926332,
          0.4002983739319432,
          1.7380590714210358,
          3.1624819861588245
         ],
         "yaxis": "y"
        },
        {
         "hovertemplate": "color=253<br>symbol=253<br>x=%{x}<br>y=%{y}<extra></extra>",
         "legendgroup": "253, 253",
         "marker": {
          "color": "#636efa",
          "opacity": 0.3,
          "symbol": "circle"
         },
         "mode": "markers",
         "name": "253, 253",
         "showlegend": true,
         "type": "scattergl",
         "x": [
          -4.082442514077074,
          -1.8407534819829745,
          -8.17609098607072,
          -0.27046641960602374,
          -6.50115266829511,
          -5.660761914304379,
          -5.3130248051781415,
          -0.5648504826696827,
          -5.3265980426984525,
          -3.502071036676585,
          -5.160707908003502
         ],
         "xaxis": "x",
         "y": [
          8.286162689500188,
          5.699498387443246,
          6.526507561909181,
          8.024760957668757,
          5.685732790136744,
          5.057814582293158,
          6.980110891201874,
          8.556345075285277,
          6.76792730633514,
          3.931833714487424,
          5.411613099003949
         ],
         "yaxis": "y"
        },
        {
         "hovertemplate": "color=84<br>symbol=84<br>x=%{x}<br>y=%{y}<extra></extra>",
         "legendgroup": "84, 84",
         "marker": {
          "color": "#EF553B",
          "opacity": 0.3,
          "symbol": "diamond"
         },
         "mode": "markers",
         "name": "84, 84",
         "showlegend": true,
         "type": "scattergl",
         "x": [
          -0.7229653797452226,
          6.1251204818646805
         ],
         "xaxis": "x",
         "y": [
          -4.145046255143508,
          -0.03287505896973256
         ],
         "yaxis": "y"
        },
        {
         "hovertemplate": "color=195<br>symbol=195<br>x=%{x}<br>y=%{y}<extra></extra>",
         "legendgroup": "195, 195",
         "marker": {
          "color": "#00cc96",
          "opacity": 0.3,
          "symbol": "square"
         },
         "mode": "markers",
         "name": "195, 195",
         "showlegend": true,
         "type": "scattergl",
         "x": [
          12.312549247463464,
          8.565743947225306,
          10.15816551878042,
          4.73570362421159,
          7.170636238021122,
          4.828605283824069,
          8.635801307112835,
          6.437783825199203,
          9.90970828725186
         ],
         "xaxis": "x",
         "y": [
          0.5704974948318849,
          6.2068860015374465,
          2.479355869803273,
          -1.028513778625197,
          2.091714585198565,
          -7.4814507586461945,
          0.2004456623202457,
          -0.12868116076467992,
          -3.8852941677611086
         ],
         "yaxis": "y"
        },
        {
         "hovertemplate": "color=458<br>symbol=458<br>x=%{x}<br>y=%{y}<extra></extra>",
         "legendgroup": "458, 458",
         "marker": {
          "color": "#ab63fa",
          "opacity": 0.3,
          "symbol": "x"
         },
         "mode": "markers",
         "name": "458, 458",
         "showlegend": true,
         "type": "scattergl",
         "x": [
          4.590653952352436,
          2.331611942709172,
          1.4792606975815452,
          2.077394961965109,
          3.516305501134821,
          5.02047270862687,
          2.9412086817235066,
          2.0608714563263115,
          2.3138494254044955,
          4.3804237078524,
          3.7366281944557223,
          2.6781026682637235
         ],
         "xaxis": "x",
         "y": [
          -9.453075332635388,
          -11.828166526663098,
          -3.8361530633958485,
          -9.33295421305329,
          -2.076662503304573,
          -7.768425451644839,
          -12.349924164564584,
          -4.8020422086531935,
          -8.088014194638102,
          -10.628926347547788,
          -7.234203784593329,
          -7.534961317870839
         ],
         "yaxis": "y"
        },
        {
         "hovertemplate": "color=132<br>symbol=132<br>x=%{x}<br>y=%{y}<extra></extra>",
         "legendgroup": "132, 132",
         "marker": {
          "color": "#FFA15A",
          "opacity": 0.3,
          "symbol": "cross"
         },
         "mode": "markers",
         "name": "132, 132",
         "showlegend": true,
         "type": "scattergl",
         "x": [
          5.649535754833203,
          5.8363946699743705,
          5.772726212298904,
          6.740885952409439,
          5.157049758237528
         ],
         "xaxis": "x",
         "y": [
          1.2479016545779777,
          2.81418388822747,
          -1.2444130573577692,
          3.4432189111262077,
          -4.481486093387833
         ],
         "yaxis": "y"
        },
        {
         "hovertemplate": "color=172<br>symbol=172<br>x=%{x}<br>y=%{y}<extra></extra>",
         "legendgroup": "172, 172",
         "marker": {
          "color": "#19d3f3",
          "opacity": 0.3,
          "symbol": "circle"
         },
         "mode": "markers",
         "name": "172, 172",
         "showlegend": true,
         "type": "scattergl",
         "x": [
          -3.2947538485155246
         ],
         "xaxis": "x",
         "y": [
          -1.8047132274670243
         ],
         "yaxis": "y"
        },
        {
         "hovertemplate": "color=20<br>symbol=20<br>x=%{x}<br>y=%{y}<extra></extra>",
         "legendgroup": "20, 20",
         "marker": {
          "color": "#FF6692",
          "opacity": 0.3,
          "symbol": "diamond"
         },
         "mode": "markers",
         "name": "20, 20",
         "showlegend": true,
         "type": "scattergl",
         "x": [
          3.3880441402479726,
          0.748454554972253
         ],
         "xaxis": "x",
         "y": [
          1.8038877131625013,
          -4.03622495501818
         ],
         "yaxis": "y"
        },
        {
         "hovertemplate": "color=184<br>symbol=184<br>x=%{x}<br>y=%{y}<extra></extra>",
         "legendgroup": "184, 184",
         "marker": {
          "color": "#B6E880",
          "opacity": 0.3,
          "symbol": "square"
         },
         "mode": "markers",
         "name": "184, 184",
         "showlegend": true,
         "type": "scattergl",
         "x": [
          18.759519500283158
         ],
         "xaxis": "x",
         "y": [
          16.584165796916615
         ],
         "yaxis": "y"
        },
        {
         "hovertemplate": "color=213<br>symbol=213<br>x=%{x}<br>y=%{y}<extra></extra>",
         "legendgroup": "213, 213",
         "marker": {
          "color": "#FF97FF",
          "opacity": 0.3,
          "symbol": "x"
         },
         "mode": "markers",
         "name": "213, 213",
         "showlegend": true,
         "type": "scattergl",
         "x": [
          -7.967652917409787,
          1.3253317763595798,
          -4.983213245051532,
          -1.932313927789963
         ],
         "xaxis": "x",
         "y": [
          2.463328340732034,
          6.711486280211607,
          8.450898032447835,
          3.218227294525799
         ],
         "yaxis": "y"
        },
        {
         "hovertemplate": "color=25<br>symbol=25<br>x=%{x}<br>y=%{y}<extra></extra>",
         "legendgroup": "25, 25",
         "marker": {
          "color": "#FECB52",
          "opacity": 0.3,
          "symbol": "cross"
         },
         "mode": "markers",
         "name": "25, 25",
         "showlegend": true,
         "type": "scattergl",
         "x": [
          2.256127345367805,
          -0.5200281992551967,
          0.8964134163314614,
          -1.0630641074863247,
          -4.500648436911829
         ],
         "xaxis": "x",
         "y": [
          2.2604514855451394,
          -3.7524590962870645,
          -1.2082716558504925,
          1.262024271860023,
          0.6501368915394258
         ],
         "yaxis": "y"
        },
        {
         "hovertemplate": "color=309<br>symbol=309<br>x=%{x}<br>y=%{y}<extra></extra>",
         "legendgroup": "309, 309",
         "marker": {
          "color": "#636efa",
          "opacity": 0.3,
          "symbol": "circle"
         },
         "mode": "markers",
         "name": "309, 309",
         "showlegend": true,
         "type": "scattergl",
         "x": [
          -1.4948508589242295,
          -2.516673191391611,
          -2.3401821124681375,
          -4.554492268576502
         ],
         "xaxis": "x",
         "y": [
          1.0070385830081912,
          2.393754490499437,
          2.8336520494394093,
          1.7641719228811177
         ],
         "yaxis": "y"
        },
        {
         "hovertemplate": "color=251<br>symbol=251<br>x=%{x}<br>y=%{y}<extra></extra>",
         "legendgroup": "251, 251",
         "marker": {
          "color": "#EF553B",
          "opacity": 0.3,
          "symbol": "diamond"
         },
         "mode": "markers",
         "name": "251, 251",
         "showlegend": true,
         "type": "scattergl",
         "x": [
          0.12778948961916234,
          -0.6126106597268263,
          0.9848522807718028,
          2.4946655546364793,
          -0.4942422522988699,
          -2.814431895082962,
          3.2693739397200736,
          4.088302214675257,
          6.234643002524122,
          -2.084402272186163,
          0.042339777452716214,
          -1.041325509167847,
          -4.094189511936361
         ],
         "xaxis": "x",
         "y": [
          5.085089176054238,
          7.952982092236193,
          5.503071114708774,
          3.7509124813114547,
          5.305005215022302,
          5.830464815881393,
          2.4039891412700034,
          3.416570622608543,
          4.7559721113206,
          5.1221748607786655,
          6.641396302103652,
          4.829613177359815,
          7.023285691195536
         ],
         "yaxis": "y"
        },
        {
         "hovertemplate": "color=265<br>symbol=265<br>x=%{x}<br>y=%{y}<extra></extra>",
         "legendgroup": "265, 265",
         "marker": {
          "color": "#00cc96",
          "opacity": 0.3,
          "symbol": "square"
         },
         "mode": "markers",
         "name": "265, 265",
         "showlegend": true,
         "type": "scattergl",
         "x": [
          -3.030361831316339,
          -6.230370589353807,
          -4.93036497134464,
          -3.1800013014925512,
          -6.229766316270002,
          1.8429363944502468,
          -1.7959484312690435,
          -2.039718849714986,
          -2.1340097644682094,
          -7.0420182381667855,
          -5.712556048994867,
          -0.4359509752924415,
          -0.5689431249122445,
          5.29476897550199,
          9.35313434976541,
          -1.9397014067191436,
          -2.676983791031622,
          -0.6878549594592458,
          -1.3171679626375876,
          -2.913620590982943,
          -3.708292935543562,
          0.5967032142832619,
          -0.45573071141438054,
          -1.9007458822144474,
          3.1996870987990005,
          0.5971352301566747,
          -0.38115501411953623,
          0.07011541340935853,
          -1.8475907305381252,
          4.122086615879209,
          -2.6236848132399895,
          0.03724415319407678,
          -5.240087185829499,
          -3.930519991691672,
          -3.970019558416337,
          -2.461319786508379,
          8.30249126570671,
          0.5311422172515895,
          -0.25571584366461986,
          -2.34931319172593
         ],
         "xaxis": "x",
         "y": [
          7.678422749110374,
          1.0269042752616606,
          4.562054600118083,
          -5.7619032236856595,
          1.9845395956324576,
          5.644948427010147,
          1.3210171461912958,
          4.738114124500267,
          -5.713480616702515,
          1.168746572605586,
          2.688187648732624,
          5.483367415504402,
          -0.9846409590957808,
          2.2303714750163826,
          1.946223334185622,
          6.125264231876416,
          6.807256131983233,
          4.50069055072838,
          3.1492758632926465,
          -1.9065560631154777,
          3.806540498165347,
          3.393640941929532,
          5.107888822452264,
          -2.381536871639933,
          2.959743237417968,
          4.773092361385226,
          0.30040073292265884,
          1.8934512930338332,
          3.708074111296831,
          7.226259557652736,
          4.615337653572509,
          1.9243573416655735,
          4.595664289423768,
          -3.3203398241373123,
          4.197789863727062,
          2.425001435568873,
          5.275492977702691,
          3.6018605070991128,
          4.168208616909146,
          4.7430390908442135
         ],
         "yaxis": "y"
        },
        {
         "hovertemplate": "color=371<br>symbol=371<br>x=%{x}<br>y=%{y}<extra></extra>",
         "legendgroup": "371, 371",
         "marker": {
          "color": "#ab63fa",
          "opacity": 0.3,
          "symbol": "x"
         },
         "mode": "markers",
         "name": "371, 371",
         "showlegend": true,
         "type": "scattergl",
         "x": [
          -0.09564915034560326,
          2.0356171998792076,
          3.561435529240982
         ],
         "xaxis": "x",
         "y": [
          -1.6671070832966541,
          2.500339953915891,
          2.2174005353149315
         ],
         "yaxis": "y"
        },
        {
         "hovertemplate": "color=316<br>symbol=316<br>x=%{x}<br>y=%{y}<extra></extra>",
         "legendgroup": "316, 316",
         "marker": {
          "color": "#FFA15A",
          "opacity": 0.3,
          "symbol": "cross"
         },
         "mode": "markers",
         "name": "316, 316",
         "showlegend": true,
         "type": "scattergl",
         "x": [
          0.09252503290589932
         ],
         "xaxis": "x",
         "y": [
          -4.711364711250192
         ],
         "yaxis": "y"
        },
        {
         "hovertemplate": "color=127<br>symbol=127<br>x=%{x}<br>y=%{y}<extra></extra>",
         "legendgroup": "127, 127",
         "marker": {
          "color": "#19d3f3",
          "opacity": 0.3,
          "symbol": "circle"
         },
         "mode": "markers",
         "name": "127, 127",
         "showlegend": true,
         "type": "scattergl",
         "x": [
          -2.503416267334742,
          1.508512259399878,
          0.9711371441195189,
          3.014971858263384,
          3.781828669323957,
          -3.0853120091816058,
          8.899095220633901
         ],
         "xaxis": "x",
         "y": [
          -6.911301664892617,
          -1.8361316492214286,
          3.094546619197846,
          0.7185489638662785,
          0.3659522954375163,
          -0.9847936024128617,
          -0.7440762239662038
         ],
         "yaxis": "y"
        },
        {
         "hovertemplate": "color=221<br>symbol=221<br>x=%{x}<br>y=%{y}<extra></extra>",
         "legendgroup": "221, 221",
         "marker": {
          "color": "#FF6692",
          "opacity": 0.3,
          "symbol": "diamond"
         },
         "mode": "markers",
         "name": "221, 221",
         "showlegend": true,
         "type": "scattergl",
         "x": [
          10.399877333014068,
          12.454638821338985,
          11.238933343539577,
          10.382651372264661,
          8.446622017347538,
          8.889735425408196,
          7.673493114920012
         ],
         "xaxis": "x",
         "y": [
          -1.1213801005177069,
          2.3672651388447394,
          1.4079408050774003,
          2.047339523528763,
          1.3566066363141438,
          0.6879864789401868,
          1.4618805382905904
         ],
         "yaxis": "y"
        },
        {
         "hovertemplate": "color=288<br>symbol=288<br>x=%{x}<br>y=%{y}<extra></extra>",
         "legendgroup": "288, 288",
         "marker": {
          "color": "#B6E880",
          "opacity": 0.3,
          "symbol": "square"
         },
         "mode": "markers",
         "name": "288, 288",
         "showlegend": true,
         "type": "scattergl",
         "x": [
          1.6470348071588317
         ],
         "xaxis": "x",
         "y": [
          -4.611821833134833
         ],
         "yaxis": "y"
        },
        {
         "hovertemplate": "color=285<br>symbol=285<br>x=%{x}<br>y=%{y}<extra></extra>",
         "legendgroup": "285, 285",
         "marker": {
          "color": "#FF97FF",
          "opacity": 0.3,
          "symbol": "x"
         },
         "mode": "markers",
         "name": "285, 285",
         "showlegend": true,
         "type": "scattergl",
         "x": [
          4.289032131675864,
          0.1533620935506448,
          0.8868294490898149,
          2.0754272222033374,
          5.212822277164739,
          0.6254254702724972,
          4.041611810878752,
          -0.09493833219628418,
          7.011356217009684,
          0.985885463924546,
          8.31606338375975
         ],
         "xaxis": "x",
         "y": [
          0.7245932962721219,
          0.3799362541778478,
          -1.1378407946325684,
          -0.6655732340685643,
          -2.9770862645550267,
          3.6638665515800493,
          -0.5112855281006244,
          2.339909168173352,
          -1.8526753428567033,
          -0.45055628912994006,
          -0.3137291876757567
         ],
         "yaxis": "y"
        },
        {
         "hovertemplate": "color=391<br>symbol=391<br>x=%{x}<br>y=%{y}<extra></extra>",
         "legendgroup": "391, 391",
         "marker": {
          "color": "#FECB52",
          "opacity": 0.3,
          "symbol": "cross"
         },
         "mode": "markers",
         "name": "391, 391",
         "showlegend": true,
         "type": "scattergl",
         "x": [
          -5.664468906458032,
          -3.376534654577247,
          -4.1229760049281,
          -3.3957290530900424,
          -4.229316407127235,
          -2.9419312714740227,
          -5.806700903796158,
          -2.6666039496914262
         ],
         "xaxis": "x",
         "y": [
          -0.35393433810980285,
          5.152840474521232,
          5.096974679242953,
          5.33911112796658,
          2.7834837953652483,
          5.067652665601629,
          6.6180571259316405,
          5.900700919751009
         ],
         "yaxis": "y"
        },
        {
         "hovertemplate": "color=226<br>symbol=226<br>x=%{x}<br>y=%{y}<extra></extra>",
         "legendgroup": "226, 226",
         "marker": {
          "color": "#636efa",
          "opacity": 0.3,
          "symbol": "circle"
         },
         "mode": "markers",
         "name": "226, 226",
         "showlegend": true,
         "type": "scattergl",
         "x": [
          19.326991146894237,
          19.30751495348782,
          19.310458869557348,
          19.297244949810228,
          19.29991340043751,
          19.29744828371071,
          19.311449513493255,
          19.32671720409382,
          19.327435830026115
         ],
         "xaxis": "x",
         "y": [
          12.805898315161933,
          12.924254447967698,
          12.906364374993808,
          12.98666489408593,
          12.970448814781484,
          12.985429241223658,
          12.900344267121834,
          12.807563055791201,
          12.80319599162705
         ],
         "yaxis": "y"
        },
        {
         "hovertemplate": "color=305<br>symbol=305<br>x=%{x}<br>y=%{y}<extra></extra>",
         "legendgroup": "305, 305",
         "marker": {
          "color": "#EF553B",
          "opacity": 0.3,
          "symbol": "diamond"
         },
         "mode": "markers",
         "name": "305, 305",
         "showlegend": true,
         "type": "scattergl",
         "x": [
          4.874221928257256,
          0.5962877322994142,
          -0.05890989866478074,
          -1.3610595965894068
         ],
         "xaxis": "x",
         "y": [
          0.8909905039979686,
          -2.9466300615838303,
          -1.0958312420806113,
          -4.2451374209829975
         ],
         "yaxis": "y"
        },
        {
         "hovertemplate": "color=303<br>symbol=303<br>x=%{x}<br>y=%{y}<extra></extra>",
         "legendgroup": "303, 303",
         "marker": {
          "color": "#00cc96",
          "opacity": 0.3,
          "symbol": "square"
         },
         "mode": "markers",
         "name": "303, 303",
         "showlegend": true,
         "type": "scattergl",
         "x": [
          -5.979455390834961,
          -5.405263576504999,
          -1.687531197730112,
          -0.6675322926955084,
          1.6961310542059682,
          -2.4594868188310812,
          -2.351701142382632,
          -0.6600776298293807,
          -0.40137161431024004,
          -1.5086079740299372,
          -1.999265842197561,
          -5.243506900857575,
          -3.434900344337641,
          -3.647125663323088
         ],
         "xaxis": "x",
         "y": [
          1.6374744785501527,
          0.5622878934681862,
          2.745447207591077,
          3.538068551258137,
          0.6533315314283383,
          3.4604909818498277,
          2.9835234498824517,
          -0.07967115283126727,
          3.779637472064622,
          3.9837165768902345,
          3.8071163686348766,
          4.885492073063412,
          3.9304808824954462,
          1.9075775621037758
         ],
         "yaxis": "y"
        },
        {
         "hovertemplate": "color=360<br>symbol=360<br>x=%{x}<br>y=%{y}<extra></extra>",
         "legendgroup": "360, 360",
         "marker": {
          "color": "#ab63fa",
          "opacity": 0.3,
          "symbol": "x"
         },
         "mode": "markers",
         "name": "360, 360",
         "showlegend": true,
         "type": "scattergl",
         "x": [
          10.691755827205997,
          7.885548510237323,
          11.856518123336727
         ],
         "xaxis": "x",
         "y": [
          0.8518693368385208,
          3.869336260131593,
          5.870951186028478
         ],
         "yaxis": "y"
        },
        {
         "hovertemplate": "color=134<br>symbol=134<br>x=%{x}<br>y=%{y}<extra></extra>",
         "legendgroup": "134, 134",
         "marker": {
          "color": "#FFA15A",
          "opacity": 0.3,
          "symbol": "cross"
         },
         "mode": "markers",
         "name": "134, 134",
         "showlegend": true,
         "type": "scattergl",
         "x": [
          0.603853513810738,
          3.509056476980007
         ],
         "xaxis": "x",
         "y": [
          -3.299189490227458,
          -4.975155070699963
         ],
         "yaxis": "y"
        },
        {
         "hovertemplate": "color=91<br>symbol=91<br>x=%{x}<br>y=%{y}<extra></extra>",
         "legendgroup": "91, 91",
         "marker": {
          "color": "#19d3f3",
          "opacity": 0.3,
          "symbol": "circle"
         },
         "mode": "markers",
         "name": "91, 91",
         "showlegend": true,
         "type": "scattergl",
         "x": [
          5.38441023726869
         ],
         "xaxis": "x",
         "y": [
          -1.0904938540105047
         ],
         "yaxis": "y"
        },
        {
         "hovertemplate": "color=380<br>symbol=380<br>x=%{x}<br>y=%{y}<extra></extra>",
         "legendgroup": "380, 380",
         "marker": {
          "color": "#FF6692",
          "opacity": 0.3,
          "symbol": "diamond"
         },
         "mode": "markers",
         "name": "380, 380",
         "showlegend": true,
         "type": "scattergl",
         "x": [
          5.3285341121141165,
          4.966338481759097,
          -3.439848597380697
         ],
         "xaxis": "x",
         "y": [
          4.933780669908697,
          -1.4049436430777282,
          -1.0004005354614
         ],
         "yaxis": "y"
        },
        {
         "hovertemplate": "color=273<br>symbol=273<br>x=%{x}<br>y=%{y}<extra></extra>",
         "legendgroup": "273, 273",
         "marker": {
          "color": "#B6E880",
          "opacity": 0.3,
          "symbol": "square"
         },
         "mode": "markers",
         "name": "273, 273",
         "showlegend": true,
         "type": "scattergl",
         "x": [
          -3.0316978077545755,
          -0.9865146179138372,
          -3.300349488900235,
          -5.101572318478745,
          -3.344424707283599,
          0.5811831295685742,
          -0.2979688568101652,
          -2.2742138098528746,
          -3.9472751429878463,
          0.3623920018142969,
          1.624934746290722,
          -3.4883021593020174,
          -6.592147265735093,
          -1.4809863465597917,
          -1.7425748003264228,
          -4.506351975146434
         ],
         "xaxis": "x",
         "y": [
          4.125066862920068,
          4.147267149710534,
          3.5072954954350473,
          0.6145109617393654,
          3.9299850899472353,
          1.696202875487455,
          6.139301635311018,
          5.082330995440612,
          5.634926485016373,
          1.3084470107554698,
          3.9808102214548633,
          2.4366924435393127,
          3.9852338467297774,
          3.6943433906565355,
          5.877845315758514,
          3.432943519500326
         ],
         "yaxis": "y"
        },
        {
         "hovertemplate": "color=216<br>symbol=216<br>x=%{x}<br>y=%{y}<extra></extra>",
         "legendgroup": "216, 216",
         "marker": {
          "color": "#FF97FF",
          "opacity": 0.3,
          "symbol": "x"
         },
         "mode": "markers",
         "name": "216, 216",
         "showlegend": true,
         "type": "scattergl",
         "x": [
          2.522789563803038,
          9.902242501158213,
          12.255989696020238,
          10.184248273601739,
          8.82368345799767,
          7.6028484786319
         ],
         "xaxis": "x",
         "y": [
          3.5485381147118513,
          0.439584941854621,
          -0.044071944546684914,
          -1.7601293780111782,
          1.466579450728824,
          1.4579145572110208
         ],
         "yaxis": "y"
        },
        {
         "hovertemplate": "color=402<br>symbol=402<br>x=%{x}<br>y=%{y}<extra></extra>",
         "legendgroup": "402, 402",
         "marker": {
          "color": "#FECB52",
          "opacity": 0.3,
          "symbol": "cross"
         },
         "mode": "markers",
         "name": "402, 402",
         "showlegend": true,
         "type": "scattergl",
         "x": [
          5.097153825088891,
          3.8786751232939216
         ],
         "xaxis": "x",
         "y": [
          -0.2774727360076606,
          -4.47524872427337
         ],
         "yaxis": "y"
        },
        {
         "hovertemplate": "color=418<br>symbol=418<br>x=%{x}<br>y=%{y}<extra></extra>",
         "legendgroup": "418, 418",
         "marker": {
          "color": "#636efa",
          "opacity": 0.3,
          "symbol": "circle"
         },
         "mode": "markers",
         "name": "418, 418",
         "showlegend": true,
         "type": "scattergl",
         "x": [
          0.814210361710271,
          3.7118905469215595,
          3.893098241345251,
          -3.7393194522252844,
          -2.046174867273294,
          -3.5428806757709483,
          1.6348232065415482,
          -5.8790672522246235,
          3.5351798820014455,
          -3.3453527046567584,
          -1.0994718672208923,
          3.1005841911576426,
          0.40774047069567776,
          -5.1575973580925325,
          -4.062742536151098,
          2.3690509765096266,
          -3.6009108576862414,
          -1.9823423043538502,
          -2.2550042874588057,
          4.839820083193564,
          3.83583672624407,
          -2.274949058000138,
          2.859196937162352,
          -0.16935606890360988,
          -5.560638137845011,
          0.4736801809727428,
          -1.8912463747046875
         ],
         "xaxis": "x",
         "y": [
          -2.3462057167000614,
          4.421220203352682,
          -0.6653226141829575,
          -1.2839865761858007,
          2.5596522230190355,
          -1.1842184462221137,
          -3.9185761279965967,
          1.1062056895579024,
          -1.084947527702603,
          -4.292583397357246,
          -3.5018690943563104,
          -1.8393211060580446,
          0.30539790395933186,
          -4.575636780708832,
          4.61235721203863,
          2.533315178948899,
          1.9507240686252019,
          -3.1929715646771055,
          4.189897873858894,
          3.899298370243995,
          0.3949120415257512,
          -0.44424136784934076,
          -0.934118129649104,
          0.07448690151886439,
          4.836599598537845,
          -0.9987605486958674,
          -1.6890290003412514
         ],
         "yaxis": "y"
        },
        {
         "hovertemplate": "color=196<br>symbol=196<br>x=%{x}<br>y=%{y}<extra></extra>",
         "legendgroup": "196, 196",
         "marker": {
          "color": "#EF553B",
          "opacity": 0.3,
          "symbol": "diamond"
         },
         "mode": "markers",
         "name": "196, 196",
         "showlegend": true,
         "type": "scattergl",
         "x": [
          17.760715034697633
         ],
         "xaxis": "x",
         "y": [
          14.900852595247635
         ],
         "yaxis": "y"
        },
        {
         "hovertemplate": "color=325<br>symbol=325<br>x=%{x}<br>y=%{y}<extra></extra>",
         "legendgroup": "325, 325",
         "marker": {
          "color": "#00cc96",
          "opacity": 0.3,
          "symbol": "square"
         },
         "mode": "markers",
         "name": "325, 325",
         "showlegend": true,
         "type": "scattergl",
         "x": [
          5.4826764278993965,
          5.982625588277018,
          2.9146116801612583,
          7.629049994908932,
          10.613571689018746,
          9.25215966375088,
          5.323087087484309,
          4.404333937389273,
          5.298544997105104,
          6.835027889032512,
          5.767934578900001,
          1.4693071745439052,
          4.6919775286509315,
          5.185448064178833,
          1.220008233834418,
          2.0157055252741483,
          6.740535104967272,
          9.778224432236254
         ],
         "xaxis": "x",
         "y": [
          2.921355769603545,
          -7.789599586996419,
          -7.811401325132433,
          0.7149235359295716,
          0.7944225959516191,
          2.0246038848178767,
          -7.431463895352555,
          -1.011895313932211,
          1.303965831068626,
          -8.565767782169653,
          -1.3451082410425235,
          -6.319867445273751,
          -7.0572174704899195,
          -8.419069425956272,
          -5.681694382607191,
          -6.0865924319263245,
          -0.5150445364746089,
          -0.22973105648530573
         ],
         "yaxis": "y"
        },
        {
         "hovertemplate": "color=240<br>symbol=240<br>x=%{x}<br>y=%{y}<extra></extra>",
         "legendgroup": "240, 240",
         "marker": {
          "color": "#ab63fa",
          "opacity": 0.3,
          "symbol": "x"
         },
         "mode": "markers",
         "name": "240, 240",
         "showlegend": true,
         "type": "scattergl",
         "x": [
          3.0422995634025383,
          0.07516410659167129
         ],
         "xaxis": "x",
         "y": [
          -0.6375306320469225,
          -5.295268050204556
         ],
         "yaxis": "y"
        },
        {
         "hovertemplate": "color=290<br>symbol=290<br>x=%{x}<br>y=%{y}<extra></extra>",
         "legendgroup": "290, 290",
         "marker": {
          "color": "#FFA15A",
          "opacity": 0.3,
          "symbol": "cross"
         },
         "mode": "markers",
         "name": "290, 290",
         "showlegend": true,
         "type": "scattergl",
         "x": [
          0.3360327831630237,
          4.501398593024717,
          -2.869279576974459,
          4.559339597128242,
          5.0725244198701445,
          1.1220445697358272,
          3.9748297952101654
         ],
         "xaxis": "x",
         "y": [
          2.3437344100313506,
          -0.10124798054641569,
          -5.356284313116206,
          -0.4068652704065815,
          -1.3077786780679228,
          -2.1423479071449445,
          -0.16567214159917315
         ],
         "yaxis": "y"
        },
        {
         "hovertemplate": "color=2<br>symbol=2<br>x=%{x}<br>y=%{y}<extra></extra>",
         "legendgroup": "2, 2",
         "marker": {
          "color": "#19d3f3",
          "opacity": 0.3,
          "symbol": "circle"
         },
         "mode": "markers",
         "name": "2, 2",
         "showlegend": true,
         "type": "scattergl",
         "x": [
          -3.4693331469863358,
          -0.1436590751638354,
          -1.868047751931122,
          -0.6007877885393085,
          -3.94220893482002,
          -0.3971266850850831,
          -1.5462685775228144,
          -3.2920351508322185,
          -1.4561539254947264,
          -0.4528922237570545
         ],
         "xaxis": "x",
         "y": [
          1.1955936208343734,
          3.686927712589059,
          1.0817938372818399,
          0.059268562159944235,
          0.9897479484704622,
          0.43365977286711177,
          3.7489090336528395,
          3.425308005458621,
          3.927280457441283,
          3.5528719182275976
         ],
         "yaxis": "y"
        },
        {
         "hovertemplate": "color=230<br>symbol=230<br>x=%{x}<br>y=%{y}<extra></extra>",
         "legendgroup": "230, 230",
         "marker": {
          "color": "#FF6692",
          "opacity": 0.3,
          "symbol": "diamond"
         },
         "mode": "markers",
         "name": "230, 230",
         "showlegend": true,
         "type": "scattergl",
         "x": [
          1.6410710604571188,
          2.694094938607974,
          -1.5670314152260285
         ],
         "xaxis": "x",
         "y": [
          0.8531194159937975,
          -1.339712722654257,
          -2.472032037969777
         ],
         "yaxis": "y"
        },
        {
         "hovertemplate": "color=17<br>symbol=17<br>x=%{x}<br>y=%{y}<extra></extra>",
         "legendgroup": "17, 17",
         "marker": {
          "color": "#B6E880",
          "opacity": 0.3,
          "symbol": "square"
         },
         "mode": "markers",
         "name": "17, 17",
         "showlegend": true,
         "type": "scattergl",
         "x": [
          -1.3919841284493895,
          -1.011249538729402
         ],
         "xaxis": "x",
         "y": [
          2.6720578946518687,
          -2.503756127006797
         ],
         "yaxis": "y"
        },
        {
         "hovertemplate": "color=422<br>symbol=422<br>x=%{x}<br>y=%{y}<extra></extra>",
         "legendgroup": "422, 422",
         "marker": {
          "color": "#FF97FF",
          "opacity": 0.3,
          "symbol": "x"
         },
         "mode": "markers",
         "name": "422, 422",
         "showlegend": true,
         "type": "scattergl",
         "x": [
          -1.30237494153174,
          1.593213331839023,
          5.605379556991667,
          2.526446511693225,
          5.3840697418973065
         ],
         "xaxis": "x",
         "y": [
          -3.0107087770345777,
          3.652232362337506,
          -2.157321569355747,
          4.7422818975251095,
          3.0970429939184516
         ],
         "yaxis": "y"
        },
        {
         "hovertemplate": "color=126<br>symbol=126<br>x=%{x}<br>y=%{y}<extra></extra>",
         "legendgroup": "126, 126",
         "marker": {
          "color": "#FECB52",
          "opacity": 0.3,
          "symbol": "cross"
         },
         "mode": "markers",
         "name": "126, 126",
         "showlegend": true,
         "type": "scattergl",
         "x": [
          6.990295701710709,
          11.31873187744925,
          10.408054019031203,
          6.786028849605582,
          8.699619680020303
         ],
         "xaxis": "x",
         "y": [
          -2.1659635899494147,
          -0.5884423810540949,
          4.203732491209925,
          0.8738813757622605,
          1.7969541458388365
         ],
         "yaxis": "y"
        },
        {
         "hovertemplate": "color=220<br>symbol=220<br>x=%{x}<br>y=%{y}<extra></extra>",
         "legendgroup": "220, 220",
         "marker": {
          "color": "#636efa",
          "opacity": 0.3,
          "symbol": "circle"
         },
         "mode": "markers",
         "name": "220, 220",
         "showlegend": true,
         "type": "scattergl",
         "x": [
          21.77654023123846
         ],
         "xaxis": "x",
         "y": [
          14.840357517574038
         ],
         "yaxis": "y"
        },
        {
         "hovertemplate": "color=276<br>symbol=276<br>x=%{x}<br>y=%{y}<extra></extra>",
         "legendgroup": "276, 276",
         "marker": {
          "color": "#EF553B",
          "opacity": 0.3,
          "symbol": "diamond"
         },
         "mode": "markers",
         "name": "276, 276",
         "showlegend": true,
         "type": "scattergl",
         "x": [
          10.656018963087252,
          4.2825913705912715,
          7.950391563960883,
          9.190539274595654,
          5.935134814069764
         ],
         "xaxis": "x",
         "y": [
          2.256065449100511,
          -0.17169765795417843,
          -3.414971178028869,
          -1.6168168059007548,
          0.2645122952296833
         ],
         "yaxis": "y"
        },
        {
         "hovertemplate": "color=63<br>symbol=63<br>x=%{x}<br>y=%{y}<extra></extra>",
         "legendgroup": "63, 63",
         "marker": {
          "color": "#00cc96",
          "opacity": 0.3,
          "symbol": "square"
         },
         "mode": "markers",
         "name": "63, 63",
         "showlegend": true,
         "type": "scattergl",
         "x": [
          8.633003612224119,
          10.617382413847132
         ],
         "xaxis": "x",
         "y": [
          0.13115455394145864,
          1.0670041263033556
         ],
         "yaxis": "y"
        },
        {
         "hovertemplate": "color=444<br>symbol=444<br>x=%{x}<br>y=%{y}<extra></extra>",
         "legendgroup": "444, 444",
         "marker": {
          "color": "#ab63fa",
          "opacity": 0.3,
          "symbol": "x"
         },
         "mode": "markers",
         "name": "444, 444",
         "showlegend": true,
         "type": "scattergl",
         "x": [
          3.4952888875079497
         ],
         "xaxis": "x",
         "y": [
          -8.54837973588675
         ],
         "yaxis": "y"
        },
        {
         "hovertemplate": "color=448<br>symbol=448<br>x=%{x}<br>y=%{y}<extra></extra>",
         "legendgroup": "448, 448",
         "marker": {
          "color": "#FFA15A",
          "opacity": 0.3,
          "symbol": "cross"
         },
         "mode": "markers",
         "name": "448, 448",
         "showlegend": true,
         "type": "scattergl",
         "x": [
          10.073790857995567,
          5.533914488503977,
          5.771611612529216,
          5.159164207845963,
          2.2529184527536295,
          3.5672776720854618,
          4.8749419624879895,
          4.466793590472345,
          5.614258398389353,
          5.35628956032315,
          7.948123309456631
         ],
         "xaxis": "x",
         "y": [
          -4.356927889758059,
          -5.009215276837175,
          -2.6479736077999916,
          -3.8898368695004675,
          -8.863757215741192,
          -8.175639950764994,
          -5.452315815993915,
          -9.621928323262628,
          -7.497709024699818,
          -3.0938654020679666,
          -1.383347913147642
         ],
         "yaxis": "y"
        },
        {
         "hovertemplate": "color=256<br>symbol=256<br>x=%{x}<br>y=%{y}<extra></extra>",
         "legendgroup": "256, 256",
         "marker": {
          "color": "#19d3f3",
          "opacity": 0.3,
          "symbol": "circle"
         },
         "mode": "markers",
         "name": "256, 256",
         "showlegend": true,
         "type": "scattergl",
         "x": [
          2.1033826892630945
         ],
         "xaxis": "x",
         "y": [
          4.040768433495863
         ],
         "yaxis": "y"
        },
        {
         "hovertemplate": "color=295<br>symbol=295<br>x=%{x}<br>y=%{y}<extra></extra>",
         "legendgroup": "295, 295",
         "marker": {
          "color": "#FF6692",
          "opacity": 0.3,
          "symbol": "diamond"
         },
         "mode": "markers",
         "name": "295, 295",
         "showlegend": true,
         "type": "scattergl",
         "x": [
          6.420816987043098,
          8.281756391917558,
          7.021538597613967,
          4.4106170066882395
         ],
         "xaxis": "x",
         "y": [
          -1.65874007892938,
          1.7648410196066826,
          -3.095707154737804,
          1.3185454487110562
         ],
         "yaxis": "y"
        },
        {
         "hovertemplate": "color=410<br>symbol=410<br>x=%{x}<br>y=%{y}<extra></extra>",
         "legendgroup": "410, 410",
         "marker": {
          "color": "#B6E880",
          "opacity": 0.3,
          "symbol": "square"
         },
         "mode": "markers",
         "name": "410, 410",
         "showlegend": true,
         "type": "scattergl",
         "x": [
          0.7691487405988093,
          4.840909151457394
         ],
         "xaxis": "x",
         "y": [
          -3.150925560097596,
          -0.5604654457270125
         ],
         "yaxis": "y"
        },
        {
         "hovertemplate": "color=277<br>symbol=277<br>x=%{x}<br>y=%{y}<extra></extra>",
         "legendgroup": "277, 277",
         "marker": {
          "color": "#FF97FF",
          "opacity": 0.3,
          "symbol": "x"
         },
         "mode": "markers",
         "name": "277, 277",
         "showlegend": true,
         "type": "scattergl",
         "x": [
          0.4858672334968384
         ],
         "xaxis": "x",
         "y": [
          -2.0605720247592707
         ],
         "yaxis": "y"
        },
        {
         "hovertemplate": "color=29<br>symbol=29<br>x=%{x}<br>y=%{y}<extra></extra>",
         "legendgroup": "29, 29",
         "marker": {
          "color": "#FECB52",
          "opacity": 0.3,
          "symbol": "cross"
         },
         "mode": "markers",
         "name": "29, 29",
         "showlegend": true,
         "type": "scattergl",
         "x": [
          -1.5695486161201688
         ],
         "xaxis": "x",
         "y": [
          -1.0972709243966559
         ],
         "yaxis": "y"
        },
        {
         "hovertemplate": "color=424<br>symbol=424<br>x=%{x}<br>y=%{y}<extra></extra>",
         "legendgroup": "424, 424",
         "marker": {
          "color": "#636efa",
          "opacity": 0.3,
          "symbol": "circle"
         },
         "mode": "markers",
         "name": "424, 424",
         "showlegend": true,
         "type": "scattergl",
         "x": [
          10.490423287364095
         ],
         "xaxis": "x",
         "y": [
          0.2510958669077443
         ],
         "yaxis": "y"
        },
        {
         "hovertemplate": "color=260<br>symbol=260<br>x=%{x}<br>y=%{y}<extra></extra>",
         "legendgroup": "260, 260",
         "marker": {
          "color": "#EF553B",
          "opacity": 0.3,
          "symbol": "diamond"
         },
         "mode": "markers",
         "name": "260, 260",
         "showlegend": true,
         "type": "scattergl",
         "x": [
          -2.096432532082456,
          4.031255836078317,
          8.186719686461874
         ],
         "xaxis": "x",
         "y": [
          6.717830185942416,
          2.4717175442848696,
          1.323487346941488
         ],
         "yaxis": "y"
        },
        {
         "hovertemplate": "color=245<br>symbol=245<br>x=%{x}<br>y=%{y}<extra></extra>",
         "legendgroup": "245, 245",
         "marker": {
          "color": "#00cc96",
          "opacity": 0.3,
          "symbol": "square"
         },
         "mode": "markers",
         "name": "245, 245",
         "showlegend": true,
         "type": "scattergl",
         "x": [
          0.21357433780190577
         ],
         "xaxis": "x",
         "y": [
          -1.7924750610012519
         ],
         "yaxis": "y"
        },
        {
         "hovertemplate": "color=394<br>symbol=394<br>x=%{x}<br>y=%{y}<extra></extra>",
         "legendgroup": "394, 394",
         "marker": {
          "color": "#ab63fa",
          "opacity": 0.3,
          "symbol": "x"
         },
         "mode": "markers",
         "name": "394, 394",
         "showlegend": true,
         "type": "scattergl",
         "x": [
          -4.187074677668522
         ],
         "xaxis": "x",
         "y": [
          0.07405393662193774
         ],
         "yaxis": "y"
        },
        {
         "hovertemplate": "color=329<br>symbol=329<br>x=%{x}<br>y=%{y}<extra></extra>",
         "legendgroup": "329, 329",
         "marker": {
          "color": "#FFA15A",
          "opacity": 0.3,
          "symbol": "cross"
         },
         "mode": "markers",
         "name": "329, 329",
         "showlegend": true,
         "type": "scattergl",
         "x": [
          4.390480998877343
         ],
         "xaxis": "x",
         "y": [
          -1.9973033728572596
         ],
         "yaxis": "y"
        },
        {
         "hovertemplate": "color=102<br>symbol=102<br>x=%{x}<br>y=%{y}<extra></extra>",
         "legendgroup": "102, 102",
         "marker": {
          "color": "#19d3f3",
          "opacity": 0.3,
          "symbol": "circle"
         },
         "mode": "markers",
         "name": "102, 102",
         "showlegend": true,
         "type": "scattergl",
         "x": [
          12.62107033107328,
          2.735686407925455,
          8.886129509422362,
          10.545174768025955
         ],
         "xaxis": "x",
         "y": [
          7.375531317425236,
          -4.788390399847034,
          2.053080404187004,
          5.1923273056397905
         ],
         "yaxis": "y"
        },
        {
         "hovertemplate": "color=74<br>symbol=74<br>x=%{x}<br>y=%{y}<extra></extra>",
         "legendgroup": "74, 74",
         "marker": {
          "color": "#FF6692",
          "opacity": 0.3,
          "symbol": "diamond"
         },
         "mode": "markers",
         "name": "74, 74",
         "showlegend": true,
         "type": "scattergl",
         "x": [
          6.261260334688022
         ],
         "xaxis": "x",
         "y": [
          -2.1235615254688964
         ],
         "yaxis": "y"
        },
        {
         "hovertemplate": "color=408<br>symbol=408<br>x=%{x}<br>y=%{y}<extra></extra>",
         "legendgroup": "408, 408",
         "marker": {
          "color": "#B6E880",
          "opacity": 0.3,
          "symbol": "square"
         },
         "mode": "markers",
         "name": "408, 408",
         "showlegend": true,
         "type": "scattergl",
         "x": [
          13.628878494455629
         ],
         "xaxis": "x",
         "y": [
          3.8548080760195065
         ],
         "yaxis": "y"
        },
        {
         "hovertemplate": "color=396<br>symbol=396<br>x=%{x}<br>y=%{y}<extra></extra>",
         "legendgroup": "396, 396",
         "marker": {
          "color": "#FF97FF",
          "opacity": 0.3,
          "symbol": "x"
         },
         "mode": "markers",
         "name": "396, 396",
         "showlegend": true,
         "type": "scattergl",
         "x": [
          -7.3847899051452535,
          -1.5102600355814562,
          -5.53803145963335
         ],
         "xaxis": "x",
         "y": [
          -3.3718704756592546,
          2.4784261717749247,
          1.5683952055825534
         ],
         "yaxis": "y"
        },
        {
         "hovertemplate": "color=129<br>symbol=129<br>x=%{x}<br>y=%{y}<extra></extra>",
         "legendgroup": "129, 129",
         "marker": {
          "color": "#FECB52",
          "opacity": 0.3,
          "symbol": "cross"
         },
         "mode": "markers",
         "name": "129, 129",
         "showlegend": true,
         "type": "scattergl",
         "x": [
          5.194318065972731,
          5.622026941009896
         ],
         "xaxis": "x",
         "y": [
          -1.36188139821262,
          -1.4996340191759718
         ],
         "yaxis": "y"
        },
        {
         "hovertemplate": "color=82<br>symbol=82<br>x=%{x}<br>y=%{y}<extra></extra>",
         "legendgroup": "82, 82",
         "marker": {
          "color": "#636efa",
          "opacity": 0.3,
          "symbol": "circle"
         },
         "mode": "markers",
         "name": "82, 82",
         "showlegend": true,
         "type": "scattergl",
         "x": [
          -0.21124251274864944,
          7.564140815934366
         ],
         "xaxis": "x",
         "y": [
          2.4877321338458342,
          2.2512866689461486
         ],
         "yaxis": "y"
        },
        {
         "hovertemplate": "color=163<br>symbol=163<br>x=%{x}<br>y=%{y}<extra></extra>",
         "legendgroup": "163, 163",
         "marker": {
          "color": "#EF553B",
          "opacity": 0.3,
          "symbol": "diamond"
         },
         "mode": "markers",
         "name": "163, 163",
         "showlegend": true,
         "type": "scattergl",
         "x": [
          -5.958931596914651,
          -3.079131662180348,
          -3.559149332135309
         ],
         "xaxis": "x",
         "y": [
          1.8836449779618878,
          -2.42164984147197,
          -0.9120978237287636
         ],
         "yaxis": "y"
        },
        {
         "hovertemplate": "color=403<br>symbol=403<br>x=%{x}<br>y=%{y}<extra></extra>",
         "legendgroup": "403, 403",
         "marker": {
          "color": "#00cc96",
          "opacity": 0.3,
          "symbol": "square"
         },
         "mode": "markers",
         "name": "403, 403",
         "showlegend": true,
         "type": "scattergl",
         "x": [
          14.707669301080491,
          13.397198451981614,
          1.6805247807901107,
          0.7045954034660423
         ],
         "xaxis": "x",
         "y": [
          10.34464280232043,
          5.041018366126921,
          -4.686656731310738,
          -0.16724088336326146
         ],
         "yaxis": "y"
        },
        {
         "hovertemplate": "color=16<br>symbol=16<br>x=%{x}<br>y=%{y}<extra></extra>",
         "legendgroup": "16, 16",
         "marker": {
          "color": "#ab63fa",
          "opacity": 0.3,
          "symbol": "x"
         },
         "mode": "markers",
         "name": "16, 16",
         "showlegend": true,
         "type": "scattergl",
         "x": [
          -1.3734800033367118
         ],
         "xaxis": "x",
         "y": [
          1.821848679886501
         ],
         "yaxis": "y"
        },
        {
         "hovertemplate": "color=337<br>symbol=337<br>x=%{x}<br>y=%{y}<extra></extra>",
         "legendgroup": "337, 337",
         "marker": {
          "color": "#FFA15A",
          "opacity": 0.3,
          "symbol": "cross"
         },
         "mode": "markers",
         "name": "337, 337",
         "showlegend": true,
         "type": "scattergl",
         "x": [
          7.063908747935744,
          1.8942193756488173,
          -0.14936768195237488,
          4.744418663877869
         ],
         "xaxis": "x",
         "y": [
          2.7766229505765105,
          -1.5347254275629931,
          0.3966633232751924,
          0.9686920021298504
         ],
         "yaxis": "y"
        },
        {
         "hovertemplate": "color=411<br>symbol=411<br>x=%{x}<br>y=%{y}<extra></extra>",
         "legendgroup": "411, 411",
         "marker": {
          "color": "#19d3f3",
          "opacity": 0.3,
          "symbol": "circle"
         },
         "mode": "markers",
         "name": "411, 411",
         "showlegend": true,
         "type": "scattergl",
         "x": [
          5.7491059688474975
         ],
         "xaxis": "x",
         "y": [
          -6.762724195486123
         ],
         "yaxis": "y"
        },
        {
         "hovertemplate": "color=123<br>symbol=123<br>x=%{x}<br>y=%{y}<extra></extra>",
         "legendgroup": "123, 123",
         "marker": {
          "color": "#FF6692",
          "opacity": 0.3,
          "symbol": "diamond"
         },
         "mode": "markers",
         "name": "123, 123",
         "showlegend": true,
         "type": "scattergl",
         "x": [
          5.125033574431061,
          7.633346288823908
         ],
         "xaxis": "x",
         "y": [
          -2.475334261073719,
          0.139891931220074
         ],
         "yaxis": "y"
        },
        {
         "hovertemplate": "color=4<br>symbol=4<br>x=%{x}<br>y=%{y}<extra></extra>",
         "legendgroup": "4, 4",
         "marker": {
          "color": "#B6E880",
          "opacity": 0.3,
          "symbol": "square"
         },
         "mode": "markers",
         "name": "4, 4",
         "showlegend": true,
         "type": "scattergl",
         "x": [
          10.26791555570845
         ],
         "xaxis": "x",
         "y": [
          4.924149152045195
         ],
         "yaxis": "y"
        },
        {
         "hovertemplate": "color=376<br>symbol=376<br>x=%{x}<br>y=%{y}<extra></extra>",
         "legendgroup": "376, 376",
         "marker": {
          "color": "#FF97FF",
          "opacity": 0.3,
          "symbol": "x"
         },
         "mode": "markers",
         "name": "376, 376",
         "showlegend": true,
         "type": "scattergl",
         "x": [
          -1.1295494056316875,
          1.9004526903896584
         ],
         "xaxis": "x",
         "y": [
          -1.7544158076806602,
          -4.801470691029212
         ],
         "yaxis": "y"
        },
        {
         "hovertemplate": "color=407<br>symbol=407<br>x=%{x}<br>y=%{y}<extra></extra>",
         "legendgroup": "407, 407",
         "marker": {
          "color": "#FECB52",
          "opacity": 0.3,
          "symbol": "cross"
         },
         "mode": "markers",
         "name": "407, 407",
         "showlegend": true,
         "type": "scattergl",
         "x": [
          -1.918892546652113
         ],
         "xaxis": "x",
         "y": [
          -2.7822191318769454
         ],
         "yaxis": "y"
        },
        {
         "hovertemplate": "color=339<br>symbol=339<br>x=%{x}<br>y=%{y}<extra></extra>",
         "legendgroup": "339, 339",
         "marker": {
          "color": "#636efa",
          "opacity": 0.3,
          "symbol": "circle"
         },
         "mode": "markers",
         "name": "339, 339",
         "showlegend": true,
         "type": "scattergl",
         "x": [
          6.999002537653887
         ],
         "xaxis": "x",
         "y": [
          -0.4328134827031843
         ],
         "yaxis": "y"
        },
        {
         "hovertemplate": "color=55<br>symbol=55<br>x=%{x}<br>y=%{y}<extra></extra>",
         "legendgroup": "55, 55",
         "marker": {
          "color": "#EF553B",
          "opacity": 0.3,
          "symbol": "diamond"
         },
         "mode": "markers",
         "name": "55, 55",
         "showlegend": true,
         "type": "scattergl",
         "x": [
          -2.5803630707278455
         ],
         "xaxis": "x",
         "y": [
          -2.8071448006685817
         ],
         "yaxis": "y"
        },
        {
         "hovertemplate": "color=64<br>symbol=64<br>x=%{x}<br>y=%{y}<extra></extra>",
         "legendgroup": "64, 64",
         "marker": {
          "color": "#00cc96",
          "opacity": 0.3,
          "symbol": "square"
         },
         "mode": "markers",
         "name": "64, 64",
         "showlegend": true,
         "type": "scattergl",
         "x": [
          3.62558029997259,
          12.443805050033982
         ],
         "xaxis": "x",
         "y": [
          -3.843327707237973,
          5.340339935268384
         ],
         "yaxis": "y"
        },
        {
         "hovertemplate": "color=320<br>symbol=320<br>x=%{x}<br>y=%{y}<extra></extra>",
         "legendgroup": "320, 320",
         "marker": {
          "color": "#ab63fa",
          "opacity": 0.3,
          "symbol": "x"
         },
         "mode": "markers",
         "name": "320, 320",
         "showlegend": true,
         "type": "scattergl",
         "x": [
          -5.931821731252414
         ],
         "xaxis": "x",
         "y": [
          4.112084852398341
         ],
         "yaxis": "y"
        },
        {
         "hovertemplate": "color=139<br>symbol=139<br>x=%{x}<br>y=%{y}<extra></extra>",
         "legendgroup": "139, 139",
         "marker": {
          "color": "#FFA15A",
          "opacity": 0.3,
          "symbol": "cross"
         },
         "mode": "markers",
         "name": "139, 139",
         "showlegend": true,
         "type": "scattergl",
         "x": [
          7.320944897433886
         ],
         "xaxis": "x",
         "y": [
          -3.3609816504154453
         ],
         "yaxis": "y"
        },
        {
         "hovertemplate": "color=372<br>symbol=372<br>x=%{x}<br>y=%{y}<extra></extra>",
         "legendgroup": "372, 372",
         "marker": {
          "color": "#19d3f3",
          "opacity": 0.3,
          "symbol": "circle"
         },
         "mode": "markers",
         "name": "372, 372",
         "showlegend": true,
         "type": "scattergl",
         "x": [
          3.315089295875448
         ],
         "xaxis": "x",
         "y": [
          0.05001744551945565
         ],
         "yaxis": "y"
        },
        {
         "hovertemplate": "color=36<br>symbol=36<br>x=%{x}<br>y=%{y}<extra></extra>",
         "legendgroup": "36, 36",
         "marker": {
          "color": "#FF6692",
          "opacity": 0.3,
          "symbol": "diamond"
         },
         "mode": "markers",
         "name": "36, 36",
         "showlegend": true,
         "type": "scattergl",
         "x": [
          7.869742740983761,
          8.98579127469361,
          4.874274719265724,
          8.719030397904508
         ],
         "xaxis": "x",
         "y": [
          2.2438761685548396,
          3.159117040974707,
          2.6469735231674503,
          0.8274997360332434
         ],
         "yaxis": "y"
        },
        {
         "hovertemplate": "color=187<br>symbol=187<br>x=%{x}<br>y=%{y}<extra></extra>",
         "legendgroup": "187, 187",
         "marker": {
          "color": "#B6E880",
          "opacity": 0.3,
          "symbol": "square"
         },
         "mode": "markers",
         "name": "187, 187",
         "showlegend": true,
         "type": "scattergl",
         "x": [
          11.272041755419519,
          9.437355764350976,
          6.320106237270056,
          11.038326139557928
         ],
         "xaxis": "x",
         "y": [
          4.188415598440452,
          2.2060195059425483,
          0.2347979172656644,
          1.3289512718821619
         ],
         "yaxis": "y"
        },
        {
         "hovertemplate": "color=344<br>symbol=344<br>x=%{x}<br>y=%{y}<extra></extra>",
         "legendgroup": "344, 344",
         "marker": {
          "color": "#FF97FF",
          "opacity": 0.3,
          "symbol": "x"
         },
         "mode": "markers",
         "name": "344, 344",
         "showlegend": true,
         "type": "scattergl",
         "x": [
          2.897880555135006
         ],
         "xaxis": "x",
         "y": [
          -7.706241822011809
         ],
         "yaxis": "y"
        },
        {
         "hovertemplate": "color=423<br>symbol=423<br>x=%{x}<br>y=%{y}<extra></extra>",
         "legendgroup": "423, 423",
         "marker": {
          "color": "#FECB52",
          "opacity": 0.3,
          "symbol": "cross"
         },
         "mode": "markers",
         "name": "423, 423",
         "showlegend": true,
         "type": "scattergl",
         "x": [
          3.1719886785757683
         ],
         "xaxis": "x",
         "y": [
          -3.1176563587874697
         ],
         "yaxis": "y"
        },
        {
         "hovertemplate": "color=355<br>symbol=355<br>x=%{x}<br>y=%{y}<extra></extra>",
         "legendgroup": "355, 355",
         "marker": {
          "color": "#636efa",
          "opacity": 0.3,
          "symbol": "circle"
         },
         "mode": "markers",
         "name": "355, 355",
         "showlegend": true,
         "type": "scattergl",
         "x": [
          15.143695778283075
         ],
         "xaxis": "x",
         "y": [
          15.42578711239082
         ],
         "yaxis": "y"
        },
        {
         "hovertemplate": "color=392<br>symbol=392<br>x=%{x}<br>y=%{y}<extra></extra>",
         "legendgroup": "392, 392",
         "marker": {
          "color": "#EF553B",
          "opacity": 0.3,
          "symbol": "diamond"
         },
         "mode": "markers",
         "name": "392, 392",
         "showlegend": true,
         "type": "scattergl",
         "x": [
          -7.504988675658255
         ],
         "xaxis": "x",
         "y": [
          4.507021226854912
         ],
         "yaxis": "y"
        },
        {
         "hovertemplate": "color=215<br>symbol=215<br>x=%{x}<br>y=%{y}<extra></extra>",
         "legendgroup": "215, 215",
         "marker": {
          "color": "#00cc96",
          "opacity": 0.3,
          "symbol": "square"
         },
         "mode": "markers",
         "name": "215, 215",
         "showlegend": true,
         "type": "scattergl",
         "x": [
          15.730342461246137,
          15.740646306163613
         ],
         "xaxis": "x",
         "y": [
          17.704841801992757,
          17.64222570386648
         ],
         "yaxis": "y"
        },
        {
         "hovertemplate": "color=328<br>symbol=328<br>x=%{x}<br>y=%{y}<extra></extra>",
         "legendgroup": "328, 328",
         "marker": {
          "color": "#ab63fa",
          "opacity": 0.3,
          "symbol": "x"
         },
         "mode": "markers",
         "name": "328, 328",
         "showlegend": true,
         "type": "scattergl",
         "x": [
          4.007802123236898,
          4.271278322538398
         ],
         "xaxis": "x",
         "y": [
          -6.806784017475154,
          -2.2811192068960477
         ],
         "yaxis": "y"
        },
        {
         "hovertemplate": "color=330<br>symbol=330<br>x=%{x}<br>y=%{y}<extra></extra>",
         "legendgroup": "330, 330",
         "marker": {
          "color": "#FFA15A",
          "opacity": 0.3,
          "symbol": "cross"
         },
         "mode": "markers",
         "name": "330, 330",
         "showlegend": true,
         "type": "scattergl",
         "x": [
          2.8054614367691073
         ],
         "xaxis": "x",
         "y": [
          -6.931881003685285
         ],
         "yaxis": "y"
        },
        {
         "hovertemplate": "color=374<br>symbol=374<br>x=%{x}<br>y=%{y}<extra></extra>",
         "legendgroup": "374, 374",
         "marker": {
          "color": "#19d3f3",
          "opacity": 0.3,
          "symbol": "circle"
         },
         "mode": "markers",
         "name": "374, 374",
         "showlegend": true,
         "type": "scattergl",
         "x": [
          2.1846106428344028
         ],
         "xaxis": "x",
         "y": [
          0.254205801418879
         ],
         "yaxis": "y"
        },
        {
         "hovertemplate": "color=176<br>symbol=176<br>x=%{x}<br>y=%{y}<extra></extra>",
         "legendgroup": "176, 176",
         "marker": {
          "color": "#FF6692",
          "opacity": 0.3,
          "symbol": "diamond"
         },
         "mode": "markers",
         "name": "176, 176",
         "showlegend": true,
         "type": "scattergl",
         "x": [
          -0.2814521697814834,
          1.0930128125521839,
          -1.2257877225856864
         ],
         "xaxis": "x",
         "y": [
          4.0929817835807025,
          7.44186509975107,
          5.615473844278875
         ],
         "yaxis": "y"
        },
        {
         "hovertemplate": "color=359<br>symbol=359<br>x=%{x}<br>y=%{y}<extra></extra>",
         "legendgroup": "359, 359",
         "marker": {
          "color": "#B6E880",
          "opacity": 0.3,
          "symbol": "square"
         },
         "mode": "markers",
         "name": "359, 359",
         "showlegend": true,
         "type": "scattergl",
         "x": [
          17.456924754204696
         ],
         "xaxis": "x",
         "y": [
          13.835499024874974
         ],
         "yaxis": "y"
        },
        {
         "hovertemplate": "color=42<br>symbol=42<br>x=%{x}<br>y=%{y}<extra></extra>",
         "legendgroup": "42, 42",
         "marker": {
          "color": "#FF97FF",
          "opacity": 0.3,
          "symbol": "x"
         },
         "mode": "markers",
         "name": "42, 42",
         "showlegend": true,
         "type": "scattergl",
         "x": [
          0.5254327273849051
         ],
         "xaxis": "x",
         "y": [
          -1.7853087723974856
         ],
         "yaxis": "y"
        },
        {
         "hovertemplate": "color=153<br>symbol=153<br>x=%{x}<br>y=%{y}<extra></extra>",
         "legendgroup": "153, 153",
         "marker": {
          "color": "#FECB52",
          "opacity": 0.3,
          "symbol": "cross"
         },
         "mode": "markers",
         "name": "153, 153",
         "showlegend": true,
         "type": "scattergl",
         "x": [
          6.81922354758666
         ],
         "xaxis": "x",
         "y": [
          0.08929844137819166
         ],
         "yaxis": "y"
        },
        {
         "hovertemplate": "color=105<br>symbol=105<br>x=%{x}<br>y=%{y}<extra></extra>",
         "legendgroup": "105, 105",
         "marker": {
          "color": "#636efa",
          "opacity": 0.3,
          "symbol": "circle"
         },
         "mode": "markers",
         "name": "105, 105",
         "showlegend": true,
         "type": "scattergl",
         "x": [
          -0.20958197750412275
         ],
         "xaxis": "x",
         "y": [
          6.079935258997105
         ],
         "yaxis": "y"
        },
        {
         "hovertemplate": "color=291<br>symbol=291<br>x=%{x}<br>y=%{y}<extra></extra>",
         "legendgroup": "291, 291",
         "marker": {
          "color": "#EF553B",
          "opacity": 0.3,
          "symbol": "diamond"
         },
         "mode": "markers",
         "name": "291, 291",
         "showlegend": true,
         "type": "scattergl",
         "x": [
          0.08828681834676101
         ],
         "xaxis": "x",
         "y": [
          -4.074842337455193
         ],
         "yaxis": "y"
        },
        {
         "hovertemplate": "color=259<br>symbol=259<br>x=%{x}<br>y=%{y}<extra></extra>",
         "legendgroup": "259, 259",
         "marker": {
          "color": "#00cc96",
          "opacity": 0.3,
          "symbol": "square"
         },
         "mode": "markers",
         "name": "259, 259",
         "showlegend": true,
         "type": "scattergl",
         "x": [
          2.177339504187024
         ],
         "xaxis": "x",
         "y": [
          2.1979372022643324
         ],
         "yaxis": "y"
        },
        {
         "hovertemplate": "color=27<br>symbol=27<br>x=%{x}<br>y=%{y}<extra></extra>",
         "legendgroup": "27, 27",
         "marker": {
          "color": "#ab63fa",
          "opacity": 0.3,
          "symbol": "x"
         },
         "mode": "markers",
         "name": "27, 27",
         "showlegend": true,
         "type": "scattergl",
         "x": [
          -2.7834464831461
         ],
         "xaxis": "x",
         "y": [
          -4.451289331223781
         ],
         "yaxis": "y"
        },
        {
         "hovertemplate": "color=32<br>symbol=32<br>x=%{x}<br>y=%{y}<extra></extra>",
         "legendgroup": "32, 32",
         "marker": {
          "color": "#FFA15A",
          "opacity": 0.3,
          "symbol": "cross"
         },
         "mode": "markers",
         "name": "32, 32",
         "showlegend": true,
         "type": "scattergl",
         "x": [
          0.2220566703350399
         ],
         "xaxis": "x",
         "y": [
          -6.158115681380746
         ],
         "yaxis": "y"
        },
        {
         "hovertemplate": "color=18<br>symbol=18<br>x=%{x}<br>y=%{y}<extra></extra>",
         "legendgroup": "18, 18",
         "marker": {
          "color": "#19d3f3",
          "opacity": 0.3,
          "symbol": "circle"
         },
         "mode": "markers",
         "name": "18, 18",
         "showlegend": true,
         "type": "scattergl",
         "x": [
          2.2614957219206917
         ],
         "xaxis": "x",
         "y": [
          -3.144716680142494
         ],
         "yaxis": "y"
        },
        {
         "marker": {
          "color": "green",
          "size": 30
         },
         "mode": "markers",
         "text": "User interest \n user_id: 5890 \n category_id: 331",
         "type": "scatter",
         "x": [
          1.013539582922424
         ],
         "y": [
          0.9542864986331838
         ]
        },
        {
         "marker": {
          "color": [
           0,
           1,
           2,
           3,
           4,
           5,
           6,
           7,
           8,
           9
          ],
          "size": 20
         },
         "mode": "markers",
         "text": [
          "rank: 0 / article_id: 111043 / category_id: 231",
          "rank: 1 / article_id: 183176 / category_id: 301",
          "rank: 2 / article_id: 168623 / category_id: 297",
          "rank: 3 / article_id: 348112 / category_id: 442",
          "rank: 4 / article_id: 63307 / category_id: 132",
          "rank: 5 / article_id: 224658 / category_id: 354",
          "rank: 6 / article_id: 199198 / category_id: 323",
          "rank: 7 / article_id: 123909 / category_id: 250",
          "rank: 8 / article_id: 234698 / category_id: 375",
          "rank: 9 / article_id: 283764 / category_id: 412"
         ],
         "type": "scatter",
         "x": [
          -4.6841428936036325,
          -4.226936094489162,
          -0.5403574873010375,
          2.909017229779282,
          0.8113403695672798,
          -5.4311776007688515,
          -7.631325914428409,
          -4.032163594993708,
          2.900945405811935,
          -0.263473092879691
         ],
         "y": [
          2.317184843727269,
          0.6632092371508292,
          -2.8547038428261113,
          0.9395882806708846,
          -0.5297784940518239,
          0.7060877548777879,
          2.807052977087762,
          5.471069712379709,
          -3.885305622980027,
          -7.407601447979063
         ]
        }
       ],
       "layout": {
        "height": 800,
        "legend": {
         "title": {
          "text": "color, symbol"
         },
         "tracegroupgap": 0
        },
        "template": {
         "data": {
          "bar": [
           {
            "error_x": {
             "color": "#2a3f5f"
            },
            "error_y": {
             "color": "#2a3f5f"
            },
            "marker": {
             "line": {
              "color": "#E5ECF6",
              "width": 0.5
             },
             "pattern": {
              "fillmode": "overlay",
              "size": 10,
              "solidity": 0.2
             }
            },
            "type": "bar"
           }
          ],
          "barpolar": [
           {
            "marker": {
             "line": {
              "color": "#E5ECF6",
              "width": 0.5
             },
             "pattern": {
              "fillmode": "overlay",
              "size": 10,
              "solidity": 0.2
             }
            },
            "type": "barpolar"
           }
          ],
          "carpet": [
           {
            "aaxis": {
             "endlinecolor": "#2a3f5f",
             "gridcolor": "white",
             "linecolor": "white",
             "minorgridcolor": "white",
             "startlinecolor": "#2a3f5f"
            },
            "baxis": {
             "endlinecolor": "#2a3f5f",
             "gridcolor": "white",
             "linecolor": "white",
             "minorgridcolor": "white",
             "startlinecolor": "#2a3f5f"
            },
            "type": "carpet"
           }
          ],
          "choropleth": [
           {
            "colorbar": {
             "outlinewidth": 0,
             "ticks": ""
            },
            "type": "choropleth"
           }
          ],
          "contour": [
           {
            "colorbar": {
             "outlinewidth": 0,
             "ticks": ""
            },
            "colorscale": [
             [
              0,
              "#0d0887"
             ],
             [
              0.1111111111111111,
              "#46039f"
             ],
             [
              0.2222222222222222,
              "#7201a8"
             ],
             [
              0.3333333333333333,
              "#9c179e"
             ],
             [
              0.4444444444444444,
              "#bd3786"
             ],
             [
              0.5555555555555556,
              "#d8576b"
             ],
             [
              0.6666666666666666,
              "#ed7953"
             ],
             [
              0.7777777777777778,
              "#fb9f3a"
             ],
             [
              0.8888888888888888,
              "#fdca26"
             ],
             [
              1,
              "#f0f921"
             ]
            ],
            "type": "contour"
           }
          ],
          "contourcarpet": [
           {
            "colorbar": {
             "outlinewidth": 0,
             "ticks": ""
            },
            "type": "contourcarpet"
           }
          ],
          "heatmap": [
           {
            "colorbar": {
             "outlinewidth": 0,
             "ticks": ""
            },
            "colorscale": [
             [
              0,
              "#0d0887"
             ],
             [
              0.1111111111111111,
              "#46039f"
             ],
             [
              0.2222222222222222,
              "#7201a8"
             ],
             [
              0.3333333333333333,
              "#9c179e"
             ],
             [
              0.4444444444444444,
              "#bd3786"
             ],
             [
              0.5555555555555556,
              "#d8576b"
             ],
             [
              0.6666666666666666,
              "#ed7953"
             ],
             [
              0.7777777777777778,
              "#fb9f3a"
             ],
             [
              0.8888888888888888,
              "#fdca26"
             ],
             [
              1,
              "#f0f921"
             ]
            ],
            "type": "heatmap"
           }
          ],
          "heatmapgl": [
           {
            "colorbar": {
             "outlinewidth": 0,
             "ticks": ""
            },
            "colorscale": [
             [
              0,
              "#0d0887"
             ],
             [
              0.1111111111111111,
              "#46039f"
             ],
             [
              0.2222222222222222,
              "#7201a8"
             ],
             [
              0.3333333333333333,
              "#9c179e"
             ],
             [
              0.4444444444444444,
              "#bd3786"
             ],
             [
              0.5555555555555556,
              "#d8576b"
             ],
             [
              0.6666666666666666,
              "#ed7953"
             ],
             [
              0.7777777777777778,
              "#fb9f3a"
             ],
             [
              0.8888888888888888,
              "#fdca26"
             ],
             [
              1,
              "#f0f921"
             ]
            ],
            "type": "heatmapgl"
           }
          ],
          "histogram": [
           {
            "marker": {
             "pattern": {
              "fillmode": "overlay",
              "size": 10,
              "solidity": 0.2
             }
            },
            "type": "histogram"
           }
          ],
          "histogram2d": [
           {
            "colorbar": {
             "outlinewidth": 0,
             "ticks": ""
            },
            "colorscale": [
             [
              0,
              "#0d0887"
             ],
             [
              0.1111111111111111,
              "#46039f"
             ],
             [
              0.2222222222222222,
              "#7201a8"
             ],
             [
              0.3333333333333333,
              "#9c179e"
             ],
             [
              0.4444444444444444,
              "#bd3786"
             ],
             [
              0.5555555555555556,
              "#d8576b"
             ],
             [
              0.6666666666666666,
              "#ed7953"
             ],
             [
              0.7777777777777778,
              "#fb9f3a"
             ],
             [
              0.8888888888888888,
              "#fdca26"
             ],
             [
              1,
              "#f0f921"
             ]
            ],
            "type": "histogram2d"
           }
          ],
          "histogram2dcontour": [
           {
            "colorbar": {
             "outlinewidth": 0,
             "ticks": ""
            },
            "colorscale": [
             [
              0,
              "#0d0887"
             ],
             [
              0.1111111111111111,
              "#46039f"
             ],
             [
              0.2222222222222222,
              "#7201a8"
             ],
             [
              0.3333333333333333,
              "#9c179e"
             ],
             [
              0.4444444444444444,
              "#bd3786"
             ],
             [
              0.5555555555555556,
              "#d8576b"
             ],
             [
              0.6666666666666666,
              "#ed7953"
             ],
             [
              0.7777777777777778,
              "#fb9f3a"
             ],
             [
              0.8888888888888888,
              "#fdca26"
             ],
             [
              1,
              "#f0f921"
             ]
            ],
            "type": "histogram2dcontour"
           }
          ],
          "mesh3d": [
           {
            "colorbar": {
             "outlinewidth": 0,
             "ticks": ""
            },
            "type": "mesh3d"
           }
          ],
          "parcoords": [
           {
            "line": {
             "colorbar": {
              "outlinewidth": 0,
              "ticks": ""
             }
            },
            "type": "parcoords"
           }
          ],
          "pie": [
           {
            "automargin": true,
            "type": "pie"
           }
          ],
          "scatter": [
           {
            "fillpattern": {
             "fillmode": "overlay",
             "size": 10,
             "solidity": 0.2
            },
            "type": "scatter"
           }
          ],
          "scatter3d": [
           {
            "line": {
             "colorbar": {
              "outlinewidth": 0,
              "ticks": ""
             }
            },
            "marker": {
             "colorbar": {
              "outlinewidth": 0,
              "ticks": ""
             }
            },
            "type": "scatter3d"
           }
          ],
          "scattercarpet": [
           {
            "marker": {
             "colorbar": {
              "outlinewidth": 0,
              "ticks": ""
             }
            },
            "type": "scattercarpet"
           }
          ],
          "scattergeo": [
           {
            "marker": {
             "colorbar": {
              "outlinewidth": 0,
              "ticks": ""
             }
            },
            "type": "scattergeo"
           }
          ],
          "scattergl": [
           {
            "marker": {
             "colorbar": {
              "outlinewidth": 0,
              "ticks": ""
             }
            },
            "type": "scattergl"
           }
          ],
          "scattermapbox": [
           {
            "marker": {
             "colorbar": {
              "outlinewidth": 0,
              "ticks": ""
             }
            },
            "type": "scattermapbox"
           }
          ],
          "scatterpolar": [
           {
            "marker": {
             "colorbar": {
              "outlinewidth": 0,
              "ticks": ""
             }
            },
            "type": "scatterpolar"
           }
          ],
          "scatterpolargl": [
           {
            "marker": {
             "colorbar": {
              "outlinewidth": 0,
              "ticks": ""
             }
            },
            "type": "scatterpolargl"
           }
          ],
          "scatterternary": [
           {
            "marker": {
             "colorbar": {
              "outlinewidth": 0,
              "ticks": ""
             }
            },
            "type": "scatterternary"
           }
          ],
          "surface": [
           {
            "colorbar": {
             "outlinewidth": 0,
             "ticks": ""
            },
            "colorscale": [
             [
              0,
              "#0d0887"
             ],
             [
              0.1111111111111111,
              "#46039f"
             ],
             [
              0.2222222222222222,
              "#7201a8"
             ],
             [
              0.3333333333333333,
              "#9c179e"
             ],
             [
              0.4444444444444444,
              "#bd3786"
             ],
             [
              0.5555555555555556,
              "#d8576b"
             ],
             [
              0.6666666666666666,
              "#ed7953"
             ],
             [
              0.7777777777777778,
              "#fb9f3a"
             ],
             [
              0.8888888888888888,
              "#fdca26"
             ],
             [
              1,
              "#f0f921"
             ]
            ],
            "type": "surface"
           }
          ],
          "table": [
           {
            "cells": {
             "fill": {
              "color": "#EBF0F8"
             },
             "line": {
              "color": "white"
             }
            },
            "header": {
             "fill": {
              "color": "#C8D4E3"
             },
             "line": {
              "color": "white"
             }
            },
            "type": "table"
           }
          ]
         },
         "layout": {
          "annotationdefaults": {
           "arrowcolor": "#2a3f5f",
           "arrowhead": 0,
           "arrowwidth": 1
          },
          "autotypenumbers": "strict",
          "coloraxis": {
           "colorbar": {
            "outlinewidth": 0,
            "ticks": ""
           }
          },
          "colorscale": {
           "diverging": [
            [
             0,
             "#8e0152"
            ],
            [
             0.1,
             "#c51b7d"
            ],
            [
             0.2,
             "#de77ae"
            ],
            [
             0.3,
             "#f1b6da"
            ],
            [
             0.4,
             "#fde0ef"
            ],
            [
             0.5,
             "#f7f7f7"
            ],
            [
             0.6,
             "#e6f5d0"
            ],
            [
             0.7,
             "#b8e186"
            ],
            [
             0.8,
             "#7fbc41"
            ],
            [
             0.9,
             "#4d9221"
            ],
            [
             1,
             "#276419"
            ]
           ],
           "sequential": [
            [
             0,
             "#0d0887"
            ],
            [
             0.1111111111111111,
             "#46039f"
            ],
            [
             0.2222222222222222,
             "#7201a8"
            ],
            [
             0.3333333333333333,
             "#9c179e"
            ],
            [
             0.4444444444444444,
             "#bd3786"
            ],
            [
             0.5555555555555556,
             "#d8576b"
            ],
            [
             0.6666666666666666,
             "#ed7953"
            ],
            [
             0.7777777777777778,
             "#fb9f3a"
            ],
            [
             0.8888888888888888,
             "#fdca26"
            ],
            [
             1,
             "#f0f921"
            ]
           ],
           "sequentialminus": [
            [
             0,
             "#0d0887"
            ],
            [
             0.1111111111111111,
             "#46039f"
            ],
            [
             0.2222222222222222,
             "#7201a8"
            ],
            [
             0.3333333333333333,
             "#9c179e"
            ],
            [
             0.4444444444444444,
             "#bd3786"
            ],
            [
             0.5555555555555556,
             "#d8576b"
            ],
            [
             0.6666666666666666,
             "#ed7953"
            ],
            [
             0.7777777777777778,
             "#fb9f3a"
            ],
            [
             0.8888888888888888,
             "#fdca26"
            ],
            [
             1,
             "#f0f921"
            ]
           ]
          },
          "colorway": [
           "#636efa",
           "#EF553B",
           "#00cc96",
           "#ab63fa",
           "#FFA15A",
           "#19d3f3",
           "#FF6692",
           "#B6E880",
           "#FF97FF",
           "#FECB52"
          ],
          "font": {
           "color": "#2a3f5f"
          },
          "geo": {
           "bgcolor": "white",
           "lakecolor": "white",
           "landcolor": "#E5ECF6",
           "showlakes": true,
           "showland": true,
           "subunitcolor": "white"
          },
          "hoverlabel": {
           "align": "left"
          },
          "hovermode": "closest",
          "mapbox": {
           "style": "light"
          },
          "paper_bgcolor": "white",
          "plot_bgcolor": "#E5ECF6",
          "polar": {
           "angularaxis": {
            "gridcolor": "white",
            "linecolor": "white",
            "ticks": ""
           },
           "bgcolor": "#E5ECF6",
           "radialaxis": {
            "gridcolor": "white",
            "linecolor": "white",
            "ticks": ""
           }
          },
          "scene": {
           "xaxis": {
            "backgroundcolor": "#E5ECF6",
            "gridcolor": "white",
            "gridwidth": 2,
            "linecolor": "white",
            "showbackground": true,
            "ticks": "",
            "zerolinecolor": "white"
           },
           "yaxis": {
            "backgroundcolor": "#E5ECF6",
            "gridcolor": "white",
            "gridwidth": 2,
            "linecolor": "white",
            "showbackground": true,
            "ticks": "",
            "zerolinecolor": "white"
           },
           "zaxis": {
            "backgroundcolor": "#E5ECF6",
            "gridcolor": "white",
            "gridwidth": 2,
            "linecolor": "white",
            "showbackground": true,
            "ticks": "",
            "zerolinecolor": "white"
           }
          },
          "shapedefaults": {
           "line": {
            "color": "#2a3f5f"
           }
          },
          "ternary": {
           "aaxis": {
            "gridcolor": "white",
            "linecolor": "white",
            "ticks": ""
           },
           "baxis": {
            "gridcolor": "white",
            "linecolor": "white",
            "ticks": ""
           },
           "bgcolor": "#E5ECF6",
           "caxis": {
            "gridcolor": "white",
            "linecolor": "white",
            "ticks": ""
           }
          },
          "title": {
           "x": 0.05
          },
          "xaxis": {
           "automargin": true,
           "gridcolor": "white",
           "linecolor": "white",
           "ticks": "",
           "title": {
            "standoff": 15
           },
           "zerolinecolor": "white",
           "zerolinewidth": 2
          },
          "yaxis": {
           "automargin": true,
           "gridcolor": "white",
           "linecolor": "white",
           "ticks": "",
           "title": {
            "standoff": 15
           },
           "zerolinecolor": "white",
           "zerolinewidth": 2
          }
         }
        },
        "title": {
         "text": "PCA 2D"
        },
        "width": 1200,
        "xaxis": {
         "anchor": "y",
         "domain": [
          0,
          1
         ],
         "title": {
          "text": "x"
         }
        },
        "yaxis": {
         "anchor": "x",
         "domain": [
          0,
          1
         ],
         "title": {
          "text": "y"
         }
        }
       }
      }
     },
     "metadata": {},
     "output_type": "display_data"
    }
   ],
   "source": [
    "pca = PCA(n_components=2)\n",
    "articles_pca = pca.fit_transform(articles_sample_std)\n",
    "interest_pca = pca.transform(interest_std)\n",
    "closest_articles_pca = pca.transform(closest_articles_std)\n",
    "\n",
    "\n",
    "# Plot the data in the PCA space\n",
    "fig = px.scatter(\n",
    "    x=articles_pca[:, 0],\n",
    "    y=articles_pca[:, 1],\n",
    "    color=articles_sample[\"category_id\"],\n",
    "    symbol=articles_sample[\"category_id\"],\n",
    "    title=\"PCA 2D\",\n",
    "    opacity=0.3,\n",
    "    width=1200,\n",
    "    height=800,\n",
    ")\n",
    "fig.add_scatter(\n",
    "    x=interest_pca[:, 0],\n",
    "    y=interest_pca[:, 1],\n",
    "    mode=\"markers\",\n",
    "    marker=dict(color=\"green\", size=30),\n",
    "    text=f\"User interest \\n user_id: {user_id} \\n category_id: {interest['category_id'].iloc[0]}\",\n",
    ")\n",
    "fig.add_scatter(\n",
    "    x=closest_articles_pca[:, 0],\n",
    "    y=closest_articles_pca[:, 1],\n",
    "    mode=\"markers\",\n",
    "    marker=dict(color=list(range(len(closest_articles_pca))), size=20),\n",
    "    text=[\n",
    "        f\"rank: {i} / article_id: {a.article_id} / category_id: {a.category_id}\"\n",
    "        for i, a in enumerate(closest_articles.itertuples())\n",
    "    ],\n",
    ")\n",
    "fig.show()"
   ]
  },
  {
   "cell_type": "code",
   "execution_count": 32,
   "metadata": {},
   "outputs": [
    {
     "data": {
      "application/vnd.plotly.v1+json": {
       "config": {
        "plotlyServerURL": "https://plot.ly"
       },
       "data": [
        {
         "hovertemplate": "color=174<br>symbol=174<br>x=%{x}<br>y=%{y}<extra></extra>",
         "legendgroup": "174, 174",
         "marker": {
          "color": "#636efa",
          "opacity": 0.3,
          "symbol": "circle"
         },
         "mode": "markers",
         "name": "174, 174",
         "showlegend": true,
         "type": "scattergl",
         "x": [
          26.81885528564453,
          22.03831672668457,
          27.927230834960938,
          21.18760108947754,
          21.963985443115234,
          21.31877899169922,
          17.753538131713867,
          -11.490946769714355,
          27.113754272460938,
          25.342416763305664,
          19.168542861938477,
          21.966588973999023,
          20.690731048583984,
          26.528287887573242,
          17.903610229492188,
          25.216705322265625,
          24.9974422454834,
          19.757488250732422,
          19.527393341064453,
          27.553070068359375,
          27.10910415649414,
          24.912805557250977,
          19.733383178710938,
          22.945117950439453,
          20.65738868713379,
          27.613677978515625,
          22.843164443969727,
          26.10383415222168,
          -1.9782679080963135,
          20.93610191345215,
          19.540809631347656,
          21.163860321044922,
          20.127702713012695,
          28.323307037353516,
          20.800220489501953,
          20.27385711669922,
          28.035499572753906,
          25.988676071166992,
          21.645605087280273,
          19.120481491088867,
          26.910776138305664,
          21.717432022094727,
          23.631000518798828,
          24.000158309936523,
          21.9649600982666,
          28.95268440246582,
          -23.1446533203125,
          18.183040618896484,
          19.09684181213379,
          2.8665878772735596,
          25.6872615814209,
          24.528278350830078,
          24.7202205657959,
          26.149776458740234,
          20.729185104370117,
          21.796524047851562,
          27.537670135498047,
          22.178787231445312,
          26.031126022338867,
          27.262741088867188,
          21.140064239501953,
          26.129047393798828,
          26.855697631835938,
          22.694595336914062,
          27.617984771728516,
          22.333160400390625,
          23.526397705078125,
          26.536930084228516,
          22.55221939086914,
          22.121049880981445,
          18.574262619018555,
          26.88043785095215
         ],
         "xaxis": "x",
         "y": [
          58.180641174316406,
          60.82644271850586,
          58.94316864013672,
          60.18289566040039,
          60.60438537597656,
          64.31332397460938,
          61.627967834472656,
          23.641252517700195,
          59.11380386352539,
          59.93001174926758,
          64.73411560058594,
          62.4801025390625,
          61.83856964111328,
          59.40764617919922,
          61.63296890258789,
          60.15380096435547,
          61.30792236328125,
          61.80953598022461,
          60.74597930908203,
          62.550872802734375,
          59.97917175292969,
          59.467041015625,
          60.11821746826172,
          63.234703063964844,
          62.28593826293945,
          60.38536834716797,
          61.038909912109375,
          59.137969970703125,
          26.8670597076416,
          61.089908599853516,
          61.70010757446289,
          61.07285690307617,
          63.85287857055664,
          58.75993728637695,
          62.826148986816406,
          60.82273483276367,
          63.06130599975586,
          61.94911193847656,
          65.2174072265625,
          60.110774993896484,
          58.51160430908203,
          62.439353942871094,
          59.726783752441406,
          58.66273880004883,
          58.787879943847656,
          60.96615982055664,
          11.029778480529785,
          59.96426010131836,
          64.01363372802734,
          -19.89883041381836,
          61.083778381347656,
          60.22577667236328,
          62.41846466064453,
          61.29536437988281,
          62.29568862915039,
          61.6468391418457,
          60.13041305541992,
          60.62628173828125,
          61.21831130981445,
          58.8109130859375,
          64.49478149414062,
          58.52146530151367,
          60.32612228393555,
          55.89411926269531,
          60.043697357177734,
          61.99443817138672,
          63.82529067993164,
          59.613609313964844,
          63.34249496459961,
          61.37207794189453,
          58.506324768066406,
          57.08839416503906
         ],
         "yaxis": "y"
        },
        {
         "hovertemplate": "color=331<br>symbol=331<br>x=%{x}<br>y=%{y}<extra></extra>",
         "legendgroup": "331, 331",
         "marker": {
          "color": "#EF553B",
          "opacity": 0.3,
          "symbol": "diamond"
         },
         "mode": "markers",
         "name": "331, 331",
         "showlegend": true,
         "type": "scattergl",
         "x": [
          -20.749082565307617,
          -27.639217376708984,
          -23.05229377746582,
          -20.948566436767578,
          -25.39853858947754,
          -27.902912139892578,
          -24.650094985961914,
          -49.90081787109375,
          -28.338268280029297,
          -27.185848236083984,
          -23.6379451751709,
          -25.17898941040039,
          22.14951515197754,
          0.9745534062385559,
          -27.333105087280273,
          -28.15199851989746,
          -26.241817474365234,
          -24.483678817749023,
          -24.23588752746582,
          -24.036479949951172,
          -25.671676635742188,
          -24.1755313873291,
          -22.954730987548828,
          -27.404260635375977,
          -30.128952026367188,
          -23.807464599609375,
          -25.47871971130371,
          -36.42295455932617,
          -3.7906546592712402,
          25.646923065185547,
          -22.565624237060547,
          -28.49859046936035,
          -25.974803924560547,
          -30.62505340576172,
          -22.139528274536133,
          -23.360647201538086,
          22.133544921875,
          -22.41417121887207,
          -25.65449333190918,
          -28.526357650756836,
          -24.88367462158203
         ],
         "xaxis": "x",
         "y": [
          9.88664722442627,
          17.864290237426758,
          14.811444282531738,
          19.478363037109375,
          13.513266563415527,
          18.257766723632812,
          10.677221298217773,
          3.07423734664917,
          19.27415657043457,
          16.67898941040039,
          15.820502281188965,
          16.072429656982422,
          19.54274559020996,
          1.3970359563827515,
          16.770214080810547,
          16.954580307006836,
          18.342004776000977,
          17.362741470336914,
          18.92629051208496,
          12.239442825317383,
          14.467460632324219,
          13.763432502746582,
          14.72822093963623,
          3.4641454219818115,
          17.937515258789062,
          16.59394073486328,
          17.95187759399414,
          34.233253479003906,
          -9.75092601776123,
          21.09077262878418,
          15.293898582458496,
          13.523642539978027,
          16.95704460144043,
          18.480331420898438,
          20.518632888793945,
          15.228426933288574,
          20.223896026611328,
          18.45262908935547,
          14.479601860046387,
          19.20762825012207,
          13.11816120147705
         ],
         "yaxis": "y"
        },
        {
         "hovertemplate": "color=209<br>symbol=209<br>x=%{x}<br>y=%{y}<extra></extra>",
         "legendgroup": "209, 209",
         "marker": {
          "color": "#00cc96",
          "opacity": 0.3,
          "symbol": "square"
         },
         "mode": "markers",
         "name": "209, 209",
         "showlegend": true,
         "type": "scattergl",
         "x": [
          -49.14684295654297,
          -45.029693603515625,
          -50.24059295654297,
          -42.91387176513672,
          -49.014705657958984,
          -48.12285614013672,
          -48.071617126464844,
          -45.10538101196289,
          -51.184329986572266,
          -43.13188934326172,
          -42.667930603027344,
          -22.8718318939209,
          -46.573081970214844,
          -44.334754943847656,
          3.118237257003784,
          -43.925376892089844,
          -49.01213836669922,
          -47.34775161743164,
          -48.53166580200195,
          -47.95433807373047,
          -48.78436279296875,
          -42.43404006958008,
          -42.8755989074707,
          -44.09878158569336,
          -49.317806243896484,
          -49.79600524902344,
          -48.31008529663086,
          -44.78939437866211,
          -47.9235725402832,
          4.669887065887451,
          -47.22195816040039,
          -50.0710563659668,
          -48.525875091552734,
          -45.01902389526367,
          -51.2002067565918,
          -47.408870697021484,
          -52.19702911376953,
          -50.086360931396484,
          -49.66846466064453,
          -45.18209457397461,
          -44.00478744506836,
          -44.743064880371094,
          -43.78572463989258,
          -43.073333740234375,
          -48.3666877746582,
          -45.97298049926758,
          -45.99610900878906,
          -46.24567413330078,
          -48.95372009277344,
          -45.10409164428711,
          -47.58286666870117
         ],
         "xaxis": "x",
         "y": [
          -32.97904968261719,
          -38.633689880371094,
          -35.663246154785156,
          -34.75324630737305,
          -36.287193298339844,
          -34.81109619140625,
          -36.84940719604492,
          -38.538856506347656,
          -34.79853057861328,
          -38.76799011230469,
          -35.638187408447266,
          -17.166202545166016,
          -35.45591735839844,
          -39.34051513671875,
          -13.116612434387207,
          -38.331993103027344,
          -32.27391052246094,
          -39.137210845947266,
          -35.71903610229492,
          -39.07398223876953,
          -34.67263412475586,
          -35.8266716003418,
          -34.681671142578125,
          -38.3466796875,
          -35.49518585205078,
          -34.93761444091797,
          -35.08401107788086,
          -36.817752838134766,
          -36.01768493652344,
          -18.027700424194336,
          -38.47911071777344,
          -33.83554458618164,
          -39.1261100769043,
          -36.893592834472656,
          -35.718048095703125,
          -39.58009719848633,
          -35.64411926269531,
          -34.92805480957031,
          -34.224952697753906,
          -38.860923767089844,
          -37.88209533691406,
          -38.35708236694336,
          -37.36243438720703,
          -38.76091766357422,
          -39.27229309082031,
          -39.82334899902344,
          -34.92084884643555,
          -36.39357376098633,
          -37.978206634521484,
          -35.98837661743164,
          -37.22056198120117
         ],
         "yaxis": "y"
        },
        {
         "hovertemplate": "color=317<br>symbol=317<br>x=%{x}<br>y=%{y}<extra></extra>",
         "legendgroup": "317, 317",
         "marker": {
          "color": "#ab63fa",
          "opacity": 0.3,
          "symbol": "x"
         },
         "mode": "markers",
         "name": "317, 317",
         "showlegend": true,
         "type": "scattergl",
         "x": [
          6.86604642868042,
          9.302857398986816,
          10.61523723602295,
          9.944336891174316,
          7.632225513458252,
          8.27878189086914,
          10.3076753616333,
          8.947453498840332,
          8.06029987335205,
          8.666672706604004,
          9.739786148071289,
          9.594218254089355,
          6.826370716094971,
          9.169842720031738,
          6.281024932861328,
          11.270136833190918,
          9.058256149291992,
          9.089946746826172,
          8.684678077697754,
          -23.94285011291504,
          7.154407978057861,
          6.944080829620361,
          8.990920066833496,
          7.33101749420166,
          9.249629974365234,
          8.198100090026855,
          9.94851016998291,
          7.95357608795166,
          8.576608657836914,
          -8.634892463684082,
          9.201854705810547,
          10.341628074645996,
          11.424629211425781,
          9.44469928741455
         ],
         "xaxis": "x",
         "y": [
          -57.053707122802734,
          -53.426780700683594,
          -52.00048065185547,
          -56.49293899536133,
          -56.9299201965332,
          -53.67704391479492,
          -56.734527587890625,
          -56.91228485107422,
          -56.90236282348633,
          -54.38773727416992,
          -53.4110107421875,
          -52.96790313720703,
          -57.383609771728516,
          -53.66703414916992,
          -58.023433685302734,
          -57.48680114746094,
          -52.694496154785156,
          -54.19337463378906,
          -53.757869720458984,
          9.53054141998291,
          -56.79426574707031,
          -58.02959060668945,
          -59.12509536743164,
          -54.80275344848633,
          -51.93572998046875,
          -51.12836456298828,
          -52.07992935180664,
          -53.463905334472656,
          -57.802616119384766,
          -22.437658309936523,
          -57.91497802734375,
          -56.23818588256836,
          -56.14530944824219,
          -52.76158142089844
         ],
         "yaxis": "y"
        },
        {
         "hovertemplate": "color=431<br>symbol=431<br>x=%{x}<br>y=%{y}<extra></extra>",
         "legendgroup": "431, 431",
         "marker": {
          "color": "#FFA15A",
          "opacity": 0.3,
          "symbol": "cross"
         },
         "mode": "markers",
         "name": "431, 431",
         "showlegend": true,
         "type": "scattergl",
         "x": [
          52.169288635253906,
          43.25884246826172,
          47.285308837890625,
          38.6397705078125,
          40.705562591552734,
          47.010040283203125,
          57.2493896484375,
          41.493465423583984,
          45.09148025512695,
          0.19116264581680298,
          55.36117172241211,
          43.820552825927734,
          44.745025634765625,
          36.940826416015625,
          42.101810455322266,
          46.070987701416016,
          47.59968948364258,
          41.973793029785156,
          42.43136215209961,
          43.1991081237793,
          48.15016174316406,
          36.003787994384766,
          -9.808476448059082,
          -6.167849540710449,
          44.49606704711914,
          44.023651123046875,
          49.21547317504883,
          -10.592135429382324,
          45.051910400390625,
          51.85097885131836,
          42.19941711425781,
          19.075328826904297,
          44.18867492675781,
          46.033653259277344,
          43.513858795166016,
          18.013504028320312,
          43.266990661621094,
          37.200923919677734,
          -5.859808444976807,
          44.93061828613281,
          44.02935791015625,
          46.41261291503906,
          40.32294845581055,
          55.970977783203125,
          44.09959411621094,
          42.516239166259766,
          2.055978298187256,
          45.792259216308594,
          -9.662360191345215,
          56.00849533081055,
          -10.625537872314453,
          45.04287338256836,
          -3.4215219020843506,
          46.054630279541016,
          -9.507720947265625,
          35.216182708740234,
          18.949481964111328,
          3.8292863368988037,
          45.80073547363281,
          46.24285125732422,
          41.502357482910156,
          40.99775314331055,
          37.262184143066406,
          0.3057246804237366,
          46.14284133911133,
          -41.13319396972656,
          43.26927947998047,
          52.28606414794922,
          20.69448471069336,
          42.257904052734375,
          43.18879318237305,
          17.871231079101562,
          45.410587310791016,
          18.74863052368164,
          45.7122917175293,
          41.06413269042969,
          45.253570556640625,
          42.395748138427734,
          35.92238998413086,
          -4.940835952758789,
          44.40768051147461,
          47.324188232421875
         ],
         "xaxis": "x",
         "y": [
          -0.9770127534866333,
          11.848554611206055,
          10.769352912902832,
          -23.30488395690918,
          13.434283256530762,
          14.244277000427246,
          7.239075183868408,
          9.5574312210083,
          12.716227531433105,
          25.86100196838379,
          7.7629828453063965,
          12.373067855834961,
          15.306536674499512,
          10.551305770874023,
          10.960746765136719,
          15.031638145446777,
          11.972408294677734,
          10.346123695373535,
          -43.603843688964844,
          10.097768783569336,
          13.702041625976562,
          11.664836883544922,
          -16.74470329284668,
          28.204553604125977,
          13.415580749511719,
          13.829726219177246,
          12.871137619018555,
          19.960128784179688,
          15.700499534606934,
          1.3623545169830322,
          10.7815580368042,
          -6.549439430236816,
          15.452067375183105,
          15.528407096862793,
          13.38615894317627,
          -4.750678539276123,
          13.181756019592285,
          10.791778564453125,
          15.420405387878418,
          14.596756935119629,
          16.1207275390625,
          11.448972702026367,
          13.457026481628418,
          4.426029682159424,
          8.904654502868652,
          10.17634105682373,
          13.723443984985352,
          11.275995254516602,
          -16.816518783569336,
          5.193197250366211,
          19.931814193725586,
          14.5574369430542,
          17.594070434570312,
          15.21815299987793,
          19.501800537109375,
          13.02195930480957,
          -6.099025249481201,
          -18.238759994506836,
          12.881880760192871,
          11.339579582214355,
          10.770989418029785,
          16.241439819335938,
          11.001852035522461,
          40.24742126464844,
          16.544055938720703,
          20.515968322753906,
          14.439963340759277,
          -1.2303588390350342,
          -2.6383092403411865,
          10.942397117614746,
          11.5183744430542,
          -4.846414089202881,
          14.4486722946167,
          -5.611878871917725,
          12.46182918548584,
          16.192628860473633,
          14.017322540283203,
          5.058080673217773,
          11.699992179870605,
          28.12040138244629,
          13.821357727050781,
          15.394625663757324
         ],
         "yaxis": "y"
        },
        {
         "hovertemplate": "color=117<br>symbol=117<br>x=%{x}<br>y=%{y}<extra></extra>",
         "legendgroup": "117, 117",
         "marker": {
          "color": "#19d3f3",
          "opacity": 0.3,
          "symbol": "circle"
         },
         "mode": "markers",
         "name": "117, 117",
         "showlegend": true,
         "type": "scattergl",
         "x": [
          -43.125396728515625,
          -49.392547607421875
         ],
         "xaxis": "x",
         "y": [
          16.459501266479492,
          21.95285415649414
         ],
         "yaxis": "y"
        },
        {
         "hovertemplate": "color=281<br>symbol=281<br>x=%{x}<br>y=%{y}<extra></extra>",
         "legendgroup": "281, 281",
         "marker": {
          "color": "#FF6692",
          "opacity": 0.3,
          "symbol": "diamond"
         },
         "mode": "markers",
         "name": "281, 281",
         "showlegend": true,
         "type": "scattergl",
         "x": [
          -8.260977745056152,
          -9.572880744934082,
          -4.041141510009766,
          -9.460492134094238,
          -9.257789611816406,
          2.987579822540283,
          -10.75979995727539,
          1.3433095216751099,
          -2.920999765396118,
          3.5134031772613525,
          19.10387420654297,
          -10.037446975708008,
          -11.526151657104492,
          -0.48438555002212524,
          3.4996204376220703,
          -7.337108612060547,
          -8.959893226623535,
          -27.06017303466797,
          -6.315214157104492,
          -9.130608558654785,
          -7.58682918548584,
          -4.7474164962768555,
          2.55820369720459,
          -9.993229866027832,
          -8.077096939086914,
          -6.628098964691162,
          -4.549670219421387,
          -7.346543788909912,
          -7.272215843200684,
          -9.249860763549805,
          -26.291746139526367,
          -0.3193080425262451,
          -0.4208561182022095,
          -12.057731628417969,
          -7.164759635925293,
          -0.32953256368637085,
          -7.500338077545166,
          1.313076376914978,
          -7.123333930969238,
          -9.612987518310547,
          1.99519944190979,
          -2.763847827911377,
          4.380032062530518,
          2.2453808784484863,
          -8.291053771972656,
          -0.7262880802154541,
          -9.533234596252441,
          -8.325777053833008,
          -10.146492004394531,
          -8.117646217346191,
          -5.531894207000732,
          -2.766180992126465,
          -8.701160430908203,
          -0.0645703598856926,
          3.7066688537597656,
          -9.03803825378418,
          -5.746302604675293,
          -8.944112777709961,
          -8.423521995544434,
          -7.508265018463135,
          0.32614386081695557,
          -8.865447998046875,
          -1.2907447814941406,
          -11.063323020935059,
          0.8451810479164124,
          -10.033315658569336,
          -12.065888404846191,
          3.1502745151519775,
          -6.630725860595703,
          -8.726157188415527,
          2.1787705421447754,
          -9.56832504272461,
          -1.3131476640701294,
          -3.089669942855835,
          -7.566305637359619,
          -7.017462253570557,
          -9.40011215209961,
          -0.7755522131919861,
          -5.837153911590576,
          -10.510834693908691,
          -8.411846160888672,
          3.442852735519409,
          -1.1375305652618408,
          -8.634024620056152,
          1.3749964237213135,
          -8.487424850463867,
          -14.204316139221191,
          0.5058350563049316,
          -0.41454267501831055,
          -1.9113823175430298,
          -8.253700256347656,
          0.4621776044368744,
          1.3730016946792603,
          3.332880973815918,
          -7.471432685852051,
          -10.888010025024414,
          -8.4812593460083,
          -9.991578102111816,
          -9.907660484313965,
          -5.537432670593262,
          -0.7201288342475891,
          -11.50256061553955,
          -2.5607407093048096,
          -7.21570348739624,
          -8.061707496643066,
          0.164484903216362,
          -7.086391925811768,
          -9.214203834533691,
          3.8440608978271484,
          0.7311106324195862,
          3.22320556640625,
          -7.602892875671387,
          -7.761876583099365,
          36.58355712890625,
          -9.401324272155762,
          -4.19540548324585,
          0.5276325941085815,
          -6.364236354827881,
          -6.387553691864014,
          -16.57634735107422,
          -2.1431193351745605,
          0.658849835395813,
          -3.118894577026367,
          -6.6351494789123535,
          3.190760374069214,
          -8.25370979309082,
          -9.992148399353027
         ],
         "xaxis": "x",
         "y": [
          12.22470760345459,
          10.323312759399414,
          12.04957103729248,
          13.919303894042969,
          5.417201519012451,
          -1.501053810119629,
          8.222704887390137,
          -3.1571760177612305,
          20.33990478515625,
          -6.075051307678223,
          22.645048141479492,
          6.152349472045898,
          6.208677768707275,
          -2.185330390930176,
          -1.740281105041504,
          6.227464199066162,
          7.992833614349365,
          11.280975341796875,
          4.139140605926514,
          6.7461395263671875,
          7.714788913726807,
          9.15518856048584,
          -2.8397862911224365,
          9.284683227539062,
          5.888719081878662,
          3.6037909984588623,
          4.673274993896484,
          11.317628860473633,
          8.590251922607422,
          3.320242166519165,
          15.848596572875977,
          -3.1018426418304443,
          -2.4675302505493164,
          8.005228042602539,
          13.603583335876465,
          -2.2466723918914795,
          5.417453765869141,
          -5.4822282791137695,
          7.282497406005859,
          9.905207633972168,
          -0.4210914671421051,
          12.78189468383789,
          -5.770839691162109,
          -5.7386369705200195,
          7.689209938049316,
          -6.27372932434082,
          4.738151550292969,
          12.734613418579102,
          3.7474451065063477,
          6.635282516479492,
          5.559253215789795,
          14.104785919189453,
          10.963229179382324,
          -4.430107593536377,
          -4.988285064697266,
          8.815896987915039,
          6.542116641998291,
          9.127819061279297,
          5.7570600509643555,
          6.073027610778809,
          10.3738431930542,
          10.271329879760742,
          11.429472923278809,
          6.910973072052002,
          -1.0729173421859741,
          10.087645530700684,
          28.879783630371094,
          -0.8889539837837219,
          3.0628437995910645,
          11.238964080810547,
          -5.221949577331543,
          11.827279090881348,
          -3.88773775100708,
          12.044981956481934,
          6.3772077560424805,
          13.383703231811523,
          5.742893218994141,
          -4.334120273590088,
          8.66895580291748,
          11.173269271850586,
          10.008891105651855,
          -6.465718746185303,
          11.842747688293457,
          6.402185440063477,
          -3.0045831203460693,
          33.63663864135742,
          3.5255990028381348,
          -1.9313029050827026,
          -4.732180118560791,
          13.0974760055542,
          11.917770385742188,
          -6.62109375,
          -4.000635147094727,
          -5.816011905670166,
          4.947853088378906,
          8.990744590759277,
          3.712648391723633,
          8.430610656738281,
          5.002150058746338,
          7.802157878875732,
          -3.945065498352051,
          6.630302906036377,
          12.606963157653809,
          0.941730797290802,
          2.920307159423828,
          -2.815896511077881,
          4.482790470123291,
          6.608172416687012,
          -5.1341776847839355,
          -4.379682540893555,
          -3.7528810501098633,
          9.313970565795898,
          4.810723781585693,
          -48.11228942871094,
          7.22219181060791,
          12.049182891845703,
          12.687304496765137,
          5.25900411605835,
          6.964299201965332,
          8.726229667663574,
          14.734183311462402,
          -4.044527053833008,
          12.128527641296387,
          6.98152494430542,
          -0.5949404835700989,
          4.624239444732666,
          10.720647811889648
         ],
         "yaxis": "y"
        },
        {
         "hovertemplate": "color=388<br>symbol=388<br>x=%{x}<br>y=%{y}<extra></extra>",
         "legendgroup": "388, 388",
         "marker": {
          "color": "#B6E880",
          "opacity": 0.3,
          "symbol": "square"
         },
         "mode": "markers",
         "name": "388, 388",
         "showlegend": true,
         "type": "scattergl",
         "x": [
          -45.5804443359375,
          -46.54997253417969,
          -47.05704116821289,
          24.453107833862305,
          -47.980709075927734,
          -45.390899658203125,
          26.186771392822266,
          -30.862470626831055,
          -44.788055419921875,
          -47.81480026245117,
          -45.04286193847656,
          -45.825294494628906,
          -46.0254020690918,
          -45.051456451416016,
          -45.7061653137207,
          -47.21592330932617,
          -45.71546173095703,
          -23.5760555267334,
          -46.21272659301758,
          -47.41725540161133,
          -48.680938720703125,
          -44.0499382019043,
          26.28520393371582,
          -47.036922454833984,
          -45.806819915771484,
          -43.798912048339844,
          -23.574630737304688,
          -47.441627502441406,
          -46.356204986572266,
          -46.19427490234375,
          -46.83907699584961,
          -46.47352600097656,
          -44.5431022644043,
          -47.604949951171875,
          -48.68748474121094,
          -44.72473907470703,
          -49.033660888671875,
          -44.728755950927734,
          -48.30379104614258,
          -46.03226089477539,
          -46.875484466552734,
          -45.126522064208984,
          -45.72323989868164,
          -45.73591232299805,
          -45.488224029541016
         ],
         "xaxis": "x",
         "y": [
          46.13108825683594,
          47.82886505126953,
          46.5184440612793,
          -0.6747404336929321,
          45.71803665161133,
          46.4039192199707,
          7.249692916870117,
          48.18568801879883,
          46.20140075683594,
          48.99222946166992,
          48.35829544067383,
          46.24972915649414,
          47.589534759521484,
          45.64509963989258,
          43.76911544799805,
          44.89259719848633,
          45.49015426635742,
          56.34900665283203,
          46.501182556152344,
          47.2469367980957,
          47.06304931640625,
          46.2156867980957,
          -3.775052070617676,
          44.62590408325195,
          47.08248519897461,
          47.08759689331055,
          56.349464416503906,
          47.20105743408203,
          48.65195083618164,
          46.921329498291016,
          45.09858703613281,
          45.83333206176758,
          43.97004699707031,
          45.40704345703125,
          46.87944793701172,
          44.15913391113281,
          47.26472473144531,
          45.30044174194336,
          44.96739959716797,
          48.48118591308594,
          46.54621887207031,
          44.469200134277344,
          44.605567932128906,
          47.211116790771484,
          44.30766296386719
         ],
         "yaxis": "y"
        },
        {
         "hovertemplate": "color=354<br>symbol=354<br>x=%{x}<br>y=%{y}<extra></extra>",
         "legendgroup": "354, 354",
         "marker": {
          "color": "#FF97FF",
          "opacity": 0.3,
          "symbol": "x"
         },
         "mode": "markers",
         "name": "354, 354",
         "showlegend": true,
         "type": "scattergl",
         "x": [
          -34.56608581542969,
          -31.193967819213867,
          -33.006324768066406,
          -31.949031829833984,
          2.2249648571014404,
          -32.44914627075195,
          -31.479400634765625,
          -35.254608154296875,
          -30.998151779174805,
          -31.522520065307617,
          -30.154802322387695,
          -34.95643997192383,
          -35.12732696533203,
          -40.47626495361328,
          -4.162930488586426,
          -30.27632713317871,
          -31.262155532836914,
          -29.582820892333984,
          -35.78678512573242,
          -33.55404281616211,
          -33.59762191772461,
          -22.59647560119629,
          -3.6669273376464844,
          -33.82461166381836,
          -32.98533630371094,
          -34.45728302001953,
          2.3730955123901367,
          -32.4136962890625,
          -31.039892196655273,
          -35.4351806640625,
          2.0226335525512695,
          -35.36699295043945,
          -31.666399002075195,
          -43.835792541503906,
          -31.1953067779541,
          -37.626686096191406,
          -29.520179748535156,
          -33.872039794921875,
          -34.97062683105469,
          -4.805772304534912,
          -30.362680435180664,
          -33.89240264892578,
          -34.13701629638672,
          -4.443150997161865,
          -34.89683151245117,
          -32.85886001586914,
          -35.05467987060547,
          -34.53986740112305,
          -31.434368133544922
         ],
         "xaxis": "x",
         "y": [
          -5.650704383850098,
          19.649316787719727,
          -9.864845275878906,
          19.84668731689453,
          -10.10203742980957,
          -8.347320556640625,
          -5.1970930099487305,
          -6.625136852264404,
          -4.46477746963501,
          -8.059893608093262,
          -10.914011001586914,
          -10.96488094329834,
          -11.013248443603516,
          -10.337024688720703,
          26.457683563232422,
          -11.124945640563965,
          -8.353981018066406,
          -10.568259239196777,
          -13.638799667358398,
          -8.598388671875,
          -7.6767778396606445,
          25.118074417114258,
          25.72874641418457,
          -8.296165466308594,
          -7.185215473175049,
          -10.281736373901367,
          -14.357009887695312,
          -10.596735954284668,
          -4.552945137023926,
          -8.329684257507324,
          -19.37839698791504,
          -9.320655822753906,
          19.731908798217773,
          -16.68014907836914,
          -10.546460151672363,
          -9.40151596069336,
          -8.049604415893555,
          -6.44093656539917,
          -11.082562446594238,
          26.276025772094727,
          -11.470976829528809,
          -8.16737174987793,
          -10.98961353302002,
          24.757125854492188,
          -9.401005744934082,
          17.49623680114746,
          -13.04546070098877,
          -5.877349853515625,
          -10.685506820678711
         ],
         "yaxis": "y"
        },
        {
         "hovertemplate": "color=297<br>symbol=297<br>x=%{x}<br>y=%{y}<extra></extra>",
         "legendgroup": "297, 297",
         "marker": {
          "color": "#FECB52",
          "opacity": 0.3,
          "symbol": "cross"
         },
         "mode": "markers",
         "name": "297, 297",
         "showlegend": true,
         "type": "scattergl",
         "x": [
          -5.789887428283691,
          -0.9700700044631958,
          -5.061033248901367,
          -2.5646629333496094,
          -38.9995231628418,
          2.645594358444214,
          -30.164743423461914,
          -1.6005480289459229,
          -5.043574333190918,
          -2.5649349689483643,
          1.5168695449829102,
          -8.889768600463867,
          -5.825770378112793,
          -1.928727149963379,
          -6.2980570793151855,
          -1.964125156402588
         ],
         "xaxis": "x",
         "y": [
          14.668501853942871,
          15.416796684265137,
          13.496458053588867,
          -4.639238357543945,
          7.139947414398193,
          -1.6002452373504639,
          8.498862266540527,
          10.189431190490723,
          11.411725997924805,
          11.06871509552002,
          -1.4480654001235962,
          4.704769134521484,
          14.00027847290039,
          18.48554229736328,
          -0.07478181272745132,
          19.391847610473633
         ],
         "yaxis": "y"
        },
        {
         "hovertemplate": "color=455<br>symbol=455<br>x=%{x}<br>y=%{y}<extra></extra>",
         "legendgroup": "455, 455",
         "marker": {
          "color": "#636efa",
          "opacity": 0.3,
          "symbol": "circle"
         },
         "mode": "markers",
         "name": "455, 455",
         "showlegend": true,
         "type": "scattergl",
         "x": [
          -41.19031524658203,
          -10.904115676879883,
          -13.140717506408691,
          -9.825118064880371,
          -14.200288772583008,
          -12.52590274810791,
          -12.744120597839355,
          -41.27503204345703,
          -8.884817123413086,
          -12.349873542785645,
          -13.516700744628906,
          4.206843852996826,
          -12.884200096130371,
          -15.316511154174805,
          -16.2166690826416,
          -12.180960655212402,
          -14.080056190490723,
          -11.993436813354492,
          -15.192696571350098,
          -15.956984519958496,
          -14.443705558776855,
          -15.577887535095215,
          -15.755006790161133,
          -13.787860870361328,
          -12.897287368774414,
          -14.094646453857422,
          0.6982008218765259,
          -13.519244194030762,
          -17.573394775390625,
          -16.212295532226562,
          -11.453970909118652,
          -16.503143310546875,
          -17.881059646606445,
          -15.481109619140625,
          -17.44936752319336,
          -16.44734764099121,
          -18.163171768188477,
          -18.62724494934082,
          -16.789840698242188,
          -15.522839546203613,
          -15.71789836883545,
          -16.276525497436523,
          -11.453458786010742,
          22.37783432006836,
          -11.804335594177246,
          -10.332107543945312,
          -11.944375038146973,
          -16.996780395507812,
          -16.43465805053711,
          -11.748819351196289,
          -15.45946979522705,
          -11.790961265563965,
          -12.296304702758789,
          -18.063995361328125,
          -15.37855052947998,
          -11.349117279052734,
          -12.084157943725586,
          -15.683030128479004,
          -14.25258731842041,
          -17.219289779663086,
          -11.940773010253906,
          -13.695611000061035
         ],
         "xaxis": "x",
         "y": [
          -39.52398681640625,
          -33.68378829956055,
          -31.872407913208008,
          -34.243194580078125,
          -34.14680480957031,
          -32.723331451416016,
          -32.8026008605957,
          -39.493839263916016,
          -22.11284828186035,
          -33.26253890991211,
          -32.543582916259766,
          -15.618680000305176,
          -33.0616455078125,
          -31.1717529296875,
          -29.52773094177246,
          -34.313175201416016,
          -33.66838073730469,
          -29.977861404418945,
          -29.21926498413086,
          -29.342716217041016,
          -32.20954132080078,
          -32.164005279541016,
          -29.498172760009766,
          -35.06695556640625,
          -34.53048324584961,
          -32.8460578918457,
          -18.401832580566406,
          -32.492435455322266,
          -28.484222412109375,
          -28.919300079345703,
          -32.98121643066406,
          -30.055068969726562,
          -31.947948455810547,
          -34.55384826660156,
          -28.62992286682129,
          -30.29158592224121,
          -31.694721221923828,
          -27.748729705810547,
          -31.576995849609375,
          -33.6788330078125,
          -33.62040710449219,
          -34.501708984375,
          -34.247406005859375,
          1.0948785543441772,
          -32.07085037231445,
          -33.01831817626953,
          -35.66510772705078,
          -30.527912139892578,
          -29.228580474853516,
          -33.607181549072266,
          -34.58896255493164,
          -30.900760650634766,
          -34.118141174316406,
          -32.17486572265625,
          -28.30641746520996,
          -33.49164962768555,
          -31.555273056030273,
          -32.499961853027344,
          -33.61121368408203,
          -30.470088958740234,
          -31.17860984802246,
          -30.862449645996094
         ],
         "yaxis": "y"
        },
        {
         "hovertemplate": "color=269<br>symbol=269<br>x=%{x}<br>y=%{y}<extra></extra>",
         "legendgroup": "269, 269",
         "marker": {
          "color": "#EF553B",
          "opacity": 0.3,
          "symbol": "diamond"
         },
         "mode": "markers",
         "name": "269, 269",
         "showlegend": true,
         "type": "scattergl",
         "x": [
          26.202417373657227,
          25.13788604736328,
          23.099456787109375,
          24.480146408081055,
          32.715946197509766,
          24.242475509643555,
          26.945188522338867,
          25.300796508789062,
          23.40304946899414,
          22.92742156982422,
          26.65552520751953,
          27.64314079284668,
          -2.6776368618011475,
          26.006641387939453,
          26.075544357299805,
          25.95818519592285,
          24.334091186523438,
          27.057788848876953,
          27.195852279663086,
          -0.015985747799277306,
          27.335050582885742,
          52.24455642700195,
          22.943828582763672,
          -3.1265416145324707,
          23.107460021972656,
          25.186275482177734,
          24.274580001831055,
          24.631277084350586,
          24.33413314819336,
          23.315834045410156,
          23.8607234954834,
          24.099925994873047,
          23.577232360839844,
          27.511219024658203
         ],
         "xaxis": "x",
         "y": [
          -27.900115966796875,
          -25.75425910949707,
          -26.310405731201172,
          -27.49774742126465,
          -21.440074920654297,
          -31.63184928894043,
          -27.364673614501953,
          -28.980297088623047,
          -28.376384735107422,
          -26.575170516967773,
          -28.7845401763916,
          -27.65428352355957,
          28.25575828552246,
          -24.140039443969727,
          -28.088598251342773,
          -27.571666717529297,
          -28.65499496459961,
          -26.759340286254883,
          -27.789060592651367,
          27.41223907470703,
          -29.619792938232422,
          -19.324499130249023,
          -26.773651123046875,
          27.70878791809082,
          -26.343549728393555,
          -25.460792541503906,
          -28.894933700561523,
          -30.948535919189453,
          -32.239295959472656,
          -26.587207794189453,
          -30.625118255615234,
          -31.035011291503906,
          16.259557723999023,
          -26.781017303466797
         ],
         "yaxis": "y"
        },
        {
         "hovertemplate": "color=386<br>symbol=386<br>x=%{x}<br>y=%{y}<extra></extra>",
         "legendgroup": "386, 386",
         "marker": {
          "color": "#00cc96",
          "opacity": 0.3,
          "symbol": "square"
         },
         "mode": "markers",
         "name": "386, 386",
         "showlegend": true,
         "type": "scattergl",
         "x": [
          -29.922025680541992,
          -28.22685432434082,
          -34.58799362182617,
          -28.956283569335938,
          -34.14247131347656,
          -28.27261734008789,
          -20.729875564575195,
          -27.79734992980957,
          -29.980281829833984,
          -28.34579849243164,
          -26.999462127685547,
          -31.43091583251953,
          -27.29897689819336,
          -33.23517990112305,
          -28.387842178344727,
          -33.77488708496094,
          -26.183237075805664,
          -30.091716766357422,
          -27.666879653930664,
          -28.26593589782715,
          -31.34469985961914,
          -9.219985961914062,
          -30.03862762451172,
          -10.630001068115234,
          -28.951810836791992,
          -30.23549461364746,
          -27.45086669921875,
          -24.56017303466797,
          -25.819419860839844,
          -29.55597686767578,
          23.781414031982422,
          -34.472312927246094,
          -31.262609481811523,
          -33.3613395690918,
          -21.488554000854492,
          -21.95543098449707,
          -16.2120361328125
         ],
         "xaxis": "x",
         "y": [
          40.68773651123047,
          39.63829040527344,
          36.14976119995117,
          37.66504669189453,
          35.14493942260742,
          34.82459259033203,
          39.35752868652344,
          40.25581359863281,
          40.65583801269531,
          40.580562591552734,
          41.1512565612793,
          33.21440124511719,
          37.45052719116211,
          33.624996185302734,
          35.85612106323242,
          34.89442443847656,
          48.22263717651367,
          35.87471008300781,
          40.4492073059082,
          39.431915283203125,
          33.3504753112793,
          22.322193145751953,
          37.67267608642578,
          10.126227378845215,
          40.52070999145508,
          34.806861877441406,
          39.1346549987793,
          33.431976318359375,
          37.8311653137207,
          38.7462158203125,
          -4.540215015411377,
          35.95261764526367,
          40.792503356933594,
          35.289939880371094,
          39.9338493347168,
          40.14185333251953,
          -0.3852255046367645
         ],
         "yaxis": "y"
        },
        {
         "hovertemplate": "color=67<br>symbol=67<br>x=%{x}<br>y=%{y}<extra></extra>",
         "legendgroup": "67, 67",
         "marker": {
          "color": "#ab63fa",
          "opacity": 0.3,
          "symbol": "x"
         },
         "mode": "markers",
         "name": "67, 67",
         "showlegend": true,
         "type": "scattergl",
         "x": [
          6.59291410446167,
          14.606475830078125,
          13.755167961120605,
          14.546656608581543,
          15.004936218261719,
          13.309036254882812,
          6.151176929473877,
          5.8090596199035645,
          4.901942253112793,
          -27.678747177124023,
          13.182649612426758,
          14.669466972351074,
          7.819709777832031,
          7.263737201690674,
          5.541653633117676,
          13.232908248901367,
          13.740630149841309,
          5.0132036209106445,
          13.519020080566406,
          13.677329063415527,
          6.445958137512207,
          7.870862007141113,
          -19.682743072509766,
          4.345739364624023,
          12.84768009185791,
          6.03149938583374,
          4.257106781005859
         ],
         "xaxis": "x",
         "y": [
          16.759836196899414,
          3.60509991645813,
          5.0359787940979,
          21.69167137145996,
          4.519925594329834,
          4.045718669891357,
          16.800945281982422,
          18.9755859375,
          17.000579833984375,
          7.011131286621094,
          3.9625403881073,
          3.671048402786255,
          17.68105125427246,
          17.85973358154297,
          19.173965454101562,
          4.975504398345947,
          4.588026523590088,
          19.266807556152344,
          5.966720104217529,
          5.274659156799316,
          18.552453994750977,
          17.622051239013672,
          6.201127529144287,
          19.35614776611328,
          2.9515182971954346,
          17.514455795288086,
          19.487598419189453
         ],
         "yaxis": "y"
        },
        {
         "hovertemplate": "color=186<br>symbol=186<br>x=%{x}<br>y=%{y}<extra></extra>",
         "legendgroup": "186, 186",
         "marker": {
          "color": "#FFA15A",
          "opacity": 0.3,
          "symbol": "cross"
         },
         "mode": "markers",
         "name": "186, 186",
         "showlegend": true,
         "type": "scattergl",
         "x": [
          1.7697570323944092,
          -11.806998252868652,
          -11.800383567810059,
          -1.541010856628418,
          -1.6385191679000854,
          19.759063720703125,
          -0.5405632853507996,
          -14.119200706481934,
          -1.865577220916748,
          -15.083444595336914,
          -3.6673686504364014,
          -1.185405969619751,
          -3.715712547302246,
          -7.488656520843506,
          -51.664833068847656,
          -4.3198394775390625,
          -6.700719833374023,
          -1.7752190828323364
         ],
         "xaxis": "x",
         "y": [
          17.491985321044922,
          24.322895050048828,
          32.21177291870117,
          27.824039459228516,
          34.64763259887695,
          8.725390434265137,
          28.33521270751953,
          32.29643249511719,
          34.38119125366211,
          32.31053924560547,
          33.505043029785156,
          24.630645751953125,
          32.140987396240234,
          27.21778678894043,
          7.2012152671813965,
          27.101442337036133,
          35.30866241455078,
          34.536495208740234
         ],
         "yaxis": "y"
        },
        {
         "hovertemplate": "color=429<br>symbol=429<br>x=%{x}<br>y=%{y}<extra></extra>",
         "legendgroup": "429, 429",
         "marker": {
          "color": "#19d3f3",
          "opacity": 0.3,
          "symbol": "circle"
         },
         "mode": "markers",
         "name": "429, 429",
         "showlegend": true,
         "type": "scattergl",
         "x": [
          10.602014541625977,
          11.78246784210205,
          15.40736198425293,
          10.134922981262207,
          -9.568727493286133,
          13.994094848632812,
          13.887818336486816,
          15.308793067932129,
          14.087037086486816,
          3.741610050201416,
          10.719037055969238,
          10.846914291381836,
          10.911808013916016,
          15.454854965209961,
          13.221013069152832,
          11.352371215820312,
          10.766572952270508,
          15.717001914978027,
          41.24980545043945,
          14.0880708694458,
          3.414947509765625,
          15.4959716796875,
          14.171387672424316,
          14.580472946166992,
          14.349886894226074,
          -9.557454109191895,
          18.55440902709961,
          20.639503479003906,
          22.95416259765625,
          14.474797248840332,
          12.62666130065918,
          12.939136505126953,
          40.3671989440918,
          15.05470085144043,
          14.47046947479248,
          17.05171775817871,
          7.892499923706055,
          11.805949211120605,
          12.968781471252441,
          15.7201509475708,
          10.999335289001465,
          15.677590370178223,
          13.38578987121582
         ],
         "xaxis": "x",
         "y": [
          -19.245243072509766,
          -16.616357803344727,
          -19.660690307617188,
          -19.08979606628418,
          -2.5357778072357178,
          -57.12343978881836,
          -18.321683883666992,
          -19.78006362915039,
          -20.917945861816406,
          -19.718828201293945,
          -19.35135841369629,
          -19.32396697998047,
          -18.261550903320312,
          -19.87368392944336,
          -20.305377960205078,
          -20.77557945251465,
          -19.31754493713379,
          -21.437185287475586,
          -48.8988037109375,
          -18.733285903930664,
          -19.568851470947266,
          -17.65155792236328,
          -18.831260681152344,
          -21.290855407714844,
          -19.779010772705078,
          -2.5503222942352295,
          -20.48307991027832,
          -18.09928321838379,
          -7.486818313598633,
          -19.272136688232422,
          -20.21397590637207,
          -18.457557678222656,
          -57.73309326171875,
          -19.892719268798828,
          -20.009965896606445,
          -18.789569854736328,
          -22.004701614379883,
          -19.10832405090332,
          -21.551239013671875,
          -20.814409255981445,
          -18.25873565673828,
          -19.7293701171875,
          -20.07946014404297
         ],
         "yaxis": "y"
        },
        {
         "hovertemplate": "color=409<br>symbol=409<br>x=%{x}<br>y=%{y}<extra></extra>",
         "legendgroup": "409, 409",
         "marker": {
          "color": "#FF6692",
          "opacity": 0.3,
          "symbol": "diamond"
         },
         "mode": "markers",
         "name": "409, 409",
         "showlegend": true,
         "type": "scattergl",
         "x": [
          53.387691497802734,
          52.49424362182617,
          54.35455322265625,
          50.596256256103516,
          52.424217224121094,
          52.356510162353516,
          49.845821380615234,
          51.60008239746094,
          54.83007049560547,
          53.42070007324219,
          54.0713996887207,
          52.65877914428711,
          53.54656219482422,
          43.04287338256836,
          48.41670608520508,
          57.514930725097656,
          53.55263137817383,
          52.34199142456055,
          52.10179901123047,
          54.1721076965332,
          53.6234245300293,
          -5.6447834968566895,
          53.538490295410156,
          52.46872329711914,
          57.056434631347656,
          54.635108947753906
         ],
         "xaxis": "x",
         "y": [
          14.44619369506836,
          14.72187614440918,
          9.461079597473145,
          13.38127326965332,
          15.016450881958008,
          13.177708625793457,
          12.862799644470215,
          12.575324058532715,
          9.838748931884766,
          11.052718162536621,
          14.811080932617188,
          13.875244140625,
          10.983633041381836,
          4.704338073730469,
          10.7020902633667,
          7.951025009155273,
          12.312697410583496,
          13.094738960266113,
          12.682523727416992,
          10.042838096618652,
          11.674832344055176,
          25.306005477905273,
          11.930522918701172,
          13.576441764831543,
          8.426651000976562,
          10.17556095123291
         ],
         "yaxis": "y"
        },
        {
         "hovertemplate": "color=404<br>symbol=404<br>x=%{x}<br>y=%{y}<extra></extra>",
         "legendgroup": "404, 404",
         "marker": {
          "color": "#B6E880",
          "opacity": 0.3,
          "symbol": "square"
         },
         "mode": "markers",
         "name": "404, 404",
         "showlegend": true,
         "type": "scattergl",
         "x": [
          2.8157598972320557,
          59.49813461303711,
          20.726261138916016
         ],
         "xaxis": "x",
         "y": [
          -10.981650352478027,
          6.59934139251709,
          27.32254981994629
         ],
         "yaxis": "y"
        },
        {
         "hovertemplate": "color=247<br>symbol=247<br>x=%{x}<br>y=%{y}<extra></extra>",
         "legendgroup": "247, 247",
         "marker": {
          "color": "#FF97FF",
          "opacity": 0.3,
          "symbol": "x"
         },
         "mode": "markers",
         "name": "247, 247",
         "showlegend": true,
         "type": "scattergl",
         "x": [
          2.0526583194732666,
          -0.986664891242981,
          -0.7242290377616882,
          -3.2721755504608154,
          -2.2671337127685547,
          1.4672698974609375,
          -0.06050904467701912,
          -2.892183780670166,
          -0.12199874967336655,
          -3.6198925971984863,
          2.4392998218536377,
          -2.461754560470581,
          -4.917638778686523,
          4.400397777557373,
          -2.472830057144165,
          1.117742657661438,
          -2.639266014099121,
          2.9503769874572754,
          -3.302216053009033,
          -0.46607232093811035,
          0.029766445979475975,
          0.028014129027724266,
          0.4212931990623474,
          3.0003390312194824,
          3.7275447845458984,
          0.20557473599910736,
          -2.007596015930176,
          -2.2223143577575684,
          -3.271608829498291,
          1.0256184339523315,
          -2.125035285949707,
          1.6047874689102173,
          -1.8426414728164673,
          -1.148901343345642,
          -1.2549877166748047,
          -2.7865445613861084,
          0.3037554919719696,
          1.6497840881347656,
          1.3036681413650513
         ],
         "xaxis": "x",
         "y": [
          72.42462158203125,
          75.0708236694336,
          74.00101470947266,
          72.29273223876953,
          74.9896011352539,
          74.09490203857422,
          70.74654388427734,
          74.0001220703125,
          73.25016021728516,
          73.72764587402344,
          74.06819152832031,
          73.907470703125,
          72.67074584960938,
          -15.391806602478027,
          72.65766143798828,
          73.35956573486328,
          73.52716064453125,
          71.16791534423828,
          72.08626556396484,
          71.37629699707031,
          67.50446319580078,
          67.39661407470703,
          72.18553161621094,
          69.77759552001953,
          71.87057495117188,
          74.82357025146484,
          74.3176040649414,
          72.29981994628906,
          72.42878723144531,
          69.61695861816406,
          73.31092834472656,
          73.21318054199219,
          73.29246520996094,
          74.0888671875,
          74.10014343261719,
          74.34844207763672,
          71.9914321899414,
          70.9111557006836,
          72.91950988769531
         ],
         "yaxis": "y"
        },
        {
         "hovertemplate": "color=375<br>symbol=375<br>x=%{x}<br>y=%{y}<extra></extra>",
         "legendgroup": "375, 375",
         "marker": {
          "color": "#FECB52",
          "opacity": 0.3,
          "symbol": "cross"
         },
         "mode": "markers",
         "name": "375, 375",
         "showlegend": true,
         "type": "scattergl",
         "x": [
          -30.419397354125977,
          -31.492839813232422,
          -29.87306022644043,
          -34.29607391357422,
          -26.428668975830078,
          -34.751522064208984,
          -35.39948654174805,
          -34.518768310546875,
          -29.391695022583008,
          -28.999248504638672,
          -22.99493980407715,
          -28.79545783996582,
          -27.91943359375,
          -27.45198631286621,
          -26.667749404907227,
          -32.13631057739258,
          -26.702856063842773,
          -29.171653747558594,
          46.94390869140625,
          -34.04020309448242,
          -26.267784118652344,
          21.488374710083008,
          -24.509798049926758,
          -31.23881721496582,
          -29.520551681518555,
          -28.55709457397461,
          -28.36359977722168,
          -28.936819076538086,
          -25.63108253479004,
          -15.684925079345703,
          -33.48814010620117,
          4.32026481628418,
          -28.146081924438477,
          -27.555049896240234,
          -32.03093719482422,
          -25.45412254333496,
          -28.67881965637207,
          -29.820749282836914,
          -30.428544998168945,
          -32.97919845581055,
          -31.342092514038086,
          -27.541305541992188,
          -31.725065231323242,
          -27.584707260131836,
          -28.797266006469727,
          -27.73269271850586,
          -34.527549743652344,
          -12.872611045837402,
          -34.585044860839844,
          -30.85903549194336,
          -27.175012588500977,
          -29.943635940551758,
          -30.022279739379883,
          -35.24510192871094,
          -29.04568099975586,
          -29.738502502441406,
          -28.525346755981445,
          -29.90709114074707,
          -31.44899559020996,
          -30.612506866455078,
          -33.19379425048828,
          -28.4836483001709,
          -34.134422302246094,
          -27.29534149169922,
          -31.861343383789062,
          -32.191829681396484,
          -29.73640251159668,
          -34.33134078979492,
          -19.643272399902344,
          -29.663820266723633,
          -29.8880615234375,
          -0.013071129098534584,
          -28.959266662597656,
          -34.74021911621094,
          -25.936464309692383,
          4.122623920440674,
          -32.06475830078125,
          -30.123371124267578,
          -21.498544692993164
         ],
         "xaxis": "x",
         "y": [
          46.428802490234375,
          40.782955169677734,
          44.82463073730469,
          38.8720588684082,
          37.62845993041992,
          39.50587844848633,
          40.56760025024414,
          36.31614685058594,
          47.49684143066406,
          33.5909538269043,
          11.938632011413574,
          35.40509033203125,
          39.11042022705078,
          42.32355499267578,
          34.00126266479492,
          39.17375183105469,
          39.553409576416016,
          44.284507751464844,
          23.668869018554688,
          40.2997932434082,
          48.1701545715332,
          0.24933817982673645,
          34.57395553588867,
          45.58222961425781,
          37.900665283203125,
          44.73695373535156,
          45.10991668701172,
          40.93427276611328,
          38.293277740478516,
          1.4843592643737793,
          39.872161865234375,
          -10.534034729003906,
          34.881404876708984,
          40.8294677734375,
          38.100345611572266,
          41.4459228515625,
          37.27009582519531,
          39.01996612548828,
          45.4189567565918,
          39.93351364135742,
          36.960391998291016,
          41.4891357421875,
          36.23706817626953,
          37.954246520996094,
          41.19437789916992,
          41.034271240234375,
          35.03670120239258,
          -41.8432502746582,
          34.89030075073242,
          44.609466552734375,
          35.83106231689453,
          34.906333923339844,
          44.64303207397461,
          37.87232208251953,
          46.50297546386719,
          44.952239990234375,
          38.34218215942383,
          47.06761932373047,
          38.2724609375,
          34.62565231323242,
          39.73285675048828,
          38.361419677734375,
          38.126224517822266,
          35.0838737487793,
          37.1765251159668,
          39.247772216796875,
          38.499305725097656,
          41.63249588012695,
          1.2315618991851807,
          40.267696380615234,
          46.01133346557617,
          13.099174499511719,
          45.335365295410156,
          39.126216888427734,
          38.81376647949219,
          -14.397246360778809,
          45.01737976074219,
          35.770606994628906,
          38.395896911621094
         ],
         "yaxis": "y"
        },
        {
         "hovertemplate": "color=149<br>symbol=149<br>x=%{x}<br>y=%{y}<extra></extra>",
         "legendgroup": "149, 149",
         "marker": {
          "color": "#636efa",
          "opacity": 0.3,
          "symbol": "circle"
         },
         "mode": "markers",
         "name": "149, 149",
         "showlegend": true,
         "type": "scattergl",
         "x": [
          18.41359519958496,
          -16.247180938720703,
          20.641944885253906,
          21.28470230102539,
          26.782974243164062,
          23.576854705810547,
          18.77926254272461,
          22.179594039916992,
          21.486230850219727,
          20.050844192504883,
          19.928125381469727,
          21.614261627197266,
          22.35757064819336,
          20.254098892211914,
          21.554058074951172,
          19.901365280151367
         ],
         "xaxis": "x",
         "y": [
          58.444053649902344,
          -19.979183197021484,
          60.343692779541016,
          61.9718132019043,
          64.37669372558594,
          -7.015915870666504,
          61.723106384277344,
          65.28813171386719,
          59.54158020019531,
          62.257781982421875,
          64.91011810302734,
          59.666282653808594,
          56.26549530029297,
          59.461734771728516,
          59.33359909057617,
          59.16927719116211
         ],
         "yaxis": "y"
        },
        {
         "hovertemplate": "color=66<br>symbol=66<br>x=%{x}<br>y=%{y}<extra></extra>",
         "legendgroup": "66, 66",
         "marker": {
          "color": "#EF553B",
          "opacity": 0.3,
          "symbol": "diamond"
         },
         "mode": "markers",
         "name": "66, 66",
         "showlegend": true,
         "type": "scattergl",
         "x": [
          -7.405766010284424,
          11.761786460876465,
          6.545267105102539,
          12.61622428894043,
          12.66711711883545,
          6.889695644378662,
          13.232401847839355,
          12.012211799621582,
          13.980217933654785
         ],
         "xaxis": "x",
         "y": [
          37.281089782714844,
          5.244858264923096,
          19.781837463378906,
          4.6875457763671875,
          5.571125507354736,
          20.04327964782715,
          3.820530414581299,
          5.766324043273926,
          3.4208483695983887
         ],
         "yaxis": "y"
        },
        {
         "hovertemplate": "color=228<br>symbol=228<br>x=%{x}<br>y=%{y}<extra></extra>",
         "legendgroup": "228, 228",
         "marker": {
          "color": "#00cc96",
          "opacity": 0.3,
          "symbol": "square"
         },
         "mode": "markers",
         "name": "228, 228",
         "showlegend": true,
         "type": "scattergl",
         "x": [
          -22.576921463012695,
          41.172122955322266,
          -15.864212036132812,
          -20.247657775878906,
          -15.183364868164062,
          -50.82997512817383,
          22.544628143310547,
          -8.894204139709473,
          -23.804311752319336,
          -20.5637264251709,
          -10.654034614562988,
          -8.340877532958984,
          -27.689664840698242,
          -4.570347309112549,
          -17.606985092163086,
          -16.32419204711914,
          -9.119085311889648,
          22.4700927734375,
          -9.782471656799316,
          6.296597003936768,
          -19.120729446411133,
          -14.277002334594727,
          -8.338399887084961,
          -19.69369888305664,
          -7.273565292358398,
          -35.74367141723633,
          -19.643550872802734,
          -11.565196990966797,
          4.634275436401367,
          -14.704160690307617,
          -20.67363166809082,
          -14.820989608764648,
          -21.934478759765625,
          -17.996240615844727,
          21.347402572631836,
          42.85243225097656,
          -21.886430740356445,
          -20.361867904663086,
          -9.285544395446777,
          -9.177172660827637,
          -8.030449867248535,
          -23.9326229095459,
          -31.888845443725586,
          -9.807950019836426,
          -11.882317543029785,
          -21.067840576171875,
          -13.14767837524414,
          -18.08407211303711,
          -15.96802043914795,
          -10.88921070098877,
          -9.11257266998291,
          -8.747322082519531,
          6.365954399108887,
          -20.273048400878906,
          -18.577980041503906,
          -17.962732315063477,
          -18.486940383911133,
          5.823051929473877,
          -11.126213073730469
         ],
         "xaxis": "x",
         "y": [
          25.1536922454834,
          -48.72443389892578,
          24.9975643157959,
          25.501768112182617,
          18.884889602661133,
          4.137270450592041,
          10.60624885559082,
          26.744529724121094,
          23.238351821899414,
          23.85102081298828,
          27.969345092773438,
          24.02487564086914,
          20.827110290527344,
          30.32758140563965,
          23.10706901550293,
          27.280717849731445,
          30.110370635986328,
          10.522665977478027,
          27.692113876342773,
          33.56562042236328,
          22.990522384643555,
          30.73737335205078,
          27.842586517333984,
          25.39411163330078,
          28.301551818847656,
          5.708377838134766,
          20.769817352294922,
          8.681593894958496,
          33.73957061767578,
          25.593509674072266,
          23.203420639038086,
          31.549360275268555,
          21.284929275512695,
          26.232934951782227,
          9.621883392333984,
          -49.28001403808594,
          21.064006805419922,
          25.9381160736084,
          25.275257110595703,
          25.33977508544922,
          25.012060165405273,
          36.707271575927734,
          36.3737907409668,
          31.08251953125,
          32.05131912231445,
          19.503496170043945,
          30.107261657714844,
          21.472444534301758,
          20.024927139282227,
          25.034969329833984,
          29.01706886291504,
          28.034526824951172,
          34.462318420410156,
          22.966955184936523,
          23.845659255981445,
          26.11701774597168,
          23.687772750854492,
          36.13230514526367,
          27.83800506591797
         ],
         "yaxis": "y"
        },
        {
         "hovertemplate": "color=10<br>symbol=10<br>x=%{x}<br>y=%{y}<extra></extra>",
         "legendgroup": "10, 10",
         "marker": {
          "color": "#ab63fa",
          "opacity": 0.3,
          "symbol": "x"
         },
         "mode": "markers",
         "name": "10, 10",
         "showlegend": true,
         "type": "scattergl",
         "x": [
          41.287574768066406,
          44.14256286621094,
          45.82686233520508,
          45.94208908081055,
          41.80992889404297,
          44.25590515136719,
          41.359134674072266,
          46.945743560791016,
          43.6230354309082,
          43.23579025268555,
          42.76335144042969,
          44.056236267089844,
          43.01455307006836,
          46.02459716796875,
          42.752952575683594,
          46.042545318603516,
          48.1412353515625,
          44.200435638427734,
          47.43818283081055,
          43.41554260253906,
          40.693809509277344,
          41.479827880859375,
          42.099613189697266,
          44.02394104003906,
          40.55828857421875
         ],
         "xaxis": "x",
         "y": [
          -54.5169563293457,
          -52.715877532958984,
          -47.088661193847656,
          -47.517879486083984,
          -52.1419563293457,
          -47.736995697021484,
          -55.2496452331543,
          -52.57305908203125,
          -55.38456726074219,
          -53.08791732788086,
          -54.23183059692383,
          -55.452476501464844,
          -55.95862579345703,
          -47.24421691894531,
          -51.4857292175293,
          -53.261112213134766,
          -52.37588119506836,
          -47.53862380981445,
          -51.36711502075195,
          -53.98674774169922,
          -55.985069274902344,
          -54.45209884643555,
          -54.6739501953125,
          -47.7044792175293,
          -54.146949768066406
         ],
         "yaxis": "y"
        },
        {
         "hovertemplate": "color=26<br>symbol=26<br>x=%{x}<br>y=%{y}<extra></extra>",
         "legendgroup": "26, 26",
         "marker": {
          "color": "#FFA15A",
          "opacity": 0.3,
          "symbol": "cross"
         },
         "mode": "markers",
         "name": "26, 26",
         "showlegend": true,
         "type": "scattergl",
         "x": [
          37.52900695800781,
          36.576271057128906,
          38.37548065185547,
          38.52302932739258,
          37.05818176269531,
          41.126834869384766,
          37.79232406616211,
          40.312774658203125,
          36.112422943115234,
          36.321102142333984,
          43.107627868652344,
          38.3650016784668,
          27.00747299194336,
          40.5806884765625,
          43.1767463684082,
          42.55747985839844,
          44.60468673706055,
          39.05907440185547,
          40.55337905883789,
          42.880393981933594,
          41.42112350463867,
          34.8572883605957,
          42.477638244628906,
          19.632768630981445,
          41.92051315307617,
          46.856868743896484,
          23.243139266967773,
          45.58496856689453,
          36.2790412902832,
          41.572479248046875,
          43.46023178100586,
          39.946533203125,
          40.796173095703125,
          39.684600830078125,
          41.90506362915039,
          46.57838821411133,
          38.34756851196289,
          41.12169647216797,
          19.253305435180664,
          44.21420669555664,
          37.252838134765625,
          43.27638244628906,
          37.189842224121094,
          42.52169418334961,
          22.51467514038086,
          45.29722595214844,
          42.466949462890625,
          35.490352630615234,
          21.262508392333984,
          35.50666046142578,
          45.412113189697266,
          42.8996696472168,
          39.00852584838867,
          48.11687469482422,
          36.773067474365234,
          43.37531280517578,
          40.478271484375,
          41.37990188598633,
          41.43623352050781,
          37.31304168701172,
          42.72925567626953,
          34.89922332763672,
          36.81193161010742,
          46.363624572753906,
          45.157470703125,
          39.974369049072266
         ],
         "xaxis": "x",
         "y": [
          -53.42918014526367,
          -52.013099670410156,
          -51.08591079711914,
          -50.92756271362305,
          -52.35679626464844,
          -55.942787170410156,
          -49.88937759399414,
          -53.437660217285156,
          -49.59132385253906,
          -51.75236129760742,
          -54.070579528808594,
          -52.21931457519531,
          56.35747146606445,
          -53.57079315185547,
          -50.51883316040039,
          -52.60979080200195,
          -53.666202545166016,
          -54.734649658203125,
          -54.808807373046875,
          -55.104251861572266,
          -54.24119186401367,
          -49.349849700927734,
          -55.25616455078125,
          65.7646484375,
          -56.11758041381836,
          -52.89173889160156,
          -16.667734146118164,
          -51.66676712036133,
          -51.753746032714844,
          -49.38158416748047,
          -54.67023468017578,
          -55.64790344238281,
          -52.262508392333984,
          -55.55766296386719,
          -53.24830627441406,
          -52.51728439331055,
          -52.27998352050781,
          -56.00823211669922,
          -18.0546817779541,
          -51.71169662475586,
          -53.042152404785156,
          -52.24338912963867,
          -53.54999923706055,
          -52.87421417236328,
          23.38319969177246,
          -50.178653717041016,
          -56.95563888549805,
          -50.46601867675781,
          -4.925995826721191,
          -53.278343200683594,
          -51.62822341918945,
          -51.58024215698242,
          -55.45728302001953,
          -52.37069320678711,
          -50.48453140258789,
          -52.269596099853516,
          -55.248504638671875,
          -51.273048400878906,
          -50.877403259277344,
          -53.515174865722656,
          -52.81100845336914,
          -52.517539978027344,
          -49.668331146240234,
          -53.47319412231445,
          -51.4827995300293,
          -53.11417770385742
         ],
         "yaxis": "y"
        },
        {
         "hovertemplate": "color=432<br>symbol=432<br>x=%{x}<br>y=%{y}<extra></extra>",
         "legendgroup": "432, 432",
         "marker": {
          "color": "#19d3f3",
          "opacity": 0.3,
          "symbol": "circle"
         },
         "mode": "markers",
         "name": "432, 432",
         "showlegend": true,
         "type": "scattergl",
         "x": [
          51.91167449951172,
          51.97212219238281,
          30.41175651550293,
          50.72587203979492,
          53.04887008666992,
          52.28734588623047
         ],
         "xaxis": "x",
         "y": [
          14.34146499633789,
          13.898310661315918,
          15.899704933166504,
          13.792750358581543,
          15.47060775756836,
          15.984813690185547
         ],
         "yaxis": "y"
        },
        {
         "hovertemplate": "color=398<br>symbol=398<br>x=%{x}<br>y=%{y}<extra></extra>",
         "legendgroup": "398, 398",
         "marker": {
          "color": "#FF6692",
          "opacity": 0.3,
          "symbol": "diamond"
         },
         "mode": "markers",
         "name": "398, 398",
         "showlegend": true,
         "type": "scattergl",
         "x": [
          -27.653303146362305,
          -29.173498153686523,
          -29.081172943115234,
          -31.200847625732422,
          -29.700538635253906,
          -29.26556396484375,
          -29.460905075073242,
          -29.255762100219727,
          -29.74358558654785,
          -26.20752716064453,
          -27.402664184570312,
          -29.267486572265625,
          -28.458066940307617,
          -25.799327850341797,
          9.069732666015625,
          -29.22020149230957,
          -28.033437728881836,
          -27.976224899291992,
          -26.417253494262695,
          -22.890344619750977,
          8.735797882080078,
          -26.650531768798828,
          -27.713237762451172,
          -30.75706672668457,
          -28.80961799621582,
          -26.681068420410156,
          -29.30912971496582,
          -1.3448126316070557,
          -25.433666229248047,
          -29.67207145690918,
          -30.203113555908203,
          -29.5850887298584,
          -28.50531578063965,
          -30.24523162841797,
          -25.967491149902344,
          -26.164953231811523,
          -26.019182205200195,
          -29.860857009887695
         ],
         "xaxis": "x",
         "y": [
          -40.124691009521484,
          -39.794342041015625,
          -40.298194885253906,
          -39.088531494140625,
          -39.54372787475586,
          -40.19442367553711,
          -42.00172424316406,
          -41.78763198852539,
          -38.925785064697266,
          -40.26364517211914,
          -38.445640563964844,
          -39.26683807373047,
          -39.08771896362305,
          -39.233360290527344,
          -6.321085453033447,
          -38.028404235839844,
          -40.34873962402344,
          -41.955509185791016,
          -37.764400482177734,
          3.3308088779449463,
          -5.6493730545043945,
          -39.23237991333008,
          -39.19952392578125,
          -39.22701644897461,
          -40.02020263671875,
          -39.25347137451172,
          -41.774662017822266,
          -17.765960693359375,
          -39.631160736083984,
          -40.690216064453125,
          -40.7567024230957,
          -42.04166030883789,
          -40.86365509033203,
          -39.93003463745117,
          -40.54847717285156,
          -40.238224029541016,
          -39.620182037353516,
          -40.98305892944336
         ],
         "yaxis": "y"
        },
        {
         "hovertemplate": "color=428<br>symbol=428<br>x=%{x}<br>y=%{y}<extra></extra>",
         "legendgroup": "428, 428",
         "marker": {
          "color": "#B6E880",
          "opacity": 0.3,
          "symbol": "square"
         },
         "mode": "markers",
         "name": "428, 428",
         "showlegend": true,
         "type": "scattergl",
         "x": [
          -33.44762420654297,
          -32.71971130371094,
          -29.548978805541992,
          -28.119054794311523,
          -27.367050170898438,
          -9.73564624786377,
          -31.676435470581055,
          -24.51561164855957,
          -26.05855369567871,
          -30.82135009765625,
          -28.92650604248047,
          -28.220930099487305,
          -26.33772087097168,
          -12.841700553894043,
          -31.31241798400879,
          -31.5052490234375,
          -30.538692474365234,
          -32.15201950073242,
          -32.73471450805664,
          -28.322040557861328,
          -30.95179557800293,
          -26.361326217651367,
          -28.354665756225586,
          -30.33321189880371,
          -31.725574493408203,
          -29.45998191833496,
          -25.932254791259766,
          -30.768146514892578,
          -28.78484344482422,
          -28.44089698791504,
          -26.992338180541992,
          -26.995800018310547,
          -28.850440979003906,
          -28.37746810913086,
          -26.437049865722656,
          -28.281156539916992,
          -29.134613037109375,
          -29.980518341064453,
          -32.49277114868164,
          -32.076866149902344,
          -32.72018051147461,
          10.716633796691895,
          -27.149471282958984,
          -47.04058837890625,
          -25.183635711669922,
          -29.200111389160156,
          -33.27861022949219,
          1.2672829627990723,
          -32.73105239868164,
          -29.898378372192383,
          -29.852277755737305,
          -25.298446655273438,
          -29.921659469604492,
          -25.893186569213867,
          -28.32208824157715,
          -32.189693450927734,
          -27.555850982666016,
          -30.8326473236084,
          -31.283416748046875,
          -26.470983505249023,
          -32.35270309448242,
          -26.550382614135742,
          -32.659236907958984,
          -31.26428985595703,
          -28.180980682373047,
          -10.196208000183105,
          -27.033050537109375,
          -32.25010681152344,
          -25.566015243530273
         ],
         "xaxis": "x",
         "y": [
          -24.92369270324707,
          -23.294567108154297,
          -26.963117599487305,
          -27.619434356689453,
          -25.302574157714844,
          -21.24498748779297,
          -24.943042755126953,
          -24.436779022216797,
          -27.632186889648438,
          -25.776317596435547,
          -27.92079734802246,
          -26.517986297607422,
          -21.151599884033203,
          -0.3350248634815216,
          -24.12145233154297,
          -25.533710479736328,
          -24.475582122802734,
          -24.946325302124023,
          -23.371177673339844,
          -27.55832862854004,
          -21.436649322509766,
          -24.80494499206543,
          -23.695573806762695,
          -24.53607177734375,
          -25.845361709594727,
          -27.657079696655273,
          -23.959362030029297,
          -28.008193969726562,
          -25.4890193939209,
          -28.38709259033203,
          -23.367246627807617,
          -23.8524227142334,
          -25.83013343811035,
          -21.68296241760254,
          -25.747913360595703,
          -29.16208839416504,
          -27.161540985107422,
          -21.623369216918945,
          -27.395967483520508,
          -27.211380004882812,
          -27.756521224975586,
          27.55091667175293,
          -24.54477882385254,
          3.8806936740875244,
          -23.695119857788086,
          -27.33466911315918,
          -26.34505844116211,
          -12.064053535461426,
          -25.635473251342773,
          -25.553512573242188,
          -21.61819839477539,
          -24.356735229492188,
          -26.278255462646484,
          -25.53829002380371,
          -21.809640884399414,
          -26.158798217773438,
          -25.153318405151367,
          -27.739315032958984,
          -27.42193603515625,
          -24.766626358032227,
          -26.633953094482422,
          -24.64383316040039,
          -24.643905639648438,
          -26.6868896484375,
          -27.75978660583496,
          -21.08616065979004,
          -23.238378524780273,
          -26.47551918029785,
          -23.380582809448242
         ],
         "yaxis": "y"
        },
        {
         "hovertemplate": "color=147<br>symbol=147<br>x=%{x}<br>y=%{y}<extra></extra>",
         "legendgroup": "147, 147",
         "marker": {
          "color": "#FF97FF",
          "opacity": 0.3,
          "symbol": "x"
         },
         "mode": "markers",
         "name": "147, 147",
         "showlegend": true,
         "type": "scattergl",
         "x": [
          38.68826675415039,
          0.025170670822262764,
          6.832101821899414,
          -12.350616455078125,
          -10.97765827178955,
          -11.402310371398926,
          -14.166952133178711,
          -12.596768379211426,
          -26.023971557617188,
          -28.20729637145996,
          -10.933724403381348,
          -8.87035846710205,
          -11.346449851989746,
          -11.053479194641113,
          -11.879190444946289,
          -5.661821365356445,
          -12.550650596618652,
          -12.164583206176758,
          -10.900731086730957,
          2.281054973602295
         ],
         "xaxis": "x",
         "y": [
          -23.401487350463867,
          9.645174026489258,
          4.458796501159668,
          -17.56545639038086,
          -17.398204803466797,
          -18.700973510742188,
          -19.433055877685547,
          -17.64206886291504,
          10.502532005310059,
          33.2176628112793,
          -15.50645923614502,
          26.508766174316406,
          -17.85890007019043,
          -17.684595108032227,
          -18.24456214904785,
          -2.9550979137420654,
          -17.15730094909668,
          -18.093996047973633,
          -15.552533149719238,
          -8.94223690032959
         ],
         "yaxis": "y"
        },
        {
         "hovertemplate": "color=323<br>symbol=323<br>x=%{x}<br>y=%{y}<extra></extra>",
         "legendgroup": "323, 323",
         "marker": {
          "color": "#FECB52",
          "opacity": 0.3,
          "symbol": "cross"
         },
         "mode": "markers",
         "name": "323, 323",
         "showlegend": true,
         "type": "scattergl",
         "x": [
          2.046020746231079,
          2.2313690185546875,
          0.1407323032617569,
          -0.5744714736938477,
          -0.6665710806846619,
          4.313451290130615,
          -1.9395807981491089,
          -1.9226608276367188,
          3.447674512863159,
          2.705780506134033,
          0.9846752882003784,
          2.0258779525756836,
          1.4749867916107178,
          -20.712093353271484,
          1.897642731666565,
          -0.28665876388549805,
          -7.126696586608887,
          -0.9253203868865967,
          1.8542511463165283,
          2.5289700031280518,
          3.7152798175811768,
          2.2482669353485107,
          2.2553927898406982,
          2.025693655014038,
          1.7638009786605835,
          1.437003493309021,
          -0.9221486449241638,
          2.7750186920166016,
          2.560060501098633,
          0.12572985887527466,
          1.8931933641433716,
          1.1763992309570312,
          -1.5006961822509766,
          -30.4909610748291,
          -0.3411707282066345
         ],
         "xaxis": "x",
         "y": [
          -39.46630859375,
          -37.350765228271484,
          -34.643001556396484,
          -37.10635757446289,
          -37.085453033447266,
          -37.20530319213867,
          -36.76327896118164,
          -36.785152435302734,
          -37.91210174560547,
          -37.35786056518555,
          -10.197050094604492,
          -37.202674865722656,
          -38.30318069458008,
          -21.628395080566406,
          -38.98818588256836,
          -36.97023010253906,
          24.312923431396484,
          -37.937957763671875,
          -19.06623077392578,
          -38.906986236572266,
          -38.224998474121094,
          -39.2479133605957,
          -38.656864166259766,
          -38.67316818237305,
          -35.33589172363281,
          -35.60445022583008,
          -37.85302734375,
          -39.028987884521484,
          -37.47264099121094,
          -34.50346755981445,
          -37.8103141784668,
          -35.25194549560547,
          26.517066955566406,
          12.821807861328125,
          -36.86920166015625
         ],
         "yaxis": "y"
        },
        {
         "hovertemplate": "color=421<br>symbol=421<br>x=%{x}<br>y=%{y}<extra></extra>",
         "legendgroup": "421, 421",
         "marker": {
          "color": "#636efa",
          "opacity": 0.3,
          "symbol": "circle"
         },
         "mode": "markers",
         "name": "421, 421",
         "showlegend": true,
         "type": "scattergl",
         "x": [
          61.526187896728516,
          44.07270812988281,
          66.69264221191406,
          64.89794158935547,
          68.38580322265625,
          63.56290817260742,
          67.55562591552734,
          21.68618392944336,
          66.69966888427734,
          64.14730834960938,
          64.9060287475586,
          66.92737579345703,
          44.6318473815918,
          63.01496887207031,
          63.48307800292969,
          20.865116119384766,
          63.28822708129883,
          27.284252166748047,
          27.427814483642578,
          4.144147872924805,
          61.4695930480957,
          12.579550743103027,
          64.07963562011719,
          67.28672790527344,
          61.91132354736328,
          66.04698181152344,
          43.98975372314453,
          63.41606903076172,
          65.43143463134766,
          -12.77973747253418,
          66.8084716796875,
          11.018904685974121,
          65.79188537597656,
          68.8245620727539,
          59.1820182800293,
          64.75768280029297,
          63.82111740112305,
          67.0120620727539,
          62.7567024230957,
          22.4556884765625,
          66.61038208007812,
          27.884733200073242,
          63.826805114746094,
          62.42206954956055,
          -0.041461799293756485,
          65.66898345947266,
          61.76992416381836,
          65.89677429199219,
          64.60454559326172,
          63.956844329833984,
          62.707550048828125,
          66.92866516113281,
          -9.488512992858887,
          62.65210723876953
         ],
         "xaxis": "x",
         "y": [
          8.43286418914795,
          -2.999748706817627,
          14.321760177612305,
          8.422831535339355,
          10.304057121276855,
          18.287355422973633,
          12.350030899047852,
          24.582612991333008,
          11.285486221313477,
          12.819390296936035,
          8.458989143371582,
          12.721620559692383,
          -2.732797861099243,
          9.266813278198242,
          10.28510570526123,
          -15.178887367248535,
          7.386062145233154,
          15.92428970336914,
          15.892380714416504,
          -12.403881072998047,
          8.81491470336914,
          20.912755966186523,
          10.701871871948242,
          9.990622520446777,
          10.738350868225098,
          10.763561248779297,
          -3.0427663326263428,
          10.294902801513672,
          13.89648151397705,
          -8.355067253112793,
          10.882408142089844,
          -9.858501434326172,
          10.026410102844238,
          12.62841510772705,
          8.215537071228027,
          13.179010391235352,
          7.030219554901123,
          12.670465469360352,
          8.150197982788086,
          33.733821868896484,
          10.927715301513672,
          15.829534530639648,
          10.490243911743164,
          12.841950416564941,
          26.314878463745117,
          13.949942588806152,
          8.102062225341797,
          11.926816940307617,
          9.519637107849121,
          6.923495292663574,
          8.061718940734863,
          12.101203918457031,
          17.45635986328125,
          7.269955158233643
         ],
         "yaxis": "y"
        },
        {
         "hovertemplate": "color=353<br>symbol=353<br>x=%{x}<br>y=%{y}<extra></extra>",
         "legendgroup": "353, 353",
         "marker": {
          "color": "#EF553B",
          "opacity": 0.3,
          "symbol": "diamond"
         },
         "mode": "markers",
         "name": "353, 353",
         "showlegend": true,
         "type": "scattergl",
         "x": [
          -41.43877410888672,
          9.680036544799805,
          -43.60128402709961,
          -40.067020416259766,
          -43.56949234008789,
          -41.842105865478516,
          -41.25000762939453,
          -42.95273971557617,
          -42.54389953613281,
          -41.224063873291016,
          38.81127166748047,
          -43.23501205444336,
          -43.00929641723633,
          -39.99726104736328,
          -41.481876373291016,
          -41.72694396972656,
          -43.75630569458008,
          -43.086585998535156,
          -43.04301071166992,
          -41.52777099609375,
          -38.77449417114258,
          -43.02938461303711,
          -43.07932662963867,
          -41.8592643737793,
          -42.37623977661133
         ],
         "xaxis": "x",
         "y": [
          -15.221537590026855,
          -9.214974403381348,
          -15.703292846679688,
          -16.136037826538086,
          -16.956605911254883,
          -15.2811279296875,
          -15.510636329650879,
          -14.312466621398926,
          -15.285506248474121,
          -15.054661750793457,
          5.666387557983398,
          -16.840892791748047,
          -18.279104232788086,
          -16.02846336364746,
          -14.883050918579102,
          -14.786236763000488,
          -16.45645523071289,
          -16.780548095703125,
          -16.564029693603516,
          -14.52850341796875,
          -11.474973678588867,
          -17.373367309570312,
          -17.72190284729004,
          -15.71149730682373,
          -15.244328498840332
         ],
         "yaxis": "y"
        },
        {
         "hovertemplate": "color=385<br>symbol=385<br>x=%{x}<br>y=%{y}<extra></extra>",
         "legendgroup": "385, 385",
         "marker": {
          "color": "#00cc96",
          "opacity": 0.3,
          "symbol": "square"
         },
         "mode": "markers",
         "name": "385, 385",
         "showlegend": true,
         "type": "scattergl",
         "x": [
          -51.29676818847656,
          -38.23886489868164,
          -51.23835372924805,
          -52.03187942504883,
          -50.510929107666016,
          -51.21183776855469,
          -49.59210205078125,
          -50.06007385253906,
          -50.18495559692383,
          -50.89778137207031,
          -49.854976654052734,
          -50.47267532348633,
          -50.61128616333008,
          -49.071311950683594,
          -49.850669860839844,
          -51.15188217163086,
          -49.81895065307617,
          -48.49983596801758,
          -48.572425842285156,
          -49.0233154296875,
          -48.364990234375,
          -51.319122314453125,
          -41.23291778564453,
          -51.07997512817383,
          -50.48094177246094,
          -51.163108825683594,
          4.995747089385986
         ],
         "xaxis": "x",
         "y": [
          37.442996978759766,
          43.47810363769531,
          36.35272979736328,
          36.86603927612305,
          36.252464294433594,
          35.302207946777344,
          36.88216781616211,
          36.574092864990234,
          35.872562408447266,
          37.278133392333984,
          37.3272590637207,
          35.675628662109375,
          37.00196075439453,
          36.82380676269531,
          35.805423736572266,
          36.602054595947266,
          35.75658416748047,
          36.62564468383789,
          36.754390716552734,
          35.84062576293945,
          36.98843765258789,
          36.28202819824219,
          49.068756103515625,
          37.26240158081055,
          36.25339126586914,
          36.52007293701172,
          -11.920943260192871
         ],
         "yaxis": "y"
        },
        {
         "hovertemplate": "color=289<br>symbol=289<br>x=%{x}<br>y=%{y}<extra></extra>",
         "legendgroup": "289, 289",
         "marker": {
          "color": "#ab63fa",
          "opacity": 0.3,
          "symbol": "x"
         },
         "mode": "markers",
         "name": "289, 289",
         "showlegend": true,
         "type": "scattergl",
         "x": [
          9.534130096435547,
          15.266202926635742,
          11.731494903564453,
          7.119036674499512,
          8.744368553161621,
          14.81668758392334,
          8.32858657836914,
          12.392060279846191,
          12.162374496459961,
          18.209840774536133,
          8.721988677978516,
          8.125772476196289,
          8.62752628326416,
          10.0048246383667,
          12.74514389038086,
          7.034317493438721,
          12.63095760345459,
          19.867605209350586,
          9.250288963317871,
          14.14453411102295,
          19.923316955566406,
          -49.48240280151367
         ],
         "xaxis": "x",
         "y": [
          3.3604929447174072,
          17.367265701293945,
          12.982133865356445,
          -2.7040598392486572,
          0.27619704604148865,
          16.60572624206543,
          0.0980791375041008,
          12.344893455505371,
          11.000377655029297,
          21.268068313598633,
          0.465442419052124,
          0.11928868293762207,
          2.28419828414917,
          -0.16887252032756805,
          11.753995895385742,
          0.15110228955745697,
          10.756525039672852,
          19.04947280883789,
          1.6837193965911865,
          15.414145469665527,
          19.36003303527832,
          22.15485954284668
         ],
         "yaxis": "y"
        },
        {
         "hovertemplate": "color=299<br>symbol=299<br>x=%{x}<br>y=%{y}<extra></extra>",
         "legendgroup": "299, 299",
         "marker": {
          "color": "#FFA15A",
          "opacity": 0.3,
          "symbol": "cross"
         },
         "mode": "markers",
         "name": "299, 299",
         "showlegend": true,
         "type": "scattergl",
         "x": [
          -8.011042594909668,
          -8.587921142578125,
          19.650083541870117,
          -12.599640846252441,
          -16.969463348388672,
          -10.899983406066895,
          -9.250612258911133,
          -11.395694732666016,
          -10.254939079284668,
          -8.126236915588379,
          -7.856767654418945,
          -12.441143035888672,
          -6.5919694900512695,
          -11.765406608581543,
          -10.534836769104004,
          -9.25918960571289,
          -8.363329887390137,
          -10.355027198791504,
          -7.065818786621094,
          -8.500442504882812,
          -11.448711395263672,
          -9.640762329101562,
          -7.526996612548828,
          -3.927549362182617,
          -14.610861778259277,
          -6.800290107727051,
          -14.598560333251953,
          -38.20191955566406,
          -13.759065628051758,
          -6.75692081451416,
          -9.351842880249023,
          -8.118009567260742,
          2.3426427841186523,
          -13.076044082641602,
          -14.724796295166016,
          -10.121609687805176,
          -7.7680253982543945,
          -8.36254596710205,
          -9.806960105895996,
          -11.676230430603027,
          -10.359212875366211,
          -10.469803810119629,
          24.20849609375,
          -9.391401290893555,
          -14.513980865478516,
          -7.689630031585693,
          -9.08934211730957,
          -9.86745548248291,
          -8.856843948364258,
          -8.752856254577637,
          -7.485755920410156,
          13.151979446411133,
          -10.080408096313477,
          -14.547907829284668,
          21.32695770263672,
          -9.013165473937988,
          -4.405502796173096,
          0.496128648519516,
          -10.474061965942383,
          -8.004740715026855,
          -9.725630760192871,
          -8.810193061828613
         ],
         "xaxis": "x",
         "y": [
          -47.30215835571289,
          -44.589454650878906,
          -20.093517303466797,
          -45.834266662597656,
          -50.484619140625,
          -43.853477478027344,
          -47.50709915161133,
          -46.99919891357422,
          -47.1085205078125,
          -48.424530029296875,
          -43.28802490234375,
          -45.327178955078125,
          -47.713775634765625,
          -45.48154830932617,
          -50.39364242553711,
          -45.116363525390625,
          -45.230323791503906,
          -46.61534881591797,
          -47.32868957519531,
          -47.567718505859375,
          22.182348251342773,
          -48.60185623168945,
          -47.96540451049805,
          29.140382766723633,
          -45.11760330200195,
          -47.495826721191406,
          -46.140533447265625,
          42.40598678588867,
          -45.116424560546875,
          -45.20416259765625,
          -46.49537658691406,
          -45.558311462402344,
          -18.50715446472168,
          -46.8986701965332,
          -45.26796340942383,
          -46.97831726074219,
          -49.37063217163086,
          -44.757057189941406,
          -49.44000244140625,
          -45.569419860839844,
          -44.460411071777344,
          -48.264122009277344,
          -6.891200065612793,
          -44.13582229614258,
          -45.56637191772461,
          -49.571102142333984,
          -46.6837272644043,
          -47.25856399536133,
          -48.62458801269531,
          -48.46241760253906,
          -48.33317947387695,
          -5.697361946105957,
          -48.26244354248047,
          -45.23903274536133,
          -17.233078002929688,
          -44.76515579223633,
          29.816287994384766,
          -12.435978889465332,
          -45.66144561767578,
          -47.83563232421875,
          -46.029258728027344,
          -49.06256866455078
         ],
         "yaxis": "y"
        },
        {
         "hovertemplate": "color=435<br>symbol=435<br>x=%{x}<br>y=%{y}<extra></extra>",
         "legendgroup": "435, 435",
         "marker": {
          "color": "#19d3f3",
          "opacity": 0.3,
          "symbol": "circle"
         },
         "mode": "markers",
         "name": "435, 435",
         "showlegend": true,
         "type": "scattergl",
         "x": [
          14.742006301879883,
          15.307209968566895,
          14.21583080291748,
          19.15174102783203,
          16.209293365478516,
          15.085648536682129,
          -5.949000358581543,
          21.52269744873047,
          17.747461318969727,
          56.392276763916016,
          19.191862106323242,
          18.907529830932617,
          20.419240951538086,
          19.681163787841797,
          19.167116165161133,
          19.662513732910156,
          16.400344848632812,
          21.15036392211914,
          18.040807723999023,
          6.574816703796387,
          55.98466873168945,
          55.463375091552734,
          18.952939987182617,
          19.926027297973633,
          19.245500564575195,
          20.79052734375,
          19.304670333862305,
          18.824865341186523,
          17.64529800415039,
          37.35126495361328,
          18.574161529541016,
          19.395767211914062,
          16.25618553161621,
          19.563751220703125,
          18.188907623291016,
          19.00916862487793
         ],
         "xaxis": "x",
         "y": [
          -11.290483474731445,
          -10.91460132598877,
          -11.579001426696777,
          -11.863839149475098,
          -12.073834419250488,
          -11.268966674804688,
          29.406391143798828,
          -9.963364601135254,
          -11.897871971130371,
          19.18390655517578,
          -12.122628211975098,
          -1.117222785949707,
          -11.370774269104004,
          -13.401409149169922,
          -12.92458724975586,
          -11.37031364440918,
          -11.388838768005371,
          -13.303407669067383,
          -11.188116073608398,
          -14.89880084991455,
          18.841524124145508,
          17.47481346130371,
          -12.16551399230957,
          -12.430883407592773,
          -10.756844520568848,
          -14.447402954101562,
          -10.61754322052002,
          -11.717655181884766,
          -12.577223777770996,
          0.31024324893951416,
          -12.267285346984863,
          -9.77587890625,
          -11.900843620300293,
          -12.65860366821289,
          -12.250665664672852,
          -12.192577362060547
         ],
         "yaxis": "y"
        },
        {
         "hovertemplate": "color=437<br>symbol=437<br>x=%{x}<br>y=%{y}<extra></extra>",
         "legendgroup": "437, 437",
         "marker": {
          "color": "#FF6692",
          "opacity": 0.3,
          "symbol": "diamond"
         },
         "mode": "markers",
         "name": "437, 437",
         "showlegend": true,
         "type": "scattergl",
         "x": [
          34.14702606201172,
          33.61253356933594,
          31.281044006347656,
          33.065982818603516,
          31.934431076049805,
          33.433807373046875,
          33.42145538330078,
          28.026817321777344,
          32.23337936401367,
          33.2214241027832,
          36.417476654052734,
          34.75794982910156,
          31.393604278564453,
          34.5125617980957,
          36.283843994140625,
          30.431875228881836,
          31.9739933013916,
          34.609283447265625,
          30.945125579833984,
          32.08937454223633,
          32.672889709472656,
          32.99122619628906,
          33.586849212646484,
          33.01048278808594,
          32.99421691894531,
          36.080833435058594,
          34.39075469970703,
          32.11124801635742,
          33.404727935791016,
          32.25926971435547,
          37.3212776184082,
          33.207218170166016,
          30.647098541259766,
          36.34247589111328,
          27.236753463745117,
          34.64186096191406,
          35.619869232177734,
          31.63207244873047,
          30.289875030517578,
          33.6597785949707,
          37.28953552246094,
          32.27523422241211,
          14.465052604675293,
          34.818565368652344,
          34.98667526245117,
          33.42666244506836,
          33.74966812133789,
          32.4987678527832,
          34.68913269042969,
          33.12493133544922,
          31.14874267578125,
          35.202857971191406,
          32.922760009765625,
          33.253639221191406,
          35.35996627807617,
          32.91408157348633,
          33.4757194519043,
          28.239816665649414,
          34.66580581665039,
          14.102457046508789
         ],
         "xaxis": "x",
         "y": [
          34.67193603515625,
          38.05488204956055,
          36.64152145385742,
          35.375694274902344,
          39.5355110168457,
          33.01389694213867,
          37.26564407348633,
          36.53961944580078,
          38.722412109375,
          33.156455993652344,
          33.19935989379883,
          32.16454315185547,
          36.066036224365234,
          32.97593307495117,
          35.28473663330078,
          35.908084869384766,
          37.38394546508789,
          32.88644027709961,
          37.71622848510742,
          35.70871353149414,
          37.987491607666016,
          38.360042572021484,
          35.33987808227539,
          31.78204917907715,
          38.62107467651367,
          35.0220947265625,
          36.65034484863281,
          38.52031326293945,
          39.37779235839844,
          36.54059600830078,
          34.917396545410156,
          37.77678298950195,
          39.016902923583984,
          33.21345138549805,
          -2.213927745819092,
          34.163116455078125,
          36.62123489379883,
          37.48500061035156,
          37.201969146728516,
          37.94165802001953,
          34.904293060302734,
          36.396514892578125,
          -5.26926326751709,
          34.737648010253906,
          33.4594841003418,
          33.57794952392578,
          33.31778335571289,
          37.73043441772461,
          39.03572082519531,
          37.10418701171875,
          36.63182067871094,
          36.83855056762695,
          36.64201736450195,
          32.23590087890625,
          33.68924331665039,
          36.713035583496094,
          32.30219268798828,
          36.528778076171875,
          37.64198684692383,
          34.014434814453125
         ],
         "yaxis": "y"
        },
        {
         "hovertemplate": "color=255<br>symbol=255<br>x=%{x}<br>y=%{y}<extra></extra>",
         "legendgroup": "255, 255",
         "marker": {
          "color": "#B6E880",
          "opacity": 0.3,
          "symbol": "square"
         },
         "mode": "markers",
         "name": "255, 255",
         "showlegend": true,
         "type": "scattergl",
         "x": [
          33.972251892089844,
          30.21092414855957,
          34.5986213684082,
          -24.379867553710938,
          29.143104553222656,
          32.83912658691406,
          33.28885269165039,
          33.879215240478516,
          30.512859344482422,
          31.105056762695312,
          32.625667572021484,
          31.194835662841797,
          31.60407829284668,
          0.657494306564331,
          23.86445426940918,
          30.119834899902344,
          30.076265335083008,
          34.04479217529297,
          33.530914306640625,
          32.888343811035156,
          33.08070755004883,
          31.282167434692383,
          31.528331756591797,
          32.97633743286133,
          33.46809768676758,
          27.666152954101562,
          29.34987449645996,
          33.46355438232422,
          29.39694595336914,
          4.58261251449585,
          29.493894577026367,
          31.53434944152832,
          29.735061645507812,
          31.602710723876953,
          30.839054107666016,
          29.297550201416016,
          34.33125305175781,
          29.897809982299805,
          28.693038940429688,
          28.305105209350586,
          30.52485466003418,
          30.466598510742188,
          -34.218238830566406
         ],
         "xaxis": "x",
         "y": [
          -20.856069564819336,
          -19.488807678222656,
          -20.10164451599121,
          33.03148651123047,
          -17.921504974365234,
          -19.631229400634766,
          -15.128011703491211,
          -20.8433895111084,
          -17.423336029052734,
          -21.928176879882812,
          -16.065650939941406,
          -19.194374084472656,
          -14.214009284973145,
          7.4175920486450195,
          -18.93755340576172,
          -19.233112335205078,
          -18.793672561645508,
          -17.544780731201172,
          -17.906532287597656,
          -19.55626678466797,
          -19.896703720092773,
          -21.952991485595703,
          -22.25715446472168,
          -16.3765869140625,
          -19.1544132232666,
          -17.79397201538086,
          -15.112585067749023,
          -17.908266067504883,
          -18.630779266357422,
          -20.52226448059082,
          -18.412227630615234,
          -14.503225326538086,
          -19.090839385986328,
          -13.265522956848145,
          -16.154964447021484,
          -15.014158248901367,
          -18.59127426147461,
          -17.40443229675293,
          -18.467519760131836,
          -19.4569034576416,
          -18.501113891601562,
          -18.738344192504883,
          12.230515480041504
         ],
         "yaxis": "y"
        },
        {
         "hovertemplate": "color=399<br>symbol=399<br>x=%{x}<br>y=%{y}<extra></extra>",
         "legendgroup": "399, 399",
         "marker": {
          "color": "#FF97FF",
          "opacity": 0.3,
          "symbol": "x"
         },
         "mode": "markers",
         "name": "399, 399",
         "showlegend": true,
         "type": "scattergl",
         "x": [
          -51.894775390625,
          -59.52238082885742,
          -37.203590393066406,
          -56.187068939208984,
          -57.45119857788086,
          -54.65610885620117,
          -56.70976257324219,
          -58.724571228027344,
          -54.082237243652344,
          -50.416786193847656,
          -56.05008316040039,
          -57.3598747253418,
          -56.102745056152344,
          -54.90365219116211,
          -58.389949798583984,
          -57.19332504272461,
          -32.60102081298828,
          -53.01590347290039,
          -58.02241516113281,
          -56.678382873535156,
          -58.199947357177734,
          -56.312870025634766,
          -51.1668701171875,
          -48.78720474243164,
          -54.5478630065918,
          -55.421958923339844,
          -57.19629669189453,
          -51.50823974609375,
          -52.988807678222656,
          3.770128011703491,
          2.0416436195373535,
          -56.69688034057617,
          -55.13606643676758,
          -53.758548736572266,
          -48.40717697143555,
          -51.11124038696289,
          -52.96433639526367,
          -58.397361755371094,
          -56.16685104370117,
          -53.80561065673828,
          -55.31385803222656,
          -54.36072540283203,
          -57.628116607666016,
          -57.344696044921875,
          -57.92181396484375,
          3.681915283203125,
          -52.212806701660156,
          -57.55857849121094,
          -54.66659927368164,
          -56.76117706298828,
          -51.7202262878418,
          -53.549659729003906,
          -56.848270416259766,
          -54.007110595703125,
          -58.511070251464844,
          -56.84629440307617,
          -52.608184814453125,
          -56.5852165222168,
          -55.95907974243164,
          -58.32842254638672,
          -58.294700622558594,
          -57.30917739868164,
          -51.94143295288086,
          -53.548065185546875,
          -51.22396469116211,
          -51.56373977661133,
          -56.87319564819336,
          -56.051902770996094,
          -51.322689056396484,
          -53.80965805053711,
          -57.863582611083984,
          -51.14506530761719,
          -58.45117950439453,
          -54.64391326904297,
          -57.800350189208984,
          -52.10455322265625,
          -55.69536209106445,
          -54.59724044799805,
          -52.57811737060547,
          -56.66402816772461,
          -57.259464263916016,
          -54.32267761230469,
          -5.5957112312316895,
          -50.30636978149414,
          -56.69378662109375,
          -53.242671966552734,
          -53.22187805175781,
          -54.147735595703125,
          -56.07896041870117,
          -12.40468692779541
         ],
         "xaxis": "x",
         "y": [
          1.4273720979690552,
          -0.9592233896255493,
          8.018617630004883,
          -2.8272647857666016,
          -0.7489562034606934,
          2.84350848197937,
          -0.41173145174980164,
          -0.3639706075191498,
          1.2058640718460083,
          2.310028314590454,
          2.7842938899993896,
          2.7288994789123535,
          -1.4966598749160767,
          -2.886911630630493,
          -2.884279727935791,
          -1.5620514154434204,
          17.6876277923584,
          -0.1279648244380951,
          -0.20753291249275208,
          -3.3856117725372314,
          -1.5764074325561523,
          -0.3512028455734253,
          3.6647799015045166,
          3.0870487689971924,
          1.4325567483901978,
          4.548483371734619,
          3.391979932785034,
          1.7292267084121704,
          -1.033706545829773,
          -21.275556564331055,
          -14.442635536193848,
          2.073193311691284,
          1.7980601787567139,
          3.1875064373016357,
          3.1240193843841553,
          1.3690593242645264,
          -0.8603344559669495,
          -3.6664838790893555,
          -1.4201289415359497,
          1.7438499927520752,
          4.534852027893066,
          -2.546613931655884,
          -3.294234037399292,
          -3.029857635498047,
          -0.3230978846549988,
          -15.845562934875488,
          2.0310182571411133,
          -0.3705229163169861,
          -0.9153250455856323,
          -2.0519678592681885,
          -1.161378264427185,
          -1.6951488256454468,
          2.595792055130005,
          -0.45199593901634216,
          -2.5742030143737793,
          1.558437466621399,
          -1.1612383127212524,
          -2.9341835975646973,
          -0.9663100242614746,
          1.3358978033065796,
          3.4862136840820312,
          3.4051249027252197,
          -1.9412869215011597,
          0.973757803440094,
          1.8426045179367065,
          -1.430421233177185,
          -3.6439292430877686,
          -3.3694746494293213,
          -2.5548810958862305,
          3.5898914337158203,
          -2.9598803520202637,
          0.2815871834754944,
          0.18234288692474365,
          3.060098648071289,
          2.339531898498535,
          0.08812250941991806,
          0.5585072040557861,
          -1.2588735818862915,
          -0.5045565962791443,
          -0.315982460975647,
          3.0205771923065186,
          1.8358474969863892,
          24.16576385498047,
          -1.4321329593658447,
          2.6044700145721436,
          0.9252591133117676,
          -2.066284418106079,
          -1.0080152750015259,
          -4.337698459625244,
          64.734375
         ],
         "yaxis": "y"
        },
        {
         "hovertemplate": "color=433<br>symbol=433<br>x=%{x}<br>y=%{y}<extra></extra>",
         "legendgroup": "433, 433",
         "marker": {
          "color": "#FECB52",
          "opacity": 0.3,
          "symbol": "cross"
         },
         "mode": "markers",
         "name": "433, 433",
         "showlegend": true,
         "type": "scattergl",
         "x": [
          34.66374206542969,
          -5.28129768371582,
          30.66958236694336,
          30.995426177978516,
          33.07249069213867,
          32.44669723510742,
          32.8462028503418,
          24.887187957763672,
          31.902677536010742,
          34.36201095581055,
          32.79530715942383,
          31.8780460357666,
          33.43840789794922,
          32.35658264160156,
          31.151336669921875,
          34.44343185424805,
          32.60887145996094,
          21.12944221496582,
          32.29125213623047,
          33.03725814819336,
          18.1690616607666,
          33.37638854980469,
          32.50260543823242,
          31.217836380004883,
          31.69765853881836,
          4.766831398010254,
          34.151309967041016,
          32.22901916503906,
          24.748435974121094,
          20.282257080078125,
          32.786773681640625,
          33.70803451538086,
          32.94110870361328
         ],
         "xaxis": "x",
         "y": [
          -8.543729782104492,
          25.05025291442871,
          -5.779507160186768,
          -7.729196548461914,
          -6.808160305023193,
          -5.277520656585693,
          -6.800745964050293,
          -4.736468315124512,
          -7.514814376831055,
          -7.590915679931641,
          -6.4200520515441895,
          -6.615433692932129,
          -6.231937408447266,
          -8.008254051208496,
          -7.715396881103516,
          -8.79205322265625,
          -5.816623210906982,
          29.522624969482422,
          -6.027005195617676,
          -6.964212417602539,
          -3.60353684425354,
          -4.893993377685547,
          -7.1080427169799805,
          -4.3819451332092285,
          -8.667295455932617,
          -12.863691329956055,
          -6.128073215484619,
          -5.60772180557251,
          -5.189467430114746,
          -16.81078338623047,
          -8.064432144165039,
          -8.57009506225586,
          -5.237698078155518
         ],
         "yaxis": "y"
        },
        {
         "hovertemplate": "color=384<br>symbol=384<br>x=%{x}<br>y=%{y}<extra></extra>",
         "legendgroup": "384, 384",
         "marker": {
          "color": "#636efa",
          "opacity": 0.3,
          "symbol": "circle"
         },
         "mode": "markers",
         "name": "384, 384",
         "showlegend": true,
         "type": "scattergl",
         "x": [
          -40.683311462402344,
          -39.72734832763672,
          -28.243919372558594,
          -41.01673889160156,
          -38.771278381347656,
          -36.88959503173828,
          -37.59827423095703,
          -38.710567474365234,
          -40.33817672729492,
          -40.9181022644043,
          -38.09928894042969,
          -40.11685562133789,
          -40.72917556762695,
          -40.03475570678711,
          -39.94903564453125,
          -39.16482925415039,
          -38.25712203979492,
          -39.97282791137695,
          -40.23112487792969,
          -38.93757247924805,
          -37.94776153564453,
          4.498987197875977,
          -37.58124542236328,
          -37.7955207824707,
          -39.14007568359375,
          -37.754695892333984,
          -39.57988357543945,
          -40.17516326904297,
          -37.919921875,
          -39.534576416015625,
          -38.446388244628906,
          -39.79433822631836,
          -39.297996520996094
         ],
         "xaxis": "x",
         "y": [
          47.884307861328125,
          48.00266647338867,
          34.34066390991211,
          49.57438278198242,
          49.864742279052734,
          48.42717742919922,
          50.67339324951172,
          47.436588287353516,
          49.663490295410156,
          53.10755920410156,
          50.33539581298828,
          49.08525466918945,
          53.220638275146484,
          51.124629974365234,
          48.96479034423828,
          49.55911636352539,
          47.2754020690918,
          50.12672424316406,
          49.50926208496094,
          48.78506851196289,
          48.09324264526367,
          -15.709810256958008,
          48.75386047363281,
          46.607398986816406,
          49.19178009033203,
          48.69220733642578,
          48.15061569213867,
          48.96366500854492,
          47.02976989746094,
          49.384376525878906,
          48.10523223876953,
          47.343563079833984,
          49.68931198120117
         ],
         "yaxis": "y"
        },
        {
         "hovertemplate": "color=412<br>symbol=412<br>x=%{x}<br>y=%{y}<extra></extra>",
         "legendgroup": "412, 412",
         "marker": {
          "color": "#EF553B",
          "opacity": 0.3,
          "symbol": "diamond"
         },
         "mode": "markers",
         "name": "412, 412",
         "showlegend": true,
         "type": "scattergl",
         "x": [
          18.070619583129883,
          14.84581184387207,
          19.208662033081055,
          15.36649227142334,
          22.66588020324707,
          17.639055252075195,
          18.308435440063477,
          12.630842208862305,
          16.02902603149414,
          20.615478515625,
          -23.540061950683594,
          12.86691951751709,
          19.530288696289062,
          15.232356071472168,
          16.996767044067383,
          22.538373947143555,
          16.747913360595703,
          16.681007385253906,
          20.657838821411133,
          18.585189819335938,
          15.876437187194824,
          -13.501200675964355,
          20.370349884033203,
          14.097097396850586,
          15.949360847473145,
          2.0413475036621094,
          18.68800926208496,
          14.923079490661621,
          16.74635887145996,
          12.351052284240723,
          17.571332931518555,
          -24.27094268798828,
          18.02216339111328,
          12.686395645141602,
          20.576351165771484,
          4.957770347595215,
          17.280412673950195,
          16.813541412353516,
          14.774238586425781,
          17.500732421875,
          18.46849250793457,
          22.54034423828125,
          19.122920989990234,
          16.263389587402344,
          22.499399185180664,
          19.409013748168945,
          20.292470932006836,
          14.021109580993652,
          17.09764289855957,
          19.556550979614258,
          17.720712661743164,
          10.445906639099121,
          19.238265991210938,
          16.9205265045166,
          13.394213676452637,
          14.796945571899414,
          18.05471420288086,
          18.30402946472168,
          15.124939918518066,
          13.09298324584961,
          -13.751310348510742,
          16.54505157470703,
          0.2925302982330322,
          9.017904281616211,
          15.054868698120117,
          16.732776641845703,
          3.6287827491760254,
          19.608150482177734,
          12.013833045959473,
          16.008594512939453,
          14.856269836425781,
          17.882461547851562,
          16.545869827270508,
          0.11563222855329514,
          10.48558521270752,
          18.05022621154785,
          15.824254035949707,
          19.823375701904297,
          19.44103240966797,
          13.311487197875977,
          18.084861755371094,
          19.550392150878906
         ],
         "xaxis": "x",
         "y": [
          32.280052185058594,
          36.052486419677734,
          32.58037185668945,
          29.832509994506836,
          31.007431030273438,
          33.24257278442383,
          30.41443634033203,
          35.7860107421875,
          34.422340393066406,
          29.66743278503418,
          6.79447078704834,
          30.10861587524414,
          25.775218963623047,
          34.314788818359375,
          28.98300552368164,
          29.435466766357422,
          28.865007400512695,
          34.42138671875,
          24.639188766479492,
          -20.5304012298584,
          32.445804595947266,
          22.425764083862305,
          25.908803939819336,
          31.72349739074707,
          35.79093551635742,
          30.394983291625977,
          33.96470260620117,
          31.487953186035156,
          31.255041122436523,
          32.265289306640625,
          34.95603942871094,
          11.741610527038574,
          29.899995803833008,
          30.157262802124023,
          30.3685359954834,
          34.330081939697266,
          34.775299072265625,
          35.550872802734375,
          32.04592514038086,
          29.9628849029541,
          28.292728424072266,
          31.27266502380371,
          25.098894119262695,
          33.18891143798828,
          29.412818908691406,
          23.580154418945312,
          26.933820724487305,
          31.735246658325195,
          22.80495262145996,
          29.204143524169922,
          27.112295150756836,
          33.99073791503906,
          26.03519630432129,
          30.298696517944336,
          31.971254348754883,
          22.538421630859375,
          36.40669250488281,
          28.50594139099121,
          32.99712371826172,
          34.186405181884766,
          18.509342193603516,
          34.078636169433594,
          -10.593602180480957,
          34.75595474243164,
          35.35236358642578,
          33.90003204345703,
          34.104705810546875,
          24.654014587402344,
          31.984455108642578,
          35.286800384521484,
          31.955026626586914,
          38.2484016418457,
          31.56741714477539,
          18.4455509185791,
          34.002376556396484,
          32.50254440307617,
          35.95086669921875,
          28.612607955932617,
          31.324831008911133,
          33.46839141845703,
          34.1537971496582,
          26.038400650024414
         ],
         "yaxis": "y"
        },
        {
         "hovertemplate": "color=1<br>symbol=1<br>x=%{x}<br>y=%{y}<extra></extra>",
         "legendgroup": "1, 1",
         "marker": {
          "color": "#00cc96",
          "opacity": 0.3,
          "symbol": "square"
         },
         "mode": "markers",
         "name": "1, 1",
         "showlegend": true,
         "type": "scattergl",
         "x": [
          -61.91072082519531,
          -67.02701568603516,
          -60.64329147338867,
          -61.195152282714844,
          3.01755428314209,
          -62.263187408447266,
          -64.44229888916016,
          -62.718502044677734,
          -65.28972625732422,
          -60.66816711425781,
          -62.748817443847656,
          -66.00526428222656,
          -62.01115798950195,
          -64.8246841430664,
          -64.02578735351562,
          -66.95174407958984,
          -65.67539978027344,
          -64.66097259521484,
          -63.49637222290039,
          -66.27852630615234,
          -60.12983703613281,
          -62.462364196777344,
          -65.36103057861328,
          -64.61036682128906,
          4.885852336883545,
          -62.27468490600586,
          -64.3754653930664,
          -60.890262603759766,
          -64.34371185302734,
          -61.706329345703125,
          -65.12285614013672,
          -62.33246994018555,
          -65.61457824707031,
          -64.47715759277344,
          -63.585391998291016,
          -63.665855407714844,
          -65.45875549316406,
          -64.35594940185547,
          -60.849369049072266,
          -65.66175079345703,
          -63.87366485595703,
          -64.65408325195312
         ],
         "xaxis": "x",
         "y": [
          -19.110715866088867,
          -19.615022659301758,
          -18.731521606445312,
          -19.314044952392578,
          -12.845481872558594,
          -20.279436111450195,
          -19.01816177368164,
          -18.004514694213867,
          -20.69208335876465,
          -17.964282989501953,
          -19.351045608520508,
          -20.564111709594727,
          -19.138931274414062,
          -20.70699691772461,
          -22.186176300048828,
          -19.74791717529297,
          -22.130996704101562,
          -19.948177337646484,
          -20.29215431213379,
          -20.650802612304688,
          -19.263208389282227,
          -20.414396286010742,
          -19.775455474853516,
          -20.914121627807617,
          -8.032730102539062,
          -19.313867568969727,
          -20.197589874267578,
          -17.931453704833984,
          -20.83038330078125,
          -20.47296714782715,
          -21.501691818237305,
          -20.989185333251953,
          -21.26913833618164,
          -21.564355850219727,
          -17.794157028198242,
          -20.88680648803711,
          -20.067005157470703,
          -21.066097259521484,
          -18.804176330566406,
          -20.053483963012695,
          -17.244138717651367,
          -21.833057403564453
         ],
         "yaxis": "y"
        },
        {
         "hovertemplate": "color=252<br>symbol=252<br>x=%{x}<br>y=%{y}<extra></extra>",
         "legendgroup": "252, 252",
         "marker": {
          "color": "#ab63fa",
          "opacity": 0.3,
          "symbol": "x"
         },
         "mode": "markers",
         "name": "252, 252",
         "showlegend": true,
         "type": "scattergl",
         "x": [
          48.126914978027344,
          49.08592987060547,
          49.8165168762207,
          52.22213363647461,
          52.35118103027344,
          47.400550842285156,
          51.05002975463867,
          50.996585845947266,
          50.90528106689453,
          49.84227752685547,
          46.73036193847656,
          49.14822006225586,
          51.40338134765625,
          46.872982025146484,
          51.87328338623047,
          49.05500030517578,
          49.4376106262207,
          50.89619064331055,
          48.342342376708984,
          52.59164810180664,
          51.41481399536133,
          50.58808517456055,
          48.677303314208984,
          48.916751861572266,
          49.572078704833984,
          50.07742691040039,
          50.87594223022461,
          48.73073196411133,
          49.601566314697266,
          51.77546691894531,
          49.246307373046875,
          49.06825637817383,
          48.19432830810547,
          48.51811981201172,
          51.90953063964844,
          48.64419937133789,
          47.94462203979492,
          49.37098693847656,
          44.8669319152832,
          49.640342712402344,
          48.85655212402344,
          44.99809265136719,
          48.38556671142578,
          48.066246032714844,
          49.09112548828125,
          50.06450271606445,
          48.64875411987305,
          49.93104934692383,
          48.01655197143555,
          47.917030334472656,
          47.765167236328125,
          44.2841911315918,
          48.26443099975586
         ],
         "xaxis": "x",
         "y": [
          -22.4815731048584,
          -16.612056732177734,
          -19.505765914916992,
          -20.32257843017578,
          -19.902050018310547,
          -20.09300994873047,
          -18.617401123046875,
          -19.43440818786621,
          -18.851890563964844,
          -20.731901168823242,
          -20.991474151611328,
          -20.058561325073242,
          -18.991422653198242,
          -21.772212982177734,
          -20.322477340698242,
          -24.132240295410156,
          -22.07539176940918,
          -20.274188995361328,
          -20.990304946899414,
          -21.839406967163086,
          -17.743778228759766,
          -19.551025390625,
          -21.855989456176758,
          -20.625152587890625,
          -15.395323753356934,
          -22.542266845703125,
          -21.831483840942383,
          -19.480731964111328,
          -15.464277267456055,
          -20.8151798248291,
          -18.64911460876465,
          -22.165597915649414,
          -21.477466583251953,
          -19.49447250366211,
          -17.028671264648438,
          -20.166841506958008,
          -15.436994552612305,
          -19.477426528930664,
          -12.930373191833496,
          -20.93887710571289,
          -21.482772827148438,
          -13.097137451171875,
          -16.337282180786133,
          -20.26839828491211,
          -21.885589599609375,
          -21.153362274169922,
          -16.548429489135742,
          -20.731496810913086,
          -21.119293212890625,
          -18.553993225097656,
          -21.412342071533203,
          -20.619266510009766,
          -16.062963485717773
         ],
         "yaxis": "y"
        },
        {
         "hovertemplate": "color=302<br>symbol=302<br>x=%{x}<br>y=%{y}<extra></extra>",
         "legendgroup": "302, 302",
         "marker": {
          "color": "#FFA15A",
          "opacity": 0.3,
          "symbol": "cross"
         },
         "mode": "markers",
         "name": "302, 302",
         "showlegend": true,
         "type": "scattergl",
         "x": [
          15.89943790435791,
          14.67224407196045,
          15.591043472290039,
          13.667142868041992,
          14.965428352355957,
          12.40310001373291,
          15.95173454284668,
          18.613439559936523,
          14.919387817382812,
          15.927741050720215,
          14.859317779541016,
          14.969026565551758,
          12.975430488586426,
          15.817487716674805,
          13.888511657714844,
          15.070635795593262,
          10.703019142150879,
          15.22704792022705,
          13.511320114135742,
          0.8895875811576843,
          15.493821144104004,
          13.082937240600586,
          14.888876914978027,
          13.59149169921875,
          13.766912460327148,
          15.423673629760742
         ],
         "xaxis": "x",
         "y": [
          -54.05529022216797,
          -55.08016586303711,
          -55.365726470947266,
          -53.611873626708984,
          -55.369632720947266,
          -52.63030242919922,
          -53.9439582824707,
          -52.43641662597656,
          -56.271728515625,
          -57.242244720458984,
          -53.89139938354492,
          -55.391807556152344,
          -56.36035919189453,
          -54.343570709228516,
          -52.46037292480469,
          -56.0755729675293,
          -52.0616455078125,
          -55.19385528564453,
          -53.476715087890625,
          15.342850685119629,
          -57.01725769042969,
          -53.147422790527344,
          -54.30754470825195,
          -52.809844970703125,
          -56.55403137207031,
          -56.91770935058594
         ],
         "yaxis": "y"
        },
        {
         "hovertemplate": "color=125<br>symbol=125<br>x=%{x}<br>y=%{y}<extra></extra>",
         "legendgroup": "125, 125",
         "marker": {
          "color": "#19d3f3",
          "opacity": 0.3,
          "symbol": "circle"
         },
         "mode": "markers",
         "name": "125, 125",
         "showlegend": true,
         "type": "scattergl",
         "x": [
          -36.84442138671875,
          -10.792794227600098,
          -7.221212863922119,
          -10.30949592590332,
          41.766605377197266,
          -6.17327356338501,
          -50.73942184448242,
          42.1153450012207,
          -8.413969993591309,
          10.530858993530273,
          -7.33612585067749,
          -7.10254430770874,
          -7.0463151931762695,
          -7.910355567932129,
          -12.752862930297852,
          -0.8459283113479614
         ],
         "xaxis": "x",
         "y": [
          -15.916743278503418,
          29.863065719604492,
          20.240629196166992,
          26.638553619384766,
          -49.24629211425781,
          25.709123611450195,
          -33.56267166137695,
          -49.413543701171875,
          48.33557891845703,
          31.303213119506836,
          19.34961700439453,
          20.108816146850586,
          20.970611572265625,
          21.516403198242188,
          29.960702896118164,
          42.594356536865234
         ],
         "yaxis": "y"
        },
        {
         "hovertemplate": "color=450<br>symbol=450<br>x=%{x}<br>y=%{y}<extra></extra>",
         "legendgroup": "450, 450",
         "marker": {
          "color": "#FF6692",
          "opacity": 0.3,
          "symbol": "diamond"
         },
         "mode": "markers",
         "name": "450, 450",
         "showlegend": true,
         "type": "scattergl",
         "x": [
          -9.410684585571289,
          2.18515682220459,
          -3.52915620803833,
          1.8948261737823486,
          1.9719159603118896,
          8.805562973022461,
          2.5681612491607666,
          -2.4553587436676025,
          5.2135491371154785,
          2.1093201637268066,
          11.993863105773926,
          1.751489520072937,
          -17.918231964111328,
          17.308555603027344,
          -21.67264175415039,
          2.5978105068206787,
          2.05432391166687,
          1.4689178466796875,
          1.204494595527649,
          4.604208946228027,
          0.8998590707778931,
          16.65108299255371,
          -27.016883850097656,
          -0.011910177767276764
         ],
         "xaxis": "x",
         "y": [
          26.13727378845215,
          11.797428131103516,
          -6.00643253326416,
          2.385378837585449,
          3.6702404022216797,
          7.082911014556885,
          2.3637070655822754,
          22.31121253967285,
          12.0332612991333,
          3.853327989578247,
          2.2888050079345703,
          2.6835155487060547,
          9.035261154174805,
          19.52922248840332,
          14.523397445678711,
          0.4620029032230377,
          3.9002695083618164,
          2.704233407974243,
          3.753976345062256,
          12.828444480895996,
          2.851994514465332,
          20.263200759887695,
          10.917266845703125,
          5.1214680671691895
         ],
         "yaxis": "y"
        },
        {
         "hovertemplate": "color=430<br>symbol=430<br>x=%{x}<br>y=%{y}<extra></extra>",
         "legendgroup": "430, 430",
         "marker": {
          "color": "#B6E880",
          "opacity": 0.3,
          "symbol": "square"
         },
         "mode": "markers",
         "name": "430, 430",
         "showlegend": true,
         "type": "scattergl",
         "x": [
          59.84852981567383,
          57.111454010009766,
          58.24250793457031,
          58.41423034667969,
          22.464599609375,
          56.71263122558594,
          56.11674118041992,
          56.52384948730469,
          38.286712646484375,
          38.25994110107422,
          60.19198226928711,
          56.835689544677734,
          43.30531692504883,
          59.90937423706055,
          57.438262939453125,
          56.357112884521484,
          2.163947105407715,
          60.925743103027344,
          58.7851448059082,
          58.788333892822266,
          57.546142578125,
          60.24697494506836,
          58.658138275146484,
          57.32448959350586,
          59.14060974121094,
          41.8139533996582,
          57.421897888183594,
          59.56660079956055,
          57.709903717041016,
          59.09965896606445,
          59.86735153198242,
          60.14104461669922,
          58.27565383911133,
          59.1396484375,
          2.570833206176758,
          58.77568054199219,
          58.60364532470703,
          57.91386032104492,
          57.06269836425781,
          58.192962646484375,
          58.26923370361328,
          57.831478118896484,
          58.27991485595703,
          57.575035095214844,
          57.309139251708984,
          57.472068786621094,
          59.41001510620117,
          57.18648147583008,
          58.885684967041016,
          58.978294372558594,
          -6.252338409423828,
          57.96467208862305
         ],
         "xaxis": "x",
         "y": [
          14.290841102600098,
          10.025015830993652,
          16.464139938354492,
          10.708632469177246,
          -12.413275718688965,
          15.165813446044922,
          15.663453102111816,
          7.056525707244873,
          -5.7478556632995605,
          -5.756655693054199,
          14.923125267028809,
          16.90936279296875,
          -3.3701705932617188,
          12.553910255432129,
          14.540974617004395,
          13.588397026062012,
          30.557445526123047,
          13.505224227905273,
          10.158524513244629,
          12.579472541809082,
          14.691559791564941,
          13.576986312866211,
          14.925545692443848,
          14.440019607543945,
          13.300161361694336,
          22.862194061279297,
          16.487106323242188,
          6.6512675285339355,
          15.488990783691406,
          17.339738845825195,
          15.972546577453613,
          14.901603698730469,
          14.857479095458984,
          13.956567764282227,
          -12.367697715759277,
          14.089132308959961,
          15.826783180236816,
          11.238446235656738,
          12.410791397094727,
          14.895440101623535,
          10.96722412109375,
          13.706897735595703,
          9.61885929107666,
          15.933645248413086,
          11.754487037658691,
          13.387604713439941,
          9.633084297180176,
          12.200056076049805,
          11.427704811096191,
          11.378316879272461,
          24.981281280517578,
          13.975055694580078
         ],
         "yaxis": "y"
        },
        {
         "hovertemplate": "color=83<br>symbol=83<br>x=%{x}<br>y=%{y}<extra></extra>",
         "legendgroup": "83, 83",
         "marker": {
          "color": "#FF97FF",
          "opacity": 0.3,
          "symbol": "x"
         },
         "mode": "markers",
         "name": "83, 83",
         "showlegend": true,
         "type": "scattergl",
         "x": [
          -13.657590866088867,
          -17.671995162963867
         ],
         "xaxis": "x",
         "y": [
          -6.808944225311279,
          -11.716508865356445
         ],
         "yaxis": "y"
        },
        {
         "hovertemplate": "color=231<br>symbol=231<br>x=%{x}<br>y=%{y}<extra></extra>",
         "legendgroup": "231, 231",
         "marker": {
          "color": "#FECB52",
          "opacity": 0.3,
          "symbol": "cross"
         },
         "mode": "markers",
         "name": "231, 231",
         "showlegend": true,
         "type": "scattergl",
         "x": [
          -1.9972931146621704,
          -3.866361618041992,
          17.513805389404297,
          -4.1468186378479,
          -12.540820121765137,
          -4.201293468475342,
          -2.0360794067382812,
          -4.479774475097656,
          -30.53335189819336,
          -5.228793144226074,
          -5.494472026824951,
          -1.516016960144043,
          -0.5096433162689209,
          -0.9928911924362183,
          -4.099462032318115,
          -0.4780404269695282,
          -3.9567041397094727,
          -2.3421404361724854,
          -3.2706358432769775,
          -4.374004364013672,
          -4.350124359130859,
          -0.41192689538002014,
          -5.851056098937988
         ],
         "xaxis": "x",
         "y": [
          -16.740434646606445,
          -16.472854614257812,
          0.3220827281475067,
          -16.401411056518555,
          24.193065643310547,
          -15.766043663024902,
          -16.74786376953125,
          -17.18143653869629,
          12.810087203979492,
          -17.608125686645508,
          -17.869840621948242,
          -16.929641723632812,
          -14.338762283325195,
          -16.816162109375,
          -16.032194137573242,
          -15.248056411743164,
          -14.81596851348877,
          -14.914313316345215,
          -18.0020694732666,
          -15.836977005004883,
          -15.578845024108887,
          -18.03827476501465,
          15.677177429199219
         ],
         "yaxis": "y"
        },
        {
         "hovertemplate": "color=340<br>symbol=340<br>x=%{x}<br>y=%{y}<extra></extra>",
         "legendgroup": "340, 340",
         "marker": {
          "color": "#636efa",
          "opacity": 0.3,
          "symbol": "circle"
         },
         "mode": "markers",
         "name": "340, 340",
         "showlegend": true,
         "type": "scattergl",
         "x": [
          4.87637186050415,
          7.815083026885986,
          7.335906982421875,
          5.80100154876709,
          9.07528305053711,
          7.056945323944092,
          8.52695369720459,
          6.218375205993652,
          4.793943405151367,
          6.9314284324646,
          5.666830062866211,
          6.489144802093506,
          7.428966999053955,
          2.7158801555633545,
          -19.13739013671875,
          5.269271373748779,
          3.9232730865478516,
          4.552415370941162,
          8.55472183227539,
          4.057177543640137,
          -3.0276992321014404,
          6.93683385848999,
          9.125813484191895,
          5.346481800079346,
          4.031445026397705,
          5.978912830352783,
          8.313722610473633
         ],
         "xaxis": "x",
         "y": [
          9.634759902954102,
          4.718565464019775,
          5.2001566886901855,
          7.643224239349365,
          13.8502836227417,
          6.460060119628906,
          2.2722854614257812,
          2.5287222862243652,
          6.941378116607666,
          7.04045295715332,
          7.070646286010742,
          0.8236173391342163,
          3.9112274646759033,
          -1.9076124429702759,
          15.718942642211914,
          8.340485572814941,
          9.832204818725586,
          7.007229804992676,
          5.646541595458984,
          7.026208877563477,
          33.15937423706055,
          5.351853847503662,
          13.8378267288208,
          9.454134941101074,
          7.005892753601074,
          7.852302074432373,
          5.570346355438232
         ],
         "yaxis": "y"
        },
        {
         "hovertemplate": "color=137<br>symbol=137<br>x=%{x}<br>y=%{y}<extra></extra>",
         "legendgroup": "137, 137",
         "marker": {
          "color": "#EF553B",
          "opacity": 0.3,
          "symbol": "diamond"
         },
         "mode": "markers",
         "name": "137, 137",
         "showlegend": true,
         "type": "scattergl",
         "x": [
          3.5479161739349365,
          -4.876482009887695,
          -9.568584442138672,
          9.065253257751465,
          2.079066276550293,
          -9.56924819946289,
          -4.81754732131958,
          3.9838192462921143,
          -9.568343162536621,
          3.9105684757232666,
          6.30108118057251,
          -5.705501556396484,
          -22.95476722717285,
          -9.569005012512207,
          -4.698639392852783
         ],
         "xaxis": "x",
         "y": [
          32.656707763671875,
          22.700414657592773,
          47.75538635253906,
          33.23910903930664,
          -16.43547821044922,
          47.755374908447266,
          22.71982765197754,
          33.400413513183594,
          47.755470275878906,
          33.45440673828125,
          31.877988815307617,
          25.93584632873535,
          6.421616077423096,
          47.7554931640625,
          22.956201553344727
         ],
         "yaxis": "y"
        },
        {
         "hovertemplate": "color=223<br>symbol=223<br>x=%{x}<br>y=%{y}<extra></extra>",
         "legendgroup": "223, 223",
         "marker": {
          "color": "#00cc96",
          "opacity": 0.3,
          "symbol": "square"
         },
         "mode": "markers",
         "name": "223, 223",
         "showlegend": true,
         "type": "scattergl",
         "x": [
          -7.308598518371582,
          -7.299415111541748,
          -7.308681488037109,
          -7.307343482971191
         ],
         "xaxis": "x",
         "y": [
          48.138282775878906,
          48.136253356933594,
          48.13857650756836,
          48.13939666748047
         ],
         "yaxis": "y"
        },
        {
         "hovertemplate": "color=389<br>symbol=389<br>x=%{x}<br>y=%{y}<extra></extra>",
         "legendgroup": "389, 389",
         "marker": {
          "color": "#ab63fa",
          "opacity": 0.3,
          "symbol": "x"
         },
         "mode": "markers",
         "name": "389, 389",
         "showlegend": true,
         "type": "scattergl",
         "x": [
          -41.544857025146484,
          -37.3599967956543,
          5.35019063949585,
          -35.59845733642578,
          -37.482322692871094,
          -37.93333435058594,
          -41.15802764892578,
          -38.71891403198242,
          -36.21235275268555,
          -41.213748931884766,
          -40.19286346435547,
          -39.07691955566406,
          -37.79444885253906,
          -39.42348098754883,
          -36.86586380004883,
          -38.744136810302734,
          -38.09649658203125,
          -39.55229187011719,
          -37.18013000488281,
          -33.659324645996094,
          -38.26076126098633,
          -40.7279167175293,
          -35.3114128112793,
          -39.541934967041016,
          -40.42167282104492,
          -38.045162200927734,
          -39.496456146240234,
          -33.448760986328125,
          -35.349151611328125,
          -34.976036071777344,
          4.474401473999023,
          -34.53295135498047,
          -40.234134674072266,
          -33.09236526489258,
          -39.5910530090332,
          -40.39321517944336,
          -39.96765899658203,
          -38.163604736328125,
          -36.30886459350586,
          -38.95634841918945,
          -35.5076789855957,
          -39.33231735229492,
          -35.73478317260742,
          -35.06265640258789,
          -35.58546829223633,
          -35.058258056640625,
          -39.066009521484375,
          -34.78266525268555,
          -40.08525466918945,
          -36.55409240722656
         ],
         "xaxis": "x",
         "y": [
          1.708158254623413,
          3.477478265762329,
          -8.709831237792969,
          0.9450554847717285,
          3.1898069381713867,
          -0.704888641834259,
          2.4086804389953613,
          1.7735708951950073,
          4.125767707824707,
          0.6190853714942932,
          -0.8921527862548828,
          2.11696457862854,
          1.391440510749817,
          3.1470987796783447,
          3.2305870056152344,
          1.3781394958496094,
          1.189366102218628,
          0.8113495707511902,
          4.681832790374756,
          2.922119140625,
          4.313207626342773,
          1.5453933477401733,
          3.554259777069092,
          0.989283561706543,
          0.7967584133148193,
          4.520017147064209,
          1.5848308801651,
          3.0215566158294678,
          2.215468168258667,
          2.3737876415252686,
          -9.446202278137207,
          2.06040096282959,
          1.052259087562561,
          4.5908355712890625,
          0.04247184097766876,
          2.0180931091308594,
          0.3851250410079956,
          4.647445201873779,
          2.458388090133667,
          7.084985256195068,
          2.415645122528076,
          0.1450568437576294,
          3.720586061477661,
          4.286462783813477,
          1.2813061475753784,
          3.5990898609161377,
          1.6714471578598022,
          2.0420267581939697,
          1.055031180381775,
          4.212093353271484
         ],
         "yaxis": "y"
        },
        {
         "hovertemplate": "color=369<br>symbol=369<br>x=%{x}<br>y=%{y}<extra></extra>",
         "legendgroup": "369, 369",
         "marker": {
          "color": "#FFA15A",
          "opacity": 0.3,
          "symbol": "cross"
         },
         "mode": "markers",
         "name": "369, 369",
         "showlegend": true,
         "type": "scattergl",
         "x": [
          -21.399728775024414,
          -21.798404693603516,
          -21.625158309936523,
          -20.977306365966797,
          -19.00969123840332,
          -21.910755157470703,
          -20.293842315673828,
          -21.08291244506836,
          -20.840343475341797,
          -19.99213218688965
         ],
         "xaxis": "x",
         "y": [
          39.48515319824219,
          39.8493766784668,
          37.97938537597656,
          41.36444091796875,
          38.99701690673828,
          40.06868362426758,
          39.65796661376953,
          41.307334899902344,
          39.152889251708984,
          39.2633171081543
         ],
         "yaxis": "y"
        },
        {
         "hovertemplate": "color=136<br>symbol=136<br>x=%{x}<br>y=%{y}<extra></extra>",
         "legendgroup": "136, 136",
         "marker": {
          "color": "#19d3f3",
          "opacity": 0.3,
          "symbol": "circle"
         },
         "mode": "markers",
         "name": "136, 136",
         "showlegend": true,
         "type": "scattergl",
         "x": [
          -18.82952117919922,
          -20.867969512939453,
          -17.40320587158203,
          4.831061840057373,
          -18.418855667114258,
          -20.25638771057129,
          -7.495593070983887,
          -21.848957061767578,
          -19.28175926208496,
          -0.8796275854110718,
          -2.5252573490142822,
          -20.328222274780273,
          -17.166526794433594,
          -20.214113235473633,
          -16.568748474121094,
          -19.532651901245117,
          -27.468076705932617,
          -19.574411392211914,
          -19.22783660888672,
          -13.279536247253418,
          4.317975044250488,
          -2.2748186588287354,
          -19.272544860839844,
          3.080901622772217,
          -16.767826080322266,
          -22.08514404296875,
          -21.39264488220215,
          -16.82621192932129,
          -18.685693740844727,
          -20.729413986206055,
          -20.249101638793945,
          -23.58574867248535,
          -20.74220085144043,
          -22.344791412353516,
          -18.58206558227539,
          -17.857969284057617,
          -16.653059005737305,
          -20.315296173095703,
          42.4453010559082,
          12.664628028869629
         ],
         "xaxis": "x",
         "y": [
          12.249102592468262,
          7.675466537475586,
          8.621304512023926,
          12.45852279663086,
          10.392380714416504,
          10.292939186096191,
          22.06271743774414,
          9.244681358337402,
          8.803571701049805,
          -8.360912322998047,
          14.972559928894043,
          5.6045050621032715,
          7.361832141876221,
          7.6857008934021,
          6.389029026031494,
          9.099345207214355,
          3.4056169986724854,
          9.626419067382812,
          12.437033653259277,
          17.487245559692383,
          -10.53417682647705,
          0.45518040657043457,
          8.65328598022461,
          -35.91493606567383,
          6.510213375091553,
          10.771409034729004,
          9.078057289123535,
          9.669109344482422,
          7.850140571594238,
          7.818167686462402,
          9.305217742919922,
          8.237579345703125,
          8.286748886108398,
          8.860482215881348,
          9.515263557434082,
          4.203818321228027,
          9.734332084655762,
          5.53934383392334,
          13.518686294555664,
          20.995147705078125
         ],
         "yaxis": "y"
        },
        {
         "hovertemplate": "color=237<br>symbol=237<br>x=%{x}<br>y=%{y}<extra></extra>",
         "legendgroup": "237, 237",
         "marker": {
          "color": "#FF6692",
          "opacity": 0.3,
          "symbol": "diamond"
         },
         "mode": "markers",
         "name": "237, 237",
         "showlegend": true,
         "type": "scattergl",
         "x": [
          -14.90219497680664,
          -13.498366355895996,
          -11.093404769897461,
          0.26879364252090454,
          -15.545953750610352,
          -12.19105052947998,
          -10.464982032775879,
          -14.489529609680176,
          -10.094758033752441,
          -11.842170715332031,
          -12.268744468688965,
          -14.800459861755371,
          -16.199695587158203,
          -10.954324722290039,
          -13.141914367675781,
          -12.433232307434082,
          -10.680407524108887,
          -13.376530647277832,
          -10.846607208251953,
          -10.599471092224121,
          -13.505064010620117,
          -12.468557357788086,
          -12.64559268951416,
          -14.960189819335938,
          -13.452512741088867
         ],
         "xaxis": "x",
         "y": [
          67.17704772949219,
          67.23088073730469,
          67.8353271484375,
          40.48176193237305,
          68.24457550048828,
          69.7761459350586,
          68.69790649414062,
          66.58113861083984,
          69.3232421875,
          65.96906280517578,
          69.72444152832031,
          66.52703857421875,
          66.65638732910156,
          68.98575592041016,
          65.71987915039062,
          66.13095092773438,
          68.84114837646484,
          65.93819427490234,
          68.09660339355469,
          68.67997741699219,
          66.23408508300781,
          68.03925323486328,
          67.8068618774414,
          67.6488265991211,
          67.66577911376953
         ],
         "yaxis": "y"
        },
        {
         "hovertemplate": "color=118<br>symbol=118<br>x=%{x}<br>y=%{y}<extra></extra>",
         "legendgroup": "118, 118",
         "marker": {
          "color": "#B6E880",
          "opacity": 0.3,
          "symbol": "square"
         },
         "mode": "markers",
         "name": "118, 118",
         "showlegend": true,
         "type": "scattergl",
         "x": [
          -43.204803466796875,
          -42.84210968017578,
          -49.516090393066406,
          -41.64507293701172,
          -42.269081115722656,
          -47.86145782470703,
          -47.072052001953125,
          -41.09846115112305,
          -42.35414123535156,
          -43.21007537841797,
          -49.218318939208984,
          43.478397369384766,
          -42.09981918334961,
          -25.286996841430664,
          -41.99331283569336,
          -42.04652404785156,
          -42.379852294921875,
          -41.7961540222168,
          -40.52001190185547,
          -48.27247619628906,
          -48.62537384033203,
          -48.4471549987793,
          -47.007606506347656,
          -49.416500091552734,
          -44.62331771850586,
          -43.435707092285156,
          -47.4633674621582,
          -46.769432067871094,
          -47.299659729003906,
          -42.25850296020508,
          -40.97502517700195,
          -44.52295684814453,
          -42.878944396972656,
          -48.59309005737305,
          -42.60950469970703,
          -47.59266662597656,
          -47.274192810058594,
          -47.94504165649414,
          -36.9278564453125,
          -43.84718322753906,
          -46.88584518432617,
          -43.41702651977539,
          -47.38190841674805,
          -42.53421401977539,
          -44.64495849609375,
          -47.0321044921875,
          -44.31556701660156,
          -48.568115234375,
          -46.37421417236328,
          -42.23252487182617,
          -48.455570220947266,
          -45.15338897705078,
          -39.671085357666016
         ],
         "xaxis": "x",
         "y": [
          19.543079376220703,
          18.472820281982422,
          18.600448608398438,
          17.496519088745117,
          16.38180923461914,
          18.440811157226562,
          17.020864486694336,
          18.606412887573242,
          17.86568832397461,
          20.94036293029785,
          19.52259635925293,
          -20.731857299804688,
          19.41254234313965,
          24.554670333862305,
          18.56158447265625,
          17.30405044555664,
          19.373197555541992,
          17.67612075805664,
          14.595890998840332,
          19.936887741088867,
          19.0662899017334,
          18.25530242919922,
          19.420045852661133,
          19.599285125732422,
          18.537158966064453,
          15.129240989685059,
          19.45778465270996,
          19.836326599121094,
          18.093292236328125,
          19.14760398864746,
          17.800310134887695,
          17.966495513916016,
          16.59113311767578,
          19.99047088623047,
          17.563297271728516,
          18.8366641998291,
          18.153825759887695,
          19.340133666992188,
          16.84773826599121,
          19.604703903198242,
          18.92734146118164,
          17.486352920532227,
          18.19365119934082,
          17.021530151367188,
          18.776031494140625,
          17.098852157592773,
          18.39055824279785,
          18.381175994873047,
          14.803196907043457,
          17.664630889892578,
          19.027807235717773,
          18.05355453491211,
          17.03107452392578
         ],
         "yaxis": "y"
        },
        {
         "hovertemplate": "color=140<br>symbol=140<br>x=%{x}<br>y=%{y}<extra></extra>",
         "legendgroup": "140, 140",
         "marker": {
          "color": "#FF97FF",
          "opacity": 0.3,
          "symbol": "x"
         },
         "mode": "markers",
         "name": "140, 140",
         "showlegend": true,
         "type": "scattergl",
         "x": [
          -25.43661880493164,
          19.640727996826172,
          -0.4500751495361328,
          -3.0214059352874756,
          19.674644470214844,
          0.157788947224617
         ],
         "xaxis": "x",
         "y": [
          37.570247650146484,
          14.682661056518555,
          23.7904052734375,
          25.125240325927734,
          14.827798843383789,
          29.242578506469727
         ],
         "yaxis": "y"
        },
        {
         "hovertemplate": "color=138<br>symbol=138<br>x=%{x}<br>y=%{y}<extra></extra>",
         "legendgroup": "138, 138",
         "marker": {
          "color": "#FECB52",
          "opacity": 0.3,
          "symbol": "cross"
         },
         "mode": "markers",
         "name": "138, 138",
         "showlegend": true,
         "type": "scattergl",
         "x": [
          0.2878491282463074,
          -21.368927001953125,
          -22.616552352905273,
          -25.711429595947266,
          -13.586934089660645
         ],
         "xaxis": "x",
         "y": [
          19.32086181640625,
          8.480587005615234,
          6.330697536468506,
          7.06671667098999,
          17.12619972229004
         ],
         "yaxis": "y"
        },
        {
         "hovertemplate": "color=141<br>symbol=141<br>x=%{x}<br>y=%{y}<extra></extra>",
         "legendgroup": "141, 141",
         "marker": {
          "color": "#636efa",
          "opacity": 0.3,
          "symbol": "circle"
         },
         "mode": "markers",
         "name": "141, 141",
         "showlegend": true,
         "type": "scattergl",
         "x": [
          -15.123425483703613,
          -15.094731330871582,
          -14.421865463256836,
          -14.88769245147705
         ],
         "xaxis": "x",
         "y": [
          -19.12112808227539,
          -19.314908981323242,
          -19.852548599243164,
          -19.0647029876709
         ],
         "yaxis": "y"
        },
        {
         "hovertemplate": "color=332<br>symbol=332<br>x=%{x}<br>y=%{y}<extra></extra>",
         "legendgroup": "332, 332",
         "marker": {
          "color": "#EF553B",
          "opacity": 0.3,
          "symbol": "diamond"
         },
         "mode": "markers",
         "name": "332, 332",
         "showlegend": true,
         "type": "scattergl",
         "x": [
          -29.55310821533203,
          -29.256555557250977,
          -20.66232681274414,
          -30.189590454101562,
          8.934489250183105,
          -28.776874542236328,
          -28.31001853942871,
          -33.24152755737305,
          -28.07248878479004
         ],
         "xaxis": "x",
         "y": [
          19.63494300842285,
          21.435136795043945,
          24.256175994873047,
          21.562908172607422,
          22.451032638549805,
          20.274192810058594,
          18.35175895690918,
          33.47382354736328,
          19.691333770751953
         ],
         "yaxis": "y"
        },
        {
         "hovertemplate": "color=43<br>symbol=43<br>x=%{x}<br>y=%{y}<extra></extra>",
         "legendgroup": "43, 43",
         "marker": {
          "color": "#00cc96",
          "opacity": 0.3,
          "symbol": "square"
         },
         "mode": "markers",
         "name": "43, 43",
         "showlegend": true,
         "type": "scattergl",
         "x": [
          3.3741657733917236,
          5.955201148986816,
          1.0671205520629883,
          1.3412494659423828,
          -2.758967161178589,
          -2.716536045074463,
          6.164226531982422,
          4.152018070220947,
          5.991802215576172,
          12.580349922180176,
          1.9486910104751587,
          4.422801971435547,
          4.469160079956055,
          -6.885593414306641,
          1.886459231376648,
          4.102262020111084,
          -2.867337703704834,
          4.186846733093262,
          -2.0392487049102783,
          10.048691749572754,
          5.724796295166016,
          -3.6785166263580322,
          3.1939375400543213,
          -3.3404111862182617,
          3.7775185108184814,
          12.658293724060059,
          -2.6828203201293945,
          -0.755874752998352,
          6.305391788482666,
          3.6151559352874756,
          5.784036159515381,
          -0.41257789731025696,
          -2.5538339614868164,
          4.243642807006836,
          -2.8075551986694336,
          0.5527248382568359,
          6.4999566078186035,
          -1.3911062479019165,
          -1.0657213926315308,
          -4.014815330505371
         ],
         "xaxis": "x",
         "y": [
          27.102537155151367,
          26.48358917236328,
          -8.29895305633545,
          26.42262840270996,
          8.701254844665527,
          -6.11344051361084,
          26.469633102416992,
          26.71876335144043,
          27.36711311340332,
          25.622325897216797,
          17.21553611755371,
          27.61956024169922,
          26.419631958007812,
          12.133637428283691,
          -7.537586212158203,
          27.05116844177246,
          7.616642951965332,
          27.27650260925293,
          -10.721365928649902,
          24.107988357543945,
          26.38631248474121,
          8.075613975524902,
          -11.449392318725586,
          -6.533636093139648,
          26.707300186157227,
          25.649250030517578,
          9.598340034484863,
          8.622345924377441,
          25.642385482788086,
          26.028011322021484,
          26.521482467651367,
          11.734562873840332,
          -9.198349952697754,
          26.613264083862305,
          10.88487434387207,
          27.538084030151367,
          26.869474411010742,
          7.719057559967041,
          12.468603134155273,
          -7.221920013427734
         ],
         "yaxis": "y"
        },
        {
         "hovertemplate": "color=352<br>symbol=352<br>x=%{x}<br>y=%{y}<extra></extra>",
         "legendgroup": "352, 352",
         "marker": {
          "color": "#ab63fa",
          "opacity": 0.3,
          "symbol": "x"
         },
         "mode": "markers",
         "name": "352, 352",
         "showlegend": true,
         "type": "scattergl",
         "x": [
          -39.075016021728516,
          -36.128273010253906,
          -35.2457160949707,
          -37.004825592041016,
          -35.36207580566406,
          -35.86000442504883,
          -35.21662902832031,
          -37.30473327636719,
          -36.79603576660156,
          -36.43159484863281,
          -35.448848724365234,
          -35.403038024902344,
          -36.48109436035156,
          -36.71280288696289,
          -35.62937927246094,
          -35.17259216308594,
          -35.94499588012695,
          -37.443058013916016,
          -36.03499984741211,
          -37.17880630493164
         ],
         "xaxis": "x",
         "y": [
          -12.725231170654297,
          -13.639744758605957,
          -7.95216703414917,
          -13.910154342651367,
          -13.38217830657959,
          -12.833417892456055,
          -14.415847778320312,
          -12.946367263793945,
          -14.635579109191895,
          -13.462052345275879,
          -14.438056945800781,
          -15.747673988342285,
          -12.667448997497559,
          -15.310627937316895,
          -15.894593238830566,
          -9.190415382385254,
          -14.11396312713623,
          -13.966397285461426,
          -13.369820594787598,
          -13.14725112915039
         ],
         "yaxis": "y"
        },
        {
         "hovertemplate": "color=48<br>symbol=48<br>x=%{x}<br>y=%{y}<extra></extra>",
         "legendgroup": "48, 48",
         "marker": {
          "color": "#FFA15A",
          "opacity": 0.3,
          "symbol": "cross"
         },
         "mode": "markers",
         "name": "48, 48",
         "showlegend": true,
         "type": "scattergl",
         "x": [
          -8.317426681518555,
          -16.883411407470703,
          6.0163750648498535,
          -8.111262321472168,
          -20.96817970275879,
          5.909058094024658,
          -8.612915992736816,
          -14.717928886413574,
          3.226579427719116,
          -10.075145721435547,
          -6.477071762084961,
          -23.745534896850586,
          20.290470123291016,
          0.29671773314476013,
          -7.732863903045654,
          0.8124155402183533,
          -19.594970703125
         ],
         "xaxis": "x",
         "y": [
          30.311660766601562,
          22.53298568725586,
          33.62014389038086,
          30.027389526367188,
          25.88960838317871,
          34.467620849609375,
          28.89171600341797,
          31.548786163330078,
          25.687238693237305,
          28.861207962036133,
          29.61259651184082,
          23.263330459594727,
          8.80781364440918,
          33.748592376708984,
          29.104711532592773,
          33.254432678222656,
          20.78952407836914
         ],
         "yaxis": "y"
        },
        {
         "hovertemplate": "color=9<br>symbol=9<br>x=%{x}<br>y=%{y}<extra></extra>",
         "legendgroup": "9, 9",
         "marker": {
          "color": "#19d3f3",
          "opacity": 0.3,
          "symbol": "circle"
         },
         "mode": "markers",
         "name": "9, 9",
         "showlegend": true,
         "type": "scattergl",
         "x": [
          -2.0178093910217285,
          -0.4963603913784027,
          -4.715261459350586,
          -4.937547206878662,
          -2.2126007080078125,
          -8.222481727600098,
          -1.067969560623169,
          -0.5191574096679688,
          -1.6091362237930298,
          -1.065285086631775,
          21.96677589416504,
          -2.4847795963287354,
          -4.5362229347229,
          -0.9372779130935669,
          -2.991225481033325,
          -2.463988780975342,
          -2.643462657928467,
          -1.598327875137329,
          -3.986112356185913,
          -5.7619194984436035,
          -4.618394374847412,
          -0.37494271993637085,
          -3.363372325897217,
          -2.7992265224456787,
          -1.8340593576431274,
          -4.98873233795166,
          -12.377593040466309,
          -3.9552650451660156,
          -3.008857488632202,
          -3.7695577144622803,
          19.83065414428711,
          -3.8034744262695312,
          -4.402366638183594,
          -2.5059080123901367,
          -1.8239388465881348,
          -4.028506755828857,
          -5.072853088378906,
          -3.7278642654418945,
          -1.947560429573059,
          -1.8818355798721313,
          -3.0243701934814453,
          -0.6793020367622375
         ],
         "xaxis": "x",
         "y": [
          -26.84195899963379,
          -28.062856674194336,
          -25.83799171447754,
          -25.000072479248047,
          -27.193147659301758,
          -22.337215423583984,
          -24.322723388671875,
          -23.779441833496094,
          -23.691041946411133,
          -21.83600425720215,
          -18.91437530517578,
          -27.228511810302734,
          -28.329185485839844,
          -23.048261642456055,
          -26.289098739624023,
          -27.360584259033203,
          -27.597576141357422,
          20.00152015686035,
          -27.803638458251953,
          -26.14068603515625,
          -25.056764602661133,
          -23.669506072998047,
          -26.179161071777344,
          -27.00748634338379,
          -24.231212615966797,
          -26.833650588989258,
          -20.354347229003906,
          -25.58991813659668,
          -24.04774284362793,
          -27.280641555786133,
          15.360264778137207,
          -25.897878646850586,
          -26.69822883605957,
          -28.969364166259766,
          -24.504100799560547,
          -28.026121139526367,
          -26.899642944335938,
          -26.551761627197266,
          -22.622148513793945,
          -24.848567962646484,
          -27.77124786376953,
          -23.838848114013672
         ],
         "yaxis": "y"
        },
        {
         "hovertemplate": "color=162<br>symbol=162<br>x=%{x}<br>y=%{y}<extra></extra>",
         "legendgroup": "162, 162",
         "marker": {
          "color": "#FF6692",
          "opacity": 0.3,
          "symbol": "diamond"
         },
         "mode": "markers",
         "name": "162, 162",
         "showlegend": true,
         "type": "scattergl",
         "x": [
          22.82550811767578,
          22.86988067626953
         ],
         "xaxis": "x",
         "y": [
          55.52328109741211,
          55.48051834106445
         ],
         "yaxis": "y"
        },
        {
         "hovertemplate": "color=438<br>symbol=438<br>x=%{x}<br>y=%{y}<extra></extra>",
         "legendgroup": "438, 438",
         "marker": {
          "color": "#B6E880",
          "opacity": 0.3,
          "symbol": "square"
         },
         "mode": "markers",
         "name": "438, 438",
         "showlegend": true,
         "type": "scattergl",
         "x": [
          48.699893951416016,
          48.697120666503906,
          47.22904968261719,
          45.508277893066406,
          46.209999084472656,
          49.335693359375,
          49.72611999511719,
          47.8740119934082,
          51.31306076049805,
          49.11974334716797,
          47.913795471191406,
          49.75985336303711,
          48.21308135986328,
          47.61545181274414,
          51.89567184448242,
          49.59674072265625,
          49.32640075683594,
          55.033050537109375,
          47.232357025146484,
          51.821598052978516,
          46.83631134033203,
          48.63827133178711,
          47.5364990234375,
          54.23927688598633,
          49.0377197265625,
          54.43851089477539,
          48.77994918823242,
          48.193115234375,
          50.9816780090332,
          48.74759292602539,
          48.64716339111328,
          37.35551071166992,
          47.58919143676758,
          50.91032409667969,
          55.88634490966797,
          51.467891693115234,
          47.343353271484375,
          49.45524215698242,
          50.182132720947266,
          50.97569274902344,
          47.39491271972656
         ],
         "xaxis": "x",
         "y": [
          5.118450164794922,
          6.637303829193115,
          7.424077033996582,
          4.40554141998291,
          6.258087158203125,
          5.378407955169678,
          7.596545219421387,
          5.377058982849121,
          5.823093414306641,
          4.259376049041748,
          5.426909446716309,
          11.071608543395996,
          10.005229949951172,
          5.699244499206543,
          5.951115131378174,
          4.1691975593566895,
          6.68806266784668,
          7.528079986572266,
          4.6713643074035645,
          5.9579901695251465,
          5.4130988121032715,
          6.1705827713012695,
          4.560792446136475,
          7.38425350189209,
          10.99864673614502,
          6.276535511016846,
          6.044991970062256,
          4.79961633682251,
          5.210685729980469,
          5.878629207611084,
          7.054695129394531,
          0.4227583706378937,
          6.216775417327881,
          5.410671234130859,
          8.475724220275879,
          5.072562217712402,
          5.032174587249756,
          4.155986309051514,
          19.76136589050293,
          5.411377429962158,
          3.9496233463287354
         ],
         "yaxis": "y"
        },
        {
         "hovertemplate": "color=301<br>symbol=301<br>x=%{x}<br>y=%{y}<extra></extra>",
         "legendgroup": "301, 301",
         "marker": {
          "color": "#FF97FF",
          "opacity": 0.3,
          "symbol": "x"
         },
         "mode": "markers",
         "name": "301, 301",
         "showlegend": true,
         "type": "scattergl",
         "x": [
          17.05011558532715,
          16.869781494140625,
          16.682435989379883,
          44.40317153930664,
          12.325328826904297,
          12.784924507141113,
          12.342708587646484,
          17.127307891845703,
          16.69911003112793,
          18.511747360229492,
          17.284507751464844,
          15.21962833404541,
          16.421506881713867,
          14.804420471191406,
          17.065532684326172,
          11.655318260192871,
          16.047603607177734,
          17.866628646850586,
          15.476542472839355,
          19.48045539855957,
          -6.7576823234558105,
          16.241966247558594,
          16.44598388671875,
          17.686439514160156,
          13.822251319885254,
          16.397672653198242,
          17.0318603515625,
          11.57375431060791,
          14.049273490905762,
          17.271270751953125,
          7.301581859588623,
          18.781126022338867,
          18.551681518554688,
          15.617169380187988,
          11.450879096984863,
          14.413707733154297,
          16.99175453186035,
          16.025026321411133,
          16.997949600219727,
          16.751680374145508,
          15.206603050231934,
          16.102685928344727,
          16.161956787109375,
          19.398195266723633,
          14.432857513427734,
          15.399090766906738,
          15.144424438476562,
          16.563154220581055,
          18.186315536499023,
          16.583059310913086,
          18.181516647338867,
          -8.009845733642578
         ],
         "xaxis": "x",
         "y": [
          -40.30586624145508,
          -35.43757247924805,
          -40.37965774536133,
          -26.571317672729492,
          -37.53697204589844,
          -37.73560333251953,
          -37.61954879760742,
          -38.61092758178711,
          -38.8962287902832,
          -38.14054489135742,
          -38.77843475341797,
          -39.8335075378418,
          -39.150447845458984,
          -39.72922897338867,
          -38.11990737915039,
          -38.00516128540039,
          -36.44203186035156,
          -37.447086334228516,
          -37.61481475830078,
          -40.844112396240234,
          -20.248130798339844,
          -39.942138671875,
          -39.296688079833984,
          -38.79695129394531,
          -36.78757095336914,
          -40.26313400268555,
          -37.13119125366211,
          -37.98539733886719,
          -37.74848556518555,
          -36.73603820800781,
          -10.271465301513672,
          -40.46818923950195,
          -39.99406051635742,
          -35.639747619628906,
          -37.92765808105469,
          -37.539669036865234,
          -37.268192291259766,
          -38.31786346435547,
          -35.79055404663086,
          -39.53055191040039,
          -35.718711853027344,
          -36.90945053100586,
          8.844844818115234,
          -37.251853942871094,
          -38.839569091796875,
          -40.58433532714844,
          -38.86752700805664,
          -37.08585739135742,
          -39.49751281738281,
          -38.134605407714844,
          -39.698001861572266,
          35.48154830932617
         ],
         "yaxis": "y"
        },
        {
         "hovertemplate": "color=99<br>symbol=99<br>x=%{x}<br>y=%{y}<extra></extra>",
         "legendgroup": "99, 99",
         "marker": {
          "color": "#FECB52",
          "opacity": 0.3,
          "symbol": "cross"
         },
         "mode": "markers",
         "name": "99, 99",
         "showlegend": true,
         "type": "scattergl",
         "x": [
          -2.898283004760742,
          -1.5317109823226929,
          18.596845626831055,
          -1.499371886253357,
          -1.6270604133605957,
          -2.1630613803863525,
          2.5983903408050537,
          -1.449045181274414,
          -2.4705071449279785,
          -0.41997021436691284,
          1.2985132932662964,
          -3.5091443061828613,
          -3.796778917312622,
          -6.416041851043701,
          -1.0838090181350708,
          -1.9842137098312378,
          -1.869330883026123
         ],
         "xaxis": "x",
         "y": [
          9.76033878326416,
          -6.527521133422852,
          21.633201599121094,
          9.455516815185547,
          9.179242134094238,
          -6.056578159332275,
          -5.2545905113220215,
          -2.946687698364258,
          -5.5780205726623535,
          -5.651747703552246,
          -3.6586074829101562,
          -5.507681369781494,
          -4.986179828643799,
          13.197916030883789,
          9.678302764892578,
          -6.107290267944336,
          10.278122901916504
         ],
         "yaxis": "y"
        },
        {
         "hovertemplate": "color=254<br>symbol=254<br>x=%{x}<br>y=%{y}<extra></extra>",
         "legendgroup": "254, 254",
         "marker": {
          "color": "#636efa",
          "opacity": 0.3,
          "symbol": "circle"
         },
         "mode": "markers",
         "name": "254, 254",
         "showlegend": true,
         "type": "scattergl",
         "x": [
          26.194610595703125,
          44.6203498840332,
          42.0014762878418,
          25.818424224853516,
          44.80367660522461,
          26.059886932373047,
          26.336185455322266,
          42.668643951416016,
          23.968273162841797,
          44.5960578918457,
          24.782100677490234,
          24.00078582763672,
          25.31049156188965,
          48.67270278930664,
          42.31537628173828,
          42.72675704956055,
          42.68889617919922,
          41.382389068603516,
          45.467708587646484,
          43.601985931396484
         ],
         "xaxis": "x",
         "y": [
          -14.520980834960938,
          -22.65637969970703,
          -22.023107528686523,
          -16.55557632446289,
          -22.890872955322266,
          -15.56721305847168,
          -14.048355102539062,
          -22.555389404296875,
          -15.341175079345703,
          -22.672008514404297,
          64.20671844482422,
          -15.591934204101562,
          -15.31106948852539,
          -21.477140426635742,
          -22.679475784301758,
          -22.393259048461914,
          -22.828235626220703,
          -24.288223266601562,
          -23.46584129333496,
          -22.61612319946289
         ],
         "yaxis": "y"
        },
        {
         "hovertemplate": "color=382<br>symbol=382<br>x=%{x}<br>y=%{y}<extra></extra>",
         "legendgroup": "382, 382",
         "marker": {
          "color": "#EF553B",
          "opacity": 0.3,
          "symbol": "diamond"
         },
         "mode": "markers",
         "name": "382, 382",
         "showlegend": true,
         "type": "scattergl",
         "x": [
          -40.40996170043945,
          -41.2567253112793,
          -39.28356170654297,
          -41.30189895629883,
          -40.61101531982422,
          -40.01437759399414,
          -41.93285369873047,
          -40.549495697021484,
          -40.29120635986328,
          -40.676597595214844,
          -40.10218811035156,
          -40.99596405029297,
          -40.97447204589844,
          -39.956809997558594,
          -41.99642562866211,
          -41.256439208984375
         ],
         "xaxis": "x",
         "y": [
          54.375221252441406,
          55.39733123779297,
          54.93841552734375,
          53.73659133911133,
          53.8862419128418,
          54.74140167236328,
          48.113590240478516,
          55.48463439941406,
          54.75771713256836,
          54.02002716064453,
          54.269996643066406,
          54.192466735839844,
          54.39718246459961,
          54.158164978027344,
          53.79612731933594,
          55.24211883544922
         ],
         "yaxis": "y"
        },
        {
         "hovertemplate": "color=442<br>symbol=442<br>x=%{x}<br>y=%{y}<extra></extra>",
         "legendgroup": "442, 442",
         "marker": {
          "color": "#00cc96",
          "opacity": 0.3,
          "symbol": "square"
         },
         "mode": "markers",
         "name": "442, 442",
         "showlegend": true,
         "type": "scattergl",
         "x": [
          28.14559555053711,
          32.166709899902344,
          28.731552124023438,
          26.763729095458984,
          29.82868194580078,
          32.36550521850586,
          27.156131744384766,
          30.628740310668945,
          42.750770568847656,
          33.669036865234375,
          28.56195640563965,
          33.284271240234375,
          33.20748519897461,
          33.04033660888672,
          26.883323669433594,
          24.859071731567383,
          26.11345100402832,
          26.784751892089844,
          31.464839935302734,
          30.501554489135742,
          28.27580451965332,
          24.822898864746094,
          28.028282165527344,
          29.33629035949707,
          27.554264068603516,
          30.73923110961914,
          26.070693969726562,
          26.2066593170166,
          31.07322120666504,
          27.28241729736328,
          27.533849716186523,
          32.89678192138672,
          25.361316680908203,
          25.0380802154541,
          27.77608871459961,
          21.896724700927734,
          26.591522216796875,
          49.223819732666016,
          33.75916290283203,
          27.481836318969727,
          25.01340103149414,
          32.51125717163086,
          30.61092185974121,
          31.329364776611328,
          27.9740047454834,
          31.461605072021484,
          21.951095581054688,
          28.987607955932617,
          30.73923683166504,
          27.165571212768555,
          29.944345474243164,
          25.72960090637207,
          30.394926071166992,
          -3.7079713344573975,
          19.916353225708008,
          29.744140625,
          28.119075775146484,
          24.851972579956055,
          31.676969528198242,
          29.94491958618164,
          25.07606315612793,
          27.69442367553711,
          26.431737899780273
         ],
         "xaxis": "x",
         "y": [
          7.7072978019714355,
          2.02707576751709,
          0.6721423268318176,
          5.759601593017578,
          1.9368479251861572,
          2.27470064163208,
          3.6740145683288574,
          0.5436539053916931,
          4.77097225189209,
          2.9768526554107666,
          0.6749167442321777,
          2.9835948944091797,
          2.9796228408813477,
          1.1759226322174072,
          0.8471343517303467,
          1.5064650774002075,
          3.4947218894958496,
          4.948973655700684,
          2.209540605545044,
          5.884426593780518,
          4.185972213745117,
          3.060270309448242,
          0.24919913709163666,
          1.999383568763733,
          1.6236635446548462,
          4.172311782836914,
          1.9914207458496094,
          -0.09707800298929214,
          5.211372375488281,
          4.536497116088867,
          1.4563781023025513,
          2.9258384704589844,
          1.5598909854888916,
          3.1679720878601074,
          3.7422804832458496,
          3.895768642425537,
          -1.0710252523422241,
          9.372933387756348,
          2.979396104812622,
          -1.8649009466171265,
          2.1655008792877197,
          3.418135166168213,
          5.750091552734375,
          5.54000186920166,
          4.547938823699951,
          5.851184368133545,
          3.858125686645508,
          -1.2243733406066895,
          4.083724498748779,
          -0.03106231987476349,
          0.09604126214981079,
          1.4031089544296265,
          0.730070173740387,
          29.904132843017578,
          18.977630615234375,
          -1.3299974203109741,
          7.026384353637695,
          0.6748459339141846,
          2.0396063327789307,
          5.864494800567627,
          -4.743638038635254,
          3.5815746784210205,
          -1.0461069345474243
         ],
         "yaxis": "y"
        },
        {
         "hovertemplate": "color=165<br>symbol=165<br>x=%{x}<br>y=%{y}<extra></extra>",
         "legendgroup": "165, 165",
         "marker": {
          "color": "#ab63fa",
          "opacity": 0.3,
          "symbol": "x"
         },
         "mode": "markers",
         "name": "165, 165",
         "showlegend": true,
         "type": "scattergl",
         "x": [
          27.520984649658203,
          27.387149810791016,
          -16.095821380615234
         ],
         "xaxis": "x",
         "y": [
          62.2194938659668,
          62.14573669433594,
          -19.98419761657715
         ],
         "yaxis": "y"
        },
        {
         "hovertemplate": "color=166<br>symbol=166<br>x=%{x}<br>y=%{y}<extra></extra>",
         "legendgroup": "166, 166",
         "marker": {
          "color": "#FFA15A",
          "opacity": 0.3,
          "symbol": "cross"
         },
         "mode": "markers",
         "name": "166, 166",
         "showlegend": true,
         "type": "scattergl",
         "x": [
          24.90155792236328,
          19.956987380981445,
          24.789316177368164
         ],
         "xaxis": "x",
         "y": [
          57.29360580444336,
          57.65191650390625,
          57.23695755004883
         ],
         "yaxis": "y"
        },
        {
         "hovertemplate": "color=92<br>symbol=92<br>x=%{x}<br>y=%{y}<extra></extra>",
         "legendgroup": "92, 92",
         "marker": {
          "color": "#19d3f3",
          "opacity": 0.3,
          "symbol": "circle"
         },
         "mode": "markers",
         "name": "92, 92",
         "showlegend": true,
         "type": "scattergl",
         "x": [
          -19.845932006835938,
          -18.61212921142578,
          -15.459699630737305,
          -14.252225875854492,
          -6.225557804107666,
          -14.33926010131836,
          -15.46059513092041,
          -14.688892364501953,
          -15.760882377624512,
          -19.348112106323242,
          -13.343311309814453,
          -18.815601348876953,
          -18.305063247680664,
          -21.986291885375977,
          -18.21260643005371,
          -17.291610717773438,
          -14.5751314163208,
          -15.619511604309082,
          -20.81917381286621,
          -18.488134384155273,
          -17.316051483154297,
          -18.88723373413086,
          -15.514389991760254,
          -20.63389778137207,
          -16.531660079956055,
          21.448352813720703,
          -18.613245010375977,
          -15.13387393951416,
          -17.927391052246094,
          -14.170647621154785,
          -19.188169479370117,
          -17.76974868774414,
          -20.211870193481445,
          -18.04629135131836,
          20.00173568725586,
          -15.764163970947266,
          -19.41950798034668,
          -14.551849365234375,
          -18.96839714050293,
          -16.52406883239746,
          -19.851816177368164,
          -20.053123474121094
         ],
         "xaxis": "x",
         "y": [
          -6.08339262008667,
          -5.180493354797363,
          -9.082305908203125,
          -7.953675270080566,
          23.24783706665039,
          -9.577309608459473,
          -8.5457124710083,
          -8.984176635742188,
          -9.08583927154541,
          -4.288966178894043,
          -8.330336570739746,
          -6.624878883361816,
          -7.724289417266846,
          -7.7143874168396,
          -8.291008949279785,
          -9.355094909667969,
          -3.9515295028686523,
          -10.447007179260254,
          -7.963747978210449,
          -8.784846305847168,
          -9.8358736038208,
          -9.971062660217285,
          -8.391013145446777,
          -11.003094673156738,
          -9.461366653442383,
          -5.396801948547363,
          -5.132426738739014,
          -7.653931617736816,
          -4.309613227844238,
          -7.759427070617676,
          -9.213459968566895,
          -7.402390003204346,
          -6.036391735076904,
          -8.677665710449219,
          -18.238906860351562,
          -10.365625381469727,
          -8.742339134216309,
          -7.744537353515625,
          -6.174168109893799,
          -9.964545249938965,
          -9.062618255615234,
          -7.978574752807617
         ],
         "yaxis": "y"
        },
        {
         "hovertemplate": "color=304<br>symbol=304<br>x=%{x}<br>y=%{y}<extra></extra>",
         "legendgroup": "304, 304",
         "marker": {
          "color": "#FF6692",
          "opacity": 0.3,
          "symbol": "diamond"
         },
         "mode": "markers",
         "name": "304, 304",
         "showlegend": true,
         "type": "scattergl",
         "x": [
          17.79807472229004,
          17.67927360534668,
          18.512821197509766,
          16.925254821777344,
          16.679195404052734,
          18.016361236572266,
          16.42520523071289,
          16.358335494995117,
          16.333402633666992,
          17.312406539916992,
          15.4490966796875,
          -5.556487560272217,
          17.334012985229492,
          17.460723876953125,
          5.896180152893066,
          5.381328582763672,
          17.182600021362305,
          17.049415588378906,
          16.902982711791992,
          17.881052017211914,
          17.408544540405273
         ],
         "xaxis": "x",
         "y": [
          -59.19137191772461,
          -59.833984375,
          -58.840476989746094,
          -61.30485916137695,
          -59.72982406616211,
          -59.700714111328125,
          -59.79127502441406,
          -58.29606628417969,
          -59.771236419677734,
          -56.7238883972168,
          -57.59148025512695,
          26.504188537597656,
          -58.50273132324219,
          -60.38068771362305,
          -13.935555458068848,
          -15.194658279418945,
          -59.15396499633789,
          -60.40870666503906,
          -59.26138687133789,
          -59.449337005615234,
          -60.135223388671875
         ],
         "yaxis": "y"
        },
        {
         "hovertemplate": "color=434<br>symbol=434<br>x=%{x}<br>y=%{y}<extra></extra>",
         "legendgroup": "434, 434",
         "marker": {
          "color": "#B6E880",
          "opacity": 0.3,
          "symbol": "square"
         },
         "mode": "markers",
         "name": "434, 434",
         "showlegend": true,
         "type": "scattergl",
         "x": [
          52.61195373535156,
          52.82123565673828,
          56.036468505859375,
          54.118743896484375,
          53.6200065612793,
          53.5272216796875,
          56.80134963989258,
          50.95570755004883,
          55.8873176574707,
          52.231380462646484,
          55.28040313720703,
          55.20161056518555,
          54.34455871582031,
          53.26165008544922,
          53.92399978637695,
          55.90953063964844,
          54.80381393432617,
          56.0433235168457,
          54.83685302734375,
          55.89739227294922,
          52.29084777832031,
          54.7415885925293,
          55.344970703125,
          55.916900634765625,
          52.5919189453125,
          55.8846321105957,
          56.36614227294922,
          54.77530288696289,
          54.619747161865234,
          53.91696548461914,
          52.83060073852539
         ],
         "xaxis": "x",
         "y": [
          -0.5447449684143066,
          0.3990424871444702,
          -0.519570529460907,
          -1.844357967376709,
          -2.620253086090088,
          -1.6826322078704834,
          0.0701461136341095,
          0.16391220688819885,
          4.120521068572998,
          -0.05892963334918022,
          15.43954849243164,
          -0.6502726078033447,
          -3.0982534885406494,
          -0.4781845211982727,
          -1.1168843507766724,
          0.616602897644043,
          -1.0900870561599731,
          -0.21340684592723846,
          -1.8630362749099731,
          0.6726548075675964,
          -0.21379821002483368,
          -1.4996737241744995,
          -2.750670909881592,
          8.682581901550293,
          -0.6666144132614136,
          0.05429135635495186,
          -0.21303018927574158,
          -1.9605135917663574,
          -1.1880167722702026,
          -0.8198219537734985,
          -1.8140121698379517
         ],
         "yaxis": "y"
        },
        {
         "hovertemplate": "color=135<br>symbol=135<br>x=%{x}<br>y=%{y}<extra></extra>",
         "legendgroup": "135, 135",
         "marker": {
          "color": "#FF97FF",
          "opacity": 0.3,
          "symbol": "x"
         },
         "mode": "markers",
         "name": "135, 135",
         "showlegend": true,
         "type": "scattergl",
         "x": [
          -15.755389213562012,
          -18.821557998657227,
          -16.182388305664062,
          48.19947814941406,
          -17.7828426361084,
          -0.12624147534370422,
          -5.9140849113464355,
          -19.23384666442871,
          -16.834924697875977,
          -21.00294303894043,
          -17.4549503326416,
          -31.372365951538086,
          -17.64878273010254,
          -17.79813003540039,
          0.9316511750221252,
          -18.398117065429688,
          9.690122604370117,
          -17.159156799316406,
          -15.731836318969727,
          -15.525873184204102,
          -16.693828582763672,
          -1.0407476425170898,
          14.798481941223145,
          9.822733879089355
         ],
         "xaxis": "x",
         "y": [
          7.268370151519775,
          8.654000282287598,
          4.478725910186768,
          10.141923904418945,
          6.868807315826416,
          0.4453541934490204,
          22.074613571166992,
          7.402105808258057,
          6.8229169845581055,
          6.888816833496094,
          6.026512622833252,
          19.581687927246094,
          7.514657020568848,
          6.809473514556885,
          1.0703959465026855,
          6.247383117675781,
          30.001537322998047,
          7.111076831817627,
          5.035350322723389,
          4.819296360015869,
          7.026015758514404,
          2.717416286468506,
          -21.783838272094727,
          30.406475067138672
         ],
         "yaxis": "y"
        },
        {
         "hovertemplate": "color=348<br>symbol=348<br>x=%{x}<br>y=%{y}<extra></extra>",
         "legendgroup": "348, 348",
         "marker": {
          "color": "#FECB52",
          "opacity": 0.3,
          "symbol": "cross"
         },
         "mode": "markers",
         "name": "348, 348",
         "showlegend": true,
         "type": "scattergl",
         "x": [
          6.212416648864746,
          2.5956549644470215,
          0.97817462682724,
          5.369107246398926,
          10.433897972106934,
          4.131408214569092,
          0.7384747266769409,
          5.6689133644104,
          6.094159126281738,
          6.137503147125244,
          5.131541728973389,
          2.0238988399505615,
          3.4485316276550293,
          -29.409658432006836,
          3.514448881149292,
          9.644098281860352,
          3.9069628715515137,
          4.56593656539917,
          7.017632961273193,
          6.0161237716674805,
          4.375876426696777,
          12.636083602905273
         ],
         "xaxis": "x",
         "y": [
          14.739114761352539,
          -8.715356826782227,
          10.143576622009277,
          4.669729709625244,
          15.348796844482422,
          2.246973991394043,
          12.64309024810791,
          0.21671119332313538,
          1.9239501953125,
          14.842619895935059,
          2.225656747817993,
          10.091795921325684,
          34.46753692626953,
          18.086545944213867,
          9.531388282775879,
          7.727907180786133,
          9.70732307434082,
          0.76479172706604,
          3.186764717102051,
          1.4947316646575928,
          0.38750991225242615,
          11.02476978302002
         ],
         "yaxis": "y"
        },
        {
         "hovertemplate": "color=436<br>symbol=436<br>x=%{x}<br>y=%{y}<extra></extra>",
         "legendgroup": "436, 436",
         "marker": {
          "color": "#636efa",
          "opacity": 0.3,
          "symbol": "circle"
         },
         "mode": "markers",
         "name": "436, 436",
         "showlegend": true,
         "type": "scattergl",
         "x": [
          51.93535614013672,
          50.28373718261719,
          54.46782684326172,
          49.74727249145508,
          0.8498517274856567,
          51.7486686706543,
          49.716712951660156,
          49.565181732177734,
          49.115962982177734,
          -7.253180980682373,
          56.22001647949219,
          50.82180404663086,
          49.706180572509766,
          51.80994415283203,
          49.24097442626953,
          -7.099564075469971,
          1.9454282522201538,
          50.04236602783203,
          48.59508514404297,
          50.21554946899414,
          49.804046630859375,
          52.17236328125,
          48.840980529785156,
          47.915252685546875,
          49.27058792114258,
          50.242061614990234,
          49.08810806274414,
          50.34653854370117,
          49.858158111572266,
          53.30794143676758,
          52.91172790527344,
          50.20637893676758,
          49.41059112548828
         ],
         "xaxis": "x",
         "y": [
          20.953933715820312,
          22.445402145385742,
          8.179682731628418,
          23.86087417602539,
          20.34128189086914,
          21.165565490722656,
          24.05216407775879,
          23.627843856811523,
          22.669294357299805,
          35.08000946044922,
          9.21265697479248,
          23.752714157104492,
          22.01262664794922,
          21.54429054260254,
          21.255477905273438,
          36.995304107666016,
          19.999473571777344,
          23.505746841430664,
          22.362897872924805,
          24.961530685424805,
          22.564048767089844,
          21.60723876953125,
          24.439220428466797,
          23.372060775756836,
          21.082000732421875,
          23.24744987487793,
          23.727245330810547,
          19.929672241210938,
          22.02191925048828,
          15.632610321044922,
          21.86288070678711,
          24.658592224121094,
          23.180192947387695
         ],
         "yaxis": "y"
        },
        {
         "hovertemplate": "color=199<br>symbol=199<br>x=%{x}<br>y=%{y}<extra></extra>",
         "legendgroup": "199, 199",
         "marker": {
          "color": "#EF553B",
          "opacity": 0.3,
          "symbol": "diamond"
         },
         "mode": "markers",
         "name": "199, 199",
         "showlegend": true,
         "type": "scattergl",
         "x": [
          -49.7435302734375,
          -50.90569305419922,
          -47.60408401489258,
          -47.79671096801758,
          -48.688629150390625,
          -51.284576416015625,
          -49.56547546386719,
          -47.74317169189453,
          -49.81592559814453,
          -49.654109954833984,
          -50.723114013671875,
          -50.22101593017578,
          -49.21795654296875,
          -48.31001663208008,
          -49.14167404174805,
          -48.08648681640625,
          15.708091735839844
         ],
         "xaxis": "x",
         "y": [
          -38.68030548095703,
          -35.80715560913086,
          -38.12428283691406,
          -37.57535171508789,
          -36.11384963989258,
          -37.74504852294922,
          -36.817718505859375,
          -38.467735290527344,
          -36.36372756958008,
          -36.906944274902344,
          -37.05999755859375,
          -37.919803619384766,
          -39.86167907714844,
          -37.818023681640625,
          -38.95497512817383,
          -36.045989990234375,
          -5.092720985412598
         ],
         "yaxis": "y"
        },
        {
         "hovertemplate": "color=250<br>symbol=250<br>x=%{x}<br>y=%{y}<extra></extra>",
         "legendgroup": "250, 250",
         "marker": {
          "color": "#00cc96",
          "opacity": 0.3,
          "symbol": "square"
         },
         "mode": "markers",
         "name": "250, 250",
         "showlegend": true,
         "type": "scattergl",
         "x": [
          -47.98994064331055,
          40.096221923828125,
          44.68207931518555,
          43.32844161987305,
          40.01906204223633,
          41.67425537109375,
          44.37665939331055,
          23.031558990478516,
          40.23539352416992,
          40.24018859863281,
          46.98736572265625,
          40.1071891784668,
          44.588401794433594,
          24.328439712524414,
          24.976634979248047,
          43.7222785949707,
          24.498764038085938,
          47.53363800048828,
          40.041648864746094
         ],
         "xaxis": "x",
         "y": [
          -34.351741790771484,
          -17.891727447509766,
          -18.24863624572754,
          -17.85569190979004,
          -18.214326858520508,
          -18.969575881958008,
          -20.548612594604492,
          -1.5824590921401978,
          -17.369766235351562,
          -18.35114860534668,
          -21.545495986938477,
          -17.719839096069336,
          -18.256141662597656,
          -15.91832447052002,
          -16.378570556640625,
          -17.97784996032715,
          -15.935918807983398,
          -21.574739456176758,
          -18.143566131591797
         ],
         "yaxis": "y"
        },
        {
         "hovertemplate": "color=395<br>symbol=395<br>x=%{x}<br>y=%{y}<extra></extra>",
         "legendgroup": "395, 395",
         "marker": {
          "color": "#ab63fa",
          "opacity": 0.3,
          "symbol": "x"
         },
         "mode": "markers",
         "name": "395, 395",
         "showlegend": true,
         "type": "scattergl",
         "x": [
          -5.238030910491943,
          2.3908262252807617,
          -1.7969701290130615,
          -4.583226680755615,
          -4.999213695526123,
          -2.6348159313201904,
          -0.6580129861831665,
          -5.499070167541504,
          1.2306405305862427,
          -3.6312832832336426,
          -1.9050328731536865,
          -0.5249316096305847,
          -2.0371859073638916,
          -4.597123622894287,
          -1.2491732835769653,
          0.5471382141113281,
          -3.953084945678711,
          -2.8793890476226807,
          -0.5806928873062134,
          -4.063410758972168,
          -2.5983452796936035,
          -4.288600444793701,
          -4.442647457122803,
          -2.809535264968872,
          1.341684103012085,
          -2.4487521648406982,
          -3.8943018913269043,
          -3.3008241653442383,
          -2.1839544773101807,
          -2.9800925254821777,
          2.513744831085205,
          -3.0903868675231934,
          -3.7003543376922607,
          -22.102025985717773,
          -2.225142478942871,
          -4.296464920043945
         ],
         "xaxis": "x",
         "y": [
          -82.2888412475586,
          -83.25151824951172,
          -80.14584350585938,
          -81.40530395507812,
          -81.12346649169922,
          -78.95082092285156,
          -80.01908111572266,
          -80.55784606933594,
          -84.28865051269531,
          -81.78801727294922,
          -84.10357666015625,
          -80.0502700805664,
          -78.95315551757812,
          -80.0820083618164,
          -79.21678161621094,
          -83.8691635131836,
          -80.74674987792969,
          -79.57416534423828,
          -79.99057006835938,
          -80.83899688720703,
          -78.017578125,
          -81.21237182617188,
          -82.253662109375,
          -79.53451538085938,
          -82.56047821044922,
          -78.48594665527344,
          -81.30351257324219,
          -79.18695068359375,
          -79.98323822021484,
          -78.40388488769531,
          -83.16360473632812,
          -85.37545776367188,
          -81.79698181152344,
          12.468124389648438,
          -79.77424621582031,
          -80.91370391845703
         ],
         "yaxis": "y"
        },
        {
         "hovertemplate": "color=133<br>symbol=133<br>x=%{x}<br>y=%{y}<extra></extra>",
         "legendgroup": "133, 133",
         "marker": {
          "color": "#FFA15A",
          "opacity": 0.3,
          "symbol": "cross"
         },
         "mode": "markers",
         "name": "133, 133",
         "showlegend": true,
         "type": "scattergl",
         "x": [
          -17.430801391601562,
          -17.63688087463379,
          -18.135730743408203,
          -17.93830680847168
         ],
         "xaxis": "x",
         "y": [
          12.679722785949707,
          12.386707305908203,
          12.202861785888672,
          12.225339889526367
         ],
         "yaxis": "y"
        },
        {
         "hovertemplate": "color=307<br>symbol=307<br>x=%{x}<br>y=%{y}<extra></extra>",
         "legendgroup": "307, 307",
         "marker": {
          "color": "#19d3f3",
          "opacity": 0.3,
          "symbol": "circle"
         },
         "mode": "markers",
         "name": "307, 307",
         "showlegend": true,
         "type": "scattergl",
         "x": [
          -8.062472343444824,
          9.1846923828125,
          24.730697631835938,
          10.111021995544434
         ],
         "xaxis": "x",
         "y": [
          36.11346435546875,
          -58.37580490112305,
          -7.410396575927734,
          -54.18527603149414
         ],
         "yaxis": "y"
        },
        {
         "hovertemplate": "color=443<br>symbol=443<br>x=%{x}<br>y=%{y}<extra></extra>",
         "legendgroup": "443, 443",
         "marker": {
          "color": "#FF6692",
          "opacity": 0.3,
          "symbol": "diamond"
         },
         "mode": "markers",
         "name": "443, 443",
         "showlegend": true,
         "type": "scattergl",
         "x": [
          0.1884767711162567,
          -21.021310806274414,
          1.6163299083709717,
          1.3622965812683105,
          1.7857115268707275,
          1.6389967203140259,
          1.7638059854507446,
          3.350468158721924
         ],
         "xaxis": "x",
         "y": [
          22.28949737548828,
          4.774768829345703,
          21.86569595336914,
          22.52378273010254,
          22.445144653320312,
          22.30779266357422,
          22.367521286010742,
          13.907038688659668
         ],
         "yaxis": "y"
        },
        {
         "hovertemplate": "color=6<br>symbol=6<br>x=%{x}<br>y=%{y}<extra></extra>",
         "legendgroup": "6, 6",
         "marker": {
          "color": "#B6E880",
          "opacity": 0.3,
          "symbol": "square"
         },
         "mode": "markers",
         "name": "6, 6",
         "showlegend": true,
         "type": "scattergl",
         "x": [
          9.474556922912598,
          7.389836311340332,
          20.86829376220703,
          10.456269264221191,
          6.450872421264648,
          7.385158538818359,
          -2.0964555740356445,
          10.258220672607422,
          4.529344081878662,
          9.86496639251709,
          5.895979881286621,
          4.6879353523254395,
          6.095941066741943,
          10.158343315124512,
          10.543418884277344,
          6.97767972946167,
          5.072123050689697,
          8.148836135864258,
          10.358498573303223,
          8.920747756958008,
          7.901425838470459,
          6.546387672424316,
          8.518532752990723,
          8.450857162475586,
          9.692485809326172,
          8.003096580505371,
          8.404012680053711,
          7.3814849853515625,
          7.052248954772949,
          6.509350299835205,
          -2.128197193145752,
          10.02066707611084,
          7.039636611938477,
          7.495255470275879,
          9.082619667053223,
          -10.602766036987305,
          7.018404006958008,
          8.353938102722168,
          6.081873893737793,
          9.462296485900879,
          8.253972053527832,
          9.16185188293457,
          8.559174537658691,
          8.294271469116211,
          6.504946231842041,
          10.157587051391602
         ],
         "xaxis": "x",
         "y": [
          -26.746992111206055,
          -24.099149703979492,
          -17.649333953857422,
          -27.005334854125977,
          -23.05447006225586,
          -28.412487030029297,
          30.260629653930664,
          -29.58115005493164,
          -19.66019630432129,
          -29.234405517578125,
          -23.682947158813477,
          -16.618391036987305,
          -23.002309799194336,
          -27.651344299316406,
          -29.463499069213867,
          -27.545196533203125,
          -13.39460277557373,
          -30.19268798828125,
          -29.335968017578125,
          -29.341341018676758,
          -30.246694564819336,
          -22.02394676208496,
          -28.546934127807617,
          -28.394529342651367,
          -29.18470573425293,
          -24.873342514038086,
          -27.746702194213867,
          -24.281402587890625,
          -24.726964950561523,
          -21.891115188598633,
          30.113285064697266,
          -26.424283981323242,
          -28.632963180541992,
          -27.75316619873047,
          -26.103618621826172,
          -30.03188705444336,
          -27.007217407226562,
          -26.21828842163086,
          -28.01385498046875,
          -26.288179397583008,
          -27.76365089416504,
          -28.007448196411133,
          -26.162443161010742,
          -28.448026657104492,
          -24.861778259277344,
          -27.945728302001953
         ],
         "yaxis": "y"
        },
        {
         "hovertemplate": "color=7<br>symbol=7<br>x=%{x}<br>y=%{y}<extra></extra>",
         "legendgroup": "7, 7",
         "marker": {
          "color": "#FF97FF",
          "opacity": 0.3,
          "symbol": "x"
         },
         "mode": "markers",
         "name": "7, 7",
         "showlegend": true,
         "type": "scattergl",
         "x": [
          -18.094125747680664,
          -16.68351936340332,
          -15.434148788452148,
          -19.470443725585938,
          -13.920137405395508,
          -13.401599884033203,
          -15.164664268493652,
          -15.696878433227539,
          -17.930267333984375,
          -13.511635780334473,
          -15.125732421875,
          -13.559389114379883,
          -17.647586822509766,
          -18.32703971862793,
          -13.842455863952637,
          -12.274277687072754,
          -13.778499603271484,
          -12.537965774536133,
          -20.15941047668457,
          -13.546311378479004,
          -14.875899314880371,
          -12.659489631652832,
          -14.31639575958252,
          -16.122018814086914,
          -18.03999137878418,
          -14.421552658081055,
          -13.56248950958252,
          -17.33384132385254,
          -15.534516334533691,
          -13.865396499633789,
          -18.919666290283203,
          -20.694795608520508,
          -16.69441032409668,
          -18.35563087463379,
          -15.898656845092773,
          -16.762136459350586,
          -14.115629196166992,
          -12.634196281433105,
          -16.16398811340332,
          -16.905628204345703,
          -16.631433486938477,
          -16.72199058532715,
          -19.391164779663086,
          -14.628329277038574,
          -12.822606086730957,
          -17.960615158081055,
          -17.67552375793457,
          -17.68391227722168,
          -12.084162712097168,
          -16.757143020629883,
          -13.863617897033691,
          -13.487188339233398,
          -19.44134521484375,
          -12.485509872436523,
          -18.59666633605957,
          -20.725963592529297,
          -19.596813201904297,
          -16.016111373901367,
          -15.867586135864258,
          -13.630202293395996,
          -20.225866317749023,
          -13.864055633544922,
          -16.83509063720703,
          -14.401273727416992,
          -12.224027633666992,
          -15.260697364807129,
          -16.554929733276367,
          -12.902892112731934,
          -12.428374290466309
         ],
         "xaxis": "x",
         "y": [
          -67.16253662109375,
          -65.72566223144531,
          -65.91368103027344,
          -66.93865203857422,
          -63.055179595947266,
          -64.58148956298828,
          -62.100852966308594,
          -65.46577453613281,
          -64.61016082763672,
          -58.76465606689453,
          -65.5583267211914,
          -61.809608459472656,
          -66.51068115234375,
          -64.89967346191406,
          -62.60090255737305,
          -59.134761810302734,
          -61.19437789916992,
          -62.027984619140625,
          -68.16206359863281,
          -58.768978118896484,
          -65.59969329833984,
          -60.32355880737305,
          -61.538352966308594,
          -20.587581634521484,
          -64.63777923583984,
          -60.748600006103516,
          -68.4989242553711,
          -67.25981140136719,
          -65.72173309326172,
          -62.95040512084961,
          -66.13578796386719,
          -66.6182861328125,
          -67.75001525878906,
          -68.7276382446289,
          -66.9756088256836,
          -64.6235580444336,
          -68.02771759033203,
          -61.01624298095703,
          -65.56241607666016,
          -66.3597412109375,
          -66.47081756591797,
          -67.92825317382812,
          -67.50112915039062,
          -67.33500671386719,
          -60.82881546020508,
          -63.75882339477539,
          -66.002685546875,
          -65.75402069091797,
          -59.596134185791016,
          -65.34085083007812,
          -66.86345672607422,
          -64.52482604980469,
          -67.80111694335938,
          -60.03987503051758,
          -68.6751937866211,
          -66.68327331542969,
          -67.68838500976562,
          -64.45059204101562,
          -66.3605728149414,
          -60.803565979003906,
          -68.37541198730469,
          -62.77851867675781,
          -65.00788116455078,
          -67.81993865966797,
          -60.65974807739258,
          -67.62303161621094,
          -67.71263885498047,
          -58.8910026550293,
          -61.23094940185547
         ],
         "yaxis": "y"
        },
        {
         "hovertemplate": "color=156<br>symbol=156<br>x=%{x}<br>y=%{y}<extra></extra>",
         "legendgroup": "156, 156",
         "marker": {
          "color": "#FECB52",
          "opacity": 0.3,
          "symbol": "cross"
         },
         "mode": "markers",
         "name": "156, 156",
         "showlegend": true,
         "type": "scattergl",
         "x": [
          -4.394550323486328,
          -10.048460960388184
         ],
         "xaxis": "x",
         "y": [
          26.94074821472168,
          24.306333541870117
         ],
         "yaxis": "y"
        },
        {
         "hovertemplate": "color=80<br>symbol=80<br>x=%{x}<br>y=%{y}<extra></extra>",
         "legendgroup": "80, 80",
         "marker": {
          "color": "#636efa",
          "opacity": 0.3,
          "symbol": "circle"
         },
         "mode": "markers",
         "name": "80, 80",
         "showlegend": true,
         "type": "scattergl",
         "x": [
          -22.01934242248535,
          -19.4106502532959,
          -22.143646240234375,
          -18.866968154907227,
          -20.429067611694336,
          -18.747655868530273,
          -17.13273811340332,
          -0.5263547897338867,
          -19.03908348083496,
          -17.973499298095703,
          17.955141067504883,
          -18.86161231994629,
          25.06397819519043,
          -18.8752384185791,
          -18.096193313598633,
          -13.314553260803223,
          -0.8850272297859192,
          -19.60494041442871,
          -20.781484603881836
         ],
         "xaxis": "x",
         "y": [
          -9.731463432312012,
          -8.756072998046875,
          -9.846141815185547,
          -9.161434173583984,
          -10.674234390258789,
          -8.325223922729492,
          -6.462966442108154,
          21.203203201293945,
          -5.741547584533691,
          -11.681421279907227,
          -3.8050765991210938,
          -7.4105329513549805,
          -4.845567226409912,
          -9.170111656188965,
          -8.051655769348145,
          21.29153060913086,
          25.69386100769043,
          -8.496335983276367,
          -8.200580596923828
         ],
         "yaxis": "y"
        },
        {
         "hovertemplate": "color=393<br>symbol=393<br>x=%{x}<br>y=%{y}<extra></extra>",
         "legendgroup": "393, 393",
         "marker": {
          "color": "#EF553B",
          "opacity": 0.3,
          "symbol": "diamond"
         },
         "mode": "markers",
         "name": "393, 393",
         "showlegend": true,
         "type": "scattergl",
         "x": [
          2.4801244735717773,
          1.746134638786316,
          2.0025196075439453,
          1.4438143968582153,
          1.933087706565857,
          1.3657842874526978,
          1.1839349269866943,
          1.7317397594451904,
          1.3404006958007812,
          -10.352145195007324,
          1.4771182537078857,
          1.8877383470535278,
          2.4770350456237793,
          2.069669485092163
         ],
         "xaxis": "x",
         "y": [
          -86.27175903320312,
          -86.41613006591797,
          -86.48057556152344,
          -87.03412628173828,
          -86.09547424316406,
          -85.7597427368164,
          -85.6349105834961,
          -86.88818359375,
          -84.56729125976562,
          -35.68780517578125,
          -86.12236022949219,
          -86.79635620117188,
          -86.11095428466797,
          -85.31839752197266
         ],
         "yaxis": "y"
        },
        {
         "hovertemplate": "color=327<br>symbol=327<br>x=%{x}<br>y=%{y}<extra></extra>",
         "legendgroup": "327, 327",
         "marker": {
          "color": "#00cc96",
          "opacity": 0.3,
          "symbol": "square"
         },
         "mode": "markers",
         "name": "327, 327",
         "showlegend": true,
         "type": "scattergl",
         "x": [
          -34.305538177490234,
          -24.518566131591797,
          -25.131088256835938,
          -23.954668045043945,
          -7.485713005065918,
          12.216479301452637,
          -23.89187240600586,
          -2.380951404571533,
          -25.81312370300293,
          -25.117963790893555,
          -24.260725021362305,
          -25.556325912475586,
          -23.17134666442871,
          -29.59697723388672,
          11.115049362182617,
          -23.543128967285156,
          -15.68233585357666,
          -2.334407329559326,
          -25.061986923217773
         ],
         "xaxis": "x",
         "y": [
          -7.356123447418213,
          19.76401138305664,
          19.093978881835938,
          10.648097038269043,
          37.78038787841797,
          35.659019470214844,
          16.813257217407227,
          22.90571403503418,
          19.98890495300293,
          19.042892456054688,
          18.938127517700195,
          18.441980361938477,
          16.80519676208496,
          21.953598022460938,
          36.79180908203125,
          19.42731285095215,
          30.421764373779297,
          23.01331901550293,
          17.00631332397461
         ],
         "yaxis": "y"
        },
        {
         "hovertemplate": "color=225<br>symbol=225<br>x=%{x}<br>y=%{y}<extra></extra>",
         "legendgroup": "225, 225",
         "marker": {
          "color": "#ab63fa",
          "opacity": 0.3,
          "symbol": "x"
         },
         "mode": "markers",
         "name": "225, 225",
         "showlegend": true,
         "type": "scattergl",
         "x": [
          -14.19275951385498,
          -7.902470588684082,
          -16.595836639404297,
          0.999969482421875,
          -5.526175022125244,
          -16.47100830078125,
          19.215412139892578,
          -8.50650691986084,
          -32.58806228637695,
          -8.588626861572266,
          -10.926291465759277,
          7.478322982788086,
          -14.449615478515625,
          4.488539218902588,
          -18.750234603881836,
          -20.87646484375
         ],
         "xaxis": "x",
         "y": [
          18.91349983215332,
          26.39365577697754,
          24.12236213684082,
          41.627525329589844,
          28.66568946838379,
          21.149185180664062,
          62.44688034057617,
          21.7533016204834,
          37.0385627746582,
          25.59445571899414,
          25.848915100097656,
          35.00254440307617,
          -18.404804229736328,
          32.22394943237305,
          23.290861129760742,
          -68.80477905273438
         ],
         "yaxis": "y"
        },
        {
         "hovertemplate": "color=268<br>symbol=268<br>x=%{x}<br>y=%{y}<extra></extra>",
         "legendgroup": "268, 268",
         "marker": {
          "color": "#FFA15A",
          "opacity": 0.3,
          "symbol": "cross"
         },
         "mode": "markers",
         "name": "268, 268",
         "showlegend": true,
         "type": "scattergl",
         "x": [
          40.18452835083008,
          40.609130859375
         ],
         "xaxis": "x",
         "y": [
          -30.6878662109375,
          -30.836307525634766
         ],
         "yaxis": "y"
        },
        {
         "hovertemplate": "color=351<br>symbol=351<br>x=%{x}<br>y=%{y}<extra></extra>",
         "legendgroup": "351, 351",
         "marker": {
          "color": "#19d3f3",
          "opacity": 0.3,
          "symbol": "circle"
         },
         "mode": "markers",
         "name": "351, 351",
         "showlegend": true,
         "type": "scattergl",
         "x": [
          -40.223819732666016,
          -38.80625915527344,
          -39.72686767578125,
          -39.97120666503906,
          -39.075069427490234,
          -39.46434020996094,
          -39.4530143737793,
          -39.87511444091797,
          -39.153953552246094,
          -39.99860763549805
         ],
         "xaxis": "x",
         "y": [
          -11.227153778076172,
          -10.250713348388672,
          -10.693284034729004,
          -10.70462417602539,
          -10.556703567504883,
          -9.9086332321167,
          -10.330140113830566,
          -10.573173522949219,
          -11.041633605957031,
          -11.720541000366211
         ],
         "yaxis": "y"
        },
        {
         "hovertemplate": "color=439<br>symbol=439<br>x=%{x}<br>y=%{y}<extra></extra>",
         "legendgroup": "439, 439",
         "marker": {
          "color": "#FF6692",
          "opacity": 0.3,
          "symbol": "diamond"
         },
         "mode": "markers",
         "name": "439, 439",
         "showlegend": true,
         "type": "scattergl",
         "x": [
          62.85969543457031,
          60.065887451171875,
          63.80067443847656,
          57.847572326660156,
          58.76945877075195,
          61.94164276123047,
          60.81908416748047
         ],
         "xaxis": "x",
         "y": [
          19.334836959838867,
          19.3148250579834,
          15.856888771057129,
          17.660316467285156,
          18.282602310180664,
          19.946813583374023,
          19.887107849121094
         ],
         "yaxis": "y"
        },
        {
         "hovertemplate": "color=300<br>symbol=300<br>x=%{x}<br>y=%{y}<extra></extra>",
         "legendgroup": "300, 300",
         "marker": {
          "color": "#B6E880",
          "opacity": 0.3,
          "symbol": "square"
         },
         "mode": "markers",
         "name": "300, 300",
         "showlegend": true,
         "type": "scattergl",
         "x": [
          -17.159759521484375,
          -19.38905906677246,
          -18.24059295654297,
          -19.073854446411133,
          -19.214570999145508,
          -19.192447662353516,
          -20.49626922607422,
          -15.598820686340332,
          -18.75495147705078,
          -18.482519149780273,
          -17.868122100830078,
          -19.626245498657227,
          -19.375267028808594,
          -19.16756820678711,
          -20.04022979736328,
          -18.441335678100586,
          -19.4287109375,
          -17.814062118530273,
          -19.482559204101562,
          -17.840232849121094,
          -18.00974464416504,
          -18.14117431640625,
          -19.097415924072266,
          -18.412506103515625,
          -20.355831146240234,
          -16.648948669433594,
          -18.412561416625977,
          -18.959041595458984,
          -20.168346405029297,
          -19.563608169555664
         ],
         "xaxis": "x",
         "y": [
          -52.10961151123047,
          -51.74405288696289,
          -50.0338134765625,
          -50.24901580810547,
          -47.692352294921875,
          -48.501155853271484,
          -50.935462951660156,
          -46.55919647216797,
          -50.47313690185547,
          -50.7597770690918,
          -51.552677154541016,
          -49.12528610229492,
          -50.86620330810547,
          -50.92722702026367,
          -48.74478530883789,
          -52.22126770019531,
          -50.625518798828125,
          -50.8590202331543,
          -48.83835220336914,
          -49.8369140625,
          -51.48573303222656,
          -50.43013000488281,
          -51.21306610107422,
          -48.297969818115234,
          -50.86334228515625,
          -53.52201461791992,
          -51.5733642578125,
          -50.28519821166992,
          -50.268714904785156,
          -49.755027770996094
         ],
         "yaxis": "y"
        },
        {
         "hovertemplate": "color=164<br>symbol=164<br>x=%{x}<br>y=%{y}<extra></extra>",
         "legendgroup": "164, 164",
         "marker": {
          "color": "#FF97FF",
          "opacity": 0.3,
          "symbol": "x"
         },
         "mode": "markers",
         "name": "164, 164",
         "showlegend": true,
         "type": "scattergl",
         "x": [
          -49.21174621582031
         ],
         "xaxis": "x",
         "y": [
          16.619169235229492
         ],
         "yaxis": "y"
        },
        {
         "hovertemplate": "color=390<br>symbol=390<br>x=%{x}<br>y=%{y}<extra></extra>",
         "legendgroup": "390, 390",
         "marker": {
          "color": "#FECB52",
          "opacity": 0.3,
          "symbol": "cross"
         },
         "mode": "markers",
         "name": "390, 390",
         "showlegend": true,
         "type": "scattergl",
         "x": [
          -1.803563117980957,
          -2.030855655670166,
          -2.4006009101867676,
          -3.26305890083313,
          2.8225467205047607,
          -3.3733808994293213,
          -2.6924121379852295,
          -2.6790034770965576,
          -2.7623496055603027,
          -1.8241500854492188,
          -1.8150495290756226,
          -2.695150852203369,
          -1.6435974836349487,
          -2.426635980606079,
          -1.7358014583587646
         ],
         "xaxis": "x",
         "y": [
          -85.79035949707031,
          -87.1454086303711,
          -87.32514953613281,
          -84.98322296142578,
          -84.1441421508789,
          -85.36392974853516,
          -84.30062103271484,
          -84.48450469970703,
          -87.09052276611328,
          -87.28250885009766,
          -87.10549926757812,
          -87.5536117553711,
          -86.4004135131836,
          -86.52491760253906,
          -87.30957794189453
         ],
         "yaxis": "y"
        },
        {
         "hovertemplate": "color=440<br>symbol=440<br>x=%{x}<br>y=%{y}<extra></extra>",
         "legendgroup": "440, 440",
         "marker": {
          "color": "#636efa",
          "opacity": 0.3,
          "symbol": "circle"
         },
         "mode": "markers",
         "name": "440, 440",
         "showlegend": true,
         "type": "scattergl",
         "x": [
          13.074984550476074,
          15.364447593688965,
          19.038713455200195,
          17.747602462768555,
          19.191158294677734,
          16.390260696411133,
          13.414501190185547,
          19.860570907592773,
          16.003210067749023,
          20.611963272094727,
          14.508721351623535,
          19.544532775878906,
          13.333063125610352,
          19.071073532104492,
          16.465538024902344,
          19.403383255004883,
          16.903276443481445,
          19.910526275634766,
          19.193437576293945,
          18.26614761352539
         ],
         "xaxis": "x",
         "y": [
          33.422672271728516,
          33.845489501953125,
          31.746217727661133,
          32.42366409301758,
          40.62310028076172,
          35.99967956542969,
          25.786361694335938,
          33.21010971069336,
          33.94091796875,
          32.2424430847168,
          33.32059097290039,
          37.9825439453125,
          32.45476531982422,
          38.304264068603516,
          34.93430709838867,
          38.25208282470703,
          33.0323486328125,
          37.602054595947266,
          40.61830139160156,
          38.22411346435547
         ],
         "yaxis": "y"
        },
        {
         "hovertemplate": "color=441<br>symbol=441<br>x=%{x}<br>y=%{y}<extra></extra>",
         "legendgroup": "441, 441",
         "marker": {
          "color": "#EF553B",
          "opacity": 0.3,
          "symbol": "diamond"
         },
         "mode": "markers",
         "name": "441, 441",
         "showlegend": true,
         "type": "scattergl",
         "x": [
          66.71595764160156,
          65.39317321777344,
          65.6624755859375,
          65.04792785644531,
          66.84864807128906,
          66.37855529785156,
          65.12628173828125,
          55.808956146240234,
          66.79771423339844,
          67.80561828613281,
          67.50442504882812,
          66.24452209472656,
          65.66831970214844,
          58.02456283569336
         ],
         "xaxis": "x",
         "y": [
          11.378697395324707,
          11.244930267333984,
          12.719675064086914,
          11.091504096984863,
          13.437901496887207,
          11.961753845214844,
          13.486201286315918,
          16.62486457824707,
          12.319012641906738,
          11.284001350402832,
          11.482804298400879,
          9.092765808105469,
          12.032262802124023,
          18.610502243041992
         ],
         "yaxis": "y"
        },
        {
         "hovertemplate": "color=357<br>symbol=357<br>x=%{x}<br>y=%{y}<extra></extra>",
         "legendgroup": "357, 357",
         "marker": {
          "color": "#00cc96",
          "opacity": 0.3,
          "symbol": "square"
         },
         "mode": "markers",
         "name": "357, 357",
         "showlegend": true,
         "type": "scattergl",
         "x": [
          2.247859477996826,
          2.1423463821411133,
          7.877897262573242
         ],
         "xaxis": "x",
         "y": [
          36.644493103027344,
          37.13145065307617,
          34.18272399902344
         ],
         "yaxis": "y"
        },
        {
         "hovertemplate": "color=106<br>symbol=106<br>x=%{x}<br>y=%{y}<extra></extra>",
         "legendgroup": "106, 106",
         "marker": {
          "color": "#ab63fa",
          "opacity": 0.3,
          "symbol": "x"
         },
         "mode": "markers",
         "name": "106, 106",
         "showlegend": true,
         "type": "scattergl",
         "x": [
          -42.12788391113281,
          -40.03097152709961,
          -41.233394622802734,
          -41.614166259765625,
          -40.71622848510742,
          10.279199600219727,
          -39.62696838378906,
          -40.75652313232422,
          -40.015419006347656,
          -41.75028610229492,
          -41.60813522338867,
          -39.64756393432617,
          -42.518531799316406,
          -41.14522933959961
         ],
         "xaxis": "x",
         "y": [
          20.314233779907227,
          19.317140579223633,
          16.96123504638672,
          16.623088836669922,
          18.20795249938965,
          13.59463119506836,
          16.568632125854492,
          15.017765998840332,
          18.800155639648438,
          15.551122665405273,
          15.940523147583008,
          16.500499725341797,
          16.174312591552734,
          16.886035919189453
         ],
         "yaxis": "y"
        },
        {
         "hovertemplate": "color=349<br>symbol=349<br>x=%{x}<br>y=%{y}<extra></extra>",
         "legendgroup": "349, 349",
         "marker": {
          "color": "#FFA15A",
          "opacity": 0.3,
          "symbol": "cross"
         },
         "mode": "markers",
         "name": "349, 349",
         "showlegend": true,
         "type": "scattergl",
         "x": [
          5.37548303604126,
          5.612938404083252,
          9.630775451660156
         ],
         "xaxis": "x",
         "y": [
          4.443816184997559,
          6.349697589874268,
          13.51488208770752
         ],
         "yaxis": "y"
        },
        {
         "hovertemplate": "color=347<br>symbol=347<br>x=%{x}<br>y=%{y}<extra></extra>",
         "legendgroup": "347, 347",
         "marker": {
          "color": "#19d3f3",
          "opacity": 0.3,
          "symbol": "circle"
         },
         "mode": "markers",
         "name": "347, 347",
         "showlegend": true,
         "type": "scattergl",
         "x": [
          13.445059776306152,
          11.884210586547852
         ],
         "xaxis": "x",
         "y": [
          14.218067169189453,
          11.815195083618164
         ],
         "yaxis": "y"
        },
        {
         "hovertemplate": "color=104<br>symbol=104<br>x=%{x}<br>y=%{y}<extra></extra>",
         "legendgroup": "104, 104",
         "marker": {
          "color": "#FF6692",
          "opacity": 0.3,
          "symbol": "diamond"
         },
         "mode": "markers",
         "name": "104, 104",
         "showlegend": true,
         "type": "scattergl",
         "x": [
          -7.833982467651367,
          0.23303364217281342,
          -8.471952438354492,
          15.401627540588379,
          -8.175695419311523,
          -8.291889190673828,
          39.88082504272461,
          -8.233600616455078,
          10.391281127929688
         ],
         "xaxis": "x",
         "y": [
          -20.599050521850586,
          22.041112899780273,
          -20.94944953918457,
          26.9317569732666,
          -20.921659469604492,
          -21.255762100219727,
          -45.564491271972656,
          -21.13290786743164,
          -7.061168670654297
         ],
         "yaxis": "y"
        },
        {
         "hovertemplate": "color=249<br>symbol=249<br>x=%{x}<br>y=%{y}<extra></extra>",
         "legendgroup": "249, 249",
         "marker": {
          "color": "#B6E880",
          "opacity": 0.3,
          "symbol": "square"
         },
         "mode": "markers",
         "name": "249, 249",
         "showlegend": true,
         "type": "scattergl",
         "x": [
          11.169312477111816,
          24.186141967773438,
          23.215234756469727,
          25.93281364440918,
          20.086244583129883,
          47.63753128051758,
          29.131948471069336,
          46.66853332519531,
          26.404996871948242,
          -21.01091194152832,
          9.660684585571289,
          24.222206115722656,
          23.78529167175293,
          25.10611915588379,
          23.858694076538086,
          25.413555145263672,
          7.051022052764893,
          22.543912887573242,
          24.793601989746094,
          33.15827178955078,
          9.638858795166016,
          22.531578063964844,
          25.292089462280273,
          11.198953628540039,
          24.11663246154785,
          23.1939640045166
         ],
         "xaxis": "x",
         "y": [
          -12.84293270111084,
          -20.737106323242188,
          -20.52548599243164,
          -21.4453125,
          -20.225173950195312,
          -15.135237693786621,
          -21.60151481628418,
          -16.37783432006836,
          -21.63552474975586,
          47.26291275024414,
          -13.398326873779297,
          -20.33124351501465,
          -20.016544342041016,
          -21.70876693725586,
          -20.362991333007812,
          -20.55306053161621,
          -10.543135643005371,
          -19.946088790893555,
          -20.46761131286621,
          -27.3582820892334,
          -13.348897933959961,
          -22.859615325927734,
          -22.331283569335938,
          -12.768959999084473,
          -22.13154411315918,
          -20.393230438232422
         ],
         "yaxis": "y"
        },
        {
         "hovertemplate": "color=274<br>symbol=274<br>x=%{x}<br>y=%{y}<extra></extra>",
         "legendgroup": "274, 274",
         "marker": {
          "color": "#FF97FF",
          "opacity": 0.3,
          "symbol": "x"
         },
         "mode": "markers",
         "name": "274, 274",
         "showlegend": true,
         "type": "scattergl",
         "x": [
          -0.044178556650877,
          0.5801041722297668,
          1.936506986618042,
          -1.4494892358779907,
          2.2822165489196777,
          1.1400251388549805,
          0.6364031434059143,
          3.0806663036346436,
          2.3952271938323975,
          0.31359100341796875,
          0.9506138563156128,
          1.3628429174423218,
          2.1258347034454346,
          0.9083215594291687,
          0.3868211805820465,
          0.3832370638847351,
          1.1312575340270996,
          2.628781795501709,
          2.1373791694641113,
          3.7070889472961426
         ],
         "xaxis": "x",
         "y": [
          73.83126068115234,
          71.7487564086914,
          72.67234802246094,
          70.9305419921875,
          73.3184585571289,
          72.2190170288086,
          72.11170959472656,
          70.97462463378906,
          72.3545150756836,
          72.26953887939453,
          72.85244750976562,
          73.4874038696289,
          71.64500427246094,
          71.32164001464844,
          73.89896392822266,
          71.13825225830078,
          69.89997863769531,
          72.95840454101562,
          71.36527252197266,
          72.12484741210938
         ],
         "yaxis": "y"
        },
        {
         "hovertemplate": "color=198<br>symbol=198<br>x=%{x}<br>y=%{y}<extra></extra>",
         "legendgroup": "198, 198",
         "marker": {
          "color": "#FECB52",
          "opacity": 0.3,
          "symbol": "cross"
         },
         "mode": "markers",
         "name": "198, 198",
         "showlegend": true,
         "type": "scattergl",
         "x": [
          17.380596160888672,
          0.4942600131034851,
          0.5316453576087952,
          0.44721803069114685,
          2.261045455932617,
          -13.01551628112793,
          -5.178394794464111
         ],
         "xaxis": "x",
         "y": [
          -56.11265182495117,
          38.97196578979492,
          38.86796188354492,
          39.2679557800293,
          33.60927200317383,
          27.147869110107422,
          28.04488182067871
         ],
         "yaxis": "y"
        },
        {
         "hovertemplate": "color=253<br>symbol=253<br>x=%{x}<br>y=%{y}<extra></extra>",
         "legendgroup": "253, 253",
         "marker": {
          "color": "#636efa",
          "opacity": 0.3,
          "symbol": "circle"
         },
         "mode": "markers",
         "name": "253, 253",
         "showlegend": true,
         "type": "scattergl",
         "x": [
          24.628311157226562,
          28.110132217407227,
          25.440719604492188,
          24.549345016479492,
          25.587743759155273,
          27.390953063964844,
          25.529766082763672,
          26.739582061767578,
          25.6350154876709,
          24.280715942382812,
          24.914934158325195
         ],
         "xaxis": "x",
         "y": [
          -30.705923080444336,
          -28.31631088256836,
          -27.3241024017334,
          -31.153724670410156,
          -27.348159790039062,
          -27.77504539489746,
          -28.840755462646484,
          -28.905271530151367,
          -18.284770965576172,
          -28.21540641784668,
          -28.18058967590332
         ],
         "yaxis": "y"
        },
        {
         "hovertemplate": "color=84<br>symbol=84<br>x=%{x}<br>y=%{y}<extra></extra>",
         "legendgroup": "84, 84",
         "marker": {
          "color": "#EF553B",
          "opacity": 0.3,
          "symbol": "diamond"
         },
         "mode": "markers",
         "name": "84, 84",
         "showlegend": true,
         "type": "scattergl",
         "x": [
          -14.474312782287598,
          -24.80833625793457
         ],
         "xaxis": "x",
         "y": [
          -7.877659797668457,
          5.122056007385254
         ],
         "yaxis": "y"
        },
        {
         "hovertemplate": "color=195<br>symbol=195<br>x=%{x}<br>y=%{y}<extra></extra>",
         "legendgroup": "195, 195",
         "marker": {
          "color": "#00cc96",
          "opacity": 0.3,
          "symbol": "square"
         },
         "mode": "markers",
         "name": "195, 195",
         "showlegend": true,
         "type": "scattergl",
         "x": [
          -3.8262100219726562,
          -15.053545951843262,
          -0.5524076223373413,
          3.2153611183166504,
          -6.457150459289551,
          7.734126567840576,
          -17.257448196411133,
          -17.011455535888672,
          -3.162320375442505
         ],
         "xaxis": "x",
         "y": [
          33.038082122802734,
          31.878923416137695,
          28.249176025390625,
          24.23807716369629,
          31.148136138916016,
          5.605055332183838,
          31.596555709838867,
          25.75589370727539,
          19.33637809753418
         ],
         "yaxis": "y"
        },
        {
         "hovertemplate": "color=458<br>symbol=458<br>x=%{x}<br>y=%{y}<extra></extra>",
         "legendgroup": "458, 458",
         "marker": {
          "color": "#ab63fa",
          "opacity": 0.3,
          "symbol": "x"
         },
         "mode": "markers",
         "name": "458, 458",
         "showlegend": true,
         "type": "scattergl",
         "x": [
          4.022670745849609,
          -2.1780810356140137,
          0.848042905330658,
          6.923007488250732,
          1.3636436462402344,
          6.948075771331787,
          -2.5385899543762207,
          46.87077713012695,
          4.651488780975342,
          6.769975185394287,
          6.328983306884766,
          5.972226619720459
         ],
         "xaxis": "x",
         "y": [
          -4.241173267364502,
          -2.473629951477051,
          15.311813354492188,
          -7.441239833831787,
          7.147326469421387,
          -7.43612003326416,
          -2.339914083480835,
          -16.17469024658203,
          -5.728322982788086,
          -5.272698879241943,
          -5.592378616333008,
          -5.74802827835083
         ],
         "yaxis": "y"
        },
        {
         "hovertemplate": "color=132<br>symbol=132<br>x=%{x}<br>y=%{y}<extra></extra>",
         "legendgroup": "132, 132",
         "marker": {
          "color": "#FFA15A",
          "opacity": 0.3,
          "symbol": "cross"
         },
         "mode": "markers",
         "name": "132, 132",
         "showlegend": true,
         "type": "scattergl",
         "x": [
          -23.916671752929688,
          -24.54503631591797,
          -24.146177291870117,
          -24.574514389038086,
          -24.1660213470459
         ],
         "xaxis": "x",
         "y": [
          1.5322587490081787,
          0.42451512813568115,
          1.028649091720581,
          0.3823484182357788,
          0.9198417067527771
         ],
         "yaxis": "y"
        },
        {
         "hovertemplate": "color=172<br>symbol=172<br>x=%{x}<br>y=%{y}<extra></extra>",
         "legendgroup": "172, 172",
         "marker": {
          "color": "#19d3f3",
          "opacity": 0.3,
          "symbol": "circle"
         },
         "mode": "markers",
         "name": "172, 172",
         "showlegend": true,
         "type": "scattergl",
         "x": [
          29.038166046142578
         ],
         "xaxis": "x",
         "y": [
          59.71052932739258
         ],
         "yaxis": "y"
        },
        {
         "hovertemplate": "color=20<br>symbol=20<br>x=%{x}<br>y=%{y}<extra></extra>",
         "legendgroup": "20, 20",
         "marker": {
          "color": "#FF6692",
          "opacity": 0.3,
          "symbol": "diamond"
         },
         "mode": "markers",
         "name": "20, 20",
         "showlegend": true,
         "type": "scattergl",
         "x": [
          44.35882568359375,
          37.50468826293945
         ],
         "xaxis": "x",
         "y": [
          -46.913089752197266,
          -48.79153060913086
         ],
         "yaxis": "y"
        },
        {
         "hovertemplate": "color=184<br>symbol=184<br>x=%{x}<br>y=%{y}<extra></extra>",
         "legendgroup": "184, 184",
         "marker": {
          "color": "#B6E880",
          "opacity": 0.3,
          "symbol": "square"
         },
         "mode": "markers",
         "name": "184, 184",
         "showlegend": true,
         "type": "scattergl",
         "x": [
          -8.018599510192871
         ],
         "xaxis": "x",
         "y": [
          47.29384231567383
         ],
         "yaxis": "y"
        },
        {
         "hovertemplate": "color=213<br>symbol=213<br>x=%{x}<br>y=%{y}<extra></extra>",
         "legendgroup": "213, 213",
         "marker": {
          "color": "#FF97FF",
          "opacity": 0.3,
          "symbol": "x"
         },
         "mode": "markers",
         "name": "213, 213",
         "showlegend": true,
         "type": "scattergl",
         "x": [
          -45.791709899902344,
          -49.15177536010742,
          -47.7830696105957,
          -48.579463958740234
         ],
         "xaxis": "x",
         "y": [
          -40.0157470703125,
          -34.62495803833008,
          -40.63399887084961,
          -38.38669967651367
         ],
         "yaxis": "y"
        },
        {
         "hovertemplate": "color=25<br>symbol=25<br>x=%{x}<br>y=%{y}<extra></extra>",
         "legendgroup": "25, 25",
         "marker": {
          "color": "#FECB52",
          "opacity": 0.3,
          "symbol": "cross"
         },
         "mode": "markers",
         "name": "25, 25",
         "showlegend": true,
         "type": "scattergl",
         "x": [
          44.343299865722656,
          4.334240436553955,
          38.68779373168945,
          44.09681701660156,
          42.97128677368164
         ],
         "xaxis": "x",
         "y": [
          -46.393157958984375,
          -10.669927597045898,
          -48.788536071777344,
          -48.336334228515625,
          -47.14744567871094
         ],
         "yaxis": "y"
        },
        {
         "hovertemplate": "color=309<br>symbol=309<br>x=%{x}<br>y=%{y}<extra></extra>",
         "legendgroup": "309, 309",
         "marker": {
          "color": "#636efa",
          "opacity": 0.3,
          "symbol": "circle"
         },
         "mode": "markers",
         "name": "309, 309",
         "showlegend": true,
         "type": "scattergl",
         "x": [
          4.688503742218018,
          4.6507649421691895,
          5.617534160614014,
          4.6373701095581055
         ],
         "xaxis": "x",
         "y": [
          -54.926979064941406,
          -54.91064453125,
          -55.72578811645508,
          -54.89944839477539
         ],
         "yaxis": "y"
        },
        {
         "hovertemplate": "color=251<br>symbol=251<br>x=%{x}<br>y=%{y}<extra></extra>",
         "legendgroup": "251, 251",
         "marker": {
          "color": "#EF553B",
          "opacity": 0.3,
          "symbol": "diamond"
         },
         "mode": "markers",
         "name": "251, 251",
         "showlegend": true,
         "type": "scattergl",
         "x": [
          37.6567497253418,
          37.44938659667969,
          35.45499801635742,
          42.475669860839844,
          35.04038619995117,
          35.220176696777344,
          35.431236267089844,
          37.56538772583008,
          35.480003356933594,
          36.888118743896484,
          -16.27239227294922,
          35.78837203979492,
          36.70711135864258
         ],
         "xaxis": "x",
         "y": [
          -30.648807525634766,
          -27.694137573242188,
          -34.56903076171875,
          -43.46870803833008,
          -30.111745834350586,
          -28.63242530822754,
          -34.717201232910156,
          -31.804323196411133,
          -32.25065994262695,
          -28.826969146728516,
          -0.5649747252464294,
          -29.809823989868164,
          -29.24614906311035
         ],
         "yaxis": "y"
        },
        {
         "hovertemplate": "color=265<br>symbol=265<br>x=%{x}<br>y=%{y}<extra></extra>",
         "legendgroup": "265, 265",
         "marker": {
          "color": "#00cc96",
          "opacity": 0.3,
          "symbol": "square"
         },
         "mode": "markers",
         "name": "265, 265",
         "showlegend": true,
         "type": "scattergl",
         "x": [
          33.58298110961914,
          38.92725372314453,
          37.93931198120117,
          -14.098252296447754,
          38.39139938354492,
          37.39793395996094,
          38.88911056518555,
          36.914546966552734,
          39.701725006103516,
          40.33299255371094,
          19.439796447753906,
          35.794898986816406,
          38.326507568359375,
          37.03047561645508,
          20.68761444091797,
          38.59834671020508,
          36.80622100830078,
          35.74985885620117,
          39.56935119628906,
          30.699317932128906,
          38.45584487915039,
          36.39250183105469,
          37.895172119140625,
          30.032012939453125,
          37.71142578125,
          36.635353088378906,
          36.50335693359375,
          36.33879089355469,
          36.86518478393555,
          35.541011810302734,
          35.69981384277344,
          37.73204040527344,
          39.29816818237305,
          39.77920150756836,
          37.66035842895508,
          37.155948638916016,
          20.800668716430664,
          35.618125915527344,
          37.24662399291992,
          34.84830093383789
         ],
         "xaxis": "x",
         "y": [
          -29.46390724182129,
          -29.001567840576172,
          -29.471282958984375,
          -20.66986656188965,
          -29.006412506103516,
          -28.345081329345703,
          -28.510395050048828,
          -25.827360153198242,
          -26.40219497680664,
          -27.061140060424805,
          -18.460500717163086,
          -28.065168380737305,
          -28.10234260559082,
          -31.5211238861084,
          8.848790168762207,
          -30.761188507080078,
          -27.598560333251953,
          -27.156280517578125,
          -30.389738082885742,
          -25.945804595947266,
          -29.8734188079834,
          -28.301746368408203,
          -30.163232803344727,
          -26.020374298095703,
          -31.60390853881836,
          -28.249666213989258,
          -30.691560745239258,
          -30.188589096069336,
          -29.282711029052734,
          -34.204959869384766,
          -26.96084213256836,
          -29.802095413208008,
          -30.384597778320312,
          -26.669513702392578,
          -29.224159240722656,
          -30.200838088989258,
          8.80784797668457,
          -27.648908615112305,
          -29.79049301147461,
          -27.20071029663086
         ],
         "yaxis": "y"
        },
        {
         "hovertemplate": "color=371<br>symbol=371<br>x=%{x}<br>y=%{y}<extra></extra>",
         "legendgroup": "371, 371",
         "marker": {
          "color": "#ab63fa",
          "opacity": 0.3,
          "symbol": "x"
         },
         "mode": "markers",
         "name": "371, 371",
         "showlegend": true,
         "type": "scattergl",
         "x": [
          -31.98466682434082,
          -31.759559631347656,
          -31.870725631713867
         ],
         "xaxis": "x",
         "y": [
          43.11241149902344,
          29.964935302734375,
          30.166545867919922
         ],
         "yaxis": "y"
        },
        {
         "hovertemplate": "color=316<br>symbol=316<br>x=%{x}<br>y=%{y}<extra></extra>",
         "legendgroup": "316, 316",
         "marker": {
          "color": "#FFA15A",
          "opacity": 0.3,
          "symbol": "cross"
         },
         "mode": "markers",
         "name": "316, 316",
         "showlegend": true,
         "type": "scattergl",
         "x": [
          -8.18099594116211
         ],
         "xaxis": "x",
         "y": [
          -10.508691787719727
         ],
         "yaxis": "y"
        },
        {
         "hovertemplate": "color=127<br>symbol=127<br>x=%{x}<br>y=%{y}<extra></extra>",
         "legendgroup": "127, 127",
         "marker": {
          "color": "#19d3f3",
          "opacity": 0.3,
          "symbol": "circle"
         },
         "mode": "markers",
         "name": "127, 127",
         "showlegend": true,
         "type": "scattergl",
         "x": [
          -16.3632755279541,
          46.63373565673828,
          -10.533811569213867,
          46.9801139831543,
          -39.98906326293945,
          44.350276947021484,
          -0.49031203985214233
         ],
         "xaxis": "x",
         "y": [
          -14.218761444091797,
          19.530988693237305,
          -19.424583435058594,
          7.997009754180908,
          19.48863410949707,
          -12.297209739685059,
          23.418569564819336
         ],
         "yaxis": "y"
        },
        {
         "hovertemplate": "color=221<br>symbol=221<br>x=%{x}<br>y=%{y}<extra></extra>",
         "legendgroup": "221, 221",
         "marker": {
          "color": "#FF6692",
          "opacity": 0.3,
          "symbol": "diamond"
         },
         "mode": "markers",
         "name": "221, 221",
         "showlegend": true,
         "type": "scattergl",
         "x": [
          -4.714322090148926,
          -12.968015670776367,
          -9.977692604064941,
          -6.441272258758545,
          -12.024713516235352,
          2.8253209590911865,
          -7.919783115386963
         ],
         "xaxis": "x",
         "y": [
          20.019411087036133,
          27.147802352905273,
          24.64743423461914,
          26.933147430419922,
          25.64165496826172,
          34.8460578918457,
          22.824148178100586
         ],
         "yaxis": "y"
        },
        {
         "hovertemplate": "color=288<br>symbol=288<br>x=%{x}<br>y=%{y}<extra></extra>",
         "legendgroup": "288, 288",
         "marker": {
          "color": "#B6E880",
          "opacity": 0.3,
          "symbol": "square"
         },
         "mode": "markers",
         "name": "288, 288",
         "showlegend": true,
         "type": "scattergl",
         "x": [
          14.675538063049316
         ],
         "xaxis": "x",
         "y": [
          16.419715881347656
         ],
         "yaxis": "y"
        },
        {
         "hovertemplate": "color=285<br>symbol=285<br>x=%{x}<br>y=%{y}<extra></extra>",
         "legendgroup": "285, 285",
         "marker": {
          "color": "#FF97FF",
          "opacity": 0.3,
          "symbol": "x"
         },
         "mode": "markers",
         "name": "285, 285",
         "showlegend": true,
         "type": "scattergl",
         "x": [
          14.669575691223145,
          16.260204315185547,
          15.058267593383789,
          14.812853813171387,
          14.745668411254883,
          16.37160873413086,
          14.928461074829102,
          45.97079086303711,
          14.170774459838867,
          14.325830459594727,
          -3.1622869968414307
         ],
         "xaxis": "x",
         "y": [
          12.523175239562988,
          12.657337188720703,
          12.773884773254395,
          13.350120544433594,
          13.257606506347656,
          12.625404357910156,
          12.973108291625977,
          -46.76179504394531,
          12.97467041015625,
          13.731202125549316,
          21.578737258911133
         ],
         "yaxis": "y"
        },
        {
         "hovertemplate": "color=391<br>symbol=391<br>x=%{x}<br>y=%{y}<extra></extra>",
         "legendgroup": "391, 391",
         "marker": {
          "color": "#FECB52",
          "opacity": 0.3,
          "symbol": "cross"
         },
         "mode": "markers",
         "name": "391, 391",
         "showlegend": true,
         "type": "scattergl",
         "x": [
          -0.6432914137840271,
          -0.37113189697265625,
          -0.05995508283376694,
          -0.20472180843353271,
          -1.1108242273330688,
          -0.3548222482204437,
          -0.29194721579551697,
          -0.22675062716007233
         ],
         "xaxis": "x",
         "y": [
          -83.56010437011719,
          -84.62293243408203,
          -85.06438446044922,
          -84.40316772460938,
          -82.76063537597656,
          -84.34064483642578,
          -85.10792541503906,
          -85.12420654296875
         ],
         "yaxis": "y"
        },
        {
         "hovertemplate": "color=226<br>symbol=226<br>x=%{x}<br>y=%{y}<extra></extra>",
         "legendgroup": "226, 226",
         "marker": {
          "color": "#636efa",
          "opacity": 0.3,
          "symbol": "circle"
         },
         "mode": "markers",
         "name": "226, 226",
         "showlegend": true,
         "type": "scattergl",
         "x": [
          -7.310673236846924,
          -7.855210304260254,
          -7.672019958496094,
          -7.876253604888916,
          -7.871033668518066,
          -7.875222682952881,
          -7.351785182952881,
          -7.312608242034912,
          -7.309503078460693
         ],
         "xaxis": "x",
         "y": [
          49.172664642333984,
          49.18942642211914,
          49.4589729309082,
          49.26042175292969,
          49.23120880126953,
          49.258018493652344,
          49.15599822998047,
          49.180694580078125,
          49.17331314086914
         ],
         "yaxis": "y"
        },
        {
         "hovertemplate": "color=305<br>symbol=305<br>x=%{x}<br>y=%{y}<extra></extra>",
         "legendgroup": "305, 305",
         "marker": {
          "color": "#EF553B",
          "opacity": 0.3,
          "symbol": "diamond"
         },
         "mode": "markers",
         "name": "305, 305",
         "showlegend": true,
         "type": "scattergl",
         "x": [
          -21.572574615478516,
          -22.205078125,
          -22.282316207885742,
          -21.97774887084961
         ],
         "xaxis": "x",
         "y": [
          -17.006790161132812,
          -17.065641403198242,
          -17.046810150146484,
          -17.047407150268555
         ],
         "yaxis": "y"
        },
        {
         "hovertemplate": "color=303<br>symbol=303<br>x=%{x}<br>y=%{y}<extra></extra>",
         "legendgroup": "303, 303",
         "marker": {
          "color": "#00cc96",
          "opacity": 0.3,
          "symbol": "square"
         },
         "mode": "markers",
         "name": "303, 303",
         "showlegend": true,
         "type": "scattergl",
         "x": [
          5.482802391052246,
          6.479083061218262,
          7.51107120513916,
          11.099343299865723,
          8.925518035888672,
          8.27700138092041,
          7.188588619232178,
          5.374249458312988,
          8.091938972473145,
          9.384568214416504,
          9.148773193359375,
          7.478382110595703,
          7.172712802886963,
          15.10610580444336
         ],
         "xaxis": "x",
         "y": [
          -56.91582107543945,
          -57.23521041870117,
          -57.433265686035156,
          -56.855308532714844,
          -55.564414978027344,
          -58.94121170043945,
          -57.854496002197266,
          -58.65411376953125,
          -57.77034378051758,
          -59.27752685546875,
          -59.25166320800781,
          -58.04433822631836,
          -57.85663986206055,
          -60.66545104980469
         ],
         "yaxis": "y"
        },
        {
         "hovertemplate": "color=360<br>symbol=360<br>x=%{x}<br>y=%{y}<extra></extra>",
         "legendgroup": "360, 360",
         "marker": {
          "color": "#ab63fa",
          "opacity": 0.3,
          "symbol": "x"
         },
         "mode": "markers",
         "name": "360, 360",
         "showlegend": true,
         "type": "scattergl",
         "x": [
          -12.919112205505371,
          -13.37767219543457,
          -13.151044845581055
         ],
         "xaxis": "x",
         "y": [
          38.001548767089844,
          38.14024353027344,
          38.06852340698242
         ],
         "yaxis": "y"
        },
        {
         "hovertemplate": "color=134<br>symbol=134<br>x=%{x}<br>y=%{y}<extra></extra>",
         "legendgroup": "134, 134",
         "marker": {
          "color": "#FFA15A",
          "opacity": 0.3,
          "symbol": "cross"
         },
         "mode": "markers",
         "name": "134, 134",
         "showlegend": true,
         "type": "scattergl",
         "x": [
          39.06956481933594,
          5.305385112762451
         ],
         "xaxis": "x",
         "y": [
          -26.90074348449707,
          -8.320863723754883
         ],
         "yaxis": "y"
        },
        {
         "hovertemplate": "color=91<br>symbol=91<br>x=%{x}<br>y=%{y}<extra></extra>",
         "legendgroup": "91, 91",
         "marker": {
          "color": "#19d3f3",
          "opacity": 0.3,
          "symbol": "circle"
         },
         "mode": "markers",
         "name": "91, 91",
         "showlegend": true,
         "type": "scattergl",
         "x": [
          -14.584354400634766
         ],
         "xaxis": "x",
         "y": [
          -4.18457555770874
         ],
         "yaxis": "y"
        },
        {
         "hovertemplate": "color=380<br>symbol=380<br>x=%{x}<br>y=%{y}<extra></extra>",
         "legendgroup": "380, 380",
         "marker": {
          "color": "#FF6692",
          "opacity": 0.3,
          "symbol": "diamond"
         },
         "mode": "markers",
         "name": "380, 380",
         "showlegend": true,
         "type": "scattergl",
         "x": [
          -25.73483657836914,
          -26.739728927612305,
          -28.455608367919922
         ],
         "xaxis": "x",
         "y": [
          36.06797409057617,
          44.057586669921875,
          43.702579498291016
         ],
         "yaxis": "y"
        },
        {
         "hovertemplate": "color=273<br>symbol=273<br>x=%{x}<br>y=%{y}<extra></extra>",
         "legendgroup": "273, 273",
         "marker": {
          "color": "#B6E880",
          "opacity": 0.3,
          "symbol": "square"
         },
         "mode": "markers",
         "name": "273, 273",
         "showlegend": true,
         "type": "scattergl",
         "x": [
          -13.098282814025879,
          -13.866535186767578,
          -14.085856437683105,
          -14.03336238861084,
          -14.015840530395508,
          -15.140862464904785,
          -14.645158767700195,
          -13.911699295043945,
          -15.97117805480957,
          -13.423891067504883,
          -13.294793128967285,
          -13.913688659667969,
          -13.904048919677734,
          -14.192510604858398,
          -14.785528182983398,
          -13.272225379943848
         ],
         "xaxis": "x",
         "y": [
          66.67269134521484,
          65.68107604980469,
          67.552001953125,
          68.93352508544922,
          66.68834686279297,
          66.05587005615234,
          65.96862030029297,
          66.94270324707031,
          66.97940826416016,
          65.75231170654297,
          65.28099822998047,
          67.64205169677734,
          68.18132781982422,
          67.60393524169922,
          65.76605987548828,
          68.34181213378906
         ],
         "yaxis": "y"
        },
        {
         "hovertemplate": "color=216<br>symbol=216<br>x=%{x}<br>y=%{y}<extra></extra>",
         "legendgroup": "216, 216",
         "marker": {
          "color": "#FF97FF",
          "opacity": 0.3,
          "symbol": "x"
         },
         "mode": "markers",
         "name": "216, 216",
         "showlegend": true,
         "type": "scattergl",
         "x": [
          -25.532081604003906,
          -3.7653260231018066,
          -3.7997477054595947,
          -3.7807304859161377,
          -31.941221237182617,
          -15.172908782958984
         ],
         "xaxis": "x",
         "y": [
          8.187273025512695,
          40.973236083984375,
          40.97130584716797,
          40.96715545654297,
          36.835235595703125,
          18.95457649230957
         ],
         "yaxis": "y"
        },
        {
         "hovertemplate": "color=402<br>symbol=402<br>x=%{x}<br>y=%{y}<extra></extra>",
         "legendgroup": "402, 402",
         "marker": {
          "color": "#FECB52",
          "opacity": 0.3,
          "symbol": "cross"
         },
         "mode": "markers",
         "name": "402, 402",
         "showlegend": true,
         "type": "scattergl",
         "x": [
          -23.99203109741211,
          16.222177505493164
         ],
         "xaxis": "x",
         "y": [
          5.564000606536865,
          22.3621883392334
         ],
         "yaxis": "y"
        },
        {
         "hovertemplate": "color=418<br>symbol=418<br>x=%{x}<br>y=%{y}<extra></extra>",
         "legendgroup": "418, 418",
         "marker": {
          "color": "#636efa",
          "opacity": 0.3,
          "symbol": "circle"
         },
         "mode": "markers",
         "name": "418, 418",
         "showlegend": true,
         "type": "scattergl",
         "x": [
          60.872737884521484,
          63.588871002197266,
          62.6406135559082,
          60.53667068481445,
          61.71702575683594,
          60.47724914550781,
          6.841452598571777,
          59.46603012084961,
          62.041160583496094,
          59.454437255859375,
          60.984649658203125,
          62.67064666748047,
          63.13401412963867,
          60.05465316772461,
          61.02128219604492,
          63.31074523925781,
          60.85893630981445,
          57.98176956176758,
          61.34101104736328,
          -11.444745063781738,
          62.823551177978516,
          61.20984649658203,
          62.02031707763672,
          42.99635696411133,
          56.0497932434082,
          45.376033782958984,
          62.61119842529297
         ],
         "xaxis": "x",
         "y": [
          22.103107452392578,
          21.51922035217285,
          22.684431076049805,
          21.763628005981445,
          20.135761260986328,
          21.751577377319336,
          -12.043825149536133,
          19.542797088623047,
          21.902692794799805,
          8.189188003540039,
          22.478195190429688,
          22.596263885498047,
          20.958372116088867,
          21.792343139648438,
          19.48407554626465,
          21.03312873840332,
          19.750810623168945,
          6.371426582336426,
          20.268415451049805,
          22.41737174987793,
          22.56195640563965,
          20.810298919677734,
          22.369190216064453,
          4.671841144561768,
          16.028079986572266,
          -45.160980224609375,
          20.91016387939453
         ],
         "yaxis": "y"
        },
        {
         "hovertemplate": "color=196<br>symbol=196<br>x=%{x}<br>y=%{y}<extra></extra>",
         "legendgroup": "196, 196",
         "marker": {
          "color": "#EF553B",
          "opacity": 0.3,
          "symbol": "diamond"
         },
         "mode": "markers",
         "name": "196, 196",
         "showlegend": true,
         "type": "scattergl",
         "x": [
          -9.113424301147461
         ],
         "xaxis": "x",
         "y": [
          49.01800537109375
         ],
         "yaxis": "y"
        },
        {
         "hovertemplate": "color=325<br>symbol=325<br>x=%{x}<br>y=%{y}<extra></extra>",
         "legendgroup": "325, 325",
         "marker": {
          "color": "#00cc96",
          "opacity": 0.3,
          "symbol": "square"
         },
         "mode": "markers",
         "name": "325, 325",
         "showlegend": true,
         "type": "scattergl",
         "x": [
          -8.584301948547363,
          4.57991886138916,
          4.922831058502197,
          -8.913643836975098,
          -7.902488708496094,
          -7.881289005279541,
          5.408430099487305,
          -5.769215106964111,
          -6.083850860595703,
          4.825101375579834,
          -9.48208236694336,
          4.902363300323486,
          5.433572292327881,
          5.06370735168457,
          6.818699359893799,
          4.235157489776611,
          -5.6200385093688965,
          -5.208542346954346
         ],
         "xaxis": "x",
         "y": [
          33.94536590576172,
          -4.107924461364746,
          -2.705314874649048,
          34.0037727355957,
          32.60672378540039,
          32.67937469482422,
          -4.782657623291016,
          16.729204177856445,
          16.961782455444336,
          -4.1227707862854,
          12.601119995117188,
          -3.3171334266662598,
          -4.686981201171875,
          -3.5439064502716064,
          -3.6063315868377686,
          -2.7089953422546387,
          17.038562774658203,
          17.288463592529297
         ],
         "yaxis": "y"
        },
        {
         "hovertemplate": "color=240<br>symbol=240<br>x=%{x}<br>y=%{y}<extra></extra>",
         "legendgroup": "240, 240",
         "marker": {
          "color": "#ab63fa",
          "opacity": 0.3,
          "symbol": "x"
         },
         "mode": "markers",
         "name": "240, 240",
         "showlegend": true,
         "type": "scattergl",
         "x": [
          -19.409465789794922,
          -9.665305137634277
         ],
         "xaxis": "x",
         "y": [
          5.660653591156006,
          69.5811996459961
         ],
         "yaxis": "y"
        },
        {
         "hovertemplate": "color=290<br>symbol=290<br>x=%{x}<br>y=%{y}<extra></extra>",
         "legendgroup": "290, 290",
         "marker": {
          "color": "#FFA15A",
          "opacity": 0.3,
          "symbol": "cross"
         },
         "mode": "markers",
         "name": "290, 290",
         "showlegend": true,
         "type": "scattergl",
         "x": [
          -21.050857543945312,
          -21.160982131958008,
          8.505786895751953,
          -20.500307083129883,
          -19.821359634399414,
          -21.88481330871582,
          -20.813175201416016
         ],
         "xaxis": "x",
         "y": [
          46.102108001708984,
          45.90547561645508,
          1.8939104080200195,
          46.23569107055664,
          46.17939758300781,
          45.9405517578125,
          46.123104095458984
         ],
         "yaxis": "y"
        },
        {
         "hovertemplate": "color=2<br>symbol=2<br>x=%{x}<br>y=%{y}<extra></extra>",
         "legendgroup": "2, 2",
         "marker": {
          "color": "#19d3f3",
          "opacity": 0.3,
          "symbol": "circle"
         },
         "mode": "markers",
         "name": "2, 2",
         "showlegend": true,
         "type": "scattergl",
         "x": [
          -65.20286560058594,
          -66.09678649902344,
          -65.17053985595703,
          -65.12960052490234,
          -66.83768463134766,
          -65.44869995117188,
          -65.9946060180664,
          -65.62644958496094,
          -65.87837982177734,
          -65.9256591796875
         ],
         "xaxis": "x",
         "y": [
          -16.753997802734375,
          -15.947938919067383,
          -16.942045211791992,
          -16.8064022064209,
          -21.474973678588867,
          -19.056943893432617,
          -16.057151794433594,
          -16.747037887573242,
          -18.230005264282227,
          -16.16548728942871
         ],
         "yaxis": "y"
        },
        {
         "hovertemplate": "color=230<br>symbol=230<br>x=%{x}<br>y=%{y}<extra></extra>",
         "legendgroup": "230, 230",
         "marker": {
          "color": "#FF6692",
          "opacity": 0.3,
          "symbol": "diamond"
         },
         "mode": "markers",
         "name": "230, 230",
         "showlegend": true,
         "type": "scattergl",
         "x": [
          29.675090789794922,
          29.66905403137207,
          29.670074462890625
         ],
         "xaxis": "x",
         "y": [
          23.65916633605957,
          23.668455123901367,
          23.637929916381836
         ],
         "yaxis": "y"
        },
        {
         "hovertemplate": "color=17<br>symbol=17<br>x=%{x}<br>y=%{y}<extra></extra>",
         "legendgroup": "17, 17",
         "marker": {
          "color": "#B6E880",
          "opacity": 0.3,
          "symbol": "square"
         },
         "mode": "markers",
         "name": "17, 17",
         "showlegend": true,
         "type": "scattergl",
         "x": [
          48.08741760253906,
          49.093082427978516
         ],
         "xaxis": "x",
         "y": [
          -51.40674591064453,
          -51.08738708496094
         ],
         "yaxis": "y"
        },
        {
         "hovertemplate": "color=422<br>symbol=422<br>x=%{x}<br>y=%{y}<extra></extra>",
         "legendgroup": "422, 422",
         "marker": {
          "color": "#FF97FF",
          "opacity": 0.3,
          "symbol": "x"
         },
         "mode": "markers",
         "name": "422, 422",
         "showlegend": true,
         "type": "scattergl",
         "x": [
          22.57489013671875,
          24.542415618896484,
          24.164817810058594,
          24.613868713378906,
          24.547225952148438
         ],
         "xaxis": "x",
         "y": [
          26.509355545043945,
          26.312910079956055,
          25.920970916748047,
          26.285755157470703,
          26.233850479125977
         ],
         "yaxis": "y"
        },
        {
         "hovertemplate": "color=126<br>symbol=126<br>x=%{x}<br>y=%{y}<extra></extra>",
         "legendgroup": "126, 126",
         "marker": {
          "color": "#FECB52",
          "opacity": 0.3,
          "symbol": "cross"
         },
         "mode": "markers",
         "name": "126, 126",
         "showlegend": true,
         "type": "scattergl",
         "x": [
          -5.725745677947998,
          -4.283504486083984,
          -3.705434799194336,
          -21.609477996826172,
          -8.491470336914062
         ],
         "xaxis": "x",
         "y": [
          20.52992057800293,
          19.80005645751953,
          26.76230239868164,
          19.638813018798828,
          22.741294860839844
         ],
         "yaxis": "y"
        },
        {
         "hovertemplate": "color=220<br>symbol=220<br>x=%{x}<br>y=%{y}<extra></extra>",
         "legendgroup": "220, 220",
         "marker": {
          "color": "#636efa",
          "opacity": 0.3,
          "symbol": "circle"
         },
         "mode": "markers",
         "name": "220, 220",
         "showlegend": true,
         "type": "scattergl",
         "x": [
          -8.046464920043945
         ],
         "xaxis": "x",
         "y": [
          48.39193344116211
         ],
         "yaxis": "y"
        },
        {
         "hovertemplate": "color=276<br>symbol=276<br>x=%{x}<br>y=%{y}<extra></extra>",
         "legendgroup": "276, 276",
         "marker": {
          "color": "#EF553B",
          "opacity": 0.3,
          "symbol": "diamond"
         },
         "mode": "markers",
         "name": "276, 276",
         "showlegend": true,
         "type": "scattergl",
         "x": [
          -9.961843490600586,
          -28.564748764038086,
          -2.6220810413360596,
          -2.397212266921997,
          12.987791061401367
         ],
         "xaxis": "x",
         "y": [
          23.423675537109375,
          19.476268768310547,
          15.879712104797363,
          22.55242919921875,
          10.953254699707031
         ],
         "yaxis": "y"
        },
        {
         "hovertemplate": "color=63<br>symbol=63<br>x=%{x}<br>y=%{y}<extra></extra>",
         "legendgroup": "63, 63",
         "marker": {
          "color": "#00cc96",
          "opacity": 0.3,
          "symbol": "square"
         },
         "mode": "markers",
         "name": "63, 63",
         "showlegend": true,
         "type": "scattergl",
         "x": [
          -7.097227573394775,
          -6.904370307922363
         ],
         "xaxis": "x",
         "y": [
          23.20791244506836,
          23.180997848510742
         ],
         "yaxis": "y"
        },
        {
         "hovertemplate": "color=444<br>symbol=444<br>x=%{x}<br>y=%{y}<extra></extra>",
         "legendgroup": "444, 444",
         "marker": {
          "color": "#ab63fa",
          "opacity": 0.3,
          "symbol": "x"
         },
         "mode": "markers",
         "name": "444, 444",
         "showlegend": true,
         "type": "scattergl",
         "x": [
          16.944469451904297
         ],
         "xaxis": "x",
         "y": [
          20.04741096496582
         ],
         "yaxis": "y"
        },
        {
         "hovertemplate": "color=448<br>symbol=448<br>x=%{x}<br>y=%{y}<extra></extra>",
         "legendgroup": "448, 448",
         "marker": {
          "color": "#FFA15A",
          "opacity": 0.3,
          "symbol": "cross"
         },
         "mode": "markers",
         "name": "448, 448",
         "showlegend": true,
         "type": "scattergl",
         "x": [
          15.052937507629395,
          10.445762634277344,
          7.836198806762695,
          7.6826019287109375,
          9.553459167480469,
          8.840630531311035,
          9.101968765258789,
          9.394979476928711,
          9.120112419128418,
          7.790456295013428,
          8.379463195800781
         ],
         "xaxis": "x",
         "y": [
          19.926424026489258,
          15.372234344482422,
          10.866414070129395,
          11.439497947692871,
          7.931156158447266,
          7.28075647354126,
          9.302722930908203,
          8.602922439575195,
          8.382848739624023,
          10.919075012207031,
          10.565116882324219
         ],
         "yaxis": "y"
        },
        {
         "hovertemplate": "color=256<br>symbol=256<br>x=%{x}<br>y=%{y}<extra></extra>",
         "legendgroup": "256, 256",
         "marker": {
          "color": "#19d3f3",
          "opacity": 0.3,
          "symbol": "circle"
         },
         "mode": "markers",
         "name": "256, 256",
         "showlegend": true,
         "type": "scattergl",
         "x": [
          35.49199295043945
         ],
         "xaxis": "x",
         "y": [
          -34.40148162841797
         ],
         "yaxis": "y"
        },
        {
         "hovertemplate": "color=295<br>symbol=295<br>x=%{x}<br>y=%{y}<extra></extra>",
         "legendgroup": "295, 295",
         "marker": {
          "color": "#FF6692",
          "opacity": 0.3,
          "symbol": "diamond"
         },
         "mode": "markers",
         "name": "295, 295",
         "showlegend": true,
         "type": "scattergl",
         "x": [
          -19.38618278503418,
          -1.9272111654281616,
          -11.684334754943848,
          -9.545177459716797
         ],
         "xaxis": "x",
         "y": [
          9.958101272583008,
          24.102293014526367,
          9.675911903381348,
          19.59650230407715
         ],
         "yaxis": "y"
        },
        {
         "hovertemplate": "color=410<br>symbol=410<br>x=%{x}<br>y=%{y}<extra></extra>",
         "legendgroup": "410, 410",
         "marker": {
          "color": "#B6E880",
          "opacity": 0.3,
          "symbol": "square"
         },
         "mode": "markers",
         "name": "410, 410",
         "showlegend": true,
         "type": "scattergl",
         "x": [
          40.49223327636719,
          15.379146575927734
         ],
         "xaxis": "x",
         "y": [
          16.634384155273438,
          17.639612197875977
         ],
         "yaxis": "y"
        },
        {
         "hovertemplate": "color=277<br>symbol=277<br>x=%{x}<br>y=%{y}<extra></extra>",
         "legendgroup": "277, 277",
         "marker": {
          "color": "#FF97FF",
          "opacity": 0.3,
          "symbol": "x"
         },
         "mode": "markers",
         "name": "277, 277",
         "showlegend": true,
         "type": "scattergl",
         "x": [
          -26.54474639892578
         ],
         "xaxis": "x",
         "y": [
          11.726091384887695
         ],
         "yaxis": "y"
        },
        {
         "hovertemplate": "color=29<br>symbol=29<br>x=%{x}<br>y=%{y}<extra></extra>",
         "legendgroup": "29, 29",
         "marker": {
          "color": "#FECB52",
          "opacity": 0.3,
          "symbol": "cross"
         },
         "mode": "markers",
         "name": "29, 29",
         "showlegend": true,
         "type": "scattergl",
         "x": [
          38.04403305053711
         ],
         "xaxis": "x",
         "y": [
          -50.28633499145508
         ],
         "yaxis": "y"
        },
        {
         "hovertemplate": "color=424<br>symbol=424<br>x=%{x}<br>y=%{y}<extra></extra>",
         "legendgroup": "424, 424",
         "marker": {
          "color": "#636efa",
          "opacity": 0.3,
          "symbol": "circle"
         },
         "mode": "markers",
         "name": "424, 424",
         "showlegend": true,
         "type": "scattergl",
         "x": [
          -7.313999176025391
         ],
         "xaxis": "x",
         "y": [
          28.342269897460938
         ],
         "yaxis": "y"
        },
        {
         "hovertemplate": "color=260<br>symbol=260<br>x=%{x}<br>y=%{y}<extra></extra>",
         "legendgroup": "260, 260",
         "marker": {
          "color": "#EF553B",
          "opacity": 0.3,
          "symbol": "diamond"
         },
         "mode": "markers",
         "name": "260, 260",
         "showlegend": true,
         "type": "scattergl",
         "x": [
          34.89496994018555,
          37.5760498046875,
          3.1233088970184326
         ],
         "xaxis": "x",
         "y": [
          -28.3802547454834,
          -32.690921783447266,
          19.825374603271484
         ],
         "yaxis": "y"
        },
        {
         "hovertemplate": "color=245<br>symbol=245<br>x=%{x}<br>y=%{y}<extra></extra>",
         "legendgroup": "245, 245",
         "marker": {
          "color": "#00cc96",
          "opacity": 0.3,
          "symbol": "square"
         },
         "mode": "markers",
         "name": "245, 245",
         "showlegend": true,
         "type": "scattergl",
         "x": [
          -1.9890120029449463
         ],
         "xaxis": "x",
         "y": [
          72.53838348388672
         ],
         "yaxis": "y"
        },
        {
         "hovertemplate": "color=394<br>symbol=394<br>x=%{x}<br>y=%{y}<extra></extra>",
         "legendgroup": "394, 394",
         "marker": {
          "color": "#ab63fa",
          "opacity": 0.3,
          "symbol": "x"
         },
         "mode": "markers",
         "name": "394, 394",
         "showlegend": true,
         "type": "scattergl",
         "x": [
          1.6419243812561035
         ],
         "xaxis": "x",
         "y": [
          -83.18521881103516
         ],
         "yaxis": "y"
        },
        {
         "hovertemplate": "color=329<br>symbol=329<br>x=%{x}<br>y=%{y}<extra></extra>",
         "legendgroup": "329, 329",
         "marker": {
          "color": "#FFA15A",
          "opacity": 0.3,
          "symbol": "cross"
         },
         "mode": "markers",
         "name": "329, 329",
         "showlegend": true,
         "type": "scattergl",
         "x": [
          15.044355392456055
         ],
         "xaxis": "x",
         "y": [
          23.977819442749023
         ],
         "yaxis": "y"
        },
        {
         "hovertemplate": "color=102<br>symbol=102<br>x=%{x}<br>y=%{y}<extra></extra>",
         "legendgroup": "102, 102",
         "marker": {
          "color": "#19d3f3",
          "opacity": 0.3,
          "symbol": "circle"
         },
         "mode": "markers",
         "name": "102, 102",
         "showlegend": true,
         "type": "scattergl",
         "x": [
          -0.2567954957485199,
          8.638336181640625,
          3.7609493732452393,
          -0.32120609283447266
         ],
         "xaxis": "x",
         "y": [
          30.741470336914062,
          -6.230168342590332,
          35.02878952026367,
          30.731599807739258
         ],
         "yaxis": "y"
        },
        {
         "hovertemplate": "color=74<br>symbol=74<br>x=%{x}<br>y=%{y}<extra></extra>",
         "legendgroup": "74, 74",
         "marker": {
          "color": "#FF6692",
          "opacity": 0.3,
          "symbol": "diamond"
         },
         "mode": "markers",
         "name": "74, 74",
         "showlegend": true,
         "type": "scattergl",
         "x": [
          5.841182708740234
         ],
         "xaxis": "x",
         "y": [
          16.95067596435547
         ],
         "yaxis": "y"
        },
        {
         "hovertemplate": "color=408<br>symbol=408<br>x=%{x}<br>y=%{y}<extra></extra>",
         "legendgroup": "408, 408",
         "marker": {
          "color": "#B6E880",
          "opacity": 0.3,
          "symbol": "square"
         },
         "mode": "markers",
         "name": "408, 408",
         "showlegend": true,
         "type": "scattergl",
         "x": [
          -6.185710906982422
         ],
         "xaxis": "x",
         "y": [
          36.685184478759766
         ],
         "yaxis": "y"
        },
        {
         "hovertemplate": "color=396<br>symbol=396<br>x=%{x}<br>y=%{y}<extra></extra>",
         "legendgroup": "396, 396",
         "marker": {
          "color": "#FF97FF",
          "opacity": 0.3,
          "symbol": "x"
         },
         "mode": "markers",
         "name": "396, 396",
         "showlegend": true,
         "type": "scattergl",
         "x": [
          2.547227621078491,
          2.9574930667877197,
          2.591500759124756
         ],
         "xaxis": "x",
         "y": [
          -82.61190032958984,
          -82.64507293701172,
          -83.04803466796875
         ],
         "yaxis": "y"
        },
        {
         "hovertemplate": "color=129<br>symbol=129<br>x=%{x}<br>y=%{y}<extra></extra>",
         "legendgroup": "129, 129",
         "marker": {
          "color": "#FECB52",
          "opacity": 0.3,
          "symbol": "cross"
         },
         "mode": "markers",
         "name": "129, 129",
         "showlegend": true,
         "type": "scattergl",
         "x": [
          -17.40859603881836,
          0.7185304164886475
         ],
         "xaxis": "x",
         "y": [
          12.780876159667969,
          20.713272094726562
         ],
         "yaxis": "y"
        },
        {
         "hovertemplate": "color=82<br>symbol=82<br>x=%{x}<br>y=%{y}<extra></extra>",
         "legendgroup": "82, 82",
         "marker": {
          "color": "#636efa",
          "opacity": 0.3,
          "symbol": "circle"
         },
         "mode": "markers",
         "name": "82, 82",
         "showlegend": true,
         "type": "scattergl",
         "x": [
          -16.42561912536621,
          -14.213313102722168
         ],
         "xaxis": "x",
         "y": [
          -6.408203601837158,
          28.07097053527832
         ],
         "yaxis": "y"
        },
        {
         "hovertemplate": "color=163<br>symbol=163<br>x=%{x}<br>y=%{y}<extra></extra>",
         "legendgroup": "163, 163",
         "marker": {
          "color": "#EF553B",
          "opacity": 0.3,
          "symbol": "diamond"
         },
         "mode": "markers",
         "name": "163, 163",
         "showlegend": true,
         "type": "scattergl",
         "x": [
          26.91181182861328,
          26.94560432434082,
          27.42601776123047
         ],
         "xaxis": "x",
         "y": [
          64.18146514892578,
          60.86980438232422,
          62.62752151489258
         ],
         "yaxis": "y"
        },
        {
         "hovertemplate": "color=403<br>symbol=403<br>x=%{x}<br>y=%{y}<extra></extra>",
         "legendgroup": "403, 403",
         "marker": {
          "color": "#00cc96",
          "opacity": 0.3,
          "symbol": "square"
         },
         "mode": "markers",
         "name": "403, 403",
         "showlegend": true,
         "type": "scattergl",
         "x": [
          -7.607451438903809,
          -5.700061321258545,
          21.02214241027832,
          19.717674255371094
         ],
         "xaxis": "x",
         "y": [
          38.13694381713867,
          36.85285186767578,
          25.418893814086914,
          37.8098030090332
         ],
         "yaxis": "y"
        },
        {
         "hovertemplate": "color=16<br>symbol=16<br>x=%{x}<br>y=%{y}<extra></extra>",
         "legendgroup": "16, 16",
         "marker": {
          "color": "#ab63fa",
          "opacity": 0.3,
          "symbol": "x"
         },
         "mode": "markers",
         "name": "16, 16",
         "showlegend": true,
         "type": "scattergl",
         "x": [
          45.2695426940918
         ],
         "xaxis": "x",
         "y": [
          -49.94955062866211
         ],
         "yaxis": "y"
        },
        {
         "hovertemplate": "color=337<br>symbol=337<br>x=%{x}<br>y=%{y}<extra></extra>",
         "legendgroup": "337, 337",
         "marker": {
          "color": "#FFA15A",
          "opacity": 0.3,
          "symbol": "cross"
         },
         "mode": "markers",
         "name": "337, 337",
         "showlegend": true,
         "type": "scattergl",
         "x": [
          -29.914508819580078,
          -29.02882957458496,
          -28.834505081176758,
          -29.15741729736328
         ],
         "xaxis": "x",
         "y": [
          14.793221473693848,
          14.73153305053711,
          14.513821601867676,
          14.6992769241333
         ],
         "yaxis": "y"
        },
        {
         "hovertemplate": "color=411<br>symbol=411<br>x=%{x}<br>y=%{y}<extra></extra>",
         "legendgroup": "411, 411",
         "marker": {
          "color": "#19d3f3",
          "opacity": 0.3,
          "symbol": "circle"
         },
         "mode": "markers",
         "name": "411, 411",
         "showlegend": true,
         "type": "scattergl",
         "x": [
          16.34625244140625
         ],
         "xaxis": "x",
         "y": [
          22.094867706298828
         ],
         "yaxis": "y"
        },
        {
         "hovertemplate": "color=123<br>symbol=123<br>x=%{x}<br>y=%{y}<extra></extra>",
         "legendgroup": "123, 123",
         "marker": {
          "color": "#FF6692",
          "opacity": 0.3,
          "symbol": "diamond"
         },
         "mode": "markers",
         "name": "123, 123",
         "showlegend": true,
         "type": "scattergl",
         "x": [
          12.677913665771484,
          -21.62786865234375
         ],
         "xaxis": "x",
         "y": [
          13.08591079711914,
          26.695491790771484
         ],
         "yaxis": "y"
        },
        {
         "hovertemplate": "color=4<br>symbol=4<br>x=%{x}<br>y=%{y}<extra></extra>",
         "legendgroup": "4, 4",
         "marker": {
          "color": "#B6E880",
          "opacity": 0.3,
          "symbol": "square"
         },
         "mode": "markers",
         "name": "4, 4",
         "showlegend": true,
         "type": "scattergl",
         "x": [
          -13.066097259521484
         ],
         "xaxis": "x",
         "y": [
          38.047340393066406
         ],
         "yaxis": "y"
        },
        {
         "hovertemplate": "color=376<br>symbol=376<br>x=%{x}<br>y=%{y}<extra></extra>",
         "legendgroup": "376, 376",
         "marker": {
          "color": "#FF97FF",
          "opacity": 0.3,
          "symbol": "x"
         },
         "mode": "markers",
         "name": "376, 376",
         "showlegend": true,
         "type": "scattergl",
         "x": [
          -29.184246063232422,
          -29.70082664489746
         ],
         "xaxis": "x",
         "y": [
          42.38579559326172,
          46.64946746826172
         ],
         "yaxis": "y"
        },
        {
         "hovertemplate": "color=407<br>symbol=407<br>x=%{x}<br>y=%{y}<extra></extra>",
         "legendgroup": "407, 407",
         "marker": {
          "color": "#FECB52",
          "opacity": 0.3,
          "symbol": "cross"
         },
         "mode": "markers",
         "name": "407, 407",
         "showlegend": true,
         "type": "scattergl",
         "x": [
          22.610576629638672
         ],
         "xaxis": "x",
         "y": [
          23.155017852783203
         ],
         "yaxis": "y"
        },
        {
         "hovertemplate": "color=339<br>symbol=339<br>x=%{x}<br>y=%{y}<extra></extra>",
         "legendgroup": "339, 339",
         "marker": {
          "color": "#636efa",
          "opacity": 0.3,
          "symbol": "circle"
         },
         "mode": "markers",
         "name": "339, 339",
         "showlegend": true,
         "type": "scattergl",
         "x": [
          -2.9719178676605225
         ],
         "xaxis": "x",
         "y": [
          16.682044982910156
         ],
         "yaxis": "y"
        },
        {
         "hovertemplate": "color=55<br>symbol=55<br>x=%{x}<br>y=%{y}<extra></extra>",
         "legendgroup": "55, 55",
         "marker": {
          "color": "#EF553B",
          "opacity": 0.3,
          "symbol": "diamond"
         },
         "mode": "markers",
         "name": "55, 55",
         "showlegend": true,
         "type": "scattergl",
         "x": [
          -23.599912643432617
         ],
         "xaxis": "x",
         "y": [
          -21.90232276916504
         ],
         "yaxis": "y"
        },
        {
         "hovertemplate": "color=64<br>symbol=64<br>x=%{x}<br>y=%{y}<extra></extra>",
         "legendgroup": "64, 64",
         "marker": {
          "color": "#00cc96",
          "opacity": 0.3,
          "symbol": "square"
         },
         "mode": "markers",
         "name": "64, 64",
         "showlegend": true,
         "type": "scattergl",
         "x": [
          9.308062553405762,
          -7.554680824279785
         ],
         "xaxis": "x",
         "y": [
          17.831819534301758,
          37.111289978027344
         ],
         "yaxis": "y"
        },
        {
         "hovertemplate": "color=320<br>symbol=320<br>x=%{x}<br>y=%{y}<extra></extra>",
         "legendgroup": "320, 320",
         "marker": {
          "color": "#ab63fa",
          "opacity": 0.3,
          "symbol": "x"
         },
         "mode": "markers",
         "name": "320, 320",
         "showlegend": true,
         "type": "scattergl",
         "x": [
          7.113248348236084
         ],
         "xaxis": "x",
         "y": [
          -58.793357849121094
         ],
         "yaxis": "y"
        },
        {
         "hovertemplate": "color=139<br>symbol=139<br>x=%{x}<br>y=%{y}<extra></extra>",
         "legendgroup": "139, 139",
         "marker": {
          "color": "#FFA15A",
          "opacity": 0.3,
          "symbol": "cross"
         },
         "mode": "markers",
         "name": "139, 139",
         "showlegend": true,
         "type": "scattergl",
         "x": [
          -2.330909013748169
         ],
         "xaxis": "x",
         "y": [
          13.959240913391113
         ],
         "yaxis": "y"
        },
        {
         "hovertemplate": "color=372<br>symbol=372<br>x=%{x}<br>y=%{y}<extra></extra>",
         "legendgroup": "372, 372",
         "marker": {
          "color": "#19d3f3",
          "opacity": 0.3,
          "symbol": "circle"
         },
         "mode": "markers",
         "name": "372, 372",
         "showlegend": true,
         "type": "scattergl",
         "x": [
          8.687556266784668
         ],
         "xaxis": "x",
         "y": [
          21.661962509155273
         ],
         "yaxis": "y"
        },
        {
         "hovertemplate": "color=36<br>symbol=36<br>x=%{x}<br>y=%{y}<extra></extra>",
         "legendgroup": "36, 36",
         "marker": {
          "color": "#FF6692",
          "opacity": 0.3,
          "symbol": "diamond"
         },
         "mode": "markers",
         "name": "36, 36",
         "showlegend": true,
         "type": "scattergl",
         "x": [
          -5.1498308181762695,
          -5.786791801452637,
          -0.8686593174934387,
          -0.5691860914230347
         ],
         "xaxis": "x",
         "y": [
          29.10029411315918,
          29.628259658813477,
          26.066532135009766,
          24.446794509887695
         ],
         "yaxis": "y"
        },
        {
         "hovertemplate": "color=187<br>symbol=187<br>x=%{x}<br>y=%{y}<extra></extra>",
         "legendgroup": "187, 187",
         "marker": {
          "color": "#B6E880",
          "opacity": 0.3,
          "symbol": "square"
         },
         "mode": "markers",
         "name": "187, 187",
         "showlegend": true,
         "type": "scattergl",
         "x": [
          -4.475234031677246,
          -6.06659460067749,
          3.373812437057495,
          2.3051743507385254
         ],
         "xaxis": "x",
         "y": [
          32.473140716552734,
          27.38936996459961,
          25.7208309173584,
          36.51942443847656
         ],
         "yaxis": "y"
        },
        {
         "hovertemplate": "color=344<br>symbol=344<br>x=%{x}<br>y=%{y}<extra></extra>",
         "legendgroup": "344, 344",
         "marker": {
          "color": "#FF97FF",
          "opacity": 0.3,
          "symbol": "x"
         },
         "mode": "markers",
         "name": "344, 344",
         "showlegend": true,
         "type": "scattergl",
         "x": [
          7.261875152587891
         ],
         "xaxis": "x",
         "y": [
          11.324572563171387
         ],
         "yaxis": "y"
        },
        {
         "hovertemplate": "color=423<br>symbol=423<br>x=%{x}<br>y=%{y}<extra></extra>",
         "legendgroup": "423, 423",
         "marker": {
          "color": "#FECB52",
          "opacity": 0.3,
          "symbol": "cross"
         },
         "mode": "markers",
         "name": "423, 423",
         "showlegend": true,
         "type": "scattergl",
         "x": [
          20.851627349853516
         ],
         "xaxis": "x",
         "y": [
          24.829376220703125
         ],
         "yaxis": "y"
        },
        {
         "hovertemplate": "color=355<br>symbol=355<br>x=%{x}<br>y=%{y}<extra></extra>",
         "legendgroup": "355, 355",
         "marker": {
          "color": "#636efa",
          "opacity": 0.3,
          "symbol": "circle"
         },
         "mode": "markers",
         "name": "355, 355",
         "showlegend": true,
         "type": "scattergl",
         "x": [
          -9.209965705871582
         ],
         "xaxis": "x",
         "y": [
          49.11284255981445
         ],
         "yaxis": "y"
        },
        {
         "hovertemplate": "color=392<br>symbol=392<br>x=%{x}<br>y=%{y}<extra></extra>",
         "legendgroup": "392, 392",
         "marker": {
          "color": "#EF553B",
          "opacity": 0.3,
          "symbol": "diamond"
         },
         "mode": "markers",
         "name": "392, 392",
         "showlegend": true,
         "type": "scattergl",
         "x": [
          0.7883981466293335
         ],
         "xaxis": "x",
         "y": [
          -84.28511047363281
         ],
         "yaxis": "y"
        },
        {
         "hovertemplate": "color=215<br>symbol=215<br>x=%{x}<br>y=%{y}<extra></extra>",
         "legendgroup": "215, 215",
         "marker": {
          "color": "#00cc96",
          "opacity": 0.3,
          "symbol": "square"
         },
         "mode": "markers",
         "name": "215, 215",
         "showlegend": true,
         "type": "scattergl",
         "x": [
          -8.09097671508789,
          -8.08857250213623
         ],
         "xaxis": "x",
         "y": [
          47.74314880371094,
          47.743804931640625
         ],
         "yaxis": "y"
        },
        {
         "hovertemplate": "color=328<br>symbol=328<br>x=%{x}<br>y=%{y}<extra></extra>",
         "legendgroup": "328, 328",
         "marker": {
          "color": "#ab63fa",
          "opacity": 0.3,
          "symbol": "x"
         },
         "mode": "markers",
         "name": "328, 328",
         "showlegend": true,
         "type": "scattergl",
         "x": [
          -28.563064575195312,
          12.72346019744873
         ],
         "xaxis": "x",
         "y": [
          15.69668960571289,
          28.901378631591797
         ],
         "yaxis": "y"
        },
        {
         "hovertemplate": "color=330<br>symbol=330<br>x=%{x}<br>y=%{y}<extra></extra>",
         "legendgroup": "330, 330",
         "marker": {
          "color": "#FFA15A",
          "opacity": 0.3,
          "symbol": "cross"
         },
         "mode": "markers",
         "name": "330, 330",
         "showlegend": true,
         "type": "scattergl",
         "x": [
          -0.8036750555038452
         ],
         "xaxis": "x",
         "y": [
          -8.36133098602295
         ],
         "yaxis": "y"
        },
        {
         "hovertemplate": "color=374<br>symbol=374<br>x=%{x}<br>y=%{y}<extra></extra>",
         "legendgroup": "374, 374",
         "marker": {
          "color": "#19d3f3",
          "opacity": 0.3,
          "symbol": "circle"
         },
         "mode": "markers",
         "name": "374, 374",
         "showlegend": true,
         "type": "scattergl",
         "x": [
          12.785482406616211
         ],
         "xaxis": "x",
         "y": [
          10.672476768493652
         ],
         "yaxis": "y"
        },
        {
         "hovertemplate": "color=176<br>symbol=176<br>x=%{x}<br>y=%{y}<extra></extra>",
         "legendgroup": "176, 176",
         "marker": {
          "color": "#FF6692",
          "opacity": 0.3,
          "symbol": "diamond"
         },
         "mode": "markers",
         "name": "176, 176",
         "showlegend": true,
         "type": "scattergl",
         "x": [
          22.106077194213867,
          20.707521438598633,
          21.509492874145508
         ],
         "xaxis": "x",
         "y": [
          65.47145080566406,
          64.97693634033203,
          64.59972381591797
         ],
         "yaxis": "y"
        },
        {
         "hovertemplate": "color=359<br>symbol=359<br>x=%{x}<br>y=%{y}<extra></extra>",
         "legendgroup": "359, 359",
         "marker": {
          "color": "#B6E880",
          "opacity": 0.3,
          "symbol": "square"
         },
         "mode": "markers",
         "name": "359, 359",
         "showlegend": true,
         "type": "scattergl",
         "x": [
          -7.638365745544434
         ],
         "xaxis": "x",
         "y": [
          38.43912124633789
         ],
         "yaxis": "y"
        },
        {
         "hovertemplate": "color=42<br>symbol=42<br>x=%{x}<br>y=%{y}<extra></extra>",
         "legendgroup": "42, 42",
         "marker": {
          "color": "#FF97FF",
          "opacity": 0.3,
          "symbol": "x"
         },
         "mode": "markers",
         "name": "42, 42",
         "showlegend": true,
         "type": "scattergl",
         "x": [
          -2.5684053897857666
         ],
         "xaxis": "x",
         "y": [
          7.669525623321533
         ],
         "yaxis": "y"
        },
        {
         "hovertemplate": "color=153<br>symbol=153<br>x=%{x}<br>y=%{y}<extra></extra>",
         "legendgroup": "153, 153",
         "marker": {
          "color": "#FECB52",
          "opacity": 0.3,
          "symbol": "cross"
         },
         "mode": "markers",
         "name": "153, 153",
         "showlegend": true,
         "type": "scattergl",
         "x": [
          -7.579855442047119
         ],
         "xaxis": "x",
         "y": [
          24.208465576171875
         ],
         "yaxis": "y"
        },
        {
         "hovertemplate": "color=105<br>symbol=105<br>x=%{x}<br>y=%{y}<extra></extra>",
         "legendgroup": "105, 105",
         "marker": {
          "color": "#636efa",
          "opacity": 0.3,
          "symbol": "circle"
         },
         "mode": "markers",
         "name": "105, 105",
         "showlegend": true,
         "type": "scattergl",
         "x": [
          43.862022399902344
         ],
         "xaxis": "x",
         "y": [
          -51.53360366821289
         ],
         "yaxis": "y"
        },
        {
         "hovertemplate": "color=291<br>symbol=291<br>x=%{x}<br>y=%{y}<extra></extra>",
         "legendgroup": "291, 291",
         "marker": {
          "color": "#EF553B",
          "opacity": 0.3,
          "symbol": "diamond"
         },
         "mode": "markers",
         "name": "291, 291",
         "showlegend": true,
         "type": "scattergl",
         "x": [
          -16.2376651763916
         ],
         "xaxis": "x",
         "y": [
          -25.780487060546875
         ],
         "yaxis": "y"
        },
        {
         "hovertemplate": "color=259<br>symbol=259<br>x=%{x}<br>y=%{y}<extra></extra>",
         "legendgroup": "259, 259",
         "marker": {
          "color": "#00cc96",
          "opacity": 0.3,
          "symbol": "square"
         },
         "mode": "markers",
         "name": "259, 259",
         "showlegend": true,
         "type": "scattergl",
         "x": [
          37.09032440185547
         ],
         "xaxis": "x",
         "y": [
          -31.10911750793457
         ],
         "yaxis": "y"
        },
        {
         "hovertemplate": "color=27<br>symbol=27<br>x=%{x}<br>y=%{y}<extra></extra>",
         "legendgroup": "27, 27",
         "marker": {
          "color": "#ab63fa",
          "opacity": 0.3,
          "symbol": "x"
         },
         "mode": "markers",
         "name": "27, 27",
         "showlegend": true,
         "type": "scattergl",
         "x": [
          37.66849136352539
         ],
         "xaxis": "x",
         "y": [
          -49.384525299072266
         ],
         "yaxis": "y"
        },
        {
         "hovertemplate": "color=32<br>symbol=32<br>x=%{x}<br>y=%{y}<extra></extra>",
         "legendgroup": "32, 32",
         "marker": {
          "color": "#FFA15A",
          "opacity": 0.3,
          "symbol": "cross"
         },
         "mode": "markers",
         "name": "32, 32",
         "showlegend": true,
         "type": "scattergl",
         "x": [
          6.385313987731934
         ],
         "xaxis": "x",
         "y": [
          -12.26580810546875
         ],
         "yaxis": "y"
        },
        {
         "hovertemplate": "color=18<br>symbol=18<br>x=%{x}<br>y=%{y}<extra></extra>",
         "legendgroup": "18, 18",
         "marker": {
          "color": "#19d3f3",
          "opacity": 0.3,
          "symbol": "circle"
         },
         "mode": "markers",
         "name": "18, 18",
         "showlegend": true,
         "type": "scattergl",
         "x": [
          36.27261734008789
         ],
         "xaxis": "x",
         "y": [
          -49.36992263793945
         ],
         "yaxis": "y"
        },
        {
         "marker": {
          "color": "green",
          "size": 30
         },
         "mode": "markers",
         "text": "User interest \n user_id: 5890 \n category_id: 331",
         "type": "scatter",
         "x": [
          -23.916622161865234
         ],
         "y": [
          11.842950820922852
         ]
        },
        {
         "marker": {
          "color": [
           0,
           1,
           2,
           3,
           4,
           5,
           6,
           7,
           8,
           9
          ],
          "size": 20
         },
         "mode": "markers",
         "text": [
          "rank: 0 / article_id: 111043 / category_id: 231",
          "rank: 1 / article_id: 183176 / category_id: 301",
          "rank: 2 / article_id: 168623 / category_id: 297",
          "rank: 3 / article_id: 348112 / category_id: 442",
          "rank: 4 / article_id: 63307 / category_id: 132",
          "rank: 5 / article_id: 224658 / category_id: 354",
          "rank: 6 / article_id: 199198 / category_id: 323",
          "rank: 7 / article_id: 123909 / category_id: 250",
          "rank: 8 / article_id: 234698 / category_id: 375",
          "rank: 9 / article_id: 283764 / category_id: 412"
         ],
         "type": "scatter",
         "x": [
          -2.8423092365264893,
          15.714465141296387,
          -6.486172676086426,
          23.104284286499023,
          -23.843524932861328,
          -30.627561569213867,
          1.3035826683044434,
          47.21118927001953,
          11.81368350982666,
          20.268455505371094
         ],
         "y": [
          -16.69405746459961,
          -39.40162658691406,
          10.015463829040527,
          1.3791203498840332,
          1.700101375579834,
          -8.553401947021484,
          -38.125694274902344,
          -23.79401397705078,
          11.814299583435059,
          27.024646759033203
         ]
        }
       ],
       "layout": {
        "height": 800,
        "legend": {
         "title": {
          "text": "color, symbol"
         },
         "tracegroupgap": 0
        },
        "template": {
         "data": {
          "bar": [
           {
            "error_x": {
             "color": "#2a3f5f"
            },
            "error_y": {
             "color": "#2a3f5f"
            },
            "marker": {
             "line": {
              "color": "#E5ECF6",
              "width": 0.5
             },
             "pattern": {
              "fillmode": "overlay",
              "size": 10,
              "solidity": 0.2
             }
            },
            "type": "bar"
           }
          ],
          "barpolar": [
           {
            "marker": {
             "line": {
              "color": "#E5ECF6",
              "width": 0.5
             },
             "pattern": {
              "fillmode": "overlay",
              "size": 10,
              "solidity": 0.2
             }
            },
            "type": "barpolar"
           }
          ],
          "carpet": [
           {
            "aaxis": {
             "endlinecolor": "#2a3f5f",
             "gridcolor": "white",
             "linecolor": "white",
             "minorgridcolor": "white",
             "startlinecolor": "#2a3f5f"
            },
            "baxis": {
             "endlinecolor": "#2a3f5f",
             "gridcolor": "white",
             "linecolor": "white",
             "minorgridcolor": "white",
             "startlinecolor": "#2a3f5f"
            },
            "type": "carpet"
           }
          ],
          "choropleth": [
           {
            "colorbar": {
             "outlinewidth": 0,
             "ticks": ""
            },
            "type": "choropleth"
           }
          ],
          "contour": [
           {
            "colorbar": {
             "outlinewidth": 0,
             "ticks": ""
            },
            "colorscale": [
             [
              0,
              "#0d0887"
             ],
             [
              0.1111111111111111,
              "#46039f"
             ],
             [
              0.2222222222222222,
              "#7201a8"
             ],
             [
              0.3333333333333333,
              "#9c179e"
             ],
             [
              0.4444444444444444,
              "#bd3786"
             ],
             [
              0.5555555555555556,
              "#d8576b"
             ],
             [
              0.6666666666666666,
              "#ed7953"
             ],
             [
              0.7777777777777778,
              "#fb9f3a"
             ],
             [
              0.8888888888888888,
              "#fdca26"
             ],
             [
              1,
              "#f0f921"
             ]
            ],
            "type": "contour"
           }
          ],
          "contourcarpet": [
           {
            "colorbar": {
             "outlinewidth": 0,
             "ticks": ""
            },
            "type": "contourcarpet"
           }
          ],
          "heatmap": [
           {
            "colorbar": {
             "outlinewidth": 0,
             "ticks": ""
            },
            "colorscale": [
             [
              0,
              "#0d0887"
             ],
             [
              0.1111111111111111,
              "#46039f"
             ],
             [
              0.2222222222222222,
              "#7201a8"
             ],
             [
              0.3333333333333333,
              "#9c179e"
             ],
             [
              0.4444444444444444,
              "#bd3786"
             ],
             [
              0.5555555555555556,
              "#d8576b"
             ],
             [
              0.6666666666666666,
              "#ed7953"
             ],
             [
              0.7777777777777778,
              "#fb9f3a"
             ],
             [
              0.8888888888888888,
              "#fdca26"
             ],
             [
              1,
              "#f0f921"
             ]
            ],
            "type": "heatmap"
           }
          ],
          "heatmapgl": [
           {
            "colorbar": {
             "outlinewidth": 0,
             "ticks": ""
            },
            "colorscale": [
             [
              0,
              "#0d0887"
             ],
             [
              0.1111111111111111,
              "#46039f"
             ],
             [
              0.2222222222222222,
              "#7201a8"
             ],
             [
              0.3333333333333333,
              "#9c179e"
             ],
             [
              0.4444444444444444,
              "#bd3786"
             ],
             [
              0.5555555555555556,
              "#d8576b"
             ],
             [
              0.6666666666666666,
              "#ed7953"
             ],
             [
              0.7777777777777778,
              "#fb9f3a"
             ],
             [
              0.8888888888888888,
              "#fdca26"
             ],
             [
              1,
              "#f0f921"
             ]
            ],
            "type": "heatmapgl"
           }
          ],
          "histogram": [
           {
            "marker": {
             "pattern": {
              "fillmode": "overlay",
              "size": 10,
              "solidity": 0.2
             }
            },
            "type": "histogram"
           }
          ],
          "histogram2d": [
           {
            "colorbar": {
             "outlinewidth": 0,
             "ticks": ""
            },
            "colorscale": [
             [
              0,
              "#0d0887"
             ],
             [
              0.1111111111111111,
              "#46039f"
             ],
             [
              0.2222222222222222,
              "#7201a8"
             ],
             [
              0.3333333333333333,
              "#9c179e"
             ],
             [
              0.4444444444444444,
              "#bd3786"
             ],
             [
              0.5555555555555556,
              "#d8576b"
             ],
             [
              0.6666666666666666,
              "#ed7953"
             ],
             [
              0.7777777777777778,
              "#fb9f3a"
             ],
             [
              0.8888888888888888,
              "#fdca26"
             ],
             [
              1,
              "#f0f921"
             ]
            ],
            "type": "histogram2d"
           }
          ],
          "histogram2dcontour": [
           {
            "colorbar": {
             "outlinewidth": 0,
             "ticks": ""
            },
            "colorscale": [
             [
              0,
              "#0d0887"
             ],
             [
              0.1111111111111111,
              "#46039f"
             ],
             [
              0.2222222222222222,
              "#7201a8"
             ],
             [
              0.3333333333333333,
              "#9c179e"
             ],
             [
              0.4444444444444444,
              "#bd3786"
             ],
             [
              0.5555555555555556,
              "#d8576b"
             ],
             [
              0.6666666666666666,
              "#ed7953"
             ],
             [
              0.7777777777777778,
              "#fb9f3a"
             ],
             [
              0.8888888888888888,
              "#fdca26"
             ],
             [
              1,
              "#f0f921"
             ]
            ],
            "type": "histogram2dcontour"
           }
          ],
          "mesh3d": [
           {
            "colorbar": {
             "outlinewidth": 0,
             "ticks": ""
            },
            "type": "mesh3d"
           }
          ],
          "parcoords": [
           {
            "line": {
             "colorbar": {
              "outlinewidth": 0,
              "ticks": ""
             }
            },
            "type": "parcoords"
           }
          ],
          "pie": [
           {
            "automargin": true,
            "type": "pie"
           }
          ],
          "scatter": [
           {
            "fillpattern": {
             "fillmode": "overlay",
             "size": 10,
             "solidity": 0.2
            },
            "type": "scatter"
           }
          ],
          "scatter3d": [
           {
            "line": {
             "colorbar": {
              "outlinewidth": 0,
              "ticks": ""
             }
            },
            "marker": {
             "colorbar": {
              "outlinewidth": 0,
              "ticks": ""
             }
            },
            "type": "scatter3d"
           }
          ],
          "scattercarpet": [
           {
            "marker": {
             "colorbar": {
              "outlinewidth": 0,
              "ticks": ""
             }
            },
            "type": "scattercarpet"
           }
          ],
          "scattergeo": [
           {
            "marker": {
             "colorbar": {
              "outlinewidth": 0,
              "ticks": ""
             }
            },
            "type": "scattergeo"
           }
          ],
          "scattergl": [
           {
            "marker": {
             "colorbar": {
              "outlinewidth": 0,
              "ticks": ""
             }
            },
            "type": "scattergl"
           }
          ],
          "scattermapbox": [
           {
            "marker": {
             "colorbar": {
              "outlinewidth": 0,
              "ticks": ""
             }
            },
            "type": "scattermapbox"
           }
          ],
          "scatterpolar": [
           {
            "marker": {
             "colorbar": {
              "outlinewidth": 0,
              "ticks": ""
             }
            },
            "type": "scatterpolar"
           }
          ],
          "scatterpolargl": [
           {
            "marker": {
             "colorbar": {
              "outlinewidth": 0,
              "ticks": ""
             }
            },
            "type": "scatterpolargl"
           }
          ],
          "scatterternary": [
           {
            "marker": {
             "colorbar": {
              "outlinewidth": 0,
              "ticks": ""
             }
            },
            "type": "scatterternary"
           }
          ],
          "surface": [
           {
            "colorbar": {
             "outlinewidth": 0,
             "ticks": ""
            },
            "colorscale": [
             [
              0,
              "#0d0887"
             ],
             [
              0.1111111111111111,
              "#46039f"
             ],
             [
              0.2222222222222222,
              "#7201a8"
             ],
             [
              0.3333333333333333,
              "#9c179e"
             ],
             [
              0.4444444444444444,
              "#bd3786"
             ],
             [
              0.5555555555555556,
              "#d8576b"
             ],
             [
              0.6666666666666666,
              "#ed7953"
             ],
             [
              0.7777777777777778,
              "#fb9f3a"
             ],
             [
              0.8888888888888888,
              "#fdca26"
             ],
             [
              1,
              "#f0f921"
             ]
            ],
            "type": "surface"
           }
          ],
          "table": [
           {
            "cells": {
             "fill": {
              "color": "#EBF0F8"
             },
             "line": {
              "color": "white"
             }
            },
            "header": {
             "fill": {
              "color": "#C8D4E3"
             },
             "line": {
              "color": "white"
             }
            },
            "type": "table"
           }
          ]
         },
         "layout": {
          "annotationdefaults": {
           "arrowcolor": "#2a3f5f",
           "arrowhead": 0,
           "arrowwidth": 1
          },
          "autotypenumbers": "strict",
          "coloraxis": {
           "colorbar": {
            "outlinewidth": 0,
            "ticks": ""
           }
          },
          "colorscale": {
           "diverging": [
            [
             0,
             "#8e0152"
            ],
            [
             0.1,
             "#c51b7d"
            ],
            [
             0.2,
             "#de77ae"
            ],
            [
             0.3,
             "#f1b6da"
            ],
            [
             0.4,
             "#fde0ef"
            ],
            [
             0.5,
             "#f7f7f7"
            ],
            [
             0.6,
             "#e6f5d0"
            ],
            [
             0.7,
             "#b8e186"
            ],
            [
             0.8,
             "#7fbc41"
            ],
            [
             0.9,
             "#4d9221"
            ],
            [
             1,
             "#276419"
            ]
           ],
           "sequential": [
            [
             0,
             "#0d0887"
            ],
            [
             0.1111111111111111,
             "#46039f"
            ],
            [
             0.2222222222222222,
             "#7201a8"
            ],
            [
             0.3333333333333333,
             "#9c179e"
            ],
            [
             0.4444444444444444,
             "#bd3786"
            ],
            [
             0.5555555555555556,
             "#d8576b"
            ],
            [
             0.6666666666666666,
             "#ed7953"
            ],
            [
             0.7777777777777778,
             "#fb9f3a"
            ],
            [
             0.8888888888888888,
             "#fdca26"
            ],
            [
             1,
             "#f0f921"
            ]
           ],
           "sequentialminus": [
            [
             0,
             "#0d0887"
            ],
            [
             0.1111111111111111,
             "#46039f"
            ],
            [
             0.2222222222222222,
             "#7201a8"
            ],
            [
             0.3333333333333333,
             "#9c179e"
            ],
            [
             0.4444444444444444,
             "#bd3786"
            ],
            [
             0.5555555555555556,
             "#d8576b"
            ],
            [
             0.6666666666666666,
             "#ed7953"
            ],
            [
             0.7777777777777778,
             "#fb9f3a"
            ],
            [
             0.8888888888888888,
             "#fdca26"
            ],
            [
             1,
             "#f0f921"
            ]
           ]
          },
          "colorway": [
           "#636efa",
           "#EF553B",
           "#00cc96",
           "#ab63fa",
           "#FFA15A",
           "#19d3f3",
           "#FF6692",
           "#B6E880",
           "#FF97FF",
           "#FECB52"
          ],
          "font": {
           "color": "#2a3f5f"
          },
          "geo": {
           "bgcolor": "white",
           "lakecolor": "white",
           "landcolor": "#E5ECF6",
           "showlakes": true,
           "showland": true,
           "subunitcolor": "white"
          },
          "hoverlabel": {
           "align": "left"
          },
          "hovermode": "closest",
          "mapbox": {
           "style": "light"
          },
          "paper_bgcolor": "white",
          "plot_bgcolor": "#E5ECF6",
          "polar": {
           "angularaxis": {
            "gridcolor": "white",
            "linecolor": "white",
            "ticks": ""
           },
           "bgcolor": "#E5ECF6",
           "radialaxis": {
            "gridcolor": "white",
            "linecolor": "white",
            "ticks": ""
           }
          },
          "scene": {
           "xaxis": {
            "backgroundcolor": "#E5ECF6",
            "gridcolor": "white",
            "gridwidth": 2,
            "linecolor": "white",
            "showbackground": true,
            "ticks": "",
            "zerolinecolor": "white"
           },
           "yaxis": {
            "backgroundcolor": "#E5ECF6",
            "gridcolor": "white",
            "gridwidth": 2,
            "linecolor": "white",
            "showbackground": true,
            "ticks": "",
            "zerolinecolor": "white"
           },
           "zaxis": {
            "backgroundcolor": "#E5ECF6",
            "gridcolor": "white",
            "gridwidth": 2,
            "linecolor": "white",
            "showbackground": true,
            "ticks": "",
            "zerolinecolor": "white"
           }
          },
          "shapedefaults": {
           "line": {
            "color": "#2a3f5f"
           }
          },
          "ternary": {
           "aaxis": {
            "gridcolor": "white",
            "linecolor": "white",
            "ticks": ""
           },
           "baxis": {
            "gridcolor": "white",
            "linecolor": "white",
            "ticks": ""
           },
           "bgcolor": "#E5ECF6",
           "caxis": {
            "gridcolor": "white",
            "linecolor": "white",
            "ticks": ""
           }
          },
          "title": {
           "x": 0.05
          },
          "xaxis": {
           "automargin": true,
           "gridcolor": "white",
           "linecolor": "white",
           "ticks": "",
           "title": {
            "standoff": 15
           },
           "zerolinecolor": "white",
           "zerolinewidth": 2
          },
          "yaxis": {
           "automargin": true,
           "gridcolor": "white",
           "linecolor": "white",
           "ticks": "",
           "title": {
            "standoff": 15
           },
           "zerolinecolor": "white",
           "zerolinewidth": 2
          }
         }
        },
        "title": {
         "text": "t-SNE 2D"
        },
        "width": 1200,
        "xaxis": {
         "anchor": "y",
         "domain": [
          0,
          1
         ],
         "title": {
          "text": "x"
         }
        },
        "yaxis": {
         "anchor": "x",
         "domain": [
          0,
          1
         ],
         "title": {
          "text": "y"
         }
        }
       }
      }
     },
     "metadata": {},
     "output_type": "display_data"
    }
   ],
   "source": [
    "tsne = TSNE(n_components=2)\n",
    "articles_tsne = tsne.fit_transform(\n",
    "    np.concatenate((articles_sample_std, closest_articles_std, interest_std))\n",
    ")\n",
    "\n",
    "interest_tsne = articles_tsne[-1:]\n",
    "articles_tsne = articles_tsne[:-1]\n",
    "\n",
    "closest_articles_tsne = articles_tsne[-len(closest_articles) :]\n",
    "articles_tsne = articles_tsne[: -len(closest_articles)]\n",
    "\n",
    "\n",
    "# Plot the data in the t-SNE space\n",
    "fig = px.scatter(\n",
    "    x=articles_tsne[:, 0],\n",
    "    y=articles_tsne[:, 1],\n",
    "    color=articles_sample[\"category_id\"],\n",
    "    symbol=articles_sample[\"category_id\"],\n",
    "    title=\"t-SNE 2D\",\n",
    "    opacity=0.3,\n",
    "    width=1200,\n",
    "    height=800,\n",
    ")\n",
    "fig.add_scatter(\n",
    "    x=interest_tsne[:, 0],\n",
    "    y=interest_tsne[:, 1],\n",
    "    mode=\"markers\",\n",
    "    marker=dict(color=\"green\", size=30),\n",
    "    text=f\"User interest \\n user_id: {user_id} \\n category_id: {interest['category_id'].iloc[0]}\",\n",
    ")\n",
    "fig.add_scatter(\n",
    "    x=closest_articles_tsne[:, 0],\n",
    "    y=closest_articles_tsne[:, 1],\n",
    "    mode=\"markers\",\n",
    "    marker=dict(color=list(range(len(closest_articles_tsne))), size=20),\n",
    "    text=[\n",
    "        f\"rank: {i} / article_id: {a.article_id} / category_id: {a.category_id}\"\n",
    "        for i, a in enumerate(closest_articles.itertuples())\n",
    "    ],\n",
    ")\n",
    "fig.show()"
   ]
  },
  {
   "cell_type": "code",
   "execution_count": 33,
   "metadata": {},
   "outputs": [],
   "source": [
    "users_last_click = (\n",
    "    clicks.reset_index()\n",
    "    .rename(columns={\"index\": \"click_id\"})\n",
    "    .sort_values(by=\"click_timestamp\")\n",
    "    .groupby([\"user_id\"])\n",
    "    .last()\n",
    ")\n",
    "\n",
    "X = get_ratings_from_clicks(clicks.drop(list(users_last_click[\"click_id\"])))\n",
    "y_true = dict(users_last_click[\"click_article_id\"])"
   ]
  },
  {
   "cell_type": "code",
   "execution_count": 43,
   "metadata": {},
   "outputs": [
    {
     "name": "stderr",
     "output_type": "stream",
     "text": [
      "2629418it [00:08, 312377.81it/s]\n",
      "Epoch: 100%|██████████| 20/20 [04:15<00:00, 12.79s/it]\n"
     ]
    },
    {
     "data": {
      "text/plain": [
       "<lightfm.lightfm.LightFM at 0x7f59231c1f10>"
      ]
     },
     "execution_count": 43,
     "metadata": {},
     "output_type": "execute_result"
    }
   ],
   "source": [
    "(interactions, weights) = dataset.build_interactions(\n",
    "    (row.user_id, row.article_id, row.rating) for row in tqdm(X.itertuples())\n",
    ")\n",
    "\n",
    "model = LightFM(random_state=42)\n",
    "model.fit(\n",
    "    interactions=interactions,\n",
    "    user_features=user_features,\n",
    "    item_features=item_features,\n",
    "    sample_weight=weights,\n",
    "    epochs=20,\n",
    "    num_threads=8,\n",
    "    verbose=True,\n",
    ")"
   ]
  },
  {
   "cell_type": "code",
   "execution_count": 44,
   "metadata": {},
   "outputs": [
    {
     "name": "stderr",
     "output_type": "stream",
     "text": [
      "100%|██████████| 1000/1000 [03:10<00:00,  5.26it/s]\n"
     ]
    }
   ],
   "source": [
    "test_sample = random.sample(list(y_true.keys()), k=1000)\n",
    "\n",
    "y_pred = dict(\n",
    "    {\n",
    "        user_id: get_collaborative_reco(user_id, model, dataset, n=1000)\n",
    "        for user_id in tqdm(test_sample)\n",
    "    }\n",
    ")"
   ]
  },
  {
   "cell_type": "code",
   "execution_count": 45,
   "metadata": {},
   "outputs": [],
   "source": [
    "def score_reco(y_true, y_pred):\n",
    "    score = 0\n",
    "    count = 0\n",
    "    for user_id, pred_article_ids in y_pred.items():\n",
    "        if user_id not in y_true.keys():\n",
    "            logging.info(f\"User {user_id} not found in true values\")\n",
    "            continue\n",
    "\n",
    "        true_article_id = str(y_true[user_id])\n",
    "\n",
    "        if true_article_id not in pred_article_ids:\n",
    "            logging.info(\n",
    "                f\"Article {true_article_id} not found in predictions for user {user_id}\"\n",
    "            )\n",
    "            continue\n",
    "\n",
    "        rank = pred_article_ids.index(true_article_id) + 1\n",
    "        score += 1 / rank\n",
    "        count += 1\n",
    "\n",
    "    # In range [0 , 1], higher is better\n",
    "    return score / count\n",
    "\n",
    "\n",
    "def mean_rank(y_true, y_pred):\n",
    "    sum = 0\n",
    "    count = 0\n",
    "    for user_id, pred_article_ids in y_pred.items():\n",
    "        if user_id not in y_true.keys():\n",
    "            logging.info(f\"User {user_id} not found in true values\")\n",
    "            continue\n",
    "\n",
    "        true_article_id = str(y_true[user_id])\n",
    "\n",
    "        if true_article_id not in pred_article_ids:\n",
    "            logging.info(\n",
    "                f\"Article {true_article_id} not found in predictions for user {user_id}\"\n",
    "            )\n",
    "            continue\n",
    "\n",
    "        rank = pred_article_ids.index(true_article_id) + 1\n",
    "        sum += rank\n",
    "        count += 1\n",
    "\n",
    "    # In range [1 , +Inf[, lower is better\n",
    "    return sum / count\n",
    "\n",
    "\n",
    "def mean_average_precision(y_true, y_pred, articles, k=10):\n",
    "    average_precision = 0\n",
    "    for user_id, pred_article_ids in y_pred.items():\n",
    "        if user_id not in y_true.keys():\n",
    "            logging.warning(f\"User {user_id} not found in true values\")\n",
    "            continue\n",
    "\n",
    "        true_category_id = articles.iloc[int(y_true[user_id])].category_id\n",
    "        pred_categories = articles.iloc[\n",
    "            [int(id) for id in pred_article_ids[:k]]\n",
    "        ].category_id\n",
    "\n",
    "        average_precision = (\n",
    "            len(pred_categories[pred_categories == true_category_id]) / k\n",
    "        )\n",
    "\n",
    "    return average_precision / len(y_pred)"
   ]
  },
  {
   "cell_type": "code",
   "execution_count": 46,
   "metadata": {},
   "outputs": [
    {
     "name": "stdout",
     "output_type": "stream",
     "text": [
      "Score : 0.029293228204281575\n",
      "Mean Rank : 268.98975109809663\n",
      "Mean Average Precision : 3.7e-05\n"
     ]
    }
   ],
   "source": [
    "print(f\"Score : {score_reco(y_true, y_pred)}\")\n",
    "print(f\"Mean Rank : {mean_rank(y_true, y_pred)}\")\n",
    "print(\n",
    "    f\"Mean Average Precision : {mean_average_precision(y_true, y_pred, articles, k=1000)}\"\n",
    ")"
   ]
  }
 ],
 "metadata": {
  "interpreter": {
   "hash": "176d8aa2eeab76fd803944cf7cc7b2f8b1dd5a0d9d9f82a2c46fcf2ec78eb481"
  },
  "kernelspec": {
   "display_name": "Python 3.9.7 ('env': venv)",
   "language": "python",
   "name": "python3"
  },
  "language_info": {
   "codemirror_mode": {
    "name": "ipython",
    "version": 3
   },
   "file_extension": ".py",
   "mimetype": "text/x-python",
   "name": "python",
   "nbconvert_exporter": "python",
   "pygments_lexer": "ipython3",
   "version": "3.9.12"
  },
  "orig_nbformat": 4
 },
 "nbformat": 4,
 "nbformat_minor": 2
}
